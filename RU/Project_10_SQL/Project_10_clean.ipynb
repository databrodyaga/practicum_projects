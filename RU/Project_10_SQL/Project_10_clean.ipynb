{
 "cells": [
  {
   "cell_type": "markdown",
   "metadata": {},
   "source": [
    "# Задания с решениями по БД Startup Investments (Kaggle)\n",
    "\n",
    "Ссылка на датасет - https://www.kaggle.com/justinas/startup-investments"
   ]
  },
  {
   "cell_type": "markdown",
   "metadata": {},
   "source": [
    "1. Отобразите все записи из таблицы company по компаниям, которые закрылись."
   ]
  },
  {
   "cell_type": "code",
   "execution_count": null,
   "metadata": {
    "vscode": {
     "languageId": "sql"
    }
   },
   "outputs": [],
   "source": [
    "SELECT *\n",
    "FROM company\n",
    "WHERE company.status = 'closed'"
   ]
  },
  {
   "cell_type": "markdown",
   "metadata": {},
   "source": [
    "2. Отобразите количество привлечённых средств для новостных компаний США. Используйте данные из таблицы company. Отсортируйте таблицу по убыванию значений в поле funding_total."
   ]
  },
  {
   "cell_type": "code",
   "execution_count": null,
   "metadata": {
    "vscode": {
     "languageId": "sql"
    }
   },
   "outputs": [],
   "source": [
    "SELECT c.funding_total\n",
    "FROM company AS c\n",
    "WHERE c.category_code = 'news'\n",
    "    AND c.country_code = 'USA'\n",
    "ORDER BY c.funding_total DESC"
   ]
  },
  {
   "cell_type": "markdown",
   "metadata": {},
   "source": [
    "3. Найдите общую сумму сделок по покупке одних компаний другими в долларах. Отберите сделки, которые осуществлялись только за наличные с 2011 по 2013 год включительно."
   ]
  },
  {
   "cell_type": "code",
   "execution_count": null,
   "metadata": {
    "vscode": {
     "languageId": "sql"
    }
   },
   "outputs": [],
   "source": [
    "\n",
    "SELECT SUM(price_amount)\n",
    "FROM acquisition AS a\n",
    "WHERE a.term_code = 'cash'\n",
    "    AND EXTRACT(YEAR FROM CAST(acquired_at AS timestamp)) BETWEEN 2011 AND 2013"
   ]
  },
  {
   "cell_type": "markdown",
   "metadata": {},
   "source": [
    "4. Отобразите имя, фамилию и названия аккаунтов людей в поле network_username, у которых названия аккаунтов начинаются на 'Silver'."
   ]
  },
  {
   "cell_type": "code",
   "execution_count": null,
   "metadata": {
    "vscode": {
     "languageId": "sql"
    }
   },
   "outputs": [],
   "source": [
    "\n",
    "SELECT first_name,\n",
    "       last_name,\n",
    "       network_username\n",
    "FROM people\n",
    "WHERE network_username LIKE 'Silver%'"
   ]
  },
  {
   "cell_type": "markdown",
   "metadata": {},
   "source": [
    "\n",
    "5. Выведите на экран всю информацию о людях, у которых названия аккаунтов в поле network_username содержат подстроку 'money', а фамилия начинается на 'K'."
   ]
  },
  {
   "cell_type": "code",
   "execution_count": null,
   "metadata": {
    "vscode": {
     "languageId": "sql"
    }
   },
   "outputs": [],
   "source": [
    "SELECT *\n",
    "FROM people\n",
    "WHERE network_username LIKE '%money%'\n",
    "    AND last_name LIKE 'K%'"
   ]
  },
  {
   "cell_type": "markdown",
   "metadata": {},
   "source": [
    "\n",
    "6. Для каждой страны отобразите общую сумму привлечённых инвестиций, которые получили компании, зарегистрированные в этой стране. Страну, в которой зарегистрирована компания, можно определить по коду страны. Отсортируйте данные по убыванию суммы."
   ]
  },
  {
   "cell_type": "code",
   "execution_count": null,
   "metadata": {
    "vscode": {
     "languageId": "sql"
    }
   },
   "outputs": [],
   "source": [
    "\n",
    "SELECT country_code,\n",
    "       SUM(funding_total)\n",
    "FROM company AS c\n",
    "GROUP BY country_code\n",
    "ORDER BY SUM(funding_total) DESC"
   ]
  },
  {
   "cell_type": "markdown",
   "metadata": {},
   "source": [
    "\n",
    "7. Составьте таблицу, в которую войдёт дата проведения раунда, а также минимальное и максимальное значения суммы инвестиций, привлечённых в эту дату.\n",
    "Оставьте в итоговой таблице только те записи, в которых минимальное значение суммы инвестиций не равно нулю и не равно максимальному значению."
   ]
  },
  {
   "cell_type": "code",
   "execution_count": null,
   "metadata": {
    "vscode": {
     "languageId": "sql"
    }
   },
   "outputs": [],
   "source": [
    "SELECT funded_at,\n",
    "       MIN(raised_amount),\n",
    "       MAX(raised_amount)\n",
    "FROM funding_round\n",
    "GROUP BY funded_at\n",
    "HAVING MIN(raised_amount) != 0\n",
    "  AND MIN(raised_amount) != MAX(raised_amount)"
   ]
  },
  {
   "cell_type": "markdown",
   "metadata": {},
   "source": [
    "8. Создайте поле с категориями:\n",
    "•\tДля фондов, которые инвестируют в 100 и более компаний, назначьте категорию high_activity.\n",
    "•\tДля фондов, которые инвестируют в 20 и более компаний до 100, назначьте категорию middle_activity.\n",
    "•\tЕсли количество инвестируемых компаний фонда не достигает 20, назначьте категорию low_activity.\n",
    "Отобразите все поля таблицы fund и новое поле с категориями."
   ]
  },
  {
   "cell_type": "code",
   "execution_count": null,
   "metadata": {
    "vscode": {
     "languageId": "sql"
    }
   },
   "outputs": [],
   "source": [
    "SELECT *,\n",
    "       CASE\n",
    "           WHEN invested_companies >= 100 THEN 'high_activity'\n",
    "           WHEN invested_companies >= 20 AND invested_companies < 100\n",
    "           THEN 'middle_activity'\n",
    "           WHEN invested_companies < 20 THEN 'low_activity'\n",
    "       END AS category\n",
    "FROM fund"
   ]
  },
  {
   "cell_type": "markdown",
   "metadata": {},
   "source": [
    "\n",
    "9. Для каждой из категорий, назначенных в предыдущем задании, посчитайте округлённое до ближайшего целого числа среднее количество инвестиционных раундов, в которых фонд принимал участие. Выведите на экран категории и среднее число инвестиционных раундов. Отсортируйте таблицу по возрастанию среднего."
   ]
  },
  {
   "cell_type": "code",
   "execution_count": null,
   "metadata": {
    "vscode": {
     "languageId": "sql"
    }
   },
   "outputs": [],
   "source": [
    "SELECT\n",
    "       CASE\n",
    "           WHEN invested_companies>=100 THEN 'high_activity'\n",
    "           WHEN invested_companies>=20 THEN 'middle_activity'\n",
    "           ELSE 'low_activity'\n",
    "       END AS activity,\n",
    "       ROUND(AVG(investment_rounds)) AS avg_rounds\n",
    "FROM fund\n",
    "GROUP BY activity\n",
    "ORDER BY avg_rounds"
   ]
  },
  {
   "cell_type": "markdown",
   "metadata": {},
   "source": [
    "10. Проанализируйте, в каких странах находятся фонды, которые чаще всего инвестируют в стартапы. \n",
    "Для каждой страны посчитайте минимальное, максимальное и среднее число компаний, в которые инвестировали фонды этой страны, основанные с 2010 по 2012 год включительно. Исключите страны с фондами, у которых минимальное число компаний, получивших инвестиции, равно нулю. \n",
    "Выгрузите десять самых активных стран-инвесторов: отсортируйте таблицу по среднему количеству компаний от большего к меньшему. Затем добавьте сортировку по коду страны в лексикографическом порядке."
   ]
  },
  {
   "cell_type": "code",
   "execution_count": null,
   "metadata": {
    "vscode": {
     "languageId": "sql"
    }
   },
   "outputs": [],
   "source": [
    "SELECT country_code,\n",
    "       MIN(invested_companies),\n",
    "       MAX(invested_companies),\n",
    "       AVG(invested_companies)\n",
    "FROM fund\n",
    "WHERE EXTRACT(YEAR FROM CAST(founded_at AS timestamp)) BETWEEN 2010 AND 2012\n",
    "GROUP BY country_code\n",
    "HAVING MIN(invested_companies) !=0\n",
    "ORDER BY AVG(invested_companies) DESC, country_code\n",
    "LIMIT 10"
   ]
  },
  {
   "cell_type": "markdown",
   "metadata": {},
   "source": [
    "11. Отобразите имя и фамилию всех сотрудников стартапов. Добавьте поле с названием учебного заведения, которое окончил сотрудник, если эта информация известна."
   ]
  },
  {
   "cell_type": "code",
   "execution_count": null,
   "metadata": {
    "vscode": {
     "languageId": "sql"
    }
   },
   "outputs": [],
   "source": [
    "SELECT first_name,\n",
    "       last_name,\n",
    "       instituition\n",
    "FROM people AS p LEFT OUTER JOIN education As e ON p.id = e.person_id"
   ]
  },
  {
   "cell_type": "markdown",
   "metadata": {},
   "source": [
    "12. Для каждой компании найдите количество учебных заведений, которые окончили её сотрудники. Выведите название компании и число уникальных названий учебных заведений. Составьте топ-5 компаний по количеству университетов."
   ]
  },
  {
   "cell_type": "code",
   "execution_count": null,
   "metadata": {
    "vscode": {
     "languageId": "sql"
    }
   },
   "outputs": [],
   "source": [
    "SELECT c.name,\n",
    "       COUNT(DISTINCT e.instituition)\n",
    "FROM company AS c LEFT OUTER JOIN people AS p ON c.id = p.company_id\n",
    "                       INNER JOIN education AS e ON p.id = e.person_id\n",
    "GROUP BY c.name\n",
    "ORDER BY COUNT(DISTINCT e.instituition) DESC\n",
    "LIMIT 5"
   ]
  },
  {
   "cell_type": "markdown",
   "metadata": {},
   "source": [
    "13. Составьте список с уникальными названиями закрытых компаний, для которых первый раунд финансирования оказался последним."
   ]
  },
  {
   "cell_type": "code",
   "execution_count": null,
   "metadata": {
    "vscode": {
     "languageId": "sql"
    }
   },
   "outputs": [],
   "source": [
    "SELECT DISTINCT c.name\n",
    "FROM company AS c INNER JOIN funding_round AS fr ON c.id = fr.company_id\n",
    "WHERE c.status = 'closed'\n",
    "    AND fr.is_first_round = 1\n",
    "    AND fr.is_last_round = 1"
   ]
  },
  {
   "cell_type": "markdown",
   "metadata": {},
   "source": [
    "14. Составьте список уникальных номеров сотрудников, которые работают в компаниях, отобранных в предыдущем задании."
   ]
  },
  {
   "cell_type": "code",
   "execution_count": null,
   "metadata": {
    "vscode": {
     "languageId": "sql"
    }
   },
   "outputs": [],
   "source": [
    "SELECT DISTINCT p.id\n",
    "FROM people AS p INNER JOIN company AS c ON p.company_id = c.id\n",
    "WHERE c.name in (\n",
    "                SELECT DISTINCT c.name\n",
    "                FROM company AS c INNER JOIN funding_round AS fr ON c.id = fr.company_id\n",
    "                WHERE c.status = 'closed'\n",
    "                    AND fr.is_first_round = 1\n",
    "                    AND fr.is_last_round = 1)"
   ]
  },
  {
   "cell_type": "markdown",
   "metadata": {},
   "source": [
    "15. Составьте таблицу, куда войдут уникальные пары с номерами сотрудников из предыдущей задачи и учебным заведением, которое окончил сотрудник."
   ]
  },
  {
   "cell_type": "code",
   "execution_count": null,
   "metadata": {
    "vscode": {
     "languageId": "sql"
    }
   },
   "outputs": [],
   "source": [
    "SELECT DISTINCT person_id,\n",
    "    \t\t   instituition\n",
    "FROM education\n",
    "WHERE person_id IN (SELECT DISTINCT p.id\n",
    "                                        FROM people AS p INNER JOIN company AS c ON p.company_id = c.id\n",
    "                                       WHERE c.name in (\n",
    "                                SELECT DISTINCT c.name\n",
    "                   FROM company AS c INNER JOIN funding_round AS fr ON c.id =    \n",
    "                   fr.company_id\n",
    "                                WHERE c.status = 'closed'\n",
    "                                    AND fr.is_first_round = 1\n",
    "                                    AND fr.is_last_round = 1))"
   ]
  },
  {
   "cell_type": "markdown",
   "metadata": {},
   "source": [
    "16. Посчитайте количество учебных заведений для каждого сотрудника из предыдущего задания. При подсчёте учитывайте, что некоторые сотрудники могли окончить одно и то же заведение дважды. (Условие из второго предложения не проверяется!)"
   ]
  },
  {
   "cell_type": "code",
   "execution_count": null,
   "metadata": {
    "vscode": {
     "languageId": "sql"
    }
   },
   "outputs": [],
   "source": [
    "SELECT DISTINCT person_id,\n",
    "             COUNT(instituition)\n",
    "FROM education\n",
    "WHERE person_id IN (SELECT DISTINCT p.id\n",
    "                    FROM people AS p INNER JOIN company AS c ON p.company_id = c.id\n",
    "                    WHERE c.name in (\n",
    "                                SELECT DISTINCT c.name\n",
    "                                FROM company AS c INNER JOIN funding_round AS fr ON c.id = fr.company_id\n",
    "                                WHERE c.status = 'closed'\n",
    "                                    AND fr.is_first_round = 1\n",
    "                                    AND fr.is_last_round = 1))\n",
    "GROUP BY person_id"
   ]
  },
  {
   "cell_type": "markdown",
   "metadata": {},
   "source": [
    "17. Дополните предыдущий запрос и выведите среднее число учебных заведений (всех, не только уникальных), которые окончили сотрудники разных компаний. Нужно вывести только одну запись, группировка здесь не понадобится."
   ]
  },
  {
   "cell_type": "code",
   "execution_count": null,
   "metadata": {
    "vscode": {
     "languageId": "sql"
    }
   },
   "outputs": [],
   "source": [
    "WITH\n",
    "a AS (SELECT DISTINCT person_id,\n",
    "             COUNT(instituition) AS inst_count\n",
    "FROM education\n",
    "WHERE person_id IN (SELECT DISTINCT p.id\n",
    "                    FROM people AS p INNER JOIN company AS c ON p.company_id = c.id\n",
    "                    WHERE c.name in (\n",
    "                                SELECT DISTINCT c.name\n",
    "                                FROM company AS c INNER JOIN funding_round AS fr ON c.id = fr.company_id\n",
    "                                WHERE c.status = 'closed'\n",
    "                                    AND fr.is_first_round = 1\n",
    "                                    AND fr.is_last_round = 1))\n",
    "GROUP BY person_id)\n",
    "\n",
    "SELECT SUM(a.inst_count) / COUNT(a.person_id)\n",
    "FROM a"
   ]
  },
  {
   "cell_type": "markdown",
   "metadata": {},
   "source": [
    "18. Напишите похожий запрос: выведите среднее число учебных заведений (всех, не только уникальных), которые окончили сотрудники Socialnet."
   ]
  },
  {
   "cell_type": "code",
   "execution_count": null,
   "metadata": {
    "vscode": {
     "languageId": "sql"
    }
   },
   "outputs": [],
   "source": [
    "WITH a AS (SELECT  person_id,\n",
    "             COUNT(instituition) AS inst_count\n",
    "FROM education\n",
    "GROUP BY person_id),\n",
    "\n",
    "b AS (SELECT p.id AS pid\n",
    "      FROM people AS p INNER JOIN company AS c ON p.company_id = c.id\n",
    "      WHERE c.name = 'Socialnet')\n",
    "\n",
    "SELECT SUM(a.inst_count) / COUNT(a.person_id)\n",
    "FROM a INNER JOIN b ON a.person_id = b.pid"
   ]
  },
  {
   "cell_type": "markdown",
   "metadata": {},
   "source": [
    "19. Составьте таблицу из полей:\n",
    "•\tname_of_fund — название фонда;\n",
    "•\tname_of_company — название компании;\n",
    "•\tamount — сумма инвестиций, которую привлекла компания в раунде.\n",
    "В таблицу войдут данные о компаниях, в истории которых было больше шести важных этапов, а раунды финансирования проходили с 2012 по 2013 год включительно."
   ]
  },
  {
   "cell_type": "code",
   "execution_count": null,
   "metadata": {
    "vscode": {
     "languageId": "sql"
    }
   },
   "outputs": [],
   "source": [
    "SELECT f.name AS name_of_fund,\n",
    "       c.name AS name_of_company,\n",
    "       fr.raised_amount AS amount\n",
    "FROM fund AS f INNER JOIN investment As i ON f.id = i.fund_id\n",
    "               INNER JOIN funding_round As fr ON i.funding_round_id = fr.id\n",
    "               INNER JOIN company AS c ON fr.company_id = c.id\n",
    "WHERE c.milestones > 6\n",
    "    AND EXTRACT(YEAR FROM CAST(fr.funded_at AS timestamp)) BETWEEN 2012 AND 2013"
   ]
  },
  {
   "cell_type": "markdown",
   "metadata": {},
   "source": [
    "20. Выгрузите таблицу, в которой будут такие поля:\n",
    "•\tназвание компании-покупателя;\n",
    "•\tсумма сделки;\n",
    "•\tназвание компании, которую купили;\n",
    "•\tсумма инвестиций, вложенных в купленную компанию;\n",
    "•\tдоля, которая отображает, во сколько раз сумма покупки превысила сумму вложенных в компанию инвестиций, округлённая до ближайшего целого числа.\n",
    "Не учитывайте те сделки, в которых сумма покупки равна нулю. Если сумма инвестиций в компанию равна нулю, исключите такую компанию из таблицы. \n",
    "Отсортируйте таблицу по сумме сделки от большей к меньшей, а затем по названию купленной компании в лексикографическом порядке. Ограничьте таблицу первыми десятью записями."
   ]
  },
  {
   "cell_type": "code",
   "execution_count": null,
   "metadata": {
    "vscode": {
     "languageId": "sql"
    }
   },
   "outputs": [],
   "source": [
    "SELECT c_ing.name AS acquiring_company,\n",
    "       a.price_amount,\n",
    "       c_ed.name AS acquired_company,\n",
    "       c_ed.funding_total,\n",
    "       ROUND(a.price_amount / c_ed.funding_total)\n",
    "FROM acquisition AS a INNER JOIN company AS c_ing ON a.acquiring_company_id = c_ing.id\n",
    "                      INNER JOIN company AS c_ed ON a.acquired_company_id = c_ed.id\n",
    "WHERE a.price_amount != 0\n",
    "    AND c_ed.funding_total !=0\n",
    "ORDER BY a.price_amount DESC, acquired_company\n",
    "LIMIT 10"
   ]
  },
  {
   "cell_type": "markdown",
   "metadata": {},
   "source": [
    "21. Выгрузите таблицу, в которую войдут названия компаний из категории social, получившие финансирование с 2010 по 2013 год включительно. Проверьте, что сумма инвестиций не равна нулю. Выведите также номер месяца, в котором проходил раунд финансирования."
   ]
  },
  {
   "cell_type": "code",
   "execution_count": null,
   "metadata": {
    "vscode": {
     "languageId": "sql"
    }
   },
   "outputs": [],
   "source": [
    "SELECT c.name,\n",
    "       EXTRACT(MONTH FROM CAST(fr.funded_at AS timestamp)) AS funding_month\n",
    "FROM company AS c INNER JOIN funding_round AS fr ON c.id = fr.company_id\n",
    "WHERE c.category_code = 'social'\n",
    "    AND EXTRACT(YEAR FROM CAST(fr.funded_at AS timestamp)) BETWEEN 2010 AND 2013\n",
    "    AND fr.raised_amount !=0"
   ]
  },
  {
   "cell_type": "markdown",
   "metadata": {},
   "source": [
    "22. Отберите данные по месяцам с 2010 по 2013 год, когда проходили инвестиционные раунды. Сгруппируйте данные по номеру месяца и получите таблицу, в которой будут поля:\n",
    "•\tномер месяца, в котором проходили раунды;\n",
    "•\tколичество уникальных названий фондов из США, которые инвестировали в этом месяце;\n",
    "•\tколичество компаний, купленных за этот месяц;\n",
    "•\tобщая сумма сделок по покупкам в этом месяце."
   ]
  },
  {
   "cell_type": "code",
   "execution_count": null,
   "metadata": {
    "vscode": {
     "languageId": "sql"
    }
   },
   "outputs": [],
   "source": [
    "\n",
    "SELECT x.*,\n",
    "       y.acquired_companies_count,\n",
    "       y.sum_amount\n",
    "FROM\n",
    "  (SELECT EXTRACT(MONTH FROM CAST(fr.funded_at AS timestamp)) AS funding_month,\n",
    "       COUNT(DISTINCT f.name) AS funds_count\n",
    "   FROM funding_round AS fr INNER JOIN investment AS i ON fr.id = i.funding_round_id\n",
    "                            INNER JOIN fund AS f ON i.fund_id = f.id\n",
    "   WHERE f.country_code = 'USA'\n",
    "       AND EXTRACT(YEAR FROM CAST(fr.funded_at AS timestamp)) BETWEEN 2010 AND 2013\n",
    "   GROUP BY funding_month) AS x\n",
    "LEFT OUTER JOIN\n",
    "  (SELECT EXTRACT(MONTH FROM CAST(acquired_at AS timestamp)) AS acquired_month,\n",
    "          COUNT(acquired_company_id) AS acquired_companies_count,\n",
    "          SUM(price_amount) AS sum_amount\n",
    "   FROM acquisition\n",
    "   WHERE EXTRACT(YEAR FROM CAST(acquired_at AS timestamp)) BETWEEN 2010 AND 2013\n",
    "   GROUP BY acquired_month\n",
    "   ORDER BY acquired_month) AS y \n",
    "   ON x.funding_month = y.acquired_month"
   ]
  },
  {
   "cell_type": "markdown",
   "metadata": {},
   "source": [
    "23. Составьте сводную таблицу и выведите среднюю сумму инвестиций для стран, в которых есть стартапы, зарегистрированные в 2011, 2012 и 2013 годах. Данные за каждый год должны быть в отдельном поле. Отсортируйте таблицу по среднему значению инвестиций за 2011 год от большего к меньшему."
   ]
  },
  {
   "cell_type": "code",
   "execution_count": null,
   "metadata": {
    "vscode": {
     "languageId": "sql"
    }
   },
   "outputs": [],
   "source": [
    "WITH\n",
    "     inv_2011 AS (SELECT country_code,\n",
    "                         SUM(funding_total) / COUNT(funding_total) AS sum2011\n",
    "                  FROM company AS c \n",
    "                  WHERE  EXTRACT(YEAR FROM CAST(c.founded_at AS timestamp)) = 2011\n",
    "                  GROUP BY country_code), \n",
    "     inv_2012 AS (SELECT country_code,\n",
    "                         SUM(funding_total) / COUNT(funding_total) AS sum2012\n",
    "                  FROM company AS c \n",
    "                  WHERE  EXTRACT(YEAR FROM CAST(c.founded_at AS timestamp)) = 2012\n",
    "                  GROUP BY country_code),\n",
    "     inv_2013 AS (SELECT country_code,\n",
    "                         SUM(funding_total) / COUNT(funding_total) AS sum2013\n",
    "                  FROM company AS c \n",
    "                  WHERE  EXTRACT(YEAR FROM CAST(c.founded_at AS timestamp)) = 2013\n",
    "                  GROUP BY country_code) \n",
    "     \n",
    "     \n",
    "SELECT inv_2011.country_code,\n",
    "       inv_2011.sum2011,\n",
    "       inv_2012.sum2012,\n",
    "       inv_2013.sum2013\n",
    "FROM inv_2011\n",
    "INNER JOIN inv_2012\n",
    "ON inv_2011.country_code = inv_2012.country_code\n",
    "INNER JOIN inv_2013\n",
    "ON inv_2011.country_code = inv_2013.country_code\n",
    "ORDER BY inv_2011.sum2011 DESC"
   ]
  }
 ],
 "metadata": {
  "language_info": {
   "name": "python"
  }
 },
 "nbformat": 4,
 "nbformat_minor": 2
}
