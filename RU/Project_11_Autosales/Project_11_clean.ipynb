{
 "cells": [
  {
   "cell_type": "markdown",
   "metadata": {
    "slideshow": {
     "slide_type": ""
    },
    "tags": []
   },
   "source": [
    "# Определение стоимости автомобилей для сервиса «Не бит, не крашен»"
   ]
  },
  {
   "cell_type": "markdown",
   "metadata": {},
   "source": [
    "Сервис по продаже автомобилей с пробегом «Не бит, не крашен» разрабатывает приложение для привлечения новых клиентов. В нём можно быстро узнать рыночную стоимость своего автомобиля. В вашем распоряжении исторические данные: технические характеристики, комплектации и цены автомобилей. Вам нужно построить модель для определения стоимости. \n",
    "\n",
    "Заказчику важны:\n",
    "\n",
    "- качество предсказания;\n",
    "- скорость предсказания;\n",
    "- время обучения.\n",
    "\n",
    "\n",
    "<a id='К-содержанию'></a>\n",
    "**Содержание проекта** \\\n",
    "[Подготовка данных](#Подготовка-и-анализ-данных)\\\n",
    "[Проверка_корреляции данных](#Проверка-корреляции-данных)\\\n",
    "[Обучение моделей](#Обучение-моделей)\\\n",
    "[Общий вывод](#Общий-вывод)\\\n",
    "[Чек-лист_проверки](#Чек-лист-проверки)"
   ]
  },
  {
   "cell_type": "code",
   "execution_count": null,
   "metadata": {},
   "outputs": [],
   "source": [
    "%%capture\n",
    "!pip install phik\n",
    "!pip install scipy=1.13.1\n",
    "!pip install numpy=1.26.4\n",
    "!pip install catboost\n",
    "!pip install lightgbm\n",
    "!pip install category_encoders\n",
    "!pip install --upgrade scikit-learn seaborn"
   ]
  },
  {
   "cell_type": "code",
   "execution_count": null,
   "metadata": {},
   "outputs": [],
   "source": [
    "import numpy as np\n",
    "print(np.__version__)\n",
    "\n",
    "import phik\n",
    "print(phik.__version__)\n",
    "\n",
    "import scipy\n",
    "print(scipy.__version__)\n",
    "\n",
    "import sklearn\n",
    "print(sklearn.__version__)"
   ]
  },
  {
   "cell_type": "code",
   "execution_count": null,
   "metadata": {},
   "outputs": [],
   "source": [
    "#импортируем библиотеки перед началом проекта одним блоком\n",
    "import pandas as pd\n",
    "import numpy as np\n",
    "import random\n",
    "import re\n",
    "import math\n",
    "import matplotlib.pyplot as plt\n",
    "import matplotlib\n",
    "import seaborn as sns\n",
    "from scipy import stats as st\n",
    "from IPython.display import display, Markdown\n",
    "\n",
    "# загружаем класс pipeline\n",
    "from sklearn.pipeline import Pipeline\n",
    "\n",
    "# загружаем классы для подготовки данных\n",
    "from sklearn.preprocessing import OneHotEncoder, StandardScaler, MinMaxScaler\n",
    "from sklearn.compose import ColumnTransformer\n",
    "from sklearn.model_selection import train_test_split\n",
    "from category_encoders import BinaryEncoder\n",
    "\n",
    "\n",
    "# загружаем класс для работы с пропусками\n",
    "from sklearn.impute import SimpleImputer\n",
    "\n",
    "# импортируем классы GridSearchCV\n",
    "from sklearn.model_selection import GridSearchCV\n",
    "\n",
    "# загружаем нужные модели\n",
    "from sklearn.linear_model import LinearRegression\n",
    "from sklearn.tree import DecisionTreeRegressor\n",
    "from lightgbm import LGBMRegressor\n",
    "from catboost import CatBoostRegressor\n",
    "import catboost as cb\n",
    "\n",
    "# загружаем функцию для работы с метриками\n",
    "from sklearn.metrics import mean_squared_error\n",
    "\n",
    "# тесты для проверки корреляций\n",
    "from phik import resources\n",
    "from phik.report import plot_correlation_matrix\n",
    "from phik import phik_matrix\n",
    "\n",
    "import warnings\n",
    "warnings.filterwarnings('ignore',category=UserWarning)"
   ]
  },
  {
   "cell_type": "code",
   "execution_count": null,
   "metadata": {},
   "outputs": [],
   "source": [
    "# вынесем блок с настройками и функциями\n",
    "\n",
    "# зададим стандарт датафрейма перед загрузкой\n",
    "pd.set_option('display.max_colwidth', None)\n",
    "pd.set_option('display.max_rows', None)\n",
    "pd.set_option('display.float_format', '{:.3f}'.format)\n",
    "pd.options.mode.chained_assignment = None # warning при обращении к столбцам датафрейма утомил\n",
    "\n",
    "try:\n",
    "    pd.set_option('future.no_silent_downcasting', True)\n",
    "except:\n",
    "    pass\n",
    "\n",
    "# выводим информацию по структуре и данным по каждому датафрейму\n",
    "def get_info(dataset):\n",
    "    display(dataset.info(), dataset.head(5), dataset.tail(5))\n",
    "\n",
    "\n",
    "# вывод гистограммы и boxplot\n",
    "def hist_box(data,column,hue=None):\n",
    "    \n",
    "    palette = sns.color_palette('hsv', n_colors=10)\n",
    "    random_color = random.choice(palette)\n",
    "    \n",
    "    if hue == None:\n",
    "        \n",
    "        fig, axes = plt.subplots(1, 2, figsize=(7, 2)) \n",
    "        ax = axes[0]\n",
    "        sns.histplot(data=data, x=column, bins=10, \n",
    "                     color=random_color,\n",
    "                     alpha=0.6,\n",
    "                     legend='auto', ax=ax)\n",
    "    else:\n",
    "        fig, axes = plt.subplots(1, 2, figsize=(7, 2)) \n",
    "        ax = axes[0]\n",
    "        sns.histplot(data=data, x=column, bins=10, \n",
    "                     color=random_color,\n",
    "                     alpha=0.6,\n",
    "                     hue=hue, \n",
    "                     multiple='stack',\n",
    "                     legend='auto', ax=ax)\n",
    "        \n",
    "\n",
    "    ax = axes[1]\n",
    "    sns.boxplot(x=data[column], color=random_color, ax=ax)\n",
    "    ax.set_ylabel('')\n",
    "\n",
    "    plt.tight_layout()\n",
    "    plt.show();\n",
    "\n",
    "\n",
    "# функция группировки по километражу\n",
    "def group(km):\n",
    "    if km <= 135000:\n",
    "        return ((km - 1) // 15000 + 1) * 15000\n",
    "    else:\n",
    "        return 150000\n",
    "\n",
    "# функция подсчета абсолютных значений для указания на круговой диаграмме\n",
    "def absolute_value(val,df):\n",
    "    a = round(val/100.*df.sum())\n",
    "    return a\n",
    "\n",
    "# функция построения круговой диаграммы\n",
    "def pieplot(data,column):\n",
    "    data_grouped = data.groupby(column)[column].count()\n",
    "    data.groupby(column)[column].count().plot(kind='pie', \n",
    "             title ='Признак {}\\n'.format(column),\n",
    "             radius=1.3,\n",
    "             ylabel='',\n",
    "             autopct=lambda x: f'{x:.1f}%',\n",
    "             pctdistance=0.6 );"
   ]
  },
  {
   "cell_type": "markdown",
   "metadata": {},
   "source": [
    "<a id='Подготовка-и-анализ-данных'></a> \n",
    "## Подготовка и анализ данных\n",
    "[К содержанию](#К-содержанию) "
   ]
  },
  {
   "cell_type": "code",
   "execution_count": null,
   "metadata": {},
   "outputs": [],
   "source": [
    "# импортируем данные\n",
    "try:\n",
    "    autos = pd.read_csv('/Users/roman_yakovlev/Downloads/Практикум_DS/Проекты/Project_11_Autosales/autos.csv')\n",
    "except:\n",
    "    autos = pd.read_csv('/datasets/autos.csv')\n",
    "    "
   ]
  },
  {
   "cell_type": "code",
   "execution_count": null,
   "metadata": {},
   "outputs": [],
   "source": [
    "# посмотрим на данные\n",
    "get_info(autos)"
   ]
  },
  {
   "cell_type": "code",
   "execution_count": null,
   "metadata": {},
   "outputs": [],
   "source": [
    "# сразу приведем названия столбцов и тестовых записей к нижнему регистру\n",
    "autos.columns = [i.lower() for i in autos.columns]\n",
    "\n",
    "#приведем все текстовые значения к нижнему регистру\n",
    "autos = autos.apply(lambda col: col.apply(lambda x: x.lower() if isinstance(x, str) else x))\n",
    "\n",
    "autos.columns"
   ]
  },
  {
   "cell_type": "code",
   "execution_count": null,
   "metadata": {},
   "outputs": [],
   "source": [
    "# приведем даты к типу datetime\n",
    "columns_date = ['datecrawled','datecreated','lastseen']\n",
    "\n",
    "for column in columns_date:\n",
    "    autos[column]= pd.to_datetime(autos[column], format='%Y-%m-%d %H:%M:%S')\n",
    "\n",
    "autos.info()"
   ]
  },
  {
   "cell_type": "code",
   "execution_count": null,
   "metadata": {},
   "outputs": [],
   "source": [
    "# проверим уникальные значения в текстовых столбцах\n",
    "columns_str = ['vehicletype', 'gearbox', 'model', 'fueltype', 'brand','repaired']\n",
    "\n",
    "\n",
    "for column in columns_str:\n",
    "    display(autos[column].unique())"
   ]
  },
  {
   "cell_type": "code",
   "execution_count": null,
   "metadata": {},
   "outputs": [],
   "source": [
    "# для наглядности выведем количество пропусков в текстовых данных\n",
    "display(autos[columns_str].isna().sum())\n",
    "\n",
    "# заменим пропуски на категорию other, тем более эта категория в большинстве признаков и так уже есть\n",
    "for column in columns_str:\n",
    "    autos[column]=autos[column].fillna('other')\n",
    "\n",
    "# и еще раз проверим\n",
    "autos.info();"
   ]
  },
  {
   "cell_type": "code",
   "execution_count": null,
   "metadata": {
    "slideshow": {
     "slide_type": ""
    },
    "tags": []
   },
   "outputs": [],
   "source": [
    "# заменим опечатки и неявные дубликаты в значениях текстовых столбцов\n",
    "autos['model'] = autos['model'].replace('rangerover', 'range_rover')\n",
    "autos['fueltype'] = autos['fueltype'].replace({'gasoline': 'petrol', 'lpg': 'cng'})"
   ]
  },
  {
   "cell_type": "code",
   "execution_count": null,
   "metadata": {},
   "outputs": [],
   "source": [
    "# в столбце с количеством фотографий похоже одни нули - проверим\n",
    "print('Количество записей с отсутствующими фотографиями: ', autos[autos['numberofpictures'] == 0]['numberofpictures'].count())"
   ]
  },
  {
   "cell_type": "code",
   "execution_count": null,
   "metadata": {},
   "outputs": [],
   "source": [
    "# удалим записи, в которых год регистрации указан после даты выгрузки анкеты, что явно некорректно\n",
    "autos = autos[(autos['registrationyear'])<(autos['datecrawled'].dt.year)]"
   ]
  },
  {
   "cell_type": "code",
   "execution_count": null,
   "metadata": {},
   "outputs": [],
   "source": [
    "# столбец с фотографиями неинформативен, лучше удалить, также как и столбцы с временными данными по загрузке анкеты и последней активности пользователя\n",
    "# на цену эти технические параметры не влияют, в отличие от даты загрузки анкеты, т.к. цена во времени на один и тот же автомобиль может меняться\n",
    "\n",
    "display(autos.head(3))\n",
    "autos = autos.drop(columns=['datecrawled', 'numberofpictures', 'lastseen'])\n",
    "autos.head(3)"
   ]
  },
  {
   "cell_type": "code",
   "execution_count": null,
   "metadata": {},
   "outputs": [],
   "source": [
    "# проверим на дубликаты\n",
    "print('Количество дубликатов: ',autos.duplicated().sum())\n",
    "\n",
    "# уберем дубликаты\n",
    "autos = autos.drop_duplicates()"
   ]
  },
  {
   "cell_type": "code",
   "execution_count": null,
   "metadata": {
    "slideshow": {
     "slide_type": ""
    },
    "tags": []
   },
   "outputs": [],
   "source": [
    "# посмотрим статистики и построим отдельно графики гистограммы и \"ящик с усами\" для количественных признаков\n",
    "\n",
    "columns_num = ['price', 'power', 'kilometer']\n",
    "\n",
    "display(autos[columns_num].describe())\n",
    "\n",
    "print(f'Распределение количественных переменных в датасете autos: \\n')    \n",
    "for index, column in enumerate(columns_num):\n",
    "    hist_box(autos,column);"
   ]
  },
  {
   "cell_type": "markdown",
   "metadata": {},
   "source": [
    "По столбцу power видны аномальные значения в 0-10 лошадиных силы и более 500 и даже 1000 лошадиных сил, что крайне маловероятно для рыночных серийных автомобилей, посчитаем их количество."
   ]
  },
  {
   "cell_type": "code",
   "execution_count": null,
   "metadata": {},
   "outputs": [],
   "source": [
    "print('Количество автомобилей с аномальными значениями мощности двигателя: ', autos[(autos['power'] < 15) | (autos['power'] > 500)]['power'].count())"
   ]
  },
  {
   "cell_type": "markdown",
   "metadata": {},
   "source": [
    "Таких записей достаточно много, игнорировать аномальные значения некорректно - это повлияет на качество обучения модели, удалить 10% записей также недопустимо, поэтому заменим значения мощности меньше 15 лошадиных сил или больше 500 в столбце ‘power’ на медианные значения, соответствующие модели и году регистрации прочих автомобилей в выборке."
   ]
  },
  {
   "cell_type": "code",
   "execution_count": null,
   "metadata": {
    "slideshow": {
     "slide_type": ""
    },
    "tags": []
   },
   "outputs": [],
   "source": [
    "# зафиксируем условие для отбора некорректных строк\n",
    "condition = ((autos['power'] < 15) | (autos['power'] > 500))\n",
    "\n",
    "# отберем эти корректные строки для вычисления медиан по ним\n",
    "valid_autos = autos[~condition]\n",
    "\n",
    "# вычислим медианные значения для каждой группы (модель и год регистрации) без учета некорректных строк\n",
    "medians = valid_autos.groupby(['model', 'registrationyear'])['power'].median()\n",
    "medians = medians.astype(int)\n",
    "medians_dict = medians.to_dict()\n",
    "\n",
    "# заменим аномальные значени на медианные\n",
    "autos.loc[condition, 'power'] = autos.loc[condition].apply(\n",
    "    lambda row: medians_dict.get((row['model'], row['registrationyear']), row['power']), axis=1)\n"
   ]
  },
  {
   "cell_type": "code",
   "execution_count": null,
   "metadata": {},
   "outputs": [],
   "source": [
    "print('Количество автомодилей с аномальными значениями мощности двигателя: ', autos[(autos['power'] < 15) | (autos['power'] > 500)]['power'].count())\n",
    "\n",
    "palette = sns.color_palette('hsv', n_colors=10)\n",
    "random_color = random.choice(palette)\n",
    "plt.figure(figsize=(7, 2))\n",
    "sns.boxplot(x=autos['power'], color=random_color)\n",
    "plt.ylabel('')\n",
    "plt.title('Распределение значений по столбцу power')\n",
    "plt.tight_layout()\n",
    "plt.show()"
   ]
  },
  {
   "cell_type": "markdown",
   "metadata": {},
   "source": [
    "После вышеуказанной операции у нас остался небольшой пул записей с некорректными данными, для которых не нашлось группы (и соответственно медианного значения) по параметрам года регистрации и модели, для них проведем аналогичную операцию но посчитаем медиану только по модели, что менее точно, но более релевантно относительно 0 или 5 000 лошадиных сил."
   ]
  },
  {
   "cell_type": "code",
   "execution_count": null,
   "metadata": {},
   "outputs": [],
   "source": [
    "# вычисление медианных значений для каждой группы (модель) без учета некорректных строк\n",
    "medians = valid_autos.groupby('model')['power'].median()\n",
    "medians = medians.astype(int)\n",
    "medians_dict = medians.to_dict()\n",
    "\n",
    "autos.loc[condition, 'power'] = autos.loc[condition].apply(\n",
    "    lambda row: medians_dict.get((row['model']), row['power']), axis=1)"
   ]
  },
  {
   "cell_type": "code",
   "execution_count": null,
   "metadata": {},
   "outputs": [],
   "source": [
    "autos[(autos['power'] < 15) | (autos['power'] > 500)]"
   ]
  },
  {
   "cell_type": "markdown",
   "metadata": {},
   "source": [
    "Осталось две модели, для которых просто нет иных вариантов, их заполним вручную медианными значениями по записям, сгруппированным по бренду и году."
   ]
  },
  {
   "cell_type": "code",
   "execution_count": null,
   "metadata": {},
   "outputs": [],
   "source": [
    "autos.loc[280216,'power'] = autos[(autos['brand'] == 'land_rover')&(autos['registrationyear'] == 1970)&(autos['power'] != 0)]['power'].median()\n",
    "autos.loc[234296,'power'] = autos[(autos['brand'] == 'land_rover')&(autos['registrationyear'] == 1978)&(autos['power'] != 0)]['power'].median()"
   ]
  },
  {
   "cell_type": "markdown",
   "metadata": {},
   "source": [
    "По ценам также наблюдаются аномалии с минималными ценами на автомибили на уровне 0-100, посчитаем их."
   ]
  },
  {
   "cell_type": "code",
   "execution_count": null,
   "metadata": {},
   "outputs": [],
   "source": [
    "print('Количество автомодилей с аномальными значениями цен: ', autos[(autos['price'] < 100)]['price'].count())\n",
    "\n",
    "palette = sns.color_palette('hsv', n_colors=10)\n",
    "random_color = random.choice(palette)\n",
    "plt.figure(figsize=(7, 2))\n",
    "sns.boxplot(x=autos['price'], color=random_color)\n",
    "plt.ylabel('')\n",
    "plt.title('Распределение значений по столбцу price')\n",
    "plt.tight_layout()\n",
    "plt.show()"
   ]
  },
  {
   "cell_type": "markdown",
   "metadata": {},
   "source": [
    "Заменим аномально низкие цены на медианные по аналогичным категориям автомобилей, единственно для точности добавим категории по километражу, т.к. пробег важен при оценке и учтем эти группы для расчета медианной цены. "
   ]
  },
  {
   "cell_type": "code",
   "execution_count": null,
   "metadata": {},
   "outputs": [],
   "source": [
    "autos['kilometer_group'] = autos['kilometer'].apply(group)"
   ]
  },
  {
   "cell_type": "code",
   "execution_count": null,
   "metadata": {},
   "outputs": [],
   "source": [
    "# зафиксируем условие для отбора некорректных строк\n",
    "condition = (autos['price'] < 100) \n",
    "\n",
    "# отберем эти корректные строки для вычисления медиан по ним\n",
    "valid_autos = autos[~condition]\n",
    "\n",
    "# вычислим медианные значения для каждой группы (модель, год регистрации, километраж) без учета некорректных строк\n",
    "medians = valid_autos.groupby(['model', 'registrationyear','kilometer_group'])['price'].median()\n",
    "medians = medians.astype(int)\n",
    "medians_dict = medians.to_dict()\n",
    "\n",
    "# заменим аномальные значени на медианные\n",
    "autos.loc[condition, 'price'] = autos.loc[condition].apply(\n",
    "    lambda row: medians_dict.get((row['model'], row['registrationyear'],row['kilometer_group']), row['price']), axis=1)"
   ]
  },
  {
   "cell_type": "code",
   "execution_count": null,
   "metadata": {},
   "outputs": [],
   "source": [
    "autos[(autos['price'] < 100)]['price'].count()"
   ]
  },
  {
   "cell_type": "code",
   "execution_count": null,
   "metadata": {},
   "outputs": [],
   "source": [
    "# по автомобилям для которых не нашлось групп вычислим медианные значения для групп по модели и году регистрации\n",
    "medians = valid_autos.groupby(['model', 'registrationyear'])['price'].median()\n",
    "medians = medians.astype(int)\n",
    "medians_dict = medians.to_dict()\n",
    "\n",
    "# заменим аномальные значени на медианные\n",
    "autos.loc[condition, 'price'] = autos.loc[condition].apply(\n",
    "    lambda row: medians_dict.get((row['model'], row['registrationyear']), row['price']), axis=1)"
   ]
  },
  {
   "cell_type": "code",
   "execution_count": null,
   "metadata": {},
   "outputs": [],
   "source": [
    "autos[(autos['price'] < 100)]['price'].count()"
   ]
  },
  {
   "cell_type": "code",
   "execution_count": null,
   "metadata": {},
   "outputs": [],
   "source": [
    "# по автомобилям для которых не нашлось и таких групп вычислим медианные значения просто по модели\n",
    "medians = valid_autos.groupby(['model'])['price'].median()\n",
    "medians = medians.astype(int)\n",
    "medians_dict = medians.to_dict()\n",
    "\n",
    "# заменим аномальные значени на медианные\n",
    "autos.loc[condition, 'price'] = autos.loc[condition].apply(\n",
    "    lambda row: medians_dict.get((row['model']), row['price']), axis=1)"
   ]
  },
  {
   "cell_type": "code",
   "execution_count": null,
   "metadata": {},
   "outputs": [],
   "source": [
    "autos[(autos['price'] < 100)]['price'].count()"
   ]
  },
  {
   "cell_type": "code",
   "execution_count": null,
   "metadata": {},
   "outputs": [],
   "source": [
    "# посмотрим на данные с учетом изменений\n",
    "for index, column in enumerate(columns_num):\n",
    "    hist_box(autos,column);"
   ]
  },
  {
   "cell_type": "markdown",
   "metadata": {},
   "source": [
    "Посмотрим на категориальные признаки, по 4-м из них: vehicletype, gearbox, fueltype, repaired, построим круговые диаграммы, по остальным registrationyear, model, brand, datecreated, postalcode, kilometer_group - слишком много значений для круговой диаграммы, рассмотрим их с помощью столбчатых графиков и гистограмм."
   ]
  },
  {
   "cell_type": "code",
   "execution_count": null,
   "metadata": {
    "slideshow": {
     "slide_type": ""
    },
    "tags": []
   },
   "outputs": [],
   "source": [
    "#построим графики типа pie по категориальным данным из первой части пункта выше\n",
    "columns_cat_1 = ['vehicletype', 'gearbox','fueltype','repaired']\n",
    "\n",
    "plt.figure(figsize=[10, 6], dpi=120)\n",
    "plt.subplots_adjust(wspace=0.1, hspace=0.3)\n",
    "plt.suptitle('Соотношение классов по категориальным признакам', y=1)\n",
    "\n",
    "for i,column in enumerate(columns_cat_1):\n",
    "    \n",
    "    plt.subplot(2,2,i+1)\n",
    "    pieplot(autos,column);"
   ]
  },
  {
   "cell_type": "code",
   "execution_count": null,
   "metadata": {},
   "outputs": [],
   "source": [
    "# построим гистограму по годам выпуска автомобилей\n",
    "\n",
    "plt.figure(figsize=[5, 3])\n",
    "autos['registrationyear'].hist(bins=20);"
   ]
  },
  {
   "cell_type": "code",
   "execution_count": null,
   "metadata": {},
   "outputs": [],
   "source": [
    "# выявили некорреткные значения годов выпуска, посмотрим на все уникальные значения\n",
    "display(np.sort(autos['registrationyear'].unique()))\n",
    "\n",
    "# посчитаем количество записей с некорректнымми данными - автомобилями с датой выпуска менее 1915 и страше 2019 годов\n",
    "print('\\nКоличество записей с некорректными годами выпуска: ', autos[(autos['registrationyear']<1920)|(autos['registrationyear']>2019)]['registrationyear'].count())\n",
    "\n",
    "# заменим некорреткные годы на 0\n",
    "autos.loc[(autos['registrationyear']<1920)|(autos['registrationyear']>2019),'registrationyear'] = 0\n",
    "\n",
    "# посмотрим распределение с учетом корреткировки\n",
    "plt.figure(figsize=[15, 3])\n",
    "autos['registrationyear'].value_counts().sort_index().plot(kind='bar')\n",
    "plt.xlabel('registrationyear')\n",
    "plt.ylabel('count')\n",
    "plt.title('Количество зарегистрированных машин в год')\n",
    "plt.show()"
   ]
  },
  {
   "cell_type": "code",
   "execution_count": null,
   "metadata": {},
   "outputs": [],
   "source": [
    "# посчитаем количество уникальных значений моделей\n",
    "print('Количество уникальных значений моделей: ', autos['model'].nunique())\n",
    "\n",
    "# посмотрим на распределение авто по моделям для первых ТОП100 \n",
    "plt.figure(figsize=[16, 3])\n",
    "autos['model'].value_counts().head(100).plot(kind='bar')\n",
    "plt.xlabel('model')\n",
    "plt.ylabel('count')\n",
    "plt.title('Количество автомобилей для ТОП100 моделей')\n",
    "plt.show()"
   ]
  },
  {
   "cell_type": "code",
   "execution_count": null,
   "metadata": {},
   "outputs": [],
   "source": [
    "# посмотрим на распределение автомобилей по месяцам\n",
    "plt.figure(figsize=[10, 3])\n",
    "autos['registrationmonth'].value_counts().sort_index().plot(kind='bar')\n",
    "plt.ylabel('count')\n",
    "plt.title('Количество зарегистрированных автомобилей по месяцам')\n",
    "plt.show();"
   ]
  },
  {
   "cell_type": "code",
   "execution_count": null,
   "metadata": {},
   "outputs": [],
   "source": [
    "# посчитаем количество уникальных значений брендов\n",
    "print('Количество уникальных значений моделей: ', autos['brand'].nunique())\n",
    "\n",
    "# посмотрим на распределение авто по брендов\n",
    "plt.figure(figsize=[12, 3])\n",
    "autos['brand'].value_counts().plot(kind='bar')\n",
    "plt.xlabel('model')\n",
    "plt.ylabel('count')\n",
    "plt.title('Количество автомобилей в разбивке по брендам')\n",
    "plt.show()"
   ]
  },
  {
   "cell_type": "code",
   "execution_count": null,
   "metadata": {},
   "outputs": [],
   "source": [
    "# посчитаем уникальные значения дат объявлений\n",
    "print('Количество дат объявлений о продаже: ', autos['datecreated'].nunique())\n",
    "\n",
    "# посмотрми распределение по датам обявлений\n",
    "plt.figure(figsize=[17, 2])\n",
    "plt.title('Количество объявлений по датам публикации')\n",
    "autos['datecreated'].dt.to_period('d').value_counts().sort_index().plot(kind='bar');\n",
    "\n",
    "# посмотрми распределение дат с группировкой по месяцам\n",
    "plt.figure(figsize=[10, 2])\n",
    "autos['datecreated'].dt.to_period('M').value_counts(ascending=True).sort_index().plot(kind='bar')\n",
    "plt.show();"
   ]
  },
  {
   "cell_type": "code",
   "execution_count": null,
   "metadata": {},
   "outputs": [],
   "source": [
    "# посчитаем уникальные значения почтовых кодов объявлений\n",
    "print('Количество почтовых кодов в объявлениях: ', autos['postalcode'].nunique())\n",
    "\n",
    "# посмотрим на распределение почтовых кодов для первых ТОП100 \n",
    "plt.figure(figsize=[16, 3])\n",
    "autos['postalcode'].value_counts().head(100).plot(kind='bar')\n",
    "plt.xlabel('postalcode')\n",
    "plt.ylabel('count')\n",
    "plt.title('Количество почтовых кодов для ТОП100 моделей')\n",
    "plt.show()"
   ]
  },
  {
   "cell_type": "code",
   "execution_count": null,
   "metadata": {},
   "outputs": [],
   "source": [
    "# посмотрим на распределение автомобилей по группам километража\n",
    "plt.figure(figsize=[9, 3])\n",
    "autos['kilometer_group'].value_counts().sort_index().plot(kind='bar')\n",
    "plt.xlabel('kilometer_group')\n",
    "plt.ylabel('count')\n",
    "plt.title('Количество автомобилей по группам километража пробега')\n",
    "plt.show()"
   ]
  },
  {
   "cell_type": "markdown",
   "metadata": {},
   "source": [
    "**Вывод**  \n",
    "После импорта данных сразу привели названия столбцов и текстовых значений к нижнему регистру по всем столбцам, а также значения дат - к типу datetime.  \n",
    "Далее:\n",
    "- проанализировали значения текстовых признаков 'vehicletype', 'gearbox', 'model', 'fueltype', 'brand','repaired' - пропуски в них заменили на категорию 'other', чтобы не потерять эти записи при анализе, и учитывая наличие категории 'other' в большинстве указанных признаков;\n",
    "- скорректировали опечатки и неявные дубликаты в значениях текстовых столбцов 'model', 'fueltype';\n",
    "- удалили записи, в которых год регистрации указан после даты выгрузки анкеты, что явно некорректно;\n",
    "- столбец с фотографиями неинформативен, поскольку заполнен только нулями - удалили из датасета, также как и столбцы с временными данными по загрузке анкеты и последней активности пользователя - на цену эти технические параметры не влияют;\n",
    "- удалили порядка 9 тысяч явных дубликатов;\n",
    "- построили графики гистограмм и \"ящик с усами\" для количественных признаков, что позволило выявить выбросы в столбце с мощностью двигателя (менее 15 и более 500 лошадиных сил) общим количеством 40287;\n",
    "- заменили вышеуказанные аномалии несколькими итерациями, сгруппировав данные по модели и году выпуска, а потом просто по модели или бренду;\n",
    "- по ценам также выявили аномалии с минимальными ценами на автомибили на уровне 0-100 в количестве 13035, которые, аналогично мощности ранее, скорректировали на медианные значения, сгруппировав данные по моделям, годам выпуска и километражу (добавили отдельный признак с категориями по километражу на каждые 15 тыс. километров пробега);\n",
    "- по категориальным признакам 'vehicletype', 'gearbox', 'fueltype', 'repaired' построили круговые диаграммы, из которых обратили внимание на признак типа топлива - подавляющее большинство моделей 88,8% на бензине, следующая категория 'other', в которую были включены и неизвестные данные по этому признаку. Следующие за этими двумя категориями - газ, гибриды, электробатареи суммарно формируют менее 2% автомобилей, в таком случае полезность признака для обучения модели сомнительна, т.к. один из классов присутствует в подавляющем большинстве записей, а второй включает 'прочие', что не позволит эффективно оценивать вклад каждого класса при обучении модели. При обучении модели имеет смысл протестировать исключение данного признака из обучающей выборки.\n",
    "- при анализе данных по годам выпуска выявили 266 записей с аномальными значениями (менее 1920 года и более 2019), заменили их на 0, в результате основная масса автомобилей по году выпуска находится в промежутке с 1980 по 2018 годы, остальные годы соответтсвуют редким и раритетным экземплярам;\n",
    "- при анализе по месяцам регистрации автомобилей выявлена значительная часть автомобилей с неуказанным месяцем регистрации (0 на графике), остальные автомобилди распределены равномерно по всем месяцам;\n",
    "- частотный анализ по моделям и брендам показал только самую крупную группу моделей 'other', включающую отсутствующие данные, остальные данные по указаным признакам распределены убывающим порядком от наиболее известных и популярных в продажах брендов(VW, Opel, BMW, MB, Audi, Ford) и их моделей (golf, 3er, corsa, astra, passat, a4, c-klasse, e-klasse);\n",
    "- анализ дат размещения объявлений показал, что подавляющая масса объявлений была опубликована в течение марта и апреля 2016 года, то есть данные выгружены за месяц с начала марта по начало апреля;\n",
    "- количество локаций по почтовым кодам объявлений составляет 8143 и распределение равномерно убывающее, в соответствии с графиком первых 100 кодов;\n",
    "- согласно синтетическому признаку с категориями по километражу - больше половины автомобилей имеют пробег свыше 135 тысяч километров, это самая крупная категория. При обучении моделей можно будет протестировать и оценить вклад данного признака и, возможно, исключить его.\n"
   ]
  },
  {
   "cell_type": "markdown",
   "metadata": {},
   "source": [
    "<a id='Проверка-корреляции-данных'></a> \n",
    "## Проверка корреляции данных\n",
    "[К содержанию](#К-содержанию) "
   ]
  },
  {
   "cell_type": "code",
   "execution_count": null,
   "metadata": {},
   "outputs": [],
   "source": [
    "# построим коррелляционые матрицы\n",
    "columns_num = ['price', 'power', 'kilometer']\n",
    "# так как у нас данные распределены ненормально используем коэффициент Спирмена\n",
    "plt.figure(figsize=(10,8), dpi= 80)\n",
    "sns.heatmap(autos[columns_num].corr(method='spearman'), \n",
    "                        xticklabels=autos[columns_num].corr(method='spearman').columns, \n",
    "                        yticklabels=autos[columns_num].corr(method='spearman').columns, \n",
    "                        cmap='coolwarm' , \n",
    "                        center=0, \n",
    "                        annot=True)\n",
    "\n",
    "plt.title('Коэффициенты корреляции Спирмена между количественными признаками\\n', fontsize=16)\n",
    "plt.xticks(fontsize=12)\n",
    "plt.yticks(fontsize=12, rotation='horizontal')\n",
    "plt.show()\n"
   ]
  },
  {
   "cell_type": "code",
   "execution_count": null,
   "metadata": {},
   "outputs": [],
   "source": [
    "# вычисление корреляционной матрицы с использованием коэффициента Phi_K\n",
    "phik_matrix = autos.phik_matrix(interval_cols=['price', 'power', 'kilometer'])\n",
    "\n",
    "# сразу будем смотреть heatmap\n",
    "plt.figure(figsize=(13,11), dpi= 80)\n",
    "sns.heatmap(phik_matrix.values, xticklabels=phik_matrix.columns, yticklabels=phik_matrix.index, cmap='coolwarm', center=0, annot=True)\n",
    "\n",
    "plt.title('Коэффициенты корреляции Phi_K между всеми признаками\\n', fontsize=18)\n",
    "plt.xticks(fontsize=12, rotation=45, ha='right')\n",
    "plt.yticks(fontsize=12, rotation='horizontal')\n",
    "plt.show()"
   ]
  },
  {
   "cell_type": "code",
   "execution_count": null,
   "metadata": {},
   "outputs": [],
   "source": [
    "autos = autos.drop(columns=['datecreated', 'fueltype', 'kilometer_group','registrationmonth'])\n",
    "\n",
    "autos.head(2)"
   ]
  },
  {
   "cell_type": "markdown",
   "metadata": {},
   "source": [
    "**Вывод**\n",
    "\n",
    "Корреляция целевого признака с количественными признаками есть на уровне коэффициента Спирмена -0.33 с километражом и 0.51 с мощностью двигателя.\n",
    "Проверка корреляции между всеми признаками по методу Phi_K показала связи с целевым признаком большинства входных признаков, кроме даты создания объявления: \n",
    "1) т.к. у нас выгрузка объявлений была по сути за один месяц - разброс дат был незначительным, для таких объявлений как продажа машин, цены на авто в таких промежутках обычно достаточно стабильны, если бы объявления были за год, то уже возможно было бы наблюдать изменения в связи с изменениями в экономике и на рынке в целом;  \n",
    "2) признак типа топлива, как ранее отмечалось, малоинформативен, корреляция у него минимальна - исключаем;  \n",
    "3) также и месяц регистрации авто очень слабокоррелирован с ценой, что логично - при покупке авто обращают внимание на год, а не месяц, тем более в этом признаке присутствует значительный шумный класс, поэтому признак также исключаем; \n",
    "Ранее сформированный синтетический признак километража по группам показал ту же связь, что и основной признак километража, более того они абсолютно коррелированы, поэтому от него можно избавиться для повышения качества обучения моделей.  \n",
    "Также выявили крайне высокую корреляцию между входными признаками бренда, модели и типа авто, что логично, т.к. конкретные типы авто и моделей соответствуют конкретным брендам, линейки авто у брендов не пересекаются. Учитывая значительный пул значений other по признаку моделей и типу авто, это будет усложнять обучение модели, и тут наличие бренда скорее сыграет положительную роль - поэтому исключать какие-либо из этих признаков не будем.\n"
   ]
  },
  {
   "cell_type": "code",
   "execution_count": null,
   "metadata": {},
   "outputs": [],
   "source": [
    "# подсчет частоты значений в столбце модели\n",
    "value_counts = autos['model'].value_counts()\n",
    "\n",
    "# фильтрация значений, которые встречаются реже 10 раз - иначе при обучении вылетают ошибки отсутствия категорий\n",
    "filtered_values = value_counts[value_counts >= 10].index\n",
    "\n",
    "# фильтрация DataFrame на основе этих значений\n",
    "autos = autos[autos['model'].isin(filtered_values)]\n",
    "\n",
    "autos.shape"
   ]
  },
  {
   "cell_type": "markdown",
   "metadata": {
    "slideshow": {
     "slide_type": ""
    },
    "tags": []
   },
   "source": [
    "<a id='Обучение-моделей'></a> \n",
    "## Обучение моделей\n",
    "[К содержанию](#К-содержанию) "
   ]
  },
  {
   "cell_type": "markdown",
   "metadata": {},
   "source": [
    "Сначала сформируем наборы данных для обучения и теста моделей, далее сформируем пайплайны для подготовки данных и обучения моделей."
   ]
  },
  {
   "cell_type": "code",
   "execution_count": null,
   "metadata": {},
   "outputs": [],
   "source": [
    "# задаем константы\n",
    "RANDOM_STATE = 42\n",
    "TEST_SIZE = 0.15\n"
   ]
  },
  {
   "cell_type": "code",
   "execution_count": null,
   "metadata": {},
   "outputs": [],
   "source": [
    "# сформируем наборы данных для обучения и тестов\n",
    "X_train, X_test, y_train, y_test = train_test_split(\n",
    "    autos.drop('price', axis=1),\n",
    "    autos['price'],\n",
    "    test_size = TEST_SIZE,\n",
    "    stratify=autos['model'],\n",
    "    random_state = RANDOM_STATE)\n",
    "\n",
    "display(X_train.shape,y_train.shape)\n",
    "display(X_train.head(),y_train.head())"
   ]
  },
  {
   "cell_type": "code",
   "execution_count": null,
   "metadata": {},
   "outputs": [],
   "source": [
    "# создаём списки с названиями признаков\n",
    "be_columns = ['vehicletype', 'gearbox', 'postalcode', 'model', 'brand', 'repaired']\n",
    "num_columns = ['registrationyear', 'power', 'kilometer']\n",
    "\n",
    "# создаём пайплайн для подготовки признаков из списка ohe_columns: заполнение пропусков и OHE-кодирование\n",
    "be_pipe = Pipeline(\n",
    "    [('simpleImputer_be', SimpleImputer(missing_values=np.nan, strategy='most_frequent')),\n",
    "     ('be', BinaryEncoder())\n",
    "    ]\n",
    "    )\n",
    "\n",
    "# создаём общий пайплайн для подготовки данных\n",
    "data_preprocessor= ColumnTransformer(\n",
    "    [('be', be_pipe, be_columns),\n",
    "     ('num', StandardScaler(), num_columns)\n",
    "    ], \n",
    "    remainder='passthrough'\n",
    ")"
   ]
  },
  {
   "cell_type": "code",
   "execution_count": null,
   "metadata": {
    "scrolled": true
   },
   "outputs": [],
   "source": [
    "# посчитаем количество признаков после предварительной обработки данных\n",
    "max_features = data_preprocessor.fit_transform(X_train).shape[1]\n",
    "display(max_features)\n",
    "\n",
    "# посмотрим названия столбцов после кодирования\n",
    "display(data_preprocessor.get_feature_names_out())\n"
   ]
  },
  {
   "cell_type": "code",
   "execution_count": null,
   "metadata": {},
   "outputs": [],
   "source": [
    "%%time\n",
    "\n",
    "# создаём итоговый пайплайн для простой Линейной регрессии: подготовка данных и модель\n",
    "pipe_final = Pipeline([\n",
    "    ('preprocessor', data_preprocessor),\n",
    "    ('models', LinearRegression())\n",
    "])\n",
    "\n",
    "# задаем \"пустой\" набор гиперпараметров для обучения при стандартных настройках модели\n",
    "param_grid = [\n",
    "\n",
    "    # словарь для модели LinearRegression()\n",
    "    {\n",
    "        'models': [LinearRegression()],\n",
    "        'preprocessor__num': [StandardScaler()]\n",
    "    }\n",
    "]\n",
    "\n",
    "\n",
    "# перебор с помощью GridSearchCV\n",
    "grid_search_0 = GridSearchCV(\n",
    "    pipe_final, \n",
    "    param_grid, \n",
    "    cv=5,\n",
    "    scoring='neg_mean_squared_error',\n",
    "    n_jobs=-1\n",
    ")\n",
    "\n",
    "# обучим модель\n",
    "model_0 = grid_search_0.fit(X_train, y_train)\n",
    "\n",
    "# выгрузим метрику negMSE и преобразуем в RMSE\n",
    "best_score_neg_mse_0 = model_0.best_score_\n",
    "best_score_rmse_0 = round(float(np.sqrt(-best_score_neg_mse_0)),3)"
   ]
  },
  {
   "cell_type": "code",
   "execution_count": null,
   "metadata": {},
   "outputs": [],
   "source": [
    "%%time\n",
    "\n",
    "# создаём итоговый пайплайн для дерева решений: подготовка данных и модель\n",
    "pipe_final_1 = Pipeline([\n",
    "    ('preprocessor', data_preprocessor),\n",
    "    ('models', DecisionTreeRegressor())\n",
    "])\n",
    "\n",
    "# задаем \"пустой\" набор гиперпараметров для обучения при стандартных настройках модели\n",
    "param_grid_1 = [\n",
    "\n",
    "     # словарь для модели DecisionTreeRegressor()\n",
    "    {\n",
    "        'models': [DecisionTreeRegressor(random_state=RANDOM_STATE)],\n",
    "        'preprocessor__num': [StandardScaler()]\n",
    "    }\n",
    "]\n",
    "\n",
    "\n",
    "# перебор с помощью GridSearchCV\n",
    "grid_search_1 = GridSearchCV(\n",
    "    pipe_final_1, \n",
    "    param_grid_1, \n",
    "    cv=5,\n",
    "    scoring='neg_mean_squared_error',\n",
    "    n_jobs=-1\n",
    ")\n",
    "\n",
    "# обучим модель\n",
    "model_1 = grid_search_1.fit(X_train, y_train)\n",
    "\n",
    "# выгрузим метрику negMSE и преобразуем в RMSE\n",
    "best_score_neg_mse_1 = model_1.best_score_\n",
    "best_score_rmse_1 = round(float(np.sqrt(-best_score_neg_mse_1)),3)"
   ]
  },
  {
   "cell_type": "code",
   "execution_count": null,
   "metadata": {},
   "outputs": [],
   "source": [
    "%%time\n",
    "\n",
    "# создаём итоговый пайплайн для LGBM: подготовка данных и модель\n",
    "pipe_final_2 = Pipeline([\n",
    "    ('preprocessor', data_preprocessor),\n",
    "    ('models', LGBMRegressor(random_state=RANDOM_STATE,verbosity=-1))\n",
    "])\n",
    "\n",
    "# задаем \"пустой\" набор гиперпараметров для обучения при стандартных настройках модели\n",
    "param_grid_2 = [\n",
    "\n",
    "     # словарь для модели LGBMRegressor()\n",
    "    {\n",
    "        'preprocessor__num': [StandardScaler()]\n",
    "    }\n",
    "]\n",
    "\n",
    "# перебор с помощью GridSearchCV\n",
    "grid_search_2 = GridSearchCV(\n",
    "    pipe_final_2, \n",
    "    param_grid_2, \n",
    "    cv=5,\n",
    "    scoring='neg_mean_squared_error',\n",
    "    n_jobs=-1\n",
    ")\n",
    "\n",
    "# обучим модель\n",
    "model_2 = grid_search_2.fit(X_train, y_train)\n",
    "\n",
    "# выгрузим метрику negMSE и преобразуем в RMSE\n",
    "best_score_neg_mse_2 = model_2.best_score_\n",
    "best_score_rmse_2 = round(float(np.sqrt(-best_score_neg_mse_2)),3)"
   ]
  },
  {
   "cell_type": "code",
   "execution_count": null,
   "metadata": {},
   "outputs": [],
   "source": [
    "%%time\n",
    "\n",
    "# итоговый пайплайн для CatBoost не формируем: \n",
    "# подготовка данных не требуется - подаем исходные наборы X_train, y_train и модель одна\n",
    "\n",
    "estimator = CatBoostRegressor(silent=True)\n",
    "cat_features = ['vehicletype', 'gearbox', 'model', 'brand', 'repaired','postalcode']\n",
    "\n",
    "# задаем пока \"пустой\" набор гиперпараметров\n",
    "param_grid_3 = [\n",
    "\n",
    "     # словарь для модели CatBoostRegressor()\n",
    "    {\n",
    "        'iterations': [100] #по дефолту 1000 деревьев, скорректировал на 100 как у LGBM\n",
    "    }\n",
    "]\n",
    "\n",
    "# перебор гиперпараметров с помощью GridSearchCV\n",
    "grid_search_3 = GridSearchCV(\n",
    "    estimator, \n",
    "    param_grid_3, \n",
    "    cv=5,\n",
    "    scoring='neg_mean_squared_error',\n",
    "    n_jobs=-1\n",
    ")\n",
    "\n",
    "# обучим модель\n",
    "model_3 = grid_search_3.fit(X_train, y_train,cat_features=cat_features)\n",
    "\n",
    "# выгрузим метрику negMSE и преобразуем в RMSE\n",
    "best_score_neg_mse_3 = model_3.best_score_\n",
    "best_score_rmse_3 = round(float(np.sqrt(-best_score_neg_mse_3)),3)"
   ]
  },
  {
   "cell_type": "markdown",
   "metadata": {},
   "source": [
    "<a id='Анализ-моделей'></a> \n",
    "## Анализ моделей\n",
    "[К содержанию](#К-содержанию) "
   ]
  },
  {
   "cell_type": "markdown",
   "metadata": {},
   "source": [
    "Простые модели LinearRegression и DecisionTreeRegression при стандартных параметрах показали более слабые результаты по метрике RMSE, 3258 и 3093 соответственно, линейная регрессия не выполнила требований относительно целевого ориентира в 2500 евро, а решающее дерево превзошло его незначительно:\n"
   ]
  },
  {
   "cell_type": "code",
   "execution_count": null,
   "metadata": {},
   "outputs": [],
   "source": [
    "print(f'Метрика RMSE модели линейной регрессии с учетом кросс-валидации: {best_score_rmse_0}')\n",
    "print(f'Время обучения модели линейной регрессии: {grid_search_0.cv_results_[\"mean_fit_time\"][0]} с.')\n",
    "print(f'Время предсказания модели линейной регрессии: {grid_search_0.cv_results_[\"mean_score_time\"][0]} с.')"
   ]
  },
  {
   "cell_type": "code",
   "execution_count": null,
   "metadata": {},
   "outputs": [],
   "source": [
    "print(f'Метрика RMSE модели решающего дерева с учетом кросс-валидации: {best_score_rmse_1}')\n",
    "print(f'Время обучения модели решающего дерева: {grid_search_1.cv_results_[\"mean_fit_time\"][0]} с.')\n",
    "print(f'Время предсказания модели решающего дерева: {grid_search_1.cv_results_[\"mean_score_time\"][0]} с.')"
   ]
  },
  {
   "cell_type": "markdown",
   "metadata": {},
   "source": [
    "Ансамбли решающих деревьев LightGBM и CatBoost показали значительно более сильные результаты 1762 и 1707 соответственно:\n"
   ]
  },
  {
   "cell_type": "code",
   "execution_count": null,
   "metadata": {},
   "outputs": [],
   "source": [
    "print(f'Метрика RMSE модели LightGBM с учетом кросс-валидации: {best_score_rmse_2}')\n",
    "print(f'Время обучения модели LightGBM: {grid_search_2.cv_results_[\"mean_fit_time\"][0]} с.')\n",
    "print(f'Время предсказания модели LightGBM: {grid_search_2.cv_results_[\"mean_score_time\"][0]} с.')"
   ]
  },
  {
   "cell_type": "code",
   "execution_count": null,
   "metadata": {},
   "outputs": [],
   "source": [
    "print(f'Метрика RMSE модели CatBoost с учетом кросс-валидации: {best_score_rmse_3}')\n",
    "print(f'Время обучения модели CatBoost: {grid_search_3.cv_results_[\"mean_fit_time\"][0]} с.')\n",
    "print(f'Время предсказания модели CastBoost: {grid_search_3.cv_results_[\"mean_score_time\"][0]} с.')"
   ]
  },
  {
   "cell_type": "markdown",
   "metadata": {},
   "source": [
    "По целевой метрике RMSE лучший результат у ансабля CatBoost (1707 евро), при этом по времени обучения Catboost (8.8 секунд) уступил более простым моделям линейной регрессии (6 секунд) и решающего дерева(7.6 секунд), а по времени прогнозирования также обошел все прочие модели с результатом 0.1 секунда. \n",
    "\n",
    "Учитываая значительное преимущество по целевой метрике качества и скорости прогнозирования, для дальнейшего тестирования оставим именно CatBoost. Для указанной модели проверим несколько гиперпараметров и лучший вариант проверим на тестовом наборе данных."
   ]
  },
  {
   "cell_type": "code",
   "execution_count": null,
   "metadata": {},
   "outputs": [],
   "source": [
    "%%time\n",
    "\n",
    "# итоговый пайплайн для CatBoost не формируем: \n",
    "# подготовка данных не требуется - подаем исходные наборы X_train, y_train и модель одна\n",
    "\n",
    "estimator = CatBoostRegressor(silent=True)\n",
    "cat_features = ['vehicletype', 'gearbox', 'model', 'brand', 'repaired','postalcode']\n",
    "\n",
    "# задаем пока \"пустой\" набор гиперпараметров\n",
    "param_grid_4 = [\n",
    "\n",
    "     # словарь для модели CatBoostRegressor()\n",
    "    {\n",
    "        'depth': [6,10],\n",
    "        'iterations': [50, 100]\n",
    "    }\n",
    "]\n",
    "\n",
    "# перебор гиперпараметров с помощью GridSearchCV\n",
    "grid_search_4 = GridSearchCV(\n",
    "    estimator, \n",
    "    param_grid_4, \n",
    "    cv=5,\n",
    "    scoring='neg_mean_squared_error',\n",
    "    verbose=False,\n",
    "    n_jobs=-1\n",
    ")\n",
    "\n",
    "# обучим модель\n",
    "model_4 = grid_search_4.fit(X_train, y_train,cat_features=cat_features)\n",
    "\n",
    "# выгрузим метрику negMSE и преобразуем в RMSE\n",
    "best_score_neg_mse_4 = model_4.best_score_\n",
    "best_score_rmse_4 = round(float(np.sqrt(-best_score_neg_mse_4)),3)"
   ]
  },
  {
   "cell_type": "code",
   "execution_count": null,
   "metadata": {},
   "outputs": [],
   "source": [
    "print(f'Метрика RMSE модели CatBoost с учетом кросс-валидации: {best_score_rmse_4}')\n",
    "print(f'Время обучения модели CatBoost: {grid_search_4.cv_results_[\"mean_fit_time\"].mean()} с.')\n",
    "print(f'Время предсказания модели CastBoost: {grid_search_4.cv_results_[\"mean_score_time\"].mean()} с.')\n",
    "print(f'Лучшие параметры модели CastBoost: {grid_search_4.best_params_}')"
   ]
  },
  {
   "cell_type": "code",
   "execution_count": null,
   "metadata": {},
   "outputs": [],
   "source": [
    "# проверим работу модели на тестовой выборке\n",
    "y_test_pred4 = model_4.predict(X_test)\n",
    "print(f'Метрика RMSE на тестовой выборке: {round(np.sqrt(mean_squared_error(y_test, y_test_pred4)),3)}')"
   ]
  },
  {
   "cell_type": "code",
   "execution_count": null,
   "metadata": {},
   "outputs": [],
   "source": [
    "# посмотрим на остатки по модели\n",
    "fig, axes = plt.subplots(2,1,figsize=(6, 6))\n",
    "fig.suptitle('Распределение остатков по прогнозам модели CatBoost на тестовой выборке', y=1)\n",
    "\n",
    "ost = y_test - y_test_pred4\n",
    "ax = axes[0]\n",
    "sns.histplot(data=ost, ax=ax)\n",
    "\n",
    "ax = axes[1]\n",
    "sns.scatterplot(x=y_test_pred4, y=y_test - y_test_pred4,ax=ax);\n",
    "\n",
    "plt.tight_layout();\n",
    "plt.show();"
   ]
  },
  {
   "cell_type": "code",
   "execution_count": null,
   "metadata": {},
   "outputs": [],
   "source": [
    "# посмотрим важность признаков\n",
    "feature_importances = grid_search_4.best_estimator_.get_feature_importance()\n",
    "feature_names = X_train.columns\n",
    "\n",
    "# соберем в dataFrame и отсортируем по убыванию\n",
    "feature_importance_df = pd.DataFrame({\n",
    "    'feature': feature_names,\n",
    "    'importance': feature_importances\n",
    "})\n",
    "\n",
    "feature_importance_df = feature_importance_df.sort_values(by='importance', ascending=False)\n",
    "\n",
    "# изуализируйте важность признаков с помощью seaborn\n",
    "plt.figure(figsize=(10, 6))\n",
    "sns.barplot(x='importance', y='feature', data=feature_importance_df)\n",
    "plt.xlabel(\"Важность признаков\")\n",
    "plt.ylabel(\"Признаки\")\n",
    "plt.title(\"Важность признаков в модели CatBoost на тестовой выборке\")\n",
    "plt.show()"
   ]
  },
  {
   "cell_type": "markdown",
   "metadata": {},
   "source": [
    "C лучшими параметрами ('depth': 10, 'iterations': 100) модель CatBoost на тестовой выборке показала результат целевой метрики RMSE 1660 евро, еще улучшив предсказательную способность относительно стандартного набора параметров.\n",
    "\n",
    "Анализ остатков показал, что они распределены скорее приближенно к распределению Стьюдента, без нескольких пиков и выбросов, при этом диаграмма рассеяния остатков показывают наличие явных зависимостей от прогнозных значений, то есть не все закономерности были выявлены на стадии обучения и остатки распределены неслучайным образом, скорее всего это результатат того, что данные были сформированы синтетическим образом. \n",
    "Анализ важности признаков подчеркнул вклад года выпуска авто, мощности двигателя, бренда, типа кузова и модели авто; пробег, тип трансмиссии и место продажи - менее значимы."
   ]
  },
  {
   "cell_type": "markdown",
   "metadata": {},
   "source": [
    "<a id='Общий-вывод'></a> \n",
    "## Общий вывод\n",
    "[К содержанию](#К-содержанию) \n",
    "\n",
    "После импорта данных была проведена **предобработка данных** и заполнены пропуски в признаках 'vehicletype', 'gearbox', 'model', 'fueltype', 'brand','repaired' категориями 'other'.\n",
    "Далее скорректировали опечатки и неявные дубликаты, удалили столбец с фотографиями, поскольку он заполнен только нулями, и столбцы с временными данными по загрузке анкеты и последней активности пользователя, т.к. на цену эти технические параметры не влияют. Также были исключены записи с годом регистрации авто после года подачи заявления - явно ошибочные, при этом год регистрации авто - один из основных параметров прогнозирования цены (в дальнейшем анализ обученных моделей это подтвердил),  после чего удалили порядка 9 тысяч явных дубликатов.  \n",
    "**Исследовательский анализ** с применением графиков гистограмм и \"ящик с усами\" для количественных признаков позволил выявить выбросы в столбце с \\_мощностью\\_ двигателя (менее 15 и более 500 лошадиных сил) общим количеством 40287. Эти аномалии заменили медианными значениями, сгруппировав данные по модели и году выпуска, а на следующих итерациях только по модели или бренду.  \n",
    "По \\_ценам\\_ также выявили аномалии с минимальными ценами на автомибили на уровне 0-100 в количестве 13035, которые аналогично мощности скорректировали на медианные значениями, сгруппировав данные по моделям, годам выпуска и километражу (добавили отдельный признак с категориями по километражу на каждые 15 тыс. километров пробега).  \n",
    "По \\_категориальным признакам\\_ 'vehicletype', 'gearbox', 'fueltype', 'repaired' построили круговые диаграммы, из которых обратии внимание на признак типа топлива - подавляющее большинство моделей 88,8% на бензине, следующая категория 'other', в которкую были включены и неизвестные данные по эту признаку, следующие за этими двумя категориями - газ, гибриды, электробатареи суммарно формируют менее 2% автомобилей, в таком случае полезность признака для обучения модели сомнительна, что в дальнейшем подтвердила и очень низкая корреляция с целевым признаком - признак типа топлива был удален.   \n",
    "При анализе данных по \\_годам выпуска\\_ выявили 266 записей с аномальными значениями (менее 1920 года и более 2019), заменили их на 0, в результате выяснили, что основная масса автомобилей по году выпуска находится в промежутке с 1980 по 2018 годы, остальные годы соответствуют редким и раритетным экземплярам.  \n",
    "При анализе распределения по \\_месяцам регистрации\\_ автомобилей выявлена значительная часть автомобилей с неуказанным месяцем регистрации (0 на графике), остальные автомобили распределены равномерно по всем месяцам, и учитывая, что месяц первичной регистрации авто мало влияет на цену (в отличие от года), а также выявленнную в дальнейшем низкую корреляцию признака с целевым - данный признак также было принято исключить из обучающего датасета.  \n",
    "Частотный анализ по \\_моделям\\_ и \\_брендам\\_ показал только самую крупную группу моделей 'other', включающую отсутствующие данные, остальные данные по указаным признакам распределены убывающим порядком от наиболее известных и популярных в продаже брендов(VW, Opel, BMW, MB, Audi, Ford) и их моделей (golf, 3er, corsa, astra, passat, a4, c-klasse, e-klasse).  \n",
    "Анализ \\_дат размещения объявлений\\_ показал, что подавляющая масса объявлений была опубликована в течение марта и апреля 2016 года, то есть данные выгружены за месяц с начала марта по начало апреля - в таком случае влияние даты размещения объявления на цену минимально, т.к. рынок более инерционен и дата объявления может быть информативна на более длительных промежутках (от квартала и более), корреляции данного признака с целевым околонулевая - поэтому данный признак далее также исключили.  \n",
    "Количество локаций по \\_почтовым кодам\\_ объявлений составляет 8143 и распределение равномерно убывающее, корреляция данного признака также была выявлена как околонулевая - признак был исключен.\n",
    "\n",
    "**Корреляция** целевого признака с количественными признаками есть на уровне коэффициента Спирмена -0.33 с километражом пробега и 0.51 с мощностью двигателя. Проверка корреляции между всеми признаками по методу Phi_K показала связи с целевым признаком большинства входных признаков, кроме даты создания объявления и очень низким уровнем корреляции с признаками типа топлива, месяца регистрации авто. Ранее сформированный синтетический признак километража по группам показал ту же связь, что и основной признак километража, более того они абсолютно коррелированы, поэтому от него также избавились для повышения качества обучения моделей.\n",
    "Также выявили крайне высокую корреляцию между входными признаками бренда, модели и типа авто, что логично, т.к. конкретные типы авто и моделей соответствуют конкретным брендам, линейки авто у брендов не пересекаются. Учитывая значительный пул значений 'other' по признаку моделей и типу авто, это будет усложнять обучение модели, и тут наличие бренда скорее сыграет положительную роль - поэтому исключать какие-либо из этих признаков не стали.\n",
    "\n",
    "При **обучении моделей** подготовили простые модели линейной регресии(со стандартными параметрами), и решающего дерева (также со стандартными параметрами), а также ансамбли решающих деревьев LightGBM и CatBoost. \n",
    "По целевой метрике RMSE лучший результат у ансабля CatBoost (1707 евро), при этом по времени обучения Catboost (8.8 секунд) уступил более простым моделям линейной регрессии (6 секунд) и решающего дерева(7.6 секунд), а по времени прогнозирования также обошел все прочие модели с результатом 0.1 секунда.\n",
    "\n",
    "Учитывая значительное преимущество по целевой метрике качества и скорости прогнозирования, для дальнейших настройки и тестирования оставили именно CatBoost. \n",
    "\n",
    "**C лучшими параметрами ('depth': 10, 'iterations': 100) модель CatBoost на тестовой выборке показала результат целевой метрики RMSE 1660 евро, еще улучшив предсказательную способность относительно стандартного набора параметров.**\n",
    "\n",
    "Анализ остатков показал, что они распределены скорее приближенно к распределению Стьюдента, без нескольких пиков и выбросов, при этом диаграмма рассеяния остатков показывают наличие явных зависимостей от прогнозных значений, то есть не все закономерности были выявлены на стадии обучения и остатки распределены неслучайным образом, скорее всего это результатат того, что данные были сформированы синтетическим образом. Анализ **важности признаков** подчеркнул вклад года выпуска авто, мощности двигателя, бренда, типа кузова и модели авто; пробег, тип трансмиссии и место продажи - менее значимы."
   ]
  },
  {
   "cell_type": "markdown",
   "metadata": {},
   "source": [
    "<a id='Чек-лист-проверки'></a> \n",
    "## Чек-лист проверки\n",
    "[К содержанию](#К-содержанию) "
   ]
  },
  {
   "cell_type": "markdown",
   "metadata": {},
   "source": [
    "Поставьте 'x' в выполненных пунктах. Далее нажмите Shift+Enter."
   ]
  },
  {
   "cell_type": "markdown",
   "metadata": {},
   "source": [
    "- [x]  Jupyter Notebook открыт\n",
    "- [ ]  Весь код выполняется без ошибок\n",
    "- [ ]  Ячейки с кодом расположены в порядке исполнения\n",
    "- [ ]  Выполнена загрузка и подготовка данных\n",
    "- [ ]  Выполнено обучение моделей\n",
    "- [ ]  Есть анализ скорости работы и качества моделей"
   ]
  },
  {
   "cell_type": "code",
   "execution_count": null,
   "metadata": {},
   "outputs": [],
   "source": []
  }
 ],
 "metadata": {
  "ExecuteTimeLog": [
   {
    "duration": 10746,
    "start_time": "2024-08-07T02:16:11.793Z"
   },
   {
    "duration": 234,
    "start_time": "2024-08-07T02:16:22.542Z"
   },
   {
    "duration": 0,
    "start_time": "2024-08-07T02:16:22.778Z"
   },
   {
    "duration": 0,
    "start_time": "2024-08-07T02:16:22.779Z"
   },
   {
    "duration": 0,
    "start_time": "2024-08-07T02:16:22.780Z"
   },
   {
    "duration": 0,
    "start_time": "2024-08-07T02:16:22.781Z"
   },
   {
    "duration": 0,
    "start_time": "2024-08-07T02:16:22.782Z"
   },
   {
    "duration": 0,
    "start_time": "2024-08-07T02:16:22.801Z"
   },
   {
    "duration": 0,
    "start_time": "2024-08-07T02:16:22.802Z"
   },
   {
    "duration": 0,
    "start_time": "2024-08-07T02:16:22.803Z"
   },
   {
    "duration": 0,
    "start_time": "2024-08-07T02:16:22.804Z"
   },
   {
    "duration": 0,
    "start_time": "2024-08-07T02:16:22.805Z"
   },
   {
    "duration": 0,
    "start_time": "2024-08-07T02:16:22.805Z"
   },
   {
    "duration": 0,
    "start_time": "2024-08-07T02:16:22.806Z"
   },
   {
    "duration": 0,
    "start_time": "2024-08-07T02:16:22.807Z"
   },
   {
    "duration": 0,
    "start_time": "2024-08-07T02:16:22.807Z"
   },
   {
    "duration": 0,
    "start_time": "2024-08-07T02:16:22.808Z"
   },
   {
    "duration": 0,
    "start_time": "2024-08-07T02:16:22.809Z"
   },
   {
    "duration": 0,
    "start_time": "2024-08-07T02:16:22.811Z"
   },
   {
    "duration": 0,
    "start_time": "2024-08-07T02:16:22.811Z"
   },
   {
    "duration": 0,
    "start_time": "2024-08-07T02:16:22.812Z"
   },
   {
    "duration": 0,
    "start_time": "2024-08-07T02:16:22.813Z"
   },
   {
    "duration": 0,
    "start_time": "2024-08-07T02:16:22.813Z"
   },
   {
    "duration": 0,
    "start_time": "2024-08-07T02:16:22.814Z"
   },
   {
    "duration": 0,
    "start_time": "2024-08-07T02:16:22.815Z"
   },
   {
    "duration": 0,
    "start_time": "2024-08-07T02:16:22.816Z"
   },
   {
    "duration": 0,
    "start_time": "2024-08-07T02:16:22.817Z"
   },
   {
    "duration": 0,
    "start_time": "2024-08-07T02:16:22.818Z"
   },
   {
    "duration": 0,
    "start_time": "2024-08-07T02:16:22.818Z"
   },
   {
    "duration": 0,
    "start_time": "2024-08-07T02:16:22.819Z"
   },
   {
    "duration": 0,
    "start_time": "2024-08-07T02:16:22.820Z"
   },
   {
    "duration": 0,
    "start_time": "2024-08-07T02:16:22.821Z"
   },
   {
    "duration": 0,
    "start_time": "2024-08-07T02:16:22.822Z"
   },
   {
    "duration": 0,
    "start_time": "2024-08-07T02:16:22.823Z"
   },
   {
    "duration": 0,
    "start_time": "2024-08-07T02:16:22.824Z"
   },
   {
    "duration": 0,
    "start_time": "2024-08-07T02:16:22.825Z"
   },
   {
    "duration": 0,
    "start_time": "2024-08-07T02:16:22.826Z"
   },
   {
    "duration": 0,
    "start_time": "2024-08-07T02:16:22.827Z"
   },
   {
    "duration": 0,
    "start_time": "2024-08-07T02:16:22.828Z"
   },
   {
    "duration": 0,
    "start_time": "2024-08-07T02:16:22.829Z"
   },
   {
    "duration": 0,
    "start_time": "2024-08-07T02:16:22.830Z"
   },
   {
    "duration": 0,
    "start_time": "2024-08-07T02:16:22.830Z"
   },
   {
    "duration": 0,
    "start_time": "2024-08-07T02:16:22.831Z"
   },
   {
    "duration": 0,
    "start_time": "2024-08-07T02:16:22.832Z"
   },
   {
    "duration": 0,
    "start_time": "2024-08-07T02:16:22.833Z"
   },
   {
    "duration": 0,
    "start_time": "2024-08-07T02:16:22.834Z"
   },
   {
    "duration": 0,
    "start_time": "2024-08-07T02:16:22.835Z"
   },
   {
    "duration": 0,
    "start_time": "2024-08-07T02:16:22.835Z"
   },
   {
    "duration": 0,
    "start_time": "2024-08-07T02:16:22.836Z"
   },
   {
    "duration": 0,
    "start_time": "2024-08-07T02:16:22.837Z"
   },
   {
    "duration": 0,
    "start_time": "2024-08-07T02:16:22.902Z"
   },
   {
    "duration": 0,
    "start_time": "2024-08-07T02:16:22.903Z"
   },
   {
    "duration": 0,
    "start_time": "2024-08-07T02:16:22.903Z"
   },
   {
    "duration": 0,
    "start_time": "2024-08-07T02:16:22.904Z"
   },
   {
    "duration": 0,
    "start_time": "2024-08-07T02:16:22.905Z"
   },
   {
    "duration": 0,
    "start_time": "2024-08-07T02:16:22.906Z"
   },
   {
    "duration": 0,
    "start_time": "2024-08-07T02:16:22.907Z"
   },
   {
    "duration": 1,
    "start_time": "2024-08-07T02:16:22.907Z"
   },
   {
    "duration": 13803,
    "start_time": "2024-08-07T02:16:52.891Z"
   },
   {
    "duration": 2071,
    "start_time": "2024-08-07T02:17:06.696Z"
   },
   {
    "duration": 58,
    "start_time": "2024-08-07T02:17:08.769Z"
   },
   {
    "duration": 8,
    "start_time": "2024-08-07T02:17:08.829Z"
   },
   {
    "duration": 2771,
    "start_time": "2024-08-07T02:17:08.838Z"
   },
   {
    "duration": 119,
    "start_time": "2024-08-07T02:17:11.610Z"
   },
   {
    "duration": 1443,
    "start_time": "2024-08-07T02:17:11.731Z"
   },
   {
    "duration": 408,
    "start_time": "2024-08-07T02:17:13.176Z"
   },
   {
    "duration": 156,
    "start_time": "2024-08-07T02:17:13.586Z"
   },
   {
    "duration": 296,
    "start_time": "2024-08-07T02:17:13.745Z"
   },
   {
    "duration": 59,
    "start_time": "2024-08-07T02:17:14.042Z"
   },
   {
    "duration": 48,
    "start_time": "2024-08-07T02:17:14.103Z"
   },
   {
    "duration": 65,
    "start_time": "2024-08-07T02:17:14.153Z"
   },
   {
    "duration": 374,
    "start_time": "2024-08-07T02:17:14.219Z"
   },
   {
    "duration": 1130,
    "start_time": "2024-08-07T02:17:14.594Z"
   },
   {
    "duration": 15,
    "start_time": "2024-08-07T02:17:15.725Z"
   },
   {
    "duration": 789,
    "start_time": "2024-08-07T02:17:15.741Z"
   },
   {
    "duration": 192,
    "start_time": "2024-08-07T02:17:16.532Z"
   },
   {
    "duration": 501,
    "start_time": "2024-08-07T02:17:16.725Z"
   },
   {
    "duration": 14,
    "start_time": "2024-08-07T02:17:17.227Z"
   },
   {
    "duration": 67,
    "start_time": "2024-08-07T02:17:17.243Z"
   },
   {
    "duration": 238,
    "start_time": "2024-08-07T02:17:17.312Z"
   },
   {
    "duration": 124,
    "start_time": "2024-08-07T02:17:17.552Z"
   },
   {
    "duration": 381,
    "start_time": "2024-08-07T02:17:17.677Z"
   },
   {
    "duration": 5,
    "start_time": "2024-08-07T02:17:18.059Z"
   },
   {
    "duration": 249,
    "start_time": "2024-08-07T02:17:18.065Z"
   },
   {
    "duration": 6,
    "start_time": "2024-08-07T02:17:18.315Z"
   },
   {
    "duration": 195,
    "start_time": "2024-08-07T02:17:18.325Z"
   },
   {
    "duration": 6,
    "start_time": "2024-08-07T02:17:18.521Z"
   },
   {
    "duration": 990,
    "start_time": "2024-08-07T02:17:18.528Z"
   },
   {
    "duration": 701,
    "start_time": "2024-08-07T02:17:19.519Z"
   },
   {
    "duration": 117,
    "start_time": "2024-08-07T02:17:20.222Z"
   },
   {
    "duration": 991,
    "start_time": "2024-08-07T02:17:20.340Z"
   },
   {
    "duration": 1184,
    "start_time": "2024-08-07T02:17:21.333Z"
   },
   {
    "duration": 152,
    "start_time": "2024-08-07T02:17:22.519Z"
   },
   {
    "duration": 495,
    "start_time": "2024-08-07T02:17:22.672Z"
   },
   {
    "duration": 1417,
    "start_time": "2024-08-07T02:17:23.168Z"
   },
   {
    "duration": 1095,
    "start_time": "2024-08-07T02:17:24.587Z"
   },
   {
    "duration": 124,
    "start_time": "2024-08-07T02:17:25.683Z"
   },
   {
    "duration": 480,
    "start_time": "2024-08-07T02:17:25.809Z"
   },
   {
    "duration": 10460,
    "start_time": "2024-08-07T02:17:26.290Z"
   },
   {
    "duration": 51,
    "start_time": "2024-08-07T02:17:36.751Z"
   },
   {
    "duration": 61,
    "start_time": "2024-08-07T02:17:36.803Z"
   },
   {
    "duration": 2,
    "start_time": "2024-08-07T02:17:36.866Z"
   },
   {
    "duration": 511,
    "start_time": "2024-08-07T02:17:36.869Z"
   },
   {
    "duration": 129,
    "start_time": "2024-08-07T02:17:37.381Z"
   },
   {
    "duration": 0,
    "start_time": "2024-08-07T02:17:37.511Z"
   },
   {
    "duration": 0,
    "start_time": "2024-08-07T02:17:37.512Z"
   },
   {
    "duration": 0,
    "start_time": "2024-08-07T02:17:37.513Z"
   },
   {
    "duration": 0,
    "start_time": "2024-08-07T02:17:37.514Z"
   },
   {
    "duration": 0,
    "start_time": "2024-08-07T02:17:37.515Z"
   },
   {
    "duration": 0,
    "start_time": "2024-08-07T02:17:37.516Z"
   },
   {
    "duration": 0,
    "start_time": "2024-08-07T02:17:37.517Z"
   },
   {
    "duration": 0,
    "start_time": "2024-08-07T02:17:37.517Z"
   },
   {
    "duration": 0,
    "start_time": "2024-08-07T02:17:37.519Z"
   },
   {
    "duration": 0,
    "start_time": "2024-08-07T02:17:37.519Z"
   },
   {
    "duration": 0,
    "start_time": "2024-08-07T02:17:37.520Z"
   },
   {
    "duration": 0,
    "start_time": "2024-08-07T02:17:37.521Z"
   },
   {
    "duration": 11,
    "start_time": "2024-08-07T02:20:51.623Z"
   },
   {
    "duration": 4,
    "start_time": "2024-08-07T02:25:11.132Z"
   },
   {
    "duration": 534,
    "start_time": "2024-08-07T02:25:29.829Z"
   },
   {
    "duration": 515,
    "start_time": "2024-08-07T02:26:39.755Z"
   },
   {
    "duration": 4,
    "start_time": "2024-08-07T02:29:18.332Z"
   },
   {
    "duration": 2157,
    "start_time": "2024-08-07T02:29:22.593Z"
   },
   {
    "duration": 2092,
    "start_time": "2024-08-07T02:29:38.724Z"
   },
   {
    "duration": 2127,
    "start_time": "2024-08-07T02:29:52.643Z"
   },
   {
    "duration": 13928,
    "start_time": "2024-08-07T02:31:27.589Z"
   },
   {
    "duration": 1722,
    "start_time": "2024-08-07T02:31:41.519Z"
   },
   {
    "duration": 65,
    "start_time": "2024-08-07T02:31:43.242Z"
   },
   {
    "duration": 8,
    "start_time": "2024-08-07T02:31:43.312Z"
   },
   {
    "duration": 728,
    "start_time": "2024-08-07T02:31:43.321Z"
   },
   {
    "duration": 121,
    "start_time": "2024-08-07T02:31:44.050Z"
   },
   {
    "duration": 1434,
    "start_time": "2024-08-07T02:31:44.172Z"
   },
   {
    "duration": 395,
    "start_time": "2024-08-07T02:31:45.607Z"
   },
   {
    "duration": 152,
    "start_time": "2024-08-07T02:31:46.004Z"
   },
   {
    "duration": 298,
    "start_time": "2024-08-07T02:31:46.158Z"
   },
   {
    "duration": 70,
    "start_time": "2024-08-07T02:31:46.458Z"
   },
   {
    "duration": 53,
    "start_time": "2024-08-07T02:31:46.530Z"
   },
   {
    "duration": 153,
    "start_time": "2024-08-07T02:31:46.585Z"
   },
   {
    "duration": 372,
    "start_time": "2024-08-07T02:31:46.740Z"
   },
   {
    "duration": 1000,
    "start_time": "2024-08-07T02:31:47.113Z"
   },
   {
    "duration": 15,
    "start_time": "2024-08-07T02:31:48.114Z"
   },
   {
    "duration": 728,
    "start_time": "2024-08-07T02:31:48.130Z"
   },
   {
    "duration": 169,
    "start_time": "2024-08-07T02:31:48.859Z"
   },
   {
    "duration": 551,
    "start_time": "2024-08-07T02:31:49.030Z"
   },
   {
    "duration": 19,
    "start_time": "2024-08-07T02:31:49.583Z"
   },
   {
    "duration": 53,
    "start_time": "2024-08-07T02:31:49.603Z"
   },
   {
    "duration": 266,
    "start_time": "2024-08-07T02:31:49.657Z"
   },
   {
    "duration": 114,
    "start_time": "2024-08-07T02:31:49.924Z"
   },
   {
    "duration": 405,
    "start_time": "2024-08-07T02:31:50.039Z"
   },
   {
    "duration": 5,
    "start_time": "2024-08-07T02:31:50.445Z"
   },
   {
    "duration": 224,
    "start_time": "2024-08-07T02:31:50.451Z"
   },
   {
    "duration": 4,
    "start_time": "2024-08-07T02:31:50.676Z"
   },
   {
    "duration": 196,
    "start_time": "2024-08-07T02:31:50.683Z"
   },
   {
    "duration": 5,
    "start_time": "2024-08-07T02:31:50.880Z"
   },
   {
    "duration": 1053,
    "start_time": "2024-08-07T02:31:50.886Z"
   },
   {
    "duration": 712,
    "start_time": "2024-08-07T02:31:51.940Z"
   },
   {
    "duration": 115,
    "start_time": "2024-08-07T02:31:52.653Z"
   },
   {
    "duration": 1010,
    "start_time": "2024-08-07T02:31:52.769Z"
   },
   {
    "duration": 1136,
    "start_time": "2024-08-07T02:31:53.781Z"
   },
   {
    "duration": 142,
    "start_time": "2024-08-07T02:31:54.918Z"
   },
   {
    "duration": 433,
    "start_time": "2024-08-07T02:31:55.061Z"
   },
   {
    "duration": 1529,
    "start_time": "2024-08-07T02:31:55.501Z"
   },
   {
    "duration": 1084,
    "start_time": "2024-08-07T02:31:57.031Z"
   },
   {
    "duration": 121,
    "start_time": "2024-08-07T02:31:58.116Z"
   },
   {
    "duration": 484,
    "start_time": "2024-08-07T02:31:58.238Z"
   },
   {
    "duration": 10296,
    "start_time": "2024-08-07T02:31:58.723Z"
   },
   {
    "duration": 37,
    "start_time": "2024-08-07T02:32:09.020Z"
   },
   {
    "duration": 74,
    "start_time": "2024-08-07T02:32:09.058Z"
   },
   {
    "duration": 46,
    "start_time": "2024-08-07T02:32:09.133Z"
   },
   {
    "duration": 504,
    "start_time": "2024-08-07T02:32:09.180Z"
   },
   {
    "duration": 4,
    "start_time": "2024-08-07T02:32:09.686Z"
   },
   {
    "duration": 2221,
    "start_time": "2024-08-07T02:32:09.701Z"
   },
   {
    "duration": 0,
    "start_time": "2024-08-07T02:32:11.923Z"
   },
   {
    "duration": 0,
    "start_time": "2024-08-07T02:32:11.924Z"
   },
   {
    "duration": 0,
    "start_time": "2024-08-07T02:32:11.925Z"
   },
   {
    "duration": 0,
    "start_time": "2024-08-07T02:32:11.926Z"
   },
   {
    "duration": 0,
    "start_time": "2024-08-07T02:32:11.927Z"
   },
   {
    "duration": 0,
    "start_time": "2024-08-07T02:32:11.929Z"
   },
   {
    "duration": 0,
    "start_time": "2024-08-07T02:32:11.930Z"
   },
   {
    "duration": 0,
    "start_time": "2024-08-07T02:32:11.931Z"
   },
   {
    "duration": 0,
    "start_time": "2024-08-07T02:32:11.932Z"
   },
   {
    "duration": 0,
    "start_time": "2024-08-07T02:32:11.933Z"
   },
   {
    "duration": 0,
    "start_time": "2024-08-07T02:32:11.933Z"
   },
   {
    "duration": 2181,
    "start_time": "2024-08-07T02:32:42.578Z"
   },
   {
    "duration": 18485,
    "start_time": "2024-08-07T02:33:17.168Z"
   },
   {
    "duration": 1462,
    "start_time": "2024-08-07T02:33:35.655Z"
   },
   {
    "duration": 60,
    "start_time": "2024-08-07T02:33:37.118Z"
   },
   {
    "duration": 11,
    "start_time": "2024-08-07T02:33:37.180Z"
   },
   {
    "duration": 695,
    "start_time": "2024-08-07T02:33:37.193Z"
   },
   {
    "duration": 123,
    "start_time": "2024-08-07T02:33:37.889Z"
   },
   {
    "duration": 1388,
    "start_time": "2024-08-07T02:33:38.014Z"
   },
   {
    "duration": 403,
    "start_time": "2024-08-07T02:33:39.404Z"
   },
   {
    "duration": 161,
    "start_time": "2024-08-07T02:33:39.809Z"
   },
   {
    "duration": 302,
    "start_time": "2024-08-07T02:33:39.971Z"
   },
   {
    "duration": 65,
    "start_time": "2024-08-07T02:33:40.275Z"
   },
   {
    "duration": 61,
    "start_time": "2024-08-07T02:33:40.342Z"
   },
   {
    "duration": 53,
    "start_time": "2024-08-07T02:33:40.404Z"
   },
   {
    "duration": 388,
    "start_time": "2024-08-07T02:33:40.460Z"
   },
   {
    "duration": 1064,
    "start_time": "2024-08-07T02:33:40.850Z"
   },
   {
    "duration": 15,
    "start_time": "2024-08-07T02:33:41.916Z"
   },
   {
    "duration": 733,
    "start_time": "2024-08-07T02:33:41.933Z"
   },
   {
    "duration": 163,
    "start_time": "2024-08-07T02:33:42.668Z"
   },
   {
    "duration": 526,
    "start_time": "2024-08-07T02:33:42.833Z"
   },
   {
    "duration": 11,
    "start_time": "2024-08-07T02:33:43.361Z"
   },
   {
    "duration": 60,
    "start_time": "2024-08-07T02:33:43.373Z"
   },
   {
    "duration": 268,
    "start_time": "2024-08-07T02:33:43.435Z"
   },
   {
    "duration": 102,
    "start_time": "2024-08-07T02:33:43.704Z"
   },
   {
    "duration": 402,
    "start_time": "2024-08-07T02:33:43.807Z"
   },
   {
    "duration": 6,
    "start_time": "2024-08-07T02:33:44.210Z"
   },
   {
    "duration": 227,
    "start_time": "2024-08-07T02:33:44.217Z"
   },
   {
    "duration": 5,
    "start_time": "2024-08-07T02:33:44.445Z"
   },
   {
    "duration": 218,
    "start_time": "2024-08-07T02:33:44.451Z"
   },
   {
    "duration": 5,
    "start_time": "2024-08-07T02:33:44.670Z"
   },
   {
    "duration": 1027,
    "start_time": "2024-08-07T02:33:44.677Z"
   },
   {
    "duration": 723,
    "start_time": "2024-08-07T02:33:45.705Z"
   },
   {
    "duration": 108,
    "start_time": "2024-08-07T02:33:46.430Z"
   },
   {
    "duration": 966,
    "start_time": "2024-08-07T02:33:46.540Z"
   },
   {
    "duration": 1142,
    "start_time": "2024-08-07T02:33:47.508Z"
   },
   {
    "duration": 140,
    "start_time": "2024-08-07T02:33:48.651Z"
   },
   {
    "duration": 402,
    "start_time": "2024-08-07T02:33:48.793Z"
   },
   {
    "duration": 1545,
    "start_time": "2024-08-07T02:33:49.197Z"
   },
   {
    "duration": 1097,
    "start_time": "2024-08-07T02:33:50.743Z"
   },
   {
    "duration": 121,
    "start_time": "2024-08-07T02:33:51.841Z"
   },
   {
    "duration": 474,
    "start_time": "2024-08-07T02:33:51.964Z"
   },
   {
    "duration": 10424,
    "start_time": "2024-08-07T02:33:52.442Z"
   },
   {
    "duration": 48,
    "start_time": "2024-08-07T02:34:02.867Z"
   },
   {
    "duration": 60,
    "start_time": "2024-08-07T02:34:02.916Z"
   },
   {
    "duration": 2,
    "start_time": "2024-08-07T02:34:02.977Z"
   },
   {
    "duration": 505,
    "start_time": "2024-08-07T02:34:02.980Z"
   },
   {
    "duration": 133,
    "start_time": "2024-08-07T02:34:03.486Z"
   },
   {
    "duration": 0,
    "start_time": "2024-08-07T02:34:03.620Z"
   },
   {
    "duration": 0,
    "start_time": "2024-08-07T02:34:03.621Z"
   },
   {
    "duration": 0,
    "start_time": "2024-08-07T02:34:03.622Z"
   },
   {
    "duration": 0,
    "start_time": "2024-08-07T02:34:03.623Z"
   },
   {
    "duration": 0,
    "start_time": "2024-08-07T02:34:03.624Z"
   },
   {
    "duration": 0,
    "start_time": "2024-08-07T02:34:03.625Z"
   },
   {
    "duration": 0,
    "start_time": "2024-08-07T02:34:03.625Z"
   },
   {
    "duration": 0,
    "start_time": "2024-08-07T02:34:03.626Z"
   },
   {
    "duration": 0,
    "start_time": "2024-08-07T02:34:03.627Z"
   },
   {
    "duration": 0,
    "start_time": "2024-08-07T02:34:03.628Z"
   },
   {
    "duration": 0,
    "start_time": "2024-08-07T02:34:03.629Z"
   },
   {
    "duration": 0,
    "start_time": "2024-08-07T02:34:03.629Z"
   },
   {
    "duration": 10,
    "start_time": "2024-08-07T02:34:45.085Z"
   },
   {
    "duration": 3,
    "start_time": "2024-08-07T02:36:41.408Z"
   },
   {
    "duration": 2128,
    "start_time": "2024-08-07T02:36:49.653Z"
   },
   {
    "duration": 15976,
    "start_time": "2024-08-07T02:37:01.786Z"
   },
   {
    "duration": 1476,
    "start_time": "2024-08-07T02:37:17.764Z"
   },
   {
    "duration": 65,
    "start_time": "2024-08-07T02:37:19.242Z"
   },
   {
    "duration": 7,
    "start_time": "2024-08-07T02:37:19.309Z"
   },
   {
    "duration": 707,
    "start_time": "2024-08-07T02:37:19.318Z"
   },
   {
    "duration": 126,
    "start_time": "2024-08-07T02:37:20.026Z"
   },
   {
    "duration": 1375,
    "start_time": "2024-08-07T02:37:20.154Z"
   },
   {
    "duration": 395,
    "start_time": "2024-08-07T02:37:21.532Z"
   },
   {
    "duration": 150,
    "start_time": "2024-08-07T02:37:21.929Z"
   },
   {
    "duration": 306,
    "start_time": "2024-08-07T02:37:22.080Z"
   },
   {
    "duration": 79,
    "start_time": "2024-08-07T02:37:22.388Z"
   },
   {
    "duration": 58,
    "start_time": "2024-08-07T02:37:22.468Z"
   },
   {
    "duration": 54,
    "start_time": "2024-08-07T02:37:22.528Z"
   },
   {
    "duration": 394,
    "start_time": "2024-08-07T02:37:22.602Z"
   },
   {
    "duration": 1112,
    "start_time": "2024-08-07T02:37:22.998Z"
   },
   {
    "duration": 19,
    "start_time": "2024-08-07T02:37:24.111Z"
   },
   {
    "duration": 705,
    "start_time": "2024-08-07T02:37:24.132Z"
   },
   {
    "duration": 190,
    "start_time": "2024-08-07T02:37:24.838Z"
   },
   {
    "duration": 629,
    "start_time": "2024-08-07T02:37:25.030Z"
   },
   {
    "duration": 10,
    "start_time": "2024-08-07T02:37:25.660Z"
   },
   {
    "duration": 71,
    "start_time": "2024-08-07T02:37:25.671Z"
   },
   {
    "duration": 282,
    "start_time": "2024-08-07T02:37:25.743Z"
   },
   {
    "duration": 124,
    "start_time": "2024-08-07T02:37:26.026Z"
   },
   {
    "duration": 419,
    "start_time": "2024-08-07T02:37:26.152Z"
   },
   {
    "duration": 5,
    "start_time": "2024-08-07T02:37:26.572Z"
   },
   {
    "duration": 338,
    "start_time": "2024-08-07T02:37:26.578Z"
   },
   {
    "duration": 6,
    "start_time": "2024-08-07T02:37:26.918Z"
   },
   {
    "duration": 217,
    "start_time": "2024-08-07T02:37:26.926Z"
   },
   {
    "duration": 4,
    "start_time": "2024-08-07T02:37:27.144Z"
   },
   {
    "duration": 1061,
    "start_time": "2024-08-07T02:37:27.150Z"
   },
   {
    "duration": 728,
    "start_time": "2024-08-07T02:37:28.212Z"
   },
   {
    "duration": 110,
    "start_time": "2024-08-07T02:37:28.942Z"
   },
   {
    "duration": 1029,
    "start_time": "2024-08-07T02:37:29.053Z"
   },
   {
    "duration": 1168,
    "start_time": "2024-08-07T02:37:30.084Z"
   },
   {
    "duration": 169,
    "start_time": "2024-08-07T02:37:31.254Z"
   },
   {
    "duration": 452,
    "start_time": "2024-08-07T02:37:31.425Z"
   },
   {
    "duration": 1715,
    "start_time": "2024-08-07T02:37:31.879Z"
   },
   {
    "duration": 1141,
    "start_time": "2024-08-07T02:37:33.595Z"
   },
   {
    "duration": 139,
    "start_time": "2024-08-07T02:37:34.738Z"
   },
   {
    "duration": 570,
    "start_time": "2024-08-07T02:37:34.878Z"
   },
   {
    "duration": 10853,
    "start_time": "2024-08-07T02:37:35.453Z"
   },
   {
    "duration": 41,
    "start_time": "2024-08-07T02:37:46.307Z"
   },
   {
    "duration": 78,
    "start_time": "2024-08-07T02:37:46.350Z"
   },
   {
    "duration": 2,
    "start_time": "2024-08-07T02:37:46.430Z"
   },
   {
    "duration": 498,
    "start_time": "2024-08-07T02:37:46.433Z"
   },
   {
    "duration": 3,
    "start_time": "2024-08-07T02:37:46.933Z"
   },
   {
    "duration": 2211,
    "start_time": "2024-08-07T02:37:46.937Z"
   },
   {
    "duration": 386458,
    "start_time": "2024-08-07T02:37:49.149Z"
   },
   {
    "duration": 500,
    "start_time": "2024-08-07T02:44:15.609Z"
   },
   {
    "duration": 569508,
    "start_time": "2024-08-07T02:44:16.111Z"
   },
   {
    "duration": 344,
    "start_time": "2024-08-07T02:53:45.620Z"
   },
   {
    "duration": 1377446,
    "start_time": "2024-08-07T02:53:45.965Z"
   },
   {
    "duration": 1001,
    "start_time": "2024-08-07T03:16:43.502Z"
   },
   {
    "duration": 121535,
    "start_time": "2024-08-07T03:16:44.505Z"
   },
   {
    "duration": 87,
    "start_time": "2024-08-07T03:18:46.041Z"
   },
   {
    "duration": 1006,
    "start_time": "2024-08-07T03:18:46.129Z"
   },
   {
    "duration": 167,
    "start_time": "2024-08-07T03:18:47.137Z"
   },
   {
    "duration": 111140,
    "start_time": "2024-08-07T03:18:47.306Z"
   },
   {
    "duration": 25849,
    "start_time": "2024-08-07T03:23:26.919Z"
   },
   {
    "duration": 111799,
    "start_time": "2024-08-07T03:24:05.488Z"
   },
   {
    "duration": 31899,
    "start_time": "2024-08-07T11:28:36.441Z"
   },
   {
    "duration": 1183,
    "start_time": "2024-08-07T11:29:08.343Z"
   },
   {
    "duration": 0,
    "start_time": "2024-08-07T11:29:09.528Z"
   },
   {
    "duration": 0,
    "start_time": "2024-08-07T11:29:09.530Z"
   },
   {
    "duration": 0,
    "start_time": "2024-08-07T11:29:09.530Z"
   },
   {
    "duration": 0,
    "start_time": "2024-08-07T11:29:09.532Z"
   },
   {
    "duration": 0,
    "start_time": "2024-08-07T11:29:09.537Z"
   },
   {
    "duration": 0,
    "start_time": "2024-08-07T11:29:09.538Z"
   },
   {
    "duration": 0,
    "start_time": "2024-08-07T11:29:09.539Z"
   },
   {
    "duration": 0,
    "start_time": "2024-08-07T11:29:09.540Z"
   },
   {
    "duration": 0,
    "start_time": "2024-08-07T11:29:09.541Z"
   },
   {
    "duration": 0,
    "start_time": "2024-08-07T11:29:09.542Z"
   },
   {
    "duration": 0,
    "start_time": "2024-08-07T11:29:09.544Z"
   },
   {
    "duration": 0,
    "start_time": "2024-08-07T11:29:09.545Z"
   },
   {
    "duration": 0,
    "start_time": "2024-08-07T11:29:09.546Z"
   },
   {
    "duration": 0,
    "start_time": "2024-08-07T11:29:09.547Z"
   },
   {
    "duration": 0,
    "start_time": "2024-08-07T11:29:09.548Z"
   },
   {
    "duration": 0,
    "start_time": "2024-08-07T11:29:09.549Z"
   },
   {
    "duration": 0,
    "start_time": "2024-08-07T11:29:09.550Z"
   },
   {
    "duration": 0,
    "start_time": "2024-08-07T11:29:09.551Z"
   },
   {
    "duration": 0,
    "start_time": "2024-08-07T11:29:09.552Z"
   },
   {
    "duration": 0,
    "start_time": "2024-08-07T11:29:09.553Z"
   },
   {
    "duration": 0,
    "start_time": "2024-08-07T11:29:09.554Z"
   },
   {
    "duration": 0,
    "start_time": "2024-08-07T11:29:09.555Z"
   },
   {
    "duration": 0,
    "start_time": "2024-08-07T11:29:09.557Z"
   },
   {
    "duration": 0,
    "start_time": "2024-08-07T11:29:09.558Z"
   },
   {
    "duration": 0,
    "start_time": "2024-08-07T11:29:09.558Z"
   },
   {
    "duration": 0,
    "start_time": "2024-08-07T11:29:09.559Z"
   },
   {
    "duration": 0,
    "start_time": "2024-08-07T11:29:09.560Z"
   },
   {
    "duration": 0,
    "start_time": "2024-08-07T11:29:09.562Z"
   },
   {
    "duration": 0,
    "start_time": "2024-08-07T11:29:09.563Z"
   },
   {
    "duration": 0,
    "start_time": "2024-08-07T11:29:09.564Z"
   },
   {
    "duration": 0,
    "start_time": "2024-08-07T11:29:09.565Z"
   },
   {
    "duration": 0,
    "start_time": "2024-08-07T11:29:09.566Z"
   },
   {
    "duration": 0,
    "start_time": "2024-08-07T11:29:09.567Z"
   },
   {
    "duration": 0,
    "start_time": "2024-08-07T11:29:09.568Z"
   },
   {
    "duration": 0,
    "start_time": "2024-08-07T11:29:09.569Z"
   },
   {
    "duration": 0,
    "start_time": "2024-08-07T11:29:09.570Z"
   },
   {
    "duration": 0,
    "start_time": "2024-08-07T11:29:09.571Z"
   },
   {
    "duration": 0,
    "start_time": "2024-08-07T11:29:09.572Z"
   },
   {
    "duration": 0,
    "start_time": "2024-08-07T11:29:09.572Z"
   },
   {
    "duration": 0,
    "start_time": "2024-08-07T11:29:09.573Z"
   },
   {
    "duration": 0,
    "start_time": "2024-08-07T11:29:09.637Z"
   },
   {
    "duration": 0,
    "start_time": "2024-08-07T11:29:09.639Z"
   },
   {
    "duration": 0,
    "start_time": "2024-08-07T11:29:09.640Z"
   },
   {
    "duration": 0,
    "start_time": "2024-08-07T11:29:09.641Z"
   },
   {
    "duration": 0,
    "start_time": "2024-08-07T11:29:09.642Z"
   },
   {
    "duration": 0,
    "start_time": "2024-08-07T11:29:09.643Z"
   },
   {
    "duration": 0,
    "start_time": "2024-08-07T11:29:09.644Z"
   },
   {
    "duration": 0,
    "start_time": "2024-08-07T11:29:09.645Z"
   },
   {
    "duration": 0,
    "start_time": "2024-08-07T11:29:09.646Z"
   },
   {
    "duration": 0,
    "start_time": "2024-08-07T11:29:09.647Z"
   },
   {
    "duration": 0,
    "start_time": "2024-08-07T11:29:09.648Z"
   },
   {
    "duration": 0,
    "start_time": "2024-08-07T11:29:09.650Z"
   },
   {
    "duration": 0,
    "start_time": "2024-08-07T11:29:09.651Z"
   },
   {
    "duration": 0,
    "start_time": "2024-08-07T11:29:09.652Z"
   },
   {
    "duration": 0,
    "start_time": "2024-08-07T11:29:09.653Z"
   },
   {
    "duration": 23546,
    "start_time": "2024-08-07T11:29:41.930Z"
   },
   {
    "duration": 1169,
    "start_time": "2024-08-07T11:30:05.479Z"
   },
   {
    "duration": 0,
    "start_time": "2024-08-07T11:30:06.651Z"
   },
   {
    "duration": 0,
    "start_time": "2024-08-07T11:30:06.653Z"
   },
   {
    "duration": 0,
    "start_time": "2024-08-07T11:30:06.654Z"
   },
   {
    "duration": 0,
    "start_time": "2024-08-07T11:30:06.655Z"
   },
   {
    "duration": 0,
    "start_time": "2024-08-07T11:30:06.656Z"
   },
   {
    "duration": 0,
    "start_time": "2024-08-07T11:30:06.657Z"
   },
   {
    "duration": 0,
    "start_time": "2024-08-07T11:30:06.658Z"
   },
   {
    "duration": 0,
    "start_time": "2024-08-07T11:30:06.659Z"
   },
   {
    "duration": 0,
    "start_time": "2024-08-07T11:30:06.660Z"
   },
   {
    "duration": 0,
    "start_time": "2024-08-07T11:30:06.661Z"
   },
   {
    "duration": 0,
    "start_time": "2024-08-07T11:30:06.662Z"
   },
   {
    "duration": 0,
    "start_time": "2024-08-07T11:30:06.663Z"
   },
   {
    "duration": 0,
    "start_time": "2024-08-07T11:30:06.664Z"
   },
   {
    "duration": 0,
    "start_time": "2024-08-07T11:30:06.665Z"
   },
   {
    "duration": 0,
    "start_time": "2024-08-07T11:30:06.666Z"
   },
   {
    "duration": 0,
    "start_time": "2024-08-07T11:30:06.667Z"
   },
   {
    "duration": 0,
    "start_time": "2024-08-07T11:30:06.668Z"
   },
   {
    "duration": 0,
    "start_time": "2024-08-07T11:30:06.669Z"
   },
   {
    "duration": 0,
    "start_time": "2024-08-07T11:30:06.670Z"
   },
   {
    "duration": 0,
    "start_time": "2024-08-07T11:30:06.672Z"
   },
   {
    "duration": 0,
    "start_time": "2024-08-07T11:30:06.673Z"
   },
   {
    "duration": 0,
    "start_time": "2024-08-07T11:30:06.674Z"
   },
   {
    "duration": 0,
    "start_time": "2024-08-07T11:30:06.675Z"
   },
   {
    "duration": 0,
    "start_time": "2024-08-07T11:30:06.676Z"
   },
   {
    "duration": 0,
    "start_time": "2024-08-07T11:30:06.677Z"
   },
   {
    "duration": 0,
    "start_time": "2024-08-07T11:30:06.678Z"
   },
   {
    "duration": 0,
    "start_time": "2024-08-07T11:30:06.679Z"
   },
   {
    "duration": 0,
    "start_time": "2024-08-07T11:30:06.680Z"
   },
   {
    "duration": 0,
    "start_time": "2024-08-07T11:30:06.682Z"
   },
   {
    "duration": 0,
    "start_time": "2024-08-07T11:30:06.683Z"
   },
   {
    "duration": 0,
    "start_time": "2024-08-07T11:30:06.684Z"
   },
   {
    "duration": 0,
    "start_time": "2024-08-07T11:30:06.684Z"
   },
   {
    "duration": 0,
    "start_time": "2024-08-07T11:30:06.685Z"
   },
   {
    "duration": 0,
    "start_time": "2024-08-07T11:30:06.738Z"
   },
   {
    "duration": 0,
    "start_time": "2024-08-07T11:30:06.739Z"
   },
   {
    "duration": 0,
    "start_time": "2024-08-07T11:30:06.740Z"
   },
   {
    "duration": 0,
    "start_time": "2024-08-07T11:30:06.741Z"
   },
   {
    "duration": 0,
    "start_time": "2024-08-07T11:30:06.742Z"
   },
   {
    "duration": 0,
    "start_time": "2024-08-07T11:30:06.743Z"
   },
   {
    "duration": 0,
    "start_time": "2024-08-07T11:30:06.744Z"
   },
   {
    "duration": 0,
    "start_time": "2024-08-07T11:30:06.746Z"
   },
   {
    "duration": 0,
    "start_time": "2024-08-07T11:30:06.747Z"
   },
   {
    "duration": 0,
    "start_time": "2024-08-07T11:30:06.748Z"
   },
   {
    "duration": 0,
    "start_time": "2024-08-07T11:30:06.749Z"
   },
   {
    "duration": 0,
    "start_time": "2024-08-07T11:30:06.750Z"
   },
   {
    "duration": 0,
    "start_time": "2024-08-07T11:30:06.751Z"
   },
   {
    "duration": 0,
    "start_time": "2024-08-07T11:30:06.752Z"
   },
   {
    "duration": 0,
    "start_time": "2024-08-07T11:30:06.753Z"
   },
   {
    "duration": 0,
    "start_time": "2024-08-07T11:30:06.754Z"
   },
   {
    "duration": 0,
    "start_time": "2024-08-07T11:30:06.755Z"
   },
   {
    "duration": 0,
    "start_time": "2024-08-07T11:30:06.756Z"
   },
   {
    "duration": 0,
    "start_time": "2024-08-07T11:30:06.757Z"
   },
   {
    "duration": 0,
    "start_time": "2024-08-07T11:30:06.759Z"
   },
   {
    "duration": 0,
    "start_time": "2024-08-07T11:30:06.760Z"
   },
   {
    "duration": 0,
    "start_time": "2024-08-07T11:30:06.761Z"
   },
   {
    "duration": 13714,
    "start_time": "2024-08-07T11:30:27.632Z"
   },
   {
    "duration": 952,
    "start_time": "2024-08-07T11:30:41.348Z"
   },
   {
    "duration": 752,
    "start_time": "2024-08-07T11:30:42.302Z"
   },
   {
    "duration": 0,
    "start_time": "2024-08-07T11:30:43.058Z"
   },
   {
    "duration": 0,
    "start_time": "2024-08-07T11:30:43.059Z"
   },
   {
    "duration": 0,
    "start_time": "2024-08-07T11:30:43.060Z"
   },
   {
    "duration": 0,
    "start_time": "2024-08-07T11:30:43.061Z"
   },
   {
    "duration": 0,
    "start_time": "2024-08-07T11:30:43.062Z"
   },
   {
    "duration": 0,
    "start_time": "2024-08-07T11:30:43.063Z"
   },
   {
    "duration": 0,
    "start_time": "2024-08-07T11:30:43.065Z"
   },
   {
    "duration": 0,
    "start_time": "2024-08-07T11:30:43.066Z"
   },
   {
    "duration": 0,
    "start_time": "2024-08-07T11:30:43.067Z"
   },
   {
    "duration": 0,
    "start_time": "2024-08-07T11:30:43.069Z"
   },
   {
    "duration": 0,
    "start_time": "2024-08-07T11:30:43.071Z"
   },
   {
    "duration": 0,
    "start_time": "2024-08-07T11:30:43.072Z"
   },
   {
    "duration": 0,
    "start_time": "2024-08-07T11:30:43.074Z"
   },
   {
    "duration": 0,
    "start_time": "2024-08-07T11:30:43.075Z"
   },
   {
    "duration": 0,
    "start_time": "2024-08-07T11:30:43.077Z"
   },
   {
    "duration": 0,
    "start_time": "2024-08-07T11:30:43.079Z"
   },
   {
    "duration": 0,
    "start_time": "2024-08-07T11:30:43.080Z"
   },
   {
    "duration": 0,
    "start_time": "2024-08-07T11:30:43.082Z"
   },
   {
    "duration": 0,
    "start_time": "2024-08-07T11:30:43.083Z"
   },
   {
    "duration": 0,
    "start_time": "2024-08-07T11:30:43.085Z"
   },
   {
    "duration": 0,
    "start_time": "2024-08-07T11:30:43.086Z"
   },
   {
    "duration": 0,
    "start_time": "2024-08-07T11:30:43.137Z"
   },
   {
    "duration": 0,
    "start_time": "2024-08-07T11:30:43.139Z"
   },
   {
    "duration": 0,
    "start_time": "2024-08-07T11:30:43.140Z"
   },
   {
    "duration": 0,
    "start_time": "2024-08-07T11:30:43.142Z"
   },
   {
    "duration": 0,
    "start_time": "2024-08-07T11:30:43.143Z"
   },
   {
    "duration": 0,
    "start_time": "2024-08-07T11:30:43.145Z"
   },
   {
    "duration": 0,
    "start_time": "2024-08-07T11:30:43.147Z"
   },
   {
    "duration": 0,
    "start_time": "2024-08-07T11:30:43.148Z"
   },
   {
    "duration": 0,
    "start_time": "2024-08-07T11:30:43.150Z"
   },
   {
    "duration": 0,
    "start_time": "2024-08-07T11:30:43.151Z"
   },
   {
    "duration": 0,
    "start_time": "2024-08-07T11:30:43.153Z"
   },
   {
    "duration": 0,
    "start_time": "2024-08-07T11:30:43.154Z"
   },
   {
    "duration": 0,
    "start_time": "2024-08-07T11:30:43.156Z"
   },
   {
    "duration": 0,
    "start_time": "2024-08-07T11:30:43.157Z"
   },
   {
    "duration": 0,
    "start_time": "2024-08-07T11:30:43.159Z"
   },
   {
    "duration": 0,
    "start_time": "2024-08-07T11:30:43.161Z"
   },
   {
    "duration": 0,
    "start_time": "2024-08-07T11:30:43.162Z"
   },
   {
    "duration": 0,
    "start_time": "2024-08-07T11:30:43.163Z"
   },
   {
    "duration": 0,
    "start_time": "2024-08-07T11:30:43.165Z"
   },
   {
    "duration": 0,
    "start_time": "2024-08-07T11:30:43.166Z"
   },
   {
    "duration": 0,
    "start_time": "2024-08-07T11:30:43.167Z"
   },
   {
    "duration": 0,
    "start_time": "2024-08-07T11:30:43.169Z"
   },
   {
    "duration": 0,
    "start_time": "2024-08-07T11:30:43.170Z"
   },
   {
    "duration": 0,
    "start_time": "2024-08-07T11:30:43.172Z"
   },
   {
    "duration": 0,
    "start_time": "2024-08-07T11:30:43.173Z"
   },
   {
    "duration": 0,
    "start_time": "2024-08-07T11:30:43.174Z"
   },
   {
    "duration": 0,
    "start_time": "2024-08-07T11:30:43.176Z"
   },
   {
    "duration": 0,
    "start_time": "2024-08-07T11:30:43.177Z"
   },
   {
    "duration": 0,
    "start_time": "2024-08-07T11:30:43.238Z"
   },
   {
    "duration": 0,
    "start_time": "2024-08-07T11:30:43.239Z"
   },
   {
    "duration": 0,
    "start_time": "2024-08-07T11:30:43.240Z"
   },
   {
    "duration": 0,
    "start_time": "2024-08-07T11:30:43.242Z"
   },
   {
    "duration": 0,
    "start_time": "2024-08-07T11:30:43.243Z"
   },
   {
    "duration": 13412,
    "start_time": "2024-08-07T11:31:22.547Z"
   },
   {
    "duration": 875,
    "start_time": "2024-08-07T11:31:35.962Z"
   },
   {
    "duration": 561,
    "start_time": "2024-08-07T11:31:36.838Z"
   },
   {
    "duration": 0,
    "start_time": "2024-08-07T11:31:37.402Z"
   },
   {
    "duration": 0,
    "start_time": "2024-08-07T11:31:37.403Z"
   },
   {
    "duration": 0,
    "start_time": "2024-08-07T11:31:37.405Z"
   },
   {
    "duration": 0,
    "start_time": "2024-08-07T11:31:37.405Z"
   },
   {
    "duration": 0,
    "start_time": "2024-08-07T11:31:37.406Z"
   },
   {
    "duration": 0,
    "start_time": "2024-08-07T11:31:37.408Z"
   },
   {
    "duration": 0,
    "start_time": "2024-08-07T11:31:37.408Z"
   },
   {
    "duration": 0,
    "start_time": "2024-08-07T11:31:37.410Z"
   },
   {
    "duration": 0,
    "start_time": "2024-08-07T11:31:37.410Z"
   },
   {
    "duration": 0,
    "start_time": "2024-08-07T11:31:37.411Z"
   },
   {
    "duration": 0,
    "start_time": "2024-08-07T11:31:37.412Z"
   },
   {
    "duration": 0,
    "start_time": "2024-08-07T11:31:37.413Z"
   },
   {
    "duration": 0,
    "start_time": "2024-08-07T11:31:37.414Z"
   },
   {
    "duration": 0,
    "start_time": "2024-08-07T11:31:37.437Z"
   },
   {
    "duration": 0,
    "start_time": "2024-08-07T11:31:37.439Z"
   },
   {
    "duration": 0,
    "start_time": "2024-08-07T11:31:37.440Z"
   },
   {
    "duration": 0,
    "start_time": "2024-08-07T11:31:37.443Z"
   },
   {
    "duration": 0,
    "start_time": "2024-08-07T11:31:37.444Z"
   },
   {
    "duration": 0,
    "start_time": "2024-08-07T11:31:37.445Z"
   },
   {
    "duration": 0,
    "start_time": "2024-08-07T11:31:37.446Z"
   },
   {
    "duration": 0,
    "start_time": "2024-08-07T11:31:37.448Z"
   },
   {
    "duration": 0,
    "start_time": "2024-08-07T11:31:37.450Z"
   },
   {
    "duration": 0,
    "start_time": "2024-08-07T11:31:37.451Z"
   },
   {
    "duration": 0,
    "start_time": "2024-08-07T11:31:37.452Z"
   },
   {
    "duration": 0,
    "start_time": "2024-08-07T11:31:37.453Z"
   },
   {
    "duration": 0,
    "start_time": "2024-08-07T11:31:37.455Z"
   },
   {
    "duration": 0,
    "start_time": "2024-08-07T11:31:37.456Z"
   },
   {
    "duration": 0,
    "start_time": "2024-08-07T11:31:37.457Z"
   },
   {
    "duration": 0,
    "start_time": "2024-08-07T11:31:37.459Z"
   },
   {
    "duration": 0,
    "start_time": "2024-08-07T11:31:37.461Z"
   },
   {
    "duration": 0,
    "start_time": "2024-08-07T11:31:37.463Z"
   },
   {
    "duration": 0,
    "start_time": "2024-08-07T11:31:37.464Z"
   },
   {
    "duration": 1,
    "start_time": "2024-08-07T11:31:37.465Z"
   },
   {
    "duration": 0,
    "start_time": "2024-08-07T11:31:37.467Z"
   },
   {
    "duration": 0,
    "start_time": "2024-08-07T11:31:37.468Z"
   },
   {
    "duration": 0,
    "start_time": "2024-08-07T11:31:37.470Z"
   },
   {
    "duration": 0,
    "start_time": "2024-08-07T11:31:37.471Z"
   },
   {
    "duration": 0,
    "start_time": "2024-08-07T11:31:37.472Z"
   },
   {
    "duration": 0,
    "start_time": "2024-08-07T11:31:37.473Z"
   },
   {
    "duration": 0,
    "start_time": "2024-08-07T11:31:37.475Z"
   },
   {
    "duration": 0,
    "start_time": "2024-08-07T11:31:37.476Z"
   },
   {
    "duration": 0,
    "start_time": "2024-08-07T11:31:37.477Z"
   },
   {
    "duration": 0,
    "start_time": "2024-08-07T11:31:37.538Z"
   },
   {
    "duration": 0,
    "start_time": "2024-08-07T11:31:37.540Z"
   },
   {
    "duration": 0,
    "start_time": "2024-08-07T11:31:37.541Z"
   },
   {
    "duration": 0,
    "start_time": "2024-08-07T11:31:37.543Z"
   },
   {
    "duration": 0,
    "start_time": "2024-08-07T11:31:37.544Z"
   },
   {
    "duration": 0,
    "start_time": "2024-08-07T11:31:37.546Z"
   },
   {
    "duration": 0,
    "start_time": "2024-08-07T11:31:37.547Z"
   },
   {
    "duration": 1,
    "start_time": "2024-08-07T11:31:37.548Z"
   },
   {
    "duration": 0,
    "start_time": "2024-08-07T11:31:37.550Z"
   },
   {
    "duration": 0,
    "start_time": "2024-08-07T11:31:37.553Z"
   },
   {
    "duration": 0,
    "start_time": "2024-08-07T11:31:37.554Z"
   },
   {
    "duration": 0,
    "start_time": "2024-08-07T11:31:37.555Z"
   },
   {
    "duration": 14,
    "start_time": "2024-08-07T11:31:42.694Z"
   },
   {
    "duration": 12668,
    "start_time": "2024-08-07T11:32:12.845Z"
   },
   {
    "duration": 881,
    "start_time": "2024-08-07T11:32:25.516Z"
   },
   {
    "duration": 629,
    "start_time": "2024-08-07T11:32:26.398Z"
   },
   {
    "duration": 0,
    "start_time": "2024-08-07T11:32:27.039Z"
   },
   {
    "duration": 0,
    "start_time": "2024-08-07T11:32:27.040Z"
   },
   {
    "duration": 0,
    "start_time": "2024-08-07T11:32:27.042Z"
   },
   {
    "duration": 0,
    "start_time": "2024-08-07T11:32:27.043Z"
   },
   {
    "duration": 0,
    "start_time": "2024-08-07T11:32:27.045Z"
   },
   {
    "duration": 0,
    "start_time": "2024-08-07T11:32:27.046Z"
   },
   {
    "duration": 0,
    "start_time": "2024-08-07T11:32:27.047Z"
   },
   {
    "duration": 0,
    "start_time": "2024-08-07T11:32:27.049Z"
   },
   {
    "duration": 0,
    "start_time": "2024-08-07T11:32:27.050Z"
   },
   {
    "duration": 0,
    "start_time": "2024-08-07T11:32:27.052Z"
   },
   {
    "duration": 0,
    "start_time": "2024-08-07T11:32:27.053Z"
   },
   {
    "duration": 0,
    "start_time": "2024-08-07T11:32:27.054Z"
   },
   {
    "duration": 0,
    "start_time": "2024-08-07T11:32:27.056Z"
   },
   {
    "duration": 0,
    "start_time": "2024-08-07T11:32:27.057Z"
   },
   {
    "duration": 0,
    "start_time": "2024-08-07T11:32:27.059Z"
   },
   {
    "duration": 0,
    "start_time": "2024-08-07T11:32:27.061Z"
   },
   {
    "duration": 0,
    "start_time": "2024-08-07T11:32:27.062Z"
   },
   {
    "duration": 0,
    "start_time": "2024-08-07T11:32:27.063Z"
   },
   {
    "duration": 0,
    "start_time": "2024-08-07T11:32:27.064Z"
   },
   {
    "duration": 0,
    "start_time": "2024-08-07T11:32:27.066Z"
   },
   {
    "duration": 0,
    "start_time": "2024-08-07T11:32:27.067Z"
   },
   {
    "duration": 0,
    "start_time": "2024-08-07T11:32:27.069Z"
   },
   {
    "duration": 0,
    "start_time": "2024-08-07T11:32:27.070Z"
   },
   {
    "duration": 0,
    "start_time": "2024-08-07T11:32:27.071Z"
   },
   {
    "duration": 0,
    "start_time": "2024-08-07T11:32:27.073Z"
   },
   {
    "duration": 0,
    "start_time": "2024-08-07T11:32:27.074Z"
   },
   {
    "duration": 0,
    "start_time": "2024-08-07T11:32:27.075Z"
   },
   {
    "duration": 0,
    "start_time": "2024-08-07T11:32:27.077Z"
   },
   {
    "duration": 0,
    "start_time": "2024-08-07T11:32:27.078Z"
   },
   {
    "duration": 0,
    "start_time": "2024-08-07T11:32:27.137Z"
   },
   {
    "duration": 0,
    "start_time": "2024-08-07T11:32:27.139Z"
   },
   {
    "duration": 0,
    "start_time": "2024-08-07T11:32:27.140Z"
   },
   {
    "duration": 0,
    "start_time": "2024-08-07T11:32:27.142Z"
   },
   {
    "duration": 0,
    "start_time": "2024-08-07T11:32:27.143Z"
   },
   {
    "duration": 0,
    "start_time": "2024-08-07T11:32:27.144Z"
   },
   {
    "duration": 0,
    "start_time": "2024-08-07T11:32:27.146Z"
   },
   {
    "duration": 0,
    "start_time": "2024-08-07T11:32:27.147Z"
   },
   {
    "duration": 0,
    "start_time": "2024-08-07T11:32:27.148Z"
   },
   {
    "duration": 0,
    "start_time": "2024-08-07T11:32:27.150Z"
   },
   {
    "duration": 0,
    "start_time": "2024-08-07T11:32:27.151Z"
   },
   {
    "duration": 0,
    "start_time": "2024-08-07T11:32:27.153Z"
   },
   {
    "duration": 0,
    "start_time": "2024-08-07T11:32:27.154Z"
   },
   {
    "duration": 0,
    "start_time": "2024-08-07T11:32:27.156Z"
   },
   {
    "duration": 0,
    "start_time": "2024-08-07T11:32:27.157Z"
   },
   {
    "duration": 0,
    "start_time": "2024-08-07T11:32:27.158Z"
   },
   {
    "duration": 0,
    "start_time": "2024-08-07T11:32:27.159Z"
   },
   {
    "duration": 0,
    "start_time": "2024-08-07T11:32:27.161Z"
   },
   {
    "duration": 0,
    "start_time": "2024-08-07T11:32:27.162Z"
   },
   {
    "duration": 0,
    "start_time": "2024-08-07T11:32:27.164Z"
   },
   {
    "duration": 0,
    "start_time": "2024-08-07T11:32:27.165Z"
   },
   {
    "duration": 0,
    "start_time": "2024-08-07T11:32:27.166Z"
   },
   {
    "duration": 0,
    "start_time": "2024-08-07T11:32:27.167Z"
   },
   {
    "duration": 0,
    "start_time": "2024-08-07T11:32:27.169Z"
   },
   {
    "duration": 0,
    "start_time": "2024-08-07T11:32:27.171Z"
   },
   {
    "duration": 9,
    "start_time": "2024-08-07T11:32:40.447Z"
   },
   {
    "duration": 13615,
    "start_time": "2024-08-07T11:33:05.992Z"
   },
   {
    "duration": 878,
    "start_time": "2024-08-07T11:33:19.610Z"
   },
   {
    "duration": 816,
    "start_time": "2024-08-07T11:33:20.489Z"
   },
   {
    "duration": 9,
    "start_time": "2024-08-07T11:33:21.307Z"
   },
   {
    "duration": 2880,
    "start_time": "2024-08-07T11:33:21.319Z"
   },
   {
    "duration": 259,
    "start_time": "2024-08-07T11:33:24.201Z"
   },
   {
    "duration": 1655,
    "start_time": "2024-08-07T11:33:24.462Z"
   },
   {
    "duration": 424,
    "start_time": "2024-08-07T11:33:26.119Z"
   },
   {
    "duration": 160,
    "start_time": "2024-08-07T11:33:26.545Z"
   },
   {
    "duration": 368,
    "start_time": "2024-08-07T11:33:26.707Z"
   },
   {
    "duration": 84,
    "start_time": "2024-08-07T11:33:27.076Z"
   },
   {
    "duration": 56,
    "start_time": "2024-08-07T11:33:27.162Z"
   },
   {
    "duration": 67,
    "start_time": "2024-08-07T11:33:27.219Z"
   },
   {
    "duration": 455,
    "start_time": "2024-08-07T11:33:27.288Z"
   },
   {
    "duration": 79573,
    "start_time": "2024-08-07T11:33:27.745Z"
   },
   {
    "duration": 35,
    "start_time": "2024-08-07T11:34:47.320Z"
   },
   {
    "duration": 650,
    "start_time": "2024-08-07T11:34:47.357Z"
   },
   {
    "duration": 17053,
    "start_time": "2024-08-07T11:34:48.010Z"
   },
   {
    "duration": 593,
    "start_time": "2024-08-07T11:35:05.065Z"
   },
   {
    "duration": 13,
    "start_time": "2024-08-07T11:35:05.660Z"
   },
   {
    "duration": 63,
    "start_time": "2024-08-07T11:35:05.674Z"
   },
   {
    "duration": 16746,
    "start_time": "2024-08-07T11:35:05.739Z"
   },
   {
    "duration": 135,
    "start_time": "2024-08-07T11:35:22.487Z"
   },
   {
    "duration": 334,
    "start_time": "2024-08-07T11:35:22.624Z"
   },
   {
    "duration": 7,
    "start_time": "2024-08-07T11:35:22.959Z"
   },
   {
    "duration": 248,
    "start_time": "2024-08-07T11:35:22.967Z"
   },
   {
    "duration": 6,
    "start_time": "2024-08-07T11:35:23.216Z"
   },
   {
    "duration": 298,
    "start_time": "2024-08-07T11:35:23.223Z"
   },
   {
    "duration": 6,
    "start_time": "2024-08-07T11:35:23.523Z"
   },
   {
    "duration": 79219,
    "start_time": "2024-08-07T11:35:23.538Z"
   },
   {
    "duration": 832,
    "start_time": "2024-08-07T11:36:42.759Z"
   },
   {
    "duration": 279,
    "start_time": "2024-08-07T11:36:43.593Z"
   },
   {
    "duration": 686,
    "start_time": "2024-08-07T11:36:43.874Z"
   },
   {
    "duration": 915,
    "start_time": "2024-08-07T11:36:44.562Z"
   },
   {
    "duration": 250,
    "start_time": "2024-08-07T11:36:45.479Z"
   },
   {
    "duration": 520,
    "start_time": "2024-08-07T11:36:45.738Z"
   },
   {
    "duration": 1054,
    "start_time": "2024-08-07T11:36:46.260Z"
   },
   {
    "duration": 883,
    "start_time": "2024-08-07T11:36:47.316Z"
   },
   {
    "duration": 299,
    "start_time": "2024-08-07T11:36:48.200Z"
   },
   {
    "duration": 638,
    "start_time": "2024-08-07T11:36:48.501Z"
   },
   {
    "duration": 11317,
    "start_time": "2024-08-07T11:36:49.143Z"
   },
   {
    "duration": 40,
    "start_time": "2024-08-07T11:37:00.462Z"
   },
   {
    "duration": 118,
    "start_time": "2024-08-07T11:37:00.503Z"
   },
   {
    "duration": 64,
    "start_time": "2024-08-07T11:37:00.622Z"
   },
   {
    "duration": 833,
    "start_time": "2024-08-07T11:37:00.688Z"
   },
   {
    "duration": 4,
    "start_time": "2024-08-07T11:37:01.522Z"
   },
   {
    "duration": 2775,
    "start_time": "2024-08-07T11:37:01.538Z"
   },
   {
    "duration": 21728,
    "start_time": "2024-08-07T11:37:04.314Z"
   },
   {
    "duration": 56,
    "start_time": "2024-08-07T11:37:26.044Z"
   },
   {
    "duration": 0,
    "start_time": "2024-08-07T11:37:26.101Z"
   },
   {
    "duration": 0,
    "start_time": "2024-08-07T11:37:26.103Z"
   },
   {
    "duration": 0,
    "start_time": "2024-08-07T11:37:26.104Z"
   },
   {
    "duration": 0,
    "start_time": "2024-08-07T11:37:26.105Z"
   },
   {
    "duration": 0,
    "start_time": "2024-08-07T11:37:26.106Z"
   },
   {
    "duration": 0,
    "start_time": "2024-08-07T11:37:26.107Z"
   },
   {
    "duration": 0,
    "start_time": "2024-08-07T11:37:26.108Z"
   },
   {
    "duration": 0,
    "start_time": "2024-08-07T11:37:26.109Z"
   },
   {
    "duration": 0,
    "start_time": "2024-08-07T11:37:26.110Z"
   },
   {
    "duration": 65,
    "start_time": "2024-08-07T11:37:40.042Z"
   },
   {
    "duration": 6,
    "start_time": "2024-08-07T11:37:59.262Z"
   },
   {
    "duration": 12950,
    "start_time": "2024-08-07T11:38:37.159Z"
   },
   {
    "duration": 4,
    "start_time": "2024-08-07T11:38:50.112Z"
   },
   {
    "duration": 31,
    "start_time": "2024-08-07T11:38:50.118Z"
   },
   {
    "duration": 12,
    "start_time": "2024-08-07T11:38:50.151Z"
   },
   {
    "duration": 868,
    "start_time": "2024-08-07T11:38:50.165Z"
   },
   {
    "duration": 154,
    "start_time": "2024-08-07T11:38:51.034Z"
   },
   {
    "duration": 1737,
    "start_time": "2024-08-07T11:38:51.190Z"
   },
   {
    "duration": 430,
    "start_time": "2024-08-07T11:38:52.929Z"
   },
   {
    "duration": 178,
    "start_time": "2024-08-07T11:38:53.361Z"
   },
   {
    "duration": 398,
    "start_time": "2024-08-07T11:38:53.540Z"
   },
   {
    "duration": 82,
    "start_time": "2024-08-07T11:38:53.939Z"
   },
   {
    "duration": 70,
    "start_time": "2024-08-07T11:38:54.023Z"
   },
   {
    "duration": 84,
    "start_time": "2024-08-07T11:38:54.095Z"
   },
   {
    "duration": 411,
    "start_time": "2024-08-07T11:38:54.181Z"
   },
   {
    "duration": 81808,
    "start_time": "2024-08-07T11:38:54.593Z"
   },
   {
    "duration": 35,
    "start_time": "2024-08-07T11:40:16.403Z"
   },
   {
    "duration": 22,
    "start_time": "2024-08-07T11:42:21.260Z"
   },
   {
    "duration": 12,
    "start_time": "2024-08-07T12:47:17.505Z"
   },
   {
    "duration": 793,
    "start_time": "2024-08-07T12:47:28.912Z"
   },
   {
    "duration": 11,
    "start_time": "2024-08-07T12:52:19.307Z"
   },
   {
    "duration": 710,
    "start_time": "2024-08-07T12:52:25.513Z"
   },
   {
    "duration": 9,
    "start_time": "2024-08-07T12:53:20.961Z"
   },
   {
    "duration": 711,
    "start_time": "2024-08-07T12:53:25.604Z"
   },
   {
    "duration": 12923,
    "start_time": "2024-08-07T12:59:19.862Z"
   },
   {
    "duration": 5,
    "start_time": "2024-08-07T12:59:32.788Z"
   },
   {
    "duration": 216,
    "start_time": "2024-08-07T12:59:32.795Z"
   },
   {
    "duration": 448,
    "start_time": "2024-08-07T12:59:33.013Z"
   },
   {
    "duration": 937,
    "start_time": "2024-08-07T12:59:33.463Z"
   },
   {
    "duration": 164,
    "start_time": "2024-08-07T12:59:34.402Z"
   },
   {
    "duration": 1675,
    "start_time": "2024-08-07T12:59:34.568Z"
   },
   {
    "duration": 416,
    "start_time": "2024-08-07T12:59:36.245Z"
   },
   {
    "duration": 174,
    "start_time": "2024-08-07T12:59:36.663Z"
   },
   {
    "duration": 384,
    "start_time": "2024-08-07T12:59:36.840Z"
   },
   {
    "duration": 85,
    "start_time": "2024-08-07T12:59:37.225Z"
   },
   {
    "duration": 42,
    "start_time": "2024-08-07T13:36:32.449Z"
   },
   {
    "duration": 14,
    "start_time": "2024-08-07T13:37:45.248Z"
   },
   {
    "duration": 10,
    "start_time": "2024-08-07T13:39:08.118Z"
   },
   {
    "duration": 10,
    "start_time": "2024-08-07T13:39:30.129Z"
   },
   {
    "duration": 38,
    "start_time": "2024-08-07T13:47:35.545Z"
   },
   {
    "duration": 150,
    "start_time": "2024-08-07T13:47:59.369Z"
   },
   {
    "duration": 9,
    "start_time": "2024-08-07T13:48:30.869Z"
   },
   {
    "duration": 59,
    "start_time": "2024-08-07T13:52:04.137Z"
   },
   {
    "duration": 4,
    "start_time": "2024-08-07T13:53:50.887Z"
   },
   {
    "duration": 67,
    "start_time": "2024-08-07T13:53:57.661Z"
   },
   {
    "duration": 91,
    "start_time": "2024-08-07T13:56:14.226Z"
   },
   {
    "duration": 12971,
    "start_time": "2024-08-07T13:56:29.544Z"
   },
   {
    "duration": 891,
    "start_time": "2024-08-07T13:56:42.518Z"
   },
   {
    "duration": 852,
    "start_time": "2024-08-07T13:56:43.411Z"
   },
   {
    "duration": 10,
    "start_time": "2024-08-07T13:56:44.265Z"
   },
   {
    "duration": 942,
    "start_time": "2024-08-07T13:56:44.278Z"
   },
   {
    "duration": 168,
    "start_time": "2024-08-07T13:56:45.222Z"
   },
   {
    "duration": 1676,
    "start_time": "2024-08-07T13:56:45.392Z"
   },
   {
    "duration": 442,
    "start_time": "2024-08-07T13:56:47.070Z"
   },
   {
    "duration": 171,
    "start_time": "2024-08-07T13:56:47.514Z"
   },
   {
    "duration": 433,
    "start_time": "2024-08-07T13:56:47.686Z"
   },
   {
    "duration": 91,
    "start_time": "2024-08-07T13:56:48.121Z"
   },
   {
    "duration": 76,
    "start_time": "2024-08-07T13:56:48.215Z"
   },
   {
    "duration": 100,
    "start_time": "2024-08-07T13:56:48.293Z"
   },
   {
    "duration": 68,
    "start_time": "2024-08-07T13:56:48.396Z"
   },
   {
    "duration": 510,
    "start_time": "2024-08-07T13:56:48.465Z"
   },
   {
    "duration": 77314,
    "start_time": "2024-08-07T13:56:48.977Z"
   },
   {
    "duration": 20,
    "start_time": "2024-08-07T13:58:06.293Z"
   },
   {
    "duration": 571,
    "start_time": "2024-08-07T13:58:06.315Z"
   },
   {
    "duration": 15972,
    "start_time": "2024-08-07T13:58:06.887Z"
   },
   {
    "duration": 533,
    "start_time": "2024-08-07T13:58:22.861Z"
   },
   {
    "duration": 14,
    "start_time": "2024-08-07T13:58:23.396Z"
   },
   {
    "duration": 154,
    "start_time": "2024-08-07T13:58:23.411Z"
   },
   {
    "duration": 15803,
    "start_time": "2024-08-07T13:58:23.566Z"
   },
   {
    "duration": 128,
    "start_time": "2024-08-07T13:58:39.371Z"
   },
   {
    "duration": 325,
    "start_time": "2024-08-07T13:58:39.500Z"
   },
   {
    "duration": 10,
    "start_time": "2024-08-07T13:58:39.827Z"
   },
   {
    "duration": 231,
    "start_time": "2024-08-07T13:58:39.838Z"
   },
   {
    "duration": 6,
    "start_time": "2024-08-07T13:58:40.070Z"
   },
   {
    "duration": 201,
    "start_time": "2024-08-07T13:58:40.077Z"
   },
   {
    "duration": 6,
    "start_time": "2024-08-07T13:58:40.279Z"
   },
   {
    "duration": 75836,
    "start_time": "2024-08-07T13:58:40.286Z"
   },
   {
    "duration": 816,
    "start_time": "2024-08-07T13:59:56.123Z"
   },
   {
    "duration": 278,
    "start_time": "2024-08-07T13:59:56.941Z"
   },
   {
    "duration": 685,
    "start_time": "2024-08-07T13:59:57.221Z"
   },
   {
    "duration": 808,
    "start_time": "2024-08-07T13:59:57.908Z"
   },
   {
    "duration": 281,
    "start_time": "2024-08-07T13:59:58.717Z"
   },
   {
    "duration": 656,
    "start_time": "2024-08-07T13:59:59.000Z"
   },
   {
    "duration": 1040,
    "start_time": "2024-08-07T13:59:59.658Z"
   },
   {
    "duration": 701,
    "start_time": "2024-08-07T14:00:00.700Z"
   },
   {
    "duration": 274,
    "start_time": "2024-08-07T14:00:01.402Z"
   },
   {
    "duration": 662,
    "start_time": "2024-08-07T14:00:01.679Z"
   },
   {
    "duration": 11557,
    "start_time": "2024-08-07T14:00:02.343Z"
   },
   {
    "duration": 52,
    "start_time": "2024-08-07T14:00:13.901Z"
   },
   {
    "duration": 69,
    "start_time": "2024-08-07T14:00:13.954Z"
   },
   {
    "duration": 14,
    "start_time": "2024-08-07T14:00:14.024Z"
   },
   {
    "duration": 729,
    "start_time": "2024-08-07T14:00:14.039Z"
   },
   {
    "duration": 5,
    "start_time": "2024-08-07T14:00:14.769Z"
   },
   {
    "duration": 2604,
    "start_time": "2024-08-07T14:00:14.776Z"
   },
   {
    "duration": 236620,
    "start_time": "2024-08-07T14:00:17.382Z"
   },
   {
    "duration": 37,
    "start_time": "2024-08-07T14:04:14.003Z"
   },
   {
    "duration": 0,
    "start_time": "2024-08-07T14:04:14.042Z"
   },
   {
    "duration": 0,
    "start_time": "2024-08-07T14:04:14.043Z"
   },
   {
    "duration": 0,
    "start_time": "2024-08-07T14:04:14.045Z"
   },
   {
    "duration": 0,
    "start_time": "2024-08-07T14:04:14.046Z"
   },
   {
    "duration": 0,
    "start_time": "2024-08-07T14:04:14.048Z"
   },
   {
    "duration": 0,
    "start_time": "2024-08-07T14:04:14.050Z"
   },
   {
    "duration": 0,
    "start_time": "2024-08-07T14:04:14.051Z"
   },
   {
    "duration": 0,
    "start_time": "2024-08-07T14:04:14.053Z"
   },
   {
    "duration": 0,
    "start_time": "2024-08-07T14:04:14.054Z"
   },
   {
    "duration": 5799,
    "start_time": "2024-08-07T14:04:21.307Z"
   },
   {
    "duration": 13333,
    "start_time": "2024-08-07T14:04:47.846Z"
   },
   {
    "duration": 4,
    "start_time": "2024-08-07T14:05:01.182Z"
   },
   {
    "duration": 93,
    "start_time": "2024-08-07T14:05:01.187Z"
   },
   {
    "duration": 71,
    "start_time": "2024-08-07T14:05:01.282Z"
   },
   {
    "duration": 939,
    "start_time": "2024-08-07T14:05:01.355Z"
   },
   {
    "duration": 167,
    "start_time": "2024-08-07T14:05:02.295Z"
   },
   {
    "duration": 1859,
    "start_time": "2024-08-07T14:05:02.463Z"
   },
   {
    "duration": 460,
    "start_time": "2024-08-07T14:05:04.324Z"
   },
   {
    "duration": 187,
    "start_time": "2024-08-07T14:05:04.786Z"
   },
   {
    "duration": 419,
    "start_time": "2024-08-07T14:05:04.974Z"
   },
   {
    "duration": 95,
    "start_time": "2024-08-07T14:05:05.395Z"
   },
   {
    "duration": 65,
    "start_time": "2024-08-07T14:05:05.492Z"
   },
   {
    "duration": 88,
    "start_time": "2024-08-07T14:05:05.558Z"
   },
   {
    "duration": 92,
    "start_time": "2024-08-07T14:05:05.649Z"
   },
   {
    "duration": 427,
    "start_time": "2024-08-07T14:05:05.742Z"
   },
   {
    "duration": 76548,
    "start_time": "2024-08-07T14:05:06.171Z"
   },
   {
    "duration": 32,
    "start_time": "2024-08-07T14:06:22.720Z"
   },
   {
    "duration": 695,
    "start_time": "2024-08-07T14:06:22.754Z"
   },
   {
    "duration": 16097,
    "start_time": "2024-08-07T14:06:23.451Z"
   },
   {
    "duration": 451,
    "start_time": "2024-08-07T14:06:39.550Z"
   },
   {
    "duration": 12,
    "start_time": "2024-08-07T14:06:40.003Z"
   },
   {
    "duration": 70,
    "start_time": "2024-08-07T14:06:40.016Z"
   },
   {
    "duration": 16282,
    "start_time": "2024-08-07T14:06:40.088Z"
   },
   {
    "duration": 120,
    "start_time": "2024-08-07T14:06:56.372Z"
   },
   {
    "duration": 327,
    "start_time": "2024-08-07T14:06:56.494Z"
   },
   {
    "duration": 7,
    "start_time": "2024-08-07T14:06:56.822Z"
   },
   {
    "duration": 328,
    "start_time": "2024-08-07T14:06:56.830Z"
   },
   {
    "duration": 5,
    "start_time": "2024-08-07T14:06:57.160Z"
   },
   {
    "duration": 209,
    "start_time": "2024-08-07T14:06:57.167Z"
   },
   {
    "duration": 7,
    "start_time": "2024-08-07T14:06:57.377Z"
   },
   {
    "duration": 75569,
    "start_time": "2024-08-07T14:06:57.386Z"
   },
   {
    "duration": 822,
    "start_time": "2024-08-07T14:08:12.956Z"
   },
   {
    "duration": 304,
    "start_time": "2024-08-07T14:08:13.779Z"
   },
   {
    "duration": 667,
    "start_time": "2024-08-07T14:08:14.085Z"
   },
   {
    "duration": 953,
    "start_time": "2024-08-07T14:08:14.754Z"
   },
   {
    "duration": 304,
    "start_time": "2024-08-07T14:08:15.708Z"
   },
   {
    "duration": 536,
    "start_time": "2024-08-07T14:08:16.013Z"
   },
   {
    "duration": 1059,
    "start_time": "2024-08-07T14:08:16.551Z"
   },
   {
    "duration": 921,
    "start_time": "2024-08-07T14:08:17.612Z"
   },
   {
    "duration": 274,
    "start_time": "2024-08-07T14:08:18.537Z"
   },
   {
    "duration": 625,
    "start_time": "2024-08-07T14:08:18.814Z"
   },
   {
    "duration": 193094,
    "start_time": "2024-08-07T14:08:47.408Z"
   },
   {
    "duration": 52,
    "start_time": "2024-08-07T14:16:40.069Z"
   },
   {
    "duration": 39,
    "start_time": "2024-08-07T14:45:10.078Z"
   },
   {
    "duration": 16065,
    "start_time": "2024-08-07T14:45:53.262Z"
   },
   {
    "duration": 86,
    "start_time": "2024-08-07T14:46:12.916Z"
   },
   {
    "duration": 4,
    "start_time": "2024-08-07T14:53:07.514Z"
   },
   {
    "duration": 3,
    "start_time": "2024-08-07T14:54:39.850Z"
   },
   {
    "duration": 1130,
    "start_time": "2024-08-07T14:56:27.885Z"
   },
   {
    "duration": 15275,
    "start_time": "2024-08-07T14:57:28.916Z"
   },
   {
    "duration": 5,
    "start_time": "2024-08-07T14:57:44.194Z"
   },
   {
    "duration": 6,
    "start_time": "2024-08-07T14:57:44.200Z"
   },
   {
    "duration": 14,
    "start_time": "2024-08-07T14:57:44.208Z"
   },
   {
    "duration": 785,
    "start_time": "2024-08-07T14:57:44.223Z"
   },
   {
    "duration": 153,
    "start_time": "2024-08-07T14:57:45.010Z"
   },
   {
    "duration": 1685,
    "start_time": "2024-08-07T14:57:45.165Z"
   },
   {
    "duration": 426,
    "start_time": "2024-08-07T14:57:46.851Z"
   },
   {
    "duration": 189,
    "start_time": "2024-08-07T14:57:47.279Z"
   },
   {
    "duration": 442,
    "start_time": "2024-08-07T14:57:47.471Z"
   },
   {
    "duration": 93,
    "start_time": "2024-08-07T14:57:47.915Z"
   },
   {
    "duration": 68,
    "start_time": "2024-08-07T14:57:48.011Z"
   },
   {
    "duration": 109,
    "start_time": "2024-08-07T14:57:48.081Z"
   },
   {
    "duration": 76,
    "start_time": "2024-08-07T14:57:48.192Z"
   },
   {
    "duration": 407,
    "start_time": "2024-08-07T14:57:48.270Z"
   },
   {
    "duration": 75627,
    "start_time": "2024-08-07T14:57:48.679Z"
   },
   {
    "duration": 31,
    "start_time": "2024-08-07T14:59:04.307Z"
   },
   {
    "duration": 640,
    "start_time": "2024-08-07T14:59:04.340Z"
   },
   {
    "duration": 16286,
    "start_time": "2024-08-07T14:59:04.982Z"
   },
   {
    "duration": 419,
    "start_time": "2024-08-07T14:59:21.270Z"
   },
   {
    "duration": 13,
    "start_time": "2024-08-07T14:59:21.691Z"
   },
   {
    "duration": 82,
    "start_time": "2024-08-07T14:59:21.706Z"
   },
   {
    "duration": 15966,
    "start_time": "2024-08-07T14:59:21.790Z"
   },
   {
    "duration": 125,
    "start_time": "2024-08-07T14:59:37.757Z"
   },
   {
    "duration": 454,
    "start_time": "2024-08-07T14:59:37.883Z"
   },
   {
    "duration": 6,
    "start_time": "2024-08-07T14:59:38.339Z"
   },
   {
    "duration": 224,
    "start_time": "2024-08-07T14:59:38.346Z"
   },
   {
    "duration": 5,
    "start_time": "2024-08-07T14:59:38.574Z"
   },
   {
    "duration": 263,
    "start_time": "2024-08-07T14:59:38.580Z"
   },
   {
    "duration": 7,
    "start_time": "2024-08-07T14:59:38.845Z"
   },
   {
    "duration": 197078,
    "start_time": "2024-08-07T15:01:01.045Z"
   },
   {
    "duration": 50,
    "start_time": "2024-08-07T15:04:18.125Z"
   },
   {
    "duration": 2,
    "start_time": "2024-08-07T15:04:18.177Z"
   },
   {
    "duration": 9,
    "start_time": "2024-08-07T15:04:18.181Z"
   },
   {
    "duration": 489,
    "start_time": "2024-08-07T15:04:18.191Z"
   },
   {
    "duration": 0,
    "start_time": "2024-08-07T15:04:18.682Z"
   },
   {
    "duration": 0,
    "start_time": "2024-08-07T15:04:18.683Z"
   },
   {
    "duration": 15736,
    "start_time": "2024-08-07T15:06:15.043Z"
   },
   {
    "duration": 830,
    "start_time": "2024-08-07T15:06:30.782Z"
   },
   {
    "duration": 895,
    "start_time": "2024-08-07T15:06:31.613Z"
   },
   {
    "duration": 10,
    "start_time": "2024-08-07T15:06:32.511Z"
   },
   {
    "duration": 895,
    "start_time": "2024-08-07T15:06:32.523Z"
   },
   {
    "duration": 185,
    "start_time": "2024-08-07T15:06:33.420Z"
   },
   {
    "duration": 1669,
    "start_time": "2024-08-07T15:06:33.607Z"
   },
   {
    "duration": 441,
    "start_time": "2024-08-07T15:06:35.278Z"
   },
   {
    "duration": 173,
    "start_time": "2024-08-07T15:06:35.720Z"
   },
   {
    "duration": 377,
    "start_time": "2024-08-07T15:06:35.895Z"
   },
   {
    "duration": 85,
    "start_time": "2024-08-07T15:06:36.273Z"
   },
   {
    "duration": 60,
    "start_time": "2024-08-07T15:06:36.360Z"
   },
   {
    "duration": 80,
    "start_time": "2024-08-07T15:06:36.421Z"
   },
   {
    "duration": 75,
    "start_time": "2024-08-07T15:06:36.503Z"
   },
   {
    "duration": 393,
    "start_time": "2024-08-07T15:06:36.579Z"
   },
   {
    "duration": 78691,
    "start_time": "2024-08-07T15:06:36.973Z"
   },
   {
    "duration": 20,
    "start_time": "2024-08-07T15:07:55.666Z"
   },
   {
    "duration": 660,
    "start_time": "2024-08-07T15:07:55.687Z"
   },
   {
    "duration": 16910,
    "start_time": "2024-08-07T15:07:56.348Z"
   },
   {
    "duration": 419,
    "start_time": "2024-08-07T15:08:13.260Z"
   },
   {
    "duration": 13,
    "start_time": "2024-08-07T15:08:13.681Z"
   },
   {
    "duration": 127,
    "start_time": "2024-08-07T15:08:13.695Z"
   },
   {
    "duration": 16822,
    "start_time": "2024-08-07T15:08:13.824Z"
   },
   {
    "duration": 124,
    "start_time": "2024-08-07T15:08:30.647Z"
   },
   {
    "duration": 327,
    "start_time": "2024-08-07T15:08:30.773Z"
   },
   {
    "duration": 7,
    "start_time": "2024-08-07T15:08:31.101Z"
   },
   {
    "duration": 254,
    "start_time": "2024-08-07T15:08:31.109Z"
   },
   {
    "duration": 6,
    "start_time": "2024-08-07T15:08:31.367Z"
   },
   {
    "duration": 364,
    "start_time": "2024-08-07T15:08:31.375Z"
   },
   {
    "duration": 6,
    "start_time": "2024-08-07T15:08:31.740Z"
   },
   {
    "duration": 78457,
    "start_time": "2024-08-07T15:08:31.748Z"
   },
   {
    "duration": 740,
    "start_time": "2024-08-07T15:09:50.207Z"
   },
   {
    "duration": 257,
    "start_time": "2024-08-07T15:09:50.949Z"
   },
   {
    "duration": 662,
    "start_time": "2024-08-07T15:09:51.208Z"
   },
   {
    "duration": 963,
    "start_time": "2024-08-07T15:09:51.871Z"
   },
   {
    "duration": 290,
    "start_time": "2024-08-07T15:09:52.835Z"
   },
   {
    "duration": 549,
    "start_time": "2024-08-07T15:09:53.127Z"
   },
   {
    "duration": 1159,
    "start_time": "2024-08-07T15:09:53.678Z"
   },
   {
    "duration": 768,
    "start_time": "2024-08-07T15:09:54.839Z"
   },
   {
    "duration": 306,
    "start_time": "2024-08-07T15:09:55.609Z"
   },
   {
    "duration": 802,
    "start_time": "2024-08-07T15:09:55.916Z"
   },
   {
    "duration": 196359,
    "start_time": "2024-08-07T15:09:56.720Z"
   },
   {
    "duration": 43,
    "start_time": "2024-08-07T15:13:13.081Z"
   },
   {
    "duration": 12,
    "start_time": "2024-08-07T15:13:13.126Z"
   },
   {
    "duration": 9,
    "start_time": "2024-08-07T15:13:13.140Z"
   },
   {
    "duration": 620,
    "start_time": "2024-08-07T15:13:13.151Z"
   },
   {
    "duration": 0,
    "start_time": "2024-08-07T15:13:13.773Z"
   },
   {
    "duration": 0,
    "start_time": "2024-08-07T15:13:13.774Z"
   },
   {
    "duration": 0,
    "start_time": "2024-08-07T15:13:13.775Z"
   },
   {
    "duration": 0,
    "start_time": "2024-08-07T15:13:13.776Z"
   },
   {
    "duration": 0,
    "start_time": "2024-08-07T15:13:13.777Z"
   },
   {
    "duration": 0,
    "start_time": "2024-08-07T15:13:13.778Z"
   },
   {
    "duration": 0,
    "start_time": "2024-08-07T15:13:13.779Z"
   },
   {
    "duration": 0,
    "start_time": "2024-08-07T15:13:13.780Z"
   },
   {
    "duration": 0,
    "start_time": "2024-08-07T15:13:13.782Z"
   },
   {
    "duration": 0,
    "start_time": "2024-08-07T15:13:13.783Z"
   },
   {
    "duration": 0,
    "start_time": "2024-08-07T15:13:13.784Z"
   },
   {
    "duration": 0,
    "start_time": "2024-08-07T15:13:13.785Z"
   },
   {
    "duration": 85,
    "start_time": "2024-08-07T15:14:25.910Z"
   },
   {
    "duration": 2,
    "start_time": "2024-08-07T15:16:50.622Z"
   },
   {
    "duration": 740,
    "start_time": "2024-08-07T15:16:53.035Z"
   },
   {
    "duration": 4,
    "start_time": "2024-08-07T15:17:03.332Z"
   },
   {
    "duration": 6131,
    "start_time": "2024-08-07T15:17:09.622Z"
   },
   {
    "duration": 105951,
    "start_time": "2024-08-07T15:18:00.803Z"
   },
   {
    "duration": 539,
    "start_time": "2024-08-07T15:19:51.699Z"
   },
   {
    "duration": 3,
    "start_time": "2024-08-07T15:38:34.683Z"
   },
   {
    "duration": 8,
    "start_time": "2024-08-07T15:39:12.491Z"
   },
   {
    "duration": 4,
    "start_time": "2024-08-07T15:44:26.483Z"
   },
   {
    "duration": 3,
    "start_time": "2024-08-07T15:44:35.329Z"
   },
   {
    "duration": 7,
    "start_time": "2024-08-07T15:47:39.749Z"
   },
   {
    "duration": 67,
    "start_time": "2024-08-07T15:47:51.039Z"
   },
   {
    "duration": 3,
    "start_time": "2024-08-07T15:48:10.729Z"
   },
   {
    "duration": 16,
    "start_time": "2024-08-07T15:49:31.675Z"
   },
   {
    "duration": 4,
    "start_time": "2024-08-07T15:49:40.920Z"
   },
   {
    "duration": 4,
    "start_time": "2024-08-07T15:50:47.274Z"
   },
   {
    "duration": 10,
    "start_time": "2024-08-07T15:52:44.995Z"
   },
   {
    "duration": 5,
    "start_time": "2024-08-07T15:57:29.564Z"
   },
   {
    "duration": 1132,
    "start_time": "2024-08-07T15:59:21.115Z"
   },
   {
    "duration": 15666,
    "start_time": "2024-08-07T16:00:38.080Z"
   },
   {
    "duration": 4,
    "start_time": "2024-08-07T16:00:53.749Z"
   },
   {
    "duration": 18,
    "start_time": "2024-08-07T16:00:53.754Z"
   },
   {
    "duration": 46,
    "start_time": "2024-08-07T16:00:53.774Z"
   },
   {
    "duration": 851,
    "start_time": "2024-08-07T16:00:53.822Z"
   },
   {
    "duration": 150,
    "start_time": "2024-08-07T16:00:54.674Z"
   },
   {
    "duration": 1672,
    "start_time": "2024-08-07T16:00:54.825Z"
   },
   {
    "duration": 430,
    "start_time": "2024-08-07T16:00:56.499Z"
   },
   {
    "duration": 187,
    "start_time": "2024-08-07T16:00:56.930Z"
   },
   {
    "duration": 453,
    "start_time": "2024-08-07T16:00:57.120Z"
   },
   {
    "duration": 85,
    "start_time": "2024-08-07T16:00:57.575Z"
   },
   {
    "duration": 62,
    "start_time": "2024-08-07T16:00:57.662Z"
   },
   {
    "duration": 85,
    "start_time": "2024-08-07T16:00:57.725Z"
   },
   {
    "duration": 70,
    "start_time": "2024-08-07T16:00:57.812Z"
   },
   {
    "duration": 424,
    "start_time": "2024-08-07T16:00:57.883Z"
   },
   {
    "duration": 79902,
    "start_time": "2024-08-07T16:00:58.308Z"
   },
   {
    "duration": 31,
    "start_time": "2024-08-07T16:02:18.212Z"
   },
   {
    "duration": 778,
    "start_time": "2024-08-07T16:02:18.244Z"
   },
   {
    "duration": 16916,
    "start_time": "2024-08-07T16:02:19.024Z"
   },
   {
    "duration": 445,
    "start_time": "2024-08-07T16:02:35.942Z"
   },
   {
    "duration": 14,
    "start_time": "2024-08-07T16:02:36.388Z"
   },
   {
    "duration": 63,
    "start_time": "2024-08-07T16:02:36.404Z"
   },
   {
    "duration": 16806,
    "start_time": "2024-08-07T16:02:36.469Z"
   },
   {
    "duration": 118,
    "start_time": "2024-08-07T16:02:53.277Z"
   },
   {
    "duration": 329,
    "start_time": "2024-08-07T16:02:53.396Z"
   },
   {
    "duration": 12,
    "start_time": "2024-08-07T16:02:53.726Z"
   },
   {
    "duration": 335,
    "start_time": "2024-08-07T16:02:53.740Z"
   },
   {
    "duration": 7,
    "start_time": "2024-08-07T16:02:54.080Z"
   },
   {
    "duration": 210,
    "start_time": "2024-08-07T16:02:54.088Z"
   },
   {
    "duration": 5,
    "start_time": "2024-08-07T16:02:54.300Z"
   },
   {
    "duration": 201929,
    "start_time": "2024-08-07T16:04:19.779Z"
   },
   {
    "duration": 56,
    "start_time": "2024-08-07T16:07:41.710Z"
   },
   {
    "duration": 95,
    "start_time": "2024-08-07T16:07:41.768Z"
   },
   {
    "duration": 2,
    "start_time": "2024-08-07T16:07:41.865Z"
   },
   {
    "duration": 685,
    "start_time": "2024-08-07T16:07:41.868Z"
   },
   {
    "duration": 3,
    "start_time": "2024-08-07T16:07:42.555Z"
   },
   {
    "duration": 6574,
    "start_time": "2024-08-07T16:07:42.560Z"
   },
   {
    "duration": 1248,
    "start_time": "2024-08-07T16:07:49.137Z"
   },
   {
    "duration": 12911,
    "start_time": "2024-08-07T16:18:26.676Z"
   },
   {
    "duration": 67,
    "start_time": "2024-08-07T16:19:31.643Z"
   },
   {
    "duration": 12621,
    "start_time": "2024-08-07T16:19:38.020Z"
   },
   {
    "duration": 12500,
    "start_time": "2024-08-07T16:22:53.475Z"
   },
   {
    "duration": 302,
    "start_time": "2024-08-07T16:26:49.280Z"
   },
   {
    "duration": 40785,
    "start_time": "2024-08-07T16:28:23.556Z"
   },
   {
    "duration": 4,
    "start_time": "2024-08-07T16:29:34.055Z"
   },
   {
    "duration": 7,
    "start_time": "2024-08-07T16:29:37.300Z"
   },
   {
    "duration": 4,
    "start_time": "2024-08-07T16:45:20.952Z"
   },
   {
    "duration": 50027,
    "start_time": "2024-08-07T17:15:57.849Z"
   },
   {
    "duration": 4,
    "start_time": "2024-08-07T17:16:47.879Z"
   },
   {
    "duration": 44,
    "start_time": "2024-08-07T17:16:47.885Z"
   },
   {
    "duration": 5,
    "start_time": "2024-08-07T17:17:47.580Z"
   },
   {
    "duration": 6,
    "start_time": "2024-08-07T17:17:57.934Z"
   },
   {
    "duration": 4,
    "start_time": "2024-08-07T17:18:28.603Z"
   },
   {
    "duration": 4,
    "start_time": "2024-08-07T17:18:52.907Z"
   },
   {
    "duration": 5,
    "start_time": "2024-08-07T17:21:08.641Z"
   },
   {
    "duration": 40,
    "start_time": "2024-08-07T17:22:41.950Z"
   },
   {
    "duration": 97816,
    "start_time": "2024-08-07T17:22:50.827Z"
   },
   {
    "duration": 4,
    "start_time": "2024-08-07T17:24:37.139Z"
   },
   {
    "duration": 6,
    "start_time": "2024-08-07T17:25:06.002Z"
   },
   {
    "duration": 10,
    "start_time": "2024-08-07T17:27:42.935Z"
   },
   {
    "duration": 913109,
    "start_time": "2024-08-07T17:30:10.730Z"
   },
   {
    "duration": 23224,
    "start_time": "2024-08-07T17:52:11.957Z"
   },
   {
    "duration": 31410,
    "start_time": "2024-08-07T17:52:51.954Z"
   },
   {
    "duration": 4,
    "start_time": "2024-08-07T17:53:29.053Z"
   },
   {
    "duration": 55265,
    "start_time": "2024-08-07T17:54:55.640Z"
   },
   {
    "duration": 3,
    "start_time": "2024-08-07T17:55:55.123Z"
   },
   {
    "duration": 6,
    "start_time": "2024-08-07T18:00:20.812Z"
   },
   {
    "duration": 62095,
    "start_time": "2024-08-07T18:02:05.368Z"
   },
   {
    "duration": 193867,
    "start_time": "2024-08-07T18:04:12.723Z"
   },
   {
    "duration": 3,
    "start_time": "2024-08-07T18:07:31.959Z"
   },
   {
    "duration": 7,
    "start_time": "2024-08-07T18:07:35.118Z"
   },
   {
    "duration": 4,
    "start_time": "2024-08-07T18:08:51.748Z"
   },
   {
    "duration": 4,
    "start_time": "2024-08-07T18:24:16.826Z"
   },
   {
    "duration": 3,
    "start_time": "2024-08-07T18:24:19.066Z"
   },
   {
    "duration": 4,
    "start_time": "2024-08-07T18:26:52.216Z"
   },
   {
    "duration": 46,
    "start_time": "2024-08-07T18:26:53.224Z"
   },
   {
    "duration": 10,
    "start_time": "2024-08-07T18:27:10.552Z"
   },
   {
    "duration": 55199,
    "start_time": "2024-08-07T18:27:51.839Z"
   },
   {
    "duration": 3,
    "start_time": "2024-08-07T18:29:02.310Z"
   },
   {
    "duration": 188939,
    "start_time": "2024-08-07T18:39:39.287Z"
   },
   {
    "duration": 4,
    "start_time": "2024-08-07T18:43:18.653Z"
   },
   {
    "duration": 133,
    "start_time": "2024-08-07T18:43:54.083Z"
   },
   {
    "duration": 5,
    "start_time": "2024-08-07T18:44:58.743Z"
   },
   {
    "duration": 3882,
    "start_time": "2024-08-07T18:45:51.697Z"
   },
   {
    "duration": 13,
    "start_time": "2024-08-07T18:47:22.939Z"
   },
   {
    "duration": 13,
    "start_time": "2024-08-07T18:49:21.131Z"
   },
   {
    "duration": 6,
    "start_time": "2024-08-07T18:49:53.277Z"
   },
   {
    "duration": 9,
    "start_time": "2024-08-07T18:50:08.462Z"
   },
   {
    "duration": 11,
    "start_time": "2024-08-07T18:51:16.025Z"
   },
   {
    "duration": 10,
    "start_time": "2024-08-07T18:52:32.417Z"
   },
   {
    "duration": 11,
    "start_time": "2024-08-07T18:52:45.610Z"
   },
   {
    "duration": 10,
    "start_time": "2024-08-07T18:53:10.759Z"
   },
   {
    "duration": 10,
    "start_time": "2024-08-07T18:53:22.918Z"
   },
   {
    "duration": 12,
    "start_time": "2024-08-07T18:53:53.282Z"
   },
   {
    "duration": 12,
    "start_time": "2024-08-07T18:55:23.633Z"
   },
   {
    "duration": 303,
    "start_time": "2024-08-07T18:55:35.003Z"
   },
   {
    "duration": 414,
    "start_time": "2024-08-07T18:56:12.268Z"
   },
   {
    "duration": 348,
    "start_time": "2024-08-07T18:58:58.707Z"
   },
   {
    "duration": 337,
    "start_time": "2024-08-07T18:59:12.906Z"
   },
   {
    "duration": 332,
    "start_time": "2024-08-07T19:01:27.911Z"
   },
   {
    "duration": 15225,
    "start_time": "2024-08-07T19:18:26.190Z"
   },
   {
    "duration": 866,
    "start_time": "2024-08-07T19:18:41.417Z"
   },
   {
    "duration": 854,
    "start_time": "2024-08-07T19:18:42.285Z"
   },
   {
    "duration": 10,
    "start_time": "2024-08-07T19:18:43.141Z"
   },
   {
    "duration": 933,
    "start_time": "2024-08-07T19:18:43.153Z"
   },
   {
    "duration": 161,
    "start_time": "2024-08-07T19:18:44.088Z"
   },
   {
    "duration": 1654,
    "start_time": "2024-08-07T19:18:44.251Z"
   },
   {
    "duration": 410,
    "start_time": "2024-08-07T19:18:45.907Z"
   },
   {
    "duration": 162,
    "start_time": "2024-08-07T19:18:46.319Z"
   },
   {
    "duration": 361,
    "start_time": "2024-08-07T19:18:46.482Z"
   },
   {
    "duration": 82,
    "start_time": "2024-08-07T19:18:46.844Z"
   },
   {
    "duration": 72,
    "start_time": "2024-08-07T19:18:46.927Z"
   },
   {
    "duration": 92,
    "start_time": "2024-08-07T19:18:47.001Z"
   },
   {
    "duration": 70,
    "start_time": "2024-08-07T19:18:47.097Z"
   },
   {
    "duration": 389,
    "start_time": "2024-08-07T19:18:47.169Z"
   },
   {
    "duration": 75629,
    "start_time": "2024-08-07T19:18:47.559Z"
   },
   {
    "duration": 20,
    "start_time": "2024-08-07T19:20:03.189Z"
   },
   {
    "duration": 680,
    "start_time": "2024-08-07T19:20:03.210Z"
   },
   {
    "duration": 16250,
    "start_time": "2024-08-07T19:20:03.891Z"
   },
   {
    "duration": 442,
    "start_time": "2024-08-07T19:20:20.143Z"
   },
   {
    "duration": 12,
    "start_time": "2024-08-07T19:20:20.587Z"
   },
   {
    "duration": 63,
    "start_time": "2024-08-07T19:20:20.601Z"
   },
   {
    "duration": 16287,
    "start_time": "2024-08-07T19:20:20.666Z"
   },
   {
    "duration": 125,
    "start_time": "2024-08-07T19:20:36.955Z"
   },
   {
    "duration": 326,
    "start_time": "2024-08-07T19:20:37.081Z"
   },
   {
    "duration": 6,
    "start_time": "2024-08-07T19:20:37.409Z"
   },
   {
    "duration": 226,
    "start_time": "2024-08-07T19:20:37.417Z"
   },
   {
    "duration": 6,
    "start_time": "2024-08-07T19:20:37.645Z"
   },
   {
    "duration": 287,
    "start_time": "2024-08-07T19:20:37.653Z"
   },
   {
    "duration": 6,
    "start_time": "2024-08-07T19:20:37.942Z"
   },
   {
    "duration": 75458,
    "start_time": "2024-08-07T19:20:37.950Z"
   },
   {
    "duration": 813,
    "start_time": "2024-08-07T19:21:53.410Z"
   },
   {
    "duration": 267,
    "start_time": "2024-08-07T19:21:54.224Z"
   },
   {
    "duration": 653,
    "start_time": "2024-08-07T19:21:54.492Z"
   },
   {
    "duration": 934,
    "start_time": "2024-08-07T19:21:55.147Z"
   },
   {
    "duration": 257,
    "start_time": "2024-08-07T19:21:56.082Z"
   },
   {
    "duration": 520,
    "start_time": "2024-08-07T19:21:56.340Z"
   },
   {
    "duration": 1016,
    "start_time": "2024-08-07T19:21:56.861Z"
   },
   {
    "duration": 724,
    "start_time": "2024-08-07T19:21:57.878Z"
   },
   {
    "duration": 280,
    "start_time": "2024-08-07T19:21:58.604Z"
   },
   {
    "duration": 743,
    "start_time": "2024-08-07T19:21:58.888Z"
   },
   {
    "duration": 199453,
    "start_time": "2024-08-07T19:21:59.637Z"
   },
   {
    "duration": 58,
    "start_time": "2024-08-07T19:25:19.091Z"
   },
   {
    "duration": 110,
    "start_time": "2024-08-07T19:25:19.151Z"
   },
   {
    "duration": 3,
    "start_time": "2024-08-07T19:25:19.262Z"
   },
   {
    "duration": 734,
    "start_time": "2024-08-07T19:25:19.266Z"
   },
   {
    "duration": 3,
    "start_time": "2024-08-07T19:25:20.002Z"
   },
   {
    "duration": 6345,
    "start_time": "2024-08-07T19:25:20.007Z"
   },
   {
    "duration": 40497,
    "start_time": "2024-08-07T19:25:26.354Z"
   },
   {
    "duration": 49286,
    "start_time": "2024-08-07T19:26:06.853Z"
   },
   {
    "duration": 99309,
    "start_time": "2024-08-07T19:26:56.141Z"
   },
   {
    "duration": 55576,
    "start_time": "2024-08-07T19:28:35.539Z"
   },
   {
    "duration": 4,
    "start_time": "2024-08-07T19:29:31.117Z"
   },
   {
    "duration": 92,
    "start_time": "2024-08-07T19:29:31.122Z"
   },
   {
    "duration": 73,
    "start_time": "2024-08-07T19:29:31.216Z"
   },
   {
    "duration": 51,
    "start_time": "2024-08-07T19:29:31.291Z"
   },
   {
    "duration": 188393,
    "start_time": "2024-08-07T19:29:31.343Z"
   },
   {
    "duration": 5,
    "start_time": "2024-08-07T19:32:39.737Z"
   },
   {
    "duration": 136,
    "start_time": "2024-08-07T19:32:39.744Z"
   },
   {
    "duration": 3838,
    "start_time": "2024-08-07T19:32:39.881Z"
   },
   {
    "duration": 429,
    "start_time": "2024-08-07T19:32:43.721Z"
   }
  ],
  "kernelspec": {
   "display_name": "Python 3 (ipykernel)",
   "language": "python",
   "name": "python3"
  },
  "language_info": {
   "codemirror_mode": {
    "name": "ipython",
    "version": 3
   },
   "file_extension": ".py",
   "mimetype": "text/x-python",
   "name": "python",
   "nbconvert_exporter": "python",
   "pygments_lexer": "ipython3",
   "version": "3.11.9"
  },
  "toc": {
   "base_numbering": 1,
   "nav_menu": {},
   "number_sections": true,
   "sideBar": true,
   "skip_h1_title": true,
   "title_cell": "Table of Contents",
   "title_sidebar": "Contents",
   "toc_cell": false,
   "toc_position": {},
   "toc_section_display": true,
   "toc_window_display": false
  }
 },
 "nbformat": 4,
 "nbformat_minor": 4
}
