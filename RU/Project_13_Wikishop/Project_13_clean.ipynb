{
 "cells": [
  {
   "cell_type": "markdown",
   "metadata": {},
   "source": [
    "# Проект для «Викишоп» с применением BERT"
   ]
  },
  {
   "cell_type": "markdown",
   "metadata": {},
   "source": [
    "Интернет-магазин «Викишоп» запускает новый сервис. Теперь пользователи могут редактировать и дополнять описания товаров, как в вики-сообществах. То есть клиенты предлагают свои правки и комментируют изменения других. Магазину нужен инструмент, который будет искать токсичные комментарии и отправлять их на модерацию. \n",
    "\n",
    "Обучите модель классифицировать комментарии на позитивные и негативные. В вашем распоряжении набор данных с разметкой о токсичности правок.\n",
    "\n",
    "Постройте модель со значением метрики качества *F1* не меньше 0.75. \n",
    "\n",
    "Для выполнения проекта применять *BERT* необязательно, но вы можете попробовать.\n",
    "\n",
    "**Описание данных**\n",
    "Данные находятся в файле `toxic_comments.csv`. Столбец *text* в нём содержит текст комментария, а *toxic* — целевой признак.\n",
    "\n",
    "<a id='К-содержанию'></a>\n",
    "**Содержание проекта** \\\n",
    "[Подготовка и анализ данных](#Подготовка-и-анализ-данных)\\\n",
    "[Обучение](#Обучение)\\\n",
    "[Тестирование](#Тестирование)\\\n",
    "[Общие выводы](#Общий-вывод)\\\n",
    "[Чек-лист_проверки](#Чек-лист-проверки)"
   ]
  },
  {
   "cell_type": "code",
   "execution_count": 1,
   "metadata": {},
   "outputs": [],
   "source": [
    "%%capture\n",
    "\n",
    "!pip install numpy==1.26.4\n",
    "!pip install matplotlib==3.8.4\n",
    "!pip install catboost\n",
    "!pip install imbalanced-learn\n",
    "!pip install torch\n",
    "!pip install transformers\n",
    "#!pip install tokenizers==0.10.1"
   ]
  },
  {
   "cell_type": "code",
   "execution_count": 2,
   "metadata": {},
   "outputs": [
    {
     "name": "stderr",
     "output_type": "stream",
     "text": [
      "[nltk_data] Downloading package wordnet to /home/jovyan/nltk_data...\n",
      "[nltk_data]   Package wordnet is already up-to-date!\n",
      "[nltk_data] Downloading package stopwords to /home/jovyan/nltk_data...\n",
      "[nltk_data]   Package stopwords is already up-to-date!\n",
      "[nltk_data] Downloading package punkt to /home/jovyan/nltk_data...\n",
      "[nltk_data]   Package punkt is already up-to-date!\n",
      "[nltk_data] Downloading package averaged_perceptron_tagger to\n",
      "[nltk_data]     /home/jovyan/nltk_data...\n",
      "[nltk_data]   Unzipping taggers/averaged_perceptron_tagger.zip.\n"
     ]
    }
   ],
   "source": [
    "#импортируем библиотеки перед началом проекта одним блоком\n",
    "import os\n",
    "import pandas as pd\n",
    "import numpy as np\n",
    "import matplotlib.pyplot as plt\n",
    "import matplotlib\n",
    "import seaborn as sns\n",
    "import re\n",
    "from tqdm.notebook import tqdm\n",
    "\n",
    "# загружаем класс pipeline\n",
    "from sklearn.pipeline import Pipeline\n",
    "\n",
    "# загружаем классы для подготовки данных\n",
    "from sklearn.model_selection import train_test_split\n",
    "from imblearn.under_sampling import RandomUnderSampler\n",
    "\n",
    "# импортируем классы GridSearchCV\n",
    "from sklearn.model_selection import GridSearchCV\n",
    "from tqdm import notebook\n",
    "\n",
    "# загружаем нужные модели\n",
    "from sklearn.linear_model import LogisticRegression\n",
    "from sklearn.tree import DecisionTreeClassifier\n",
    "from catboost import CatBoostClassifier\n",
    "from sklearn.model_selection import ParameterGrid\n",
    "\n",
    "# загружаем функции для подготовки текстовых данных\n",
    "import nltk\n",
    "from nltk.corpus import stopwords as nltk_stopwords\n",
    "from nltk.stem import WordNetLemmatizer\n",
    "from nltk.tokenize import word_tokenize\n",
    "from nltk.corpus import wordnet\n",
    "nltk.download('wordnet')\n",
    "nltk.download('stopwords')\n",
    "nltk.download('punkt')\n",
    "nltk.download('averaged_perceptron_tagger')\n",
    "\n",
    "from sklearn.feature_extraction.text import TfidfVectorizer, CountVectorizer \n",
    "from sklearn.metrics import f1_score\n",
    "\n",
    "# загружаем библиотеки для BERT и Pytorch\n",
    "import torch\n",
    "import transformers \n",
    "from transformers import DistilBertConfig, DistilBertModel, DistilBertTokenizer\n",
    "from transformers import BertTokenizer, BertForSequenceClassification"
   ]
  },
  {
   "cell_type": "code",
   "execution_count": 3,
   "metadata": {},
   "outputs": [],
   "source": [
    "# функции для лемматизаци и исключения ненужных символов\n",
    "\n",
    "def get_wordnet_pos(word):\n",
    "    tag = nltk.pos_tag([word])[0][1][0].upper()\n",
    "    tag_dict = {\"J\": wordnet.ADJ, \"N\": wordnet.NOUN, \"V\": wordnet.VERB, \"R\": wordnet.ADV}\n",
    "    return tag_dict.get(tag, wordnet.NOUN)\n",
    "\n",
    "def lemmatize(text):\n",
    "    lemmatizer = WordNetLemmatizer()\n",
    "    words = word_tokenize(text)\n",
    "    lemm_list = [lemmatizer.lemmatize(word, get_wordnet_pos(word)) for word in words]\n",
    "    lemm_text = \" \".join(lemm_list)\n",
    "    return lemm_text\n",
    "\n",
    "def clear_text(text):\n",
    "    text = text.lower()\n",
    "    text = re.sub(r'[^a-zA-Z\\s\\n]', ' ', text)\n",
    "    text = \" \".join(text.split())\n",
    "    return text\n",
    "\n",
    "def process_text(text):\n",
    "    text = clear_text(text)\n",
    "    text = lemmatize(text)\n",
    "    return text"
   ]
  },
  {
   "cell_type": "markdown",
   "metadata": {},
   "source": [
    "<a id='Подготовка-и-анализ-данных'></a> \n",
    "## Подготовка и анализ данных\n",
    "[К содержанию](#К-содержанию) "
   ]
  },
  {
   "cell_type": "code",
   "execution_count": 4,
   "metadata": {},
   "outputs": [],
   "source": [
    "# импортируем данные\n",
    "pth1 = '/Users/roman_yakovlev/Downloads/Практикум_DS/Проекты/Project_13_Wikishop/toxic_comments.csv'\n",
    "pth2 = '/datasets/toxic_comments.csv'\n",
    "\n",
    "if os.path.exists(pth1):\n",
    "    tweets = pd.read_csv(pth1)\n",
    "elif os.path.exists(pth2):\n",
    "    tweets = pd.read_csv(pth2)\n",
    "else:\n",
    "    print('Something is wrong')"
   ]
  },
  {
   "cell_type": "code",
   "execution_count": 5,
   "metadata": {},
   "outputs": [
    {
     "name": "stdout",
     "output_type": "stream",
     "text": [
      "<class 'pandas.core.frame.DataFrame'>\n",
      "RangeIndex: 159292 entries, 0 to 159291\n",
      "Data columns (total 3 columns):\n",
      " #   Column      Non-Null Count   Dtype \n",
      "---  ------      --------------   ----- \n",
      " 0   Unnamed: 0  159292 non-null  int64 \n",
      " 1   text        159292 non-null  object\n",
      " 2   toxic       159292 non-null  int64 \n",
      "dtypes: int64(2), object(1)\n",
      "memory usage: 3.6+ MB\n"
     ]
    },
    {
     "data": {
      "text/html": [
       "<div>\n",
       "<style scoped>\n",
       "    .dataframe tbody tr th:only-of-type {\n",
       "        vertical-align: middle;\n",
       "    }\n",
       "\n",
       "    .dataframe tbody tr th {\n",
       "        vertical-align: top;\n",
       "    }\n",
       "\n",
       "    .dataframe thead th {\n",
       "        text-align: right;\n",
       "    }\n",
       "</style>\n",
       "<table border=\"1\" class=\"dataframe\">\n",
       "  <thead>\n",
       "    <tr style=\"text-align: right;\">\n",
       "      <th></th>\n",
       "      <th>Unnamed: 0</th>\n",
       "      <th>text</th>\n",
       "      <th>toxic</th>\n",
       "    </tr>\n",
       "  </thead>\n",
       "  <tbody>\n",
       "    <tr>\n",
       "      <th>0</th>\n",
       "      <td>0</td>\n",
       "      <td>Explanation\\nWhy the edits made under my usern...</td>\n",
       "      <td>0</td>\n",
       "    </tr>\n",
       "    <tr>\n",
       "      <th>1</th>\n",
       "      <td>1</td>\n",
       "      <td>D'aww! He matches this background colour I'm s...</td>\n",
       "      <td>0</td>\n",
       "    </tr>\n",
       "    <tr>\n",
       "      <th>2</th>\n",
       "      <td>2</td>\n",
       "      <td>Hey man, I'm really not trying to edit war. It...</td>\n",
       "      <td>0</td>\n",
       "    </tr>\n",
       "    <tr>\n",
       "      <th>3</th>\n",
       "      <td>3</td>\n",
       "      <td>\"\\nMore\\nI can't make any real suggestions on ...</td>\n",
       "      <td>0</td>\n",
       "    </tr>\n",
       "    <tr>\n",
       "      <th>4</th>\n",
       "      <td>4</td>\n",
       "      <td>You, sir, are my hero. Any chance you remember...</td>\n",
       "      <td>0</td>\n",
       "    </tr>\n",
       "  </tbody>\n",
       "</table>\n",
       "</div>"
      ],
      "text/plain": [
       "   Unnamed: 0                                               text  toxic\n",
       "0           0  Explanation\\nWhy the edits made under my usern...      0\n",
       "1           1  D'aww! He matches this background colour I'm s...      0\n",
       "2           2  Hey man, I'm really not trying to edit war. It...      0\n",
       "3           3  \"\\nMore\\nI can't make any real suggestions on ...      0\n",
       "4           4  You, sir, are my hero. Any chance you remember...      0"
      ]
     },
     "metadata": {},
     "output_type": "display_data"
    }
   ],
   "source": [
    "# посмотрим загруженные данные\n",
    "tweets.info()\n",
    "display(tweets.head())"
   ]
  },
  {
   "cell_type": "code",
   "execution_count": 6,
   "metadata": {},
   "outputs": [
    {
     "data": {
      "text/html": [
       "<div>\n",
       "<style scoped>\n",
       "    .dataframe tbody tr th:only-of-type {\n",
       "        vertical-align: middle;\n",
       "    }\n",
       "\n",
       "    .dataframe tbody tr th {\n",
       "        vertical-align: top;\n",
       "    }\n",
       "\n",
       "    .dataframe thead th {\n",
       "        text-align: right;\n",
       "    }\n",
       "</style>\n",
       "<table border=\"1\" class=\"dataframe\">\n",
       "  <thead>\n",
       "    <tr style=\"text-align: right;\">\n",
       "      <th></th>\n",
       "      <th>text</th>\n",
       "      <th>toxic</th>\n",
       "    </tr>\n",
       "  </thead>\n",
       "  <tbody>\n",
       "    <tr>\n",
       "      <th>0</th>\n",
       "      <td>explanation\\nwhy the edits made under my usern...</td>\n",
       "      <td>0</td>\n",
       "    </tr>\n",
       "    <tr>\n",
       "      <th>1</th>\n",
       "      <td>d'aww! he matches this background colour i'm s...</td>\n",
       "      <td>0</td>\n",
       "    </tr>\n",
       "    <tr>\n",
       "      <th>2</th>\n",
       "      <td>hey man, i'm really not trying to edit war. it...</td>\n",
       "      <td>0</td>\n",
       "    </tr>\n",
       "    <tr>\n",
       "      <th>3</th>\n",
       "      <td>\"\\nmore\\ni can't make any real suggestions on ...</td>\n",
       "      <td>0</td>\n",
       "    </tr>\n",
       "    <tr>\n",
       "      <th>4</th>\n",
       "      <td>you, sir, are my hero. any chance you remember...</td>\n",
       "      <td>0</td>\n",
       "    </tr>\n",
       "  </tbody>\n",
       "</table>\n",
       "</div>"
      ],
      "text/plain": [
       "                                                text  toxic\n",
       "0  explanation\\nwhy the edits made under my usern...      0\n",
       "1  d'aww! he matches this background colour i'm s...      0\n",
       "2  hey man, i'm really not trying to edit war. it...      0\n",
       "3  \"\\nmore\\ni can't make any real suggestions on ...      0\n",
       "4  you, sir, are my hero. any chance you remember...      0"
      ]
     },
     "execution_count": 6,
     "metadata": {},
     "output_type": "execute_result"
    }
   ],
   "source": [
    "# уберем столбец дублирующий индекс\n",
    "tweets = tweets.drop('Unnamed: 0',axis=1)\n",
    "\n",
    "# приведем все текстовые значения к нижнему регистру\n",
    "tweets = tweets.apply(lambda col: col.apply(lambda x: x.lower() if isinstance(x, str) else x))\n",
    "\n",
    "tweets.head()"
   ]
  },
  {
   "cell_type": "code",
   "execution_count": 7,
   "metadata": {},
   "outputs": [
    {
     "name": "stdout",
     "output_type": "stream",
     "text": [
      "Количество дубликатов:  45\n",
      "Уникальные значения целевого признака:  [0 1]\n"
     ]
    }
   ],
   "source": [
    "# проверим дубликаты\n",
    "print('Количество дубликатов: ', tweets.duplicated().sum())\n",
    "\n",
    "# уберем дубликаты\n",
    "tweets = tweets.drop_duplicates()\n",
    "\n",
    "# проверим значения целевого признака\n",
    "print('Уникальные значения целевого признака: ', tweets['toxic'].unique())"
   ]
  },
  {
   "cell_type": "code",
   "execution_count": 8,
   "metadata": {},
   "outputs": [
    {
     "data": {
      "image/png": "[encoded data removed]",
      "text/plain": [
       "<Figure size 216x216 with 1 Axes>"
      ]
     },
     "metadata": {
      "needs_background": "light"
     },
     "output_type": "display_data"
    }
   ],
   "source": [
    "# посмотрим на распределение целевого признака\n",
    "plt.figure(figsize=(3,3))\n",
    "sns.histplot(tweets['toxic'], bins=3)\n",
    "plt.title('Распределение признака токсичности \\n по корпусу текстов \\n');"
   ]
  },
  {
   "cell_type": "code",
   "execution_count": 9,
   "metadata": {},
   "outputs": [
    {
     "name": "stdout",
     "output_type": "stream",
     "text": [
      "Размерности до балансировки: \n",
      " (119435,) (39812,) (119435,) (39812,)\n",
      "0\n"
     ]
    }
   ],
   "source": [
    "RANDOM_STATE = 1\n",
    "\n",
    "# разделим выборку на тренировочную и тестовую\n",
    "X_train, X_test, y_train, y_test = train_test_split(\n",
    "    tweets['text'], tweets['toxic'], test_size=0.25, random_state=RANDOM_STATE, stratify = tweets['toxic'])\n",
    "\n",
    "# проверим размерности до балансировки\n",
    "print('Размерности до балансировки: \\n',\n",
    "    X_train.shape,\n",
    "    X_test.shape,\n",
    "    y_train.shape,\n",
    "    y_test.shape)\n",
    "\n",
    "\n",
    "print(X_train.isna().sum())"
   ]
  },
  {
   "cell_type": "code",
   "execution_count": 10,
   "metadata": {},
   "outputs": [
    {
     "name": "stdout",
     "output_type": "stream",
     "text": [
      "Пример исходного текста тренировочной выборки: \n",
      "\n",
      " \":::::if you can't explain yourself and add some substance to your claims that the article is \"\"screaming pov\"\", then i suggest you should stop wasting the editors time here.   \n",
      "\n",
      "\" \n",
      "\n",
      "Пример исходного текста тестовой выборки: \n",
      "\n",
      " \"\n",
      "\n",
      " a cheeseburger for you! \n",
      "\n",
      "  hi   \"\n"
     ]
    }
   ],
   "source": [
    "print(f'Пример исходного текста тренировочной выборки: \\n\\n {X_train.iloc[0]} \\n')\n",
    "print('Пример исходного текста тестовой выборки: \\n\\n', X_test.iloc[0])"
   ]
  },
  {
   "cell_type": "code",
   "execution_count": 11,
   "metadata": {},
   "outputs": [],
   "source": [
    "flag1=1\n",
    "if flag1 == 1:\n",
    "    \n",
    "    if os.path.exists('X_train.csv'):\n",
    "        os.remove('X_train.csv')\n",
    "\n",
    "    if os.path.exists('X_test.csv'):\n",
    "        os.remove('X_test.csv')"
   ]
  },
  {
   "cell_type": "code",
   "execution_count": 12,
   "metadata": {},
   "outputs": [
    {
     "data": {
      "application/vnd.jupyter.widget-view+json": {
       "model_id": "1b11df1fddec4a419def89a570cb8d88",
       "version_major": 2,
       "version_minor": 0
      },
      "text/plain": [
       "  0%|          | 0/119435 [00:00<?, ?it/s]"
      ]
     },
     "metadata": {},
     "output_type": "display_data"
    },
    {
     "data": {
      "application/vnd.jupyter.widget-view+json": {
       "model_id": "f9a2b918aab54b2783a9f38ac7b64288",
       "version_major": 2,
       "version_minor": 0
      },
      "text/plain": [
       "  0%|          | 0/39812 [00:00<?, ?it/s]"
      ]
     },
     "metadata": {},
     "output_type": "display_data"
    }
   ],
   "source": [
    "# скорректируем тексты в корпусе - избавимся от знаков препинания, служебных знаков\n",
    "# очень долгий процесс, поэтому после первого прогона сохраняем лемматизированные файлы на диск \n",
    "# и потом просто их подгружаем\n",
    "\n",
    "# проверяем, существуют ли файлы\n",
    "if os.path.exists('X_train.csv') and \\\n",
    "    os.path.exists('X_test.csv') and \\\n",
    "    os.path.exists('y_train.csv') and \\\n",
    "    os.path.exists('y_test.csv'):\n",
    "    \n",
    "    # загружаем данные из файлов\n",
    "    X_train = pd.read_csv('X_train.csv', squeeze=True)\n",
    "    y_train = pd.read_csv('y_train.csv', squeeze=True)\n",
    "    \n",
    "    X_test = pd.read_csv('X_test.csv', squeeze=True)\n",
    "    y_test = pd.read_csv('y_test.csv', squeeze=True)\n",
    "    \n",
    "else:\n",
    "    # запускаем tqdm для отображения прогресса\n",
    "    tqdm.pandas()\n",
    "\n",
    "    # выполняем лемматизацию с отображением прогресса\n",
    "    X_train = X_train.progress_apply(lambda x: process_text(x))\n",
    "    X_test = X_test.progress_apply(lambda x: process_text(x))\n",
    "    \n",
    "    \n",
    "    # удалим пустые после лемматизации строки и соответствующие им значения целевого признака\n",
    "    indices_to_drop_train = X_train[X_train == ''].index\n",
    "    indices_to_drop_test = X_test[X_test == ''].index\n",
    "\n",
    "    X_train = X_train.drop(indices_to_drop_train).reset_index(drop=True)\n",
    "    y_train = y_train.drop(indices_to_drop_train).reset_index(drop=True)\n",
    "\n",
    "    X_test = X_test.drop(indices_to_drop_test).reset_index(drop=True)\n",
    "    y_test = y_test.drop(indices_to_drop_test).reset_index(drop=True)\n",
    "    \n",
    "    # сохраняем обработанные данные\n",
    "    X_train.to_csv('X_train.csv', index=False)\n",
    "    y_train.to_csv('y_train.csv', index=False)\n",
    "    X_test.to_csv('X_test.csv', index=False)\n",
    "    y_test.to_csv('y_test.csv', index=False)\n"
   ]
  },
  {
   "cell_type": "code",
   "execution_count": 13,
   "metadata": {},
   "outputs": [
    {
     "name": "stdout",
     "output_type": "stream",
     "text": [
      "Пример преобразованного текста тренировочной выборки: \n",
      "\n",
      " if you can t explain yourself and add some substance to your claim that the article be scream pov then i suggest you should stop waste the editor time here \n",
      "\n",
      "Пример преобразованного текста тестовой выборки: \n",
      "\n",
      " a cheeseburger for you hi\n"
     ]
    }
   ],
   "source": [
    "print(f'Пример преобразованного текста тренировочной выборки: \\n\\n {X_train.iloc[0]} \\n')\n",
    "print('Пример преобразованного текста тестовой выборки: \\n\\n', X_test.iloc[0])"
   ]
  },
  {
   "cell_type": "code",
   "execution_count": 14,
   "metadata": {},
   "outputs": [
    {
     "data": {
      "text/plain": [
       "0"
      ]
     },
     "execution_count": 14,
     "metadata": {},
     "output_type": "execute_result"
    }
   ],
   "source": [
    "X_train.isna().sum()"
   ]
  },
  {
   "cell_type": "code",
   "execution_count": 15,
   "metadata": {},
   "outputs": [],
   "source": [
    "# закодируем корпус текстов для обучения модели с помощью TF-IDF\n",
    "stopwords = list(nltk_stopwords.words('english'))\n",
    "\n",
    "count_tf_idf = TfidfVectorizer(stop_words = stopwords) \n",
    "X_train_tf_idf = count_tf_idf.fit_transform(X_train)"
   ]
  },
  {
   "cell_type": "markdown",
   "metadata": {},
   "source": [
    "**Вывод**\n",
    "\n",
    "По итогу загрузки данных проверили данные на дубликаты и пропуски, корректировка типов не потребовалась, был удален столбец с данными, дублирующими индекс.  \n",
    "Целевой признак распределен неравномерно, при разделениии на тренировочные и тестовые данные ресемплировали выборки, чтобы соотношение класса '1' стало более значимым - не менее чем 0.5 от класса '0', более сильное выравнивание по классам (занижение записей класса '0' до количества записей класса '1') плохо влияет на обучение модели.  \n",
    "Далее обработали корпус текстов на предмет занков препинания, служебных символов и стоп-слов, после чего векторизовали весь коопус слов с помощью метода TF-IDF."
   ]
  },
  {
   "cell_type": "markdown",
   "metadata": {},
   "source": [
    "<a id='Обучение'></a> \n",
    "## Обучение\n",
    "[К содержанию](#К-содержанию) "
   ]
  },
  {
   "cell_type": "markdown",
   "metadata": {},
   "source": [
    "Для обучения были выбраны 3 модели - решающее дерево, логистическая регрессия и ансамбль деревьев CatBoost с несколькими гиперпараметрами:"
   ]
  },
  {
   "cell_type": "code",
   "execution_count": 16,
   "metadata": {},
   "outputs": [],
   "source": [
    "# создаём итоговый пайплайн с выбором модели и гиперпараметров\n",
    "pipe_final = Pipeline([\n",
    "    ('models', DecisionTreeClassifier(random_state=RANDOM_STATE))\n",
    "])\n",
    "\n",
    "# задаем наборы гиперпараметров для перебора\n",
    "param_grid = [\n",
    "    # словарь для модели DecisionTreeRegressor()\n",
    "    {\n",
    "        'models': [DecisionTreeClassifier(random_state=RANDOM_STATE)],\n",
    "        'models__max_depth': [5,10],\n",
    "        'models__max_features': [5,10,15]\n",
    "    },\n",
    "\n",
    "    # словарь для модели LogisticRegression()\n",
    "    {\n",
    "        'models': [LogisticRegression(random_state=RANDOM_STATE)],\n",
    "        'models__max_iter': [1000],\n",
    "        'models__C': range(15,17, 21),\n",
    "        'models__penalty':['l2'],\n",
    "        'models__class_weight':['balanced',None]\n",
    "        \n",
    "    },\n",
    "    \n",
    "    # словарь для модели CatBoostRegressor()\n",
    "    {\n",
    "        'models': [CatBoostClassifier(silent=True, random_state=RANDOM_STATE)],\n",
    "        'models__depth': [6],\n",
    "        'models__iterations': [25],\n",
    "        'models__learning_rate': [0.1]\n",
    "    }\n",
    "    \n",
    "]"
   ]
  },
  {
   "cell_type": "code",
   "execution_count": 17,
   "metadata": {
    "scrolled": true
   },
   "outputs": [
    {
     "name": "stdout",
     "output_type": "stream",
     "text": [
      "CPU times: user 3 µs, sys: 0 ns, total: 3 µs\n",
      "Wall time: 6.68 µs\n"
     ]
    },
    {
     "data": {
      "application/vnd.jupyter.widget-view+json": {
       "model_id": "c387fc68e3444595be1777b26ca0a263",
       "version_major": 2,
       "version_minor": 0
      },
      "text/plain": [
       "  0%|          | 0/9 [00:00<?, ?it/s]"
      ]
     },
     "metadata": {},
     "output_type": "display_data"
    },
    {
     "name": "stdout",
     "output_type": "stream",
     "text": [
      "Лучшая метрика F1_score: 0.7673621031391635\n",
      "Параметры лучшей модели: {'models': LogisticRegression(random_state=1), 'models__C': 15, 'models__class_weight': None, 'models__max_iter': 1000, 'models__penalty': 'l2'}\n"
     ]
    }
   ],
   "source": [
    "%time\n",
    "flag = 1 # флажок для пропуска этой части кода\n",
    "\n",
    "if flag == 1:\n",
    "    \n",
    "    # полный перебор гиперпараметров с помощью GridSearchCV с применением tqdm\n",
    "\n",
    "    param_grid = ParameterGrid(param_grid)  # параметры для перебора внутри tqdm\n",
    "\n",
    "    # настройка tqdm\n",
    "    total_combinations = len(param_grid)\n",
    "    with tqdm(total=total_combinations) as pbar:\n",
    "        best_score = -float('inf')\n",
    "        best_params = None\n",
    "        best_model = None\n",
    "\n",
    "\n",
    "        for params in param_grid:\n",
    "            grid_search = GridSearchCV(\n",
    "                pipe_final,\n",
    "                {k: [v] for k, v in params.items()},  # подставляем конкретный набор параметров\n",
    "                cv=5,\n",
    "                scoring='f1',\n",
    "                n_jobs=-1,\n",
    "            )\n",
    "            model = grid_search.fit(X_train_tf_idf, y_train)\n",
    "\n",
    "            # Обновление лучшей метрики\n",
    "            if model.best_score_ > best_score:\n",
    "                best_score = model.best_score_\n",
    "                best_params = params\n",
    "                best_model = model\n",
    "\n",
    "            pbar.update(1)  # обновляем прогресс бар tqdm\n",
    "\n",
    "    # выгружаем лучшую метрику f1 и параметры модели\n",
    "    print(f'Лучшая метрика F1_score: {best_score}')\n",
    "    print(f'Параметры лучшей модели: {best_params}')"
   ]
  },
  {
   "cell_type": "code",
   "execution_count": 18,
   "metadata": {},
   "outputs": [],
   "source": [
    "# указанная метрика получилась при стандартном значении порога 0.5, \n",
    "# посмотрим как будет меняться значение метрики при изменении порога\n",
    "\n",
    "if flag == 1:\n",
    "    proba = best_model.best_estimator_.predict_proba(X_train_tf_idf)\n",
    "\n",
    "    probas = pd.DataFrame({\n",
    "        'predict_proba_0': proba[:, 0],\n",
    "        'predict_proba_1': proba[:, 1],\n",
    "        'y_true': y_train.reset_index(drop=True)\n",
    "    })\n",
    "\n",
    "    probas.head(3)"
   ]
  },
  {
   "cell_type": "code",
   "execution_count": 19,
   "metadata": {},
   "outputs": [
    {
     "data": {
      "image/png": "[encoded data removed]",
      "text/plain": [
       "<Figure size 360x216 with 1 Axes>"
      ]
     },
     "metadata": {
      "needs_background": "light"
     },
     "output_type": "display_data"
    }
   ],
   "source": [
    "if flag == 1:\n",
    "    \n",
    "    thresholds_values = np.arange(0.01, 1.0, 0.01) # сформируем список порогов\n",
    "    f1_scores = []\n",
    "\n",
    "    for threshold in thresholds_values:\n",
    "        y_pred = (probas['predict_proba_1'] >= threshold).astype(int)\n",
    "        f1_s = f1_score(probas['y_true'], y_pred)\n",
    "        f1_scores.append(f1_s)\n",
    "\n",
    "    plt.figure(figsize=(5,3))\n",
    "    sns.lineplot(x=thresholds_values, y=f1_scores)\n",
    "    plt.xlabel('Пороги')\n",
    "    plt.ylabel('Метрика F1 ')\n",
    "    plt.title('Метрика F1 при изменении порога классификации положительного класса (1)\\n')\n",
    "    plt.show()"
   ]
  },
  {
   "cell_type": "code",
   "execution_count": 20,
   "metadata": {},
   "outputs": [
    {
     "name": "stdout",
     "output_type": "stream",
     "text": [
      "Максимальное значение метрики F1:  0.9176692809920749\n",
      "Порог, при котором достигается максимальное значение метрики F1:  0.34\n"
     ]
    }
   ],
   "source": [
    "if flag == 1:\n",
    "    print('Максимальное значение метрики F1: ',np.max(f1_scores))\n",
    "    print('Порог, при котором достигается максимальное значение метрики F1: ', thresholds_values[np.argmax(f1_scores)])"
   ]
  },
  {
   "cell_type": "markdown",
   "metadata": {},
   "source": [
    "Из неспециализированных моделей лучшую метрику на тренировочной выборке показала простая логистическая регрессия со значением метрики F1 - 0.77, при стандартномзначении порога классификации 0.5. При этом максимальное значение метрики достигается при пороге 0.34 (F1 - 0.92), но это скорее всего уже будет переобучением модели.\n",
    "\n",
    "Посмотрим, какие результаты покажет тот же набор моделей, но с учетом подготовки данных в эмбеддинги с помощью специализированной модель BERT:  \n",
    "- учитывая ограничения по ресурсам и времени - для теста моделей с использованием BERT выберем 1000 строк из исходного датасета,\n",
    "- очистим этом корпус текстов,\n",
    "- закодируем его с помощью BERT в эмбеддинги,\n",
    "- прогоним через тот же пайплайн моделей, \n",
    "- оценим результаты,\n",
    "- для тестирования возьмем 400 текстов из исходной тестовой выборки."
   ]
  },
  {
   "cell_type": "code",
   "execution_count": 21,
   "metadata": {},
   "outputs": [
    {
     "name": "stdout",
     "output_type": "stream",
     "text": [
      "(1000, 2)\n"
     ]
    }
   ],
   "source": [
    "# подготовим данные для обучения с помощью BERT\n",
    "\n",
    "# соберем в датафрейм оба признака\n",
    "sample_bert = pd.DataFrame({'text': X_train})\n",
    "sample_bert['toxic'] = y_train\n",
    "\n",
    "# определим размер поднабора\n",
    "sample_size = 1000\n",
    "\n",
    "# разделим данные на поднабор данных и остальную часть, сохраняя баланс классов\n",
    "tweets_sample, _ = train_test_split(sample_bert, \n",
    "                                    test_size=len(sample_bert) - sample_size, \n",
    "                                    stratify=sample_bert['toxic'], \n",
    "                                    random_state=RANDOM_STATE)\n",
    "\n",
    "tweets_sample = tweets_sample.reset_index(drop=True)\n",
    "print(tweets_sample.shape)\n"
   ]
  },
  {
   "cell_type": "code",
   "execution_count": 22,
   "metadata": {},
   "outputs": [
    {
     "data": {
      "application/vnd.jupyter.widget-view+json": {
       "model_id": "5b6485e5a1064dc3887aac061766d087",
       "version_major": 2,
       "version_minor": 0
      },
      "text/plain": [
       "Downloading:   0%|          | 0.00/226k [00:00<?, ?B/s]"
      ]
     },
     "metadata": {},
     "output_type": "display_data"
    },
    {
     "data": {
      "application/vnd.jupyter.widget-view+json": {
       "model_id": "3e574cfbf70c4af2824c8422467779fe",
       "version_major": 2,
       "version_minor": 0
      },
      "text/plain": [
       "Downloading:   0%|          | 0.00/112 [00:00<?, ?B/s]"
      ]
     },
     "metadata": {},
     "output_type": "display_data"
    },
    {
     "data": {
      "application/vnd.jupyter.widget-view+json": {
       "model_id": "4eee75e0f37949d89cebfd7768a336fd",
       "version_major": 2,
       "version_minor": 0
      },
      "text/plain": [
       "Downloading:   0%|          | 0.00/174 [00:00<?, ?B/s]"
      ]
     },
     "metadata": {},
     "output_type": "display_data"
    },
    {
     "data": {
      "application/vnd.jupyter.widget-view+json": {
       "model_id": "1005ea3c0dee406e90df4fd62051adb1",
       "version_major": 2,
       "version_minor": 0
      },
      "text/plain": [
       "Downloading:   0%|          | 0.00/811 [00:00<?, ?B/s]"
      ]
     },
     "metadata": {},
     "output_type": "display_data"
    }
   ],
   "source": [
    "# загрузка предобученного токенизатора\n",
    "\n",
    "# DistilBertTokenizer\n",
    "#tokenizer = transformers.DistilBertTokenizer.from_pretrained('distilbert-base-uncased')\n",
    "\n",
    "# BERT-toxic\n",
    "tokenizer = BertTokenizer.from_pretrained('unitary/toxic-bert')\n",
    "\n",
    "tokenized = tweets_sample['text'].apply(\n",
    "    lambda x: tokenizer.encode(x, add_special_tokens=True, max_length=512, truncation=True)\n",
    ")\n",
    "\n",
    "max_len = 512  # Используем максимальную длину 512\n",
    "padded = np.array([i + [0]*(max_len - len(i)) for i in tokenized.values])\n",
    "\n",
    "\n",
    "attention_mask = np.where(padded != 0, 1, 0)"
   ]
  },
  {
   "cell_type": "code",
   "execution_count": 23,
   "metadata": {
    "scrolled": true
   },
   "outputs": [
    {
     "data": {
      "application/vnd.jupyter.widget-view+json": {
       "model_id": "e24a4258f0c0404e8a5cebe6ae51944c",
       "version_major": 2,
       "version_minor": 0
      },
      "text/plain": [
       "Downloading:   0%|          | 0.00/418M [00:00<?, ?B/s]"
      ]
     },
     "metadata": {},
     "output_type": "display_data"
    }
   ],
   "source": [
    "# загрузим конфигурационный файл\n",
    "#config_bert = DistilBertConfig.from_pretrained('distilbert-base-uncased')\n",
    "\n",
    "# загрузим модель DistilBertModel, как более легкую\n",
    "#model_bert = DistilBertModel.from_pretrained('distilbert-base-uncased', config=config_bert)\n",
    "\n",
    "#загружаем BERT-toxic, конфигурацонный файл ненужен для нее, используется стандартный\n",
    "model_bert = BertForSequenceClassification.from_pretrained(\"unitary/toxic-bert\")"
   ]
  },
  {
   "cell_type": "code",
   "execution_count": 24,
   "metadata": {},
   "outputs": [
    {
     "data": {
      "application/vnd.jupyter.widget-view+json": {
       "model_id": "847730bd31b549a4aa91b7e69c74691c",
       "version_major": 2,
       "version_minor": 0
      },
      "text/plain": [
       "Processing batches:   0%|          | 0/100 [00:00<?, ?it/s]"
      ]
     },
     "metadata": {},
     "output_type": "display_data"
    }
   ],
   "source": [
    "# ранее указанный в уроках алгоритм дообучения BERT немного усовершенствовал \n",
    "# для сохранения полученных эмбеддингов на диск, чтобы не превышать допустимый объем памяти\n",
    "# после прогона обучения - для прогноза загружаем их снова с диска\n",
    "\n",
    "batch_size = 10\n",
    "max_length = 512\n",
    "embedding_dim = model_bert.config.hidden_size  # указываем размерность эмбеддингов\n",
    "\n",
    "# создаем массив на диске с помощью np.memmap\n",
    "embeddings_memmap = np.memmap('embeddings.npy', dtype='float32', mode='w+', shape=(padded.shape[0], embedding_dim))\n",
    "\n",
    "for i in tqdm(range(padded.shape[0] // batch_size), desc=\"Processing batches\") :\n",
    "    batch = torch.LongTensor(padded[batch_size * i : batch_size * (i + 1), :max_length])\n",
    "    attention_mask_batch = torch.LongTensor(attention_mask[batch_size * i : batch_size * (i + 1), :max_length])\n",
    "    \n",
    "    with torch.no_grad():\n",
    "        #batch_embeddings = model_bert(batch, attention_mask=attention_mask_batch) #DistilBertModel\n",
    "        outputs = model_bert(batch, attention_mask=attention_mask_batch, output_hidden_states=True)\n",
    "        hidden_states = outputs.hidden_states\n",
    "        # берем средение значения эмбеддингов за последние 4 слоя           \n",
    "        batch_embeddings = torch.mean(torch.stack(hidden_states[-4:]), dim=0)\n",
    "        \n",
    "    # записываем эмбеддинги батча в файл\n",
    "    #embeddings_memmap[batch_size * i : batch_size * (i + 1), :] = batch_embeddings[0][:, 0, :].cpu().numpy() #DistilBertModel\n",
    "    embeddings_memmap[batch_size * i : batch_size * (i + 1), :] = batch_embeddings[:, 0, :].cpu().numpy()\n",
    "\n",
    "    del batch_embeddings  # удаляем временные переменные, чтобы освободить память\n",
    "    torch.cuda.empty_cache()  # и очищаем память\n",
    "\n",
    "# синхронизируем данные на диск\n",
    "embeddings_memmap.flush()\n",
    "del embeddings_memmap  # закрываем файл"
   ]
  },
  {
   "cell_type": "code",
   "execution_count": 25,
   "metadata": {},
   "outputs": [
    {
     "data": {
      "text/plain": [
       "memmap([[-0.6192379 , -1.3221471 , -0.5063638 , ..., -0.37349528,\n",
       "          0.4302929 ,  0.04284727],\n",
       "        [-0.6878131 , -1.5087209 ,  0.24257326, ..., -0.3602581 ,\n",
       "          0.58777344,  0.8803367 ],\n",
       "        [-0.54722023, -0.79059374, -0.27587694, ..., -0.24656689,\n",
       "          0.11589866, -0.0401797 ],\n",
       "        ...,\n",
       "        [-0.6149867 , -1.4320469 ,  0.26751742, ..., -0.5729021 ,\n",
       "          0.27687138, -0.1101369 ],\n",
       "        [-0.9576085 , -0.8323131 , -0.3656378 , ..., -0.5172838 ,\n",
       "          0.16725567,  1.0194391 ],\n",
       "        [-0.8237953 , -1.266231  ,  0.32817477, ..., -0.5487284 ,\n",
       "          0.44511035, -0.05851274]], dtype=float32)"
      ]
     },
     "execution_count": 25,
     "metadata": {},
     "output_type": "execute_result"
    }
   ],
   "source": [
    "# загружаем эмбеддинги из файла и разбиваем на количество исходных текстов в корпусе\n",
    "embeddings_memmap = np.memmap('embeddings.npy', dtype='float32', mode='r')\n",
    "features = embeddings_memmap.reshape((padded.shape[0], -1))\n",
    "\n",
    "features"
   ]
  },
  {
   "cell_type": "code",
   "execution_count": 26,
   "metadata": {},
   "outputs": [
    {
     "name": "stdout",
     "output_type": "stream",
     "text": [
      "Размерность корпуса эмбеддингов:  (1000, 768)\n",
      "Размерность целевого признака:  (1000,)\n"
     ]
    }
   ],
   "source": [
    "# проверим размерности эмбеддингов и целевого признака\n",
    "print('Размерность корпуса эмбеддингов: ',features.shape)\n",
    "print('Размерность целевого признака: ',tweets_sample['toxic'].shape)"
   ]
  },
  {
   "cell_type": "code",
   "execution_count": 27,
   "metadata": {},
   "outputs": [],
   "source": [
    "# создаём итоговый пайплайнд для перебора того же набора моделей, но на эмбеддингах\n",
    "pipe_final = Pipeline([\n",
    "    ('models', DecisionTreeClassifier(random_state=RANDOM_STATE))\n",
    "])\n",
    "\n",
    "# задаем наборы гиперпараметрво для перебора\n",
    "param_grid = [\n",
    "    # словарь для модели DecisionTreeRegressor()\n",
    "    {\n",
    "        'models': [DecisionTreeClassifier(random_state=RANDOM_STATE)],\n",
    "        'models__max_depth': [5,10],\n",
    "        'models__max_features': [5,10,15]\n",
    "    },\n",
    "\n",
    "    # словарь для модели LinearRegression()\n",
    "    {\n",
    "        'models': [LogisticRegression(random_state=RANDOM_STATE)],\n",
    "        'models__max_iter': [2000],\n",
    "        'models__C': range(5,20),\n",
    "        'models__penalty':['l2'],\n",
    "        'models__class_weight':['balanced',None]\n",
    "    },\n",
    "    \n",
    "    # словарь для модели CatBoostRegressor()\n",
    "    {\n",
    "        'models': [CatBoostClassifier(silent=True, random_state=RANDOM_STATE)],\n",
    "        'models__depth': [6,11],\n",
    "        'models__iterations': [25,50],\n",
    "        'models__learning_rate': [0.1]\n",
    "    }\n",
    "    \n",
    "]"
   ]
  },
  {
   "cell_type": "code",
   "execution_count": 28,
   "metadata": {},
   "outputs": [],
   "source": [
    "# для удобства переименуем корпус данных на эмбеддингах на тренировочный и тестовый\n",
    "X_train_b = features\n",
    "y_train_b = tweets_sample['toxic']"
   ]
  },
  {
   "cell_type": "code",
   "execution_count": 29,
   "metadata": {},
   "outputs": [
    {
     "name": "stdout",
     "output_type": "stream",
     "text": [
      "CPU times: user 2 µs, sys: 0 ns, total: 2 µs\n",
      "Wall time: 6.44 µs\n"
     ]
    },
    {
     "data": {
      "application/vnd.jupyter.widget-view+json": {
       "model_id": "2ff8905a021a42dd8156168b0e175eb8",
       "version_major": 2,
       "version_minor": 0
      },
      "text/plain": [
       "  0%|          | 0/40 [00:00<?, ?it/s]"
      ]
     },
     "metadata": {},
     "output_type": "display_data"
    },
    {
     "name": "stdout",
     "output_type": "stream",
     "text": [
      "Лучшая метрика F1_score: 0.9109772637969193\n",
      "Параметры лучшей модели: {'models': <catboost.core.CatBoostClassifier object at 0x7f949a21a5e0>, 'models__depth': 6, 'models__iterations': 50, 'models__learning_rate': 0.1}\n"
     ]
    }
   ],
   "source": [
    "%time\n",
    "\n",
    "# полный перебор гиперпараметров с помощью GridSearchCV\n",
    "param_grid = ParameterGrid(param_grid)  # параметры для перебора внутри tqdm\n",
    "\n",
    "# настройка tqdm\n",
    "total_combinations = len(param_grid)\n",
    "with tqdm(total=total_combinations) as pbar:\n",
    "    best_score_b = -float('inf')\n",
    "    best_params_b = None\n",
    "    best_model_b = None\n",
    "\n",
    "    \n",
    "    for params in param_grid:\n",
    "        grid_search = GridSearchCV(\n",
    "            pipe_final,\n",
    "            {k: [v] for k, v in params.items()},  # подставляем конкретный набор параметров\n",
    "            cv=5,\n",
    "            scoring='f1',\n",
    "            n_jobs=-1,\n",
    "        )\n",
    "        model_b = grid_search.fit(X_train_b, y_train_b)\n",
    "        \n",
    "        # Обновление лучшей метрики\n",
    "        if model_b.best_score_ > best_score_b:\n",
    "            best_score_b = model_b.best_score_\n",
    "            best_params_b = params\n",
    "            best_model_b = model_b\n",
    "        \n",
    "        pbar.update(1)  # обновляем прогресс бар tqdm\n",
    "\n",
    "# выгружаем лучшую метрику f1 и параметры модели\n",
    "print(f'Лучшая метрика F1_score: {best_score_b}')\n",
    "print(f'Параметры лучшей модели: {best_params_b}')"
   ]
  },
  {
   "cell_type": "markdown",
   "metadata": {},
   "source": [
    "**Вывод**\n",
    "\n",
    "Из неспециализированных моделей (DecisionTreeClassifier, LogisticRegression, CatBoost) лучшую метрику на тренировочной выборке на данных, закодированных с помощью метода TF-IDF, показала простая логистическая регрессия со значением метрики F1 - 0.77 при стандартном значении порога классификации 0.5. \n",
    "Применив тот же пайплайн моделей, но на данных закодированных в эмбеддинги с помощью Bert-Toxic при использовании для обучения 1000 текстов из всего корпуса, лучший результат снова у логистической регрессии с метрикой F1 - 0.91. То есть обучение c на сильно меньшей выборке, но с применением более совершенной модели (подготовки токенов и эмбеддингов) показало большую эффективность."
   ]
  },
  {
   "cell_type": "markdown",
   "metadata": {},
   "source": [
    "<a id='Тестирование'></a> \n",
    "## Тестирование\n",
    "[К содержанию](#К-содержанию) "
   ]
  },
  {
   "cell_type": "markdown",
   "metadata": {},
   "source": [
    "Проведем тестирование моделей по итогам обучения, при этом т.к. обучение на эмбеддингах с использованием BERT проводилось на гораздо меньшем корпусе текстов, тестирование на одном и том же объеме тестовой выборки затруднительно, поэтому проведем два теста - для моделей на данных, веторизированных с помощью TF-IDF на всем корпусе тестового набора данных, а модели обученнные с помощью BERT-toxic на случайном поднаборе из 400 текстов тестового набора."
   ]
  },
  {
   "cell_type": "code",
   "execution_count": 30,
   "metadata": {},
   "outputs": [
    {
     "name": "stdout",
     "output_type": "stream",
     "text": [
      "Метрика f1 на тестовых данных при векторизации TF-IDF: 0.776\n"
     ]
    }
   ],
   "source": [
    "# проверим лучшую модель на тестовых данных (TF-IDF) \n",
    "\n",
    "if flag == 1: # флажок для пропуска раздела\n",
    "    \n",
    "    X_test_tf_idf = count_tf_idf.transform(X_test)\n",
    "\n",
    "    y_pred = best_model.predict(X_test_tf_idf)\n",
    "\n",
    "    # считаем метрику на тестовых данных\n",
    "    f1_test = f1_score(y_test, y_pred)\n",
    "    print(f'Метрика f1 на тестовых данных при векторизации TF-IDF: {f1_test:.3f}')"
   ]
  },
  {
   "cell_type": "code",
   "execution_count": 31,
   "metadata": {},
   "outputs": [
    {
     "name": "stdout",
     "output_type": "stream",
     "text": [
      "                                                text  toxic\n",
      "0                          a cheeseburger for you hi      0\n",
      "1  no it s or shell a differ a bit on how many be...      0\n",
      "2  unblock reason the user that report me make se...      0\n",
      "3  a wp consensus say in determine consensus cons...      0\n",
      "4  and let be frank it not a if you give a toss a...      1\n",
      "5  deep web article thanks for your message i mak...      0\n",
      "6  avenue road the article be make into a redirec...      0\n",
      "7                               fine then i hate you      1\n",
      "8  i don t understand why wouldn t analysis of gr...      0\n",
      "9  test card f music ceefax music isn t the same ...      0\n",
      "(400, 2)\n"
     ]
    }
   ],
   "source": [
    "# проверим лучшую модель на тестовых данных (BERT) \n",
    "# выберем 400 текстов из тестовых данных\n",
    "\n",
    "y_test = y_test.reset_index(drop=True)\n",
    "\n",
    "# соберем в датафрейм оба признака\n",
    "tweets_test = pd.DataFrame({'text': X_test})\n",
    "tweets_test['toxic'] = y_test\n",
    "\n",
    "print(tweets_test.head(10))\n",
    "\n",
    "# определим размер поднабора\n",
    "test_sample_size = 400\n",
    "\n",
    "# разделим данные на поднабор данных и остальную часть, сохраняя баланс классов\n",
    "tweets_test_sample, _ = train_test_split(tweets_test, \n",
    "                                    test_size=len(tweets_test) - test_sample_size, \n",
    "                                    stratify=tweets_test['toxic'], \n",
    "                                    random_state=RANDOM_STATE)\n",
    "\n",
    "tweets_test_sample = tweets_test_sample.reset_index(drop=True)\n",
    "print(tweets_test_sample.shape)"
   ]
  },
  {
   "cell_type": "code",
   "execution_count": 32,
   "metadata": {},
   "outputs": [],
   "source": [
    "# токенизируем тестовые данные\n",
    "tokenized_test = tweets_test_sample['text'].apply(\n",
    "    lambda x: tokenizer.encode(x, add_special_tokens=True, max_length=512, truncation=True))\n",
    "\n",
    "max_len = 512\n",
    "padded_test = np.array([i + [0]*(max_len - len(i)) for i in tokenized_test.values])\n",
    "\n",
    "attention_mask = np.where(padded_test != 0, 1, 0)"
   ]
  },
  {
   "cell_type": "code",
   "execution_count": 33,
   "metadata": {},
   "outputs": [
    {
     "data": {
      "application/vnd.jupyter.widget-view+json": {
       "model_id": "00a2980398a6416c8255eaeecc144a7b",
       "version_major": 2,
       "version_minor": 0
      },
      "text/plain": [
       "Processing batches:   0%|          | 0/40 [00:00<?, ?it/s]"
      ]
     },
     "metadata": {},
     "output_type": "display_data"
    }
   ],
   "source": [
    "# готовим эмбеддинги на тестовых данных\n",
    "batch_size = 10\n",
    "max_length = 512\n",
    "embedding_dim = model_bert.config.hidden_size  # указываем размерность эмбеддингов\n",
    "\n",
    "# создаем массив на диске с помощью np.memmap\n",
    "embeddings_memmap_test = np.memmap('embeddings_test.npy', \n",
    "                                   dtype='float32', \n",
    "                                   mode='w+', \n",
    "                                   shape=(padded_test.shape[0], \n",
    "                                   embedding_dim))\n",
    "\n",
    "for i in tqdm(range(padded_test.shape[0] // batch_size), desc=\"Processing batches\") :\n",
    "    batch = torch.LongTensor(padded_test[batch_size * i : batch_size * (i + 1), :max_length])\n",
    "    attention_mask_batch = torch.LongTensor(attention_mask[batch_size * i : batch_size * (i + 1), :max_length])\n",
    "    \n",
    "    with torch.no_grad():\n",
    "        #batch_embeddings = model_bert(batch, attention_mask=attention_mask_batch)\n",
    "        outputs = model_bert(batch, attention_mask=attention_mask_batch, output_hidden_states=True)\n",
    "        hidden_states = outputs.hidden_states\n",
    "        #batch_embeddings = hidden_states[-1]  # Последний слой скрытых состояний           \n",
    "        batch_embeddings = torch.mean(torch.stack(hidden_states[-4:]), dim=0)\n",
    "    \n",
    "    # записываем эмбеддинги батча в файл\n",
    "    #embeddings_memmap_test[batch_size * i : batch_size * (i + 1), :] = batch_embeddings[0][:, 0, :].cpu().numpy()\n",
    "    embeddings_memmap_test[batch_size * i : batch_size * (i + 1), :] = batch_embeddings[:, 0, :].cpu().numpy()\n",
    "    del batch_embeddings  # удаляем временные переменные, чтобы освободить память\n",
    "    torch.cuda.empty_cache()  # и очищаем память\n",
    "\n",
    "# синхронизируем данные на диск\n",
    "embeddings_memmap_test.flush()\n",
    "del embeddings_memmap_test  # закрываем файл"
   ]
  },
  {
   "cell_type": "code",
   "execution_count": 34,
   "metadata": {},
   "outputs": [
    {
     "data": {
      "text/plain": [
       "memmap([[ 4.66242164e-01,  5.44436216e-01, -8.28052044e-01, ...,\n",
       "         -8.77397835e-01, -1.95933893e-01, -5.73798537e-01],\n",
       "        [-7.21752644e-01, -1.32724118e+00,  2.81873167e-01, ...,\n",
       "         -6.46222353e-01,  4.15188730e-01, -9.19613987e-04],\n",
       "        [-1.21839952e+00, -1.23614597e+00, -6.61065727e-02, ...,\n",
       "         -6.67648494e-01,  4.22346473e-01,  3.34278971e-01],\n",
       "        ...,\n",
       "        [-8.54678512e-01, -1.30826712e+00,  2.02274859e-01, ...,\n",
       "         -7.89361715e-01,  2.25308716e-01,  2.39377812e-01],\n",
       "        [-1.06655371e+00, -1.09008610e+00,  1.84332788e-01, ...,\n",
       "         -4.16305423e-01,  4.04093117e-01,  1.56281292e-01],\n",
       "        [-8.73986483e-01, -1.50817966e+00,  2.50843614e-02, ...,\n",
       "         -5.33541322e-01,  5.11457145e-01,  1.07865304e-01]],\n",
       "       dtype=float32)"
      ]
     },
     "execution_count": 34,
     "metadata": {},
     "output_type": "execute_result"
    }
   ],
   "source": [
    "# загружаем эмбеддинги из файла и разбиваем на количество исходных текстов в корпусе\n",
    "embeddings_memmap_test = np.memmap('embeddings_test.npy', dtype='float32', mode='r')\n",
    "features_test = embeddings_memmap_test.reshape((padded_test.shape[0], -1))\n",
    "\n",
    "features_test"
   ]
  },
  {
   "cell_type": "code",
   "execution_count": 35,
   "metadata": {},
   "outputs": [
    {
     "name": "stdout",
     "output_type": "stream",
     "text": [
      "Метрика f1 на тестовых данных при векторизации с помощью BERT: 0.895\n"
     ]
    }
   ],
   "source": [
    "# также проверим лучшую модель на тестовой части выборки на эмбеддингах\n",
    "y_pred_b_test = best_model_b.predict(features_test)\n",
    "\n",
    "# считаем метрику на тестовых данных\n",
    "f1_test_b = f1_score(tweets_test_sample['toxic'], y_pred_b_test)\n",
    "print(f'Метрика f1 на тестовых данных при векторизации с помощью BERT: {f1_test_b:.3f}')"
   ]
  },
  {
   "cell_type": "markdown",
   "metadata": {},
   "source": [
    "**Вывод**\n",
    "\n",
    "На тестах модель LogisticRegression обученная на данных, закодированных с помощью TF-IDF, но на всем корпусе тестовых данных показала лучшую метрику F1 - 0.776, а модель Catboost, обученная на эмбеддингах  показала 0.895, то есть оба вариант обучения превысили требуемый порог 0.75.\n"
   ]
  },
  {
   "cell_type": "markdown",
   "metadata": {},
   "source": [
    "<a id='Общие-выводы'></a> \n",
    "## Общие выводы\n",
    "[К содержанию](#К-содержанию) "
   ]
  },
  {
   "cell_type": "markdown",
   "metadata": {},
   "source": [
    "По итогу **загрузки данных** проверили данные на дубликаты и пропуски, корректировка типов не потребовалась, был удален столбец с данными, дублирующими индекс.\n",
    "Целевой признак распределен неравномерно, при разделениии на тренировочные и тестовые данные ресемплировали выборки, чтобы соотношение класса '1' стало более значимым - не менее чем 0.5 от класса '0', более сильное выравнивание по классам (занижение записей класса '0' до количества записей класса '1') плохо влияет на обучение модели.\n",
    "Далее обработали корпус текстов на предмет знаков препинания, служебных символов и стоп-слов, после чего векторизовали весь корпус слов с помощью метода TF-IDF.\n",
    "Для **обучения** были выбраны 3 алгоритма - решающее дерево, логистическая регрессия и ансамбль деревьев CatBoost, которые были применены к ранее подготовленному корпусу текстов. Из неспециализированных моделей лучшую метрику на тренировочной выборке показала простая логистическая регрессия со значением метрики F1 - 0.776, при стандартном значении порога классификации 0.5. \n",
    "Далее было принято решение попробовать обучить тот же пайплайн алгоритмов, но на наборе эмбеддингов подготовленных с помощью **модели BERT-toxic**. С учетом затратности и по ресурсам и времени для подготовки эмбеддингов и обучения была выбрана подвыборка из 1000 текстов, при обучении на которой лучший результат также показала логистическая регрессия с метрикой F1 - 0.91, что даже лучше модели обученной на большем количестве данных.\n",
    "\n",
    "Учитывая результаты обучения, явным лидером с значительно более высокой метрикой стала модель, обученная CatBoost на малом корпусе текстов(1000 шт.), при этом обе модели превысили требуемвй порог качества(0.75), поэтому было принято решение осуществить тестирование обоих вариантов.  \n",
    "\n",
    "При **тестировании**, **модель, обученная на всем корпусе текстов,** показала результат по метрике **F1 - 0.776**, что соответствует условиям задачи. **Модель, обученная на эмбеддингах** показала намного более сильную метрику **F1 - 0.895**, подтвердив, свою прогнозную способность по сравнению с более простым вариантом.\n",
    "\n",
    "Соответственно для целей использования в работе рекомендована **модель, обученная на эмбеддингах**, то есть более подходящая модель кодирования текстовых данных, предобученная на подходящем дл классификации корпуске текстов BERT-toxic, значительно лучше справляется с поставленной задачей.\n"
   ]
  },
  {
   "cell_type": "markdown",
   "metadata": {},
   "source": [
    "<a id='Чек-лист-проверки'></a> \n",
    "## Чек-лист проверки\n",
    "[К содержанию](#К-содержанию) "
   ]
  },
  {
   "cell_type": "markdown",
   "metadata": {},
   "source": [
    "- [x]  Jupyter Notebook открыт\n",
    "- [x]  Весь код выполняется без ошибок\n",
    "- [x]  Ячейки с кодом расположены в порядке исполнения\n",
    "- [x]  Данные загружены и подготовлены\n",
    "- [x]  Модели обучены\n",
    "- [x]  Значение метрики *F1* не меньше 0.75\n",
    "- [x]  Выводы написаны"
   ]
  },
  {
   "cell_type": "code",
   "execution_count": null,
   "metadata": {},
   "outputs": [],
   "source": []
  }
 ],
 "metadata": {
  "ExecuteTimeLog": [
   {
    "duration": 40344,
    "start_time": "2024-08-25T15:42:42.733Z"
   },
   {
    "duration": 5217,
    "start_time": "2024-08-25T15:43:23.080Z"
   },
   {
    "duration": 0,
    "start_time": "2024-08-25T15:43:28.299Z"
   },
   {
    "duration": 0,
    "start_time": "2024-08-25T15:43:28.301Z"
   },
   {
    "duration": 0,
    "start_time": "2024-08-25T15:43:28.302Z"
   },
   {
    "duration": 0,
    "start_time": "2024-08-25T15:43:28.303Z"
   },
   {
    "duration": 0,
    "start_time": "2024-08-25T15:43:28.304Z"
   },
   {
    "duration": 0,
    "start_time": "2024-08-25T15:43:28.305Z"
   },
   {
    "duration": 0,
    "start_time": "2024-08-25T15:43:28.306Z"
   },
   {
    "duration": 0,
    "start_time": "2024-08-25T15:43:28.307Z"
   },
   {
    "duration": 0,
    "start_time": "2024-08-25T15:43:28.307Z"
   },
   {
    "duration": 0,
    "start_time": "2024-08-25T15:43:28.309Z"
   },
   {
    "duration": 0,
    "start_time": "2024-08-25T15:43:28.310Z"
   },
   {
    "duration": 0,
    "start_time": "2024-08-25T15:43:28.311Z"
   },
   {
    "duration": 0,
    "start_time": "2024-08-25T15:43:28.312Z"
   },
   {
    "duration": 0,
    "start_time": "2024-08-25T15:43:28.313Z"
   },
   {
    "duration": 0,
    "start_time": "2024-08-25T15:43:28.314Z"
   },
   {
    "duration": 0,
    "start_time": "2024-08-25T15:43:28.315Z"
   },
   {
    "duration": 0,
    "start_time": "2024-08-25T15:43:28.317Z"
   },
   {
    "duration": 0,
    "start_time": "2024-08-25T15:43:28.318Z"
   },
   {
    "duration": 29038,
    "start_time": "2024-08-25T15:44:58.639Z"
   },
   {
    "duration": 23538,
    "start_time": "2024-08-25T15:45:52.487Z"
   },
   {
    "duration": 5129,
    "start_time": "2024-08-25T15:46:16.027Z"
   },
   {
    "duration": 8,
    "start_time": "2024-08-25T15:46:21.157Z"
   },
   {
    "duration": 1322,
    "start_time": "2024-08-25T15:46:21.167Z"
   },
   {
    "duration": 51,
    "start_time": "2024-08-25T15:46:22.491Z"
   },
   {
    "duration": 339,
    "start_time": "2024-08-25T15:46:22.544Z"
   },
   {
    "duration": 395,
    "start_time": "2024-08-25T15:46:22.885Z"
   },
   {
    "duration": 401,
    "start_time": "2024-08-25T15:46:23.282Z"
   },
   {
    "duration": 146,
    "start_time": "2024-08-25T15:46:23.685Z"
   },
   {
    "duration": 4,
    "start_time": "2024-08-25T15:46:23.833Z"
   },
   {
    "duration": 531,
    "start_time": "2024-08-25T15:46:23.839Z"
   },
   {
    "duration": 0,
    "start_time": "2024-08-25T15:46:24.373Z"
   },
   {
    "duration": 0,
    "start_time": "2024-08-25T15:46:24.374Z"
   },
   {
    "duration": 0,
    "start_time": "2024-08-25T15:46:24.375Z"
   },
   {
    "duration": 0,
    "start_time": "2024-08-25T15:46:24.377Z"
   },
   {
    "duration": 0,
    "start_time": "2024-08-25T15:46:24.378Z"
   },
   {
    "duration": 0,
    "start_time": "2024-08-25T15:46:24.380Z"
   },
   {
    "duration": 0,
    "start_time": "2024-08-25T15:46:24.382Z"
   },
   {
    "duration": 0,
    "start_time": "2024-08-25T15:46:24.383Z"
   },
   {
    "duration": 0,
    "start_time": "2024-08-25T15:46:24.384Z"
   },
   {
    "duration": 22795,
    "start_time": "2024-08-25T15:50:04.933Z"
   },
   {
    "duration": 3523,
    "start_time": "2024-08-25T15:50:27.731Z"
   },
   {
    "duration": 9,
    "start_time": "2024-08-25T15:50:31.255Z"
   },
   {
    "duration": 913,
    "start_time": "2024-08-25T15:50:31.266Z"
   },
   {
    "duration": 43,
    "start_time": "2024-08-25T15:50:32.181Z"
   },
   {
    "duration": 327,
    "start_time": "2024-08-25T15:50:32.225Z"
   },
   {
    "duration": 405,
    "start_time": "2024-08-25T15:50:32.553Z"
   },
   {
    "duration": 373,
    "start_time": "2024-08-25T15:50:32.960Z"
   },
   {
    "duration": 116,
    "start_time": "2024-08-25T15:50:33.334Z"
   },
   {
    "duration": 3,
    "start_time": "2024-08-25T15:50:33.461Z"
   },
   {
    "duration": 477764,
    "start_time": "2024-08-25T15:50:33.466Z"
   },
   {
    "duration": 0,
    "start_time": "2024-08-25T15:58:31.232Z"
   },
   {
    "duration": 0,
    "start_time": "2024-08-25T15:58:31.233Z"
   },
   {
    "duration": 0,
    "start_time": "2024-08-25T15:58:31.234Z"
   },
   {
    "duration": 0,
    "start_time": "2024-08-25T15:58:31.235Z"
   },
   {
    "duration": 0,
    "start_time": "2024-08-25T15:58:31.237Z"
   },
   {
    "duration": 0,
    "start_time": "2024-08-25T15:58:31.238Z"
   },
   {
    "duration": 1,
    "start_time": "2024-08-25T15:58:31.239Z"
   },
   {
    "duration": 0,
    "start_time": "2024-08-25T15:58:31.241Z"
   },
   {
    "duration": 0,
    "start_time": "2024-08-25T15:58:31.242Z"
   },
   {
    "duration": 22948,
    "start_time": "2024-08-25T15:58:46.289Z"
   },
   {
    "duration": 3598,
    "start_time": "2024-08-25T15:59:09.239Z"
   },
   {
    "duration": 8,
    "start_time": "2024-08-25T15:59:12.839Z"
   },
   {
    "duration": 882,
    "start_time": "2024-08-25T15:59:12.848Z"
   },
   {
    "duration": 54,
    "start_time": "2024-08-25T15:59:13.733Z"
   },
   {
    "duration": 370,
    "start_time": "2024-08-25T15:59:13.790Z"
   },
   {
    "duration": 409,
    "start_time": "2024-08-25T15:59:14.162Z"
   },
   {
    "duration": 428,
    "start_time": "2024-08-25T15:59:14.573Z"
   },
   {
    "duration": 127,
    "start_time": "2024-08-25T15:59:15.002Z"
   },
   {
    "duration": 4,
    "start_time": "2024-08-25T15:59:15.132Z"
   },
   {
    "duration": 649125,
    "start_time": "2024-08-25T15:59:15.138Z"
   },
   {
    "duration": 5,
    "start_time": "2024-08-25T16:10:04.265Z"
   },
   {
    "duration": 3603,
    "start_time": "2024-08-25T16:10:04.272Z"
   },
   {
    "duration": 3,
    "start_time": "2024-08-25T16:10:07.877Z"
   },
   {
    "duration": 16,
    "start_time": "2024-08-25T16:10:07.882Z"
   },
   {
    "duration": 2418521,
    "start_time": "2024-08-25T16:10:07.901Z"
   },
   {
    "duration": 0,
    "start_time": "2024-08-25T16:50:26.424Z"
   },
   {
    "duration": 0,
    "start_time": "2024-08-25T16:50:26.426Z"
   },
   {
    "duration": 0,
    "start_time": "2024-08-25T16:50:26.428Z"
   },
   {
    "duration": 0,
    "start_time": "2024-08-25T16:50:26.429Z"
   },
   {
    "duration": 20,
    "start_time": "2024-08-25T16:50:30.019Z"
   },
   {
    "duration": 23074,
    "start_time": "2024-08-25T16:50:46.617Z"
   },
   {
    "duration": 3563,
    "start_time": "2024-08-25T16:51:09.694Z"
   },
   {
    "duration": 8,
    "start_time": "2024-08-25T16:51:13.259Z"
   },
   {
    "duration": 914,
    "start_time": "2024-08-25T16:51:13.268Z"
   },
   {
    "duration": 44,
    "start_time": "2024-08-25T16:51:14.184Z"
   },
   {
    "duration": 355,
    "start_time": "2024-08-25T16:51:14.237Z"
   },
   {
    "duration": 412,
    "start_time": "2024-08-25T16:51:14.593Z"
   },
   {
    "duration": 390,
    "start_time": "2024-08-25T16:51:15.006Z"
   },
   {
    "duration": 128,
    "start_time": "2024-08-25T16:51:15.398Z"
   },
   {
    "duration": 3,
    "start_time": "2024-08-25T16:51:15.528Z"
   },
   {
    "duration": 662093,
    "start_time": "2024-08-25T16:51:15.533Z"
   },
   {
    "duration": 5,
    "start_time": "2024-08-25T17:02:17.628Z"
   },
   {
    "duration": 3894,
    "start_time": "2024-08-25T17:02:17.635Z"
   },
   {
    "duration": 2,
    "start_time": "2024-08-25T17:02:21.532Z"
   },
   {
    "duration": 14,
    "start_time": "2024-08-25T17:02:21.536Z"
   },
   {
    "duration": 2009516,
    "start_time": "2024-08-25T17:02:21.561Z"
   },
   {
    "duration": 0,
    "start_time": "2024-08-25T17:35:51.079Z"
   },
   {
    "duration": 0,
    "start_time": "2024-08-25T17:35:51.081Z"
   },
   {
    "duration": 0,
    "start_time": "2024-08-25T17:35:51.082Z"
   },
   {
    "duration": 0,
    "start_time": "2024-08-25T17:35:51.084Z"
   },
   {
    "duration": 5,
    "start_time": "2024-08-25T17:35:59.370Z"
   },
   {
    "duration": 1218599,
    "start_time": "2024-08-25T17:36:05.954Z"
   },
   {
    "duration": 24303,
    "start_time": "2024-08-25T17:56:56.708Z"
   },
   {
    "duration": 3693,
    "start_time": "2024-08-25T17:57:21.013Z"
   },
   {
    "duration": 8,
    "start_time": "2024-08-25T17:57:24.708Z"
   },
   {
    "duration": 1014,
    "start_time": "2024-08-25T17:57:24.718Z"
   },
   {
    "duration": 52,
    "start_time": "2024-08-25T17:57:25.734Z"
   },
   {
    "duration": 389,
    "start_time": "2024-08-25T17:57:25.788Z"
   },
   {
    "duration": 441,
    "start_time": "2024-08-25T17:57:26.178Z"
   },
   {
    "duration": 414,
    "start_time": "2024-08-25T17:57:26.621Z"
   },
   {
    "duration": 125,
    "start_time": "2024-08-25T17:57:27.036Z"
   },
   {
    "duration": 6,
    "start_time": "2024-08-25T17:57:27.172Z"
   },
   {
    "duration": 704995,
    "start_time": "2024-08-25T17:57:27.179Z"
   },
   {
    "duration": 5,
    "start_time": "2024-08-25T18:09:12.179Z"
   },
   {
    "duration": 4117,
    "start_time": "2024-08-25T18:09:12.186Z"
   },
   {
    "duration": 3,
    "start_time": "2024-08-25T18:09:16.306Z"
   },
   {
    "duration": 7,
    "start_time": "2024-08-25T18:09:16.311Z"
   },
   {
    "duration": 340058,
    "start_time": "2024-08-25T18:09:16.320Z"
   },
   {
    "duration": 271,
    "start_time": "2024-08-25T18:14:56.381Z"
   },
   {
    "duration": 0,
    "start_time": "2024-08-25T18:14:56.654Z"
   },
   {
    "duration": 0,
    "start_time": "2024-08-25T18:14:56.655Z"
   },
   {
    "duration": 0,
    "start_time": "2024-08-25T18:14:56.656Z"
   },
   {
    "duration": 37071,
    "start_time": "2024-08-25T20:10:22.659Z"
   },
   {
    "duration": 3814,
    "start_time": "2024-08-25T20:10:59.732Z"
   },
   {
    "duration": 10,
    "start_time": "2024-08-25T20:11:03.548Z"
   },
   {
    "duration": 1340,
    "start_time": "2024-08-25T20:11:03.560Z"
   },
   {
    "duration": 48,
    "start_time": "2024-08-25T20:11:04.902Z"
   },
   {
    "duration": 331,
    "start_time": "2024-08-25T20:11:04.952Z"
   },
   {
    "duration": 448,
    "start_time": "2024-08-25T20:11:05.285Z"
   },
   {
    "duration": 462,
    "start_time": "2024-08-25T20:11:05.735Z"
   },
   {
    "duration": 122,
    "start_time": "2024-08-25T20:11:06.198Z"
   },
   {
    "duration": 3,
    "start_time": "2024-08-25T20:11:06.322Z"
   },
   {
    "duration": 693136,
    "start_time": "2024-08-25T20:11:06.327Z"
   },
   {
    "duration": 3,
    "start_time": "2024-08-25T20:22:39.465Z"
   },
   {
    "duration": 3866,
    "start_time": "2024-08-25T20:22:39.470Z"
   },
   {
    "duration": 3,
    "start_time": "2024-08-25T20:22:43.339Z"
   },
   {
    "duration": 13,
    "start_time": "2024-08-25T20:22:43.344Z"
   },
   {
    "duration": 325001,
    "start_time": "2024-08-25T20:22:43.358Z"
   },
   {
    "duration": 210,
    "start_time": "2024-08-25T20:28:08.361Z"
   },
   {
    "duration": 0,
    "start_time": "2024-08-25T20:28:08.573Z"
   },
   {
    "duration": 0,
    "start_time": "2024-08-25T20:28:08.574Z"
   },
   {
    "duration": 0,
    "start_time": "2024-08-25T20:28:08.575Z"
   },
   {
    "duration": 4,
    "start_time": "2024-08-25T20:29:13.886Z"
   },
   {
    "duration": 18,
    "start_time": "2024-08-25T20:32:14.893Z"
   },
   {
    "duration": 17,
    "start_time": "2024-08-25T20:32:27.240Z"
   },
   {
    "duration": 2311,
    "start_time": "2024-08-25T20:33:16.414Z"
   },
   {
    "duration": 4,
    "start_time": "2024-08-25T20:33:24.444Z"
   },
   {
    "duration": 13,
    "start_time": "2024-08-25T20:41:59.412Z"
   },
   {
    "duration": 281,
    "start_time": "2024-08-25T20:43:18.607Z"
   },
   {
    "duration": 6,
    "start_time": "2024-08-25T20:44:29.459Z"
   },
   {
    "duration": 2180,
    "start_time": "2024-08-25T20:45:12.465Z"
   },
   {
    "duration": 19,
    "start_time": "2024-08-25T20:45:28.604Z"
   },
   {
    "duration": 782,
    "start_time": "2024-08-25T20:45:40.102Z"
   },
   {
    "duration": 95,
    "start_time": "2024-08-25T20:46:24.822Z"
   },
   {
    "duration": 5156,
    "start_time": "2024-08-25T20:46:35.623Z"
   },
   {
    "duration": 60,
    "start_time": "2024-08-25T20:47:36.064Z"
   },
   {
    "duration": 51,
    "start_time": "2024-08-25T20:50:51.356Z"
   },
   {
    "duration": 9,
    "start_time": "2024-08-25T20:51:07.610Z"
   },
   {
    "duration": 7,
    "start_time": "2024-08-25T20:51:36.648Z"
   },
   {
    "duration": 22979,
    "start_time": "2024-08-25T20:51:45.766Z"
   },
   {
    "duration": 4384,
    "start_time": "2024-08-25T20:52:08.748Z"
   },
   {
    "duration": 9,
    "start_time": "2024-08-25T20:52:13.133Z"
   },
   {
    "duration": 1303,
    "start_time": "2024-08-25T20:52:13.144Z"
   },
   {
    "duration": 47,
    "start_time": "2024-08-25T20:52:14.450Z"
   },
   {
    "duration": 376,
    "start_time": "2024-08-25T20:52:14.499Z"
   },
   {
    "duration": 436,
    "start_time": "2024-08-25T20:52:14.877Z"
   },
   {
    "duration": 426,
    "start_time": "2024-08-25T20:52:15.315Z"
   },
   {
    "duration": 117,
    "start_time": "2024-08-25T20:52:15.742Z"
   },
   {
    "duration": 4,
    "start_time": "2024-08-25T20:52:15.861Z"
   },
   {
    "duration": 681624,
    "start_time": "2024-08-25T20:52:15.866Z"
   },
   {
    "duration": 4,
    "start_time": "2024-08-25T21:03:37.492Z"
   },
   {
    "duration": 3858,
    "start_time": "2024-08-25T21:03:37.497Z"
   },
   {
    "duration": 2,
    "start_time": "2024-08-25T21:03:41.358Z"
   },
   {
    "duration": 11,
    "start_time": "2024-08-25T21:03:41.361Z"
   },
   {
    "duration": 326845,
    "start_time": "2024-08-25T21:03:41.374Z"
   },
   {
    "duration": 16,
    "start_time": "2024-08-25T21:09:08.221Z"
   },
   {
    "duration": 2182,
    "start_time": "2024-08-25T21:09:08.239Z"
   },
   {
    "duration": 5,
    "start_time": "2024-08-25T21:09:10.423Z"
   },
   {
    "duration": 25,
    "start_time": "2024-08-25T21:09:10.429Z"
   },
   {
    "duration": 285,
    "start_time": "2024-08-25T21:09:10.456Z"
   },
   {
    "duration": 2502,
    "start_time": "2024-08-25T21:09:10.743Z"
   },
   {
    "duration": 5240,
    "start_time": "2024-08-25T21:09:13.247Z"
   },
   {
    "duration": 51,
    "start_time": "2024-08-25T21:12:38.818Z"
   },
   {
    "duration": 23268,
    "start_time": "2024-08-25T21:12:46.237Z"
   },
   {
    "duration": 4505,
    "start_time": "2024-08-25T21:13:09.507Z"
   },
   {
    "duration": 9,
    "start_time": "2024-08-25T21:13:14.014Z"
   },
   {
    "duration": 1357,
    "start_time": "2024-08-25T21:13:14.025Z"
   },
   {
    "duration": 49,
    "start_time": "2024-08-25T21:13:15.385Z"
   },
   {
    "duration": 349,
    "start_time": "2024-08-25T21:13:15.436Z"
   },
   {
    "duration": 457,
    "start_time": "2024-08-25T21:13:15.787Z"
   },
   {
    "duration": 423,
    "start_time": "2024-08-25T21:13:16.246Z"
   },
   {
    "duration": 128,
    "start_time": "2024-08-25T21:13:16.671Z"
   },
   {
    "duration": 5,
    "start_time": "2024-08-25T21:13:16.808Z"
   },
   {
    "duration": 325492,
    "start_time": "2024-08-25T21:24:54.211Z"
   },
   {
    "duration": 15,
    "start_time": "2024-08-25T21:30:19.704Z"
   },
   {
    "duration": 2211,
    "start_time": "2024-08-25T21:30:19.721Z"
   },
   {
    "duration": 4,
    "start_time": "2024-08-25T21:30:21.934Z"
   },
   {
    "duration": 5,
    "start_time": "2024-08-25T21:30:21.939Z"
   },
   {
    "duration": 260,
    "start_time": "2024-08-25T21:30:21.945Z"
   },
   {
    "duration": 2527,
    "start_time": "2024-08-25T21:30:22.206Z"
   },
   {
    "duration": 5190,
    "start_time": "2024-08-25T21:30:24.735Z"
   },
   {
    "duration": 24000,
    "start_time": "2024-08-25T21:34:03.780Z"
   },
   {
    "duration": 4610,
    "start_time": "2024-08-25T21:34:27.784Z"
   },
   {
    "duration": 9,
    "start_time": "2024-08-25T21:34:32.396Z"
   },
   {
    "duration": 1355,
    "start_time": "2024-08-25T21:34:32.406Z"
   },
   {
    "duration": 49,
    "start_time": "2024-08-25T21:34:33.763Z"
   },
   {
    "duration": 356,
    "start_time": "2024-08-25T21:34:33.814Z"
   },
   {
    "duration": 459,
    "start_time": "2024-08-25T21:34:34.172Z"
   },
   {
    "duration": 416,
    "start_time": "2024-08-25T21:34:34.633Z"
   },
   {
    "duration": 123,
    "start_time": "2024-08-25T21:34:35.051Z"
   },
   {
    "duration": 4,
    "start_time": "2024-08-25T21:34:35.175Z"
   },
   {
    "duration": 682522,
    "start_time": "2024-08-25T21:34:35.180Z"
   },
   {
    "duration": 5,
    "start_time": "2024-08-25T21:45:57.703Z"
   },
   {
    "duration": 3945,
    "start_time": "2024-08-25T21:45:57.709Z"
   },
   {
    "duration": 3,
    "start_time": "2024-08-25T21:46:01.657Z"
   },
   {
    "duration": 26,
    "start_time": "2024-08-25T21:46:01.661Z"
   },
   {
    "duration": 331261,
    "start_time": "2024-08-25T21:46:01.689Z"
   },
   {
    "duration": 17,
    "start_time": "2024-08-25T21:51:32.952Z"
   },
   {
    "duration": 2323,
    "start_time": "2024-08-25T21:51:32.971Z"
   },
   {
    "duration": 12,
    "start_time": "2024-08-25T21:51:35.295Z"
   },
   {
    "duration": 25,
    "start_time": "2024-08-25T21:51:35.309Z"
   },
   {
    "duration": 278,
    "start_time": "2024-08-25T21:51:35.335Z"
   },
   {
    "duration": 2541,
    "start_time": "2024-08-25T21:51:35.614Z"
   },
   {
    "duration": 5147,
    "start_time": "2024-08-25T21:51:38.157Z"
   },
   {
    "duration": 23194,
    "start_time": "2024-08-25T22:00:18.095Z"
   },
   {
    "duration": 4857,
    "start_time": "2024-08-25T22:00:41.292Z"
   },
   {
    "duration": 8,
    "start_time": "2024-08-25T22:00:46.151Z"
   },
   {
    "duration": 1286,
    "start_time": "2024-08-25T22:00:46.161Z"
   },
   {
    "duration": 46,
    "start_time": "2024-08-25T22:00:47.449Z"
   },
   {
    "duration": 328,
    "start_time": "2024-08-25T22:00:47.497Z"
   },
   {
    "duration": 414,
    "start_time": "2024-08-25T22:00:47.827Z"
   },
   {
    "duration": 415,
    "start_time": "2024-08-25T22:00:48.243Z"
   },
   {
    "duration": 122,
    "start_time": "2024-08-25T22:00:48.659Z"
   },
   {
    "duration": 4,
    "start_time": "2024-08-25T22:00:48.782Z"
   },
   {
    "duration": 687758,
    "start_time": "2024-08-25T22:00:48.788Z"
   },
   {
    "duration": 3,
    "start_time": "2024-08-25T22:12:16.548Z"
   },
   {
    "duration": 3844,
    "start_time": "2024-08-25T22:12:16.553Z"
   },
   {
    "duration": 7,
    "start_time": "2024-08-25T22:12:20.402Z"
   },
   {
    "duration": 7,
    "start_time": "2024-08-25T22:12:20.411Z"
   },
   {
    "duration": 329990,
    "start_time": "2024-08-25T22:12:20.419Z"
   },
   {
    "duration": 16,
    "start_time": "2024-08-25T22:17:50.410Z"
   },
   {
    "duration": 2182,
    "start_time": "2024-08-25T22:17:50.428Z"
   },
   {
    "duration": 4,
    "start_time": "2024-08-25T22:17:52.611Z"
   },
   {
    "duration": 34,
    "start_time": "2024-08-25T22:17:52.616Z"
   },
   {
    "duration": 258,
    "start_time": "2024-08-25T22:17:52.652Z"
   },
   {
    "duration": 2322,
    "start_time": "2024-08-25T22:17:52.911Z"
   },
   {
    "duration": 5137,
    "start_time": "2024-08-25T22:17:55.235Z"
   },
   {
    "duration": 76143,
    "start_time": "2024-08-25T22:18:00.374Z"
   },
   {
    "duration": 4,
    "start_time": "2024-08-25T22:20:20.841Z"
   },
   {
    "duration": 5,
    "start_time": "2024-08-25T22:21:35.336Z"
   },
   {
    "duration": 387,
    "start_time": "2024-08-25T23:10:09.154Z"
   },
   {
    "duration": 4,
    "start_time": "2024-08-25T23:10:17.640Z"
   },
   {
    "duration": 75,
    "start_time": "2024-08-25T23:15:26.067Z"
   },
   {
    "duration": 5168,
    "start_time": "2024-08-25T23:15:38.804Z"
   },
   {
    "duration": 8,
    "start_time": "2024-08-25T23:15:59.080Z"
   },
   {
    "duration": 16419,
    "start_time": "2024-08-25T23:16:17.380Z"
   },
   {
    "duration": 23629,
    "start_time": "2024-08-25T23:16:53.281Z"
   },
   {
    "duration": 8,
    "start_time": "2024-08-25T23:17:27.882Z"
   },
   {
    "duration": 6,
    "start_time": "2024-08-25T23:17:37.954Z"
   },
   {
    "duration": 1334,
    "start_time": "2024-08-25T23:17:41.189Z"
   },
   {
    "duration": 63,
    "start_time": "2024-08-25T23:17:42.525Z"
   },
   {
    "duration": 396,
    "start_time": "2024-08-25T23:17:45.184Z"
   },
   {
    "duration": 417,
    "start_time": "2024-08-25T23:17:47.823Z"
   },
   {
    "duration": 565,
    "start_time": "2024-08-25T23:17:49.987Z"
   },
   {
    "duration": 130,
    "start_time": "2024-08-25T23:17:55.773Z"
   },
   {
    "duration": 3,
    "start_time": "2024-08-25T23:17:59.066Z"
   },
   {
    "duration": 714273,
    "start_time": "2024-08-25T23:18:05.290Z"
   },
   {
    "duration": 4,
    "start_time": "2024-08-25T23:29:59.565Z"
   },
   {
    "duration": 4124,
    "start_time": "2024-08-25T23:29:59.570Z"
   },
   {
    "duration": 5,
    "start_time": "2024-08-25T23:30:03.696Z"
   },
   {
    "duration": 229,
    "start_time": "2024-08-25T23:30:58.921Z"
   },
   {
    "duration": 89975,
    "start_time": "2024-08-25T23:31:08.104Z"
   },
   {
    "duration": 64,
    "start_time": "2024-08-25T23:33:14.877Z"
   },
   {
    "duration": 5131,
    "start_time": "2024-08-25T23:33:23.543Z"
   },
   {
    "duration": 7075,
    "start_time": "2024-08-25T23:33:39.085Z"
   },
   {
    "duration": 314,
    "start_time": "2024-08-25T23:33:50.723Z"
   },
   {
    "duration": 23400,
    "start_time": "2024-08-25T23:34:20.943Z"
   },
   {
    "duration": 3276,
    "start_time": "2024-08-25T23:34:44.346Z"
   },
   {
    "duration": 12,
    "start_time": "2024-08-25T23:34:47.624Z"
   },
   {
    "duration": 1285,
    "start_time": "2024-08-25T23:34:47.640Z"
   },
   {
    "duration": 47,
    "start_time": "2024-08-25T23:34:48.927Z"
   },
   {
    "duration": 335,
    "start_time": "2024-08-25T23:34:48.975Z"
   },
   {
    "duration": 483,
    "start_time": "2024-08-25T23:34:49.311Z"
   },
   {
    "duration": 412,
    "start_time": "2024-08-25T23:34:49.796Z"
   },
   {
    "duration": 122,
    "start_time": "2024-08-25T23:34:50.210Z"
   },
   {
    "duration": 4,
    "start_time": "2024-08-25T23:34:50.335Z"
   },
   {
    "duration": 714860,
    "start_time": "2024-08-25T23:34:50.340Z"
   },
   {
    "duration": 4,
    "start_time": "2024-08-25T23:46:45.202Z"
   },
   {
    "duration": 4067,
    "start_time": "2024-08-25T23:46:45.208Z"
   },
   {
    "duration": 2,
    "start_time": "2024-08-25T23:46:49.277Z"
   },
   {
    "duration": 9,
    "start_time": "2024-08-25T23:46:49.281Z"
   },
   {
    "duration": 346209,
    "start_time": "2024-08-25T23:46:49.292Z"
   },
   {
    "duration": 17,
    "start_time": "2024-08-25T23:52:35.502Z"
   },
   {
    "duration": 2387,
    "start_time": "2024-08-25T23:52:35.520Z"
   },
   {
    "duration": 5,
    "start_time": "2024-08-25T23:52:37.909Z"
   },
   {
    "duration": 19,
    "start_time": "2024-08-25T23:52:37.916Z"
   },
   {
    "duration": 273,
    "start_time": "2024-08-25T23:52:37.937Z"
   },
   {
    "duration": 50,
    "start_time": "2024-08-25T23:57:20.995Z"
   },
   {
    "duration": 24702,
    "start_time": "2024-08-26T00:05:57.223Z"
   },
   {
    "duration": 4791,
    "start_time": "2024-08-26T00:06:21.928Z"
   },
   {
    "duration": 12,
    "start_time": "2024-08-26T00:06:26.721Z"
   },
   {
    "duration": 1331,
    "start_time": "2024-08-26T00:06:26.734Z"
   },
   {
    "duration": 59,
    "start_time": "2024-08-26T00:06:28.070Z"
   },
   {
    "duration": 364,
    "start_time": "2024-08-26T00:06:28.131Z"
   },
   {
    "duration": 445,
    "start_time": "2024-08-26T00:06:28.496Z"
   },
   {
    "duration": 463,
    "start_time": "2024-08-26T00:06:28.943Z"
   },
   {
    "duration": 122,
    "start_time": "2024-08-26T00:06:29.408Z"
   },
   {
    "duration": 4,
    "start_time": "2024-08-26T00:06:29.532Z"
   },
   {
    "duration": 724525,
    "start_time": "2024-08-26T00:06:29.538Z"
   },
   {
    "duration": 5,
    "start_time": "2024-08-26T00:18:34.065Z"
   },
   {
    "duration": 4275,
    "start_time": "2024-08-26T00:18:34.072Z"
   },
   {
    "duration": 3,
    "start_time": "2024-08-26T00:18:38.352Z"
   },
   {
    "duration": 20,
    "start_time": "2024-08-26T00:18:38.357Z"
   },
   {
    "duration": 359011,
    "start_time": "2024-08-26T00:18:38.379Z"
   },
   {
    "duration": 25,
    "start_time": "2024-08-26T00:24:37.391Z"
   },
   {
    "duration": 2219,
    "start_time": "2024-08-26T00:24:37.418Z"
   },
   {
    "duration": 4,
    "start_time": "2024-08-26T00:24:39.639Z"
   },
   {
    "duration": 4,
    "start_time": "2024-08-26T00:24:39.644Z"
   },
   {
    "duration": 279,
    "start_time": "2024-08-26T00:24:39.650Z"
   },
   {
    "duration": 2572,
    "start_time": "2024-08-26T00:24:39.931Z"
   },
   {
    "duration": 5492,
    "start_time": "2024-08-26T00:24:42.505Z"
   },
   {
    "duration": 180913,
    "start_time": "2024-08-26T00:24:47.999Z"
   },
   {
    "duration": 4,
    "start_time": "2024-08-26T00:27:48.914Z"
   },
   {
    "duration": 53,
    "start_time": "2024-08-26T00:27:48.920Z"
   },
   {
    "duration": 15,
    "start_time": "2024-08-26T00:27:48.975Z"
   },
   {
    "duration": 4,
    "start_time": "2024-08-26T00:27:48.992Z"
   },
   {
    "duration": 408,
    "start_time": "2024-08-26T00:27:48.998Z"
   },
   {
    "duration": 5,
    "start_time": "2024-08-26T00:32:21.595Z"
   },
   {
    "duration": 53051,
    "start_time": "2024-08-26T00:32:27.844Z"
   },
   {
    "duration": 5,
    "start_time": "2024-08-26T00:34:18.888Z"
   },
   {
    "duration": 365,
    "start_time": "2024-08-26T00:34:45.679Z"
   },
   {
    "duration": 1925,
    "start_time": "2024-08-26T00:34:48.527Z"
   },
   {
    "duration": 24295,
    "start_time": "2024-08-26T00:35:34.012Z"
   },
   {
    "duration": 5343,
    "start_time": "2024-08-26T00:35:58.309Z"
   },
   {
    "duration": 14,
    "start_time": "2024-08-26T00:36:03.654Z"
   },
   {
    "duration": 1385,
    "start_time": "2024-08-26T00:36:03.670Z"
   },
   {
    "duration": 49,
    "start_time": "2024-08-26T00:36:05.058Z"
   },
   {
    "duration": 366,
    "start_time": "2024-08-26T00:36:05.109Z"
   },
   {
    "duration": 438,
    "start_time": "2024-08-26T00:36:05.478Z"
   },
   {
    "duration": 435,
    "start_time": "2024-08-26T00:36:05.918Z"
   },
   {
    "duration": 124,
    "start_time": "2024-08-26T00:36:06.355Z"
   },
   {
    "duration": 3,
    "start_time": "2024-08-26T00:36:06.481Z"
   },
   {
    "duration": 722975,
    "start_time": "2024-08-26T00:36:06.486Z"
   },
   {
    "duration": 5,
    "start_time": "2024-08-26T00:48:09.463Z"
   },
   {
    "duration": 3994,
    "start_time": "2024-08-26T00:48:09.470Z"
   },
   {
    "duration": 2,
    "start_time": "2024-08-26T00:48:13.467Z"
   },
   {
    "duration": 26,
    "start_time": "2024-08-26T00:48:13.471Z"
   },
   {
    "duration": 351356,
    "start_time": "2024-08-26T00:48:13.499Z"
   },
   {
    "duration": 17,
    "start_time": "2024-08-26T00:54:04.858Z"
   },
   {
    "duration": 2242,
    "start_time": "2024-08-26T00:54:04.877Z"
   },
   {
    "duration": 4,
    "start_time": "2024-08-26T00:54:07.121Z"
   },
   {
    "duration": 4,
    "start_time": "2024-08-26T00:54:07.127Z"
   },
   {
    "duration": 281,
    "start_time": "2024-08-26T00:54:07.133Z"
   },
   {
    "duration": 3680,
    "start_time": "2024-08-26T00:54:07.416Z"
   },
   {
    "duration": 5535,
    "start_time": "2024-08-26T00:54:11.098Z"
   },
   {
    "duration": 23556,
    "start_time": "2024-08-26T01:00:37.545Z"
   },
   {
    "duration": 4829,
    "start_time": "2024-08-26T01:01:01.104Z"
   },
   {
    "duration": 9,
    "start_time": "2024-08-26T01:01:05.935Z"
   },
   {
    "duration": 1449,
    "start_time": "2024-08-26T01:01:05.946Z"
   },
   {
    "duration": 47,
    "start_time": "2024-08-26T01:01:07.398Z"
   },
   {
    "duration": 352,
    "start_time": "2024-08-26T01:01:07.447Z"
   },
   {
    "duration": 433,
    "start_time": "2024-08-26T01:01:07.801Z"
   },
   {
    "duration": 460,
    "start_time": "2024-08-26T01:01:08.236Z"
   },
   {
    "duration": 143,
    "start_time": "2024-08-26T01:01:08.698Z"
   },
   {
    "duration": 4,
    "start_time": "2024-08-26T01:01:08.844Z"
   },
   {
    "duration": 730387,
    "start_time": "2024-08-26T01:01:08.850Z"
   },
   {
    "duration": 5,
    "start_time": "2024-08-26T01:13:19.238Z"
   },
   {
    "duration": 3885,
    "start_time": "2024-08-26T01:13:19.245Z"
   },
   {
    "duration": 3,
    "start_time": "2024-08-26T01:13:23.132Z"
   },
   {
    "duration": 13,
    "start_time": "2024-08-26T01:13:23.136Z"
   },
   {
    "duration": 351693,
    "start_time": "2024-08-26T01:13:23.150Z"
   },
   {
    "duration": 16,
    "start_time": "2024-08-26T01:19:14.845Z"
   },
   {
    "duration": 2358,
    "start_time": "2024-08-26T01:19:14.863Z"
   },
   {
    "duration": 5,
    "start_time": "2024-08-26T01:19:17.223Z"
   },
   {
    "duration": 26,
    "start_time": "2024-08-26T01:19:17.229Z"
   },
   {
    "duration": 325,
    "start_time": "2024-08-26T01:19:17.257Z"
   },
   {
    "duration": 3657,
    "start_time": "2024-08-26T01:19:17.584Z"
   },
   {
    "duration": 5328,
    "start_time": "2024-08-26T01:19:21.243Z"
   },
   {
    "duration": 24054,
    "start_time": "2024-08-26T01:26:15.320Z"
   },
   {
    "duration": 4672,
    "start_time": "2024-08-26T01:26:39.376Z"
   },
   {
    "duration": 10,
    "start_time": "2024-08-26T01:26:44.050Z"
   },
   {
    "duration": 1419,
    "start_time": "2024-08-26T01:26:44.062Z"
   },
   {
    "duration": 46,
    "start_time": "2024-08-26T01:26:45.483Z"
   },
   {
    "duration": 343,
    "start_time": "2024-08-26T01:26:45.531Z"
   },
   {
    "duration": 464,
    "start_time": "2024-08-26T01:26:45.876Z"
   },
   {
    "duration": 422,
    "start_time": "2024-08-26T01:26:46.342Z"
   },
   {
    "duration": 155,
    "start_time": "2024-08-26T01:26:46.766Z"
   },
   {
    "duration": 4,
    "start_time": "2024-08-26T01:26:46.924Z"
   },
   {
    "duration": 729468,
    "start_time": "2024-08-26T01:26:46.929Z"
   },
   {
    "duration": 8,
    "start_time": "2024-08-26T01:38:56.399Z"
   },
   {
    "duration": 4070,
    "start_time": "2024-08-26T01:38:56.409Z"
   },
   {
    "duration": 2,
    "start_time": "2024-08-26T01:39:00.481Z"
   },
   {
    "duration": 76,
    "start_time": "2024-08-26T01:39:00.485Z"
   },
   {
    "duration": 344230,
    "start_time": "2024-08-26T01:39:00.564Z"
   },
   {
    "duration": 20,
    "start_time": "2024-08-26T01:44:44.796Z"
   },
   {
    "duration": 2316,
    "start_time": "2024-08-26T01:44:44.818Z"
   },
   {
    "duration": 5,
    "start_time": "2024-08-26T01:44:47.135Z"
   },
   {
    "duration": 46,
    "start_time": "2024-08-26T01:44:47.142Z"
   },
   {
    "duration": 265,
    "start_time": "2024-08-26T01:44:47.190Z"
   },
   {
    "duration": 3555,
    "start_time": "2024-08-26T01:44:47.457Z"
   },
   {
    "duration": 5410,
    "start_time": "2024-08-26T01:44:51.014Z"
   },
   {
    "duration": 5,
    "start_time": "2024-08-26T01:44:56.426Z"
   },
   {
    "duration": 24471,
    "start_time": "2024-08-26T01:52:03.196Z"
   },
   {
    "duration": 5474,
    "start_time": "2024-08-26T01:52:27.669Z"
   },
   {
    "duration": 13,
    "start_time": "2024-08-26T01:52:33.145Z"
   },
   {
    "duration": 1443,
    "start_time": "2024-08-26T01:52:33.160Z"
   },
   {
    "duration": 60,
    "start_time": "2024-08-26T01:52:34.605Z"
   },
   {
    "duration": 434,
    "start_time": "2024-08-26T01:52:34.667Z"
   },
   {
    "duration": 445,
    "start_time": "2024-08-26T01:52:35.102Z"
   },
   {
    "duration": 445,
    "start_time": "2024-08-26T01:52:35.548Z"
   },
   {
    "duration": 147,
    "start_time": "2024-08-26T01:52:35.995Z"
   },
   {
    "duration": 4,
    "start_time": "2024-08-26T01:52:36.145Z"
   },
   {
    "duration": 25,
    "start_time": "2024-08-26T01:52:36.151Z"
   },
   {
    "duration": 8,
    "start_time": "2024-08-26T01:52:36.178Z"
   },
   {
    "duration": 8,
    "start_time": "2024-08-26T01:52:36.188Z"
   },
   {
    "duration": 7,
    "start_time": "2024-08-26T01:52:36.197Z"
   },
   {
    "duration": 4,
    "start_time": "2024-08-26T01:52:36.206Z"
   },
   {
    "duration": 4,
    "start_time": "2024-08-26T01:52:36.212Z"
   },
   {
    "duration": 9,
    "start_time": "2024-08-26T01:52:36.218Z"
   },
   {
    "duration": 68,
    "start_time": "2024-08-26T01:52:36.229Z"
   },
   {
    "duration": 17,
    "start_time": "2024-08-26T01:52:36.299Z"
   },
   {
    "duration": 10,
    "start_time": "2024-08-26T01:52:36.319Z"
   },
   {
    "duration": 214,
    "start_time": "2024-08-26T01:52:36.331Z"
   },
   {
    "duration": 0,
    "start_time": "2024-08-26T01:52:36.548Z"
   },
   {
    "duration": 0,
    "start_time": "2024-08-26T01:52:36.549Z"
   },
   {
    "duration": 0,
    "start_time": "2024-08-26T01:52:36.550Z"
   },
   {
    "duration": 0,
    "start_time": "2024-08-26T01:52:36.551Z"
   },
   {
    "duration": 0,
    "start_time": "2024-08-26T01:52:36.553Z"
   },
   {
    "duration": 0,
    "start_time": "2024-08-26T01:52:36.555Z"
   },
   {
    "duration": 0,
    "start_time": "2024-08-26T01:52:36.556Z"
   },
   {
    "duration": 0,
    "start_time": "2024-08-26T01:52:36.558Z"
   },
   {
    "duration": 0,
    "start_time": "2024-08-26T01:52:36.559Z"
   },
   {
    "duration": 0,
    "start_time": "2024-08-26T01:52:36.560Z"
   },
   {
    "duration": 8,
    "start_time": "2024-08-26T01:54:20.317Z"
   },
   {
    "duration": 5,
    "start_time": "2024-08-26T01:54:25.515Z"
   },
   {
    "duration": 9,
    "start_time": "2024-08-26T01:54:33.381Z"
   },
   {
    "duration": 27,
    "start_time": "2024-08-26T01:55:43.463Z"
   },
   {
    "duration": 14,
    "start_time": "2024-08-26T01:56:45.993Z"
   },
   {
    "duration": 7,
    "start_time": "2024-08-26T01:57:07.761Z"
   },
   {
    "duration": 4,
    "start_time": "2024-08-26T01:59:49.237Z"
   },
   {
    "duration": 12,
    "start_time": "2024-08-26T02:00:48.716Z"
   },
   {
    "duration": 9,
    "start_time": "2024-08-26T02:00:51.306Z"
   },
   {
    "duration": 5,
    "start_time": "2024-08-26T02:00:54.264Z"
   },
   {
    "duration": 3,
    "start_time": "2024-08-26T02:01:00.171Z"
   },
   {
    "duration": 3412,
    "start_time": "2024-08-26T02:01:19.654Z"
   },
   {
    "duration": 18,
    "start_time": "2024-08-26T02:01:44.788Z"
   },
   {
    "duration": 8,
    "start_time": "2024-08-26T02:02:11.737Z"
   },
   {
    "duration": 6,
    "start_time": "2024-08-26T02:02:20.561Z"
   },
   {
    "duration": 1839,
    "start_time": "2024-08-26T02:02:52.866Z"
   },
   {
    "duration": 5376,
    "start_time": "2024-08-26T02:03:02.532Z"
   },
   {
    "duration": 388173,
    "start_time": "2024-08-26T02:04:10.639Z"
   },
   {
    "duration": 6,
    "start_time": "2024-08-26T02:10:53.781Z"
   },
   {
    "duration": 4,
    "start_time": "2024-08-26T02:10:56.787Z"
   },
   {
    "duration": 5,
    "start_time": "2024-08-26T02:11:00.059Z"
   },
   {
    "duration": 104,
    "start_time": "2024-08-26T02:11:11.944Z"
   },
   {
    "duration": 40,
    "start_time": "2024-08-26T02:11:40.821Z"
   },
   {
    "duration": 6,
    "start_time": "2024-08-26T02:12:00.321Z"
   },
   {
    "duration": 76812,
    "start_time": "2024-08-26T02:12:08.104Z"
   },
   {
    "duration": 4,
    "start_time": "2024-08-26T02:16:05.727Z"
   },
   {
    "duration": 85474,
    "start_time": "2024-08-26T02:16:11.502Z"
   },
   {
    "duration": 6,
    "start_time": "2024-08-26T02:18:18.715Z"
   },
   {
    "duration": 78788,
    "start_time": "2024-08-26T02:18:20.066Z"
   },
   {
    "duration": 23555,
    "start_time": "2024-08-26T02:20:21.273Z"
   },
   {
    "duration": 3287,
    "start_time": "2024-08-26T02:20:44.831Z"
   },
   {
    "duration": 13,
    "start_time": "2024-08-26T02:20:48.120Z"
   },
   {
    "duration": 951,
    "start_time": "2024-08-26T02:20:48.135Z"
   },
   {
    "duration": 44,
    "start_time": "2024-08-26T02:20:49.088Z"
   },
   {
    "duration": 341,
    "start_time": "2024-08-26T02:20:49.133Z"
   },
   {
    "duration": 420,
    "start_time": "2024-08-26T02:20:49.476Z"
   },
   {
    "duration": 460,
    "start_time": "2024-08-26T02:20:49.898Z"
   },
   {
    "duration": 134,
    "start_time": "2024-08-26T02:20:50.360Z"
   },
   {
    "duration": 10,
    "start_time": "2024-08-26T02:20:50.496Z"
   },
   {
    "duration": 719672,
    "start_time": "2024-08-26T02:20:50.508Z"
   },
   {
    "duration": 4,
    "start_time": "2024-08-26T02:32:50.182Z"
   },
   {
    "duration": 15,
    "start_time": "2024-08-26T02:32:50.188Z"
   },
   {
    "duration": 17,
    "start_time": "2024-08-26T02:32:50.208Z"
   },
   {
    "duration": 6,
    "start_time": "2024-08-26T02:32:50.227Z"
   },
   {
    "duration": 11,
    "start_time": "2024-08-26T02:32:50.235Z"
   },
   {
    "duration": 19,
    "start_time": "2024-08-26T02:32:50.248Z"
   },
   {
    "duration": 9,
    "start_time": "2024-08-26T02:32:50.269Z"
   },
   {
    "duration": 14,
    "start_time": "2024-08-26T02:32:50.280Z"
   },
   {
    "duration": 4,
    "start_time": "2024-08-26T02:32:50.296Z"
   },
   {
    "duration": 13,
    "start_time": "2024-08-26T02:32:50.301Z"
   },
   {
    "duration": 9,
    "start_time": "2024-08-26T02:32:50.315Z"
   },
   {
    "duration": 13,
    "start_time": "2024-08-26T02:32:50.326Z"
   },
   {
    "duration": 3178,
    "start_time": "2024-08-26T02:32:50.341Z"
   },
   {
    "duration": 2942,
    "start_time": "2024-08-26T02:32:53.521Z"
   },
   {
    "duration": 4,
    "start_time": "2024-08-26T02:32:56.465Z"
   },
   {
    "duration": 385739,
    "start_time": "2024-08-26T02:32:56.471Z"
   },
   {
    "duration": 3,
    "start_time": "2024-08-26T02:39:22.212Z"
   },
   {
    "duration": 7,
    "start_time": "2024-08-26T02:39:22.217Z"
   },
   {
    "duration": 5,
    "start_time": "2024-08-26T02:39:22.225Z"
   },
   {
    "duration": 7,
    "start_time": "2024-08-26T02:39:22.231Z"
   },
   {
    "duration": 9,
    "start_time": "2024-08-26T02:39:22.239Z"
   },
   {
    "duration": 63053,
    "start_time": "2024-08-26T02:39:22.249Z"
   },
   {
    "duration": 13,
    "start_time": "2024-08-26T02:44:25.240Z"
   },
   {
    "duration": 11,
    "start_time": "2024-08-26T02:44:27.806Z"
   },
   {
    "duration": 6,
    "start_time": "2024-08-26T02:44:31.187Z"
   },
   {
    "duration": 753,
    "start_time": "2024-08-26T02:44:37.745Z"
   },
   {
    "duration": 178014,
    "start_time": "2024-08-26T02:44:52.195Z"
   },
   {
    "duration": 4,
    "start_time": "2024-08-26T02:47:58.674Z"
   },
   {
    "duration": 5,
    "start_time": "2024-08-26T02:48:00.479Z"
   },
   {
    "duration": 5,
    "start_time": "2024-08-26T02:48:01.877Z"
   },
   {
    "duration": 5,
    "start_time": "2024-08-26T02:48:02.937Z"
   },
   {
    "duration": 6,
    "start_time": "2024-08-26T02:48:12.416Z"
   },
   {
    "duration": 62466,
    "start_time": "2024-08-26T02:48:15.947Z"
   },
   {
    "duration": 4,
    "start_time": "2024-08-26T02:52:21.107Z"
   },
   {
    "duration": 60828,
    "start_time": "2024-08-26T02:52:23.259Z"
   },
   {
    "duration": 24417,
    "start_time": "2024-08-26T02:54:17.450Z"
   },
   {
    "duration": 3607,
    "start_time": "2024-08-26T02:54:41.870Z"
   },
   {
    "duration": 13,
    "start_time": "2024-08-26T02:54:45.480Z"
   },
   {
    "duration": 1002,
    "start_time": "2024-08-26T02:54:45.495Z"
   },
   {
    "duration": 48,
    "start_time": "2024-08-26T02:54:46.500Z"
   },
   {
    "duration": 375,
    "start_time": "2024-08-26T02:54:46.550Z"
   },
   {
    "duration": 457,
    "start_time": "2024-08-26T02:54:46.927Z"
   },
   {
    "duration": 420,
    "start_time": "2024-08-26T02:54:47.386Z"
   },
   {
    "duration": 143,
    "start_time": "2024-08-26T02:54:47.808Z"
   },
   {
    "duration": 4,
    "start_time": "2024-08-26T02:54:47.953Z"
   },
   {
    "duration": 10,
    "start_time": "2024-08-26T02:54:47.958Z"
   },
   {
    "duration": 6,
    "start_time": "2024-08-26T02:54:47.969Z"
   },
   {
    "duration": 5,
    "start_time": "2024-08-26T02:54:47.977Z"
   },
   {
    "duration": 2,
    "start_time": "2024-08-26T02:54:47.985Z"
   },
   {
    "duration": 5,
    "start_time": "2024-08-26T02:54:48.004Z"
   },
   {
    "duration": 5,
    "start_time": "2024-08-26T02:54:48.011Z"
   },
   {
    "duration": 8,
    "start_time": "2024-08-26T02:54:48.018Z"
   },
   {
    "duration": 5,
    "start_time": "2024-08-26T02:54:48.027Z"
   },
   {
    "duration": 4,
    "start_time": "2024-08-26T02:54:48.033Z"
   },
   {
    "duration": 4,
    "start_time": "2024-08-26T02:54:48.038Z"
   },
   {
    "duration": 11,
    "start_time": "2024-08-26T02:54:48.044Z"
   },
   {
    "duration": 219,
    "start_time": "2024-08-26T02:54:48.057Z"
   },
   {
    "duration": 0,
    "start_time": "2024-08-26T02:54:48.278Z"
   },
   {
    "duration": 0,
    "start_time": "2024-08-26T02:54:48.279Z"
   },
   {
    "duration": 0,
    "start_time": "2024-08-26T02:54:48.281Z"
   },
   {
    "duration": 0,
    "start_time": "2024-08-26T02:54:48.282Z"
   },
   {
    "duration": 0,
    "start_time": "2024-08-26T02:54:48.284Z"
   },
   {
    "duration": 0,
    "start_time": "2024-08-26T02:54:48.285Z"
   },
   {
    "duration": 0,
    "start_time": "2024-08-26T02:54:48.287Z"
   },
   {
    "duration": 0,
    "start_time": "2024-08-26T02:54:48.305Z"
   },
   {
    "duration": 0,
    "start_time": "2024-08-26T02:54:48.307Z"
   },
   {
    "duration": 0,
    "start_time": "2024-08-26T02:54:48.309Z"
   },
   {
    "duration": 0,
    "start_time": "2024-08-26T02:54:48.310Z"
   },
   {
    "duration": 24050,
    "start_time": "2024-08-26T02:55:59.579Z"
   },
   {
    "duration": 3510,
    "start_time": "2024-08-26T02:56:23.632Z"
   },
   {
    "duration": 8,
    "start_time": "2024-08-26T02:56:27.144Z"
   },
   {
    "duration": 988,
    "start_time": "2024-08-26T02:56:27.154Z"
   },
   {
    "duration": 48,
    "start_time": "2024-08-26T02:56:28.145Z"
   },
   {
    "duration": 349,
    "start_time": "2024-08-26T02:56:28.194Z"
   },
   {
    "duration": 443,
    "start_time": "2024-08-26T02:56:28.545Z"
   },
   {
    "duration": 411,
    "start_time": "2024-08-26T02:56:28.990Z"
   },
   {
    "duration": 125,
    "start_time": "2024-08-26T02:56:29.403Z"
   },
   {
    "duration": 5,
    "start_time": "2024-08-26T02:56:29.531Z"
   },
   {
    "duration": 13,
    "start_time": "2024-08-26T02:56:29.538Z"
   },
   {
    "duration": 5,
    "start_time": "2024-08-26T02:56:29.553Z"
   },
   {
    "duration": 9,
    "start_time": "2024-08-26T02:56:29.560Z"
   },
   {
    "duration": 2,
    "start_time": "2024-08-26T02:56:29.573Z"
   },
   {
    "duration": 37,
    "start_time": "2024-08-26T02:56:29.577Z"
   },
   {
    "duration": 7,
    "start_time": "2024-08-26T02:56:29.615Z"
   },
   {
    "duration": 4,
    "start_time": "2024-08-26T02:56:29.624Z"
   },
   {
    "duration": 6,
    "start_time": "2024-08-26T02:56:29.630Z"
   },
   {
    "duration": 13,
    "start_time": "2024-08-26T02:56:29.638Z"
   },
   {
    "duration": 12,
    "start_time": "2024-08-26T02:56:29.653Z"
   },
   {
    "duration": 24,
    "start_time": "2024-08-26T02:56:29.667Z"
   },
   {
    "duration": 14,
    "start_time": "2024-08-26T02:56:29.693Z"
   },
   {
    "duration": 6,
    "start_time": "2024-08-26T02:56:29.709Z"
   },
   {
    "duration": 2632,
    "start_time": "2024-08-26T02:56:29.717Z"
   },
   {
    "duration": 2913,
    "start_time": "2024-08-26T02:56:32.351Z"
   },
   {
    "duration": 189957,
    "start_time": "2024-08-26T02:56:35.265Z"
   },
   {
    "duration": 5,
    "start_time": "2024-08-26T02:59:45.224Z"
   },
   {
    "duration": 75,
    "start_time": "2024-08-26T02:59:45.231Z"
   },
   {
    "duration": 41,
    "start_time": "2024-08-26T02:59:45.308Z"
   },
   {
    "duration": 81,
    "start_time": "2024-08-26T02:59:45.352Z"
   },
   {
    "duration": 8,
    "start_time": "2024-08-26T02:59:45.435Z"
   },
   {
    "duration": 15,
    "start_time": "2024-08-26T02:59:45.445Z"
   },
   {
    "duration": 56554,
    "start_time": "2024-08-26T02:59:45.462Z"
   },
   {
    "duration": 24187,
    "start_time": "2024-08-26T03:01:37.498Z"
   },
   {
    "duration": 3734,
    "start_time": "2024-08-26T03:02:01.687Z"
   },
   {
    "duration": 13,
    "start_time": "2024-08-26T03:02:05.423Z"
   },
   {
    "duration": 1057,
    "start_time": "2024-08-26T03:02:05.438Z"
   },
   {
    "duration": 49,
    "start_time": "2024-08-26T03:02:06.497Z"
   },
   {
    "duration": 370,
    "start_time": "2024-08-26T03:02:06.548Z"
   },
   {
    "duration": 467,
    "start_time": "2024-08-26T03:02:06.919Z"
   },
   {
    "duration": 462,
    "start_time": "2024-08-26T03:02:07.388Z"
   },
   {
    "duration": 136,
    "start_time": "2024-08-26T03:02:07.852Z"
   },
   {
    "duration": 4,
    "start_time": "2024-08-26T03:02:07.990Z"
   },
   {
    "duration": 712128,
    "start_time": "2024-08-26T03:02:08.005Z"
   },
   {
    "duration": 4,
    "start_time": "2024-08-26T03:14:00.135Z"
   },
   {
    "duration": 51,
    "start_time": "2024-08-26T03:14:00.141Z"
   },
   {
    "duration": 24,
    "start_time": "2024-08-26T03:14:00.195Z"
   },
   {
    "duration": 24,
    "start_time": "2024-08-26T03:14:00.221Z"
   },
   {
    "duration": 18,
    "start_time": "2024-08-26T03:14:00.247Z"
   },
   {
    "duration": 48,
    "start_time": "2024-08-26T03:14:00.266Z"
   },
   {
    "duration": 68,
    "start_time": "2024-08-26T03:14:00.316Z"
   },
   {
    "duration": 67,
    "start_time": "2024-08-26T03:14:00.386Z"
   },
   {
    "duration": 8,
    "start_time": "2024-08-26T03:14:00.455Z"
   },
   {
    "duration": 59,
    "start_time": "2024-08-26T03:14:00.464Z"
   },
   {
    "duration": 44,
    "start_time": "2024-08-26T03:14:00.525Z"
   },
   {
    "duration": 5,
    "start_time": "2024-08-26T03:14:00.570Z"
   },
   {
    "duration": 3477,
    "start_time": "2024-08-26T03:14:00.577Z"
   },
   {
    "duration": 2925,
    "start_time": "2024-08-26T03:14:04.055Z"
   },
   {
    "duration": 420333,
    "start_time": "2024-08-26T03:14:06.982Z"
   },
   {
    "duration": 5,
    "start_time": "2024-08-26T03:21:07.318Z"
   },
   {
    "duration": 45,
    "start_time": "2024-08-26T03:21:07.325Z"
   },
   {
    "duration": 37,
    "start_time": "2024-08-26T03:21:07.372Z"
   },
   {
    "duration": 72,
    "start_time": "2024-08-26T03:21:07.411Z"
   },
   {
    "duration": 14,
    "start_time": "2024-08-26T03:21:07.485Z"
   },
   {
    "duration": 50,
    "start_time": "2024-08-26T03:21:07.500Z"
   },
   {
    "duration": 70970,
    "start_time": "2024-08-26T03:21:07.552Z"
   },
   {
    "duration": 12,
    "start_time": "2024-08-26T03:24:26.420Z"
   },
   {
    "duration": 11,
    "start_time": "2024-08-26T03:24:29.365Z"
   },
   {
    "duration": 6,
    "start_time": "2024-08-26T03:24:31.367Z"
   },
   {
    "duration": 3120,
    "start_time": "2024-08-26T03:24:37.209Z"
   },
   {
    "duration": 2918,
    "start_time": "2024-08-26T03:24:52.129Z"
   },
   {
    "duration": 899295,
    "start_time": "2024-08-26T03:27:10.936Z"
   },
   {
    "duration": 8,
    "start_time": "2024-08-26T03:42:28.438Z"
   },
   {
    "duration": 5,
    "start_time": "2024-08-26T03:42:30.365Z"
   },
   {
    "duration": 4,
    "start_time": "2024-08-26T03:42:32.926Z"
   },
   {
    "duration": 4,
    "start_time": "2024-08-26T03:42:34.083Z"
   },
   {
    "duration": 6,
    "start_time": "2024-08-26T03:42:36.514Z"
   },
   {
    "duration": 71676,
    "start_time": "2024-08-26T03:42:39.403Z"
   },
   {
    "duration": 34146,
    "start_time": "2024-08-26T14:32:10.630Z"
   },
   {
    "duration": 3864,
    "start_time": "2024-08-26T14:32:44.779Z"
   },
   {
    "duration": 8,
    "start_time": "2024-08-26T14:32:48.645Z"
   },
   {
    "duration": 1302,
    "start_time": "2024-08-26T14:32:48.655Z"
   },
   {
    "duration": 45,
    "start_time": "2024-08-26T14:32:49.959Z"
   },
   {
    "duration": 350,
    "start_time": "2024-08-26T14:32:50.006Z"
   },
   {
    "duration": 434,
    "start_time": "2024-08-26T14:32:50.358Z"
   },
   {
    "duration": 425,
    "start_time": "2024-08-26T14:32:50.794Z"
   },
   {
    "duration": 117,
    "start_time": "2024-08-26T14:32:51.221Z"
   },
   {
    "duration": 12,
    "start_time": "2024-08-26T14:32:51.341Z"
   },
   {
    "duration": 621235,
    "start_time": "2024-08-26T14:32:51.355Z"
   },
   {
    "duration": 4,
    "start_time": "2024-08-26T14:43:12.592Z"
   },
   {
    "duration": 18,
    "start_time": "2024-08-26T14:43:12.597Z"
   },
   {
    "duration": 12,
    "start_time": "2024-08-26T14:43:12.616Z"
   },
   {
    "duration": 6,
    "start_time": "2024-08-26T14:43:12.630Z"
   },
   {
    "duration": 6,
    "start_time": "2024-08-26T14:43:12.638Z"
   },
   {
    "duration": 12,
    "start_time": "2024-08-26T14:43:12.645Z"
   },
   {
    "duration": 16,
    "start_time": "2024-08-26T14:43:12.659Z"
   },
   {
    "duration": 5,
    "start_time": "2024-08-26T14:43:12.677Z"
   },
   {
    "duration": 6,
    "start_time": "2024-08-26T14:43:12.683Z"
   },
   {
    "duration": 14,
    "start_time": "2024-08-26T14:43:12.691Z"
   },
   {
    "duration": 9,
    "start_time": "2024-08-26T14:43:12.707Z"
   },
   {
    "duration": 9,
    "start_time": "2024-08-26T14:43:12.717Z"
   },
   {
    "duration": 5048,
    "start_time": "2024-08-26T14:43:12.727Z"
   },
   {
    "duration": 4797,
    "start_time": "2024-08-26T14:43:17.776Z"
   },
   {
    "duration": 22365,
    "start_time": "2024-08-26T14:52:48.630Z"
   },
   {
    "duration": 3349,
    "start_time": "2024-08-26T14:53:10.998Z"
   },
   {
    "duration": 9,
    "start_time": "2024-08-26T14:53:14.348Z"
   },
   {
    "duration": 1012,
    "start_time": "2024-08-26T14:53:14.360Z"
   },
   {
    "duration": 44,
    "start_time": "2024-08-26T14:53:15.374Z"
   },
   {
    "duration": 340,
    "start_time": "2024-08-26T14:53:15.420Z"
   },
   {
    "duration": 413,
    "start_time": "2024-08-26T14:53:15.762Z"
   },
   {
    "duration": 423,
    "start_time": "2024-08-26T14:53:16.176Z"
   },
   {
    "duration": 163,
    "start_time": "2024-08-26T14:53:16.602Z"
   },
   {
    "duration": 4,
    "start_time": "2024-08-26T14:53:16.768Z"
   },
   {
    "duration": 629335,
    "start_time": "2024-08-26T14:53:16.773Z"
   },
   {
    "duration": 4,
    "start_time": "2024-08-26T15:03:46.109Z"
   },
   {
    "duration": 20,
    "start_time": "2024-08-26T15:03:46.114Z"
   },
   {
    "duration": 4,
    "start_time": "2024-08-26T15:03:46.135Z"
   },
   {
    "duration": 6,
    "start_time": "2024-08-26T15:03:46.140Z"
   },
   {
    "duration": 6,
    "start_time": "2024-08-26T15:03:46.147Z"
   },
   {
    "duration": 9,
    "start_time": "2024-08-26T15:03:46.155Z"
   },
   {
    "duration": 8,
    "start_time": "2024-08-26T15:03:46.166Z"
   },
   {
    "duration": 14,
    "start_time": "2024-08-26T15:03:46.176Z"
   },
   {
    "duration": 6,
    "start_time": "2024-08-26T15:03:46.192Z"
   },
   {
    "duration": 12,
    "start_time": "2024-08-26T15:03:46.200Z"
   },
   {
    "duration": 9,
    "start_time": "2024-08-26T15:03:46.213Z"
   },
   {
    "duration": 13,
    "start_time": "2024-08-26T15:03:46.223Z"
   },
   {
    "duration": 4858,
    "start_time": "2024-08-26T15:03:46.237Z"
   },
   {
    "duration": 2500,
    "start_time": "2024-08-26T15:03:51.096Z"
   },
   {
    "duration": 49,
    "start_time": "2024-08-26T15:16:49.335Z"
   },
   {
    "duration": 20788,
    "start_time": "2024-08-26T15:17:03.543Z"
   },
   {
    "duration": 4467,
    "start_time": "2024-08-26T15:17:24.334Z"
   },
   {
    "duration": 7,
    "start_time": "2024-08-26T15:17:28.803Z"
   },
   {
    "duration": 1176,
    "start_time": "2024-08-26T15:17:28.812Z"
   },
   {
    "duration": 42,
    "start_time": "2024-08-26T15:17:29.990Z"
   },
   {
    "duration": 392,
    "start_time": "2024-08-26T15:17:30.034Z"
   },
   {
    "duration": 385,
    "start_time": "2024-08-26T15:17:30.427Z"
   },
   {
    "duration": 392,
    "start_time": "2024-08-26T15:17:30.813Z"
   },
   {
    "duration": 114,
    "start_time": "2024-08-26T15:17:31.207Z"
   },
   {
    "duration": 4,
    "start_time": "2024-08-26T15:17:31.323Z"
   },
   {
    "duration": 612593,
    "start_time": "2024-08-26T15:17:31.328Z"
   },
   {
    "duration": 4,
    "start_time": "2024-08-26T15:27:43.923Z"
   },
   {
    "duration": 15,
    "start_time": "2024-08-26T15:27:43.928Z"
   },
   {
    "duration": 6,
    "start_time": "2024-08-26T15:27:43.945Z"
   },
   {
    "duration": 5,
    "start_time": "2024-08-26T15:27:43.952Z"
   },
   {
    "duration": 12,
    "start_time": "2024-08-26T15:27:43.958Z"
   },
   {
    "duration": 9,
    "start_time": "2024-08-26T15:27:43.971Z"
   },
   {
    "duration": 14,
    "start_time": "2024-08-26T15:27:43.981Z"
   },
   {
    "duration": 4,
    "start_time": "2024-08-26T15:27:43.996Z"
   },
   {
    "duration": 11,
    "start_time": "2024-08-26T15:27:44.001Z"
   },
   {
    "duration": 10,
    "start_time": "2024-08-26T15:27:44.013Z"
   },
   {
    "duration": 10,
    "start_time": "2024-08-26T15:27:44.025Z"
   },
   {
    "duration": 6,
    "start_time": "2024-08-26T15:27:44.036Z"
   },
   {
    "duration": 5101,
    "start_time": "2024-08-26T15:27:44.043Z"
   },
   {
    "duration": 4665,
    "start_time": "2024-08-26T15:27:49.146Z"
   },
   {
    "duration": 4,
    "start_time": "2024-08-26T15:27:53.813Z"
   },
   {
    "duration": 20695,
    "start_time": "2024-08-26T15:48:20.718Z"
   },
   {
    "duration": 4317,
    "start_time": "2024-08-26T15:48:41.416Z"
   },
   {
    "duration": 8,
    "start_time": "2024-08-26T15:48:45.735Z"
   },
   {
    "duration": 1212,
    "start_time": "2024-08-26T15:48:45.744Z"
   },
   {
    "duration": 40,
    "start_time": "2024-08-26T15:48:46.957Z"
   },
   {
    "duration": 339,
    "start_time": "2024-08-26T15:48:46.999Z"
   },
   {
    "duration": 401,
    "start_time": "2024-08-26T15:48:47.339Z"
   },
   {
    "duration": 375,
    "start_time": "2024-08-26T15:48:47.741Z"
   },
   {
    "duration": 108,
    "start_time": "2024-08-26T15:48:48.117Z"
   },
   {
    "duration": 4,
    "start_time": "2024-08-26T15:48:48.227Z"
   },
   {
    "duration": 611550,
    "start_time": "2024-08-26T15:48:48.233Z"
   },
   {
    "duration": 4,
    "start_time": "2024-08-26T15:58:59.784Z"
   },
   {
    "duration": 5,
    "start_time": "2024-08-26T15:58:59.789Z"
   },
   {
    "duration": 8,
    "start_time": "2024-08-26T15:58:59.795Z"
   },
   {
    "duration": 8,
    "start_time": "2024-08-26T15:58:59.804Z"
   },
   {
    "duration": 8,
    "start_time": "2024-08-26T15:58:59.813Z"
   },
   {
    "duration": 18,
    "start_time": "2024-08-26T15:58:59.822Z"
   },
   {
    "duration": 9,
    "start_time": "2024-08-26T15:58:59.842Z"
   },
   {
    "duration": 4,
    "start_time": "2024-08-26T15:58:59.853Z"
   },
   {
    "duration": 6,
    "start_time": "2024-08-26T15:58:59.859Z"
   },
   {
    "duration": 30,
    "start_time": "2024-08-26T15:58:59.867Z"
   },
   {
    "duration": 9,
    "start_time": "2024-08-26T15:58:59.898Z"
   },
   {
    "duration": 6,
    "start_time": "2024-08-26T15:58:59.908Z"
   },
   {
    "duration": 3118,
    "start_time": "2024-08-26T15:58:59.915Z"
   },
   {
    "duration": 4708,
    "start_time": "2024-08-26T15:59:03.035Z"
   },
   {
    "duration": 9,
    "start_time": "2024-08-26T15:59:07.744Z"
   },
   {
    "duration": 20823,
    "start_time": "2024-08-26T16:04:30.853Z"
   },
   {
    "duration": 4599,
    "start_time": "2024-08-26T16:04:51.678Z"
   },
   {
    "duration": 8,
    "start_time": "2024-08-26T16:04:56.278Z"
   },
   {
    "duration": 1207,
    "start_time": "2024-08-26T16:04:56.288Z"
   },
   {
    "duration": 41,
    "start_time": "2024-08-26T16:04:57.497Z"
   },
   {
    "duration": 320,
    "start_time": "2024-08-26T16:04:57.539Z"
   },
   {
    "duration": 403,
    "start_time": "2024-08-26T16:04:57.861Z"
   },
   {
    "duration": 414,
    "start_time": "2024-08-26T16:04:58.266Z"
   },
   {
    "duration": 114,
    "start_time": "2024-08-26T16:04:58.681Z"
   },
   {
    "duration": 4,
    "start_time": "2024-08-26T16:04:58.797Z"
   },
   {
    "duration": 618006,
    "start_time": "2024-08-26T16:04:58.802Z"
   },
   {
    "duration": 4,
    "start_time": "2024-08-26T16:15:16.810Z"
   },
   {
    "duration": 29,
    "start_time": "2024-08-26T16:15:16.815Z"
   },
   {
    "duration": 13,
    "start_time": "2024-08-26T16:15:16.846Z"
   },
   {
    "duration": 6,
    "start_time": "2024-08-26T16:15:16.861Z"
   },
   {
    "duration": 10,
    "start_time": "2024-08-26T16:15:16.868Z"
   },
   {
    "duration": 16,
    "start_time": "2024-08-26T16:15:16.880Z"
   },
   {
    "duration": 10,
    "start_time": "2024-08-26T16:15:16.897Z"
   },
   {
    "duration": 6,
    "start_time": "2024-08-26T16:15:16.909Z"
   },
   {
    "duration": 11,
    "start_time": "2024-08-26T16:15:16.916Z"
   },
   {
    "duration": 32,
    "start_time": "2024-08-26T16:15:16.929Z"
   },
   {
    "duration": 19,
    "start_time": "2024-08-26T16:15:16.963Z"
   },
   {
    "duration": 18,
    "start_time": "2024-08-26T16:15:16.983Z"
   },
   {
    "duration": 3246,
    "start_time": "2024-08-26T16:15:17.002Z"
   },
   {
    "duration": 5040,
    "start_time": "2024-08-26T16:15:20.250Z"
   },
   {
    "duration": 3,
    "start_time": "2024-08-26T16:15:25.292Z"
   },
   {
    "duration": 14,
    "start_time": "2024-08-26T16:15:25.297Z"
   },
   {
    "duration": 163775,
    "start_time": "2024-08-26T16:15:25.313Z"
   },
   {
    "duration": 0,
    "start_time": "2024-08-26T16:18:09.090Z"
   },
   {
    "duration": 0,
    "start_time": "2024-08-26T16:18:09.092Z"
   },
   {
    "duration": 0,
    "start_time": "2024-08-26T16:18:09.094Z"
   },
   {
    "duration": 0,
    "start_time": "2024-08-26T16:18:09.095Z"
   },
   {
    "duration": 0,
    "start_time": "2024-08-26T16:18:09.097Z"
   },
   {
    "duration": 0,
    "start_time": "2024-08-26T16:18:09.098Z"
   },
   {
    "duration": 21972,
    "start_time": "2024-08-26T16:19:16.968Z"
   },
   {
    "duration": 3416,
    "start_time": "2024-08-26T16:19:38.943Z"
   },
   {
    "duration": 8,
    "start_time": "2024-08-26T16:19:42.360Z"
   },
   {
    "duration": 901,
    "start_time": "2024-08-26T16:19:42.370Z"
   },
   {
    "duration": 51,
    "start_time": "2024-08-26T16:19:43.273Z"
   },
   {
    "duration": 349,
    "start_time": "2024-08-26T16:19:43.326Z"
   },
   {
    "duration": 413,
    "start_time": "2024-08-26T16:19:43.677Z"
   },
   {
    "duration": 438,
    "start_time": "2024-08-26T16:19:44.092Z"
   },
   {
    "duration": 107,
    "start_time": "2024-08-26T16:19:44.531Z"
   },
   {
    "duration": 13,
    "start_time": "2024-08-26T16:19:44.640Z"
   },
   {
    "duration": 421599,
    "start_time": "2024-08-26T16:19:44.655Z"
   },
   {
    "duration": 4,
    "start_time": "2024-08-26T16:26:46.255Z"
   },
   {
    "duration": 10,
    "start_time": "2024-08-26T16:26:46.260Z"
   },
   {
    "duration": 10,
    "start_time": "2024-08-26T16:26:46.272Z"
   },
   {
    "duration": 11,
    "start_time": "2024-08-26T16:26:46.284Z"
   },
   {
    "duration": 6,
    "start_time": "2024-08-26T16:26:46.296Z"
   },
   {
    "duration": 5,
    "start_time": "2024-08-26T16:26:46.303Z"
   },
   {
    "duration": 3,
    "start_time": "2024-08-26T16:26:46.310Z"
   },
   {
    "duration": 3,
    "start_time": "2024-08-26T16:26:46.315Z"
   },
   {
    "duration": 6,
    "start_time": "2024-08-26T16:26:46.320Z"
   },
   {
    "duration": 31,
    "start_time": "2024-08-26T16:26:46.328Z"
   },
   {
    "duration": 12,
    "start_time": "2024-08-26T16:26:46.360Z"
   },
   {
    "duration": 12,
    "start_time": "2024-08-26T16:26:46.373Z"
   },
   {
    "duration": 2161,
    "start_time": "2024-08-26T16:26:46.387Z"
   },
   {
    "duration": 2386,
    "start_time": "2024-08-26T16:26:48.550Z"
   },
   {
    "duration": 3,
    "start_time": "2024-08-26T16:26:50.938Z"
   },
   {
    "duration": 11,
    "start_time": "2024-08-26T16:26:50.943Z"
   },
   {
    "duration": 697421,
    "start_time": "2024-08-26T16:26:50.956Z"
   },
   {
    "duration": 299,
    "start_time": "2024-08-26T16:38:28.379Z"
   },
   {
    "duration": 0,
    "start_time": "2024-08-26T16:38:28.679Z"
   },
   {
    "duration": 0,
    "start_time": "2024-08-26T16:38:28.680Z"
   },
   {
    "duration": 0,
    "start_time": "2024-08-26T16:38:28.681Z"
   },
   {
    "duration": 0,
    "start_time": "2024-08-26T16:38:28.683Z"
   },
   {
    "duration": 0,
    "start_time": "2024-08-26T16:38:28.684Z"
   },
   {
    "duration": 44,
    "start_time": "2024-08-26T16:40:22.365Z"
   },
   {
    "duration": 3,
    "start_time": "2024-08-26T16:40:33.892Z"
   },
   {
    "duration": 4,
    "start_time": "2024-08-26T16:40:38.510Z"
   },
   {
    "duration": 3,
    "start_time": "2024-08-26T16:41:52.688Z"
   },
   {
    "duration": 9,
    "start_time": "2024-08-26T16:41:55.693Z"
   },
   {
    "duration": 3,
    "start_time": "2024-08-26T16:41:59.520Z"
   },
   {
    "duration": 704417,
    "start_time": "2024-08-26T16:48:06.626Z"
   },
   {
    "duration": 46,
    "start_time": "2024-08-26T17:00:09.461Z"
   },
   {
    "duration": 4,
    "start_time": "2024-08-26T17:00:13.183Z"
   },
   {
    "duration": 4,
    "start_time": "2024-08-26T17:00:19.359Z"
   },
   {
    "duration": 4,
    "start_time": "2024-08-26T17:05:00.540Z"
   },
   {
    "duration": 2,
    "start_time": "2024-08-26T17:05:59.568Z"
   },
   {
    "duration": 2,
    "start_time": "2024-08-26T17:06:02.591Z"
   },
   {
    "duration": 5,
    "start_time": "2024-08-26T17:06:04.073Z"
   },
   {
    "duration": 3,
    "start_time": "2024-08-26T17:06:07.787Z"
   },
   {
    "duration": 6,
    "start_time": "2024-08-26T17:06:09.787Z"
   },
   {
    "duration": 5,
    "start_time": "2024-08-26T17:06:16.007Z"
   },
   {
    "duration": 5,
    "start_time": "2024-08-26T17:06:18.118Z"
   },
   {
    "duration": 49896,
    "start_time": "2024-08-26T17:06:22.142Z"
   },
   {
    "duration": 10,
    "start_time": "2024-08-26T17:09:05.008Z"
   },
   {
    "duration": 11,
    "start_time": "2024-08-26T17:09:07.354Z"
   },
   {
    "duration": 6,
    "start_time": "2024-08-26T17:09:09.397Z"
   },
   {
    "duration": 1561,
    "start_time": "2024-08-26T17:09:12.480Z"
   },
   {
    "duration": 2468,
    "start_time": "2024-08-26T17:09:15.075Z"
   },
   {
    "duration": 9,
    "start_time": "2024-08-26T17:09:17.545Z"
   },
   {
    "duration": 4,
    "start_time": "2024-08-26T17:09:22.070Z"
   },
   {
    "duration": 23872,
    "start_time": "2024-08-26T17:09:27.619Z"
   },
   {
    "duration": 2017850,
    "start_time": "2024-08-26T17:12:44.181Z"
   },
   {
    "duration": 36,
    "start_time": "2024-08-26T17:54:59.063Z"
   },
   {
    "duration": 20,
    "start_time": "2024-08-26T17:56:48.409Z"
   },
   {
    "duration": 7,
    "start_time": "2024-08-26T17:56:51.271Z"
   },
   {
    "duration": 3,
    "start_time": "2024-08-26T17:56:55.446Z"
   },
   {
    "duration": 4,
    "start_time": "2024-08-26T17:56:57.909Z"
   },
   {
    "duration": 5,
    "start_time": "2024-08-26T17:57:01.713Z"
   },
   {
    "duration": 57891,
    "start_time": "2024-08-26T17:57:11.258Z"
   },
   {
    "duration": 529,
    "start_time": "2024-08-26T17:59:40.614Z"
   },
   {
    "duration": 28,
    "start_time": "2024-08-26T18:03:35.082Z"
   },
   {
    "duration": 4,
    "start_time": "2024-08-26T18:03:42.399Z"
   },
   {
    "duration": 6,
    "start_time": "2024-08-26T18:03:44.514Z"
   },
   {
    "duration": 55243,
    "start_time": "2024-08-26T18:03:47.341Z"
   },
   {
    "duration": 10,
    "start_time": "2024-08-26T18:04:52.961Z"
   },
   {
    "duration": 5,
    "start_time": "2024-08-26T18:32:11.634Z"
   },
   {
    "duration": 61,
    "start_time": "2024-08-26T18:33:21.618Z"
   },
   {
    "duration": 8,
    "start_time": "2024-08-26T18:34:30.437Z"
   },
   {
    "duration": 12,
    "start_time": "2024-08-26T18:35:40.763Z"
   },
   {
    "duration": 21724,
    "start_time": "2024-08-26T18:36:53.305Z"
   },
   {
    "duration": 3372,
    "start_time": "2024-08-26T18:37:15.031Z"
   },
   {
    "duration": 8,
    "start_time": "2024-08-26T18:37:18.405Z"
   },
   {
    "duration": 926,
    "start_time": "2024-08-26T18:37:18.415Z"
   },
   {
    "duration": 45,
    "start_time": "2024-08-26T18:37:19.343Z"
   },
   {
    "duration": 348,
    "start_time": "2024-08-26T18:37:19.389Z"
   },
   {
    "duration": 441,
    "start_time": "2024-08-26T18:37:19.739Z"
   },
   {
    "duration": 412,
    "start_time": "2024-08-26T18:37:20.181Z"
   },
   {
    "duration": 119,
    "start_time": "2024-08-26T18:37:20.595Z"
   },
   {
    "duration": 5,
    "start_time": "2024-08-26T18:37:20.715Z"
   },
   {
    "duration": 675835,
    "start_time": "2024-08-26T18:37:20.721Z"
   },
   {
    "duration": 10,
    "start_time": "2024-08-26T18:48:36.558Z"
   },
   {
    "duration": 20,
    "start_time": "2024-08-26T18:48:36.569Z"
   },
   {
    "duration": 3,
    "start_time": "2024-08-26T18:48:36.592Z"
   },
   {
    "duration": 189,
    "start_time": "2024-08-26T18:48:36.596Z"
   },
   {
    "duration": 0,
    "start_time": "2024-08-26T18:48:36.786Z"
   },
   {
    "duration": 0,
    "start_time": "2024-08-26T18:48:36.787Z"
   },
   {
    "duration": 0,
    "start_time": "2024-08-26T18:48:36.788Z"
   },
   {
    "duration": 0,
    "start_time": "2024-08-26T18:48:36.789Z"
   },
   {
    "duration": 0,
    "start_time": "2024-08-26T18:48:36.791Z"
   },
   {
    "duration": 0,
    "start_time": "2024-08-26T18:48:36.792Z"
   },
   {
    "duration": 0,
    "start_time": "2024-08-26T18:48:36.793Z"
   },
   {
    "duration": 0,
    "start_time": "2024-08-26T18:48:36.794Z"
   },
   {
    "duration": 0,
    "start_time": "2024-08-26T18:48:36.795Z"
   },
   {
    "duration": 0,
    "start_time": "2024-08-26T18:48:36.796Z"
   },
   {
    "duration": 0,
    "start_time": "2024-08-26T18:48:36.797Z"
   },
   {
    "duration": 0,
    "start_time": "2024-08-26T18:48:36.798Z"
   },
   {
    "duration": 0,
    "start_time": "2024-08-26T18:48:36.799Z"
   },
   {
    "duration": 0,
    "start_time": "2024-08-26T18:48:36.800Z"
   },
   {
    "duration": 0,
    "start_time": "2024-08-26T18:48:36.801Z"
   },
   {
    "duration": 0,
    "start_time": "2024-08-26T18:48:36.802Z"
   },
   {
    "duration": 0,
    "start_time": "2024-08-26T18:48:36.803Z"
   },
   {
    "duration": 0,
    "start_time": "2024-08-26T18:48:36.804Z"
   },
   {
    "duration": 3772,
    "start_time": "2024-08-26T18:50:14.437Z"
   },
   {
    "duration": 4,
    "start_time": "2024-08-26T18:50:21.321Z"
   },
   {
    "duration": 464565,
    "start_time": "2024-08-26T18:50:27.840Z"
   },
   {
    "duration": 15,
    "start_time": "2024-08-26T18:58:59.737Z"
   },
   {
    "duration": 1998,
    "start_time": "2024-08-26T18:59:06.797Z"
   },
   {
    "duration": 5,
    "start_time": "2024-08-26T18:59:33.066Z"
   },
   {
    "duration": 2690,
    "start_time": "2024-08-26T18:59:56.010Z"
   },
   {
    "duration": 5,
    "start_time": "2024-08-26T19:09:58.495Z"
   },
   {
    "duration": 53,
    "start_time": "2024-08-26T19:11:34.842Z"
   },
   {
    "duration": 17,
    "start_time": "2024-08-26T19:24:34.896Z"
   },
   {
    "duration": 72,
    "start_time": "2024-08-26T19:24:49.824Z"
   },
   {
    "duration": 952,
    "start_time": "2024-08-26T19:26:34.929Z"
   },
   {
    "duration": 924,
    "start_time": "2024-08-26T19:26:43.482Z"
   },
   {
    "duration": 12,
    "start_time": "2024-08-26T19:27:07.693Z"
   },
   {
    "duration": 25,
    "start_time": "2024-08-26T19:28:03.967Z"
   },
   {
    "duration": 298,
    "start_time": "2024-08-26T19:28:33.719Z"
   },
   {
    "duration": 267,
    "start_time": "2024-08-26T19:55:26.477Z"
   },
   {
    "duration": 359,
    "start_time": "2024-08-26T20:04:15.992Z"
   },
   {
    "duration": 18,
    "start_time": "2024-08-26T20:05:03.175Z"
   },
   {
    "duration": 4,
    "start_time": "2024-08-26T20:05:12.096Z"
   },
   {
    "duration": 6,
    "start_time": "2024-08-26T20:05:28.674Z"
   },
   {
    "duration": 11,
    "start_time": "2024-08-26T20:07:30.918Z"
   },
   {
    "duration": 13,
    "start_time": "2024-08-26T20:08:05.026Z"
   },
   {
    "duration": 6,
    "start_time": "2024-08-26T20:08:54.412Z"
   },
   {
    "duration": 10,
    "start_time": "2024-08-26T20:09:01.684Z"
   },
   {
    "duration": 5,
    "start_time": "2024-08-26T20:09:09.866Z"
   },
   {
    "duration": 12,
    "start_time": "2024-08-26T20:09:38.911Z"
   },
   {
    "duration": 216,
    "start_time": "2024-08-26T20:10:32.316Z"
   },
   {
    "duration": 90,
    "start_time": "2024-08-26T20:11:12.012Z"
   },
   {
    "duration": 234,
    "start_time": "2024-08-26T20:11:59.140Z"
   },
   {
    "duration": 278,
    "start_time": "2024-08-26T20:18:12.642Z"
   },
   {
    "duration": 275,
    "start_time": "2024-08-26T20:18:38.403Z"
   },
   {
    "duration": 1254,
    "start_time": "2024-08-26T20:22:09.885Z"
   },
   {
    "duration": 951,
    "start_time": "2024-08-26T20:22:33.125Z"
   },
   {
    "duration": 8,
    "start_time": "2024-08-26T20:22:51.314Z"
   },
   {
    "duration": 4,
    "start_time": "2024-08-26T20:23:28.470Z"
   },
   {
    "duration": 941,
    "start_time": "2024-08-26T20:24:05.197Z"
   },
   {
    "duration": 4,
    "start_time": "2024-08-26T20:25:03.127Z"
   },
   {
    "duration": 256,
    "start_time": "2024-08-26T20:26:12.264Z"
   },
   {
    "duration": 1232,
    "start_time": "2024-08-26T20:26:17.132Z"
   },
   {
    "duration": 980,
    "start_time": "2024-08-26T20:26:29.356Z"
   },
   {
    "duration": 14,
    "start_time": "2024-08-26T20:26:52.894Z"
   },
   {
    "duration": 4,
    "start_time": "2024-08-26T20:27:05.204Z"
   },
   {
    "duration": 7,
    "start_time": "2024-08-26T20:34:51.652Z"
   },
   {
    "duration": 3383,
    "start_time": "2024-08-26T20:37:53.913Z"
   },
   {
    "duration": 2643,
    "start_time": "2024-08-26T20:38:00.759Z"
   },
   {
    "duration": 48,
    "start_time": "2024-08-26T20:40:11.240Z"
   },
   {
    "duration": 6,
    "start_time": "2024-08-26T20:40:22.909Z"
   },
   {
    "duration": 20800,
    "start_time": "2024-08-26T20:40:43.321Z"
   },
   {
    "duration": 4504,
    "start_time": "2024-08-26T20:41:04.124Z"
   },
   {
    "duration": 9,
    "start_time": "2024-08-26T20:41:08.630Z"
   },
   {
    "duration": 1213,
    "start_time": "2024-08-26T20:41:08.640Z"
   },
   {
    "duration": 43,
    "start_time": "2024-08-26T20:41:09.855Z"
   },
   {
    "duration": 315,
    "start_time": "2024-08-26T20:41:09.899Z"
   },
   {
    "duration": 403,
    "start_time": "2024-08-26T20:41:10.215Z"
   },
   {
    "duration": 373,
    "start_time": "2024-08-26T20:41:10.619Z"
   },
   {
    "duration": 103,
    "start_time": "2024-08-26T20:41:10.994Z"
   },
   {
    "duration": 3,
    "start_time": "2024-08-26T20:41:11.099Z"
   },
   {
    "duration": 637460,
    "start_time": "2024-08-26T20:41:11.103Z"
   },
   {
    "duration": 8,
    "start_time": "2024-08-26T20:51:48.572Z"
   },
   {
    "duration": 3469,
    "start_time": "2024-08-26T20:51:48.582Z"
   },
   {
    "duration": 14,
    "start_time": "2024-08-26T20:51:52.054Z"
   },
   {
    "duration": 535513,
    "start_time": "2024-08-26T20:51:52.069Z"
   },
   {
    "duration": 16,
    "start_time": "2024-08-26T21:00:47.587Z"
   },
   {
    "duration": 2199,
    "start_time": "2024-08-26T21:00:47.605Z"
   },
   {
    "duration": 5,
    "start_time": "2024-08-26T21:00:49.806Z"
   },
   {
    "duration": 2983,
    "start_time": "2024-08-26T21:00:49.812Z"
   },
   {
    "duration": 434,
    "start_time": "2024-08-26T21:00:52.797Z"
   },
   {
    "duration": 3916,
    "start_time": "2024-08-26T21:00:53.233Z"
   },
   {
    "duration": 6122,
    "start_time": "2024-08-26T21:00:57.151Z"
   },
   {
    "duration": 63,
    "start_time": "2024-08-26T21:01:32.011Z"
   },
   {
    "duration": 23632,
    "start_time": "2024-08-26T21:01:50.489Z"
   },
   {
    "duration": 5200,
    "start_time": "2024-08-26T21:02:14.124Z"
   },
   {
    "duration": 7,
    "start_time": "2024-08-26T21:02:19.326Z"
   },
   {
    "duration": 1412,
    "start_time": "2024-08-26T21:02:19.335Z"
   },
   {
    "duration": 61,
    "start_time": "2024-08-26T21:02:20.749Z"
   },
   {
    "duration": 459,
    "start_time": "2024-08-26T21:02:20.812Z"
   },
   {
    "duration": 482,
    "start_time": "2024-08-26T21:02:21.275Z"
   },
   {
    "duration": 464,
    "start_time": "2024-08-26T21:02:21.765Z"
   },
   {
    "duration": 149,
    "start_time": "2024-08-26T21:02:22.230Z"
   },
   {
    "duration": 4,
    "start_time": "2024-08-26T21:02:22.381Z"
   },
   {
    "duration": 710088,
    "start_time": "2024-08-26T21:02:22.387Z"
   },
   {
    "duration": 7,
    "start_time": "2024-08-26T21:14:12.478Z"
   },
   {
    "duration": 4316,
    "start_time": "2024-08-26T21:14:12.488Z"
   },
   {
    "duration": 5,
    "start_time": "2024-08-26T21:14:16.808Z"
   },
   {
    "duration": 511754,
    "start_time": "2024-08-26T21:14:16.816Z"
   },
   {
    "duration": 15,
    "start_time": "2024-08-26T21:22:48.572Z"
   },
   {
    "duration": 2055,
    "start_time": "2024-08-26T21:22:48.589Z"
   },
   {
    "duration": 17,
    "start_time": "2024-08-26T21:22:50.646Z"
   },
   {
    "duration": 2844,
    "start_time": "2024-08-26T21:22:50.668Z"
   },
   {
    "duration": 302,
    "start_time": "2024-08-26T21:22:53.514Z"
   },
   {
    "duration": 3712,
    "start_time": "2024-08-26T21:22:53.818Z"
   },
   {
    "duration": 5253,
    "start_time": "2024-08-26T21:22:57.532Z"
   },
   {
    "duration": 22929,
    "start_time": "2024-08-26T21:23:50.058Z"
   },
   {
    "duration": 4875,
    "start_time": "2024-08-26T21:24:12.990Z"
   },
   {
    "duration": 10,
    "start_time": "2024-08-26T21:24:17.869Z"
   },
   {
    "duration": 1407,
    "start_time": "2024-08-26T21:24:17.881Z"
   },
   {
    "duration": 46,
    "start_time": "2024-08-26T21:24:19.289Z"
   },
   {
    "duration": 347,
    "start_time": "2024-08-26T21:24:19.336Z"
   },
   {
    "duration": 434,
    "start_time": "2024-08-26T21:24:19.684Z"
   },
   {
    "duration": 397,
    "start_time": "2024-08-26T21:24:20.120Z"
   },
   {
    "duration": 125,
    "start_time": "2024-08-26T21:24:20.518Z"
   },
   {
    "duration": 18,
    "start_time": "2024-08-26T21:24:20.645Z"
   },
   {
    "duration": 641339,
    "start_time": "2024-08-26T21:24:20.665Z"
   },
   {
    "duration": 5,
    "start_time": "2024-08-26T21:35:02.005Z"
   },
   {
    "duration": 3537,
    "start_time": "2024-08-26T21:35:02.011Z"
   },
   {
    "duration": 13,
    "start_time": "2024-08-26T21:35:05.549Z"
   },
   {
    "duration": 486381,
    "start_time": "2024-08-26T21:35:05.563Z"
   },
   {
    "duration": 14,
    "start_time": "2024-08-26T21:43:11.946Z"
   },
   {
    "duration": 1847,
    "start_time": "2024-08-26T21:43:11.961Z"
   },
   {
    "duration": 4,
    "start_time": "2024-08-26T21:43:13.810Z"
   },
   {
    "duration": 2746,
    "start_time": "2024-08-26T21:43:13.815Z"
   },
   {
    "duration": 269,
    "start_time": "2024-08-26T21:43:16.563Z"
   },
   {
    "duration": 3273,
    "start_time": "2024-08-26T21:43:16.834Z"
   },
   {
    "duration": 4580,
    "start_time": "2024-08-26T21:43:20.109Z"
   },
   {
    "duration": 2395301,
    "start_time": "2024-08-26T21:43:24.690Z"
   },
   {
    "duration": 87,
    "start_time": "2024-08-26T22:23:19.993Z"
   },
   {
    "duration": 4,
    "start_time": "2024-08-26T22:23:20.081Z"
   },
   {
    "duration": 17,
    "start_time": "2024-08-26T22:23:20.087Z"
   },
   {
    "duration": 331,
    "start_time": "2024-08-26T22:23:20.106Z"
   },
   {
    "duration": 0,
    "start_time": "2024-08-26T22:23:20.439Z"
   },
   {
    "duration": 0,
    "start_time": "2024-08-26T22:23:20.440Z"
   },
   {
    "duration": 14,
    "start_time": "2024-08-26T22:28:57.413Z"
   },
   {
    "duration": 53873,
    "start_time": "2024-08-26T22:29:00.051Z"
   },
   {
    "duration": 15,
    "start_time": "2024-08-26T22:31:02.368Z"
   },
   {
    "duration": 445,
    "start_time": "2024-08-26T22:32:13.589Z"
   },
   {
    "duration": 1934,
    "start_time": "2024-08-26T22:32:17.036Z"
   },
   {
    "duration": 5129,
    "start_time": "2024-08-26T22:32:22.310Z"
   },
   {
    "duration": 2338582,
    "start_time": "2024-08-26T22:33:45.948Z"
   },
   {
    "duration": 9,
    "start_time": "2024-08-26T23:12:44.532Z"
   },
   {
    "duration": 52,
    "start_time": "2024-08-26T23:13:06.350Z"
   },
   {
    "duration": 3,
    "start_time": "2024-08-26T23:13:09.796Z"
   },
   {
    "duration": 5,
    "start_time": "2024-08-26T23:13:12.126Z"
   },
   {
    "duration": 13,
    "start_time": "2024-08-26T23:13:18.263Z"
   },
   {
    "duration": 73057,
    "start_time": "2024-08-26T23:13:20.815Z"
   },
   {
    "duration": 17,
    "start_time": "2024-08-26T23:14:33.874Z"
   },
   {
    "duration": 7,
    "start_time": "2024-08-26T23:15:34.387Z"
   },
   {
    "duration": 48,
    "start_time": "2024-08-26T23:15:36.779Z"
   },
   {
    "duration": 5,
    "start_time": "2024-08-26T23:15:42.180Z"
   },
   {
    "duration": 82672,
    "start_time": "2024-08-26T23:15:45.291Z"
   },
   {
    "duration": 11,
    "start_time": "2024-08-26T23:17:07.964Z"
   },
   {
    "duration": 399,
    "start_time": "2024-08-26T23:24:13.826Z"
   },
   {
    "duration": 824,
    "start_time": "2024-08-26T23:24:18.044Z"
   },
   {
    "duration": 545921,
    "start_time": "2024-08-26T23:24:31.325Z"
   },
   {
    "duration": 25,
    "start_time": "2024-08-26T23:34:20.223Z"
   },
   {
    "duration": 4,
    "start_time": "2024-08-26T23:34:23.444Z"
   },
   {
    "duration": 5,
    "start_time": "2024-08-26T23:34:28.274Z"
   },
   {
    "duration": 8,
    "start_time": "2024-08-26T23:34:32.340Z"
   },
   {
    "duration": 35088,
    "start_time": "2024-08-26T23:34:34.042Z"
   },
   {
    "duration": 12,
    "start_time": "2024-08-26T23:35:26.476Z"
   },
   {
    "duration": 6,
    "start_time": "2024-08-26T23:36:00.524Z"
   },
   {
    "duration": 6,
    "start_time": "2024-08-26T23:36:12.077Z"
   },
   {
    "duration": 48182,
    "start_time": "2024-08-26T23:36:13.625Z"
   },
   {
    "duration": 9,
    "start_time": "2024-08-26T23:37:12.118Z"
   },
   {
    "duration": 268,
    "start_time": "2024-08-26T23:40:22.886Z"
   },
   {
    "duration": 2192,
    "start_time": "2024-08-26T23:40:29.490Z"
   },
   {
    "duration": 397754,
    "start_time": "2024-08-26T23:40:35.581Z"
   },
   {
    "duration": 17,
    "start_time": "2024-08-26T23:47:28.854Z"
   },
   {
    "duration": 5,
    "start_time": "2024-08-26T23:47:32.567Z"
   },
   {
    "duration": 5,
    "start_time": "2024-08-26T23:47:35.929Z"
   },
   {
    "duration": 13,
    "start_time": "2024-08-26T23:47:41.593Z"
   },
   {
    "duration": 61136,
    "start_time": "2024-08-26T23:47:46.272Z"
   },
   {
    "duration": 14,
    "start_time": "2024-08-26T23:48:59.293Z"
   },
   {
    "duration": 267,
    "start_time": "2024-08-26T23:49:35.688Z"
   },
   {
    "duration": 2150,
    "start_time": "2024-08-26T23:49:39.539Z"
   },
   {
    "duration": 1103921,
    "start_time": "2024-08-26T23:49:54.809Z"
   },
   {
    "duration": 24,
    "start_time": "2024-08-27T00:09:29.615Z"
   },
   {
    "duration": 4,
    "start_time": "2024-08-27T00:09:33.683Z"
   },
   {
    "duration": 4,
    "start_time": "2024-08-27T00:09:35.655Z"
   },
   {
    "duration": 14,
    "start_time": "2024-08-27T00:09:37.873Z"
   },
   {
    "duration": 61529,
    "start_time": "2024-08-27T00:09:39.280Z"
   },
   {
    "duration": 10,
    "start_time": "2024-08-27T00:11:03.578Z"
   },
   {
    "duration": 255,
    "start_time": "2024-08-27T00:12:41.308Z"
   },
   {
    "duration": 2809,
    "start_time": "2024-08-27T00:12:46.147Z"
   },
   {
    "duration": 1452490,
    "start_time": "2024-08-27T00:13:11.456Z"
   },
   {
    "duration": 19,
    "start_time": "2024-08-27T00:37:50.614Z"
   },
   {
    "duration": 4,
    "start_time": "2024-08-27T00:37:54.672Z"
   },
   {
    "duration": 4,
    "start_time": "2024-08-27T00:37:57.309Z"
   },
   {
    "duration": 16,
    "start_time": "2024-08-27T00:38:07.434Z"
   },
   {
    "duration": 69612,
    "start_time": "2024-08-27T00:38:17.244Z"
   },
   {
    "duration": 98,
    "start_time": "2024-08-27T00:39:26.858Z"
   },
   {
    "duration": 296,
    "start_time": "2024-08-27T00:40:32.317Z"
   },
   {
    "duration": 4155,
    "start_time": "2024-08-27T00:40:34.281Z"
   },
   {
    "duration": 788346,
    "start_time": "2024-08-27T00:40:39.077Z"
   },
   {
    "duration": 20,
    "start_time": "2024-08-27T00:54:31.709Z"
   },
   {
    "duration": 4,
    "start_time": "2024-08-27T00:54:33.262Z"
   },
   {
    "duration": 5,
    "start_time": "2024-08-27T00:54:38.326Z"
   },
   {
    "duration": 19,
    "start_time": "2024-08-27T00:54:44.630Z"
   },
   {
    "duration": 84171,
    "start_time": "2024-08-27T00:54:46.841Z"
   },
   {
    "duration": 39,
    "start_time": "2024-08-27T00:56:11.014Z"
   },
   {
    "duration": 270,
    "start_time": "2024-08-27T00:59:02.312Z"
   },
   {
    "duration": 2775,
    "start_time": "2024-08-27T00:59:04.564Z"
   },
   {
    "duration": 55,
    "start_time": "2024-08-27T11:46:06.098Z"
   },
   {
    "duration": 36898,
    "start_time": "2024-08-27T11:46:22.156Z"
   },
   {
    "duration": 3963,
    "start_time": "2024-08-27T11:46:59.056Z"
   },
   {
    "duration": 8,
    "start_time": "2024-08-27T11:47:03.021Z"
   },
   {
    "duration": 1311,
    "start_time": "2024-08-27T11:47:03.032Z"
   },
   {
    "duration": 47,
    "start_time": "2024-08-27T11:47:04.345Z"
   },
   {
    "duration": 359,
    "start_time": "2024-08-27T11:47:04.394Z"
   },
   {
    "duration": 448,
    "start_time": "2024-08-27T11:47:04.759Z"
   },
   {
    "duration": 480,
    "start_time": "2024-08-27T11:47:05.208Z"
   },
   {
    "duration": 113,
    "start_time": "2024-08-27T11:47:05.689Z"
   },
   {
    "duration": 4,
    "start_time": "2024-08-27T11:47:05.806Z"
   },
   {
    "duration": 567374,
    "start_time": "2024-08-27T11:47:05.811Z"
   },
   {
    "duration": 4,
    "start_time": "2024-08-27T11:56:33.187Z"
   },
   {
    "duration": 2628,
    "start_time": "2024-08-27T11:56:33.193Z"
   },
   {
    "duration": 4,
    "start_time": "2024-08-27T11:56:35.823Z"
   },
   {
    "duration": 386766,
    "start_time": "2024-08-27T11:56:35.829Z"
   },
   {
    "duration": 154,
    "start_time": "2024-08-27T12:03:02.597Z"
   },
   {
    "duration": 13,
    "start_time": "2024-08-27T12:03:45.963Z"
   },
   {
    "duration": 1595,
    "start_time": "2024-08-27T12:03:55.316Z"
   },
   {
    "duration": 4,
    "start_time": "2024-08-27T12:04:16.955Z"
   },
   {
    "duration": 2817,
    "start_time": "2024-08-27T12:04:25.449Z"
   },
   {
    "duration": 23490,
    "start_time": "2024-08-27T12:13:50.872Z"
   },
   {
    "duration": 3642,
    "start_time": "2024-08-27T12:14:14.364Z"
   },
   {
    "duration": 8,
    "start_time": "2024-08-27T12:14:18.007Z"
   },
   {
    "duration": 998,
    "start_time": "2024-08-27T12:14:18.017Z"
   },
   {
    "duration": 46,
    "start_time": "2024-08-27T12:14:19.017Z"
   },
   {
    "duration": 340,
    "start_time": "2024-08-27T12:14:19.065Z"
   },
   {
    "duration": 414,
    "start_time": "2024-08-27T12:14:19.406Z"
   },
   {
    "duration": 399,
    "start_time": "2024-08-27T12:14:19.822Z"
   },
   {
    "duration": 116,
    "start_time": "2024-08-27T12:14:20.223Z"
   },
   {
    "duration": 3,
    "start_time": "2024-08-27T12:14:20.342Z"
   },
   {
    "duration": 695430,
    "start_time": "2024-08-27T12:14:20.347Z"
   },
   {
    "duration": 3,
    "start_time": "2024-08-27T12:25:55.779Z"
   },
   {
    "duration": 3683,
    "start_time": "2024-08-27T12:25:55.784Z"
   },
   {
    "duration": 5,
    "start_time": "2024-08-27T12:25:59.469Z"
   },
   {
    "duration": 457246,
    "start_time": "2024-08-27T12:25:59.475Z"
   },
   {
    "duration": 16,
    "start_time": "2024-08-27T12:33:36.723Z"
   },
   {
    "duration": 2273,
    "start_time": "2024-08-27T12:33:36.740Z"
   },
   {
    "duration": 4,
    "start_time": "2024-08-27T12:33:39.015Z"
   },
   {
    "duration": 2694,
    "start_time": "2024-08-27T12:33:39.021Z"
   },
   {
    "duration": 267,
    "start_time": "2024-08-27T12:33:41.717Z"
   },
   {
    "duration": 4835,
    "start_time": "2024-08-27T12:33:41.986Z"
   },
   {
    "duration": 5176,
    "start_time": "2024-08-27T12:33:46.822Z"
   },
   {
    "duration": 48,
    "start_time": "2024-08-27T12:43:09.004Z"
   },
   {
    "duration": 22647,
    "start_time": "2024-08-27T12:44:07.659Z"
   },
   {
    "duration": 4778,
    "start_time": "2024-08-27T12:44:30.308Z"
   },
   {
    "duration": 8,
    "start_time": "2024-08-27T12:44:35.088Z"
   },
   {
    "duration": 1302,
    "start_time": "2024-08-27T12:44:35.097Z"
   },
   {
    "duration": 45,
    "start_time": "2024-08-27T12:44:36.401Z"
   },
   {
    "duration": 321,
    "start_time": "2024-08-27T12:44:36.448Z"
   },
   {
    "duration": 428,
    "start_time": "2024-08-27T12:44:36.771Z"
   },
   {
    "duration": 409,
    "start_time": "2024-08-27T12:44:37.201Z"
   },
   {
    "duration": 128,
    "start_time": "2024-08-27T12:44:37.611Z"
   },
   {
    "duration": 4,
    "start_time": "2024-08-27T12:44:37.741Z"
   },
   {
    "duration": 675985,
    "start_time": "2024-08-27T12:44:37.747Z"
   },
   {
    "duration": 4,
    "start_time": "2024-08-27T12:55:53.734Z"
   },
   {
    "duration": 3849,
    "start_time": "2024-08-27T12:55:53.739Z"
   },
   {
    "duration": 5,
    "start_time": "2024-08-27T12:55:57.590Z"
   },
   {
    "duration": 456937,
    "start_time": "2024-08-27T12:55:57.604Z"
   },
   {
    "duration": 15,
    "start_time": "2024-08-27T13:03:34.543Z"
   },
   {
    "duration": 2277,
    "start_time": "2024-08-27T13:03:34.560Z"
   },
   {
    "duration": 6,
    "start_time": "2024-08-27T13:03:36.839Z"
   },
   {
    "duration": 3011,
    "start_time": "2024-08-27T13:03:36.847Z"
   },
   {
    "duration": 275,
    "start_time": "2024-08-27T13:03:39.860Z"
   },
   {
    "duration": 5098,
    "start_time": "2024-08-27T13:03:40.137Z"
   },
   {
    "duration": 5212,
    "start_time": "2024-08-27T13:03:45.237Z"
   },
   {
    "duration": 22623,
    "start_time": "2024-08-27T13:04:22.367Z"
   },
   {
    "duration": 4830,
    "start_time": "2024-08-27T13:04:44.992Z"
   },
   {
    "duration": 8,
    "start_time": "2024-08-27T13:04:49.824Z"
   },
   {
    "duration": 1283,
    "start_time": "2024-08-27T13:04:49.834Z"
   },
   {
    "duration": 47,
    "start_time": "2024-08-27T13:04:51.119Z"
   },
   {
    "duration": 327,
    "start_time": "2024-08-27T13:04:51.168Z"
   },
   {
    "duration": 426,
    "start_time": "2024-08-27T13:04:51.496Z"
   },
   {
    "duration": 427,
    "start_time": "2024-08-27T13:04:51.924Z"
   },
   {
    "duration": 115,
    "start_time": "2024-08-27T13:04:52.353Z"
   },
   {
    "duration": 4,
    "start_time": "2024-08-27T13:04:52.469Z"
   },
   {
    "duration": 687183,
    "start_time": "2024-08-27T13:04:52.474Z"
   },
   {
    "duration": 4,
    "start_time": "2024-08-27T13:16:19.659Z"
   },
   {
    "duration": 3850,
    "start_time": "2024-08-27T13:16:19.664Z"
   },
   {
    "duration": 4,
    "start_time": "2024-08-27T13:16:23.517Z"
   },
   {
    "duration": 466751,
    "start_time": "2024-08-27T13:16:23.523Z"
   },
   {
    "duration": 17,
    "start_time": "2024-08-27T13:24:10.276Z"
   },
   {
    "duration": 2266,
    "start_time": "2024-08-27T13:24:10.295Z"
   },
   {
    "duration": 4,
    "start_time": "2024-08-27T13:24:12.563Z"
   },
   {
    "duration": 2865,
    "start_time": "2024-08-27T13:24:12.568Z"
   },
   {
    "duration": 287,
    "start_time": "2024-08-27T13:24:15.434Z"
   },
   {
    "duration": 4864,
    "start_time": "2024-08-27T13:24:15.722Z"
   },
   {
    "duration": 5056,
    "start_time": "2024-08-27T13:24:20.588Z"
   },
   {
    "duration": 776630,
    "start_time": "2024-08-27T13:24:25.645Z"
   },
   {
    "duration": 92,
    "start_time": "2024-08-27T13:37:22.277Z"
   },
   {
    "duration": 3,
    "start_time": "2024-08-27T13:37:22.371Z"
   },
   {
    "duration": 68,
    "start_time": "2024-08-27T13:37:22.376Z"
   },
   {
    "duration": 60,
    "start_time": "2024-08-27T13:37:22.446Z"
   },
   {
    "duration": 64637,
    "start_time": "2024-08-27T13:37:22.508Z"
   },
   {
    "duration": 11,
    "start_time": "2024-08-27T13:38:27.148Z"
   },
   {
    "duration": 467,
    "start_time": "2024-08-27T13:38:27.206Z"
   },
   {
    "duration": 361,
    "start_time": "2024-08-27T13:41:43.515Z"
   },
   {
    "duration": 9,
    "start_time": "2024-08-27T13:44:59.747Z"
   },
   {
    "duration": 286,
    "start_time": "2024-08-27T13:45:44.397Z"
   },
   {
    "duration": 76,
    "start_time": "2024-08-27T13:46:55.291Z"
   },
   {
    "duration": 9,
    "start_time": "2024-08-27T13:47:05.317Z"
   },
   {
    "duration": 5355,
    "start_time": "2024-08-27T13:47:33.128Z"
   },
   {
    "duration": 2,
    "start_time": "2024-08-27T13:47:40.288Z"
   },
   {
    "duration": 8220,
    "start_time": "2024-08-27T13:47:43.604Z"
   },
   {
    "duration": 1453138,
    "start_time": "2024-08-27T13:47:58.710Z"
   },
   {
    "duration": 17,
    "start_time": "2024-08-27T14:16:33.121Z"
   },
   {
    "duration": 4,
    "start_time": "2024-08-27T14:16:37.372Z"
   },
   {
    "duration": 4,
    "start_time": "2024-08-27T14:16:41.102Z"
   },
   {
    "duration": 17,
    "start_time": "2024-08-27T14:16:49.188Z"
   },
   {
    "duration": 62482,
    "start_time": "2024-08-27T14:16:53.870Z"
   },
   {
    "duration": 51,
    "start_time": "2024-08-27T14:17:56.353Z"
   },
   {
    "duration": 101,
    "start_time": "2024-08-27T14:17:56.407Z"
   },
   {
    "duration": 7,
    "start_time": "2024-08-27T14:18:44.631Z"
   },
   {
    "duration": 25,
    "start_time": "2024-08-27T14:18:46.405Z"
   },
   {
    "duration": 4,
    "start_time": "2024-08-27T14:18:50.228Z"
   },
   {
    "duration": 8,
    "start_time": "2024-08-27T14:18:50.978Z"
   },
   {
    "duration": 47,
    "start_time": "2024-08-27T16:42:01.661Z"
   },
   {
    "duration": 35244,
    "start_time": "2024-08-27T16:46:40.326Z"
   },
   {
    "duration": 5573,
    "start_time": "2024-08-27T16:47:15.573Z"
   },
   {
    "duration": 6,
    "start_time": "2024-08-27T16:47:21.148Z"
   },
   {
    "duration": 1270,
    "start_time": "2024-08-27T16:47:21.156Z"
   },
   {
    "duration": 43,
    "start_time": "2024-08-27T16:47:22.427Z"
   },
   {
    "duration": 315,
    "start_time": "2024-08-27T16:47:22.471Z"
   },
   {
    "duration": 416,
    "start_time": "2024-08-27T16:47:22.788Z"
   },
   {
    "duration": 418,
    "start_time": "2024-08-27T16:47:23.205Z"
   },
   {
    "duration": 116,
    "start_time": "2024-08-27T16:47:23.625Z"
   },
   {
    "duration": 11,
    "start_time": "2024-08-27T16:47:23.743Z"
   },
   {
    "duration": 649121,
    "start_time": "2024-08-27T16:47:23.755Z"
   },
   {
    "duration": 4,
    "start_time": "2024-08-27T16:58:12.878Z"
   },
   {
    "duration": 3549,
    "start_time": "2024-08-27T16:58:12.883Z"
   },
   {
    "duration": 5,
    "start_time": "2024-08-27T16:58:16.433Z"
   },
   {
    "duration": 475173,
    "start_time": "2024-08-27T16:58:16.440Z"
   },
   {
    "duration": 22,
    "start_time": "2024-08-27T17:06:11.615Z"
   },
   {
    "duration": 2259,
    "start_time": "2024-08-27T17:06:11.639Z"
   },
   {
    "duration": 6,
    "start_time": "2024-08-27T17:06:13.900Z"
   },
   {
    "duration": 2794,
    "start_time": "2024-08-27T17:06:13.908Z"
   },
   {
    "duration": 267,
    "start_time": "2024-08-27T17:06:16.706Z"
   },
   {
    "duration": 6863,
    "start_time": "2024-08-27T17:06:16.974Z"
   },
   {
    "duration": 2,
    "start_time": "2024-08-27T17:06:23.839Z"
   },
   {
    "duration": 5227,
    "start_time": "2024-08-27T17:06:23.843Z"
   },
   {
    "duration": 877519,
    "start_time": "2024-08-27T17:06:29.072Z"
   },
   {
    "duration": 103,
    "start_time": "2024-08-27T17:21:06.592Z"
   },
   {
    "duration": 4,
    "start_time": "2024-08-27T17:21:06.697Z"
   },
   {
    "duration": 31,
    "start_time": "2024-08-27T17:21:06.702Z"
   },
   {
    "duration": 16,
    "start_time": "2024-08-27T17:21:06.737Z"
   },
   {
    "duration": 79253,
    "start_time": "2024-08-27T17:21:06.755Z"
   },
   {
    "duration": 10,
    "start_time": "2024-08-27T17:22:26.010Z"
   },
   {
    "duration": 98,
    "start_time": "2024-08-27T17:22:26.054Z"
   },
   {
    "duration": 230,
    "start_time": "2024-08-27T17:23:14.378Z"
   },
   {
    "duration": 6167,
    "start_time": "2024-08-27T17:23:15.959Z"
   },
   {
    "duration": 2,
    "start_time": "2024-08-27T17:23:33.176Z"
   },
   {
    "duration": 1333,
    "start_time": "2024-08-27T17:23:36.447Z"
   },
   {
    "duration": 1208868,
    "start_time": "2024-08-27T17:23:39.598Z"
   },
   {
    "duration": 19,
    "start_time": "2024-08-27T17:43:48.468Z"
   },
   {
    "duration": 25,
    "start_time": "2024-08-27T17:43:48.489Z"
   },
   {
    "duration": 4,
    "start_time": "2024-08-27T17:43:48.516Z"
   },
   {
    "duration": 21,
    "start_time": "2024-08-27T17:43:48.522Z"
   },
   {
    "duration": 96143,
    "start_time": "2024-08-27T17:43:48.545Z"
   },
   {
    "duration": 9,
    "start_time": "2024-08-27T17:45:24.690Z"
   },
   {
    "duration": 354,
    "start_time": "2024-08-27T17:46:42.822Z"
   },
   {
    "duration": 4,
    "start_time": "2024-08-27T17:46:55.650Z"
   },
   {
    "duration": 16,
    "start_time": "2024-08-27T17:47:08.160Z"
   },
   {
    "duration": 4,
    "start_time": "2024-08-27T17:47:16.110Z"
   },
   {
    "duration": 84,
    "start_time": "2024-08-27T17:50:27.223Z"
   },
   {
    "duration": 3,
    "start_time": "2024-08-27T17:50:44.276Z"
   },
   {
    "duration": 5,
    "start_time": "2024-08-27T17:50:47.263Z"
   },
   {
    "duration": 103554,
    "start_time": "2024-08-27T17:50:50.026Z"
   },
   {
    "duration": 16,
    "start_time": "2024-08-27T17:53:02.634Z"
   },
   {
    "duration": 805,
    "start_time": "2024-08-27T17:53:42.979Z"
   },
   {
    "duration": 5,
    "start_time": "2024-08-27T17:53:54.673Z"
   },
   {
    "duration": 5,
    "start_time": "2024-08-27T17:54:09.766Z"
   },
   {
    "duration": 21749,
    "start_time": "2024-08-27T17:59:19.786Z"
   },
   {
    "duration": 6483,
    "start_time": "2024-08-27T17:59:41.537Z"
   },
   {
    "duration": 6,
    "start_time": "2024-08-27T17:59:48.021Z"
   },
   {
    "duration": 1265,
    "start_time": "2024-08-27T17:59:48.029Z"
   },
   {
    "duration": 44,
    "start_time": "2024-08-27T17:59:49.296Z"
   },
   {
    "duration": 323,
    "start_time": "2024-08-27T17:59:49.342Z"
   },
   {
    "duration": 404,
    "start_time": "2024-08-27T17:59:49.667Z"
   },
   {
    "duration": 414,
    "start_time": "2024-08-27T17:59:50.073Z"
   },
   {
    "duration": 333,
    "start_time": "2024-08-27T17:59:50.488Z"
   },
   {
    "duration": 0,
    "start_time": "2024-08-27T17:59:50.824Z"
   },
   {
    "duration": 0,
    "start_time": "2024-08-27T17:59:50.825Z"
   },
   {
    "duration": 0,
    "start_time": "2024-08-27T17:59:50.827Z"
   },
   {
    "duration": 0,
    "start_time": "2024-08-27T17:59:50.828Z"
   },
   {
    "duration": 0,
    "start_time": "2024-08-27T17:59:50.829Z"
   },
   {
    "duration": 0,
    "start_time": "2024-08-27T17:59:50.830Z"
   },
   {
    "duration": 0,
    "start_time": "2024-08-27T17:59:50.831Z"
   },
   {
    "duration": 0,
    "start_time": "2024-08-27T17:59:50.832Z"
   },
   {
    "duration": 0,
    "start_time": "2024-08-27T17:59:50.833Z"
   },
   {
    "duration": 0,
    "start_time": "2024-08-27T17:59:50.853Z"
   },
   {
    "duration": 0,
    "start_time": "2024-08-27T17:59:50.854Z"
   },
   {
    "duration": 0,
    "start_time": "2024-08-27T17:59:50.855Z"
   },
   {
    "duration": 0,
    "start_time": "2024-08-27T17:59:50.856Z"
   },
   {
    "duration": 0,
    "start_time": "2024-08-27T17:59:50.857Z"
   },
   {
    "duration": 0,
    "start_time": "2024-08-27T17:59:50.858Z"
   },
   {
    "duration": 0,
    "start_time": "2024-08-27T17:59:50.860Z"
   },
   {
    "duration": 0,
    "start_time": "2024-08-27T17:59:50.861Z"
   },
   {
    "duration": 0,
    "start_time": "2024-08-27T17:59:50.863Z"
   },
   {
    "duration": 0,
    "start_time": "2024-08-27T17:59:50.863Z"
   },
   {
    "duration": 0,
    "start_time": "2024-08-27T17:59:50.865Z"
   },
   {
    "duration": 0,
    "start_time": "2024-08-27T17:59:50.866Z"
   },
   {
    "duration": 0,
    "start_time": "2024-08-27T17:59:50.867Z"
   },
   {
    "duration": 0,
    "start_time": "2024-08-27T17:59:50.868Z"
   },
   {
    "duration": 0,
    "start_time": "2024-08-27T17:59:50.869Z"
   },
   {
    "duration": 0,
    "start_time": "2024-08-27T17:59:50.871Z"
   },
   {
    "duration": 0,
    "start_time": "2024-08-27T17:59:50.872Z"
   },
   {
    "duration": 0,
    "start_time": "2024-08-27T17:59:50.873Z"
   },
   {
    "duration": 0,
    "start_time": "2024-08-27T17:59:50.874Z"
   },
   {
    "duration": 0,
    "start_time": "2024-08-27T17:59:50.875Z"
   },
   {
    "duration": 0,
    "start_time": "2024-08-27T17:59:50.876Z"
   },
   {
    "duration": 23736,
    "start_time": "2024-08-27T18:06:54.578Z"
   },
   {
    "duration": 4867,
    "start_time": "2024-08-27T18:07:18.316Z"
   },
   {
    "duration": 5,
    "start_time": "2024-08-27T18:07:23.185Z"
   },
   {
    "duration": 923,
    "start_time": "2024-08-27T18:07:23.192Z"
   },
   {
    "duration": 48,
    "start_time": "2024-08-27T18:07:24.117Z"
   },
   {
    "duration": 351,
    "start_time": "2024-08-27T18:07:24.167Z"
   },
   {
    "duration": 416,
    "start_time": "2024-08-27T18:07:24.519Z"
   },
   {
    "duration": 358,
    "start_time": "2024-08-27T18:07:24.937Z"
   },
   {
    "duration": 121,
    "start_time": "2024-08-27T18:07:25.296Z"
   },
   {
    "duration": 4,
    "start_time": "2024-08-27T18:07:25.418Z"
   },
   {
    "duration": 413,
    "start_time": "2024-08-27T18:07:25.423Z"
   },
   {
    "duration": 0,
    "start_time": "2024-08-27T18:07:25.840Z"
   },
   {
    "duration": 0,
    "start_time": "2024-08-27T18:07:25.842Z"
   },
   {
    "duration": 0,
    "start_time": "2024-08-27T18:07:25.843Z"
   },
   {
    "duration": 0,
    "start_time": "2024-08-27T18:07:25.845Z"
   },
   {
    "duration": 0,
    "start_time": "2024-08-27T18:07:25.846Z"
   },
   {
    "duration": 0,
    "start_time": "2024-08-27T18:07:25.853Z"
   },
   {
    "duration": 0,
    "start_time": "2024-08-27T18:07:25.854Z"
   },
   {
    "duration": 0,
    "start_time": "2024-08-27T18:07:25.856Z"
   },
   {
    "duration": 0,
    "start_time": "2024-08-27T18:07:25.857Z"
   },
   {
    "duration": 0,
    "start_time": "2024-08-27T18:07:25.859Z"
   },
   {
    "duration": 0,
    "start_time": "2024-08-27T18:07:25.860Z"
   },
   {
    "duration": 0,
    "start_time": "2024-08-27T18:07:25.862Z"
   },
   {
    "duration": 0,
    "start_time": "2024-08-27T18:07:25.864Z"
   },
   {
    "duration": 0,
    "start_time": "2024-08-27T18:07:25.865Z"
   },
   {
    "duration": 0,
    "start_time": "2024-08-27T18:07:25.866Z"
   },
   {
    "duration": 0,
    "start_time": "2024-08-27T18:07:25.868Z"
   },
   {
    "duration": 0,
    "start_time": "2024-08-27T18:07:25.869Z"
   },
   {
    "duration": 0,
    "start_time": "2024-08-27T18:07:25.871Z"
   },
   {
    "duration": 0,
    "start_time": "2024-08-27T18:07:25.873Z"
   },
   {
    "duration": 0,
    "start_time": "2024-08-27T18:07:25.874Z"
   },
   {
    "duration": 0,
    "start_time": "2024-08-27T18:07:25.876Z"
   },
   {
    "duration": 0,
    "start_time": "2024-08-27T18:07:25.877Z"
   },
   {
    "duration": 0,
    "start_time": "2024-08-27T18:07:25.878Z"
   },
   {
    "duration": 0,
    "start_time": "2024-08-27T18:07:25.879Z"
   },
   {
    "duration": 0,
    "start_time": "2024-08-27T18:07:25.881Z"
   },
   {
    "duration": 0,
    "start_time": "2024-08-27T18:07:25.885Z"
   },
   {
    "duration": 0,
    "start_time": "2024-08-27T18:07:25.886Z"
   },
   {
    "duration": 15448,
    "start_time": "2024-08-27T18:11:47.502Z"
   },
   {
    "duration": 21994,
    "start_time": "2024-08-27T18:12:12.960Z"
   },
   {
    "duration": 4853,
    "start_time": "2024-08-27T18:12:34.957Z"
   },
   {
    "duration": 5,
    "start_time": "2024-08-27T18:12:39.812Z"
   },
   {
    "duration": 884,
    "start_time": "2024-08-27T18:12:39.820Z"
   },
   {
    "duration": 47,
    "start_time": "2024-08-27T18:12:40.706Z"
   },
   {
    "duration": 340,
    "start_time": "2024-08-27T18:12:40.754Z"
   },
   {
    "duration": 396,
    "start_time": "2024-08-27T18:12:41.096Z"
   },
   {
    "duration": 377,
    "start_time": "2024-08-27T18:12:41.494Z"
   },
   {
    "duration": 115,
    "start_time": "2024-08-27T18:12:41.872Z"
   },
   {
    "duration": 4,
    "start_time": "2024-08-27T18:12:41.990Z"
   },
   {
    "duration": 640447,
    "start_time": "2024-08-27T18:12:41.995Z"
   },
   {
    "duration": 4,
    "start_time": "2024-08-27T18:23:22.444Z"
   },
   {
    "duration": 3804,
    "start_time": "2024-08-27T18:23:22.449Z"
   },
   {
    "duration": 6,
    "start_time": "2024-08-27T18:23:26.255Z"
   },
   {
    "duration": 448862,
    "start_time": "2024-08-27T18:23:26.262Z"
   },
   {
    "duration": 27,
    "start_time": "2024-08-27T18:30:55.126Z"
   },
   {
    "duration": 2107,
    "start_time": "2024-08-27T18:30:55.154Z"
   },
   {
    "duration": 6,
    "start_time": "2024-08-27T18:30:57.263Z"
   },
   {
    "duration": 2599,
    "start_time": "2024-08-27T18:30:57.271Z"
   },
   {
    "duration": 280,
    "start_time": "2024-08-27T18:30:59.872Z"
   },
   {
    "duration": 6365,
    "start_time": "2024-08-27T18:31:00.154Z"
   },
   {
    "duration": 3,
    "start_time": "2024-08-27T18:31:06.520Z"
   },
   {
    "duration": 4631,
    "start_time": "2024-08-27T18:31:06.524Z"
   },
   {
    "duration": 1203987,
    "start_time": "2024-08-27T18:31:11.156Z"
   },
   {
    "duration": 108,
    "start_time": "2024-08-27T18:51:15.145Z"
   },
   {
    "duration": 3,
    "start_time": "2024-08-27T18:51:15.255Z"
   },
   {
    "duration": 76,
    "start_time": "2024-08-27T18:51:15.260Z"
   },
   {
    "duration": 10,
    "start_time": "2024-08-27T18:51:15.339Z"
   },
   {
    "duration": 98304,
    "start_time": "2024-08-27T18:51:15.351Z"
   },
   {
    "duration": 345,
    "start_time": "2024-08-27T18:52:53.657Z"
   },
   {
    "duration": 0,
    "start_time": "2024-08-27T18:52:54.003Z"
   },
   {
    "duration": 0,
    "start_time": "2024-08-27T18:52:54.005Z"
   },
   {
    "duration": 0,
    "start_time": "2024-08-27T18:52:54.006Z"
   },
   {
    "duration": 0,
    "start_time": "2024-08-27T18:52:54.007Z"
   },
   {
    "duration": 0,
    "start_time": "2024-08-27T18:52:54.008Z"
   },
   {
    "duration": 0,
    "start_time": "2024-08-27T18:52:54.010Z"
   },
   {
    "duration": 0,
    "start_time": "2024-08-27T18:52:54.011Z"
   },
   {
    "duration": 0,
    "start_time": "2024-08-27T18:52:54.012Z"
   },
   {
    "duration": 2,
    "start_time": "2024-08-27T18:54:33.803Z"
   },
   {
    "duration": 243,
    "start_time": "2024-08-27T18:54:39.863Z"
   },
   {
    "duration": 9,
    "start_time": "2024-08-27T18:55:11.692Z"
   },
   {
    "duration": 5,
    "start_time": "2024-08-27T18:55:22.864Z"
   },
   {
    "duration": 8,
    "start_time": "2024-08-27T18:55:57.331Z"
   },
   {
    "duration": 18,
    "start_time": "2024-08-27T18:56:02.261Z"
   },
   {
    "duration": 24,
    "start_time": "2024-08-27T18:56:33.346Z"
   },
   {
    "duration": 24,
    "start_time": "2024-08-27T18:58:43.962Z"
   },
   {
    "duration": 6,
    "start_time": "2024-08-27T18:59:52.751Z"
   },
   {
    "duration": 9,
    "start_time": "2024-08-27T18:59:57.991Z"
   },
   {
    "duration": 123,
    "start_time": "2024-08-27T19:00:10.172Z"
   },
   {
    "duration": 4,
    "start_time": "2024-08-27T19:01:12.674Z"
   },
   {
    "duration": 3,
    "start_time": "2024-08-27T19:01:48.019Z"
   },
   {
    "duration": 72,
    "start_time": "2024-08-27T19:02:47.767Z"
   },
   {
    "duration": 21685,
    "start_time": "2024-08-27T19:06:31.719Z"
   },
   {
    "duration": 6192,
    "start_time": "2024-08-27T19:06:53.406Z"
   },
   {
    "duration": 6,
    "start_time": "2024-08-27T19:06:59.600Z"
   },
   {
    "duration": 1235,
    "start_time": "2024-08-27T19:06:59.608Z"
   },
   {
    "duration": 45,
    "start_time": "2024-08-27T19:07:00.845Z"
   },
   {
    "duration": 351,
    "start_time": "2024-08-27T19:07:00.891Z"
   },
   {
    "duration": 417,
    "start_time": "2024-08-27T19:07:01.244Z"
   },
   {
    "duration": 406,
    "start_time": "2024-08-27T19:07:01.663Z"
   },
   {
    "duration": 2,
    "start_time": "2024-08-27T19:07:02.071Z"
   },
   {
    "duration": 137,
    "start_time": "2024-08-27T19:07:02.076Z"
   },
   {
    "duration": 3,
    "start_time": "2024-08-27T19:07:02.215Z"
   },
   {
    "duration": 961,
    "start_time": "2024-08-27T19:07:02.220Z"
   },
   {
    "duration": 5,
    "start_time": "2024-08-27T19:07:03.183Z"
   },
   {
    "duration": 1210,
    "start_time": "2024-08-27T19:07:03.189Z"
   },
   {
    "duration": 0,
    "start_time": "2024-08-27T19:07:04.401Z"
   },
   {
    "duration": 0,
    "start_time": "2024-08-27T19:07:04.403Z"
   },
   {
    "duration": 0,
    "start_time": "2024-08-27T19:07:04.404Z"
   },
   {
    "duration": 0,
    "start_time": "2024-08-27T19:07:04.405Z"
   },
   {
    "duration": 0,
    "start_time": "2024-08-27T19:07:04.406Z"
   },
   {
    "duration": 0,
    "start_time": "2024-08-27T19:07:04.407Z"
   },
   {
    "duration": 0,
    "start_time": "2024-08-27T19:07:04.408Z"
   },
   {
    "duration": 0,
    "start_time": "2024-08-27T19:07:04.409Z"
   },
   {
    "duration": 0,
    "start_time": "2024-08-27T19:07:04.411Z"
   },
   {
    "duration": 0,
    "start_time": "2024-08-27T19:07:04.412Z"
   },
   {
    "duration": 0,
    "start_time": "2024-08-27T19:07:04.413Z"
   },
   {
    "duration": 0,
    "start_time": "2024-08-27T19:07:04.414Z"
   },
   {
    "duration": 0,
    "start_time": "2024-08-27T19:07:04.415Z"
   },
   {
    "duration": 0,
    "start_time": "2024-08-27T19:07:04.415Z"
   },
   {
    "duration": 0,
    "start_time": "2024-08-27T19:07:04.416Z"
   },
   {
    "duration": 0,
    "start_time": "2024-08-27T19:07:04.417Z"
   },
   {
    "duration": 0,
    "start_time": "2024-08-27T19:07:04.419Z"
   },
   {
    "duration": 0,
    "start_time": "2024-08-27T19:07:04.420Z"
   },
   {
    "duration": 0,
    "start_time": "2024-08-27T19:07:04.422Z"
   },
   {
    "duration": 0,
    "start_time": "2024-08-27T19:07:04.422Z"
   },
   {
    "duration": 0,
    "start_time": "2024-08-27T19:07:04.423Z"
   },
   {
    "duration": 1,
    "start_time": "2024-08-27T19:07:04.424Z"
   },
   {
    "duration": 0,
    "start_time": "2024-08-27T19:07:04.425Z"
   },
   {
    "duration": 0,
    "start_time": "2024-08-27T19:07:04.426Z"
   },
   {
    "duration": 0,
    "start_time": "2024-08-27T19:07:04.453Z"
   },
   {
    "duration": 0,
    "start_time": "2024-08-27T19:07:04.454Z"
   },
   {
    "duration": 0,
    "start_time": "2024-08-27T19:07:04.455Z"
   },
   {
    "duration": 17,
    "start_time": "2024-08-27T19:07:24.941Z"
   },
   {
    "duration": 4,
    "start_time": "2024-08-27T19:08:48.643Z"
   },
   {
    "duration": 390,
    "start_time": "2024-08-27T19:09:16.701Z"
   },
   {
    "duration": 8,
    "start_time": "2024-08-27T19:09:25.500Z"
   },
   {
    "duration": 808,
    "start_time": "2024-08-27T19:09:34.949Z"
   },
   {
    "duration": 21,
    "start_time": "2024-08-27T19:10:17.926Z"
   },
   {
    "duration": 19,
    "start_time": "2024-08-27T19:10:39.868Z"
   },
   {
    "duration": 18,
    "start_time": "2024-08-27T19:11:17.433Z"
   },
   {
    "duration": 709,
    "start_time": "2024-08-27T19:13:45.353Z"
   },
   {
    "duration": 5,
    "start_time": "2024-08-27T19:13:48.261Z"
   },
   {
    "duration": 740,
    "start_time": "2024-08-27T19:14:35.371Z"
   },
   {
    "duration": 4,
    "start_time": "2024-08-27T19:14:38.112Z"
   },
   {
    "duration": 3429,
    "start_time": "2024-08-27T19:14:47.620Z"
   },
   {
    "duration": 5,
    "start_time": "2024-08-27T19:15:03.661Z"
   },
   {
    "duration": 443667,
    "start_time": "2024-08-27T19:15:05.380Z"
   },
   {
    "duration": 16,
    "start_time": "2024-08-27T19:22:29.049Z"
   },
   {
    "duration": 2071,
    "start_time": "2024-08-27T19:22:29.067Z"
   },
   {
    "duration": 13,
    "start_time": "2024-08-27T19:22:31.140Z"
   },
   {
    "duration": 2833,
    "start_time": "2024-08-27T19:22:31.154Z"
   },
   {
    "duration": 255,
    "start_time": "2024-08-27T19:22:33.988Z"
   },
   {
    "duration": 6317,
    "start_time": "2024-08-27T19:22:34.245Z"
   },
   {
    "duration": 3,
    "start_time": "2024-08-27T19:22:40.563Z"
   },
   {
    "duration": 27767,
    "start_time": "2024-08-27T20:49:54.177Z"
   },
   {
    "duration": 4949,
    "start_time": "2024-08-27T20:50:21.946Z"
   },
   {
    "duration": 5,
    "start_time": "2024-08-27T20:50:26.897Z"
   },
   {
    "duration": 3708,
    "start_time": "2024-08-27T20:50:26.903Z"
   },
   {
    "duration": 39,
    "start_time": "2024-08-27T20:50:30.613Z"
   },
   {
    "duration": 312,
    "start_time": "2024-08-27T20:50:30.654Z"
   },
   {
    "duration": 393,
    "start_time": "2024-08-27T20:50:30.967Z"
   },
   {
    "duration": 182,
    "start_time": "2024-08-27T20:50:31.362Z"
   },
   {
    "duration": 2,
    "start_time": "2024-08-27T20:50:31.545Z"
   },
   {
    "duration": 124,
    "start_time": "2024-08-27T20:50:31.550Z"
   },
   {
    "duration": 14,
    "start_time": "2024-08-27T20:50:31.676Z"
   },
   {
    "duration": 813,
    "start_time": "2024-08-27T20:50:31.692Z"
   },
   {
    "duration": 4,
    "start_time": "2024-08-27T20:50:32.507Z"
   },
   {
    "duration": 3434,
    "start_time": "2024-08-27T20:50:32.513Z"
   },
   {
    "duration": 5,
    "start_time": "2024-08-27T20:50:35.949Z"
   },
   {
    "duration": 413807,
    "start_time": "2024-08-27T20:50:35.956Z"
   },
   {
    "duration": 25,
    "start_time": "2024-08-27T20:57:29.764Z"
   },
   {
    "duration": 1714,
    "start_time": "2024-08-27T20:57:29.791Z"
   },
   {
    "duration": 3,
    "start_time": "2024-08-27T20:57:31.507Z"
   },
   {
    "duration": 2493,
    "start_time": "2024-08-27T20:57:31.511Z"
   },
   {
    "duration": 256,
    "start_time": "2024-08-27T20:57:34.005Z"
   },
   {
    "duration": 8209,
    "start_time": "2024-08-27T20:57:34.262Z"
   },
   {
    "duration": 2,
    "start_time": "2024-08-27T20:57:42.473Z"
   },
   {
    "duration": 6914,
    "start_time": "2024-08-27T20:57:42.477Z"
   },
   {
    "duration": 26517,
    "start_time": "2024-08-27T20:58:52.575Z"
   },
   {
    "duration": 5087,
    "start_time": "2024-08-27T20:59:19.094Z"
   },
   {
    "duration": 9,
    "start_time": "2024-08-27T20:59:24.183Z"
   },
   {
    "duration": 3645,
    "start_time": "2024-08-27T20:59:24.193Z"
   },
   {
    "duration": 40,
    "start_time": "2024-08-27T20:59:27.840Z"
   },
   {
    "duration": 303,
    "start_time": "2024-08-27T20:59:27.881Z"
   },
   {
    "duration": 389,
    "start_time": "2024-08-27T20:59:28.185Z"
   },
   {
    "duration": 353,
    "start_time": "2024-08-27T20:59:28.575Z"
   },
   {
    "duration": 2,
    "start_time": "2024-08-27T20:59:28.930Z"
   },
   {
    "duration": 115,
    "start_time": "2024-08-27T20:59:28.934Z"
   },
   {
    "duration": 3,
    "start_time": "2024-08-27T20:59:29.051Z"
   },
   {
    "duration": 763,
    "start_time": "2024-08-27T20:59:29.056Z"
   },
   {
    "duration": 3,
    "start_time": "2024-08-27T20:59:29.821Z"
   },
   {
    "duration": 3276,
    "start_time": "2024-08-27T20:59:29.827Z"
   },
   {
    "duration": 5,
    "start_time": "2024-08-27T20:59:33.104Z"
   },
   {
    "duration": 412052,
    "start_time": "2024-08-27T20:59:33.110Z"
   },
   {
    "duration": 14,
    "start_time": "2024-08-27T21:06:25.164Z"
   },
   {
    "duration": 1859,
    "start_time": "2024-08-27T21:06:25.190Z"
   },
   {
    "duration": 4,
    "start_time": "2024-08-27T21:06:27.051Z"
   },
   {
    "duration": 2452,
    "start_time": "2024-08-27T21:06:27.056Z"
   },
   {
    "duration": 262,
    "start_time": "2024-08-27T21:06:29.510Z"
   },
   {
    "duration": 6179,
    "start_time": "2024-08-27T21:06:29.773Z"
   },
   {
    "duration": 2,
    "start_time": "2024-08-27T21:06:35.954Z"
   },
   {
    "duration": 1438,
    "start_time": "2024-08-27T21:06:35.958Z"
   },
   {
    "duration": 1132389,
    "start_time": "2024-08-27T21:06:37.397Z"
   },
   {
    "duration": 167,
    "start_time": "2024-08-27T21:25:29.789Z"
   },
   {
    "duration": 4,
    "start_time": "2024-08-27T21:25:29.958Z"
   },
   {
    "duration": 8,
    "start_time": "2024-08-27T21:25:29.963Z"
   },
   {
    "duration": 3,
    "start_time": "2024-08-27T21:25:29.972Z"
   },
   {
    "duration": 88565,
    "start_time": "2024-08-27T21:25:29.977Z"
   },
   {
    "duration": 2,
    "start_time": "2024-08-27T21:26:58.544Z"
   },
   {
    "duration": 375,
    "start_time": "2024-08-27T21:26:58.547Z"
   },
   {
    "duration": 224,
    "start_time": "2024-08-27T21:26:58.923Z"
   },
   {
    "duration": 74515,
    "start_time": "2024-08-27T21:26:59.148Z"
   },
   {
    "duration": 329,
    "start_time": "2024-08-27T21:28:13.665Z"
   },
   {
    "duration": 0,
    "start_time": "2024-08-27T21:28:13.995Z"
   },
   {
    "duration": 0,
    "start_time": "2024-08-27T21:28:13.996Z"
   },
   {
    "duration": 0,
    "start_time": "2024-08-27T21:28:13.997Z"
   },
   {
    "duration": 0,
    "start_time": "2024-08-27T21:28:13.998Z"
   },
   {
    "duration": 0,
    "start_time": "2024-08-27T21:28:13.999Z"
   },
   {
    "duration": 45,
    "start_time": "2024-08-27T21:28:49.103Z"
   },
   {
    "duration": 11,
    "start_time": "2024-08-27T21:28:52.261Z"
   },
   {
    "duration": 4,
    "start_time": "2024-08-27T21:29:29.940Z"
   },
   {
    "duration": 4,
    "start_time": "2024-08-27T21:29:39.368Z"
   },
   {
    "duration": 4,
    "start_time": "2024-08-27T21:29:45.881Z"
   },
   {
    "duration": 4,
    "start_time": "2024-08-27T21:30:06.634Z"
   },
   {
    "duration": 4,
    "start_time": "2024-08-27T21:30:10.474Z"
   },
   {
    "duration": 178,
    "start_time": "2024-08-27T21:31:12.909Z"
   },
   {
    "duration": 487,
    "start_time": "2024-08-27T21:31:20.524Z"
   },
   {
    "duration": 134125,
    "start_time": "2024-08-27T21:31:24.459Z"
   },
   {
    "duration": 39,
    "start_time": "2024-08-27T22:21:17.351Z"
   },
   {
    "duration": 12,
    "start_time": "2024-08-27T22:21:23.527Z"
   },
   {
    "duration": 334313,
    "start_time": "2024-08-27T22:24:41.907Z"
   },
   {
    "duration": 0,
    "start_time": "2024-08-27T22:30:16.222Z"
   },
   {
    "duration": 0,
    "start_time": "2024-08-27T22:30:16.224Z"
   },
   {
    "duration": 0,
    "start_time": "2024-08-27T22:30:16.225Z"
   },
   {
    "duration": 0,
    "start_time": "2024-08-27T22:30:16.225Z"
   },
   {
    "duration": 0,
    "start_time": "2024-08-27T22:30:16.227Z"
   },
   {
    "duration": 0,
    "start_time": "2024-08-27T22:30:16.227Z"
   },
   {
    "duration": 0,
    "start_time": "2024-08-27T22:30:16.228Z"
   },
   {
    "duration": 0,
    "start_time": "2024-08-27T22:30:16.229Z"
   },
   {
    "duration": 0,
    "start_time": "2024-08-27T22:30:16.230Z"
   },
   {
    "duration": 0,
    "start_time": "2024-08-27T22:30:16.231Z"
   },
   {
    "duration": 0,
    "start_time": "2024-08-27T22:30:16.233Z"
   },
   {
    "duration": 20066,
    "start_time": "2024-08-27T22:33:50.515Z"
   },
   {
    "duration": 5252,
    "start_time": "2024-08-27T22:34:10.583Z"
   },
   {
    "duration": 5,
    "start_time": "2024-08-27T22:34:15.837Z"
   },
   {
    "duration": 3712,
    "start_time": "2024-08-27T22:34:15.843Z"
   },
   {
    "duration": 39,
    "start_time": "2024-08-27T22:34:19.557Z"
   },
   {
    "duration": 304,
    "start_time": "2024-08-27T22:34:19.598Z"
   },
   {
    "duration": 404,
    "start_time": "2024-08-27T22:34:19.903Z"
   },
   {
    "duration": 399,
    "start_time": "2024-08-27T22:34:20.309Z"
   },
   {
    "duration": 2,
    "start_time": "2024-08-27T22:34:20.710Z"
   },
   {
    "duration": 115,
    "start_time": "2024-08-27T22:34:20.713Z"
   },
   {
    "duration": 3,
    "start_time": "2024-08-27T22:34:20.830Z"
   },
   {
    "duration": 865,
    "start_time": "2024-08-27T22:34:20.834Z"
   },
   {
    "duration": 4,
    "start_time": "2024-08-27T22:34:21.700Z"
   },
   {
    "duration": 3389,
    "start_time": "2024-08-27T22:34:21.706Z"
   },
   {
    "duration": 4,
    "start_time": "2024-08-27T22:34:25.097Z"
   },
   {
    "duration": 19,
    "start_time": "2024-08-27T22:34:25.102Z"
   },
   {
    "duration": 288,
    "start_time": "2024-08-27T22:34:25.122Z"
   },
   {
    "duration": 0,
    "start_time": "2024-08-27T22:34:25.411Z"
   },
   {
    "duration": 0,
    "start_time": "2024-08-27T22:34:25.412Z"
   },
   {
    "duration": 0,
    "start_time": "2024-08-27T22:34:25.413Z"
   },
   {
    "duration": 0,
    "start_time": "2024-08-27T22:34:25.414Z"
   },
   {
    "duration": 0,
    "start_time": "2024-08-27T22:34:25.415Z"
   },
   {
    "duration": 0,
    "start_time": "2024-08-27T22:34:25.416Z"
   },
   {
    "duration": 0,
    "start_time": "2024-08-27T22:34:25.417Z"
   },
   {
    "duration": 0,
    "start_time": "2024-08-27T22:34:25.418Z"
   },
   {
    "duration": 0,
    "start_time": "2024-08-27T22:34:25.419Z"
   },
   {
    "duration": 0,
    "start_time": "2024-08-27T22:34:25.420Z"
   },
   {
    "duration": 0,
    "start_time": "2024-08-27T22:34:25.421Z"
   },
   {
    "duration": 0,
    "start_time": "2024-08-27T22:34:25.423Z"
   },
   {
    "duration": 0,
    "start_time": "2024-08-27T22:34:25.424Z"
   },
   {
    "duration": 0,
    "start_time": "2024-08-27T22:34:25.425Z"
   },
   {
    "duration": 0,
    "start_time": "2024-08-27T22:34:25.426Z"
   },
   {
    "duration": 0,
    "start_time": "2024-08-27T22:34:25.427Z"
   },
   {
    "duration": 0,
    "start_time": "2024-08-27T22:34:25.428Z"
   },
   {
    "duration": 0,
    "start_time": "2024-08-27T22:34:25.429Z"
   },
   {
    "duration": 0,
    "start_time": "2024-08-27T22:34:25.430Z"
   },
   {
    "duration": 0,
    "start_time": "2024-08-27T22:34:25.431Z"
   },
   {
    "duration": 0,
    "start_time": "2024-08-27T22:34:25.432Z"
   },
   {
    "duration": 0,
    "start_time": "2024-08-27T22:34:25.433Z"
   },
   {
    "duration": 0,
    "start_time": "2024-08-27T22:34:25.434Z"
   },
   {
    "duration": 19895,
    "start_time": "2024-08-27T22:44:46.376Z"
   },
   {
    "duration": 4565,
    "start_time": "2024-08-27T22:45:06.273Z"
   },
   {
    "duration": 5,
    "start_time": "2024-08-27T22:45:10.839Z"
   },
   {
    "duration": 832,
    "start_time": "2024-08-27T22:45:10.846Z"
   },
   {
    "duration": 42,
    "start_time": "2024-08-27T22:45:11.680Z"
   },
   {
    "duration": 311,
    "start_time": "2024-08-27T22:45:11.723Z"
   },
   {
    "duration": 389,
    "start_time": "2024-08-27T22:45:12.035Z"
   },
   {
    "duration": 375,
    "start_time": "2024-08-27T22:45:12.426Z"
   },
   {
    "duration": 2,
    "start_time": "2024-08-27T22:45:12.802Z"
   },
   {
    "duration": 112,
    "start_time": "2024-08-27T22:45:12.806Z"
   },
   {
    "duration": 3,
    "start_time": "2024-08-27T22:45:12.919Z"
   },
   {
    "duration": 1030,
    "start_time": "2024-08-27T22:45:12.923Z"
   },
   {
    "duration": 3,
    "start_time": "2024-08-27T22:45:13.955Z"
   },
   {
    "duration": 3376,
    "start_time": "2024-08-27T22:45:13.960Z"
   },
   {
    "duration": 4,
    "start_time": "2024-08-27T22:45:17.338Z"
   },
   {
    "duration": 16,
    "start_time": "2024-08-27T22:45:17.343Z"
   },
   {
    "duration": 5,
    "start_time": "2024-08-27T22:45:17.360Z"
   },
   {
    "duration": 5,
    "start_time": "2024-08-27T22:45:17.366Z"
   },
   {
    "duration": 307,
    "start_time": "2024-08-27T22:45:17.372Z"
   },
   {
    "duration": 0,
    "start_time": "2024-08-27T22:45:17.680Z"
   },
   {
    "duration": 0,
    "start_time": "2024-08-27T22:45:17.682Z"
   },
   {
    "duration": 0,
    "start_time": "2024-08-27T22:45:17.682Z"
   },
   {
    "duration": 0,
    "start_time": "2024-08-27T22:45:17.684Z"
   },
   {
    "duration": 0,
    "start_time": "2024-08-27T22:45:17.684Z"
   },
   {
    "duration": 0,
    "start_time": "2024-08-27T22:45:17.690Z"
   },
   {
    "duration": 0,
    "start_time": "2024-08-27T22:45:17.690Z"
   },
   {
    "duration": 0,
    "start_time": "2024-08-27T22:45:17.691Z"
   },
   {
    "duration": 0,
    "start_time": "2024-08-27T22:45:17.692Z"
   },
   {
    "duration": 0,
    "start_time": "2024-08-27T22:45:17.693Z"
   },
   {
    "duration": 0,
    "start_time": "2024-08-27T22:45:17.694Z"
   },
   {
    "duration": 0,
    "start_time": "2024-08-27T22:45:17.695Z"
   },
   {
    "duration": 0,
    "start_time": "2024-08-27T22:45:17.696Z"
   },
   {
    "duration": 0,
    "start_time": "2024-08-27T22:45:17.697Z"
   },
   {
    "duration": 0,
    "start_time": "2024-08-27T22:45:17.698Z"
   },
   {
    "duration": 0,
    "start_time": "2024-08-27T22:45:17.699Z"
   },
   {
    "duration": 0,
    "start_time": "2024-08-27T22:45:17.700Z"
   },
   {
    "duration": 0,
    "start_time": "2024-08-27T22:45:17.700Z"
   },
   {
    "duration": 0,
    "start_time": "2024-08-27T22:45:17.702Z"
   },
   {
    "duration": 0,
    "start_time": "2024-08-27T22:45:17.703Z"
   },
   {
    "duration": 0,
    "start_time": "2024-08-27T22:45:17.703Z"
   },
   {
    "duration": 21122,
    "start_time": "2024-08-27T23:51:13.193Z"
   },
   {
    "duration": 4697,
    "start_time": "2024-08-27T23:51:34.318Z"
   },
   {
    "duration": 5,
    "start_time": "2024-08-27T23:51:39.016Z"
   },
   {
    "duration": 876,
    "start_time": "2024-08-27T23:51:39.023Z"
   },
   {
    "duration": 37,
    "start_time": "2024-08-27T23:51:39.901Z"
   },
   {
    "duration": 352,
    "start_time": "2024-08-27T23:51:39.940Z"
   },
   {
    "duration": 396,
    "start_time": "2024-08-27T23:51:40.294Z"
   },
   {
    "duration": 368,
    "start_time": "2024-08-27T23:51:40.691Z"
   },
   {
    "duration": 3,
    "start_time": "2024-08-27T23:51:41.060Z"
   },
   {
    "duration": 119,
    "start_time": "2024-08-27T23:51:41.064Z"
   },
   {
    "duration": 6,
    "start_time": "2024-08-27T23:51:41.184Z"
   },
   {
    "duration": 1014,
    "start_time": "2024-08-27T23:51:41.191Z"
   },
   {
    "duration": 4,
    "start_time": "2024-08-27T23:51:42.207Z"
   },
   {
    "duration": 3561,
    "start_time": "2024-08-27T23:51:42.214Z"
   },
   {
    "duration": 4,
    "start_time": "2024-08-27T23:51:45.776Z"
   },
   {
    "duration": 23,
    "start_time": "2024-08-27T23:51:45.781Z"
   },
   {
    "duration": 16,
    "start_time": "2024-08-27T23:51:45.806Z"
   },
   {
    "duration": 12,
    "start_time": "2024-08-27T23:51:45.823Z"
   },
   {
    "duration": 301,
    "start_time": "2024-08-27T23:51:45.836Z"
   },
   {
    "duration": 0,
    "start_time": "2024-08-27T23:51:46.139Z"
   },
   {
    "duration": 0,
    "start_time": "2024-08-27T23:51:46.140Z"
   },
   {
    "duration": 0,
    "start_time": "2024-08-27T23:51:46.141Z"
   },
   {
    "duration": 0,
    "start_time": "2024-08-27T23:51:46.142Z"
   },
   {
    "duration": 0,
    "start_time": "2024-08-27T23:51:46.143Z"
   },
   {
    "duration": 0,
    "start_time": "2024-08-27T23:51:46.144Z"
   },
   {
    "duration": 0,
    "start_time": "2024-08-27T23:51:46.145Z"
   },
   {
    "duration": 0,
    "start_time": "2024-08-27T23:51:46.147Z"
   },
   {
    "duration": 0,
    "start_time": "2024-08-27T23:51:46.148Z"
   },
   {
    "duration": 0,
    "start_time": "2024-08-27T23:51:46.149Z"
   },
   {
    "duration": 0,
    "start_time": "2024-08-27T23:51:46.151Z"
   },
   {
    "duration": 0,
    "start_time": "2024-08-27T23:51:46.152Z"
   },
   {
    "duration": 0,
    "start_time": "2024-08-27T23:51:46.153Z"
   },
   {
    "duration": 0,
    "start_time": "2024-08-27T23:51:46.154Z"
   },
   {
    "duration": 0,
    "start_time": "2024-08-27T23:51:46.155Z"
   },
   {
    "duration": 0,
    "start_time": "2024-08-27T23:51:46.156Z"
   },
   {
    "duration": 0,
    "start_time": "2024-08-27T23:51:46.190Z"
   },
   {
    "duration": 0,
    "start_time": "2024-08-27T23:51:46.191Z"
   },
   {
    "duration": 0,
    "start_time": "2024-08-27T23:51:46.192Z"
   },
   {
    "duration": 0,
    "start_time": "2024-08-27T23:51:46.193Z"
   },
   {
    "duration": 0,
    "start_time": "2024-08-27T23:51:46.194Z"
   },
   {
    "duration": 3,
    "start_time": "2024-08-27T23:52:19.254Z"
   },
   {
    "duration": 3,
    "start_time": "2024-08-27T23:52:23.424Z"
   },
   {
    "duration": 220,
    "start_time": "2024-08-27T23:52:26.209Z"
   },
   {
    "duration": 7249,
    "start_time": "2024-08-27T23:52:31.194Z"
   },
   {
    "duration": 3,
    "start_time": "2024-08-27T23:52:54.730Z"
   },
   {
    "duration": 4818,
    "start_time": "2024-08-27T23:52:56.085Z"
   },
   {
    "duration": 254611,
    "start_time": "2024-08-27T23:53:00.904Z"
   },
   {
    "duration": 0,
    "start_time": "2024-08-27T23:57:15.516Z"
   },
   {
    "duration": 0,
    "start_time": "2024-08-27T23:57:15.517Z"
   },
   {
    "duration": 0,
    "start_time": "2024-08-27T23:57:15.518Z"
   },
   {
    "duration": 0,
    "start_time": "2024-08-27T23:57:15.519Z"
   },
   {
    "duration": 0,
    "start_time": "2024-08-27T23:57:15.520Z"
   },
   {
    "duration": 0,
    "start_time": "2024-08-27T23:57:15.521Z"
   },
   {
    "duration": 0,
    "start_time": "2024-08-27T23:57:15.522Z"
   },
   {
    "duration": 0,
    "start_time": "2024-08-27T23:57:15.522Z"
   },
   {
    "duration": 0,
    "start_time": "2024-08-27T23:57:15.523Z"
   },
   {
    "duration": 0,
    "start_time": "2024-08-27T23:57:15.524Z"
   },
   {
    "duration": 0,
    "start_time": "2024-08-27T23:57:15.525Z"
   },
   {
    "duration": 20124,
    "start_time": "2024-08-27T23:57:26.048Z"
   },
   {
    "duration": 4490,
    "start_time": "2024-08-27T23:57:46.175Z"
   },
   {
    "duration": 5,
    "start_time": "2024-08-27T23:57:50.667Z"
   },
   {
    "duration": 836,
    "start_time": "2024-08-27T23:57:50.673Z"
   },
   {
    "duration": 34,
    "start_time": "2024-08-27T23:57:51.512Z"
   },
   {
    "duration": 310,
    "start_time": "2024-08-27T23:57:51.548Z"
   },
   {
    "duration": 392,
    "start_time": "2024-08-27T23:57:51.860Z"
   },
   {
    "duration": 345,
    "start_time": "2024-08-27T23:57:52.254Z"
   },
   {
    "duration": 2,
    "start_time": "2024-08-27T23:57:52.600Z"
   },
   {
    "duration": 105,
    "start_time": "2024-08-27T23:57:52.603Z"
   },
   {
    "duration": 4,
    "start_time": "2024-08-27T23:57:52.709Z"
   },
   {
    "duration": 762,
    "start_time": "2024-08-27T23:57:52.714Z"
   },
   {
    "duration": 3,
    "start_time": "2024-08-27T23:57:53.478Z"
   },
   {
    "duration": 3294,
    "start_time": "2024-08-27T23:57:53.483Z"
   },
   {
    "duration": 4,
    "start_time": "2024-08-27T23:57:56.779Z"
   },
   {
    "duration": 10,
    "start_time": "2024-08-27T23:57:56.790Z"
   },
   {
    "duration": 17,
    "start_time": "2024-08-27T23:57:56.801Z"
   },
   {
    "duration": 11,
    "start_time": "2024-08-27T23:57:56.820Z"
   },
   {
    "duration": 6,
    "start_time": "2024-08-27T23:57:56.833Z"
   },
   {
    "duration": 7,
    "start_time": "2024-08-27T23:57:56.840Z"
   },
   {
    "duration": 229,
    "start_time": "2024-08-27T23:57:56.848Z"
   },
   {
    "duration": 9129,
    "start_time": "2024-08-27T23:57:57.078Z"
   },
   {
    "duration": 2,
    "start_time": "2024-08-27T23:58:06.209Z"
   },
   {
    "duration": 1392,
    "start_time": "2024-08-27T23:58:06.212Z"
   },
   {
    "duration": 98471,
    "start_time": "2024-08-27T23:58:07.606Z"
   },
   {
    "duration": 0,
    "start_time": "2024-08-27T23:59:46.078Z"
   },
   {
    "duration": 0,
    "start_time": "2024-08-27T23:59:46.079Z"
   },
   {
    "duration": 0,
    "start_time": "2024-08-27T23:59:46.080Z"
   },
   {
    "duration": 0,
    "start_time": "2024-08-27T23:59:46.081Z"
   },
   {
    "duration": 0,
    "start_time": "2024-08-27T23:59:46.089Z"
   },
   {
    "duration": 0,
    "start_time": "2024-08-27T23:59:46.090Z"
   },
   {
    "duration": 0,
    "start_time": "2024-08-27T23:59:46.092Z"
   },
   {
    "duration": 0,
    "start_time": "2024-08-27T23:59:46.093Z"
   },
   {
    "duration": 0,
    "start_time": "2024-08-27T23:59:46.094Z"
   },
   {
    "duration": 0,
    "start_time": "2024-08-27T23:59:46.095Z"
   },
   {
    "duration": 0,
    "start_time": "2024-08-27T23:59:46.096Z"
   },
   {
    "duration": 0,
    "start_time": "2024-08-27T23:59:46.097Z"
   },
   {
    "duration": 0,
    "start_time": "2024-08-27T23:59:46.098Z"
   },
   {
    "duration": 0,
    "start_time": "2024-08-27T23:59:46.099Z"
   },
   {
    "duration": 0,
    "start_time": "2024-08-27T23:59:46.100Z"
   },
   {
    "duration": 20640,
    "start_time": "2024-08-28T00:00:01.145Z"
   },
   {
    "duration": 4832,
    "start_time": "2024-08-28T00:00:21.787Z"
   },
   {
    "duration": 5,
    "start_time": "2024-08-28T00:00:26.621Z"
   },
   {
    "duration": 826,
    "start_time": "2024-08-28T00:00:26.627Z"
   },
   {
    "duration": 42,
    "start_time": "2024-08-28T00:00:27.454Z"
   },
   {
    "duration": 303,
    "start_time": "2024-08-28T00:00:27.497Z"
   },
   {
    "duration": 382,
    "start_time": "2024-08-28T00:00:27.802Z"
   },
   {
    "duration": 338,
    "start_time": "2024-08-28T00:00:28.186Z"
   },
   {
    "duration": 2,
    "start_time": "2024-08-28T00:00:28.525Z"
   },
   {
    "duration": 120,
    "start_time": "2024-08-28T00:00:28.529Z"
   },
   {
    "duration": 4,
    "start_time": "2024-08-28T00:00:28.650Z"
   },
   {
    "duration": 662,
    "start_time": "2024-08-28T00:00:28.656Z"
   },
   {
    "duration": 4,
    "start_time": "2024-08-28T00:00:29.319Z"
   },
   {
    "duration": 3298,
    "start_time": "2024-08-28T00:00:29.324Z"
   },
   {
    "duration": 5,
    "start_time": "2024-08-28T00:00:32.623Z"
   },
   {
    "duration": 21,
    "start_time": "2024-08-28T00:00:32.629Z"
   },
   {
    "duration": 15,
    "start_time": "2024-08-28T00:00:32.652Z"
   },
   {
    "duration": 13,
    "start_time": "2024-08-28T00:00:32.668Z"
   },
   {
    "duration": 25,
    "start_time": "2024-08-28T00:00:32.682Z"
   },
   {
    "duration": 17,
    "start_time": "2024-08-28T00:00:32.708Z"
   },
   {
    "duration": 224,
    "start_time": "2024-08-28T00:00:32.726Z"
   },
   {
    "duration": 7394,
    "start_time": "2024-08-28T00:00:32.952Z"
   },
   {
    "duration": 2,
    "start_time": "2024-08-28T00:00:40.348Z"
   },
   {
    "duration": 1648,
    "start_time": "2024-08-28T00:00:40.351Z"
   },
   {
    "duration": 2766743,
    "start_time": "2024-08-28T00:00:42.000Z"
   },
   {
    "duration": 104,
    "start_time": "2024-08-28T00:46:48.745Z"
   },
   {
    "duration": 3,
    "start_time": "2024-08-28T00:46:48.851Z"
   },
   {
    "duration": 49,
    "start_time": "2024-08-28T00:46:48.857Z"
   },
   {
    "duration": 3,
    "start_time": "2024-08-28T00:46:48.908Z"
   },
   {
    "duration": 110293,
    "start_time": "2024-08-28T00:46:48.913Z"
   },
   {
    "duration": 2,
    "start_time": "2024-08-28T00:48:39.208Z"
   },
   {
    "duration": 30,
    "start_time": "2024-08-28T00:48:39.211Z"
   },
   {
    "duration": 514,
    "start_time": "2024-08-28T00:48:39.242Z"
   },
   {
    "duration": 390026,
    "start_time": "2024-08-28T00:48:39.758Z"
   },
   {
    "duration": 47,
    "start_time": "2024-08-28T00:55:09.786Z"
   },
   {
    "duration": 10,
    "start_time": "2024-08-28T00:55:09.835Z"
   },
   {
    "duration": 59,
    "start_time": "2024-08-28T00:55:09.847Z"
   },
   {
    "duration": 83,
    "start_time": "2024-08-28T00:55:09.909Z"
   },
   {
    "duration": 8,
    "start_time": "2024-08-28T00:55:09.994Z"
   },
   {
    "duration": 18,
    "start_time": "2024-08-28T00:55:10.004Z"
   },
   {
    "duration": 296,
    "start_time": "2024-08-28T01:43:05.318Z"
   },
   {
    "duration": 5091,
    "start_time": "2024-08-28T01:43:11.326Z"
   },
   {
    "duration": 2,
    "start_time": "2024-08-28T01:43:17.613Z"
   },
   {
    "duration": 1378,
    "start_time": "2024-08-28T01:43:21.930Z"
   },
   {
    "duration": 685324,
    "start_time": "2024-08-28T01:43:30.863Z"
   },
   {
    "duration": 22,
    "start_time": "2024-08-28T01:54:56.189Z"
   },
   {
    "duration": 4,
    "start_time": "2024-08-28T01:54:56.213Z"
   },
   {
    "duration": 8,
    "start_time": "2024-08-28T01:54:56.219Z"
   },
   {
    "duration": 6,
    "start_time": "2024-08-28T01:54:56.228Z"
   },
   {
    "duration": 278217,
    "start_time": "2024-08-28T01:54:56.235Z"
   },
   {
    "duration": 3,
    "start_time": "2024-08-28T01:59:34.453Z"
   },
   {
    "duration": 48,
    "start_time": "2024-08-28T01:59:34.457Z"
   },
   {
    "duration": 486,
    "start_time": "2024-08-28T01:59:34.507Z"
   },
   {
    "duration": 102732,
    "start_time": "2024-08-28T01:59:34.995Z"
   },
   {
    "duration": 23,
    "start_time": "2024-08-28T02:01:17.728Z"
   },
   {
    "duration": 10,
    "start_time": "2024-08-28T02:01:17.752Z"
   },
   {
    "duration": 406,
    "start_time": "2024-08-28T02:02:25.648Z"
   },
   {
    "duration": 6206,
    "start_time": "2024-08-28T02:02:28.236Z"
   },
   {
    "duration": 2,
    "start_time": "2024-08-28T02:02:36.058Z"
   },
   {
    "duration": 1746,
    "start_time": "2024-08-28T02:02:38.654Z"
   },
   {
    "duration": 951420,
    "start_time": "2024-08-28T02:02:41.454Z"
   },
   {
    "duration": 25,
    "start_time": "2024-08-28T02:18:32.876Z"
   },
   {
    "duration": 4,
    "start_time": "2024-08-28T02:18:32.903Z"
   },
   {
    "duration": 30,
    "start_time": "2024-08-28T02:18:32.910Z"
   },
   {
    "duration": 21,
    "start_time": "2024-08-28T02:18:32.941Z"
   },
   {
    "duration": 300086,
    "start_time": "2024-08-28T02:18:32.964Z"
   },
   {
    "duration": 2,
    "start_time": "2024-08-28T02:23:33.052Z"
   },
   {
    "duration": 35,
    "start_time": "2024-08-28T02:23:33.055Z"
   },
   {
    "duration": 498,
    "start_time": "2024-08-28T02:23:33.092Z"
   },
   {
    "duration": 36949,
    "start_time": "2024-08-28T13:47:04.364Z"
   },
   {
    "duration": 5804,
    "start_time": "2024-08-28T13:47:41.315Z"
   },
   {
    "duration": 6,
    "start_time": "2024-08-28T13:47:47.121Z"
   },
   {
    "duration": 1333,
    "start_time": "2024-08-28T13:47:47.130Z"
   },
   {
    "duration": 47,
    "start_time": "2024-08-28T13:47:48.464Z"
   },
   {
    "duration": 358,
    "start_time": "2024-08-28T13:47:48.513Z"
   },
   {
    "duration": 435,
    "start_time": "2024-08-28T13:47:48.873Z"
   },
   {
    "duration": 496,
    "start_time": "2024-08-28T13:47:49.310Z"
   },
   {
    "duration": 3,
    "start_time": "2024-08-28T13:47:49.808Z"
   },
   {
    "duration": 125,
    "start_time": "2024-08-28T13:47:49.813Z"
   },
   {
    "duration": 4,
    "start_time": "2024-08-28T13:47:49.940Z"
   },
   {
    "duration": 918,
    "start_time": "2024-08-28T13:47:49.946Z"
   },
   {
    "duration": 5,
    "start_time": "2024-08-28T13:47:50.865Z"
   },
   {
    "duration": 3981,
    "start_time": "2024-08-28T13:47:50.871Z"
   },
   {
    "duration": 6,
    "start_time": "2024-08-28T13:47:54.854Z"
   },
   {
    "duration": 10,
    "start_time": "2024-08-28T13:47:54.862Z"
   },
   {
    "duration": 10,
    "start_time": "2024-08-28T13:47:54.873Z"
   },
   {
    "duration": 21,
    "start_time": "2024-08-28T13:47:54.885Z"
   },
   {
    "duration": 8,
    "start_time": "2024-08-28T13:47:54.908Z"
   },
   {
    "duration": 4,
    "start_time": "2024-08-28T13:47:54.917Z"
   },
   {
    "duration": 254,
    "start_time": "2024-08-28T13:47:54.922Z"
   },
   {
    "duration": 7270,
    "start_time": "2024-08-28T13:47:55.178Z"
   },
   {
    "duration": 3,
    "start_time": "2024-08-28T13:48:02.450Z"
   },
   {
    "duration": 5184,
    "start_time": "2024-08-28T13:48:02.454Z"
   },
   {
    "duration": 2847622,
    "start_time": "2024-08-28T13:48:07.640Z"
   },
   {
    "duration": 97,
    "start_time": "2024-08-28T14:35:35.265Z"
   },
   {
    "duration": 4,
    "start_time": "2024-08-28T14:35:35.364Z"
   },
   {
    "duration": 43,
    "start_time": "2024-08-28T14:35:35.371Z"
   },
   {
    "duration": 35,
    "start_time": "2024-08-28T14:35:35.416Z"
   },
   {
    "duration": 344497,
    "start_time": "2024-08-28T14:35:35.452Z"
   },
   {
    "duration": 3,
    "start_time": "2024-08-28T14:41:19.950Z"
   },
   {
    "duration": 32,
    "start_time": "2024-08-28T14:41:19.955Z"
   },
   {
    "duration": 875,
    "start_time": "2024-08-28T14:41:19.989Z"
   },
   {
    "duration": 0,
    "start_time": "2024-08-28T14:41:20.866Z"
   },
   {
    "duration": 0,
    "start_time": "2024-08-28T14:41:20.868Z"
   },
   {
    "duration": 0,
    "start_time": "2024-08-28T14:41:20.870Z"
   },
   {
    "duration": 0,
    "start_time": "2024-08-28T14:41:20.871Z"
   },
   {
    "duration": 0,
    "start_time": "2024-08-28T14:41:20.873Z"
   },
   {
    "duration": 0,
    "start_time": "2024-08-28T14:41:20.874Z"
   },
   {
    "duration": 0,
    "start_time": "2024-08-28T14:41:20.875Z"
   },
   {
    "duration": 604,
    "start_time": "2024-08-28T14:41:59.594Z"
   },
   {
    "duration": 312064,
    "start_time": "2024-08-28T14:43:21.118Z"
   },
   {
    "duration": 44,
    "start_time": "2024-08-28T14:48:47.512Z"
   },
   {
    "duration": 28,
    "start_time": "2024-08-28T14:48:49.181Z"
   },
   {
    "duration": 5,
    "start_time": "2024-08-28T15:29:22.797Z"
   },
   {
    "duration": 23144,
    "start_time": "2024-08-28T15:52:42.757Z"
   },
   {
    "duration": 4987,
    "start_time": "2024-08-28T15:53:05.904Z"
   },
   {
    "duration": 8,
    "start_time": "2024-08-28T15:53:10.893Z"
   },
   {
    "duration": 955,
    "start_time": "2024-08-28T15:53:10.904Z"
   },
   {
    "duration": 51,
    "start_time": "2024-08-28T15:53:11.861Z"
   },
   {
    "duration": 328,
    "start_time": "2024-08-28T15:53:11.913Z"
   },
   {
    "duration": 407,
    "start_time": "2024-08-28T15:53:12.242Z"
   },
   {
    "duration": 384,
    "start_time": "2024-08-28T15:53:12.650Z"
   },
   {
    "duration": 120,
    "start_time": "2024-08-28T15:53:13.035Z"
   },
   {
    "duration": 4,
    "start_time": "2024-08-28T15:53:13.157Z"
   },
   {
    "duration": 1156,
    "start_time": "2024-08-28T15:53:13.163Z"
   },
   {
    "duration": 4,
    "start_time": "2024-08-28T15:53:14.321Z"
   },
   {
    "duration": 3861,
    "start_time": "2024-08-28T15:53:14.326Z"
   },
   {
    "duration": 5,
    "start_time": "2024-08-28T15:53:18.189Z"
   },
   {
    "duration": 393047,
    "start_time": "2024-08-28T15:53:18.195Z"
   },
   {
    "duration": 10,
    "start_time": "2024-08-28T15:59:51.244Z"
   },
   {
    "duration": 2161,
    "start_time": "2024-08-28T15:59:51.256Z"
   },
   {
    "duration": 4,
    "start_time": "2024-08-28T15:59:53.419Z"
   },
   {
    "duration": 281,
    "start_time": "2024-08-28T15:59:53.424Z"
   },
   {
    "duration": 5050,
    "start_time": "2024-08-28T15:59:53.707Z"
   },
   {
    "duration": 4859,
    "start_time": "2024-08-28T15:59:58.759Z"
   },
   {
    "duration": 403449,
    "start_time": "2024-08-28T16:00:03.620Z"
   },
   {
    "duration": 66,
    "start_time": "2024-08-28T16:06:47.071Z"
   },
   {
    "duration": 4,
    "start_time": "2024-08-28T16:06:47.138Z"
   },
   {
    "duration": 11,
    "start_time": "2024-08-28T16:06:47.144Z"
   },
   {
    "duration": 15,
    "start_time": "2024-08-28T16:06:47.157Z"
   },
   {
    "duration": 56987,
    "start_time": "2024-08-28T16:06:47.174Z"
   },
   {
    "duration": 2840,
    "start_time": "2024-08-28T16:07:44.164Z"
   },
   {
    "duration": 200,
    "start_time": "2024-08-28T16:07:47.005Z"
   },
   {
    "duration": 537,
    "start_time": "2024-08-28T16:07:47.207Z"
   },
   {
    "duration": 149023,
    "start_time": "2024-08-28T16:07:47.746Z"
   },
   {
    "duration": 64,
    "start_time": "2024-08-28T16:10:16.770Z"
   },
   {
    "duration": 12,
    "start_time": "2024-08-28T16:10:16.836Z"
   },
   {
    "duration": 22551,
    "start_time": "2024-08-28T17:13:21.296Z"
   },
   {
    "duration": 5056,
    "start_time": "2024-08-28T17:13:43.849Z"
   },
   {
    "duration": 6,
    "start_time": "2024-08-28T17:13:48.906Z"
   },
   {
    "duration": 955,
    "start_time": "2024-08-28T17:13:48.914Z"
   },
   {
    "duration": 46,
    "start_time": "2024-08-28T17:13:49.870Z"
   },
   {
    "duration": 334,
    "start_time": "2024-08-28T17:13:49.918Z"
   },
   {
    "duration": 418,
    "start_time": "2024-08-28T17:13:50.253Z"
   },
   {
    "duration": 385,
    "start_time": "2024-08-28T17:13:50.673Z"
   },
   {
    "duration": 120,
    "start_time": "2024-08-28T17:13:51.060Z"
   },
   {
    "duration": 4,
    "start_time": "2024-08-28T17:13:51.183Z"
   },
   {
    "duration": 1000,
    "start_time": "2024-08-28T17:13:51.188Z"
   },
   {
    "duration": 4,
    "start_time": "2024-08-28T17:13:52.190Z"
   },
   {
    "duration": 3851,
    "start_time": "2024-08-28T17:13:52.195Z"
   },
   {
    "duration": 7,
    "start_time": "2024-08-28T17:13:56.049Z"
   },
   {
    "duration": 384045,
    "start_time": "2024-08-28T17:13:56.058Z"
   },
   {
    "duration": 11,
    "start_time": "2024-08-28T17:20:20.105Z"
   },
   {
    "duration": 2290,
    "start_time": "2024-08-28T17:20:20.118Z"
   },
   {
    "duration": 4,
    "start_time": "2024-08-28T17:20:22.410Z"
   },
   {
    "duration": 293,
    "start_time": "2024-08-28T17:20:22.416Z"
   },
   {
    "duration": 3565,
    "start_time": "2024-08-28T17:20:22.711Z"
   },
   {
    "duration": 1536,
    "start_time": "2024-08-28T17:20:26.278Z"
   },
   {
    "duration": 390824,
    "start_time": "2024-08-28T17:20:27.816Z"
   },
   {
    "duration": 80,
    "start_time": "2024-08-28T17:26:58.642Z"
   },
   {
    "duration": 4,
    "start_time": "2024-08-28T17:26:58.723Z"
   },
   {
    "duration": 5,
    "start_time": "2024-08-28T17:26:58.729Z"
   },
   {
    "duration": 7,
    "start_time": "2024-08-28T17:26:58.735Z"
   },
   {
    "duration": 56389,
    "start_time": "2024-08-28T17:26:58.744Z"
   },
   {
    "duration": 2883,
    "start_time": "2024-08-28T17:27:55.136Z"
   },
   {
    "duration": 202,
    "start_time": "2024-08-28T17:27:58.021Z"
   },
   {
    "duration": 529,
    "start_time": "2024-08-28T17:27:58.224Z"
   },
   {
    "duration": 157533,
    "start_time": "2024-08-28T17:27:58.754Z"
   },
   {
    "duration": 34,
    "start_time": "2024-08-28T17:30:36.289Z"
   },
   {
    "duration": 13,
    "start_time": "2024-08-28T17:30:36.324Z"
   },
   {
    "duration": 1878,
    "start_time": "2024-08-29T14:12:52.984Z"
   },
   {
    "duration": 0,
    "start_time": "2024-08-29T14:12:54.864Z"
   },
   {
    "duration": 0,
    "start_time": "2024-08-29T14:12:54.867Z"
   },
   {
    "duration": 0,
    "start_time": "2024-08-29T14:12:54.868Z"
   },
   {
    "duration": 0,
    "start_time": "2024-08-29T14:12:54.869Z"
   },
   {
    "duration": 0,
    "start_time": "2024-08-29T14:12:54.870Z"
   },
   {
    "duration": 0,
    "start_time": "2024-08-29T14:12:54.872Z"
   },
   {
    "duration": 0,
    "start_time": "2024-08-29T14:12:54.873Z"
   },
   {
    "duration": 0,
    "start_time": "2024-08-29T14:12:54.874Z"
   },
   {
    "duration": 0,
    "start_time": "2024-08-29T14:12:54.875Z"
   },
   {
    "duration": 0,
    "start_time": "2024-08-29T14:12:54.877Z"
   },
   {
    "duration": 0,
    "start_time": "2024-08-29T14:12:54.878Z"
   },
   {
    "duration": 0,
    "start_time": "2024-08-29T14:12:54.880Z"
   },
   {
    "duration": 0,
    "start_time": "2024-08-29T14:12:54.881Z"
   },
   {
    "duration": 0,
    "start_time": "2024-08-29T14:12:54.882Z"
   },
   {
    "duration": 0,
    "start_time": "2024-08-29T14:12:54.883Z"
   },
   {
    "duration": 0,
    "start_time": "2024-08-29T14:12:54.884Z"
   },
   {
    "duration": 0,
    "start_time": "2024-08-29T14:12:54.886Z"
   },
   {
    "duration": 0,
    "start_time": "2024-08-29T14:12:54.887Z"
   },
   {
    "duration": 0,
    "start_time": "2024-08-29T14:12:54.888Z"
   },
   {
    "duration": 0,
    "start_time": "2024-08-29T14:12:54.888Z"
   },
   {
    "duration": 0,
    "start_time": "2024-08-29T14:12:54.890Z"
   },
   {
    "duration": 0,
    "start_time": "2024-08-29T14:12:54.891Z"
   },
   {
    "duration": 0,
    "start_time": "2024-08-29T14:12:54.892Z"
   },
   {
    "duration": 0,
    "start_time": "2024-08-29T14:12:54.894Z"
   },
   {
    "duration": 0,
    "start_time": "2024-08-29T14:12:54.895Z"
   },
   {
    "duration": 0,
    "start_time": "2024-08-29T14:12:54.896Z"
   },
   {
    "duration": 0,
    "start_time": "2024-08-29T14:12:54.897Z"
   },
   {
    "duration": 0,
    "start_time": "2024-08-29T14:12:54.898Z"
   },
   {
    "duration": 0,
    "start_time": "2024-08-29T14:12:54.899Z"
   },
   {
    "duration": 0,
    "start_time": "2024-08-29T14:12:54.901Z"
   },
   {
    "duration": 0,
    "start_time": "2024-08-29T14:12:54.961Z"
   },
   {
    "duration": 0,
    "start_time": "2024-08-29T14:12:54.962Z"
   },
   {
    "duration": 29015,
    "start_time": "2024-08-29T14:13:21.053Z"
   },
   {
    "duration": 10834,
    "start_time": "2024-08-29T14:13:50.071Z"
   },
   {
    "duration": 7,
    "start_time": "2024-08-29T14:14:00.907Z"
   },
   {
    "duration": 1338,
    "start_time": "2024-08-29T14:14:00.917Z"
   },
   {
    "duration": 63,
    "start_time": "2024-08-29T14:14:02.257Z"
   },
   {
    "duration": 403,
    "start_time": "2024-08-29T14:14:02.322Z"
   },
   {
    "duration": 459,
    "start_time": "2024-08-29T14:14:02.727Z"
   },
   {
    "duration": 446,
    "start_time": "2024-08-29T14:14:03.188Z"
   },
   {
    "duration": 486,
    "start_time": "2024-08-29T14:14:03.636Z"
   },
   {
    "duration": 0,
    "start_time": "2024-08-29T14:14:04.124Z"
   },
   {
    "duration": 0,
    "start_time": "2024-08-29T14:14:04.126Z"
   },
   {
    "duration": 0,
    "start_time": "2024-08-29T14:14:04.127Z"
   },
   {
    "duration": 0,
    "start_time": "2024-08-29T14:14:04.128Z"
   },
   {
    "duration": 0,
    "start_time": "2024-08-29T14:14:04.130Z"
   },
   {
    "duration": 0,
    "start_time": "2024-08-29T14:14:04.132Z"
   },
   {
    "duration": 0,
    "start_time": "2024-08-29T14:14:04.133Z"
   },
   {
    "duration": 0,
    "start_time": "2024-08-29T14:14:04.135Z"
   },
   {
    "duration": 0,
    "start_time": "2024-08-29T14:14:04.137Z"
   },
   {
    "duration": 0,
    "start_time": "2024-08-29T14:14:04.138Z"
   },
   {
    "duration": 0,
    "start_time": "2024-08-29T14:14:04.140Z"
   },
   {
    "duration": 0,
    "start_time": "2024-08-29T14:14:04.161Z"
   },
   {
    "duration": 0,
    "start_time": "2024-08-29T14:14:04.162Z"
   },
   {
    "duration": 0,
    "start_time": "2024-08-29T14:14:04.169Z"
   },
   {
    "duration": 0,
    "start_time": "2024-08-29T14:14:04.171Z"
   },
   {
    "duration": 0,
    "start_time": "2024-08-29T14:14:04.174Z"
   },
   {
    "duration": 0,
    "start_time": "2024-08-29T14:14:04.175Z"
   },
   {
    "duration": 0,
    "start_time": "2024-08-29T14:14:04.177Z"
   },
   {
    "duration": 0,
    "start_time": "2024-08-29T14:14:04.178Z"
   },
   {
    "duration": 0,
    "start_time": "2024-08-29T14:14:04.179Z"
   },
   {
    "duration": 0,
    "start_time": "2024-08-29T14:14:04.180Z"
   },
   {
    "duration": 0,
    "start_time": "2024-08-29T14:14:04.181Z"
   },
   {
    "duration": 0,
    "start_time": "2024-08-29T14:14:04.181Z"
   },
   {
    "duration": 0,
    "start_time": "2024-08-29T14:14:04.182Z"
   },
   {
    "duration": 24423,
    "start_time": "2024-08-29T14:18:15.148Z"
   },
   {
    "duration": 5281,
    "start_time": "2024-08-29T14:18:39.574Z"
   },
   {
    "duration": 5,
    "start_time": "2024-08-29T14:18:44.857Z"
   },
   {
    "duration": 953,
    "start_time": "2024-08-29T14:18:44.865Z"
   },
   {
    "duration": 51,
    "start_time": "2024-08-29T14:18:45.820Z"
   },
   {
    "duration": 356,
    "start_time": "2024-08-29T14:18:45.873Z"
   },
   {
    "duration": 423,
    "start_time": "2024-08-29T14:18:46.231Z"
   },
   {
    "duration": 415,
    "start_time": "2024-08-29T14:18:46.656Z"
   },
   {
    "duration": 66,
    "start_time": "2024-08-29T14:18:47.074Z"
   },
   {
    "duration": 20,
    "start_time": "2024-08-29T14:18:47.143Z"
   },
   {
    "duration": 942,
    "start_time": "2024-08-29T14:18:47.165Z"
   },
   {
    "duration": 4,
    "start_time": "2024-08-29T14:18:48.109Z"
   },
   {
    "duration": 4057,
    "start_time": "2024-08-29T14:18:48.115Z"
   },
   {
    "duration": 5,
    "start_time": "2024-08-29T14:18:52.173Z"
   },
   {
    "duration": 420,
    "start_time": "2024-08-29T14:18:52.180Z"
   },
   {
    "duration": 0,
    "start_time": "2024-08-29T14:18:52.602Z"
   },
   {
    "duration": 0,
    "start_time": "2024-08-29T14:18:52.603Z"
   },
   {
    "duration": 0,
    "start_time": "2024-08-29T14:18:52.604Z"
   },
   {
    "duration": 0,
    "start_time": "2024-08-29T14:18:52.605Z"
   },
   {
    "duration": 0,
    "start_time": "2024-08-29T14:18:52.607Z"
   },
   {
    "duration": 0,
    "start_time": "2024-08-29T14:18:52.608Z"
   },
   {
    "duration": 0,
    "start_time": "2024-08-29T14:18:52.609Z"
   },
   {
    "duration": 0,
    "start_time": "2024-08-29T14:18:52.610Z"
   },
   {
    "duration": 0,
    "start_time": "2024-08-29T14:18:52.611Z"
   },
   {
    "duration": 0,
    "start_time": "2024-08-29T14:18:52.612Z"
   },
   {
    "duration": 0,
    "start_time": "2024-08-29T14:18:52.612Z"
   },
   {
    "duration": 0,
    "start_time": "2024-08-29T14:18:52.614Z"
   },
   {
    "duration": 0,
    "start_time": "2024-08-29T14:18:52.615Z"
   },
   {
    "duration": 0,
    "start_time": "2024-08-29T14:18:52.616Z"
   },
   {
    "duration": 0,
    "start_time": "2024-08-29T14:18:52.617Z"
   },
   {
    "duration": 0,
    "start_time": "2024-08-29T14:18:52.618Z"
   },
   {
    "duration": 0,
    "start_time": "2024-08-29T14:18:52.619Z"
   },
   {
    "duration": 0,
    "start_time": "2024-08-29T14:18:52.620Z"
   },
   {
    "duration": 24556,
    "start_time": "2024-08-29T14:22:22.558Z"
   },
   {
    "duration": 5235,
    "start_time": "2024-08-29T14:22:47.117Z"
   },
   {
    "duration": 10,
    "start_time": "2024-08-29T14:22:52.354Z"
   },
   {
    "duration": 929,
    "start_time": "2024-08-29T14:22:52.366Z"
   },
   {
    "duration": 49,
    "start_time": "2024-08-29T14:22:53.298Z"
   },
   {
    "duration": 334,
    "start_time": "2024-08-29T14:22:53.361Z"
   },
   {
    "duration": 469,
    "start_time": "2024-08-29T14:22:53.697Z"
   },
   {
    "duration": 465,
    "start_time": "2024-08-29T14:22:54.168Z"
   },
   {
    "duration": 92,
    "start_time": "2024-08-29T14:22:54.636Z"
   },
   {
    "duration": 4,
    "start_time": "2024-08-29T14:22:54.730Z"
   },
   {
    "duration": 85847,
    "start_time": "2024-08-29T14:22:54.736Z"
   },
   {
    "duration": 0,
    "start_time": "2024-08-29T14:24:20.585Z"
   },
   {
    "duration": 0,
    "start_time": "2024-08-29T14:24:20.587Z"
   },
   {
    "duration": 0,
    "start_time": "2024-08-29T14:24:20.588Z"
   },
   {
    "duration": 0,
    "start_time": "2024-08-29T14:24:20.589Z"
   },
   {
    "duration": 0,
    "start_time": "2024-08-29T14:24:20.590Z"
   },
   {
    "duration": 0,
    "start_time": "2024-08-29T14:24:20.591Z"
   },
   {
    "duration": 0,
    "start_time": "2024-08-29T14:24:20.592Z"
   },
   {
    "duration": 0,
    "start_time": "2024-08-29T14:24:20.593Z"
   },
   {
    "duration": 0,
    "start_time": "2024-08-29T14:24:20.594Z"
   },
   {
    "duration": 0,
    "start_time": "2024-08-29T14:24:20.595Z"
   },
   {
    "duration": 0,
    "start_time": "2024-08-29T14:24:20.596Z"
   },
   {
    "duration": 0,
    "start_time": "2024-08-29T14:24:20.598Z"
   },
   {
    "duration": 1,
    "start_time": "2024-08-29T14:24:20.598Z"
   },
   {
    "duration": 0,
    "start_time": "2024-08-29T14:24:20.599Z"
   },
   {
    "duration": 0,
    "start_time": "2024-08-29T14:24:20.600Z"
   },
   {
    "duration": 0,
    "start_time": "2024-08-29T14:24:20.601Z"
   },
   {
    "duration": 1,
    "start_time": "2024-08-29T14:24:20.602Z"
   },
   {
    "duration": 0,
    "start_time": "2024-08-29T14:24:20.604Z"
   },
   {
    "duration": 0,
    "start_time": "2024-08-29T14:24:20.605Z"
   },
   {
    "duration": 0,
    "start_time": "2024-08-29T14:24:20.606Z"
   },
   {
    "duration": 0,
    "start_time": "2024-08-29T14:24:20.607Z"
   },
   {
    "duration": 0,
    "start_time": "2024-08-29T14:24:20.608Z"
   },
   {
    "duration": 5,
    "start_time": "2024-08-29T14:25:51.343Z"
   },
   {
    "duration": 31,
    "start_time": "2024-08-29T14:26:04.598Z"
   },
   {
    "duration": 21,
    "start_time": "2024-08-29T14:28:30.284Z"
   },
   {
    "duration": 3,
    "start_time": "2024-08-29T14:28:38.043Z"
   },
   {
    "duration": 6,
    "start_time": "2024-08-29T14:28:51.036Z"
   },
   {
    "duration": 10,
    "start_time": "2024-08-29T14:29:48.329Z"
   },
   {
    "duration": 25,
    "start_time": "2024-08-29T14:29:57.140Z"
   },
   {
    "duration": 9,
    "start_time": "2024-08-29T14:30:02.328Z"
   },
   {
    "duration": 20,
    "start_time": "2024-08-29T14:32:38.803Z"
   },
   {
    "duration": 4,
    "start_time": "2024-08-29T14:32:48.273Z"
   },
   {
    "duration": 9,
    "start_time": "2024-08-29T14:32:51.989Z"
   },
   {
    "duration": 14,
    "start_time": "2024-08-29T14:33:15.108Z"
   },
   {
    "duration": 19,
    "start_time": "2024-08-29T14:33:22.094Z"
   },
   {
    "duration": 85,
    "start_time": "2024-08-29T14:37:08.262Z"
   },
   {
    "duration": 4,
    "start_time": "2024-08-29T14:37:27.125Z"
   },
   {
    "duration": 5,
    "start_time": "2024-08-29T14:37:41.457Z"
   },
   {
    "duration": 24595,
    "start_time": "2024-08-29T14:42:19.892Z"
   },
   {
    "duration": 5406,
    "start_time": "2024-08-29T14:42:44.489Z"
   },
   {
    "duration": 8,
    "start_time": "2024-08-29T14:42:49.897Z"
   },
   {
    "duration": 978,
    "start_time": "2024-08-29T14:42:49.907Z"
   },
   {
    "duration": 46,
    "start_time": "2024-08-29T14:42:50.887Z"
   },
   {
    "duration": 334,
    "start_time": "2024-08-29T14:42:50.935Z"
   },
   {
    "duration": 421,
    "start_time": "2024-08-29T14:42:51.271Z"
   },
   {
    "duration": 446,
    "start_time": "2024-08-29T14:42:51.694Z"
   },
   {
    "duration": 83,
    "start_time": "2024-08-29T14:42:52.142Z"
   },
   {
    "duration": 74,
    "start_time": "2024-08-29T14:42:52.227Z"
   },
   {
    "duration": 4,
    "start_time": "2024-08-29T14:42:52.303Z"
   },
   {
    "duration": 46,
    "start_time": "2024-08-29T14:42:52.309Z"
   },
   {
    "duration": 31,
    "start_time": "2024-08-29T14:42:52.357Z"
   },
   {
    "duration": 24,
    "start_time": "2024-08-29T14:42:52.391Z"
   },
   {
    "duration": 23,
    "start_time": "2024-08-29T14:42:52.417Z"
   },
   {
    "duration": 35,
    "start_time": "2024-08-29T14:42:52.441Z"
   },
   {
    "duration": 1283142,
    "start_time": "2024-08-29T14:42:52.478Z"
   },
   {
    "duration": 4,
    "start_time": "2024-08-29T15:04:15.622Z"
   },
   {
    "duration": 9422,
    "start_time": "2024-08-29T15:04:15.628Z"
   },
   {
    "duration": 8,
    "start_time": "2024-08-29T15:04:25.053Z"
   },
   {
    "duration": 54,
    "start_time": "2024-08-29T15:11:08.695Z"
   },
   {
    "duration": 24495,
    "start_time": "2024-08-29T15:12:43.327Z"
   },
   {
    "duration": 7653,
    "start_time": "2024-08-29T15:13:07.830Z"
   },
   {
    "duration": 6,
    "start_time": "2024-08-29T15:13:15.486Z"
   },
   {
    "duration": 1412,
    "start_time": "2024-08-29T15:13:15.495Z"
   },
   {
    "duration": 50,
    "start_time": "2024-08-29T15:13:16.909Z"
   },
   {
    "duration": 370,
    "start_time": "2024-08-29T15:13:16.963Z"
   },
   {
    "duration": 486,
    "start_time": "2024-08-29T15:13:17.335Z"
   },
   {
    "duration": 436,
    "start_time": "2024-08-29T15:13:17.823Z"
   },
   {
    "duration": 76,
    "start_time": "2024-08-29T15:13:18.261Z"
   },
   {
    "duration": 90,
    "start_time": "2024-08-29T15:13:18.340Z"
   },
   {
    "duration": 4,
    "start_time": "2024-08-29T15:13:18.432Z"
   },
   {
    "duration": 11,
    "start_time": "2024-08-29T15:13:18.438Z"
   },
   {
    "duration": 6,
    "start_time": "2024-08-29T15:13:18.450Z"
   },
   {
    "duration": 12,
    "start_time": "2024-08-29T15:13:18.466Z"
   },
   {
    "duration": 7,
    "start_time": "2024-08-29T15:13:18.480Z"
   },
   {
    "duration": 25,
    "start_time": "2024-08-29T15:13:18.488Z"
   },
   {
    "duration": 1468,
    "start_time": "2024-08-29T15:13:18.516Z"
   },
   {
    "duration": 5,
    "start_time": "2024-08-29T15:13:19.986Z"
   },
   {
    "duration": 9378,
    "start_time": "2024-08-29T15:13:19.992Z"
   },
   {
    "duration": 5,
    "start_time": "2024-08-29T15:13:29.375Z"
   },
   {
    "duration": 24573,
    "start_time": "2024-08-29T15:19:27.332Z"
   },
   {
    "duration": 7372,
    "start_time": "2024-08-29T15:19:51.909Z"
   },
   {
    "duration": 5,
    "start_time": "2024-08-29T15:19:59.283Z"
   },
   {
    "duration": 1408,
    "start_time": "2024-08-29T15:19:59.290Z"
   },
   {
    "duration": 55,
    "start_time": "2024-08-29T15:20:00.701Z"
   },
   {
    "duration": 340,
    "start_time": "2024-08-29T15:20:00.761Z"
   },
   {
    "duration": 435,
    "start_time": "2024-08-29T15:20:01.103Z"
   },
   {
    "duration": 487,
    "start_time": "2024-08-29T15:20:01.540Z"
   },
   {
    "duration": 86,
    "start_time": "2024-08-29T15:20:02.029Z"
   },
   {
    "duration": 73,
    "start_time": "2024-08-29T15:20:02.117Z"
   },
   {
    "duration": 4,
    "start_time": "2024-08-29T15:20:02.192Z"
   },
   {
    "duration": 30,
    "start_time": "2024-08-29T15:20:02.198Z"
   },
   {
    "duration": 45,
    "start_time": "2024-08-29T15:20:02.230Z"
   },
   {
    "duration": 46,
    "start_time": "2024-08-29T15:20:02.278Z"
   },
   {
    "duration": 38,
    "start_time": "2024-08-29T15:20:02.325Z"
   },
   {
    "duration": 53,
    "start_time": "2024-08-29T15:20:02.365Z"
   },
   {
    "duration": 1247,
    "start_time": "2024-08-29T15:20:02.420Z"
   },
   {
    "duration": 5,
    "start_time": "2024-08-29T15:20:03.668Z"
   },
   {
    "duration": 2589,
    "start_time": "2024-08-29T15:20:03.675Z"
   },
   {
    "duration": 0,
    "start_time": "2024-08-29T15:20:06.265Z"
   },
   {
    "duration": 0,
    "start_time": "2024-08-29T15:20:06.267Z"
   },
   {
    "duration": 0,
    "start_time": "2024-08-29T15:20:06.268Z"
   },
   {
    "duration": 0,
    "start_time": "2024-08-29T15:20:06.269Z"
   },
   {
    "duration": 0,
    "start_time": "2024-08-29T15:20:06.270Z"
   },
   {
    "duration": 0,
    "start_time": "2024-08-29T15:20:06.272Z"
   },
   {
    "duration": 0,
    "start_time": "2024-08-29T15:20:06.273Z"
   },
   {
    "duration": 0,
    "start_time": "2024-08-29T15:20:06.291Z"
   },
   {
    "duration": 0,
    "start_time": "2024-08-29T15:20:06.293Z"
   },
   {
    "duration": 0,
    "start_time": "2024-08-29T15:20:06.294Z"
   },
   {
    "duration": 0,
    "start_time": "2024-08-29T15:20:06.296Z"
   },
   {
    "duration": 0,
    "start_time": "2024-08-29T15:20:06.298Z"
   },
   {
    "duration": 0,
    "start_time": "2024-08-29T15:20:06.300Z"
   },
   {
    "duration": 0,
    "start_time": "2024-08-29T15:20:06.301Z"
   },
   {
    "duration": 0,
    "start_time": "2024-08-29T15:20:06.303Z"
   },
   {
    "duration": 0,
    "start_time": "2024-08-29T15:20:06.305Z"
   },
   {
    "duration": 0,
    "start_time": "2024-08-29T15:20:06.306Z"
   },
   {
    "duration": 0,
    "start_time": "2024-08-29T15:20:06.308Z"
   },
   {
    "duration": 0,
    "start_time": "2024-08-29T15:20:06.309Z"
   },
   {
    "duration": 0,
    "start_time": "2024-08-29T15:20:06.361Z"
   },
   {
    "duration": 24,
    "start_time": "2024-08-29T15:22:08.440Z"
   },
   {
    "duration": 30,
    "start_time": "2024-08-29T15:22:49.414Z"
   },
   {
    "duration": 23912,
    "start_time": "2024-08-29T15:25:58.691Z"
   },
   {
    "duration": 5332,
    "start_time": "2024-08-29T15:26:22.605Z"
   },
   {
    "duration": 7,
    "start_time": "2024-08-29T15:26:27.939Z"
   },
   {
    "duration": 965,
    "start_time": "2024-08-29T15:26:27.948Z"
   },
   {
    "duration": 56,
    "start_time": "2024-08-29T15:26:28.915Z"
   },
   {
    "duration": 340,
    "start_time": "2024-08-29T15:26:28.973Z"
   },
   {
    "duration": 454,
    "start_time": "2024-08-29T15:26:29.315Z"
   },
   {
    "duration": 463,
    "start_time": "2024-08-29T15:26:29.772Z"
   },
   {
    "duration": 83,
    "start_time": "2024-08-29T15:26:30.237Z"
   },
   {
    "duration": 2,
    "start_time": "2024-08-29T15:26:30.323Z"
   },
   {
    "duration": 25,
    "start_time": "2024-08-29T15:26:30.327Z"
   },
   {
    "duration": 1362775,
    "start_time": "2024-08-29T15:26:30.354Z"
   },
   {
    "duration": 5,
    "start_time": "2024-08-29T15:49:13.132Z"
   },
   {
    "duration": 5902,
    "start_time": "2024-08-29T15:49:13.141Z"
   },
   {
    "duration": 33,
    "start_time": "2024-08-29T15:49:19.045Z"
   },
   {
    "duration": 5,
    "start_time": "2024-08-29T15:49:19.079Z"
   },
   {
    "duration": 778946,
    "start_time": "2024-08-29T15:49:19.085Z"
   },
   {
    "duration": 41,
    "start_time": "2024-08-29T16:02:18.032Z"
   },
   {
    "duration": 4889,
    "start_time": "2024-08-29T16:02:18.075Z"
   },
   {
    "duration": 5,
    "start_time": "2024-08-29T16:02:22.974Z"
   },
   {
    "duration": 406,
    "start_time": "2024-08-29T16:02:22.981Z"
   },
   {
    "duration": 0,
    "start_time": "2024-08-29T16:02:23.390Z"
   },
   {
    "duration": 0,
    "start_time": "2024-08-29T16:02:23.391Z"
   },
   {
    "duration": 0,
    "start_time": "2024-08-29T16:02:23.393Z"
   },
   {
    "duration": 0,
    "start_time": "2024-08-29T16:02:23.394Z"
   },
   {
    "duration": 0,
    "start_time": "2024-08-29T16:02:23.397Z"
   },
   {
    "duration": 0,
    "start_time": "2024-08-29T16:02:23.398Z"
   },
   {
    "duration": 0,
    "start_time": "2024-08-29T16:02:23.400Z"
   },
   {
    "duration": 0,
    "start_time": "2024-08-29T16:02:23.402Z"
   },
   {
    "duration": 0,
    "start_time": "2024-08-29T16:02:23.403Z"
   },
   {
    "duration": 0,
    "start_time": "2024-08-29T16:02:23.404Z"
   },
   {
    "duration": 0,
    "start_time": "2024-08-29T16:02:23.406Z"
   },
   {
    "duration": 0,
    "start_time": "2024-08-29T16:02:23.408Z"
   },
   {
    "duration": 0,
    "start_time": "2024-08-29T16:02:23.409Z"
   },
   {
    "duration": 0,
    "start_time": "2024-08-29T16:02:23.411Z"
   },
   {
    "duration": 33,
    "start_time": "2024-08-29T16:03:51.446Z"
   },
   {
    "duration": 26,
    "start_time": "2024-08-29T16:04:10.070Z"
   },
   {
    "duration": 5,
    "start_time": "2024-08-29T16:05:55.412Z"
   },
   {
    "duration": 6,
    "start_time": "2024-08-29T16:06:16.156Z"
   },
   {
    "duration": 77,
    "start_time": "2024-08-29T16:07:28.896Z"
   },
   {
    "duration": 54,
    "start_time": "2024-08-29T16:07:36.199Z"
   },
   {
    "duration": 5667,
    "start_time": "2024-08-29T16:07:44.614Z"
   },
   {
    "duration": 4789,
    "start_time": "2024-08-29T16:07:53.891Z"
   },
   {
    "duration": 442367,
    "start_time": "2024-08-29T16:08:07.298Z"
   },
   {
    "duration": 90,
    "start_time": "2024-08-29T16:15:36.334Z"
   },
   {
    "duration": 4,
    "start_time": "2024-08-29T16:15:39.741Z"
   },
   {
    "duration": 5,
    "start_time": "2024-08-29T16:15:42.500Z"
   },
   {
    "duration": 3,
    "start_time": "2024-08-29T16:15:46.093Z"
   },
   {
    "duration": 48466,
    "start_time": "2024-08-29T16:15:48.740Z"
   },
   {
    "duration": 3079,
    "start_time": "2024-08-29T16:17:20.191Z"
   },
   {
    "duration": 29,
    "start_time": "2024-08-29T16:38:01.023Z"
   },
   {
    "duration": 105,
    "start_time": "2024-08-29T16:38:19.998Z"
   },
   {
    "duration": 5,
    "start_time": "2024-08-29T16:38:26.788Z"
   },
   {
    "duration": 3,
    "start_time": "2024-08-29T16:38:55.182Z"
   },
   {
    "duration": 4,
    "start_time": "2024-08-29T16:47:15.654Z"
   },
   {
    "duration": 6658,
    "start_time": "2024-08-29T16:47:21.387Z"
   },
   {
    "duration": 5,
    "start_time": "2024-08-29T16:53:28.010Z"
   },
   {
    "duration": 5011,
    "start_time": "2024-08-29T16:53:38.078Z"
   },
   {
    "duration": 5,
    "start_time": "2024-08-29T16:55:07.603Z"
   },
   {
    "duration": 405544,
    "start_time": "2024-08-29T16:55:12.894Z"
   },
   {
    "duration": 5,
    "start_time": "2024-08-29T17:02:42.098Z"
   },
   {
    "duration": 25103,
    "start_time": "2024-08-29T17:12:20.843Z"
   },
   {
    "duration": 5554,
    "start_time": "2024-08-29T17:12:45.949Z"
   },
   {
    "duration": 6,
    "start_time": "2024-08-29T17:12:51.504Z"
   },
   {
    "duration": 1121,
    "start_time": "2024-08-29T17:12:51.512Z"
   },
   {
    "duration": 70,
    "start_time": "2024-08-29T17:12:52.634Z"
   },
   {
    "duration": 422,
    "start_time": "2024-08-29T17:12:52.706Z"
   },
   {
    "duration": 487,
    "start_time": "2024-08-29T17:12:53.130Z"
   },
   {
    "duration": 484,
    "start_time": "2024-08-29T17:12:53.619Z"
   },
   {
    "duration": 83,
    "start_time": "2024-08-29T17:12:54.106Z"
   },
   {
    "duration": 4,
    "start_time": "2024-08-29T17:12:54.192Z"
   },
   {
    "duration": 411,
    "start_time": "2024-08-29T17:12:54.198Z"
   },
   {
    "duration": 0,
    "start_time": "2024-08-29T17:12:54.611Z"
   },
   {
    "duration": 0,
    "start_time": "2024-08-29T17:12:54.613Z"
   },
   {
    "duration": 0,
    "start_time": "2024-08-29T17:12:54.614Z"
   },
   {
    "duration": 0,
    "start_time": "2024-08-29T17:12:54.615Z"
   },
   {
    "duration": 0,
    "start_time": "2024-08-29T17:12:54.617Z"
   },
   {
    "duration": 0,
    "start_time": "2024-08-29T17:12:54.618Z"
   },
   {
    "duration": 0,
    "start_time": "2024-08-29T17:12:54.619Z"
   },
   {
    "duration": 0,
    "start_time": "2024-08-29T17:12:54.621Z"
   },
   {
    "duration": 0,
    "start_time": "2024-08-29T17:12:54.622Z"
   },
   {
    "duration": 0,
    "start_time": "2024-08-29T17:12:54.623Z"
   },
   {
    "duration": 0,
    "start_time": "2024-08-29T17:12:54.625Z"
   },
   {
    "duration": 0,
    "start_time": "2024-08-29T17:12:54.626Z"
   },
   {
    "duration": 0,
    "start_time": "2024-08-29T17:12:54.628Z"
   },
   {
    "duration": 0,
    "start_time": "2024-08-29T17:12:54.630Z"
   },
   {
    "duration": 0,
    "start_time": "2024-08-29T17:12:54.665Z"
   },
   {
    "duration": 0,
    "start_time": "2024-08-29T17:12:54.666Z"
   },
   {
    "duration": 0,
    "start_time": "2024-08-29T17:12:54.669Z"
   },
   {
    "duration": 0,
    "start_time": "2024-08-29T17:12:54.670Z"
   },
   {
    "duration": 1,
    "start_time": "2024-08-29T17:12:54.673Z"
   },
   {
    "duration": 0,
    "start_time": "2024-08-29T17:12:54.674Z"
   },
   {
    "duration": 0,
    "start_time": "2024-08-29T17:12:54.675Z"
   },
   {
    "duration": 0,
    "start_time": "2024-08-29T17:12:54.677Z"
   },
   {
    "duration": 24614,
    "start_time": "2024-08-29T17:13:59.961Z"
   },
   {
    "duration": 5353,
    "start_time": "2024-08-29T17:14:24.578Z"
   },
   {
    "duration": 5,
    "start_time": "2024-08-29T17:14:29.933Z"
   },
   {
    "duration": 1035,
    "start_time": "2024-08-29T17:14:29.940Z"
   },
   {
    "duration": 59,
    "start_time": "2024-08-29T17:14:30.977Z"
   },
   {
    "duration": 382,
    "start_time": "2024-08-29T17:14:31.038Z"
   },
   {
    "duration": 449,
    "start_time": "2024-08-29T17:14:31.422Z"
   },
   {
    "duration": 413,
    "start_time": "2024-08-29T17:14:31.877Z"
   },
   {
    "duration": 86,
    "start_time": "2024-08-29T17:14:32.291Z"
   },
   {
    "duration": 7,
    "start_time": "2024-08-29T17:14:32.380Z"
   },
   {
    "duration": 150793,
    "start_time": "2024-08-29T17:14:32.389Z"
   },
   {
    "duration": 0,
    "start_time": "2024-08-29T17:17:03.184Z"
   },
   {
    "duration": 0,
    "start_time": "2024-08-29T17:17:03.186Z"
   },
   {
    "duration": 0,
    "start_time": "2024-08-29T17:17:03.187Z"
   },
   {
    "duration": 0,
    "start_time": "2024-08-29T17:17:03.188Z"
   },
   {
    "duration": 0,
    "start_time": "2024-08-29T17:17:03.189Z"
   },
   {
    "duration": 0,
    "start_time": "2024-08-29T17:17:03.191Z"
   },
   {
    "duration": 0,
    "start_time": "2024-08-29T17:17:03.192Z"
   },
   {
    "duration": 0,
    "start_time": "2024-08-29T17:17:03.193Z"
   },
   {
    "duration": 0,
    "start_time": "2024-08-29T17:17:03.194Z"
   },
   {
    "duration": 0,
    "start_time": "2024-08-29T17:17:03.195Z"
   },
   {
    "duration": 0,
    "start_time": "2024-08-29T17:17:03.196Z"
   },
   {
    "duration": 0,
    "start_time": "2024-08-29T17:17:03.197Z"
   },
   {
    "duration": 0,
    "start_time": "2024-08-29T17:17:03.199Z"
   },
   {
    "duration": 0,
    "start_time": "2024-08-29T17:17:03.200Z"
   },
   {
    "duration": 0,
    "start_time": "2024-08-29T17:17:03.201Z"
   },
   {
    "duration": 0,
    "start_time": "2024-08-29T17:17:03.202Z"
   },
   {
    "duration": 0,
    "start_time": "2024-08-29T17:17:03.204Z"
   },
   {
    "duration": 0,
    "start_time": "2024-08-29T17:17:03.205Z"
   },
   {
    "duration": 0,
    "start_time": "2024-08-29T17:17:03.206Z"
   },
   {
    "duration": 0,
    "start_time": "2024-08-29T17:17:03.207Z"
   },
   {
    "duration": 0,
    "start_time": "2024-08-29T17:17:03.208Z"
   },
   {
    "duration": 0,
    "start_time": "2024-08-29T17:17:03.210Z"
   },
   {
    "duration": 24005,
    "start_time": "2024-08-29T17:20:07.242Z"
   },
   {
    "duration": 5216,
    "start_time": "2024-08-29T17:20:31.250Z"
   },
   {
    "duration": 7,
    "start_time": "2024-08-29T17:20:36.468Z"
   },
   {
    "duration": 944,
    "start_time": "2024-08-29T17:20:36.477Z"
   },
   {
    "duration": 49,
    "start_time": "2024-08-29T17:20:37.423Z"
   },
   {
    "duration": 365,
    "start_time": "2024-08-29T17:20:37.474Z"
   },
   {
    "duration": 443,
    "start_time": "2024-08-29T17:20:37.841Z"
   },
   {
    "duration": 425,
    "start_time": "2024-08-29T17:20:38.286Z"
   },
   {
    "duration": 74,
    "start_time": "2024-08-29T17:20:38.712Z"
   },
   {
    "duration": 4,
    "start_time": "2024-08-29T17:20:38.789Z"
   },
   {
    "duration": 1266891,
    "start_time": "2024-08-29T17:20:38.795Z"
   },
   {
    "duration": 4,
    "start_time": "2024-08-29T17:41:45.688Z"
   },
   {
    "duration": 5211,
    "start_time": "2024-08-29T17:41:45.694Z"
   },
   {
    "duration": 6,
    "start_time": "2024-08-29T17:41:50.906Z"
   },
   {
    "duration": 993358,
    "start_time": "2024-08-29T17:41:50.914Z"
   },
   {
    "duration": 19,
    "start_time": "2024-08-29T17:58:24.274Z"
   },
   {
    "duration": 4576,
    "start_time": "2024-08-29T17:58:24.295Z"
   },
   {
    "duration": 5,
    "start_time": "2024-08-29T17:58:28.872Z"
   },
   {
    "duration": 354,
    "start_time": "2024-08-29T17:58:28.879Z"
   },
   {
    "duration": 0,
    "start_time": "2024-08-29T17:58:29.236Z"
   },
   {
    "duration": 0,
    "start_time": "2024-08-29T17:58:29.237Z"
   },
   {
    "duration": 0,
    "start_time": "2024-08-29T17:58:29.238Z"
   },
   {
    "duration": 0,
    "start_time": "2024-08-29T17:58:29.240Z"
   },
   {
    "duration": 1,
    "start_time": "2024-08-29T17:58:29.241Z"
   },
   {
    "duration": 0,
    "start_time": "2024-08-29T17:58:29.261Z"
   },
   {
    "duration": 0,
    "start_time": "2024-08-29T17:58:29.263Z"
   },
   {
    "duration": 0,
    "start_time": "2024-08-29T17:58:29.265Z"
   },
   {
    "duration": 0,
    "start_time": "2024-08-29T17:58:29.267Z"
   },
   {
    "duration": 0,
    "start_time": "2024-08-29T17:58:29.268Z"
   },
   {
    "duration": 0,
    "start_time": "2024-08-29T17:58:29.270Z"
   },
   {
    "duration": 0,
    "start_time": "2024-08-29T17:58:29.271Z"
   },
   {
    "duration": 0,
    "start_time": "2024-08-29T17:58:29.272Z"
   },
   {
    "duration": 0,
    "start_time": "2024-08-29T17:58:29.274Z"
   },
   {
    "duration": 6,
    "start_time": "2024-08-29T18:01:02.072Z"
   },
   {
    "duration": 1612793,
    "start_time": "2024-08-29T18:01:04.435Z"
   },
   {
    "duration": 6,
    "start_time": "2024-08-29T18:28:27.006Z"
   },
   {
    "duration": 161738,
    "start_time": "2024-08-29T18:28:29.908Z"
   },
   {
    "duration": 6,
    "start_time": "2024-08-29T18:42:29.744Z"
   },
   {
    "duration": 222811,
    "start_time": "2024-08-29T18:42:33.973Z"
   },
   {
    "duration": 5,
    "start_time": "2024-08-29T18:46:41.523Z"
   },
   {
    "duration": 23648,
    "start_time": "2024-08-29T19:06:29.943Z"
   },
   {
    "duration": 5331,
    "start_time": "2024-08-29T19:06:53.593Z"
   },
   {
    "duration": 6,
    "start_time": "2024-08-29T19:06:58.926Z"
   },
   {
    "duration": 1023,
    "start_time": "2024-08-29T19:06:58.934Z"
   },
   {
    "duration": 49,
    "start_time": "2024-08-29T19:06:59.961Z"
   },
   {
    "duration": 358,
    "start_time": "2024-08-29T19:07:00.011Z"
   },
   {
    "duration": 456,
    "start_time": "2024-08-29T19:07:00.370Z"
   },
   {
    "duration": 379,
    "start_time": "2024-08-29T19:07:00.831Z"
   },
   {
    "duration": 76,
    "start_time": "2024-08-29T19:07:01.212Z"
   },
   {
    "duration": 4,
    "start_time": "2024-08-29T19:07:01.289Z"
   },
   {
    "duration": 1377,
    "start_time": "2024-08-29T19:07:01.295Z"
   },
   {
    "duration": 4,
    "start_time": "2024-08-29T19:07:02.674Z"
   },
   {
    "duration": 2320,
    "start_time": "2024-08-29T19:07:02.680Z"
   },
   {
    "duration": 0,
    "start_time": "2024-08-29T19:07:05.017Z"
   },
   {
    "duration": 0,
    "start_time": "2024-08-29T19:07:05.019Z"
   },
   {
    "duration": 0,
    "start_time": "2024-08-29T19:07:05.020Z"
   },
   {
    "duration": 0,
    "start_time": "2024-08-29T19:07:05.021Z"
   },
   {
    "duration": 0,
    "start_time": "2024-08-29T19:07:05.023Z"
   },
   {
    "duration": 0,
    "start_time": "2024-08-29T19:07:05.024Z"
   },
   {
    "duration": 0,
    "start_time": "2024-08-29T19:07:05.025Z"
   },
   {
    "duration": 0,
    "start_time": "2024-08-29T19:07:05.026Z"
   },
   {
    "duration": 0,
    "start_time": "2024-08-29T19:07:05.027Z"
   },
   {
    "duration": 0,
    "start_time": "2024-08-29T19:07:05.028Z"
   },
   {
    "duration": 0,
    "start_time": "2024-08-29T19:07:05.030Z"
   },
   {
    "duration": 0,
    "start_time": "2024-08-29T19:07:05.031Z"
   },
   {
    "duration": 0,
    "start_time": "2024-08-29T19:07:05.061Z"
   },
   {
    "duration": 0,
    "start_time": "2024-08-29T19:07:05.062Z"
   },
   {
    "duration": 0,
    "start_time": "2024-08-29T19:07:05.064Z"
   },
   {
    "duration": 0,
    "start_time": "2024-08-29T19:07:05.065Z"
   },
   {
    "duration": 0,
    "start_time": "2024-08-29T19:07:05.066Z"
   },
   {
    "duration": 0,
    "start_time": "2024-08-29T19:07:05.067Z"
   },
   {
    "duration": 0,
    "start_time": "2024-08-29T19:07:05.069Z"
   },
   {
    "duration": 0,
    "start_time": "2024-08-29T19:07:05.070Z"
   },
   {
    "duration": 25,
    "start_time": "2024-08-29T19:08:06.167Z"
   },
   {
    "duration": 119,
    "start_time": "2024-08-29T19:08:55.962Z"
   },
   {
    "duration": 22687,
    "start_time": "2024-08-29T19:10:12.411Z"
   },
   {
    "duration": 5177,
    "start_time": "2024-08-29T19:10:35.101Z"
   },
   {
    "duration": 6,
    "start_time": "2024-08-29T19:10:40.280Z"
   },
   {
    "duration": 1017,
    "start_time": "2024-08-29T19:10:40.288Z"
   },
   {
    "duration": 57,
    "start_time": "2024-08-29T19:10:41.306Z"
   },
   {
    "duration": 347,
    "start_time": "2024-08-29T19:10:41.365Z"
   },
   {
    "duration": 433,
    "start_time": "2024-08-29T19:10:41.713Z"
   },
   {
    "duration": 431,
    "start_time": "2024-08-29T19:10:42.148Z"
   },
   {
    "duration": 110,
    "start_time": "2024-08-29T19:10:42.581Z"
   },
   {
    "duration": 4,
    "start_time": "2024-08-29T19:10:42.693Z"
   },
   {
    "duration": 1148,
    "start_time": "2024-08-29T19:10:42.699Z"
   },
   {
    "duration": 4,
    "start_time": "2024-08-29T19:10:43.849Z"
   },
   {
    "duration": 25,
    "start_time": "2024-08-29T19:10:43.855Z"
   },
   {
    "duration": 2328,
    "start_time": "2024-08-29T19:10:43.882Z"
   },
   {
    "duration": 0,
    "start_time": "2024-08-29T19:10:46.234Z"
   },
   {
    "duration": 0,
    "start_time": "2024-08-29T19:10:46.236Z"
   },
   {
    "duration": 0,
    "start_time": "2024-08-29T19:10:46.238Z"
   },
   {
    "duration": 0,
    "start_time": "2024-08-29T19:10:46.240Z"
   },
   {
    "duration": 0,
    "start_time": "2024-08-29T19:10:46.242Z"
   },
   {
    "duration": 0,
    "start_time": "2024-08-29T19:10:46.244Z"
   },
   {
    "duration": 0,
    "start_time": "2024-08-29T19:10:46.245Z"
   },
   {
    "duration": 0,
    "start_time": "2024-08-29T19:10:46.261Z"
   },
   {
    "duration": 0,
    "start_time": "2024-08-29T19:10:46.263Z"
   },
   {
    "duration": 0,
    "start_time": "2024-08-29T19:10:46.264Z"
   },
   {
    "duration": 0,
    "start_time": "2024-08-29T19:10:46.265Z"
   },
   {
    "duration": 0,
    "start_time": "2024-08-29T19:10:46.266Z"
   },
   {
    "duration": 0,
    "start_time": "2024-08-29T19:10:46.267Z"
   },
   {
    "duration": 0,
    "start_time": "2024-08-29T19:10:46.268Z"
   },
   {
    "duration": 0,
    "start_time": "2024-08-29T19:10:46.269Z"
   },
   {
    "duration": 0,
    "start_time": "2024-08-29T19:10:46.270Z"
   },
   {
    "duration": 0,
    "start_time": "2024-08-29T19:10:46.271Z"
   },
   {
    "duration": 0,
    "start_time": "2024-08-29T19:10:46.272Z"
   },
   {
    "duration": 0,
    "start_time": "2024-08-29T19:10:46.274Z"
   },
   {
    "duration": 0,
    "start_time": "2024-08-29T19:10:46.275Z"
   },
   {
    "duration": 24961,
    "start_time": "2024-08-29T19:15:08.312Z"
   },
   {
    "duration": 5293,
    "start_time": "2024-08-29T19:15:33.276Z"
   },
   {
    "duration": 6,
    "start_time": "2024-08-29T19:15:38.571Z"
   },
   {
    "duration": 964,
    "start_time": "2024-08-29T19:15:38.579Z"
   },
   {
    "duration": 51,
    "start_time": "2024-08-29T19:15:39.545Z"
   },
   {
    "duration": 426,
    "start_time": "2024-08-29T19:15:39.598Z"
   },
   {
    "duration": 517,
    "start_time": "2024-08-29T19:15:40.026Z"
   },
   {
    "duration": 456,
    "start_time": "2024-08-29T19:15:40.546Z"
   },
   {
    "duration": 115,
    "start_time": "2024-08-29T19:15:41.003Z"
   },
   {
    "duration": 4,
    "start_time": "2024-08-29T19:15:41.120Z"
   },
   {
    "duration": 1304501,
    "start_time": "2024-08-29T19:15:41.126Z"
   },
   {
    "duration": 4,
    "start_time": "2024-08-29T19:37:25.629Z"
   },
   {
    "duration": 41,
    "start_time": "2024-08-29T19:37:25.635Z"
   },
   {
    "duration": 5594,
    "start_time": "2024-08-29T19:37:25.678Z"
   },
   {
    "duration": 7,
    "start_time": "2024-08-29T19:37:31.274Z"
   },
   {
    "duration": 902555,
    "start_time": "2024-08-29T19:37:31.282Z"
   },
   {
    "duration": 39,
    "start_time": "2024-08-29T19:52:33.839Z"
   },
   {
    "duration": 4733,
    "start_time": "2024-08-29T19:52:33.880Z"
   },
   {
    "duration": 4,
    "start_time": "2024-08-29T19:52:38.615Z"
   },
   {
    "duration": 80,
    "start_time": "2024-08-29T19:52:38.620Z"
   },
   {
    "duration": 4385,
    "start_time": "2024-08-29T19:52:38.702Z"
   },
   {
    "duration": 1586,
    "start_time": "2024-08-29T19:52:43.089Z"
   },
   {
    "duration": 491345,
    "start_time": "2024-08-29T19:52:44.678Z"
   },
   {
    "duration": 73,
    "start_time": "2024-08-29T20:00:56.025Z"
   },
   {
    "duration": 5,
    "start_time": "2024-08-29T20:00:56.100Z"
   },
   {
    "duration": 6,
    "start_time": "2024-08-29T20:00:56.107Z"
   },
   {
    "duration": 8,
    "start_time": "2024-08-29T20:00:56.115Z"
   },
   {
    "duration": 68001,
    "start_time": "2024-08-29T20:00:56.128Z"
   },
   {
    "duration": 2915,
    "start_time": "2024-08-29T20:02:04.131Z"
   },
   {
    "duration": 227,
    "start_time": "2024-08-29T20:02:07.048Z"
   },
   {
    "duration": 608,
    "start_time": "2024-08-29T20:02:07.278Z"
   },
   {
    "duration": 196165,
    "start_time": "2024-08-29T20:02:07.888Z"
   },
   {
    "duration": 71,
    "start_time": "2024-08-29T20:05:24.055Z"
   },
   {
    "duration": 13,
    "start_time": "2024-08-29T20:05:24.128Z"
   },
   {
    "duration": 20531,
    "start_time": "2024-08-29T20:31:09.670Z"
   },
   {
    "duration": 7654,
    "start_time": "2024-08-29T20:31:30.204Z"
   },
   {
    "duration": 12,
    "start_time": "2024-08-29T20:31:37.860Z"
   },
   {
    "duration": 1067,
    "start_time": "2024-08-29T20:31:37.874Z"
   },
   {
    "duration": 52,
    "start_time": "2024-08-29T20:31:38.943Z"
   },
   {
    "duration": 380,
    "start_time": "2024-08-29T20:31:38.997Z"
   },
   {
    "duration": 465,
    "start_time": "2024-08-29T20:31:39.378Z"
   },
   {
    "duration": 472,
    "start_time": "2024-08-29T20:31:39.845Z"
   },
   {
    "duration": 98,
    "start_time": "2024-08-29T20:31:40.318Z"
   },
   {
    "duration": 3,
    "start_time": "2024-08-29T20:31:40.418Z"
   },
   {
    "duration": 8086,
    "start_time": "2024-08-29T20:31:40.423Z"
   },
   {
    "duration": 0,
    "start_time": "2024-08-29T20:31:48.511Z"
   },
   {
    "duration": 0,
    "start_time": "2024-08-29T20:31:48.513Z"
   },
   {
    "duration": 0,
    "start_time": "2024-08-29T20:31:48.514Z"
   },
   {
    "duration": 0,
    "start_time": "2024-08-29T20:31:48.515Z"
   },
   {
    "duration": 0,
    "start_time": "2024-08-29T20:31:48.517Z"
   },
   {
    "duration": 0,
    "start_time": "2024-08-29T20:31:48.517Z"
   },
   {
    "duration": 0,
    "start_time": "2024-08-29T20:31:48.518Z"
   },
   {
    "duration": 0,
    "start_time": "2024-08-29T20:31:48.519Z"
   },
   {
    "duration": 0,
    "start_time": "2024-08-29T20:31:48.521Z"
   },
   {
    "duration": 0,
    "start_time": "2024-08-29T20:31:48.522Z"
   },
   {
    "duration": 1,
    "start_time": "2024-08-29T20:31:48.522Z"
   },
   {
    "duration": 0,
    "start_time": "2024-08-29T20:31:48.523Z"
   },
   {
    "duration": 0,
    "start_time": "2024-08-29T20:31:48.525Z"
   },
   {
    "duration": 0,
    "start_time": "2024-08-29T20:31:48.526Z"
   },
   {
    "duration": 0,
    "start_time": "2024-08-29T20:31:48.527Z"
   },
   {
    "duration": 0,
    "start_time": "2024-08-29T20:31:48.528Z"
   },
   {
    "duration": 0,
    "start_time": "2024-08-29T20:31:48.529Z"
   },
   {
    "duration": 0,
    "start_time": "2024-08-29T20:31:48.530Z"
   },
   {
    "duration": 0,
    "start_time": "2024-08-29T20:31:48.531Z"
   },
   {
    "duration": 0,
    "start_time": "2024-08-29T20:31:48.532Z"
   },
   {
    "duration": 0,
    "start_time": "2024-08-29T20:31:48.533Z"
   },
   {
    "duration": 0,
    "start_time": "2024-08-29T20:31:48.534Z"
   },
   {
    "duration": 0,
    "start_time": "2024-08-29T20:31:48.535Z"
   },
   {
    "duration": 22923,
    "start_time": "2024-08-29T20:32:48.202Z"
   },
   {
    "duration": 5021,
    "start_time": "2024-08-29T20:33:11.127Z"
   },
   {
    "duration": 7,
    "start_time": "2024-08-29T20:33:16.149Z"
   },
   {
    "duration": 958,
    "start_time": "2024-08-29T20:33:16.160Z"
   },
   {
    "duration": 54,
    "start_time": "2024-08-29T20:33:17.120Z"
   },
   {
    "duration": 360,
    "start_time": "2024-08-29T20:33:17.177Z"
   },
   {
    "duration": 435,
    "start_time": "2024-08-29T20:33:17.539Z"
   },
   {
    "duration": 410,
    "start_time": "2024-08-29T20:33:17.976Z"
   },
   {
    "duration": 97,
    "start_time": "2024-08-29T20:33:18.387Z"
   },
   {
    "duration": 3,
    "start_time": "2024-08-29T20:33:18.488Z"
   },
   {
    "duration": 1218,
    "start_time": "2024-08-29T20:33:18.492Z"
   },
   {
    "duration": 6,
    "start_time": "2024-08-29T20:33:19.712Z"
   },
   {
    "duration": 70,
    "start_time": "2024-08-29T20:33:19.720Z"
   },
   {
    "duration": 14,
    "start_time": "2024-08-29T20:33:19.792Z"
   },
   {
    "duration": 8,
    "start_time": "2024-08-29T20:33:19.808Z"
   },
   {
    "duration": 389,
    "start_time": "2024-08-29T20:33:19.818Z"
   },
   {
    "duration": 0,
    "start_time": "2024-08-29T20:33:20.209Z"
   },
   {
    "duration": 0,
    "start_time": "2024-08-29T20:33:20.210Z"
   },
   {
    "duration": 0,
    "start_time": "2024-08-29T20:33:20.211Z"
   },
   {
    "duration": 0,
    "start_time": "2024-08-29T20:33:20.212Z"
   },
   {
    "duration": 0,
    "start_time": "2024-08-29T20:33:20.213Z"
   },
   {
    "duration": 0,
    "start_time": "2024-08-29T20:33:20.214Z"
   },
   {
    "duration": 0,
    "start_time": "2024-08-29T20:33:20.215Z"
   },
   {
    "duration": 0,
    "start_time": "2024-08-29T20:33:20.216Z"
   },
   {
    "duration": 0,
    "start_time": "2024-08-29T20:33:20.217Z"
   },
   {
    "duration": 0,
    "start_time": "2024-08-29T20:33:20.219Z"
   },
   {
    "duration": 0,
    "start_time": "2024-08-29T20:33:20.219Z"
   },
   {
    "duration": 0,
    "start_time": "2024-08-29T20:33:20.220Z"
   },
   {
    "duration": 0,
    "start_time": "2024-08-29T20:33:20.222Z"
   },
   {
    "duration": 0,
    "start_time": "2024-08-29T20:33:20.223Z"
   },
   {
    "duration": 0,
    "start_time": "2024-08-29T20:33:20.224Z"
   },
   {
    "duration": 0,
    "start_time": "2024-08-29T20:33:20.225Z"
   },
   {
    "duration": 0,
    "start_time": "2024-08-29T20:33:20.226Z"
   },
   {
    "duration": 0,
    "start_time": "2024-08-29T20:33:20.227Z"
   },
   {
    "duration": 4,
    "start_time": "2024-08-29T20:36:06.671Z"
   },
   {
    "duration": 7,
    "start_time": "2024-08-29T20:36:20.836Z"
   },
   {
    "duration": 10,
    "start_time": "2024-08-29T20:36:33.036Z"
   },
   {
    "duration": 23126,
    "start_time": "2024-08-29T20:42:19.656Z"
   },
   {
    "duration": 5105,
    "start_time": "2024-08-29T20:42:42.784Z"
   },
   {
    "duration": 6,
    "start_time": "2024-08-29T20:42:47.891Z"
   },
   {
    "duration": 928,
    "start_time": "2024-08-29T20:42:47.899Z"
   },
   {
    "duration": 52,
    "start_time": "2024-08-29T20:42:48.829Z"
   },
   {
    "duration": 362,
    "start_time": "2024-08-29T20:42:48.883Z"
   },
   {
    "duration": 442,
    "start_time": "2024-08-29T20:42:49.247Z"
   },
   {
    "duration": 430,
    "start_time": "2024-08-29T20:42:49.691Z"
   },
   {
    "duration": 96,
    "start_time": "2024-08-29T20:42:50.123Z"
   },
   {
    "duration": 3,
    "start_time": "2024-08-29T20:42:50.222Z"
   },
   {
    "duration": 1374,
    "start_time": "2024-08-29T20:42:50.227Z"
   },
   {
    "duration": 6,
    "start_time": "2024-08-29T20:42:51.603Z"
   },
   {
    "duration": 37,
    "start_time": "2024-08-29T20:42:51.611Z"
   },
   {
    "duration": 11,
    "start_time": "2024-08-29T20:42:51.650Z"
   },
   {
    "duration": 5,
    "start_time": "2024-08-29T20:42:51.662Z"
   },
   {
    "duration": 17,
    "start_time": "2024-08-29T20:42:51.669Z"
   },
   {
    "duration": 425,
    "start_time": "2024-08-29T20:42:51.687Z"
   },
   {
    "duration": 0,
    "start_time": "2024-08-29T20:42:52.114Z"
   },
   {
    "duration": 0,
    "start_time": "2024-08-29T20:42:52.115Z"
   },
   {
    "duration": 0,
    "start_time": "2024-08-29T20:42:52.117Z"
   },
   {
    "duration": 0,
    "start_time": "2024-08-29T20:42:52.117Z"
   },
   {
    "duration": 0,
    "start_time": "2024-08-29T20:42:52.119Z"
   },
   {
    "duration": 0,
    "start_time": "2024-08-29T20:42:52.120Z"
   },
   {
    "duration": 0,
    "start_time": "2024-08-29T20:42:52.121Z"
   },
   {
    "duration": 0,
    "start_time": "2024-08-29T20:42:52.122Z"
   },
   {
    "duration": 0,
    "start_time": "2024-08-29T20:42:52.123Z"
   },
   {
    "duration": 0,
    "start_time": "2024-08-29T20:42:52.124Z"
   },
   {
    "duration": 0,
    "start_time": "2024-08-29T20:42:52.125Z"
   },
   {
    "duration": 0,
    "start_time": "2024-08-29T20:42:52.126Z"
   },
   {
    "duration": 0,
    "start_time": "2024-08-29T20:42:52.128Z"
   },
   {
    "duration": 0,
    "start_time": "2024-08-29T20:42:52.129Z"
   },
   {
    "duration": 0,
    "start_time": "2024-08-29T20:42:52.130Z"
   },
   {
    "duration": 0,
    "start_time": "2024-08-29T20:42:52.131Z"
   },
   {
    "duration": 0,
    "start_time": "2024-08-29T20:42:52.161Z"
   },
   {
    "duration": 0,
    "start_time": "2024-08-29T20:42:52.163Z"
   },
   {
    "duration": 5,
    "start_time": "2024-08-29T20:43:37.551Z"
   },
   {
    "duration": 9,
    "start_time": "2024-08-29T20:43:51.943Z"
   },
   {
    "duration": 22,
    "start_time": "2024-08-29T20:45:02.923Z"
   },
   {
    "duration": 26,
    "start_time": "2024-08-29T20:45:13.551Z"
   },
   {
    "duration": 21,
    "start_time": "2024-08-29T20:45:20.141Z"
   },
   {
    "duration": 22878,
    "start_time": "2024-08-29T20:47:56.714Z"
   },
   {
    "duration": 5045,
    "start_time": "2024-08-29T20:48:19.595Z"
   },
   {
    "duration": 6,
    "start_time": "2024-08-29T20:48:24.641Z"
   },
   {
    "duration": 928,
    "start_time": "2024-08-29T20:48:24.648Z"
   },
   {
    "duration": 45,
    "start_time": "2024-08-29T20:48:25.579Z"
   },
   {
    "duration": 375,
    "start_time": "2024-08-29T20:48:25.626Z"
   },
   {
    "duration": 457,
    "start_time": "2024-08-29T20:48:26.003Z"
   },
   {
    "duration": 418,
    "start_time": "2024-08-29T20:48:26.462Z"
   },
   {
    "duration": 103,
    "start_time": "2024-08-29T20:48:26.882Z"
   },
   {
    "duration": 3,
    "start_time": "2024-08-29T20:48:26.987Z"
   },
   {
    "duration": 1288,
    "start_time": "2024-08-29T20:48:26.992Z"
   },
   {
    "duration": 4,
    "start_time": "2024-08-29T20:48:28.283Z"
   },
   {
    "duration": 378,
    "start_time": "2024-08-29T20:48:28.289Z"
   },
   {
    "duration": 0,
    "start_time": "2024-08-29T20:48:28.669Z"
   },
   {
    "duration": 0,
    "start_time": "2024-08-29T20:48:28.670Z"
   },
   {
    "duration": 0,
    "start_time": "2024-08-29T20:48:28.672Z"
   },
   {
    "duration": 0,
    "start_time": "2024-08-29T20:48:28.673Z"
   },
   {
    "duration": 0,
    "start_time": "2024-08-29T20:48:28.673Z"
   },
   {
    "duration": 0,
    "start_time": "2024-08-29T20:48:28.675Z"
   },
   {
    "duration": 0,
    "start_time": "2024-08-29T20:48:28.676Z"
   },
   {
    "duration": 0,
    "start_time": "2024-08-29T20:48:28.677Z"
   },
   {
    "duration": 0,
    "start_time": "2024-08-29T20:48:28.678Z"
   },
   {
    "duration": 0,
    "start_time": "2024-08-29T20:48:28.679Z"
   },
   {
    "duration": 0,
    "start_time": "2024-08-29T20:48:28.681Z"
   },
   {
    "duration": 0,
    "start_time": "2024-08-29T20:48:28.682Z"
   },
   {
    "duration": 0,
    "start_time": "2024-08-29T20:48:28.682Z"
   },
   {
    "duration": 0,
    "start_time": "2024-08-29T20:48:28.683Z"
   },
   {
    "duration": 0,
    "start_time": "2024-08-29T20:48:28.685Z"
   },
   {
    "duration": 0,
    "start_time": "2024-08-29T20:48:28.686Z"
   },
   {
    "duration": 0,
    "start_time": "2024-08-29T20:48:28.687Z"
   },
   {
    "duration": 0,
    "start_time": "2024-08-29T20:48:28.688Z"
   },
   {
    "duration": 0,
    "start_time": "2024-08-29T20:48:28.689Z"
   },
   {
    "duration": 0,
    "start_time": "2024-08-29T20:48:28.690Z"
   },
   {
    "duration": 0,
    "start_time": "2024-08-29T20:48:28.691Z"
   },
   {
    "duration": 0,
    "start_time": "2024-08-29T20:48:28.692Z"
   },
   {
    "duration": 4,
    "start_time": "2024-08-29T20:49:00.746Z"
   },
   {
    "duration": 4,
    "start_time": "2024-08-29T20:50:07.801Z"
   },
   {
    "duration": 5,
    "start_time": "2024-08-29T20:51:13.087Z"
   },
   {
    "duration": 23121,
    "start_time": "2024-08-29T20:53:32.603Z"
   },
   {
    "duration": 5233,
    "start_time": "2024-08-29T20:53:55.726Z"
   },
   {
    "duration": 6,
    "start_time": "2024-08-29T20:54:00.961Z"
   },
   {
    "duration": 1011,
    "start_time": "2024-08-29T20:54:00.969Z"
   },
   {
    "duration": 51,
    "start_time": "2024-08-29T20:54:01.982Z"
   },
   {
    "duration": 380,
    "start_time": "2024-08-29T20:54:02.035Z"
   },
   {
    "duration": 446,
    "start_time": "2024-08-29T20:54:02.416Z"
   },
   {
    "duration": 456,
    "start_time": "2024-08-29T20:54:02.864Z"
   },
   {
    "duration": 101,
    "start_time": "2024-08-29T20:54:03.322Z"
   },
   {
    "duration": 4,
    "start_time": "2024-08-29T20:54:03.427Z"
   },
   {
    "duration": 1260,
    "start_time": "2024-08-29T20:54:03.433Z"
   },
   {
    "duration": 5,
    "start_time": "2024-08-29T20:54:04.695Z"
   },
   {
    "duration": 14,
    "start_time": "2024-08-29T20:54:04.703Z"
   },
   {
    "duration": 13,
    "start_time": "2024-08-29T20:54:04.719Z"
   },
   {
    "duration": 375,
    "start_time": "2024-08-29T20:54:04.734Z"
   },
   {
    "duration": 0,
    "start_time": "2024-08-29T20:54:05.112Z"
   },
   {
    "duration": 0,
    "start_time": "2024-08-29T20:54:05.114Z"
   },
   {
    "duration": 0,
    "start_time": "2024-08-29T20:54:05.115Z"
   },
   {
    "duration": 0,
    "start_time": "2024-08-29T20:54:05.117Z"
   },
   {
    "duration": 0,
    "start_time": "2024-08-29T20:54:05.118Z"
   },
   {
    "duration": 0,
    "start_time": "2024-08-29T20:54:05.120Z"
   },
   {
    "duration": 0,
    "start_time": "2024-08-29T20:54:05.122Z"
   },
   {
    "duration": 0,
    "start_time": "2024-08-29T20:54:05.123Z"
   },
   {
    "duration": 0,
    "start_time": "2024-08-29T20:54:05.125Z"
   },
   {
    "duration": 0,
    "start_time": "2024-08-29T20:54:05.127Z"
   },
   {
    "duration": 0,
    "start_time": "2024-08-29T20:54:05.128Z"
   },
   {
    "duration": 0,
    "start_time": "2024-08-29T20:54:05.129Z"
   },
   {
    "duration": 0,
    "start_time": "2024-08-29T20:54:05.131Z"
   },
   {
    "duration": 0,
    "start_time": "2024-08-29T20:54:05.161Z"
   },
   {
    "duration": 0,
    "start_time": "2024-08-29T20:54:05.162Z"
   },
   {
    "duration": 0,
    "start_time": "2024-08-29T20:54:05.165Z"
   },
   {
    "duration": 0,
    "start_time": "2024-08-29T20:54:05.167Z"
   },
   {
    "duration": 0,
    "start_time": "2024-08-29T20:54:05.169Z"
   },
   {
    "duration": 0,
    "start_time": "2024-08-29T20:54:05.170Z"
   },
   {
    "duration": 0,
    "start_time": "2024-08-29T20:54:05.172Z"
   },
   {
    "duration": 0,
    "start_time": "2024-08-29T20:54:05.174Z"
   },
   {
    "duration": 9,
    "start_time": "2024-08-29T20:54:52.531Z"
   },
   {
    "duration": 22503,
    "start_time": "2024-08-29T20:55:15.882Z"
   },
   {
    "duration": 4969,
    "start_time": "2024-08-29T20:55:38.387Z"
   },
   {
    "duration": 7,
    "start_time": "2024-08-29T20:55:43.357Z"
   },
   {
    "duration": 936,
    "start_time": "2024-08-29T20:55:43.366Z"
   },
   {
    "duration": 43,
    "start_time": "2024-08-29T20:55:44.304Z"
   },
   {
    "duration": 358,
    "start_time": "2024-08-29T20:55:44.349Z"
   },
   {
    "duration": 424,
    "start_time": "2024-08-29T20:55:44.708Z"
   },
   {
    "duration": 403,
    "start_time": "2024-08-29T20:55:45.134Z"
   },
   {
    "duration": 116,
    "start_time": "2024-08-29T20:55:45.560Z"
   },
   {
    "duration": 4,
    "start_time": "2024-08-29T20:55:45.679Z"
   },
   {
    "duration": 590,
    "start_time": "2024-08-29T20:55:45.684Z"
   },
   {
    "duration": 0,
    "start_time": "2024-08-29T20:55:46.276Z"
   },
   {
    "duration": 0,
    "start_time": "2024-08-29T20:55:46.278Z"
   },
   {
    "duration": 0,
    "start_time": "2024-08-29T20:55:46.279Z"
   },
   {
    "duration": 1,
    "start_time": "2024-08-29T20:55:46.280Z"
   },
   {
    "duration": 0,
    "start_time": "2024-08-29T20:55:46.282Z"
   },
   {
    "duration": 0,
    "start_time": "2024-08-29T20:55:46.283Z"
   },
   {
    "duration": 0,
    "start_time": "2024-08-29T20:55:46.285Z"
   },
   {
    "duration": 0,
    "start_time": "2024-08-29T20:55:46.286Z"
   },
   {
    "duration": 0,
    "start_time": "2024-08-29T20:55:46.287Z"
   },
   {
    "duration": 0,
    "start_time": "2024-08-29T20:55:46.288Z"
   },
   {
    "duration": 0,
    "start_time": "2024-08-29T20:55:46.290Z"
   },
   {
    "duration": 0,
    "start_time": "2024-08-29T20:55:46.291Z"
   },
   {
    "duration": 0,
    "start_time": "2024-08-29T20:55:46.292Z"
   },
   {
    "duration": 0,
    "start_time": "2024-08-29T20:55:46.294Z"
   },
   {
    "duration": 0,
    "start_time": "2024-08-29T20:55:46.295Z"
   },
   {
    "duration": 0,
    "start_time": "2024-08-29T20:55:46.296Z"
   },
   {
    "duration": 0,
    "start_time": "2024-08-29T20:55:46.297Z"
   },
   {
    "duration": 0,
    "start_time": "2024-08-29T20:55:46.298Z"
   },
   {
    "duration": 0,
    "start_time": "2024-08-29T20:55:46.299Z"
   },
   {
    "duration": 0,
    "start_time": "2024-08-29T20:55:46.300Z"
   },
   {
    "duration": 0,
    "start_time": "2024-08-29T20:55:46.301Z"
   },
   {
    "duration": 0,
    "start_time": "2024-08-29T20:55:46.302Z"
   },
   {
    "duration": 0,
    "start_time": "2024-08-29T20:55:46.303Z"
   },
   {
    "duration": 0,
    "start_time": "2024-08-29T20:55:46.304Z"
   },
   {
    "duration": 0,
    "start_time": "2024-08-29T20:55:46.306Z"
   },
   {
    "duration": 548,
    "start_time": "2024-08-29T20:59:30.734Z"
   },
   {
    "duration": 967,
    "start_time": "2024-08-29T20:59:51.510Z"
   },
   {
    "duration": 19,
    "start_time": "2024-08-29T20:59:56.156Z"
   },
   {
    "duration": 806,
    "start_time": "2024-08-29T21:00:12.453Z"
   },
   {
    "duration": 5,
    "start_time": "2024-08-29T21:00:16.801Z"
   },
   {
    "duration": 6,
    "start_time": "2024-08-29T21:00:33.467Z"
   },
   {
    "duration": 5,
    "start_time": "2024-08-29T21:00:37.123Z"
   },
   {
    "duration": 866,
    "start_time": "2024-08-29T21:01:04.183Z"
   },
   {
    "duration": 4,
    "start_time": "2024-08-29T21:01:07.895Z"
   },
   {
    "duration": 6,
    "start_time": "2024-08-29T21:01:09.078Z"
   },
   {
    "duration": 8,
    "start_time": "2024-08-29T21:01:12.949Z"
   },
   {
    "duration": 20,
    "start_time": "2024-08-29T21:01:42.317Z"
   },
   {
    "duration": 20,
    "start_time": "2024-08-29T21:01:49.030Z"
   },
   {
    "duration": 22675,
    "start_time": "2024-08-29T21:04:35.416Z"
   },
   {
    "duration": 5106,
    "start_time": "2024-08-29T21:04:58.094Z"
   },
   {
    "duration": 6,
    "start_time": "2024-08-29T21:05:03.201Z"
   },
   {
    "duration": 971,
    "start_time": "2024-08-29T21:05:03.209Z"
   },
   {
    "duration": 46,
    "start_time": "2024-08-29T21:05:04.181Z"
   },
   {
    "duration": 364,
    "start_time": "2024-08-29T21:05:04.229Z"
   },
   {
    "duration": 424,
    "start_time": "2024-08-29T21:05:04.595Z"
   },
   {
    "duration": 380,
    "start_time": "2024-08-29T21:05:05.021Z"
   },
   {
    "duration": 104,
    "start_time": "2024-08-29T21:05:05.403Z"
   },
   {
    "duration": 4,
    "start_time": "2024-08-29T21:05:05.510Z"
   },
   {
    "duration": 50,
    "start_time": "2024-08-29T21:05:05.515Z"
   },
   {
    "duration": 8197,
    "start_time": "2024-08-29T21:05:05.567Z"
   },
   {
    "duration": 0,
    "start_time": "2024-08-29T21:05:13.766Z"
   },
   {
    "duration": 0,
    "start_time": "2024-08-29T21:05:13.768Z"
   },
   {
    "duration": 0,
    "start_time": "2024-08-29T21:05:13.769Z"
   },
   {
    "duration": 0,
    "start_time": "2024-08-29T21:05:13.771Z"
   },
   {
    "duration": 0,
    "start_time": "2024-08-29T21:05:13.772Z"
   },
   {
    "duration": 0,
    "start_time": "2024-08-29T21:05:13.774Z"
   },
   {
    "duration": 0,
    "start_time": "2024-08-29T21:05:13.776Z"
   },
   {
    "duration": 0,
    "start_time": "2024-08-29T21:05:13.778Z"
   },
   {
    "duration": 0,
    "start_time": "2024-08-29T21:05:13.780Z"
   },
   {
    "duration": 1,
    "start_time": "2024-08-29T21:05:13.781Z"
   },
   {
    "duration": 0,
    "start_time": "2024-08-29T21:05:13.783Z"
   },
   {
    "duration": 0,
    "start_time": "2024-08-29T21:05:13.785Z"
   },
   {
    "duration": 0,
    "start_time": "2024-08-29T21:05:13.787Z"
   },
   {
    "duration": 0,
    "start_time": "2024-08-29T21:05:13.788Z"
   },
   {
    "duration": 0,
    "start_time": "2024-08-29T21:05:13.789Z"
   },
   {
    "duration": 0,
    "start_time": "2024-08-29T21:05:13.790Z"
   },
   {
    "duration": 0,
    "start_time": "2024-08-29T21:05:13.791Z"
   },
   {
    "duration": 0,
    "start_time": "2024-08-29T21:05:13.792Z"
   },
   {
    "duration": 0,
    "start_time": "2024-08-29T21:05:13.794Z"
   },
   {
    "duration": 0,
    "start_time": "2024-08-29T21:05:13.795Z"
   },
   {
    "duration": 0,
    "start_time": "2024-08-29T21:05:13.796Z"
   },
   {
    "duration": 0,
    "start_time": "2024-08-29T21:05:13.797Z"
   },
   {
    "duration": 0,
    "start_time": "2024-08-29T21:05:13.798Z"
   },
   {
    "duration": 0,
    "start_time": "2024-08-29T21:05:13.800Z"
   },
   {
    "duration": 22194,
    "start_time": "2024-08-29T21:06:09.287Z"
   },
   {
    "duration": 4965,
    "start_time": "2024-08-29T21:06:31.485Z"
   },
   {
    "duration": 9,
    "start_time": "2024-08-29T21:06:36.452Z"
   },
   {
    "duration": 916,
    "start_time": "2024-08-29T21:06:36.462Z"
   },
   {
    "duration": 44,
    "start_time": "2024-08-29T21:06:37.380Z"
   },
   {
    "duration": 375,
    "start_time": "2024-08-29T21:06:37.426Z"
   },
   {
    "duration": 421,
    "start_time": "2024-08-29T21:06:37.802Z"
   },
   {
    "duration": 366,
    "start_time": "2024-08-29T21:06:38.225Z"
   },
   {
    "duration": 97,
    "start_time": "2024-08-29T21:06:38.592Z"
   },
   {
    "duration": 4,
    "start_time": "2024-08-29T21:06:38.690Z"
   },
   {
    "duration": 382,
    "start_time": "2024-08-29T21:06:38.695Z"
   },
   {
    "duration": 0,
    "start_time": "2024-08-29T21:06:39.079Z"
   },
   {
    "duration": 0,
    "start_time": "2024-08-29T21:06:39.080Z"
   },
   {
    "duration": 0,
    "start_time": "2024-08-29T21:06:39.082Z"
   },
   {
    "duration": 0,
    "start_time": "2024-08-29T21:06:39.083Z"
   },
   {
    "duration": 0,
    "start_time": "2024-08-29T21:06:39.083Z"
   },
   {
    "duration": 0,
    "start_time": "2024-08-29T21:06:39.084Z"
   },
   {
    "duration": 0,
    "start_time": "2024-08-29T21:06:39.086Z"
   },
   {
    "duration": 0,
    "start_time": "2024-08-29T21:06:39.087Z"
   },
   {
    "duration": 0,
    "start_time": "2024-08-29T21:06:39.088Z"
   },
   {
    "duration": 0,
    "start_time": "2024-08-29T21:06:39.089Z"
   },
   {
    "duration": 0,
    "start_time": "2024-08-29T21:06:39.090Z"
   },
   {
    "duration": 0,
    "start_time": "2024-08-29T21:06:39.091Z"
   },
   {
    "duration": 0,
    "start_time": "2024-08-29T21:06:39.092Z"
   },
   {
    "duration": 0,
    "start_time": "2024-08-29T21:06:39.093Z"
   },
   {
    "duration": 0,
    "start_time": "2024-08-29T21:06:39.094Z"
   },
   {
    "duration": 0,
    "start_time": "2024-08-29T21:06:39.095Z"
   },
   {
    "duration": 0,
    "start_time": "2024-08-29T21:06:39.096Z"
   },
   {
    "duration": 0,
    "start_time": "2024-08-29T21:06:39.098Z"
   },
   {
    "duration": 0,
    "start_time": "2024-08-29T21:06:39.099Z"
   },
   {
    "duration": 0,
    "start_time": "2024-08-29T21:06:39.100Z"
   },
   {
    "duration": 0,
    "start_time": "2024-08-29T21:06:39.101Z"
   },
   {
    "duration": 0,
    "start_time": "2024-08-29T21:06:39.102Z"
   },
   {
    "duration": 0,
    "start_time": "2024-08-29T21:06:39.103Z"
   },
   {
    "duration": 0,
    "start_time": "2024-08-29T21:06:39.104Z"
   },
   {
    "duration": 0,
    "start_time": "2024-08-29T21:06:39.105Z"
   },
   {
    "duration": 0,
    "start_time": "2024-08-29T21:06:39.106Z"
   },
   {
    "duration": 0,
    "start_time": "2024-08-29T21:06:39.107Z"
   },
   {
    "duration": 22521,
    "start_time": "2024-08-29T21:08:50.981Z"
   },
   {
    "duration": 4945,
    "start_time": "2024-08-29T21:09:13.505Z"
   },
   {
    "duration": 10,
    "start_time": "2024-08-29T21:09:18.452Z"
   },
   {
    "duration": 904,
    "start_time": "2024-08-29T21:09:18.464Z"
   },
   {
    "duration": 57,
    "start_time": "2024-08-29T21:09:19.370Z"
   },
   {
    "duration": 408,
    "start_time": "2024-08-29T21:09:19.428Z"
   },
   {
    "duration": 427,
    "start_time": "2024-08-29T21:09:19.838Z"
   },
   {
    "duration": 412,
    "start_time": "2024-08-29T21:09:20.267Z"
   },
   {
    "duration": 100,
    "start_time": "2024-08-29T21:09:20.681Z"
   },
   {
    "duration": 4,
    "start_time": "2024-08-29T21:09:20.783Z"
   },
   {
    "duration": 333,
    "start_time": "2024-08-29T21:09:20.789Z"
   },
   {
    "duration": 0,
    "start_time": "2024-08-29T21:09:21.124Z"
   },
   {
    "duration": 0,
    "start_time": "2024-08-29T21:09:21.125Z"
   },
   {
    "duration": 0,
    "start_time": "2024-08-29T21:09:21.126Z"
   },
   {
    "duration": 0,
    "start_time": "2024-08-29T21:09:21.127Z"
   },
   {
    "duration": 0,
    "start_time": "2024-08-29T21:09:21.128Z"
   },
   {
    "duration": 0,
    "start_time": "2024-08-29T21:09:21.129Z"
   },
   {
    "duration": 0,
    "start_time": "2024-08-29T21:09:21.130Z"
   },
   {
    "duration": 0,
    "start_time": "2024-08-29T21:09:21.132Z"
   },
   {
    "duration": 0,
    "start_time": "2024-08-29T21:09:21.133Z"
   },
   {
    "duration": 0,
    "start_time": "2024-08-29T21:09:21.134Z"
   },
   {
    "duration": 0,
    "start_time": "2024-08-29T21:09:21.135Z"
   },
   {
    "duration": 0,
    "start_time": "2024-08-29T21:09:21.136Z"
   },
   {
    "duration": 0,
    "start_time": "2024-08-29T21:09:21.137Z"
   },
   {
    "duration": 0,
    "start_time": "2024-08-29T21:09:21.160Z"
   },
   {
    "duration": 0,
    "start_time": "2024-08-29T21:09:21.161Z"
   },
   {
    "duration": 0,
    "start_time": "2024-08-29T21:09:21.163Z"
   },
   {
    "duration": 0,
    "start_time": "2024-08-29T21:09:21.164Z"
   },
   {
    "duration": 0,
    "start_time": "2024-08-29T21:09:21.165Z"
   },
   {
    "duration": 0,
    "start_time": "2024-08-29T21:09:21.166Z"
   },
   {
    "duration": 0,
    "start_time": "2024-08-29T21:09:21.167Z"
   },
   {
    "duration": 0,
    "start_time": "2024-08-29T21:09:21.168Z"
   },
   {
    "duration": 0,
    "start_time": "2024-08-29T21:09:21.170Z"
   },
   {
    "duration": 0,
    "start_time": "2024-08-29T21:09:21.171Z"
   },
   {
    "duration": 0,
    "start_time": "2024-08-29T21:09:21.172Z"
   },
   {
    "duration": 0,
    "start_time": "2024-08-29T21:09:21.174Z"
   },
   {
    "duration": 0,
    "start_time": "2024-08-29T21:09:21.175Z"
   },
   {
    "duration": 0,
    "start_time": "2024-08-29T21:09:21.177Z"
   },
   {
    "duration": 22546,
    "start_time": "2024-08-29T21:10:30.549Z"
   },
   {
    "duration": 5083,
    "start_time": "2024-08-29T21:10:53.098Z"
   },
   {
    "duration": 6,
    "start_time": "2024-08-29T21:10:58.183Z"
   },
   {
    "duration": 921,
    "start_time": "2024-08-29T21:10:58.191Z"
   },
   {
    "duration": 55,
    "start_time": "2024-08-29T21:10:59.114Z"
   },
   {
    "duration": 352,
    "start_time": "2024-08-29T21:10:59.170Z"
   },
   {
    "duration": 475,
    "start_time": "2024-08-29T21:10:59.524Z"
   },
   {
    "duration": 394,
    "start_time": "2024-08-29T21:11:00.001Z"
   },
   {
    "duration": 101,
    "start_time": "2024-08-29T21:11:00.397Z"
   },
   {
    "duration": 4,
    "start_time": "2024-08-29T21:11:00.500Z"
   },
   {
    "duration": 84,
    "start_time": "2024-08-29T21:11:00.506Z"
   },
   {
    "duration": 0,
    "start_time": "2024-08-29T21:11:00.593Z"
   },
   {
    "duration": 0,
    "start_time": "2024-08-29T21:11:00.594Z"
   },
   {
    "duration": 0,
    "start_time": "2024-08-29T21:11:00.595Z"
   },
   {
    "duration": 0,
    "start_time": "2024-08-29T21:11:00.596Z"
   },
   {
    "duration": 0,
    "start_time": "2024-08-29T21:11:00.597Z"
   },
   {
    "duration": 0,
    "start_time": "2024-08-29T21:11:00.599Z"
   },
   {
    "duration": 0,
    "start_time": "2024-08-29T21:11:00.600Z"
   },
   {
    "duration": 0,
    "start_time": "2024-08-29T21:11:00.601Z"
   },
   {
    "duration": 0,
    "start_time": "2024-08-29T21:11:00.602Z"
   },
   {
    "duration": 0,
    "start_time": "2024-08-29T21:11:00.603Z"
   },
   {
    "duration": 0,
    "start_time": "2024-08-29T21:11:00.604Z"
   },
   {
    "duration": 0,
    "start_time": "2024-08-29T21:11:00.606Z"
   },
   {
    "duration": 0,
    "start_time": "2024-08-29T21:11:00.607Z"
   },
   {
    "duration": 0,
    "start_time": "2024-08-29T21:11:00.609Z"
   },
   {
    "duration": 1,
    "start_time": "2024-08-29T21:11:00.610Z"
   },
   {
    "duration": 0,
    "start_time": "2024-08-29T21:11:00.612Z"
   },
   {
    "duration": 0,
    "start_time": "2024-08-29T21:11:00.613Z"
   },
   {
    "duration": 0,
    "start_time": "2024-08-29T21:11:00.615Z"
   },
   {
    "duration": 0,
    "start_time": "2024-08-29T21:11:00.616Z"
   },
   {
    "duration": 0,
    "start_time": "2024-08-29T21:11:00.617Z"
   },
   {
    "duration": 0,
    "start_time": "2024-08-29T21:11:00.619Z"
   },
   {
    "duration": 0,
    "start_time": "2024-08-29T21:11:00.620Z"
   },
   {
    "duration": 0,
    "start_time": "2024-08-29T21:11:00.622Z"
   },
   {
    "duration": 0,
    "start_time": "2024-08-29T21:11:00.624Z"
   },
   {
    "duration": 0,
    "start_time": "2024-08-29T21:11:00.625Z"
   },
   {
    "duration": 0,
    "start_time": "2024-08-29T21:11:00.627Z"
   },
   {
    "duration": 0,
    "start_time": "2024-08-29T21:11:00.628Z"
   },
   {
    "duration": 54,
    "start_time": "2024-08-29T21:12:01.497Z"
   },
   {
    "duration": 22520,
    "start_time": "2024-08-29T21:12:13.126Z"
   },
   {
    "duration": 4940,
    "start_time": "2024-08-29T21:12:35.648Z"
   },
   {
    "duration": 7,
    "start_time": "2024-08-29T21:12:40.589Z"
   },
   {
    "duration": 947,
    "start_time": "2024-08-29T21:12:40.598Z"
   },
   {
    "duration": 49,
    "start_time": "2024-08-29T21:12:41.548Z"
   },
   {
    "duration": 364,
    "start_time": "2024-08-29T21:12:41.599Z"
   },
   {
    "duration": 430,
    "start_time": "2024-08-29T21:12:41.965Z"
   },
   {
    "duration": 393,
    "start_time": "2024-08-29T21:12:42.397Z"
   },
   {
    "duration": 102,
    "start_time": "2024-08-29T21:12:42.791Z"
   },
   {
    "duration": 4,
    "start_time": "2024-08-29T21:12:42.894Z"
   },
   {
    "duration": 57,
    "start_time": "2024-08-29T21:12:42.900Z"
   },
   {
    "duration": 1229473,
    "start_time": "2024-08-29T21:12:42.959Z"
   },
   {
    "duration": 5,
    "start_time": "2024-08-29T21:33:12.433Z"
   },
   {
    "duration": 45,
    "start_time": "2024-08-29T21:33:12.441Z"
   },
   {
    "duration": 8,
    "start_time": "2024-08-29T21:33:12.487Z"
   },
   {
    "duration": 7,
    "start_time": "2024-08-29T21:33:12.497Z"
   },
   {
    "duration": 5249,
    "start_time": "2024-08-29T21:33:12.505Z"
   },
   {
    "duration": 6,
    "start_time": "2024-08-29T21:33:17.755Z"
   },
   {
    "duration": 14,
    "start_time": "2024-08-29T21:33:17.763Z"
   },
   {
    "duration": 23151,
    "start_time": "2024-08-29T21:36:38.588Z"
   },
   {
    "duration": 5033,
    "start_time": "2024-08-29T21:37:01.741Z"
   },
   {
    "duration": 5,
    "start_time": "2024-08-29T21:37:06.776Z"
   },
   {
    "duration": 958,
    "start_time": "2024-08-29T21:37:06.782Z"
   },
   {
    "duration": 48,
    "start_time": "2024-08-29T21:37:07.742Z"
   },
   {
    "duration": 368,
    "start_time": "2024-08-29T21:37:07.791Z"
   },
   {
    "duration": 422,
    "start_time": "2024-08-29T21:37:08.161Z"
   },
   {
    "duration": 397,
    "start_time": "2024-08-29T21:37:08.585Z"
   },
   {
    "duration": 95,
    "start_time": "2024-08-29T21:37:08.983Z"
   },
   {
    "duration": 4,
    "start_time": "2024-08-29T21:37:09.079Z"
   },
   {
    "duration": 8,
    "start_time": "2024-08-29T21:37:09.085Z"
   },
   {
    "duration": 1164,
    "start_time": "2024-08-29T21:37:09.095Z"
   },
   {
    "duration": 4,
    "start_time": "2024-08-29T21:37:10.261Z"
   },
   {
    "duration": 33,
    "start_time": "2024-08-29T21:37:10.267Z"
   },
   {
    "duration": 21,
    "start_time": "2024-08-29T21:37:10.302Z"
   },
   {
    "duration": 21,
    "start_time": "2024-08-29T21:37:10.325Z"
   },
   {
    "duration": 2333,
    "start_time": "2024-08-29T21:37:10.348Z"
   },
   {
    "duration": 0,
    "start_time": "2024-08-29T21:37:12.683Z"
   },
   {
    "duration": 0,
    "start_time": "2024-08-29T21:37:12.685Z"
   },
   {
    "duration": 0,
    "start_time": "2024-08-29T21:37:12.686Z"
   },
   {
    "duration": 0,
    "start_time": "2024-08-29T21:37:12.687Z"
   },
   {
    "duration": 0,
    "start_time": "2024-08-29T21:37:12.688Z"
   },
   {
    "duration": 0,
    "start_time": "2024-08-29T21:37:12.690Z"
   },
   {
    "duration": 0,
    "start_time": "2024-08-29T21:37:12.691Z"
   },
   {
    "duration": 0,
    "start_time": "2024-08-29T21:37:12.692Z"
   },
   {
    "duration": 0,
    "start_time": "2024-08-29T21:37:12.693Z"
   },
   {
    "duration": 0,
    "start_time": "2024-08-29T21:37:12.695Z"
   },
   {
    "duration": 0,
    "start_time": "2024-08-29T21:37:12.695Z"
   },
   {
    "duration": 0,
    "start_time": "2024-08-29T21:37:12.696Z"
   },
   {
    "duration": 0,
    "start_time": "2024-08-29T21:37:12.698Z"
   },
   {
    "duration": 0,
    "start_time": "2024-08-29T21:37:12.699Z"
   },
   {
    "duration": 0,
    "start_time": "2024-08-29T21:37:12.700Z"
   },
   {
    "duration": 0,
    "start_time": "2024-08-29T21:37:12.701Z"
   },
   {
    "duration": 0,
    "start_time": "2024-08-29T21:37:12.702Z"
   },
   {
    "duration": 0,
    "start_time": "2024-08-29T21:37:12.703Z"
   },
   {
    "duration": 0,
    "start_time": "2024-08-29T21:37:12.704Z"
   },
   {
    "duration": 0,
    "start_time": "2024-08-29T21:37:12.767Z"
   },
   {
    "duration": 0,
    "start_time": "2024-08-29T21:37:12.768Z"
   },
   {
    "duration": 21,
    "start_time": "2024-08-29T21:38:36.726Z"
   },
   {
    "duration": 94,
    "start_time": "2024-08-29T21:39:13.394Z"
   },
   {
    "duration": 26,
    "start_time": "2024-08-29T21:39:27.311Z"
   },
   {
    "duration": 5,
    "start_time": "2024-08-29T21:39:45.146Z"
   },
   {
    "duration": 4,
    "start_time": "2024-08-29T21:40:20.327Z"
   },
   {
    "duration": 21,
    "start_time": "2024-08-29T21:41:37.350Z"
   },
   {
    "duration": 10,
    "start_time": "2024-08-29T21:42:24.818Z"
   },
   {
    "duration": 4,
    "start_time": "2024-08-29T21:42:37.142Z"
   },
   {
    "duration": 22,
    "start_time": "2024-08-29T21:42:59.793Z"
   },
   {
    "duration": 29,
    "start_time": "2024-08-29T21:43:06.291Z"
   },
   {
    "duration": 23,
    "start_time": "2024-08-29T21:43:27.388Z"
   },
   {
    "duration": 28,
    "start_time": "2024-08-29T21:44:41.770Z"
   },
   {
    "duration": 37,
    "start_time": "2024-08-29T21:44:53.834Z"
   },
   {
    "duration": 28,
    "start_time": "2024-08-29T21:45:00.957Z"
   },
   {
    "duration": 16215,
    "start_time": "2024-08-29T21:46:21.690Z"
   },
   {
    "duration": 6729,
    "start_time": "2024-08-29T21:46:37.908Z"
   },
   {
    "duration": 5,
    "start_time": "2024-08-29T21:46:44.639Z"
   },
   {
    "duration": 932,
    "start_time": "2024-08-29T21:46:44.646Z"
   },
   {
    "duration": 48,
    "start_time": "2024-08-29T21:46:45.579Z"
   },
   {
    "duration": 384,
    "start_time": "2024-08-29T21:46:45.628Z"
   },
   {
    "duration": 446,
    "start_time": "2024-08-29T21:46:46.014Z"
   },
   {
    "duration": 411,
    "start_time": "2024-08-29T21:46:46.462Z"
   },
   {
    "duration": 96,
    "start_time": "2024-08-29T21:46:46.875Z"
   },
   {
    "duration": 4,
    "start_time": "2024-08-29T21:46:46.974Z"
   },
   {
    "duration": 52,
    "start_time": "2024-08-29T21:46:46.980Z"
   },
   {
    "duration": 5,
    "start_time": "2024-08-29T21:46:55.873Z"
   },
   {
    "duration": 107,
    "start_time": "2024-08-29T21:46:55.879Z"
   },
   {
    "duration": 0,
    "start_time": "2024-08-29T21:46:55.988Z"
   },
   {
    "duration": 0,
    "start_time": "2024-08-29T21:46:55.989Z"
   },
   {
    "duration": 0,
    "start_time": "2024-08-29T21:46:55.991Z"
   },
   {
    "duration": 0,
    "start_time": "2024-08-29T21:46:55.992Z"
   },
   {
    "duration": 0,
    "start_time": "2024-08-29T21:46:55.993Z"
   },
   {
    "duration": 0,
    "start_time": "2024-08-29T21:46:55.995Z"
   },
   {
    "duration": 0,
    "start_time": "2024-08-29T21:46:55.996Z"
   },
   {
    "duration": 0,
    "start_time": "2024-08-29T21:46:55.997Z"
   },
   {
    "duration": 0,
    "start_time": "2024-08-29T21:46:55.998Z"
   },
   {
    "duration": 0,
    "start_time": "2024-08-29T21:46:55.999Z"
   },
   {
    "duration": 0,
    "start_time": "2024-08-29T21:46:56.000Z"
   },
   {
    "duration": 0,
    "start_time": "2024-08-29T21:46:56.001Z"
   },
   {
    "duration": 0,
    "start_time": "2024-08-29T21:46:56.003Z"
   },
   {
    "duration": 0,
    "start_time": "2024-08-29T21:46:56.004Z"
   },
   {
    "duration": 0,
    "start_time": "2024-08-29T21:46:56.005Z"
   },
   {
    "duration": 0,
    "start_time": "2024-08-29T21:46:56.007Z"
   },
   {
    "duration": 0,
    "start_time": "2024-08-29T21:46:56.008Z"
   },
   {
    "duration": 0,
    "start_time": "2024-08-29T21:46:56.009Z"
   },
   {
    "duration": 0,
    "start_time": "2024-08-29T21:46:56.011Z"
   },
   {
    "duration": 0,
    "start_time": "2024-08-29T21:46:56.012Z"
   },
   {
    "duration": 0,
    "start_time": "2024-08-29T21:46:56.014Z"
   },
   {
    "duration": 0,
    "start_time": "2024-08-29T21:46:56.015Z"
   },
   {
    "duration": 0,
    "start_time": "2024-08-29T21:46:56.016Z"
   },
   {
    "duration": 22822,
    "start_time": "2024-08-29T21:47:05.563Z"
   },
   {
    "duration": 5008,
    "start_time": "2024-08-29T21:47:28.388Z"
   },
   {
    "duration": 7,
    "start_time": "2024-08-29T21:47:33.397Z"
   },
   {
    "duration": 970,
    "start_time": "2024-08-29T21:47:33.406Z"
   },
   {
    "duration": 48,
    "start_time": "2024-08-29T21:47:34.377Z"
   },
   {
    "duration": 357,
    "start_time": "2024-08-29T21:47:34.426Z"
   },
   {
    "duration": 446,
    "start_time": "2024-08-29T21:47:34.785Z"
   },
   {
    "duration": 403,
    "start_time": "2024-08-29T21:47:35.232Z"
   },
   {
    "duration": 104,
    "start_time": "2024-08-29T21:47:35.637Z"
   },
   {
    "duration": 4,
    "start_time": "2024-08-29T21:47:35.743Z"
   },
   {
    "duration": 131,
    "start_time": "2024-08-29T21:47:35.749Z"
   },
   {
    "duration": 1251557,
    "start_time": "2024-08-29T21:47:35.882Z"
   },
   {
    "duration": 3,
    "start_time": "2024-08-29T22:08:27.441Z"
   },
   {
    "duration": 33,
    "start_time": "2024-08-29T22:08:27.446Z"
   },
   {
    "duration": 10,
    "start_time": "2024-08-29T22:08:27.481Z"
   },
   {
    "duration": 5249,
    "start_time": "2024-08-29T22:08:27.493Z"
   },
   {
    "duration": 5,
    "start_time": "2024-08-29T22:08:32.744Z"
   },
   {
    "duration": 32,
    "start_time": "2024-08-29T22:08:32.750Z"
   },
   {
    "duration": 382,
    "start_time": "2024-08-29T22:08:32.784Z"
   },
   {
    "duration": 0,
    "start_time": "2024-08-29T22:08:33.168Z"
   },
   {
    "duration": 0,
    "start_time": "2024-08-29T22:08:33.169Z"
   },
   {
    "duration": 0,
    "start_time": "2024-08-29T22:08:33.170Z"
   },
   {
    "duration": 0,
    "start_time": "2024-08-29T22:08:33.171Z"
   },
   {
    "duration": 0,
    "start_time": "2024-08-29T22:08:33.172Z"
   },
   {
    "duration": 0,
    "start_time": "2024-08-29T22:08:33.173Z"
   },
   {
    "duration": 0,
    "start_time": "2024-08-29T22:08:33.174Z"
   },
   {
    "duration": 0,
    "start_time": "2024-08-29T22:08:33.175Z"
   },
   {
    "duration": 0,
    "start_time": "2024-08-29T22:08:33.176Z"
   },
   {
    "duration": 0,
    "start_time": "2024-08-29T22:08:33.177Z"
   },
   {
    "duration": 0,
    "start_time": "2024-08-29T22:08:33.179Z"
   },
   {
    "duration": 0,
    "start_time": "2024-08-29T22:08:33.180Z"
   },
   {
    "duration": 0,
    "start_time": "2024-08-29T22:08:33.181Z"
   },
   {
    "duration": 0,
    "start_time": "2024-08-29T22:08:33.183Z"
   },
   {
    "duration": 0,
    "start_time": "2024-08-29T22:08:33.184Z"
   },
   {
    "duration": 0,
    "start_time": "2024-08-29T22:08:33.185Z"
   },
   {
    "duration": 0,
    "start_time": "2024-08-29T22:08:33.187Z"
   },
   {
    "duration": 0,
    "start_time": "2024-08-29T22:08:33.188Z"
   },
   {
    "duration": 23238,
    "start_time": "2024-08-29T22:13:15.109Z"
   },
   {
    "duration": 5142,
    "start_time": "2024-08-29T22:13:38.350Z"
   },
   {
    "duration": 6,
    "start_time": "2024-08-29T22:13:43.493Z"
   },
   {
    "duration": 925,
    "start_time": "2024-08-29T22:13:43.501Z"
   },
   {
    "duration": 60,
    "start_time": "2024-08-29T22:13:44.427Z"
   },
   {
    "duration": 351,
    "start_time": "2024-08-29T22:13:44.490Z"
   },
   {
    "duration": 428,
    "start_time": "2024-08-29T22:13:44.843Z"
   },
   {
    "duration": 459,
    "start_time": "2024-08-29T22:13:45.272Z"
   },
   {
    "duration": 97,
    "start_time": "2024-08-29T22:13:45.732Z"
   },
   {
    "duration": 5,
    "start_time": "2024-08-29T22:13:45.831Z"
   },
   {
    "duration": 42,
    "start_time": "2024-08-29T22:13:45.837Z"
   },
   {
    "duration": 1247253,
    "start_time": "2024-08-29T22:13:45.881Z"
   },
   {
    "duration": 4,
    "start_time": "2024-08-29T22:34:33.136Z"
   },
   {
    "duration": 69,
    "start_time": "2024-08-29T22:34:33.142Z"
   },
   {
    "duration": 23,
    "start_time": "2024-08-29T22:34:33.213Z"
   },
   {
    "duration": 5246,
    "start_time": "2024-08-29T22:34:33.238Z"
   },
   {
    "duration": 5,
    "start_time": "2024-08-29T22:34:38.486Z"
   },
   {
    "duration": 22,
    "start_time": "2024-08-29T22:34:38.492Z"
   },
   {
    "duration": 23205,
    "start_time": "2024-08-29T22:52:24.229Z"
   },
   {
    "duration": 5061,
    "start_time": "2024-08-29T22:52:47.437Z"
   },
   {
    "duration": 7,
    "start_time": "2024-08-29T22:52:52.500Z"
   },
   {
    "duration": 972,
    "start_time": "2024-08-29T22:52:52.509Z"
   },
   {
    "duration": 47,
    "start_time": "2024-08-29T22:52:53.483Z"
   },
   {
    "duration": 347,
    "start_time": "2024-08-29T22:52:53.532Z"
   },
   {
    "duration": 433,
    "start_time": "2024-08-29T22:52:53.882Z"
   },
   {
    "duration": 404,
    "start_time": "2024-08-29T22:52:54.317Z"
   },
   {
    "duration": 97,
    "start_time": "2024-08-29T22:52:54.723Z"
   },
   {
    "duration": 4,
    "start_time": "2024-08-29T22:52:54.823Z"
   },
   {
    "duration": 7,
    "start_time": "2024-08-29T22:52:54.828Z"
   },
   {
    "duration": 1316,
    "start_time": "2024-08-29T22:52:54.837Z"
   },
   {
    "duration": 4,
    "start_time": "2024-08-29T22:52:56.155Z"
   },
   {
    "duration": 23,
    "start_time": "2024-08-29T22:52:56.161Z"
   },
   {
    "duration": 7,
    "start_time": "2024-08-29T22:52:56.186Z"
   },
   {
    "duration": 5337,
    "start_time": "2024-08-29T22:52:56.195Z"
   },
   {
    "duration": 5,
    "start_time": "2024-08-29T22:53:01.534Z"
   },
   {
    "duration": 21,
    "start_time": "2024-08-29T22:53:01.541Z"
   },
   {
    "duration": 422,
    "start_time": "2024-08-29T22:53:01.564Z"
   },
   {
    "duration": 0,
    "start_time": "2024-08-29T22:53:01.988Z"
   },
   {
    "duration": 0,
    "start_time": "2024-08-29T22:53:01.989Z"
   },
   {
    "duration": 0,
    "start_time": "2024-08-29T22:53:01.991Z"
   },
   {
    "duration": 0,
    "start_time": "2024-08-29T22:53:01.992Z"
   },
   {
    "duration": 0,
    "start_time": "2024-08-29T22:53:01.993Z"
   },
   {
    "duration": 0,
    "start_time": "2024-08-29T22:53:01.994Z"
   },
   {
    "duration": 0,
    "start_time": "2024-08-29T22:53:01.995Z"
   },
   {
    "duration": 0,
    "start_time": "2024-08-29T22:53:01.997Z"
   },
   {
    "duration": 0,
    "start_time": "2024-08-29T22:53:01.998Z"
   },
   {
    "duration": 0,
    "start_time": "2024-08-29T22:53:01.999Z"
   },
   {
    "duration": 0,
    "start_time": "2024-08-29T22:53:02.000Z"
   },
   {
    "duration": 0,
    "start_time": "2024-08-29T22:53:02.001Z"
   },
   {
    "duration": 0,
    "start_time": "2024-08-29T22:53:02.003Z"
   },
   {
    "duration": 0,
    "start_time": "2024-08-29T22:53:02.004Z"
   },
   {
    "duration": 0,
    "start_time": "2024-08-29T22:53:02.005Z"
   },
   {
    "duration": 0,
    "start_time": "2024-08-29T22:53:02.007Z"
   },
   {
    "duration": 0,
    "start_time": "2024-08-29T22:53:02.007Z"
   },
   {
    "duration": 0,
    "start_time": "2024-08-29T22:53:02.008Z"
   },
   {
    "duration": 23118,
    "start_time": "2024-08-29T22:53:57.769Z"
   },
   {
    "duration": 4955,
    "start_time": "2024-08-29T22:54:20.891Z"
   },
   {
    "duration": 6,
    "start_time": "2024-08-29T22:54:25.848Z"
   },
   {
    "duration": 981,
    "start_time": "2024-08-29T22:54:25.861Z"
   },
   {
    "duration": 52,
    "start_time": "2024-08-29T22:54:26.845Z"
   },
   {
    "duration": 348,
    "start_time": "2024-08-29T22:54:26.899Z"
   },
   {
    "duration": 427,
    "start_time": "2024-08-29T22:54:27.249Z"
   },
   {
    "duration": 428,
    "start_time": "2024-08-29T22:54:27.679Z"
   },
   {
    "duration": 98,
    "start_time": "2024-08-29T22:54:28.108Z"
   },
   {
    "duration": 24,
    "start_time": "2024-08-29T22:54:28.208Z"
   },
   {
    "duration": 44,
    "start_time": "2024-08-29T22:54:28.234Z"
   },
   {
    "duration": 1231846,
    "start_time": "2024-08-29T22:54:28.280Z"
   },
   {
    "duration": 5,
    "start_time": "2024-08-29T23:15:00.128Z"
   },
   {
    "duration": 127,
    "start_time": "2024-08-29T23:15:00.137Z"
   },
   {
    "duration": 39,
    "start_time": "2024-08-29T23:15:00.267Z"
   },
   {
    "duration": 5266,
    "start_time": "2024-08-29T23:15:00.308Z"
   },
   {
    "duration": 5,
    "start_time": "2024-08-29T23:15:05.576Z"
   },
   {
    "duration": 42,
    "start_time": "2024-08-29T23:15:05.582Z"
   },
   {
    "duration": 1761040,
    "start_time": "2024-08-29T23:15:05.626Z"
   },
   {
    "duration": 21,
    "start_time": "2024-08-29T23:44:26.668Z"
   },
   {
    "duration": 4424,
    "start_time": "2024-08-29T23:44:26.691Z"
   },
   {
    "duration": 5,
    "start_time": "2024-08-29T23:44:31.117Z"
   },
   {
    "duration": 101,
    "start_time": "2024-08-29T23:44:31.124Z"
   },
   {
    "duration": 3763,
    "start_time": "2024-08-29T23:44:31.228Z"
   },
   {
    "duration": 1670,
    "start_time": "2024-08-29T23:44:34.993Z"
   },
   {
    "duration": 338319,
    "start_time": "2024-08-29T23:44:36.665Z"
   },
   {
    "duration": 79,
    "start_time": "2024-08-29T23:50:14.985Z"
   },
   {
    "duration": 3,
    "start_time": "2024-08-29T23:50:15.066Z"
   },
   {
    "duration": 75,
    "start_time": "2024-08-29T23:50:15.071Z"
   },
   {
    "duration": 18,
    "start_time": "2024-08-29T23:50:15.148Z"
   },
   {
    "duration": 651237,
    "start_time": "2024-08-29T23:50:15.168Z"
   },
   {
    "duration": 2805,
    "start_time": "2024-08-30T00:01:06.407Z"
   },
   {
    "duration": 206,
    "start_time": "2024-08-30T00:01:09.214Z"
   },
   {
    "duration": 647,
    "start_time": "2024-08-30T00:01:09.421Z"
   },
   {
    "duration": 143277,
    "start_time": "2024-08-30T00:01:10.070Z"
   },
   {
    "duration": 38,
    "start_time": "2024-08-30T00:03:33.349Z"
   },
   {
    "duration": 11,
    "start_time": "2024-08-30T00:03:33.389Z"
   },
   {
    "duration": 47,
    "start_time": "2024-08-30T14:19:20.185Z"
   },
   {
    "duration": 36314,
    "start_time": "2024-08-30T14:19:58.949Z"
   },
   {
    "duration": 5669,
    "start_time": "2024-08-30T14:20:35.266Z"
   },
   {
    "duration": 6,
    "start_time": "2024-08-30T14:20:40.936Z"
   },
   {
    "duration": 1239,
    "start_time": "2024-08-30T14:20:40.944Z"
   },
   {
    "duration": 40,
    "start_time": "2024-08-30T14:20:42.186Z"
   },
   {
    "duration": 334,
    "start_time": "2024-08-30T14:20:42.227Z"
   },
   {
    "duration": 401,
    "start_time": "2024-08-30T14:20:42.562Z"
   },
   {
    "duration": 443,
    "start_time": "2024-08-30T14:20:42.965Z"
   },
   {
    "duration": 93,
    "start_time": "2024-08-30T14:20:43.409Z"
   },
   {
    "duration": 3,
    "start_time": "2024-08-30T14:20:43.504Z"
   },
   {
    "duration": 21,
    "start_time": "2024-08-30T14:20:43.509Z"
   },
   {
    "duration": 1239,
    "start_time": "2024-08-30T14:20:43.532Z"
   },
   {
    "duration": 4,
    "start_time": "2024-08-30T14:20:44.772Z"
   },
   {
    "duration": 67,
    "start_time": "2024-08-30T14:20:44.777Z"
   },
   {
    "duration": 4595,
    "start_time": "2024-08-30T14:20:44.846Z"
   },
   {
    "duration": 4,
    "start_time": "2024-08-30T14:20:49.443Z"
   },
   {
    "duration": 57,
    "start_time": "2024-08-30T14:20:49.449Z"
   },
   {
    "duration": 33,
    "start_time": "2024-08-30T14:20:49.508Z"
   },
   {
    "duration": 35,
    "start_time": "2024-08-30T14:20:49.543Z"
   },
   {
    "duration": 22,
    "start_time": "2024-08-30T14:20:49.580Z"
   },
   {
    "duration": 63,
    "start_time": "2024-08-30T14:20:49.603Z"
   },
   {
    "duration": 4965,
    "start_time": "2024-08-30T14:20:49.668Z"
   },
   {
    "duration": 16723,
    "start_time": "2024-08-30T14:20:54.635Z"
   },
   {
    "duration": 6788,
    "start_time": "2024-08-30T14:21:11.360Z"
   },
   {
    "duration": 0,
    "start_time": "2024-08-30T14:21:18.149Z"
   },
   {
    "duration": 0,
    "start_time": "2024-08-30T14:21:18.152Z"
   },
   {
    "duration": 0,
    "start_time": "2024-08-30T14:21:18.153Z"
   },
   {
    "duration": 0,
    "start_time": "2024-08-30T14:21:18.159Z"
   },
   {
    "duration": 0,
    "start_time": "2024-08-30T14:21:18.160Z"
   },
   {
    "duration": 0,
    "start_time": "2024-08-30T14:21:18.161Z"
   },
   {
    "duration": 0,
    "start_time": "2024-08-30T14:21:18.163Z"
   },
   {
    "duration": 1,
    "start_time": "2024-08-30T14:21:18.164Z"
   },
   {
    "duration": 0,
    "start_time": "2024-08-30T14:21:18.166Z"
   },
   {
    "duration": 0,
    "start_time": "2024-08-30T14:21:18.167Z"
   },
   {
    "duration": 0,
    "start_time": "2024-08-30T14:21:18.169Z"
   },
   {
    "duration": 6136,
    "start_time": "2024-08-30T14:28:32.826Z"
   },
   {
    "duration": 737078,
    "start_time": "2024-08-30T14:30:50.026Z"
   },
   {
    "duration": 66,
    "start_time": "2024-08-30T14:43:16.008Z"
   },
   {
    "duration": 4,
    "start_time": "2024-08-30T14:43:17.631Z"
   },
   {
    "duration": 5,
    "start_time": "2024-08-30T14:43:23.112Z"
   },
   {
    "duration": 3,
    "start_time": "2024-08-30T14:43:46.212Z"
   },
   {
    "duration": 42617,
    "start_time": "2024-08-30T14:43:47.515Z"
   },
   {
    "duration": 4,
    "start_time": "2024-08-30T14:45:11.783Z"
   },
   {
    "duration": 3,
    "start_time": "2024-08-30T14:45:13.206Z"
   },
   {
    "duration": 214013,
    "start_time": "2024-08-30T14:45:14.252Z"
   },
   {
    "duration": 22,
    "start_time": "2024-08-30T14:59:23.009Z"
   },
   {
    "duration": 11,
    "start_time": "2024-08-30T15:00:25.303Z"
   },
   {
    "duration": 5,
    "start_time": "2024-08-30T15:01:11.386Z"
   },
   {
    "duration": 6,
    "start_time": "2024-08-30T15:01:20.100Z"
   },
   {
    "duration": 4,
    "start_time": "2024-08-30T15:03:21.974Z"
   },
   {
    "duration": 4,
    "start_time": "2024-08-30T15:03:28.418Z"
   },
   {
    "duration": 21933,
    "start_time": "2024-08-30T15:04:31.513Z"
   },
   {
    "duration": 4770,
    "start_time": "2024-08-30T15:04:53.448Z"
   },
   {
    "duration": 6,
    "start_time": "2024-08-30T15:04:58.219Z"
   },
   {
    "duration": 881,
    "start_time": "2024-08-30T15:04:58.226Z"
   },
   {
    "duration": 48,
    "start_time": "2024-08-30T15:04:59.109Z"
   },
   {
    "duration": 331,
    "start_time": "2024-08-30T15:04:59.159Z"
   },
   {
    "duration": 402,
    "start_time": "2024-08-30T15:04:59.492Z"
   },
   {
    "duration": 392,
    "start_time": "2024-08-30T15:04:59.895Z"
   },
   {
    "duration": 98,
    "start_time": "2024-08-30T15:05:00.289Z"
   },
   {
    "duration": 4,
    "start_time": "2024-08-30T15:05:00.389Z"
   },
   {
    "duration": 104,
    "start_time": "2024-08-30T15:05:00.394Z"
   },
   {
    "duration": 163266,
    "start_time": "2024-08-30T15:05:00.500Z"
   },
   {
    "duration": 0,
    "start_time": "2024-08-30T15:07:43.769Z"
   },
   {
    "duration": 0,
    "start_time": "2024-08-30T15:07:43.770Z"
   },
   {
    "duration": 0,
    "start_time": "2024-08-30T15:07:43.771Z"
   },
   {
    "duration": 0,
    "start_time": "2024-08-30T15:07:43.772Z"
   },
   {
    "duration": 0,
    "start_time": "2024-08-30T15:07:43.773Z"
   },
   {
    "duration": 0,
    "start_time": "2024-08-30T15:07:43.774Z"
   },
   {
    "duration": 0,
    "start_time": "2024-08-30T15:07:43.775Z"
   },
   {
    "duration": 0,
    "start_time": "2024-08-30T15:07:43.777Z"
   },
   {
    "duration": 0,
    "start_time": "2024-08-30T15:07:43.778Z"
   },
   {
    "duration": 0,
    "start_time": "2024-08-30T15:07:43.779Z"
   },
   {
    "duration": 0,
    "start_time": "2024-08-30T15:07:43.780Z"
   },
   {
    "duration": 0,
    "start_time": "2024-08-30T15:07:43.781Z"
   },
   {
    "duration": 0,
    "start_time": "2024-08-30T15:07:43.782Z"
   },
   {
    "duration": 0,
    "start_time": "2024-08-30T15:07:43.782Z"
   },
   {
    "duration": 0,
    "start_time": "2024-08-30T15:07:43.783Z"
   },
   {
    "duration": 0,
    "start_time": "2024-08-30T15:07:43.784Z"
   },
   {
    "duration": 0,
    "start_time": "2024-08-30T15:07:43.785Z"
   },
   {
    "duration": 0,
    "start_time": "2024-08-30T15:07:43.786Z"
   },
   {
    "duration": 0,
    "start_time": "2024-08-30T15:07:43.787Z"
   },
   {
    "duration": 0,
    "start_time": "2024-08-30T15:07:43.788Z"
   },
   {
    "duration": 0,
    "start_time": "2024-08-30T15:07:43.789Z"
   },
   {
    "duration": 0,
    "start_time": "2024-08-30T15:07:43.790Z"
   },
   {
    "duration": 0,
    "start_time": "2024-08-30T15:07:43.791Z"
   },
   {
    "duration": 0,
    "start_time": "2024-08-30T15:07:43.792Z"
   },
   {
    "duration": 0,
    "start_time": "2024-08-30T15:07:43.793Z"
   },
   {
    "duration": 0,
    "start_time": "2024-08-30T15:07:43.794Z"
   },
   {
    "duration": 21506,
    "start_time": "2024-08-30T15:08:32.643Z"
   },
   {
    "duration": 4810,
    "start_time": "2024-08-30T15:08:54.152Z"
   },
   {
    "duration": 5,
    "start_time": "2024-08-30T15:08:58.964Z"
   },
   {
    "duration": 864,
    "start_time": "2024-08-30T15:08:58.971Z"
   },
   {
    "duration": 44,
    "start_time": "2024-08-30T15:08:59.837Z"
   },
   {
    "duration": 350,
    "start_time": "2024-08-30T15:08:59.883Z"
   },
   {
    "duration": 419,
    "start_time": "2024-08-30T15:09:00.234Z"
   },
   {
    "duration": 419,
    "start_time": "2024-08-30T15:09:00.654Z"
   },
   {
    "duration": 93,
    "start_time": "2024-08-30T15:09:01.074Z"
   },
   {
    "duration": 3,
    "start_time": "2024-08-30T15:09:01.169Z"
   },
   {
    "duration": 111,
    "start_time": "2024-08-30T15:09:01.174Z"
   },
   {
    "duration": 1163863,
    "start_time": "2024-08-30T15:09:01.287Z"
   },
   {
    "duration": 4,
    "start_time": "2024-08-30T15:28:25.152Z"
   },
   {
    "duration": 50,
    "start_time": "2024-08-30T15:28:25.160Z"
   },
   {
    "duration": 4946,
    "start_time": "2024-08-30T15:28:25.213Z"
   },
   {
    "duration": 5,
    "start_time": "2024-08-30T15:28:30.160Z"
   },
   {
    "duration": 29,
    "start_time": "2024-08-30T15:28:30.167Z"
   },
   {
    "duration": 39,
    "start_time": "2024-08-30T15:28:30.198Z"
   },
   {
    "duration": 30,
    "start_time": "2024-08-30T15:28:30.239Z"
   },
   {
    "duration": 25,
    "start_time": "2024-08-30T15:28:30.271Z"
   },
   {
    "duration": 81,
    "start_time": "2024-08-30T15:28:30.297Z"
   },
   {
    "duration": 9,
    "start_time": "2024-08-30T15:28:30.380Z"
   },
   {
    "duration": 21,
    "start_time": "2024-08-30T15:28:30.391Z"
   },
   {
    "duration": 6,
    "start_time": "2024-08-30T15:28:30.414Z"
   },
   {
    "duration": 4869,
    "start_time": "2024-08-30T15:28:30.421Z"
   },
   {
    "duration": 2375,
    "start_time": "2024-08-30T15:28:35.292Z"
   },
   {
    "duration": 825217,
    "start_time": "2024-08-30T15:28:37.669Z"
   },
   {
    "duration": 58,
    "start_time": "2024-08-30T15:42:22.887Z"
   },
   {
    "duration": 3,
    "start_time": "2024-08-30T15:42:22.947Z"
   },
   {
    "duration": 16,
    "start_time": "2024-08-30T15:42:22.952Z"
   },
   {
    "duration": 16,
    "start_time": "2024-08-30T15:42:22.970Z"
   },
   {
    "duration": 62995,
    "start_time": "2024-08-30T15:42:22.988Z"
   },
   {
    "duration": 3,
    "start_time": "2024-08-30T15:43:25.985Z"
   },
   {
    "duration": 36,
    "start_time": "2024-08-30T15:43:25.990Z"
   },
   {
    "duration": 571,
    "start_time": "2024-08-30T15:43:26.029Z"
   },
   {
    "duration": 8232,
    "start_time": "2024-08-30T15:43:26.602Z"
   },
   {
    "duration": 0,
    "start_time": "2024-08-30T15:43:34.835Z"
   },
   {
    "duration": 0,
    "start_time": "2024-08-30T15:43:34.837Z"
   },
   {
    "duration": 6,
    "start_time": "2024-08-30T15:44:27.579Z"
   },
   {
    "duration": 3,
    "start_time": "2024-08-30T15:44:28.933Z"
   },
   {
    "duration": 18656,
    "start_time": "2024-08-30T15:44:29.999Z"
   },
   {
    "duration": 6,
    "start_time": "2024-08-30T15:49:11.441Z"
   },
   {
    "duration": 6,
    "start_time": "2024-08-30T15:49:22.411Z"
   },
   {
    "duration": 6,
    "start_time": "2024-08-30T15:49:30.522Z"
   },
   {
    "duration": 3,
    "start_time": "2024-08-30T15:49:33.323Z"
   },
   {
    "duration": 1773111,
    "start_time": "2024-08-30T15:49:34.854Z"
   },
   {
    "duration": 4,
    "start_time": "2024-08-30T16:23:53.986Z"
   },
   {
    "duration": 38,
    "start_time": "2024-08-30T16:23:58.690Z"
   },
   {
    "duration": 586,
    "start_time": "2024-08-30T16:24:03.784Z"
   },
   {
    "duration": 8883,
    "start_time": "2024-08-30T16:24:11.374Z"
   },
   {
    "duration": 272010,
    "start_time": "2024-08-30T16:50:52.426Z"
   },
   {
    "duration": 60,
    "start_time": "2024-08-30T16:55:38.952Z"
   },
   {
    "duration": 18,
    "start_time": "2024-08-30T16:55:42.656Z"
   },
   {
    "duration": 21745,
    "start_time": "2024-08-30T17:14:58.505Z"
   },
   {
    "duration": 4912,
    "start_time": "2024-08-30T17:15:20.253Z"
   },
   {
    "duration": 6,
    "start_time": "2024-08-30T17:15:25.166Z"
   },
   {
    "duration": 887,
    "start_time": "2024-08-30T17:15:25.173Z"
   },
   {
    "duration": 43,
    "start_time": "2024-08-30T17:15:26.062Z"
   },
   {
    "duration": 333,
    "start_time": "2024-08-30T17:15:26.106Z"
   },
   {
    "duration": 393,
    "start_time": "2024-08-30T17:15:26.440Z"
   },
   {
    "duration": 364,
    "start_time": "2024-08-30T17:15:26.835Z"
   },
   {
    "duration": 123,
    "start_time": "2024-08-30T17:15:27.201Z"
   },
   {
    "duration": 3,
    "start_time": "2024-08-30T17:15:27.326Z"
   },
   {
    "duration": 43,
    "start_time": "2024-08-30T17:15:27.331Z"
   },
   {
    "duration": 1218,
    "start_time": "2024-08-30T17:15:27.376Z"
   },
   {
    "duration": 4,
    "start_time": "2024-08-30T17:15:28.595Z"
   },
   {
    "duration": 22,
    "start_time": "2024-08-30T17:15:28.601Z"
   },
   {
    "duration": 4894,
    "start_time": "2024-08-30T17:15:28.624Z"
   },
   {
    "duration": 6,
    "start_time": "2024-08-30T17:15:33.519Z"
   },
   {
    "duration": 380,
    "start_time": "2024-08-30T17:15:33.526Z"
   },
   {
    "duration": 0,
    "start_time": "2024-08-30T17:15:33.908Z"
   },
   {
    "duration": 0,
    "start_time": "2024-08-30T17:15:33.909Z"
   },
   {
    "duration": 0,
    "start_time": "2024-08-30T17:15:33.910Z"
   },
   {
    "duration": 0,
    "start_time": "2024-08-30T17:15:33.911Z"
   },
   {
    "duration": 0,
    "start_time": "2024-08-30T17:15:33.913Z"
   },
   {
    "duration": 0,
    "start_time": "2024-08-30T17:15:33.914Z"
   },
   {
    "duration": 0,
    "start_time": "2024-08-30T17:15:33.916Z"
   },
   {
    "duration": 0,
    "start_time": "2024-08-30T17:15:33.917Z"
   },
   {
    "duration": 0,
    "start_time": "2024-08-30T17:15:33.918Z"
   },
   {
    "duration": 0,
    "start_time": "2024-08-30T17:15:33.919Z"
   },
   {
    "duration": 0,
    "start_time": "2024-08-30T17:15:33.920Z"
   },
   {
    "duration": 0,
    "start_time": "2024-08-30T17:15:33.921Z"
   },
   {
    "duration": 0,
    "start_time": "2024-08-30T17:15:33.922Z"
   },
   {
    "duration": 0,
    "start_time": "2024-08-30T17:15:33.923Z"
   },
   {
    "duration": 0,
    "start_time": "2024-08-30T17:15:33.924Z"
   },
   {
    "duration": 0,
    "start_time": "2024-08-30T17:15:33.953Z"
   },
   {
    "duration": 0,
    "start_time": "2024-08-30T17:15:33.954Z"
   },
   {
    "duration": 0,
    "start_time": "2024-08-30T17:15:33.955Z"
   },
   {
    "duration": 21596,
    "start_time": "2024-08-30T17:21:47.832Z"
   },
   {
    "duration": 4747,
    "start_time": "2024-08-30T17:22:09.431Z"
   },
   {
    "duration": 6,
    "start_time": "2024-08-30T17:22:14.180Z"
   },
   {
    "duration": 918,
    "start_time": "2024-08-30T17:22:14.187Z"
   },
   {
    "duration": 50,
    "start_time": "2024-08-30T17:22:15.107Z"
   },
   {
    "duration": 325,
    "start_time": "2024-08-30T17:22:15.158Z"
   },
   {
    "duration": 407,
    "start_time": "2024-08-30T17:22:15.485Z"
   },
   {
    "duration": 376,
    "start_time": "2024-08-30T17:22:15.893Z"
   },
   {
    "duration": 95,
    "start_time": "2024-08-30T17:22:16.271Z"
   },
   {
    "duration": 4,
    "start_time": "2024-08-30T17:22:16.368Z"
   },
   {
    "duration": 84,
    "start_time": "2024-08-30T17:22:16.373Z"
   },
   {
    "duration": 1187544,
    "start_time": "2024-08-30T17:22:16.459Z"
   },
   {
    "duration": 5,
    "start_time": "2024-08-30T17:42:04.005Z"
   },
   {
    "duration": 26,
    "start_time": "2024-08-30T17:42:04.013Z"
   },
   {
    "duration": 4995,
    "start_time": "2024-08-30T17:42:04.040Z"
   },
   {
    "duration": 5,
    "start_time": "2024-08-30T17:42:09.037Z"
   },
   {
    "duration": 660618,
    "start_time": "2024-08-30T17:42:09.043Z"
   },
   {
    "duration": 17,
    "start_time": "2024-08-30T17:53:09.662Z"
   },
   {
    "duration": 4010,
    "start_time": "2024-08-30T17:53:09.681Z"
   },
   {
    "duration": 4,
    "start_time": "2024-08-30T17:53:13.694Z"
   },
   {
    "duration": 71,
    "start_time": "2024-08-30T17:53:13.699Z"
   },
   {
    "duration": 3537,
    "start_time": "2024-08-30T17:53:13.771Z"
   },
   {
    "duration": 2258,
    "start_time": "2024-08-30T17:53:17.310Z"
   },
   {
    "duration": 2058829,
    "start_time": "2024-08-30T17:53:19.570Z"
   },
   {
    "duration": 58,
    "start_time": "2024-08-30T18:27:38.401Z"
   },
   {
    "duration": 5,
    "start_time": "2024-08-30T18:27:38.461Z"
   },
   {
    "duration": 9,
    "start_time": "2024-08-30T18:27:38.467Z"
   },
   {
    "duration": 10,
    "start_time": "2024-08-30T18:27:38.478Z"
   },
   {
    "duration": 1748491,
    "start_time": "2024-08-30T18:27:38.489Z"
   },
   {
    "duration": 1561,
    "start_time": "2024-08-30T18:56:46.982Z"
   },
   {
    "duration": 41,
    "start_time": "2024-08-30T18:56:48.545Z"
   },
   {
    "duration": 497,
    "start_time": "2024-08-30T18:56:48.588Z"
   },
   {
    "duration": 744939,
    "start_time": "2024-08-30T18:56:49.087Z"
   },
   {
    "duration": 35,
    "start_time": "2024-08-30T19:09:14.028Z"
   },
   {
    "duration": 18,
    "start_time": "2024-08-30T19:09:14.064Z"
   },
   {
    "duration": 33735,
    "start_time": "2024-10-19T02:33:10.822Z"
   },
   {
    "duration": 4627,
    "start_time": "2024-10-19T02:33:44.559Z"
   },
   {
    "duration": 4,
    "start_time": "2024-10-19T02:33:49.188Z"
   },
   {
    "duration": 1099,
    "start_time": "2024-10-19T02:33:49.194Z"
   },
   {
    "duration": 28,
    "start_time": "2024-10-19T02:33:50.294Z"
   },
   {
    "duration": 254,
    "start_time": "2024-10-19T02:33:50.324Z"
   },
   {
    "duration": 404,
    "start_time": "2024-10-19T02:33:50.579Z"
   },
   {
    "duration": 404,
    "start_time": "2024-10-19T02:33:50.985Z"
   },
   {
    "duration": 59,
    "start_time": "2024-10-19T02:33:51.390Z"
   },
   {
    "duration": 3,
    "start_time": "2024-10-19T02:33:51.458Z"
   },
   {
    "duration": 50,
    "start_time": "2024-10-19T02:33:51.462Z"
   },
   {
    "duration": 1031655,
    "start_time": "2024-10-19T02:33:51.513Z"
   },
   {
    "duration": 4,
    "start_time": "2024-10-19T02:51:03.169Z"
   },
   {
    "duration": 28,
    "start_time": "2024-10-19T02:51:03.174Z"
   },
   {
    "duration": 4187,
    "start_time": "2024-10-19T02:51:03.203Z"
   },
   {
    "duration": 4,
    "start_time": "2024-10-19T02:51:07.391Z"
   },
   {
    "duration": 625962,
    "start_time": "2024-10-19T02:51:07.396Z"
   },
   {
    "duration": 14,
    "start_time": "2024-10-19T03:01:33.360Z"
   },
   {
    "duration": 3085,
    "start_time": "2024-10-19T03:01:33.376Z"
   },
   {
    "duration": 4,
    "start_time": "2024-10-19T03:01:36.463Z"
   },
   {
    "duration": 39,
    "start_time": "2024-10-19T03:01:36.469Z"
   },
   {
    "duration": 4234,
    "start_time": "2024-10-19T03:01:36.510Z"
   },
   {
    "duration": 10025,
    "start_time": "2024-10-19T03:01:40.745Z"
   },
   {
    "duration": 1695681,
    "start_time": "2024-10-19T03:01:50.772Z"
   },
   {
    "duration": 107,
    "start_time": "2024-10-19T03:30:06.454Z"
   },
   {
    "duration": 3,
    "start_time": "2024-10-19T03:30:06.562Z"
   },
   {
    "duration": 5,
    "start_time": "2024-10-19T03:30:06.566Z"
   },
   {
    "duration": 12,
    "start_time": "2024-10-19T03:30:06.574Z"
   },
   {
    "duration": 1562635,
    "start_time": "2024-10-19T03:30:06.587Z"
   },
   {
    "duration": 1431,
    "start_time": "2024-10-19T03:56:09.223Z"
   },
   {
    "duration": 20,
    "start_time": "2024-10-19T03:56:10.657Z"
   },
   {
    "duration": 427,
    "start_time": "2024-10-19T03:56:10.678Z"
   },
   {
    "duration": 636233,
    "start_time": "2024-10-19T03:56:11.107Z"
   },
   {
    "duration": 30,
    "start_time": "2024-10-19T04:06:47.341Z"
   },
   {
    "duration": 13,
    "start_time": "2024-10-19T04:06:47.372Z"
   }
  ],
  "kernelspec": {
   "display_name": "Python 3 (ipykernel)",
   "language": "python",
   "name": "python3"
  },
  "language_info": {
   "codemirror_mode": {
    "name": "ipython",
    "version": 3
   },
   "file_extension": ".py",
   "mimetype": "text/x-python",
   "name": "python",
   "nbconvert_exporter": "python",
   "pygments_lexer": "ipython3",
   "version": "3.9.5"
  },
  "toc": {
   "base_numbering": 1,
   "nav_menu": {},
   "number_sections": true,
   "sideBar": true,
   "skip_h1_title": true,
   "title_cell": "Содержание",
   "title_sidebar": "Contents",
   "toc_cell": true,
   "toc_position": {
    "height": "calc(100% - 180px)",
    "left": "10px",
    "top": "150px",
    "width": "229px"
   },
   "toc_section_display": true,
   "toc_window_display": true
  }
 },
 "nbformat": 4,
 "nbformat_minor": 4
}
