{
 "cells": [
  {
   "cell_type": "markdown",
   "id": "29a6d7f4",
   "metadata": {},
   "source": [
    "# Исследование надежности заемщиков"
   ]
  },
  {
   "cell_type": "markdown",
   "id": "d5d32c59",
   "metadata": {},
   "source": [
    "Это первая часть проекта, она будет проверена автоматически. Вторую часть проверит ревьюер. "
   ]
  },
  {
   "cell_type": "markdown",
   "id": "7c98d0e6",
   "metadata": {},
   "source": [
    "## Откройте таблицу и изучите общую информацию о данных"
   ]
  },
  {
   "cell_type": "markdown",
   "id": "083c65dc",
   "metadata": {},
   "source": [
    "**Задание 1. Импортируйте библиотеку pandas. Считайте данные из csv-файла в датафрейм и сохраните в переменную `data`. Путь к файлу:**\n",
    "\n",
    "`/datasets/data.csv`"
   ]
  },
  {
   "cell_type": "code",
   "execution_count": null,
   "id": "bd55fb76",
   "metadata": {},
   "outputs": [],
   "source": [
    "import pandas as pd # импортируйте библиотеку pandas"
   ]
  },
  {
   "cell_type": "code",
   "execution_count": null,
   "id": "c22268bf",
   "metadata": {},
   "outputs": [],
   "source": [
    "data = pd.read_csv('/datasets/data.csv') # прочитайте csv-файл"
   ]
  },
  {
   "cell_type": "markdown",
   "id": "c2b9e360",
   "metadata": {},
   "source": [
    "**Задание 2. Выведите первые 20 строчек датафрейма `data` на экран.**"
   ]
  },
  {
   "cell_type": "code",
   "execution_count": null,
   "id": "638aaa59",
   "metadata": {},
   "outputs": [
    {
     "name": "stdout",
     "output_type": "stream",
     "text": [
      "    children  days_employed  dob_years            education  education_id  \\\n",
      "0          1   -8437.673028         42               высшее             0   \n",
      "1          1   -4024.803754         36              среднее             1   \n",
      "2          0   -5623.422610         33              Среднее             1   \n",
      "3          3   -4124.747207         32              среднее             1   \n",
      "4          0  340266.072047         53              среднее             1   \n",
      "5          0    -926.185831         27               высшее             0   \n",
      "6          0   -2879.202052         43               высшее             0   \n",
      "7          0    -152.779569         50              СРЕДНЕЕ             1   \n",
      "8          2   -6929.865299         35               ВЫСШЕЕ             0   \n",
      "9          0   -2188.756445         41              среднее             1   \n",
      "10         2   -4171.483647         36               высшее             0   \n",
      "11         0    -792.701887         40              среднее             1   \n",
      "12         0            NaN         65              среднее             1   \n",
      "13         0   -1846.641941         54  неоконченное высшее             2   \n",
      "14         0   -1844.956182         56               высшее             0   \n",
      "15         1    -972.364419         26              среднее             1   \n",
      "16         0   -1719.934226         35              среднее             1   \n",
      "17         0   -2369.999720         33               высшее             0   \n",
      "18         0  400281.136913         53              среднее             1   \n",
      "19         0  -10038.818549         48              СРЕДНЕЕ             1   \n",
      "\n",
      "       family_status  family_status_id gender income_type  debt  \\\n",
      "0    женат / замужем                 0      F   сотрудник     0   \n",
      "1    женат / замужем                 0      F   сотрудник     0   \n",
      "2    женат / замужем                 0      M   сотрудник     0   \n",
      "3    женат / замужем                 0      M   сотрудник     0   \n",
      "4   гражданский брак                 1      F   пенсионер     0   \n",
      "5   гражданский брак                 1      M   компаньон     0   \n",
      "6    женат / замужем                 0      F   компаньон     0   \n",
      "7    женат / замужем                 0      M   сотрудник     0   \n",
      "8   гражданский брак                 1      F   сотрудник     0   \n",
      "9    женат / замужем                 0      M   сотрудник     0   \n",
      "10   женат / замужем                 0      M   компаньон     0   \n",
      "11   женат / замужем                 0      F   сотрудник     0   \n",
      "12  гражданский брак                 1      M   пенсионер     0   \n",
      "13   женат / замужем                 0      F   сотрудник     0   \n",
      "14  гражданский брак                 1      F   компаньон     1   \n",
      "15   женат / замужем                 0      F   сотрудник     0   \n",
      "16   женат / замужем                 0      F   сотрудник     0   \n",
      "17  гражданский брак                 1      M   сотрудник     0   \n",
      "18    вдовец / вдова                 2      F   пенсионер     0   \n",
      "19         в разводе                 3      F   сотрудник     0   \n",
      "\n",
      "     total_income                                 purpose  \n",
      "0   253875.639453                           покупка жилья  \n",
      "1   112080.014102                 приобретение автомобиля  \n",
      "2   145885.952297                           покупка жилья  \n",
      "3   267628.550329              дополнительное образование  \n",
      "4   158616.077870                         сыграть свадьбу  \n",
      "5   255763.565419                           покупка жилья  \n",
      "6   240525.971920                       операции с жильем  \n",
      "7   135823.934197                             образование  \n",
      "8    95856.832424                   на проведение свадьбы  \n",
      "9   144425.938277                 покупка жилья для семьи  \n",
      "10  113943.491460                    покупка недвижимости  \n",
      "11   77069.234271       покупка коммерческой недвижимости  \n",
      "12            NaN                         сыграть свадьбу  \n",
      "13  130458.228857                 приобретение автомобиля  \n",
      "14  165127.911772              покупка жилой недвижимости  \n",
      "15  116820.904450  строительство собственной недвижимости  \n",
      "16  289202.704229                            недвижимость  \n",
      "17   90410.586745              строительство недвижимости  \n",
      "18   56823.777243      на покупку подержанного автомобиля  \n",
      "19  242831.107982            на покупку своего автомобиля  \n"
     ]
    }
   ],
   "source": [
    "print(data.head(20)) # ваш код здесь"
   ]
  },
  {
   "cell_type": "markdown",
   "id": "c4f6abba",
   "metadata": {},
   "source": [
    "**Задание 3. Выведите основную информацию о датафрейме с помощью метода `info()`.**"
   ]
  },
  {
   "cell_type": "code",
   "execution_count": null,
   "id": "f52c816d",
   "metadata": {},
   "outputs": [
    {
     "name": "stdout",
     "output_type": "stream",
     "text": [
      "<class 'pandas.core.frame.DataFrame'>\n",
      "RangeIndex: 21525 entries, 0 to 21524\n",
      "Data columns (total 12 columns):\n",
      " #   Column            Non-Null Count  Dtype  \n",
      "---  ------            --------------  -----  \n",
      " 0   children          21525 non-null  int64  \n",
      " 1   days_employed     19351 non-null  float64\n",
      " 2   dob_years         21525 non-null  int64  \n",
      " 3   education         21525 non-null  object \n",
      " 4   education_id      21525 non-null  int64  \n",
      " 5   family_status     21525 non-null  object \n",
      " 6   family_status_id  21525 non-null  int64  \n",
      " 7   gender            21525 non-null  object \n",
      " 8   income_type       21525 non-null  object \n",
      " 9   debt              21525 non-null  int64  \n",
      " 10  total_income      19351 non-null  float64\n",
      " 11  purpose           21525 non-null  object \n",
      "dtypes: float64(2), int64(5), object(5)\n",
      "memory usage: 2.0+ MB\n"
     ]
    }
   ],
   "source": [
    "data.info() # ваш код здесь"
   ]
  },
  {
   "cell_type": "markdown",
   "id": "5e9c2fa7",
   "metadata": {},
   "source": [
    "## Предобработка данных"
   ]
  },
  {
   "cell_type": "markdown",
   "id": "6c09e15b",
   "metadata": {},
   "source": [
    "### Удаление пропусков"
   ]
  },
  {
   "cell_type": "markdown",
   "id": "ead5269b",
   "metadata": {},
   "source": [
    "**Задание 4. Выведите количество пропущенных значений для каждого столбца. Используйте комбинацию двух методов.**"
   ]
  },
  {
   "cell_type": "code",
   "execution_count": null,
   "id": "f2bae82b",
   "metadata": {},
   "outputs": [
    {
     "name": "stdout",
     "output_type": "stream",
     "text": [
      "children               0\n",
      "days_employed       2174\n",
      "dob_years              0\n",
      "education              0\n",
      "education_id           0\n",
      "family_status          0\n",
      "family_status_id       0\n",
      "gender                 0\n",
      "income_type            0\n",
      "debt                   0\n",
      "total_income        2174\n",
      "purpose                0\n",
      "dtype: int64\n"
     ]
    }
   ],
   "source": [
    "print(data.isna().sum()) # ваш код здесь"
   ]
  },
  {
   "cell_type": "markdown",
   "id": "3d264882",
   "metadata": {},
   "source": [
    "**Задание 5. В двух столбцах есть пропущенные значения. Один из них — `days_employed`. Пропуски в этом столбце вы обработаете на следующем этапе. Другой столбец с пропущенными значениями — `total_income` — хранит данные о доходах. На сумму дохода сильнее всего влияет тип занятости, поэтому заполнить пропуски в этом столбце нужно медианным значением по каждому типу из столбца `income_type`. Например, у человека с типом занятости `сотрудник` пропуск в столбце `total_income` должен быть заполнен медианным доходом среди всех записей с тем же типом.**"
   ]
  },
  {
   "cell_type": "code",
   "execution_count": null,
   "id": "02a2f41c",
   "metadata": {},
   "outputs": [],
   "source": [
    "# ваш код здесь\n",
    "total_income_median = data.groupby('income_type')['total_income'].median()\n",
    "\n",
    "for income in data['income_type'].unique():\n",
    "\n",
    "    data.loc[data['income_type'] == income,'total_income'] = data.loc[data['income_type'] == income,'total_income'].fillna(total_income_median[income])"
   ]
  },
  {
   "cell_type": "markdown",
   "id": "a6704866",
   "metadata": {},
   "source": [
    "### Обработка аномальных значений"
   ]
  },
  {
   "cell_type": "markdown",
   "id": "ffa9b274",
   "metadata": {},
   "source": [
    "**Задание 6. В данных могут встречаться артефакты (аномалии) — значения, которые не отражают действительность и появились по какой-то ошибке. Таким артефактом будет отрицательное количество дней трудового стажа в столбце `days_employed`. Для реальных данных это нормально. Обработайте значения в этом столбце: замените все отрицательные значения положительными с помощью метода `abs()`.**"
   ]
  },
  {
   "cell_type": "code",
   "execution_count": null,
   "id": "4c7620ed",
   "metadata": {},
   "outputs": [],
   "source": [
    "# ваш код здесь\n",
    "data['days_employed'] = data['days_employed'].abs()\n"
   ]
  },
  {
   "cell_type": "markdown",
   "id": "fa1448a1",
   "metadata": {},
   "source": [
    "**Задание 7. Для каждого типа занятости выведите медианное значение трудового стажа `days_employed` в днях.**"
   ]
  },
  {
   "cell_type": "code",
   "execution_count": null,
   "id": "4c7d6f30",
   "metadata": {},
   "outputs": [
    {
     "name": "stdout",
     "output_type": "stream",
     "text": [
      "income_type\n",
      "безработный        366413.652744\n",
      "в декрете            3296.759962\n",
      "госслужащий          2689.368353\n",
      "компаньон            1547.382223\n",
      "пенсионер          365213.306266\n",
      "предприниматель       520.848083\n",
      "сотрудник            1574.202821\n",
      "студент               578.751554\n",
      "Name: days_employed, dtype: float64\n"
     ]
    }
   ],
   "source": [
    "# ваш код здесь\n",
    "print(data.groupby('income_type')['days_employed'].median())"
   ]
  },
  {
   "cell_type": "markdown",
   "id": "3d5e703a",
   "metadata": {},
   "source": [
    "У двух типов (безработные и пенсионеры) получатся аномально большие значения. Исправить такие значения сложно, поэтому оставьте их как есть."
   ]
  },
  {
   "cell_type": "markdown",
   "id": "63032f1c",
   "metadata": {},
   "source": [
    "**Задание 8. Выведите перечень уникальных значений столбца `children`.**"
   ]
  },
  {
   "cell_type": "code",
   "execution_count": null,
   "id": "83e4ae80",
   "metadata": {},
   "outputs": [
    {
     "name": "stdout",
     "output_type": "stream",
     "text": [
      "[ 1  0  3  2 -1  4 20  5]\n"
     ]
    }
   ],
   "source": [
    "# ваш код здесь\n",
    "print(data['children'].unique())"
   ]
  },
  {
   "cell_type": "markdown",
   "id": "b9196cff",
   "metadata": {},
   "source": [
    "**Задание 9. В столбце `children` есть два аномальных значения. Удалите строки, в которых встречаются такие аномальные значения из датафрейма `data`.**"
   ]
  },
  {
   "cell_type": "code",
   "execution_count": null,
   "id": "a47112be",
   "metadata": {},
   "outputs": [],
   "source": [
    "# ваш код здесь\n",
    "data = data.loc[(data['children'] >= 0) & (data['children'] < 20)]"
   ]
  },
  {
   "cell_type": "markdown",
   "id": "689061d7",
   "metadata": {},
   "source": [
    "**Задание 10. Ещё раз выведите перечень уникальных значений столбца `children`, чтобы убедиться, что артефакты удалены.**"
   ]
  },
  {
   "cell_type": "code",
   "execution_count": null,
   "id": "efee9cd9",
   "metadata": {},
   "outputs": [
    {
     "name": "stdout",
     "output_type": "stream",
     "text": [
      "[1 0 3 2 4 5]\n"
     ]
    }
   ],
   "source": [
    "# ваш код здесь\n",
    "print(data['children'].unique())"
   ]
  },
  {
   "cell_type": "markdown",
   "id": "fe3efc3b",
   "metadata": {},
   "source": [
    "### Удаление пропусков (продолжение)"
   ]
  },
  {
   "cell_type": "markdown",
   "id": "71ca6eb6",
   "metadata": {},
   "source": [
    "**Задание 11. Заполните пропуски в столбце `days_employed` медианными значениями по каждому типу занятости `income_type`.**"
   ]
  },
  {
   "cell_type": "code",
   "execution_count": null,
   "id": "d48b623c",
   "metadata": {},
   "outputs": [],
   "source": [
    "# ваш код здесь\n",
    "\n",
    "days_employed_median = data.groupby('income_type')['days_employed'].median()\n",
    "\n",
    "for income in data['income_type'].unique():\n",
    "\n",
    "    data.loc[data['income_type'] == income,'days_employed'] = data.loc[data['income_type'] == income,'days_employed'].fillna(days_employed_median[income])"
   ]
  },
  {
   "cell_type": "markdown",
   "id": "d58a0387",
   "metadata": {},
   "source": [
    "**Задание 12. Убедитесь, что все пропуски заполнены. Проверьте себя и ещё раз выведите количество пропущенных значений для каждого столбца с помощью двух методов.**"
   ]
  },
  {
   "cell_type": "code",
   "execution_count": null,
   "id": "76329bfd",
   "metadata": {},
   "outputs": [
    {
     "name": "stdout",
     "output_type": "stream",
     "text": [
      "children            0\n",
      "days_employed       0\n",
      "dob_years           0\n",
      "education           0\n",
      "education_id        0\n",
      "family_status       0\n",
      "family_status_id    0\n",
      "gender              0\n",
      "income_type         0\n",
      "debt                0\n",
      "total_income        0\n",
      "purpose             0\n",
      "dtype: int64\n"
     ]
    }
   ],
   "source": [
    "# ваш код здесь\n",
    "print(data.isna().sum())"
   ]
  },
  {
   "cell_type": "markdown",
   "id": "2b63a139",
   "metadata": {},
   "source": [
    "### Изменение типов данных"
   ]
  },
  {
   "cell_type": "markdown",
   "id": "b85e5b95",
   "metadata": {},
   "source": [
    "**Задание 13. Замените вещественный тип данных в столбце `total_income` на целочисленный с помощью метода `astype()`.**"
   ]
  },
  {
   "cell_type": "code",
   "execution_count": null,
   "id": "5ae89be2",
   "metadata": {},
   "outputs": [],
   "source": [
    "# ваш код здесь\n",
    "data['total_income'] = data['total_income'].astype('int')"
   ]
  },
  {
   "cell_type": "markdown",
   "id": "04c978e5",
   "metadata": {},
   "source": [
    "### Обработка дубликатов"
   ]
  },
  {
   "cell_type": "markdown",
   "id": "a4511543",
   "metadata": {},
   "source": [
    "**Задание 14. Обработайте неявные дубликаты в столбце `education`. В этом столбце есть одни и те же значения, но записанные по-разному: с использованием заглавных и строчных букв. Приведите их к нижнему регистру.**"
   ]
  },
  {
   "cell_type": "code",
   "execution_count": null,
   "id": "9ed74a93",
   "metadata": {},
   "outputs": [],
   "source": [
    "# ваш код здесь\n",
    "data['education'] = data['education'].str.lower()"
   ]
  },
  {
   "cell_type": "markdown",
   "id": "0aef6404",
   "metadata": {},
   "source": [
    "**Задание 15. Выведите на экран количество строк-дубликатов в данных. Если такие строки присутствуют, удалите их.**"
   ]
  },
  {
   "cell_type": "code",
   "execution_count": null,
   "id": "4739386d",
   "metadata": {},
   "outputs": [
    {
     "name": "stdout",
     "output_type": "stream",
     "text": [
      "71\n"
     ]
    }
   ],
   "source": [
    "# посчитайте дубликаты\n",
    "print(data.duplicated().sum())"
   ]
  },
  {
   "cell_type": "code",
   "execution_count": null,
   "id": "2ef2a6a1",
   "metadata": {},
   "outputs": [],
   "source": [
    "# удалите дубликаты\n",
    "data = data.drop_duplicates()"
   ]
  },
  {
   "cell_type": "markdown",
   "id": "0bd6bebb",
   "metadata": {},
   "source": [
    "### Категоризация данных"
   ]
  },
  {
   "cell_type": "markdown",
   "id": "2d1712b5",
   "metadata": {},
   "source": [
    "**Задание 16. На основании диапазонов, указанных ниже, создайте в датафрейме `data` столбец `total_income_category` с категориями:**\n",
    "\n",
    "- 0–30000 — `'E'`;\n",
    "- 30001–50000 — `'D'`;\n",
    "- 50001–200000 — `'C'`;\n",
    "- 200001–1000000 — `'B'`;\n",
    "- 1000001 и выше — `'A'`.\n",
    "\n",
    "\n",
    "**Например, кредитополучателю с доходом 25000 нужно назначить категорию `'E'`, а клиенту, получающему 235000, — `'B'`. Используйте собственную функцию с именем `categorize_income()` и метод `apply()`.**"
   ]
  },
  {
   "cell_type": "code",
   "execution_count": null,
   "id": "92182e03",
   "metadata": {},
   "outputs": [],
   "source": [
    "# создайте функцию categorize_income()\n",
    "def categorize_income(row):\n",
    "    if row['total_income'] <= 30000:\n",
    "        return 'E'\n",
    "    elif 30001 <= row['total_income'] < 50000:\n",
    "        return 'D'\n",
    "    elif 50001 <= row['total_income'] < 200000:\n",
    "        return 'C'\n",
    "    elif 200001 <= row['total_income'] < 1000000:\n",
    "        return 'B'\n",
    "    else:\n",
    "        return 'A'"
   ]
  },
  {
   "cell_type": "code",
   "execution_count": null,
   "id": "9835ac4b",
   "metadata": {},
   "outputs": [],
   "source": [
    "# примените функцию методом apply()\n",
    "data['total_income_category'] = data.apply(categorize_income, axis=1)"
   ]
  },
  {
   "cell_type": "markdown",
   "id": "aea72427",
   "metadata": {},
   "source": [
    "**Задание 17. Выведите на экран перечень уникальных целей взятия кредита из столбца `purpose`.**"
   ]
  },
  {
   "cell_type": "code",
   "execution_count": null,
   "id": "9e6b4e5d",
   "metadata": {},
   "outputs": [
    {
     "name": "stdout",
     "output_type": "stream",
     "text": [
      "['покупка жилья' 'приобретение автомобиля' 'дополнительное образование'\n",
      " 'сыграть свадьбу' 'операции с жильем' 'образование'\n",
      " 'на проведение свадьбы' 'покупка жилья для семьи' 'покупка недвижимости'\n",
      " 'покупка коммерческой недвижимости' 'покупка жилой недвижимости'\n",
      " 'строительство собственной недвижимости' 'недвижимость'\n",
      " 'строительство недвижимости' 'на покупку подержанного автомобиля'\n",
      " 'на покупку своего автомобиля' 'операции с коммерческой недвижимостью'\n",
      " 'строительство жилой недвижимости' 'жилье'\n",
      " 'операции со своей недвижимостью' 'автомобили' 'заняться образованием'\n",
      " 'сделка с подержанным автомобилем' 'получение образования' 'автомобиль'\n",
      " 'свадьба' 'получение дополнительного образования' 'покупка своего жилья'\n",
      " 'операции с недвижимостью' 'получение высшего образования'\n",
      " 'свой автомобиль' 'сделка с автомобилем' 'профильное образование'\n",
      " 'высшее образование' 'покупка жилья для сдачи' 'на покупку автомобиля'\n",
      " 'ремонт жилью' 'заняться высшим образованием']\n"
     ]
    }
   ],
   "source": [
    "# ваш код здесь\n",
    "print(data['purpose'].unique())"
   ]
  },
  {
   "cell_type": "markdown",
   "id": "3f6084e4",
   "metadata": {},
   "source": [
    "**Задание 18. Создайте функцию, которая на основании данных из столбца `purpose` сформирует новый столбец `purpose_category`, в который войдут следующие категории:**\n",
    "\n",
    "- `'операции с автомобилем'`,\n",
    "- `'операции с недвижимостью'`,\n",
    "- `'проведение свадьбы'`,\n",
    "- `'получение образования'`.\n",
    "\n",
    "**Например, если в столбце `purpose` находится подстрока `'на покупку автомобиля'`, то в столбце `purpose_category` должна появиться строка `'операции с автомобилем'`.**\n",
    "\n",
    "**Используйте собственную функцию с именем `categorize_purpose()` и метод `apply()`. Изучите данные в столбце `purpose` и определите, какие подстроки помогут вам правильно определить категорию.**"
   ]
  },
  {
   "cell_type": "code",
   "execution_count": null,
   "id": "3cc36454",
   "metadata": {},
   "outputs": [],
   "source": [
    "# создайте функцию categorize_purpose()\n",
    "def categorize_purpose(row):\n",
    "    if row['purpose'].find('автомоб') != -1:\n",
    "        return 'операции с автомобилем'\n",
    "    if row['purpose'].find('недвижим') != -1 or row['purpose'].find('жиль') != -1:\n",
    "        return 'операции с недвижимостью'\n",
    "    if row['purpose'].find('свадь') != -1:\n",
    "        return 'проведение свадьбы'\n",
    "    else:\n",
    "        return 'получение образования'"
   ]
  },
  {
   "cell_type": "code",
   "execution_count": null,
   "id": "2f3ad5f7",
   "metadata": {},
   "outputs": [],
   "source": [
    "# примените функцию методом apply()\n",
    "data['purpose_category'] = data.apply(categorize_purpose, axis=1)"
   ]
  },
  {
   "cell_type": "markdown",
   "id": "5f0124d9",
   "metadata": {
    "deletable": false,
    "editable": false,
    "id": "09b242bf"
   },
   "source": [
    "### Шаг 3. Исследуйте данные и ответьте на вопросы"
   ]
  },
  {
   "cell_type": "markdown",
   "id": "4413d89a",
   "metadata": {
    "deletable": false,
    "editable": false,
    "id": "c5d66278"
   },
   "source": [
    "#### 3.1 Есть ли зависимость между количеством детей и возвратом кредита в срок?"
   ]
  },
  {
   "cell_type": "code",
   "execution_count": 22,
   "id": "08d04d63",
   "metadata": {
    "deletable": false,
    "id": "2cacfc4a"
   },
   "outputs": [
    {
     "data": {
      "text/html": [
       "<div>\n",
       "<style scoped>\n",
       "    .dataframe tbody tr th:only-of-type {\n",
       "        vertical-align: middle;\n",
       "    }\n",
       "\n",
       "    .dataframe tbody tr th {\n",
       "        vertical-align: top;\n",
       "    }\n",
       "\n",
       "    .dataframe thead th {\n",
       "        text-align: right;\n",
       "    }\n",
       "</style>\n",
       "<table border=\"1\" class=\"dataframe\">\n",
       "  <thead>\n",
       "    <tr style=\"text-align: right;\">\n",
       "      <th></th>\n",
       "      <th>размер_подгруппы</th>\n",
       "      <th>количество_невозвратов</th>\n",
       "      <th>доля невозвратов</th>\n",
       "    </tr>\n",
       "    <tr>\n",
       "      <th>children</th>\n",
       "      <th></th>\n",
       "      <th></th>\n",
       "      <th></th>\n",
       "    </tr>\n",
       "  </thead>\n",
       "  <tbody>\n",
       "    <tr>\n",
       "      <th>0</th>\n",
       "      <td>14091</td>\n",
       "      <td>1063</td>\n",
       "      <td>0.075438</td>\n",
       "    </tr>\n",
       "    <tr>\n",
       "      <th>1</th>\n",
       "      <td>4808</td>\n",
       "      <td>444</td>\n",
       "      <td>0.092346</td>\n",
       "    </tr>\n",
       "    <tr>\n",
       "      <th>2</th>\n",
       "      <td>2052</td>\n",
       "      <td>194</td>\n",
       "      <td>0.094542</td>\n",
       "    </tr>\n",
       "    <tr>\n",
       "      <th>3</th>\n",
       "      <td>330</td>\n",
       "      <td>27</td>\n",
       "      <td>0.081818</td>\n",
       "    </tr>\n",
       "    <tr>\n",
       "      <th>4</th>\n",
       "      <td>41</td>\n",
       "      <td>4</td>\n",
       "      <td>0.097561</td>\n",
       "    </tr>\n",
       "    <tr>\n",
       "      <th>5</th>\n",
       "      <td>9</td>\n",
       "      <td>0</td>\n",
       "      <td>0.000000</td>\n",
       "    </tr>\n",
       "  </tbody>\n",
       "</table>\n",
       "</div>"
      ],
      "text/plain": [
       "          размер_подгруппы  количество_невозвратов  доля невозвратов\n",
       "children                                                            \n",
       "0                    14091                    1063          0.075438\n",
       "1                     4808                     444          0.092346\n",
       "2                     2052                     194          0.094542\n",
       "3                      330                      27          0.081818\n",
       "4                       41                       4          0.097561\n",
       "5                        9                       0          0.000000"
      ]
     },
     "execution_count": 22,
     "metadata": {},
     "output_type": "execute_result"
    }
   ],
   "source": [
    "# Ваш код будет здесь. Вы можете создавать новые ячейки.\n",
    "\n",
    "# Импортируем библиотеки для построения графиков\n",
    "import matplotlib.pyplot as plt\n",
    "import seaborn as sns\n",
    "\n",
    "# Создаем отдельную таблицу для анализа. \n",
    "# Это не обязательно - можно осуществить группировки и расчет доли невозвратов по подгруппам в переменных и вернуть результат.\n",
    "# Но для наглядности включаем столбцы с промежуточными данными\n",
    "children_debt_analisys = pd.DataFrame(columns = ['размер_подгруппы','количество_невозвратов'])\n",
    "\n",
    "children_debt_analisys['размер_подгруппы'] = data.groupby('children')['debt'].count()\n",
    "children_debt_analisys['количество_невозвратов'] = data.groupby('children')['debt'].sum()\n",
    "\n",
    "#  считаем долю невозвратов по подгруппам\n",
    "children_debt_analisys['доля невозвратов'] = children_debt_analisys['количество_невозвратов'] / \\\n",
    "children_debt_analisys['размер_подгруппы']\n",
    "                                      \n",
    "children_debt_analisys"
   ]
  },
  {
   "cell_type": "code",
   "execution_count": 23,
   "id": "9c2a4dcc",
   "metadata": {},
   "outputs": [
    {
     "data": {
      "image/png": "[encoded data removed]",
      "text/plain": [
       "<Figure size 432x288 with 1 Axes>"
      ]
     },
     "metadata": {
      "needs_background": "light"
     },
     "output_type": "display_data"
    }
   ],
   "source": [
    "#строим график\n",
    "\n",
    "x_bar = children_debt_analisys.index\n",
    "y_bar = children_debt_analisys['доля невозвратов']\n",
    "\n",
    "p = plt.bar(x_bar, y_bar)\n",
    "plt.xlabel('количество детей')\n",
    "plt.ylabel('доля невозвратов')\n",
    "plt.title(\"Доля невозвратов по группам с количеством детей\")\n",
    "\n",
    "#выделяем цветом столбцы min(за исключением 0) и max\n",
    "mask = children_debt_analisys['доля невозвратов'] != 0 #исключаем значение 0 из расчета min\n",
    "min_color = children_debt_analisys.loc[mask, 'доля невозвратов'].idxmin()\n",
    "max_color = children_debt_analisys['доля невозвратов'].idxmax()\n",
    "\n",
    "p.patches[min_color].set_facecolor('green')\n",
    "p.patches[max_color].set_facecolor('red')\n",
    "\n",
    "plt.show()"
   ]
  },
  {
   "cell_type": "markdown",
   "id": "5856c4c4",
   "metadata": {
    "deletable": false,
    "id": "3a6b99ec"
   },
   "source": [
    "**Вывод:** \n",
    "\n",
    "На базе агрегированных данных о количестве невозвратов кредитов по группам респондентов, имеющих одинаковое количество детей, можно предположить наличие связи между количеством детей и вероятностью  невозврата кредита в срок: с увеличением количества детей доля невозвратов растет.\n",
    "\n",
    "При этом важно отметить необходимость проверки размера выборки от генеральной совокупности и размеров подгрупп от выборки на статистическую значимость (пример - данные по подгруппе с количеством детей \"5\" и долей невозвратов \"0\" вызывают сомнение в виду малого количества участников группы - 9 респондентов)."
   ]
  },
  {
   "cell_type": "markdown",
   "id": "fd443d5b",
   "metadata": {
    "deletable": false,
    "editable": false,
    "id": "97be82ca"
   },
   "source": [
    "#### 3.2 Есть ли зависимость между семейным положением и возвратом кредита в срок?"
   ]
  },
  {
   "cell_type": "code",
   "execution_count": 24,
   "id": "f2184dd8",
   "metadata": {
    "deletable": false,
    "id": "dc3f7ee8"
   },
   "outputs": [
    {
     "data": {
      "text/html": [
       "<div>\n",
       "<style scoped>\n",
       "    .dataframe tbody tr th:only-of-type {\n",
       "        vertical-align: middle;\n",
       "    }\n",
       "\n",
       "    .dataframe tbody tr th {\n",
       "        vertical-align: top;\n",
       "    }\n",
       "\n",
       "    .dataframe thead th {\n",
       "        text-align: right;\n",
       "    }\n",
       "</style>\n",
       "<table border=\"1\" class=\"dataframe\">\n",
       "  <thead>\n",
       "    <tr style=\"text-align: right;\">\n",
       "      <th></th>\n",
       "      <th>размер_подгруппы</th>\n",
       "      <th>количество_невозвратов</th>\n",
       "      <th>доля невозвратов</th>\n",
       "    </tr>\n",
       "    <tr>\n",
       "      <th>family_status</th>\n",
       "      <th></th>\n",
       "      <th></th>\n",
       "      <th></th>\n",
       "    </tr>\n",
       "  </thead>\n",
       "  <tbody>\n",
       "    <tr>\n",
       "      <th>Не женат / не замужем</th>\n",
       "      <td>2796</td>\n",
       "      <td>273</td>\n",
       "      <td>0.097639</td>\n",
       "    </tr>\n",
       "    <tr>\n",
       "      <th>в разводе</th>\n",
       "      <td>1189</td>\n",
       "      <td>84</td>\n",
       "      <td>0.070648</td>\n",
       "    </tr>\n",
       "    <tr>\n",
       "      <th>вдовец / вдова</th>\n",
       "      <td>951</td>\n",
       "      <td>63</td>\n",
       "      <td>0.066246</td>\n",
       "    </tr>\n",
       "    <tr>\n",
       "      <th>гражданский брак</th>\n",
       "      <td>4134</td>\n",
       "      <td>385</td>\n",
       "      <td>0.093130</td>\n",
       "    </tr>\n",
       "    <tr>\n",
       "      <th>женат / замужем</th>\n",
       "      <td>12261</td>\n",
       "      <td>927</td>\n",
       "      <td>0.075606</td>\n",
       "    </tr>\n",
       "  </tbody>\n",
       "</table>\n",
       "</div>"
      ],
      "text/plain": [
       "                       размер_подгруппы  количество_невозвратов  \\\n",
       "family_status                                                     \n",
       "Не женат / не замужем              2796                     273   \n",
       "в разводе                          1189                      84   \n",
       "вдовец / вдова                      951                      63   \n",
       "гражданский брак                   4134                     385   \n",
       "женат / замужем                   12261                     927   \n",
       "\n",
       "                       доля невозвратов  \n",
       "family_status                            \n",
       "Не женат / не замужем          0.097639  \n",
       "в разводе                      0.070648  \n",
       "вдовец / вдова                 0.066246  \n",
       "гражданский брак               0.093130  \n",
       "женат / замужем                0.075606  "
      ]
     },
     "execution_count": 24,
     "metadata": {},
     "output_type": "execute_result"
    }
   ],
   "source": [
    "# Ваш код будет здесь. Вы можете создавать новые ячейки.\n",
    "\n",
    "# Создаем отдельную таблицу для анализа. \n",
    "# Это не обязательно - можно осуществить группировки и расчет доли невозвратов по подгруппам в переменных и вернуть результат.\n",
    "# Но для наглядности включаем столбцы с промежуточными данными\n",
    "\n",
    "marriage_debt_analisys = pd.DataFrame(columns = ['размер_подгруппы','количество_невозвратов'])\n",
    "\n",
    "marriage_debt_analisys['размер_подгруппы'] = data.groupby('family_status')['debt'].count()\n",
    "marriage_debt_analisys['количество_невозвратов'] = data.groupby('family_status')['debt'].sum()\n",
    "\n",
    "# Cчитаем долю невозвратов по подгруппам\n",
    "marriage_debt_analisys['доля невозвратов'] = marriage_debt_analisys['количество_невозвратов'] / \\\n",
    "marriage_debt_analisys['размер_подгруппы']\n",
    "                                      \n",
    "marriage_debt_analisys"
   ]
  },
  {
   "cell_type": "code",
   "execution_count": 25,
   "id": "8f034a3b",
   "metadata": {},
   "outputs": [
    {
     "data": {
      "image/png": "[encoded data removed]",
      "text/plain": [
       "<Figure size 432x288 with 1 Axes>"
      ]
     },
     "metadata": {
      "needs_background": "light"
     },
     "output_type": "display_data"
    }
   ],
   "source": [
    "#строим график\n",
    "\n",
    "x_bar = marriage_debt_analisys.index\n",
    "y_bar = marriage_debt_analisys['доля невозвратов']\n",
    "\n",
    "p = plt.bar(x_bar, y_bar)\n",
    "plt.xlabel('семейный статус')\n",
    "plt.xticks(rotation=90)\n",
    "plt.ylabel('доля невозвратов')\n",
    "plt.title(\"Доля невозвратов по семейному признаку\")\n",
    "\n",
    "#выделяем цветом столбцы min и max\n",
    "min_index = marriage_debt_analisys['доля невозвратов'].idxmin()\n",
    "max_index = marriage_debt_analisys['доля невозвратов'].idxmax()\n",
    "\n",
    "mask = {'Не женат / не замужем':0, 'в разводе':1, 'вдовец / вдова':2, 'гражданский брак':3, 'женат / замужем':4}\n",
    "\n",
    "min_color = mask.get(min_index)\n",
    "max_color = mask.get(max_index)\n",
    "\n",
    "p.patches[min_color].set_facecolor('green')\n",
    "p.patches[max_color].set_facecolor('red')\n",
    "\n",
    "plt.show()"
   ]
  },
  {
   "cell_type": "markdown",
   "id": "9bc36310",
   "metadata": {
    "deletable": false,
    "id": "1cef7837"
   },
   "source": [
    "**Вывод:** \n",
    "\n",
    "На базе агрегированных данных о количестве невозвратов кредитов по группам респондентов, имеющих одинаковое семейное положение, можно сделать следующие выводы о наличии связи между семейным статусом и вероятностью невозврата кредита в срок: \n",
    "- респонденты со статусами \"Не женат / не замужем\" и \"гражданский брак\" имеют повышенную долю невозвратов(9,7% и 9,3% соответственно);\n",
    "- женатые/замужние и разведенные респонденты демонстрируют более высокую финансовую дисциплину с долями невозвратов на уровнях 7,5% и 7,1% соответственно;\n",
    "- вдовствующие заемщики демонстрируют самый низкий уровень невозвратов на уровне 6,6%."
   ]
  },
  {
   "cell_type": "markdown",
   "id": "e025be92",
   "metadata": {
    "deletable": false,
    "editable": false,
    "id": "1e8b2fca"
   },
   "source": [
    "#### 3.3 Есть ли зависимость между уровнем дохода и возвратом кредита в срок?"
   ]
  },
  {
   "cell_type": "code",
   "execution_count": 26,
   "id": "1a918569",
   "metadata": {
    "deletable": false,
    "id": "cd7e3720",
    "scrolled": true
   },
   "outputs": [
    {
     "data": {
      "text/html": [
       "<div>\n",
       "<style scoped>\n",
       "    .dataframe tbody tr th:only-of-type {\n",
       "        vertical-align: middle;\n",
       "    }\n",
       "\n",
       "    .dataframe tbody tr th {\n",
       "        vertical-align: top;\n",
       "    }\n",
       "\n",
       "    .dataframe thead th {\n",
       "        text-align: right;\n",
       "    }\n",
       "</style>\n",
       "<table border=\"1\" class=\"dataframe\">\n",
       "  <thead>\n",
       "    <tr style=\"text-align: right;\">\n",
       "      <th></th>\n",
       "      <th>размер_подгруппы</th>\n",
       "      <th>количество_невозвратов</th>\n",
       "      <th>доля невозвратов</th>\n",
       "    </tr>\n",
       "    <tr>\n",
       "      <th>total_income_category</th>\n",
       "      <th></th>\n",
       "      <th></th>\n",
       "      <th></th>\n",
       "    </tr>\n",
       "  </thead>\n",
       "  <tbody>\n",
       "    <tr>\n",
       "      <th>A</th>\n",
       "      <td>25</td>\n",
       "      <td>2</td>\n",
       "      <td>0.080000</td>\n",
       "    </tr>\n",
       "    <tr>\n",
       "      <th>B</th>\n",
       "      <td>5014</td>\n",
       "      <td>354</td>\n",
       "      <td>0.070602</td>\n",
       "    </tr>\n",
       "    <tr>\n",
       "      <th>C</th>\n",
       "      <td>15921</td>\n",
       "      <td>1353</td>\n",
       "      <td>0.084982</td>\n",
       "    </tr>\n",
       "    <tr>\n",
       "      <th>D</th>\n",
       "      <td>349</td>\n",
       "      <td>21</td>\n",
       "      <td>0.060172</td>\n",
       "    </tr>\n",
       "    <tr>\n",
       "      <th>E</th>\n",
       "      <td>22</td>\n",
       "      <td>2</td>\n",
       "      <td>0.090909</td>\n",
       "    </tr>\n",
       "  </tbody>\n",
       "</table>\n",
       "</div>"
      ],
      "text/plain": [
       "                       размер_подгруппы  количество_невозвратов  \\\n",
       "total_income_category                                             \n",
       "A                                    25                       2   \n",
       "B                                  5014                     354   \n",
       "C                                 15921                    1353   \n",
       "D                                   349                      21   \n",
       "E                                    22                       2   \n",
       "\n",
       "                       доля невозвратов  \n",
       "total_income_category                    \n",
       "A                              0.080000  \n",
       "B                              0.070602  \n",
       "C                              0.084982  \n",
       "D                              0.060172  \n",
       "E                              0.090909  "
      ]
     },
     "execution_count": 26,
     "metadata": {},
     "output_type": "execute_result"
    }
   ],
   "source": [
    "# Ваш код будет здесь. Вы можете создавать новые ячейки.\n",
    "\n",
    "# Создаем отдельную таблицу для анализа. \n",
    "# Это не обязательно - можно осуществить группировки и расчет доли невозвратов по подгруппам в переменных и вернуть результат.\n",
    "# Но для наглядности включаем столбцы с промежуточными данными                                \n",
    "                                    \n",
    "income_debt_analisys = pd.DataFrame(columns = ['размер_подгруппы','количество_невозвратов'])\n",
    "\n",
    "income_debt_analisys['размер_подгруппы'] = data.groupby('total_income_category')['debt'].count()\n",
    "income_debt_analisys['количество_невозвратов'] = data.groupby('total_income_category')['debt'].sum()\n",
    "\n",
    "#  считаем долю невозвратов по подгруппам\n",
    "income_debt_analisys['доля невозвратов'] = income_debt_analisys['количество_невозвратов'] / \\\n",
    "income_debt_analisys['размер_подгруппы']\n",
    "                                      \n",
    "income_debt_analisys"
   ]
  },
  {
   "cell_type": "code",
   "execution_count": 27,
   "id": "8f1f1079",
   "metadata": {},
   "outputs": [
    {
     "data": {
      "image/png": "[encoded data removed]",
      "text/plain": [
       "<Figure size 432x288 with 1 Axes>"
      ]
     },
     "metadata": {
      "needs_background": "light"
     },
     "output_type": "display_data"
    }
   ],
   "source": [
    "#строим график\n",
    "\n",
    "x_bar = income_debt_analisys.index\n",
    "y_bar = income_debt_analisys['доля невозвратов']\n",
    "\n",
    "p = plt.bar(x_bar, y_bar)\n",
    "plt.xlabel('категория уровня дохода')\n",
    "plt.ylabel('доля невозвратов')\n",
    "plt.title(\"Доля невозвратов по признаку дохода\")\n",
    "\n",
    "#выделяем цветом столбцы min и max\n",
    "min_index = income_debt_analisys['доля невозвратов'].idxmin()\n",
    "max_index = income_debt_analisys['доля невозвратов'].idxmax()\n",
    "\n",
    "mask = {'A':0, 'B':1, 'C':2, 'D':3, 'E':4}\n",
    "\n",
    "min_color = mask.get(min_index)\n",
    "max_color = mask.get(max_index)\n",
    "\n",
    "p.patches[min_color].set_facecolor('green')\n",
    "p.patches[max_color].set_facecolor('red')\n",
    "\n",
    "plt.show()"
   ]
  },
  {
   "cell_type": "markdown",
   "id": "2d5910a3",
   "metadata": {
    "deletable": false,
    "id": "e8593def"
   },
   "source": [
    "**Вывод:** \n",
    "\n",
    "На базе агрегированных данных о количестве невозвратов кредитов по группам респондентов, имеющих схожий уровень дохода, можно сделать ограниченный вывод, что респонденты с более высоким уровнем дохода имеют меньший процент невозвратов: 7,1% (для группы B с доходом от 200 тысяч до 1 млн) против 8,5% (для группы C с доходом от 50 тысяч до 200 тысяч).\n",
    "\n",
    "По другим группам респондентов (A,D,E) количество данных незначительно, в связи с чем точность оценки крайне низка (для информации сведения отражены в таблице)."
   ]
  },
  {
   "cell_type": "markdown",
   "id": "36b5302b",
   "metadata": {
    "deletable": false,
    "editable": false,
    "id": "99ecbd1f"
   },
   "source": [
    "#### 3.4 Как разные цели кредита влияют на его возврат в срок?"
   ]
  },
  {
   "cell_type": "code",
   "execution_count": 28,
   "id": "cbc0cbaa",
   "metadata": {
    "deletable": false,
    "id": "2b687290",
    "scrolled": true
   },
   "outputs": [
    {
     "data": {
      "text/html": [
       "<div>\n",
       "<style scoped>\n",
       "    .dataframe tbody tr th:only-of-type {\n",
       "        vertical-align: middle;\n",
       "    }\n",
       "\n",
       "    .dataframe tbody tr th {\n",
       "        vertical-align: top;\n",
       "    }\n",
       "\n",
       "    .dataframe thead th {\n",
       "        text-align: right;\n",
       "    }\n",
       "</style>\n",
       "<table border=\"1\" class=\"dataframe\">\n",
       "  <thead>\n",
       "    <tr style=\"text-align: right;\">\n",
       "      <th></th>\n",
       "      <th>размер_подгруппы</th>\n",
       "      <th>количество_невозвратов</th>\n",
       "      <th>доля невозвратов</th>\n",
       "    </tr>\n",
       "    <tr>\n",
       "      <th>purpose_category</th>\n",
       "      <th></th>\n",
       "      <th></th>\n",
       "      <th></th>\n",
       "    </tr>\n",
       "  </thead>\n",
       "  <tbody>\n",
       "    <tr>\n",
       "      <th>операции с автомобилем</th>\n",
       "      <td>4279</td>\n",
       "      <td>400</td>\n",
       "      <td>0.093480</td>\n",
       "    </tr>\n",
       "    <tr>\n",
       "      <th>операции с недвижимостью</th>\n",
       "      <td>10751</td>\n",
       "      <td>780</td>\n",
       "      <td>0.072551</td>\n",
       "    </tr>\n",
       "    <tr>\n",
       "      <th>получение образования</th>\n",
       "      <td>3988</td>\n",
       "      <td>369</td>\n",
       "      <td>0.092528</td>\n",
       "    </tr>\n",
       "    <tr>\n",
       "      <th>проведение свадьбы</th>\n",
       "      <td>2313</td>\n",
       "      <td>183</td>\n",
       "      <td>0.079118</td>\n",
       "    </tr>\n",
       "  </tbody>\n",
       "</table>\n",
       "</div>"
      ],
      "text/plain": [
       "                          размер_подгруппы  количество_невозвратов  \\\n",
       "purpose_category                                                     \n",
       "операции с автомобилем                4279                     400   \n",
       "операции с недвижимостью             10751                     780   \n",
       "получение образования                 3988                     369   \n",
       "проведение свадьбы                    2313                     183   \n",
       "\n",
       "                          доля невозвратов  \n",
       "purpose_category                            \n",
       "операции с автомобилем            0.093480  \n",
       "операции с недвижимостью          0.072551  \n",
       "получение образования             0.092528  \n",
       "проведение свадьбы                0.079118  "
      ]
     },
     "execution_count": 28,
     "metadata": {},
     "output_type": "execute_result"
    }
   ],
   "source": [
    "# Ваш код будет здесь. Вы можете создавать новые ячейки.\n",
    "#print(data.head(10))\n",
    "# Создаем отдельную таблицу для анализа. \n",
    "# Это не обязательно - можно осуществить группировки и расчет доли невозвратов по подгруппам в переменных и вернуть результат.\n",
    "# Но для наглядности включаем столбцы с промежуточными данными                                \n",
    "                                    \n",
    "purpose_debt_analisys = pd.DataFrame(columns = ['размер_подгруппы','количество_невозвратов'])\n",
    "\n",
    "purpose_debt_analisys['размер_подгруппы'] = data.groupby('purpose_category')['debt'].count()\n",
    "purpose_debt_analisys['количество_невозвратов'] = data.groupby('purpose_category')['debt'].sum()\n",
    "\n",
    "#  считаем долю невозвратов по подгруппам\n",
    "purpose_debt_analisys['доля невозвратов'] = purpose_debt_analisys['количество_невозвратов'] / \\\n",
    "purpose_debt_analisys['размер_подгруппы']\n",
    "                                      \n",
    "purpose_debt_analisys"
   ]
  },
  {
   "cell_type": "code",
   "execution_count": 29,
   "id": "9dd79fd7",
   "metadata": {},
   "outputs": [
    {
     "data": {
      "image/png": "[encoded data removed]",
      "text/plain": [
       "<Figure size 432x288 with 1 Axes>"
      ]
     },
     "metadata": {
      "needs_background": "light"
     },
     "output_type": "display_data"
    }
   ],
   "source": [
    "#строим график\n",
    "\n",
    "x_bar = purpose_debt_analisys.index\n",
    "y_bar = purpose_debt_analisys['доля невозвратов']\n",
    "\n",
    "p = plt.bar(x_bar, y_bar)\n",
    "plt.xlabel('категория целевого использования')\n",
    "plt.xticks(rotation=90)\n",
    "plt.ylabel('доля невозвратов')\n",
    "plt.title(\"Доля невозвратов по признаку целей\")\n",
    "\n",
    "#выделяем цветом столбцы min и max\n",
    "min_index = purpose_debt_analisys['доля невозвратов'].idxmin()\n",
    "max_index = purpose_debt_analisys['доля невозвратов'].idxmax()\n",
    "\n",
    "mask = {'операции с автомобилем':0, 'операции с недвижимостью':1, 'получение образования':2, 'проведение свадьбы':3}\n",
    "\n",
    "min_color = mask.get(min_index)\n",
    "max_color = mask.get(max_index)\n",
    "\n",
    "p.patches[min_color].set_facecolor('green')\n",
    "p.patches[max_color].set_facecolor('red')\n",
    "\n",
    "plt.show()"
   ]
  },
  {
   "cell_type": "markdown",
   "id": "64a391a9",
   "metadata": {
    "deletable": false,
    "id": "b4bb2ce6"
   },
   "source": [
    "**Вывод:** \n",
    "\n",
    "На базе агрегированных данных о количестве невозвратов кредитов по группам респондентов, имеющих схожее целевое использование, можно сделать следующие выводы о наличии связи между целями кредитования и вероятностью невозврата кредита в срок:\n",
    "- заемщики, привлекающие кредиты на операции с автомобилями, а также для получения образования имеют более высокий процент невозвратов - по 9,3% для каждой категории;\n",
    "- заемщики, привлекающие кредиты на операции с недвижимостью и для проведения свадеб, имеют меньший процент невозвратов - 7,3% и 7,9% соответственно."
   ]
  },
  {
   "cell_type": "markdown",
   "id": "8a507401",
   "metadata": {
    "deletable": false,
    "editable": false,
    "id": "09c3ac4c"
   },
   "source": [
    "#### 3.5 Приведите возможные причины появления пропусков в исходных данных."
   ]
  },
  {
   "cell_type": "markdown",
   "id": "6bebc28c",
   "metadata": {
    "deletable": false,
    "id": "9da2ceda"
   },
   "source": [
    "*Ответ:* \n",
    "\n",
    "Количество пропусков в исходных данным по столюцам days_employed и total_income точно совпадает, возможно, связно с некорректным импортом из БД или ошибках при вводе данных респондентами."
   ]
  },
  {
   "cell_type": "markdown",
   "id": "26ecd683",
   "metadata": {
    "deletable": false,
    "editable": false,
    "id": "7b0487d6"
   },
   "source": [
    "#### 3.6 Объясните, почему заполнить пропуски медианным значением — лучшее решение для количественных переменных."
   ]
  },
  {
   "cell_type": "markdown",
   "id": "32c675f6",
   "metadata": {
    "deletable": false,
    "id": "7ecf2b8e"
   },
   "source": [
    "*Ответ:* \n",
    "\n",
    "Для количественных переменных нет ограничений по диапазону данных, поэтому экстремальное значение (или несколько) может значительно исказить среднее значение данных по выборке.\n",
    "Медианное значение в таком случае будет более корректным."
   ]
  },
  {
   "cell_type": "markdown",
   "id": "9cb2db29",
   "metadata": {
    "deletable": false,
    "editable": false,
    "id": "6db5255a"
   },
   "source": [
    "### Шаг 4: общий вывод."
   ]
  },
  {
   "cell_type": "markdown",
   "id": "ae32f0c1",
   "metadata": {
    "deletable": false,
    "id": "bad65432"
   },
   "source": [
    "По полученным данным была проведена работа по предварительной подготовке данных для анализа: очистка набора от дубликатов и экстремальных ошибочных значений, заполнение пропусков агрегированными сведениями (где это допустимо с учетом целей анализа) и добавлена категоризация сведений по данным дохода и целям кредитования для наглядности итоговых выводов.\n",
    "\n",
    "Проведенный анализ позволил сделать следующие выводы:\n",
    "\n",
    "- cвязь невозвратов кредитов с **количеством детей** у респондентов: с увеличением количества детей доля невозвратов растет: при отсутствии детей доля невозвратов составляет 7,5%, при наличии 1 и 2 детей доля невозвратов составляет 9,2% и 9,5% соответственно.\n",
    "- связь невозвратов кредитов с **семейным статусом** характеризуется более высокими рисками для неженатых заемщиков и находящихся в гражданском браке (уровень невозвратов 9,7% и 9,3% соответственно), по другим категориям уровень невозвратов ниже: женатые - 7,5% и разведенные - 7,1%. Вдовствующие заемщики демонстрируют самый низкий уровень невозвратов на уровне 6,6%.\n",
    "- связь невозвратов с **уровнем дохода**: респонденты с более высоким уровнем дохода имеют меньший процент невозвратов: 7,1% (для группы с доходом от 200 тысяч до 1 млн) против 8,5% (для группы с доходом от 50 тысяч до 200 тысяч).\n",
    "- связь невозвратов с **целевым использованием**: заемщики, привлекающие кредиты на операции с автомобилями и для получения образования имеют более высокий процент невозвратов - по 9,3% для каждой категории. В то же время кредиты на операции с недвижимостью и для проведения свадеб, имеют меньший процент невозвратов - 7,3% и 7,9% соответственно.\n",
    "\n",
    "С учетом вышеуказанных выводов можно сформировать портрет **идеального заемщика** (с точки зрения минимизации риска невозврата) - разведенный/вдовствующий заемщик, без детей, с уровнем дохода от 200 тысяч, привлекающий кредит для операций с недвижимостью. И **нежелательный заемщик** по тем же признакам - неженатый, имеющий 2 детей, с доходом от 50 до 200 тысяч, привлекающий кредит для приобретения автомобиля или получение образования.\n",
    "\n",
    "\n",
    "Для повышения качества анализа рекомендуется проверить корреткнось выгрузки или сбора данных по признакам количества отработанных дней и размера ежемесячного дохода."
   ]
  },
  {
   "cell_type": "code",
   "execution_count": 30,
   "id": "340692f4",
   "metadata": {},
   "outputs": [
    {
     "data": {
      "image/png": "[encoded data removed]",
      "text/plain": [
       "<Figure size 720x576 with 2 Axes>"
      ]
     },
     "metadata": {
      "needs_background": "light"
     },
     "output_type": "display_data"
    }
   ],
   "source": [
    "import pandas as pd\n",
    "import matplotlib.pyplot as plt\n",
    "\n",
    "# Функция для агрегации данных по заданному признаку и определения идеальных и нежелательных категорий\n",
    "def aggregate_and_identify(data, feature):\n",
    "    # Агрегация данных: среднее значение долга по каждой категории\n",
    "    grouped_data = data.groupby(feature)['debt'].agg(mean_debt='mean').reset_index()\n",
    "    \n",
    "    # Определение идеальной и нежелательной категории\n",
    "    ideal_category = grouped_data.loc[grouped_data['mean_debt'].idxmin()]\n",
    "    unwanted_category = grouped_data.loc[grouped_data['mean_debt'].idxmax()]\n",
    "    \n",
    "    return ideal_category, unwanted_category\n",
    "\n",
    "features = ['children', 'total_income_category', 'family_status', 'purpose_category']\n",
    "ideal_borrowers = []\n",
    "unwanted_borrowers = []\n",
    "\n",
    "# Агрегация данных и определение идеальных/нежелательных категорий для каждого признака\n",
    "for feature in features:\n",
    "    ideal, unwanted = aggregate_and_identify(data, feature)\n",
    "    ideal_borrowers.append((feature, ideal[feature], ideal['mean_debt']*100)) # Преобразуем долю в проценты\n",
    "    unwanted_borrowers.append((feature, unwanted[feature], unwanted['mean_debt']*100))\n",
    "\n",
    "# Преобразование списков в DataFrame для удобства визуализации\n",
    "df_ideal = pd.DataFrame(ideal_borrowers, columns=['Feature', 'Category', 'Mean Debt (%)'])\n",
    "df_unwanted = pd.DataFrame(unwanted_borrowers, columns=['Feature', 'Category', 'Mean Debt (%)'])\n",
    "\n",
    "# Визуализация результатов\n",
    "fig, ax = plt.subplots(2, 1, figsize=(10, 8))\n",
    "\n",
    "# Идеальные заемщики\n",
    "ax[0].barh(df_ideal['Feature'] + ': ' + df_ideal['Category'].astype(str), df_ideal['Mean Debt (%)'])\n",
    "ax[0].set_title('Идеальные заемщики по каждому признаку')\n",
    "ax[0].set_xlabel('Средний процент просрочек')\n",
    "ax[0].set_ylabel('Признак: Категория')\n",
    "\n",
    "# Нежелательные заемщики\n",
    "ax[1].barh(df_unwanted['Feature'] + ': ' + df_unwanted['Category'].astype(str), df_unwanted['Mean Debt (%)'])\n",
    "ax[1].set_title('Нежелательные заемщики по каждому признаку')\n",
    "ax[1].set_xlabel('Средний процент просрочек')\n",
    "ax[1].set_ylabel('Признак: Категория')\n",
    "\n",
    "plt.tight_layout()\n",
    "plt.show()"
   ]
  }
 ],
 "metadata": {
  "ExecuteTimeLog": [
   {
    "duration": 630,
    "start_time": "2024-03-11T12:21:44.989Z"
   },
   {
    "duration": 18,
    "start_time": "2024-03-11T12:21:45.620Z"
   },
   {
    "duration": 30,
    "start_time": "2024-03-11T12:21:45.639Z"
   },
   {
    "duration": 22,
    "start_time": "2024-03-11T12:21:45.670Z"
   },
   {
    "duration": 43,
    "start_time": "2024-03-11T12:21:45.694Z"
   },
   {
    "duration": 3,
    "start_time": "2024-03-11T12:21:45.738Z"
   },
   {
    "duration": 13,
    "start_time": "2024-03-11T12:21:45.743Z"
   },
   {
    "duration": 6,
    "start_time": "2024-03-11T12:21:45.757Z"
   },
   {
    "duration": 18,
    "start_time": "2024-03-11T12:21:45.764Z"
   },
   {
    "duration": 28,
    "start_time": "2024-03-11T12:21:45.783Z"
   },
   {
    "duration": 34,
    "start_time": "2024-03-11T12:21:45.812Z"
   },
   {
    "duration": 7,
    "start_time": "2024-03-11T12:21:45.847Z"
   },
   {
    "duration": 7,
    "start_time": "2024-03-11T12:21:45.855Z"
   },
   {
    "duration": 13,
    "start_time": "2024-03-11T12:21:45.864Z"
   },
   {
    "duration": 31,
    "start_time": "2024-03-11T12:21:45.878Z"
   },
   {
    "duration": 15,
    "start_time": "2024-03-11T12:21:45.910Z"
   },
   {
    "duration": 3,
    "start_time": "2024-03-11T12:21:45.927Z"
   },
   {
    "duration": 14,
    "start_time": "2024-03-11T12:21:45.931Z"
   },
   {
    "duration": 5,
    "start_time": "2024-03-11T12:21:45.947Z"
   },
   {
    "duration": 5,
    "start_time": "2024-03-11T12:21:45.953Z"
   },
   {
    "duration": 18,
    "start_time": "2024-03-11T12:21:45.959Z"
   },
   {
    "duration": 4,
    "start_time": "2024-03-11T12:21:45.979Z"
   },
   {
    "duration": 9,
    "start_time": "2024-03-11T12:21:45.984Z"
   },
   {
    "duration": 16,
    "start_time": "2024-03-11T12:21:45.994Z"
   },
   {
    "duration": 13,
    "start_time": "2024-03-11T12:21:46.011Z"
   },
   {
    "duration": 9,
    "start_time": "2024-03-11T12:57:23.397Z"
   },
   {
    "duration": 13,
    "start_time": "2024-03-11T12:58:08.624Z"
   },
   {
    "duration": 13,
    "start_time": "2024-03-11T12:59:47.861Z"
   },
   {
    "duration": 13,
    "start_time": "2024-03-11T13:00:06.677Z"
   },
   {
    "duration": 13,
    "start_time": "2024-03-11T13:00:28.142Z"
   },
   {
    "duration": 11,
    "start_time": "2024-03-11T13:01:01.959Z"
   },
   {
    "duration": 5,
    "start_time": "2024-03-11T13:14:26.803Z"
   },
   {
    "duration": 4,
    "start_time": "2024-03-11T13:14:41.381Z"
   },
   {
    "duration": 14,
    "start_time": "2024-03-11T13:19:43.550Z"
   },
   {
    "duration": 5,
    "start_time": "2024-03-11T13:20:35.952Z"
   },
   {
    "duration": 96,
    "start_time": "2024-03-11T13:56:03.819Z"
   },
   {
    "duration": 64,
    "start_time": "2024-03-11T13:56:29.116Z"
   },
   {
    "duration": 12,
    "start_time": "2024-03-11T14:02:00.554Z"
   },
   {
    "duration": 12,
    "start_time": "2024-03-11T14:03:03.456Z"
   },
   {
    "duration": 11,
    "start_time": "2024-03-11T14:03:13.374Z"
   },
   {
    "duration": 8,
    "start_time": "2024-03-11T14:09:50.912Z"
   },
   {
    "duration": 5,
    "start_time": "2024-03-11T14:10:18.788Z"
   },
   {
    "duration": 7,
    "start_time": "2024-03-11T14:11:34.421Z"
   },
   {
    "duration": 7,
    "start_time": "2024-03-11T14:11:48.724Z"
   },
   {
    "duration": 7,
    "start_time": "2024-03-11T14:29:46.463Z"
   },
   {
    "duration": 4,
    "start_time": "2024-03-11T14:30:50.615Z"
   },
   {
    "duration": 6,
    "start_time": "2024-03-11T14:32:18.830Z"
   },
   {
    "duration": 7,
    "start_time": "2024-03-11T14:34:44.085Z"
   },
   {
    "duration": 8,
    "start_time": "2024-03-11T14:37:35.816Z"
   },
   {
    "duration": 18,
    "start_time": "2024-03-11T14:38:01.367Z"
   },
   {
    "duration": 20,
    "start_time": "2024-03-11T14:40:59.837Z"
   },
   {
    "duration": 21,
    "start_time": "2024-03-11T14:45:00.267Z"
   },
   {
    "duration": 19,
    "start_time": "2024-03-11T14:45:20.972Z"
   },
   {
    "duration": 22,
    "start_time": "2024-03-11T14:46:41.608Z"
   },
   {
    "duration": 12,
    "start_time": "2024-03-11T14:49:26.208Z"
   },
   {
    "duration": 11,
    "start_time": "2024-03-11T14:50:08.857Z"
   },
   {
    "duration": 69,
    "start_time": "2024-03-11T14:52:58.658Z"
   },
   {
    "duration": 79,
    "start_time": "2024-03-11T14:53:46.091Z"
   },
   {
    "duration": 12,
    "start_time": "2024-03-11T15:07:32.301Z"
   },
   {
    "duration": 11,
    "start_time": "2024-03-11T15:07:50.385Z"
   },
   {
    "duration": 13,
    "start_time": "2024-03-11T15:08:12.588Z"
   },
   {
    "duration": 12,
    "start_time": "2024-03-11T15:10:32.996Z"
   },
   {
    "duration": 14,
    "start_time": "2024-03-11T16:41:36.547Z"
   },
   {
    "duration": 5,
    "start_time": "2024-03-11T16:42:11.634Z"
   },
   {
    "duration": 1048,
    "start_time": "2024-03-11T16:50:36.150Z"
   },
   {
    "duration": 21,
    "start_time": "2024-03-11T16:50:59.115Z"
   },
   {
    "duration": 18,
    "start_time": "2024-03-11T16:53:33.424Z"
   },
   {
    "duration": 15,
    "start_time": "2024-03-11T16:53:46.664Z"
   },
   {
    "duration": 12,
    "start_time": "2024-03-11T16:54:01.679Z"
   },
   {
    "duration": 14,
    "start_time": "2024-03-11T16:54:07.463Z"
   },
   {
    "duration": 17,
    "start_time": "2024-03-11T16:55:08.049Z"
   },
   {
    "duration": 20,
    "start_time": "2024-03-11T16:56:11.932Z"
   },
   {
    "duration": 18,
    "start_time": "2024-03-11T16:57:03.599Z"
   },
   {
    "duration": 19,
    "start_time": "2024-03-11T16:57:15.667Z"
   },
   {
    "duration": 20,
    "start_time": "2024-03-11T16:59:57.766Z"
   },
   {
    "duration": 20,
    "start_time": "2024-03-11T17:00:34.385Z"
   },
   {
    "duration": 409,
    "start_time": "2024-03-11T17:00:53.516Z"
   },
   {
    "duration": 19,
    "start_time": "2024-03-11T17:00:53.926Z"
   },
   {
    "duration": 13,
    "start_time": "2024-03-11T17:00:53.947Z"
   },
   {
    "duration": 9,
    "start_time": "2024-03-11T17:00:53.962Z"
   },
   {
    "duration": 36,
    "start_time": "2024-03-11T17:00:53.972Z"
   },
   {
    "duration": 2,
    "start_time": "2024-03-11T17:00:54.010Z"
   },
   {
    "duration": 10,
    "start_time": "2024-03-11T17:00:54.014Z"
   },
   {
    "duration": 4,
    "start_time": "2024-03-11T17:00:54.025Z"
   },
   {
    "duration": 13,
    "start_time": "2024-03-11T17:00:54.030Z"
   },
   {
    "duration": 18,
    "start_time": "2024-03-11T17:00:54.045Z"
   },
   {
    "duration": 29,
    "start_time": "2024-03-11T17:00:54.064Z"
   },
   {
    "duration": 7,
    "start_time": "2024-03-11T17:00:54.095Z"
   },
   {
    "duration": 6,
    "start_time": "2024-03-11T17:00:54.104Z"
   },
   {
    "duration": 12,
    "start_time": "2024-03-11T17:00:54.111Z"
   },
   {
    "duration": 20,
    "start_time": "2024-03-11T17:00:54.124Z"
   },
   {
    "duration": 25,
    "start_time": "2024-03-11T17:00:54.145Z"
   },
   {
    "duration": 3,
    "start_time": "2024-03-11T17:00:54.171Z"
   },
   {
    "duration": 12,
    "start_time": "2024-03-11T17:00:54.176Z"
   },
   {
    "duration": 17,
    "start_time": "2024-03-11T17:00:54.189Z"
   },
   {
    "duration": 3,
    "start_time": "2024-03-11T17:00:54.207Z"
   },
   {
    "duration": 21,
    "start_time": "2024-03-11T17:00:54.212Z"
   },
   {
    "duration": 36,
    "start_time": "2024-03-11T17:00:54.234Z"
   },
   {
    "duration": 20,
    "start_time": "2024-03-11T17:00:54.272Z"
   },
   {
    "duration": 2,
    "start_time": "2024-03-11T17:00:54.293Z"
   },
   {
    "duration": 4,
    "start_time": "2024-03-11T17:00:54.296Z"
   },
   {
    "duration": 20,
    "start_time": "2024-03-11T17:02:06.542Z"
   },
   {
    "duration": 22,
    "start_time": "2024-03-11T17:04:33.693Z"
   },
   {
    "duration": 18,
    "start_time": "2024-03-11T17:06:33.581Z"
   },
   {
    "duration": 21,
    "start_time": "2024-03-11T17:06:51.093Z"
   },
   {
    "duration": 21,
    "start_time": "2024-03-11T18:14:58.601Z"
   },
   {
    "duration": 22,
    "start_time": "2024-03-11T18:16:11.037Z"
   },
   {
    "duration": 25,
    "start_time": "2024-03-11T18:16:40.067Z"
   },
   {
    "duration": 23,
    "start_time": "2024-03-11T18:16:58.485Z"
   },
   {
    "duration": 27,
    "start_time": "2024-03-11T18:17:12.220Z"
   },
   {
    "duration": 20,
    "start_time": "2024-03-11T18:18:17.019Z"
   },
   {
    "duration": 19,
    "start_time": "2024-03-11T18:22:07.072Z"
   },
   {
    "duration": 19,
    "start_time": "2024-03-11T18:22:59.140Z"
   },
   {
    "duration": 72,
    "start_time": "2024-03-11T18:24:07.290Z"
   },
   {
    "duration": 17,
    "start_time": "2024-03-11T18:25:01.489Z"
   },
   {
    "duration": 15,
    "start_time": "2024-03-11T18:27:25.094Z"
   },
   {
    "duration": 15,
    "start_time": "2024-03-11T18:31:17.196Z"
   },
   {
    "duration": 13,
    "start_time": "2024-03-11T18:31:44.193Z"
   },
   {
    "duration": 12,
    "start_time": "2024-03-11T18:33:20.567Z"
   },
   {
    "duration": 15,
    "start_time": "2024-03-11T18:39:32.398Z"
   },
   {
    "duration": 24,
    "start_time": "2024-03-11T18:40:23.401Z"
   },
   {
    "duration": 454,
    "start_time": "2024-03-11T18:44:57.036Z"
   },
   {
    "duration": 19,
    "start_time": "2024-03-11T18:44:57.492Z"
   },
   {
    "duration": 40,
    "start_time": "2024-03-11T18:44:57.513Z"
   },
   {
    "duration": 38,
    "start_time": "2024-03-11T18:44:57.554Z"
   },
   {
    "duration": 69,
    "start_time": "2024-03-11T18:44:57.594Z"
   },
   {
    "duration": 2,
    "start_time": "2024-03-11T18:44:57.665Z"
   },
   {
    "duration": 29,
    "start_time": "2024-03-11T18:44:57.669Z"
   },
   {
    "duration": 8,
    "start_time": "2024-03-11T18:44:57.700Z"
   },
   {
    "duration": 20,
    "start_time": "2024-03-11T18:44:57.709Z"
   },
   {
    "duration": 29,
    "start_time": "2024-03-11T18:44:57.730Z"
   },
   {
    "duration": 42,
    "start_time": "2024-03-11T18:44:57.760Z"
   },
   {
    "duration": 8,
    "start_time": "2024-03-11T18:44:57.803Z"
   },
   {
    "duration": 5,
    "start_time": "2024-03-11T18:44:57.813Z"
   },
   {
    "duration": 10,
    "start_time": "2024-03-11T18:44:57.820Z"
   },
   {
    "duration": 17,
    "start_time": "2024-03-11T18:44:57.831Z"
   },
   {
    "duration": 20,
    "start_time": "2024-03-11T18:44:57.850Z"
   },
   {
    "duration": 3,
    "start_time": "2024-03-11T18:44:57.872Z"
   },
   {
    "duration": 12,
    "start_time": "2024-03-11T18:44:57.876Z"
   },
   {
    "duration": 5,
    "start_time": "2024-03-11T18:44:57.889Z"
   },
   {
    "duration": 3,
    "start_time": "2024-03-11T18:44:57.895Z"
   },
   {
    "duration": 12,
    "start_time": "2024-03-11T18:44:57.899Z"
   },
   {
    "duration": 14,
    "start_time": "2024-03-11T18:44:57.912Z"
   },
   {
    "duration": 41,
    "start_time": "2024-03-11T18:44:57.928Z"
   },
   {
    "duration": 1,
    "start_time": "2024-03-11T18:44:57.971Z"
   },
   {
    "duration": 10,
    "start_time": "2024-03-11T18:44:57.973Z"
   },
   {
    "duration": 27,
    "start_time": "2024-03-11T18:46:02.698Z"
   },
   {
    "duration": 18,
    "start_time": "2024-03-11T18:50:01.115Z"
   },
   {
    "duration": 18,
    "start_time": "2024-03-11T18:50:51.233Z"
   },
   {
    "duration": 18,
    "start_time": "2024-03-11T18:51:56.616Z"
   },
   {
    "duration": 20,
    "start_time": "2024-03-11T18:52:38.015Z"
   },
   {
    "duration": 14,
    "start_time": "2024-03-11T18:55:53.537Z"
   },
   {
    "duration": 17,
    "start_time": "2024-03-11T18:56:43.768Z"
   },
   {
    "duration": 26,
    "start_time": "2024-03-11T18:59:36.505Z"
   },
   {
    "duration": 18,
    "start_time": "2024-03-11T18:59:56.101Z"
   },
   {
    "duration": 16,
    "start_time": "2024-03-11T19:00:31.707Z"
   },
   {
    "duration": 11,
    "start_time": "2024-03-11T19:02:22.805Z"
   },
   {
    "duration": 17,
    "start_time": "2024-03-11T19:02:56.843Z"
   },
   {
    "duration": 19,
    "start_time": "2024-03-11T19:04:54.971Z"
   },
   {
    "duration": 20,
    "start_time": "2024-03-11T19:05:32.140Z"
   },
   {
    "duration": 22,
    "start_time": "2024-03-11T19:06:15.008Z"
   },
   {
    "duration": 65,
    "start_time": "2024-03-11T20:07:30.599Z"
   },
   {
    "duration": 24,
    "start_time": "2024-03-11T20:07:50.261Z"
   },
   {
    "duration": 1186,
    "start_time": "2024-03-11T20:17:33.938Z"
   },
   {
    "duration": 24,
    "start_time": "2024-03-11T20:18:03.155Z"
   },
   {
    "duration": 23,
    "start_time": "2024-03-11T20:18:49.367Z"
   },
   {
    "duration": 19,
    "start_time": "2024-03-11T20:19:53.935Z"
   },
   {
    "duration": 466,
    "start_time": "2024-03-11T20:20:02.042Z"
   },
   {
    "duration": 19,
    "start_time": "2024-03-11T20:20:02.510Z"
   },
   {
    "duration": 16,
    "start_time": "2024-03-11T20:20:02.530Z"
   },
   {
    "duration": 21,
    "start_time": "2024-03-11T20:20:02.548Z"
   },
   {
    "duration": 38,
    "start_time": "2024-03-11T20:20:02.570Z"
   },
   {
    "duration": 2,
    "start_time": "2024-03-11T20:20:02.610Z"
   },
   {
    "duration": 55,
    "start_time": "2024-03-11T20:20:02.613Z"
   },
   {
    "duration": 23,
    "start_time": "2024-03-11T20:20:02.669Z"
   },
   {
    "duration": 27,
    "start_time": "2024-03-11T20:20:02.693Z"
   },
   {
    "duration": 12,
    "start_time": "2024-03-11T20:20:02.722Z"
   },
   {
    "duration": 31,
    "start_time": "2024-03-11T20:20:02.735Z"
   },
   {
    "duration": 12,
    "start_time": "2024-03-11T20:20:02.767Z"
   },
   {
    "duration": 3,
    "start_time": "2024-03-11T20:20:02.780Z"
   },
   {
    "duration": 28,
    "start_time": "2024-03-11T20:20:02.784Z"
   },
   {
    "duration": 28,
    "start_time": "2024-03-11T20:20:02.813Z"
   },
   {
    "duration": 15,
    "start_time": "2024-03-11T20:20:02.843Z"
   },
   {
    "duration": 3,
    "start_time": "2024-03-11T20:20:02.861Z"
   },
   {
    "duration": 19,
    "start_time": "2024-03-11T20:20:02.866Z"
   },
   {
    "duration": 38,
    "start_time": "2024-03-11T20:20:02.887Z"
   },
   {
    "duration": 14,
    "start_time": "2024-03-11T20:20:02.927Z"
   },
   {
    "duration": 22,
    "start_time": "2024-03-11T20:20:02.943Z"
   },
   {
    "duration": 15,
    "start_time": "2024-03-11T20:20:02.966Z"
   },
   {
    "duration": 32,
    "start_time": "2024-03-11T20:20:02.983Z"
   },
   {
    "duration": 16,
    "start_time": "2024-03-11T20:20:03.017Z"
   },
   {
    "duration": 19,
    "start_time": "2024-03-11T20:20:03.034Z"
   },
   {
    "duration": 24,
    "start_time": "2024-03-11T20:20:46.774Z"
   },
   {
    "duration": 454,
    "start_time": "2024-03-11T20:21:27.429Z"
   },
   {
    "duration": 19,
    "start_time": "2024-03-11T20:21:27.884Z"
   },
   {
    "duration": 12,
    "start_time": "2024-03-11T20:21:27.904Z"
   },
   {
    "duration": 8,
    "start_time": "2024-03-11T20:21:27.917Z"
   },
   {
    "duration": 42,
    "start_time": "2024-03-11T20:21:27.926Z"
   },
   {
    "duration": 3,
    "start_time": "2024-03-11T20:21:27.970Z"
   },
   {
    "duration": 29,
    "start_time": "2024-03-11T20:21:27.974Z"
   },
   {
    "duration": 12,
    "start_time": "2024-03-11T20:21:28.004Z"
   },
   {
    "duration": 11,
    "start_time": "2024-03-11T20:21:28.018Z"
   },
   {
    "duration": 4,
    "start_time": "2024-03-11T20:21:28.031Z"
   },
   {
    "duration": 46,
    "start_time": "2024-03-11T20:21:28.036Z"
   },
   {
    "duration": 7,
    "start_time": "2024-03-11T20:21:28.084Z"
   },
   {
    "duration": 6,
    "start_time": "2024-03-11T20:21:28.093Z"
   },
   {
    "duration": 11,
    "start_time": "2024-03-11T20:21:28.100Z"
   },
   {
    "duration": 26,
    "start_time": "2024-03-11T20:21:28.112Z"
   },
   {
    "duration": 23,
    "start_time": "2024-03-11T20:21:28.139Z"
   },
   {
    "duration": 3,
    "start_time": "2024-03-11T20:21:28.164Z"
   },
   {
    "duration": 14,
    "start_time": "2024-03-11T20:21:28.168Z"
   },
   {
    "duration": 4,
    "start_time": "2024-03-11T20:21:28.183Z"
   },
   {
    "duration": 3,
    "start_time": "2024-03-11T20:21:28.189Z"
   },
   {
    "duration": 11,
    "start_time": "2024-03-11T20:21:28.193Z"
   },
   {
    "duration": 13,
    "start_time": "2024-03-11T20:21:28.206Z"
   },
   {
    "duration": 55,
    "start_time": "2024-03-11T20:21:28.220Z"
   },
   {
    "duration": 6,
    "start_time": "2024-03-11T20:21:28.277Z"
   },
   {
    "duration": 5,
    "start_time": "2024-03-11T20:21:28.284Z"
   },
   {
    "duration": 22,
    "start_time": "2024-03-11T20:21:47.413Z"
   },
   {
    "duration": 16,
    "start_time": "2024-03-11T20:22:26.382Z"
   },
   {
    "duration": 14,
    "start_time": "2024-03-11T20:35:09.584Z"
   },
   {
    "duration": 27,
    "start_time": "2024-03-11T20:39:51.157Z"
   },
   {
    "duration": 23,
    "start_time": "2024-03-11T20:43:55.173Z"
   },
   {
    "duration": 24,
    "start_time": "2024-03-11T20:44:21.786Z"
   },
   {
    "duration": 75,
    "start_time": "2024-03-11T20:49:31.837Z"
   },
   {
    "duration": 18,
    "start_time": "2024-03-11T20:50:28.305Z"
   },
   {
    "duration": 16,
    "start_time": "2024-03-11T20:54:41.221Z"
   },
   {
    "duration": 77,
    "start_time": "2024-03-11T20:55:49.007Z"
   },
   {
    "duration": 27,
    "start_time": "2024-03-11T20:59:08.441Z"
   },
   {
    "duration": 16,
    "start_time": "2024-03-11T20:59:31.440Z"
   },
   {
    "duration": 17,
    "start_time": "2024-03-11T21:00:19.637Z"
   },
   {
    "duration": 27,
    "start_time": "2024-03-11T21:01:12.257Z"
   },
   {
    "duration": 8,
    "start_time": "2024-03-11T21:01:44.941Z"
   },
   {
    "duration": 6,
    "start_time": "2024-03-11T21:01:53.590Z"
   },
   {
    "duration": 12,
    "start_time": "2024-03-11T21:02:15.989Z"
   },
   {
    "duration": 6,
    "start_time": "2024-03-11T21:03:09.693Z"
   },
   {
    "duration": 6,
    "start_time": "2024-03-11T21:03:45.225Z"
   },
   {
    "duration": 473,
    "start_time": "2024-03-11T21:03:55.443Z"
   },
   {
    "duration": 18,
    "start_time": "2024-03-11T21:03:55.917Z"
   },
   {
    "duration": 14,
    "start_time": "2024-03-11T21:03:55.936Z"
   },
   {
    "duration": 11,
    "start_time": "2024-03-11T21:03:55.952Z"
   },
   {
    "duration": 35,
    "start_time": "2024-03-11T21:03:55.965Z"
   },
   {
    "duration": 2,
    "start_time": "2024-03-11T21:03:56.002Z"
   },
   {
    "duration": 21,
    "start_time": "2024-03-11T21:03:56.006Z"
   },
   {
    "duration": 3,
    "start_time": "2024-03-11T21:03:56.028Z"
   },
   {
    "duration": 17,
    "start_time": "2024-03-11T21:03:56.032Z"
   },
   {
    "duration": 10,
    "start_time": "2024-03-11T21:03:56.057Z"
   },
   {
    "duration": 34,
    "start_time": "2024-03-11T21:03:56.069Z"
   },
   {
    "duration": 8,
    "start_time": "2024-03-11T21:03:56.105Z"
   },
   {
    "duration": 10,
    "start_time": "2024-03-11T21:03:56.114Z"
   },
   {
    "duration": 11,
    "start_time": "2024-03-11T21:03:56.125Z"
   },
   {
    "duration": 48,
    "start_time": "2024-03-11T21:03:56.137Z"
   },
   {
    "duration": 14,
    "start_time": "2024-03-11T21:03:56.187Z"
   },
   {
    "duration": 3,
    "start_time": "2024-03-11T21:03:56.203Z"
   },
   {
    "duration": 23,
    "start_time": "2024-03-11T21:03:56.207Z"
   },
   {
    "duration": 14,
    "start_time": "2024-03-11T21:03:56.232Z"
   },
   {
    "duration": 11,
    "start_time": "2024-03-11T21:03:56.247Z"
   },
   {
    "duration": 15,
    "start_time": "2024-03-11T21:03:56.259Z"
   },
   {
    "duration": 18,
    "start_time": "2024-03-11T21:03:56.275Z"
   },
   {
    "duration": 18,
    "start_time": "2024-03-11T21:03:56.294Z"
   },
   {
    "duration": 21,
    "start_time": "2024-03-11T21:03:56.314Z"
   },
   {
    "duration": 2,
    "start_time": "2024-03-11T21:03:56.337Z"
   },
   {
    "duration": 9,
    "start_time": "2024-03-11T21:04:02.218Z"
   },
   {
    "duration": 8,
    "start_time": "2024-03-11T21:04:16.654Z"
   },
   {
    "duration": 1285,
    "start_time": "2024-03-11T21:04:32.568Z"
   },
   {
    "duration": 7,
    "start_time": "2024-03-11T21:04:41.485Z"
   },
   {
    "duration": 9,
    "start_time": "2024-03-11T21:05:17.733Z"
   },
   {
    "duration": 13,
    "start_time": "2024-03-11T21:05:36.468Z"
   },
   {
    "duration": 11,
    "start_time": "2024-03-11T21:05:51.385Z"
   },
   {
    "duration": 14,
    "start_time": "2024-03-11T21:06:40.852Z"
   },
   {
    "duration": 11,
    "start_time": "2024-03-11T21:07:09.539Z"
   },
   {
    "duration": 452,
    "start_time": "2024-03-11T21:07:17.125Z"
   },
   {
    "duration": 19,
    "start_time": "2024-03-11T21:07:17.579Z"
   },
   {
    "duration": 13,
    "start_time": "2024-03-11T21:07:17.600Z"
   },
   {
    "duration": 7,
    "start_time": "2024-03-11T21:07:17.615Z"
   },
   {
    "duration": 49,
    "start_time": "2024-03-11T21:07:17.624Z"
   },
   {
    "duration": 3,
    "start_time": "2024-03-11T21:07:17.674Z"
   },
   {
    "duration": 8,
    "start_time": "2024-03-11T21:07:17.678Z"
   },
   {
    "duration": 6,
    "start_time": "2024-03-11T21:07:17.687Z"
   },
   {
    "duration": 6,
    "start_time": "2024-03-11T21:07:17.695Z"
   },
   {
    "duration": 4,
    "start_time": "2024-03-11T21:07:17.703Z"
   },
   {
    "duration": 59,
    "start_time": "2024-03-11T21:07:17.708Z"
   },
   {
    "duration": 8,
    "start_time": "2024-03-11T21:07:17.768Z"
   },
   {
    "duration": 3,
    "start_time": "2024-03-11T21:07:17.778Z"
   },
   {
    "duration": 18,
    "start_time": "2024-03-11T21:07:17.782Z"
   },
   {
    "duration": 18,
    "start_time": "2024-03-11T21:07:17.802Z"
   },
   {
    "duration": 15,
    "start_time": "2024-03-11T21:07:17.821Z"
   },
   {
    "duration": 3,
    "start_time": "2024-03-11T21:07:17.858Z"
   },
   {
    "duration": 27,
    "start_time": "2024-03-11T21:07:17.862Z"
   },
   {
    "duration": 10,
    "start_time": "2024-03-11T21:07:17.890Z"
   },
   {
    "duration": 10,
    "start_time": "2024-03-11T21:07:17.901Z"
   },
   {
    "duration": 14,
    "start_time": "2024-03-11T21:07:17.912Z"
   },
   {
    "duration": 17,
    "start_time": "2024-03-11T21:07:17.927Z"
   },
   {
    "duration": 14,
    "start_time": "2024-03-11T21:07:17.945Z"
   },
   {
    "duration": 10,
    "start_time": "2024-03-11T21:07:17.960Z"
   },
   {
    "duration": 2,
    "start_time": "2024-03-11T21:07:17.972Z"
   },
   {
    "duration": 15,
    "start_time": "2024-03-11T21:07:45.816Z"
   },
   {
    "duration": 15,
    "start_time": "2024-03-11T21:08:24.849Z"
   },
   {
    "duration": 15,
    "start_time": "2024-03-11T21:08:55.099Z"
   },
   {
    "duration": 12,
    "start_time": "2024-03-11T21:09:06.701Z"
   },
   {
    "duration": 18,
    "start_time": "2024-03-11T21:11:14.072Z"
   },
   {
    "duration": 15,
    "start_time": "2024-03-11T21:11:26.567Z"
   },
   {
    "duration": 14,
    "start_time": "2024-03-11T21:13:04.984Z"
   },
   {
    "duration": 15,
    "start_time": "2024-03-11T21:14:33.769Z"
   },
   {
    "duration": 14,
    "start_time": "2024-03-11T21:15:01.319Z"
   },
   {
    "duration": 16,
    "start_time": "2024-03-11T21:16:11.819Z"
   },
   {
    "duration": 13,
    "start_time": "2024-03-11T21:16:29.672Z"
   },
   {
    "duration": 70,
    "start_time": "2024-03-11T21:17:10.136Z"
   },
   {
    "duration": 13,
    "start_time": "2024-03-11T21:17:35.690Z"
   },
   {
    "duration": 17,
    "start_time": "2024-03-11T21:18:48.404Z"
   },
   {
    "duration": 20,
    "start_time": "2024-03-11T21:19:19.073Z"
   },
   {
    "duration": 22,
    "start_time": "2024-03-11T21:20:40.123Z"
   },
   {
    "duration": 21,
    "start_time": "2024-03-11T21:21:52.059Z"
   },
   {
    "duration": 20,
    "start_time": "2024-03-11T21:24:17.058Z"
   },
   {
    "duration": 21,
    "start_time": "2024-03-11T21:26:36.459Z"
   },
   {
    "duration": 38,
    "start_time": "2024-03-11T21:28:16.956Z"
   },
   {
    "duration": 110,
    "start_time": "2024-03-11T21:28:37.757Z"
   },
   {
    "duration": 26,
    "start_time": "2024-03-11T21:30:28.224Z"
   },
   {
    "duration": 402,
    "start_time": "2024-03-11T21:31:59.390Z"
   },
   {
    "duration": 18,
    "start_time": "2024-03-11T21:31:59.794Z"
   },
   {
    "duration": 11,
    "start_time": "2024-03-11T21:31:59.814Z"
   },
   {
    "duration": 9,
    "start_time": "2024-03-11T21:31:59.828Z"
   },
   {
    "duration": 46,
    "start_time": "2024-03-11T21:31:59.838Z"
   },
   {
    "duration": 3,
    "start_time": "2024-03-11T21:31:59.886Z"
   },
   {
    "duration": 8,
    "start_time": "2024-03-11T21:31:59.891Z"
   },
   {
    "duration": 4,
    "start_time": "2024-03-11T21:31:59.901Z"
   },
   {
    "duration": 8,
    "start_time": "2024-03-11T21:31:59.907Z"
   },
   {
    "duration": 9,
    "start_time": "2024-03-11T21:31:59.917Z"
   },
   {
    "duration": 51,
    "start_time": "2024-03-11T21:31:59.927Z"
   },
   {
    "duration": 9,
    "start_time": "2024-03-11T21:31:59.980Z"
   },
   {
    "duration": 3,
    "start_time": "2024-03-11T21:31:59.991Z"
   },
   {
    "duration": 15,
    "start_time": "2024-03-11T21:31:59.995Z"
   },
   {
    "duration": 55,
    "start_time": "2024-03-11T21:32:00.011Z"
   },
   {
    "duration": 42,
    "start_time": "2024-03-11T21:32:00.068Z"
   },
   {
    "duration": 34,
    "start_time": "2024-03-11T21:32:00.112Z"
   },
   {
    "duration": 54,
    "start_time": "2024-03-11T21:32:00.148Z"
   },
   {
    "duration": 39,
    "start_time": "2024-03-11T21:32:00.203Z"
   },
   {
    "duration": 41,
    "start_time": "2024-03-11T21:32:00.244Z"
   },
   {
    "duration": 77,
    "start_time": "2024-03-11T21:32:00.287Z"
   },
   {
    "duration": 83,
    "start_time": "2024-03-11T21:32:00.365Z"
   },
   {
    "duration": 188,
    "start_time": "2024-03-11T21:32:00.449Z"
   },
   {
    "duration": 138,
    "start_time": "2024-03-11T21:32:00.639Z"
   },
   {
    "duration": 96,
    "start_time": "2024-03-11T21:32:00.779Z"
   },
   {
    "duration": 22,
    "start_time": "2024-03-11T21:34:10.314Z"
   },
   {
    "duration": 15,
    "start_time": "2024-03-11T21:34:55.148Z"
   },
   {
    "duration": 69,
    "start_time": "2024-03-11T21:35:44.919Z"
   },
   {
    "duration": 16,
    "start_time": "2024-03-11T21:36:00.403Z"
   },
   {
    "duration": 12,
    "start_time": "2024-03-11T21:37:25.865Z"
   },
   {
    "duration": 14,
    "start_time": "2024-03-11T21:39:23.117Z"
   },
   {
    "duration": 13,
    "start_time": "2024-03-11T22:11:39.801Z"
   },
   {
    "duration": 18,
    "start_time": "2024-03-11T22:11:51.718Z"
   },
   {
    "duration": 22,
    "start_time": "2024-03-11T22:13:12.252Z"
   },
   {
    "duration": 14,
    "start_time": "2024-03-11T22:16:11.819Z"
   },
   {
    "duration": 31,
    "start_time": "2024-03-11T22:18:36.289Z"
   },
   {
    "duration": 66,
    "start_time": "2024-03-11T22:19:12.575Z"
   },
   {
    "duration": 17,
    "start_time": "2024-03-11T22:19:20.039Z"
   },
   {
    "duration": 438,
    "start_time": "2024-03-11T22:20:07.571Z"
   },
   {
    "duration": 19,
    "start_time": "2024-03-11T22:20:12.424Z"
   },
   {
    "duration": 411,
    "start_time": "2024-03-11T22:20:57.216Z"
   },
   {
    "duration": 18,
    "start_time": "2024-03-11T22:20:57.629Z"
   },
   {
    "duration": 12,
    "start_time": "2024-03-11T22:20:57.649Z"
   },
   {
    "duration": 13,
    "start_time": "2024-03-11T22:20:57.664Z"
   },
   {
    "duration": 28,
    "start_time": "2024-03-11T22:20:57.678Z"
   },
   {
    "duration": 3,
    "start_time": "2024-03-11T22:20:57.707Z"
   },
   {
    "duration": 12,
    "start_time": "2024-03-11T22:20:57.712Z"
   },
   {
    "duration": 4,
    "start_time": "2024-03-11T22:20:57.725Z"
   },
   {
    "duration": 27,
    "start_time": "2024-03-11T22:20:57.730Z"
   },
   {
    "duration": 6,
    "start_time": "2024-03-11T22:20:57.761Z"
   },
   {
    "duration": 38,
    "start_time": "2024-03-11T22:20:57.768Z"
   },
   {
    "duration": 7,
    "start_time": "2024-03-11T22:20:57.808Z"
   },
   {
    "duration": 12,
    "start_time": "2024-03-11T22:20:57.816Z"
   },
   {
    "duration": 11,
    "start_time": "2024-03-11T22:20:57.829Z"
   },
   {
    "duration": 25,
    "start_time": "2024-03-11T22:20:57.842Z"
   },
   {
    "duration": 15,
    "start_time": "2024-03-11T22:20:57.868Z"
   },
   {
    "duration": 3,
    "start_time": "2024-03-11T22:20:57.884Z"
   },
   {
    "duration": 11,
    "start_time": "2024-03-11T22:20:57.888Z"
   },
   {
    "duration": 5,
    "start_time": "2024-03-11T22:20:57.900Z"
   },
   {
    "duration": 5,
    "start_time": "2024-03-11T22:20:57.906Z"
   },
   {
    "duration": 9,
    "start_time": "2024-03-11T22:20:57.912Z"
   },
   {
    "duration": 25,
    "start_time": "2024-03-11T22:20:57.922Z"
   },
   {
    "duration": 22,
    "start_time": "2024-03-11T22:20:57.948Z"
   },
   {
    "duration": 19,
    "start_time": "2024-03-11T22:20:57.972Z"
   },
   {
    "duration": 17,
    "start_time": "2024-03-11T22:20:57.992Z"
   },
   {
    "duration": 14,
    "start_time": "2024-03-11T22:20:58.010Z"
   },
   {
    "duration": 19,
    "start_time": "2024-03-11T22:22:38.779Z"
   },
   {
    "duration": 16,
    "start_time": "2024-03-11T22:24:16.347Z"
   },
   {
    "duration": 403,
    "start_time": "2024-03-11T22:24:26.114Z"
   },
   {
    "duration": 18,
    "start_time": "2024-03-11T22:24:26.519Z"
   },
   {
    "duration": 12,
    "start_time": "2024-03-11T22:24:26.538Z"
   },
   {
    "duration": 8,
    "start_time": "2024-03-11T22:24:26.551Z"
   },
   {
    "duration": 31,
    "start_time": "2024-03-11T22:24:26.560Z"
   },
   {
    "duration": 3,
    "start_time": "2024-03-11T22:24:26.592Z"
   },
   {
    "duration": 10,
    "start_time": "2024-03-11T22:24:26.596Z"
   },
   {
    "duration": 3,
    "start_time": "2024-03-11T22:24:26.607Z"
   },
   {
    "duration": 19,
    "start_time": "2024-03-11T22:24:26.611Z"
   },
   {
    "duration": 5,
    "start_time": "2024-03-11T22:24:26.633Z"
   },
   {
    "duration": 41,
    "start_time": "2024-03-11T22:24:26.639Z"
   },
   {
    "duration": 7,
    "start_time": "2024-03-11T22:24:26.682Z"
   },
   {
    "duration": 3,
    "start_time": "2024-03-11T22:24:26.690Z"
   },
   {
    "duration": 11,
    "start_time": "2024-03-11T22:24:26.694Z"
   },
   {
    "duration": 16,
    "start_time": "2024-03-11T22:24:26.706Z"
   },
   {
    "duration": 36,
    "start_time": "2024-03-11T22:24:26.723Z"
   },
   {
    "duration": 3,
    "start_time": "2024-03-11T22:24:26.761Z"
   },
   {
    "duration": 11,
    "start_time": "2024-03-11T22:24:26.765Z"
   },
   {
    "duration": 5,
    "start_time": "2024-03-11T22:24:26.777Z"
   },
   {
    "duration": 3,
    "start_time": "2024-03-11T22:24:26.783Z"
   },
   {
    "duration": 7,
    "start_time": "2024-03-11T22:24:26.787Z"
   },
   {
    "duration": 12,
    "start_time": "2024-03-11T22:24:26.795Z"
   },
   {
    "duration": 13,
    "start_time": "2024-03-11T22:24:26.808Z"
   },
   {
    "duration": 45,
    "start_time": "2024-03-11T22:24:26.822Z"
   },
   {
    "duration": 26,
    "start_time": "2024-03-11T22:24:26.868Z"
   },
   {
    "duration": 14,
    "start_time": "2024-03-11T22:24:26.895Z"
   },
   {
    "duration": 12,
    "start_time": "2024-03-11T22:26:49.341Z"
   },
   {
    "duration": 413,
    "start_time": "2024-03-11T22:28:15.403Z"
   },
   {
    "duration": 19,
    "start_time": "2024-03-11T22:28:15.818Z"
   },
   {
    "duration": 12,
    "start_time": "2024-03-11T22:28:15.839Z"
   },
   {
    "duration": 13,
    "start_time": "2024-03-11T22:28:15.852Z"
   },
   {
    "duration": 29,
    "start_time": "2024-03-11T22:28:15.867Z"
   },
   {
    "duration": 3,
    "start_time": "2024-03-11T22:28:15.897Z"
   },
   {
    "duration": 10,
    "start_time": "2024-03-11T22:28:15.901Z"
   },
   {
    "duration": 6,
    "start_time": "2024-03-11T22:28:15.912Z"
   },
   {
    "duration": 6,
    "start_time": "2024-03-11T22:28:15.920Z"
   },
   {
    "duration": 5,
    "start_time": "2024-03-11T22:28:15.928Z"
   },
   {
    "duration": 46,
    "start_time": "2024-03-11T22:28:15.934Z"
   },
   {
    "duration": 8,
    "start_time": "2024-03-11T22:28:15.981Z"
   },
   {
    "duration": 3,
    "start_time": "2024-03-11T22:28:15.990Z"
   },
   {
    "duration": 11,
    "start_time": "2024-03-11T22:28:15.994Z"
   },
   {
    "duration": 25,
    "start_time": "2024-03-11T22:28:16.006Z"
   },
   {
    "duration": 30,
    "start_time": "2024-03-11T22:28:16.032Z"
   },
   {
    "duration": 4,
    "start_time": "2024-03-11T22:28:16.064Z"
   },
   {
    "duration": 10,
    "start_time": "2024-03-11T22:28:16.069Z"
   },
   {
    "duration": 7,
    "start_time": "2024-03-11T22:28:16.081Z"
   },
   {
    "duration": 4,
    "start_time": "2024-03-11T22:28:16.089Z"
   },
   {
    "duration": 17,
    "start_time": "2024-03-11T22:28:16.093Z"
   },
   {
    "duration": 11,
    "start_time": "2024-03-11T22:28:16.111Z"
   },
   {
    "duration": 16,
    "start_time": "2024-03-11T22:28:16.123Z"
   },
   {
    "duration": 33,
    "start_time": "2024-03-11T22:28:16.140Z"
   },
   {
    "duration": 14,
    "start_time": "2024-03-11T22:28:16.174Z"
   },
   {
    "duration": 13,
    "start_time": "2024-03-11T22:28:16.190Z"
   },
   {
    "duration": 6,
    "start_time": "2024-03-11T22:29:35.071Z"
   },
   {
    "duration": 3,
    "start_time": "2024-03-11T22:33:40.711Z"
   },
   {
    "duration": 13,
    "start_time": "2024-03-11T22:33:52.209Z"
   },
   {
    "duration": 17,
    "start_time": "2024-03-11T22:34:36.360Z"
   },
   {
    "duration": 17,
    "start_time": "2024-03-11T22:34:54.777Z"
   },
   {
    "duration": 434,
    "start_time": "2024-03-11T22:35:05.872Z"
   },
   {
    "duration": 19,
    "start_time": "2024-03-11T22:35:06.308Z"
   },
   {
    "duration": 13,
    "start_time": "2024-03-11T22:35:06.328Z"
   },
   {
    "duration": 26,
    "start_time": "2024-03-11T22:35:06.343Z"
   },
   {
    "duration": 40,
    "start_time": "2024-03-11T22:35:06.370Z"
   },
   {
    "duration": 2,
    "start_time": "2024-03-11T22:35:06.412Z"
   },
   {
    "duration": 7,
    "start_time": "2024-03-11T22:35:06.416Z"
   },
   {
    "duration": 3,
    "start_time": "2024-03-11T22:35:06.425Z"
   },
   {
    "duration": 11,
    "start_time": "2024-03-11T22:35:06.429Z"
   },
   {
    "duration": 4,
    "start_time": "2024-03-11T22:35:06.457Z"
   },
   {
    "duration": 28,
    "start_time": "2024-03-11T22:35:06.462Z"
   },
   {
    "duration": 16,
    "start_time": "2024-03-11T22:35:06.492Z"
   },
   {
    "duration": 3,
    "start_time": "2024-03-11T22:35:06.510Z"
   },
   {
    "duration": 11,
    "start_time": "2024-03-11T22:35:06.514Z"
   },
   {
    "duration": 37,
    "start_time": "2024-03-11T22:35:06.527Z"
   },
   {
    "duration": 16,
    "start_time": "2024-03-11T22:35:06.565Z"
   },
   {
    "duration": 3,
    "start_time": "2024-03-11T22:35:06.583Z"
   },
   {
    "duration": 12,
    "start_time": "2024-03-11T22:35:06.588Z"
   },
   {
    "duration": 6,
    "start_time": "2024-03-11T22:35:06.602Z"
   },
   {
    "duration": 3,
    "start_time": "2024-03-11T22:35:06.610Z"
   },
   {
    "duration": 8,
    "start_time": "2024-03-11T22:35:06.615Z"
   },
   {
    "duration": 44,
    "start_time": "2024-03-11T22:35:06.624Z"
   },
   {
    "duration": 15,
    "start_time": "2024-03-11T22:35:06.670Z"
   },
   {
    "duration": 14,
    "start_time": "2024-03-11T22:35:06.687Z"
   },
   {
    "duration": 16,
    "start_time": "2024-03-11T22:35:06.702Z"
   },
   {
    "duration": 7,
    "start_time": "2024-03-11T22:35:06.719Z"
   },
   {
    "duration": 56,
    "start_time": "2024-03-11T22:36:21.889Z"
   },
   {
    "duration": 1107,
    "start_time": "2024-03-11T22:36:35.272Z"
   },
   {
    "duration": 13,
    "start_time": "2024-03-11T22:37:00.988Z"
   },
   {
    "duration": 7,
    "start_time": "2024-03-11T22:37:09.954Z"
   },
   {
    "duration": 7,
    "start_time": "2024-03-11T22:37:24.338Z"
   },
   {
    "duration": 6,
    "start_time": "2024-03-11T22:37:42.372Z"
   },
   {
    "duration": 403,
    "start_time": "2024-03-11T22:38:19.296Z"
   },
   {
    "duration": 19,
    "start_time": "2024-03-11T22:38:21.814Z"
   },
   {
    "duration": 12,
    "start_time": "2024-03-11T22:38:26.977Z"
   },
   {
    "duration": 5,
    "start_time": "2024-03-11T22:38:33.362Z"
   },
   {
    "duration": 7,
    "start_time": "2024-03-11T22:39:07.978Z"
   },
   {
    "duration": 55,
    "start_time": "2024-03-11T22:39:28.833Z"
   },
   {
    "duration": 16,
    "start_time": "2024-03-11T22:42:31.449Z"
   },
   {
    "duration": 19,
    "start_time": "2024-03-11T22:43:02.883Z"
   },
   {
    "duration": 18,
    "start_time": "2024-03-11T22:44:15.906Z"
   },
   {
    "duration": 7,
    "start_time": "2024-03-11T22:45:46.443Z"
   },
   {
    "duration": 17,
    "start_time": "2024-03-11T22:51:12.721Z"
   },
   {
    "duration": 15,
    "start_time": "2024-03-11T22:57:38.707Z"
   },
   {
    "duration": 12,
    "start_time": "2024-03-11T22:58:27.270Z"
   },
   {
    "duration": 390,
    "start_time": "2024-03-11T23:19:18.192Z"
   },
   {
    "duration": 18,
    "start_time": "2024-03-11T23:19:18.583Z"
   },
   {
    "duration": 11,
    "start_time": "2024-03-11T23:19:18.602Z"
   },
   {
    "duration": 11,
    "start_time": "2024-03-11T23:19:18.615Z"
   },
   {
    "duration": 36,
    "start_time": "2024-03-11T23:19:18.627Z"
   },
   {
    "duration": 3,
    "start_time": "2024-03-11T23:19:18.664Z"
   },
   {
    "duration": 20,
    "start_time": "2024-03-11T23:19:18.668Z"
   },
   {
    "duration": 14,
    "start_time": "2024-03-11T23:19:18.689Z"
   },
   {
    "duration": 9,
    "start_time": "2024-03-11T23:19:18.705Z"
   },
   {
    "duration": 10,
    "start_time": "2024-03-11T23:19:18.717Z"
   },
   {
    "duration": 55,
    "start_time": "2024-03-11T23:19:18.728Z"
   },
   {
    "duration": 8,
    "start_time": "2024-03-11T23:19:18.784Z"
   },
   {
    "duration": 6,
    "start_time": "2024-03-11T23:19:18.793Z"
   },
   {
    "duration": 38,
    "start_time": "2024-03-11T23:19:18.800Z"
   },
   {
    "duration": 23,
    "start_time": "2024-03-11T23:19:18.839Z"
   },
   {
    "duration": 15,
    "start_time": "2024-03-11T23:19:18.863Z"
   },
   {
    "duration": 3,
    "start_time": "2024-03-11T23:19:18.879Z"
   },
   {
    "duration": 12,
    "start_time": "2024-03-11T23:19:18.883Z"
   },
   {
    "duration": 5,
    "start_time": "2024-03-11T23:19:18.896Z"
   },
   {
    "duration": 3,
    "start_time": "2024-03-11T23:19:18.902Z"
   },
   {
    "duration": 25,
    "start_time": "2024-03-11T23:19:18.906Z"
   },
   {
    "duration": 12,
    "start_time": "2024-03-11T23:19:18.932Z"
   },
   {
    "duration": 24,
    "start_time": "2024-03-11T23:19:18.945Z"
   },
   {
    "duration": 11,
    "start_time": "2024-03-11T23:19:18.970Z"
   },
   {
    "duration": 13,
    "start_time": "2024-03-11T23:19:18.982Z"
   },
   {
    "duration": 107,
    "start_time": "2024-03-12T13:46:53.351Z"
   },
   {
    "duration": 74,
    "start_time": "2024-03-12T13:58:54.318Z"
   },
   {
    "duration": 1299,
    "start_time": "2024-03-12T16:18:33.597Z"
   },
   {
    "duration": 455,
    "start_time": "2024-03-12T16:18:53.014Z"
   },
   {
    "duration": 21,
    "start_time": "2024-03-12T16:18:53.471Z"
   },
   {
    "duration": 15,
    "start_time": "2024-03-12T16:18:53.493Z"
   },
   {
    "duration": 9,
    "start_time": "2024-03-12T16:18:53.510Z"
   },
   {
    "duration": 61,
    "start_time": "2024-03-12T16:18:53.521Z"
   },
   {
    "duration": 4,
    "start_time": "2024-03-12T16:18:53.583Z"
   },
   {
    "duration": 9,
    "start_time": "2024-03-12T16:18:53.588Z"
   },
   {
    "duration": 5,
    "start_time": "2024-03-12T16:18:53.598Z"
   },
   {
    "duration": 12,
    "start_time": "2024-03-12T16:18:53.604Z"
   },
   {
    "duration": 4,
    "start_time": "2024-03-12T16:18:53.619Z"
   },
   {
    "duration": 59,
    "start_time": "2024-03-12T16:18:53.624Z"
   },
   {
    "duration": 10,
    "start_time": "2024-03-12T16:18:53.685Z"
   },
   {
    "duration": 13,
    "start_time": "2024-03-12T16:18:53.696Z"
   },
   {
    "duration": 14,
    "start_time": "2024-03-12T16:18:53.711Z"
   },
   {
    "duration": 24,
    "start_time": "2024-03-12T16:18:53.726Z"
   },
   {
    "duration": 22,
    "start_time": "2024-03-12T16:18:53.752Z"
   },
   {
    "duration": 3,
    "start_time": "2024-03-12T16:18:53.775Z"
   },
   {
    "duration": 15,
    "start_time": "2024-03-12T16:18:53.780Z"
   },
   {
    "duration": 10,
    "start_time": "2024-03-12T16:18:53.796Z"
   },
   {
    "duration": 11,
    "start_time": "2024-03-12T16:18:53.807Z"
   },
   {
    "duration": 10,
    "start_time": "2024-03-12T16:18:53.819Z"
   },
   {
    "duration": 745,
    "start_time": "2024-03-12T16:18:53.831Z"
   },
   {
    "duration": 16,
    "start_time": "2024-03-12T16:18:54.578Z"
   },
   {
    "duration": 16,
    "start_time": "2024-03-12T16:18:54.596Z"
   },
   {
    "duration": 18,
    "start_time": "2024-03-12T16:18:54.614Z"
   },
   {
    "duration": 132,
    "start_time": "2024-03-12T16:21:15.788Z"
   },
   {
    "duration": 129,
    "start_time": "2024-03-12T16:22:27.540Z"
   },
   {
    "duration": 119,
    "start_time": "2024-03-12T16:29:06.679Z"
   },
   {
    "duration": 16,
    "start_time": "2024-03-12T16:29:31.730Z"
   },
   {
    "duration": 120,
    "start_time": "2024-03-12T16:29:53.745Z"
   },
   {
    "duration": 120,
    "start_time": "2024-03-12T16:31:12.594Z"
   },
   {
    "duration": 103,
    "start_time": "2024-03-12T16:32:38.881Z"
   },
   {
    "duration": 113,
    "start_time": "2024-03-12T16:33:14.616Z"
   },
   {
    "duration": 93,
    "start_time": "2024-03-12T16:36:45.233Z"
   },
   {
    "duration": 132,
    "start_time": "2024-03-12T16:40:59.849Z"
   },
   {
    "duration": 183,
    "start_time": "2024-03-12T16:41:19.836Z"
   },
   {
    "duration": 114,
    "start_time": "2024-03-12T16:41:42.500Z"
   },
   {
    "duration": 131,
    "start_time": "2024-03-12T16:42:43.823Z"
   },
   {
    "duration": 161,
    "start_time": "2024-03-12T16:43:50.655Z"
   },
   {
    "duration": 126,
    "start_time": "2024-03-12T16:44:21.223Z"
   },
   {
    "duration": 140,
    "start_time": "2024-03-12T17:03:31.783Z"
   },
   {
    "duration": 130,
    "start_time": "2024-03-12T17:07:49.906Z"
   },
   {
    "duration": 124,
    "start_time": "2024-03-12T17:09:25.920Z"
   },
   {
    "duration": 124,
    "start_time": "2024-03-12T17:10:01.689Z"
   },
   {
    "duration": 152,
    "start_time": "2024-03-12T17:55:13.105Z"
   },
   {
    "duration": 132,
    "start_time": "2024-03-12T17:59:26.674Z"
   },
   {
    "duration": 217,
    "start_time": "2024-03-12T18:00:29.589Z"
   },
   {
    "duration": 154,
    "start_time": "2024-03-12T18:05:20.992Z"
   },
   {
    "duration": 135,
    "start_time": "2024-03-12T18:05:37.723Z"
   },
   {
    "duration": 131,
    "start_time": "2024-03-12T18:05:59.808Z"
   },
   {
    "duration": 140,
    "start_time": "2024-03-12T18:06:52.188Z"
   },
   {
    "duration": 87,
    "start_time": "2024-03-12T18:07:22.223Z"
   },
   {
    "duration": 148,
    "start_time": "2024-03-12T18:07:33.391Z"
   },
   {
    "duration": 124,
    "start_time": "2024-03-12T18:08:23.725Z"
   },
   {
    "duration": 132,
    "start_time": "2024-03-12T18:08:39.373Z"
   },
   {
    "duration": 134,
    "start_time": "2024-03-12T18:08:47.975Z"
   },
   {
    "duration": 98,
    "start_time": "2024-03-12T18:09:17.843Z"
   },
   {
    "duration": 137,
    "start_time": "2024-03-12T18:09:25.573Z"
   },
   {
    "duration": 129,
    "start_time": "2024-03-12T18:09:44.875Z"
   },
   {
    "duration": 128,
    "start_time": "2024-03-12T18:14:57.461Z"
   },
   {
    "duration": 228,
    "start_time": "2024-03-12T18:21:45.376Z"
   },
   {
    "duration": 140,
    "start_time": "2024-03-12T18:21:55.195Z"
   },
   {
    "duration": 134,
    "start_time": "2024-03-12T18:24:35.715Z"
   },
   {
    "duration": 129,
    "start_time": "2024-03-12T18:24:48.112Z"
   },
   {
    "duration": 127,
    "start_time": "2024-03-12T18:25:16.463Z"
   },
   {
    "duration": 956,
    "start_time": "2024-03-12T18:29:36.931Z"
   },
   {
    "duration": 149,
    "start_time": "2024-03-12T18:30:16.868Z"
   },
   {
    "duration": 132,
    "start_time": "2024-03-12T18:34:32.735Z"
   },
   {
    "duration": 127,
    "start_time": "2024-03-12T18:38:29.688Z"
   },
   {
    "duration": 271,
    "start_time": "2024-03-12T18:43:02.023Z"
   },
   {
    "duration": 17,
    "start_time": "2024-03-12T18:43:28.131Z"
   },
   {
    "duration": 23,
    "start_time": "2024-03-12T18:44:23.107Z"
   },
   {
    "duration": 14,
    "start_time": "2024-03-12T18:45:23.924Z"
   },
   {
    "duration": 19,
    "start_time": "2024-03-12T18:45:34.458Z"
   },
   {
    "duration": 137,
    "start_time": "2024-03-12T18:45:59.992Z"
   },
   {
    "duration": 136,
    "start_time": "2024-03-12T18:50:25.744Z"
   },
   {
    "duration": 208,
    "start_time": "2024-03-12T18:51:25.529Z"
   },
   {
    "duration": 137,
    "start_time": "2024-03-12T18:54:57.195Z"
   },
   {
    "duration": 9,
    "start_time": "2024-03-12T18:55:49.364Z"
   },
   {
    "duration": 10,
    "start_time": "2024-03-12T18:57:23.330Z"
   },
   {
    "duration": 132,
    "start_time": "2024-03-12T18:57:29.915Z"
   },
   {
    "duration": 139,
    "start_time": "2024-03-12T18:58:30.634Z"
   },
   {
    "duration": 124,
    "start_time": "2024-03-12T19:04:35.220Z"
   },
   {
    "duration": 125,
    "start_time": "2024-03-12T19:04:46.202Z"
   },
   {
    "duration": 137,
    "start_time": "2024-03-12T19:17:14.416Z"
   },
   {
    "duration": 79,
    "start_time": "2024-03-12T19:17:30.164Z"
   },
   {
    "duration": 150,
    "start_time": "2024-03-12T19:17:40.848Z"
   },
   {
    "duration": 130,
    "start_time": "2024-03-12T19:20:11.481Z"
   },
   {
    "duration": 140,
    "start_time": "2024-03-12T19:20:40.083Z"
   },
   {
    "duration": 130,
    "start_time": "2024-03-12T19:20:48.964Z"
   },
   {
    "duration": 141,
    "start_time": "2024-03-12T19:25:38.945Z"
   },
   {
    "duration": 204,
    "start_time": "2024-03-12T19:26:00.646Z"
   },
   {
    "duration": 143,
    "start_time": "2024-03-12T19:31:55.032Z"
   },
   {
    "duration": 74,
    "start_time": "2024-03-12T20:07:53.942Z"
   },
   {
    "duration": 77,
    "start_time": "2024-03-12T20:08:08.845Z"
   },
   {
    "duration": 18,
    "start_time": "2024-03-12T20:08:22.410Z"
   },
   {
    "duration": 18,
    "start_time": "2024-03-12T20:13:05.383Z"
   },
   {
    "duration": 18,
    "start_time": "2024-03-12T20:15:44.879Z"
   },
   {
    "duration": 508,
    "start_time": "2024-03-12T20:25:26.786Z"
   },
   {
    "duration": 23,
    "start_time": "2024-03-12T20:25:27.296Z"
   },
   {
    "duration": 16,
    "start_time": "2024-03-12T20:25:27.320Z"
   },
   {
    "duration": 26,
    "start_time": "2024-03-12T20:25:27.338Z"
   },
   {
    "duration": 43,
    "start_time": "2024-03-12T20:25:27.365Z"
   },
   {
    "duration": 3,
    "start_time": "2024-03-12T20:25:27.410Z"
   },
   {
    "duration": 31,
    "start_time": "2024-03-12T20:25:27.415Z"
   },
   {
    "duration": 12,
    "start_time": "2024-03-12T20:25:27.448Z"
   },
   {
    "duration": 6,
    "start_time": "2024-03-12T20:25:27.462Z"
   },
   {
    "duration": 4,
    "start_time": "2024-03-12T20:25:27.472Z"
   },
   {
    "duration": 39,
    "start_time": "2024-03-12T20:25:27.477Z"
   },
   {
    "duration": 10,
    "start_time": "2024-03-12T20:25:27.517Z"
   },
   {
    "duration": 30,
    "start_time": "2024-03-12T20:25:27.529Z"
   },
   {
    "duration": 15,
    "start_time": "2024-03-12T20:25:27.561Z"
   },
   {
    "duration": 28,
    "start_time": "2024-03-12T20:25:27.578Z"
   },
   {
    "duration": 16,
    "start_time": "2024-03-12T20:25:27.608Z"
   },
   {
    "duration": 3,
    "start_time": "2024-03-12T20:25:27.626Z"
   },
   {
    "duration": 12,
    "start_time": "2024-03-12T20:25:27.631Z"
   },
   {
    "duration": 18,
    "start_time": "2024-03-12T20:25:27.644Z"
   },
   {
    "duration": 15,
    "start_time": "2024-03-12T20:25:27.663Z"
   },
   {
    "duration": 15,
    "start_time": "2024-03-12T20:25:27.680Z"
   },
   {
    "duration": 785,
    "start_time": "2024-03-12T20:25:27.697Z"
   },
   {
    "duration": 152,
    "start_time": "2024-03-12T20:25:28.484Z"
   },
   {
    "duration": 26,
    "start_time": "2024-03-12T20:25:28.637Z"
   },
   {
    "duration": 140,
    "start_time": "2024-03-12T20:25:28.665Z"
   },
   {
    "duration": 17,
    "start_time": "2024-03-12T20:25:28.807Z"
   },
   {
    "duration": 135,
    "start_time": "2024-03-12T20:25:28.826Z"
   },
   {
    "duration": 17,
    "start_time": "2024-03-12T20:25:28.965Z"
   },
   {
    "duration": 147,
    "start_time": "2024-03-12T20:25:28.984Z"
   },
   {
    "duration": 712,
    "start_time": "2024-03-12T21:46:51.308Z"
   },
   {
    "duration": 27,
    "start_time": "2024-03-12T21:46:52.022Z"
   },
   {
    "duration": 14,
    "start_time": "2024-03-12T21:46:52.050Z"
   },
   {
    "duration": 9,
    "start_time": "2024-03-12T21:46:52.065Z"
   },
   {
    "duration": 47,
    "start_time": "2024-03-12T21:46:52.075Z"
   },
   {
    "duration": 3,
    "start_time": "2024-03-12T21:46:52.124Z"
   },
   {
    "duration": 9,
    "start_time": "2024-03-12T21:46:52.128Z"
   },
   {
    "duration": 4,
    "start_time": "2024-03-12T21:46:52.138Z"
   },
   {
    "duration": 7,
    "start_time": "2024-03-12T21:46:52.143Z"
   },
   {
    "duration": 4,
    "start_time": "2024-03-12T21:46:52.152Z"
   },
   {
    "duration": 67,
    "start_time": "2024-03-12T21:46:52.157Z"
   },
   {
    "duration": 11,
    "start_time": "2024-03-12T21:46:52.225Z"
   },
   {
    "duration": 3,
    "start_time": "2024-03-12T21:46:52.238Z"
   },
   {
    "duration": 11,
    "start_time": "2024-03-12T21:46:52.243Z"
   },
   {
    "duration": 18,
    "start_time": "2024-03-12T21:46:52.255Z"
   },
   {
    "duration": 43,
    "start_time": "2024-03-12T21:46:52.275Z"
   },
   {
    "duration": 3,
    "start_time": "2024-03-12T21:46:52.320Z"
   },
   {
    "duration": 12,
    "start_time": "2024-03-12T21:46:52.325Z"
   },
   {
    "duration": 23,
    "start_time": "2024-03-12T21:46:52.339Z"
   },
   {
    "duration": 3,
    "start_time": "2024-03-12T21:46:52.363Z"
   },
   {
    "duration": 11,
    "start_time": "2024-03-12T21:46:52.368Z"
   },
   {
    "duration": 926,
    "start_time": "2024-03-12T21:46:52.380Z"
   },
   {
    "duration": 137,
    "start_time": "2024-03-12T21:46:53.308Z"
   },
   {
    "duration": 15,
    "start_time": "2024-03-12T21:46:53.446Z"
   },
   {
    "duration": 150,
    "start_time": "2024-03-12T21:46:53.463Z"
   },
   {
    "duration": 19,
    "start_time": "2024-03-12T21:46:53.614Z"
   },
   {
    "duration": 138,
    "start_time": "2024-03-12T21:46:53.635Z"
   },
   {
    "duration": 16,
    "start_time": "2024-03-12T21:46:53.776Z"
   },
   {
    "duration": 141,
    "start_time": "2024-03-12T21:46:53.793Z"
   },
   {
    "duration": 757,
    "start_time": "2024-03-13T10:10:36.789Z"
   },
   {
    "duration": 535,
    "start_time": "2024-03-13T10:10:44.176Z"
   },
   {
    "duration": 23,
    "start_time": "2024-03-13T10:10:44.713Z"
   },
   {
    "duration": 15,
    "start_time": "2024-03-13T10:10:44.737Z"
   },
   {
    "duration": 9,
    "start_time": "2024-03-13T10:10:44.754Z"
   },
   {
    "duration": 54,
    "start_time": "2024-03-13T10:10:44.765Z"
   },
   {
    "duration": 4,
    "start_time": "2024-03-13T10:10:44.820Z"
   },
   {
    "duration": 10,
    "start_time": "2024-03-13T10:10:44.825Z"
   },
   {
    "duration": 4,
    "start_time": "2024-03-13T10:10:44.836Z"
   },
   {
    "duration": 7,
    "start_time": "2024-03-13T10:10:44.841Z"
   },
   {
    "duration": 4,
    "start_time": "2024-03-13T10:10:44.851Z"
   },
   {
    "duration": 67,
    "start_time": "2024-03-13T10:10:44.856Z"
   },
   {
    "duration": 9,
    "start_time": "2024-03-13T10:10:44.925Z"
   },
   {
    "duration": 3,
    "start_time": "2024-03-13T10:10:44.936Z"
   },
   {
    "duration": 12,
    "start_time": "2024-03-13T10:10:44.940Z"
   },
   {
    "duration": 43,
    "start_time": "2024-03-13T10:10:44.954Z"
   },
   {
    "duration": 24,
    "start_time": "2024-03-13T10:10:44.999Z"
   },
   {
    "duration": 30,
    "start_time": "2024-03-13T10:10:45.024Z"
   },
   {
    "duration": 33,
    "start_time": "2024-03-13T10:10:45.056Z"
   },
   {
    "duration": 30,
    "start_time": "2024-03-13T10:10:45.091Z"
   },
   {
    "duration": 35,
    "start_time": "2024-03-13T10:10:45.123Z"
   },
   {
    "duration": 40,
    "start_time": "2024-03-13T10:10:45.160Z"
   },
   {
    "duration": 820,
    "start_time": "2024-03-13T10:10:45.202Z"
   },
   {
    "duration": 151,
    "start_time": "2024-03-13T10:10:46.023Z"
   },
   {
    "duration": 33,
    "start_time": "2024-03-13T10:10:46.176Z"
   },
   {
    "duration": 153,
    "start_time": "2024-03-13T10:10:46.212Z"
   },
   {
    "duration": 36,
    "start_time": "2024-03-13T10:10:46.367Z"
   },
   {
    "duration": 145,
    "start_time": "2024-03-13T10:10:46.406Z"
   },
   {
    "duration": 16,
    "start_time": "2024-03-13T10:10:46.554Z"
   },
   {
    "duration": 166,
    "start_time": "2024-03-13T10:10:46.571Z"
   },
   {
    "duration": 471,
    "start_time": "2024-03-13T10:10:46.738Z"
   }
  ],
  "colab": {
   "name": "dpp_template_part2.ipynb",
   "provenance": []
  },
  "kernelspec": {
   "display_name": "Python 3 (ipykernel)",
   "language": "python",
   "name": "python3"
  },
  "language_info": {
   "codemirror_mode": {
    "name": "ipython",
    "version": 3
   },
   "file_extension": ".py",
   "mimetype": "text/x-python",
   "name": "python",
   "nbconvert_exporter": "python",
   "pygments_lexer": "ipython3",
   "version": "3.11.9"
  },
  "toc": {
   "base_numbering": 1,
   "nav_menu": {},
   "number_sections": true,
   "sideBar": true,
   "skip_h1_title": true,
   "title_cell": "Table of Contents",
   "title_sidebar": "Contents",
   "toc_cell": false,
   "toc_position": {},
   "toc_section_display": true,
   "toc_window_display": false
  }
 },
 "nbformat": 4,
 "nbformat_minor": 5
}
