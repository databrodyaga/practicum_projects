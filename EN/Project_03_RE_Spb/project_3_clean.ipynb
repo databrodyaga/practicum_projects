{
 "cells": [
  {
   "cell_type": "markdown",
   "metadata": {
    "id": "-VFbjcb3Awb7"
   },
   "source": [
    "# Research of apartment sale listings\n",
    "\n",
    "You have access to data from the Yandex Real Estate service — an archive of apartment sale listings in St. Petersburg and nearby settlements over several years. You need to learn how to determine the market value of real estate objects. To do this, conduct an exploratory data analysis and establish the parameters that influence property prices. This will allow you to build an automated system: it will track anomalies and fraudulent activities.\n",
    "\n",
    "For each apartment for sale, there are two types of data available. The first is entered by the user, while the second is automatically obtained based on mapping data. For example, the distance to the center, airport, and other locations — this data is automatically retrieved from geoservices. The number of parks and bodies of water is also filled in without user involvement."
   ]
  },
  {
   "cell_type": "markdown",
   "metadata": {
    "id": "aeFLH07FAwb9"
   },
   "source": [
    "## Importing the data file and exploring general information"
   ]
  },
  {
   "cell_type": "code",
   "execution_count": 1,
   "metadata": {},
   "outputs": [],
   "source": [
    "# importing libraries\n",
    "import pandas as pd\n",
    "import numpy as np"
   ]
  },
  {
   "cell_type": "code",
   "execution_count": 2,
   "metadata": {
    "id": "7MZxY65pAwb9",
    "scrolled": true
   },
   "outputs": [
    {
     "name": "stdout",
     "output_type": "stream",
     "text": [
      "<class 'pandas.core.frame.DataFrame'>\n",
      "RangeIndex: 23699 entries, 0 to 23698\n",
      "Data columns (total 22 columns):\n",
      " #   Column                Non-Null Count  Dtype  \n",
      "---  ------                --------------  -----  \n",
      " 0   airports_nearest      18157 non-null  float64\n",
      " 1   balcony               12180 non-null  float64\n",
      " 2   ceiling_height        14504 non-null  float64\n",
      " 3   cityCenters_nearest   18180 non-null  float64\n",
      " 4   days_exposition       20518 non-null  float64\n",
      " 5   first_day_exposition  23699 non-null  object \n",
      " 6   floor                 23699 non-null  int64  \n",
      " 7   floors_total          23613 non-null  float64\n",
      " 8   is_apartment          2775 non-null   object \n",
      " 9   kitchen_area          21421 non-null  float64\n",
      " 10  last_price            23699 non-null  float64\n",
      " 11  living_area           21796 non-null  float64\n",
      " 12  locality_name         23650 non-null  object \n",
      " 13  open_plan             23699 non-null  bool   \n",
      " 14  parks_around3000      18181 non-null  float64\n",
      " 15  parks_nearest         8079 non-null   float64\n",
      " 16  ponds_around3000      18181 non-null  float64\n",
      " 17  ponds_nearest         9110 non-null   float64\n",
      " 18  rooms                 23699 non-null  int64  \n",
      " 19  studio                23699 non-null  bool   \n",
      " 20  total_area            23699 non-null  float64\n",
      " 21  total_images          23699 non-null  int64  \n",
      "dtypes: bool(2), float64(14), int64(3), object(3)\n",
      "memory usage: 3.7+ MB\n"
     ]
    }
   ],
   "source": [
    "# importing data\n",
    "try:\n",
    "    data = pd.read_csv('/Users/roman_yakovlev/Downloads/Практикум_DS/Проекты/Project_3_RE_Spb/real_estate_data.csv', sep='\\t')\n",
    "except:\n",
    "    data = pd.read_csv('/datasets/real_estate_data.csv', sep='\\t')\n",
    "    \n",
    "# sorting columns alphabetically\n",
    "data = data[sorted(data.columns)]\n",
    "\n",
    "# displaying information on the structure and data in the resulting dataframe\n",
    "data.info()"
   ]
  },
  {
   "cell_type": "code",
   "execution_count": 3,
   "metadata": {},
   "outputs": [
    {
     "data": {
      "text/html": [
       "<div>\n",
       "<style scoped>\n",
       "    .dataframe tbody tr th:only-of-type {\n",
       "        vertical-align: middle;\n",
       "    }\n",
       "\n",
       "    .dataframe tbody tr th {\n",
       "        vertical-align: top;\n",
       "    }\n",
       "\n",
       "    .dataframe thead th {\n",
       "        text-align: right;\n",
       "    }\n",
       "</style>\n",
       "<table border=\"1\" class=\"dataframe\">\n",
       "  <thead>\n",
       "    <tr style=\"text-align: right;\">\n",
       "      <th></th>\n",
       "      <th>airports_nearest</th>\n",
       "      <th>balcony</th>\n",
       "      <th>ceiling_height</th>\n",
       "      <th>cityCenters_nearest</th>\n",
       "      <th>days_exposition</th>\n",
       "      <th>first_day_exposition</th>\n",
       "      <th>floor</th>\n",
       "      <th>floors_total</th>\n",
       "      <th>is_apartment</th>\n",
       "      <th>kitchen_area</th>\n",
       "      <th>last_price</th>\n",
       "      <th>living_area</th>\n",
       "      <th>locality_name</th>\n",
       "      <th>open_plan</th>\n",
       "      <th>parks_around3000</th>\n",
       "      <th>parks_nearest</th>\n",
       "      <th>ponds_around3000</th>\n",
       "      <th>ponds_nearest</th>\n",
       "      <th>rooms</th>\n",
       "      <th>studio</th>\n",
       "      <th>total_area</th>\n",
       "      <th>total_images</th>\n",
       "    </tr>\n",
       "  </thead>\n",
       "  <tbody>\n",
       "    <tr>\n",
       "      <th>0</th>\n",
       "      <td>18863.0</td>\n",
       "      <td>NaN</td>\n",
       "      <td>2.70</td>\n",
       "      <td>16028.0</td>\n",
       "      <td>NaN</td>\n",
       "      <td>2019-03-07T00:00:00</td>\n",
       "      <td>8</td>\n",
       "      <td>16.0</td>\n",
       "      <td>NaN</td>\n",
       "      <td>25.00</td>\n",
       "      <td>13000000.0</td>\n",
       "      <td>51.00</td>\n",
       "      <td>Санкт-Петербург</td>\n",
       "      <td>False</td>\n",
       "      <td>1.0</td>\n",
       "      <td>482.0</td>\n",
       "      <td>2.0</td>\n",
       "      <td>755.0</td>\n",
       "      <td>3</td>\n",
       "      <td>False</td>\n",
       "      <td>108.00</td>\n",
       "      <td>20</td>\n",
       "    </tr>\n",
       "    <tr>\n",
       "      <th>1</th>\n",
       "      <td>12817.0</td>\n",
       "      <td>2.0</td>\n",
       "      <td>NaN</td>\n",
       "      <td>18603.0</td>\n",
       "      <td>81.0</td>\n",
       "      <td>2018-12-04T00:00:00</td>\n",
       "      <td>1</td>\n",
       "      <td>11.0</td>\n",
       "      <td>NaN</td>\n",
       "      <td>11.00</td>\n",
       "      <td>3350000.0</td>\n",
       "      <td>18.60</td>\n",
       "      <td>посёлок Шушары</td>\n",
       "      <td>False</td>\n",
       "      <td>0.0</td>\n",
       "      <td>NaN</td>\n",
       "      <td>0.0</td>\n",
       "      <td>NaN</td>\n",
       "      <td>1</td>\n",
       "      <td>False</td>\n",
       "      <td>40.40</td>\n",
       "      <td>7</td>\n",
       "    </tr>\n",
       "    <tr>\n",
       "      <th>2</th>\n",
       "      <td>21741.0</td>\n",
       "      <td>0.0</td>\n",
       "      <td>NaN</td>\n",
       "      <td>13933.0</td>\n",
       "      <td>558.0</td>\n",
       "      <td>2015-08-20T00:00:00</td>\n",
       "      <td>4</td>\n",
       "      <td>5.0</td>\n",
       "      <td>NaN</td>\n",
       "      <td>8.30</td>\n",
       "      <td>5196000.0</td>\n",
       "      <td>34.30</td>\n",
       "      <td>Санкт-Петербург</td>\n",
       "      <td>False</td>\n",
       "      <td>1.0</td>\n",
       "      <td>90.0</td>\n",
       "      <td>2.0</td>\n",
       "      <td>574.0</td>\n",
       "      <td>2</td>\n",
       "      <td>False</td>\n",
       "      <td>56.00</td>\n",
       "      <td>10</td>\n",
       "    </tr>\n",
       "    <tr>\n",
       "      <th>3</th>\n",
       "      <td>28098.0</td>\n",
       "      <td>0.0</td>\n",
       "      <td>NaN</td>\n",
       "      <td>6800.0</td>\n",
       "      <td>424.0</td>\n",
       "      <td>2015-07-24T00:00:00</td>\n",
       "      <td>9</td>\n",
       "      <td>14.0</td>\n",
       "      <td>NaN</td>\n",
       "      <td>NaN</td>\n",
       "      <td>64900000.0</td>\n",
       "      <td>NaN</td>\n",
       "      <td>Санкт-Петербург</td>\n",
       "      <td>False</td>\n",
       "      <td>2.0</td>\n",
       "      <td>84.0</td>\n",
       "      <td>3.0</td>\n",
       "      <td>234.0</td>\n",
       "      <td>3</td>\n",
       "      <td>False</td>\n",
       "      <td>159.00</td>\n",
       "      <td>0</td>\n",
       "    </tr>\n",
       "    <tr>\n",
       "      <th>4</th>\n",
       "      <td>31856.0</td>\n",
       "      <td>NaN</td>\n",
       "      <td>3.03</td>\n",
       "      <td>8098.0</td>\n",
       "      <td>121.0</td>\n",
       "      <td>2018-06-19T00:00:00</td>\n",
       "      <td>13</td>\n",
       "      <td>14.0</td>\n",
       "      <td>NaN</td>\n",
       "      <td>41.00</td>\n",
       "      <td>10000000.0</td>\n",
       "      <td>32.00</td>\n",
       "      <td>Санкт-Петербург</td>\n",
       "      <td>False</td>\n",
       "      <td>2.0</td>\n",
       "      <td>112.0</td>\n",
       "      <td>1.0</td>\n",
       "      <td>48.0</td>\n",
       "      <td>2</td>\n",
       "      <td>False</td>\n",
       "      <td>100.00</td>\n",
       "      <td>2</td>\n",
       "    </tr>\n",
       "    <tr>\n",
       "      <th>5</th>\n",
       "      <td>NaN</td>\n",
       "      <td>NaN</td>\n",
       "      <td>NaN</td>\n",
       "      <td>NaN</td>\n",
       "      <td>55.0</td>\n",
       "      <td>2018-09-10T00:00:00</td>\n",
       "      <td>5</td>\n",
       "      <td>12.0</td>\n",
       "      <td>NaN</td>\n",
       "      <td>9.10</td>\n",
       "      <td>2890000.0</td>\n",
       "      <td>14.40</td>\n",
       "      <td>городской посёлок Янино-1</td>\n",
       "      <td>False</td>\n",
       "      <td>NaN</td>\n",
       "      <td>NaN</td>\n",
       "      <td>NaN</td>\n",
       "      <td>NaN</td>\n",
       "      <td>1</td>\n",
       "      <td>False</td>\n",
       "      <td>30.40</td>\n",
       "      <td>10</td>\n",
       "    </tr>\n",
       "    <tr>\n",
       "      <th>6</th>\n",
       "      <td>52996.0</td>\n",
       "      <td>1.0</td>\n",
       "      <td>NaN</td>\n",
       "      <td>19143.0</td>\n",
       "      <td>155.0</td>\n",
       "      <td>2017-11-02T00:00:00</td>\n",
       "      <td>6</td>\n",
       "      <td>26.0</td>\n",
       "      <td>NaN</td>\n",
       "      <td>14.40</td>\n",
       "      <td>3700000.0</td>\n",
       "      <td>10.60</td>\n",
       "      <td>посёлок Парголово</td>\n",
       "      <td>False</td>\n",
       "      <td>0.0</td>\n",
       "      <td>NaN</td>\n",
       "      <td>0.0</td>\n",
       "      <td>NaN</td>\n",
       "      <td>1</td>\n",
       "      <td>False</td>\n",
       "      <td>37.30</td>\n",
       "      <td>6</td>\n",
       "    </tr>\n",
       "    <tr>\n",
       "      <th>7</th>\n",
       "      <td>23982.0</td>\n",
       "      <td>2.0</td>\n",
       "      <td>NaN</td>\n",
       "      <td>11634.0</td>\n",
       "      <td>NaN</td>\n",
       "      <td>2019-04-18T00:00:00</td>\n",
       "      <td>22</td>\n",
       "      <td>24.0</td>\n",
       "      <td>NaN</td>\n",
       "      <td>18.90</td>\n",
       "      <td>7915000.0</td>\n",
       "      <td>NaN</td>\n",
       "      <td>Санкт-Петербург</td>\n",
       "      <td>False</td>\n",
       "      <td>0.0</td>\n",
       "      <td>NaN</td>\n",
       "      <td>0.0</td>\n",
       "      <td>NaN</td>\n",
       "      <td>2</td>\n",
       "      <td>False</td>\n",
       "      <td>71.60</td>\n",
       "      <td>5</td>\n",
       "    </tr>\n",
       "    <tr>\n",
       "      <th>8</th>\n",
       "      <td>NaN</td>\n",
       "      <td>NaN</td>\n",
       "      <td>NaN</td>\n",
       "      <td>NaN</td>\n",
       "      <td>189.0</td>\n",
       "      <td>2018-05-23T00:00:00</td>\n",
       "      <td>26</td>\n",
       "      <td>27.0</td>\n",
       "      <td>NaN</td>\n",
       "      <td>8.81</td>\n",
       "      <td>2900000.0</td>\n",
       "      <td>15.43</td>\n",
       "      <td>посёлок Мурино</td>\n",
       "      <td>False</td>\n",
       "      <td>NaN</td>\n",
       "      <td>NaN</td>\n",
       "      <td>NaN</td>\n",
       "      <td>NaN</td>\n",
       "      <td>1</td>\n",
       "      <td>False</td>\n",
       "      <td>33.16</td>\n",
       "      <td>20</td>\n",
       "    </tr>\n",
       "    <tr>\n",
       "      <th>9</th>\n",
       "      <td>50898.0</td>\n",
       "      <td>2.0</td>\n",
       "      <td>2.50</td>\n",
       "      <td>15008.0</td>\n",
       "      <td>289.0</td>\n",
       "      <td>2017-02-26T00:00:00</td>\n",
       "      <td>7</td>\n",
       "      <td>9.0</td>\n",
       "      <td>NaN</td>\n",
       "      <td>6.50</td>\n",
       "      <td>5400000.0</td>\n",
       "      <td>43.60</td>\n",
       "      <td>Санкт-Петербург</td>\n",
       "      <td>False</td>\n",
       "      <td>0.0</td>\n",
       "      <td>NaN</td>\n",
       "      <td>0.0</td>\n",
       "      <td>NaN</td>\n",
       "      <td>3</td>\n",
       "      <td>False</td>\n",
       "      <td>61.00</td>\n",
       "      <td>18</td>\n",
       "    </tr>\n",
       "    <tr>\n",
       "      <th>10</th>\n",
       "      <td>38357.0</td>\n",
       "      <td>NaN</td>\n",
       "      <td>2.67</td>\n",
       "      <td>13878.0</td>\n",
       "      <td>137.0</td>\n",
       "      <td>2017-11-16T00:00:00</td>\n",
       "      <td>3</td>\n",
       "      <td>12.0</td>\n",
       "      <td>NaN</td>\n",
       "      <td>8.50</td>\n",
       "      <td>5050000.0</td>\n",
       "      <td>20.30</td>\n",
       "      <td>Санкт-Петербург</td>\n",
       "      <td>False</td>\n",
       "      <td>1.0</td>\n",
       "      <td>310.0</td>\n",
       "      <td>2.0</td>\n",
       "      <td>553.0</td>\n",
       "      <td>1</td>\n",
       "      <td>False</td>\n",
       "      <td>39.60</td>\n",
       "      <td>5</td>\n",
       "    </tr>\n",
       "    <tr>\n",
       "      <th>11</th>\n",
       "      <td>48252.0</td>\n",
       "      <td>1.0</td>\n",
       "      <td>NaN</td>\n",
       "      <td>51677.0</td>\n",
       "      <td>7.0</td>\n",
       "      <td>2018-08-27T00:00:00</td>\n",
       "      <td>4</td>\n",
       "      <td>5.0</td>\n",
       "      <td>False</td>\n",
       "      <td>6.00</td>\n",
       "      <td>3300000.0</td>\n",
       "      <td>31.00</td>\n",
       "      <td>Ломоносов</td>\n",
       "      <td>False</td>\n",
       "      <td>0.0</td>\n",
       "      <td>NaN</td>\n",
       "      <td>0.0</td>\n",
       "      <td>NaN</td>\n",
       "      <td>2</td>\n",
       "      <td>False</td>\n",
       "      <td>44.00</td>\n",
       "      <td>9</td>\n",
       "    </tr>\n",
       "    <tr>\n",
       "      <th>12</th>\n",
       "      <td>NaN</td>\n",
       "      <td>0.0</td>\n",
       "      <td>NaN</td>\n",
       "      <td>NaN</td>\n",
       "      <td>90.0</td>\n",
       "      <td>2016-06-30T00:00:00</td>\n",
       "      <td>5</td>\n",
       "      <td>5.0</td>\n",
       "      <td>NaN</td>\n",
       "      <td>9.00</td>\n",
       "      <td>3890000.0</td>\n",
       "      <td>30.00</td>\n",
       "      <td>Сертолово</td>\n",
       "      <td>False</td>\n",
       "      <td>NaN</td>\n",
       "      <td>NaN</td>\n",
       "      <td>NaN</td>\n",
       "      <td>NaN</td>\n",
       "      <td>2</td>\n",
       "      <td>False</td>\n",
       "      <td>54.00</td>\n",
       "      <td>10</td>\n",
       "    </tr>\n",
       "    <tr>\n",
       "      <th>13</th>\n",
       "      <td>37868.0</td>\n",
       "      <td>1.0</td>\n",
       "      <td>2.56</td>\n",
       "      <td>33058.0</td>\n",
       "      <td>366.0</td>\n",
       "      <td>2017-07-01T00:00:00</td>\n",
       "      <td>5</td>\n",
       "      <td>5.0</td>\n",
       "      <td>NaN</td>\n",
       "      <td>5.20</td>\n",
       "      <td>3550000.0</td>\n",
       "      <td>27.00</td>\n",
       "      <td>Петергоф</td>\n",
       "      <td>False</td>\n",
       "      <td>1.0</td>\n",
       "      <td>294.0</td>\n",
       "      <td>3.0</td>\n",
       "      <td>298.0</td>\n",
       "      <td>2</td>\n",
       "      <td>False</td>\n",
       "      <td>42.80</td>\n",
       "      <td>20</td>\n",
       "    </tr>\n",
       "    <tr>\n",
       "      <th>14</th>\n",
       "      <td>20782.0</td>\n",
       "      <td>0.0</td>\n",
       "      <td>NaN</td>\n",
       "      <td>30759.0</td>\n",
       "      <td>203.0</td>\n",
       "      <td>2016-06-23T00:00:00</td>\n",
       "      <td>1</td>\n",
       "      <td>6.0</td>\n",
       "      <td>NaN</td>\n",
       "      <td>8.00</td>\n",
       "      <td>4400000.0</td>\n",
       "      <td>17.00</td>\n",
       "      <td>Пушкин</td>\n",
       "      <td>False</td>\n",
       "      <td>0.0</td>\n",
       "      <td>NaN</td>\n",
       "      <td>1.0</td>\n",
       "      <td>96.0</td>\n",
       "      <td>1</td>\n",
       "      <td>False</td>\n",
       "      <td>36.00</td>\n",
       "      <td>1</td>\n",
       "    </tr>\n",
       "    <tr>\n",
       "      <th>15</th>\n",
       "      <td>12900.0</td>\n",
       "      <td>1.0</td>\n",
       "      <td>NaN</td>\n",
       "      <td>14259.0</td>\n",
       "      <td>19.0</td>\n",
       "      <td>2017-11-18T00:00:00</td>\n",
       "      <td>5</td>\n",
       "      <td>14.0</td>\n",
       "      <td>NaN</td>\n",
       "      <td>7.60</td>\n",
       "      <td>4650000.0</td>\n",
       "      <td>20.50</td>\n",
       "      <td>Санкт-Петербург</td>\n",
       "      <td>False</td>\n",
       "      <td>1.0</td>\n",
       "      <td>590.0</td>\n",
       "      <td>1.0</td>\n",
       "      <td>296.0</td>\n",
       "      <td>1</td>\n",
       "      <td>False</td>\n",
       "      <td>39.00</td>\n",
       "      <td>16</td>\n",
       "    </tr>\n",
       "    <tr>\n",
       "      <th>16</th>\n",
       "      <td>22108.0</td>\n",
       "      <td>NaN</td>\n",
       "      <td>3.05</td>\n",
       "      <td>10698.0</td>\n",
       "      <td>397.0</td>\n",
       "      <td>2017-11-23T00:00:00</td>\n",
       "      <td>1</td>\n",
       "      <td>5.0</td>\n",
       "      <td>NaN</td>\n",
       "      <td>9.00</td>\n",
       "      <td>6700000.0</td>\n",
       "      <td>55.60</td>\n",
       "      <td>Санкт-Петербург</td>\n",
       "      <td>False</td>\n",
       "      <td>3.0</td>\n",
       "      <td>420.0</td>\n",
       "      <td>0.0</td>\n",
       "      <td>NaN</td>\n",
       "      <td>3</td>\n",
       "      <td>False</td>\n",
       "      <td>82.00</td>\n",
       "      <td>11</td>\n",
       "    </tr>\n",
       "    <tr>\n",
       "      <th>17</th>\n",
       "      <td>33564.0</td>\n",
       "      <td>1.0</td>\n",
       "      <td>NaN</td>\n",
       "      <td>14616.0</td>\n",
       "      <td>571.0</td>\n",
       "      <td>2016-09-09T00:00:00</td>\n",
       "      <td>7</td>\n",
       "      <td>17.0</td>\n",
       "      <td>NaN</td>\n",
       "      <td>11.00</td>\n",
       "      <td>4180000.0</td>\n",
       "      <td>16.50</td>\n",
       "      <td>Санкт-Петербург</td>\n",
       "      <td>False</td>\n",
       "      <td>0.0</td>\n",
       "      <td>NaN</td>\n",
       "      <td>1.0</td>\n",
       "      <td>859.0</td>\n",
       "      <td>1</td>\n",
       "      <td>False</td>\n",
       "      <td>36.00</td>\n",
       "      <td>6</td>\n",
       "    </tr>\n",
       "    <tr>\n",
       "      <th>18</th>\n",
       "      <td>44060.0</td>\n",
       "      <td>1.0</td>\n",
       "      <td>2.50</td>\n",
       "      <td>10842.0</td>\n",
       "      <td>168.0</td>\n",
       "      <td>2017-01-27T00:00:00</td>\n",
       "      <td>2</td>\n",
       "      <td>5.0</td>\n",
       "      <td>NaN</td>\n",
       "      <td>5.60</td>\n",
       "      <td>3250000.0</td>\n",
       "      <td>19.40</td>\n",
       "      <td>Санкт-Петербург</td>\n",
       "      <td>False</td>\n",
       "      <td>1.0</td>\n",
       "      <td>759.0</td>\n",
       "      <td>0.0</td>\n",
       "      <td>NaN</td>\n",
       "      <td>1</td>\n",
       "      <td>False</td>\n",
       "      <td>31.00</td>\n",
       "      <td>8</td>\n",
       "    </tr>\n",
       "    <tr>\n",
       "      <th>19</th>\n",
       "      <td>38900.0</td>\n",
       "      <td>NaN</td>\n",
       "      <td>2.75</td>\n",
       "      <td>12843.0</td>\n",
       "      <td>97.0</td>\n",
       "      <td>2019-01-09T00:00:00</td>\n",
       "      <td>8</td>\n",
       "      <td>16.0</td>\n",
       "      <td>NaN</td>\n",
       "      <td>12.00</td>\n",
       "      <td>14200000.0</td>\n",
       "      <td>76.00</td>\n",
       "      <td>Санкт-Петербург</td>\n",
       "      <td>False</td>\n",
       "      <td>0.0</td>\n",
       "      <td>NaN</td>\n",
       "      <td>0.0</td>\n",
       "      <td>NaN</td>\n",
       "      <td>3</td>\n",
       "      <td>False</td>\n",
       "      <td>121.00</td>\n",
       "      <td>16</td>\n",
       "    </tr>\n",
       "  </tbody>\n",
       "</table>\n",
       "</div>"
      ],
      "text/plain": [
       "    airports_nearest  balcony  ceiling_height  cityCenters_nearest  \\\n",
       "0            18863.0      NaN            2.70              16028.0   \n",
       "1            12817.0      2.0             NaN              18603.0   \n",
       "2            21741.0      0.0             NaN              13933.0   \n",
       "3            28098.0      0.0             NaN               6800.0   \n",
       "4            31856.0      NaN            3.03               8098.0   \n",
       "5                NaN      NaN             NaN                  NaN   \n",
       "6            52996.0      1.0             NaN              19143.0   \n",
       "7            23982.0      2.0             NaN              11634.0   \n",
       "8                NaN      NaN             NaN                  NaN   \n",
       "9            50898.0      2.0            2.50              15008.0   \n",
       "10           38357.0      NaN            2.67              13878.0   \n",
       "11           48252.0      1.0             NaN              51677.0   \n",
       "12               NaN      0.0             NaN                  NaN   \n",
       "13           37868.0      1.0            2.56              33058.0   \n",
       "14           20782.0      0.0             NaN              30759.0   \n",
       "15           12900.0      1.0             NaN              14259.0   \n",
       "16           22108.0      NaN            3.05              10698.0   \n",
       "17           33564.0      1.0             NaN              14616.0   \n",
       "18           44060.0      1.0            2.50              10842.0   \n",
       "19           38900.0      NaN            2.75              12843.0   \n",
       "\n",
       "    days_exposition first_day_exposition  floor  floors_total is_apartment  \\\n",
       "0               NaN  2019-03-07T00:00:00      8          16.0          NaN   \n",
       "1              81.0  2018-12-04T00:00:00      1          11.0          NaN   \n",
       "2             558.0  2015-08-20T00:00:00      4           5.0          NaN   \n",
       "3             424.0  2015-07-24T00:00:00      9          14.0          NaN   \n",
       "4             121.0  2018-06-19T00:00:00     13          14.0          NaN   \n",
       "5              55.0  2018-09-10T00:00:00      5          12.0          NaN   \n",
       "6             155.0  2017-11-02T00:00:00      6          26.0          NaN   \n",
       "7               NaN  2019-04-18T00:00:00     22          24.0          NaN   \n",
       "8             189.0  2018-05-23T00:00:00     26          27.0          NaN   \n",
       "9             289.0  2017-02-26T00:00:00      7           9.0          NaN   \n",
       "10            137.0  2017-11-16T00:00:00      3          12.0          NaN   \n",
       "11              7.0  2018-08-27T00:00:00      4           5.0        False   \n",
       "12             90.0  2016-06-30T00:00:00      5           5.0          NaN   \n",
       "13            366.0  2017-07-01T00:00:00      5           5.0          NaN   \n",
       "14            203.0  2016-06-23T00:00:00      1           6.0          NaN   \n",
       "15             19.0  2017-11-18T00:00:00      5          14.0          NaN   \n",
       "16            397.0  2017-11-23T00:00:00      1           5.0          NaN   \n",
       "17            571.0  2016-09-09T00:00:00      7          17.0          NaN   \n",
       "18            168.0  2017-01-27T00:00:00      2           5.0          NaN   \n",
       "19             97.0  2019-01-09T00:00:00      8          16.0          NaN   \n",
       "\n",
       "    kitchen_area  last_price  living_area              locality_name  \\\n",
       "0          25.00  13000000.0        51.00            Санкт-Петербург   \n",
       "1          11.00   3350000.0        18.60             посёлок Шушары   \n",
       "2           8.30   5196000.0        34.30            Санкт-Петербург   \n",
       "3            NaN  64900000.0          NaN            Санкт-Петербург   \n",
       "4          41.00  10000000.0        32.00            Санкт-Петербург   \n",
       "5           9.10   2890000.0        14.40  городской посёлок Янино-1   \n",
       "6          14.40   3700000.0        10.60          посёлок Парголово   \n",
       "7          18.90   7915000.0          NaN            Санкт-Петербург   \n",
       "8           8.81   2900000.0        15.43             посёлок Мурино   \n",
       "9           6.50   5400000.0        43.60            Санкт-Петербург   \n",
       "10          8.50   5050000.0        20.30            Санкт-Петербург   \n",
       "11          6.00   3300000.0        31.00                  Ломоносов   \n",
       "12          9.00   3890000.0        30.00                  Сертолово   \n",
       "13          5.20   3550000.0        27.00                   Петергоф   \n",
       "14          8.00   4400000.0        17.00                     Пушкин   \n",
       "15          7.60   4650000.0        20.50            Санкт-Петербург   \n",
       "16          9.00   6700000.0        55.60            Санкт-Петербург   \n",
       "17         11.00   4180000.0        16.50            Санкт-Петербург   \n",
       "18          5.60   3250000.0        19.40            Санкт-Петербург   \n",
       "19         12.00  14200000.0        76.00            Санкт-Петербург   \n",
       "\n",
       "    open_plan  parks_around3000  parks_nearest  ponds_around3000  \\\n",
       "0       False               1.0          482.0               2.0   \n",
       "1       False               0.0            NaN               0.0   \n",
       "2       False               1.0           90.0               2.0   \n",
       "3       False               2.0           84.0               3.0   \n",
       "4       False               2.0          112.0               1.0   \n",
       "5       False               NaN            NaN               NaN   \n",
       "6       False               0.0            NaN               0.0   \n",
       "7       False               0.0            NaN               0.0   \n",
       "8       False               NaN            NaN               NaN   \n",
       "9       False               0.0            NaN               0.0   \n",
       "10      False               1.0          310.0               2.0   \n",
       "11      False               0.0            NaN               0.0   \n",
       "12      False               NaN            NaN               NaN   \n",
       "13      False               1.0          294.0               3.0   \n",
       "14      False               0.0            NaN               1.0   \n",
       "15      False               1.0          590.0               1.0   \n",
       "16      False               3.0          420.0               0.0   \n",
       "17      False               0.0            NaN               1.0   \n",
       "18      False               1.0          759.0               0.0   \n",
       "19      False               0.0            NaN               0.0   \n",
       "\n",
       "    ponds_nearest  rooms  studio  total_area  total_images  \n",
       "0           755.0      3   False      108.00            20  \n",
       "1             NaN      1   False       40.40             7  \n",
       "2           574.0      2   False       56.00            10  \n",
       "3           234.0      3   False      159.00             0  \n",
       "4            48.0      2   False      100.00             2  \n",
       "5             NaN      1   False       30.40            10  \n",
       "6             NaN      1   False       37.30             6  \n",
       "7             NaN      2   False       71.60             5  \n",
       "8             NaN      1   False       33.16            20  \n",
       "9             NaN      3   False       61.00            18  \n",
       "10          553.0      1   False       39.60             5  \n",
       "11            NaN      2   False       44.00             9  \n",
       "12            NaN      2   False       54.00            10  \n",
       "13          298.0      2   False       42.80            20  \n",
       "14           96.0      1   False       36.00             1  \n",
       "15          296.0      1   False       39.00            16  \n",
       "16            NaN      3   False       82.00            11  \n",
       "17          859.0      1   False       36.00             6  \n",
       "18            NaN      1   False       31.00             8  \n",
       "19            NaN      3   False      121.00            16  "
      ]
     },
     "execution_count": 3,
     "metadata": {},
     "output_type": "execute_result"
    }
   ],
   "source": [
    "# printing first 20 strings\n",
    "pd.set_option('display.max_columns', None) # for printing all columns\n",
    "data.head(20)"
   ]
  },
  {
   "cell_type": "code",
   "execution_count": 4,
   "metadata": {},
   "outputs": [
    {
     "data": {
      "image/png": "[encoded data removed]",
      "text/plain": [
       "<Figure size 1080x1440 with 20 Axes>"
      ]
     },
     "metadata": {
      "needs_background": "light"
     },
     "output_type": "display_data"
    }
   ],
   "source": [
    "# building a histogram for the numerical parameters of the objects\n",
    "data.hist(figsize=(15, 20));"
   ]
  },
  {
   "cell_type": "markdown",
   "metadata": {},
   "source": [
    "**Conclusion**\n",
    "\n",
    "According to the preliminary assessment of the uploaded data, there are a significant number of missing values in the columns `ceiling_height`, `is_apartment`, as well as in the columns with numerical data obtained from geoservices. The data types of some columns do not match the logic of the data: boolean types are represented as text, and integer data as floating-point numbers. Unusual outliers have been observed in some histograms (`total area`, `price`, `ceiling height`, `kitchen area`). Further analysis should pay attention to this and make adjustments."
   ]
  },
  {
   "cell_type": "markdown",
   "metadata": {
    "id": "-O5NtivEAwb9"
   },
   "source": [
    "## Data preprocessing"
   ]
  },
  {
   "cell_type": "markdown",
   "metadata": {},
   "source": [
    "### Removing missing values"
   ]
  },
  {
   "cell_type": "markdown",
   "metadata": {
    "id": "7v3vAeTuAwb-"
   },
   "source": [
    "Calculating the number of missing values by columns:"
   ]
  },
  {
   "cell_type": "code",
   "execution_count": 5,
   "metadata": {
    "id": "7v3vAeTuAwb-"
   },
   "outputs": [
    {
     "name": "stdout",
     "output_type": "stream",
     "text": [
      "airports_nearest         5542\n",
      "balcony                 11519\n",
      "ceiling_height           9195\n",
      "cityCenters_nearest      5519\n",
      "days_exposition          3181\n",
      "first_day_exposition        0\n",
      "floor                       0\n",
      "floors_total               86\n",
      "is_apartment            20924\n",
      "kitchen_area             2278\n",
      "last_price                  0\n",
      "living_area              1903\n",
      "locality_name              49\n",
      "open_plan                   0\n",
      "parks_around3000         5518\n",
      "parks_nearest           15620\n",
      "ponds_around3000         5518\n",
      "ponds_nearest           14589\n",
      "rooms                       0\n",
      "studio                      0\n",
      "total_area                  0\n",
      "total_images                0\n",
      "dtype: int64\n"
     ]
    }
   ],
   "source": [
    "print(data.isna().sum())"
   ]
  },
  {
   "cell_type": "markdown",
   "metadata": {},
   "source": [
    "We will replace the missing values in the 'balcony' column with 0, as if the owner did not provide the data, it is likely that there are no balconies. Similarly, for the 'is_apartment' column — apartment owners know this for sure, and if it is not specified, it is likely to be residential real estate."
   ]
  },
  {
   "cell_type": "code",
   "execution_count": 6,
   "metadata": {},
   "outputs": [
    {
     "name": "stdout",
     "output_type": "stream",
     "text": [
      "Пропуски по столбцу с количеством балконов: 0\n",
      "Пропуски по признаку апартаментов: 0\n"
     ]
    }
   ],
   "source": [
    "data['balcony'] = data['balcony'].fillna(0)\n",
    "data.loc[data['is_apartment'].isna(),'is_apartment'] = False\n",
    "\n",
    "# checking the number of missing values in the number of balconies and the apartment indicator\n",
    "print('Missing values in the column with the number of balconies:', data['balcony'].isna().sum())\n",
    "print('Missing values in the apartment indicator:', data['is_apartment'].isna().sum())"
   ]
  },
  {
   "cell_type": "markdown",
   "metadata": {},
   "source": [
    "Insignificant missing values have been identified in the floors_total and locality_name parameters. excluding these rows is impractical, as the known parameters of these rows will be useful in identifying dependencies with prices. therefore, we will replace them with 0 and \"unknown,\" respectively:"
   ]
  },
  {
   "cell_type": "code",
   "execution_count": 7,
   "metadata": {},
   "outputs": [
    {
     "name": "stdout",
     "output_type": "stream",
     "text": [
      "Пропуски по столбцу floors_total: 0\n",
      "Пропуски по столбцу locality_name: 0\n"
     ]
    }
   ],
   "source": [
    "data['floors_total'] = data['floors_total'].fillna(data['floor'])\n",
    "data['locality_name'] = data['locality_name'].fillna('не_известен')\n",
    "\n",
    "# checking the number of missing values \n",
    "print('Пропуски по столбцу floors_total:', data['floors_total'].isna().sum())\n",
    "print('Пропуски по столбцу locality_name:', data['locality_name'].isna().sum())"
   ]
  },
  {
   "cell_type": "markdown",
   "metadata": {},
   "source": [
    "Checking whether the kitchen area and living area data correlate with the total size of the housing"
   ]
  },
  {
   "cell_type": "code",
   "execution_count": 8,
   "metadata": {},
   "outputs": [
    {
     "name": "stdout",
     "output_type": "stream",
     "text": [
      "Коэффициент Пирсона по корреляции площади кухни и общей площади: 0.6091211711198318\n",
      "Коэффициент Пирсона по корреляции жилой площади и общей площади: 0.9395373338721493\n"
     ]
    }
   ],
   "source": [
    "print('Pearson correlation coefficient for the kitchen area and total area:', data['kitchen_area'].corr(data['total_area']))\n",
    "print('Pearson correlation coefficient for the living area and total area:', data['living_area'].corr(data['total_area']))"
   ]
  },
  {
   "cell_type": "markdown",
   "metadata": {},
   "source": [
    "In both cases, the correlation is significant, so we will fill in the missing values in the kitchen area and living area columns with the average sizes of these parameters for similar apartments (based on the total area attribute)."
   ]
  },
  {
   "cell_type": "code",
   "execution_count": 9,
   "metadata": {},
   "outputs": [
    {
     "name": "stdout",
     "output_type": "stream",
     "text": [
      "Пропуски по столбцу kitchen_area: 0\n",
      "Пропуски по столбцу living_area: 0\n"
     ]
    }
   ],
   "source": [
    "# selecting three area columns\n",
    "data_areas = data[['kitchen_area','living_area','total_area']]\n",
    "\n",
    "# creating an auxiliary table for the three specified area columns with apartment categories and average values by these categories\n",
    "area_mean = pd.DataFrame(columns=['kitchen_area','living_area','total_area'])\n",
    "\n",
    "# calculating the average values of kitchen area and living area for apartments with a total area from 10m² to 200m² in increments of 10m²\n",
    "for area_segment in range(10,200,10):\n",
    "   area_mean.loc[area_segment] = round(data_areas[(data_areas['total_area'] >= area_segment) & (data_areas['total_area'] < area_segment+10)].mean(),2)\n",
    "\n",
    "# separately adding a row with data for apartments with an area greater than 200m² \n",
    "# (there are very few of them, and it is impractical to create a separate classification from 200m² to 900m²)\n",
    "area_mean.loc[200] = round(data_areas[(data_areas['total_area'] >= 200)].mean(),2)\n",
    "\n",
    "# filling in the missing values with the corresponding average categorical data; in the else case, data for very large apartments will be added\n",
    "for i,row in area_mean.iterrows():\n",
    "    if i < 200:\n",
    "        data.loc[data['kitchen_area'].isna() & (data['total_area']>= i) & (data['total_area'] < i+10), 'kitchen_area'] = row['kitchen_area']\n",
    "        data.loc[data['living_area'].isna() & (data['total_area']>= i) & (data['total_area'] < i+10), 'living_area'] = row['living_area']\n",
    "    else:\n",
    "        data.loc[data['kitchen_area'].isna(), 'kitchen_area'] = row['kitchen_area']\n",
    "        data.loc[data['living_area'].isna(), 'living_area'] = row['living_area']\n",
    "\n",
    "# checking missing values\n",
    "print('Пропуски по столбцу kitchen_area:', data['kitchen_area'].isna().sum())\n",
    "print('Пропуски по столбцу living_area:', data['living_area'].isna().sum())"
   ]
  },
  {
   "cell_type": "markdown",
   "metadata": {},
   "source": [
    "Analyzing the ceiling height column"
   ]
  },
  {
   "cell_type": "code",
   "execution_count": 10,
   "metadata": {},
   "outputs": [
    {
     "data": {
      "text/plain": [
       "<AxesSubplot:>"
      ]
     },
     "metadata": {},
     "output_type": "display_data"
    },
    {
     "data": {
      "text/plain": [
       "count    14504.000000\n",
       "mean         2.771499\n",
       "std          1.261056\n",
       "min          1.000000\n",
       "25%          2.520000\n",
       "50%          2.650000\n",
       "75%          2.800000\n",
       "max        100.000000\n",
       "Name: ceiling_height, dtype: float64"
      ]
     },
     "metadata": {},
     "output_type": "display_data"
    },
    {
     "data": {
      "image/png": "[encoded data removed]",
      "text/plain": [
       "<Figure size 432x288 with 1 Axes>"
      ]
     },
     "metadata": {
      "needs_background": "light"
     },
     "output_type": "display_data"
    },
    {
     "data": {
      "image/png": "[encoded data removed]",
      "text/plain": [
       "<Figure size 432x288 with 1 Axes>"
      ]
     },
     "metadata": {
      "needs_background": "light"
     },
     "output_type": "display_data"
    }
   ],
   "source": [
    "display(data.boxplot('ceiling_height'))\n",
    "display(data['ceiling_height'].describe())\n",
    "\n",
    "# checking the distribution of the number of apartments in the typical range of sizes, \n",
    "# excluding outliers such as less than 1m and more than 5m — these are clearly incorrect data\n",
    "data.hist('ceiling_height', bins=30, range=(2.2,5));"
   ]
  },
  {
   "cell_type": "markdown",
   "metadata": {},
   "source": [
    "The vast majority of apartments have ceiling heights in the expected range of 2.2m to 4m.   \n",
    "We will also calculate the number of outliers that fall outside the expected range."
   ]
  },
  {
   "cell_type": "code",
   "execution_count": 11,
   "metadata": {},
   "outputs": [
    {
     "name": "stdout",
     "output_type": "stream",
     "text": [
      "Количество квартир с потолками менее 2.2м и более 5м: 50\n"
     ]
    }
   ],
   "source": [
    "# checking the number of clearly incorrect data entries for ceiling heights\n",
    "print('Number of apartments with ceiling heights less than 2.2m and greater than 5m:', data[(data['ceiling_height'] < 2.2) | (data['ceiling_height'] > 5)]['ceiling_height'].count())"
   ]
  },
  {
   "cell_type": "markdown",
   "metadata": {},
   "source": [
    "There are very few such apartments; it may make sense to replace the outlier data with the average from the entire table.   \n",
    "We propose to replace the missing values with the average from the table."
   ]
  },
  {
   "cell_type": "code",
   "execution_count": 12,
   "metadata": {},
   "outputs": [],
   "source": [
    "data['ceiling_height'] = data['ceiling_height'].fillna(round(data[(data['ceiling_height'] >= 2.2) & (data['ceiling_height'] <= 5)]['ceiling_height'].mean(),2))"
   ]
  },
  {
   "cell_type": "markdown",
   "metadata": {},
   "source": [
    "Calculating the proportions of missing values for each parameter (column) after handling the missing values:"
   ]
  },
  {
   "cell_type": "code",
   "execution_count": 13,
   "metadata": {},
   "outputs": [
    {
     "name": "stdout",
     "output_type": "stream",
     "text": [
      "Доля пропусков по параметру airports_nearest составляет: 23.38%\n",
      "Доля пропусков по параметру balcony составляет: 0.00%\n",
      "Доля пропусков по параметру ceiling_height составляет: 0.00%\n",
      "Доля пропусков по параметру cityCenters_nearest составляет: 23.29%\n",
      "Доля пропусков по параметру days_exposition составляет: 13.42%\n",
      "Доля пропусков по параметру first_day_exposition составляет: 0.00%\n",
      "Доля пропусков по параметру floor составляет: 0.00%\n",
      "Доля пропусков по параметру floors_total составляет: 0.00%\n",
      "Доля пропусков по параметру is_apartment составляет: 0.00%\n",
      "Доля пропусков по параметру kitchen_area составляет: 0.00%\n",
      "Доля пропусков по параметру last_price составляет: 0.00%\n",
      "Доля пропусков по параметру living_area составляет: 0.00%\n",
      "Доля пропусков по параметру locality_name составляет: 0.00%\n",
      "Доля пропусков по параметру open_plan составляет: 0.00%\n",
      "Доля пропусков по параметру parks_around3000 составляет: 23.28%\n",
      "Доля пропусков по параметру parks_nearest составляет: 65.91%\n",
      "Доля пропусков по параметру ponds_around3000 составляет: 23.28%\n",
      "Доля пропусков по параметру ponds_nearest составляет: 61.56%\n",
      "Доля пропусков по параметру rooms составляет: 0.00%\n",
      "Доля пропусков по параметру studio составляет: 0.00%\n",
      "Доля пропусков по параметру total_area составляет: 0.00%\n",
      "Доля пропусков по параметру total_images составляет: 0.00%\n"
     ]
    }
   ],
   "source": [
    "for column in data.columns:\n",
    "    print(f'The proportion of missing values for the parameter {column} is: {data[column].isna().sum() / len(data):.2%}')"
   ]
  },
  {
   "cell_type": "markdown",
   "metadata": {},
   "source": [
    "A significant proportion of missing values has been identified for parameters obtained automatically from geoservices (airports_nearest, cityCenters_nearest, parks_nearest, etc.) and for data from the listing service regarding the duration of the listing (days_exposition). For a correct analysis, it is better to double-check and re-download the necessary data.\n",
    "\n",
    "The missing values in the corrected columns likely had a random nature."
   ]
  },
  {
   "cell_type": "markdown",
   "metadata": {},
   "source": [
    "### Checking and converting data types to correct ones."
   ]
  },
  {
   "cell_type": "markdown",
   "metadata": {},
   "source": [
    "Let's take another look at the data types of the columns in the table."
   ]
  },
  {
   "cell_type": "code",
   "execution_count": 14,
   "metadata": {},
   "outputs": [
    {
     "name": "stdout",
     "output_type": "stream",
     "text": [
      "<class 'pandas.core.frame.DataFrame'>\n",
      "RangeIndex: 23699 entries, 0 to 23698\n",
      "Data columns (total 22 columns):\n",
      " #   Column                Non-Null Count  Dtype  \n",
      "---  ------                --------------  -----  \n",
      " 0   airports_nearest      18157 non-null  float64\n",
      " 1   balcony               23699 non-null  float64\n",
      " 2   ceiling_height        23699 non-null  float64\n",
      " 3   cityCenters_nearest   18180 non-null  float64\n",
      " 4   days_exposition       20518 non-null  float64\n",
      " 5   first_day_exposition  23699 non-null  object \n",
      " 6   floor                 23699 non-null  int64  \n",
      " 7   floors_total          23699 non-null  float64\n",
      " 8   is_apartment          23699 non-null  object \n",
      " 9   kitchen_area          23699 non-null  float64\n",
      " 10  last_price            23699 non-null  float64\n",
      " 11  living_area           23699 non-null  float64\n",
      " 12  locality_name         23699 non-null  object \n",
      " 13  open_plan             23699 non-null  bool   \n",
      " 14  parks_around3000      18181 non-null  float64\n",
      " 15  parks_nearest         8079 non-null   float64\n",
      " 16  ponds_around3000      18181 non-null  float64\n",
      " 17  ponds_nearest         9110 non-null   float64\n",
      " 18  rooms                 23699 non-null  int64  \n",
      " 19  studio                23699 non-null  bool   \n",
      " 20  total_area            23699 non-null  float64\n",
      " 21  total_images          23699 non-null  int64  \n",
      "dtypes: bool(2), float64(14), int64(3), object(3)\n",
      "memory usage: 3.7+ MB\n"
     ]
    }
   ],
   "source": [
    "data.info()"
   ]
  },
  {
   "cell_type": "markdown",
   "metadata": {},
   "source": [
    "Correct data types will use fewer resources during processing and analysis, and it may also be possible to apply appropriate methods when handling this data. Therefore: \n",
    "- In the balcony and floors_total columns, the data cannot be fractional by nature, so we will change the data type in these columns from float64 to int64. in the days_exposition, parks_around3000, and ponds_around3000 columns, the nature of the data is the same, but due to the presence of NaN values, we cannot change the type to int64, so we will leave it as float64.\n",
    "- In the columns with distance data (for example, airports_nearest, cityCenters_nearest, etc.), the data is expressed in whole meters to the object, but these columns also contain NaN, so we will also leave them as float64.\n",
    "- In the is_apartment column, the data can only take two values, so we can change the data type of this column to bool.\n",
    "- In the first_day_exposition column, we will convert the date format to the standard format.\n",
    "- We will convert the columns with float64 data type to float32 to save memory."
   ]
  },
  {
   "cell_type": "code",
   "execution_count": 15,
   "metadata": {},
   "outputs": [],
   "source": [
    "# converting the columns from the bullet 1 above to int64\n",
    "data[['balcony', 'floors_total']] = data[['balcony', 'floors_total']].astype(np.int64)\n",
    "\n",
    "# converting the column from bullet 3 above to bool\n",
    "data['is_apartment'] = data['is_apartment'].astype(bool)\n",
    "\n",
    "# converting the column from bullet 4 above to the standard date format\n",
    "data['first_day_exposition']= pd.to_datetime(data['first_day_exposition'], format='%Y-%m-%dT%H:%M:%S')\n",
    "\n",
    "# converting the columns with float64 data to float32\n",
    "data[['airports_nearest', 'ceiling_height', 'cityCenters_nearest', 'kitchen_area', 'last_price', 'living_area', 'parks_nearest', 'ponds_nearest', 'total_area']] = data[['airports_nearest', 'ceiling_height', 'cityCenters_nearest', 'kitchen_area', 'last_price', 'living_area', 'parks_nearest', 'ponds_nearest', 'total_area']].astype(np.float32)\n",
    "\n",
    "# for clarity, we will convert the price to millions\n",
    "data.loc[:,'last_price'] = data.loc[:,'last_price'] / 1000000\n"
   ]
  },
  {
   "cell_type": "markdown",
   "metadata": {},
   "source": [
    "### Check for duplicates"
   ]
  },
  {
   "cell_type": "markdown",
   "metadata": {},
   "source": [
    "Checking the table for obvious duplicates:"
   ]
  },
  {
   "cell_type": "code",
   "execution_count": 16,
   "metadata": {},
   "outputs": [
    {
     "data": {
      "text/plain": [
       "0"
      ]
     },
     "execution_count": 16,
     "metadata": {},
     "output_type": "execute_result"
    }
   ],
   "source": [
    "data.duplicated().sum()"
   ]
  },
  {
   "cell_type": "markdown",
   "metadata": {},
   "source": [
    "Checking the table for implicit duplicates in the locality_name column, as the same place name may be specified differently."
   ]
  },
  {
   "cell_type": "code",
   "execution_count": 17,
   "metadata": {},
   "outputs": [
    {
     "data": {
      "text/plain": [
       "array(['санкт-петербург', 'посёлок шушары', 'городской посёлок янино-1',\n",
       "       'посёлок парголово', 'посёлок мурино', 'ломоносов', 'сертолово',\n",
       "       'петергоф', 'пушкин', 'деревня кудрово', 'коммунар', 'колпино',\n",
       "       'поселок городского типа красный бор', 'гатчина', 'поселок мурино',\n",
       "       'деревня фёдоровское', 'выборг', 'кронштадт', 'кировск',\n",
       "       'деревня новое девяткино', 'посёлок металлострой',\n",
       "       'посёлок городского типа лебяжье',\n",
       "       'посёлок городского типа сиверский', 'поселок молодцово',\n",
       "       'поселок городского типа кузьмоловский',\n",
       "       'садовое товарищество новая ропша', 'павловск',\n",
       "       'деревня пикколово', 'всеволожск', 'волхов', 'кингисепп',\n",
       "       'приозерск', 'сестрорецк', 'деревня куттузи', 'посёлок аннино',\n",
       "       'поселок городского типа ефимовский', 'посёлок плодовое',\n",
       "       'деревня заклинье', 'поселок торковичи', 'поселок первомайское',\n",
       "       'красное село', 'посёлок понтонный', 'сясьстрой', 'деревня старая',\n",
       "       'деревня лесколово', 'посёлок новый свет', 'сланцы',\n",
       "       'село путилово', 'ивангород', 'мурино', 'шлиссельбург',\n",
       "       'никольское', 'зеленогорск', 'сосновый бор', 'поселок новый свет',\n",
       "       'деревня оржицы', 'деревня кальтино', 'кудрово',\n",
       "       'поселок романовка', 'посёлок бугры', 'поселок бугры',\n",
       "       'поселок городского типа рощино', 'кириши', 'луга', 'волосово',\n",
       "       'отрадное', 'село павлово', 'поселок оредеж', 'село копорье',\n",
       "       'посёлок городского типа красный бор', 'посёлок молодёжное',\n",
       "       'тихвин', 'посёлок победа', 'деревня нурма',\n",
       "       'поселок городского типа синявино', 'тосно',\n",
       "       'посёлок городского типа кузьмоловский', 'посёлок стрельна',\n",
       "       'бокситогорск', 'посёлок александровская', 'деревня лопухинка',\n",
       "       'пикалёво', 'поселок терволово',\n",
       "       'поселок городского типа советский', 'подпорожье',\n",
       "       'посёлок петровское', 'посёлок городского типа токсово',\n",
       "       'поселок сельцо', 'посёлок городского типа вырица',\n",
       "       'деревня кипень', 'деревня келози', 'деревня вартемяги',\n",
       "       'посёлок тельмана', 'поселок севастьяново',\n",
       "       'городской поселок большая ижора', 'не_известен',\n",
       "       'городской посёлок павлово', 'деревня агалатово',\n",
       "       'посёлок новогорелово', 'городской посёлок лесогорский',\n",
       "       'деревня лаголово', 'поселок цвелодубово',\n",
       "       'поселок городского типа рахья', 'поселок городского типа вырица',\n",
       "       'деревня белогорка', 'поселок заводской',\n",
       "       'городской посёлок новоселье', 'деревня большие колпаны',\n",
       "       'деревня горбунки', 'деревня батово', 'деревня заневка',\n",
       "       'деревня иссад', 'приморск', 'городской посёлок фёдоровское',\n",
       "       'деревня мистолово', 'новая ладога', 'поселок зимитицы',\n",
       "       'поселок барышево', 'деревня разметелево',\n",
       "       'поселок городского типа имени свердлова', 'деревня пеники',\n",
       "       'поселок рябово', 'деревня пудомяги', 'поселок станции корнево',\n",
       "       'деревня низино', 'деревня бегуницы', 'посёлок поляны',\n",
       "       'городской посёлок мга', 'поселок елизаветино',\n",
       "       'посёлок городского типа кузнечное', 'деревня колтуши',\n",
       "       'поселок запорожское', 'посёлок городского типа рощино',\n",
       "       'деревня гостилицы', 'деревня малое карлино',\n",
       "       'посёлок мичуринское', 'посёлок городского типа имени морозова',\n",
       "       'посёлок песочный', 'посёлок сосново', 'деревня аро',\n",
       "       'поселок ильичёво', 'посёлок городского типа тайцы',\n",
       "       'деревня малое верево', 'деревня извара', 'поселок станции вещево',\n",
       "       'село паша', 'деревня калитино',\n",
       "       'посёлок городского типа ульяновка', 'деревня чудской бор',\n",
       "       'поселок городского типа дубровка', 'деревня мины',\n",
       "       'поселок войсковицы', 'посёлок городского типа имени свердлова',\n",
       "       'деревня коркино', 'посёлок ропша',\n",
       "       'поселок городского типа приладожский', 'посёлок щеглово',\n",
       "       'посёлок гаврилово', 'лодейное поле', 'деревня рабитицы',\n",
       "       'поселок городского типа никольский', 'деревня кузьмолово',\n",
       "       'деревня малые колпаны', 'поселок тельмана',\n",
       "       'посёлок петро-славянка', 'городской посёлок назия',\n",
       "       'посёлок репино', 'посёлок ильичёво', 'поселок углово',\n",
       "       'поселок старая малукса', 'садовое товарищество рахья',\n",
       "       'поселок аннино', 'поселок победа', 'деревня меньково',\n",
       "       'деревня старые бегуницы', 'посёлок сапёрный', 'поселок семрино',\n",
       "       'поселок гаврилово', 'поселок глажево', 'поселок кобринское',\n",
       "       'деревня гарболово', 'деревня юкки',\n",
       "       'поселок станции приветнинское', 'деревня мануйлово',\n",
       "       'деревня пчева', 'поселок поляны', 'поселок цвылёво',\n",
       "       'поселок мельниково', 'посёлок пудость', 'посёлок усть-луга',\n",
       "       'светогорск', 'любань', 'поселок селезнёво',\n",
       "       'поселок городского типа рябово', 'каменногорск', 'деревня кривко',\n",
       "       'поселок глебычево', 'деревня парицы', 'поселок жилпосёлок',\n",
       "       'посёлок городского типа мга', 'городской поселок янино-1',\n",
       "       'посёлок войскорово', 'село никольское', 'посёлок терволово',\n",
       "       'поселок стеклянный', 'посёлок городского типа важины',\n",
       "       'посёлок мыза-ивановка', 'село русско-высоцкое',\n",
       "       'поселок городского типа лебяжье',\n",
       "       'поселок городского типа форносово', 'село старая ладога',\n",
       "       'поселок житково', 'городской посёлок виллози', 'деревня лампово',\n",
       "       'деревня шпаньково', 'деревня лаврики', 'посёлок сумино',\n",
       "       'посёлок возрождение', 'деревня старосиверская',\n",
       "       'посёлок кикерино', 'поселок возрождение',\n",
       "       'деревня старое хинколово', 'посёлок пригородный',\n",
       "       'посёлок торфяное', 'городской посёлок будогощь',\n",
       "       'поселок суходолье', 'поселок красная долина', 'деревня хапо-ое',\n",
       "       'поселок городского типа дружная горка', 'поселок лисий нос',\n",
       "       'деревня яльгелево', 'посёлок стеклянный', 'село рождествено',\n",
       "       'деревня старополье', 'посёлок левашово', 'деревня сяськелево',\n",
       "       'деревня камышовка',\n",
       "       'садоводческое некоммерческое товарищество лесная поляна',\n",
       "       'деревня хязельки', 'поселок жилгородок',\n",
       "       'посёлок городского типа павлово', 'деревня ялгино',\n",
       "       'поселок новый учхоз', 'городской посёлок рощино',\n",
       "       'поселок гончарово', 'поселок почап', 'посёлок сапёрное',\n",
       "       'посёлок платформа 69-й километр', 'поселок каложицы',\n",
       "       'деревня фалилеево', 'деревня пельгора',\n",
       "       'поселок городского типа лесогорский', 'деревня торошковичи',\n",
       "       'посёлок белоостров', 'посёлок алексеевка', 'поселок серебрянский',\n",
       "       'поселок лукаши', 'поселок петровское', 'деревня щеглово',\n",
       "       'поселок мичуринское', 'деревня тарасово', 'поселок кингисеппский',\n",
       "       'посёлок при железнодорожной станции вещево', 'поселок ушаки',\n",
       "       'деревня котлы', 'деревня сижно', 'деревня торосово',\n",
       "       'посёлок форт красная горка', 'поселок городского типа токсово',\n",
       "       'деревня новолисино', 'посёлок станции громово', 'деревня глинка',\n",
       "       'посёлок мельниково', 'поселок городского типа назия',\n",
       "       'деревня старая пустошь', 'поселок коммунары', 'поселок починок',\n",
       "       'посёлок городского типа вознесенье', 'деревня разбегаево',\n",
       "       'посёлок городского типа рябово', 'поселок гладкое',\n",
       "       'посёлок при железнодорожной станции приветнинское',\n",
       "       'поселок тёсово-4', 'посёлок жилгородок', 'деревня бор',\n",
       "       'посёлок коробицыно', 'деревня большая вруда', 'деревня курковицы',\n",
       "       'посёлок лисий нос', 'городской посёлок советский',\n",
       "       'посёлок кобралово', 'деревня суоранда', 'поселок кобралово',\n",
       "       'поселок городского типа кондратьево',\n",
       "       'коттеджный поселок счастье', 'поселок любань', 'деревня реброво',\n",
       "       'деревня зимитицы', 'деревня тойворово', 'поселок семиозерье',\n",
       "       'поселок лесное', 'поселок совхозный', 'поселок усть-луга',\n",
       "       'посёлок ленинское', 'посёлок суйда',\n",
       "       'посёлок городского типа форносово', 'деревня нижние осельки',\n",
       "       'посёлок станции свирь', 'поселок перово', 'высоцк',\n",
       "       'поселок гарболово', 'село шум', 'поселок котельский',\n",
       "       'поселок станции лужайка', 'деревня большая пустомержа',\n",
       "       'поселок красносельское', 'деревня вахнова кара', 'деревня пижма',\n",
       "       'коттеджный поселок кивеннапа север', 'поселок коробицыно',\n",
       "       'поселок ромашки', 'посёлок перово', 'деревня каськово',\n",
       "       'деревня куровицы', 'посёлок плоское', 'поселок сумино',\n",
       "       'поселок городского типа большая ижора', 'поселок кирпичное',\n",
       "       'деревня ям-тесово', 'деревня раздолье', 'деревня терпилицы',\n",
       "       'посёлок шугозеро', 'деревня ваганово', 'поселок пушное',\n",
       "       'садовое товарищество садко', 'посёлок усть-ижора',\n",
       "       'деревня выскатка', 'городской посёлок свирьстрой',\n",
       "       'поселок громово', 'деревня кисельня', 'посёлок старая малукса',\n",
       "       'деревня трубников бор', 'поселок калитино',\n",
       "       'посёлок высокоключевой', 'садовое товарищество приладожский',\n",
       "       'посёлок пансионат зелёный бор', 'деревня ненимяки',\n",
       "       'поселок пансионат зелёный бор', 'деревня снегирёвка',\n",
       "       'деревня рапполово', 'деревня пустынка', 'поселок рабитицы',\n",
       "       'деревня большой сабск', 'деревня русско', 'деревня лупполово',\n",
       "       'деревня большое рейзино', 'деревня малая романовка',\n",
       "       'поселок дружноселье', 'поселок пчевжа', 'поселок володарское',\n",
       "       'деревня нижняя', 'коттеджный посёлок лесное', 'деревня тихковицы',\n",
       "       'деревня борисова грива', 'посёлок дзержинского'], dtype=object)"
      ]
     },
     "execution_count": 17,
     "metadata": {},
     "output_type": "execute_result"
    }
   ],
   "source": [
    "data['locality_name'] = data['locality_name'].str.lower()\n",
    "data['locality_name'].unique()"
   ]
  },
  {
   "cell_type": "code",
   "execution_count": 18,
   "metadata": {},
   "outputs": [],
   "source": [
    "# removing references to settlement types and keeping only the names\n",
    "data['locality_name'] = (\n",
    "    data['locality_name']\n",
    "    .str.replace('ё', 'е')\n",
    "    .replace(['поселок ', \n",
    "              'городской поселок ', \n",
    "              'деревня ', \n",
    "              'поселок городского типа ', \n",
    "              'садовое товарищество ', \n",
    "              'село ', \n",
    "              'садоводческое некоммерческое товарищество ', \n",
    "              'коттеджный поселок ', \n",
    "              'городской посёлок ', \n",
    "              'городского типа ', \n",
    "              'городской ', \n",
    "              'коттеджный ', \n",
    "              'пансионат ', \n",
    "              'при железнодорожной станции ', \n",
    "              'станции '], '', regex=True)\n",
    ") "
   ]
  },
  {
   "cell_type": "code",
   "execution_count": 19,
   "metadata": {},
   "outputs": [
    {
     "data": {
      "text/plain": [
       "array(['санкт-петербург', 'шушары', 'янино-1', 'парголово', 'мурино',\n",
       "       'ломоносов', 'сертолово', 'петергоф', 'пушкин', 'кудрово',\n",
       "       'коммунар', 'колпино', 'красный бор', 'гатчина', 'федоровское',\n",
       "       'выборг', 'кронштадт', 'кировск', 'новое девяткино',\n",
       "       'металлострой', 'лебяжье', 'сиверский', 'молодцово',\n",
       "       'кузьмоловский', 'новая ропша', 'павловск', 'пикколово',\n",
       "       'всеволожск', 'волхов', 'кингисепп', 'приозерск', 'сестрорецк',\n",
       "       'куттузи', 'аннино', 'ефимовский', 'плодовое', 'заклинье',\n",
       "       'торковичи', 'первомайское', 'красное село', 'понтонный',\n",
       "       'сясьстрой', 'старая', 'лесколово', 'новый свет', 'сланцы',\n",
       "       'путилово', 'ивангород', 'шлиссельбург', 'никольское',\n",
       "       'зеленогорск', 'сосновый бор', 'оржицы', 'кальтино', 'романовка',\n",
       "       'бугры', 'рощино', 'кириши', 'луга', 'волосово', 'отрадное',\n",
       "       'павлово', 'оредеж', 'копорье', 'молодежное', 'тихвин', 'победа',\n",
       "       'нурма', 'синявино', 'тосно', 'стрельна', 'бокситогорск',\n",
       "       'александровская', 'лопухинка', 'пикалево', 'терволово',\n",
       "       'советский', 'подпорожье', 'петровское', 'токсово', 'сельцо',\n",
       "       'вырица', 'кипень', 'келози', 'вартемяги', 'тельмана',\n",
       "       'севастьяново', 'большая ижора', 'не_известен', 'агалатово',\n",
       "       'новогорелово', 'лесогорский', 'лаголово', 'цвелодубово', 'рахья',\n",
       "       'белогорка', 'заводской', 'новоселье', 'большие колпаны',\n",
       "       'горбунки', 'батово', 'заневка', 'иссад', 'приморск', 'мистолово',\n",
       "       'новая ладога', 'зимитицы', 'барышево', 'разметелево',\n",
       "       'имени свердлова', 'пеники', 'рябово', 'пудомяги', 'корнево',\n",
       "       'низино', 'бегуницы', 'поляны', 'мга', 'елизаветино', 'кузнечное',\n",
       "       'колтуши', 'запорожское', 'гостилицы', 'малое карлино',\n",
       "       'мичуринское', 'имени морозова', 'песочный', 'сосново', 'аро',\n",
       "       'ильичево', 'тайцы', 'малое верево', 'извара', 'вещево', 'паша',\n",
       "       'калитино', 'ульяновка', 'чудской бор', 'дубровка', 'мины',\n",
       "       'войсковицы', 'коркино', 'ропша', 'приладожский', 'щеглово',\n",
       "       'гаврилово', 'лодейное поле', 'рабитицы', 'никольский',\n",
       "       'кузьмолово', 'малые колпаны', 'петро-славянка', 'назия', 'репино',\n",
       "       'углово', 'старая малукса', 'меньково', 'старые бегуницы',\n",
       "       'саперный', 'семрино', 'глажево', 'кобринское', 'гарболово',\n",
       "       'юкки', 'приветнинское', 'мануйлово', 'пчева', 'цвылево',\n",
       "       'мельниково', 'пудость', 'усть-луга', 'светогорск', 'любань',\n",
       "       'селезнево', 'каменногорск', 'кривко', 'глебычево', 'парицы',\n",
       "       'жилпоселок', 'войскорово', 'стеклянный', 'важины',\n",
       "       'мыза-ивановка', 'русско-высоцкое', 'форносово', 'старая ладога',\n",
       "       'житково', 'виллози', 'лампово', 'шпаньково', 'лаврики', 'сумино',\n",
       "       'возрождение', 'старосиверская', 'кикерино', 'старое хинколово',\n",
       "       'пригородный', 'торфяное', 'будогощь', 'суходолье',\n",
       "       'красная долина', 'хапо-ое', 'дружная горка', 'лисий нос',\n",
       "       'яльгелево', 'рождествено', 'старополье', 'левашово', 'сяськелево',\n",
       "       'камышовка', 'лесная поляна', 'хязельки', 'жилгородок', 'ялгино',\n",
       "       'новый учхоз', 'гончарово', 'почап', 'саперное',\n",
       "       'платформа 69-й километр', 'каложицы', 'фалилеево', 'пельгора',\n",
       "       'торошковичи', 'белоостров', 'алексеевка', 'серебрянский',\n",
       "       'лукаши', 'тарасово', 'кингисеппский', 'ушаки', 'котлы', 'сижно',\n",
       "       'торосово', 'форт красная горка', 'новолисино', 'громово',\n",
       "       'глинка', 'старая пустошь', 'коммунары', 'починок', 'вознесенье',\n",
       "       'разбегаево', 'гладкое', 'тесово-4', 'бор', 'коробицыно',\n",
       "       'большая вруда', 'курковицы', 'кобралово', 'суоранда',\n",
       "       'кондратьево', 'счастье', 'реброво', 'тойворово', 'семиозерье',\n",
       "       'лесное', 'совхозный', 'ленинское', 'суйда', 'нижние осельки',\n",
       "       'свирь', 'перово', 'высоцк', 'шум', 'котельский', 'лужайка',\n",
       "       'большая пустомержа', 'красносельское', 'вахнова кара', 'пижма',\n",
       "       'кивеннапа север', 'ромашки', 'каськово', 'куровицы', 'плоское',\n",
       "       'кирпичное', 'ям-тесово', 'раздолье', 'терпилицы', 'шугозеро',\n",
       "       'ваганово', 'пушное', 'садко', 'усть-ижора', 'выскатка',\n",
       "       'свирьстрой', 'кисельня', 'трубников бор', 'высокоключевой',\n",
       "       'зеленый бор', 'ненимяки', 'снегиревка', 'рапполово', 'пустынка',\n",
       "       'большой сабск', 'русско', 'лупполово', 'большое рейзино',\n",
       "       'малая романовка', 'дружноселье', 'пчевжа', 'володарское',\n",
       "       'нижняя', 'тихковицы', 'борисова грива', 'дзержинского'],\n",
       "      dtype=object)"
      ]
     },
     "execution_count": 19,
     "metadata": {},
     "output_type": "execute_result"
    }
   ],
   "source": [
    "# to verify, we will display the processed table\n",
    "data['locality_name'].unique()"
   ]
  },
  {
   "cell_type": "markdown",
   "metadata": {
    "id": "QCcvyY6YAwb-"
   },
   "source": [
    "## Adding new columns to the table"
   ]
  },
  {
   "cell_type": "markdown",
   "metadata": {},
   "source": [
    "We will add columns with additional data to the original table, which are necessary for further analysis."
   ]
  },
  {
   "cell_type": "code",
   "execution_count": 20,
   "metadata": {
    "id": "Z8eJek3IAwb-"
   },
   "outputs": [],
   "source": [
    "# adding the price per square meter\n",
    "data['price_m2'] = round(data['last_price'] / data['total_area'],5)\n",
    "\n",
    "# adding the day of the week of the listing publication\n",
    "data['first_day_exposition_sign'] = data['first_day_exposition'].dt.weekday\n",
    "\n",
    "# adding the month of the listing publication\n",
    "data['month_exposition'] = data['first_day_exposition'].dt.month\n",
    "\n",
    "# adding the year of the listing publication\n",
    "data['year_exposition'] = data['first_day_exposition'].dt.year\n",
    "\n",
    "# adding the type of the apartment floor\n",
    "def floor_type(row):\n",
    "    if row['floor'] == 1:\n",
    "        return 'первый'\n",
    "    elif row['floor'] == row['floors_total']:\n",
    "        return 'последний'\n",
    "    else:\n",
    "        return 'другой'\n",
    "\n",
    "data['floor_type'] = data.apply(floor_type, axis=1)\n",
    "\n",
    "# adding the distance to the city center in kilometers\n",
    "data['cityCenters_km'] = round(data['cityCenters_nearest']/1000)"
   ]
  },
  {
   "cell_type": "markdown",
   "metadata": {
    "id": "pPyxrKWTAwb-"
   },
   "source": [
    "## Conduct exploratory data analysis"
   ]
  },
  {
   "cell_type": "markdown",
   "metadata": {
    "id": "V2f0D3kLAwb-"
   },
   "source": [
    "### Let's examine specific parameters"
   ]
  },
  {
   "cell_type": "markdown",
   "metadata": {},
   "source": [
    "Let's look at the general parameters for the **total area** column:"
   ]
  },
  {
   "cell_type": "code",
   "execution_count": 21,
   "metadata": {},
   "outputs": [
    {
     "data": {
      "text/plain": [
       "count    23699.000000\n",
       "mean        60.348648\n",
       "std         35.654083\n",
       "min         12.000000\n",
       "25%         40.000000\n",
       "50%         52.000000\n",
       "75%         69.900002\n",
       "max        900.000000\n",
       "Name: total_area, dtype: float64"
      ]
     },
     "execution_count": 21,
     "metadata": {},
     "output_type": "execute_result"
    }
   ],
   "source": [
    "data['total_area'].describe()"
   ]
  },
  {
   "cell_type": "markdown",
   "metadata": {},
   "source": [
    "And we will build histograms (overall and separately for the extreme ranges):"
   ]
  },
  {
   "cell_type": "code",
   "execution_count": 22,
   "metadata": {},
   "outputs": [
    {
     "data": {
      "image/png": "[encoded data removed]",
      "text/plain": [
       "<Figure size 864x216 with 3 Axes>"
      ]
     },
     "metadata": {
      "needs_background": "light"
     },
     "output_type": "display_data"
    }
   ],
   "source": [
    "import matplotlib.pyplot as plt\n",
    "\n",
    "# building a histogram of the total area\n",
    "plt.figure(figsize=[12, 3])\n",
    "\n",
    "plt.subplot(1,3,1)\n",
    "plt.hist(data['total_area'],bins=30)\n",
    "plt.title('Весь диапазон')\n",
    "\n",
    "plt.subplot(1,3,2)\n",
    "plt.hist(data['total_area'],bins=30,range=(10,30))\n",
    "plt.title('Диапазон от 10м2 до 30м2')\n",
    "\n",
    "plt.subplot(1,3,3)\n",
    "plt.hist(data['total_area'],bins=30, range=(200,900))\n",
    "plt.title('Диапазон от 200м2 до 900м2')\n",
    "\n",
    "plt.show()"
   ]
  },
  {
   "cell_type": "markdown",
   "metadata": {},
   "source": [
    "When examining the data for this parameter, questions may arise about the extreme values. however, if we check the rows for apartments with very large areas, other parameters (number of rooms, living area, and kitchen area) correspond as well. Similarly, for very small apartments, it's hard to imagine an apartment of 13m², but the status of 'studio' or the number of rooms (1 room) and the living area corresponding to the total area seem consistent, especially in the old (communal) housing stock of St. Petersburg. we will count the number of rows with extreme values; if their quantity is not significant, then I consider it possible to remove them."
   ]
  },
  {
   "cell_type": "code",
   "execution_count": 23,
   "metadata": {},
   "outputs": [
    {
     "data": {
      "text/plain": [
       "Text(0.5, 1.0, 'Распределение квартир по общей площади')"
      ]
     },
     "execution_count": 23,
     "metadata": {},
     "output_type": "execute_result"
    },
    {
     "data": {
      "image/png": "[encoded data removed]",
      "text/plain": [
       "<Figure size 1080x144 with 1 Axes>"
      ]
     },
     "metadata": {
      "needs_background": "light"
     },
     "output_type": "display_data"
    }
   ],
   "source": [
    "# building a boxplot to assess the outliers\n",
    "plt.figure(figsize=[15, 2])\n",
    "plt.boxplot(data['total_area'], vert=False)\n",
    "plt.title('Distribution of apartments by total area')\n"
   ]
  },
  {
   "cell_type": "code",
   "execution_count": 24,
   "metadata": {},
   "outputs": [
    {
     "name": "stdout",
     "output_type": "stream",
     "text": [
      "Процент, исключенных экстримальных значений по общей площади составил: 5.23%\n",
      "Распределение квартир по общей площади за исключением экстримальных значений\n"
     ]
    },
    {
     "data": {
      "image/png": "[encoded data removed]",
      "text/plain": [
       "<Figure size 1080x144 with 2 Axes>"
      ]
     },
     "metadata": {
      "needs_background": "light"
     },
     "output_type": "display_data"
    }
   ],
   "source": [
    "# excluding the outliers identified in the boxplot\n",
    "Q1 = data['total_area'].quantile(0.25)\n",
    "Q3 = data['total_area'].quantile(0.75)\n",
    "IQR = Q3 - Q1\n",
    "data_area = data.query(\"total_area < @Q3 + 1.5*@IQR\")\n",
    "\n",
    "# we will build the graph again to visualize the changes\n",
    "plt.figure(figsize=[15, 2])\n",
    "plt.subplot(1,4,(1,2))\n",
    "plt.boxplot(data_area['total_area'], vert=False)\n",
    "\n",
    "plt.subplot(1,4,(3,4))\n",
    "plt.hist(data_area['total_area'],bins=30)\n",
    "\n",
    "# calculating the percentage of excluded data\n",
    "print(f'The percentage of excluded extreme values for the total area was: {1 - data_area.shape[0] / data.shape[0]:.2%}')\n",
    "print('Distribution of apartments by total area excluding extreme values')\n",
    "\n",
    "# updating the dataset for further analysis\n",
    "data = data_area"
   ]
  },
  {
   "cell_type": "markdown",
   "metadata": {},
   "source": [
    "With the exclusion of 5% of extreme values for the area, the data became much more uniform."
   ]
  },
  {
   "cell_type": "markdown",
   "metadata": {},
   "source": [
    "Let's look at the general parameters for the **living area** column:"
   ]
  },
  {
   "cell_type": "code",
   "execution_count": 25,
   "metadata": {},
   "outputs": [
    {
     "data": {
      "text/plain": [
       "count    22459.000000\n",
       "mean        31.095379\n",
       "std         13.414041\n",
       "min          2.000000\n",
       "25%         18.299999\n",
       "50%         29.799999\n",
       "75%         40.000000\n",
       "max        101.000000\n",
       "Name: living_area, dtype: float64"
      ]
     },
     "execution_count": 25,
     "metadata": {},
     "output_type": "execute_result"
    }
   ],
   "source": [
    "data['living_area'].describe()"
   ]
  },
  {
   "cell_type": "markdown",
   "metadata": {},
   "source": [
    "And we will build histograms (overall and separately for the extreme ranges):"
   ]
  },
  {
   "cell_type": "code",
   "execution_count": 26,
   "metadata": {},
   "outputs": [
    {
     "data": {
      "image/png": "[encoded data removed]",
      "text/plain": [
       "<Figure size 864x216 with 3 Axes>"
      ]
     },
     "metadata": {
      "needs_background": "light"
     },
     "output_type": "display_data"
    }
   ],
   "source": [
    "# building a histogram of the living area\n",
    "plt.figure(figsize=[12, 3])\n",
    "\n",
    "plt.subplot(1,3,1)\n",
    "plt.hist(data['living_area'],bins=30)\n",
    "plt.title('Весь диапазон')\n",
    "\n",
    "plt.subplot(1,3,2)\n",
    "plt.hist(data['living_area'],bins=30,range=(2,20))\n",
    "plt.title('Диапазон от 2м2 до 20м2')\n",
    "\n",
    "plt.subplot(1,3,3)\n",
    "plt.hist(data['living_area'],bins=30, range=(40,101))\n",
    "plt.title('Диапазон от 40м2 до 101м2')\n",
    "\n",
    "plt.show()"
   ]
  },
  {
   "cell_type": "markdown",
   "metadata": {},
   "source": [
    "Large values of living area correspond to larger apartments by total area, but critically small values (2-3m²) may contain errors. At the same time, checking public sources shows the presence of such apartments with small living areas (from 5-8m²), so it is proposed not to exclude these objects—the other parameters (total area, kitchen area, distances to objects, price) appear reliable and will be useful for analysis."
   ]
  },
  {
   "cell_type": "markdown",
   "metadata": {},
   "source": [
    "Let's look at the general parameters for the **kitchen area** column:"
   ]
  },
  {
   "cell_type": "code",
   "execution_count": 27,
   "metadata": {},
   "outputs": [
    {
     "data": {
      "text/plain": [
       "count    22459.000000\n",
       "mean         9.841805\n",
       "std          4.200548\n",
       "min          1.300000\n",
       "25%          7.000000\n",
       "50%          9.000000\n",
       "75%         11.100000\n",
       "max         55.700001\n",
       "Name: kitchen_area, dtype: float64"
      ]
     },
     "execution_count": 27,
     "metadata": {},
     "output_type": "execute_result"
    }
   ],
   "source": [
    "data['kitchen_area'].describe()"
   ]
  },
  {
   "cell_type": "markdown",
   "metadata": {},
   "source": [
    "And we will build histograms (overall and separately for the extreme ranges):"
   ]
  },
  {
   "cell_type": "code",
   "execution_count": 28,
   "metadata": {},
   "outputs": [
    {
     "data": {
      "image/png": "[encoded data removed]",
      "text/plain": [
       "<Figure size 864x216 with 3 Axes>"
      ]
     },
     "metadata": {
      "needs_background": "light"
     },
     "output_type": "display_data"
    }
   ],
   "source": [
    "# building a histogram of the kitchen area\n",
    "plt.figure(figsize=[12, 3])\n",
    "\n",
    "plt.subplot(1,4,(1,2))\n",
    "plt.hist(data['kitchen_area'],bins=30)\n",
    "plt.title('Весь диапазон')\n",
    "\n",
    "plt.subplot(1,4,3)\n",
    "plt.hist(data['kitchen_area'],bins=30,range=(1,5))\n",
    "plt.title('Диапазон от 1м2 до 5м2')\n",
    "\n",
    "plt.subplot(1,4,4)\n",
    "plt.hist(data['kitchen_area'],bins=20, range=(25,56))\n",
    "plt.title('Диапазон от 25м2 до 56м2')\n",
    "\n",
    "plt.show()"
   ]
  },
  {
   "cell_type": "code",
   "execution_count": 29,
   "metadata": {},
   "outputs": [
    {
     "name": "stdout",
     "output_type": "stream",
     "text": [
      "Количество экстремальных значений: 128\n",
      "Доля экстремальных значений: 0.57%\n"
     ]
    }
   ],
   "source": [
    "# counting the number of extreme values\n",
    "print('Number of extreme values:', data[(data['kitchen_area'] < 5) | (data['kitchen_area'] > 60)]['kitchen_area'].count())\n",
    "print(f'Proportion of extreme values: {data[(data[\"kitchen_area\"] < 5) | (data[\"kitchen_area\"] > 60)][\"kitchen_area\"].count()/ len(data):.2%}')"
   ]
  },
  {
   "cell_type": "markdown",
   "metadata": {},
   "source": [
    "Similarly to the previous points, the number of extreme values for kitchen area is extremely insignificant. At the same time, checking public sources shows the presence of such apartments with very small kitchen areas (from 1m²), so it is proposed not to exclude these objects—the other parameters (total area, kitchen area, distances to objects, price) appear reliable and will be useful for analysis."
   ]
  },
  {
   "cell_type": "markdown",
   "metadata": {},
   "source": [
    "Let's look at the conditions for the **price** of the objects:"
   ]
  },
  {
   "cell_type": "code",
   "execution_count": 30,
   "metadata": {},
   "outputs": [
    {
     "data": {
      "text/plain": [
       "count   22,459.00\n",
       "mean         5.31\n",
       "std          3.40\n",
       "min          0.01\n",
       "25%          3.36\n",
       "50%          4.50\n",
       "75%          6.30\n",
       "max         82.00\n",
       "Name: last_price, dtype: float64"
      ]
     },
     "execution_count": 30,
     "metadata": {},
     "output_type": "execute_result"
    }
   ],
   "source": [
    "pd.options.display.float_format ='{:,.2f}'.format\n",
    "data['last_price'].describe()"
   ]
  },
  {
   "cell_type": "markdown",
   "metadata": {},
   "source": [
    "and we will build a histogram:"
   ]
  },
  {
   "cell_type": "code",
   "execution_count": 31,
   "metadata": {},
   "outputs": [
    {
     "data": {
      "image/png": "[encoded data removed]",
      "text/plain": [
       "<Figure size 648x216 with 2 Axes>"
      ]
     },
     "metadata": {
      "needs_background": "light"
     },
     "output_type": "display_data"
    }
   ],
   "source": [
    "# building a histogram of the sale price\n",
    "plt.figure(figsize=[9, 3])\n",
    "\n",
    "plt.subplot(1,3,(1,2))\n",
    "plt.hist(data['last_price'],bins=30, range=(0,20))\n",
    "plt.title('Диапазон до 20 млн')\n",
    "\n",
    "\n",
    "plt.subplot(1,3,3)\n",
    "plt.hist(data['last_price'],bins=30,range=(20,82))\n",
    "plt.title('Диапазон свыше 20 млн')\n",
    "\n",
    "plt.show()\n"
   ]
  },
  {
   "cell_type": "markdown",
   "metadata": {},
   "source": [
    "Obviously, there are significant outliers in the price. let's build a boxplot to assess the outliers:"
   ]
  },
  {
   "cell_type": "code",
   "execution_count": 32,
   "metadata": {},
   "outputs": [
    {
     "data": {
      "image/png": "[encoded data removed]",
      "text/plain": [
       "<Figure size 1080x144 with 1 Axes>"
      ]
     },
     "metadata": {
      "needs_background": "light"
     },
     "output_type": "display_data"
    }
   ],
   "source": [
    "plt.figure(figsize=[15, 2])\n",
    "plt.boxplot(data['last_price'], vert=False)\n",
    "plt.title('Distribution of apartments by price, taking into account outliers');\n"
   ]
  },
  {
   "cell_type": "code",
   "execution_count": 33,
   "metadata": {},
   "outputs": [
    {
     "name": "stdout",
     "output_type": "stream",
     "text": [
      "Процент, исключенных экстримальных значений по цене составил: 5.97%\n",
      "Распределение квартир по цене за исключением экстримальных значений\n"
     ]
    },
    {
     "data": {
      "image/png": "[encoded data removed]",
      "text/plain": [
       "<Figure size 1080x144 with 2 Axes>"
      ]
     },
     "metadata": {
      "needs_background": "light"
     },
     "output_type": "display_data"
    }
   ],
   "source": [
    "# let's exclude the outliers identified in the boxplot\n",
    "Q1 = data['last_price'].quantile(0.25)\n",
    "Q3 = data['last_price'].quantile(0.75)\n",
    "IQR = Q3 - Q1\n",
    "data_price = data.query(\"last_price < @Q3 + 1.5*@IQR\")\n",
    "\n",
    "# let's build the graph again for a clear view of the changes\n",
    "plt.figure(figsize=[15, 2])\n",
    "plt.subplot(1,4,(1,2))\n",
    "plt.boxplot(data_price['last_price'], vert=False)\n",
    "\n",
    "plt.subplot(1,4,(3,4))\n",
    "plt.hist(data_price['last_price'],bins=30)\n",
    "\n",
    "# let's calculate the percentage of excluded data\n",
    "print(f'The percentage of excluded extreme values for price amounted to: {1 - data_price.shape[0] / data.shape[0]:.2%}')\n",
    "print('Distribution of apartments by price, excluding extreme values')\n",
    "\n",
    "# updating the dataset for further analysis\n",
    "data = data_area\n"
   ]
  },
  {
   "cell_type": "markdown",
   "metadata": {},
   "source": [
    "After excluding extreme values, the distribution of data became more uniform, with data losses amounting to less than 6%, which is acceptable."
   ]
  },
  {
   "cell_type": "markdown",
   "metadata": {},
   "source": [
    "Let's look at the conditions for the **number of rooms**:"
   ]
  },
  {
   "cell_type": "code",
   "execution_count": 34,
   "metadata": {},
   "outputs": [
    {
     "data": {
      "text/plain": [
       "count   22,459.00\n",
       "mean         1.95\n",
       "std          0.90\n",
       "min          0.00\n",
       "25%          1.00\n",
       "50%          2.00\n",
       "75%          3.00\n",
       "max          7.00\n",
       "Name: rooms, dtype: float64"
      ]
     },
     "execution_count": 34,
     "metadata": {},
     "output_type": "execute_result"
    }
   ],
   "source": [
    "data['rooms'].describe()"
   ]
  },
  {
   "cell_type": "markdown",
   "metadata": {},
   "source": [
    "and we will build a histogram:"
   ]
  },
  {
   "cell_type": "code",
   "execution_count": 35,
   "metadata": {},
   "outputs": [
    {
     "data": {
      "image/png": "[encoded data removed]",
      "text/plain": [
       "<Figure size 432x216 with 2 Axes>"
      ]
     },
     "metadata": {
      "needs_background": "light"
     },
     "output_type": "display_data"
    }
   ],
   "source": [
    "# let's build a histogram and a boxplot for the number of rooms to assess the distribution and outliers\n",
    "plt.figure(figsize=[6, 3])\n",
    "\n",
    "plt.subplot(1,2,1)\n",
    "plt.hist(data['rooms'],bins=7)\n",
    "plt.title('The entire range')\n",
    "\n",
    "plt.subplot(1,2,2)\n",
    "plt.boxplot(data['rooms'])\n",
    "plt.title('The entire range')\n",
    "\n",
    "plt.show()"
   ]
  },
  {
   "cell_type": "markdown",
   "metadata": {},
   "source": [
    "The overwhelming majority of apartments have up to 3 rooms, and no extreme values corresponding to very large apartments have been identified, considering the earlier filtering of the dataset by total area and price."
   ]
  },
  {
   "cell_type": "markdown",
   "metadata": {},
   "source": [
    "Let's look at the conditions for **ceiling height** and build a histogram:"
   ]
  },
  {
   "cell_type": "code",
   "execution_count": 36,
   "metadata": {},
   "outputs": [
    {
     "data": {
      "text/plain": [
       "count   22,459.00\n",
       "mean         2.74\n",
       "std          1.01\n",
       "min          1.00\n",
       "25%          2.60\n",
       "50%          2.73\n",
       "75%          2.73\n",
       "max        100.00\n",
       "Name: ceiling_height, dtype: float64"
      ]
     },
     "metadata": {},
     "output_type": "display_data"
    },
    {
     "data": {
      "image/png": "[encoded data removed]",
      "text/plain": [
       "<Figure size 432x216 with 2 Axes>"
      ]
     },
     "metadata": {
      "needs_background": "light"
     },
     "output_type": "display_data"
    }
   ],
   "source": [
    "display(data['ceiling_height'].describe())\n",
    "\n",
    "# let's build a histogram for ceiling height\n",
    "plt.figure(figsize=[6, 3])\n",
    "\n",
    "plt.subplot(1,2,1)\n",
    "plt.hist(data['ceiling_height'],bins=30, range=(0,5))\n",
    "plt.title('The range is up to 5m')\n",
    "\n",
    "\n",
    "plt.subplot(1,2,2)\n",
    "plt.hist(data['ceiling_height'],bins=30,range=(5,100))\n",
    "plt.title('The range is from 5m')\n",
    "\n",
    "plt.show()"
   ]
  },
  {
   "cell_type": "markdown",
   "metadata": {},
   "source": [
    "The overwhelming majority of ceilings are of standard size, but clearly erroneous outliers (with ceilings of several tens of meters) slightly distort the histogram. Let's check the rows with these erroneous data and correct or remove them."
   ]
  },
  {
   "cell_type": "code",
   "execution_count": 37,
   "metadata": {},
   "outputs": [
    {
     "data": {
      "text/html": [
       "<div>\n",
       "<style scoped>\n",
       "    .dataframe tbody tr th:only-of-type {\n",
       "        vertical-align: middle;\n",
       "    }\n",
       "\n",
       "    .dataframe tbody tr th {\n",
       "        vertical-align: top;\n",
       "    }\n",
       "\n",
       "    .dataframe thead th {\n",
       "        text-align: right;\n",
       "    }\n",
       "</style>\n",
       "<table border=\"1\" class=\"dataframe\">\n",
       "  <thead>\n",
       "    <tr style=\"text-align: right;\">\n",
       "      <th></th>\n",
       "      <th>airports_nearest</th>\n",
       "      <th>balcony</th>\n",
       "      <th>ceiling_height</th>\n",
       "      <th>cityCenters_nearest</th>\n",
       "      <th>days_exposition</th>\n",
       "      <th>first_day_exposition</th>\n",
       "      <th>floor</th>\n",
       "      <th>floors_total</th>\n",
       "      <th>is_apartment</th>\n",
       "      <th>kitchen_area</th>\n",
       "      <th>last_price</th>\n",
       "      <th>living_area</th>\n",
       "      <th>locality_name</th>\n",
       "      <th>open_plan</th>\n",
       "      <th>parks_around3000</th>\n",
       "      <th>parks_nearest</th>\n",
       "      <th>ponds_around3000</th>\n",
       "      <th>ponds_nearest</th>\n",
       "      <th>rooms</th>\n",
       "      <th>studio</th>\n",
       "      <th>total_area</th>\n",
       "      <th>total_images</th>\n",
       "      <th>price_m2</th>\n",
       "      <th>first_day_exposition_sign</th>\n",
       "      <th>month_exposition</th>\n",
       "      <th>year_exposition</th>\n",
       "      <th>floor_type</th>\n",
       "      <th>cityCenters_km</th>\n",
       "    </tr>\n",
       "  </thead>\n",
       "  <tbody>\n",
       "    <tr>\n",
       "      <th>355</th>\n",
       "      <td>NaN</td>\n",
       "      <td>2</td>\n",
       "      <td>25.00</td>\n",
       "      <td>NaN</td>\n",
       "      <td>259.00</td>\n",
       "      <td>2018-07-12</td>\n",
       "      <td>2</td>\n",
       "      <td>5</td>\n",
       "      <td>False</td>\n",
       "      <td>9.09</td>\n",
       "      <td>3.60</td>\n",
       "      <td>32.00</td>\n",
       "      <td>гатчина</td>\n",
       "      <td>False</td>\n",
       "      <td>NaN</td>\n",
       "      <td>NaN</td>\n",
       "      <td>NaN</td>\n",
       "      <td>NaN</td>\n",
       "      <td>2</td>\n",
       "      <td>False</td>\n",
       "      <td>55.20</td>\n",
       "      <td>17</td>\n",
       "      <td>0.07</td>\n",
       "      <td>3</td>\n",
       "      <td>7</td>\n",
       "      <td>2018</td>\n",
       "      <td>другой</td>\n",
       "      <td>NaN</td>\n",
       "    </tr>\n",
       "    <tr>\n",
       "      <th>3148</th>\n",
       "      <td>NaN</td>\n",
       "      <td>0</td>\n",
       "      <td>32.00</td>\n",
       "      <td>NaN</td>\n",
       "      <td>NaN</td>\n",
       "      <td>2018-11-12</td>\n",
       "      <td>2</td>\n",
       "      <td>3</td>\n",
       "      <td>False</td>\n",
       "      <td>8.00</td>\n",
       "      <td>2.90</td>\n",
       "      <td>53.00</td>\n",
       "      <td>волхов</td>\n",
       "      <td>False</td>\n",
       "      <td>NaN</td>\n",
       "      <td>NaN</td>\n",
       "      <td>NaN</td>\n",
       "      <td>NaN</td>\n",
       "      <td>3</td>\n",
       "      <td>False</td>\n",
       "      <td>75.00</td>\n",
       "      <td>14</td>\n",
       "      <td>0.04</td>\n",
       "      <td>0</td>\n",
       "      <td>11</td>\n",
       "      <td>2018</td>\n",
       "      <td>другой</td>\n",
       "      <td>NaN</td>\n",
       "    </tr>\n",
       "    <tr>\n",
       "      <th>3474</th>\n",
       "      <td>NaN</td>\n",
       "      <td>0</td>\n",
       "      <td>8.00</td>\n",
       "      <td>NaN</td>\n",
       "      <td>125.00</td>\n",
       "      <td>2018-03-16</td>\n",
       "      <td>2</td>\n",
       "      <td>5</td>\n",
       "      <td>False</td>\n",
       "      <td>7.30</td>\n",
       "      <td>1.40</td>\n",
       "      <td>15.30</td>\n",
       "      <td>нурма</td>\n",
       "      <td>False</td>\n",
       "      <td>NaN</td>\n",
       "      <td>NaN</td>\n",
       "      <td>NaN</td>\n",
       "      <td>NaN</td>\n",
       "      <td>1</td>\n",
       "      <td>False</td>\n",
       "      <td>30.00</td>\n",
       "      <td>3</td>\n",
       "      <td>0.05</td>\n",
       "      <td>4</td>\n",
       "      <td>3</td>\n",
       "      <td>2018</td>\n",
       "      <td>другой</td>\n",
       "      <td>NaN</td>\n",
       "    </tr>\n",
       "    <tr>\n",
       "      <th>4643</th>\n",
       "      <td>12,016.00</td>\n",
       "      <td>1</td>\n",
       "      <td>25.00</td>\n",
       "      <td>13,256.00</td>\n",
       "      <td>181.00</td>\n",
       "      <td>2018-02-01</td>\n",
       "      <td>2</td>\n",
       "      <td>9</td>\n",
       "      <td>False</td>\n",
       "      <td>7.00</td>\n",
       "      <td>4.30</td>\n",
       "      <td>30.00</td>\n",
       "      <td>санкт-петербург</td>\n",
       "      <td>False</td>\n",
       "      <td>1.00</td>\n",
       "      <td>658.00</td>\n",
       "      <td>1.00</td>\n",
       "      <td>331.00</td>\n",
       "      <td>2</td>\n",
       "      <td>False</td>\n",
       "      <td>45.00</td>\n",
       "      <td>0</td>\n",
       "      <td>0.10</td>\n",
       "      <td>3</td>\n",
       "      <td>2</td>\n",
       "      <td>2018</td>\n",
       "      <td>другой</td>\n",
       "      <td>13.00</td>\n",
       "    </tr>\n",
       "    <tr>\n",
       "      <th>4876</th>\n",
       "      <td>NaN</td>\n",
       "      <td>2</td>\n",
       "      <td>27.00</td>\n",
       "      <td>NaN</td>\n",
       "      <td>28.00</td>\n",
       "      <td>2017-09-27</td>\n",
       "      <td>17</td>\n",
       "      <td>25</td>\n",
       "      <td>False</td>\n",
       "      <td>6.19</td>\n",
       "      <td>3.00</td>\n",
       "      <td>17.00</td>\n",
       "      <td>мурино</td>\n",
       "      <td>True</td>\n",
       "      <td>NaN</td>\n",
       "      <td>NaN</td>\n",
       "      <td>NaN</td>\n",
       "      <td>NaN</td>\n",
       "      <td>0</td>\n",
       "      <td>False</td>\n",
       "      <td>25.00</td>\n",
       "      <td>7</td>\n",
       "      <td>0.12</td>\n",
       "      <td>2</td>\n",
       "      <td>9</td>\n",
       "      <td>2017</td>\n",
       "      <td>другой</td>\n",
       "      <td>NaN</td>\n",
       "    </tr>\n",
       "    <tr>\n",
       "      <th>5076</th>\n",
       "      <td>29,686.00</td>\n",
       "      <td>0</td>\n",
       "      <td>24.00</td>\n",
       "      <td>8,389.00</td>\n",
       "      <td>7.00</td>\n",
       "      <td>2018-10-03</td>\n",
       "      <td>1</td>\n",
       "      <td>5</td>\n",
       "      <td>True</td>\n",
       "      <td>5.50</td>\n",
       "      <td>3.85</td>\n",
       "      <td>19.50</td>\n",
       "      <td>санкт-петербург</td>\n",
       "      <td>False</td>\n",
       "      <td>3.00</td>\n",
       "      <td>397.00</td>\n",
       "      <td>1.00</td>\n",
       "      <td>578.00</td>\n",
       "      <td>1</td>\n",
       "      <td>False</td>\n",
       "      <td>30.50</td>\n",
       "      <td>0</td>\n",
       "      <td>0.13</td>\n",
       "      <td>2</td>\n",
       "      <td>10</td>\n",
       "      <td>2018</td>\n",
       "      <td>первый</td>\n",
       "      <td>8.00</td>\n",
       "    </tr>\n",
       "    <tr>\n",
       "      <th>5246</th>\n",
       "      <td>NaN</td>\n",
       "      <td>2</td>\n",
       "      <td>27.00</td>\n",
       "      <td>NaN</td>\n",
       "      <td>540.00</td>\n",
       "      <td>2017-10-13</td>\n",
       "      <td>3</td>\n",
       "      <td>5</td>\n",
       "      <td>False</td>\n",
       "      <td>9.00</td>\n",
       "      <td>2.50</td>\n",
       "      <td>30.00</td>\n",
       "      <td>мины</td>\n",
       "      <td>False</td>\n",
       "      <td>NaN</td>\n",
       "      <td>NaN</td>\n",
       "      <td>NaN</td>\n",
       "      <td>NaN</td>\n",
       "      <td>2</td>\n",
       "      <td>False</td>\n",
       "      <td>54.00</td>\n",
       "      <td>0</td>\n",
       "      <td>0.05</td>\n",
       "      <td>4</td>\n",
       "      <td>10</td>\n",
       "      <td>2017</td>\n",
       "      <td>другой</td>\n",
       "      <td>NaN</td>\n",
       "    </tr>\n",
       "    <tr>\n",
       "      <th>5669</th>\n",
       "      <td>28,981.00</td>\n",
       "      <td>2</td>\n",
       "      <td>26.00</td>\n",
       "      <td>10,912.00</td>\n",
       "      <td>267.00</td>\n",
       "      <td>2017-08-08</td>\n",
       "      <td>3</td>\n",
       "      <td>9</td>\n",
       "      <td>False</td>\n",
       "      <td>7.00</td>\n",
       "      <td>4.40</td>\n",
       "      <td>21.30</td>\n",
       "      <td>санкт-петербург</td>\n",
       "      <td>False</td>\n",
       "      <td>1.00</td>\n",
       "      <td>305.00</td>\n",
       "      <td>0.00</td>\n",
       "      <td>NaN</td>\n",
       "      <td>2</td>\n",
       "      <td>False</td>\n",
       "      <td>50.00</td>\n",
       "      <td>4</td>\n",
       "      <td>0.09</td>\n",
       "      <td>1</td>\n",
       "      <td>8</td>\n",
       "      <td>2017</td>\n",
       "      <td>другой</td>\n",
       "      <td>11.00</td>\n",
       "    </tr>\n",
       "    <tr>\n",
       "      <th>5712</th>\n",
       "      <td>NaN</td>\n",
       "      <td>0</td>\n",
       "      <td>1.20</td>\n",
       "      <td>NaN</td>\n",
       "      <td>248.00</td>\n",
       "      <td>2017-08-14</td>\n",
       "      <td>1</td>\n",
       "      <td>2</td>\n",
       "      <td>False</td>\n",
       "      <td>5.20</td>\n",
       "      <td>1.50</td>\n",
       "      <td>27.50</td>\n",
       "      <td>мга</td>\n",
       "      <td>False</td>\n",
       "      <td>NaN</td>\n",
       "      <td>NaN</td>\n",
       "      <td>NaN</td>\n",
       "      <td>NaN</td>\n",
       "      <td>2</td>\n",
       "      <td>False</td>\n",
       "      <td>42.80</td>\n",
       "      <td>5</td>\n",
       "      <td>0.04</td>\n",
       "      <td>0</td>\n",
       "      <td>8</td>\n",
       "      <td>2017</td>\n",
       "      <td>первый</td>\n",
       "      <td>NaN</td>\n",
       "    </tr>\n",
       "    <tr>\n",
       "      <th>5807</th>\n",
       "      <td>18,732.00</td>\n",
       "      <td>5</td>\n",
       "      <td>27.00</td>\n",
       "      <td>20,444.00</td>\n",
       "      <td>38.00</td>\n",
       "      <td>2019-01-09</td>\n",
       "      <td>13</td>\n",
       "      <td>36</td>\n",
       "      <td>False</td>\n",
       "      <td>12.00</td>\n",
       "      <td>8.15</td>\n",
       "      <td>41.00</td>\n",
       "      <td>санкт-петербург</td>\n",
       "      <td>False</td>\n",
       "      <td>0.00</td>\n",
       "      <td>NaN</td>\n",
       "      <td>3.00</td>\n",
       "      <td>80.00</td>\n",
       "      <td>2</td>\n",
       "      <td>False</td>\n",
       "      <td>80.00</td>\n",
       "      <td>17</td>\n",
       "      <td>0.10</td>\n",
       "      <td>2</td>\n",
       "      <td>1</td>\n",
       "      <td>2019</td>\n",
       "      <td>другой</td>\n",
       "      <td>20.00</td>\n",
       "    </tr>\n",
       "    <tr>\n",
       "      <th>5863</th>\n",
       "      <td>13,069.00</td>\n",
       "      <td>1</td>\n",
       "      <td>8.30</td>\n",
       "      <td>10,763.00</td>\n",
       "      <td>14.00</td>\n",
       "      <td>2018-08-15</td>\n",
       "      <td>14</td>\n",
       "      <td>16</td>\n",
       "      <td>False</td>\n",
       "      <td>8.30</td>\n",
       "      <td>5.65</td>\n",
       "      <td>19.30</td>\n",
       "      <td>санкт-петербург</td>\n",
       "      <td>False</td>\n",
       "      <td>0.00</td>\n",
       "      <td>NaN</td>\n",
       "      <td>1.00</td>\n",
       "      <td>613.00</td>\n",
       "      <td>1</td>\n",
       "      <td>False</td>\n",
       "      <td>45.00</td>\n",
       "      <td>20</td>\n",
       "      <td>0.13</td>\n",
       "      <td>2</td>\n",
       "      <td>8</td>\n",
       "      <td>2018</td>\n",
       "      <td>другой</td>\n",
       "      <td>11.00</td>\n",
       "    </tr>\n",
       "    <tr>\n",
       "      <th>6246</th>\n",
       "      <td>68,923.00</td>\n",
       "      <td>0</td>\n",
       "      <td>25.00</td>\n",
       "      <td>50,649.00</td>\n",
       "      <td>NaN</td>\n",
       "      <td>2019-03-25</td>\n",
       "      <td>5</td>\n",
       "      <td>5</td>\n",
       "      <td>False</td>\n",
       "      <td>5.70</td>\n",
       "      <td>3.30</td>\n",
       "      <td>31.30</td>\n",
       "      <td>кронштадт</td>\n",
       "      <td>False</td>\n",
       "      <td>1.00</td>\n",
       "      <td>417.00</td>\n",
       "      <td>2.00</td>\n",
       "      <td>73.00</td>\n",
       "      <td>2</td>\n",
       "      <td>False</td>\n",
       "      <td>44.40</td>\n",
       "      <td>6</td>\n",
       "      <td>0.07</td>\n",
       "      <td>0</td>\n",
       "      <td>3</td>\n",
       "      <td>2019</td>\n",
       "      <td>последний</td>\n",
       "      <td>51.00</td>\n",
       "    </tr>\n",
       "    <tr>\n",
       "      <th>9379</th>\n",
       "      <td>11,647.00</td>\n",
       "      <td>0</td>\n",
       "      <td>25.00</td>\n",
       "      <td>13,581.00</td>\n",
       "      <td>NaN</td>\n",
       "      <td>2017-03-26</td>\n",
       "      <td>2</td>\n",
       "      <td>5</td>\n",
       "      <td>False</td>\n",
       "      <td>5.20</td>\n",
       "      <td>3.95</td>\n",
       "      <td>30.00</td>\n",
       "      <td>санкт-петербург</td>\n",
       "      <td>False</td>\n",
       "      <td>0.00</td>\n",
       "      <td>NaN</td>\n",
       "      <td>0.00</td>\n",
       "      <td>NaN</td>\n",
       "      <td>3</td>\n",
       "      <td>False</td>\n",
       "      <td>42.00</td>\n",
       "      <td>5</td>\n",
       "      <td>0.09</td>\n",
       "      <td>6</td>\n",
       "      <td>3</td>\n",
       "      <td>2017</td>\n",
       "      <td>другой</td>\n",
       "      <td>14.00</td>\n",
       "    </tr>\n",
       "    <tr>\n",
       "      <th>10773</th>\n",
       "      <td>NaN</td>\n",
       "      <td>2</td>\n",
       "      <td>27.00</td>\n",
       "      <td>NaN</td>\n",
       "      <td>71.00</td>\n",
       "      <td>2017-10-13</td>\n",
       "      <td>3</td>\n",
       "      <td>10</td>\n",
       "      <td>False</td>\n",
       "      <td>8.10</td>\n",
       "      <td>3.80</td>\n",
       "      <td>30.10</td>\n",
       "      <td>мурино</td>\n",
       "      <td>False</td>\n",
       "      <td>NaN</td>\n",
       "      <td>NaN</td>\n",
       "      <td>NaN</td>\n",
       "      <td>NaN</td>\n",
       "      <td>2</td>\n",
       "      <td>False</td>\n",
       "      <td>58.00</td>\n",
       "      <td>8</td>\n",
       "      <td>0.07</td>\n",
       "      <td>4</td>\n",
       "      <td>10</td>\n",
       "      <td>2017</td>\n",
       "      <td>другой</td>\n",
       "      <td>NaN</td>\n",
       "    </tr>\n",
       "    <tr>\n",
       "      <th>11285</th>\n",
       "      <td>NaN</td>\n",
       "      <td>2</td>\n",
       "      <td>25.00</td>\n",
       "      <td>NaN</td>\n",
       "      <td>18.00</td>\n",
       "      <td>2019-03-20</td>\n",
       "      <td>4</td>\n",
       "      <td>5</td>\n",
       "      <td>False</td>\n",
       "      <td>9.00</td>\n",
       "      <td>1.95</td>\n",
       "      <td>17.00</td>\n",
       "      <td>луга</td>\n",
       "      <td>False</td>\n",
       "      <td>NaN</td>\n",
       "      <td>NaN</td>\n",
       "      <td>NaN</td>\n",
       "      <td>NaN</td>\n",
       "      <td>1</td>\n",
       "      <td>False</td>\n",
       "      <td>37.00</td>\n",
       "      <td>0</td>\n",
       "      <td>0.05</td>\n",
       "      <td>2</td>\n",
       "      <td>3</td>\n",
       "      <td>2019</td>\n",
       "      <td>другой</td>\n",
       "      <td>NaN</td>\n",
       "    </tr>\n",
       "    <tr>\n",
       "      <th>12628</th>\n",
       "      <td>19,644.00</td>\n",
       "      <td>0</td>\n",
       "      <td>5.30</td>\n",
       "      <td>3,918.00</td>\n",
       "      <td>8.00</td>\n",
       "      <td>2018-03-29</td>\n",
       "      <td>5</td>\n",
       "      <td>5</td>\n",
       "      <td>False</td>\n",
       "      <td>9.09</td>\n",
       "      <td>3.90</td>\n",
       "      <td>32.30</td>\n",
       "      <td>санкт-петербург</td>\n",
       "      <td>False</td>\n",
       "      <td>1.00</td>\n",
       "      <td>505.00</td>\n",
       "      <td>1.00</td>\n",
       "      <td>92.00</td>\n",
       "      <td>1</td>\n",
       "      <td>False</td>\n",
       "      <td>50.00</td>\n",
       "      <td>14</td>\n",
       "      <td>0.08</td>\n",
       "      <td>3</td>\n",
       "      <td>3</td>\n",
       "      <td>2018</td>\n",
       "      <td>последний</td>\n",
       "      <td>4.00</td>\n",
       "    </tr>\n",
       "    <tr>\n",
       "      <th>14382</th>\n",
       "      <td>NaN</td>\n",
       "      <td>1</td>\n",
       "      <td>25.00</td>\n",
       "      <td>NaN</td>\n",
       "      <td>206.00</td>\n",
       "      <td>2015-12-04</td>\n",
       "      <td>2</td>\n",
       "      <td>5</td>\n",
       "      <td>False</td>\n",
       "      <td>8.00</td>\n",
       "      <td>1.70</td>\n",
       "      <td>20.00</td>\n",
       "      <td>новый свет</td>\n",
       "      <td>False</td>\n",
       "      <td>NaN</td>\n",
       "      <td>NaN</td>\n",
       "      <td>NaN</td>\n",
       "      <td>NaN</td>\n",
       "      <td>1</td>\n",
       "      <td>False</td>\n",
       "      <td>35.00</td>\n",
       "      <td>9</td>\n",
       "      <td>0.05</td>\n",
       "      <td>4</td>\n",
       "      <td>12</td>\n",
       "      <td>2015</td>\n",
       "      <td>другой</td>\n",
       "      <td>NaN</td>\n",
       "    </tr>\n",
       "    <tr>\n",
       "      <th>15061</th>\n",
       "      <td>14,814.00</td>\n",
       "      <td>2</td>\n",
       "      <td>14.00</td>\n",
       "      <td>13,610.00</td>\n",
       "      <td>315.00</td>\n",
       "      <td>2018-05-11</td>\n",
       "      <td>5</td>\n",
       "      <td>14</td>\n",
       "      <td>False</td>\n",
       "      <td>9.10</td>\n",
       "      <td>5.60</td>\n",
       "      <td>32.40</td>\n",
       "      <td>санкт-петербург</td>\n",
       "      <td>False</td>\n",
       "      <td>0.00</td>\n",
       "      <td>NaN</td>\n",
       "      <td>0.00</td>\n",
       "      <td>NaN</td>\n",
       "      <td>2</td>\n",
       "      <td>False</td>\n",
       "      <td>56.40</td>\n",
       "      <td>19</td>\n",
       "      <td>0.10</td>\n",
       "      <td>4</td>\n",
       "      <td>5</td>\n",
       "      <td>2018</td>\n",
       "      <td>другой</td>\n",
       "      <td>14.00</td>\n",
       "    </tr>\n",
       "    <tr>\n",
       "      <th>15743</th>\n",
       "      <td>32,691.00</td>\n",
       "      <td>0</td>\n",
       "      <td>8.00</td>\n",
       "      <td>11,035.00</td>\n",
       "      <td>474.00</td>\n",
       "      <td>2016-11-11</td>\n",
       "      <td>1</td>\n",
       "      <td>16</td>\n",
       "      <td>False</td>\n",
       "      <td>8.00</td>\n",
       "      <td>5.60</td>\n",
       "      <td>41.00</td>\n",
       "      <td>санкт-петербург</td>\n",
       "      <td>False</td>\n",
       "      <td>1.00</td>\n",
       "      <td>723.00</td>\n",
       "      <td>0.00</td>\n",
       "      <td>NaN</td>\n",
       "      <td>3</td>\n",
       "      <td>False</td>\n",
       "      <td>67.00</td>\n",
       "      <td>14</td>\n",
       "      <td>0.08</td>\n",
       "      <td>4</td>\n",
       "      <td>11</td>\n",
       "      <td>2016</td>\n",
       "      <td>первый</td>\n",
       "      <td>11.00</td>\n",
       "    </tr>\n",
       "    <tr>\n",
       "      <th>17442</th>\n",
       "      <td>24,638.00</td>\n",
       "      <td>1</td>\n",
       "      <td>8.00</td>\n",
       "      <td>28,062.00</td>\n",
       "      <td>469.00</td>\n",
       "      <td>2015-06-16</td>\n",
       "      <td>2</td>\n",
       "      <td>5</td>\n",
       "      <td>False</td>\n",
       "      <td>9.09</td>\n",
       "      <td>5.35</td>\n",
       "      <td>29.00</td>\n",
       "      <td>красное село</td>\n",
       "      <td>False</td>\n",
       "      <td>0.00</td>\n",
       "      <td>NaN</td>\n",
       "      <td>0.00</td>\n",
       "      <td>NaN</td>\n",
       "      <td>2</td>\n",
       "      <td>False</td>\n",
       "      <td>54.00</td>\n",
       "      <td>0</td>\n",
       "      <td>0.10</td>\n",
       "      <td>1</td>\n",
       "      <td>6</td>\n",
       "      <td>2015</td>\n",
       "      <td>другой</td>\n",
       "      <td>28.00</td>\n",
       "    </tr>\n",
       "    <tr>\n",
       "      <th>17496</th>\n",
       "      <td>16,295.00</td>\n",
       "      <td>5</td>\n",
       "      <td>20.00</td>\n",
       "      <td>15,092.00</td>\n",
       "      <td>NaN</td>\n",
       "      <td>2019-02-19</td>\n",
       "      <td>14</td>\n",
       "      <td>17</td>\n",
       "      <td>False</td>\n",
       "      <td>12.00</td>\n",
       "      <td>6.70</td>\n",
       "      <td>53.20</td>\n",
       "      <td>санкт-петербург</td>\n",
       "      <td>False</td>\n",
       "      <td>1.00</td>\n",
       "      <td>967.00</td>\n",
       "      <td>0.00</td>\n",
       "      <td>NaN</td>\n",
       "      <td>3</td>\n",
       "      <td>False</td>\n",
       "      <td>92.90</td>\n",
       "      <td>15</td>\n",
       "      <td>0.07</td>\n",
       "      <td>1</td>\n",
       "      <td>2</td>\n",
       "      <td>2019</td>\n",
       "      <td>другой</td>\n",
       "      <td>15.00</td>\n",
       "    </tr>\n",
       "    <tr>\n",
       "      <th>17857</th>\n",
       "      <td>41,030.00</td>\n",
       "      <td>0</td>\n",
       "      <td>27.00</td>\n",
       "      <td>15,543.00</td>\n",
       "      <td>73.00</td>\n",
       "      <td>2017-12-22</td>\n",
       "      <td>4</td>\n",
       "      <td>5</td>\n",
       "      <td>False</td>\n",
       "      <td>9.09</td>\n",
       "      <td>3.90</td>\n",
       "      <td>33.00</td>\n",
       "      <td>санкт-петербург</td>\n",
       "      <td>False</td>\n",
       "      <td>0.00</td>\n",
       "      <td>NaN</td>\n",
       "      <td>0.00</td>\n",
       "      <td>NaN</td>\n",
       "      <td>3</td>\n",
       "      <td>False</td>\n",
       "      <td>56.00</td>\n",
       "      <td>1</td>\n",
       "      <td>0.07</td>\n",
       "      <td>4</td>\n",
       "      <td>12</td>\n",
       "      <td>2017</td>\n",
       "      <td>другой</td>\n",
       "      <td>16.00</td>\n",
       "    </tr>\n",
       "    <tr>\n",
       "      <th>18545</th>\n",
       "      <td>27,054.00</td>\n",
       "      <td>0</td>\n",
       "      <td>25.00</td>\n",
       "      <td>8,033.00</td>\n",
       "      <td>12.00</td>\n",
       "      <td>2019-03-18</td>\n",
       "      <td>3</td>\n",
       "      <td>5</td>\n",
       "      <td>False</td>\n",
       "      <td>8.82</td>\n",
       "      <td>3.75</td>\n",
       "      <td>29.00</td>\n",
       "      <td>санкт-петербург</td>\n",
       "      <td>False</td>\n",
       "      <td>1.00</td>\n",
       "      <td>540.00</td>\n",
       "      <td>0.00</td>\n",
       "      <td>NaN</td>\n",
       "      <td>2</td>\n",
       "      <td>False</td>\n",
       "      <td>43.00</td>\n",
       "      <td>6</td>\n",
       "      <td>0.09</td>\n",
       "      <td>0</td>\n",
       "      <td>3</td>\n",
       "      <td>2019</td>\n",
       "      <td>другой</td>\n",
       "      <td>8.00</td>\n",
       "    </tr>\n",
       "    <tr>\n",
       "      <th>20478</th>\n",
       "      <td>18,975.00</td>\n",
       "      <td>1</td>\n",
       "      <td>27.00</td>\n",
       "      <td>3,246.00</td>\n",
       "      <td>429.00</td>\n",
       "      <td>2017-07-18</td>\n",
       "      <td>2</td>\n",
       "      <td>4</td>\n",
       "      <td>False</td>\n",
       "      <td>10.00</td>\n",
       "      <td>8.00</td>\n",
       "      <td>22.00</td>\n",
       "      <td>санкт-петербург</td>\n",
       "      <td>False</td>\n",
       "      <td>0.00</td>\n",
       "      <td>NaN</td>\n",
       "      <td>3.00</td>\n",
       "      <td>449.00</td>\n",
       "      <td>1</td>\n",
       "      <td>False</td>\n",
       "      <td>45.00</td>\n",
       "      <td>11</td>\n",
       "      <td>0.18</td>\n",
       "      <td>1</td>\n",
       "      <td>7</td>\n",
       "      <td>2017</td>\n",
       "      <td>другой</td>\n",
       "      <td>3.00</td>\n",
       "    </tr>\n",
       "    <tr>\n",
       "      <th>20507</th>\n",
       "      <td>27,028.00</td>\n",
       "      <td>1</td>\n",
       "      <td>22.60</td>\n",
       "      <td>12,570.00</td>\n",
       "      <td>40.00</td>\n",
       "      <td>2018-02-19</td>\n",
       "      <td>11</td>\n",
       "      <td>14</td>\n",
       "      <td>False</td>\n",
       "      <td>13.00</td>\n",
       "      <td>5.95</td>\n",
       "      <td>35.00</td>\n",
       "      <td>санкт-петербург</td>\n",
       "      <td>False</td>\n",
       "      <td>0.00</td>\n",
       "      <td>NaN</td>\n",
       "      <td>0.00</td>\n",
       "      <td>NaN</td>\n",
       "      <td>2</td>\n",
       "      <td>False</td>\n",
       "      <td>60.00</td>\n",
       "      <td>12</td>\n",
       "      <td>0.10</td>\n",
       "      <td>0</td>\n",
       "      <td>2</td>\n",
       "      <td>2018</td>\n",
       "      <td>другой</td>\n",
       "      <td>13.00</td>\n",
       "    </tr>\n",
       "    <tr>\n",
       "      <th>21227</th>\n",
       "      <td>20,170.00</td>\n",
       "      <td>0</td>\n",
       "      <td>5.80</td>\n",
       "      <td>1,261.00</td>\n",
       "      <td>30.00</td>\n",
       "      <td>2017-07-21</td>\n",
       "      <td>5</td>\n",
       "      <td>5</td>\n",
       "      <td>False</td>\n",
       "      <td>11.52</td>\n",
       "      <td>8.20</td>\n",
       "      <td>68.00</td>\n",
       "      <td>санкт-петербург</td>\n",
       "      <td>False</td>\n",
       "      <td>2.00</td>\n",
       "      <td>295.00</td>\n",
       "      <td>3.00</td>\n",
       "      <td>366.00</td>\n",
       "      <td>0</td>\n",
       "      <td>True</td>\n",
       "      <td>71.00</td>\n",
       "      <td>0</td>\n",
       "      <td>0.12</td>\n",
       "      <td>4</td>\n",
       "      <td>7</td>\n",
       "      <td>2017</td>\n",
       "      <td>последний</td>\n",
       "      <td>1.00</td>\n",
       "    </tr>\n",
       "    <tr>\n",
       "      <th>21377</th>\n",
       "      <td>42,742.00</td>\n",
       "      <td>2</td>\n",
       "      <td>27.50</td>\n",
       "      <td>9,760.00</td>\n",
       "      <td>61.00</td>\n",
       "      <td>2017-04-18</td>\n",
       "      <td>19</td>\n",
       "      <td>24</td>\n",
       "      <td>False</td>\n",
       "      <td>11.00</td>\n",
       "      <td>4.90</td>\n",
       "      <td>37.70</td>\n",
       "      <td>санкт-петербург</td>\n",
       "      <td>False</td>\n",
       "      <td>0.00</td>\n",
       "      <td>NaN</td>\n",
       "      <td>0.00</td>\n",
       "      <td>NaN</td>\n",
       "      <td>1</td>\n",
       "      <td>False</td>\n",
       "      <td>42.00</td>\n",
       "      <td>19</td>\n",
       "      <td>0.12</td>\n",
       "      <td>1</td>\n",
       "      <td>4</td>\n",
       "      <td>2017</td>\n",
       "      <td>другой</td>\n",
       "      <td>10.00</td>\n",
       "    </tr>\n",
       "    <tr>\n",
       "      <th>21824</th>\n",
       "      <td>NaN</td>\n",
       "      <td>2</td>\n",
       "      <td>27.00</td>\n",
       "      <td>NaN</td>\n",
       "      <td>NaN</td>\n",
       "      <td>2019-02-12</td>\n",
       "      <td>2</td>\n",
       "      <td>2</td>\n",
       "      <td>False</td>\n",
       "      <td>8.60</td>\n",
       "      <td>2.45</td>\n",
       "      <td>38.00</td>\n",
       "      <td>большая ижора</td>\n",
       "      <td>False</td>\n",
       "      <td>NaN</td>\n",
       "      <td>NaN</td>\n",
       "      <td>NaN</td>\n",
       "      <td>NaN</td>\n",
       "      <td>2</td>\n",
       "      <td>False</td>\n",
       "      <td>44.00</td>\n",
       "      <td>20</td>\n",
       "      <td>0.06</td>\n",
       "      <td>1</td>\n",
       "      <td>2</td>\n",
       "      <td>2019</td>\n",
       "      <td>последний</td>\n",
       "      <td>NaN</td>\n",
       "    </tr>\n",
       "    <tr>\n",
       "      <th>22309</th>\n",
       "      <td>36,353.00</td>\n",
       "      <td>0</td>\n",
       "      <td>10.30</td>\n",
       "      <td>11,936.00</td>\n",
       "      <td>136.00</td>\n",
       "      <td>2017-09-30</td>\n",
       "      <td>15</td>\n",
       "      <td>16</td>\n",
       "      <td>False</td>\n",
       "      <td>8.82</td>\n",
       "      <td>5.30</td>\n",
       "      <td>15.50</td>\n",
       "      <td>санкт-петербург</td>\n",
       "      <td>False</td>\n",
       "      <td>2.00</td>\n",
       "      <td>440.00</td>\n",
       "      <td>2.00</td>\n",
       "      <td>450.00</td>\n",
       "      <td>1</td>\n",
       "      <td>False</td>\n",
       "      <td>45.00</td>\n",
       "      <td>20</td>\n",
       "      <td>0.12</td>\n",
       "      <td>5</td>\n",
       "      <td>9</td>\n",
       "      <td>2017</td>\n",
       "      <td>другой</td>\n",
       "      <td>12.00</td>\n",
       "    </tr>\n",
       "    <tr>\n",
       "      <th>22336</th>\n",
       "      <td>18,838.00</td>\n",
       "      <td>4</td>\n",
       "      <td>32.00</td>\n",
       "      <td>3,506.00</td>\n",
       "      <td>NaN</td>\n",
       "      <td>2019-04-05</td>\n",
       "      <td>5</td>\n",
       "      <td>6</td>\n",
       "      <td>False</td>\n",
       "      <td>16.50</td>\n",
       "      <td>10.00</td>\n",
       "      <td>55.50</td>\n",
       "      <td>санкт-петербург</td>\n",
       "      <td>False</td>\n",
       "      <td>0.00</td>\n",
       "      <td>NaN</td>\n",
       "      <td>3.00</td>\n",
       "      <td>511.00</td>\n",
       "      <td>2</td>\n",
       "      <td>False</td>\n",
       "      <td>92.40</td>\n",
       "      <td>19</td>\n",
       "      <td>0.11</td>\n",
       "      <td>4</td>\n",
       "      <td>4</td>\n",
       "      <td>2019</td>\n",
       "      <td>другой</td>\n",
       "      <td>4.00</td>\n",
       "    </tr>\n",
       "    <tr>\n",
       "      <th>22590</th>\n",
       "      <td>33,053.00</td>\n",
       "      <td>0</td>\n",
       "      <td>1.00</td>\n",
       "      <td>14,217.00</td>\n",
       "      <td>13.00</td>\n",
       "      <td>2018-10-31</td>\n",
       "      <td>7</td>\n",
       "      <td>12</td>\n",
       "      <td>False</td>\n",
       "      <td>10.00</td>\n",
       "      <td>6.00</td>\n",
       "      <td>32.40</td>\n",
       "      <td>санкт-петербург</td>\n",
       "      <td>False</td>\n",
       "      <td>2.00</td>\n",
       "      <td>293.00</td>\n",
       "      <td>2.00</td>\n",
       "      <td>289.00</td>\n",
       "      <td>2</td>\n",
       "      <td>False</td>\n",
       "      <td>55.00</td>\n",
       "      <td>16</td>\n",
       "      <td>0.11</td>\n",
       "      <td>2</td>\n",
       "      <td>10</td>\n",
       "      <td>2018</td>\n",
       "      <td>другой</td>\n",
       "      <td>14.00</td>\n",
       "    </tr>\n",
       "    <tr>\n",
       "      <th>22869</th>\n",
       "      <td>34,963.00</td>\n",
       "      <td>5</td>\n",
       "      <td>100.00</td>\n",
       "      <td>8,283.00</td>\n",
       "      <td>19.00</td>\n",
       "      <td>2018-07-25</td>\n",
       "      <td>5</td>\n",
       "      <td>5</td>\n",
       "      <td>True</td>\n",
       "      <td>11.00</td>\n",
       "      <td>15.00</td>\n",
       "      <td>14.00</td>\n",
       "      <td>санкт-петербург</td>\n",
       "      <td>False</td>\n",
       "      <td>1.00</td>\n",
       "      <td>223.00</td>\n",
       "      <td>3.00</td>\n",
       "      <td>30.00</td>\n",
       "      <td>1</td>\n",
       "      <td>False</td>\n",
       "      <td>25.00</td>\n",
       "      <td>0</td>\n",
       "      <td>0.60</td>\n",
       "      <td>2</td>\n",
       "      <td>7</td>\n",
       "      <td>2018</td>\n",
       "      <td>последний</td>\n",
       "      <td>8.00</td>\n",
       "    </tr>\n",
       "    <tr>\n",
       "      <th>22938</th>\n",
       "      <td>NaN</td>\n",
       "      <td>1</td>\n",
       "      <td>27.00</td>\n",
       "      <td>NaN</td>\n",
       "      <td>27.00</td>\n",
       "      <td>2018-03-15</td>\n",
       "      <td>2</td>\n",
       "      <td>2</td>\n",
       "      <td>True</td>\n",
       "      <td>9.00</td>\n",
       "      <td>4.00</td>\n",
       "      <td>73.00</td>\n",
       "      <td>нижняя</td>\n",
       "      <td>False</td>\n",
       "      <td>NaN</td>\n",
       "      <td>NaN</td>\n",
       "      <td>NaN</td>\n",
       "      <td>NaN</td>\n",
       "      <td>4</td>\n",
       "      <td>False</td>\n",
       "      <td>98.00</td>\n",
       "      <td>14</td>\n",
       "      <td>0.04</td>\n",
       "      <td>3</td>\n",
       "      <td>3</td>\n",
       "      <td>2018</td>\n",
       "      <td>последний</td>\n",
       "      <td>NaN</td>\n",
       "    </tr>\n",
       "  </tbody>\n",
       "</table>\n",
       "</div>"
      ],
      "text/plain": [
       "       airports_nearest  balcony  ceiling_height  cityCenters_nearest  \\\n",
       "355                 NaN        2           25.00                  NaN   \n",
       "3148                NaN        0           32.00                  NaN   \n",
       "3474                NaN        0            8.00                  NaN   \n",
       "4643          12,016.00        1           25.00            13,256.00   \n",
       "4876                NaN        2           27.00                  NaN   \n",
       "5076          29,686.00        0           24.00             8,389.00   \n",
       "5246                NaN        2           27.00                  NaN   \n",
       "5669          28,981.00        2           26.00            10,912.00   \n",
       "5712                NaN        0            1.20                  NaN   \n",
       "5807          18,732.00        5           27.00            20,444.00   \n",
       "5863          13,069.00        1            8.30            10,763.00   \n",
       "6246          68,923.00        0           25.00            50,649.00   \n",
       "9379          11,647.00        0           25.00            13,581.00   \n",
       "10773               NaN        2           27.00                  NaN   \n",
       "11285               NaN        2           25.00                  NaN   \n",
       "12628         19,644.00        0            5.30             3,918.00   \n",
       "14382               NaN        1           25.00                  NaN   \n",
       "15061         14,814.00        2           14.00            13,610.00   \n",
       "15743         32,691.00        0            8.00            11,035.00   \n",
       "17442         24,638.00        1            8.00            28,062.00   \n",
       "17496         16,295.00        5           20.00            15,092.00   \n",
       "17857         41,030.00        0           27.00            15,543.00   \n",
       "18545         27,054.00        0           25.00             8,033.00   \n",
       "20478         18,975.00        1           27.00             3,246.00   \n",
       "20507         27,028.00        1           22.60            12,570.00   \n",
       "21227         20,170.00        0            5.80             1,261.00   \n",
       "21377         42,742.00        2           27.50             9,760.00   \n",
       "21824               NaN        2           27.00                  NaN   \n",
       "22309         36,353.00        0           10.30            11,936.00   \n",
       "22336         18,838.00        4           32.00             3,506.00   \n",
       "22590         33,053.00        0            1.00            14,217.00   \n",
       "22869         34,963.00        5          100.00             8,283.00   \n",
       "22938               NaN        1           27.00                  NaN   \n",
       "\n",
       "       days_exposition first_day_exposition  floor  floors_total  \\\n",
       "355             259.00           2018-07-12      2             5   \n",
       "3148               NaN           2018-11-12      2             3   \n",
       "3474            125.00           2018-03-16      2             5   \n",
       "4643            181.00           2018-02-01      2             9   \n",
       "4876             28.00           2017-09-27     17            25   \n",
       "5076              7.00           2018-10-03      1             5   \n",
       "5246            540.00           2017-10-13      3             5   \n",
       "5669            267.00           2017-08-08      3             9   \n",
       "5712            248.00           2017-08-14      1             2   \n",
       "5807             38.00           2019-01-09     13            36   \n",
       "5863             14.00           2018-08-15     14            16   \n",
       "6246               NaN           2019-03-25      5             5   \n",
       "9379               NaN           2017-03-26      2             5   \n",
       "10773            71.00           2017-10-13      3            10   \n",
       "11285            18.00           2019-03-20      4             5   \n",
       "12628             8.00           2018-03-29      5             5   \n",
       "14382           206.00           2015-12-04      2             5   \n",
       "15061           315.00           2018-05-11      5            14   \n",
       "15743           474.00           2016-11-11      1            16   \n",
       "17442           469.00           2015-06-16      2             5   \n",
       "17496              NaN           2019-02-19     14            17   \n",
       "17857            73.00           2017-12-22      4             5   \n",
       "18545            12.00           2019-03-18      3             5   \n",
       "20478           429.00           2017-07-18      2             4   \n",
       "20507            40.00           2018-02-19     11            14   \n",
       "21227            30.00           2017-07-21      5             5   \n",
       "21377            61.00           2017-04-18     19            24   \n",
       "21824              NaN           2019-02-12      2             2   \n",
       "22309           136.00           2017-09-30     15            16   \n",
       "22336              NaN           2019-04-05      5             6   \n",
       "22590            13.00           2018-10-31      7            12   \n",
       "22869            19.00           2018-07-25      5             5   \n",
       "22938            27.00           2018-03-15      2             2   \n",
       "\n",
       "       is_apartment  kitchen_area  last_price  living_area    locality_name  \\\n",
       "355           False          9.09        3.60        32.00          гатчина   \n",
       "3148          False          8.00        2.90        53.00           волхов   \n",
       "3474          False          7.30        1.40        15.30            нурма   \n",
       "4643          False          7.00        4.30        30.00  санкт-петербург   \n",
       "4876          False          6.19        3.00        17.00           мурино   \n",
       "5076           True          5.50        3.85        19.50  санкт-петербург   \n",
       "5246          False          9.00        2.50        30.00             мины   \n",
       "5669          False          7.00        4.40        21.30  санкт-петербург   \n",
       "5712          False          5.20        1.50        27.50              мга   \n",
       "5807          False         12.00        8.15        41.00  санкт-петербург   \n",
       "5863          False          8.30        5.65        19.30  санкт-петербург   \n",
       "6246          False          5.70        3.30        31.30        кронштадт   \n",
       "9379          False          5.20        3.95        30.00  санкт-петербург   \n",
       "10773         False          8.10        3.80        30.10           мурино   \n",
       "11285         False          9.00        1.95        17.00             луга   \n",
       "12628         False          9.09        3.90        32.30  санкт-петербург   \n",
       "14382         False          8.00        1.70        20.00       новый свет   \n",
       "15061         False          9.10        5.60        32.40  санкт-петербург   \n",
       "15743         False          8.00        5.60        41.00  санкт-петербург   \n",
       "17442         False          9.09        5.35        29.00     красное село   \n",
       "17496         False         12.00        6.70        53.20  санкт-петербург   \n",
       "17857         False          9.09        3.90        33.00  санкт-петербург   \n",
       "18545         False          8.82        3.75        29.00  санкт-петербург   \n",
       "20478         False         10.00        8.00        22.00  санкт-петербург   \n",
       "20507         False         13.00        5.95        35.00  санкт-петербург   \n",
       "21227         False         11.52        8.20        68.00  санкт-петербург   \n",
       "21377         False         11.00        4.90        37.70  санкт-петербург   \n",
       "21824         False          8.60        2.45        38.00    большая ижора   \n",
       "22309         False          8.82        5.30        15.50  санкт-петербург   \n",
       "22336         False         16.50       10.00        55.50  санкт-петербург   \n",
       "22590         False         10.00        6.00        32.40  санкт-петербург   \n",
       "22869          True         11.00       15.00        14.00  санкт-петербург   \n",
       "22938          True          9.00        4.00        73.00           нижняя   \n",
       "\n",
       "       open_plan  parks_around3000  parks_nearest  ponds_around3000  \\\n",
       "355        False               NaN            NaN               NaN   \n",
       "3148       False               NaN            NaN               NaN   \n",
       "3474       False               NaN            NaN               NaN   \n",
       "4643       False              1.00         658.00              1.00   \n",
       "4876        True               NaN            NaN               NaN   \n",
       "5076       False              3.00         397.00              1.00   \n",
       "5246       False               NaN            NaN               NaN   \n",
       "5669       False              1.00         305.00              0.00   \n",
       "5712       False               NaN            NaN               NaN   \n",
       "5807       False              0.00            NaN              3.00   \n",
       "5863       False              0.00            NaN              1.00   \n",
       "6246       False              1.00         417.00              2.00   \n",
       "9379       False              0.00            NaN              0.00   \n",
       "10773      False               NaN            NaN               NaN   \n",
       "11285      False               NaN            NaN               NaN   \n",
       "12628      False              1.00         505.00              1.00   \n",
       "14382      False               NaN            NaN               NaN   \n",
       "15061      False              0.00            NaN              0.00   \n",
       "15743      False              1.00         723.00              0.00   \n",
       "17442      False              0.00            NaN              0.00   \n",
       "17496      False              1.00         967.00              0.00   \n",
       "17857      False              0.00            NaN              0.00   \n",
       "18545      False              1.00         540.00              0.00   \n",
       "20478      False              0.00            NaN              3.00   \n",
       "20507      False              0.00            NaN              0.00   \n",
       "21227      False              2.00         295.00              3.00   \n",
       "21377      False              0.00            NaN              0.00   \n",
       "21824      False               NaN            NaN               NaN   \n",
       "22309      False              2.00         440.00              2.00   \n",
       "22336      False              0.00            NaN              3.00   \n",
       "22590      False              2.00         293.00              2.00   \n",
       "22869      False              1.00         223.00              3.00   \n",
       "22938      False               NaN            NaN               NaN   \n",
       "\n",
       "       ponds_nearest  rooms  studio  total_area  total_images  price_m2  \\\n",
       "355              NaN      2   False       55.20            17      0.07   \n",
       "3148             NaN      3   False       75.00            14      0.04   \n",
       "3474             NaN      1   False       30.00             3      0.05   \n",
       "4643          331.00      2   False       45.00             0      0.10   \n",
       "4876             NaN      0   False       25.00             7      0.12   \n",
       "5076          578.00      1   False       30.50             0      0.13   \n",
       "5246             NaN      2   False       54.00             0      0.05   \n",
       "5669             NaN      2   False       50.00             4      0.09   \n",
       "5712             NaN      2   False       42.80             5      0.04   \n",
       "5807           80.00      2   False       80.00            17      0.10   \n",
       "5863          613.00      1   False       45.00            20      0.13   \n",
       "6246           73.00      2   False       44.40             6      0.07   \n",
       "9379             NaN      3   False       42.00             5      0.09   \n",
       "10773            NaN      2   False       58.00             8      0.07   \n",
       "11285            NaN      1   False       37.00             0      0.05   \n",
       "12628          92.00      1   False       50.00            14      0.08   \n",
       "14382            NaN      1   False       35.00             9      0.05   \n",
       "15061            NaN      2   False       56.40            19      0.10   \n",
       "15743            NaN      3   False       67.00            14      0.08   \n",
       "17442            NaN      2   False       54.00             0      0.10   \n",
       "17496            NaN      3   False       92.90            15      0.07   \n",
       "17857            NaN      3   False       56.00             1      0.07   \n",
       "18545            NaN      2   False       43.00             6      0.09   \n",
       "20478         449.00      1   False       45.00            11      0.18   \n",
       "20507            NaN      2   False       60.00            12      0.10   \n",
       "21227         366.00      0    True       71.00             0      0.12   \n",
       "21377            NaN      1   False       42.00            19      0.12   \n",
       "21824            NaN      2   False       44.00            20      0.06   \n",
       "22309         450.00      1   False       45.00            20      0.12   \n",
       "22336         511.00      2   False       92.40            19      0.11   \n",
       "22590         289.00      2   False       55.00            16      0.11   \n",
       "22869          30.00      1   False       25.00             0      0.60   \n",
       "22938            NaN      4   False       98.00            14      0.04   \n",
       "\n",
       "       first_day_exposition_sign  month_exposition  year_exposition  \\\n",
       "355                            3                 7             2018   \n",
       "3148                           0                11             2018   \n",
       "3474                           4                 3             2018   \n",
       "4643                           3                 2             2018   \n",
       "4876                           2                 9             2017   \n",
       "5076                           2                10             2018   \n",
       "5246                           4                10             2017   \n",
       "5669                           1                 8             2017   \n",
       "5712                           0                 8             2017   \n",
       "5807                           2                 1             2019   \n",
       "5863                           2                 8             2018   \n",
       "6246                           0                 3             2019   \n",
       "9379                           6                 3             2017   \n",
       "10773                          4                10             2017   \n",
       "11285                          2                 3             2019   \n",
       "12628                          3                 3             2018   \n",
       "14382                          4                12             2015   \n",
       "15061                          4                 5             2018   \n",
       "15743                          4                11             2016   \n",
       "17442                          1                 6             2015   \n",
       "17496                          1                 2             2019   \n",
       "17857                          4                12             2017   \n",
       "18545                          0                 3             2019   \n",
       "20478                          1                 7             2017   \n",
       "20507                          0                 2             2018   \n",
       "21227                          4                 7             2017   \n",
       "21377                          1                 4             2017   \n",
       "21824                          1                 2             2019   \n",
       "22309                          5                 9             2017   \n",
       "22336                          4                 4             2019   \n",
       "22590                          2                10             2018   \n",
       "22869                          2                 7             2018   \n",
       "22938                          3                 3             2018   \n",
       "\n",
       "      floor_type  cityCenters_km  \n",
       "355       другой             NaN  \n",
       "3148      другой             NaN  \n",
       "3474      другой             NaN  \n",
       "4643      другой           13.00  \n",
       "4876      другой             NaN  \n",
       "5076      первый            8.00  \n",
       "5246      другой             NaN  \n",
       "5669      другой           11.00  \n",
       "5712      первый             NaN  \n",
       "5807      другой           20.00  \n",
       "5863      другой           11.00  \n",
       "6246   последний           51.00  \n",
       "9379      другой           14.00  \n",
       "10773     другой             NaN  \n",
       "11285     другой             NaN  \n",
       "12628  последний            4.00  \n",
       "14382     другой             NaN  \n",
       "15061     другой           14.00  \n",
       "15743     первый           11.00  \n",
       "17442     другой           28.00  \n",
       "17496     другой           15.00  \n",
       "17857     другой           16.00  \n",
       "18545     другой            8.00  \n",
       "20478     другой            3.00  \n",
       "20507     другой           13.00  \n",
       "21227  последний            1.00  \n",
       "21377     другой           10.00  \n",
       "21824  последний             NaN  \n",
       "22309     другой           12.00  \n",
       "22336     другой            4.00  \n",
       "22590     другой           14.00  \n",
       "22869  последний            8.00  \n",
       "22938  последний             NaN  "
      ]
     },
     "execution_count": 37,
     "metadata": {},
     "output_type": "execute_result"
    }
   ],
   "source": [
    "data[(data['ceiling_height']>5) | (data['ceiling_height']<=1.5)]"
   ]
  },
  {
   "cell_type": "code",
   "execution_count": 38,
   "metadata": {},
   "outputs": [
    {
     "data": {
      "image/png": "[encoded data removed]",
      "text/plain": [
       "<Figure size 216x216 with 1 Axes>"
      ]
     },
     "metadata": {
      "needs_background": "light"
     },
     "output_type": "display_data"
    }
   ],
   "source": [
    "# ceilings of 20-32 meters are erroneous and likely correspond to more typical values of 2-3.2m.\n",
    "# similarly, ceilings of 8-8.3m are likely due to a typo and correspond to 2.8m, as this is also one of the standards.\n",
    "# ceilings from 5 to 6 meters are likely to be real since these apartments are exceptionally expensive—the stated ceiling height may correspond to reality.\n",
    "# ceilings with parameters that do not resemble any standard—10, 14, 100 meters, as well as those less than 1.5—will be replaced with the average value, as was done when handling    # missing values, to avoid losing other correct information for analysis.\n",
    "\n",
    "data.loc[(data['ceiling_height']>=20) & (data['ceiling_height']<=32), 'ceiling_height'] /= 10\n",
    "data.loc[(data['ceiling_height']>=8) & (data['ceiling_height']<=8.3), 'ceiling_height'] = 2.8\n",
    "data.loc[(data['ceiling_height']>=10) | (data['ceiling_height']<=1.5), 'ceiling_height'] = round(data[(data['ceiling_height'] >= 2.2) & (data['ceiling_height'] <= 5)]['ceiling_height'].mean(),2)\n",
    "\n",
    "# let's display the histogram after data processing\n",
    "plt.figure(figsize=[3, 3])\n",
    "plt.hist(data['ceiling_height'],bins=10)\n",
    "\n",
    "plt.show()"
   ]
  },
  {
   "cell_type": "markdown",
   "metadata": {},
   "source": [
    "Let's take a look at the data on the **type of floor of the apartment**:"
   ]
  },
  {
   "cell_type": "code",
   "execution_count": 39,
   "metadata": {},
   "outputs": [
    {
     "data": {
      "image/png": "[encoded data removed]",
      "text/plain": [
       "<Figure size 216x216 with 1 Axes>"
      ]
     },
     "metadata": {
      "needs_background": "light"
     },
     "output_type": "display_data"
    },
    {
     "name": "stdout",
     "output_type": "stream",
     "text": [
      "Доля первых этажей в общей выборке: 12.61%\n",
      "Доля первых этажей в общей выборке: 14.04%\n"
     ]
    }
   ],
   "source": [
    "#Построим гистограмму по типу этажей \n",
    "plt.figure(figsize=[3, 3])\n",
    "\n",
    "#plt.subplot(1,2,1)\n",
    "plt.hist(data['floor_type'],bins=5)\n",
    "plt.title('Распределение по типу этажей')\n",
    "\n",
    "plt.show()\n",
    "\n",
    "#посчитаем доли \"первых\" и \"последних\" этажей от общей выборки\n",
    "print(f'The proportion of ground floors in the overall sample: {data[data[\"floor_type\"]==\"первый\"][\"floor_type\"].count()/len(data):.2%}')\n",
    "print(f'The proportion of top floors in the overall sample: {data[data[\"floor_type\"]==\"последний\"][\"floor_type\"].count()/len(data):.2%}')"
   ]
  },
  {
   "cell_type": "markdown",
   "metadata": {},
   "source": [
    "There are no remarks about the data; the first and last floors account for 12% and 14% of the total sample, respectively."
   ]
  },
  {
   "cell_type": "markdown",
   "metadata": {},
   "source": [
    "Let's take a look at the data on the **total number of floors** in the buildings where the apartments are for sale:"
   ]
  },
  {
   "cell_type": "code",
   "execution_count": 40,
   "metadata": {},
   "outputs": [
    {
     "data": {
      "text/plain": [
       "count   22,459.00\n",
       "mean        10.79\n",
       "std          6.63\n",
       "min          1.00\n",
       "25%          5.00\n",
       "50%          9.00\n",
       "75%         16.00\n",
       "max         60.00\n",
       "Name: floors_total, dtype: float64"
      ]
     },
     "metadata": {},
     "output_type": "display_data"
    },
    {
     "data": {
      "image/png": "[encoded data removed]",
      "text/plain": [
       "<Figure size 432x216 with 1 Axes>"
      ]
     },
     "metadata": {
      "needs_background": "light"
     },
     "output_type": "display_data"
    }
   ],
   "source": [
    "display(data['floors_total'].describe())\n",
    "\n",
    "# let's plot a histogram of the total number of floors\n",
    "plt.figure(figsize=[6, 3])\n",
    "\n",
    "plt.hist(data['floors_total'],bins=60)\n",
    "plt.title('Distribution of the total number of floors')\n",
    "\n",
    "plt.show()"
   ]
  },
  {
   "cell_type": "code",
   "execution_count": 41,
   "metadata": {},
   "outputs": [
    {
     "data": {
      "text/html": [
       "<div>\n",
       "<style scoped>\n",
       "    .dataframe tbody tr th:only-of-type {\n",
       "        vertical-align: middle;\n",
       "    }\n",
       "\n",
       "    .dataframe tbody tr th {\n",
       "        vertical-align: top;\n",
       "    }\n",
       "\n",
       "    .dataframe thead th {\n",
       "        text-align: right;\n",
       "    }\n",
       "</style>\n",
       "<table border=\"1\" class=\"dataframe\">\n",
       "  <thead>\n",
       "    <tr style=\"text-align: right;\">\n",
       "      <th></th>\n",
       "      <th>airports_nearest</th>\n",
       "      <th>balcony</th>\n",
       "      <th>ceiling_height</th>\n",
       "      <th>cityCenters_nearest</th>\n",
       "      <th>days_exposition</th>\n",
       "      <th>first_day_exposition</th>\n",
       "      <th>floor</th>\n",
       "      <th>floors_total</th>\n",
       "      <th>is_apartment</th>\n",
       "      <th>kitchen_area</th>\n",
       "      <th>last_price</th>\n",
       "      <th>living_area</th>\n",
       "      <th>locality_name</th>\n",
       "      <th>open_plan</th>\n",
       "      <th>parks_around3000</th>\n",
       "      <th>parks_nearest</th>\n",
       "      <th>ponds_around3000</th>\n",
       "      <th>ponds_nearest</th>\n",
       "      <th>rooms</th>\n",
       "      <th>studio</th>\n",
       "      <th>total_area</th>\n",
       "      <th>total_images</th>\n",
       "      <th>price_m2</th>\n",
       "      <th>first_day_exposition_sign</th>\n",
       "      <th>month_exposition</th>\n",
       "      <th>year_exposition</th>\n",
       "      <th>floor_type</th>\n",
       "      <th>cityCenters_km</th>\n",
       "    </tr>\n",
       "  </thead>\n",
       "  <tbody>\n",
       "    <tr>\n",
       "      <th>397</th>\n",
       "      <td>18,732.00</td>\n",
       "      <td>1</td>\n",
       "      <td>2.73</td>\n",
       "      <td>20,444.00</td>\n",
       "      <td>11.00</td>\n",
       "      <td>2018-03-22</td>\n",
       "      <td>28</td>\n",
       "      <td>36</td>\n",
       "      <td>False</td>\n",
       "      <td>18.70</td>\n",
       "      <td>5.99</td>\n",
       "      <td>21.40</td>\n",
       "      <td>санкт-петербург</td>\n",
       "      <td>False</td>\n",
       "      <td>0.00</td>\n",
       "      <td>NaN</td>\n",
       "      <td>3.00</td>\n",
       "      <td>80.00</td>\n",
       "      <td>2</td>\n",
       "      <td>False</td>\n",
       "      <td>54.00</td>\n",
       "      <td>15</td>\n",
       "      <td>0.11</td>\n",
       "      <td>3</td>\n",
       "      <td>3</td>\n",
       "      <td>2018</td>\n",
       "      <td>другой</td>\n",
       "      <td>20.00</td>\n",
       "    </tr>\n",
       "    <tr>\n",
       "      <th>871</th>\n",
       "      <td>18,732.00</td>\n",
       "      <td>0</td>\n",
       "      <td>2.73</td>\n",
       "      <td>20,444.00</td>\n",
       "      <td>169.00</td>\n",
       "      <td>2017-11-16</td>\n",
       "      <td>23</td>\n",
       "      <td>35</td>\n",
       "      <td>False</td>\n",
       "      <td>11.70</td>\n",
       "      <td>7.78</td>\n",
       "      <td>40.50</td>\n",
       "      <td>санкт-петербург</td>\n",
       "      <td>False</td>\n",
       "      <td>0.00</td>\n",
       "      <td>NaN</td>\n",
       "      <td>3.00</td>\n",
       "      <td>80.00</td>\n",
       "      <td>2</td>\n",
       "      <td>False</td>\n",
       "      <td>75.00</td>\n",
       "      <td>14</td>\n",
       "      <td>0.10</td>\n",
       "      <td>3</td>\n",
       "      <td>11</td>\n",
       "      <td>2017</td>\n",
       "      <td>другой</td>\n",
       "      <td>20.00</td>\n",
       "    </tr>\n",
       "    <tr>\n",
       "      <th>1060</th>\n",
       "      <td>18,732.00</td>\n",
       "      <td>2</td>\n",
       "      <td>2.73</td>\n",
       "      <td>20,444.00</td>\n",
       "      <td>281.00</td>\n",
       "      <td>2015-11-06</td>\n",
       "      <td>15</td>\n",
       "      <td>35</td>\n",
       "      <td>False</td>\n",
       "      <td>20.50</td>\n",
       "      <td>5.20</td>\n",
       "      <td>39.00</td>\n",
       "      <td>санкт-петербург</td>\n",
       "      <td>False</td>\n",
       "      <td>0.00</td>\n",
       "      <td>NaN</td>\n",
       "      <td>3.00</td>\n",
       "      <td>80.00</td>\n",
       "      <td>2</td>\n",
       "      <td>False</td>\n",
       "      <td>50.00</td>\n",
       "      <td>10</td>\n",
       "      <td>0.10</td>\n",
       "      <td>4</td>\n",
       "      <td>11</td>\n",
       "      <td>2015</td>\n",
       "      <td>другой</td>\n",
       "      <td>20.00</td>\n",
       "    </tr>\n",
       "    <tr>\n",
       "      <th>1697</th>\n",
       "      <td>18,732.00</td>\n",
       "      <td>0</td>\n",
       "      <td>2.65</td>\n",
       "      <td>20,444.00</td>\n",
       "      <td>410.00</td>\n",
       "      <td>2018-02-08</td>\n",
       "      <td>23</td>\n",
       "      <td>34</td>\n",
       "      <td>False</td>\n",
       "      <td>6.19</td>\n",
       "      <td>3.55</td>\n",
       "      <td>18.00</td>\n",
       "      <td>санкт-петербург</td>\n",
       "      <td>False</td>\n",
       "      <td>0.00</td>\n",
       "      <td>NaN</td>\n",
       "      <td>3.00</td>\n",
       "      <td>80.00</td>\n",
       "      <td>1</td>\n",
       "      <td>False</td>\n",
       "      <td>28.00</td>\n",
       "      <td>11</td>\n",
       "      <td>0.13</td>\n",
       "      <td>3</td>\n",
       "      <td>2</td>\n",
       "      <td>2018</td>\n",
       "      <td>другой</td>\n",
       "      <td>20.00</td>\n",
       "    </tr>\n",
       "    <tr>\n",
       "      <th>1917</th>\n",
       "      <td>18,732.00</td>\n",
       "      <td>0</td>\n",
       "      <td>2.80</td>\n",
       "      <td>20,444.00</td>\n",
       "      <td>NaN</td>\n",
       "      <td>2017-11-17</td>\n",
       "      <td>30</td>\n",
       "      <td>35</td>\n",
       "      <td>False</td>\n",
       "      <td>13.00</td>\n",
       "      <td>10.15</td>\n",
       "      <td>34.40</td>\n",
       "      <td>санкт-петербург</td>\n",
       "      <td>False</td>\n",
       "      <td>0.00</td>\n",
       "      <td>NaN</td>\n",
       "      <td>3.00</td>\n",
       "      <td>80.00</td>\n",
       "      <td>2</td>\n",
       "      <td>False</td>\n",
       "      <td>74.00</td>\n",
       "      <td>13</td>\n",
       "      <td>0.14</td>\n",
       "      <td>4</td>\n",
       "      <td>11</td>\n",
       "      <td>2017</td>\n",
       "      <td>другой</td>\n",
       "      <td>20.00</td>\n",
       "    </tr>\n",
       "    <tr>\n",
       "      <th>2253</th>\n",
       "      <td>67,763.00</td>\n",
       "      <td>0</td>\n",
       "      <td>2.88</td>\n",
       "      <td>49,488.00</td>\n",
       "      <td>166.00</td>\n",
       "      <td>2018-06-28</td>\n",
       "      <td>4</td>\n",
       "      <td>60</td>\n",
       "      <td>False</td>\n",
       "      <td>7.40</td>\n",
       "      <td>3.80</td>\n",
       "      <td>27.40</td>\n",
       "      <td>кронштадт</td>\n",
       "      <td>False</td>\n",
       "      <td>2.00</td>\n",
       "      <td>342.00</td>\n",
       "      <td>3.00</td>\n",
       "      <td>614.00</td>\n",
       "      <td>2</td>\n",
       "      <td>False</td>\n",
       "      <td>45.50</td>\n",
       "      <td>12</td>\n",
       "      <td>0.08</td>\n",
       "      <td>3</td>\n",
       "      <td>6</td>\n",
       "      <td>2018</td>\n",
       "      <td>другой</td>\n",
       "      <td>49.00</td>\n",
       "    </tr>\n",
       "    <tr>\n",
       "      <th>2966</th>\n",
       "      <td>18,732.00</td>\n",
       "      <td>0</td>\n",
       "      <td>2.73</td>\n",
       "      <td>20,444.00</td>\n",
       "      <td>50.00</td>\n",
       "      <td>2017-08-08</td>\n",
       "      <td>15</td>\n",
       "      <td>35</td>\n",
       "      <td>False</td>\n",
       "      <td>10.40</td>\n",
       "      <td>4.30</td>\n",
       "      <td>14.00</td>\n",
       "      <td>санкт-петербург</td>\n",
       "      <td>False</td>\n",
       "      <td>0.00</td>\n",
       "      <td>NaN</td>\n",
       "      <td>3.00</td>\n",
       "      <td>80.00</td>\n",
       "      <td>1</td>\n",
       "      <td>False</td>\n",
       "      <td>37.00</td>\n",
       "      <td>9</td>\n",
       "      <td>0.12</td>\n",
       "      <td>1</td>\n",
       "      <td>8</td>\n",
       "      <td>2017</td>\n",
       "      <td>другой</td>\n",
       "      <td>20.00</td>\n",
       "    </tr>\n",
       "    <tr>\n",
       "      <th>4855</th>\n",
       "      <td>18,627.00</td>\n",
       "      <td>0</td>\n",
       "      <td>2.80</td>\n",
       "      <td>20,339.00</td>\n",
       "      <td>537.00</td>\n",
       "      <td>2017-06-22</td>\n",
       "      <td>4</td>\n",
       "      <td>35</td>\n",
       "      <td>False</td>\n",
       "      <td>13.00</td>\n",
       "      <td>5.50</td>\n",
       "      <td>22.00</td>\n",
       "      <td>санкт-петербург</td>\n",
       "      <td>False</td>\n",
       "      <td>1.00</td>\n",
       "      <td>609.00</td>\n",
       "      <td>3.00</td>\n",
       "      <td>145.00</td>\n",
       "      <td>1</td>\n",
       "      <td>False</td>\n",
       "      <td>50.00</td>\n",
       "      <td>12</td>\n",
       "      <td>0.11</td>\n",
       "      <td>3</td>\n",
       "      <td>6</td>\n",
       "      <td>2017</td>\n",
       "      <td>другой</td>\n",
       "      <td>20.00</td>\n",
       "    </tr>\n",
       "    <tr>\n",
       "      <th>5749</th>\n",
       "      <td>18,732.00</td>\n",
       "      <td>2</td>\n",
       "      <td>2.80</td>\n",
       "      <td>20,444.00</td>\n",
       "      <td>198.00</td>\n",
       "      <td>2017-08-30</td>\n",
       "      <td>26</td>\n",
       "      <td>35</td>\n",
       "      <td>False</td>\n",
       "      <td>6.19</td>\n",
       "      <td>3.59</td>\n",
       "      <td>16.58</td>\n",
       "      <td>санкт-петербург</td>\n",
       "      <td>True</td>\n",
       "      <td>0.00</td>\n",
       "      <td>NaN</td>\n",
       "      <td>3.00</td>\n",
       "      <td>80.00</td>\n",
       "      <td>0</td>\n",
       "      <td>False</td>\n",
       "      <td>25.00</td>\n",
       "      <td>20</td>\n",
       "      <td>0.14</td>\n",
       "      <td>2</td>\n",
       "      <td>8</td>\n",
       "      <td>2017</td>\n",
       "      <td>другой</td>\n",
       "      <td>20.00</td>\n",
       "    </tr>\n",
       "    <tr>\n",
       "      <th>5807</th>\n",
       "      <td>18,732.00</td>\n",
       "      <td>5</td>\n",
       "      <td>2.70</td>\n",
       "      <td>20,444.00</td>\n",
       "      <td>38.00</td>\n",
       "      <td>2019-01-09</td>\n",
       "      <td>13</td>\n",
       "      <td>36</td>\n",
       "      <td>False</td>\n",
       "      <td>12.00</td>\n",
       "      <td>8.15</td>\n",
       "      <td>41.00</td>\n",
       "      <td>санкт-петербург</td>\n",
       "      <td>False</td>\n",
       "      <td>0.00</td>\n",
       "      <td>NaN</td>\n",
       "      <td>3.00</td>\n",
       "      <td>80.00</td>\n",
       "      <td>2</td>\n",
       "      <td>False</td>\n",
       "      <td>80.00</td>\n",
       "      <td>17</td>\n",
       "      <td>0.10</td>\n",
       "      <td>2</td>\n",
       "      <td>1</td>\n",
       "      <td>2019</td>\n",
       "      <td>другой</td>\n",
       "      <td>20.00</td>\n",
       "    </tr>\n",
       "    <tr>\n",
       "      <th>5808</th>\n",
       "      <td>18,732.00</td>\n",
       "      <td>0</td>\n",
       "      <td>2.73</td>\n",
       "      <td>20,444.00</td>\n",
       "      <td>82.00</td>\n",
       "      <td>2018-10-19</td>\n",
       "      <td>11</td>\n",
       "      <td>35</td>\n",
       "      <td>False</td>\n",
       "      <td>15.00</td>\n",
       "      <td>4.59</td>\n",
       "      <td>14.00</td>\n",
       "      <td>санкт-петербург</td>\n",
       "      <td>False</td>\n",
       "      <td>0.00</td>\n",
       "      <td>NaN</td>\n",
       "      <td>3.00</td>\n",
       "      <td>80.00</td>\n",
       "      <td>1</td>\n",
       "      <td>False</td>\n",
       "      <td>43.00</td>\n",
       "      <td>12</td>\n",
       "      <td>0.11</td>\n",
       "      <td>4</td>\n",
       "      <td>10</td>\n",
       "      <td>2018</td>\n",
       "      <td>другой</td>\n",
       "      <td>20.00</td>\n",
       "    </tr>\n",
       "    <tr>\n",
       "      <th>7236</th>\n",
       "      <td>18,732.00</td>\n",
       "      <td>2</td>\n",
       "      <td>2.73</td>\n",
       "      <td>20,444.00</td>\n",
       "      <td>72.00</td>\n",
       "      <td>2019-01-10</td>\n",
       "      <td>12</td>\n",
       "      <td>35</td>\n",
       "      <td>False</td>\n",
       "      <td>11.00</td>\n",
       "      <td>4.60</td>\n",
       "      <td>15.00</td>\n",
       "      <td>санкт-петербург</td>\n",
       "      <td>False</td>\n",
       "      <td>0.00</td>\n",
       "      <td>NaN</td>\n",
       "      <td>3.00</td>\n",
       "      <td>80.00</td>\n",
       "      <td>1</td>\n",
       "      <td>False</td>\n",
       "      <td>42.00</td>\n",
       "      <td>10</td>\n",
       "      <td>0.11</td>\n",
       "      <td>3</td>\n",
       "      <td>1</td>\n",
       "      <td>2019</td>\n",
       "      <td>другой</td>\n",
       "      <td>20.00</td>\n",
       "    </tr>\n",
       "    <tr>\n",
       "      <th>8496</th>\n",
       "      <td>18,732.00</td>\n",
       "      <td>0</td>\n",
       "      <td>2.73</td>\n",
       "      <td>20,444.00</td>\n",
       "      <td>250.00</td>\n",
       "      <td>2017-05-18</td>\n",
       "      <td>27</td>\n",
       "      <td>35</td>\n",
       "      <td>False</td>\n",
       "      <td>23.10</td>\n",
       "      <td>7.50</td>\n",
       "      <td>28.00</td>\n",
       "      <td>санкт-петербург</td>\n",
       "      <td>False</td>\n",
       "      <td>0.00</td>\n",
       "      <td>NaN</td>\n",
       "      <td>3.00</td>\n",
       "      <td>80.00</td>\n",
       "      <td>3</td>\n",
       "      <td>False</td>\n",
       "      <td>73.30</td>\n",
       "      <td>20</td>\n",
       "      <td>0.10</td>\n",
       "      <td>3</td>\n",
       "      <td>5</td>\n",
       "      <td>2017</td>\n",
       "      <td>другой</td>\n",
       "      <td>20.00</td>\n",
       "    </tr>\n",
       "    <tr>\n",
       "      <th>9186</th>\n",
       "      <td>18,732.00</td>\n",
       "      <td>0</td>\n",
       "      <td>2.50</td>\n",
       "      <td>20,444.00</td>\n",
       "      <td>3.00</td>\n",
       "      <td>2019-04-12</td>\n",
       "      <td>3</td>\n",
       "      <td>35</td>\n",
       "      <td>False</td>\n",
       "      <td>7.00</td>\n",
       "      <td>6.50</td>\n",
       "      <td>31.00</td>\n",
       "      <td>санкт-петербург</td>\n",
       "      <td>False</td>\n",
       "      <td>0.00</td>\n",
       "      <td>NaN</td>\n",
       "      <td>3.00</td>\n",
       "      <td>80.00</td>\n",
       "      <td>1</td>\n",
       "      <td>False</td>\n",
       "      <td>49.10</td>\n",
       "      <td>7</td>\n",
       "      <td>0.13</td>\n",
       "      <td>4</td>\n",
       "      <td>4</td>\n",
       "      <td>2019</td>\n",
       "      <td>другой</td>\n",
       "      <td>20.00</td>\n",
       "    </tr>\n",
       "    <tr>\n",
       "      <th>9370</th>\n",
       "      <td>18,732.00</td>\n",
       "      <td>2</td>\n",
       "      <td>2.70</td>\n",
       "      <td>20,444.00</td>\n",
       "      <td>236.00</td>\n",
       "      <td>2017-02-21</td>\n",
       "      <td>3</td>\n",
       "      <td>35</td>\n",
       "      <td>False</td>\n",
       "      <td>23.00</td>\n",
       "      <td>7.39</td>\n",
       "      <td>28.00</td>\n",
       "      <td>санкт-петербург</td>\n",
       "      <td>False</td>\n",
       "      <td>0.00</td>\n",
       "      <td>NaN</td>\n",
       "      <td>3.00</td>\n",
       "      <td>80.00</td>\n",
       "      <td>2</td>\n",
       "      <td>False</td>\n",
       "      <td>70.00</td>\n",
       "      <td>12</td>\n",
       "      <td>0.11</td>\n",
       "      <td>1</td>\n",
       "      <td>2</td>\n",
       "      <td>2017</td>\n",
       "      <td>другой</td>\n",
       "      <td>20.00</td>\n",
       "    </tr>\n",
       "    <tr>\n",
       "      <th>9579</th>\n",
       "      <td>18,732.00</td>\n",
       "      <td>2</td>\n",
       "      <td>2.68</td>\n",
       "      <td>20,444.00</td>\n",
       "      <td>45.00</td>\n",
       "      <td>2019-02-01</td>\n",
       "      <td>17</td>\n",
       "      <td>35</td>\n",
       "      <td>False</td>\n",
       "      <td>6.19</td>\n",
       "      <td>3.45</td>\n",
       "      <td>16.00</td>\n",
       "      <td>санкт-петербург</td>\n",
       "      <td>False</td>\n",
       "      <td>0.00</td>\n",
       "      <td>NaN</td>\n",
       "      <td>3.00</td>\n",
       "      <td>80.00</td>\n",
       "      <td>0</td>\n",
       "      <td>True</td>\n",
       "      <td>24.80</td>\n",
       "      <td>9</td>\n",
       "      <td>0.14</td>\n",
       "      <td>4</td>\n",
       "      <td>2</td>\n",
       "      <td>2019</td>\n",
       "      <td>другой</td>\n",
       "      <td>20.00</td>\n",
       "    </tr>\n",
       "    <tr>\n",
       "      <th>11079</th>\n",
       "      <td>18,732.00</td>\n",
       "      <td>2</td>\n",
       "      <td>2.70</td>\n",
       "      <td>20,444.00</td>\n",
       "      <td>NaN</td>\n",
       "      <td>2019-02-22</td>\n",
       "      <td>29</td>\n",
       "      <td>36</td>\n",
       "      <td>False</td>\n",
       "      <td>12.00</td>\n",
       "      <td>9.20</td>\n",
       "      <td>40.00</td>\n",
       "      <td>санкт-петербург</td>\n",
       "      <td>False</td>\n",
       "      <td>0.00</td>\n",
       "      <td>NaN</td>\n",
       "      <td>3.00</td>\n",
       "      <td>80.00</td>\n",
       "      <td>2</td>\n",
       "      <td>False</td>\n",
       "      <td>75.00</td>\n",
       "      <td>16</td>\n",
       "      <td>0.12</td>\n",
       "      <td>4</td>\n",
       "      <td>2</td>\n",
       "      <td>2019</td>\n",
       "      <td>другой</td>\n",
       "      <td>20.00</td>\n",
       "    </tr>\n",
       "    <tr>\n",
       "      <th>11575</th>\n",
       "      <td>18,732.00</td>\n",
       "      <td>0</td>\n",
       "      <td>2.73</td>\n",
       "      <td>20,444.00</td>\n",
       "      <td>53.00</td>\n",
       "      <td>2016-04-28</td>\n",
       "      <td>32</td>\n",
       "      <td>33</td>\n",
       "      <td>False</td>\n",
       "      <td>21.00</td>\n",
       "      <td>9.90</td>\n",
       "      <td>53.00</td>\n",
       "      <td>санкт-петербург</td>\n",
       "      <td>False</td>\n",
       "      <td>0.00</td>\n",
       "      <td>NaN</td>\n",
       "      <td>3.00</td>\n",
       "      <td>80.00</td>\n",
       "      <td>3</td>\n",
       "      <td>False</td>\n",
       "      <td>101.00</td>\n",
       "      <td>9</td>\n",
       "      <td>0.10</td>\n",
       "      <td>3</td>\n",
       "      <td>4</td>\n",
       "      <td>2016</td>\n",
       "      <td>другой</td>\n",
       "      <td>20.00</td>\n",
       "    </tr>\n",
       "    <tr>\n",
       "      <th>12888</th>\n",
       "      <td>18,732.00</td>\n",
       "      <td>2</td>\n",
       "      <td>2.70</td>\n",
       "      <td>20,444.00</td>\n",
       "      <td>413.00</td>\n",
       "      <td>2016-11-18</td>\n",
       "      <td>27</td>\n",
       "      <td>35</td>\n",
       "      <td>False</td>\n",
       "      <td>23.10</td>\n",
       "      <td>7.60</td>\n",
       "      <td>36.50</td>\n",
       "      <td>санкт-петербург</td>\n",
       "      <td>False</td>\n",
       "      <td>0.00</td>\n",
       "      <td>NaN</td>\n",
       "      <td>3.00</td>\n",
       "      <td>80.00</td>\n",
       "      <td>3</td>\n",
       "      <td>False</td>\n",
       "      <td>70.00</td>\n",
       "      <td>7</td>\n",
       "      <td>0.11</td>\n",
       "      <td>4</td>\n",
       "      <td>11</td>\n",
       "      <td>2016</td>\n",
       "      <td>другой</td>\n",
       "      <td>20.00</td>\n",
       "    </tr>\n",
       "    <tr>\n",
       "      <th>12960</th>\n",
       "      <td>18,732.00</td>\n",
       "      <td>2</td>\n",
       "      <td>2.70</td>\n",
       "      <td>20,444.00</td>\n",
       "      <td>155.00</td>\n",
       "      <td>2018-10-09</td>\n",
       "      <td>13</td>\n",
       "      <td>35</td>\n",
       "      <td>False</td>\n",
       "      <td>19.10</td>\n",
       "      <td>6.14</td>\n",
       "      <td>26.60</td>\n",
       "      <td>санкт-петербург</td>\n",
       "      <td>False</td>\n",
       "      <td>0.00</td>\n",
       "      <td>NaN</td>\n",
       "      <td>3.00</td>\n",
       "      <td>80.00</td>\n",
       "      <td>2</td>\n",
       "      <td>False</td>\n",
       "      <td>54.00</td>\n",
       "      <td>20</td>\n",
       "      <td>0.11</td>\n",
       "      <td>1</td>\n",
       "      <td>10</td>\n",
       "      <td>2018</td>\n",
       "      <td>другой</td>\n",
       "      <td>20.00</td>\n",
       "    </tr>\n",
       "    <tr>\n",
       "      <th>13975</th>\n",
       "      <td>18,732.00</td>\n",
       "      <td>0</td>\n",
       "      <td>2.73</td>\n",
       "      <td>20,444.00</td>\n",
       "      <td>89.00</td>\n",
       "      <td>2018-10-06</td>\n",
       "      <td>23</td>\n",
       "      <td>35</td>\n",
       "      <td>False</td>\n",
       "      <td>8.90</td>\n",
       "      <td>6.99</td>\n",
       "      <td>32.10</td>\n",
       "      <td>санкт-петербург</td>\n",
       "      <td>False</td>\n",
       "      <td>0.00</td>\n",
       "      <td>NaN</td>\n",
       "      <td>3.00</td>\n",
       "      <td>80.00</td>\n",
       "      <td>2</td>\n",
       "      <td>False</td>\n",
       "      <td>65.00</td>\n",
       "      <td>19</td>\n",
       "      <td>0.11</td>\n",
       "      <td>5</td>\n",
       "      <td>10</td>\n",
       "      <td>2018</td>\n",
       "      <td>другой</td>\n",
       "      <td>20.00</td>\n",
       "    </tr>\n",
       "    <tr>\n",
       "      <th>14347</th>\n",
       "      <td>18,732.00</td>\n",
       "      <td>0</td>\n",
       "      <td>2.73</td>\n",
       "      <td>20,444.00</td>\n",
       "      <td>NaN</td>\n",
       "      <td>2018-09-26</td>\n",
       "      <td>26</td>\n",
       "      <td>35</td>\n",
       "      <td>False</td>\n",
       "      <td>23.30</td>\n",
       "      <td>8.60</td>\n",
       "      <td>27.40</td>\n",
       "      <td>санкт-петербург</td>\n",
       "      <td>False</td>\n",
       "      <td>0.00</td>\n",
       "      <td>NaN</td>\n",
       "      <td>3.00</td>\n",
       "      <td>80.00</td>\n",
       "      <td>2</td>\n",
       "      <td>False</td>\n",
       "      <td>69.70</td>\n",
       "      <td>14</td>\n",
       "      <td>0.12</td>\n",
       "      <td>2</td>\n",
       "      <td>9</td>\n",
       "      <td>2018</td>\n",
       "      <td>другой</td>\n",
       "      <td>20.00</td>\n",
       "    </tr>\n",
       "    <tr>\n",
       "      <th>15982</th>\n",
       "      <td>18,732.00</td>\n",
       "      <td>1</td>\n",
       "      <td>2.73</td>\n",
       "      <td>20,444.00</td>\n",
       "      <td>547.00</td>\n",
       "      <td>2015-03-01</td>\n",
       "      <td>9</td>\n",
       "      <td>35</td>\n",
       "      <td>False</td>\n",
       "      <td>10.00</td>\n",
       "      <td>5.90</td>\n",
       "      <td>34.00</td>\n",
       "      <td>санкт-петербург</td>\n",
       "      <td>False</td>\n",
       "      <td>0.00</td>\n",
       "      <td>NaN</td>\n",
       "      <td>3.00</td>\n",
       "      <td>80.00</td>\n",
       "      <td>2</td>\n",
       "      <td>False</td>\n",
       "      <td>62.00</td>\n",
       "      <td>1</td>\n",
       "      <td>0.10</td>\n",
       "      <td>6</td>\n",
       "      <td>3</td>\n",
       "      <td>2015</td>\n",
       "      <td>другой</td>\n",
       "      <td>20.00</td>\n",
       "    </tr>\n",
       "    <tr>\n",
       "      <th>16731</th>\n",
       "      <td>20,728.00</td>\n",
       "      <td>0</td>\n",
       "      <td>2.65</td>\n",
       "      <td>12,978.00</td>\n",
       "      <td>45.00</td>\n",
       "      <td>2018-09-24</td>\n",
       "      <td>18</td>\n",
       "      <td>52</td>\n",
       "      <td>False</td>\n",
       "      <td>14.00</td>\n",
       "      <td>3.98</td>\n",
       "      <td>10.50</td>\n",
       "      <td>санкт-петербург</td>\n",
       "      <td>False</td>\n",
       "      <td>1.00</td>\n",
       "      <td>793.00</td>\n",
       "      <td>0.00</td>\n",
       "      <td>NaN</td>\n",
       "      <td>1</td>\n",
       "      <td>False</td>\n",
       "      <td>40.00</td>\n",
       "      <td>9</td>\n",
       "      <td>0.10</td>\n",
       "      <td>0</td>\n",
       "      <td>9</td>\n",
       "      <td>2018</td>\n",
       "      <td>другой</td>\n",
       "      <td>13.00</td>\n",
       "    </tr>\n",
       "    <tr>\n",
       "      <th>16934</th>\n",
       "      <td>18,732.00</td>\n",
       "      <td>0</td>\n",
       "      <td>1.75</td>\n",
       "      <td>20,444.00</td>\n",
       "      <td>71.00</td>\n",
       "      <td>2017-10-17</td>\n",
       "      <td>5</td>\n",
       "      <td>37</td>\n",
       "      <td>False</td>\n",
       "      <td>8.34</td>\n",
       "      <td>4.10</td>\n",
       "      <td>17.40</td>\n",
       "      <td>санкт-петербург</td>\n",
       "      <td>False</td>\n",
       "      <td>0.00</td>\n",
       "      <td>NaN</td>\n",
       "      <td>3.00</td>\n",
       "      <td>80.00</td>\n",
       "      <td>1</td>\n",
       "      <td>False</td>\n",
       "      <td>40.00</td>\n",
       "      <td>5</td>\n",
       "      <td>0.10</td>\n",
       "      <td>1</td>\n",
       "      <td>10</td>\n",
       "      <td>2017</td>\n",
       "      <td>другой</td>\n",
       "      <td>20.00</td>\n",
       "    </tr>\n",
       "    <tr>\n",
       "      <th>18218</th>\n",
       "      <td>18,737.00</td>\n",
       "      <td>2</td>\n",
       "      <td>2.73</td>\n",
       "      <td>20,450.00</td>\n",
       "      <td>7.00</td>\n",
       "      <td>2018-09-27</td>\n",
       "      <td>33</td>\n",
       "      <td>35</td>\n",
       "      <td>False</td>\n",
       "      <td>13.70</td>\n",
       "      <td>9.90</td>\n",
       "      <td>53.40</td>\n",
       "      <td>санкт-петербург</td>\n",
       "      <td>False</td>\n",
       "      <td>0.00</td>\n",
       "      <td>NaN</td>\n",
       "      <td>3.00</td>\n",
       "      <td>72.00</td>\n",
       "      <td>3</td>\n",
       "      <td>False</td>\n",
       "      <td>101.00</td>\n",
       "      <td>4</td>\n",
       "      <td>0.10</td>\n",
       "      <td>3</td>\n",
       "      <td>9</td>\n",
       "      <td>2018</td>\n",
       "      <td>другой</td>\n",
       "      <td>20.00</td>\n",
       "    </tr>\n",
       "    <tr>\n",
       "      <th>18617</th>\n",
       "      <td>18,627.00</td>\n",
       "      <td>1</td>\n",
       "      <td>2.73</td>\n",
       "      <td>20,339.00</td>\n",
       "      <td>41.00</td>\n",
       "      <td>2017-10-09</td>\n",
       "      <td>3</td>\n",
       "      <td>35</td>\n",
       "      <td>False</td>\n",
       "      <td>23.00</td>\n",
       "      <td>7.35</td>\n",
       "      <td>27.00</td>\n",
       "      <td>санкт-петербург</td>\n",
       "      <td>False</td>\n",
       "      <td>1.00</td>\n",
       "      <td>609.00</td>\n",
       "      <td>3.00</td>\n",
       "      <td>145.00</td>\n",
       "      <td>2</td>\n",
       "      <td>False</td>\n",
       "      <td>68.50</td>\n",
       "      <td>8</td>\n",
       "      <td>0.11</td>\n",
       "      <td>0</td>\n",
       "      <td>10</td>\n",
       "      <td>2017</td>\n",
       "      <td>другой</td>\n",
       "      <td>20.00</td>\n",
       "    </tr>\n",
       "    <tr>\n",
       "      <th>18629</th>\n",
       "      <td>18,732.00</td>\n",
       "      <td>0</td>\n",
       "      <td>2.73</td>\n",
       "      <td>20,444.00</td>\n",
       "      <td>128.00</td>\n",
       "      <td>2017-12-08</td>\n",
       "      <td>31</td>\n",
       "      <td>35</td>\n",
       "      <td>False</td>\n",
       "      <td>18.00</td>\n",
       "      <td>5.70</td>\n",
       "      <td>21.00</td>\n",
       "      <td>санкт-петербург</td>\n",
       "      <td>False</td>\n",
       "      <td>0.00</td>\n",
       "      <td>NaN</td>\n",
       "      <td>3.00</td>\n",
       "      <td>80.00</td>\n",
       "      <td>1</td>\n",
       "      <td>False</td>\n",
       "      <td>54.00</td>\n",
       "      <td>20</td>\n",
       "      <td>0.11</td>\n",
       "      <td>4</td>\n",
       "      <td>12</td>\n",
       "      <td>2017</td>\n",
       "      <td>другой</td>\n",
       "      <td>20.00</td>\n",
       "    </tr>\n",
       "    <tr>\n",
       "      <th>20938</th>\n",
       "      <td>18,732.00</td>\n",
       "      <td>0</td>\n",
       "      <td>2.73</td>\n",
       "      <td>20,444.00</td>\n",
       "      <td>NaN</td>\n",
       "      <td>2019-04-08</td>\n",
       "      <td>22</td>\n",
       "      <td>35</td>\n",
       "      <td>False</td>\n",
       "      <td>13.40</td>\n",
       "      <td>9.90</td>\n",
       "      <td>53.40</td>\n",
       "      <td>санкт-петербург</td>\n",
       "      <td>False</td>\n",
       "      <td>0.00</td>\n",
       "      <td>NaN</td>\n",
       "      <td>3.00</td>\n",
       "      <td>80.00</td>\n",
       "      <td>3</td>\n",
       "      <td>False</td>\n",
       "      <td>100.90</td>\n",
       "      <td>18</td>\n",
       "      <td>0.10</td>\n",
       "      <td>0</td>\n",
       "      <td>4</td>\n",
       "      <td>2019</td>\n",
       "      <td>другой</td>\n",
       "      <td>20.00</td>\n",
       "    </tr>\n",
       "    <tr>\n",
       "      <th>21599</th>\n",
       "      <td>18,732.00</td>\n",
       "      <td>0</td>\n",
       "      <td>2.73</td>\n",
       "      <td>20,444.00</td>\n",
       "      <td>NaN</td>\n",
       "      <td>2017-08-27</td>\n",
       "      <td>13</td>\n",
       "      <td>35</td>\n",
       "      <td>False</td>\n",
       "      <td>19.00</td>\n",
       "      <td>6.20</td>\n",
       "      <td>27.00</td>\n",
       "      <td>санкт-петербург</td>\n",
       "      <td>False</td>\n",
       "      <td>0.00</td>\n",
       "      <td>NaN</td>\n",
       "      <td>3.00</td>\n",
       "      <td>80.00</td>\n",
       "      <td>2</td>\n",
       "      <td>False</td>\n",
       "      <td>51.00</td>\n",
       "      <td>12</td>\n",
       "      <td>0.12</td>\n",
       "      <td>6</td>\n",
       "      <td>8</td>\n",
       "      <td>2017</td>\n",
       "      <td>другой</td>\n",
       "      <td>20.00</td>\n",
       "    </tr>\n",
       "    <tr>\n",
       "      <th>21809</th>\n",
       "      <td>18,732.00</td>\n",
       "      <td>2</td>\n",
       "      <td>2.73</td>\n",
       "      <td>20,444.00</td>\n",
       "      <td>NaN</td>\n",
       "      <td>2019-04-16</td>\n",
       "      <td>11</td>\n",
       "      <td>35</td>\n",
       "      <td>False</td>\n",
       "      <td>14.00</td>\n",
       "      <td>10.60</td>\n",
       "      <td>39.00</td>\n",
       "      <td>санкт-петербург</td>\n",
       "      <td>False</td>\n",
       "      <td>0.00</td>\n",
       "      <td>NaN</td>\n",
       "      <td>3.00</td>\n",
       "      <td>80.00</td>\n",
       "      <td>2</td>\n",
       "      <td>False</td>\n",
       "      <td>77.00</td>\n",
       "      <td>20</td>\n",
       "      <td>0.14</td>\n",
       "      <td>1</td>\n",
       "      <td>4</td>\n",
       "      <td>2019</td>\n",
       "      <td>другой</td>\n",
       "      <td>20.00</td>\n",
       "    </tr>\n",
       "    <tr>\n",
       "      <th>22946</th>\n",
       "      <td>18,732.00</td>\n",
       "      <td>0</td>\n",
       "      <td>2.73</td>\n",
       "      <td>20,444.00</td>\n",
       "      <td>NaN</td>\n",
       "      <td>2018-03-27</td>\n",
       "      <td>8</td>\n",
       "      <td>35</td>\n",
       "      <td>False</td>\n",
       "      <td>15.00</td>\n",
       "      <td>7.69</td>\n",
       "      <td>40.00</td>\n",
       "      <td>санкт-петербург</td>\n",
       "      <td>False</td>\n",
       "      <td>0.00</td>\n",
       "      <td>NaN</td>\n",
       "      <td>3.00</td>\n",
       "      <td>80.00</td>\n",
       "      <td>2</td>\n",
       "      <td>False</td>\n",
       "      <td>75.00</td>\n",
       "      <td>14</td>\n",
       "      <td>0.10</td>\n",
       "      <td>1</td>\n",
       "      <td>3</td>\n",
       "      <td>2018</td>\n",
       "      <td>другой</td>\n",
       "      <td>20.00</td>\n",
       "    </tr>\n",
       "  </tbody>\n",
       "</table>\n",
       "</div>"
      ],
      "text/plain": [
       "       airports_nearest  balcony  ceiling_height  cityCenters_nearest  \\\n",
       "397           18,732.00        1            2.73            20,444.00   \n",
       "871           18,732.00        0            2.73            20,444.00   \n",
       "1060          18,732.00        2            2.73            20,444.00   \n",
       "1697          18,732.00        0            2.65            20,444.00   \n",
       "1917          18,732.00        0            2.80            20,444.00   \n",
       "2253          67,763.00        0            2.88            49,488.00   \n",
       "2966          18,732.00        0            2.73            20,444.00   \n",
       "4855          18,627.00        0            2.80            20,339.00   \n",
       "5749          18,732.00        2            2.80            20,444.00   \n",
       "5807          18,732.00        5            2.70            20,444.00   \n",
       "5808          18,732.00        0            2.73            20,444.00   \n",
       "7236          18,732.00        2            2.73            20,444.00   \n",
       "8496          18,732.00        0            2.73            20,444.00   \n",
       "9186          18,732.00        0            2.50            20,444.00   \n",
       "9370          18,732.00        2            2.70            20,444.00   \n",
       "9579          18,732.00        2            2.68            20,444.00   \n",
       "11079         18,732.00        2            2.70            20,444.00   \n",
       "11575         18,732.00        0            2.73            20,444.00   \n",
       "12888         18,732.00        2            2.70            20,444.00   \n",
       "12960         18,732.00        2            2.70            20,444.00   \n",
       "13975         18,732.00        0            2.73            20,444.00   \n",
       "14347         18,732.00        0            2.73            20,444.00   \n",
       "15982         18,732.00        1            2.73            20,444.00   \n",
       "16731         20,728.00        0            2.65            12,978.00   \n",
       "16934         18,732.00        0            1.75            20,444.00   \n",
       "18218         18,737.00        2            2.73            20,450.00   \n",
       "18617         18,627.00        1            2.73            20,339.00   \n",
       "18629         18,732.00        0            2.73            20,444.00   \n",
       "20938         18,732.00        0            2.73            20,444.00   \n",
       "21599         18,732.00        0            2.73            20,444.00   \n",
       "21809         18,732.00        2            2.73            20,444.00   \n",
       "22946         18,732.00        0            2.73            20,444.00   \n",
       "\n",
       "       days_exposition first_day_exposition  floor  floors_total  \\\n",
       "397              11.00           2018-03-22     28            36   \n",
       "871             169.00           2017-11-16     23            35   \n",
       "1060            281.00           2015-11-06     15            35   \n",
       "1697            410.00           2018-02-08     23            34   \n",
       "1917               NaN           2017-11-17     30            35   \n",
       "2253            166.00           2018-06-28      4            60   \n",
       "2966             50.00           2017-08-08     15            35   \n",
       "4855            537.00           2017-06-22      4            35   \n",
       "5749            198.00           2017-08-30     26            35   \n",
       "5807             38.00           2019-01-09     13            36   \n",
       "5808             82.00           2018-10-19     11            35   \n",
       "7236             72.00           2019-01-10     12            35   \n",
       "8496            250.00           2017-05-18     27            35   \n",
       "9186              3.00           2019-04-12      3            35   \n",
       "9370            236.00           2017-02-21      3            35   \n",
       "9579             45.00           2019-02-01     17            35   \n",
       "11079              NaN           2019-02-22     29            36   \n",
       "11575            53.00           2016-04-28     32            33   \n",
       "12888           413.00           2016-11-18     27            35   \n",
       "12960           155.00           2018-10-09     13            35   \n",
       "13975            89.00           2018-10-06     23            35   \n",
       "14347              NaN           2018-09-26     26            35   \n",
       "15982           547.00           2015-03-01      9            35   \n",
       "16731            45.00           2018-09-24     18            52   \n",
       "16934            71.00           2017-10-17      5            37   \n",
       "18218             7.00           2018-09-27     33            35   \n",
       "18617            41.00           2017-10-09      3            35   \n",
       "18629           128.00           2017-12-08     31            35   \n",
       "20938              NaN           2019-04-08     22            35   \n",
       "21599              NaN           2017-08-27     13            35   \n",
       "21809              NaN           2019-04-16     11            35   \n",
       "22946              NaN           2018-03-27      8            35   \n",
       "\n",
       "       is_apartment  kitchen_area  last_price  living_area    locality_name  \\\n",
       "397           False         18.70        5.99        21.40  санкт-петербург   \n",
       "871           False         11.70        7.78        40.50  санкт-петербург   \n",
       "1060          False         20.50        5.20        39.00  санкт-петербург   \n",
       "1697          False          6.19        3.55        18.00  санкт-петербург   \n",
       "1917          False         13.00       10.15        34.40  санкт-петербург   \n",
       "2253          False          7.40        3.80        27.40        кронштадт   \n",
       "2966          False         10.40        4.30        14.00  санкт-петербург   \n",
       "4855          False         13.00        5.50        22.00  санкт-петербург   \n",
       "5749          False          6.19        3.59        16.58  санкт-петербург   \n",
       "5807          False         12.00        8.15        41.00  санкт-петербург   \n",
       "5808          False         15.00        4.59        14.00  санкт-петербург   \n",
       "7236          False         11.00        4.60        15.00  санкт-петербург   \n",
       "8496          False         23.10        7.50        28.00  санкт-петербург   \n",
       "9186          False          7.00        6.50        31.00  санкт-петербург   \n",
       "9370          False         23.00        7.39        28.00  санкт-петербург   \n",
       "9579          False          6.19        3.45        16.00  санкт-петербург   \n",
       "11079         False         12.00        9.20        40.00  санкт-петербург   \n",
       "11575         False         21.00        9.90        53.00  санкт-петербург   \n",
       "12888         False         23.10        7.60        36.50  санкт-петербург   \n",
       "12960         False         19.10        6.14        26.60  санкт-петербург   \n",
       "13975         False          8.90        6.99        32.10  санкт-петербург   \n",
       "14347         False         23.30        8.60        27.40  санкт-петербург   \n",
       "15982         False         10.00        5.90        34.00  санкт-петербург   \n",
       "16731         False         14.00        3.98        10.50  санкт-петербург   \n",
       "16934         False          8.34        4.10        17.40  санкт-петербург   \n",
       "18218         False         13.70        9.90        53.40  санкт-петербург   \n",
       "18617         False         23.00        7.35        27.00  санкт-петербург   \n",
       "18629         False         18.00        5.70        21.00  санкт-петербург   \n",
       "20938         False         13.40        9.90        53.40  санкт-петербург   \n",
       "21599         False         19.00        6.20        27.00  санкт-петербург   \n",
       "21809         False         14.00       10.60        39.00  санкт-петербург   \n",
       "22946         False         15.00        7.69        40.00  санкт-петербург   \n",
       "\n",
       "       open_plan  parks_around3000  parks_nearest  ponds_around3000  \\\n",
       "397        False              0.00            NaN              3.00   \n",
       "871        False              0.00            NaN              3.00   \n",
       "1060       False              0.00            NaN              3.00   \n",
       "1697       False              0.00            NaN              3.00   \n",
       "1917       False              0.00            NaN              3.00   \n",
       "2253       False              2.00         342.00              3.00   \n",
       "2966       False              0.00            NaN              3.00   \n",
       "4855       False              1.00         609.00              3.00   \n",
       "5749        True              0.00            NaN              3.00   \n",
       "5807       False              0.00            NaN              3.00   \n",
       "5808       False              0.00            NaN              3.00   \n",
       "7236       False              0.00            NaN              3.00   \n",
       "8496       False              0.00            NaN              3.00   \n",
       "9186       False              0.00            NaN              3.00   \n",
       "9370       False              0.00            NaN              3.00   \n",
       "9579       False              0.00            NaN              3.00   \n",
       "11079      False              0.00            NaN              3.00   \n",
       "11575      False              0.00            NaN              3.00   \n",
       "12888      False              0.00            NaN              3.00   \n",
       "12960      False              0.00            NaN              3.00   \n",
       "13975      False              0.00            NaN              3.00   \n",
       "14347      False              0.00            NaN              3.00   \n",
       "15982      False              0.00            NaN              3.00   \n",
       "16731      False              1.00         793.00              0.00   \n",
       "16934      False              0.00            NaN              3.00   \n",
       "18218      False              0.00            NaN              3.00   \n",
       "18617      False              1.00         609.00              3.00   \n",
       "18629      False              0.00            NaN              3.00   \n",
       "20938      False              0.00            NaN              3.00   \n",
       "21599      False              0.00            NaN              3.00   \n",
       "21809      False              0.00            NaN              3.00   \n",
       "22946      False              0.00            NaN              3.00   \n",
       "\n",
       "       ponds_nearest  rooms  studio  total_area  total_images  price_m2  \\\n",
       "397            80.00      2   False       54.00            15      0.11   \n",
       "871            80.00      2   False       75.00            14      0.10   \n",
       "1060           80.00      2   False       50.00            10      0.10   \n",
       "1697           80.00      1   False       28.00            11      0.13   \n",
       "1917           80.00      2   False       74.00            13      0.14   \n",
       "2253          614.00      2   False       45.50            12      0.08   \n",
       "2966           80.00      1   False       37.00             9      0.12   \n",
       "4855          145.00      1   False       50.00            12      0.11   \n",
       "5749           80.00      0   False       25.00            20      0.14   \n",
       "5807           80.00      2   False       80.00            17      0.10   \n",
       "5808           80.00      1   False       43.00            12      0.11   \n",
       "7236           80.00      1   False       42.00            10      0.11   \n",
       "8496           80.00      3   False       73.30            20      0.10   \n",
       "9186           80.00      1   False       49.10             7      0.13   \n",
       "9370           80.00      2   False       70.00            12      0.11   \n",
       "9579           80.00      0    True       24.80             9      0.14   \n",
       "11079          80.00      2   False       75.00            16      0.12   \n",
       "11575          80.00      3   False      101.00             9      0.10   \n",
       "12888          80.00      3   False       70.00             7      0.11   \n",
       "12960          80.00      2   False       54.00            20      0.11   \n",
       "13975          80.00      2   False       65.00            19      0.11   \n",
       "14347          80.00      2   False       69.70            14      0.12   \n",
       "15982          80.00      2   False       62.00             1      0.10   \n",
       "16731            NaN      1   False       40.00             9      0.10   \n",
       "16934          80.00      1   False       40.00             5      0.10   \n",
       "18218          72.00      3   False      101.00             4      0.10   \n",
       "18617         145.00      2   False       68.50             8      0.11   \n",
       "18629          80.00      1   False       54.00            20      0.11   \n",
       "20938          80.00      3   False      100.90            18      0.10   \n",
       "21599          80.00      2   False       51.00            12      0.12   \n",
       "21809          80.00      2   False       77.00            20      0.14   \n",
       "22946          80.00      2   False       75.00            14      0.10   \n",
       "\n",
       "       first_day_exposition_sign  month_exposition  year_exposition  \\\n",
       "397                            3                 3             2018   \n",
       "871                            3                11             2017   \n",
       "1060                           4                11             2015   \n",
       "1697                           3                 2             2018   \n",
       "1917                           4                11             2017   \n",
       "2253                           3                 6             2018   \n",
       "2966                           1                 8             2017   \n",
       "4855                           3                 6             2017   \n",
       "5749                           2                 8             2017   \n",
       "5807                           2                 1             2019   \n",
       "5808                           4                10             2018   \n",
       "7236                           3                 1             2019   \n",
       "8496                           3                 5             2017   \n",
       "9186                           4                 4             2019   \n",
       "9370                           1                 2             2017   \n",
       "9579                           4                 2             2019   \n",
       "11079                          4                 2             2019   \n",
       "11575                          3                 4             2016   \n",
       "12888                          4                11             2016   \n",
       "12960                          1                10             2018   \n",
       "13975                          5                10             2018   \n",
       "14347                          2                 9             2018   \n",
       "15982                          6                 3             2015   \n",
       "16731                          0                 9             2018   \n",
       "16934                          1                10             2017   \n",
       "18218                          3                 9             2018   \n",
       "18617                          0                10             2017   \n",
       "18629                          4                12             2017   \n",
       "20938                          0                 4             2019   \n",
       "21599                          6                 8             2017   \n",
       "21809                          1                 4             2019   \n",
       "22946                          1                 3             2018   \n",
       "\n",
       "      floor_type  cityCenters_km  \n",
       "397       другой           20.00  \n",
       "871       другой           20.00  \n",
       "1060      другой           20.00  \n",
       "1697      другой           20.00  \n",
       "1917      другой           20.00  \n",
       "2253      другой           49.00  \n",
       "2966      другой           20.00  \n",
       "4855      другой           20.00  \n",
       "5749      другой           20.00  \n",
       "5807      другой           20.00  \n",
       "5808      другой           20.00  \n",
       "7236      другой           20.00  \n",
       "8496      другой           20.00  \n",
       "9186      другой           20.00  \n",
       "9370      другой           20.00  \n",
       "9579      другой           20.00  \n",
       "11079     другой           20.00  \n",
       "11575     другой           20.00  \n",
       "12888     другой           20.00  \n",
       "12960     другой           20.00  \n",
       "13975     другой           20.00  \n",
       "14347     другой           20.00  \n",
       "15982     другой           20.00  \n",
       "16731     другой           13.00  \n",
       "16934     другой           20.00  \n",
       "18218     другой           20.00  \n",
       "18617     другой           20.00  \n",
       "18629     другой           20.00  \n",
       "20938     другой           20.00  \n",
       "21599     другой           20.00  \n",
       "21809     другой           20.00  \n",
       "22946     другой           20.00  "
      ]
     },
     "execution_count": 41,
     "metadata": {},
     "output_type": "execute_result"
    }
   ],
   "source": [
    "data[data['floors_total']>30]"
   ]
  },
  {
   "cell_type": "markdown",
   "metadata": {},
   "source": [
    "The histogram shows that the majority of apartments are in buildings with historically popular floor counts: 5, 9, 16, and 25 floors. Outliers include a building with 60 floors in Kronstadt, which is clearly erroneous, and 52 floors in St. Petersburg (there are no such tall residential buildings in St. Petersburg, especially with apartments priced at 4 million rubles). We will correct these values to 6 and 25 floors, respectively, while leaving the rest without comments."
   ]
  },
  {
   "cell_type": "code",
   "execution_count": 42,
   "metadata": {},
   "outputs": [
    {
     "data": {
      "text/plain": [
       "count   22,459.00\n",
       "mean        10.78\n",
       "std          6.62\n",
       "min          1.00\n",
       "25%          5.00\n",
       "50%          9.00\n",
       "75%         16.00\n",
       "max         37.00\n",
       "Name: floors_total, dtype: float64"
      ]
     },
     "metadata": {},
     "output_type": "display_data"
    },
    {
     "data": {
      "image/png": "[encoded data removed]",
      "text/plain": [
       "<Figure size 432x216 with 1 Axes>"
      ]
     },
     "metadata": {
      "needs_background": "light"
     },
     "output_type": "display_data"
    }
   ],
   "source": [
    "data.loc[data['floors_total']==60, 'floors_total'] = 6\n",
    "data.loc[data['floors_total']==52, 'floors_total'] = 25\n",
    "\n",
    "display(data['floors_total'].describe())\n",
    "\n",
    "#выведем распределение еще раз\n",
    "plt.figure(figsize=[6, 3])\n",
    "plt.hist(data['floors_total'],bins=35)\n",
    "plt.title('Distribution by total number of floors')\n",
    "plt.show()"
   ]
  },
  {
   "cell_type": "markdown",
   "metadata": {},
   "source": [
    "Let's take a look at the data on **the distance to the city center in meters**:"
   ]
  },
  {
   "cell_type": "code",
   "execution_count": 43,
   "metadata": {},
   "outputs": [
    {
     "data": {
      "text/plain": [
       "count   16,985.00\n",
       "mean    14,620.74\n",
       "std      8,511.90\n",
       "min        208.00\n",
       "25%     10,085.00\n",
       "50%     13,354.00\n",
       "75%     16,518.00\n",
       "max     65,968.00\n",
       "Name: cityCenters_nearest, dtype: float64"
      ]
     },
     "metadata": {},
     "output_type": "display_data"
    },
    {
     "data": {
      "image/png": "[encoded data removed]",
      "text/plain": [
       "<Figure size 432x216 with 1 Axes>"
      ]
     },
     "metadata": {
      "needs_background": "light"
     },
     "output_type": "display_data"
    }
   ],
   "source": [
    "display(data['cityCenters_nearest'].describe())\n",
    "\n",
    "#Построим гистограмму \n",
    "plt.figure(figsize=[6, 3])\n",
    "\n",
    "plt.hist(data['cityCenters_nearest'],bins=30)\n",
    "plt.title('Distribution by distance to the city center:')\n",
    "\n",
    "plt.show()"
   ]
  },
  {
   "cell_type": "markdown",
   "metadata": {},
   "source": [
    "There are no significant outliers; most apartments (over 75%) are located within 20 km of the city center.  \n",
    "It is necessary to check with colleagues and clarify/retrieve the values for this parameter, as data is missing for 23% of the apartments."
   ]
  },
  {
   "cell_type": "markdown",
   "metadata": {},
   "source": [
    "Let's take a look at the data on **the distance to the nearest park** in meters:"
   ]
  },
  {
   "cell_type": "code",
   "execution_count": 44,
   "metadata": {},
   "outputs": [
    {
     "data": {
      "text/plain": [
       "count   7,278.00\n",
       "mean      494.98\n",
       "std       343.78\n",
       "min         1.00\n",
       "25%       289.00\n",
       "50%       458.00\n",
       "75%       617.00\n",
       "max     3,190.00\n",
       "Name: parks_nearest, dtype: float64"
      ]
     },
     "metadata": {},
     "output_type": "display_data"
    },
    {
     "data": {
      "image/png": "[encoded data removed]",
      "text/plain": [
       "<Figure size 432x216 with 1 Axes>"
      ]
     },
     "metadata": {
      "needs_background": "light"
     },
     "output_type": "display_data"
    }
   ],
   "source": [
    "display(data['parks_nearest'].describe())\n",
    "\n",
    "#Построим гистограмму \n",
    "plt.figure(figsize=[6, 3])\n",
    "\n",
    "plt.hist(data['parks_nearest'],bins=30)\n",
    "plt.title('Distribution by the distance to the nearest park:')\n",
    "\n",
    "plt.show()"
   ]
  },
  {
   "cell_type": "markdown",
   "metadata": {},
   "source": [
    "There are no significant outliers; most apartments (over 75%) are located within 600 meters of the nearest park. The maximum distance is 3.2 km, which may characterize the city and its surroundings as a fairly \"green\" area. It is important to note that the data on this parameter is very limited, with information available for only 34% of apartments—it's necessary to check with colleagues and clarify/download the values for this parameter."
   ]
  },
  {
   "cell_type": "markdown",
   "metadata": {},
   "source": [
    "**Conclusion**:\n",
    "\n",
    "The total area in our sample ranges from 12 to 900 m², with a mean of 60 m² and a median of 52 m². The data distribution follows a Poisson distribution. The majority of apartments have an area between 20 and 70 m², while the outliers consist of several hundred apartments with particularly large areas (over 100 m²)—these have been identified and excluded from the dataset (the main sample remained intact, with the exclusion comprising about 5%).\n",
    "\n",
    "The living area is distributed similarly to the total area, ranging from 18 to 42 m², with significant outliers corresponding to larger apartments. The kitchen areas also correspond to this group, ranging from 7 to 12 m².\n",
    "\n",
    "Real estate prices have a mean value of 6.5 million rubles, a median of 4.6 million rubles, and 75% are priced up to 7 million rubles. Significant outliers have been identified and excluded for more accurate analysis and forecasting, with the volume of excluded data amounting to about 5%, which is acceptable.\n",
    "\n",
    "The number of rooms, after cleaning the data regarding area and price parameters, ranges from 1 to 7. There are mostly one- and two-room apartments, with erroneous outliers reporting 0 rooms—these are likely studios or one-room apartments. If necessary, to avoid excluding these outliers, they can be adjusted according to similar apartments with total areas.\n",
    "\n",
    "The average ceiling height is 2.77 m, with a median of 2.65 m. The outliers have been corrected—more significant values correspond to premium segment apartments (ceilings from 5 to 6 meters).\n",
    "\n",
    "Regarding floor types, 25% of the apartments in listings are extreme options—first and last floors—which is unusual but may reflect market specifics: these options differ in quality from intermediate floors and are therefore more frequently listed. The most common total floor counts are for buildings from historically popular construction—5, 9, 16, and 25 floors.\n",
    "\n",
    "The apartments are unevenly distributed concerning their distance to the city center, with the overwhelming majority located within 20 km. The average distance to the nearest park is 500 m (it is important to note that the subsample regarding parks is quite small—there are many missing data).\n",
    "\n",
    "All data contain inadequate values, such as 0 rooms, ceiling heights of 1 or 100 meters, and an apartment priced at 12,190 rubles. For these inadequate values, it is better to consult with the employees who provided us with the data sample. For the overall study of the data, we will not remove these outlier values."
   ]
  },
  {
   "cell_type": "markdown",
   "metadata": {},
   "source": [
    "### Analysis of apartment sales speed"
   ]
  },
  {
   "cell_type": "markdown",
   "metadata": {},
   "source": [
    "Let's build a histogram and clarify the mean and median for the column representing the number of days an apartment listing has been active:"
   ]
  },
  {
   "cell_type": "code",
   "execution_count": 45,
   "metadata": {},
   "outputs": [
    {
     "data": {
      "text/plain": [
       "count   19,594.00\n",
       "mean       175.08\n",
       "std        213.10\n",
       "min          1.00\n",
       "25%         44.00\n",
       "50%         92.00\n",
       "75%        223.00\n",
       "max      1,580.00\n",
       "Name: days_exposition, dtype: float64"
      ]
     },
     "metadata": {},
     "output_type": "display_data"
    },
    {
     "data": {
      "image/png": "[encoded data removed]",
      "text/plain": [
       "<Figure size 216x216 with 1 Axes>"
      ]
     },
     "metadata": {
      "needs_background": "light"
     },
     "output_type": "display_data"
    },
    {
     "data": {
      "image/png": "[encoded data removed]",
      "text/plain": [
       "<Figure size 648x216 with 2 Axes>"
      ]
     },
     "metadata": {
      "needs_background": "light"
     },
     "output_type": "display_data"
    },
    {
     "name": "stdout",
     "output_type": "stream",
     "text": [
      "Медиана по количеству дней: 92\n",
      "Среднее по количеству дней: 175\n"
     ]
    }
   ],
   "source": [
    "# look at the general characteristics of the dataset regarding the listing days\n",
    "display(data['days_exposition'].describe())\n",
    " \n",
    "# create a boxplot to evaluate the outliers\n",
    "plt.figure(figsize=[3, 3])\n",
    "plt.boxplot(data[~data['days_exposition'].isna()]['days_exposition'])\n",
    "\n",
    "# plot a histogram \n",
    "plt.figure(figsize=[9, 3])\n",
    "\n",
    "plt.subplot(1,3,1)\n",
    "plt.hist(data['days_exposition'],bins=100)\n",
    "plt.title('Distribution of the number of days')\n",
    "\n",
    "# create a separate histogram excluding outliers based on the duration\n",
    "plt.subplot(1,3,(2,3))\n",
    "plt.hist(data['days_exposition'],bins=100,range=(0,100))\n",
    "plt.title('Distribution of the number of days without outliers')\n",
    "\n",
    "plt.show()\n",
    "\n",
    "print('Median of the number of days:',round(data['days_exposition'].median()))\n",
    "print('Mean of the number of days:', round(data['days_exposition'].mean()))"
   ]
  },
  {
   "cell_type": "markdown",
   "metadata": {},
   "source": [
    "**Conclusion**\n",
    "\n",
    "According to the histogram, we have a Poisson distribution. The average value is 181 days, while the median is 95 days. By creating a histogram with values from 0 to 100 days and 100 bins, we identified outliers at 45, 60, 7, 30, and 90 days—these are the most common durations before an advertisement is removed.\n",
    "\n",
    "According to open sources regarding the rules for posting ads on Yandex Realty, it turns out that after these periods, the ad is considered outdated and is automatically removed (https://yandex.ru/support/realty/owner/home/add-ads-housing.html). It would be better to remove these values from the sample.\n",
    "\n",
    "We also need to clarify which number of days should be considered normal and which should be considered outliers at this moment before data cleaning. Based on the describe method, the interquartile range is from 45 to 232 days, while the boxplot method shows that our range extends from the minimum value to about 500 days. Therefore, we do not have unjustifiably short durations, while durations of 500 days and above are considered unjustifiably long. Thus, normal values lie between 1 and 500 days. Additionally, it is worth noting that after removing the outliers at 45, 60, 7, 30, and 90 days, the normal duration may be adjusted."
   ]
  },
  {
   "cell_type": "markdown",
   "metadata": {},
   "source": [
    "### Let’s identify the factors that most influence the overall property price."
   ]
  },
  {
   "cell_type": "markdown",
   "metadata": {},
   "source": [
    "Let’s build a correlation matrix for the price based on the area (total, living, kitchen), number of rooms, floor, and listing date (day, month, year)."
   ]
  },
  {
   "cell_type": "code",
   "execution_count": 46,
   "metadata": {},
   "outputs": [
    {
     "name": "stdout",
     "output_type": "stream",
     "text": [
      "Коэффициент корреляции цены с total_area: 0.68\n"
     ]
    },
    {
     "data": {
      "image/png": "[encoded data removed]",
      "text/plain": [
       "<Figure size 360x216 with 1 Axes>"
      ]
     },
     "metadata": {
      "needs_background": "light"
     },
     "output_type": "display_data"
    },
    {
     "name": "stdout",
     "output_type": "stream",
     "text": [
      "Коэффициент корреляции цены с living_area: 0.56\n"
     ]
    },
    {
     "data": {
      "image/png": "[encoded data removed]",
      "text/plain": [
       "<Figure size 360x216 with 1 Axes>"
      ]
     },
     "metadata": {
      "needs_background": "light"
     },
     "output_type": "display_data"
    },
    {
     "name": "stdout",
     "output_type": "stream",
     "text": [
      "Коэффициент корреляции цены с kitchen_area: 0.53\n"
     ]
    },
    {
     "data": {
      "image/png": "[encoded data removed]",
      "text/plain": [
       "<Figure size 360x216 with 1 Axes>"
      ]
     },
     "metadata": {
      "needs_background": "light"
     },
     "output_type": "display_data"
    },
    {
     "name": "stdout",
     "output_type": "stream",
     "text": [
      "График зависимости цены с rooms:\n"
     ]
    },
    {
     "data": {
      "image/png": "[encoded data removed]",
      "text/plain": [
       "<Figure size 360x216 with 1 Axes>"
      ]
     },
     "metadata": {
      "needs_background": "light"
     },
     "output_type": "display_data"
    },
    {
     "name": "stdout",
     "output_type": "stream",
     "text": [
      "График зависимости цены с floor_type:\n"
     ]
    },
    {
     "data": {
      "image/png": "[encoded data removed]",
      "text/plain": [
       "<Figure size 360x216 with 1 Axes>"
      ]
     },
     "metadata": {
      "needs_background": "light"
     },
     "output_type": "display_data"
    },
    {
     "name": "stdout",
     "output_type": "stream",
     "text": [
      "График зависимости цены с first_day_exposition_sign:\n"
     ]
    },
    {
     "data": {
      "image/png": "[encoded data removed]",
      "text/plain": [
       "<Figure size 360x216 with 1 Axes>"
      ]
     },
     "metadata": {
      "needs_background": "light"
     },
     "output_type": "display_data"
    },
    {
     "name": "stdout",
     "output_type": "stream",
     "text": [
      "График зависимости цены с month_exposition:\n"
     ]
    },
    {
     "data": {
      "image/png": "[encoded data removed]",
      "text/plain": [
       "<Figure size 360x216 with 1 Axes>"
      ]
     },
     "metadata": {
      "needs_background": "light"
     },
     "output_type": "display_data"
    },
    {
     "name": "stdout",
     "output_type": "stream",
     "text": [
      "График зависимости цены с year_exposition:\n"
     ]
    },
    {
     "data": {
      "image/png": "[encoded data removed]",
      "text/plain": [
       "<Figure size 360x216 with 1 Axes>"
      ]
     },
     "metadata": {
      "needs_background": "light"
     },
     "output_type": "display_data"
    }
   ],
   "source": [
    "# select the needed columns into a separate table\n",
    "data_price = data.loc[:,['last_price','total_area','living_area','kitchen_area','rooms','floor_type','first_day_exposition_sign','month_exposition','year_exposition']]\n",
    "\n",
    "# сonvert the string labels for categories in the 'floor_type' column to numeric for running the Pearson coefficient calculation function\n",
    "data_price.loc[(data_price['floor_type']=='первый'), 'floor_type'] = 0\n",
    "data_price.loc[(data_price['floor_type']=='другой'), 'floor_type'] = 1\n",
    "data_price.loc[(data_price['floor_type']=='последний'), 'floor_type'] = 2\n",
    "data_price.loc[:,'floor_type'] = data_price.loc[:,'floor_type'].astype(np.int64)\n",
    "\n",
    "\n",
    "for column in data_price:\n",
    "    # аor quantitative parameters, we will create a plot with points and a trend line\n",
    "    if column in ['total_area','living_area','kitchen_area']:\n",
    "        print(f'Коэффициент корреляции цены с {column}: {data[\"last_price\"].corr(data_price[column]):.2}')\n",
    "        x = data_price[column]\n",
    "        y = data_price['last_price']\n",
    "        plt.figure(figsize=[5, 3])\n",
    "        plt.scatter(x, y)\n",
    "        z = np.polyfit(x, y,1)\n",
    "        p = np.poly1d(z)\n",
    "        plt.plot(x, p(x),'r')\n",
    "        plt.show()\n",
    "\n",
    "    # for categorical parameters, we will create a plot with a line by medians of corresponding values\n",
    "    elif column in ['rooms','floor_type','first_day_exposition_sign','month_exposition','year_exposition']:\n",
    "        print(f'Price dependence plot with {column}:')\n",
    "        pivot_table_ = data_price.pivot_table(index = column, values = 'last_price', aggfunc = ['count', 'median'])\n",
    "        pivot_table_.columns = ['count', 'median']\n",
    "\n",
    "        plt.figure(figsize=[5, 3])\n",
    "        plt.plot(pivot_table_['median'])\n",
    "        plt.xlabel(column)\n",
    "        plt.ylabel('цена')\n",
    "        plt.show()"
   ]
  },
  {
   "cell_type": "markdown",
   "metadata": {},
   "source": [
    "**Conclusion**\n",
    "\n",
    "For the first three parameters (total area, living area, and kitchen area), we can confirm their connection with price (correlation coefficients are 0.65-0.48 respectively). This is natural, as the size of an apartment is one of the most important factors in determining its cost (although the coefficient indicates that it is not the only factor).\n",
    "\n",
    "The relationship with the number of rooms is also positive but weak (0.36), which can be indirectly linked to the area — the more rooms there are, the larger the area tends to be, and in such cases, the connection between price and area plays a bigger role than the direct relation to the number of rooms. An outlier on the graph was formed by one very expensive apartment with 12 rooms.\n",
    "\n",
    "For floor type (with minimal categorization), the relationship is weak (0.05), but it's worth noting that top floors are more valued compared to bottom ones (likely due to the view), while all intermediate floors have advantages of both extreme options without their disadvantages (apartments on floors 20-24 in a 25-story building also offer good views but do not carry the risks associated with roof leaks or unauthorized access to attics).\n",
    "\n",
    "There is no correlation between price and the day, month, and year when the listing was posted. However, we observe that listings posted on Tuesdays and in April had higher prices compared to those posted on Sundays and in June. The advertised prices decreased from 2014 to 2016 and started rising again from 2018 to 2019. Therefore, these factors are likely statistically insignificant or have a nonlinear relationship."
   ]
  },
  {
   "cell_type": "markdown",
   "metadata": {},
   "source": [
    "### Calculation and analysis of the average price per square meter in the Top 10 populated areas with the highest number of listings"
   ]
  },
  {
   "cell_type": "code",
   "execution_count": 47,
   "metadata": {},
   "outputs": [
    {
     "name": "stdout",
     "output_type": "stream",
     "text": [
      "Топ-10 населенных пунктов по стоимости 1м2 в Санкт-Петербурге и Ленинградской области:\n"
     ]
    },
    {
     "data": {
      "text/html": [
       "<div>\n",
       "<style scoped>\n",
       "    .dataframe tbody tr th:only-of-type {\n",
       "        vertical-align: middle;\n",
       "    }\n",
       "\n",
       "    .dataframe tbody tr th {\n",
       "        vertical-align: top;\n",
       "    }\n",
       "\n",
       "    .dataframe thead th {\n",
       "        text-align: right;\n",
       "    }\n",
       "</style>\n",
       "<table border=\"1\" class=\"dataframe\">\n",
       "  <thead>\n",
       "    <tr style=\"text-align: right;\">\n",
       "      <th></th>\n",
       "      <th>count</th>\n",
       "      <th>mean</th>\n",
       "    </tr>\n",
       "    <tr>\n",
       "      <th>locality_name</th>\n",
       "      <th></th>\n",
       "      <th></th>\n",
       "    </tr>\n",
       "  </thead>\n",
       "  <tbody>\n",
       "    <tr>\n",
       "      <th>санкт-петербург</th>\n",
       "      <td>14579</td>\n",
       "      <td>110,737.49</td>\n",
       "    </tr>\n",
       "    <tr>\n",
       "      <th>мурино</th>\n",
       "      <td>590</td>\n",
       "      <td>86,087.59</td>\n",
       "    </tr>\n",
       "    <tr>\n",
       "      <th>кудрово</th>\n",
       "      <td>471</td>\n",
       "      <td>95,290.68</td>\n",
       "    </tr>\n",
       "    <tr>\n",
       "      <th>шушары</th>\n",
       "      <td>437</td>\n",
       "      <td>78,705.15</td>\n",
       "    </tr>\n",
       "    <tr>\n",
       "      <th>всеволожск</th>\n",
       "      <td>395</td>\n",
       "      <td>68,673.54</td>\n",
       "    </tr>\n",
       "    <tr>\n",
       "      <th>пушкин</th>\n",
       "      <td>347</td>\n",
       "      <td>101,960.37</td>\n",
       "    </tr>\n",
       "    <tr>\n",
       "      <th>колпино</th>\n",
       "      <td>336</td>\n",
       "      <td>75,369.94</td>\n",
       "    </tr>\n",
       "    <tr>\n",
       "      <th>парголово</th>\n",
       "      <td>326</td>\n",
       "      <td>90,332.55</td>\n",
       "    </tr>\n",
       "    <tr>\n",
       "      <th>гатчина</th>\n",
       "      <td>304</td>\n",
       "      <td>68,919.61</td>\n",
       "    </tr>\n",
       "    <tr>\n",
       "      <th>выборг</th>\n",
       "      <td>228</td>\n",
       "      <td>58,225.66</td>\n",
       "    </tr>\n",
       "  </tbody>\n",
       "</table>\n",
       "</div>"
      ],
      "text/plain": [
       "                 count       mean\n",
       "locality_name                    \n",
       "санкт-петербург  14579 110,737.49\n",
       "мурино             590  86,087.59\n",
       "кудрово            471  95,290.68\n",
       "шушары             437  78,705.15\n",
       "всеволожск         395  68,673.54\n",
       "пушкин             347 101,960.37\n",
       "колпино            336  75,369.94\n",
       "парголово          326  90,332.55\n",
       "гатчина            304  68,919.61\n",
       "выборг             228  58,225.66"
      ]
     },
     "metadata": {},
     "output_type": "display_data"
    },
    {
     "name": "stdout",
     "output_type": "stream",
     "text": [
      "Самый дорогой м2 жилья находится в:\n"
     ]
    },
    {
     "data": {
      "text/html": [
       "<div>\n",
       "<style scoped>\n",
       "    .dataframe tbody tr th:only-of-type {\n",
       "        vertical-align: middle;\n",
       "    }\n",
       "\n",
       "    .dataframe tbody tr th {\n",
       "        vertical-align: top;\n",
       "    }\n",
       "\n",
       "    .dataframe thead th {\n",
       "        text-align: right;\n",
       "    }\n",
       "</style>\n",
       "<table border=\"1\" class=\"dataframe\">\n",
       "  <thead>\n",
       "    <tr style=\"text-align: right;\">\n",
       "      <th></th>\n",
       "      <th>count</th>\n",
       "      <th>mean</th>\n",
       "    </tr>\n",
       "    <tr>\n",
       "      <th>locality_name</th>\n",
       "      <th></th>\n",
       "      <th></th>\n",
       "    </tr>\n",
       "  </thead>\n",
       "  <tbody>\n",
       "    <tr>\n",
       "      <th>санкт-петербург</th>\n",
       "      <td>14579</td>\n",
       "      <td>110,737.49</td>\n",
       "    </tr>\n",
       "  </tbody>\n",
       "</table>\n",
       "</div>"
      ],
      "text/plain": [
       "                 count       mean\n",
       "locality_name                    \n",
       "санкт-петербург  14579 110,737.49"
      ]
     },
     "metadata": {},
     "output_type": "display_data"
    },
    {
     "name": "stdout",
     "output_type": "stream",
     "text": [
      "Самый дешевый м2 жилья находится в:\n"
     ]
    },
    {
     "data": {
      "text/html": [
       "<div>\n",
       "<style scoped>\n",
       "    .dataframe tbody tr th:only-of-type {\n",
       "        vertical-align: middle;\n",
       "    }\n",
       "\n",
       "    .dataframe tbody tr th {\n",
       "        vertical-align: top;\n",
       "    }\n",
       "\n",
       "    .dataframe thead th {\n",
       "        text-align: right;\n",
       "    }\n",
       "</style>\n",
       "<table border=\"1\" class=\"dataframe\">\n",
       "  <thead>\n",
       "    <tr style=\"text-align: right;\">\n",
       "      <th></th>\n",
       "      <th>count</th>\n",
       "      <th>mean</th>\n",
       "    </tr>\n",
       "    <tr>\n",
       "      <th>locality_name</th>\n",
       "      <th></th>\n",
       "      <th></th>\n",
       "    </tr>\n",
       "  </thead>\n",
       "  <tbody>\n",
       "    <tr>\n",
       "      <th>выборг</th>\n",
       "      <td>228</td>\n",
       "      <td>58,225.66</td>\n",
       "    </tr>\n",
       "  </tbody>\n",
       "</table>\n",
       "</div>"
      ],
      "text/plain": [
       "               count      mean\n",
       "locality_name                 \n",
       "выборг           228 58,225.66"
      ]
     },
     "metadata": {},
     "output_type": "display_data"
    },
    {
     "data": {
      "image/png": "[encoded data removed]",
      "text/plain": [
       "<Figure size 360x216 with 1 Axes>"
      ]
     },
     "metadata": {
      "needs_background": "light"
     },
     "output_type": "display_data"
    }
   ],
   "source": [
    "locality_m2_pivot_table = data.pivot_table(index = 'locality_name', values = 'price_m2', aggfunc=['count', 'mean'])\n",
    "locality_m2_pivot_table.columns = ['count', 'mean']\n",
    "\n",
    "locality_m2_pivot_table.loc[:,'mean'] = locality_m2_pivot_table.loc[:,'mean'] * 1000000\n",
    "\n",
    "locality_m2_pivot_table = locality_m2_pivot_table.sort_values('count', ascending = False).head(10)\n",
    "print('Top-10 populated areas by cost per square meter in saint petersburg and the saint petersburg region:')\n",
    "display(locality_m2_pivot_table)\n",
    "\n",
    "# highest cost\n",
    "print('The most expensive square meter of housing is in:')\n",
    "display(locality_m2_pivot_table[locality_m2_pivot_table[\"mean\"]==locality_m2_pivot_table[\"mean\"].max()])\n",
    "# lowest cost\n",
    "print('The most cheap square meter of housing is in:')\n",
    "display(locality_m2_pivot_table[locality_m2_pivot_table['mean']==locality_m2_pivot_table['mean'].min()])\n",
    "\n",
    "# build a plot for visualization\n",
    "plt.figure(figsize=[5, 3])\n",
    "plt.bar(locality_m2_pivot_table.index,locality_m2_pivot_table['mean'], color ='maroon', width = 0.4)\n",
    "plt.xticks(rotation=90) \n",
    "plt.title('Top-10 populated areas by number of listings (price per square meter)')\n",
    "\n",
    "plt.show()"
   ]
  },
  {
   "cell_type": "markdown",
   "metadata": {},
   "source": [
    "**Conclusion**\n",
    "\n",
    "The highest cost per square meter among the top 10 populated areas with the largest number of listings is in Saint Petersburg, and the lowest cost is in Vyborg."
   ]
  },
  {
   "cell_type": "markdown",
   "metadata": {},
   "source": [
    "### Calculation of average housing cost in Saint Petersburg at different distances from the center"
   ]
  },
  {
   "cell_type": "code",
   "execution_count": 48,
   "metadata": {},
   "outputs": [
    {
     "data": {
      "text/html": [
       "<div>\n",
       "<style scoped>\n",
       "    .dataframe tbody tr th:only-of-type {\n",
       "        vertical-align: middle;\n",
       "    }\n",
       "\n",
       "    .dataframe tbody tr th {\n",
       "        vertical-align: top;\n",
       "    }\n",
       "\n",
       "    .dataframe thead th {\n",
       "        text-align: right;\n",
       "    }\n",
       "</style>\n",
       "<table border=\"1\" class=\"dataframe\">\n",
       "  <thead>\n",
       "    <tr style=\"text-align: right;\">\n",
       "      <th></th>\n",
       "      <th>count</th>\n",
       "      <th>mean</th>\n",
       "    </tr>\n",
       "    <tr>\n",
       "      <th>cityCenters_km</th>\n",
       "      <th></th>\n",
       "      <th></th>\n",
       "    </tr>\n",
       "  </thead>\n",
       "  <tbody>\n",
       "    <tr>\n",
       "      <th>0.00</th>\n",
       "      <td>17</td>\n",
       "      <td>18.84</td>\n",
       "    </tr>\n",
       "    <tr>\n",
       "      <th>1.00</th>\n",
       "      <td>136</td>\n",
       "      <td>10.57</td>\n",
       "    </tr>\n",
       "    <tr>\n",
       "      <th>2.00</th>\n",
       "      <td>220</td>\n",
       "      <td>10.32</td>\n",
       "    </tr>\n",
       "    <tr>\n",
       "      <th>3.00</th>\n",
       "      <td>276</td>\n",
       "      <td>8.77</td>\n",
       "    </tr>\n",
       "    <tr>\n",
       "      <th>4.00</th>\n",
       "      <td>535</td>\n",
       "      <td>9.09</td>\n",
       "    </tr>\n",
       "    <tr>\n",
       "      <th>5.00</th>\n",
       "      <td>718</td>\n",
       "      <td>9.46</td>\n",
       "    </tr>\n",
       "    <tr>\n",
       "      <th>6.00</th>\n",
       "      <td>485</td>\n",
       "      <td>8.75</td>\n",
       "    </tr>\n",
       "    <tr>\n",
       "      <th>7.00</th>\n",
       "      <td>346</td>\n",
       "      <td>8.79</td>\n",
       "    </tr>\n",
       "    <tr>\n",
       "      <th>8.00</th>\n",
       "      <td>534</td>\n",
       "      <td>7.68</td>\n",
       "    </tr>\n",
       "    <tr>\n",
       "      <th>9.00</th>\n",
       "      <td>568</td>\n",
       "      <td>6.29</td>\n",
       "    </tr>\n",
       "    <tr>\n",
       "      <th>10.00</th>\n",
       "      <td>692</td>\n",
       "      <td>6.01</td>\n",
       "    </tr>\n",
       "    <tr>\n",
       "      <th>11.00</th>\n",
       "      <td>1137</td>\n",
       "      <td>5.74</td>\n",
       "    </tr>\n",
       "    <tr>\n",
       "      <th>12.00</th>\n",
       "      <td>1572</td>\n",
       "      <td>5.59</td>\n",
       "    </tr>\n",
       "    <tr>\n",
       "      <th>13.00</th>\n",
       "      <td>1423</td>\n",
       "      <td>5.82</td>\n",
       "    </tr>\n",
       "    <tr>\n",
       "      <th>14.00</th>\n",
       "      <td>1255</td>\n",
       "      <td>5.43</td>\n",
       "    </tr>\n",
       "    <tr>\n",
       "      <th>15.00</th>\n",
       "      <td>1524</td>\n",
       "      <td>5.54</td>\n",
       "    </tr>\n",
       "    <tr>\n",
       "      <th>16.00</th>\n",
       "      <td>1254</td>\n",
       "      <td>5.24</td>\n",
       "    </tr>\n",
       "    <tr>\n",
       "      <th>17.00</th>\n",
       "      <td>864</td>\n",
       "      <td>5.01</td>\n",
       "    </tr>\n",
       "    <tr>\n",
       "      <th>18.00</th>\n",
       "      <td>253</td>\n",
       "      <td>4.70</td>\n",
       "    </tr>\n",
       "    <tr>\n",
       "      <th>19.00</th>\n",
       "      <td>157</td>\n",
       "      <td>5.04</td>\n",
       "    </tr>\n",
       "    <tr>\n",
       "      <th>20.00</th>\n",
       "      <td>49</td>\n",
       "      <td>5.95</td>\n",
       "    </tr>\n",
       "    <tr>\n",
       "      <th>21.00</th>\n",
       "      <td>116</td>\n",
       "      <td>5.44</td>\n",
       "    </tr>\n",
       "    <tr>\n",
       "      <th>22.00</th>\n",
       "      <td>198</td>\n",
       "      <td>5.21</td>\n",
       "    </tr>\n",
       "    <tr>\n",
       "      <th>23.00</th>\n",
       "      <td>83</td>\n",
       "      <td>4.69</td>\n",
       "    </tr>\n",
       "    <tr>\n",
       "      <th>24.00</th>\n",
       "      <td>26</td>\n",
       "      <td>3.85</td>\n",
       "    </tr>\n",
       "    <tr>\n",
       "      <th>25.00</th>\n",
       "      <td>26</td>\n",
       "      <td>4.05</td>\n",
       "    </tr>\n",
       "    <tr>\n",
       "      <th>26.00</th>\n",
       "      <td>53</td>\n",
       "      <td>3.97</td>\n",
       "    </tr>\n",
       "    <tr>\n",
       "      <th>27.00</th>\n",
       "      <td>2</td>\n",
       "      <td>8.30</td>\n",
       "    </tr>\n",
       "    <tr>\n",
       "      <th>28.00</th>\n",
       "      <td>7</td>\n",
       "      <td>5.03</td>\n",
       "    </tr>\n",
       "    <tr>\n",
       "      <th>29.00</th>\n",
       "      <td>6</td>\n",
       "      <td>4.24</td>\n",
       "    </tr>\n",
       "  </tbody>\n",
       "</table>\n",
       "</div>"
      ],
      "text/plain": [
       "                count  mean\n",
       "cityCenters_km             \n",
       "0.00               17 18.84\n",
       "1.00              136 10.57\n",
       "2.00              220 10.32\n",
       "3.00              276  8.77\n",
       "4.00              535  9.09\n",
       "5.00              718  9.46\n",
       "6.00              485  8.75\n",
       "7.00              346  8.79\n",
       "8.00              534  7.68\n",
       "9.00              568  6.29\n",
       "10.00             692  6.01\n",
       "11.00            1137  5.74\n",
       "12.00            1572  5.59\n",
       "13.00            1423  5.82\n",
       "14.00            1255  5.43\n",
       "15.00            1524  5.54\n",
       "16.00            1254  5.24\n",
       "17.00             864  5.01\n",
       "18.00             253  4.70\n",
       "19.00             157  5.04\n",
       "20.00              49  5.95\n",
       "21.00             116  5.44\n",
       "22.00             198  5.21\n",
       "23.00              83  4.69\n",
       "24.00              26  3.85\n",
       "25.00              26  4.05\n",
       "26.00              53  3.97\n",
       "27.00               2  8.30\n",
       "28.00               7  5.03\n",
       "29.00               6  4.24"
      ]
     },
     "metadata": {},
     "output_type": "display_data"
    },
    {
     "data": {
      "image/png": "[encoded data removed]",
      "text/plain": [
       "<Figure size 360x216 with 1 Axes>"
      ]
     },
     "metadata": {
      "needs_background": "light"
     },
     "output_type": "display_data"
    }
   ],
   "source": [
    "# select data only for Saint Petersburg\n",
    "data_spb = data.query('locality_name == \"санкт-петербург\"')\n",
    "\n",
    "# calculate the average cost for each kilometer of distance from the center\n",
    "center_price_pivot_table = data_spb.pivot_table(index = 'cityCenters_km', values = 'last_price', aggfunc=['count', 'mean'])\n",
    "center_price_pivot_table.columns = ['count', 'mean']\n",
    "display(center_price_pivot_table)\n",
    "\n",
    "plt.figure(figsize=[5, 3])\n",
    "plt.plot(center_price_pivot_table['mean'])\n",
    "plt.show()"
   ]
  },
  {
   "cell_type": "markdown",
   "metadata": {},
   "source": [
    "**Conclusion**\n",
    "\n",
    "As expected, the cost of apartments decreases with distance from the center. We observe a peak from 4 to 7 km, which is likely due to historical districts that are not in the city center but are still highly valued. There is also a peak at the maximum distance (27-29 km), which is probably due to an outlier with a small number of listings (a few apartments in a single premium-class new building)."
   ]
  },
  {
   "cell_type": "markdown",
   "metadata": {
    "id": "h7VpzkIDAwb-"
   },
   "source": [
    "## Main conclusion"
   ]
  },
  {
   "cell_type": "markdown",
   "metadata": {},
   "source": [
    "Initially, we loaded the dataset and analyzed the first 20 rows, general information about the array, and histograms for all numeric parameters. After the initial analysis, we preprocessed the data by handling missing values where necessary, removing implicit duplicates in place names, and converting data types as needed.\n",
    "\n",
    "We then calculated and added to the table the price per square meter of housing, extracted days of the week, months, and years from listing dates, categorized floor types, and calculated distances to the city center in kilometers.\n",
    "\n",
    "We examined the following parameters for outliers: total area, living area, kitchen area, price, number of rooms, ceiling height, type of apartment floor, total number of floors in buildings, distance to the city center, and distance to the nearest park. Anomalies were identified in these parameters. When studying the time it takes to sell apartments, we found that a significant number of listings were automatically removed from Yandex Real Estate, and their removal dates cannot be considered sale dates. Therefore, when analyzing average selling times, these values were not taken into account.\n",
    "\n",
    "No anomalies were found in area data; most listings are for small and medium-sized apartments (with total areas ranging from 25 to 70 m²), with peaks on typical values (kitchen sizes of 6-12 m²). Price data is also consistent, with over 75% of apartments priced at less than 7 million rubles, while very expensive apartments (over 20 million rubles) are rare (less than 1,000 listings).\n",
    "\n",
    "The number of rooms shows that most apartments have up to three rooms, with extreme values corresponding to very large apartments and comprising only a few dozen examples. Ceiling heights show over 75% at 2.77 meters, close to the standard for typical historical construction (2.8 m), although anomalies due to typos or incorrect data were corrected appropriately or replaced with average values.\n",
    "\n",
    "In terms of floor types, one-quarter of listings are on extreme floors (first and last floors). As for building height, peaks in listings occur for buildings with 5, 9, 16, and 25 floors. Regarding distances to the city center and nearest park, over 75% of apartments are within 20 km from the central city, while the average distance to a nearby park is around 500 meters (importantly, there is a small subsample for parks with many missing data points).\n",
    "\n",
    "Using box plots, we found that normal selling times for apartments range from 1 to 500 days (excluding adjustments for automatic listing removals). We concluded that apartment price is most influenced by area and indirectly by the number of rooms (as an area-related factor), while floor type, building height, and day, month, or year of listing are virtually unrelated to price. A notable observation was that in 2016-2017, average apartment prices were lower by 10-20% compared to market trends, but this trend was not observed in Saint Petersburg.\n",
    "\n",
    "The cost of apartments decreases as distance from the city center increases, with adjustments for specific districts where individual factors significantly impact price levels. When considering apartment prices from 2014 to 2019 without market segmentation, we saw average market-wide indicators only. Therefore, it is possible that prices for similar apartments in different years could behave very differently. For instance, while overall apartment prices were lowest in 2016-2017, some similar apartments from previous years may have actually increased in value during this period.\n",
    "\n",
    "It is crucial to consider that when examining average apartment prices over the years, we looked at general market-wide trends and did not segment the market. Thus, it’s possible that prices for similar apartments behaved differently across different years."
   ]
  }
 ],
 "metadata": {
  "ExecuteTimeLog": [
   {
    "duration": 486,
    "start_time": "2024-04-02T20:21:44.081Z"
   },
   {
    "duration": 0,
    "start_time": "2024-04-02T20:21:44.571Z"
   },
   {
    "duration": 0,
    "start_time": "2024-04-02T20:21:44.571Z"
   },
   {
    "duration": 0,
    "start_time": "2024-04-02T20:21:44.579Z"
   },
   {
    "duration": 0,
    "start_time": "2024-04-02T20:21:44.580Z"
   },
   {
    "duration": 0,
    "start_time": "2024-04-02T20:21:44.581Z"
   },
   {
    "duration": 0,
    "start_time": "2024-04-02T20:21:44.582Z"
   },
   {
    "duration": 0,
    "start_time": "2024-04-02T20:21:44.583Z"
   },
   {
    "duration": 0,
    "start_time": "2024-04-02T20:21:44.584Z"
   },
   {
    "duration": 0,
    "start_time": "2024-04-02T20:21:44.585Z"
   },
   {
    "duration": 0,
    "start_time": "2024-04-02T20:21:44.586Z"
   },
   {
    "duration": 0,
    "start_time": "2024-04-02T20:21:44.587Z"
   },
   {
    "duration": 0,
    "start_time": "2024-04-02T20:21:44.587Z"
   },
   {
    "duration": 0,
    "start_time": "2024-04-02T20:21:44.588Z"
   },
   {
    "duration": 0,
    "start_time": "2024-04-02T20:21:44.589Z"
   },
   {
    "duration": 0,
    "start_time": "2024-04-02T20:21:44.591Z"
   },
   {
    "duration": 0,
    "start_time": "2024-04-02T20:21:44.591Z"
   },
   {
    "duration": 0,
    "start_time": "2024-04-02T20:21:44.592Z"
   },
   {
    "duration": 0,
    "start_time": "2024-04-02T20:21:44.593Z"
   },
   {
    "duration": 0,
    "start_time": "2024-04-02T20:21:44.594Z"
   },
   {
    "duration": 0,
    "start_time": "2024-04-02T20:21:44.595Z"
   },
   {
    "duration": 0,
    "start_time": "2024-04-02T20:21:44.596Z"
   },
   {
    "duration": 0,
    "start_time": "2024-04-02T20:21:44.597Z"
   },
   {
    "duration": 0,
    "start_time": "2024-04-02T20:21:44.598Z"
   },
   {
    "duration": 0,
    "start_time": "2024-04-02T20:21:44.599Z"
   },
   {
    "duration": 0,
    "start_time": "2024-04-02T20:21:44.601Z"
   },
   {
    "duration": 0,
    "start_time": "2024-04-02T20:21:44.601Z"
   },
   {
    "duration": 0,
    "start_time": "2024-04-02T20:21:44.602Z"
   },
   {
    "duration": 0,
    "start_time": "2024-04-02T20:21:44.603Z"
   },
   {
    "duration": 0,
    "start_time": "2024-04-02T20:21:44.604Z"
   },
   {
    "duration": 0,
    "start_time": "2024-04-02T20:21:44.605Z"
   },
   {
    "duration": 0,
    "start_time": "2024-04-02T20:21:44.606Z"
   },
   {
    "duration": 0,
    "start_time": "2024-04-02T20:21:44.607Z"
   },
   {
    "duration": 0,
    "start_time": "2024-04-02T20:21:44.608Z"
   },
   {
    "duration": 0,
    "start_time": "2024-04-02T20:21:44.609Z"
   },
   {
    "duration": 0,
    "start_time": "2024-04-02T20:21:44.610Z"
   },
   {
    "duration": 0,
    "start_time": "2024-04-02T20:21:44.611Z"
   },
   {
    "duration": 0,
    "start_time": "2024-04-02T20:21:44.612Z"
   },
   {
    "duration": 0,
    "start_time": "2024-04-02T20:21:44.613Z"
   },
   {
    "duration": 0,
    "start_time": "2024-04-02T20:21:44.614Z"
   },
   {
    "duration": 0,
    "start_time": "2024-04-02T20:21:44.615Z"
   },
   {
    "duration": 0,
    "start_time": "2024-04-02T20:21:44.615Z"
   },
   {
    "duration": 0,
    "start_time": "2024-04-02T20:21:44.616Z"
   },
   {
    "duration": 0,
    "start_time": "2024-04-02T20:21:44.617Z"
   },
   {
    "duration": 492,
    "start_time": "2024-04-02T20:27:33.347Z"
   },
   {
    "duration": 0,
    "start_time": "2024-04-02T20:27:33.842Z"
   },
   {
    "duration": 0,
    "start_time": "2024-04-02T20:27:33.843Z"
   },
   {
    "duration": 0,
    "start_time": "2024-04-02T20:27:33.844Z"
   },
   {
    "duration": 0,
    "start_time": "2024-04-02T20:27:33.845Z"
   },
   {
    "duration": 0,
    "start_time": "2024-04-02T20:27:33.846Z"
   },
   {
    "duration": 0,
    "start_time": "2024-04-02T20:27:33.846Z"
   },
   {
    "duration": 0,
    "start_time": "2024-04-02T20:27:33.848Z"
   },
   {
    "duration": 0,
    "start_time": "2024-04-02T20:27:33.849Z"
   },
   {
    "duration": 0,
    "start_time": "2024-04-02T20:27:33.849Z"
   },
   {
    "duration": 0,
    "start_time": "2024-04-02T20:27:33.850Z"
   },
   {
    "duration": 0,
    "start_time": "2024-04-02T20:27:33.851Z"
   },
   {
    "duration": 0,
    "start_time": "2024-04-02T20:27:33.853Z"
   },
   {
    "duration": 0,
    "start_time": "2024-04-02T20:27:33.853Z"
   },
   {
    "duration": 0,
    "start_time": "2024-04-02T20:27:33.854Z"
   },
   {
    "duration": 0,
    "start_time": "2024-04-02T20:27:33.855Z"
   },
   {
    "duration": 0,
    "start_time": "2024-04-02T20:27:33.856Z"
   },
   {
    "duration": 0,
    "start_time": "2024-04-02T20:27:33.880Z"
   },
   {
    "duration": 0,
    "start_time": "2024-04-02T20:27:33.881Z"
   },
   {
    "duration": 0,
    "start_time": "2024-04-02T20:27:33.882Z"
   },
   {
    "duration": 0,
    "start_time": "2024-04-02T20:27:33.883Z"
   },
   {
    "duration": 0,
    "start_time": "2024-04-02T20:27:33.884Z"
   },
   {
    "duration": 0,
    "start_time": "2024-04-02T20:27:33.884Z"
   },
   {
    "duration": 0,
    "start_time": "2024-04-02T20:27:33.885Z"
   },
   {
    "duration": 0,
    "start_time": "2024-04-02T20:27:33.886Z"
   },
   {
    "duration": 0,
    "start_time": "2024-04-02T20:27:33.888Z"
   },
   {
    "duration": 0,
    "start_time": "2024-04-02T20:27:33.888Z"
   },
   {
    "duration": 0,
    "start_time": "2024-04-02T20:27:33.889Z"
   },
   {
    "duration": 0,
    "start_time": "2024-04-02T20:27:33.891Z"
   },
   {
    "duration": 0,
    "start_time": "2024-04-02T20:27:33.892Z"
   },
   {
    "duration": 0,
    "start_time": "2024-04-02T20:27:33.893Z"
   },
   {
    "duration": 0,
    "start_time": "2024-04-02T20:27:33.894Z"
   },
   {
    "duration": 0,
    "start_time": "2024-04-02T20:27:33.895Z"
   },
   {
    "duration": 0,
    "start_time": "2024-04-02T20:27:33.896Z"
   },
   {
    "duration": 0,
    "start_time": "2024-04-02T20:27:33.897Z"
   },
   {
    "duration": 0,
    "start_time": "2024-04-02T20:27:33.898Z"
   },
   {
    "duration": 0,
    "start_time": "2024-04-02T20:27:33.899Z"
   },
   {
    "duration": 0,
    "start_time": "2024-04-02T20:27:33.900Z"
   },
   {
    "duration": 0,
    "start_time": "2024-04-02T20:27:33.901Z"
   },
   {
    "duration": 0,
    "start_time": "2024-04-02T20:27:33.902Z"
   },
   {
    "duration": 0,
    "start_time": "2024-04-02T20:27:33.903Z"
   },
   {
    "duration": 0,
    "start_time": "2024-04-02T20:27:33.904Z"
   },
   {
    "duration": 0,
    "start_time": "2024-04-02T20:27:33.905Z"
   },
   {
    "duration": 0,
    "start_time": "2024-04-02T20:27:33.906Z"
   },
   {
    "duration": 534,
    "start_time": "2024-04-03T11:13:54.334Z"
   },
   {
    "duration": 0,
    "start_time": "2024-04-03T11:13:54.871Z"
   },
   {
    "duration": 0,
    "start_time": "2024-04-03T11:13:54.872Z"
   },
   {
    "duration": 0,
    "start_time": "2024-04-03T11:13:54.874Z"
   },
   {
    "duration": 0,
    "start_time": "2024-04-03T11:13:54.875Z"
   },
   {
    "duration": 0,
    "start_time": "2024-04-03T11:13:54.876Z"
   },
   {
    "duration": 0,
    "start_time": "2024-04-03T11:13:54.892Z"
   },
   {
    "duration": 0,
    "start_time": "2024-04-03T11:13:54.893Z"
   },
   {
    "duration": 0,
    "start_time": "2024-04-03T11:13:54.894Z"
   },
   {
    "duration": 0,
    "start_time": "2024-04-03T11:13:54.896Z"
   },
   {
    "duration": 0,
    "start_time": "2024-04-03T11:13:54.898Z"
   },
   {
    "duration": 0,
    "start_time": "2024-04-03T11:13:54.900Z"
   },
   {
    "duration": 0,
    "start_time": "2024-04-03T11:13:54.901Z"
   },
   {
    "duration": 0,
    "start_time": "2024-04-03T11:13:54.906Z"
   },
   {
    "duration": 0,
    "start_time": "2024-04-03T11:13:54.907Z"
   },
   {
    "duration": 0,
    "start_time": "2024-04-03T11:13:54.909Z"
   },
   {
    "duration": 0,
    "start_time": "2024-04-03T11:13:54.910Z"
   },
   {
    "duration": 0,
    "start_time": "2024-04-03T11:13:54.912Z"
   },
   {
    "duration": 0,
    "start_time": "2024-04-03T11:13:54.913Z"
   },
   {
    "duration": 0,
    "start_time": "2024-04-03T11:13:54.914Z"
   },
   {
    "duration": 0,
    "start_time": "2024-04-03T11:13:54.915Z"
   },
   {
    "duration": 0,
    "start_time": "2024-04-03T11:13:54.917Z"
   },
   {
    "duration": 0,
    "start_time": "2024-04-03T11:13:54.918Z"
   },
   {
    "duration": 0,
    "start_time": "2024-04-03T11:13:54.921Z"
   },
   {
    "duration": 0,
    "start_time": "2024-04-03T11:13:54.924Z"
   },
   {
    "duration": 0,
    "start_time": "2024-04-03T11:13:54.926Z"
   },
   {
    "duration": 0,
    "start_time": "2024-04-03T11:13:54.927Z"
   },
   {
    "duration": 0,
    "start_time": "2024-04-03T11:13:54.929Z"
   },
   {
    "duration": 0,
    "start_time": "2024-04-03T11:13:54.930Z"
   },
   {
    "duration": 0,
    "start_time": "2024-04-03T11:13:54.932Z"
   },
   {
    "duration": 0,
    "start_time": "2024-04-03T11:13:54.992Z"
   },
   {
    "duration": 0,
    "start_time": "2024-04-03T11:13:54.992Z"
   },
   {
    "duration": 0,
    "start_time": "2024-04-03T11:13:54.993Z"
   },
   {
    "duration": 0,
    "start_time": "2024-04-03T11:13:54.994Z"
   },
   {
    "duration": 0,
    "start_time": "2024-04-03T11:13:54.996Z"
   },
   {
    "duration": 0,
    "start_time": "2024-04-03T11:13:54.997Z"
   },
   {
    "duration": 0,
    "start_time": "2024-04-03T11:13:54.997Z"
   },
   {
    "duration": 0,
    "start_time": "2024-04-03T11:13:54.999Z"
   },
   {
    "duration": 0,
    "start_time": "2024-04-03T11:13:55.000Z"
   },
   {
    "duration": 0,
    "start_time": "2024-04-03T11:13:55.002Z"
   },
   {
    "duration": 0,
    "start_time": "2024-04-03T11:13:55.003Z"
   },
   {
    "duration": 0,
    "start_time": "2024-04-03T11:13:55.004Z"
   },
   {
    "duration": 0,
    "start_time": "2024-04-03T11:13:55.005Z"
   },
   {
    "duration": 0,
    "start_time": "2024-04-03T11:13:55.006Z"
   },
   {
    "duration": 728,
    "start_time": "2024-04-03T11:14:47.517Z"
   },
   {
    "duration": 16,
    "start_time": "2024-04-03T11:14:48.248Z"
   },
   {
    "duration": 464,
    "start_time": "2024-04-03T11:14:48.266Z"
   },
   {
    "duration": 0,
    "start_time": "2024-04-03T11:14:48.734Z"
   },
   {
    "duration": 1,
    "start_time": "2024-04-03T11:14:48.735Z"
   },
   {
    "duration": 0,
    "start_time": "2024-04-03T11:14:48.737Z"
   },
   {
    "duration": 0,
    "start_time": "2024-04-03T11:14:48.739Z"
   },
   {
    "duration": 0,
    "start_time": "2024-04-03T11:14:48.740Z"
   },
   {
    "duration": 0,
    "start_time": "2024-04-03T11:14:48.742Z"
   },
   {
    "duration": 0,
    "start_time": "2024-04-03T11:14:48.744Z"
   },
   {
    "duration": 1,
    "start_time": "2024-04-03T11:14:48.745Z"
   },
   {
    "duration": 0,
    "start_time": "2024-04-03T11:14:48.747Z"
   },
   {
    "duration": 0,
    "start_time": "2024-04-03T11:14:48.749Z"
   },
   {
    "duration": 0,
    "start_time": "2024-04-03T11:14:48.750Z"
   },
   {
    "duration": 0,
    "start_time": "2024-04-03T11:14:48.751Z"
   },
   {
    "duration": 0,
    "start_time": "2024-04-03T11:14:48.753Z"
   },
   {
    "duration": 0,
    "start_time": "2024-04-03T11:14:48.755Z"
   },
   {
    "duration": 0,
    "start_time": "2024-04-03T11:14:48.792Z"
   },
   {
    "duration": 0,
    "start_time": "2024-04-03T11:14:48.794Z"
   },
   {
    "duration": 0,
    "start_time": "2024-04-03T11:14:48.796Z"
   },
   {
    "duration": 1,
    "start_time": "2024-04-03T11:14:48.797Z"
   },
   {
    "duration": 0,
    "start_time": "2024-04-03T11:14:48.799Z"
   },
   {
    "duration": 0,
    "start_time": "2024-04-03T11:14:48.800Z"
   },
   {
    "duration": 0,
    "start_time": "2024-04-03T11:14:48.802Z"
   },
   {
    "duration": 0,
    "start_time": "2024-04-03T11:14:48.804Z"
   },
   {
    "duration": 0,
    "start_time": "2024-04-03T11:14:48.805Z"
   },
   {
    "duration": 0,
    "start_time": "2024-04-03T11:14:48.806Z"
   },
   {
    "duration": 0,
    "start_time": "2024-04-03T11:14:48.807Z"
   },
   {
    "duration": 0,
    "start_time": "2024-04-03T11:14:48.809Z"
   },
   {
    "duration": 0,
    "start_time": "2024-04-03T11:14:48.810Z"
   },
   {
    "duration": 0,
    "start_time": "2024-04-03T11:14:48.811Z"
   },
   {
    "duration": 0,
    "start_time": "2024-04-03T11:14:48.812Z"
   },
   {
    "duration": 0,
    "start_time": "2024-04-03T11:14:48.813Z"
   },
   {
    "duration": 0,
    "start_time": "2024-04-03T11:14:48.814Z"
   },
   {
    "duration": 0,
    "start_time": "2024-04-03T11:14:48.816Z"
   },
   {
    "duration": 0,
    "start_time": "2024-04-03T11:14:48.817Z"
   },
   {
    "duration": 0,
    "start_time": "2024-04-03T11:14:48.818Z"
   },
   {
    "duration": 0,
    "start_time": "2024-04-03T11:14:48.819Z"
   },
   {
    "duration": 0,
    "start_time": "2024-04-03T11:14:48.820Z"
   },
   {
    "duration": 0,
    "start_time": "2024-04-03T11:14:48.821Z"
   },
   {
    "duration": 0,
    "start_time": "2024-04-03T11:14:48.822Z"
   },
   {
    "duration": 0,
    "start_time": "2024-04-03T11:14:48.824Z"
   },
   {
    "duration": 0,
    "start_time": "2024-04-03T11:14:48.824Z"
   },
   {
    "duration": 0,
    "start_time": "2024-04-03T11:14:48.825Z"
   },
   {
    "duration": 576,
    "start_time": "2024-04-03T11:15:48.781Z"
   },
   {
    "duration": 48,
    "start_time": "2024-04-03T11:15:49.359Z"
   },
   {
    "duration": 2432,
    "start_time": "2024-04-03T11:15:49.408Z"
   },
   {
    "duration": 10,
    "start_time": "2024-04-03T11:15:51.842Z"
   },
   {
    "duration": 29,
    "start_time": "2024-04-03T11:15:51.854Z"
   },
   {
    "duration": 16,
    "start_time": "2024-04-03T11:15:51.884Z"
   },
   {
    "duration": 7,
    "start_time": "2024-04-03T11:15:51.901Z"
   },
   {
    "duration": 144,
    "start_time": "2024-04-03T11:15:51.909Z"
   },
   {
    "duration": 323,
    "start_time": "2024-04-03T11:15:52.054Z"
   },
   {
    "duration": 13,
    "start_time": "2024-04-03T11:15:52.379Z"
   },
   {
    "duration": 23,
    "start_time": "2024-04-03T11:15:52.393Z"
   },
   {
    "duration": 38,
    "start_time": "2024-04-03T11:15:52.418Z"
   },
   {
    "duration": 39,
    "start_time": "2024-04-03T11:15:52.458Z"
   },
   {
    "duration": 35,
    "start_time": "2024-04-03T11:15:52.499Z"
   },
   {
    "duration": 52,
    "start_time": "2024-04-03T11:15:52.536Z"
   },
   {
    "duration": 30,
    "start_time": "2024-04-03T11:15:52.590Z"
   },
   {
    "duration": 372,
    "start_time": "2024-04-03T11:15:52.622Z"
   },
   {
    "duration": 6,
    "start_time": "2024-04-03T11:15:52.996Z"
   },
   {
    "duration": 377,
    "start_time": "2024-04-03T11:15:53.004Z"
   },
   {
    "duration": 13,
    "start_time": "2024-04-03T11:15:53.383Z"
   },
   {
    "duration": 494,
    "start_time": "2024-04-03T11:15:53.397Z"
   },
   {
    "duration": 9,
    "start_time": "2024-04-03T11:15:53.893Z"
   },
   {
    "duration": 450,
    "start_time": "2024-04-03T11:15:53.903Z"
   },
   {
    "duration": 9,
    "start_time": "2024-04-03T11:15:54.355Z"
   },
   {
    "duration": 389,
    "start_time": "2024-04-03T11:15:54.366Z"
   },
   {
    "duration": 11,
    "start_time": "2024-04-03T11:15:54.757Z"
   },
   {
    "duration": 10,
    "start_time": "2024-04-03T11:15:54.769Z"
   },
   {
    "duration": 320,
    "start_time": "2024-04-03T11:15:54.794Z"
   },
   {
    "duration": 8,
    "start_time": "2024-04-03T11:15:55.116Z"
   },
   {
    "duration": 327,
    "start_time": "2024-04-03T11:15:55.126Z"
   },
   {
    "duration": 6,
    "start_time": "2024-04-03T11:15:55.454Z"
   },
   {
    "duration": 442,
    "start_time": "2024-04-03T11:15:55.462Z"
   },
   {
    "duration": 35,
    "start_time": "2024-04-03T11:15:55.906Z"
   },
   {
    "duration": 148,
    "start_time": "2024-04-03T11:15:55.943Z"
   },
   {
    "duration": 130,
    "start_time": "2024-04-03T11:15:56.093Z"
   },
   {
    "duration": 223,
    "start_time": "2024-04-03T11:15:56.224Z"
   },
   {
    "duration": 32,
    "start_time": "2024-04-03T11:15:56.449Z"
   },
   {
    "duration": 189,
    "start_time": "2024-04-03T11:15:56.491Z"
   },
   {
    "duration": 179,
    "start_time": "2024-04-03T11:15:56.682Z"
   },
   {
    "duration": 189,
    "start_time": "2024-04-03T11:15:56.862Z"
   },
   {
    "duration": 680,
    "start_time": "2024-04-03T11:15:57.053Z"
   },
   {
    "duration": 981,
    "start_time": "2024-04-03T11:15:57.735Z"
   },
   {
    "duration": 0,
    "start_time": "2024-04-03T11:15:58.719Z"
   },
   {
    "duration": 0,
    "start_time": "2024-04-03T11:15:58.720Z"
   },
   {
    "duration": 579,
    "start_time": "2024-04-03T11:19:24.298Z"
   },
   {
    "duration": 52,
    "start_time": "2024-04-03T11:19:24.879Z"
   },
   {
    "duration": 2467,
    "start_time": "2024-04-03T11:19:24.933Z"
   },
   {
    "duration": 9,
    "start_time": "2024-04-03T11:19:27.402Z"
   },
   {
    "duration": 40,
    "start_time": "2024-04-03T11:19:27.413Z"
   },
   {
    "duration": 20,
    "start_time": "2024-04-03T11:19:27.454Z"
   },
   {
    "duration": 14,
    "start_time": "2024-04-03T11:19:27.476Z"
   },
   {
    "duration": 135,
    "start_time": "2024-04-03T11:19:27.491Z"
   },
   {
    "duration": 313,
    "start_time": "2024-04-03T11:19:27.628Z"
   },
   {
    "duration": 5,
    "start_time": "2024-04-03T11:19:27.944Z"
   },
   {
    "duration": 11,
    "start_time": "2024-04-03T11:19:27.951Z"
   },
   {
    "duration": 36,
    "start_time": "2024-04-03T11:19:27.964Z"
   },
   {
    "duration": 17,
    "start_time": "2024-04-03T11:19:28.001Z"
   },
   {
    "duration": 22,
    "start_time": "2024-04-03T11:19:28.020Z"
   },
   {
    "duration": 24,
    "start_time": "2024-04-03T11:19:28.044Z"
   },
   {
    "duration": 24,
    "start_time": "2024-04-03T11:19:28.091Z"
   },
   {
    "duration": 351,
    "start_time": "2024-04-03T11:19:28.117Z"
   },
   {
    "duration": 9,
    "start_time": "2024-04-03T11:19:28.469Z"
   },
   {
    "duration": 389,
    "start_time": "2024-04-03T11:19:28.492Z"
   },
   {
    "duration": 14,
    "start_time": "2024-04-03T11:19:28.882Z"
   },
   {
    "duration": 482,
    "start_time": "2024-04-03T11:19:28.897Z"
   },
   {
    "duration": 14,
    "start_time": "2024-04-03T11:19:29.380Z"
   },
   {
    "duration": 422,
    "start_time": "2024-04-03T11:19:29.396Z"
   },
   {
    "duration": 12,
    "start_time": "2024-04-03T11:19:29.820Z"
   },
   {
    "duration": 421,
    "start_time": "2024-04-03T11:19:29.834Z"
   },
   {
    "duration": 12,
    "start_time": "2024-04-03T11:19:30.257Z"
   },
   {
    "duration": 584,
    "start_time": "2024-04-03T11:19:30.271Z"
   },
   {
    "duration": 499,
    "start_time": "2024-04-03T11:19:30.859Z"
   },
   {
    "duration": 9,
    "start_time": "2024-04-03T11:19:31.360Z"
   },
   {
    "duration": 363,
    "start_time": "2024-04-03T11:19:31.371Z"
   },
   {
    "duration": 5,
    "start_time": "2024-04-03T11:19:31.736Z"
   },
   {
    "duration": 475,
    "start_time": "2024-04-03T11:19:31.744Z"
   },
   {
    "duration": 37,
    "start_time": "2024-04-03T11:19:32.222Z"
   },
   {
    "duration": 157,
    "start_time": "2024-04-03T11:19:32.261Z"
   },
   {
    "duration": 137,
    "start_time": "2024-04-03T11:19:32.420Z"
   },
   {
    "duration": 237,
    "start_time": "2024-04-03T11:19:32.559Z"
   },
   {
    "duration": 32,
    "start_time": "2024-04-03T11:19:32.798Z"
   },
   {
    "duration": 210,
    "start_time": "2024-04-03T11:19:32.832Z"
   },
   {
    "duration": 201,
    "start_time": "2024-04-03T11:19:33.044Z"
   },
   {
    "duration": 193,
    "start_time": "2024-04-03T11:19:33.247Z"
   },
   {
    "duration": 699,
    "start_time": "2024-04-03T11:19:33.442Z"
   },
   {
    "duration": 988,
    "start_time": "2024-04-03T11:19:34.143Z"
   },
   {
    "duration": 0,
    "start_time": "2024-04-03T11:19:35.132Z"
   },
   {
    "duration": 0,
    "start_time": "2024-04-03T11:19:35.134Z"
   },
   {
    "duration": 43,
    "start_time": "2024-04-03T11:24:31.122Z"
   },
   {
    "duration": 147,
    "start_time": "2024-04-03T11:24:39.942Z"
   },
   {
    "duration": 944,
    "start_time": "2024-04-03T11:34:55.015Z"
   },
   {
    "duration": 958,
    "start_time": "2024-04-03T11:36:00.081Z"
   },
   {
    "duration": 79,
    "start_time": "2024-04-03T11:49:11.669Z"
   },
   {
    "duration": 533,
    "start_time": "2024-04-03T11:52:13.241Z"
   },
   {
    "duration": 56,
    "start_time": "2024-04-03T11:52:13.776Z"
   },
   {
    "duration": 2542,
    "start_time": "2024-04-03T11:52:13.834Z"
   },
   {
    "duration": 9,
    "start_time": "2024-04-03T11:52:16.378Z"
   },
   {
    "duration": 32,
    "start_time": "2024-04-03T11:52:16.389Z"
   },
   {
    "duration": 25,
    "start_time": "2024-04-03T11:52:16.423Z"
   },
   {
    "duration": 29,
    "start_time": "2024-04-03T11:52:16.451Z"
   },
   {
    "duration": 160,
    "start_time": "2024-04-03T11:52:16.483Z"
   },
   {
    "duration": 309,
    "start_time": "2024-04-03T11:52:16.645Z"
   },
   {
    "duration": 6,
    "start_time": "2024-04-03T11:52:16.958Z"
   },
   {
    "duration": 19,
    "start_time": "2024-04-03T11:52:16.966Z"
   },
   {
    "duration": 38,
    "start_time": "2024-04-03T11:52:16.991Z"
   },
   {
    "duration": 23,
    "start_time": "2024-04-03T11:52:17.031Z"
   },
   {
    "duration": 15,
    "start_time": "2024-04-03T11:52:17.056Z"
   },
   {
    "duration": 39,
    "start_time": "2024-04-03T11:52:17.073Z"
   },
   {
    "duration": 53,
    "start_time": "2024-04-03T11:52:17.113Z"
   },
   {
    "duration": 342,
    "start_time": "2024-04-03T11:52:17.168Z"
   },
   {
    "duration": 9,
    "start_time": "2024-04-03T11:52:17.512Z"
   },
   {
    "duration": 420,
    "start_time": "2024-04-03T11:52:17.523Z"
   },
   {
    "duration": 12,
    "start_time": "2024-04-03T11:52:17.945Z"
   },
   {
    "duration": 534,
    "start_time": "2024-04-03T11:52:17.958Z"
   },
   {
    "duration": 10,
    "start_time": "2024-04-03T11:52:18.494Z"
   },
   {
    "duration": 437,
    "start_time": "2024-04-03T11:52:18.506Z"
   },
   {
    "duration": 10,
    "start_time": "2024-04-03T11:52:18.945Z"
   },
   {
    "duration": 394,
    "start_time": "2024-04-03T11:52:18.957Z"
   },
   {
    "duration": 11,
    "start_time": "2024-04-03T11:52:19.354Z"
   },
   {
    "duration": 25,
    "start_time": "2024-04-03T11:52:19.367Z"
   },
   {
    "duration": 315,
    "start_time": "2024-04-03T11:52:19.396Z"
   },
   {
    "duration": 8,
    "start_time": "2024-04-03T11:52:19.713Z"
   },
   {
    "duration": 354,
    "start_time": "2024-04-03T11:52:19.723Z"
   },
   {
    "duration": 5,
    "start_time": "2024-04-03T11:52:20.079Z"
   },
   {
    "duration": 490,
    "start_time": "2024-04-03T11:52:20.092Z"
   },
   {
    "duration": 54,
    "start_time": "2024-04-03T11:52:20.584Z"
   },
   {
    "duration": 161,
    "start_time": "2024-04-03T11:52:20.640Z"
   },
   {
    "duration": 134,
    "start_time": "2024-04-03T11:52:20.802Z"
   },
   {
    "duration": 219,
    "start_time": "2024-04-03T11:52:20.938Z"
   },
   {
    "duration": 44,
    "start_time": "2024-04-03T11:52:21.159Z"
   },
   {
    "duration": 213,
    "start_time": "2024-04-03T11:52:21.205Z"
   },
   {
    "duration": 191,
    "start_time": "2024-04-03T11:52:21.420Z"
   },
   {
    "duration": 190,
    "start_time": "2024-04-03T11:52:21.613Z"
   },
   {
    "duration": 671,
    "start_time": "2024-04-03T11:52:21.805Z"
   },
   {
    "duration": 1174,
    "start_time": "2024-04-03T11:52:22.478Z"
   },
   {
    "duration": 51,
    "start_time": "2024-04-03T11:52:23.654Z"
   },
   {
    "duration": 171,
    "start_time": "2024-04-03T11:52:23.707Z"
   },
   {
    "duration": 89,
    "start_time": "2024-04-03T11:53:56.960Z"
   },
   {
    "duration": 1347,
    "start_time": "2024-04-03T11:55:02.085Z"
   },
   {
    "duration": 543,
    "start_time": "2024-04-03T11:55:31.417Z"
   },
   {
    "duration": 51,
    "start_time": "2024-04-03T11:55:31.962Z"
   },
   {
    "duration": 2477,
    "start_time": "2024-04-03T11:55:32.015Z"
   },
   {
    "duration": 9,
    "start_time": "2024-04-03T11:55:34.494Z"
   },
   {
    "duration": 15,
    "start_time": "2024-04-03T11:55:34.505Z"
   },
   {
    "duration": 10,
    "start_time": "2024-04-03T11:55:34.521Z"
   },
   {
    "duration": 7,
    "start_time": "2024-04-03T11:55:34.532Z"
   },
   {
    "duration": 147,
    "start_time": "2024-04-03T11:55:34.541Z"
   },
   {
    "duration": 291,
    "start_time": "2024-04-03T11:55:34.691Z"
   },
   {
    "duration": 10,
    "start_time": "2024-04-03T11:55:34.985Z"
   },
   {
    "duration": 9,
    "start_time": "2024-04-03T11:55:34.997Z"
   },
   {
    "duration": 22,
    "start_time": "2024-04-03T11:55:35.008Z"
   },
   {
    "duration": 29,
    "start_time": "2024-04-03T11:55:35.032Z"
   },
   {
    "duration": 32,
    "start_time": "2024-04-03T11:55:35.063Z"
   },
   {
    "duration": 40,
    "start_time": "2024-04-03T11:55:35.097Z"
   },
   {
    "duration": 24,
    "start_time": "2024-04-03T11:55:35.139Z"
   },
   {
    "duration": 367,
    "start_time": "2024-04-03T11:55:35.164Z"
   },
   {
    "duration": 10,
    "start_time": "2024-04-03T11:55:35.533Z"
   },
   {
    "duration": 369,
    "start_time": "2024-04-03T11:55:35.545Z"
   },
   {
    "duration": 8,
    "start_time": "2024-04-03T11:55:35.916Z"
   },
   {
    "duration": 493,
    "start_time": "2024-04-03T11:55:35.926Z"
   },
   {
    "duration": 9,
    "start_time": "2024-04-03T11:55:36.421Z"
   },
   {
    "duration": 430,
    "start_time": "2024-04-03T11:55:36.432Z"
   },
   {
    "duration": 12,
    "start_time": "2024-04-03T11:55:36.864Z"
   },
   {
    "duration": 394,
    "start_time": "2024-04-03T11:55:36.877Z"
   },
   {
    "duration": 19,
    "start_time": "2024-04-03T11:55:37.273Z"
   },
   {
    "duration": 10,
    "start_time": "2024-04-03T11:55:37.294Z"
   },
   {
    "duration": 343,
    "start_time": "2024-04-03T11:55:37.309Z"
   },
   {
    "duration": 10,
    "start_time": "2024-04-03T11:55:37.653Z"
   },
   {
    "duration": 361,
    "start_time": "2024-04-03T11:55:37.665Z"
   },
   {
    "duration": 6,
    "start_time": "2024-04-03T11:55:38.027Z"
   },
   {
    "duration": 457,
    "start_time": "2024-04-03T11:55:38.035Z"
   },
   {
    "duration": 36,
    "start_time": "2024-04-03T11:55:38.493Z"
   },
   {
    "duration": 166,
    "start_time": "2024-04-03T11:55:38.530Z"
   },
   {
    "duration": 127,
    "start_time": "2024-04-03T11:55:38.698Z"
   },
   {
    "duration": 213,
    "start_time": "2024-04-03T11:55:38.827Z"
   },
   {
    "duration": 33,
    "start_time": "2024-04-03T11:55:39.042Z"
   },
   {
    "duration": 196,
    "start_time": "2024-04-03T11:55:39.077Z"
   },
   {
    "duration": 183,
    "start_time": "2024-04-03T11:55:39.275Z"
   },
   {
    "duration": 180,
    "start_time": "2024-04-03T11:55:39.460Z"
   },
   {
    "duration": 682,
    "start_time": "2024-04-03T11:55:39.642Z"
   },
   {
    "duration": 1338,
    "start_time": "2024-04-03T11:55:40.326Z"
   },
   {
    "duration": 52,
    "start_time": "2024-04-03T11:55:41.665Z"
   },
   {
    "duration": 161,
    "start_time": "2024-04-03T11:55:41.719Z"
   },
   {
    "duration": 630,
    "start_time": "2024-04-03T20:00:29.740Z"
   },
   {
    "duration": 48,
    "start_time": "2024-04-03T20:00:30.373Z"
   },
   {
    "duration": 4291,
    "start_time": "2024-04-03T20:00:30.423Z"
   },
   {
    "duration": 58,
    "start_time": "2024-04-03T20:00:34.716Z"
   },
   {
    "duration": 15,
    "start_time": "2024-04-03T20:00:34.777Z"
   },
   {
    "duration": 10,
    "start_time": "2024-04-03T20:00:34.794Z"
   },
   {
    "duration": 39,
    "start_time": "2024-04-03T20:00:34.806Z"
   },
   {
    "duration": 316,
    "start_time": "2024-04-03T20:00:34.875Z"
   },
   {
    "duration": 714,
    "start_time": "2024-04-03T20:00:35.193Z"
   },
   {
    "duration": 6,
    "start_time": "2024-04-03T20:00:35.909Z"
   },
   {
    "duration": 70,
    "start_time": "2024-04-03T20:00:35.917Z"
   },
   {
    "duration": 35,
    "start_time": "2024-04-03T20:00:35.989Z"
   },
   {
    "duration": 28,
    "start_time": "2024-04-03T20:00:36.073Z"
   },
   {
    "duration": 75,
    "start_time": "2024-04-03T20:00:36.104Z"
   },
   {
    "duration": 95,
    "start_time": "2024-04-03T20:00:36.181Z"
   },
   {
    "duration": 31,
    "start_time": "2024-04-03T20:00:36.279Z"
   },
   {
    "duration": 762,
    "start_time": "2024-04-03T20:00:36.311Z"
   },
   {
    "duration": 9,
    "start_time": "2024-04-03T20:00:37.075Z"
   },
   {
    "duration": 996,
    "start_time": "2024-04-03T20:00:37.087Z"
   },
   {
    "duration": 12,
    "start_time": "2024-04-03T20:00:38.089Z"
   },
   {
    "duration": 1206,
    "start_time": "2024-04-03T20:00:38.103Z"
   },
   {
    "duration": 71,
    "start_time": "2024-04-03T20:00:39.310Z"
   },
   {
    "duration": 993,
    "start_time": "2024-04-03T20:00:39.383Z"
   },
   {
    "duration": 18,
    "start_time": "2024-04-03T20:00:40.378Z"
   },
   {
    "duration": 979,
    "start_time": "2024-04-03T20:00:40.398Z"
   },
   {
    "duration": 34,
    "start_time": "2024-04-03T20:00:41.379Z"
   },
   {
    "duration": 69,
    "start_time": "2024-04-03T20:00:41.415Z"
   },
   {
    "duration": 733,
    "start_time": "2024-04-03T20:00:41.487Z"
   },
   {
    "duration": 13,
    "start_time": "2024-04-03T20:00:42.274Z"
   },
   {
    "duration": 908,
    "start_time": "2024-04-03T20:00:42.290Z"
   },
   {
    "duration": 6,
    "start_time": "2024-04-03T20:00:43.200Z"
   },
   {
    "duration": 982,
    "start_time": "2024-04-03T20:00:43.208Z"
   },
   {
    "duration": 101,
    "start_time": "2024-04-03T20:00:44.192Z"
   },
   {
    "duration": 321,
    "start_time": "2024-04-03T20:00:44.296Z"
   },
   {
    "duration": 290,
    "start_time": "2024-04-03T20:00:44.619Z"
   },
   {
    "duration": 573,
    "start_time": "2024-04-03T20:00:44.911Z"
   },
   {
    "duration": 89,
    "start_time": "2024-04-03T20:00:45.486Z"
   },
   {
    "duration": 425,
    "start_time": "2024-04-03T20:00:45.577Z"
   },
   {
    "duration": 415,
    "start_time": "2024-04-03T20:00:46.005Z"
   },
   {
    "duration": 429,
    "start_time": "2024-04-03T20:00:46.474Z"
   },
   {
    "duration": 1684,
    "start_time": "2024-04-03T20:00:46.906Z"
   },
   {
    "duration": 2602,
    "start_time": "2024-04-03T20:00:48.592Z"
   },
   {
    "duration": 112,
    "start_time": "2024-04-03T20:00:51.196Z"
   },
   {
    "duration": 394,
    "start_time": "2024-04-03T20:00:51.310Z"
   },
   {
    "duration": 11,
    "start_time": "2024-04-03T20:07:02.078Z"
   },
   {
    "duration": 86,
    "start_time": "2024-04-03T20:13:21.534Z"
   },
   {
    "duration": 50,
    "start_time": "2024-04-03T23:35:46.098Z"
   },
   {
    "duration": 357,
    "start_time": "2024-04-03T23:35:56.251Z"
   },
   {
    "duration": 222,
    "start_time": "2024-04-03T23:35:56.610Z"
   },
   {
    "duration": 31,
    "start_time": "2024-04-03T23:35:56.833Z"
   },
   {
    "duration": 1838,
    "start_time": "2024-04-03T23:35:56.866Z"
   },
   {
    "duration": 7,
    "start_time": "2024-04-03T23:35:58.705Z"
   },
   {
    "duration": 7,
    "start_time": "2024-04-03T23:35:58.714Z"
   },
   {
    "duration": 9,
    "start_time": "2024-04-03T23:35:58.722Z"
   },
   {
    "duration": 10,
    "start_time": "2024-04-03T23:35:58.732Z"
   },
   {
    "duration": 98,
    "start_time": "2024-04-03T23:35:58.743Z"
   },
   {
    "duration": 218,
    "start_time": "2024-04-03T23:35:58.843Z"
   },
   {
    "duration": 5,
    "start_time": "2024-04-03T23:35:59.062Z"
   },
   {
    "duration": 12,
    "start_time": "2024-04-03T23:35:59.068Z"
   },
   {
    "duration": 22,
    "start_time": "2024-04-03T23:35:59.081Z"
   },
   {
    "duration": 10,
    "start_time": "2024-04-03T23:35:59.104Z"
   },
   {
    "duration": 11,
    "start_time": "2024-04-03T23:35:59.116Z"
   },
   {
    "duration": 24,
    "start_time": "2024-04-03T23:35:59.128Z"
   },
   {
    "duration": 20,
    "start_time": "2024-04-03T23:35:59.154Z"
   },
   {
    "duration": 280,
    "start_time": "2024-04-03T23:35:59.175Z"
   },
   {
    "duration": 5,
    "start_time": "2024-04-03T23:35:59.456Z"
   },
   {
    "duration": 295,
    "start_time": "2024-04-03T23:35:59.462Z"
   },
   {
    "duration": 6,
    "start_time": "2024-04-03T23:35:59.759Z"
   },
   {
    "duration": 359,
    "start_time": "2024-04-03T23:35:59.766Z"
   },
   {
    "duration": 7,
    "start_time": "2024-04-03T23:36:00.126Z"
   },
   {
    "duration": 383,
    "start_time": "2024-04-03T23:36:00.134Z"
   },
   {
    "duration": 8,
    "start_time": "2024-04-03T23:36:00.518Z"
   },
   {
    "duration": 280,
    "start_time": "2024-04-03T23:36:00.527Z"
   },
   {
    "duration": 8,
    "start_time": "2024-04-03T23:36:00.809Z"
   },
   {
    "duration": 48,
    "start_time": "2024-04-03T23:36:00.821Z"
   },
   {
    "duration": 265,
    "start_time": "2024-04-03T23:36:00.870Z"
   },
   {
    "duration": 6,
    "start_time": "2024-04-03T23:36:01.136Z"
   },
   {
    "duration": 280,
    "start_time": "2024-04-03T23:36:01.143Z"
   },
   {
    "duration": 4,
    "start_time": "2024-04-03T23:36:01.424Z"
   },
   {
    "duration": 363,
    "start_time": "2024-04-03T23:36:01.429Z"
   },
   {
    "duration": 37,
    "start_time": "2024-04-03T23:36:01.793Z"
   },
   {
    "duration": 139,
    "start_time": "2024-04-03T23:36:01.832Z"
   },
   {
    "duration": 93,
    "start_time": "2024-04-03T23:36:01.973Z"
   },
   {
    "duration": 148,
    "start_time": "2024-04-03T23:36:02.067Z"
   },
   {
    "duration": 23,
    "start_time": "2024-04-03T23:36:02.217Z"
   },
   {
    "duration": 167,
    "start_time": "2024-04-03T23:36:02.241Z"
   },
   {
    "duration": 127,
    "start_time": "2024-04-03T23:36:02.409Z"
   },
   {
    "duration": 138,
    "start_time": "2024-04-03T23:36:02.537Z"
   },
   {
    "duration": 463,
    "start_time": "2024-04-03T23:36:02.677Z"
   },
   {
    "duration": 1015,
    "start_time": "2024-04-03T23:36:03.141Z"
   },
   {
    "duration": 28,
    "start_time": "2024-04-03T23:36:04.157Z"
   },
   {
    "duration": 118,
    "start_time": "2024-04-03T23:36:04.186Z"
   },
   {
    "duration": 56,
    "start_time": "2024-04-03T23:47:27.203Z"
   },
   {
    "duration": 7,
    "start_time": "2024-04-03T23:50:21.231Z"
   },
   {
    "duration": 71,
    "start_time": "2024-04-03T23:58:37.057Z"
   },
   {
    "duration": 22,
    "start_time": "2024-04-03T23:58:50.585Z"
   },
   {
    "duration": 71,
    "start_time": "2024-04-04T00:00:46.049Z"
   },
   {
    "duration": 12,
    "start_time": "2024-04-04T00:01:33.200Z"
   },
   {
    "duration": 22,
    "start_time": "2024-04-04T00:01:47.181Z"
   },
   {
    "duration": 11,
    "start_time": "2024-04-04T00:02:54.503Z"
   },
   {
    "duration": 22,
    "start_time": "2024-04-04T00:03:21.103Z"
   },
   {
    "duration": 22,
    "start_time": "2024-04-04T00:03:58.459Z"
   },
   {
    "duration": 22,
    "start_time": "2024-04-04T00:04:45.321Z"
   },
   {
    "duration": 2,
    "start_time": "2024-04-04T00:05:16.084Z"
   },
   {
    "duration": 14,
    "start_time": "2024-04-04T00:05:36.372Z"
   },
   {
    "duration": 218,
    "start_time": "2024-04-04T00:10:04.193Z"
   },
   {
    "duration": 246,
    "start_time": "2024-04-04T00:10:51.861Z"
   },
   {
    "duration": 211,
    "start_time": "2024-04-04T01:07:58.581Z"
   },
   {
    "duration": 204,
    "start_time": "2024-04-04T01:08:38.297Z"
   },
   {
    "duration": 219,
    "start_time": "2024-04-04T01:09:14.084Z"
   },
   {
    "duration": 333,
    "start_time": "2024-04-04T01:09:47.530Z"
   },
   {
    "duration": 92,
    "start_time": "2024-04-04T01:09:47.865Z"
   },
   {
    "duration": 33,
    "start_time": "2024-04-04T01:09:47.959Z"
   },
   {
    "duration": 1715,
    "start_time": "2024-04-04T01:09:47.993Z"
   },
   {
    "duration": 6,
    "start_time": "2024-04-04T01:09:49.709Z"
   },
   {
    "duration": 13,
    "start_time": "2024-04-04T01:09:49.716Z"
   },
   {
    "duration": 6,
    "start_time": "2024-04-04T01:09:49.730Z"
   },
   {
    "duration": 4,
    "start_time": "2024-04-04T01:09:49.737Z"
   },
   {
    "duration": 94,
    "start_time": "2024-04-04T01:09:49.743Z"
   },
   {
    "duration": 220,
    "start_time": "2024-04-04T01:09:49.839Z"
   },
   {
    "duration": 5,
    "start_time": "2024-04-04T01:09:50.060Z"
   },
   {
    "duration": 31,
    "start_time": "2024-04-04T01:09:50.067Z"
   },
   {
    "duration": 12,
    "start_time": "2024-04-04T01:09:50.099Z"
   },
   {
    "duration": 12,
    "start_time": "2024-04-04T01:09:50.112Z"
   },
   {
    "duration": 89,
    "start_time": "2024-04-04T01:09:50.125Z"
   },
   {
    "duration": 0,
    "start_time": "2024-04-04T01:09:50.216Z"
   },
   {
    "duration": 0,
    "start_time": "2024-04-04T01:09:50.217Z"
   },
   {
    "duration": 0,
    "start_time": "2024-04-04T01:09:50.218Z"
   },
   {
    "duration": 0,
    "start_time": "2024-04-04T01:09:50.218Z"
   },
   {
    "duration": 0,
    "start_time": "2024-04-04T01:09:50.219Z"
   },
   {
    "duration": 0,
    "start_time": "2024-04-04T01:09:50.220Z"
   },
   {
    "duration": 0,
    "start_time": "2024-04-04T01:09:50.221Z"
   },
   {
    "duration": 0,
    "start_time": "2024-04-04T01:09:50.221Z"
   },
   {
    "duration": 0,
    "start_time": "2024-04-04T01:09:50.222Z"
   },
   {
    "duration": 0,
    "start_time": "2024-04-04T01:09:50.223Z"
   },
   {
    "duration": 0,
    "start_time": "2024-04-04T01:09:50.224Z"
   },
   {
    "duration": 0,
    "start_time": "2024-04-04T01:09:50.225Z"
   },
   {
    "duration": 0,
    "start_time": "2024-04-04T01:09:50.226Z"
   },
   {
    "duration": 0,
    "start_time": "2024-04-04T01:09:50.227Z"
   },
   {
    "duration": 0,
    "start_time": "2024-04-04T01:09:50.228Z"
   },
   {
    "duration": 0,
    "start_time": "2024-04-04T01:09:50.229Z"
   },
   {
    "duration": 0,
    "start_time": "2024-04-04T01:09:50.229Z"
   },
   {
    "duration": 0,
    "start_time": "2024-04-04T01:09:50.230Z"
   },
   {
    "duration": 0,
    "start_time": "2024-04-04T01:09:50.231Z"
   },
   {
    "duration": 0,
    "start_time": "2024-04-04T01:09:50.232Z"
   },
   {
    "duration": 0,
    "start_time": "2024-04-04T01:09:50.232Z"
   },
   {
    "duration": 0,
    "start_time": "2024-04-04T01:09:50.233Z"
   },
   {
    "duration": 0,
    "start_time": "2024-04-04T01:09:50.234Z"
   },
   {
    "duration": 0,
    "start_time": "2024-04-04T01:09:50.234Z"
   },
   {
    "duration": 0,
    "start_time": "2024-04-04T01:09:50.235Z"
   },
   {
    "duration": 0,
    "start_time": "2024-04-04T01:09:50.236Z"
   },
   {
    "duration": 0,
    "start_time": "2024-04-04T01:09:50.237Z"
   },
   {
    "duration": 0,
    "start_time": "2024-04-04T01:09:50.237Z"
   },
   {
    "duration": 0,
    "start_time": "2024-04-04T01:09:50.238Z"
   },
   {
    "duration": 0,
    "start_time": "2024-04-04T01:09:50.239Z"
   },
   {
    "duration": 348,
    "start_time": "2024-04-04T01:11:21.527Z"
   },
   {
    "duration": 96,
    "start_time": "2024-04-04T01:11:21.877Z"
   },
   {
    "duration": 45,
    "start_time": "2024-04-04T01:11:21.974Z"
   },
   {
    "duration": 1686,
    "start_time": "2024-04-04T01:11:22.022Z"
   },
   {
    "duration": 7,
    "start_time": "2024-04-04T01:11:23.709Z"
   },
   {
    "duration": 7,
    "start_time": "2024-04-04T01:11:23.717Z"
   },
   {
    "duration": 12,
    "start_time": "2024-04-04T01:11:23.725Z"
   },
   {
    "duration": 5,
    "start_time": "2024-04-04T01:11:23.738Z"
   },
   {
    "duration": 96,
    "start_time": "2024-04-04T01:11:23.744Z"
   },
   {
    "duration": 212,
    "start_time": "2024-04-04T01:11:23.842Z"
   },
   {
    "duration": 5,
    "start_time": "2024-04-04T01:11:24.056Z"
   },
   {
    "duration": 8,
    "start_time": "2024-04-04T01:11:24.062Z"
   },
   {
    "duration": 11,
    "start_time": "2024-04-04T01:11:24.071Z"
   },
   {
    "duration": 27,
    "start_time": "2024-04-04T01:11:24.083Z"
   },
   {
    "duration": 77,
    "start_time": "2024-04-04T01:11:24.111Z"
   },
   {
    "duration": 0,
    "start_time": "2024-04-04T01:11:24.201Z"
   },
   {
    "duration": 0,
    "start_time": "2024-04-04T01:11:24.202Z"
   },
   {
    "duration": 0,
    "start_time": "2024-04-04T01:11:24.203Z"
   },
   {
    "duration": 0,
    "start_time": "2024-04-04T01:11:24.204Z"
   },
   {
    "duration": 0,
    "start_time": "2024-04-04T01:11:24.205Z"
   },
   {
    "duration": 0,
    "start_time": "2024-04-04T01:11:24.206Z"
   },
   {
    "duration": 0,
    "start_time": "2024-04-04T01:11:24.207Z"
   },
   {
    "duration": 0,
    "start_time": "2024-04-04T01:11:24.208Z"
   },
   {
    "duration": 0,
    "start_time": "2024-04-04T01:11:24.209Z"
   },
   {
    "duration": 0,
    "start_time": "2024-04-04T01:11:24.210Z"
   },
   {
    "duration": 0,
    "start_time": "2024-04-04T01:11:24.211Z"
   },
   {
    "duration": 0,
    "start_time": "2024-04-04T01:11:24.212Z"
   },
   {
    "duration": 0,
    "start_time": "2024-04-04T01:11:24.213Z"
   },
   {
    "duration": 0,
    "start_time": "2024-04-04T01:11:24.214Z"
   },
   {
    "duration": 0,
    "start_time": "2024-04-04T01:11:24.215Z"
   },
   {
    "duration": 0,
    "start_time": "2024-04-04T01:11:24.215Z"
   },
   {
    "duration": 0,
    "start_time": "2024-04-04T01:11:24.216Z"
   },
   {
    "duration": 0,
    "start_time": "2024-04-04T01:11:24.217Z"
   },
   {
    "duration": 0,
    "start_time": "2024-04-04T01:11:24.218Z"
   },
   {
    "duration": 0,
    "start_time": "2024-04-04T01:11:24.219Z"
   },
   {
    "duration": 0,
    "start_time": "2024-04-04T01:11:24.220Z"
   },
   {
    "duration": 0,
    "start_time": "2024-04-04T01:11:24.220Z"
   },
   {
    "duration": 0,
    "start_time": "2024-04-04T01:11:24.221Z"
   },
   {
    "duration": 0,
    "start_time": "2024-04-04T01:11:24.222Z"
   },
   {
    "duration": 0,
    "start_time": "2024-04-04T01:11:24.223Z"
   },
   {
    "duration": 0,
    "start_time": "2024-04-04T01:11:24.223Z"
   },
   {
    "duration": 0,
    "start_time": "2024-04-04T01:11:24.224Z"
   },
   {
    "duration": 0,
    "start_time": "2024-04-04T01:11:24.225Z"
   },
   {
    "duration": 0,
    "start_time": "2024-04-04T01:11:24.226Z"
   },
   {
    "duration": 0,
    "start_time": "2024-04-04T01:11:24.227Z"
   },
   {
    "duration": 344,
    "start_time": "2024-04-04T01:12:55.429Z"
   },
   {
    "duration": 97,
    "start_time": "2024-04-04T01:12:55.775Z"
   },
   {
    "duration": 36,
    "start_time": "2024-04-04T01:12:55.873Z"
   },
   {
    "duration": 1718,
    "start_time": "2024-04-04T01:12:55.910Z"
   },
   {
    "duration": 8,
    "start_time": "2024-04-04T01:12:57.629Z"
   },
   {
    "duration": 20,
    "start_time": "2024-04-04T01:12:57.638Z"
   },
   {
    "duration": 7,
    "start_time": "2024-04-04T01:12:57.659Z"
   },
   {
    "duration": 5,
    "start_time": "2024-04-04T01:12:57.667Z"
   },
   {
    "duration": 86,
    "start_time": "2024-04-04T01:12:57.673Z"
   },
   {
    "duration": 208,
    "start_time": "2024-04-04T01:12:57.761Z"
   },
   {
    "duration": 4,
    "start_time": "2024-04-04T01:12:57.970Z"
   },
   {
    "duration": 10,
    "start_time": "2024-04-04T01:12:57.975Z"
   },
   {
    "duration": 22,
    "start_time": "2024-04-04T01:12:57.986Z"
   },
   {
    "duration": 10,
    "start_time": "2024-04-04T01:12:58.009Z"
   },
   {
    "duration": 18,
    "start_time": "2024-04-04T01:12:58.021Z"
   },
   {
    "duration": 15,
    "start_time": "2024-04-04T01:12:58.040Z"
   },
   {
    "duration": 15,
    "start_time": "2024-04-04T01:12:58.057Z"
   },
   {
    "duration": 283,
    "start_time": "2024-04-04T01:12:58.074Z"
   },
   {
    "duration": 6,
    "start_time": "2024-04-04T01:12:58.358Z"
   },
   {
    "duration": 286,
    "start_time": "2024-04-04T01:12:58.365Z"
   },
   {
    "duration": 6,
    "start_time": "2024-04-04T01:12:58.653Z"
   },
   {
    "duration": 369,
    "start_time": "2024-04-04T01:12:58.660Z"
   },
   {
    "duration": 7,
    "start_time": "2024-04-04T01:12:59.030Z"
   },
   {
    "duration": 300,
    "start_time": "2024-04-04T01:12:59.038Z"
   },
   {
    "duration": 7,
    "start_time": "2024-04-04T01:12:59.339Z"
   },
   {
    "duration": 256,
    "start_time": "2024-04-04T01:12:59.347Z"
   },
   {
    "duration": 7,
    "start_time": "2024-04-04T01:12:59.605Z"
   },
   {
    "duration": 13,
    "start_time": "2024-04-04T01:12:59.614Z"
   },
   {
    "duration": 217,
    "start_time": "2024-04-04T01:12:59.628Z"
   },
   {
    "duration": 6,
    "start_time": "2024-04-04T01:12:59.846Z"
   },
   {
    "duration": 219,
    "start_time": "2024-04-04T01:12:59.854Z"
   },
   {
    "duration": 4,
    "start_time": "2024-04-04T01:13:00.075Z"
   },
   {
    "duration": 330,
    "start_time": "2024-04-04T01:13:00.080Z"
   },
   {
    "duration": 28,
    "start_time": "2024-04-04T01:13:00.412Z"
   },
   {
    "duration": 135,
    "start_time": "2024-04-04T01:13:00.442Z"
   },
   {
    "duration": 136,
    "start_time": "2024-04-04T01:13:00.578Z"
   },
   {
    "duration": 152,
    "start_time": "2024-04-04T01:13:00.715Z"
   },
   {
    "duration": 36,
    "start_time": "2024-04-04T01:13:00.868Z"
   },
   {
    "duration": 196,
    "start_time": "2024-04-04T01:13:00.905Z"
   },
   {
    "duration": 138,
    "start_time": "2024-04-04T01:13:01.102Z"
   },
   {
    "duration": 134,
    "start_time": "2024-04-04T01:13:01.242Z"
   },
   {
    "duration": 459,
    "start_time": "2024-04-04T01:13:01.377Z"
   },
   {
    "duration": 844,
    "start_time": "2024-04-04T01:13:01.837Z"
   },
   {
    "duration": 38,
    "start_time": "2024-04-04T01:13:02.682Z"
   },
   {
    "duration": 131,
    "start_time": "2024-04-04T01:13:02.722Z"
   },
   {
    "duration": 298,
    "start_time": "2024-04-04T01:14:33.542Z"
   },
   {
    "duration": 212,
    "start_time": "2024-04-04T01:15:29.052Z"
   },
   {
    "duration": 406,
    "start_time": "2024-04-04T01:15:41.974Z"
   },
   {
    "duration": 98,
    "start_time": "2024-04-04T01:15:42.382Z"
   },
   {
    "duration": 32,
    "start_time": "2024-04-04T01:15:42.482Z"
   },
   {
    "duration": 1721,
    "start_time": "2024-04-04T01:15:42.515Z"
   },
   {
    "duration": 7,
    "start_time": "2024-04-04T01:15:44.237Z"
   },
   {
    "duration": 8,
    "start_time": "2024-04-04T01:15:44.245Z"
   },
   {
    "duration": 6,
    "start_time": "2024-04-04T01:15:44.255Z"
   },
   {
    "duration": 10,
    "start_time": "2024-04-04T01:15:44.262Z"
   },
   {
    "duration": 84,
    "start_time": "2024-04-04T01:15:44.273Z"
   },
   {
    "duration": 203,
    "start_time": "2024-04-04T01:15:44.359Z"
   },
   {
    "duration": 4,
    "start_time": "2024-04-04T01:15:44.564Z"
   },
   {
    "duration": 14,
    "start_time": "2024-04-04T01:15:44.569Z"
   },
   {
    "duration": 18,
    "start_time": "2024-04-04T01:15:44.584Z"
   },
   {
    "duration": 11,
    "start_time": "2024-04-04T01:15:44.603Z"
   },
   {
    "duration": 17,
    "start_time": "2024-04-04T01:15:44.615Z"
   },
   {
    "duration": 16,
    "start_time": "2024-04-04T01:15:44.634Z"
   },
   {
    "duration": 17,
    "start_time": "2024-04-04T01:15:44.651Z"
   },
   {
    "duration": 281,
    "start_time": "2024-04-04T01:15:44.669Z"
   },
   {
    "duration": 6,
    "start_time": "2024-04-04T01:15:44.951Z"
   },
   {
    "duration": 295,
    "start_time": "2024-04-04T01:15:44.959Z"
   },
   {
    "duration": 7,
    "start_time": "2024-04-04T01:15:45.255Z"
   },
   {
    "duration": 358,
    "start_time": "2024-04-04T01:15:45.263Z"
   },
   {
    "duration": 7,
    "start_time": "2024-04-04T01:15:45.622Z"
   },
   {
    "duration": 291,
    "start_time": "2024-04-04T01:15:45.630Z"
   },
   {
    "duration": 7,
    "start_time": "2024-04-04T01:15:45.922Z"
   },
   {
    "duration": 271,
    "start_time": "2024-04-04T01:15:45.930Z"
   },
   {
    "duration": 7,
    "start_time": "2024-04-04T01:15:46.203Z"
   },
   {
    "duration": 6,
    "start_time": "2024-04-04T01:15:46.213Z"
   },
   {
    "duration": 223,
    "start_time": "2024-04-04T01:15:46.221Z"
   },
   {
    "duration": 6,
    "start_time": "2024-04-04T01:15:46.445Z"
   },
   {
    "duration": 222,
    "start_time": "2024-04-04T01:15:46.452Z"
   },
   {
    "duration": 4,
    "start_time": "2024-04-04T01:15:46.676Z"
   },
   {
    "duration": 263,
    "start_time": "2024-04-04T01:15:46.681Z"
   },
   {
    "duration": 26,
    "start_time": "2024-04-04T01:15:46.945Z"
   },
   {
    "duration": 104,
    "start_time": "2024-04-04T01:15:46.972Z"
   },
   {
    "duration": 96,
    "start_time": "2024-04-04T01:15:47.077Z"
   },
   {
    "duration": 151,
    "start_time": "2024-04-04T01:15:47.174Z"
   },
   {
    "duration": 24,
    "start_time": "2024-04-04T01:15:47.326Z"
   },
   {
    "duration": 139,
    "start_time": "2024-04-04T01:15:47.351Z"
   },
   {
    "duration": 125,
    "start_time": "2024-04-04T01:15:47.491Z"
   },
   {
    "duration": 130,
    "start_time": "2024-04-04T01:15:47.617Z"
   },
   {
    "duration": 455,
    "start_time": "2024-04-04T01:15:47.749Z"
   },
   {
    "duration": 817,
    "start_time": "2024-04-04T01:15:48.206Z"
   },
   {
    "duration": 31,
    "start_time": "2024-04-04T01:15:49.024Z"
   },
   {
    "duration": 114,
    "start_time": "2024-04-04T01:15:49.056Z"
   },
   {
    "duration": 311,
    "start_time": "2024-04-04T01:20:48.074Z"
   },
   {
    "duration": 273,
    "start_time": "2024-04-04T01:21:48.328Z"
   },
   {
    "duration": 369,
    "start_time": "2024-04-04T01:22:33.702Z"
   },
   {
    "duration": 96,
    "start_time": "2024-04-04T01:22:34.072Z"
   },
   {
    "duration": 36,
    "start_time": "2024-04-04T01:22:34.169Z"
   },
   {
    "duration": 1714,
    "start_time": "2024-04-04T01:22:34.206Z"
   },
   {
    "duration": 7,
    "start_time": "2024-04-04T01:22:35.921Z"
   },
   {
    "duration": 21,
    "start_time": "2024-04-04T01:22:35.930Z"
   },
   {
    "duration": 8,
    "start_time": "2024-04-04T01:22:35.952Z"
   },
   {
    "duration": 6,
    "start_time": "2024-04-04T01:22:35.962Z"
   },
   {
    "duration": 91,
    "start_time": "2024-04-04T01:22:35.969Z"
   },
   {
    "duration": 226,
    "start_time": "2024-04-04T01:22:36.062Z"
   },
   {
    "duration": 5,
    "start_time": "2024-04-04T01:22:36.289Z"
   },
   {
    "duration": 14,
    "start_time": "2024-04-04T01:22:36.301Z"
   },
   {
    "duration": 13,
    "start_time": "2024-04-04T01:22:36.316Z"
   },
   {
    "duration": 12,
    "start_time": "2024-04-04T01:22:36.330Z"
   },
   {
    "duration": 19,
    "start_time": "2024-04-04T01:22:36.343Z"
   },
   {
    "duration": 44,
    "start_time": "2024-04-04T01:22:36.364Z"
   },
   {
    "duration": 18,
    "start_time": "2024-04-04T01:22:36.410Z"
   },
   {
    "duration": 275,
    "start_time": "2024-04-04T01:22:36.429Z"
   },
   {
    "duration": 7,
    "start_time": "2024-04-04T01:22:36.706Z"
   },
   {
    "duration": 302,
    "start_time": "2024-04-04T01:22:36.714Z"
   },
   {
    "duration": 7,
    "start_time": "2024-04-04T01:22:37.018Z"
   },
   {
    "duration": 370,
    "start_time": "2024-04-04T01:22:37.027Z"
   },
   {
    "duration": 10,
    "start_time": "2024-04-04T01:22:37.398Z"
   },
   {
    "duration": 306,
    "start_time": "2024-04-04T01:22:37.409Z"
   },
   {
    "duration": 7,
    "start_time": "2024-04-04T01:22:37.716Z"
   },
   {
    "duration": 277,
    "start_time": "2024-04-04T01:22:37.724Z"
   },
   {
    "duration": 7,
    "start_time": "2024-04-04T01:22:38.003Z"
   },
   {
    "duration": 9,
    "start_time": "2024-04-04T01:22:38.013Z"
   },
   {
    "duration": 291,
    "start_time": "2024-04-04T01:22:38.024Z"
   },
   {
    "duration": 8,
    "start_time": "2024-04-04T01:22:38.317Z"
   },
   {
    "duration": 226,
    "start_time": "2024-04-04T01:22:38.326Z"
   },
   {
    "duration": 5,
    "start_time": "2024-04-04T01:22:38.553Z"
   },
   {
    "duration": 274,
    "start_time": "2024-04-04T01:22:38.560Z"
   },
   {
    "duration": 28,
    "start_time": "2024-04-04T01:22:38.835Z"
   },
   {
    "duration": 105,
    "start_time": "2024-04-04T01:22:38.864Z"
   },
   {
    "duration": 95,
    "start_time": "2024-04-04T01:22:38.971Z"
   },
   {
    "duration": 164,
    "start_time": "2024-04-04T01:22:39.067Z"
   },
   {
    "duration": 30,
    "start_time": "2024-04-04T01:22:39.233Z"
   },
   {
    "duration": 149,
    "start_time": "2024-04-04T01:22:39.264Z"
   },
   {
    "duration": 122,
    "start_time": "2024-04-04T01:22:39.414Z"
   },
   {
    "duration": 133,
    "start_time": "2024-04-04T01:22:39.538Z"
   },
   {
    "duration": 466,
    "start_time": "2024-04-04T01:22:39.672Z"
   },
   {
    "duration": 853,
    "start_time": "2024-04-04T01:22:40.140Z"
   },
   {
    "duration": 30,
    "start_time": "2024-04-04T01:22:41.001Z"
   },
   {
    "duration": 123,
    "start_time": "2024-04-04T01:22:41.033Z"
   },
   {
    "duration": 340,
    "start_time": "2024-04-04T01:24:03.986Z"
   },
   {
    "duration": 208,
    "start_time": "2024-04-04T01:26:16.771Z"
   },
   {
    "duration": 359,
    "start_time": "2024-04-04T01:28:05.015Z"
   },
   {
    "duration": 96,
    "start_time": "2024-04-04T01:28:05.375Z"
   },
   {
    "duration": 35,
    "start_time": "2024-04-04T01:28:05.472Z"
   },
   {
    "duration": 1719,
    "start_time": "2024-04-04T01:28:05.509Z"
   },
   {
    "duration": 7,
    "start_time": "2024-04-04T01:28:07.229Z"
   },
   {
    "duration": 7,
    "start_time": "2024-04-04T01:28:07.237Z"
   },
   {
    "duration": 7,
    "start_time": "2024-04-04T01:28:07.245Z"
   },
   {
    "duration": 4,
    "start_time": "2024-04-04T01:28:07.253Z"
   },
   {
    "duration": 86,
    "start_time": "2024-04-04T01:28:07.258Z"
   },
   {
    "duration": 205,
    "start_time": "2024-04-04T01:28:07.347Z"
   },
   {
    "duration": 4,
    "start_time": "2024-04-04T01:28:07.554Z"
   },
   {
    "duration": 14,
    "start_time": "2024-04-04T01:28:07.559Z"
   },
   {
    "duration": 15,
    "start_time": "2024-04-04T01:28:07.574Z"
   },
   {
    "duration": 16,
    "start_time": "2024-04-04T01:28:07.591Z"
   },
   {
    "duration": 20,
    "start_time": "2024-04-04T01:28:07.609Z"
   },
   {
    "duration": 17,
    "start_time": "2024-04-04T01:28:07.630Z"
   },
   {
    "duration": 17,
    "start_time": "2024-04-04T01:28:07.648Z"
   },
   {
    "duration": 294,
    "start_time": "2024-04-04T01:28:07.666Z"
   },
   {
    "duration": 6,
    "start_time": "2024-04-04T01:28:07.961Z"
   },
   {
    "duration": 300,
    "start_time": "2024-04-04T01:28:07.968Z"
   },
   {
    "duration": 6,
    "start_time": "2024-04-04T01:28:08.269Z"
   },
   {
    "duration": 348,
    "start_time": "2024-04-04T01:28:08.277Z"
   },
   {
    "duration": 6,
    "start_time": "2024-04-04T01:28:08.627Z"
   },
   {
    "duration": 292,
    "start_time": "2024-04-04T01:28:08.634Z"
   },
   {
    "duration": 6,
    "start_time": "2024-04-04T01:28:08.928Z"
   },
   {
    "duration": 285,
    "start_time": "2024-04-04T01:28:08.935Z"
   },
   {
    "duration": 8,
    "start_time": "2024-04-04T01:28:09.221Z"
   },
   {
    "duration": 7,
    "start_time": "2024-04-04T01:28:09.231Z"
   },
   {
    "duration": 292,
    "start_time": "2024-04-04T01:28:09.239Z"
   },
   {
    "duration": 6,
    "start_time": "2024-04-04T01:28:09.532Z"
   },
   {
    "duration": 220,
    "start_time": "2024-04-04T01:28:09.539Z"
   },
   {
    "duration": 4,
    "start_time": "2024-04-04T01:28:09.760Z"
   },
   {
    "duration": 258,
    "start_time": "2024-04-04T01:28:09.765Z"
   },
   {
    "duration": 27,
    "start_time": "2024-04-04T01:28:10.024Z"
   },
   {
    "duration": 102,
    "start_time": "2024-04-04T01:28:10.052Z"
   },
   {
    "duration": 99,
    "start_time": "2024-04-04T01:28:10.155Z"
   },
   {
    "duration": 182,
    "start_time": "2024-04-04T01:28:10.255Z"
   },
   {
    "duration": 24,
    "start_time": "2024-04-04T01:28:10.439Z"
   },
   {
    "duration": 141,
    "start_time": "2024-04-04T01:28:10.464Z"
   },
   {
    "duration": 125,
    "start_time": "2024-04-04T01:28:10.606Z"
   },
   {
    "duration": 129,
    "start_time": "2024-04-04T01:28:10.732Z"
   },
   {
    "duration": 459,
    "start_time": "2024-04-04T01:28:10.862Z"
   },
   {
    "duration": 826,
    "start_time": "2024-04-04T01:28:11.322Z"
   },
   {
    "duration": 27,
    "start_time": "2024-04-04T01:28:12.149Z"
   },
   {
    "duration": 110,
    "start_time": "2024-04-04T01:28:12.177Z"
   },
   {
    "duration": 310,
    "start_time": "2024-04-04T01:29:05.599Z"
   },
   {
    "duration": 337,
    "start_time": "2024-04-04T01:29:41.267Z"
   },
   {
    "duration": 271,
    "start_time": "2024-04-04T01:30:02.831Z"
   },
   {
    "duration": 817,
    "start_time": "2024-04-04T01:36:39.625Z"
   },
   {
    "duration": 510,
    "start_time": "2024-04-04T01:37:56.803Z"
   },
   {
    "duration": 872,
    "start_time": "2024-04-04T01:39:02.012Z"
   },
   {
    "duration": 299,
    "start_time": "2024-04-04T02:11:19.330Z"
   },
   {
    "duration": 300,
    "start_time": "2024-04-04T02:11:45.141Z"
   },
   {
    "duration": 250,
    "start_time": "2024-04-04T02:12:51.872Z"
   },
   {
    "duration": 243,
    "start_time": "2024-04-04T02:13:02.006Z"
   },
   {
    "duration": 304,
    "start_time": "2024-04-04T02:13:17.974Z"
   },
   {
    "duration": 303,
    "start_time": "2024-04-04T02:13:38.040Z"
   },
   {
    "duration": 318,
    "start_time": "2024-04-04T02:16:07.721Z"
   },
   {
    "duration": 362,
    "start_time": "2024-04-04T02:21:27.504Z"
   },
   {
    "duration": 382,
    "start_time": "2024-04-04T02:22:04.777Z"
   },
   {
    "duration": 285,
    "start_time": "2024-04-04T02:24:15.047Z"
   },
   {
    "duration": 273,
    "start_time": "2024-04-04T02:28:24.034Z"
   },
   {
    "duration": 290,
    "start_time": "2024-04-04T02:31:55.642Z"
   },
   {
    "duration": 269,
    "start_time": "2024-04-04T02:35:58.724Z"
   },
   {
    "duration": 359,
    "start_time": "2024-04-04T02:36:13.410Z"
   },
   {
    "duration": 277,
    "start_time": "2024-04-04T02:37:32.378Z"
   },
   {
    "duration": 68,
    "start_time": "2024-04-04T02:38:09.992Z"
   },
   {
    "duration": 280,
    "start_time": "2024-04-04T02:38:25.343Z"
   },
   {
    "duration": 213,
    "start_time": "2024-04-04T02:40:34.108Z"
   },
   {
    "duration": 88,
    "start_time": "2024-04-04T02:42:08.537Z"
   },
   {
    "duration": 91,
    "start_time": "2024-04-04T02:42:36.440Z"
   },
   {
    "duration": 93,
    "start_time": "2024-04-04T02:43:06.100Z"
   },
   {
    "duration": 152,
    "start_time": "2024-04-04T02:43:19.403Z"
   },
   {
    "duration": 102,
    "start_time": "2024-04-04T02:50:18.208Z"
   },
   {
    "duration": 92,
    "start_time": "2024-04-04T02:52:44.423Z"
   },
   {
    "duration": 94,
    "start_time": "2024-04-04T02:52:54.457Z"
   },
   {
    "duration": 319,
    "start_time": "2024-04-04T02:54:15.756Z"
   },
   {
    "duration": 97,
    "start_time": "2024-04-04T02:54:16.077Z"
   },
   {
    "duration": 35,
    "start_time": "2024-04-04T02:54:16.175Z"
   },
   {
    "duration": 1700,
    "start_time": "2024-04-04T02:54:16.212Z"
   },
   {
    "duration": 9,
    "start_time": "2024-04-04T02:54:17.913Z"
   },
   {
    "duration": 11,
    "start_time": "2024-04-04T02:54:17.923Z"
   },
   {
    "duration": 7,
    "start_time": "2024-04-04T02:54:17.935Z"
   },
   {
    "duration": 10,
    "start_time": "2024-04-04T02:54:17.944Z"
   },
   {
    "duration": 92,
    "start_time": "2024-04-04T02:54:17.956Z"
   },
   {
    "duration": 210,
    "start_time": "2024-04-04T02:54:18.051Z"
   },
   {
    "duration": 5,
    "start_time": "2024-04-04T02:54:18.263Z"
   },
   {
    "duration": 7,
    "start_time": "2024-04-04T02:54:18.269Z"
   },
   {
    "duration": 27,
    "start_time": "2024-04-04T02:54:18.277Z"
   },
   {
    "duration": 10,
    "start_time": "2024-04-04T02:54:18.305Z"
   },
   {
    "duration": 20,
    "start_time": "2024-04-04T02:54:18.316Z"
   },
   {
    "duration": 18,
    "start_time": "2024-04-04T02:54:18.337Z"
   },
   {
    "duration": 17,
    "start_time": "2024-04-04T02:54:18.356Z"
   },
   {
    "duration": 301,
    "start_time": "2024-04-04T02:54:18.374Z"
   },
   {
    "duration": 7,
    "start_time": "2024-04-04T02:54:18.676Z"
   },
   {
    "duration": 298,
    "start_time": "2024-04-04T02:54:18.684Z"
   },
   {
    "duration": 7,
    "start_time": "2024-04-04T02:54:18.983Z"
   },
   {
    "duration": 354,
    "start_time": "2024-04-04T02:54:18.992Z"
   },
   {
    "duration": 6,
    "start_time": "2024-04-04T02:54:19.348Z"
   },
   {
    "duration": 291,
    "start_time": "2024-04-04T02:54:19.355Z"
   },
   {
    "duration": 6,
    "start_time": "2024-04-04T02:54:19.648Z"
   },
   {
    "duration": 281,
    "start_time": "2024-04-04T02:54:19.655Z"
   },
   {
    "duration": 8,
    "start_time": "2024-04-04T02:54:19.937Z"
   },
   {
    "duration": 12,
    "start_time": "2024-04-04T02:54:19.947Z"
   },
   {
    "duration": 219,
    "start_time": "2024-04-04T02:54:19.960Z"
   },
   {
    "duration": 94,
    "start_time": "2024-04-04T02:54:20.180Z"
   },
   {
    "duration": 129,
    "start_time": "2024-04-04T02:54:20.276Z"
   },
   {
    "duration": 7,
    "start_time": "2024-04-04T02:54:20.407Z"
   },
   {
    "duration": 280,
    "start_time": "2024-04-04T02:54:20.415Z"
   },
   {
    "duration": 7,
    "start_time": "2024-04-04T02:54:20.696Z"
   },
   {
    "duration": 207,
    "start_time": "2024-04-04T02:54:20.704Z"
   },
   {
    "duration": 26,
    "start_time": "2024-04-04T02:54:20.912Z"
   },
   {
    "duration": 116,
    "start_time": "2024-04-04T02:54:20.939Z"
   },
   {
    "duration": 96,
    "start_time": "2024-04-04T02:54:21.057Z"
   },
   {
    "duration": 163,
    "start_time": "2024-04-04T02:54:21.154Z"
   },
   {
    "duration": 24,
    "start_time": "2024-04-04T02:54:21.318Z"
   },
   {
    "duration": 146,
    "start_time": "2024-04-04T02:54:21.343Z"
   },
   {
    "duration": 127,
    "start_time": "2024-04-04T02:54:21.491Z"
   },
   {
    "duration": 129,
    "start_time": "2024-04-04T02:54:21.619Z"
   },
   {
    "duration": 445,
    "start_time": "2024-04-04T02:54:21.749Z"
   },
   {
    "duration": 862,
    "start_time": "2024-04-04T02:54:22.195Z"
   },
   {
    "duration": 29,
    "start_time": "2024-04-04T02:54:23.058Z"
   },
   {
    "duration": 156,
    "start_time": "2024-04-04T02:54:23.102Z"
   },
   {
    "duration": 100,
    "start_time": "2024-04-04T02:55:23.209Z"
   },
   {
    "duration": 318,
    "start_time": "2024-04-04T03:00:37.254Z"
   },
   {
    "duration": 99,
    "start_time": "2024-04-04T03:00:37.574Z"
   },
   {
    "duration": 40,
    "start_time": "2024-04-04T03:00:37.674Z"
   },
   {
    "duration": 1728,
    "start_time": "2024-04-04T03:00:37.716Z"
   },
   {
    "duration": 9,
    "start_time": "2024-04-04T03:00:39.445Z"
   },
   {
    "duration": 8,
    "start_time": "2024-04-04T03:00:39.455Z"
   },
   {
    "duration": 7,
    "start_time": "2024-04-04T03:00:39.465Z"
   },
   {
    "duration": 5,
    "start_time": "2024-04-04T03:00:39.474Z"
   },
   {
    "duration": 101,
    "start_time": "2024-04-04T03:00:39.481Z"
   },
   {
    "duration": 222,
    "start_time": "2024-04-04T03:00:39.585Z"
   },
   {
    "duration": 5,
    "start_time": "2024-04-04T03:00:39.808Z"
   },
   {
    "duration": 18,
    "start_time": "2024-04-04T03:00:39.814Z"
   },
   {
    "duration": 12,
    "start_time": "2024-04-04T03:00:39.833Z"
   },
   {
    "duration": 12,
    "start_time": "2024-04-04T03:00:39.846Z"
   },
   {
    "duration": 20,
    "start_time": "2024-04-04T03:00:39.859Z"
   },
   {
    "duration": 36,
    "start_time": "2024-04-04T03:00:39.880Z"
   },
   {
    "duration": 17,
    "start_time": "2024-04-04T03:00:39.917Z"
   },
   {
    "duration": 273,
    "start_time": "2024-04-04T03:00:39.935Z"
   },
   {
    "duration": 5,
    "start_time": "2024-04-04T03:00:40.210Z"
   },
   {
    "duration": 323,
    "start_time": "2024-04-04T03:00:40.216Z"
   },
   {
    "duration": 6,
    "start_time": "2024-04-04T03:00:40.540Z"
   },
   {
    "duration": 356,
    "start_time": "2024-04-04T03:00:40.547Z"
   },
   {
    "duration": 8,
    "start_time": "2024-04-04T03:00:40.904Z"
   },
   {
    "duration": 290,
    "start_time": "2024-04-04T03:00:40.913Z"
   },
   {
    "duration": 7,
    "start_time": "2024-04-04T03:00:41.204Z"
   },
   {
    "duration": 262,
    "start_time": "2024-04-04T03:00:41.212Z"
   },
   {
    "duration": 7,
    "start_time": "2024-04-04T03:00:41.475Z"
   },
   {
    "duration": 17,
    "start_time": "2024-04-04T03:00:41.485Z"
   },
   {
    "duration": 211,
    "start_time": "2024-04-04T03:00:41.503Z"
   },
   {
    "duration": 94,
    "start_time": "2024-04-04T03:00:41.716Z"
   },
   {
    "duration": 119,
    "start_time": "2024-04-04T03:00:41.812Z"
   },
   {
    "duration": 7,
    "start_time": "2024-04-04T03:00:41.932Z"
   },
   {
    "duration": 283,
    "start_time": "2024-04-04T03:00:41.940Z"
   },
   {
    "duration": 4,
    "start_time": "2024-04-04T03:00:42.224Z"
   },
   {
    "duration": 214,
    "start_time": "2024-04-04T03:00:42.229Z"
   },
   {
    "duration": 31,
    "start_time": "2024-04-04T03:00:42.445Z"
   },
   {
    "duration": 107,
    "start_time": "2024-04-04T03:00:42.477Z"
   },
   {
    "duration": 92,
    "start_time": "2024-04-04T03:00:42.585Z"
   },
   {
    "duration": 147,
    "start_time": "2024-04-04T03:00:42.678Z"
   },
   {
    "duration": 23,
    "start_time": "2024-04-04T03:00:42.826Z"
   },
   {
    "duration": 132,
    "start_time": "2024-04-04T03:00:42.851Z"
   },
   {
    "duration": 127,
    "start_time": "2024-04-04T03:00:42.984Z"
   },
   {
    "duration": 130,
    "start_time": "2024-04-04T03:00:43.112Z"
   },
   {
    "duration": 443,
    "start_time": "2024-04-04T03:00:43.244Z"
   },
   {
    "duration": 827,
    "start_time": "2024-04-04T03:00:43.689Z"
   },
   {
    "duration": 35,
    "start_time": "2024-04-04T03:00:44.518Z"
   },
   {
    "duration": 171,
    "start_time": "2024-04-04T03:00:44.555Z"
   },
   {
    "duration": 87,
    "start_time": "2024-04-04T03:05:45.963Z"
   },
   {
    "duration": 82,
    "start_time": "2024-04-04T03:08:08.985Z"
   },
   {
    "duration": 107,
    "start_time": "2024-04-04T03:09:20.270Z"
   },
   {
    "duration": 171,
    "start_time": "2024-04-04T03:12:11.312Z"
   },
   {
    "duration": 184,
    "start_time": "2024-04-04T03:12:55.130Z"
   },
   {
    "duration": 166,
    "start_time": "2024-04-04T03:13:17.847Z"
   },
   {
    "duration": 394,
    "start_time": "2024-04-04T03:13:57.870Z"
   },
   {
    "duration": 99,
    "start_time": "2024-04-04T03:13:58.266Z"
   },
   {
    "duration": 40,
    "start_time": "2024-04-04T03:13:58.366Z"
   },
   {
    "duration": 1716,
    "start_time": "2024-04-04T03:13:58.408Z"
   },
   {
    "duration": 8,
    "start_time": "2024-04-04T03:14:00.125Z"
   },
   {
    "duration": 83,
    "start_time": "2024-04-04T03:14:00.134Z"
   },
   {
    "duration": 34,
    "start_time": "2024-04-04T03:14:00.218Z"
   },
   {
    "duration": 34,
    "start_time": "2024-04-04T03:14:00.254Z"
   },
   {
    "duration": 173,
    "start_time": "2024-04-04T03:14:00.289Z"
   },
   {
    "duration": 227,
    "start_time": "2024-04-04T03:14:00.465Z"
   },
   {
    "duration": 10,
    "start_time": "2024-04-04T03:14:00.693Z"
   },
   {
    "duration": 258,
    "start_time": "2024-04-04T03:14:00.705Z"
   },
   {
    "duration": 53,
    "start_time": "2024-04-04T03:14:00.964Z"
   },
   {
    "duration": 67,
    "start_time": "2024-04-04T03:14:01.019Z"
   },
   {
    "duration": 73,
    "start_time": "2024-04-04T03:14:01.087Z"
   },
   {
    "duration": 59,
    "start_time": "2024-04-04T03:14:01.162Z"
   },
   {
    "duration": 41,
    "start_time": "2024-04-04T03:14:01.222Z"
   },
   {
    "duration": 297,
    "start_time": "2024-04-04T03:14:01.264Z"
   },
   {
    "duration": 5,
    "start_time": "2024-04-04T03:14:01.563Z"
   },
   {
    "duration": 342,
    "start_time": "2024-04-04T03:14:01.569Z"
   },
   {
    "duration": 8,
    "start_time": "2024-04-04T03:14:01.913Z"
   },
   {
    "duration": 352,
    "start_time": "2024-04-04T03:14:01.922Z"
   },
   {
    "duration": 7,
    "start_time": "2024-04-04T03:14:02.276Z"
   },
   {
    "duration": 295,
    "start_time": "2024-04-04T03:14:02.284Z"
   },
   {
    "duration": 6,
    "start_time": "2024-04-04T03:14:02.581Z"
   },
   {
    "duration": 267,
    "start_time": "2024-04-04T03:14:02.588Z"
   },
   {
    "duration": 7,
    "start_time": "2024-04-04T03:14:02.857Z"
   },
   {
    "duration": 7,
    "start_time": "2024-04-04T03:14:02.866Z"
   },
   {
    "duration": 239,
    "start_time": "2024-04-04T03:14:02.874Z"
   },
   {
    "duration": 102,
    "start_time": "2024-04-04T03:14:03.114Z"
   },
   {
    "duration": 113,
    "start_time": "2024-04-04T03:14:03.217Z"
   },
   {
    "duration": 6,
    "start_time": "2024-04-04T03:14:03.332Z"
   },
   {
    "duration": 293,
    "start_time": "2024-04-04T03:14:03.339Z"
   },
   {
    "duration": 185,
    "start_time": "2024-04-04T03:14:03.633Z"
   },
   {
    "duration": 206,
    "start_time": "2024-04-04T03:14:03.819Z"
   },
   {
    "duration": 27,
    "start_time": "2024-04-04T03:14:04.026Z"
   },
   {
    "duration": 109,
    "start_time": "2024-04-04T03:14:04.054Z"
   },
   {
    "duration": 98,
    "start_time": "2024-04-04T03:14:04.164Z"
   },
   {
    "duration": 159,
    "start_time": "2024-04-04T03:14:04.263Z"
   },
   {
    "duration": 26,
    "start_time": "2024-04-04T03:14:04.424Z"
   },
   {
    "duration": 151,
    "start_time": "2024-04-04T03:14:04.452Z"
   },
   {
    "duration": 147,
    "start_time": "2024-04-04T03:14:04.605Z"
   },
   {
    "duration": 130,
    "start_time": "2024-04-04T03:14:04.753Z"
   },
   {
    "duration": 465,
    "start_time": "2024-04-04T03:14:04.885Z"
   },
   {
    "duration": 925,
    "start_time": "2024-04-04T03:14:05.351Z"
   },
   {
    "duration": 40,
    "start_time": "2024-04-04T03:14:06.277Z"
   },
   {
    "duration": 105,
    "start_time": "2024-04-04T03:14:06.318Z"
   },
   {
    "duration": 403,
    "start_time": "2024-04-04T03:53:22.785Z"
   },
   {
    "duration": 103,
    "start_time": "2024-04-04T03:53:23.190Z"
   },
   {
    "duration": 33,
    "start_time": "2024-04-04T03:53:23.294Z"
   },
   {
    "duration": 1732,
    "start_time": "2024-04-04T03:53:23.328Z"
   },
   {
    "duration": 7,
    "start_time": "2024-04-04T03:53:25.061Z"
   },
   {
    "duration": 11,
    "start_time": "2024-04-04T03:53:25.069Z"
   },
   {
    "duration": 7,
    "start_time": "2024-04-04T03:53:25.081Z"
   },
   {
    "duration": 15,
    "start_time": "2024-04-04T03:53:25.089Z"
   },
   {
    "duration": 86,
    "start_time": "2024-04-04T03:53:25.106Z"
   },
   {
    "duration": 215,
    "start_time": "2024-04-04T03:53:25.195Z"
   },
   {
    "duration": 4,
    "start_time": "2024-04-04T03:53:25.411Z"
   },
   {
    "duration": 18,
    "start_time": "2024-04-04T03:53:25.416Z"
   },
   {
    "duration": 12,
    "start_time": "2024-04-04T03:53:25.435Z"
   },
   {
    "duration": 11,
    "start_time": "2024-04-04T03:53:25.448Z"
   },
   {
    "duration": 23,
    "start_time": "2024-04-04T03:53:25.460Z"
   },
   {
    "duration": 32,
    "start_time": "2024-04-04T03:53:25.484Z"
   },
   {
    "duration": 17,
    "start_time": "2024-04-04T03:53:25.517Z"
   },
   {
    "duration": 276,
    "start_time": "2024-04-04T03:53:25.536Z"
   },
   {
    "duration": 6,
    "start_time": "2024-04-04T03:53:25.814Z"
   },
   {
    "duration": 297,
    "start_time": "2024-04-04T03:53:25.821Z"
   },
   {
    "duration": 7,
    "start_time": "2024-04-04T03:53:26.119Z"
   },
   {
    "duration": 340,
    "start_time": "2024-04-04T03:53:26.128Z"
   },
   {
    "duration": 80,
    "start_time": "2024-04-04T03:53:26.469Z"
   },
   {
    "duration": 7,
    "start_time": "2024-04-04T03:53:26.550Z"
   },
   {
    "duration": 291,
    "start_time": "2024-04-04T03:53:26.558Z"
   },
   {
    "duration": 7,
    "start_time": "2024-04-04T03:53:26.850Z"
   },
   {
    "duration": 263,
    "start_time": "2024-04-04T03:53:26.858Z"
   },
   {
    "duration": 7,
    "start_time": "2024-04-04T03:53:27.124Z"
   },
   {
    "duration": 9,
    "start_time": "2024-04-04T03:53:27.132Z"
   },
   {
    "duration": 237,
    "start_time": "2024-04-04T03:53:27.142Z"
   },
   {
    "duration": 98,
    "start_time": "2024-04-04T03:53:27.381Z"
   },
   {
    "duration": 103,
    "start_time": "2024-04-04T03:53:27.481Z"
   },
   {
    "duration": 20,
    "start_time": "2024-04-04T03:53:27.585Z"
   },
   {
    "duration": 273,
    "start_time": "2024-04-04T03:53:27.607Z"
   },
   {
    "duration": 187,
    "start_time": "2024-04-04T03:53:27.881Z"
   },
   {
    "duration": 220,
    "start_time": "2024-04-04T03:53:28.069Z"
   },
   {
    "duration": 33,
    "start_time": "2024-04-04T03:53:28.290Z"
   },
   {
    "duration": 105,
    "start_time": "2024-04-04T03:53:28.324Z"
   },
   {
    "duration": 99,
    "start_time": "2024-04-04T03:53:28.430Z"
   },
   {
    "duration": 148,
    "start_time": "2024-04-04T03:53:28.531Z"
   },
   {
    "duration": 27,
    "start_time": "2024-04-04T03:53:28.680Z"
   },
   {
    "duration": 142,
    "start_time": "2024-04-04T03:53:28.708Z"
   },
   {
    "duration": 131,
    "start_time": "2024-04-04T03:53:28.851Z"
   },
   {
    "duration": 190,
    "start_time": "2024-04-04T03:53:28.984Z"
   },
   {
    "duration": 430,
    "start_time": "2024-04-04T03:53:29.176Z"
   },
   {
    "duration": 931,
    "start_time": "2024-04-04T03:53:29.607Z"
   },
   {
    "duration": 28,
    "start_time": "2024-04-04T03:53:30.540Z"
   },
   {
    "duration": 152,
    "start_time": "2024-04-04T03:53:30.569Z"
   },
   {
    "duration": 160,
    "start_time": "2024-04-04T03:58:55.318Z"
   },
   {
    "duration": 225,
    "start_time": "2024-04-04T04:03:10.908Z"
   },
   {
    "duration": 162,
    "start_time": "2024-04-04T04:03:19.491Z"
   },
   {
    "duration": 179,
    "start_time": "2024-04-04T04:07:30.510Z"
   },
   {
    "duration": 258,
    "start_time": "2024-04-04T04:08:01.210Z"
   },
   {
    "duration": 330,
    "start_time": "2024-04-04T04:10:48.032Z"
   },
   {
    "duration": 93,
    "start_time": "2024-04-04T04:10:48.364Z"
   },
   {
    "duration": 32,
    "start_time": "2024-04-04T04:10:48.458Z"
   },
   {
    "duration": 1760,
    "start_time": "2024-04-04T04:10:48.492Z"
   },
   {
    "duration": 8,
    "start_time": "2024-04-04T04:10:50.253Z"
   },
   {
    "duration": 12,
    "start_time": "2024-04-04T04:10:50.262Z"
   },
   {
    "duration": 15,
    "start_time": "2024-04-04T04:10:50.278Z"
   },
   {
    "duration": 18,
    "start_time": "2024-04-04T04:10:50.295Z"
   },
   {
    "duration": 125,
    "start_time": "2024-04-04T04:10:50.315Z"
   },
   {
    "duration": 213,
    "start_time": "2024-04-04T04:10:50.442Z"
   },
   {
    "duration": 4,
    "start_time": "2024-04-04T04:10:50.657Z"
   },
   {
    "duration": 14,
    "start_time": "2024-04-04T04:10:50.663Z"
   },
   {
    "duration": 12,
    "start_time": "2024-04-04T04:10:50.678Z"
   },
   {
    "duration": 9,
    "start_time": "2024-04-04T04:10:50.701Z"
   },
   {
    "duration": 18,
    "start_time": "2024-04-04T04:10:50.712Z"
   },
   {
    "duration": 16,
    "start_time": "2024-04-04T04:10:50.731Z"
   },
   {
    "duration": 16,
    "start_time": "2024-04-04T04:10:50.748Z"
   },
   {
    "duration": 277,
    "start_time": "2024-04-04T04:10:50.765Z"
   },
   {
    "duration": 6,
    "start_time": "2024-04-04T04:10:51.043Z"
   },
   {
    "duration": 300,
    "start_time": "2024-04-04T04:10:51.050Z"
   },
   {
    "duration": 6,
    "start_time": "2024-04-04T04:10:51.352Z"
   },
   {
    "duration": 352,
    "start_time": "2024-04-04T04:10:51.359Z"
   },
   {
    "duration": 250,
    "start_time": "2024-04-04T04:10:51.712Z"
   },
   {
    "duration": 7,
    "start_time": "2024-04-04T04:10:51.963Z"
   },
   {
    "duration": 298,
    "start_time": "2024-04-04T04:10:51.971Z"
   },
   {
    "duration": 7,
    "start_time": "2024-04-04T04:10:52.270Z"
   },
   {
    "duration": 269,
    "start_time": "2024-04-04T04:10:52.278Z"
   },
   {
    "duration": 6,
    "start_time": "2024-04-04T04:10:52.550Z"
   },
   {
    "duration": 6,
    "start_time": "2024-04-04T04:10:52.558Z"
   },
   {
    "duration": 234,
    "start_time": "2024-04-04T04:10:52.565Z"
   },
   {
    "duration": 76,
    "start_time": "2024-04-04T04:10:52.801Z"
   },
   {
    "duration": 181,
    "start_time": "2024-04-04T04:10:52.878Z"
   },
   {
    "duration": 6,
    "start_time": "2024-04-04T04:10:53.060Z"
   },
   {
    "duration": 236,
    "start_time": "2024-04-04T04:10:53.068Z"
   },
   {
    "duration": 173,
    "start_time": "2024-04-04T04:10:53.305Z"
   },
   {
    "duration": 204,
    "start_time": "2024-04-04T04:10:53.480Z"
   },
   {
    "duration": 31,
    "start_time": "2024-04-04T04:10:53.685Z"
   },
   {
    "duration": 96,
    "start_time": "2024-04-04T04:10:53.717Z"
   },
   {
    "duration": 95,
    "start_time": "2024-04-04T04:10:53.814Z"
   },
   {
    "duration": 155,
    "start_time": "2024-04-04T04:10:53.910Z"
   },
   {
    "duration": 25,
    "start_time": "2024-04-04T04:10:54.066Z"
   },
   {
    "duration": 158,
    "start_time": "2024-04-04T04:10:54.101Z"
   },
   {
    "duration": 194,
    "start_time": "2024-04-04T04:10:54.261Z"
   },
   {
    "duration": 124,
    "start_time": "2024-04-04T04:10:54.457Z"
   },
   {
    "duration": 400,
    "start_time": "2024-04-04T04:10:54.582Z"
   },
   {
    "duration": 887,
    "start_time": "2024-04-04T04:10:54.983Z"
   },
   {
    "duration": 35,
    "start_time": "2024-04-04T04:10:55.871Z"
   },
   {
    "duration": 110,
    "start_time": "2024-04-04T04:10:55.907Z"
   },
   {
    "duration": 385,
    "start_time": "2024-04-04T04:12:02.467Z"
   },
   {
    "duration": 98,
    "start_time": "2024-04-04T04:12:02.854Z"
   },
   {
    "duration": 33,
    "start_time": "2024-04-04T04:12:02.954Z"
   },
   {
    "duration": 1783,
    "start_time": "2024-04-04T04:12:02.989Z"
   },
   {
    "duration": 7,
    "start_time": "2024-04-04T04:12:04.773Z"
   },
   {
    "duration": 11,
    "start_time": "2024-04-04T04:12:04.782Z"
   },
   {
    "duration": 7,
    "start_time": "2024-04-04T04:12:04.794Z"
   },
   {
    "duration": 10,
    "start_time": "2024-04-04T04:12:04.803Z"
   },
   {
    "duration": 89,
    "start_time": "2024-04-04T04:12:04.815Z"
   },
   {
    "duration": 225,
    "start_time": "2024-04-04T04:12:04.906Z"
   },
   {
    "duration": 5,
    "start_time": "2024-04-04T04:12:05.132Z"
   },
   {
    "duration": 24,
    "start_time": "2024-04-04T04:12:05.138Z"
   },
   {
    "duration": 22,
    "start_time": "2024-04-04T04:12:05.163Z"
   },
   {
    "duration": 15,
    "start_time": "2024-04-04T04:12:05.187Z"
   },
   {
    "duration": 25,
    "start_time": "2024-04-04T04:12:05.204Z"
   },
   {
    "duration": 48,
    "start_time": "2024-04-04T04:12:05.231Z"
   },
   {
    "duration": 19,
    "start_time": "2024-04-04T04:12:05.280Z"
   },
   {
    "duration": 265,
    "start_time": "2024-04-04T04:12:05.300Z"
   },
   {
    "duration": 5,
    "start_time": "2024-04-04T04:12:05.567Z"
   },
   {
    "duration": 295,
    "start_time": "2024-04-04T04:12:05.573Z"
   },
   {
    "duration": 6,
    "start_time": "2024-04-04T04:12:05.870Z"
   },
   {
    "duration": 362,
    "start_time": "2024-04-04T04:12:05.877Z"
   },
   {
    "duration": 263,
    "start_time": "2024-04-04T04:12:06.240Z"
   },
   {
    "duration": 7,
    "start_time": "2024-04-04T04:12:06.504Z"
   },
   {
    "duration": 299,
    "start_time": "2024-04-04T04:12:06.512Z"
   },
   {
    "duration": 6,
    "start_time": "2024-04-04T04:12:06.813Z"
   },
   {
    "duration": 274,
    "start_time": "2024-04-04T04:12:06.820Z"
   },
   {
    "duration": 5,
    "start_time": "2024-04-04T04:12:07.101Z"
   },
   {
    "duration": 16,
    "start_time": "2024-04-04T04:12:07.108Z"
   },
   {
    "duration": 231,
    "start_time": "2024-04-04T04:12:07.125Z"
   },
   {
    "duration": 85,
    "start_time": "2024-04-04T04:12:07.357Z"
   },
   {
    "duration": 155,
    "start_time": "2024-04-04T04:12:07.443Z"
   },
   {
    "duration": 5,
    "start_time": "2024-04-04T04:12:07.602Z"
   },
   {
    "duration": 220,
    "start_time": "2024-04-04T04:12:07.609Z"
   },
   {
    "duration": 181,
    "start_time": "2024-04-04T04:12:07.830Z"
   },
   {
    "duration": 207,
    "start_time": "2024-04-04T04:12:08.012Z"
   },
   {
    "duration": 24,
    "start_time": "2024-04-04T04:12:08.221Z"
   },
   {
    "duration": 102,
    "start_time": "2024-04-04T04:12:08.246Z"
   },
   {
    "duration": 95,
    "start_time": "2024-04-04T04:12:08.349Z"
   },
   {
    "duration": 148,
    "start_time": "2024-04-04T04:12:08.445Z"
   },
   {
    "duration": 29,
    "start_time": "2024-04-04T04:12:08.594Z"
   },
   {
    "duration": 139,
    "start_time": "2024-04-04T04:12:08.624Z"
   },
   {
    "duration": 193,
    "start_time": "2024-04-04T04:12:08.764Z"
   },
   {
    "duration": 131,
    "start_time": "2024-04-04T04:12:08.959Z"
   },
   {
    "duration": 393,
    "start_time": "2024-04-04T04:12:09.091Z"
   },
   {
    "duration": 884,
    "start_time": "2024-04-04T04:12:09.486Z"
   },
   {
    "duration": 44,
    "start_time": "2024-04-04T04:12:10.372Z"
   },
   {
    "duration": 110,
    "start_time": "2024-04-04T04:12:10.417Z"
   },
   {
    "duration": 217,
    "start_time": "2024-04-04T04:12:42.364Z"
   },
   {
    "duration": 244,
    "start_time": "2024-04-04T04:13:08.603Z"
   },
   {
    "duration": 232,
    "start_time": "2024-04-04T04:17:55.028Z"
   },
   {
    "duration": 85,
    "start_time": "2024-04-04T04:18:21.021Z"
   },
   {
    "duration": 150,
    "start_time": "2024-04-04T04:19:22.636Z"
   },
   {
    "duration": 223,
    "start_time": "2024-04-04T04:19:53.553Z"
   },
   {
    "duration": 148,
    "start_time": "2024-04-04T04:20:30.423Z"
   },
   {
    "duration": 388,
    "start_time": "2024-04-04T04:21:35.668Z"
   },
   {
    "duration": 97,
    "start_time": "2024-04-04T04:21:36.058Z"
   },
   {
    "duration": 33,
    "start_time": "2024-04-04T04:21:36.157Z"
   },
   {
    "duration": 1740,
    "start_time": "2024-04-04T04:21:36.192Z"
   },
   {
    "duration": 8,
    "start_time": "2024-04-04T04:21:37.933Z"
   },
   {
    "duration": 17,
    "start_time": "2024-04-04T04:21:37.942Z"
   },
   {
    "duration": 14,
    "start_time": "2024-04-04T04:21:37.960Z"
   },
   {
    "duration": 7,
    "start_time": "2024-04-04T04:21:37.975Z"
   },
   {
    "duration": 84,
    "start_time": "2024-04-04T04:21:37.983Z"
   },
   {
    "duration": 209,
    "start_time": "2024-04-04T04:21:38.069Z"
   },
   {
    "duration": 4,
    "start_time": "2024-04-04T04:21:38.279Z"
   },
   {
    "duration": 18,
    "start_time": "2024-04-04T04:21:38.284Z"
   },
   {
    "duration": 14,
    "start_time": "2024-04-04T04:21:38.303Z"
   },
   {
    "duration": 11,
    "start_time": "2024-04-04T04:21:38.318Z"
   },
   {
    "duration": 19,
    "start_time": "2024-04-04T04:21:38.330Z"
   },
   {
    "duration": 16,
    "start_time": "2024-04-04T04:21:38.350Z"
   },
   {
    "duration": 37,
    "start_time": "2024-04-04T04:21:38.367Z"
   },
   {
    "duration": 269,
    "start_time": "2024-04-04T04:21:38.405Z"
   },
   {
    "duration": 6,
    "start_time": "2024-04-04T04:21:38.675Z"
   },
   {
    "duration": 306,
    "start_time": "2024-04-04T04:21:38.683Z"
   },
   {
    "duration": 11,
    "start_time": "2024-04-04T04:21:38.991Z"
   },
   {
    "duration": 359,
    "start_time": "2024-04-04T04:21:39.003Z"
   },
   {
    "duration": 89,
    "start_time": "2024-04-04T04:21:39.363Z"
   },
   {
    "duration": 156,
    "start_time": "2024-04-04T04:21:39.453Z"
   },
   {
    "duration": 7,
    "start_time": "2024-04-04T04:21:39.610Z"
   },
   {
    "duration": 296,
    "start_time": "2024-04-04T04:21:39.618Z"
   },
   {
    "duration": 6,
    "start_time": "2024-04-04T04:21:39.916Z"
   },
   {
    "duration": 307,
    "start_time": "2024-04-04T04:21:39.925Z"
   },
   {
    "duration": 7,
    "start_time": "2024-04-04T04:21:40.234Z"
   },
   {
    "duration": 16,
    "start_time": "2024-04-04T04:21:40.243Z"
   },
   {
    "duration": 252,
    "start_time": "2024-04-04T04:21:40.260Z"
   },
   {
    "duration": 140,
    "start_time": "2024-04-04T04:21:40.513Z"
   },
   {
    "duration": 105,
    "start_time": "2024-04-04T04:21:40.654Z"
   },
   {
    "duration": 7,
    "start_time": "2024-04-04T04:21:40.760Z"
   },
   {
    "duration": 222,
    "start_time": "2024-04-04T04:21:40.769Z"
   },
   {
    "duration": 176,
    "start_time": "2024-04-04T04:21:40.993Z"
   },
   {
    "duration": 209,
    "start_time": "2024-04-04T04:21:41.171Z"
   },
   {
    "duration": 28,
    "start_time": "2024-04-04T04:21:41.381Z"
   },
   {
    "duration": 100,
    "start_time": "2024-04-04T04:21:41.410Z"
   },
   {
    "duration": 97,
    "start_time": "2024-04-04T04:21:41.511Z"
   },
   {
    "duration": 151,
    "start_time": "2024-04-04T04:21:41.610Z"
   },
   {
    "duration": 24,
    "start_time": "2024-04-04T04:21:41.763Z"
   },
   {
    "duration": 184,
    "start_time": "2024-04-04T04:21:41.789Z"
   },
   {
    "duration": 133,
    "start_time": "2024-04-04T04:21:41.975Z"
   },
   {
    "duration": 143,
    "start_time": "2024-04-04T04:21:42.109Z"
   },
   {
    "duration": 401,
    "start_time": "2024-04-04T04:21:42.253Z"
   },
   {
    "duration": 882,
    "start_time": "2024-04-04T04:21:42.655Z"
   },
   {
    "duration": 29,
    "start_time": "2024-04-04T04:21:43.538Z"
   },
   {
    "duration": 115,
    "start_time": "2024-04-04T04:21:43.568Z"
   },
   {
    "duration": 275,
    "start_time": "2024-04-04T04:23:09.690Z"
   },
   {
    "duration": 252,
    "start_time": "2024-04-04T04:24:19.567Z"
   },
   {
    "duration": 317,
    "start_time": "2024-04-04T04:24:49.515Z"
   },
   {
    "duration": 59,
    "start_time": "2024-04-04T04:25:30.180Z"
   },
   {
    "duration": 193,
    "start_time": "2024-04-04T04:25:43.218Z"
   },
   {
    "duration": 263,
    "start_time": "2024-04-04T04:25:58.646Z"
   },
   {
    "duration": 203,
    "start_time": "2024-04-04T04:27:09.634Z"
   },
   {
    "duration": 78,
    "start_time": "2024-04-04T04:27:51.267Z"
   },
   {
    "duration": 351,
    "start_time": "2024-04-04T04:32:48.516Z"
   },
   {
    "duration": 98,
    "start_time": "2024-04-04T04:32:48.869Z"
   },
   {
    "duration": 39,
    "start_time": "2024-04-04T04:32:48.969Z"
   },
   {
    "duration": 1774,
    "start_time": "2024-04-04T04:32:49.010Z"
   },
   {
    "duration": 7,
    "start_time": "2024-04-04T04:32:50.786Z"
   },
   {
    "duration": 15,
    "start_time": "2024-04-04T04:32:50.794Z"
   },
   {
    "duration": 20,
    "start_time": "2024-04-04T04:32:50.810Z"
   },
   {
    "duration": 15,
    "start_time": "2024-04-04T04:32:50.831Z"
   },
   {
    "duration": 89,
    "start_time": "2024-04-04T04:32:50.847Z"
   },
   {
    "duration": 217,
    "start_time": "2024-04-04T04:32:50.937Z"
   },
   {
    "duration": 5,
    "start_time": "2024-04-04T04:32:51.155Z"
   },
   {
    "duration": 15,
    "start_time": "2024-04-04T04:32:51.162Z"
   },
   {
    "duration": 26,
    "start_time": "2024-04-04T04:32:51.178Z"
   },
   {
    "duration": 11,
    "start_time": "2024-04-04T04:32:51.206Z"
   },
   {
    "duration": 20,
    "start_time": "2024-04-04T04:32:51.218Z"
   },
   {
    "duration": 17,
    "start_time": "2024-04-04T04:32:51.239Z"
   },
   {
    "duration": 17,
    "start_time": "2024-04-04T04:32:51.257Z"
   },
   {
    "duration": 277,
    "start_time": "2024-04-04T04:32:51.275Z"
   },
   {
    "duration": 6,
    "start_time": "2024-04-04T04:32:51.554Z"
   },
   {
    "duration": 354,
    "start_time": "2024-04-04T04:32:51.561Z"
   },
   {
    "duration": 7,
    "start_time": "2024-04-04T04:32:51.916Z"
   },
   {
    "duration": 500,
    "start_time": "2024-04-04T04:32:51.924Z"
   },
   {
    "duration": 88,
    "start_time": "2024-04-04T04:32:52.425Z"
   },
   {
    "duration": 168,
    "start_time": "2024-04-04T04:32:52.514Z"
   },
   {
    "duration": 7,
    "start_time": "2024-04-04T04:32:52.683Z"
   },
   {
    "duration": 290,
    "start_time": "2024-04-04T04:32:52.691Z"
   },
   {
    "duration": 7,
    "start_time": "2024-04-04T04:32:52.982Z"
   },
   {
    "duration": 308,
    "start_time": "2024-04-04T04:32:52.990Z"
   },
   {
    "duration": 7,
    "start_time": "2024-04-04T04:32:53.301Z"
   },
   {
    "duration": 12,
    "start_time": "2024-04-04T04:32:53.309Z"
   },
   {
    "duration": 229,
    "start_time": "2024-04-04T04:32:53.322Z"
   },
   {
    "duration": 148,
    "start_time": "2024-04-04T04:32:53.553Z"
   },
   {
    "duration": 160,
    "start_time": "2024-04-04T04:32:53.703Z"
   },
   {
    "duration": 7,
    "start_time": "2024-04-04T04:32:53.864Z"
   },
   {
    "duration": 236,
    "start_time": "2024-04-04T04:32:53.872Z"
   },
   {
    "duration": 176,
    "start_time": "2024-04-04T04:32:54.109Z"
   },
   {
    "duration": 237,
    "start_time": "2024-04-04T04:32:54.286Z"
   },
   {
    "duration": 25,
    "start_time": "2024-04-04T04:32:54.524Z"
   },
   {
    "duration": 109,
    "start_time": "2024-04-04T04:32:54.550Z"
   },
   {
    "duration": 96,
    "start_time": "2024-04-04T04:32:54.660Z"
   },
   {
    "duration": 148,
    "start_time": "2024-04-04T04:32:54.759Z"
   },
   {
    "duration": 23,
    "start_time": "2024-04-04T04:32:54.909Z"
   },
   {
    "duration": 194,
    "start_time": "2024-04-04T04:32:54.933Z"
   },
   {
    "duration": 134,
    "start_time": "2024-04-04T04:32:55.128Z"
   },
   {
    "duration": 129,
    "start_time": "2024-04-04T04:32:55.264Z"
   },
   {
    "duration": 397,
    "start_time": "2024-04-04T04:32:55.394Z"
   },
   {
    "duration": 884,
    "start_time": "2024-04-04T04:32:55.793Z"
   },
   {
    "duration": 33,
    "start_time": "2024-04-04T04:32:56.679Z"
   },
   {
    "duration": 110,
    "start_time": "2024-04-04T04:32:56.713Z"
   },
   {
    "duration": 338,
    "start_time": "2024-04-04T04:35:22.132Z"
   },
   {
    "duration": 95,
    "start_time": "2024-04-04T04:35:22.472Z"
   },
   {
    "duration": 33,
    "start_time": "2024-04-04T04:35:22.569Z"
   },
   {
    "duration": 1704,
    "start_time": "2024-04-04T04:35:22.604Z"
   },
   {
    "duration": 7,
    "start_time": "2024-04-04T04:35:24.309Z"
   },
   {
    "duration": 8,
    "start_time": "2024-04-04T04:35:24.317Z"
   },
   {
    "duration": 7,
    "start_time": "2024-04-04T04:35:24.326Z"
   },
   {
    "duration": 7,
    "start_time": "2024-04-04T04:35:24.334Z"
   },
   {
    "duration": 100,
    "start_time": "2024-04-04T04:35:24.343Z"
   },
   {
    "duration": 209,
    "start_time": "2024-04-04T04:35:24.445Z"
   },
   {
    "duration": 4,
    "start_time": "2024-04-04T04:35:24.655Z"
   },
   {
    "duration": 33,
    "start_time": "2024-04-04T04:35:24.660Z"
   },
   {
    "duration": 12,
    "start_time": "2024-04-04T04:35:24.697Z"
   },
   {
    "duration": 10,
    "start_time": "2024-04-04T04:35:24.710Z"
   },
   {
    "duration": 21,
    "start_time": "2024-04-04T04:35:24.721Z"
   },
   {
    "duration": 15,
    "start_time": "2024-04-04T04:35:24.743Z"
   },
   {
    "duration": 15,
    "start_time": "2024-04-04T04:35:24.760Z"
   },
   {
    "duration": 275,
    "start_time": "2024-04-04T04:35:24.777Z"
   },
   {
    "duration": 6,
    "start_time": "2024-04-04T04:35:25.053Z"
   },
   {
    "duration": 327,
    "start_time": "2024-04-04T04:35:25.060Z"
   },
   {
    "duration": 7,
    "start_time": "2024-04-04T04:35:25.388Z"
   },
   {
    "duration": 349,
    "start_time": "2024-04-04T04:35:25.401Z"
   },
   {
    "duration": 81,
    "start_time": "2024-04-04T04:35:25.751Z"
   },
   {
    "duration": 157,
    "start_time": "2024-04-04T04:35:25.834Z"
   },
   {
    "duration": 13,
    "start_time": "2024-04-04T04:35:25.992Z"
   },
   {
    "duration": 283,
    "start_time": "2024-04-04T04:35:26.006Z"
   },
   {
    "duration": 13,
    "start_time": "2024-04-04T04:35:26.290Z"
   },
   {
    "duration": 344,
    "start_time": "2024-04-04T04:35:26.306Z"
   },
   {
    "duration": 6,
    "start_time": "2024-04-04T04:35:26.652Z"
   },
   {
    "duration": 22,
    "start_time": "2024-04-04T04:35:26.659Z"
   },
   {
    "duration": 208,
    "start_time": "2024-04-04T04:35:26.683Z"
   },
   {
    "duration": 136,
    "start_time": "2024-04-04T04:35:26.893Z"
   },
   {
    "duration": 160,
    "start_time": "2024-04-04T04:35:27.030Z"
   },
   {
    "duration": 14,
    "start_time": "2024-04-04T04:35:27.191Z"
   },
   {
    "duration": 211,
    "start_time": "2024-04-04T04:35:27.207Z"
   },
   {
    "duration": 170,
    "start_time": "2024-04-04T04:35:27.419Z"
   },
   {
    "duration": 214,
    "start_time": "2024-04-04T04:35:27.590Z"
   },
   {
    "duration": 35,
    "start_time": "2024-04-04T04:35:27.805Z"
   },
   {
    "duration": 106,
    "start_time": "2024-04-04T04:35:27.842Z"
   },
   {
    "duration": 90,
    "start_time": "2024-04-04T04:35:27.950Z"
   },
   {
    "duration": 147,
    "start_time": "2024-04-04T04:35:28.041Z"
   },
   {
    "duration": 26,
    "start_time": "2024-04-04T04:35:28.189Z"
   },
   {
    "duration": 181,
    "start_time": "2024-04-04T04:35:28.216Z"
   },
   {
    "duration": 121,
    "start_time": "2024-04-04T04:35:28.401Z"
   },
   {
    "duration": 125,
    "start_time": "2024-04-04T04:35:28.523Z"
   },
   {
    "duration": 391,
    "start_time": "2024-04-04T04:35:28.649Z"
   },
   {
    "duration": 865,
    "start_time": "2024-04-04T04:35:29.041Z"
   },
   {
    "duration": 27,
    "start_time": "2024-04-04T04:35:29.908Z"
   },
   {
    "duration": 117,
    "start_time": "2024-04-04T04:35:29.936Z"
   },
   {
    "duration": 95,
    "start_time": "2024-04-04T04:37:10.953Z"
   },
   {
    "duration": 87,
    "start_time": "2024-04-04T04:37:21.751Z"
   },
   {
    "duration": 87,
    "start_time": "2024-04-04T04:37:59.937Z"
   },
   {
    "duration": 136,
    "start_time": "2024-04-04T04:39:02.285Z"
   },
   {
    "duration": 833,
    "start_time": "2024-04-04T04:48:06.575Z"
   },
   {
    "duration": 832,
    "start_time": "2024-04-04T04:49:37.726Z"
   },
   {
    "duration": 880,
    "start_time": "2024-04-04T04:52:07.159Z"
   },
   {
    "duration": 65,
    "start_time": "2024-04-04T04:53:44.243Z"
   },
   {
    "duration": 131,
    "start_time": "2024-04-04T04:59:31.039Z"
   },
   {
    "duration": 141,
    "start_time": "2024-04-04T04:59:59.199Z"
   },
   {
    "duration": 103,
    "start_time": "2024-04-04T05:02:29.829Z"
   },
   {
    "duration": 338,
    "start_time": "2024-04-04T05:07:11.426Z"
   },
   {
    "duration": 106,
    "start_time": "2024-04-04T05:07:11.766Z"
   },
   {
    "duration": 33,
    "start_time": "2024-04-04T05:07:11.873Z"
   },
   {
    "duration": 1693,
    "start_time": "2024-04-04T05:07:11.907Z"
   },
   {
    "duration": 7,
    "start_time": "2024-04-04T05:07:13.601Z"
   },
   {
    "duration": 14,
    "start_time": "2024-04-04T05:07:13.609Z"
   },
   {
    "duration": 8,
    "start_time": "2024-04-04T05:07:13.625Z"
   },
   {
    "duration": 24,
    "start_time": "2024-04-04T05:07:13.635Z"
   },
   {
    "duration": 81,
    "start_time": "2024-04-04T05:07:13.661Z"
   },
   {
    "duration": 208,
    "start_time": "2024-04-04T05:07:13.745Z"
   },
   {
    "duration": 5,
    "start_time": "2024-04-04T05:07:13.955Z"
   },
   {
    "duration": 12,
    "start_time": "2024-04-04T05:07:13.961Z"
   },
   {
    "duration": 13,
    "start_time": "2024-04-04T05:07:13.974Z"
   },
   {
    "duration": 10,
    "start_time": "2024-04-04T05:07:14.002Z"
   },
   {
    "duration": 19,
    "start_time": "2024-04-04T05:07:14.013Z"
   },
   {
    "duration": 16,
    "start_time": "2024-04-04T05:07:14.033Z"
   },
   {
    "duration": 16,
    "start_time": "2024-04-04T05:07:14.050Z"
   },
   {
    "duration": 273,
    "start_time": "2024-04-04T05:07:14.067Z"
   },
   {
    "duration": 5,
    "start_time": "2024-04-04T05:07:14.342Z"
   },
   {
    "duration": 312,
    "start_time": "2024-04-04T05:07:14.349Z"
   },
   {
    "duration": 8,
    "start_time": "2024-04-04T05:07:14.662Z"
   },
   {
    "duration": 362,
    "start_time": "2024-04-04T05:07:14.671Z"
   },
   {
    "duration": 95,
    "start_time": "2024-04-04T05:07:15.034Z"
   },
   {
    "duration": 162,
    "start_time": "2024-04-04T05:07:15.130Z"
   },
   {
    "duration": 9,
    "start_time": "2024-04-04T05:07:15.293Z"
   },
   {
    "duration": 313,
    "start_time": "2024-04-04T05:07:15.304Z"
   },
   {
    "duration": 7,
    "start_time": "2024-04-04T05:07:15.618Z"
   },
   {
    "duration": 293,
    "start_time": "2024-04-04T05:07:15.628Z"
   },
   {
    "duration": 6,
    "start_time": "2024-04-04T05:07:15.922Z"
   },
   {
    "duration": 13,
    "start_time": "2024-04-04T05:07:15.929Z"
   },
   {
    "duration": 210,
    "start_time": "2024-04-04T05:07:15.944Z"
   },
   {
    "duration": 134,
    "start_time": "2024-04-04T05:07:16.156Z"
   },
   {
    "duration": 158,
    "start_time": "2024-04-04T05:07:16.291Z"
   },
   {
    "duration": 7,
    "start_time": "2024-04-04T05:07:16.450Z"
   },
   {
    "duration": 145,
    "start_time": "2024-04-04T05:07:16.458Z"
   },
   {
    "duration": 202,
    "start_time": "2024-04-04T05:07:16.604Z"
   },
   {
    "duration": 25,
    "start_time": "2024-04-04T05:07:16.808Z"
   },
   {
    "duration": 101,
    "start_time": "2024-04-04T05:07:16.834Z"
   },
   {
    "duration": 95,
    "start_time": "2024-04-04T05:07:16.936Z"
   },
   {
    "duration": 144,
    "start_time": "2024-04-04T05:07:17.032Z"
   },
   {
    "duration": 31,
    "start_time": "2024-04-04T05:07:17.177Z"
   },
   {
    "duration": 133,
    "start_time": "2024-04-04T05:07:17.210Z"
   },
   {
    "duration": 173,
    "start_time": "2024-04-04T05:07:17.345Z"
   },
   {
    "duration": 130,
    "start_time": "2024-04-04T05:07:17.519Z"
   },
   {
    "duration": 381,
    "start_time": "2024-04-04T05:07:17.650Z"
   },
   {
    "duration": 880,
    "start_time": "2024-04-04T05:07:18.032Z"
   },
   {
    "duration": 123,
    "start_time": "2024-04-04T05:07:18.913Z"
   },
   {
    "duration": 113,
    "start_time": "2024-04-04T05:07:19.037Z"
   },
   {
    "duration": 125,
    "start_time": "2024-04-04T05:09:50.944Z"
   },
   {
    "duration": 126,
    "start_time": "2024-04-04T05:10:17.759Z"
   },
   {
    "duration": 97,
    "start_time": "2024-04-04T05:12:14.611Z"
   },
   {
    "duration": 162,
    "start_time": "2024-04-04T05:12:37.293Z"
   },
   {
    "duration": 173,
    "start_time": "2024-04-04T05:13:23.862Z"
   },
   {
    "duration": 137,
    "start_time": "2024-04-04T05:16:33.462Z"
   },
   {
    "duration": 384,
    "start_time": "2024-04-04T05:18:10.988Z"
   },
   {
    "duration": 107,
    "start_time": "2024-04-04T05:18:11.373Z"
   },
   {
    "duration": 36,
    "start_time": "2024-04-04T05:18:11.482Z"
   },
   {
    "duration": 1811,
    "start_time": "2024-04-04T05:18:11.521Z"
   },
   {
    "duration": 8,
    "start_time": "2024-04-04T05:18:13.334Z"
   },
   {
    "duration": 29,
    "start_time": "2024-04-04T05:18:13.344Z"
   },
   {
    "duration": 18,
    "start_time": "2024-04-04T05:18:13.375Z"
   },
   {
    "duration": 14,
    "start_time": "2024-04-04T05:18:13.394Z"
   },
   {
    "duration": 90,
    "start_time": "2024-04-04T05:18:13.410Z"
   },
   {
    "duration": 216,
    "start_time": "2024-04-04T05:18:13.503Z"
   },
   {
    "duration": 5,
    "start_time": "2024-04-04T05:18:13.721Z"
   },
   {
    "duration": 11,
    "start_time": "2024-04-04T05:18:13.727Z"
   },
   {
    "duration": 13,
    "start_time": "2024-04-04T05:18:13.739Z"
   },
   {
    "duration": 11,
    "start_time": "2024-04-04T05:18:13.754Z"
   },
   {
    "duration": 35,
    "start_time": "2024-04-04T05:18:13.766Z"
   },
   {
    "duration": 16,
    "start_time": "2024-04-04T05:18:13.803Z"
   },
   {
    "duration": 17,
    "start_time": "2024-04-04T05:18:13.820Z"
   },
   {
    "duration": 298,
    "start_time": "2024-04-04T05:18:13.838Z"
   },
   {
    "duration": 6,
    "start_time": "2024-04-04T05:18:14.137Z"
   },
   {
    "duration": 305,
    "start_time": "2024-04-04T05:18:14.144Z"
   },
   {
    "duration": 6,
    "start_time": "2024-04-04T05:18:14.450Z"
   },
   {
    "duration": 367,
    "start_time": "2024-04-04T05:18:14.457Z"
   },
   {
    "duration": 82,
    "start_time": "2024-04-04T05:18:14.825Z"
   },
   {
    "duration": 161,
    "start_time": "2024-04-04T05:18:14.908Z"
   },
   {
    "duration": 7,
    "start_time": "2024-04-04T05:18:15.070Z"
   },
   {
    "duration": 301,
    "start_time": "2024-04-04T05:18:15.078Z"
   },
   {
    "duration": 8,
    "start_time": "2024-04-04T05:18:15.381Z"
   },
   {
    "duration": 271,
    "start_time": "2024-04-04T05:18:15.403Z"
   },
   {
    "duration": 7,
    "start_time": "2024-04-04T05:18:15.676Z"
   },
   {
    "duration": 18,
    "start_time": "2024-04-04T05:18:15.684Z"
   },
   {
    "duration": 214,
    "start_time": "2024-04-04T05:18:15.703Z"
   },
   {
    "duration": 142,
    "start_time": "2024-04-04T05:18:15.919Z"
   },
   {
    "duration": 161,
    "start_time": "2024-04-04T05:18:16.063Z"
   },
   {
    "duration": 6,
    "start_time": "2024-04-04T05:18:16.225Z"
   },
   {
    "duration": 147,
    "start_time": "2024-04-04T05:18:16.232Z"
   },
   {
    "duration": 216,
    "start_time": "2024-04-04T05:18:16.380Z"
   },
   {
    "duration": 27,
    "start_time": "2024-04-04T05:18:16.598Z"
   },
   {
    "duration": 106,
    "start_time": "2024-04-04T05:18:16.626Z"
   },
   {
    "duration": 93,
    "start_time": "2024-04-04T05:18:16.734Z"
   },
   {
    "duration": 151,
    "start_time": "2024-04-04T05:18:16.828Z"
   },
   {
    "duration": 28,
    "start_time": "2024-04-04T05:18:16.980Z"
   },
   {
    "duration": 136,
    "start_time": "2024-04-04T05:18:17.009Z"
   },
   {
    "duration": 189,
    "start_time": "2024-04-04T05:18:17.147Z"
   },
   {
    "duration": 131,
    "start_time": "2024-04-04T05:18:17.337Z"
   },
   {
    "duration": 390,
    "start_time": "2024-04-04T05:18:17.469Z"
   },
   {
    "duration": 921,
    "start_time": "2024-04-04T05:18:17.860Z"
   },
   {
    "duration": 176,
    "start_time": "2024-04-04T05:18:18.782Z"
   },
   {
    "duration": 180,
    "start_time": "2024-04-04T05:18:18.960Z"
   },
   {
    "duration": 378,
    "start_time": "2024-04-04T05:18:22.491Z"
   },
   {
    "duration": 96,
    "start_time": "2024-04-04T05:18:22.870Z"
   },
   {
    "duration": 44,
    "start_time": "2024-04-04T05:18:22.967Z"
   },
   {
    "duration": 1688,
    "start_time": "2024-04-04T05:18:23.012Z"
   },
   {
    "duration": 8,
    "start_time": "2024-04-04T05:18:24.701Z"
   },
   {
    "duration": 11,
    "start_time": "2024-04-04T05:18:24.710Z"
   },
   {
    "duration": 6,
    "start_time": "2024-04-04T05:18:24.722Z"
   },
   {
    "duration": 5,
    "start_time": "2024-04-04T05:18:24.729Z"
   },
   {
    "duration": 102,
    "start_time": "2024-04-04T05:18:24.735Z"
   },
   {
    "duration": 225,
    "start_time": "2024-04-04T05:18:24.839Z"
   },
   {
    "duration": 4,
    "start_time": "2024-04-04T05:18:25.065Z"
   },
   {
    "duration": 11,
    "start_time": "2024-04-04T05:18:25.070Z"
   },
   {
    "duration": 20,
    "start_time": "2024-04-04T05:18:25.082Z"
   },
   {
    "duration": 12,
    "start_time": "2024-04-04T05:18:25.104Z"
   },
   {
    "duration": 18,
    "start_time": "2024-04-04T05:18:25.117Z"
   },
   {
    "duration": 16,
    "start_time": "2024-04-04T05:18:25.137Z"
   },
   {
    "duration": 20,
    "start_time": "2024-04-04T05:18:25.154Z"
   },
   {
    "duration": 276,
    "start_time": "2024-04-04T05:18:25.175Z"
   },
   {
    "duration": 5,
    "start_time": "2024-04-04T05:18:25.452Z"
   },
   {
    "duration": 332,
    "start_time": "2024-04-04T05:18:25.458Z"
   },
   {
    "duration": 13,
    "start_time": "2024-04-04T05:18:25.791Z"
   },
   {
    "duration": 354,
    "start_time": "2024-04-04T05:18:25.805Z"
   },
   {
    "duration": 86,
    "start_time": "2024-04-04T05:18:26.160Z"
   },
   {
    "duration": 157,
    "start_time": "2024-04-04T05:18:26.247Z"
   },
   {
    "duration": 7,
    "start_time": "2024-04-04T05:18:26.406Z"
   },
   {
    "duration": 290,
    "start_time": "2024-04-04T05:18:26.414Z"
   },
   {
    "duration": 7,
    "start_time": "2024-04-04T05:18:26.705Z"
   },
   {
    "duration": 287,
    "start_time": "2024-04-04T05:18:26.714Z"
   },
   {
    "duration": 7,
    "start_time": "2024-04-04T05:18:27.002Z"
   },
   {
    "duration": 28,
    "start_time": "2024-04-04T05:18:27.010Z"
   },
   {
    "duration": 236,
    "start_time": "2024-04-04T05:18:27.040Z"
   },
   {
    "duration": 150,
    "start_time": "2024-04-04T05:18:27.278Z"
   },
   {
    "duration": 159,
    "start_time": "2024-04-04T05:18:27.430Z"
   },
   {
    "duration": 13,
    "start_time": "2024-04-04T05:18:27.591Z"
   },
   {
    "duration": 142,
    "start_time": "2024-04-04T05:18:27.606Z"
   },
   {
    "duration": 210,
    "start_time": "2024-04-04T05:18:27.749Z"
   },
   {
    "duration": 25,
    "start_time": "2024-04-04T05:18:27.961Z"
   },
   {
    "duration": 100,
    "start_time": "2024-04-04T05:18:27.987Z"
   },
   {
    "duration": 99,
    "start_time": "2024-04-04T05:18:28.088Z"
   },
   {
    "duration": 154,
    "start_time": "2024-04-04T05:18:28.189Z"
   },
   {
    "duration": 23,
    "start_time": "2024-04-04T05:18:28.345Z"
   },
   {
    "duration": 144,
    "start_time": "2024-04-04T05:18:28.369Z"
   },
   {
    "duration": 180,
    "start_time": "2024-04-04T05:18:28.514Z"
   },
   {
    "duration": 124,
    "start_time": "2024-04-04T05:18:28.695Z"
   },
   {
    "duration": 404,
    "start_time": "2024-04-04T05:18:28.820Z"
   },
   {
    "duration": 907,
    "start_time": "2024-04-04T05:18:29.226Z"
   },
   {
    "duration": 169,
    "start_time": "2024-04-04T05:18:30.134Z"
   },
   {
    "duration": 118,
    "start_time": "2024-04-04T05:18:30.304Z"
   },
   {
    "duration": 321,
    "start_time": "2024-04-04T05:21:24.750Z"
   },
   {
    "duration": 104,
    "start_time": "2024-04-04T05:21:25.073Z"
   },
   {
    "duration": 40,
    "start_time": "2024-04-04T05:21:25.178Z"
   },
   {
    "duration": 1716,
    "start_time": "2024-04-04T05:21:25.220Z"
   },
   {
    "duration": 7,
    "start_time": "2024-04-04T05:21:26.937Z"
   },
   {
    "duration": 95,
    "start_time": "2024-04-04T05:21:26.945Z"
   },
   {
    "duration": 18,
    "start_time": "2024-04-04T05:21:27.041Z"
   },
   {
    "duration": 7,
    "start_time": "2024-04-04T05:21:27.061Z"
   },
   {
    "duration": 104,
    "start_time": "2024-04-04T05:21:27.069Z"
   },
   {
    "duration": 209,
    "start_time": "2024-04-04T05:21:27.175Z"
   },
   {
    "duration": 5,
    "start_time": "2024-04-04T05:21:27.385Z"
   },
   {
    "duration": 8,
    "start_time": "2024-04-04T05:21:27.402Z"
   },
   {
    "duration": 13,
    "start_time": "2024-04-04T05:21:27.411Z"
   },
   {
    "duration": 10,
    "start_time": "2024-04-04T05:21:27.426Z"
   },
   {
    "duration": 27,
    "start_time": "2024-04-04T05:21:27.437Z"
   },
   {
    "duration": 16,
    "start_time": "2024-04-04T05:21:27.465Z"
   },
   {
    "duration": 28,
    "start_time": "2024-04-04T05:21:27.483Z"
   },
   {
    "duration": 274,
    "start_time": "2024-04-04T05:21:27.513Z"
   },
   {
    "duration": 6,
    "start_time": "2024-04-04T05:21:27.788Z"
   },
   {
    "duration": 296,
    "start_time": "2024-04-04T05:21:27.801Z"
   },
   {
    "duration": 7,
    "start_time": "2024-04-04T05:21:28.098Z"
   },
   {
    "duration": 369,
    "start_time": "2024-04-04T05:21:28.107Z"
   },
   {
    "duration": 86,
    "start_time": "2024-04-04T05:21:28.477Z"
   },
   {
    "duration": 165,
    "start_time": "2024-04-04T05:21:28.564Z"
   },
   {
    "duration": 6,
    "start_time": "2024-04-04T05:21:28.731Z"
   },
   {
    "duration": 296,
    "start_time": "2024-04-04T05:21:28.738Z"
   },
   {
    "duration": 7,
    "start_time": "2024-04-04T05:21:29.036Z"
   },
   {
    "duration": 298,
    "start_time": "2024-04-04T05:21:29.045Z"
   },
   {
    "duration": 6,
    "start_time": "2024-04-04T05:21:29.344Z"
   },
   {
    "duration": 18,
    "start_time": "2024-04-04T05:21:29.352Z"
   },
   {
    "duration": 214,
    "start_time": "2024-04-04T05:21:29.371Z"
   },
   {
    "duration": 146,
    "start_time": "2024-04-04T05:21:29.586Z"
   },
   {
    "duration": 156,
    "start_time": "2024-04-04T05:21:29.733Z"
   },
   {
    "duration": 14,
    "start_time": "2024-04-04T05:21:29.890Z"
   },
   {
    "duration": 142,
    "start_time": "2024-04-04T05:21:29.905Z"
   },
   {
    "duration": 219,
    "start_time": "2024-04-04T05:21:30.049Z"
   },
   {
    "duration": 36,
    "start_time": "2024-04-04T05:21:30.270Z"
   },
   {
    "duration": 123,
    "start_time": "2024-04-04T05:21:30.307Z"
   },
   {
    "duration": 96,
    "start_time": "2024-04-04T05:21:30.431Z"
   },
   {
    "duration": 149,
    "start_time": "2024-04-04T05:21:30.529Z"
   },
   {
    "duration": 26,
    "start_time": "2024-04-04T05:21:30.680Z"
   },
   {
    "duration": 251,
    "start_time": "2024-04-04T05:21:30.708Z"
   },
   {
    "duration": 239,
    "start_time": "2024-04-04T05:21:30.960Z"
   },
   {
    "duration": 125,
    "start_time": "2024-04-04T05:21:31.201Z"
   },
   {
    "duration": 409,
    "start_time": "2024-04-04T05:21:31.328Z"
   },
   {
    "duration": 883,
    "start_time": "2024-04-04T05:21:31.738Z"
   },
   {
    "duration": 161,
    "start_time": "2024-04-04T05:21:32.623Z"
   },
   {
    "duration": 107,
    "start_time": "2024-04-04T05:21:32.786Z"
   },
   {
    "duration": 424,
    "start_time": "2024-04-04T19:21:45.061Z"
   },
   {
    "duration": 112,
    "start_time": "2024-04-04T19:21:45.486Z"
   },
   {
    "duration": 39,
    "start_time": "2024-04-04T19:21:45.602Z"
   },
   {
    "duration": 2096,
    "start_time": "2024-04-04T19:21:45.644Z"
   },
   {
    "duration": 8,
    "start_time": "2024-04-04T19:21:47.742Z"
   },
   {
    "duration": 20,
    "start_time": "2024-04-04T19:21:47.751Z"
   },
   {
    "duration": 8,
    "start_time": "2024-04-04T19:21:47.773Z"
   },
   {
    "duration": 8,
    "start_time": "2024-04-04T19:21:47.782Z"
   },
   {
    "duration": 125,
    "start_time": "2024-04-04T19:21:47.791Z"
   },
   {
    "duration": 263,
    "start_time": "2024-04-04T19:21:47.918Z"
   },
   {
    "duration": 5,
    "start_time": "2024-04-04T19:21:48.183Z"
   },
   {
    "duration": 12,
    "start_time": "2024-04-04T19:21:48.189Z"
   },
   {
    "duration": 15,
    "start_time": "2024-04-04T19:21:48.204Z"
   },
   {
    "duration": 13,
    "start_time": "2024-04-04T19:21:48.221Z"
   },
   {
    "duration": 49,
    "start_time": "2024-04-04T19:21:48.235Z"
   },
   {
    "duration": 19,
    "start_time": "2024-04-04T19:21:48.286Z"
   },
   {
    "duration": 19,
    "start_time": "2024-04-04T19:21:48.307Z"
   },
   {
    "duration": 331,
    "start_time": "2024-04-04T19:21:48.328Z"
   },
   {
    "duration": 12,
    "start_time": "2024-04-04T19:21:48.660Z"
   },
   {
    "duration": 344,
    "start_time": "2024-04-04T19:21:48.674Z"
   },
   {
    "duration": 7,
    "start_time": "2024-04-04T19:21:49.020Z"
   },
   {
    "duration": 470,
    "start_time": "2024-04-04T19:21:49.029Z"
   },
   {
    "duration": 101,
    "start_time": "2024-04-04T19:21:49.500Z"
   },
   {
    "duration": 199,
    "start_time": "2024-04-04T19:21:49.603Z"
   },
   {
    "duration": 8,
    "start_time": "2024-04-04T19:21:49.804Z"
   },
   {
    "duration": 394,
    "start_time": "2024-04-04T19:21:49.814Z"
   },
   {
    "duration": 7,
    "start_time": "2024-04-04T19:21:50.210Z"
   },
   {
    "duration": 343,
    "start_time": "2024-04-04T19:21:50.219Z"
   },
   {
    "duration": 7,
    "start_time": "2024-04-04T19:21:50.564Z"
   },
   {
    "duration": 15,
    "start_time": "2024-04-04T19:21:50.573Z"
   },
   {
    "duration": 277,
    "start_time": "2024-04-04T19:21:50.590Z"
   },
   {
    "duration": 170,
    "start_time": "2024-04-04T19:21:50.869Z"
   },
   {
    "duration": 204,
    "start_time": "2024-04-04T19:21:51.041Z"
   },
   {
    "duration": 8,
    "start_time": "2024-04-04T19:21:51.246Z"
   },
   {
    "duration": 179,
    "start_time": "2024-04-04T19:21:51.265Z"
   },
   {
    "duration": 256,
    "start_time": "2024-04-04T19:21:51.446Z"
   },
   {
    "duration": 30,
    "start_time": "2024-04-04T19:21:51.704Z"
   },
   {
    "duration": 123,
    "start_time": "2024-04-04T19:21:51.735Z"
   },
   {
    "duration": 114,
    "start_time": "2024-04-04T19:21:51.860Z"
   },
   {
    "duration": 181,
    "start_time": "2024-04-04T19:21:51.978Z"
   },
   {
    "duration": 34,
    "start_time": "2024-04-04T19:21:52.160Z"
   },
   {
    "duration": 176,
    "start_time": "2024-04-04T19:21:52.196Z"
   },
   {
    "duration": 237,
    "start_time": "2024-04-04T19:21:52.374Z"
   },
   {
    "duration": 190,
    "start_time": "2024-04-04T19:21:52.613Z"
   },
   {
    "duration": 497,
    "start_time": "2024-04-04T19:21:52.805Z"
   },
   {
    "duration": 1084,
    "start_time": "2024-04-04T19:21:53.304Z"
   },
   {
    "duration": 199,
    "start_time": "2024-04-04T19:21:54.390Z"
   },
   {
    "duration": 133,
    "start_time": "2024-04-04T19:21:54.590Z"
   },
   {
    "duration": 75,
    "start_time": "2024-04-04T19:32:50.055Z"
   }
  ],
  "colab": {
   "provenance": []
  },
  "kernelspec": {
   "display_name": "Python 3 (ipykernel)",
   "language": "python",
   "name": "python3"
  },
  "language_info": {
   "codemirror_mode": {
    "name": "ipython",
    "version": 3
   },
   "file_extension": ".py",
   "mimetype": "text/x-python",
   "name": "python",
   "nbconvert_exporter": "python",
   "pygments_lexer": "ipython3",
   "version": "3.11.8"
  },
  "toc": {
   "base_numbering": 1,
   "nav_menu": {},
   "number_sections": true,
   "sideBar": true,
   "skip_h1_title": true,
   "title_cell": "Table of Contents",
   "title_sidebar": "Contents",
   "toc_cell": false,
   "toc_position": {},
   "toc_section_display": true,
   "toc_window_display": false
  }
 },
 "nbformat": 4,
 "nbformat_minor": 4
}
