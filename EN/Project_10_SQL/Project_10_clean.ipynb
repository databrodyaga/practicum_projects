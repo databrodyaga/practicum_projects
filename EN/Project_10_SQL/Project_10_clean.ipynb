{
 "cells": [
  {
   "cell_type": "markdown",
   "metadata": {},
   "source": [
    "# Tasks with solutions for the Startup Investments Database (Kaggle)\n",
    "\n",
    "Link on dataset - https://www.kaggle.com/justinas/startup-investments"
   ]
  },
  {
   "cell_type": "markdown",
   "metadata": {},
   "source": [
    "1. Show all records from the company table for companies that are closed."
   ]
  },
  {
   "cell_type": "code",
   "execution_count": null,
   "metadata": {
    "vscode": {
     "languageId": "sql"
    }
   },
   "outputs": [],
   "source": [
    "SELECT *\n",
    "FROM company\n",
    "WHERE company.status = 'closed'"
   ]
  },
  {
   "cell_type": "markdown",
   "metadata": {},
   "source": [
    "2. Show the amount of funds attracted for American news companies. Use data from the company table. Sort the table in descending order by the funding_total field."
   ]
  },
  {
   "cell_type": "code",
   "execution_count": null,
   "metadata": {
    "vscode": {
     "languageId": "sql"
    }
   },
   "outputs": [],
   "source": [
    "SELECT c.funding_total\n",
    "FROM company AS c\n",
    "WHERE c.category_code = 'news'\n",
    "    AND c.country_code = 'USA'\n",
    "ORDER BY c.funding_total DESC"
   ]
  },
  {
   "cell_type": "markdown",
   "metadata": {},
   "source": [
    "3. Find the total amount of deals where one company buys another company's shares for cash from 2011 to 2013 inclusive."
   ]
  },
  {
   "cell_type": "code",
   "execution_count": null,
   "metadata": {
    "vscode": {
     "languageId": "sql"
    }
   },
   "outputs": [],
   "source": [
    "\n",
    "SELECT SUM(price_amount)\n",
    "FROM acquisition AS a\n",
    "WHERE a.term_code = 'cash'\n",
    "    AND EXTRACT(YEAR FROM CAST(acquired_at AS timestamp)) BETWEEN 2011 AND 2013"
   ]
  },
  {
   "cell_type": "markdown",
   "metadata": {},
   "source": [
    "4. Show the first name, last name, and network_username of people whose network_username starts with 'Silver'. "
   ]
  },
  {
   "cell_type": "code",
   "execution_count": null,
   "metadata": {
    "vscode": {
     "languageId": "sql"
    }
   },
   "outputs": [],
   "source": [
    "\n",
    "SELECT first_name,\n",
    "       last_name,\n",
    "       network_username\n",
    "FROM people\n",
    "WHERE network_username LIKE 'Silver%'"
   ]
  },
  {
   "cell_type": "markdown",
   "metadata": {},
   "source": [
    "\n",
    "5. Show all the information about people whose network_username fields contain the substring 'money', and whose last names start with 'K'."
   ]
  },
  {
   "cell_type": "code",
   "execution_count": null,
   "metadata": {
    "vscode": {
     "languageId": "sql"
    }
   },
   "outputs": [],
   "source": [
    "SELECT *\n",
    "FROM people\n",
    "WHERE network_username LIKE '%money%'\n",
    "    AND last_name LIKE 'K%'"
   ]
  },
  {
   "cell_type": "markdown",
   "metadata": {},
   "source": [
    "6. For every country display the total amount of investments that have been received by companies registered in that country. The country in which the company is registered can be determined by the country code. Sort the data by descending amount."
   ]
  },
  {
   "cell_type": "code",
   "execution_count": null,
   "metadata": {
    "vscode": {
     "languageId": "sql"
    }
   },
   "outputs": [],
   "source": [
    "\n",
    "SELECT country_code,\n",
    "       SUM(funding_total)\n",
    "FROM company AS c\n",
    "GROUP BY country_code\n",
    "ORDER BY SUM(funding_total) DESC"
   ]
  },
  {
   "cell_type": "markdown",
   "metadata": {},
   "source": [
    "7. Make a table in which the date of the round is entered, as well as the minimum and maximum values of the amount of investments attracted on this date. Leave only those records in the final table in which the minimum value of the amount of investments is not zero and is not equal to the maximum value."
   ]
  },
  {
   "cell_type": "code",
   "execution_count": null,
   "metadata": {
    "vscode": {
     "languageId": "sql"
    }
   },
   "outputs": [],
   "source": [
    "SELECT funded_at,\n",
    "       MIN(raised_amount),\n",
    "       MAX(raised_amount)\n",
    "FROM funding_round\n",
    "GROUP BY funded_at\n",
    "HAVING MIN(raised_amount) != 0\n",
    "  AND MIN(raised_amount) != MAX(raised_amount)"
   ]
  },
  {
   "cell_type": "markdown",
   "metadata": {},
   "source": [
    "8. Create a New Field with Categories:  \n",
    "• For Funds That Invest in 100 or More Companies, Assign the Category \"high_activity\".  \n",
    "• For Funds That Invest in 20 to 100 Companies, Assign the Category \"middle_activity\".  \n",
    "• If the Number of Invested Companies Is Less Than 20, Assign the Category \"low_activity\".  \n",
    "Display All Table Fields and the New Category Field."
   ]
  },
  {
   "cell_type": "code",
   "execution_count": null,
   "metadata": {
    "vscode": {
     "languageId": "sql"
    }
   },
   "outputs": [],
   "source": [
    "SELECT *,\n",
    "       CASE\n",
    "           WHEN invested_companies >= 100 THEN 'high_activity'\n",
    "           WHEN invested_companies >= 20 AND invested_companies < 100\n",
    "           THEN 'middle_activity'\n",
    "           WHEN invested_companies < 20 THEN 'low_activity'\n",
    "       END AS category\n",
    "FROM fund"
   ]
  },
  {
   "cell_type": "markdown",
   "metadata": {},
   "source": [
    "9. For each of the categories in the previous task, calculate the rounded to the nearest integer average number of investment rounds in which the fund took part. Display the categories and the average number of investment rounds on the screen. Sort the table in ascending order of the average."
   ]
  },
  {
   "cell_type": "code",
   "execution_count": null,
   "metadata": {
    "vscode": {
     "languageId": "sql"
    }
   },
   "outputs": [],
   "source": [
    "SELECT\n",
    "       CASE\n",
    "           WHEN invested_companies>=100 THEN 'high_activity'\n",
    "           WHEN invested_companies>=20 THEN 'middle_activity'\n",
    "           ELSE 'low_activity'\n",
    "       END AS activity,\n",
    "       ROUND(AVG(investment_rounds)) AS avg_rounds\n",
    "FROM fund\n",
    "GROUP BY activity\n",
    "ORDER BY avg_rounds"
   ]
  },
  {
   "cell_type": "markdown",
   "metadata": {},
   "source": [
    "10.\tAnalyze in which countries the funds that most frequently invest in startups are located.\n",
    "For each country, calculate the minimum, maximum, and average number of companies invested in by funds from that country, established between 2010 and 2012 inclusive. Exclude countries with funds where the minimum number of companies receiving investments is zero.\n",
    "Export the ten most active investor countries: sort the table by the average number of companies from highest to lowest. Then add sorting by country code in lexicographic order."
   ]
  },
  {
   "cell_type": "code",
   "execution_count": null,
   "metadata": {
    "vscode": {
     "languageId": "sql"
    }
   },
   "outputs": [],
   "source": [
    "SELECT country_code,\n",
    "       MIN(invested_companies),\n",
    "       MAX(invested_companies),\n",
    "       AVG(invested_companies)\n",
    "FROM fund\n",
    "WHERE EXTRACT(YEAR FROM CAST(founded_at AS timestamp)) BETWEEN 2010 AND 2012\n",
    "GROUP BY country_code\n",
    "HAVING MIN(invested_companies) !=0\n",
    "ORDER BY AVG(invested_companies) DESC, country_code\n",
    "LIMIT 10"
   ]
  },
  {
   "cell_type": "markdown",
   "metadata": {},
   "source": [
    "11.  Display the names and surnames of all startup employees. Add a field with the name of the educational institution that the employee graduated from, if this information is known."
   ]
  },
  {
   "cell_type": "code",
   "execution_count": null,
   "metadata": {
    "vscode": {
     "languageId": "sql"
    }
   },
   "outputs": [],
   "source": [
    "SELECT first_name,\n",
    "       last_name,\n",
    "       instituition\n",
    "FROM people AS p LEFT OUTER JOIN education As e ON p.id = e.person_id"
   ]
  },
  {
   "cell_type": "markdown",
   "metadata": {},
   "source": [
    "12.  For each company, find the number of unique university names that its employees have graduated from. Display the company name and the number of unique university names. Make a top 5 of companies with most universities."
   ]
  },
  {
   "cell_type": "code",
   "execution_count": null,
   "metadata": {
    "vscode": {
     "languageId": "sql"
    }
   },
   "outputs": [],
   "source": [
    "SELECT c.name,\n",
    "       COUNT(DISTINCT e.instituition)\n",
    "FROM company AS c LEFT OUTER JOIN people AS p ON c.id = p.company_id\n",
    "                       INNER JOIN education AS e ON p.id = e.person_id\n",
    "GROUP BY c.name\n",
    "ORDER BY COUNT(DISTINCT e.instituition) DESC\n",
    "LIMIT 5"
   ]
  },
  {
   "cell_type": "markdown",
   "metadata": {},
   "source": [
    "13. Create a list of unique names of closed companies for which the first funding round was also the last."
   ]
  },
  {
   "cell_type": "code",
   "execution_count": null,
   "metadata": {
    "vscode": {
     "languageId": "sql"
    }
   },
   "outputs": [],
   "source": [
    "SELECT DISTINCT c.name\n",
    "FROM company AS c INNER JOIN funding_round AS fr ON c.id = fr.company_id\n",
    "WHERE c.status = 'closed'\n",
    "    AND fr.is_first_round = 1\n",
    "    AND fr.is_last_round = 1"
   ]
  },
  {
   "cell_type": "markdown",
   "metadata": {},
   "source": [
    "14.  Make a list of unique employee numbers of those who work in the companies selected in the previous task."
   ]
  },
  {
   "cell_type": "code",
   "execution_count": null,
   "metadata": {
    "vscode": {
     "languageId": "sql"
    }
   },
   "outputs": [],
   "source": [
    "SELECT DISTINCT p.id\n",
    "FROM people AS p INNER JOIN company AS c ON p.company_id = c.id\n",
    "WHERE c.name in (\n",
    "                SELECT DISTINCT c.name\n",
    "                FROM company AS c INNER JOIN funding_round AS fr ON c.id = fr.company_id\n",
    "                WHERE c.status = 'closed'\n",
    "                    AND fr.is_first_round = 1\n",
    "                    AND fr.is_last_round = 1)"
   ]
  },
  {
   "cell_type": "markdown",
   "metadata": {},
   "source": [
    "15.  Make a table where the unique pairs of employee numbers from the previous task and the educational institution where the employee graduated will go."
   ]
  },
  {
   "cell_type": "code",
   "execution_count": null,
   "metadata": {
    "vscode": {
     "languageId": "sql"
    }
   },
   "outputs": [],
   "source": [
    "SELECT DISTINCT person_id,\n",
    "    \t\t   instituition\n",
    "FROM education\n",
    "WHERE person_id IN (SELECT DISTINCT p.id\n",
    "                                        FROM people AS p INNER JOIN company AS c ON p.company_id = c.id\n",
    "                                       WHERE c.name in (\n",
    "                                SELECT DISTINCT c.name\n",
    "                   FROM company AS c INNER JOIN funding_round AS fr ON c.id =    \n",
    "                   fr.company_id\n",
    "                                WHERE c.status = 'closed'\n",
    "                                    AND fr.is_first_round = 1\n",
    "                                    AND fr.is_last_round = 1))"
   ]
  },
  {
   "cell_type": "markdown",
   "metadata": {},
   "source": [
    "16.  Count the number of educational institutions for each employee from the previous task. When counting, take into account that some employees may have graduated from the same institution twice. (The condition from the second sentence is not checked!)"
   ]
  },
  {
   "cell_type": "code",
   "execution_count": null,
   "metadata": {
    "vscode": {
     "languageId": "sql"
    }
   },
   "outputs": [],
   "source": [
    "SELECT DISTINCT person_id,\n",
    "             COUNT(instituition)\n",
    "FROM education\n",
    "WHERE person_id IN (SELECT DISTINCT p.id\n",
    "                    FROM people AS p INNER JOIN company AS c ON p.company_id = c.id\n",
    "                    WHERE c.name in (\n",
    "                                SELECT DISTINCT c.name\n",
    "                                FROM company AS c INNER JOIN funding_round AS fr ON c.id = fr.company_id\n",
    "                                WHERE c.status = 'closed'\n",
    "                                    AND fr.is_first_round = 1\n",
    "                                    AND fr.is_last_round = 1))\n",
    "GROUP BY person_id"
   ]
  },
  {
   "cell_type": "markdown",
   "metadata": {},
   "source": [
    "17.  Add the previous query and display the average number of educational institutions (all, not unique), which graduates employees of different companies. You need to display only one record, grouping here is not needed."
   ]
  },
  {
   "cell_type": "code",
   "execution_count": null,
   "metadata": {
    "vscode": {
     "languageId": "sql"
    }
   },
   "outputs": [],
   "source": [
    "WITH\n",
    "a AS (SELECT DISTINCT person_id,\n",
    "             COUNT(instituition) AS inst_count\n",
    "FROM education\n",
    "WHERE person_id IN (SELECT DISTINCT p.id\n",
    "                    FROM people AS p INNER JOIN company AS c ON p.company_id = c.id\n",
    "                    WHERE c.name in (\n",
    "                                SELECT DISTINCT c.name\n",
    "                                FROM company AS c INNER JOIN funding_round AS fr ON c.id = fr.company_id\n",
    "                                WHERE c.status = 'closed'\n",
    "                                    AND fr.is_first_round = 1\n",
    "                                    AND fr.is_last_round = 1))\n",
    "GROUP BY person_id)\n",
    "\n",
    "SELECT SUM(a.inst_count) / COUNT(a.person_id)\n",
    "FROM a"
   ]
  },
  {
   "cell_type": "markdown",
   "metadata": {},
   "source": [
    "18.  Write a similar query: display the average number of educational institutions (all, not only unique), which graduates employees of Socialnet."
   ]
  },
  {
   "cell_type": "code",
   "execution_count": null,
   "metadata": {
    "vscode": {
     "languageId": "sql"
    }
   },
   "outputs": [],
   "source": [
    "WITH a AS (SELECT  person_id,\n",
    "             COUNT(instituition) AS inst_count\n",
    "FROM education\n",
    "GROUP BY person_id),\n",
    "\n",
    "b AS (SELECT p.id AS pid\n",
    "      FROM people AS p INNER JOIN company AS c ON p.company_id = c.id\n",
    "      WHERE c.name = 'Socialnet')\n",
    "\n",
    "SELECT SUM(a.inst_count) / COUNT(a.person_id)\n",
    "FROM a INNER JOIN b ON a.person_id = b.pid"
   ]
  },
  {
   "cell_type": "markdown",
   "metadata": {},
   "source": [
    "19.\tCreate a table with the following fields:  \n",
    "•\tname_of_fund — fund name;  \n",
    "•\tname_of_company — company name;  \n",
    "•\tamount — amount of investment the company raised in the round.  \n",
    "The table will include data on companies that had more than six significant milestones in their history, with funding rounds occurring between 2012 and 2013 inclusive."
   ]
  },
  {
   "cell_type": "code",
   "execution_count": null,
   "metadata": {
    "vscode": {
     "languageId": "sql"
    }
   },
   "outputs": [],
   "source": [
    "SELECT f.name AS name_of_fund,\n",
    "       c.name AS name_of_company,\n",
    "       fr.raised_amount AS amount\n",
    "FROM fund AS f INNER JOIN investment As i ON f.id = i.fund_id\n",
    "               INNER JOIN funding_round As fr ON i.funding_round_id = fr.id\n",
    "               INNER JOIN company AS c ON fr.company_id = c.id\n",
    "WHERE c.milestones > 6\n",
    "    AND EXTRACT(YEAR FROM CAST(fr.funded_at AS timestamp)) BETWEEN 2012 AND 2013"
   ]
  },
  {
   "cell_type": "markdown",
   "metadata": {},
   "source": [
    "20.\tExport a table with the following fields:  \n",
    "•\tname of the acquiring company;  \n",
    "•\tdeal amount;  \n",
    "•\tname of the acquired company;  \n",
    "•\tamount of investment made in the acquired company;  \n",
    "•\tratio showing how many times the purchase amount exceeded the investment amount in the company, rounded to the nearest whole number.  \n",
    "  \n",
    "Exclude deals where the purchase amount is zero. If the investment amount in the company is zero, exclude that company from the table.  \n",
    "Sort the table by deal amount from highest to lowest, and then by the name of the acquired company in lexicographic order. Limit the table to the first ten entries."
   ]
  },
  {
   "cell_type": "code",
   "execution_count": null,
   "metadata": {
    "vscode": {
     "languageId": "sql"
    }
   },
   "outputs": [],
   "source": [
    "SELECT c_ing.name AS acquiring_company,\n",
    "       a.price_amount,\n",
    "       c_ed.name AS acquired_company,\n",
    "       c_ed.funding_total,\n",
    "       ROUND(a.price_amount / c_ed.funding_total)\n",
    "FROM acquisition AS a INNER JOIN company AS c_ing ON a.acquiring_company_id = c_ing.id\n",
    "                      INNER JOIN company AS c_ed ON a.acquired_company_id = c_ed.id\n",
    "WHERE a.price_amount != 0\n",
    "    AND c_ed.funding_total !=0\n",
    "ORDER BY a.price_amount DESC, acquired_company\n",
    "LIMIT 10"
   ]
  },
  {
   "cell_type": "markdown",
   "metadata": {},
   "source": [
    "21.  Show the table with the names of companies with social category that received funding in 2010-2013. Check that the sum of investments is not zero. Also show the number of the month in which the round of financing took place."
   ]
  },
  {
   "cell_type": "code",
   "execution_count": null,
   "metadata": {
    "vscode": {
     "languageId": "sql"
    }
   },
   "outputs": [],
   "source": [
    "SELECT c.name,\n",
    "       EXTRACT(MONTH FROM CAST(fr.funded_at AS timestamp)) AS funding_month\n",
    "FROM company AS c INNER JOIN funding_round AS fr ON c.id = fr.company_id\n",
    "WHERE c.category_code = 'social'\n",
    "    AND EXTRACT(YEAR FROM CAST(fr.funded_at AS timestamp)) BETWEEN 2010 AND 2013\n",
    "    AND fr.raised_amount !=0"
   ]
  },
  {
   "cell_type": "markdown",
   "metadata": {},
   "source": [
    "22. Select data for the months from 2010 to 2013 when funding rounds occurred. Group the data by month number and generate a table with the following fields:  \n",
    "•\tmonth number in which the rounds took place;  \n",
    "•\tnumber of unique fund names from the USA that invested in that month;  \n",
    "•\tnumber of companies acquired in that month;  \n",
    "•\ttotal deal amount for acquisitions in that month."
   ]
  },
  {
   "cell_type": "code",
   "execution_count": null,
   "metadata": {
    "vscode": {
     "languageId": "sql"
    }
   },
   "outputs": [],
   "source": [
    "\n",
    "SELECT x.*,\n",
    "       y.acquired_companies_count,\n",
    "       y.sum_amount\n",
    "FROM\n",
    "  (SELECT EXTRACT(MONTH FROM CAST(fr.funded_at AS timestamp)) AS funding_month,\n",
    "       COUNT(DISTINCT f.name) AS funds_count\n",
    "   FROM funding_round AS fr INNER JOIN investment AS i ON fr.id = i.funding_round_id\n",
    "                            INNER JOIN fund AS f ON i.fund_id = f.id\n",
    "   WHERE f.country_code = 'USA'\n",
    "       AND EXTRACT(YEAR FROM CAST(fr.funded_at AS timestamp)) BETWEEN 2010 AND 2013\n",
    "   GROUP BY funding_month) AS x\n",
    "LEFT OUTER JOIN\n",
    "  (SELECT EXTRACT(MONTH FROM CAST(acquired_at AS timestamp)) AS acquired_month,\n",
    "          COUNT(acquired_company_id) AS acquired_companies_count,\n",
    "          SUM(price_amount) AS sum_amount\n",
    "   FROM acquisition\n",
    "   WHERE EXTRACT(YEAR FROM CAST(acquired_at AS timestamp)) BETWEEN 2010 AND 2013\n",
    "   GROUP BY acquired_month\n",
    "   ORDER BY acquired_month) AS y \n",
    "   ON x.funding_month = y.acquired_month"
   ]
  },
  {
   "cell_type": "markdown",
   "metadata": {},
   "source": [
    "23.  Make a pivot table with the average amount of investments for countries with startups registered in 2011, 2012 and 2013. Data for each year should be in a separate field. Sort the table by the average value of investments in 2011 from highest to lowest."
   ]
  },
  {
   "cell_type": "code",
   "execution_count": null,
   "metadata": {
    "vscode": {
     "languageId": "sql"
    }
   },
   "outputs": [],
   "source": [
    "WITH\n",
    "     inv_2011 AS (SELECT country_code,\n",
    "                         SUM(funding_total) / COUNT(funding_total) AS sum2011\n",
    "                  FROM company AS c \n",
    "                  WHERE  EXTRACT(YEAR FROM CAST(c.founded_at AS timestamp)) = 2011\n",
    "                  GROUP BY country_code), \n",
    "     inv_2012 AS (SELECT country_code,\n",
    "                         SUM(funding_total) / COUNT(funding_total) AS sum2012\n",
    "                  FROM company AS c \n",
    "                  WHERE  EXTRACT(YEAR FROM CAST(c.founded_at AS timestamp)) = 2012\n",
    "                  GROUP BY country_code),\n",
    "     inv_2013 AS (SELECT country_code,\n",
    "                         SUM(funding_total) / COUNT(funding_total) AS sum2013\n",
    "                  FROM company AS c \n",
    "                  WHERE  EXTRACT(YEAR FROM CAST(c.founded_at AS timestamp)) = 2013\n",
    "                  GROUP BY country_code) \n",
    "     \n",
    "     \n",
    "SELECT inv_2011.country_code,\n",
    "       inv_2011.sum2011,\n",
    "       inv_2012.sum2012,\n",
    "       inv_2013.sum2013\n",
    "FROM inv_2011\n",
    "INNER JOIN inv_2012\n",
    "ON inv_2011.country_code = inv_2012.country_code\n",
    "INNER JOIN inv_2013\n",
    "ON inv_2011.country_code = inv_2013.country_code\n",
    "ORDER BY inv_2011.sum2011 DESC"
   ]
  }
 ],
 "metadata": {
  "language_info": {
   "name": "python"
  }
 },
 "nbformat": 4,
 "nbformat_minor": 2
}
