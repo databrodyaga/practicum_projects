{
 "cells": [
  {
   "cell_type": "markdown",
   "metadata": {},
   "source": [
    "# Analysis of Computer Game Sales at the StreamChick Store.\n",
    "\n",
    "The online store \"StreamChick\" sells computers games all around the world. Available historical data on game sales, user and critic reviews, genres, and platforms (e.g., Xbox or PlayStation) are accessible through open sources. The task is to identify key patterns that determine a game's success. This would enable making an informed bet on a potentially popular product and planning advertising campaigns. The data available dates back until 2016.\n",
    "\n",
    "In the dataset, there is an abbreviation for ESRB (Entertainment Software Rating Board) — it’s an association that evaluates video game content and assigns a suitable age category, like “For adults”, “For children under the age of 7” or “For teenagers”.  \n",
    "\n",
    "<a id='Content'></a>\n",
    "**Project Content** \\\n",
    "[Loading Data](#Loading-Data)\\\n",
    "[Data Preprocessing](#Data-Preprocessing)\\\n",
    "[Scientific Analysis of Data](#Scientific-Analysis-of-Data)\\\n",
    "[User Profile](#User-Profile)\\\n",
    "[Hypothesis Testing](#Hypothesis-Testing)\\\n",
    "[Overall Conclusion](#Overall-Conclusion)"
   ]
  },
  {
   "cell_type": "code",
   "execution_count": 1,
   "metadata": {},
   "outputs": [],
   "source": [
    "# importing libraries at the beginning of the project\n",
    "import pandas as pd\n",
    "import numpy as np\n",
    "import matplotlib.pyplot as plt\n",
    "from scipy import stats as st\n",
    "from scipy.stats import binom\n",
    "import scipy.stats as stats\n",
    "import matplotlib\n"
   ]
  },
  {
   "cell_type": "markdown",
   "metadata": {},
   "source": [
    "## Loading Data\n",
    "<a id='Loading-Data'></a> [To Content](#To-Content)"
   ]
  },
  {
   "cell_type": "code",
   "execution_count": 2,
   "metadata": {},
   "outputs": [
    {
     "name": "stdout",
     "output_type": "stream",
     "text": [
      "<class 'pandas.core.frame.DataFrame'>\n",
      "RangeIndex: 16715 entries, 0 to 16714\n",
      "Data columns (total 11 columns):\n",
      " #   Column           Non-Null Count  Dtype  \n",
      "---  ------           --------------  -----  \n",
      " 0   Name             16713 non-null  object \n",
      " 1   Platform         16715 non-null  object \n",
      " 2   Year_of_Release  16446 non-null  float64\n",
      " 3   Genre            16713 non-null  object \n",
      " 4   NA_sales         16715 non-null  float64\n",
      " 5   EU_sales         16715 non-null  float64\n",
      " 6   JP_sales         16715 non-null  float64\n",
      " 7   Other_sales      16715 non-null  float64\n",
      " 8   Critic_Score     8137 non-null   float64\n",
      " 9   User_Score       10014 non-null  object \n",
      " 10  Rating           9949 non-null   object \n",
      "dtypes: float64(6), object(5)\n",
      "memory usage: 1.4+ MB\n"
     ]
    },
    {
     "data": {
      "text/html": [
       "<div>\n",
       "<style scoped>\n",
       "    .dataframe tbody tr th:only-of-type {\n",
       "        vertical-align: middle;\n",
       "    }\n",
       "\n",
       "    .dataframe tbody tr th {\n",
       "        vertical-align: top;\n",
       "    }\n",
       "\n",
       "    .dataframe thead th {\n",
       "        text-align: right;\n",
       "    }\n",
       "</style>\n",
       "<table border=\"1\" class=\"dataframe\">\n",
       "  <thead>\n",
       "    <tr style=\"text-align: right;\">\n",
       "      <th></th>\n",
       "      <th>Name</th>\n",
       "      <th>Platform</th>\n",
       "      <th>Year_of_Release</th>\n",
       "      <th>Genre</th>\n",
       "      <th>NA_sales</th>\n",
       "      <th>EU_sales</th>\n",
       "      <th>JP_sales</th>\n",
       "      <th>Other_sales</th>\n",
       "      <th>Critic_Score</th>\n",
       "      <th>User_Score</th>\n",
       "      <th>Rating</th>\n",
       "    </tr>\n",
       "  </thead>\n",
       "  <tbody>\n",
       "    <tr>\n",
       "      <th>0</th>\n",
       "      <td>Wii Sports</td>\n",
       "      <td>Wii</td>\n",
       "      <td>2006.00</td>\n",
       "      <td>Sports</td>\n",
       "      <td>41.36</td>\n",
       "      <td>28.96</td>\n",
       "      <td>3.77</td>\n",
       "      <td>8.45</td>\n",
       "      <td>76.00</td>\n",
       "      <td>8</td>\n",
       "      <td>E</td>\n",
       "    </tr>\n",
       "    <tr>\n",
       "      <th>1</th>\n",
       "      <td>Super Mario Bros.</td>\n",
       "      <td>NES</td>\n",
       "      <td>1985.00</td>\n",
       "      <td>Platform</td>\n",
       "      <td>29.08</td>\n",
       "      <td>3.58</td>\n",
       "      <td>6.81</td>\n",
       "      <td>0.77</td>\n",
       "      <td>NaN</td>\n",
       "      <td>NaN</td>\n",
       "      <td>NaN</td>\n",
       "    </tr>\n",
       "    <tr>\n",
       "      <th>2</th>\n",
       "      <td>Mario Kart Wii</td>\n",
       "      <td>Wii</td>\n",
       "      <td>2008.00</td>\n",
       "      <td>Racing</td>\n",
       "      <td>15.68</td>\n",
       "      <td>12.76</td>\n",
       "      <td>3.79</td>\n",
       "      <td>3.29</td>\n",
       "      <td>82.00</td>\n",
       "      <td>8.3</td>\n",
       "      <td>E</td>\n",
       "    </tr>\n",
       "    <tr>\n",
       "      <th>3</th>\n",
       "      <td>Wii Sports Resort</td>\n",
       "      <td>Wii</td>\n",
       "      <td>2009.00</td>\n",
       "      <td>Sports</td>\n",
       "      <td>15.61</td>\n",
       "      <td>10.93</td>\n",
       "      <td>3.28</td>\n",
       "      <td>2.95</td>\n",
       "      <td>80.00</td>\n",
       "      <td>8</td>\n",
       "      <td>E</td>\n",
       "    </tr>\n",
       "    <tr>\n",
       "      <th>4</th>\n",
       "      <td>Pokemon Red/Pokemon Blue</td>\n",
       "      <td>GB</td>\n",
       "      <td>1996.00</td>\n",
       "      <td>Role-Playing</td>\n",
       "      <td>11.27</td>\n",
       "      <td>8.89</td>\n",
       "      <td>10.22</td>\n",
       "      <td>1.00</td>\n",
       "      <td>NaN</td>\n",
       "      <td>NaN</td>\n",
       "      <td>NaN</td>\n",
       "    </tr>\n",
       "    <tr>\n",
       "      <th>5</th>\n",
       "      <td>Tetris</td>\n",
       "      <td>GB</td>\n",
       "      <td>1989.00</td>\n",
       "      <td>Puzzle</td>\n",
       "      <td>23.20</td>\n",
       "      <td>2.26</td>\n",
       "      <td>4.22</td>\n",
       "      <td>0.58</td>\n",
       "      <td>NaN</td>\n",
       "      <td>NaN</td>\n",
       "      <td>NaN</td>\n",
       "    </tr>\n",
       "    <tr>\n",
       "      <th>6</th>\n",
       "      <td>New Super Mario Bros.</td>\n",
       "      <td>DS</td>\n",
       "      <td>2006.00</td>\n",
       "      <td>Platform</td>\n",
       "      <td>11.28</td>\n",
       "      <td>9.14</td>\n",
       "      <td>6.50</td>\n",
       "      <td>2.88</td>\n",
       "      <td>89.00</td>\n",
       "      <td>8.5</td>\n",
       "      <td>E</td>\n",
       "    </tr>\n",
       "    <tr>\n",
       "      <th>7</th>\n",
       "      <td>Wii Play</td>\n",
       "      <td>Wii</td>\n",
       "      <td>2006.00</td>\n",
       "      <td>Misc</td>\n",
       "      <td>13.96</td>\n",
       "      <td>9.18</td>\n",
       "      <td>2.93</td>\n",
       "      <td>2.84</td>\n",
       "      <td>58.00</td>\n",
       "      <td>6.6</td>\n",
       "      <td>E</td>\n",
       "    </tr>\n",
       "    <tr>\n",
       "      <th>8</th>\n",
       "      <td>New Super Mario Bros. Wii</td>\n",
       "      <td>Wii</td>\n",
       "      <td>2009.00</td>\n",
       "      <td>Platform</td>\n",
       "      <td>14.44</td>\n",
       "      <td>6.94</td>\n",
       "      <td>4.70</td>\n",
       "      <td>2.24</td>\n",
       "      <td>87.00</td>\n",
       "      <td>8.4</td>\n",
       "      <td>E</td>\n",
       "    </tr>\n",
       "    <tr>\n",
       "      <th>9</th>\n",
       "      <td>Duck Hunt</td>\n",
       "      <td>NES</td>\n",
       "      <td>1984.00</td>\n",
       "      <td>Shooter</td>\n",
       "      <td>26.93</td>\n",
       "      <td>0.63</td>\n",
       "      <td>0.28</td>\n",
       "      <td>0.47</td>\n",
       "      <td>NaN</td>\n",
       "      <td>NaN</td>\n",
       "      <td>NaN</td>\n",
       "    </tr>\n",
       "  </tbody>\n",
       "</table>\n",
       "</div>"
      ],
      "text/plain": [
       "                        Name Platform  Year_of_Release         Genre  \\\n",
       "0                 Wii Sports      Wii          2006.00        Sports   \n",
       "1          Super Mario Bros.      NES          1985.00      Platform   \n",
       "2             Mario Kart Wii      Wii          2008.00        Racing   \n",
       "3          Wii Sports Resort      Wii          2009.00        Sports   \n",
       "4   Pokemon Red/Pokemon Blue       GB          1996.00  Role-Playing   \n",
       "5                     Tetris       GB          1989.00        Puzzle   \n",
       "6      New Super Mario Bros.       DS          2006.00      Platform   \n",
       "7                   Wii Play      Wii          2006.00          Misc   \n",
       "8  New Super Mario Bros. Wii      Wii          2009.00      Platform   \n",
       "9                  Duck Hunt      NES          1984.00       Shooter   \n",
       "\n",
       "   NA_sales  EU_sales  JP_sales  Other_sales  Critic_Score User_Score Rating  \n",
       "0     41.36     28.96      3.77         8.45         76.00          8      E  \n",
       "1     29.08      3.58      6.81         0.77           NaN        NaN    NaN  \n",
       "2     15.68     12.76      3.79         3.29         82.00        8.3      E  \n",
       "3     15.61     10.93      3.28         2.95         80.00          8      E  \n",
       "4     11.27      8.89     10.22         1.00           NaN        NaN    NaN  \n",
       "5     23.20      2.26      4.22         0.58           NaN        NaN    NaN  \n",
       "6     11.28      9.14      6.50         2.88         89.00        8.5      E  \n",
       "7     13.96      9.18      2.93         2.84         58.00        6.6      E  \n",
       "8     14.44      6.94      4.70         2.24         87.00        8.4      E  \n",
       "9     26.93      0.63      0.28         0.47           NaN        NaN    NaN  "
      ]
     },
     "metadata": {},
     "output_type": "display_data"
    }
   ],
   "source": [
    "# setting up the standard dataFrame\n",
    "#pd.set_option('max_rows', 5)\n",
    "pd.set_option('display.max_colwidth', None)\n",
    "pd.set_option('display.float_format', '{:.2f}'.format)\n",
    "\n",
    "# import data\n",
    "try:\n",
    "    data = pd.read_csv('/Users/roman_yakovlev/Downloads/Практикум_DS/Проекты/Project_5_Games(Sborniy)/games.csv')    \n",
    "except:\n",
    "    data = pd.read_csv('/datasets/games.csv')\n",
    "    \n",
    "# print information about data structure and data for each dataFrame\n",
    "def get_info(dataset):\n",
    "        dataset.info(), \n",
    "        return dataset.head(10)\n",
    "        \n",
    "display(get_info(data));"
   ]
  },
  {
   "cell_type": "code",
   "execution_count": 3,
   "metadata": {},
   "outputs": [
    {
     "data": {
      "image/png": "[encoded data removed]",
      "text/plain": [
       "<Figure size 576x576 with 6 Axes>"
      ]
     },
     "metadata": {
      "needs_background": "light"
     },
     "output_type": "display_data"
    }
   ],
   "source": [
    "# display overall distribution of data\n",
    "data.hist(figsize=(8, 8));"
   ]
  },
  {
   "cell_type": "markdown",
   "metadata": {},
   "source": [
    "**Results**  \n",
    "After preliminary analysis of the loaded data, it is necessary to perform the following steps: \n",
    "1. Check the original data for missing values and duplicates and remove them.\n",
    "2. Correct the data types to ensure they are suitable for further analysis.\n",
    "3. Rename column names and game titles (to check for duplicates).\n",
    "A notable observation from the distribution graphs of the data is that most-selling games have sales around 1-10 millions copies, which needs to be examined more closely in the future."
   ]
  },
  {
   "cell_type": "markdown",
   "metadata": {},
   "source": [
    "## Data Preprocessing\n",
    "<a id='Data-Preprocessing'></a> [To Content](#To-Content)"
   ]
  },
  {
   "cell_type": "code",
   "execution_count": 4,
   "metadata": {},
   "outputs": [
    {
     "data": {
      "text/html": [
       "<div>\n",
       "<style scoped>\n",
       "    .dataframe tbody tr th:only-of-type {\n",
       "        vertical-align: middle;\n",
       "    }\n",
       "\n",
       "    .dataframe tbody tr th {\n",
       "        vertical-align: top;\n",
       "    }\n",
       "\n",
       "    .dataframe thead th {\n",
       "        text-align: right;\n",
       "    }\n",
       "</style>\n",
       "<table border=\"1\" class=\"dataframe\">\n",
       "  <thead>\n",
       "    <tr style=\"text-align: right;\">\n",
       "      <th></th>\n",
       "      <th>name</th>\n",
       "      <th>platform</th>\n",
       "      <th>year_of_release</th>\n",
       "      <th>genre</th>\n",
       "      <th>na_sales</th>\n",
       "      <th>eu_sales</th>\n",
       "      <th>jp_sales</th>\n",
       "      <th>other_sales</th>\n",
       "      <th>critic_score</th>\n",
       "      <th>user_score</th>\n",
       "      <th>rating</th>\n",
       "    </tr>\n",
       "  </thead>\n",
       "  <tbody>\n",
       "    <tr>\n",
       "      <th>0</th>\n",
       "      <td>wii sports</td>\n",
       "      <td>wii</td>\n",
       "      <td>2006.00</td>\n",
       "      <td>sports</td>\n",
       "      <td>41.36</td>\n",
       "      <td>28.96</td>\n",
       "      <td>3.77</td>\n",
       "      <td>8.45</td>\n",
       "      <td>76.00</td>\n",
       "      <td>8</td>\n",
       "      <td>E</td>\n",
       "    </tr>\n",
       "    <tr>\n",
       "      <th>1</th>\n",
       "      <td>super mario bros.</td>\n",
       "      <td>nes</td>\n",
       "      <td>1985.00</td>\n",
       "      <td>platform</td>\n",
       "      <td>29.08</td>\n",
       "      <td>3.58</td>\n",
       "      <td>6.81</td>\n",
       "      <td>0.77</td>\n",
       "      <td>NaN</td>\n",
       "      <td>NaN</td>\n",
       "      <td>NaN</td>\n",
       "    </tr>\n",
       "    <tr>\n",
       "      <th>2</th>\n",
       "      <td>mario kart wii</td>\n",
       "      <td>wii</td>\n",
       "      <td>2008.00</td>\n",
       "      <td>racing</td>\n",
       "      <td>15.68</td>\n",
       "      <td>12.76</td>\n",
       "      <td>3.79</td>\n",
       "      <td>3.29</td>\n",
       "      <td>82.00</td>\n",
       "      <td>8.3</td>\n",
       "      <td>E</td>\n",
       "    </tr>\n",
       "    <tr>\n",
       "      <th>3</th>\n",
       "      <td>wii sports resort</td>\n",
       "      <td>wii</td>\n",
       "      <td>2009.00</td>\n",
       "      <td>sports</td>\n",
       "      <td>15.61</td>\n",
       "      <td>10.93</td>\n",
       "      <td>3.28</td>\n",
       "      <td>2.95</td>\n",
       "      <td>80.00</td>\n",
       "      <td>8</td>\n",
       "      <td>E</td>\n",
       "    </tr>\n",
       "    <tr>\n",
       "      <th>4</th>\n",
       "      <td>pokemon red/pokemon blue</td>\n",
       "      <td>gb</td>\n",
       "      <td>1996.00</td>\n",
       "      <td>role-playing</td>\n",
       "      <td>11.27</td>\n",
       "      <td>8.89</td>\n",
       "      <td>10.22</td>\n",
       "      <td>1.00</td>\n",
       "      <td>NaN</td>\n",
       "      <td>NaN</td>\n",
       "      <td>NaN</td>\n",
       "    </tr>\n",
       "  </tbody>\n",
       "</table>\n",
       "</div>"
      ],
      "text/plain": [
       "                       name platform  year_of_release         genre  na_sales  \\\n",
       "0                wii sports      wii          2006.00        sports     41.36   \n",
       "1         super mario bros.      nes          1985.00      platform     29.08   \n",
       "2            mario kart wii      wii          2008.00        racing     15.68   \n",
       "3         wii sports resort      wii          2009.00        sports     15.61   \n",
       "4  pokemon red/pokemon blue       gb          1996.00  role-playing     11.27   \n",
       "\n",
       "   eu_sales  jp_sales  other_sales  critic_score user_score rating  \n",
       "0     28.96      3.77         8.45         76.00          8      E  \n",
       "1      3.58      6.81         0.77           NaN        NaN    NaN  \n",
       "2     12.76      3.79         3.29         82.00        8.3      E  \n",
       "3     10.93      3.28         2.95         80.00          8      E  \n",
       "4      8.89     10.22         1.00           NaN        NaN    NaN  "
      ]
     },
     "execution_count": 4,
     "metadata": {},
     "output_type": "execute_result"
    }
   ],
   "source": [
    "# replace column names and values in game titles, platforms, and genres with lowercase\n",
    "data.columns = data.columns.str.lower()\n",
    "\n",
    "data['name'] = data['name'].str.lower()\n",
    "data['platform'] = data['platform'].str.lower()\n",
    "data['genre'] = data['genre'].str.lower()\n",
    "\n",
    "data.head()"
   ]
  },
  {
   "cell_type": "code",
   "execution_count": 5,
   "metadata": {},
   "outputs": [
    {
     "data": {
      "text/plain": [
       "name                  2\n",
       "platform              0\n",
       "year_of_release     269\n",
       "genre                 2\n",
       "na_sales              0\n",
       "eu_sales              0\n",
       "jp_sales              0\n",
       "other_sales           0\n",
       "critic_score       8578\n",
       "user_score         6701\n",
       "rating             6766\n",
       "dtype: int64"
      ]
     },
     "execution_count": 5,
     "metadata": {},
     "output_type": "execute_result"
    }
   ],
   "source": [
    "# look for missing values\n",
    "data.isna().sum()"
   ]
  },
  {
   "cell_type": "code",
   "execution_count": 6,
   "metadata": {},
   "outputs": [
    {
     "data": {
      "text/html": [
       "<div>\n",
       "<style scoped>\n",
       "    .dataframe tbody tr th:only-of-type {\n",
       "        vertical-align: middle;\n",
       "    }\n",
       "\n",
       "    .dataframe tbody tr th {\n",
       "        vertical-align: top;\n",
       "    }\n",
       "\n",
       "    .dataframe thead th {\n",
       "        text-align: right;\n",
       "    }\n",
       "</style>\n",
       "<table border=\"1\" class=\"dataframe\">\n",
       "  <thead>\n",
       "    <tr style=\"text-align: right;\">\n",
       "      <th></th>\n",
       "      <th>name</th>\n",
       "      <th>platform</th>\n",
       "      <th>year_of_release</th>\n",
       "      <th>genre</th>\n",
       "      <th>na_sales</th>\n",
       "      <th>eu_sales</th>\n",
       "      <th>jp_sales</th>\n",
       "      <th>other_sales</th>\n",
       "      <th>critic_score</th>\n",
       "      <th>user_score</th>\n",
       "      <th>rating</th>\n",
       "    </tr>\n",
       "  </thead>\n",
       "  <tbody>\n",
       "    <tr>\n",
       "      <th>659</th>\n",
       "      <td>NaN</td>\n",
       "      <td>gen</td>\n",
       "      <td>1993.00</td>\n",
       "      <td>NaN</td>\n",
       "      <td>1.78</td>\n",
       "      <td>0.53</td>\n",
       "      <td>0.00</td>\n",
       "      <td>0.08</td>\n",
       "      <td>NaN</td>\n",
       "      <td>NaN</td>\n",
       "      <td>NaN</td>\n",
       "    </tr>\n",
       "    <tr>\n",
       "      <th>14244</th>\n",
       "      <td>NaN</td>\n",
       "      <td>gen</td>\n",
       "      <td>1993.00</td>\n",
       "      <td>NaN</td>\n",
       "      <td>0.00</td>\n",
       "      <td>0.00</td>\n",
       "      <td>0.03</td>\n",
       "      <td>0.00</td>\n",
       "      <td>NaN</td>\n",
       "      <td>NaN</td>\n",
       "      <td>NaN</td>\n",
       "    </tr>\n",
       "  </tbody>\n",
       "</table>\n",
       "</div>"
      ],
      "text/plain": [
       "      name platform  year_of_release genre  na_sales  eu_sales  jp_sales  \\\n",
       "659    NaN      gen          1993.00   NaN      1.78      0.53      0.00   \n",
       "14244  NaN      gen          1993.00   NaN      0.00      0.00      0.03   \n",
       "\n",
       "       other_sales  critic_score user_score rating  \n",
       "659           0.08           NaN        NaN    NaN  \n",
       "14244         0.00           NaN        NaN    NaN  "
      ]
     },
     "execution_count": 6,
     "metadata": {},
     "output_type": "execute_result"
    }
   ],
   "source": [
    "data[data['name'].isna()&data['genre'].isna()]"
   ]
  },
  {
   "cell_type": "markdown",
   "metadata": {},
   "source": [
    "Excluding two incomplete game records due to missing data on genre and reviews are considered informational and low-value for further analysis, so we recommend excluding them."
   ]
  },
  {
   "cell_type": "code",
   "execution_count": 7,
   "metadata": {},
   "outputs": [],
   "source": [
    "data = data.dropna(subset=['name']).reset_index(drop=True)"
   ]
  },
  {
   "cell_type": "markdown",
   "metadata": {},
   "source": [
    "Replacing missing release years with 0 as a placeholder value to preserve data during analysis."
   ]
  },
  {
   "cell_type": "code",
   "execution_count": 8,
   "metadata": {},
   "outputs": [],
   "source": [
    "data['year_of_release'] = data['year_of_release'].fillna(0)"
   ]
  },
  {
   "cell_type": "code",
   "execution_count": 9,
   "metadata": {},
   "outputs": [
    {
     "data": {
      "text/plain": [
       "array([76., nan, 82., 80., 89., 58., 87., 91., 61., 97., 95., 77., 88.,\n",
       "       83., 94., 93., 85., 86., 98., 96., 90., 84., 73., 74., 78., 92.,\n",
       "       71., 72., 68., 62., 49., 67., 81., 66., 56., 79., 70., 59., 64.,\n",
       "       75., 60., 63., 69., 50., 25., 42., 44., 55., 48., 57., 29., 47.,\n",
       "       65., 54., 20., 53., 37., 38., 33., 52., 30., 32., 43., 45., 51.,\n",
       "       40., 46., 39., 34., 35., 41., 36., 28., 31., 27., 26., 19., 23.,\n",
       "       24., 21., 17., 22., 13.])"
      ]
     },
     "metadata": {},
     "output_type": "display_data"
    },
    {
     "data": {
      "text/plain": [
       "array(['8', nan, '8.3', '8.5', '6.6', '8.4', '8.6', '7.7', '6.3', '7.4',\n",
       "       '8.2', '9', '7.9', '8.1', '8.7', '7.1', '3.4', '5.3', '4.8', '3.2',\n",
       "       '8.9', '6.4', '7.8', '7.5', '2.6', '7.2', '9.2', '7', '7.3', '4.3',\n",
       "       '7.6', '5.7', '5', '9.1', '6.5', 'tbd', '8.8', '6.9', '9.4', '6.8',\n",
       "       '6.1', '6.7', '5.4', '4', '4.9', '4.5', '9.3', '6.2', '4.2', '6',\n",
       "       '3.7', '4.1', '5.8', '5.6', '5.5', '4.4', '4.6', '5.9', '3.9',\n",
       "       '3.1', '2.9', '5.2', '3.3', '4.7', '5.1', '3.5', '2.5', '1.9', '3',\n",
       "       '2.7', '2.2', '2', '9.5', '2.1', '3.6', '2.8', '1.8', '3.8', '0',\n",
       "       '1.6', '9.6', '2.4', '1.7', '1.1', '0.3', '1.5', '0.7', '1.2',\n",
       "       '2.3', '0.5', '1.3', '0.2', '0.6', '1.4', '0.9', '1', '9.7'],\n",
       "      dtype=object)"
      ]
     },
     "metadata": {},
     "output_type": "display_data"
    },
    {
     "data": {
      "text/plain": [
       "array(['E', nan, 'M', 'T', 'E10+', 'K-A', 'AO', 'EC', 'RP'], dtype=object)"
      ]
     },
     "metadata": {},
     "output_type": "display_data"
    }
   ],
   "source": [
    "# checking columns for ratings\n",
    "display(data['critic_score'].unique())\n",
    "\n",
    "display(data['user_score'].unique())\n",
    "\n",
    "display(data['rating'].unique())\n"
   ]
  },
  {
   "cell_type": "markdown",
   "metadata": {},
   "source": [
    "In the `critic_score` column, scores are only whole numbers, so we recommend replacing missing values 'nan' with 0 and then converting the column to type int32 for optimized resource usage and accurate rating counts.\n",
    "\n",
    "In the `user_score` column, there are both 'nan' and 'tbd' data. 'TBD' indicates the absence of a score, so we recommend replacing both indicators with 0 as a placeholder value and converting the column type to float32 to save resources.\n",
    "\n",
    "In the `rating` column, missing values 'nan' should be replaced with a text indicator 'TBD - No Rating'."
   ]
  },
  {
   "cell_type": "code",
   "execution_count": 10,
   "metadata": {},
   "outputs": [
    {
     "data": {
      "text/plain": [
       "name               0\n",
       "platform           0\n",
       "year_of_release    0\n",
       "genre              0\n",
       "na_sales           0\n",
       "eu_sales           0\n",
       "jp_sales           0\n",
       "other_sales        0\n",
       "critic_score       0\n",
       "user_score         0\n",
       "rating             0\n",
       "dtype: int64"
      ]
     },
     "metadata": {},
     "output_type": "display_data"
    },
    {
     "name": "stdout",
     "output_type": "stream",
     "text": [
      "<class 'pandas.core.frame.DataFrame'>\n",
      "RangeIndex: 16713 entries, 0 to 16712\n",
      "Data columns (total 11 columns):\n",
      " #   Column           Non-Null Count  Dtype  \n",
      "---  ------           --------------  -----  \n",
      " 0   name             16713 non-null  object \n",
      " 1   platform         16713 non-null  object \n",
      " 2   year_of_release  16713 non-null  float64\n",
      " 3   genre            16713 non-null  object \n",
      " 4   na_sales         16713 non-null  float64\n",
      " 5   eu_sales         16713 non-null  float64\n",
      " 6   jp_sales         16713 non-null  float64\n",
      " 7   other_sales      16713 non-null  float64\n",
      " 8   critic_score     16713 non-null  float64\n",
      " 9   user_score       16713 non-null  object \n",
      " 10  rating           16713 non-null  object \n",
      "dtypes: float64(6), object(5)\n",
      "memory usage: 1.4+ MB\n"
     ]
    },
    {
     "data": {
      "text/plain": [
       "None"
      ]
     },
     "metadata": {},
     "output_type": "display_data"
    }
   ],
   "source": [
    "data['critic_score'] = data['critic_score'].fillna(0)\n",
    "data['user_score'] = data['user_score'].fillna(0)\n",
    "data['user_score'] = data['user_score'].replace('tbd',0)\n",
    "data['rating'] = data['rating'].fillna('tbd')\n",
    "\n",
    "# display the final data for verification and further processing\n",
    "display(data.isna().sum())\n",
    "display(data.info());"
   ]
  },
  {
   "cell_type": "code",
   "execution_count": 11,
   "metadata": {},
   "outputs": [],
   "source": [
    "# convert the columns `year_of_release` and `critic_score` to type int32\n",
    "data[['year_of_release', 'critic_score']] = data[['year_of_release', 'critic_score']].astype(np.int32)\n",
    "\n",
    "# convert the columns with sales data and `user_score` to float32\n",
    "data[['na_sales', 'eu_sales','jp_sales', 'other_sales','user_score']] = data[['na_sales', 'eu_sales','jp_sales', 'other_sales','user_score']].astype(np.float32)\n"
   ]
  },
  {
   "cell_type": "code",
   "execution_count": 12,
   "metadata": {},
   "outputs": [],
   "source": [
    "# calculate total sales across all regions and store them in a separate column\n",
    "data['world_sales'] = round(data['na_sales']+data['eu_sales']+data['jp_sales']+data['other_sales'],2)\n"
   ]
  },
  {
   "cell_type": "markdown",
   "metadata": {},
   "source": [
    "**Results**\n",
    "\n",
    "During the data preprocessing stage, all missing values were handled as follows:\n",
    "\n",
    "- Rows with missing game name or genre were removed.\n",
    "- Missing release years were filled with an indicator value of 0.\n",
    "- Missing values in the `critic_score` and `user_score` columns were replaced with zero (similarly for 'tbd' values in `user_score`), indicating no rating. Replacing these values with median or any other value at this stage would introduce data bias.\n",
    "- Missing values in the `rating` column were replaced with 'TBD', indicating that there is no rating.\n",
    "\n",
    "Columns containing integer values (`year_of_release`, `critic_score`) were converted to type int32, and columns with sales and `user_score` (containing floating-point numbers) were converted to type float32. Additionally, a new column for total sales across all regions was added."
   ]
  },
  {
   "cell_type": "markdown",
   "metadata": {},
   "source": [
    "## Exploratory Data Analysis\n",
    "<a id='Exploratory-Data-Analysis'></a> [To Content](#To-content)"
   ]
  },
  {
   "cell_type": "code",
   "execution_count": 13,
   "metadata": {},
   "outputs": [
    {
     "data": {
      "image/png": "[encoded data removed]",
      "text/plain": [
       "<Figure size 864x216 with 1 Axes>"
      ]
     },
     "metadata": {
      "needs_background": "light"
     },
     "output_type": "display_data"
    }
   ],
   "source": [
    "# check how many games were released in different years\n",
    "data.groupby('year_of_release')['year_of_release'].count().plot(kind='bar',figsize=[12, 3])\n",
    "plt.xlabel('Years of release')\n",
    "plt.title('Distribution of games by release year')\n",
    "plt.xticks(rotation=45);\n",
    "plt.show()"
   ]
  },
  {
   "cell_type": "markdown",
   "metadata": {},
   "source": [
    "Let's try to fill in the missing release years, as indicated on the graph with a value of \"0\". This is because there may be some games that were released on different platforms at different times. We'll attempt to match games with the same name and fill in the gaps for each platform by using the median release year.\n",
    "\n",
    "We will also handle cases where the game title includes a release year, and if no data is available for that specific year, we'll use it as the reference point and exclude any other relevant information about those games, as they are essentially useless for analyzing trends (it's unclear to which year the sales data should be attributed)."
   ]
  },
  {
   "cell_type": "code",
   "execution_count": 14,
   "metadata": {},
   "outputs": [
    {
     "name": "stdout",
     "output_type": "stream",
     "text": [
      "Количество пропусков по данным года релиза после обработки составило: 139\n",
      "Процент, исключенных значений без года выпуска составил: 0.83169%\n"
     ]
    },
    {
     "data": {
      "image/png": "[encoded data removed]",
      "text/plain": [
       "<Figure size 864x216 with 1 Axes>"
      ]
     },
     "metadata": {
      "needs_background": "light"
     },
     "output_type": "display_data"
    }
   ],
   "source": [
    "# select games with missing release years\n",
    "games_wo_year = data[data['year_of_release']==0]['name'].unique()\n",
    "\n",
    "# compare the names with the main table, and if there are duplicates, calculate the median by year (excluding rows with a release year of zero)\n",
    "for name in games_wo_year:\n",
    "    data.loc[(data['name']==name)&(data['year_of_release']==0),'year_of_release'] = data[(data['name']==name)&(data['year_of_release']!=0)]['year_of_release'].median()\n",
    "\n",
    "# let's check the game titles for the presence of a year and add it to the corresponding field\n",
    "years = []\n",
    "for i in range(1980,2017):\n",
    "    years.append(str(i))\n",
    "\n",
    "for index, row in data.iterrows():\n",
    "    if pd.isna(row['year_of_release']):\n",
    "        game_name = row['name'].split(' ')\n",
    "        for i in game_name:\n",
    "            if (i in years) and (len(i)==4):\n",
    "                data.loc[index,'year_of_release'] = int(i)\n",
    "\n",
    "# display the final number of missing values in the release year column\n",
    "print(f'The number of missing values in the release year data after processing is: {data[\"year_of_release\"].isna().sum()}')\n",
    "\n",
    "# calculate the percentage of excluded data\n",
    "data_new = data.dropna(subset=['year_of_release']).reset_index(drop=True)\n",
    "print(f'The percentage of excluded values without a release year is: {1 - data_new.shape[0] / data.shape[0]:.5%}')\n",
    "\n",
    "# remove the remaining missing values and correct the data type\n",
    "data = data_new\n",
    "data['year_of_release'] = data['year_of_release'].astype(np.int32)\n",
    "\n",
    "plt.figure(figsize=[12, 3])\n",
    "data.groupby('year_of_release')['year_of_release'].count().plot(kind='bar')\n",
    "plt.xlabel('Годы релиза')\n",
    "plt.title('Распределение игр по годам релиза')\n",
    "plt.xticks(rotation=45)\n",
    "plt.show();\n"
   ]
  },
  {
   "cell_type": "markdown",
   "metadata": {},
   "source": [
    "**Conclusion**  \n",
    "Judging by the graph, the number of game releases before 1991 is quite insignificant—data from these years can likely be disregarded when forecasting trends for 2017."
   ]
  },
  {
   "cell_type": "markdown",
   "metadata": {},
   "source": [
    "Let's examine how sales have changed across platforms. We'll select platforms with the highest total sales and plot the distribution by year. We'll also check the typical timeframe in which new platforms appear and old ones disappear."
   ]
  },
  {
   "cell_type": "code",
   "execution_count": 15,
   "metadata": {},
   "outputs": [
    {
     "data": {
      "text/html": [
       "<div>\n",
       "<style scoped>\n",
       "    .dataframe tbody tr th:only-of-type {\n",
       "        vertical-align: middle;\n",
       "    }\n",
       "\n",
       "    .dataframe tbody tr th {\n",
       "        vertical-align: top;\n",
       "    }\n",
       "\n",
       "    .dataframe thead th {\n",
       "        text-align: right;\n",
       "    }\n",
       "</style>\n",
       "<table border=\"1\" class=\"dataframe\">\n",
       "  <thead>\n",
       "    <tr style=\"text-align: right;\">\n",
       "      <th></th>\n",
       "      <th>world_sales</th>\n",
       "    </tr>\n",
       "    <tr>\n",
       "      <th>platform</th>\n",
       "      <th></th>\n",
       "    </tr>\n",
       "  </thead>\n",
       "  <tbody>\n",
       "    <tr>\n",
       "      <th>ps2</th>\n",
       "      <td>1250.92</td>\n",
       "    </tr>\n",
       "    <tr>\n",
       "      <th>x360</th>\n",
       "      <td>966.67</td>\n",
       "    </tr>\n",
       "    <tr>\n",
       "      <th>ps3</th>\n",
       "      <td>935.19</td>\n",
       "    </tr>\n",
       "    <tr>\n",
       "      <th>wii</th>\n",
       "      <td>903.31</td>\n",
       "    </tr>\n",
       "    <tr>\n",
       "      <th>ds</th>\n",
       "      <td>804.28</td>\n",
       "    </tr>\n",
       "    <tr>\n",
       "      <th>ps</th>\n",
       "      <td>727.58</td>\n",
       "    </tr>\n",
       "    <tr>\n",
       "      <th>ps4</th>\n",
       "      <td>314.14</td>\n",
       "    </tr>\n",
       "    <tr>\n",
       "      <th>gba</th>\n",
       "      <td>313.73</td>\n",
       "    </tr>\n",
       "    <tr>\n",
       "      <th>psp</th>\n",
       "      <td>293.57</td>\n",
       "    </tr>\n",
       "    <tr>\n",
       "      <th>pc</th>\n",
       "      <td>258.86</td>\n",
       "    </tr>\n",
       "    <tr>\n",
       "      <th>3ds</th>\n",
       "      <td>258.53</td>\n",
       "    </tr>\n",
       "    <tr>\n",
       "      <th>xb</th>\n",
       "      <td>256.84</td>\n",
       "    </tr>\n",
       "    <tr>\n",
       "      <th>gb</th>\n",
       "      <td>254.43</td>\n",
       "    </tr>\n",
       "    <tr>\n",
       "      <th>nes</th>\n",
       "      <td>251.05</td>\n",
       "    </tr>\n",
       "    <tr>\n",
       "      <th>n64</th>\n",
       "      <td>218.48</td>\n",
       "    </tr>\n",
       "    <tr>\n",
       "      <th>snes</th>\n",
       "      <td>200.04</td>\n",
       "    </tr>\n",
       "    <tr>\n",
       "      <th>gc</th>\n",
       "      <td>198.66</td>\n",
       "    </tr>\n",
       "    <tr>\n",
       "      <th>xone</th>\n",
       "      <td>159.32</td>\n",
       "    </tr>\n",
       "    <tr>\n",
       "      <th>2600</th>\n",
       "      <td>89.01</td>\n",
       "    </tr>\n",
       "    <tr>\n",
       "      <th>wiiu</th>\n",
       "      <td>82.19</td>\n",
       "    </tr>\n",
       "    <tr>\n",
       "      <th>psv</th>\n",
       "      <td>53.81</td>\n",
       "    </tr>\n",
       "    <tr>\n",
       "      <th>sat</th>\n",
       "      <td>33.59</td>\n",
       "    </tr>\n",
       "    <tr>\n",
       "      <th>gen</th>\n",
       "      <td>28.35</td>\n",
       "    </tr>\n",
       "    <tr>\n",
       "      <th>dc</th>\n",
       "      <td>15.95</td>\n",
       "    </tr>\n",
       "    <tr>\n",
       "      <th>scd</th>\n",
       "      <td>1.86</td>\n",
       "    </tr>\n",
       "    <tr>\n",
       "      <th>ng</th>\n",
       "      <td>1.44</td>\n",
       "    </tr>\n",
       "    <tr>\n",
       "      <th>ws</th>\n",
       "      <td>1.42</td>\n",
       "    </tr>\n",
       "    <tr>\n",
       "      <th>tg16</th>\n",
       "      <td>0.16</td>\n",
       "    </tr>\n",
       "    <tr>\n",
       "      <th>3do</th>\n",
       "      <td>0.10</td>\n",
       "    </tr>\n",
       "    <tr>\n",
       "      <th>gg</th>\n",
       "      <td>0.04</td>\n",
       "    </tr>\n",
       "    <tr>\n",
       "      <th>pcfx</th>\n",
       "      <td>0.03</td>\n",
       "    </tr>\n",
       "  </tbody>\n",
       "</table>\n",
       "</div>"
      ],
      "text/plain": [
       "          world_sales\n",
       "platform             \n",
       "ps2           1250.92\n",
       "x360           966.67\n",
       "ps3            935.19\n",
       "wii            903.31\n",
       "ds             804.28\n",
       "ps             727.58\n",
       "ps4            314.14\n",
       "gba            313.73\n",
       "psp            293.57\n",
       "pc             258.86\n",
       "3ds            258.53\n",
       "xb             256.84\n",
       "gb             254.43\n",
       "nes            251.05\n",
       "n64            218.48\n",
       "snes           200.04\n",
       "gc             198.66\n",
       "xone           159.32\n",
       "2600            89.01\n",
       "wiiu            82.19\n",
       "psv             53.81\n",
       "sat             33.59\n",
       "gen             28.35\n",
       "dc              15.95\n",
       "scd              1.86\n",
       "ng               1.44\n",
       "ws               1.42\n",
       "tg16             0.16\n",
       "3do              0.10\n",
       "gg               0.04\n",
       "pcfx             0.03"
      ]
     },
     "metadata": {},
     "output_type": "display_data"
    },
    {
     "data": {
      "image/png": "[encoded data removed]",
      "text/plain": [
       "<Figure size 864x288 with 1 Axes>"
      ]
     },
     "metadata": {
      "needs_background": "light"
     },
     "output_type": "display_data"
    }
   ],
   "source": [
    "# calculate sales by platform\n",
    "data_pivot = data.pivot_table(index='platform', values = 'world_sales', aggfunc='sum').sort_values(by='world_sales', ascending=False)\n",
    "display(data_pivot)\n",
    "\n",
    "# select platforms with total sales exceeding 100 million\n",
    "data_pivot_over100 = data_pivot[data_pivot['world_sales']>100]\n",
    "platform_best_sales = data_pivot_over100.index\n",
    "data_best_sales = data[data['platform'].isin(platform_best_sales)]\n",
    "\n",
    "# compile an aggregated table with sales data for the selected platforms, broken down by year\n",
    "data_bs_pivot = data_best_sales.pivot_table(index='year_of_release', columns='platform', values = 'world_sales', aggfunc='sum')\n",
    "data_bs_pivot = data_bs_pivot.reset_index()\n",
    "\n",
    "# plot a bar chart\n",
    "# create a list of different contrasting colors (using the standard palette has too many shades)\n",
    "try:\n",
    "    cmap=matplotlib.colormaps['tab20'] #на разных версиях matplotlib вызывает палитру по-разному\n",
    "except:\n",
    "    cmap = plt.get_cmap('tab20')\n",
    "\n",
    "colors = [cmap(i) for i in np.random.choice(20, 18, replace=False)]\n",
    "\n",
    "data_bs_pivot.plot.bar(x='year_of_release', \n",
    "                       stacked=True, \n",
    "                       figsize=(12, 4),\n",
    "                       title='Total game sales by year and platform',\n",
    "                       xlabel='Year of release',\n",
    "                       color=colors)\n",
    "plt.xticks(rotation=45)\n",
    "plt.legend(title='Platforms', bbox_to_anchor=(1, 1),ncol=2)\n",
    "plt.show();"
   ]
  },
  {
   "cell_type": "code",
   "execution_count": 16,
   "metadata": {},
   "outputs": [
    {
     "data": {
      "text/html": [
       "<div>\n",
       "<style scoped>\n",
       "    .dataframe tbody tr th:only-of-type {\n",
       "        vertical-align: middle;\n",
       "    }\n",
       "\n",
       "    .dataframe tbody tr th {\n",
       "        vertical-align: top;\n",
       "    }\n",
       "\n",
       "    .dataframe thead th {\n",
       "        text-align: right;\n",
       "    }\n",
       "</style>\n",
       "<table border=\"1\" class=\"dataframe\">\n",
       "  <thead>\n",
       "    <tr style=\"text-align: right;\">\n",
       "      <th></th>\n",
       "      <th>count</th>\n",
       "    </tr>\n",
       "  </thead>\n",
       "  <tbody>\n",
       "    <tr>\n",
       "      <th>count</th>\n",
       "      <td>31.00</td>\n",
       "    </tr>\n",
       "    <tr>\n",
       "      <th>mean</th>\n",
       "      <td>7.84</td>\n",
       "    </tr>\n",
       "    <tr>\n",
       "      <th>std</th>\n",
       "      <td>5.11</td>\n",
       "    </tr>\n",
       "    <tr>\n",
       "      <th>min</th>\n",
       "      <td>1.00</td>\n",
       "    </tr>\n",
       "    <tr>\n",
       "      <th>25%</th>\n",
       "      <td>4.00</td>\n",
       "    </tr>\n",
       "    <tr>\n",
       "      <th>50%</th>\n",
       "      <td>8.00</td>\n",
       "    </tr>\n",
       "    <tr>\n",
       "      <th>75%</th>\n",
       "      <td>11.00</td>\n",
       "    </tr>\n",
       "    <tr>\n",
       "      <th>max</th>\n",
       "      <td>26.00</td>\n",
       "    </tr>\n",
       "  </tbody>\n",
       "</table>\n",
       "</div>"
      ],
      "text/plain": [
       "       count\n",
       "count  31.00\n",
       "mean    7.84\n",
       "std     5.11\n",
       "min     1.00\n",
       "25%     4.00\n",
       "50%     8.00\n",
       "75%    11.00\n",
       "max    26.00"
      ]
     },
     "execution_count": 16,
     "metadata": {},
     "output_type": "execute_result"
    }
   ],
   "source": [
    "# also, let's accurately calculate the number of years of sales by platform\n",
    "sales_period = data.groupby('platform')['year_of_release'].nunique().reset_index(name='count').sort_values(by='count', ascending=False)\n",
    "\n",
    "sales_period.describe()"
   ]
  },
  {
   "cell_type": "markdown",
   "metadata": {},
   "source": [
    "**Conclusion**  \n",
    "\n",
    "Based on the aggregated data and the distribution graphs of sales by year and platform, we can assess the periods of startup, growth, and decline in sales for various platforms over time. On average, a platform \"lives\" for 8 years, with a minimum lifespan of 1 year (for experimental platforms like PCFX and TG16), while the longest-living platform, the PC, has lasted 26 years. The change in the lifespan of platforms is influenced by technological limitations of generations, as game consoles are typically released with fixed specifications. As these specifications become outdated, the ability to continue producing more advanced games diminishes, leading to a generational shift in consoles and/or the emergence of new, more modern platforms. This also explains the longevity of games on personal computers, as they can be improved through the replacement of individual components."
   ]
  },
  {
   "cell_type": "markdown",
   "metadata": {},
   "source": [
    "Taking into account the sales data of platforms broken down by year, it can be observed that for forecasting purposes for the upcoming year (period), data from long-outdated platforms will be irrelevant due to the shift across several generations. To determine the **relevant period** for forecasting, we can consider all platforms with sales in the last (current) year and analyze the sales dynamics for them since the last technological transition. This way, we focus on developing and promising platforms rather than relying on data from platforms that are already declining."
   ]
  },
  {
   "cell_type": "code",
   "execution_count": 17,
   "metadata": {},
   "outputs": [
    {
     "name": "stdout",
     "output_type": "stream",
     "text": [
      "В 2016 году на рынке присутствовать игры следующих платформ:  ps4, 3ds, xone, wiiu, ps3, pc, x360, psv, wii\n"
     ]
    }
   ],
   "source": [
    "# look which games were sold on what platforms this year\n",
    "platform_2016 = data[data[\"year_of_release\"]==2016][\"platform\"].unique()\n",
    "print('In 2016, the market featured games from the following platforms: ', \", \".join(map(str, platform_2016)))"
   ]
  },
  {
   "cell_type": "code",
   "execution_count": 18,
   "metadata": {},
   "outputs": [
    {
     "data": {
      "image/png": "[encoded data removed]",
      "text/plain": [
       "<Figure size 720x288 with 1 Axes>"
      ]
     },
     "metadata": {
      "needs_background": "light"
     },
     "output_type": "display_data"
    }
   ],
   "source": [
    "# choose sales data for these platforms over the last 8 years to select a relevant time period\n",
    "data_actual = data[(data[\"year_of_release\"]>=2008)&(data['platform'].isin(platform_2016))]\n",
    "\n",
    "# build a bar graph\n",
    "data_actual_pivot = data_actual.pivot_table(index='year_of_release', columns='platform', values = 'world_sales', aggfunc='sum')\n",
    "data_actual_pivot = data_actual_pivot.reset_index()\n",
    "\n",
    "data_actual_pivot.plot.bar(x='year_of_release', \n",
    "                       stacked=True, \n",
    "                       figsize=(10, 4),\n",
    "                       title='Total sales for the relevant set of platforms',\n",
    "                       xlabel='Year of release')\n",
    "plt.xticks(rotation=45)\n",
    "plt.legend(title='Platforms', bbox_to_anchor=(1, 1),ncol=2)\n",
    "plt.show();\n"
   ]
  },
  {
   "cell_type": "markdown",
   "metadata": {},
   "source": [
    "From a more refined graph, it is evident that the current leaders, PS4 and Xbox One, entered the market in 2013 (according to open sources, at the end of 2013). Therefore, sales in 2013, when platforms from the previous generation still dominated, are not entirely relevant to the current market. Thus, it is proposed to consider the relevant period for forecasting as the years 2014 to 2016, when the leadership of the new platforms is clear, and the influence of the declining platforms is no longer critical."
   ]
  },
  {
   "cell_type": "code",
   "execution_count": 19,
   "metadata": {},
   "outputs": [
    {
     "name": "stdout",
     "output_type": "stream",
     "text": [
      "<class 'pandas.core.frame.DataFrame'>\n",
      "Int64Index: 1676 entries, 31 to 16573\n",
      "Data columns (total 12 columns):\n",
      " #   Column           Non-Null Count  Dtype  \n",
      "---  ------           --------------  -----  \n",
      " 0   name             1676 non-null   object \n",
      " 1   platform         1676 non-null   object \n",
      " 2   year_of_release  1676 non-null   int32  \n",
      " 3   genre            1676 non-null   object \n",
      " 4   na_sales         1676 non-null   float32\n",
      " 5   eu_sales         1676 non-null   float32\n",
      " 6   jp_sales         1676 non-null   float32\n",
      " 7   other_sales      1676 non-null   float32\n",
      " 8   critic_score     1676 non-null   int32  \n",
      " 9   user_score       1676 non-null   float32\n",
      " 10  rating           1676 non-null   object \n",
      " 11  world_sales      1676 non-null   float32\n",
      "dtypes: float32(6), int32(2), object(4)\n",
      "memory usage: 117.8+ KB\n"
     ]
    },
    {
     "data": {
      "image/png": "[encoded data removed]",
      "text/plain": [
       "<Figure size 720x288 with 1 Axes>"
      ]
     },
     "metadata": {
      "needs_background": "light"
     },
     "output_type": "display_data"
    },
    {
     "data": {
      "image/png": "[encoded data removed]",
      "text/plain": [
       "<Figure size 720x288 with 1 Axes>"
      ]
     },
     "metadata": {
      "needs_background": "light"
     },
     "output_type": "display_data"
    }
   ],
   "source": [
    "# select the sales data for these platforms over the last 8 years to define the relevant period\n",
    "data_actual = data[(data[\"year_of_release\"]>=2014)&(data['platform'].isin(platform_2016))]\n",
    "\n",
    "# take a look at the resulting sales sample\n",
    "data_actual.info()\n",
    "\n",
    "# plot a bar chart\n",
    "data_actual_pivot = data_actual.pivot_table(index='year_of_release', columns='platform', values = 'world_sales', aggfunc='sum')\n",
    "data_actual_pivot = data_actual_pivot.reset_index()\n",
    "\n",
    "data_actual_pivot.plot.bar(x='year_of_release', \n",
    "                       stacked=True, \n",
    "                       figsize=(10, 4),\n",
    "                       title='Total sales of the relevant set of platforms',\n",
    "                       xlabel='Year of release')\n",
    "plt.xticks(rotation=45)\n",
    "plt.legend(title='Platforms', bbox_to_anchor=(1, 1),ncol=2)\n",
    "plt.show();\n",
    "\n",
    "# plot a boxplot of sales by platform for the relevant period\n",
    "ax = data_actual.boxplot(by='platform', column='world_sales', figsize=(10,4))\n",
    "ax.set_xlabel('Platforms')\n",
    "ax.set_title('Game sales by platform for the relevant period')\n",
    "ax.get_figure().suptitle(None);\n",
    "#ax.set_ylim(0,1.5)\n"
   ]
  },
  {
   "cell_type": "code",
   "execution_count": 20,
   "metadata": {},
   "outputs": [
    {
     "name": "stdout",
     "output_type": "stream",
     "text": [
      "Сумма продаж бестселлеров по PS4:  201.14001\n",
      "Сумма продаж всех игр на Ps4 за актуальный период:  288.15\n",
      "Сумма продаж бестселлеров по Xbox One:  77.56\n",
      "Сумма продаж всех игр на Xbox One за актуальный период:  140.35999\n"
     ]
    }
   ],
   "source": [
    "# calculate the total sales of outliers (bestsellers) for PS4\n",
    "Q1 = data_actual[data_actual['platform']=='ps4']['world_sales'].quantile(0.25)\n",
    "Q3 = data_actual[data_actual['platform']=='ps4']['world_sales'].quantile(0.75)\n",
    "IQR = Q3 - Q1\n",
    "data_actual_ps4 = data_actual.query(\"platform == 'ps4' and world_sales > @Q3 + 1.5*@IQR\")\n",
    "\n",
    "print('The total sales of bestsellers for PS4: ', data_actual_ps4['world_sales'].sum())\n",
    "print('The total sales of all games on PS4 for the relevant period: ', data_actual[data_actual['platform']=='ps4']['world_sales'].sum())\n",
    "\n",
    "# calculate the total sales of outliers (bestsellers) for Xbox One\n",
    "Q1 = data_actual[data_actual['platform']=='xone']['world_sales'].quantile(0.25)\n",
    "Q3 = data_actual[data_actual['platform']=='xone']['world_sales'].quantile(0.75)\n",
    "IQR = Q3 - Q1\n",
    "data_actual_xone = data_actual.query(\"platform == 'xone' and world_sales > @Q3 + 1.5*@IQR\")\n",
    "\n",
    "print('The total sales of bestsellers for Xbox One: ', data_actual_xone['world_sales'].sum())\n",
    "print('The total sales of all games on Xbox One for the relevant period: ', data_actual[data_actual['platform']=='xone']['world_sales'].sum())"
   ]
  },
  {
   "cell_type": "markdown",
   "metadata": {},
   "source": [
    "**Conclusion**  \n",
    "\n",
    "Based on the graph data from the last 8 years, it is evident that at the beginning of the selected period, three platforms from the previous technological generation dominated: Playstation 3, Xbox 360, and Nintendo Wii, all from long-standing leaders Sony, Microsoft, and Nintendo, respectively. By the current moment, there has been a generational shift, with these platforms being replaced by new ones from the same manufacturers—Playstation 4, Xbox One, and Nintendo 3DS. The market is also supplemented by declining generations and niche platforms (mobile gaming—PSV, Wii U). \n",
    "\n",
    "Additionally, there is a noticeable trend of decreasing sales overall (which is also observed in the general graph with the initial data). This may be attributed to the increasing quality of developed games and the complexity of their production against the backdrop of emerging new, more sophisticated technologies.\n",
    "\n",
    "For further analysis, the **relevant period** has been chosen from 2014 onward to exclude the influence of platforms from the declining technological generation. In this relevant period, the leadership of PS4 is clear, followed by Xbox One, while the declining platforms from the previous generation significantly reduce sales, and niche platforms (PC, Wii U, PSV) roughly maintain their positions.\n",
    "\n",
    "The boxplot graph also shows that maximum sales were achieved by the leading platforms of the current generation—PS4 and Xbox One—with the highest number of outliers (bestsellers), which in turn contributed to two-thirds of all sales for PS4 and half of the sales for games on Xbox One."
   ]
  },
  {
   "cell_type": "markdown",
   "metadata": {},
   "source": [
    "Let's examine how user and critic reviews influence sales within a popular platform. To do this, we will create a scatter plot and calculate the correlation between reviews and sales. Given the presence of missing values in the critic and user ratings, it would be better to focus on the platform with the highest sales and the most ratings for a more accurate analysis."
   ]
  },
  {
   "cell_type": "code",
   "execution_count": 21,
   "metadata": {},
   "outputs": [
    {
     "data": {
      "text/html": [
       "<div>\n",
       "<style scoped>\n",
       "    .dataframe tbody tr th:only-of-type {\n",
       "        vertical-align: middle;\n",
       "    }\n",
       "\n",
       "    .dataframe tbody tr th {\n",
       "        vertical-align: top;\n",
       "    }\n",
       "\n",
       "    .dataframe thead th {\n",
       "        text-align: right;\n",
       "    }\n",
       "</style>\n",
       "<table border=\"1\" class=\"dataframe\">\n",
       "  <thead>\n",
       "    <tr style=\"text-align: right;\">\n",
       "      <th></th>\n",
       "      <th>games</th>\n",
       "      <th>critic_scores</th>\n",
       "      <th>user_scores</th>\n",
       "    </tr>\n",
       "    <tr>\n",
       "      <th>platform</th>\n",
       "      <th></th>\n",
       "      <th></th>\n",
       "      <th></th>\n",
       "    </tr>\n",
       "  </thead>\n",
       "  <tbody>\n",
       "    <tr>\n",
       "      <th>3ds</th>\n",
       "      <td>212</td>\n",
       "      <td>51.00</td>\n",
       "      <td>55</td>\n",
       "    </tr>\n",
       "    <tr>\n",
       "      <th>pc</th>\n",
       "      <td>151</td>\n",
       "      <td>116.00</td>\n",
       "      <td>122</td>\n",
       "    </tr>\n",
       "    <tr>\n",
       "      <th>ps3</th>\n",
       "      <td>219</td>\n",
       "      <td>36.00</td>\n",
       "      <td>98</td>\n",
       "    </tr>\n",
       "    <tr>\n",
       "      <th>ps4</th>\n",
       "      <td>376</td>\n",
       "      <td>237.00</td>\n",
       "      <td>242</td>\n",
       "    </tr>\n",
       "    <tr>\n",
       "      <th>psv</th>\n",
       "      <td>295</td>\n",
       "      <td>54.00</td>\n",
       "      <td>73</td>\n",
       "    </tr>\n",
       "    <tr>\n",
       "      <th>wii</th>\n",
       "      <td>11</td>\n",
       "      <td>NaN</td>\n",
       "      <td>2</td>\n",
       "    </tr>\n",
       "    <tr>\n",
       "      <th>wiiu</th>\n",
       "      <td>73</td>\n",
       "      <td>43.00</td>\n",
       "      <td>48</td>\n",
       "    </tr>\n",
       "    <tr>\n",
       "      <th>x360</th>\n",
       "      <td>111</td>\n",
       "      <td>26.00</td>\n",
       "      <td>83</td>\n",
       "    </tr>\n",
       "    <tr>\n",
       "      <th>xone</th>\n",
       "      <td>228</td>\n",
       "      <td>155.00</td>\n",
       "      <td>165</td>\n",
       "    </tr>\n",
       "  </tbody>\n",
       "</table>\n",
       "</div>"
      ],
      "text/plain": [
       "          games  critic_scores  user_scores\n",
       "platform                                   \n",
       "3ds         212          51.00           55\n",
       "pc          151         116.00          122\n",
       "ps3         219          36.00           98\n",
       "ps4         376         237.00          242\n",
       "psv         295          54.00           73\n",
       "wii          11            NaN            2\n",
       "wiiu         73          43.00           48\n",
       "x360        111          26.00           83\n",
       "xone        228         155.00          165"
      ]
     },
     "execution_count": 21,
     "metadata": {},
     "output_type": "execute_result"
    }
   ],
   "source": [
    "# select the most popular platform considering the number of released games and the number of ratings\n",
    "games_scores = pd.DataFrame()\n",
    "games_scores['games'] = data_actual.groupby('platform')['world_sales'].count()\n",
    "# calculate the number of critic ratings for all relevant platforms\n",
    "games_scores['critic_scores'] = data_actual[data_actual['critic_score']>0].groupby('platform')['critic_score'].count()\n",
    "games_scores['user_scores'] = data_actual[data_actual['user_score']>0].groupby('platform')['user_score'].count()\n",
    "\n",
    "games_scores.head(10)"
   ]
  },
  {
   "cell_type": "markdown",
   "metadata": {},
   "source": [
    "The most games were sold on the PS4 platform, which also has the highest number of ratings. In comparison, its main competitor, the Xbox 360, has sales and ratings that are less than half of those for PS4. Therefore, we will examine the data on the relevant relationships using PS4 as an example."
   ]
  },
  {
   "cell_type": "code",
   "execution_count": 37,
   "metadata": {},
   "outputs": [
    {
     "data": {
      "image/png": "[encoded data removed]",
      "text/plain": [
       "<Figure size 720x288 with 1 Axes>"
      ]
     },
     "metadata": {
      "needs_background": "light"
     },
     "output_type": "display_data"
    },
    {
     "name": "stdout",
     "output_type": "stream",
     "text": [
      "Коэффициент корреляции продаж с оценками критиков: 0.4\n"
     ]
    },
    {
     "data": {
      "image/png": "[encoded data removed]",
      "text/plain": [
       "<Figure size 720x288 with 1 Axes>"
      ]
     },
     "metadata": {
      "needs_background": "light"
     },
     "output_type": "display_data"
    },
    {
     "name": "stdout",
     "output_type": "stream",
     "text": [
      "Коэффициент корреляции продаж с оценками пользователей: -0.04\n"
     ]
    }
   ],
   "source": [
    "# select the data for PS4 and create scatter plots between game sales and ratings\n",
    "ps4 = data_actual[(data_actual['platform']=='ps4')&(data_actual['critic_score']>0)]\n",
    "\n",
    "# by critic ratings\n",
    "ps4.plot.scatter('critic_score','world_sales',marker='o',figsize=(10,4), color='blue',s=1)\n",
    "plt.xlabel('Critic ratings')\n",
    "plt.ylabel('World sales, mln')\n",
    "plt.title('Dependency of sales on critic ratings')\n",
    "\n",
    "z = np.polyfit(ps4['critic_score'],ps4['world_sales'],1)\n",
    "p = np.poly1d(z)\n",
    "plt.plot(ps4['critic_score'], p(ps4['critic_score']),'b');\n",
    "plt.show()\n",
    "\n",
    "print(f'The correlation coefficient of sales with critic ratings: {ps4[\"world_sales\"].corr(ps4[\"critic_score\"]):.2}')\n",
    "\n",
    "# by users ratings\n",
    "ps4 = data_actual[(data_actual['platform']=='ps4')&(data_actual['user_score']>0)]\n",
    "\n",
    "ps4.plot.scatter('user_score','world_sales',marker='o',figsize=(10,4), color='red',s=1)\n",
    "plt.xlabel('User ratings')\n",
    "plt.ylabel('World sales, mln')\n",
    "plt.title('Dependency of sales on user ratings')\n",
    "\n",
    "\n",
    "z = np.polyfit(ps4['user_score'],ps4['world_sales'],1)\n",
    "p = np.poly1d(z)\n",
    "plt.plot(ps4['user_score'], p(ps4['user_score']),'r');\n",
    "plt.show()\n",
    "\n",
    "print(f'The correlation coefficient of sales with user ratings: {ps4[\"world_sales\"].corr(ps4[\"user_score\"]):.2}')"
   ]
  },
  {
   "cell_type": "code",
   "execution_count": 38,
   "metadata": {},
   "outputs": [
    {
     "name": "stdout",
     "output_type": "stream",
     "text": [
      "Коэффициент корреляции продаж на xone с оценками критиков: 0.43\n",
      "Коэффициент корреляции продаж на xone с оценками пользователей: -0.07\n",
      "Коэффициент корреляции продаж на 3ds с оценками критиков: 0.31\n",
      "Коэффициент корреляции продаж на 3ds с оценками пользователей: 0.22\n"
     ]
    }
   ],
   "source": [
    "# calculate the correlation levels of ratings with sales for two other popular platforms - Xbox One and Nintendo 3DS\n",
    "xone_3ds = ['xone','3ds']\n",
    "\n",
    "for platform in xone_3ds:\n",
    "    xone_3ds_data = data_actual[(data_actual['platform']==platform)&(data_actual['critic_score']>0)]\n",
    "    print(f'The correlation coefficient of sales on {platform} with critic ratings: {xone_3ds_data[\"world_sales\"].corr(xone_3ds_data[\"critic_score\"]):.2}')\n",
    "    xone_3ds_data = data_actual[(data_actual['platform']==platform)&(data_actual['user_score']>0)]\n",
    "    print(f'The correlation coefficient of sales on {platform} with user ratings:: {xone_3ds_data[\"world_sales\"].corr(xone_3ds_data[\"user_score\"]):.2}')"
   ]
  },
  {
   "cell_type": "markdown",
   "metadata": {},
   "source": [
    "**Conclusion**  \n",
    "\n",
    "The graphs and calculated data show that global sales are more positively correlated with critic ratings than with user ratings. Moreover, the correlation between sales and user ratings is virtually nonexistent (-0.04). Critic ratings are likely more significant due to their scale and promotion—this information is widely available and advertised by companies. However, even critic ratings have a moderate correlation level (0.4), which cannot be considered a strong dependency, indicating that other significant factors likely influence sales.\n",
    "\n",
    "Similar correlation levels are observed for other popular platforms, such as Xbox One and Nintendo 3DS. However, for Nintendo 3DS, possibly due to an even smaller dataset of ratings, the correlation between critic ratings and sales is observed to be very weak."
   ]
  },
  {
   "cell_type": "markdown",
   "metadata": {},
   "source": [
    "Let's examine the overall distribution of games by genre, identify the most profitable genres, and check if genres with high and low sales stand out."
   ]
  },
  {
   "cell_type": "code",
   "execution_count": 49,
   "metadata": {},
   "outputs": [
    {
     "data": {
      "image/png": "[encoded data removed]",
      "text/plain": [
       "<Figure size 432x216 with 1 Axes>"
      ]
     },
     "metadata": {
      "needs_background": "light"
     },
     "output_type": "display_data"
    }
   ],
   "source": [
    "# calculate the average sales for each genre to assess profitability\n",
    "data_actual.groupby('genre')['world_sales'].mean().sort_values().plot.barh(figsize=(6,3), \n",
    "                                                                           ylabel='sales, mln',\n",
    "                                                                           xlabel='genre',\n",
    "                                                                           title='Average sales by genre')\n",
    "plt.show()\n"
   ]
  },
  {
   "cell_type": "markdown",
   "metadata": {},
   "source": [
    "**Conclusion**  \n",
    "\n",
    "The most profitable genre is shooter, with an average game in this genre earning $1.4 million, which is double that of the next most profitable genre, sports ($0.7 million). The least profitable genres are adventure and strategy, each averaging $0.1 million per game."
   ]
  },
  {
   "cell_type": "markdown",
   "metadata": {},
   "source": [
    "**Conclusion on the Exploratory Data Analysis Section**  \n",
    "\n",
    "In this section, we further analyzed the missing release years of games, as this information is critically important for considering other data. We were able to supplement the data using information from game titles and related data (as games often release on multiple platforms simultaneously), and the remaining missing values were excluded (less than 1% of the data).  \n",
    "\n",
    "Next, we examined the development of sales across platforms over time, considering the average lifespan of a platform (8 years), and selected data for the relevant period (from the start of the current technological generation) for all active platforms at the time of data collection (as of 2016). Thus, we focused on data from 9 platforms—PS4, 3DS, Xbox One, Wii U, PS3, PC, Xbox 360, PSV, and Wii—covering the period from 2014 to 2016. This period included the three most popular platforms from the previous technological generation (PS3, Xbox 360, Wii), which had significantly decreased sales, alongside three equivalent products from the current generation (PS4, Xbox One, 3DS), which were gaining momentum, as well as niche platforms for mobile and PC gaming.  \n",
    "\n",
    "In the selected data, we checked for any correlation between critic and user ratings with global sales on the most popular platform with the highest number of ratings (PS4). A moderate positive correlation was observed with critic ratings (0.4), while the correlation with user ratings was essentially nonexistent (-0.04), which was also consistent with the results for two other popular platforms (Xbox One and 3DS).  \n",
    "\n",
    "From a genre perspective, the action genre leads in terms of the number of games and sales (totaling $200 million); however, the absolute leader in average profitability per game is the shooter genre, which earns $1.4 million—twice that of the next most profitable genre, sports ($0.7 million). The least profitable genres are adventure and strategy, each averaging $0.1 million per game."
   ]
  },
  {
   "cell_type": "markdown",
   "metadata": {},
   "source": [
    "## User Profile\n",
    "<a id='User-Profile'></a> [To content](#To-content)"
   ]
  },
  {
   "cell_type": "markdown",
   "metadata": {},
   "source": [
    "We will create user profiles for the three main sales regions - North America, Europe, and Japan, focusing on popular platforms and genres."
   ]
  },
  {
   "cell_type": "code",
   "execution_count": 50,
   "metadata": {},
   "outputs": [
    {
     "data": {
      "text/html": [
       "<div>\n",
       "<style scoped>\n",
       "    .dataframe tbody tr th:only-of-type {\n",
       "        vertical-align: middle;\n",
       "    }\n",
       "\n",
       "    .dataframe tbody tr th {\n",
       "        vertical-align: top;\n",
       "    }\n",
       "\n",
       "    .dataframe thead th {\n",
       "        text-align: right;\n",
       "    }\n",
       "</style>\n",
       "<table border=\"1\" class=\"dataframe\">\n",
       "  <thead>\n",
       "    <tr style=\"text-align: right;\">\n",
       "      <th></th>\n",
       "      <th>na_sales</th>\n",
       "      <th>na_sales %</th>\n",
       "      <th>eu_sales</th>\n",
       "      <th>eu_sales %</th>\n",
       "      <th>jp_sales</th>\n",
       "      <th>jp_sales %</th>\n",
       "    </tr>\n",
       "    <tr>\n",
       "      <th>platform</th>\n",
       "      <th></th>\n",
       "      <th></th>\n",
       "      <th></th>\n",
       "      <th></th>\n",
       "      <th></th>\n",
       "      <th></th>\n",
       "    </tr>\n",
       "  </thead>\n",
       "  <tbody>\n",
       "    <tr>\n",
       "      <th>3ds</th>\n",
       "      <td>22.64</td>\n",
       "      <td>7.97</td>\n",
       "      <td>16.12</td>\n",
       "      <td>5.96</td>\n",
       "      <td>44.24</td>\n",
       "      <td>47.71</td>\n",
       "    </tr>\n",
       "    <tr>\n",
       "      <th>pc</th>\n",
       "      <td>7.23</td>\n",
       "      <td>2.55</td>\n",
       "      <td>17.97</td>\n",
       "      <td>6.64</td>\n",
       "      <td>0.00</td>\n",
       "      <td>0.00</td>\n",
       "    </tr>\n",
       "    <tr>\n",
       "      <th>ps3</th>\n",
       "      <td>22.05</td>\n",
       "      <td>7.76</td>\n",
       "      <td>25.54</td>\n",
       "      <td>9.44</td>\n",
       "      <td>11.22</td>\n",
       "      <td>12.10</td>\n",
       "    </tr>\n",
       "    <tr>\n",
       "      <th>ps4</th>\n",
       "      <td>98.61</td>\n",
       "      <td>34.71</td>\n",
       "      <td>130.04</td>\n",
       "      <td>48.04</td>\n",
       "      <td>15.02</td>\n",
       "      <td>16.20</td>\n",
       "    </tr>\n",
       "    <tr>\n",
       "      <th>psv</th>\n",
       "      <td>2.52</td>\n",
       "      <td>0.89</td>\n",
       "      <td>3.53</td>\n",
       "      <td>1.30</td>\n",
       "      <td>14.54</td>\n",
       "      <td>15.68</td>\n",
       "    </tr>\n",
       "    <tr>\n",
       "      <th>wii</th>\n",
       "      <td>2.08</td>\n",
       "      <td>0.73</td>\n",
       "      <td>2.59</td>\n",
       "      <td>0.96</td>\n",
       "      <td>0.00</td>\n",
       "      <td>0.00</td>\n",
       "    </tr>\n",
       "    <tr>\n",
       "      <th>wiiu</th>\n",
       "      <td>19.36</td>\n",
       "      <td>6.82</td>\n",
       "      <td>13.15</td>\n",
       "      <td>4.86</td>\n",
       "      <td>7.31</td>\n",
       "      <td>7.88</td>\n",
       "    </tr>\n",
       "    <tr>\n",
       "      <th>x360</th>\n",
       "      <td>28.30</td>\n",
       "      <td>9.96</td>\n",
       "      <td>15.49</td>\n",
       "      <td>5.72</td>\n",
       "      <td>0.08</td>\n",
       "      <td>0.09</td>\n",
       "    </tr>\n",
       "    <tr>\n",
       "      <th>xone</th>\n",
       "      <td>81.27</td>\n",
       "      <td>28.61</td>\n",
       "      <td>46.25</td>\n",
       "      <td>17.09</td>\n",
       "      <td>0.32</td>\n",
       "      <td>0.35</td>\n",
       "    </tr>\n",
       "  </tbody>\n",
       "</table>\n",
       "</div>"
      ],
      "text/plain": [
       "          na_sales  na_sales %  eu_sales  eu_sales %  jp_sales  jp_sales %\n",
       "platform                                                                  \n",
       "3ds          22.64        7.97     16.12        5.96     44.24       47.71\n",
       "pc            7.23        2.55     17.97        6.64      0.00        0.00\n",
       "ps3          22.05        7.76     25.54        9.44     11.22       12.10\n",
       "ps4          98.61       34.71    130.04       48.04     15.02       16.20\n",
       "psv           2.52        0.89      3.53        1.30     14.54       15.68\n",
       "wii           2.08        0.73      2.59        0.96      0.00        0.00\n",
       "wiiu         19.36        6.82     13.15        4.86      7.31        7.88\n",
       "x360         28.30        9.96     15.49        5.72      0.08        0.09\n",
       "xone         81.27       28.61     46.25       17.09      0.32        0.35"
      ]
     },
     "execution_count": 50,
     "metadata": {},
     "output_type": "execute_result"
    }
   ],
   "source": [
    "# gather sales data across different platforms in the specified three regions\n",
    "regions = ['na_sales','eu_sales','jp_sales']\n",
    "user_picture = pd.DataFrame()\n",
    "\n",
    "for region in regions:\n",
    "    user_picture[region] = data_actual.groupby('platform')[region].sum()\n",
    "    user_picture[region+' %'] = data_actual.groupby('platform')[region].sum()/data_actual[region].sum()*100\n",
    "\n",
    "user_picture\n"
   ]
  },
  {
   "cell_type": "code",
   "execution_count": 51,
   "metadata": {},
   "outputs": [
    {
     "data": {
      "text/html": [
       "<div>\n",
       "<style scoped>\n",
       "    .dataframe tbody tr th:only-of-type {\n",
       "        vertical-align: middle;\n",
       "    }\n",
       "\n",
       "    .dataframe tbody tr th {\n",
       "        vertical-align: top;\n",
       "    }\n",
       "\n",
       "    .dataframe thead th {\n",
       "        text-align: right;\n",
       "    }\n",
       "</style>\n",
       "<table border=\"1\" class=\"dataframe\">\n",
       "  <thead>\n",
       "    <tr style=\"text-align: right;\">\n",
       "      <th></th>\n",
       "      <th>na_sales</th>\n",
       "      <th>na_sales %</th>\n",
       "    </tr>\n",
       "    <tr>\n",
       "      <th>platform</th>\n",
       "      <th></th>\n",
       "      <th></th>\n",
       "    </tr>\n",
       "  </thead>\n",
       "  <tbody>\n",
       "    <tr>\n",
       "      <th>ps4</th>\n",
       "      <td>98.61</td>\n",
       "      <td>34.71</td>\n",
       "    </tr>\n",
       "    <tr>\n",
       "      <th>xone</th>\n",
       "      <td>81.27</td>\n",
       "      <td>28.61</td>\n",
       "    </tr>\n",
       "    <tr>\n",
       "      <th>x360</th>\n",
       "      <td>28.30</td>\n",
       "      <td>9.96</td>\n",
       "    </tr>\n",
       "    <tr>\n",
       "      <th>3ds</th>\n",
       "      <td>22.64</td>\n",
       "      <td>7.97</td>\n",
       "    </tr>\n",
       "    <tr>\n",
       "      <th>ps3</th>\n",
       "      <td>22.05</td>\n",
       "      <td>7.76</td>\n",
       "    </tr>\n",
       "  </tbody>\n",
       "</table>\n",
       "</div>"
      ],
      "text/plain": [
       "          na_sales  na_sales %\n",
       "platform                      \n",
       "ps4          98.61       34.71\n",
       "xone         81.27       28.61\n",
       "x360         28.30        9.96\n",
       "3ds          22.64        7.97\n",
       "ps3          22.05        7.76"
      ]
     },
     "metadata": {},
     "output_type": "display_data"
    },
    {
     "data": {
      "text/html": [
       "<div>\n",
       "<style scoped>\n",
       "    .dataframe tbody tr th:only-of-type {\n",
       "        vertical-align: middle;\n",
       "    }\n",
       "\n",
       "    .dataframe tbody tr th {\n",
       "        vertical-align: top;\n",
       "    }\n",
       "\n",
       "    .dataframe thead th {\n",
       "        text-align: right;\n",
       "    }\n",
       "</style>\n",
       "<table border=\"1\" class=\"dataframe\">\n",
       "  <thead>\n",
       "    <tr style=\"text-align: right;\">\n",
       "      <th></th>\n",
       "      <th>eu_sales</th>\n",
       "      <th>eu_sales %</th>\n",
       "    </tr>\n",
       "    <tr>\n",
       "      <th>platform</th>\n",
       "      <th></th>\n",
       "      <th></th>\n",
       "    </tr>\n",
       "  </thead>\n",
       "  <tbody>\n",
       "    <tr>\n",
       "      <th>ps4</th>\n",
       "      <td>130.04</td>\n",
       "      <td>48.04</td>\n",
       "    </tr>\n",
       "    <tr>\n",
       "      <th>xone</th>\n",
       "      <td>46.25</td>\n",
       "      <td>17.09</td>\n",
       "    </tr>\n",
       "    <tr>\n",
       "      <th>ps3</th>\n",
       "      <td>25.54</td>\n",
       "      <td>9.44</td>\n",
       "    </tr>\n",
       "    <tr>\n",
       "      <th>pc</th>\n",
       "      <td>17.97</td>\n",
       "      <td>6.64</td>\n",
       "    </tr>\n",
       "    <tr>\n",
       "      <th>3ds</th>\n",
       "      <td>16.12</td>\n",
       "      <td>5.96</td>\n",
       "    </tr>\n",
       "  </tbody>\n",
       "</table>\n",
       "</div>"
      ],
      "text/plain": [
       "          eu_sales  eu_sales %\n",
       "platform                      \n",
       "ps4         130.04       48.04\n",
       "xone         46.25       17.09\n",
       "ps3          25.54        9.44\n",
       "pc           17.97        6.64\n",
       "3ds          16.12        5.96"
      ]
     },
     "metadata": {},
     "output_type": "display_data"
    },
    {
     "data": {
      "text/html": [
       "<div>\n",
       "<style scoped>\n",
       "    .dataframe tbody tr th:only-of-type {\n",
       "        vertical-align: middle;\n",
       "    }\n",
       "\n",
       "    .dataframe tbody tr th {\n",
       "        vertical-align: top;\n",
       "    }\n",
       "\n",
       "    .dataframe thead th {\n",
       "        text-align: right;\n",
       "    }\n",
       "</style>\n",
       "<table border=\"1\" class=\"dataframe\">\n",
       "  <thead>\n",
       "    <tr style=\"text-align: right;\">\n",
       "      <th></th>\n",
       "      <th>jp_sales</th>\n",
       "      <th>jp_sales %</th>\n",
       "    </tr>\n",
       "    <tr>\n",
       "      <th>platform</th>\n",
       "      <th></th>\n",
       "      <th></th>\n",
       "    </tr>\n",
       "  </thead>\n",
       "  <tbody>\n",
       "    <tr>\n",
       "      <th>3ds</th>\n",
       "      <td>44.24</td>\n",
       "      <td>47.71</td>\n",
       "    </tr>\n",
       "    <tr>\n",
       "      <th>ps4</th>\n",
       "      <td>15.02</td>\n",
       "      <td>16.20</td>\n",
       "    </tr>\n",
       "    <tr>\n",
       "      <th>psv</th>\n",
       "      <td>14.54</td>\n",
       "      <td>15.68</td>\n",
       "    </tr>\n",
       "    <tr>\n",
       "      <th>ps3</th>\n",
       "      <td>11.22</td>\n",
       "      <td>12.10</td>\n",
       "    </tr>\n",
       "    <tr>\n",
       "      <th>wiiu</th>\n",
       "      <td>7.31</td>\n",
       "      <td>7.88</td>\n",
       "    </tr>\n",
       "  </tbody>\n",
       "</table>\n",
       "</div>"
      ],
      "text/plain": [
       "          jp_sales  jp_sales %\n",
       "platform                      \n",
       "3ds          44.24       47.71\n",
       "ps4          15.02       16.20\n",
       "psv          14.54       15.68\n",
       "ps3          11.22       12.10\n",
       "wiiu          7.31        7.88"
      ]
     },
     "metadata": {},
     "output_type": "display_data"
    }
   ],
   "source": [
    "# select the top 5 platforms in each region\n",
    "for region in regions:\n",
    "    display(user_picture[[region, region+' %']].sort_values(by=region,ascending=False).iloc[:5])"
   ]
  },
  {
   "cell_type": "markdown",
   "metadata": {},
   "source": [
    "In the breakdown by platforms, we see that during the relevant period in North America, the leading platform is Sony’s PS4 (34.71% of sales), followed closely by the new domestic platform from Microsoft, Xbox One (28.61% of sales). There is a significant gap with the previous generation platforms, x360 (10%), ps3 (7.8%), and the current Nintendo 3ds platform (8%).   \n",
    "\n",
    "In the European top rankings, the leaders are the same, but the sales gap is much more pronounced: PS4 occupies almost half of the market (48%), while Xbox One only accounts for 17%. Among the “followers,” there is also a specific pattern—besides the old platform ps3 (9.5%) and the closing platform 3ds (6%), PC games occupy a small niche with 6.6% of sales.  \n",
    "\n",
    "In the Japanese market, domestic platforms are unequivocally in the lead, with Nintendo’s newer platform, the 3ds, taking first place (47.71% of sales). Following that is Sony’s ps4 (16%), and the top is rounded out by niche mobile gaming platforms, psv (15.7%) and wii (7.9%), as well as ps3 (12.1%)."
   ]
  },
  {
   "cell_type": "code",
   "execution_count": 52,
   "metadata": {},
   "outputs": [
    {
     "data": {
      "text/html": [
       "<div>\n",
       "<style scoped>\n",
       "    .dataframe tbody tr th:only-of-type {\n",
       "        vertical-align: middle;\n",
       "    }\n",
       "\n",
       "    .dataframe tbody tr th {\n",
       "        vertical-align: top;\n",
       "    }\n",
       "\n",
       "    .dataframe thead th {\n",
       "        text-align: right;\n",
       "    }\n",
       "</style>\n",
       "<table border=\"1\" class=\"dataframe\">\n",
       "  <thead>\n",
       "    <tr style=\"text-align: right;\">\n",
       "      <th></th>\n",
       "      <th>na_sales</th>\n",
       "      <th>na_sales %</th>\n",
       "      <th>eu_sales</th>\n",
       "      <th>eu_sales %</th>\n",
       "      <th>jp_sales</th>\n",
       "      <th>jp_sales %</th>\n",
       "    </tr>\n",
       "    <tr>\n",
       "      <th>genre</th>\n",
       "      <th></th>\n",
       "      <th></th>\n",
       "      <th></th>\n",
       "      <th></th>\n",
       "      <th></th>\n",
       "      <th></th>\n",
       "    </tr>\n",
       "  </thead>\n",
       "  <tbody>\n",
       "    <tr>\n",
       "      <th>action</th>\n",
       "      <td>72.53</td>\n",
       "      <td>25.53</td>\n",
       "      <td>74.68</td>\n",
       "      <td>27.59</td>\n",
       "      <td>29.38</td>\n",
       "      <td>31.68</td>\n",
       "    </tr>\n",
       "    <tr>\n",
       "      <th>adventure</th>\n",
       "      <td>5.64</td>\n",
       "      <td>1.99</td>\n",
       "      <td>6.49</td>\n",
       "      <td>2.40</td>\n",
       "      <td>3.55</td>\n",
       "      <td>3.83</td>\n",
       "    </tr>\n",
       "    <tr>\n",
       "      <th>fighting</th>\n",
       "      <td>12.43</td>\n",
       "      <td>4.38</td>\n",
       "      <td>6.69</td>\n",
       "      <td>2.47</td>\n",
       "      <td>6.37</td>\n",
       "      <td>6.87</td>\n",
       "    </tr>\n",
       "    <tr>\n",
       "      <th>misc</th>\n",
       "      <td>15.05</td>\n",
       "      <td>5.30</td>\n",
       "      <td>12.86</td>\n",
       "      <td>4.75</td>\n",
       "      <td>5.59</td>\n",
       "      <td>6.03</td>\n",
       "    </tr>\n",
       "    <tr>\n",
       "      <th>platform</th>\n",
       "      <td>6.79</td>\n",
       "      <td>2.39</td>\n",
       "      <td>6.80</td>\n",
       "      <td>2.51</td>\n",
       "      <td>2.69</td>\n",
       "      <td>2.90</td>\n",
       "    </tr>\n",
       "    <tr>\n",
       "      <th>puzzle</th>\n",
       "      <td>0.65</td>\n",
       "      <td>0.23</td>\n",
       "      <td>0.52</td>\n",
       "      <td>0.19</td>\n",
       "      <td>0.93</td>\n",
       "      <td>1.00</td>\n",
       "    </tr>\n",
       "    <tr>\n",
       "      <th>racing</th>\n",
       "      <td>8.74</td>\n",
       "      <td>3.08</td>\n",
       "      <td>14.13</td>\n",
       "      <td>5.22</td>\n",
       "      <td>1.76</td>\n",
       "      <td>1.90</td>\n",
       "    </tr>\n",
       "    <tr>\n",
       "      <th>role-playing</th>\n",
       "      <td>33.47</td>\n",
       "      <td>11.78</td>\n",
       "      <td>28.17</td>\n",
       "      <td>10.41</td>\n",
       "      <td>31.16</td>\n",
       "      <td>33.60</td>\n",
       "    </tr>\n",
       "    <tr>\n",
       "      <th>shooter</th>\n",
       "      <td>79.02</td>\n",
       "      <td>27.82</td>\n",
       "      <td>65.52</td>\n",
       "      <td>24.21</td>\n",
       "      <td>4.87</td>\n",
       "      <td>5.25</td>\n",
       "    </tr>\n",
       "    <tr>\n",
       "      <th>simulation</th>\n",
       "      <td>2.63</td>\n",
       "      <td>0.93</td>\n",
       "      <td>7.30</td>\n",
       "      <td>2.70</td>\n",
       "      <td>2.31</td>\n",
       "      <td>2.49</td>\n",
       "    </tr>\n",
       "    <tr>\n",
       "      <th>sports</th>\n",
       "      <td>46.13</td>\n",
       "      <td>16.24</td>\n",
       "      <td>45.73</td>\n",
       "      <td>16.89</td>\n",
       "      <td>3.17</td>\n",
       "      <td>3.42</td>\n",
       "    </tr>\n",
       "    <tr>\n",
       "      <th>strategy</th>\n",
       "      <td>0.98</td>\n",
       "      <td>0.34</td>\n",
       "      <td>1.79</td>\n",
       "      <td>0.66</td>\n",
       "      <td>0.95</td>\n",
       "      <td>1.02</td>\n",
       "    </tr>\n",
       "  </tbody>\n",
       "</table>\n",
       "</div>"
      ],
      "text/plain": [
       "              na_sales  na_sales %  eu_sales  eu_sales %  jp_sales  jp_sales %\n",
       "genre                                                                         \n",
       "action           72.53       25.53     74.68       27.59     29.38       31.68\n",
       "adventure         5.64        1.99      6.49        2.40      3.55        3.83\n",
       "fighting         12.43        4.38      6.69        2.47      6.37        6.87\n",
       "misc             15.05        5.30     12.86        4.75      5.59        6.03\n",
       "platform          6.79        2.39      6.80        2.51      2.69        2.90\n",
       "puzzle            0.65        0.23      0.52        0.19      0.93        1.00\n",
       "racing            8.74        3.08     14.13        5.22      1.76        1.90\n",
       "role-playing     33.47       11.78     28.17       10.41     31.16       33.60\n",
       "shooter          79.02       27.82     65.52       24.21      4.87        5.25\n",
       "simulation        2.63        0.93      7.30        2.70      2.31        2.49\n",
       "sports           46.13       16.24     45.73       16.89      3.17        3.42\n",
       "strategy          0.98        0.34      1.79        0.66      0.95        1.02"
      ]
     },
     "execution_count": 52,
     "metadata": {},
     "output_type": "execute_result"
    }
   ],
   "source": [
    "# gather data on game sales by genre in the specified three regions\n",
    "regions = ['na_sales','eu_sales','jp_sales']\n",
    "user_picture = pd.DataFrame()\n",
    "\n",
    "for region in regions:\n",
    "    user_picture[region] = data_actual.groupby('genre')[region].sum()\n",
    "    user_picture[region+' %'] = data_actual.groupby('genre')[region].sum()/data_actual[region].sum()*100\n",
    "\n",
    "user_picture"
   ]
  },
  {
   "cell_type": "code",
   "execution_count": 53,
   "metadata": {},
   "outputs": [
    {
     "data": {
      "text/html": [
       "<div>\n",
       "<style scoped>\n",
       "    .dataframe tbody tr th:only-of-type {\n",
       "        vertical-align: middle;\n",
       "    }\n",
       "\n",
       "    .dataframe tbody tr th {\n",
       "        vertical-align: top;\n",
       "    }\n",
       "\n",
       "    .dataframe thead th {\n",
       "        text-align: right;\n",
       "    }\n",
       "</style>\n",
       "<table border=\"1\" class=\"dataframe\">\n",
       "  <thead>\n",
       "    <tr style=\"text-align: right;\">\n",
       "      <th></th>\n",
       "      <th>na_sales</th>\n",
       "      <th>na_sales %</th>\n",
       "    </tr>\n",
       "    <tr>\n",
       "      <th>genre</th>\n",
       "      <th></th>\n",
       "      <th></th>\n",
       "    </tr>\n",
       "  </thead>\n",
       "  <tbody>\n",
       "    <tr>\n",
       "      <th>shooter</th>\n",
       "      <td>79.02</td>\n",
       "      <td>27.82</td>\n",
       "    </tr>\n",
       "    <tr>\n",
       "      <th>action</th>\n",
       "      <td>72.53</td>\n",
       "      <td>25.53</td>\n",
       "    </tr>\n",
       "    <tr>\n",
       "      <th>sports</th>\n",
       "      <td>46.13</td>\n",
       "      <td>16.24</td>\n",
       "    </tr>\n",
       "    <tr>\n",
       "      <th>role-playing</th>\n",
       "      <td>33.47</td>\n",
       "      <td>11.78</td>\n",
       "    </tr>\n",
       "    <tr>\n",
       "      <th>misc</th>\n",
       "      <td>15.05</td>\n",
       "      <td>5.30</td>\n",
       "    </tr>\n",
       "  </tbody>\n",
       "</table>\n",
       "</div>"
      ],
      "text/plain": [
       "              na_sales  na_sales %\n",
       "genre                             \n",
       "shooter          79.02       27.82\n",
       "action           72.53       25.53\n",
       "sports           46.13       16.24\n",
       "role-playing     33.47       11.78\n",
       "misc             15.05        5.30"
      ]
     },
     "metadata": {},
     "output_type": "display_data"
    },
    {
     "data": {
      "text/html": [
       "<div>\n",
       "<style scoped>\n",
       "    .dataframe tbody tr th:only-of-type {\n",
       "        vertical-align: middle;\n",
       "    }\n",
       "\n",
       "    .dataframe tbody tr th {\n",
       "        vertical-align: top;\n",
       "    }\n",
       "\n",
       "    .dataframe thead th {\n",
       "        text-align: right;\n",
       "    }\n",
       "</style>\n",
       "<table border=\"1\" class=\"dataframe\">\n",
       "  <thead>\n",
       "    <tr style=\"text-align: right;\">\n",
       "      <th></th>\n",
       "      <th>eu_sales</th>\n",
       "      <th>eu_sales %</th>\n",
       "    </tr>\n",
       "    <tr>\n",
       "      <th>genre</th>\n",
       "      <th></th>\n",
       "      <th></th>\n",
       "    </tr>\n",
       "  </thead>\n",
       "  <tbody>\n",
       "    <tr>\n",
       "      <th>action</th>\n",
       "      <td>74.68</td>\n",
       "      <td>27.59</td>\n",
       "    </tr>\n",
       "    <tr>\n",
       "      <th>shooter</th>\n",
       "      <td>65.52</td>\n",
       "      <td>24.21</td>\n",
       "    </tr>\n",
       "    <tr>\n",
       "      <th>sports</th>\n",
       "      <td>45.73</td>\n",
       "      <td>16.89</td>\n",
       "    </tr>\n",
       "    <tr>\n",
       "      <th>role-playing</th>\n",
       "      <td>28.17</td>\n",
       "      <td>10.41</td>\n",
       "    </tr>\n",
       "    <tr>\n",
       "      <th>racing</th>\n",
       "      <td>14.13</td>\n",
       "      <td>5.22</td>\n",
       "    </tr>\n",
       "  </tbody>\n",
       "</table>\n",
       "</div>"
      ],
      "text/plain": [
       "              eu_sales  eu_sales %\n",
       "genre                             \n",
       "action           74.68       27.59\n",
       "shooter          65.52       24.21\n",
       "sports           45.73       16.89\n",
       "role-playing     28.17       10.41\n",
       "racing           14.13        5.22"
      ]
     },
     "metadata": {},
     "output_type": "display_data"
    },
    {
     "data": {
      "text/html": [
       "<div>\n",
       "<style scoped>\n",
       "    .dataframe tbody tr th:only-of-type {\n",
       "        vertical-align: middle;\n",
       "    }\n",
       "\n",
       "    .dataframe tbody tr th {\n",
       "        vertical-align: top;\n",
       "    }\n",
       "\n",
       "    .dataframe thead th {\n",
       "        text-align: right;\n",
       "    }\n",
       "</style>\n",
       "<table border=\"1\" class=\"dataframe\">\n",
       "  <thead>\n",
       "    <tr style=\"text-align: right;\">\n",
       "      <th></th>\n",
       "      <th>jp_sales</th>\n",
       "      <th>jp_sales %</th>\n",
       "    </tr>\n",
       "    <tr>\n",
       "      <th>genre</th>\n",
       "      <th></th>\n",
       "      <th></th>\n",
       "    </tr>\n",
       "  </thead>\n",
       "  <tbody>\n",
       "    <tr>\n",
       "      <th>role-playing</th>\n",
       "      <td>31.16</td>\n",
       "      <td>33.60</td>\n",
       "    </tr>\n",
       "    <tr>\n",
       "      <th>action</th>\n",
       "      <td>29.38</td>\n",
       "      <td>31.68</td>\n",
       "    </tr>\n",
       "    <tr>\n",
       "      <th>fighting</th>\n",
       "      <td>6.37</td>\n",
       "      <td>6.87</td>\n",
       "    </tr>\n",
       "    <tr>\n",
       "      <th>misc</th>\n",
       "      <td>5.59</td>\n",
       "      <td>6.03</td>\n",
       "    </tr>\n",
       "    <tr>\n",
       "      <th>shooter</th>\n",
       "      <td>4.87</td>\n",
       "      <td>5.25</td>\n",
       "    </tr>\n",
       "  </tbody>\n",
       "</table>\n",
       "</div>"
      ],
      "text/plain": [
       "              jp_sales  jp_sales %\n",
       "genre                             \n",
       "role-playing     31.16       33.60\n",
       "action           29.38       31.68\n",
       "fighting          6.37        6.87\n",
       "misc              5.59        6.03\n",
       "shooter           4.87        5.25"
      ]
     },
     "metadata": {},
     "output_type": "display_data"
    }
   ],
   "source": [
    "# select the top 5 genres in each region.\n",
    "for region in regions:\n",
    "    display(user_picture[[region, region+' %']].sort_values(by=region,ascending=False).iloc[:5])"
   ]
  },
  {
   "cell_type": "markdown",
   "metadata": {},
   "source": [
    "In **North America** and **Europe**, the genre preferences of games show minimal differences; the leaders in the top 5 of both regions are alternately **shooter** (27.8% in NA and 24.2% in EU) and **action** (25.5% in NA and 27.6% in EU). Following these are **sports** (approximately 16% of sales) and **RPG** (11.8% and 10.4% respectively).\n",
    "\n",
    "The **Japanese** market is somewhat different; here, **RPG**s historically generate greater interest (33.6% of sales) and are widely represented on local platforms. Next is **action** (31.7%), while the subsequent genres lag significantly behind — **fighting** (6.8%), **shooter** (5.2%), and other genres (6%).\n",
    "\n",
    "The similarities in interests between the American and European markets, and the contrasting differences with Japan, are likely due to cultural features and historical connections. Similar traits can be observed in other cultural spheres (film/literature/comics/animation)."
   ]
  },
  {
   "cell_type": "code",
   "execution_count": 54,
   "metadata": {},
   "outputs": [
    {
     "data": {
      "text/html": [
       "<div>\n",
       "<style scoped>\n",
       "    .dataframe tbody tr th:only-of-type {\n",
       "        vertical-align: middle;\n",
       "    }\n",
       "\n",
       "    .dataframe tbody tr th {\n",
       "        vertical-align: top;\n",
       "    }\n",
       "\n",
       "    .dataframe thead th {\n",
       "        text-align: right;\n",
       "    }\n",
       "</style>\n",
       "<table border=\"1\" class=\"dataframe\">\n",
       "  <thead>\n",
       "    <tr style=\"text-align: right;\">\n",
       "      <th></th>\n",
       "      <th>na_sales</th>\n",
       "      <th>na_sales %</th>\n",
       "      <th>eu_sales</th>\n",
       "      <th>eu_sales %</th>\n",
       "      <th>jp_sales</th>\n",
       "      <th>jp_sales %</th>\n",
       "    </tr>\n",
       "    <tr>\n",
       "      <th>rating</th>\n",
       "      <th></th>\n",
       "      <th></th>\n",
       "      <th></th>\n",
       "      <th></th>\n",
       "      <th></th>\n",
       "      <th></th>\n",
       "    </tr>\n",
       "  </thead>\n",
       "  <tbody>\n",
       "    <tr>\n",
       "      <th>E</th>\n",
       "      <td>50.74</td>\n",
       "      <td>17.86</td>\n",
       "      <td>58.06</td>\n",
       "      <td>21.45</td>\n",
       "      <td>8.94</td>\n",
       "      <td>9.64</td>\n",
       "    </tr>\n",
       "    <tr>\n",
       "      <th>E10+</th>\n",
       "      <td>33.23</td>\n",
       "      <td>11.70</td>\n",
       "      <td>26.16</td>\n",
       "      <td>9.66</td>\n",
       "      <td>4.46</td>\n",
       "      <td>4.81</td>\n",
       "    </tr>\n",
       "    <tr>\n",
       "      <th>M</th>\n",
       "      <td>96.42</td>\n",
       "      <td>33.94</td>\n",
       "      <td>93.44</td>\n",
       "      <td>34.52</td>\n",
       "      <td>8.01</td>\n",
       "      <td>8.64</td>\n",
       "    </tr>\n",
       "    <tr>\n",
       "      <th>T</th>\n",
       "      <td>38.95</td>\n",
       "      <td>13.71</td>\n",
       "      <td>34.07</td>\n",
       "      <td>12.59</td>\n",
       "      <td>14.78</td>\n",
       "      <td>15.94</td>\n",
       "    </tr>\n",
       "    <tr>\n",
       "      <th>tbd</th>\n",
       "      <td>64.72</td>\n",
       "      <td>22.78</td>\n",
       "      <td>58.95</td>\n",
       "      <td>21.78</td>\n",
       "      <td>56.54</td>\n",
       "      <td>60.97</td>\n",
       "    </tr>\n",
       "  </tbody>\n",
       "</table>\n",
       "</div>"
      ],
      "text/plain": [
       "        na_sales  na_sales %  eu_sales  eu_sales %  jp_sales  jp_sales %\n",
       "rating                                                                  \n",
       "E          50.74       17.86     58.06       21.45      8.94        9.64\n",
       "E10+       33.23       11.70     26.16        9.66      4.46        4.81\n",
       "M          96.42       33.94     93.44       34.52      8.01        8.64\n",
       "T          38.95       13.71     34.07       12.59     14.78       15.94\n",
       "tbd        64.72       22.78     58.95       21.78     56.54       60.97"
      ]
     },
     "execution_count": 54,
     "metadata": {},
     "output_type": "execute_result"
    }
   ],
   "source": [
    "# gather data on game sales broken down by ratings in the specified three regions\n",
    "regions = ['na_sales','eu_sales','jp_sales']\n",
    "user_picture = pd.DataFrame()\n",
    "\n",
    "for region in regions:\n",
    "    user_picture[region] = data_actual.groupby('rating')[region].sum()\n",
    "    user_picture[region+' %'] = data_actual.groupby('rating')[region].sum()/data_actual[region].sum()*100\n",
    "\n",
    "user_picture"
   ]
  },
  {
   "cell_type": "code",
   "execution_count": 55,
   "metadata": {},
   "outputs": [
    {
     "data": {
      "text/html": [
       "<div>\n",
       "<style scoped>\n",
       "    .dataframe tbody tr th:only-of-type {\n",
       "        vertical-align: middle;\n",
       "    }\n",
       "\n",
       "    .dataframe tbody tr th {\n",
       "        vertical-align: top;\n",
       "    }\n",
       "\n",
       "    .dataframe thead th {\n",
       "        text-align: right;\n",
       "    }\n",
       "</style>\n",
       "<table border=\"1\" class=\"dataframe\">\n",
       "  <thead>\n",
       "    <tr style=\"text-align: right;\">\n",
       "      <th></th>\n",
       "      <th>na_sales</th>\n",
       "      <th>na_sales %</th>\n",
       "    </tr>\n",
       "    <tr>\n",
       "      <th>rating</th>\n",
       "      <th></th>\n",
       "      <th></th>\n",
       "    </tr>\n",
       "  </thead>\n",
       "  <tbody>\n",
       "    <tr>\n",
       "      <th>M</th>\n",
       "      <td>96.42</td>\n",
       "      <td>33.94</td>\n",
       "    </tr>\n",
       "    <tr>\n",
       "      <th>tbd</th>\n",
       "      <td>64.72</td>\n",
       "      <td>22.78</td>\n",
       "    </tr>\n",
       "    <tr>\n",
       "      <th>E</th>\n",
       "      <td>50.74</td>\n",
       "      <td>17.86</td>\n",
       "    </tr>\n",
       "    <tr>\n",
       "      <th>T</th>\n",
       "      <td>38.95</td>\n",
       "      <td>13.71</td>\n",
       "    </tr>\n",
       "    <tr>\n",
       "      <th>E10+</th>\n",
       "      <td>33.23</td>\n",
       "      <td>11.70</td>\n",
       "    </tr>\n",
       "  </tbody>\n",
       "</table>\n",
       "</div>"
      ],
      "text/plain": [
       "        na_sales  na_sales %\n",
       "rating                      \n",
       "M          96.42       33.94\n",
       "tbd        64.72       22.78\n",
       "E          50.74       17.86\n",
       "T          38.95       13.71\n",
       "E10+       33.23       11.70"
      ]
     },
     "metadata": {},
     "output_type": "display_data"
    },
    {
     "data": {
      "text/html": [
       "<div>\n",
       "<style scoped>\n",
       "    .dataframe tbody tr th:only-of-type {\n",
       "        vertical-align: middle;\n",
       "    }\n",
       "\n",
       "    .dataframe tbody tr th {\n",
       "        vertical-align: top;\n",
       "    }\n",
       "\n",
       "    .dataframe thead th {\n",
       "        text-align: right;\n",
       "    }\n",
       "</style>\n",
       "<table border=\"1\" class=\"dataframe\">\n",
       "  <thead>\n",
       "    <tr style=\"text-align: right;\">\n",
       "      <th></th>\n",
       "      <th>eu_sales</th>\n",
       "      <th>eu_sales %</th>\n",
       "    </tr>\n",
       "    <tr>\n",
       "      <th>rating</th>\n",
       "      <th></th>\n",
       "      <th></th>\n",
       "    </tr>\n",
       "  </thead>\n",
       "  <tbody>\n",
       "    <tr>\n",
       "      <th>M</th>\n",
       "      <td>93.44</td>\n",
       "      <td>34.52</td>\n",
       "    </tr>\n",
       "    <tr>\n",
       "      <th>tbd</th>\n",
       "      <td>58.95</td>\n",
       "      <td>21.78</td>\n",
       "    </tr>\n",
       "    <tr>\n",
       "      <th>E</th>\n",
       "      <td>58.06</td>\n",
       "      <td>21.45</td>\n",
       "    </tr>\n",
       "    <tr>\n",
       "      <th>T</th>\n",
       "      <td>34.07</td>\n",
       "      <td>12.59</td>\n",
       "    </tr>\n",
       "    <tr>\n",
       "      <th>E10+</th>\n",
       "      <td>26.16</td>\n",
       "      <td>9.66</td>\n",
       "    </tr>\n",
       "  </tbody>\n",
       "</table>\n",
       "</div>"
      ],
      "text/plain": [
       "        eu_sales  eu_sales %\n",
       "rating                      \n",
       "M          93.44       34.52\n",
       "tbd        58.95       21.78\n",
       "E          58.06       21.45\n",
       "T          34.07       12.59\n",
       "E10+       26.16        9.66"
      ]
     },
     "metadata": {},
     "output_type": "display_data"
    },
    {
     "data": {
      "text/html": [
       "<div>\n",
       "<style scoped>\n",
       "    .dataframe tbody tr th:only-of-type {\n",
       "        vertical-align: middle;\n",
       "    }\n",
       "\n",
       "    .dataframe tbody tr th {\n",
       "        vertical-align: top;\n",
       "    }\n",
       "\n",
       "    .dataframe thead th {\n",
       "        text-align: right;\n",
       "    }\n",
       "</style>\n",
       "<table border=\"1\" class=\"dataframe\">\n",
       "  <thead>\n",
       "    <tr style=\"text-align: right;\">\n",
       "      <th></th>\n",
       "      <th>jp_sales</th>\n",
       "      <th>jp_sales %</th>\n",
       "    </tr>\n",
       "    <tr>\n",
       "      <th>rating</th>\n",
       "      <th></th>\n",
       "      <th></th>\n",
       "    </tr>\n",
       "  </thead>\n",
       "  <tbody>\n",
       "    <tr>\n",
       "      <th>tbd</th>\n",
       "      <td>56.54</td>\n",
       "      <td>60.97</td>\n",
       "    </tr>\n",
       "    <tr>\n",
       "      <th>T</th>\n",
       "      <td>14.78</td>\n",
       "      <td>15.94</td>\n",
       "    </tr>\n",
       "    <tr>\n",
       "      <th>E</th>\n",
       "      <td>8.94</td>\n",
       "      <td>9.64</td>\n",
       "    </tr>\n",
       "    <tr>\n",
       "      <th>M</th>\n",
       "      <td>8.01</td>\n",
       "      <td>8.64</td>\n",
       "    </tr>\n",
       "    <tr>\n",
       "      <th>E10+</th>\n",
       "      <td>4.46</td>\n",
       "      <td>4.81</td>\n",
       "    </tr>\n",
       "  </tbody>\n",
       "</table>\n",
       "</div>"
      ],
      "text/plain": [
       "        jp_sales  jp_sales %\n",
       "rating                      \n",
       "tbd        56.54       60.97\n",
       "T          14.78       15.94\n",
       "E           8.94        9.64\n",
       "M           8.01        8.64\n",
       "E10+        4.46        4.81"
      ]
     },
     "metadata": {},
     "output_type": "display_data"
    }
   ],
   "source": [
    "# select the top 5 ratings in each region\n",
    "for region in regions:\n",
    "    display(user_picture[[region, region+' %']].sort_values(by=region,ascending=False).iloc[:5])"
   ]
  },
  {
   "cell_type": "markdown",
   "metadata": {},
   "source": [
    "Based on the available data for the relevant period, we cannot definitively calculate the relationship between sales and specific ratings (since this is a categorical feature). However, we can observe identical sales volumes for the aggregate of games with the same ratings in **North America** and **Europe**. The leading games in both regions have an M rating for mature audiences, accounting for 33.9% and 34.5% of sales, respectively. Games suitable for all ages, including young children, are in third place for sales (17.9% and 21.4%, respectively), followed by games with ratings T and E10+. It is worth noting that a significant portion consists of games without specified ratings (22% for each region); clarifying these ratings could potentially alter the distribution of evaluations.\n",
    "\n",
    "For the **Japanese** market, it is challenging to draw similar conclusions due to a significant portion of games in the dataset lacking ratings for this region (61%). Therefore, distortions could either align with the situation in the other two regions or diverge from it. Based on the available data, the leading segment for sales consists of games rated for teenagers (16%), followed by games from other segments E - 9.6%, M - 8.6%, with no clear logic due to the small number of evaluations."
   ]
  },
  {
   "cell_type": "markdown",
   "metadata": {},
   "source": [
    "**Conclusion**\n",
    "\n",
    "Considering the conducted additional analysis, we can specify the portrait of the most typical user for each of the three regions:\n",
    "- For **North America**: This is a PS4 console owner who prefers games in the shooter or action genres and is over 17 years old. As an alternative, we could assume a younger player (fitting the E rating), but only in the action genre (as it is hard to imagine shooters for young children).\n",
    "- For **Europe**: This is also a PS4 console owner who prefers action or shooter games, aged over 17 years, with a similar alternative to the North American market.\n",
    "- For the **Japanese market**: This is definitely a 3DS console owner who prefers RPG or action genres and is of teenage age. Given the lack of a large segment of data on genres for the Japanese region, it is difficult to propose a worthy alternative to the main characteristic.\n",
    "\n",
    "Additionally, it is worth noting the similarity in genre and platform preferences between the NA and EU regions. In both cases, the PS4 and Xbox One are popular, with shooter and action genres alternating as leaders in both regions. Therefore, releasing a game for both platforms significantly increases the likelihood of boosting sales by tapping into two regional markets on the two most popular platforms. The spread of less popular platforms between regions is more significant, and selecting a universal outsider is not feasible—on the North American market, it is the x360, on the European market, it is the PS3 and PC, and on the Japanese market, it is mobile platforms.\n",
    "\n",
    "For entering the Japanese market, it makes sense to focus on the requirements of Sony and Nintendo, as all the top sales are for platforms from these two local manufacturers, and to prefer the RPG or action genre.\\\n",
    "From the perspective of ratings, an older audience (from the M rating and stricter) is clearly more financially capable than a younger audience (E, T ratings) that depends on their parents."
   ]
  },
  {
   "cell_type": "markdown",
   "metadata": {},
   "source": [
    "## Hypothesis Testing\n",
    "<a id='Hypothesis-Testing'></a> [To Contents](#To-Contents)"
   ]
  },
  {
   "cell_type": "markdown",
   "metadata": {},
   "source": [
    "At the request of colleagues, it has been suggested to consider and test several statistical hypotheses based on the available samples:\n",
    "- The average user ratings for the Xbox One and PC platforms are the same;\n",
    "- The average user ratings for the Action and Sports genres are different."
   ]
  },
  {
   "cell_type": "markdown",
   "metadata": {},
   "source": [
    "To test the **first hypothesis**, it is necessary to form two samples of user ratings for the two specified platforms. If the sample sizes differ significantly, this should be taken into account when setting the test parameters, as the variances of the respective populations may differ (especially if the data in the samples is limited and they are disproportionate to each other in quantity).\n",
    "\n",
    "The null hypothesis (H0) will state that the average user ratings for games on the Xbox One and PC platforms are equal, while the alternative hypothesis (H1) will state that the average user ratings for games on the Xbox One and PC platforms are not equal. In this case, for the two samples from two populations, we will use the **two-sample t-test for independent samples** (statistical test `st.ttest_ind()`, with the alternative hypothesis parameter set to `two-sided`, as according to the proposed hypotheses, the difference in means may be either positive or negative)."
   ]
  },
  {
   "cell_type": "code",
   "execution_count": 56,
   "metadata": {},
   "outputs": [
    {
     "name": "stdout",
     "output_type": "stream",
     "text": [
      "Среднее значение пользовательских оценок по играм для платформы Xbox One по выборке: 6.59\n",
      "Среднее значение пользовательских оценок по играм для платформы PC по выборке: 6.30\n"
     ]
    },
    {
     "data": {
      "text/plain": [
       "(165, 12)"
      ]
     },
     "metadata": {},
     "output_type": "display_data"
    },
    {
     "data": {
      "text/plain": [
       "(122, 12)"
      ]
     },
     "metadata": {},
     "output_type": "display_data"
    },
    {
     "name": "stdout",
     "output_type": "stream",
     "text": [
      "p-значение:  0.11601545900050317\n",
      "Не получилось отвергнуть нулевую гипотезу\n"
     ]
    }
   ],
   "source": [
    "# form two samples of user ratings for the Xbox One and PC platforms\n",
    "data_xone = data_actual[(data_actual['platform']=='xone')&(data_actual['user_score']>0)]\n",
    "data_pc = data_actual[(data_actual['platform']=='pc')&(data_actual['user_score']>0)]\n",
    "\n",
    "# calculate the average ratings for the obtained samples\n",
    "print(f'The average user rating for games on the Xbox One platform based on the sample:: {data_xone[\"user_score\"].mean():.2f}')\n",
    "print(f'The average user rating for games on the PC platform based on the sample: {data_pc[\"user_score\"].mean():.2f}')\n",
    "\n",
    "# compare the sample sizes\n",
    "display(data_xone.shape)\n",
    "display(data_pc.shape)\n",
    "\n",
    "# set the significance level \n",
    "# if the p-value is less than this level, we will reject the hypothesis\n",
    "alpha = 0.05\n",
    "\n",
    "# since the sample sizes differ by almost three times and the samples themselves are quite small, \n",
    "# we will set a parameter to calculate the variance for each sample separately\n",
    "results = st.ttest_ind(data_xone['user_score'],data_pc['user_score'], equal_var=False)\n",
    "\n",
    "print('p-value: ', results.pvalue)\n",
    "\n",
    "if results.pvalue < alpha:\n",
    "    print('We reject the null hypothesis')\n",
    "else:\n",
    "    print('We failed to reject the null hypothesis')\n"
   ]
  },
  {
   "cell_type": "markdown",
   "metadata": {},
   "source": [
    "The average ratings are close to each other, and the obtained p-value indicates that the stated (or even larger) differences can occur by chance with a probability of just over 11%. This is a relatively high probability compared to the set significance level of 5%, making it difficult to conclude a significant difference between the average ratings for the specified platforms.\n",
    "\n",
    "Additionally, this can be inferred from the fact that games are often released on multiple platforms and have similar ratings (as they are essentially the same game adapted to the platform's requirements), which explains the closeness of average ratings between platforms. Moreover, the ratings are given by different users (user groups), so considering these two samples as dependent (and applying the corresponding statistical test) is incorrect."
   ]
  },
  {
   "cell_type": "markdown",
   "metadata": {},
   "source": [
    "To test the **second hypothesis**, we also need to form two samples of user ratings for the two specified genres: action and sports. If the sample sizes differ significantly, this will need to be taken into account when setting the test parameters, as the variances of the respective samples may differ (especially if the data in the samples is limited and they are not proportional to each other in quantity). \n",
    "\n",
    "The null hypothesis (H0) will state that the average user ratings for action and sports games are equal, while the alternative hypothesis (H1) will state that the average user ratings for action and sports games are not equal. In this case, for the two samples from the two groups, we will use the two-sample t-test for independent samples (stat_test st.ttest_ind()) with the alternative hypothesis parameter set to two-sided, as the difference in means may be in either direction relative to each other according to the specified hypotheses."
   ]
  },
  {
   "cell_type": "code",
   "execution_count": 57,
   "metadata": {},
   "outputs": [
    {
     "name": "stdout",
     "output_type": "stream",
     "text": [
      "Среднее значение пользовательских оценок по играм жанра action по выборке: 3.28\n",
      "Среднее значение пользовательских оценок по играм жанра sports по выборке 4.15\n"
     ]
    },
    {
     "data": {
      "text/plain": [
       "(613, 12)"
      ]
     },
     "metadata": {},
     "output_type": "display_data"
    },
    {
     "data": {
      "text/plain": [
       "(160, 12)"
      ]
     },
     "metadata": {},
     "output_type": "display_data"
    },
    {
     "name": "stdout",
     "output_type": "stream",
     "text": [
      "p-значение:  0.0007303408426159307\n",
      "Отвергаем нулевую гипотезу\n"
     ]
    }
   ],
   "source": [
    "# form two samples of user ratings for the platforms Xbox One and PC\n",
    "data_action = data_actual[(data_actual['genre']=='action')]\n",
    "data_sports = data_actual[(data_actual['genre']=='sports')]\n",
    "\n",
    "# calculate the average ratings based on the obtained samples\n",
    "print(f'The average user rating for games in the action genre based on the sample: {data_action[\"user_score\"].mean():.2f}')\n",
    "print(f'The average user rating for games in the sports genre based on the sample: {data_sports[\"user_score\"].mean():.2f}')\n",
    "\n",
    "# compare the sample sizes\n",
    "display(data_action.shape)\n",
    "display(data_sports.shape)\n",
    "\n",
    "# set the significance level.\n",
    "# if the p-value is less than this level, we will reject the null hypothesis\n",
    "alpha = 0.05\n",
    "\n",
    "# since the sizes of the samples differ by almost two times, and the samples themselves are quite small,\n",
    "# let's set a parameter to calculate the variance for each sample separately\n",
    "results = st.ttest_ind(data_action['user_score'],data_sports['user_score'], equal_var=False)\n",
    "\n",
    "print('p-value: ', results.pvalue)\n",
    "\n",
    "if results.pvalue < alpha:\n",
    "    print('We reject the null hypothesis')\n",
    "else:\n",
    "    print('We failed to reject the null hypothesis')\n"
   ]
  },
  {
   "cell_type": "markdown",
   "metadata": {},
   "source": [
    "The average ratings for the two genres differ, and the obtained p-value indicates that such (or even greater) differences could occur by chance with a probability of just over 0.07% (assuming the null hypothesis is true). This is clearly a significantly low probability compared to the set significance threshold of 5% (and even 1%), allowing us to conclude that the difference in average ratings for the specified genres is not random. Therefore, we can reject the null hypothesis in favor of the alternative one. Additionally, the difference in average ratings can be attributed to the fundamental differences between the genres, which attract different audiences, and the games are rated based on various parameters."
   ]
  },
  {
   "cell_type": "markdown",
   "metadata": {},
   "source": [
    "## Overall Conclusion\n",
    "<a id='Overall-Conclusion'></a> [Back to contents](#Back-to-contents)"
   ]
  },
  {
   "cell_type": "markdown",
   "metadata": {},
   "source": [
    "During the data analysis, **preliminary data processing** was conducted, which included converting the column names and the values in the columns for game titles, platforms, and genres to lowercase. Additionally, several records (2) with missing game titles and genre names were excluded. Missing values in the columns for the game's release year, critic ratings, user ratings, and age rating were filled with indicator values for subsequent consideration in the analysis. The types in the columns with integer data (release year, critic ratings) and floating-point data (sales data, user ratings) were converted to more compact `int32` and `float32`. A column with total worldwide sales for each game was added. No duplicates were found.\n",
    "\n",
    "In the **exploratory analysis**, missing values in the release years of the games were further analyzed, as this information is critically important for considering other data. Data was supplemented using information from game titles and related data (as games often release on multiple platforms at the same time), and the remaining missing values were excluded (less than 1% of the data). Next, sales development by platform over time was examined by the release year of games, considering the average lifespan of a platform (8 years). Data was selected for the relevant period (from the start of the current technological generation) across all active platforms at the time of data collection (in 2016), thus selecting data for 9 platforms: PS4, 3DS, Xbox One, Wii U, PS3, PC, Xbox 360, PSV, and Wii for the period from 2014 to 2016. \n",
    "\n",
    "On the selected data, the correlation between critic and user ratings with worldwide sales was examined for the most popular platform with the highest number of ratings (PS4). A moderate positive correlation was observed with critic ratings (0.4), while the correlation with user ratings was essentially absent (-0.04). Similar patterns were observed for the two other popular platforms (Xbox One and 3DS). In terms of genres, the action genre leads in the number of games and sales (sales of 200 million), however, in terms of average profitability per game, the absolute leader is the shooter genre, earning 1.4 million, which is twice as much as the next most profitable genre, sports (0.7 million). The least profitable genres are adventure and strategy (0.1 million each).\n",
    "\n",
    "Also, based on the additional analysis conducted, the **portrait of the typical user** for each of the three regions can be specified:\n",
    "\n",
    "- For North America, the typical user is a Sony (PS4) console owner who prefers games in the shooter or action genre and is older than 17 years. As an alternative, a younger player (suitable for the E rating) can be considered, but only in the action genre (as it is difficult to imagine shooters for small children).\n",
    "- For Europe, the typical user is also a PS4 console owner who prefers games in the action or shooter genres and is older than 17 years. The additional alternative is similar to that of the North American market.\n",
    "- For the Japanese market, the typical user is definitely a 3DS console owner who prefers RPG or action genres and is of teenage age. Given the lack of a large segment of data on genres for the Japanese region, it is difficult to propose a worthy alternative to the main characteristic.\n",
    "\n",
    "Additionally, **for future forecasting purposes**, it can be noted that there are similarities in genre and platform preferences between the NA and EU regions. In both cases, the leading platforms are PS4 and Xbox One, and in the genres of shooter/action, there are alternating leaders in both regions. Thus, releasing a game on both platforms significantly increases the likelihood of boosting sales due to presence in two regional markets and on the two most popular platforms. The range of less popular platforms between regions is already more significant, making it impossible to select a universal outsider: in the North American market, it is Xbox 360, in Europe PS3 and PC, and in Japan, it is mobile platforms. For entering the Japanese market, it makes sense to focus on the requirements of Sony and Nintendo, as the entire sales top is comprised of platforms from these two local manufacturers, and to prefer the RPG or action genre.\n",
    "\n",
    "From the perspective of ratings, an older audience (from the M rating and stricter) is obviously more financially capable than a younger audience (E, T ratings) who depend on their parents.\n",
    "\n",
    "Based on the **testing of the two proposed hypotheses**, the following conclusions can be drawn:\n",
    "- The average user ratings for the Xbox One and PC platforms are likely the same, as with the specified significance level and the available data, we cannot reject the initial null hypothesis of equality of the average rating values.\n",
    "- The average user ratings for the Action and Sports genres are different, as with the specified significance level and the available data, we can reject the initial null hypothesis of equality of the average rating values for the specified genres (the probability of random differences (assuming the null hypothesis is true) between the considered average ratings is extremely low)."
   ]
  },
  {
   "cell_type": "markdown",
   "metadata": {},
   "source": []
  }
 ],
 "metadata": {
  "ExecuteTimeLog": [
   {
    "duration": 54,
    "start_time": "2024-04-26T12:01:48.509Z"
   },
   {
    "duration": 1210,
    "start_time": "2024-04-26T12:01:58.053Z"
   },
   {
    "duration": 217,
    "start_time": "2024-04-26T12:01:59.265Z"
   },
   {
    "duration": 571,
    "start_time": "2024-04-26T12:01:59.484Z"
   },
   {
    "duration": 29,
    "start_time": "2024-04-26T12:02:00.058Z"
   },
   {
    "duration": 82,
    "start_time": "2024-04-26T12:02:00.094Z"
   },
   {
    "duration": 116,
    "start_time": "2024-04-26T12:02:00.178Z"
   },
   {
    "duration": 260,
    "start_time": "2024-04-26T12:02:00.296Z"
   },
   {
    "duration": 69,
    "start_time": "2024-04-26T12:02:00.558Z"
   },
   {
    "duration": 86,
    "start_time": "2024-04-26T12:02:00.629Z"
   },
   {
    "duration": 190,
    "start_time": "2024-04-26T12:02:00.718Z"
   },
   {
    "duration": 537,
    "start_time": "2024-04-26T12:02:00.910Z"
   },
   {
    "duration": 395,
    "start_time": "2024-04-26T12:02:01.448Z"
   },
   {
    "duration": 593,
    "start_time": "2024-04-26T12:02:01.845Z"
   },
   {
    "duration": 2093,
    "start_time": "2024-04-26T12:02:02.439Z"
   },
   {
    "duration": 126,
    "start_time": "2024-04-26T12:02:04.534Z"
   },
   {
    "duration": 0,
    "start_time": "2024-04-26T12:02:04.661Z"
   },
   {
    "duration": 0,
    "start_time": "2024-04-26T12:02:04.663Z"
   },
   {
    "duration": 0,
    "start_time": "2024-04-26T12:02:04.663Z"
   },
   {
    "duration": 0,
    "start_time": "2024-04-26T12:02:04.664Z"
   },
   {
    "duration": 0,
    "start_time": "2024-04-26T12:02:04.665Z"
   },
   {
    "duration": 0,
    "start_time": "2024-04-26T12:02:04.666Z"
   },
   {
    "duration": 0,
    "start_time": "2024-04-26T12:02:04.667Z"
   },
   {
    "duration": 0,
    "start_time": "2024-04-26T12:02:04.668Z"
   },
   {
    "duration": 0,
    "start_time": "2024-04-26T12:02:04.669Z"
   },
   {
    "duration": 0,
    "start_time": "2024-04-26T12:02:04.670Z"
   },
   {
    "duration": 0,
    "start_time": "2024-04-26T12:02:04.671Z"
   },
   {
    "duration": 0,
    "start_time": "2024-04-26T12:02:04.672Z"
   },
   {
    "duration": 0,
    "start_time": "2024-04-26T12:02:04.694Z"
   },
   {
    "duration": 0,
    "start_time": "2024-04-26T12:02:04.695Z"
   },
   {
    "duration": 0,
    "start_time": "2024-04-26T12:02:04.696Z"
   },
   {
    "duration": 299,
    "start_time": "2024-04-26T12:03:32.469Z"
   },
   {
    "duration": 360,
    "start_time": "2024-04-26T12:03:44.015Z"
   },
   {
    "duration": 280,
    "start_time": "2024-04-26T12:04:02.988Z"
   },
   {
    "duration": 380,
    "start_time": "2024-04-26T12:04:13.795Z"
   },
   {
    "duration": 284,
    "start_time": "2024-04-26T12:04:39.640Z"
   },
   {
    "duration": 292,
    "start_time": "2024-04-26T12:05:00.502Z"
   },
   {
    "duration": 1359,
    "start_time": "2024-04-26T12:05:35.638Z"
   },
   {
    "duration": 1140,
    "start_time": "2024-04-26T12:05:57.370Z"
   },
   {
    "duration": 79,
    "start_time": "2024-04-26T12:05:58.511Z"
   },
   {
    "duration": 582,
    "start_time": "2024-04-26T12:05:58.591Z"
   },
   {
    "duration": 32,
    "start_time": "2024-04-26T12:05:59.174Z"
   },
   {
    "duration": 10,
    "start_time": "2024-04-26T12:05:59.208Z"
   },
   {
    "duration": 25,
    "start_time": "2024-04-26T12:05:59.219Z"
   },
   {
    "duration": 39,
    "start_time": "2024-04-26T12:05:59.245Z"
   },
   {
    "duration": 14,
    "start_time": "2024-04-26T12:05:59.285Z"
   },
   {
    "duration": 39,
    "start_time": "2024-04-26T12:05:59.300Z"
   },
   {
    "duration": 41,
    "start_time": "2024-04-26T12:05:59.341Z"
   },
   {
    "duration": 18,
    "start_time": "2024-04-26T12:05:59.383Z"
   },
   {
    "duration": 21,
    "start_time": "2024-04-26T12:05:59.403Z"
   },
   {
    "duration": 308,
    "start_time": "2024-04-26T12:05:59.426Z"
   },
   {
    "duration": 2189,
    "start_time": "2024-04-26T12:05:59.737Z"
   },
   {
    "duration": 137,
    "start_time": "2024-04-26T12:06:01.928Z"
   },
   {
    "duration": 0,
    "start_time": "2024-04-26T12:06:02.066Z"
   },
   {
    "duration": 0,
    "start_time": "2024-04-26T12:06:02.068Z"
   },
   {
    "duration": 0,
    "start_time": "2024-04-26T12:06:02.070Z"
   },
   {
    "duration": 0,
    "start_time": "2024-04-26T12:06:02.071Z"
   },
   {
    "duration": 0,
    "start_time": "2024-04-26T12:06:02.073Z"
   },
   {
    "duration": 0,
    "start_time": "2024-04-26T12:06:02.074Z"
   },
   {
    "duration": 0,
    "start_time": "2024-04-26T12:06:02.076Z"
   },
   {
    "duration": 0,
    "start_time": "2024-04-26T12:06:02.094Z"
   },
   {
    "duration": 0,
    "start_time": "2024-04-26T12:06:02.096Z"
   },
   {
    "duration": 0,
    "start_time": "2024-04-26T12:06:02.097Z"
   },
   {
    "duration": 0,
    "start_time": "2024-04-26T12:06:02.098Z"
   },
   {
    "duration": 0,
    "start_time": "2024-04-26T12:06:02.099Z"
   },
   {
    "duration": 0,
    "start_time": "2024-04-26T12:06:02.101Z"
   },
   {
    "duration": 0,
    "start_time": "2024-04-26T12:06:02.102Z"
   },
   {
    "duration": 0,
    "start_time": "2024-04-26T12:06:02.104Z"
   },
   {
    "duration": 1100,
    "start_time": "2024-04-26T12:06:37.042Z"
   },
   {
    "duration": 81,
    "start_time": "2024-04-26T12:06:38.144Z"
   },
   {
    "duration": 604,
    "start_time": "2024-04-26T12:06:38.226Z"
   },
   {
    "duration": 30,
    "start_time": "2024-04-26T12:06:38.832Z"
   },
   {
    "duration": 62,
    "start_time": "2024-04-26T12:06:38.864Z"
   },
   {
    "duration": 13,
    "start_time": "2024-04-26T12:06:38.928Z"
   },
   {
    "duration": 22,
    "start_time": "2024-04-26T12:06:38.943Z"
   },
   {
    "duration": 30,
    "start_time": "2024-04-26T12:06:38.967Z"
   },
   {
    "duration": 28,
    "start_time": "2024-04-26T12:06:39.000Z"
   },
   {
    "duration": 26,
    "start_time": "2024-04-26T12:06:39.030Z"
   },
   {
    "duration": 9,
    "start_time": "2024-04-26T12:06:39.058Z"
   },
   {
    "duration": 19,
    "start_time": "2024-04-26T12:06:39.069Z"
   },
   {
    "duration": 304,
    "start_time": "2024-04-26T12:06:39.090Z"
   },
   {
    "duration": 2116,
    "start_time": "2024-04-26T12:06:39.396Z"
   },
   {
    "duration": 145,
    "start_time": "2024-04-26T12:06:41.514Z"
   },
   {
    "duration": 0,
    "start_time": "2024-04-26T12:06:41.661Z"
   },
   {
    "duration": 1,
    "start_time": "2024-04-26T12:06:41.662Z"
   },
   {
    "duration": 0,
    "start_time": "2024-04-26T12:06:41.664Z"
   },
   {
    "duration": 0,
    "start_time": "2024-04-26T12:06:41.665Z"
   },
   {
    "duration": 0,
    "start_time": "2024-04-26T12:06:41.667Z"
   },
   {
    "duration": 0,
    "start_time": "2024-04-26T12:06:41.668Z"
   },
   {
    "duration": 0,
    "start_time": "2024-04-26T12:06:41.670Z"
   },
   {
    "duration": 0,
    "start_time": "2024-04-26T12:06:41.672Z"
   },
   {
    "duration": 0,
    "start_time": "2024-04-26T12:06:41.673Z"
   },
   {
    "duration": 0,
    "start_time": "2024-04-26T12:06:41.694Z"
   },
   {
    "duration": 0,
    "start_time": "2024-04-26T12:06:41.696Z"
   },
   {
    "duration": 0,
    "start_time": "2024-04-26T12:06:41.697Z"
   },
   {
    "duration": 0,
    "start_time": "2024-04-26T12:06:41.699Z"
   },
   {
    "duration": 0,
    "start_time": "2024-04-26T12:06:41.700Z"
   },
   {
    "duration": 0,
    "start_time": "2024-04-26T12:06:41.702Z"
   },
   {
    "duration": 1503,
    "start_time": "2024-04-26T12:17:39.422Z"
   },
   {
    "duration": 91,
    "start_time": "2024-04-26T12:26:13.025Z"
   },
   {
    "duration": 12,
    "start_time": "2024-04-26T12:27:22.087Z"
   },
   {
    "duration": 1132,
    "start_time": "2024-04-26T12:28:20.990Z"
   },
   {
    "duration": 80,
    "start_time": "2024-04-26T12:28:22.123Z"
   },
   {
    "duration": 556,
    "start_time": "2024-04-26T12:28:22.204Z"
   },
   {
    "duration": 38,
    "start_time": "2024-04-26T12:28:22.762Z"
   },
   {
    "duration": 24,
    "start_time": "2024-04-26T12:28:22.801Z"
   },
   {
    "duration": 31,
    "start_time": "2024-04-26T12:28:22.826Z"
   },
   {
    "duration": 20,
    "start_time": "2024-04-26T12:28:22.858Z"
   },
   {
    "duration": 17,
    "start_time": "2024-04-26T12:28:22.879Z"
   },
   {
    "duration": 14,
    "start_time": "2024-04-26T12:28:22.897Z"
   },
   {
    "duration": 48,
    "start_time": "2024-04-26T12:28:22.913Z"
   },
   {
    "duration": 9,
    "start_time": "2024-04-26T12:28:22.963Z"
   },
   {
    "duration": 39,
    "start_time": "2024-04-26T12:28:22.973Z"
   },
   {
    "duration": 314,
    "start_time": "2024-04-26T12:28:23.013Z"
   },
   {
    "duration": 2089,
    "start_time": "2024-04-26T12:28:23.329Z"
   },
   {
    "duration": 1504,
    "start_time": "2024-04-26T12:28:25.420Z"
   },
   {
    "duration": 16,
    "start_time": "2024-04-26T12:28:26.926Z"
   },
   {
    "duration": 19,
    "start_time": "2024-04-26T12:28:26.944Z"
   },
   {
    "duration": 563,
    "start_time": "2024-04-26T12:28:26.965Z"
   },
   {
    "duration": 0,
    "start_time": "2024-04-26T12:28:27.530Z"
   },
   {
    "duration": 0,
    "start_time": "2024-04-26T12:28:27.532Z"
   },
   {
    "duration": 0,
    "start_time": "2024-04-26T12:28:27.533Z"
   },
   {
    "duration": 0,
    "start_time": "2024-04-26T12:28:27.534Z"
   },
   {
    "duration": 0,
    "start_time": "2024-04-26T12:28:27.536Z"
   },
   {
    "duration": 0,
    "start_time": "2024-04-26T12:28:27.537Z"
   },
   {
    "duration": 0,
    "start_time": "2024-04-26T12:28:27.539Z"
   },
   {
    "duration": 0,
    "start_time": "2024-04-26T12:28:27.540Z"
   },
   {
    "duration": 0,
    "start_time": "2024-04-26T12:28:27.542Z"
   },
   {
    "duration": 0,
    "start_time": "2024-04-26T12:28:27.543Z"
   },
   {
    "duration": 0,
    "start_time": "2024-04-26T12:28:27.544Z"
   },
   {
    "duration": 0,
    "start_time": "2024-04-26T12:28:27.546Z"
   },
   {
    "duration": 465,
    "start_time": "2024-04-26T12:30:41.389Z"
   },
   {
    "duration": 358,
    "start_time": "2024-04-26T12:36:59.230Z"
   },
   {
    "duration": 323,
    "start_time": "2024-04-26T12:39:57.748Z"
   },
   {
    "duration": 237,
    "start_time": "2024-04-26T12:47:06.427Z"
   },
   {
    "duration": 1619,
    "start_time": "2024-04-26T12:48:47.679Z"
   },
   {
    "duration": 322,
    "start_time": "2024-04-26T12:49:05.631Z"
   },
   {
    "duration": 269,
    "start_time": "2024-04-26T12:49:27.895Z"
   },
   {
    "duration": 252,
    "start_time": "2024-04-26T12:55:00.108Z"
   },
   {
    "duration": 253,
    "start_time": "2024-04-26T12:56:36.594Z"
   },
   {
    "duration": 377,
    "start_time": "2024-04-26T12:57:31.393Z"
   },
   {
    "duration": 248,
    "start_time": "2024-04-26T12:59:26.182Z"
   },
   {
    "duration": 268,
    "start_time": "2024-04-26T12:59:38.845Z"
   },
   {
    "duration": 362,
    "start_time": "2024-04-26T13:02:26.789Z"
   },
   {
    "duration": 360,
    "start_time": "2024-04-26T13:03:08.402Z"
   },
   {
    "duration": 350,
    "start_time": "2024-04-26T13:04:32.054Z"
   },
   {
    "duration": 254,
    "start_time": "2024-04-26T13:04:59.501Z"
   },
   {
    "duration": 445,
    "start_time": "2024-04-26T13:07:25.100Z"
   },
   {
    "duration": 360,
    "start_time": "2024-04-26T13:08:27.539Z"
   },
   {
    "duration": 472,
    "start_time": "2024-04-26T13:09:04.553Z"
   },
   {
    "duration": 351,
    "start_time": "2024-04-26T13:11:02.485Z"
   },
   {
    "duration": 250,
    "start_time": "2024-04-26T13:11:39.068Z"
   },
   {
    "duration": 1521,
    "start_time": "2024-04-26T13:15:43.417Z"
   },
   {
    "duration": 436,
    "start_time": "2024-04-26T13:20:02.075Z"
   },
   {
    "duration": 567,
    "start_time": "2024-04-26T13:21:19.294Z"
   },
   {
    "duration": 476,
    "start_time": "2024-04-26T13:21:33.418Z"
   },
   {
    "duration": 512,
    "start_time": "2024-04-26T13:23:07.683Z"
   },
   {
    "duration": 574,
    "start_time": "2024-04-26T13:24:55.240Z"
   },
   {
    "duration": 523,
    "start_time": "2024-04-26T13:25:44.777Z"
   },
   {
    "duration": 363,
    "start_time": "2024-04-26T13:26:28.563Z"
   },
   {
    "duration": 476,
    "start_time": "2024-04-26T13:27:24.927Z"
   },
   {
    "duration": 480,
    "start_time": "2024-04-26T13:28:42.091Z"
   },
   {
    "duration": 579,
    "start_time": "2024-04-26T13:29:14.925Z"
   },
   {
    "duration": 115,
    "start_time": "2024-04-26T13:35:20.689Z"
   },
   {
    "duration": 519,
    "start_time": "2024-04-26T13:35:29.257Z"
   },
   {
    "duration": 376,
    "start_time": "2024-04-26T13:37:21.575Z"
   },
   {
    "duration": 370,
    "start_time": "2024-04-26T13:39:49.007Z"
   },
   {
    "duration": 599,
    "start_time": "2024-04-26T13:39:58.029Z"
   },
   {
    "duration": 468,
    "start_time": "2024-04-26T13:40:20.048Z"
   },
   {
    "duration": 475,
    "start_time": "2024-04-26T13:44:24.207Z"
   },
   {
    "duration": 382,
    "start_time": "2024-04-26T13:45:52.430Z"
   },
   {
    "duration": 465,
    "start_time": "2024-04-26T13:46:11.905Z"
   },
   {
    "duration": 599,
    "start_time": "2024-04-26T13:46:24.657Z"
   },
   {
    "duration": 484,
    "start_time": "2024-04-26T13:47:07.574Z"
   },
   {
    "duration": 463,
    "start_time": "2024-04-26T13:49:24.471Z"
   },
   {
    "duration": 490,
    "start_time": "2024-04-26T13:49:56.865Z"
   },
   {
    "duration": 36,
    "start_time": "2024-04-26T14:22:20.884Z"
   },
   {
    "duration": 33,
    "start_time": "2024-04-26T14:23:13.436Z"
   },
   {
    "duration": 12,
    "start_time": "2024-04-26T14:24:04.040Z"
   },
   {
    "duration": 15,
    "start_time": "2024-04-26T14:24:50.333Z"
   },
   {
    "duration": 74,
    "start_time": "2024-04-26T14:27:24.497Z"
   },
   {
    "duration": 14,
    "start_time": "2024-04-26T14:27:42.871Z"
   },
   {
    "duration": 23,
    "start_time": "2024-04-26T14:30:29.521Z"
   },
   {
    "duration": 1018,
    "start_time": "2024-04-26T14:32:16.334Z"
   },
   {
    "duration": 82,
    "start_time": "2024-04-26T14:32:17.354Z"
   },
   {
    "duration": 568,
    "start_time": "2024-04-26T14:32:17.437Z"
   },
   {
    "duration": 28,
    "start_time": "2024-04-26T14:32:18.007Z"
   },
   {
    "duration": 16,
    "start_time": "2024-04-26T14:32:18.037Z"
   },
   {
    "duration": 28,
    "start_time": "2024-04-26T14:32:18.055Z"
   },
   {
    "duration": 18,
    "start_time": "2024-04-26T14:32:18.085Z"
   },
   {
    "duration": 24,
    "start_time": "2024-04-26T14:32:18.105Z"
   },
   {
    "duration": 13,
    "start_time": "2024-04-26T14:32:18.130Z"
   },
   {
    "duration": 37,
    "start_time": "2024-04-26T14:32:18.145Z"
   },
   {
    "duration": 10,
    "start_time": "2024-04-26T14:32:18.184Z"
   },
   {
    "duration": 21,
    "start_time": "2024-04-26T14:32:18.195Z"
   },
   {
    "duration": 313,
    "start_time": "2024-04-26T14:32:18.218Z"
   },
   {
    "duration": 2044,
    "start_time": "2024-04-26T14:32:18.533Z"
   },
   {
    "duration": 1493,
    "start_time": "2024-04-26T14:32:20.579Z"
   },
   {
    "duration": 21,
    "start_time": "2024-04-26T14:32:22.073Z"
   },
   {
    "duration": 65,
    "start_time": "2024-04-26T14:32:22.096Z"
   },
   {
    "duration": 337,
    "start_time": "2024-04-26T14:32:22.162Z"
   },
   {
    "duration": 548,
    "start_time": "2024-04-26T14:32:22.501Z"
   },
   {
    "duration": 21,
    "start_time": "2024-04-26T14:32:23.051Z"
   },
   {
    "duration": 54,
    "start_time": "2024-04-26T14:32:23.073Z"
   },
   {
    "duration": 288,
    "start_time": "2024-04-26T14:32:23.129Z"
   },
   {
    "duration": 8,
    "start_time": "2024-04-26T14:32:23.418Z"
   },
   {
    "duration": 330,
    "start_time": "2024-04-26T14:32:23.428Z"
   },
   {
    "duration": 20,
    "start_time": "2024-04-26T14:32:23.760Z"
   },
   {
    "duration": 18,
    "start_time": "2024-04-26T14:32:23.793Z"
   },
   {
    "duration": 56,
    "start_time": "2024-04-26T14:32:23.812Z"
   },
   {
    "duration": 37,
    "start_time": "2024-04-26T14:32:23.871Z"
   },
   {
    "duration": 35,
    "start_time": "2024-04-26T14:32:23.910Z"
   },
   {
    "duration": 62,
    "start_time": "2024-04-26T14:32:23.947Z"
   },
   {
    "duration": 18,
    "start_time": "2024-04-26T14:32:24.010Z"
   },
   {
    "duration": 26,
    "start_time": "2024-04-26T14:32:24.029Z"
   },
   {
    "duration": 100,
    "start_time": "2024-04-26T14:35:47.977Z"
   },
   {
    "duration": 289,
    "start_time": "2024-04-26T14:35:56.874Z"
   },
   {
    "duration": 279,
    "start_time": "2024-04-26T14:41:10.270Z"
   },
   {
    "duration": 307,
    "start_time": "2024-04-26T14:45:18.603Z"
   },
   {
    "duration": 386,
    "start_time": "2024-04-26T14:45:37.723Z"
   },
   {
    "duration": 13,
    "start_time": "2024-04-26T14:48:24.803Z"
   },
   {
    "duration": 65,
    "start_time": "2024-04-26T14:49:44.741Z"
   },
   {
    "duration": 73,
    "start_time": "2024-04-26T15:07:14.556Z"
   },
   {
    "duration": 301,
    "start_time": "2024-04-26T15:07:31.975Z"
   },
   {
    "duration": 303,
    "start_time": "2024-04-26T15:07:59.612Z"
   },
   {
    "duration": 322,
    "start_time": "2024-04-26T15:08:44.989Z"
   },
   {
    "duration": 314,
    "start_time": "2024-04-26T15:08:56.760Z"
   },
   {
    "duration": 402,
    "start_time": "2024-04-26T15:09:05.636Z"
   },
   {
    "duration": 336,
    "start_time": "2024-04-26T15:10:09.709Z"
   },
   {
    "duration": 144,
    "start_time": "2024-04-26T15:14:03.753Z"
   },
   {
    "duration": 276,
    "start_time": "2024-04-26T15:14:26.262Z"
   },
   {
    "duration": 160,
    "start_time": "2024-04-26T15:42:05.470Z"
   },
   {
    "duration": 22,
    "start_time": "2024-04-26T15:55:59.501Z"
   },
   {
    "duration": 24,
    "start_time": "2024-04-26T15:56:08.109Z"
   },
   {
    "duration": 22,
    "start_time": "2024-04-26T16:10:10.142Z"
   },
   {
    "duration": 19,
    "start_time": "2024-04-26T16:10:13.949Z"
   },
   {
    "duration": 22,
    "start_time": "2024-04-26T16:17:03.814Z"
   },
   {
    "duration": 17,
    "start_time": "2024-04-26T16:17:14.379Z"
   },
   {
    "duration": 21,
    "start_time": "2024-04-26T16:33:04.362Z"
   },
   {
    "duration": 12,
    "start_time": "2024-04-26T16:34:01.790Z"
   }
  ],
  "kernelspec": {
   "display_name": "Python 3 (ipykernel)",
   "language": "python",
   "name": "python3"
  },
  "language_info": {
   "codemirror_mode": {
    "name": "ipython",
    "version": 3
   },
   "file_extension": ".py",
   "mimetype": "text/x-python",
   "name": "python",
   "nbconvert_exporter": "python",
   "pygments_lexer": "ipython3",
   "version": "3.11.8"
  },
  "toc": {
   "base_numbering": 1,
   "nav_menu": {},
   "number_sections": true,
   "sideBar": true,
   "skip_h1_title": true,
   "title_cell": "Table of Contents",
   "title_sidebar": "Contents",
   "toc_cell": false,
   "toc_position": {},
   "toc_section_display": true,
   "toc_window_display": false
  }
 },
 "nbformat": 4,
 "nbformat_minor": 4
}
