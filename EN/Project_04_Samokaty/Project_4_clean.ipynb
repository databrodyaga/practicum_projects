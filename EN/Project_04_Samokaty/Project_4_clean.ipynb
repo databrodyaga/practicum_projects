{
 "cells": [
  {
   "cell_type": "markdown",
   "id": "b64a83fe-d714-4762-8022-1ce7fc80c4a5",
   "metadata": {},
   "source": [
    "# Statistical Data Analysis Based on the GoFast Scooter Rental Service  \n",
    "\n",
    "We have received data on some GoFast service users from various cities, as well as information about their rides. We need to analyze the data and test some hypotheses that may help the business grow.  \n",
    "To travel around the city, GoFast users use a mobile app. The service can be used as follows:  \n",
    "- without a subscription  \n",
    "  - no subscription fee;  \n",
    "  - cost per minute of a ride — 88 rubles;  \n",
    "  - start ride cost — 5050 rubles;  \n",
    "- with an Ultra subscription  \n",
    "  - subscription fee — 199199 rubles per month;  \n",
    "  - cost per minute of a ride — 66 rubles;  \n",
    "  - start ride cost — free.\n"
   ]
  },
  {
   "cell_type": "code",
   "execution_count": 1,
   "id": "72576667",
   "metadata": {},
   "outputs": [],
   "source": [
    "# import libraries in a single block at the start of the project  \n",
    "import pandas as pd\n",
    "import numpy as np\n",
    "import matplotlib.pyplot as plt\n",
    "from scipy import stats as st\n",
    "from scipy.stats import binom\n",
    "import scipy.stats as stats"
   ]
  },
  {
   "cell_type": "code",
   "execution_count": 2,
   "id": "eff9f206",
   "metadata": {
    "scrolled": true
   },
   "outputs": [
    {
     "name": "stdout",
     "output_type": "stream",
     "text": [
      "<class 'pandas.core.frame.DataFrame'>\n",
      "RangeIndex: 18068 entries, 0 to 18067\n",
      "Data columns (total 4 columns):\n",
      " #   Column    Non-Null Count  Dtype  \n",
      "---  ------    --------------  -----  \n",
      " 0   user_id   18068 non-null  int64  \n",
      " 1   distance  18068 non-null  float64\n",
      " 2   duration  18068 non-null  float64\n",
      " 3   date      18068 non-null  object \n",
      "dtypes: float64(2), int64(1), object(1)\n",
      "memory usage: 564.8+ KB\n",
      "<class 'pandas.core.frame.DataFrame'>\n",
      "RangeIndex: 1565 entries, 0 to 1564\n",
      "Data columns (total 5 columns):\n",
      " #   Column             Non-Null Count  Dtype \n",
      "---  ------             --------------  ----- \n",
      " 0   user_id            1565 non-null   int64 \n",
      " 1   name               1565 non-null   object\n",
      " 2   age                1565 non-null   int64 \n",
      " 3   city               1565 non-null   object\n",
      " 4   subscription_type  1565 non-null   object\n",
      "dtypes: int64(2), object(3)\n",
      "memory usage: 61.3+ KB\n",
      "<class 'pandas.core.frame.DataFrame'>\n",
      "RangeIndex: 2 entries, 0 to 1\n",
      "Data columns (total 4 columns):\n",
      " #   Column             Non-Null Count  Dtype \n",
      "---  ------             --------------  ----- \n",
      " 0   subscription_type  2 non-null      object\n",
      " 1   minute_price       2 non-null      int64 \n",
      " 2   start_ride_price   2 non-null      int64 \n",
      " 3   subscription_fee   2 non-null      int64 \n",
      "dtypes: int64(3), object(1)\n",
      "memory usage: 196.0+ bytes\n"
     ]
    },
    {
     "data": {
      "text/html": [
       "<div>\n",
       "<style scoped>\n",
       "    .dataframe tbody tr th:only-of-type {\n",
       "        vertical-align: middle;\n",
       "    }\n",
       "\n",
       "    .dataframe tbody tr th {\n",
       "        vertical-align: top;\n",
       "    }\n",
       "\n",
       "    .dataframe thead th {\n",
       "        text-align: right;\n",
       "    }\n",
       "</style>\n",
       "<table border=\"1\" class=\"dataframe\">\n",
       "  <thead>\n",
       "    <tr style=\"text-align: right;\">\n",
       "      <th></th>\n",
       "      <th>user_id</th>\n",
       "      <th>distance</th>\n",
       "      <th>duration</th>\n",
       "      <th>date</th>\n",
       "    </tr>\n",
       "  </thead>\n",
       "  <tbody>\n",
       "    <tr>\n",
       "      <th>0</th>\n",
       "      <td>1</td>\n",
       "      <td>4409.919140</td>\n",
       "      <td>25.599769</td>\n",
       "      <td>2021-01-01</td>\n",
       "    </tr>\n",
       "    <tr>\n",
       "      <th>1</th>\n",
       "      <td>1</td>\n",
       "      <td>2617.592153</td>\n",
       "      <td>15.816871</td>\n",
       "      <td>2021-01-18</td>\n",
       "    </tr>\n",
       "    <tr>\n",
       "      <th>2</th>\n",
       "      <td>1</td>\n",
       "      <td>754.159807</td>\n",
       "      <td>6.232113</td>\n",
       "      <td>2021-04-20</td>\n",
       "    </tr>\n",
       "    <tr>\n",
       "      <th>3</th>\n",
       "      <td>1</td>\n",
       "      <td>2694.783254</td>\n",
       "      <td>18.511000</td>\n",
       "      <td>2021-08-11</td>\n",
       "    </tr>\n",
       "    <tr>\n",
       "      <th>4</th>\n",
       "      <td>1</td>\n",
       "      <td>4028.687306</td>\n",
       "      <td>26.265803</td>\n",
       "      <td>2021-08-28</td>\n",
       "    </tr>\n",
       "    <tr>\n",
       "      <th>5</th>\n",
       "      <td>1</td>\n",
       "      <td>2770.890808</td>\n",
       "      <td>16.650138</td>\n",
       "      <td>2021-10-09</td>\n",
       "    </tr>\n",
       "    <tr>\n",
       "      <th>6</th>\n",
       "      <td>1</td>\n",
       "      <td>3039.020292</td>\n",
       "      <td>14.927879</td>\n",
       "      <td>2021-10-19</td>\n",
       "    </tr>\n",
       "    <tr>\n",
       "      <th>7</th>\n",
       "      <td>1</td>\n",
       "      <td>2842.118050</td>\n",
       "      <td>23.117468</td>\n",
       "      <td>2021-11-06</td>\n",
       "    </tr>\n",
       "    <tr>\n",
       "      <th>8</th>\n",
       "      <td>1</td>\n",
       "      <td>3412.690668</td>\n",
       "      <td>15.238072</td>\n",
       "      <td>2021-11-14</td>\n",
       "    </tr>\n",
       "    <tr>\n",
       "      <th>9</th>\n",
       "      <td>1</td>\n",
       "      <td>748.690645</td>\n",
       "      <td>15.041884</td>\n",
       "      <td>2021-11-22</td>\n",
       "    </tr>\n",
       "  </tbody>\n",
       "</table>\n",
       "</div>"
      ],
      "text/plain": [
       "   user_id     distance   duration        date\n",
       "0        1  4409.919140  25.599769  2021-01-01\n",
       "1        1  2617.592153  15.816871  2021-01-18\n",
       "2        1   754.159807   6.232113  2021-04-20\n",
       "3        1  2694.783254  18.511000  2021-08-11\n",
       "4        1  4028.687306  26.265803  2021-08-28\n",
       "5        1  2770.890808  16.650138  2021-10-09\n",
       "6        1  3039.020292  14.927879  2021-10-19\n",
       "7        1  2842.118050  23.117468  2021-11-06\n",
       "8        1  3412.690668  15.238072  2021-11-14\n",
       "9        1   748.690645  15.041884  2021-11-22"
      ]
     },
     "metadata": {},
     "output_type": "display_data"
    },
    {
     "data": {
      "text/html": [
       "<div>\n",
       "<style scoped>\n",
       "    .dataframe tbody tr th:only-of-type {\n",
       "        vertical-align: middle;\n",
       "    }\n",
       "\n",
       "    .dataframe tbody tr th {\n",
       "        vertical-align: top;\n",
       "    }\n",
       "\n",
       "    .dataframe thead th {\n",
       "        text-align: right;\n",
       "    }\n",
       "</style>\n",
       "<table border=\"1\" class=\"dataframe\">\n",
       "  <thead>\n",
       "    <tr style=\"text-align: right;\">\n",
       "      <th></th>\n",
       "      <th>user_id</th>\n",
       "      <th>name</th>\n",
       "      <th>age</th>\n",
       "      <th>city</th>\n",
       "      <th>subscription_type</th>\n",
       "    </tr>\n",
       "  </thead>\n",
       "  <tbody>\n",
       "    <tr>\n",
       "      <th>0</th>\n",
       "      <td>1</td>\n",
       "      <td>Кира</td>\n",
       "      <td>22</td>\n",
       "      <td>Тюмень</td>\n",
       "      <td>ultra</td>\n",
       "    </tr>\n",
       "    <tr>\n",
       "      <th>1</th>\n",
       "      <td>2</td>\n",
       "      <td>Станислав</td>\n",
       "      <td>31</td>\n",
       "      <td>Омск</td>\n",
       "      <td>ultra</td>\n",
       "    </tr>\n",
       "    <tr>\n",
       "      <th>2</th>\n",
       "      <td>3</td>\n",
       "      <td>Алексей</td>\n",
       "      <td>20</td>\n",
       "      <td>Москва</td>\n",
       "      <td>ultra</td>\n",
       "    </tr>\n",
       "    <tr>\n",
       "      <th>3</th>\n",
       "      <td>4</td>\n",
       "      <td>Константин</td>\n",
       "      <td>26</td>\n",
       "      <td>Ростов-на-Дону</td>\n",
       "      <td>ultra</td>\n",
       "    </tr>\n",
       "    <tr>\n",
       "      <th>4</th>\n",
       "      <td>5</td>\n",
       "      <td>Адель</td>\n",
       "      <td>28</td>\n",
       "      <td>Омск</td>\n",
       "      <td>ultra</td>\n",
       "    </tr>\n",
       "    <tr>\n",
       "      <th>5</th>\n",
       "      <td>6</td>\n",
       "      <td>Регина</td>\n",
       "      <td>25</td>\n",
       "      <td>Краснодар</td>\n",
       "      <td>ultra</td>\n",
       "    </tr>\n",
       "    <tr>\n",
       "      <th>6</th>\n",
       "      <td>7</td>\n",
       "      <td>Игорь</td>\n",
       "      <td>23</td>\n",
       "      <td>Омск</td>\n",
       "      <td>ultra</td>\n",
       "    </tr>\n",
       "    <tr>\n",
       "      <th>7</th>\n",
       "      <td>8</td>\n",
       "      <td>Юрий</td>\n",
       "      <td>23</td>\n",
       "      <td>Краснодар</td>\n",
       "      <td>ultra</td>\n",
       "    </tr>\n",
       "    <tr>\n",
       "      <th>8</th>\n",
       "      <td>9</td>\n",
       "      <td>Ян</td>\n",
       "      <td>21</td>\n",
       "      <td>Пятигорск</td>\n",
       "      <td>ultra</td>\n",
       "    </tr>\n",
       "    <tr>\n",
       "      <th>9</th>\n",
       "      <td>10</td>\n",
       "      <td>Валерий</td>\n",
       "      <td>18</td>\n",
       "      <td>Екатеринбург</td>\n",
       "      <td>ultra</td>\n",
       "    </tr>\n",
       "  </tbody>\n",
       "</table>\n",
       "</div>"
      ],
      "text/plain": [
       "   user_id        name  age            city subscription_type\n",
       "0        1        Кира   22          Тюмень             ultra\n",
       "1        2   Станислав   31            Омск             ultra\n",
       "2        3     Алексей   20          Москва             ultra\n",
       "3        4  Константин   26  Ростов-на-Дону             ultra\n",
       "4        5       Адель   28            Омск             ultra\n",
       "5        6      Регина   25       Краснодар             ultra\n",
       "6        7       Игорь   23            Омск             ultra\n",
       "7        8        Юрий   23       Краснодар             ultra\n",
       "8        9          Ян   21       Пятигорск             ultra\n",
       "9       10     Валерий   18    Екатеринбург             ultra"
      ]
     },
     "metadata": {},
     "output_type": "display_data"
    },
    {
     "data": {
      "text/html": [
       "<div>\n",
       "<style scoped>\n",
       "    .dataframe tbody tr th:only-of-type {\n",
       "        vertical-align: middle;\n",
       "    }\n",
       "\n",
       "    .dataframe tbody tr th {\n",
       "        vertical-align: top;\n",
       "    }\n",
       "\n",
       "    .dataframe thead th {\n",
       "        text-align: right;\n",
       "    }\n",
       "</style>\n",
       "<table border=\"1\" class=\"dataframe\">\n",
       "  <thead>\n",
       "    <tr style=\"text-align: right;\">\n",
       "      <th></th>\n",
       "      <th>subscription_type</th>\n",
       "      <th>minute_price</th>\n",
       "      <th>start_ride_price</th>\n",
       "      <th>subscription_fee</th>\n",
       "    </tr>\n",
       "  </thead>\n",
       "  <tbody>\n",
       "    <tr>\n",
       "      <th>0</th>\n",
       "      <td>free</td>\n",
       "      <td>8</td>\n",
       "      <td>50</td>\n",
       "      <td>0</td>\n",
       "    </tr>\n",
       "    <tr>\n",
       "      <th>1</th>\n",
       "      <td>ultra</td>\n",
       "      <td>6</td>\n",
       "      <td>0</td>\n",
       "      <td>199</td>\n",
       "    </tr>\n",
       "  </tbody>\n",
       "</table>\n",
       "</div>"
      ],
      "text/plain": [
       "  subscription_type  minute_price  start_ride_price  subscription_fee\n",
       "0              free             8                50                 0\n",
       "1             ultra             6                 0               199"
      ]
     },
     "metadata": {},
     "output_type": "display_data"
    }
   ],
   "source": [
    "# import data and immediately convert date type to datetime64  \n",
    "try:\n",
    "    data_rides = pd.read_csv('/Users/roman_yakovlev/Downloads/Практикум_DS/Проекты/Project_4_Samokaty/rides_go.csv',parse_dates=['date'], dayfirst=True)\n",
    "    data_users = pd.read_csv('/Users/roman_yakovlev/Downloads/Практикум_DS/Проекты/Project_4_Samokaty/users_go.csv')\n",
    "    data_subscriptions = pd.read_csv('/Users/roman_yakovlev/Downloads/Практикум_DS/Проекты/Project_4_Samokaty/subscriptions_go.csv')\n",
    "\n",
    "except:\n",
    "    data_rides = pd.read_csv('/datasets/rides_go.csv',parse_dates=['date'], dayfirst=True)\n",
    "    data_users = pd.read_csv('/datasets/users_go.csv')\n",
    "    data_subscriptions = pd.read_csv('/datasets/subscriptions_go.csv')\n",
    "    \n",
    "# display information on structure and data for each dataframe\n",
    "def get_info(dataset):\n",
    "        dataset.info(), \n",
    "        return dataset.head(10)\n",
    "        \n",
    "\n",
    "display(get_info(data_rides),\n",
    "        get_info(data_users),\n",
    "        get_info(data_subscriptions))\n"
   ]
  },
  {
   "cell_type": "markdown",
   "id": "8c004872-9221-4967-a439-7ee89fac099b",
   "metadata": {},
   "source": [
    "**Conclusion**  \n",
    "\n",
    "A preliminary assessment of the loaded data suggests completeness (no obvious missing values were found). Among the evident adjustments, we need to convert the date to the appropriate type in one of the tables, and merging tables for ease of analysis seems appropriate (especially since there are common columns for merging - `user_id` and `subscription_type`). It will also be necessary to check the data for duplicates, implicit missing values, and anomalous values."
   ]
  },
  {
   "cell_type": "markdown",
   "id": "e95ebca7",
   "metadata": {},
   "source": [
    "## Предобработка данных"
   ]
  },
  {
   "cell_type": "code",
   "execution_count": 3,
   "id": "af6d202c",
   "metadata": {},
   "outputs": [
    {
     "data": {
      "text/plain": [
       "user_id       0\n",
       "distance      0\n",
       "duration      0\n",
       "date          0\n",
       "month_ride    0\n",
       "dtype: int64"
      ]
     },
     "metadata": {},
     "output_type": "display_data"
    },
    {
     "data": {
      "text/plain": [
       "user_id              0\n",
       "name                 0\n",
       "age                  0\n",
       "city                 0\n",
       "subscription_type    0\n",
       "dtype: int64"
      ]
     },
     "execution_count": 3,
     "metadata": {},
     "output_type": "execute_result"
    }
   ],
   "source": [
    "# create a new column with the month number based on the date column\n",
    "data_rides['date'] = pd.to_datetime(data_rides['date'])\n",
    "\n",
    "data_rides['month_ride'] = data_rides['date'].dt.month\n",
    "\n",
    "# check the two main dataframes for missing values\n",
    "display(data_rides.isna().sum())\n",
    "data_users.isna().sum()"
   ]
  },
  {
   "cell_type": "code",
   "execution_count": 4,
   "id": "e9a0ad8a-37b6-49a4-a832-8364a07994d7",
   "metadata": {
    "scrolled": true
   },
   "outputs": [
    {
     "data": {
      "text/plain": [
       "0"
      ]
     },
     "metadata": {},
     "output_type": "display_data"
    },
    {
     "data": {
      "text/plain": [
       "31"
      ]
     },
     "metadata": {},
     "output_type": "display_data"
    }
   ],
   "source": [
    "# convert text columns to lowercase and check the main dataframes for explicit duplicates\n",
    "data_users['name'] = data_users['name'].str.lower()\n",
    "data_users['city'] = data_users['city'].str.lower()\n",
    "data_users['subscription_type'] = data_users['subscription_type'].str.lower()\n",
    "\n",
    "display(data_rides.duplicated().sum())\n",
    "display(data_users.duplicated().sum())"
   ]
  },
  {
   "cell_type": "code",
   "execution_count": 5,
   "id": "5eff5064-c1c8-483e-bc91-b67ec8cf7122",
   "metadata": {},
   "outputs": [],
   "source": [
    "# remove explicit duplicates  \n",
    "data_users = data_users.drop_duplicates()"
   ]
  },
  {
   "cell_type": "code",
   "execution_count": 6,
   "id": "fcc1995e",
   "metadata": {},
   "outputs": [
    {
     "data": {
      "text/plain": [
       "'Начало периода: 2021-12-30 00:00:00'"
      ]
     },
     "metadata": {},
     "output_type": "display_data"
    },
    {
     "data": {
      "text/plain": [
       "'Конец периода: 2021-01-01 00:00:00'"
      ]
     },
     "metadata": {},
     "output_type": "display_data"
    },
    {
     "data": {
      "text/plain": [
       "'Срок в днях: 363 days 00:00:00'"
      ]
     },
     "metadata": {},
     "output_type": "display_data"
    }
   ],
   "source": [
    "# check the time period over which the ride data was collected\n",
    "display(f'Start of the period: {data_rides[\"date\"].max()}') \n",
    "display(f'End of the period: {data_rides[\"date\"].min()}')\n",
    "\n",
    "display(f'Duration in days: {data_rides[\"date\"].max() - data_rides[\"date\"].min()}')"
   ]
  },
  {
   "cell_type": "markdown",
   "id": "9e372da3-9ea3-42dd-8d46-196611c0f320",
   "metadata": {},
   "source": [
    "**Conclusion**  \n",
    "\n",
    "During preprocessing, we converted the date data to the correct type and created a separate column for the month of the ride for further analysis. Mo missing values were found, explicit duplicates in the user data dataframe were identified and removed, and the data were collected over the year 2021.  "
   ]
  },
  {
   "cell_type": "markdown",
   "id": "212593c7",
   "metadata": {},
   "source": [
    "## Exploratory Data Analysis"
   ]
  },
  {
   "cell_type": "markdown",
   "id": "da83ec64-bab5-42d7-b990-bdbaad55f2e9",
   "metadata": {},
   "source": [
    "Let's analyze the data by user cities:  "
   ]
  },
  {
   "cell_type": "code",
   "execution_count": 7,
   "id": "6c4ce830-6fd3-4f2c-9759-6542c46d5585",
   "metadata": {},
   "outputs": [
    {
     "data": {
      "image/png": "[encoded data removed]",
      "text/plain": [
       "<Figure size 1300x300 with 3 Axes>"
      ]
     },
     "metadata": {},
     "output_type": "display_data"
    }
   ],
   "source": [
    "# plot the number of users by city\n",
    "plt.figure(figsize=[13, 3])\n",
    "plt.subplots_adjust(wspace=0.5, hspace=0.1)\n",
    "\n",
    "plt.subplot(1,3,1)\n",
    "plt.barh(data_users['city'].value_counts(ascending=True).index,data_users['city'].value_counts(ascending=True));\n",
    "plt.title('Cities by number of users');\n",
    "\n",
    "# plot the service usage by cities (by number of rides and total ride duration)\n",
    "cities = data_users['city'].unique()\n",
    "cities_df = cities_df1 = pd.DataFrame() #dataframes for collecting data between the two main dataframes  \n",
    "\n",
    "for city in cities:\n",
    "    \n",
    "    cities_df = data_users[data_users['city'] == city]\n",
    "    cities_df = cities_df.reset_index(drop=True)\n",
    "    cities_df1.loc[city,0]= data_rides.query('user_id in @cities_df.user_id')['user_id'].count()\n",
    "    cities_df1.loc[city,1]= data_rides.query('user_id in @cities_df.user_id')['duration'].sum()\n",
    "   \n",
    "cities_df1 = cities_df1.sort_values(by=0,ascending=True)\n",
    "plt.subplot(1,3,2)\n",
    "plt.barh(cities_df1.index,cities_df1[0]); \n",
    "plt.title('Cities by number of rides');\n",
    "\n",
    "cities_df1 = cities_df1.sort_values(by=1,ascending=True)\n",
    "plt.subplot(1,3,3)\n",
    "plt.barh(cities_df1.index,cities_df1[1]);\n",
    "plt.title('Cities by total ride \\n duration, min.');\n"
   ]
  },
  {
   "cell_type": "markdown",
   "id": "8a5ff09b-6013-4e51-b419-7b85f5a99202",
   "metadata": {},
   "source": [
    "Calculate the ratio of users with a subscription to those without a subscription and plot a graph:"
   ]
  },
  {
   "cell_type": "code",
   "execution_count": 8,
   "id": "d883740b-bc5e-445d-b177-b925a79bdb50",
   "metadata": {
    "scrolled": true
   },
   "outputs": [
    {
     "data": {
      "image/png": "[encoded data removed]",
      "text/plain": [
       "<Figure size 640x480 with 1 Axes>"
      ]
     },
     "metadata": {},
     "output_type": "display_data"
    }
   ],
   "source": [
    "groupby = data_users.groupby('subscription_type')['user_id'].agg('count');\n",
    "\n",
    "groupby.plot(kind='pie', \n",
    "             title =\"Ratio of users without a subscription \\n to those with a subscription\\n\",\n",
    "             radius=1.1,\n",
    "             ylabel='',\n",
    "             autopct='%1.1F%%');\n",
    "plt.legend(title=\"Type of subscription\", loc=\"best\");\n"
   ]
  },
  {
   "cell_type": "markdown",
   "id": "1f361608-5d6f-4e63-a27d-523049c8ba37",
   "metadata": {},
   "source": [
    "Examine the distribution of users by age:"
   ]
  },
  {
   "cell_type": "code",
   "execution_count": 9,
   "id": "f73c57f4-b8d1-46d7-aeb6-4576484d33f4",
   "metadata": {},
   "outputs": [
    {
     "data": {
      "text/plain": [
       "count    1534.000000\n",
       "mean       24.903520\n",
       "std         4.572367\n",
       "min        12.000000\n",
       "25%        22.000000\n",
       "50%        25.000000\n",
       "75%        28.000000\n",
       "max        43.000000\n",
       "Name: age, dtype: float64"
      ]
     },
     "metadata": {},
     "output_type": "display_data"
    },
    {
     "name": "stdout",
     "output_type": "stream",
     "text": [
      "Межквартильный размах по возрасту пользователей: 6 лет\n"
     ]
    },
    {
     "data": {
      "image/png": "[encoded data removed]",
      "text/plain": [
       "<Figure size 400x300 with 1 Axes>"
      ]
     },
     "metadata": {},
     "output_type": "display_data"
    }
   ],
   "source": [
    "# view general information on age data\n",
    "display(data_users['age'].describe());\n",
    "\n",
    "# plot the histogram\n",
    "data_users['age'].plot(kind='hist', \n",
    "                       bins=30, \n",
    "                       title =\"User age distribution\",\n",
    "                       figsize=(4,3))\n",
    "plt.xlabel('age')\n",
    "plt.ylabel('age frequency');\n",
    "\n",
    "# calculate the interquartile range (evident from the output of the describe method above)\n",
    "print(f'Interquartile range of user age : {round(data_users[\"age\"].quantile(0.75) - data_users[\"age\"].quantile(0.25))} years')\n"
   ]
  },
  {
   "cell_type": "markdown",
   "id": "90b117d6-c041-4d67-af7f-8ade4c6b6154",
   "metadata": {},
   "source": [
    "Examine distance data and calculate the distance traveled by a user per ride:  "
   ]
  },
  {
   "cell_type": "code",
   "execution_count": 10,
   "id": "dca4239f-9f44-4884-bab1-924a8916bcae",
   "metadata": {},
   "outputs": [
    {
     "data": {
      "text/plain": [
       "count    18068.000000\n",
       "mean      3070.659976\n",
       "std       1116.831209\n",
       "min          0.855683\n",
       "25%       2543.226360\n",
       "50%       3133.609994\n",
       "75%       3776.222735\n",
       "max       7211.007745\n",
       "Name: distance, dtype: float64"
      ]
     },
     "metadata": {},
     "output_type": "display_data"
    },
    {
     "data": {
      "image/png": "[encoded data removed]",
      "text/plain": [
       "<Figure size 1200x300 with 2 Axes>"
      ]
     },
     "metadata": {},
     "output_type": "display_data"
    },
    {
     "name": "stdout",
     "output_type": "stream",
     "text": [
      "Среднее расстояние за одну поездку составило: 3071м\n",
      "Межквартильный размах по дистанции поездок составил:1233\n"
     ]
    }
   ],
   "source": [
    "# view general information on age data\n",
    "display(data_rides['distance'].describe());\n",
    "\n",
    "# plot a histogram and boxplot of ride data  \n",
    "plt.figure(figsize=[12, 3])\n",
    "\n",
    "plt.subplot(1,3,1)\n",
    "plt.hist(data_rides['distance'], bins=30);\n",
    "plt.xlabel('Distance, м')\n",
    "plt.title('Distribution of ride distances');\n",
    "\n",
    "plt.subplot(1,3,(2,3))\n",
    "plt.boxplot(data_rides['distance'],vert=False);\n",
    "plt.xlabel('Distance')\n",
    "plt.title('Structure of ride distances');\n",
    "\n",
    "plt.show();\n",
    "\n",
    "# calculate the average distance per ride \n",
    "print(f'The average distance per ride was: {round(data_rides[\"distance\"].sum()/len(data_rides[\"distance\"]))}м')\n",
    "# calculate the interquartile range (evident from the output of the describe method above)\n",
    "print(f'The interquartile range of ride distances was: {round(data_rides[\"distance\"].quantile(0.75) - data_rides[\"distance\"].quantile(0.25))}') "
   ]
  },
  {
   "cell_type": "code",
   "execution_count": 11,
   "id": "034c2c96",
   "metadata": {},
   "outputs": [
    {
     "data": {
      "image/png": "[encoded data removed]",
      "text/plain": [
       "<Figure size 300x300 with 1 Axes>"
      ]
     },
     "metadata": {},
     "output_type": "display_data"
    }
   ],
   "source": [
    "# examine which users contributed to the \"peak\" of short ride lengths around 750m\n",
    "rides_short = data_rides[data_rides['distance']<750]\n",
    "# add user data\n",
    "rides_short = rides_short.merge(data_users, on='user_id', how='left')\n",
    "\n",
    "rides_short.groupby('subscription_type')['subscription_type'].count().plot(kind='bar', figsize=(3,3))\n",
    "plt.xlabel('Type of subscription')\n",
    "plt.title('Distribution of short ride \\n distances by user type')\n",
    "plt.xticks(rotation=0);"
   ]
  },
  {
   "cell_type": "markdown",
   "id": "f53a24ea",
   "metadata": {},
   "source": [
    "There were no critical remarks regarding the ride distance data. The data shows two peaks at 720 meters (short rides) and 3100 meters (long rides). The overwhelming majority of short rides were taken by users with the free tariff. The presence of two peaks can be explained by two main patterns of user behavior: a short ride from a public transport station to home (and back) and a complete ride directly to the destination, or a leisurely ride."
   ]
  },
  {
   "cell_type": "code",
   "execution_count": 12,
   "id": "49292b72",
   "metadata": {},
   "outputs": [
    {
     "data": {
      "image/png": "[encoded data removed]",
      "text/plain": [
       "<Figure size 1200x600 with 2 Axes>"
      ]
     },
     "metadata": {},
     "output_type": "display_data"
    }
   ],
   "source": [
    "# plot a histogram and boxplot of ride data\n",
    "plt.figure(figsize=[12, 6])\n",
    "\n",
    "plt.subplot(2,1,1)\n",
    "plt.hist(data_rides['distance'], bins=30);\n",
    "plt.xlabel('Distance, m')\n",
    "plt.title('Distribution of ride distances');\n",
    "\n",
    "plt.subplot(2,1,2 )\n",
    "plt.boxplot(data_rides['distance'],vert=False);\n",
    "plt.xlabel('Distance')\n",
    "plt.title('Structure of ride distances');\n",
    "\n",
    "# set boundaries for the plots to avoid overlapping\n",
    "plt.tight_layout()\n",
    "\n",
    "plt.show();"
   ]
  },
  {
   "cell_type": "markdown",
   "id": "dfa05293-1efa-4626-a93a-49ce0d1af241",
   "metadata": {},
   "source": [
    "Examine the ride duration data:"
   ]
  },
  {
   "cell_type": "code",
   "execution_count": 13,
   "id": "30adf6c2-7da4-4c49-9dc6-015ed9e175cb",
   "metadata": {},
   "outputs": [
    {
     "data": {
      "text/plain": [
       "count    18068.000000\n",
       "mean        17.805011\n",
       "std          6.091051\n",
       "min          0.500000\n",
       "25%         13.597563\n",
       "50%         17.678395\n",
       "75%         21.724800\n",
       "max         40.823963\n",
       "Name: duration, dtype: float64"
      ]
     },
     "metadata": {},
     "output_type": "display_data"
    },
    {
     "data": {
      "image/png": "[encoded data removed]",
      "text/plain": [
       "<Figure size 1200x300 with 2 Axes>"
      ]
     },
     "metadata": {},
     "output_type": "display_data"
    },
    {
     "name": "stdout",
     "output_type": "stream",
     "text": [
      "Средняя продолжительность поездок составила: 18 мин.\n",
      "Межквартильный размах по продолжительности поездок составил:8\n"
     ]
    }
   ],
   "source": [
    "# view general information on ride data\n",
    "display(data_rides['duration'].describe());\n",
    "\n",
    "# plot a histogram and boxplot of ride duration data\n",
    "plt.figure(figsize=[12, 3])\n",
    "\n",
    "plt.subplot(1,3,1)\n",
    "plt.hist(data_rides['duration'], bins=30);\n",
    "plt.xlabel('Duration, min')\n",
    "plt.title('Distribution of ride durations');\n",
    "\n",
    "plt.subplot(1,3,(2,3))\n",
    "plt.boxplot(data_rides['duration'],vert=False);\n",
    "plt.xlabel('Duration')\n",
    "plt.title('Structure of ride durations');\n",
    "\n",
    "plt.show();\n",
    "\n",
    "# calculate the average duration of rides\n",
    "print(f'The average duration of rides was: {round(data_rides[\"duration\"].sum()/len(data_rides[\"duration\"]))} min.')\n",
    "# calculate the interquartile range (evident from the output of the describe method above)\n",
    "print(f'The interquartile range of ride durations was: {round(data_rides[\"duration\"].quantile(0.75) - data_rides[\"duration\"].quantile(0.25))}') \n"
   ]
  },
  {
   "cell_type": "markdown",
   "id": "b126c3d3",
   "metadata": {},
   "source": [
    "Both graphs show a small peak around zero values; let's calculate this outlier:"
   ]
  },
  {
   "cell_type": "code",
   "execution_count": 14,
   "id": "51cb6fc7",
   "metadata": {},
   "outputs": [
    {
     "name": "stdout",
     "output_type": "stream",
     "text": [
      "Количество поездок короче 1 минуты:  95\n"
     ]
    },
    {
     "data": {
      "text/html": [
       "<div>\n",
       "<style scoped>\n",
       "    .dataframe tbody tr th:only-of-type {\n",
       "        vertical-align: middle;\n",
       "    }\n",
       "\n",
       "    .dataframe tbody tr th {\n",
       "        vertical-align: top;\n",
       "    }\n",
       "\n",
       "    .dataframe thead th {\n",
       "        text-align: right;\n",
       "    }\n",
       "</style>\n",
       "<table border=\"1\" class=\"dataframe\">\n",
       "  <thead>\n",
       "    <tr style=\"text-align: right;\">\n",
       "      <th></th>\n",
       "      <th>user_id</th>\n",
       "      <th>distance</th>\n",
       "      <th>duration</th>\n",
       "      <th>date</th>\n",
       "      <th>month_ride</th>\n",
       "    </tr>\n",
       "  </thead>\n",
       "  <tbody>\n",
       "    <tr>\n",
       "      <th>6531</th>\n",
       "      <td>701</td>\n",
       "      <td>4196.445201</td>\n",
       "      <td>0.5</td>\n",
       "      <td>2021-08-31</td>\n",
       "      <td>8</td>\n",
       "    </tr>\n",
       "    <tr>\n",
       "      <th>6570</th>\n",
       "      <td>704</td>\n",
       "      <td>4830.824371</td>\n",
       "      <td>0.5</td>\n",
       "      <td>2021-10-14</td>\n",
       "      <td>10</td>\n",
       "    </tr>\n",
       "    <tr>\n",
       "      <th>6680</th>\n",
       "      <td>712</td>\n",
       "      <td>4684.004397</td>\n",
       "      <td>0.5</td>\n",
       "      <td>2021-03-04</td>\n",
       "      <td>3</td>\n",
       "    </tr>\n",
       "    <tr>\n",
       "      <th>6695</th>\n",
       "      <td>713</td>\n",
       "      <td>5215.642710</td>\n",
       "      <td>0.5</td>\n",
       "      <td>2021-02-25</td>\n",
       "      <td>2</td>\n",
       "    </tr>\n",
       "    <tr>\n",
       "      <th>6768</th>\n",
       "      <td>718</td>\n",
       "      <td>5197.436649</td>\n",
       "      <td>0.5</td>\n",
       "      <td>2021-02-11</td>\n",
       "      <td>2</td>\n",
       "    </tr>\n",
       "  </tbody>\n",
       "</table>\n",
       "</div>"
      ],
      "text/plain": [
       "      user_id     distance  duration       date  month_ride\n",
       "6531      701  4196.445201       0.5 2021-08-31           8\n",
       "6570      704  4830.824371       0.5 2021-10-14          10\n",
       "6680      712  4684.004397       0.5 2021-03-04           3\n",
       "6695      713  5215.642710       0.5 2021-02-25           2\n",
       "6768      718  5197.436649       0.5 2021-02-11           2"
      ]
     },
     "metadata": {},
     "output_type": "display_data"
    },
    {
     "data": {
      "text/html": [
       "<div>\n",
       "<style scoped>\n",
       "    .dataframe tbody tr th:only-of-type {\n",
       "        vertical-align: middle;\n",
       "    }\n",
       "\n",
       "    .dataframe tbody tr th {\n",
       "        vertical-align: top;\n",
       "    }\n",
       "\n",
       "    .dataframe thead th {\n",
       "        text-align: right;\n",
       "    }\n",
       "</style>\n",
       "<table border=\"1\" class=\"dataframe\">\n",
       "  <thead>\n",
       "    <tr style=\"text-align: right;\">\n",
       "      <th></th>\n",
       "      <th>user_id</th>\n",
       "      <th>distance</th>\n",
       "      <th>duration</th>\n",
       "      <th>date</th>\n",
       "      <th>month_ride</th>\n",
       "    </tr>\n",
       "  </thead>\n",
       "  <tbody>\n",
       "    <tr>\n",
       "      <th>17004</th>\n",
       "      <td>1460</td>\n",
       "      <td>5531.335845</td>\n",
       "      <td>0.5</td>\n",
       "      <td>2021-01-19</td>\n",
       "      <td>1</td>\n",
       "    </tr>\n",
       "    <tr>\n",
       "      <th>17242</th>\n",
       "      <td>1477</td>\n",
       "      <td>6724.932981</td>\n",
       "      <td>0.5</td>\n",
       "      <td>2021-01-12</td>\n",
       "      <td>1</td>\n",
       "    </tr>\n",
       "    <tr>\n",
       "      <th>17314</th>\n",
       "      <td>1483</td>\n",
       "      <td>4445.481070</td>\n",
       "      <td>0.5</td>\n",
       "      <td>2021-03-06</td>\n",
       "      <td>3</td>\n",
       "    </tr>\n",
       "    <tr>\n",
       "      <th>17505</th>\n",
       "      <td>1496</td>\n",
       "      <td>5722.551787</td>\n",
       "      <td>0.5</td>\n",
       "      <td>2021-02-14</td>\n",
       "      <td>2</td>\n",
       "    </tr>\n",
       "    <tr>\n",
       "      <th>17909</th>\n",
       "      <td>1524</td>\n",
       "      <td>4103.998874</td>\n",
       "      <td>0.5</td>\n",
       "      <td>2021-06-18</td>\n",
       "      <td>6</td>\n",
       "    </tr>\n",
       "  </tbody>\n",
       "</table>\n",
       "</div>"
      ],
      "text/plain": [
       "       user_id     distance  duration       date  month_ride\n",
       "17004     1460  5531.335845       0.5 2021-01-19           1\n",
       "17242     1477  6724.932981       0.5 2021-01-12           1\n",
       "17314     1483  4445.481070       0.5 2021-03-06           3\n",
       "17505     1496  5722.551787       0.5 2021-02-14           2\n",
       "17909     1524  4103.998874       0.5 2021-06-18           6"
      ]
     },
     "metadata": {},
     "output_type": "display_data"
    }
   ],
   "source": [
    "print('Number of rides shorter than 1 minute: ',data_rides[data_rides['duration'] < 1]['duration'].count())\n",
    "\n",
    "# display the 5 extreme values in the table of near-zero rides\n",
    "display(data_rides[data_rides['duration'] < 1].head(5))\n",
    "display(data_rides[data_rides['duration'] < 1].tail(5))"
   ]
  },
  {
   "cell_type": "markdown",
   "id": "b6fef520-05f4-4e7d-909e-d550fcd02ccc",
   "metadata": {},
   "source": [
    "**Conclusion**  \n",
    "\n",
    "Based on the analyzed data, we can conclude that there is a fairly uniform distribution of data across all the considered parameters.  \n",
    "We also calculated that the average ride was 3071m and took 18 minutes, with the number of users without a subscription exceeding those with a subscription by approximately 15%. Regarding ride lengths, there are two peaks—at 720m and 3000m—which may be due to two usage patterns: short rides between home and the public transport station, as well as longer rides to destinations or leisurely trips.  \n",
    "\n",
    "For ride duration, we identified a peak of ultra-short rides at half a minute, possibly indicating that all erroneously initiated and stopped rides are rounded to this time. It would be advisable to consult with colleagues who generate the datasets and, if confirmed that such short rides are erroneous, to exclude them from the dataset.  \n",
    "\n",
    "The interquartile range for the respective parameters was:  \n",
    "- for age - 6 years;  \n",
    "- for ride duration - 8 minutes;  \n",
    "- for ride distance - 1233 meters."
   ]
  },
  {
   "cell_type": "markdown",
   "id": "4ef51331",
   "metadata": {},
   "source": [
    "## Merging Data"
   ]
  },
  {
   "cell_type": "markdown",
   "id": "f2598acc-70f5-425a-82c0-bd73c363ca8e",
   "metadata": {},
   "source": [
    "As previously suggested, we will merge the three initial dataframes for easier analysis and access to data based on the key columns ‘user_id’ and ‘subscription_type:"
   ]
  },
  {
   "cell_type": "code",
   "execution_count": 15,
   "id": "851e2f68-e249-489d-b99b-373f7d3edc49",
   "metadata": {},
   "outputs": [
    {
     "name": "stdout",
     "output_type": "stream",
     "text": [
      "Таблица поездок исходной размерностью: (18068, 5)\n",
      "Объединенная таблица размерностью: (18068, 12)\n",
      "Количество дубликатов в новой таблице: 0\n",
      "Количество пропусков:\n",
      "user_id              0\n",
      "distance             0\n",
      "duration             0\n",
      "date                 0\n",
      "month_ride           0\n",
      "name                 0\n",
      "age                  0\n",
      "city                 0\n",
      "subscription_type    0\n",
      "minute_price         0\n",
      "start_ride_price     0\n",
      "subscription_fee     0\n",
      "dtype: int64\n"
     ]
    },
    {
     "data": {
      "text/html": [
       "<div>\n",
       "<style scoped>\n",
       "    .dataframe tbody tr th:only-of-type {\n",
       "        vertical-align: middle;\n",
       "    }\n",
       "\n",
       "    .dataframe tbody tr th {\n",
       "        vertical-align: top;\n",
       "    }\n",
       "\n",
       "    .dataframe thead th {\n",
       "        text-align: right;\n",
       "    }\n",
       "</style>\n",
       "<table border=\"1\" class=\"dataframe\">\n",
       "  <thead>\n",
       "    <tr style=\"text-align: right;\">\n",
       "      <th></th>\n",
       "      <th>user_id</th>\n",
       "      <th>distance</th>\n",
       "      <th>duration</th>\n",
       "      <th>date</th>\n",
       "      <th>month_ride</th>\n",
       "      <th>name</th>\n",
       "      <th>age</th>\n",
       "      <th>city</th>\n",
       "      <th>subscription_type</th>\n",
       "      <th>minute_price</th>\n",
       "      <th>start_ride_price</th>\n",
       "      <th>subscription_fee</th>\n",
       "    </tr>\n",
       "  </thead>\n",
       "  <tbody>\n",
       "    <tr>\n",
       "      <th>0</th>\n",
       "      <td>1</td>\n",
       "      <td>4409.919140</td>\n",
       "      <td>25.599769</td>\n",
       "      <td>2021-01-01</td>\n",
       "      <td>1</td>\n",
       "      <td>кира</td>\n",
       "      <td>22</td>\n",
       "      <td>тюмень</td>\n",
       "      <td>ultra</td>\n",
       "      <td>6</td>\n",
       "      <td>0</td>\n",
       "      <td>199</td>\n",
       "    </tr>\n",
       "    <tr>\n",
       "      <th>1</th>\n",
       "      <td>1</td>\n",
       "      <td>2617.592153</td>\n",
       "      <td>15.816871</td>\n",
       "      <td>2021-01-18</td>\n",
       "      <td>1</td>\n",
       "      <td>кира</td>\n",
       "      <td>22</td>\n",
       "      <td>тюмень</td>\n",
       "      <td>ultra</td>\n",
       "      <td>6</td>\n",
       "      <td>0</td>\n",
       "      <td>199</td>\n",
       "    </tr>\n",
       "    <tr>\n",
       "      <th>2</th>\n",
       "      <td>1</td>\n",
       "      <td>754.159807</td>\n",
       "      <td>6.232113</td>\n",
       "      <td>2021-04-20</td>\n",
       "      <td>4</td>\n",
       "      <td>кира</td>\n",
       "      <td>22</td>\n",
       "      <td>тюмень</td>\n",
       "      <td>ultra</td>\n",
       "      <td>6</td>\n",
       "      <td>0</td>\n",
       "      <td>199</td>\n",
       "    </tr>\n",
       "    <tr>\n",
       "      <th>3</th>\n",
       "      <td>1</td>\n",
       "      <td>2694.783254</td>\n",
       "      <td>18.511000</td>\n",
       "      <td>2021-08-11</td>\n",
       "      <td>8</td>\n",
       "      <td>кира</td>\n",
       "      <td>22</td>\n",
       "      <td>тюмень</td>\n",
       "      <td>ultra</td>\n",
       "      <td>6</td>\n",
       "      <td>0</td>\n",
       "      <td>199</td>\n",
       "    </tr>\n",
       "    <tr>\n",
       "      <th>4</th>\n",
       "      <td>1</td>\n",
       "      <td>4028.687306</td>\n",
       "      <td>26.265803</td>\n",
       "      <td>2021-08-28</td>\n",
       "      <td>8</td>\n",
       "      <td>кира</td>\n",
       "      <td>22</td>\n",
       "      <td>тюмень</td>\n",
       "      <td>ultra</td>\n",
       "      <td>6</td>\n",
       "      <td>0</td>\n",
       "      <td>199</td>\n",
       "    </tr>\n",
       "    <tr>\n",
       "      <th>5</th>\n",
       "      <td>1</td>\n",
       "      <td>2770.890808</td>\n",
       "      <td>16.650138</td>\n",
       "      <td>2021-10-09</td>\n",
       "      <td>10</td>\n",
       "      <td>кира</td>\n",
       "      <td>22</td>\n",
       "      <td>тюмень</td>\n",
       "      <td>ultra</td>\n",
       "      <td>6</td>\n",
       "      <td>0</td>\n",
       "      <td>199</td>\n",
       "    </tr>\n",
       "    <tr>\n",
       "      <th>6</th>\n",
       "      <td>1</td>\n",
       "      <td>3039.020292</td>\n",
       "      <td>14.927879</td>\n",
       "      <td>2021-10-19</td>\n",
       "      <td>10</td>\n",
       "      <td>кира</td>\n",
       "      <td>22</td>\n",
       "      <td>тюмень</td>\n",
       "      <td>ultra</td>\n",
       "      <td>6</td>\n",
       "      <td>0</td>\n",
       "      <td>199</td>\n",
       "    </tr>\n",
       "    <tr>\n",
       "      <th>7</th>\n",
       "      <td>1</td>\n",
       "      <td>2842.118050</td>\n",
       "      <td>23.117468</td>\n",
       "      <td>2021-11-06</td>\n",
       "      <td>11</td>\n",
       "      <td>кира</td>\n",
       "      <td>22</td>\n",
       "      <td>тюмень</td>\n",
       "      <td>ultra</td>\n",
       "      <td>6</td>\n",
       "      <td>0</td>\n",
       "      <td>199</td>\n",
       "    </tr>\n",
       "    <tr>\n",
       "      <th>8</th>\n",
       "      <td>1</td>\n",
       "      <td>3412.690668</td>\n",
       "      <td>15.238072</td>\n",
       "      <td>2021-11-14</td>\n",
       "      <td>11</td>\n",
       "      <td>кира</td>\n",
       "      <td>22</td>\n",
       "      <td>тюмень</td>\n",
       "      <td>ultra</td>\n",
       "      <td>6</td>\n",
       "      <td>0</td>\n",
       "      <td>199</td>\n",
       "    </tr>\n",
       "    <tr>\n",
       "      <th>9</th>\n",
       "      <td>1</td>\n",
       "      <td>748.690645</td>\n",
       "      <td>15.041884</td>\n",
       "      <td>2021-11-22</td>\n",
       "      <td>11</td>\n",
       "      <td>кира</td>\n",
       "      <td>22</td>\n",
       "      <td>тюмень</td>\n",
       "      <td>ultra</td>\n",
       "      <td>6</td>\n",
       "      <td>0</td>\n",
       "      <td>199</td>\n",
       "    </tr>\n",
       "  </tbody>\n",
       "</table>\n",
       "</div>"
      ],
      "text/plain": [
       "   user_id     distance   duration       date  month_ride  name  age    city  \\\n",
       "0        1  4409.919140  25.599769 2021-01-01           1  кира   22  тюмень   \n",
       "1        1  2617.592153  15.816871 2021-01-18           1  кира   22  тюмень   \n",
       "2        1   754.159807   6.232113 2021-04-20           4  кира   22  тюмень   \n",
       "3        1  2694.783254  18.511000 2021-08-11           8  кира   22  тюмень   \n",
       "4        1  4028.687306  26.265803 2021-08-28           8  кира   22  тюмень   \n",
       "5        1  2770.890808  16.650138 2021-10-09          10  кира   22  тюмень   \n",
       "6        1  3039.020292  14.927879 2021-10-19          10  кира   22  тюмень   \n",
       "7        1  2842.118050  23.117468 2021-11-06          11  кира   22  тюмень   \n",
       "8        1  3412.690668  15.238072 2021-11-14          11  кира   22  тюмень   \n",
       "9        1   748.690645  15.041884 2021-11-22          11  кира   22  тюмень   \n",
       "\n",
       "  subscription_type  minute_price  start_ride_price  subscription_fee  \n",
       "0             ultra             6                 0               199  \n",
       "1             ultra             6                 0               199  \n",
       "2             ultra             6                 0               199  \n",
       "3             ultra             6                 0               199  \n",
       "4             ultra             6                 0               199  \n",
       "5             ultra             6                 0               199  \n",
       "6             ultra             6                 0               199  \n",
       "7             ultra             6                 0               199  \n",
       "8             ultra             6                 0               199  \n",
       "9             ultra             6                 0               199  "
      ]
     },
     "metadata": {},
     "output_type": "display_data"
    }
   ],
   "source": [
    "# to verify the results of the merge later, we will record the dimensions of the original table with trip data\n",
    "print(f'Original trip table dimensions: {data_rides.shape}')\n",
    "\n",
    "# create a new combined DataFrame data\n",
    "data = data_rides.merge(data_users, on='user_id', how='left')\n",
    "\n",
    "# join the data from the third DataFrame containing subscription data\n",
    "data = data.merge(data_subscriptions, on='subscription_type', how='left')\n",
    "\n",
    "# check the dimensions after merging the tables\n",
    "print(f'The merged table has a dimension of: {data.shape}')\n",
    "\n",
    "# check the number of duplicates and missing values after merging\n",
    "print(f'Number of duplicates in the new table: {data.duplicated().sum()}')\n",
    "print(f'Number of missing values:\\n{data.isna().sum()}')\n",
    "\n",
    "# and display the first 10 rows of the new DataFrame\n",
    "display(data.head(10))\n"
   ]
  },
  {
   "cell_type": "markdown",
   "id": "3498ec90",
   "metadata": {},
   "source": [
    "**Conclusion**\n",
    "\n",
    "We sequentially combined the main table with trip data with user and subscription data, resulting in a unified table with the appropriate dimensions—18,068 trip records with 12 parameters for each trip.  \n",
    "After the merge, there were no duplicates or missing values."
   ]
  },
  {
   "cell_type": "markdown",
   "id": "5921f8d5-a7d3-4856-8a9b-2a4d0c9d0c46",
   "metadata": {},
   "source": [
    "Let’s extract data from the new DataFrame, breaking it down by users with and without subscriptions:"
   ]
  },
  {
   "cell_type": "code",
   "execution_count": 16,
   "id": "0ba7dd3d-8028-4513-bcb8-7d3bc1109e68",
   "metadata": {},
   "outputs": [
    {
     "name": "stdout",
     "output_type": "stream",
     "text": [
      "Объединенная таблица размерностью: (18068, 12)\n",
      "Таблица с платными подписчиками размерностью: (6500, 12)\n",
      "Таблица с бесплатными подписчиками размерностью: (11568, 12)\n"
     ]
    }
   ],
   "source": [
    "# создадим датафрейм с данными по пользователям с подпиской\n",
    "data_ultra = data[data['subscription_type'] == 'ultra']\n",
    "# create a dataframe with data on users without a subscription\n",
    "data_free = data[data['subscription_type'] == 'free']\n",
    "\n",
    "# check the dimensions after splitting the tables\n",
    "print(f'The combined table dimensions are: {data.shape}')\n",
    "print(f'The table with paid subscribers dimensions are: {data_ultra.shape}')\n",
    "print(f'The table with free subscribers dimensions are: {data_free.shape}')"
   ]
  },
  {
   "cell_type": "markdown",
   "id": "6eec40a6-7fe9-4620-9f40-eed1fb3bbc8d",
   "metadata": {},
   "source": [
    "Let's consider the information about the distance and duration of trips for users of both categories."
   ]
  },
  {
   "cell_type": "code",
   "execution_count": 17,
   "id": "79e3e193-ba05-4aa7-a889-55a5a135bad1",
   "metadata": {},
   "outputs": [
    {
     "data": {
      "image/png": "[encoded data removed]",
      "text/plain": [
       "<Figure size 900x300 with 2 Axes>"
      ]
     },
     "metadata": {},
     "output_type": "display_data"
    }
   ],
   "source": [
    "# plot the distribution of trip duration broken down by users with free and paid subscriptions\n",
    "plt.figure(figsize=[9, 3])\n",
    "\n",
    "plt.subplot(1,2,1)\n",
    "plt.hist(data_free['duration'], bins=30);\n",
    "plt.xlabel('Duration, min')\n",
    "plt.title('Distribution of trip duration\\n for free subscription users');\n",
    "\n",
    "plt.subplot(1,2,2)\n",
    "plt.hist(data_ultra['duration'], bins=30);\n",
    "plt.xlabel('Duration, min')\n",
    "plt.title('distribution of trip duration\\n for ultra subscription users');\n",
    "\n",
    "plt.show();"
   ]
  },
  {
   "cell_type": "code",
   "execution_count": 18,
   "id": "43f58c0f-d8f4-4367-b462-03165bb93161",
   "metadata": {},
   "outputs": [
    {
     "data": {
      "image/png": "[encoded data removed]",
      "text/plain": [
       "<Figure size 900x300 with 2 Axes>"
      ]
     },
     "metadata": {},
     "output_type": "display_data"
    }
   ],
   "source": [
    "# let's build graphs of trip duration and distance distribution for ultra subscription users\n",
    "plt.figure(figsize=[9, 3])\n",
    "\n",
    "plt.subplot(1,2,1)\n",
    "plt.hist(data_free['distance'], bins=30);\n",
    "plt.xlabel('Distance, m')\n",
    "plt.title('Distribution of trip distances\\n for free subscription users');\n",
    "\n",
    "plt.subplot(1,2,2)\n",
    "plt.hist(data_ultra['distance'], bins=30);\n",
    "plt.xlabel('Distance, m')\n",
    "plt.title('Distribution of trip distances\\n for ultra subscription users');\n",
    "\n",
    "plt.show();"
   ]
  },
  {
   "cell_type": "code",
   "execution_count": 19,
   "id": "df0ba031",
   "metadata": {},
   "outputs": [
    {
     "name": "stdout",
     "output_type": "stream",
     "text": [
      "Соотношение пользователей на платном тарифе к числу на бесплатном тарифе равно: 56.19%\n",
      "Сравнение статистик по числовых данных двух типов пользователей:\n",
      "На тарифе ultra\n"
     ]
    },
    {
     "data": {
      "text/html": [
       "<div>\n",
       "<style scoped>\n",
       "    .dataframe tbody tr th:only-of-type {\n",
       "        vertical-align: middle;\n",
       "    }\n",
       "\n",
       "    .dataframe tbody tr th {\n",
       "        vertical-align: top;\n",
       "    }\n",
       "\n",
       "    .dataframe thead th {\n",
       "        text-align: right;\n",
       "    }\n",
       "</style>\n",
       "<table border=\"1\" class=\"dataframe\">\n",
       "  <thead>\n",
       "    <tr style=\"text-align: right;\">\n",
       "      <th></th>\n",
       "      <th>distance</th>\n",
       "      <th>duration</th>\n",
       "      <th>age</th>\n",
       "    </tr>\n",
       "  </thead>\n",
       "  <tbody>\n",
       "    <tr>\n",
       "      <th>count</th>\n",
       "      <td>6500.000000</td>\n",
       "      <td>6500.000000</td>\n",
       "      <td>6500.000000</td>\n",
       "    </tr>\n",
       "    <tr>\n",
       "      <th>mean</th>\n",
       "      <td>3115.445388</td>\n",
       "      <td>18.541985</td>\n",
       "      <td>24.892615</td>\n",
       "    </tr>\n",
       "    <tr>\n",
       "      <th>std</th>\n",
       "      <td>836.895330</td>\n",
       "      <td>5.572048</td>\n",
       "      <td>4.757208</td>\n",
       "    </tr>\n",
       "    <tr>\n",
       "      <th>min</th>\n",
       "      <td>244.210438</td>\n",
       "      <td>3.760353</td>\n",
       "      <td>12.000000</td>\n",
       "    </tr>\n",
       "    <tr>\n",
       "      <th>25%</th>\n",
       "      <td>2785.444017</td>\n",
       "      <td>14.524654</td>\n",
       "      <td>22.000000</td>\n",
       "    </tr>\n",
       "    <tr>\n",
       "      <th>50%</th>\n",
       "      <td>3148.637229</td>\n",
       "      <td>18.178153</td>\n",
       "      <td>25.000000</td>\n",
       "    </tr>\n",
       "    <tr>\n",
       "      <th>75%</th>\n",
       "      <td>3560.574425</td>\n",
       "      <td>21.884129</td>\n",
       "      <td>28.000000</td>\n",
       "    </tr>\n",
       "    <tr>\n",
       "      <th>max</th>\n",
       "      <td>5699.769662</td>\n",
       "      <td>40.823963</td>\n",
       "      <td>38.000000</td>\n",
       "    </tr>\n",
       "  </tbody>\n",
       "</table>\n",
       "</div>"
      ],
      "text/plain": [
       "          distance     duration          age\n",
       "count  6500.000000  6500.000000  6500.000000\n",
       "mean   3115.445388    18.541985    24.892615\n",
       "std     836.895330     5.572048     4.757208\n",
       "min     244.210438     3.760353    12.000000\n",
       "25%    2785.444017    14.524654    22.000000\n",
       "50%    3148.637229    18.178153    25.000000\n",
       "75%    3560.574425    21.884129    28.000000\n",
       "max    5699.769662    40.823963    38.000000"
      ]
     },
     "metadata": {},
     "output_type": "display_data"
    },
    {
     "name": "stdout",
     "output_type": "stream",
     "text": [
      "На тарифе free\n"
     ]
    },
    {
     "data": {
      "text/html": [
       "<div>\n",
       "<style scoped>\n",
       "    .dataframe tbody tr th:only-of-type {\n",
       "        vertical-align: middle;\n",
       "    }\n",
       "\n",
       "    .dataframe tbody tr th {\n",
       "        vertical-align: top;\n",
       "    }\n",
       "\n",
       "    .dataframe thead th {\n",
       "        text-align: right;\n",
       "    }\n",
       "</style>\n",
       "<table border=\"1\" class=\"dataframe\">\n",
       "  <thead>\n",
       "    <tr style=\"text-align: right;\">\n",
       "      <th></th>\n",
       "      <th>distance</th>\n",
       "      <th>duration</th>\n",
       "      <th>age</th>\n",
       "    </tr>\n",
       "  </thead>\n",
       "  <tbody>\n",
       "    <tr>\n",
       "      <th>count</th>\n",
       "      <td>11568.000000</td>\n",
       "      <td>11568.000000</td>\n",
       "      <td>11568.000000</td>\n",
       "    </tr>\n",
       "    <tr>\n",
       "      <th>mean</th>\n",
       "      <td>3045.495282</td>\n",
       "      <td>17.390909</td>\n",
       "      <td>24.893326</td>\n",
       "    </tr>\n",
       "    <tr>\n",
       "      <th>std</th>\n",
       "      <td>1246.173806</td>\n",
       "      <td>6.326803</td>\n",
       "      <td>4.481100</td>\n",
       "    </tr>\n",
       "    <tr>\n",
       "      <th>min</th>\n",
       "      <td>0.855683</td>\n",
       "      <td>0.500000</td>\n",
       "      <td>12.000000</td>\n",
       "    </tr>\n",
       "    <tr>\n",
       "      <th>25%</th>\n",
       "      <td>2366.562689</td>\n",
       "      <td>12.958437</td>\n",
       "      <td>22.000000</td>\n",
       "    </tr>\n",
       "    <tr>\n",
       "      <th>50%</th>\n",
       "      <td>3114.648465</td>\n",
       "      <td>17.326890</td>\n",
       "      <td>25.000000</td>\n",
       "    </tr>\n",
       "    <tr>\n",
       "      <th>75%</th>\n",
       "      <td>3905.697894</td>\n",
       "      <td>21.594071</td>\n",
       "      <td>28.000000</td>\n",
       "    </tr>\n",
       "    <tr>\n",
       "      <th>max</th>\n",
       "      <td>7211.007745</td>\n",
       "      <td>34.948498</td>\n",
       "      <td>43.000000</td>\n",
       "    </tr>\n",
       "  </tbody>\n",
       "</table>\n",
       "</div>"
      ],
      "text/plain": [
       "           distance      duration           age\n",
       "count  11568.000000  11568.000000  11568.000000\n",
       "mean    3045.495282     17.390909     24.893326\n",
       "std     1246.173806      6.326803      4.481100\n",
       "min        0.855683      0.500000     12.000000\n",
       "25%     2366.562689     12.958437     22.000000\n",
       "50%     3114.648465     17.326890     25.000000\n",
       "75%     3905.697894     21.594071     28.000000\n",
       "max     7211.007745     34.948498     43.000000"
      ]
     },
     "metadata": {},
     "output_type": "display_data"
    }
   ],
   "source": [
    "# look at the ratio of the number of trips for users on paid and free tariffs\n",
    "print(f'The ratio of users on the paid tariff to those on the free tariff is: {len(data_ultra) / len(data_free):.2%}')\n",
    "\n",
    "# and compare the statistics of both subsets\n",
    "print('Comparison of statistics for numerical data between two types of users:')\n",
    "print('on the ultra tariff:') \n",
    "display(data_ultra[[\"distance\",\"duration\",\"age\"]].describe())\n",
    "print('on the free tariff:')\n",
    "display(data_free[[\"distance\",\"duration\",\"age\"]].describe())"
   ]
  },
  {
   "cell_type": "markdown",
   "id": "91ef8f5f-ebcb-4cc0-8a4b-d9831ba7b927",
   "metadata": {},
   "source": [
    "**Conclusion**\n",
    "\n",
    "As a result of merging the data frames, we obtained a single table with data on all users, their trips, and the cost of these trips (taking into account the applicable tariffs for each user). Based on the graphs of trip duration and distance for users on paid and free tariffs, we can conclude that the distribution structure of these data is very similar. Paid users made almost twice as few trips (56%) compared to free users. \n",
    "\n",
    "For short trips, there is a slight outlier among users on the free tariff, which we previously identified during the analysis of trip durations (ultra-short trips lasting less than 1 minute).\n",
    "\n",
    "When comparing the statistics of the two samples, we can conclude that the average trip distances and durations for the two groups of users are slightly different (3115 m for paid users compared to 3045 m for free users and 19 minutes compared to 18 minutes, respectively). However, the average revenue from paid users is significantly higher (313 rubles compared to 193 rubles)."
   ]
  },
  {
   "cell_type": "markdown",
   "id": "402d620f",
   "metadata": {},
   "source": [
    "## Revenue calculation"
   ]
  },
  {
   "cell_type": "markdown",
   "id": "74973bbc-35d6-4925-9914-56a62778f14c",
   "metadata": {},
   "source": [
    "For revenue calculation, we will first create and prepare a dataframe with aggregated trip data based on the merged dataframe."
   ]
  },
  {
   "cell_type": "code",
   "execution_count": 20,
   "id": "47a24834-763b-4c18-9fa4-a67002f7fe19",
   "metadata": {},
   "outputs": [
    {
     "data": {
      "text/html": [
       "<div>\n",
       "<style scoped>\n",
       "    .dataframe tbody tr th:only-of-type {\n",
       "        vertical-align: middle;\n",
       "    }\n",
       "\n",
       "    .dataframe tbody tr th {\n",
       "        vertical-align: top;\n",
       "    }\n",
       "\n",
       "    .dataframe thead th {\n",
       "        text-align: right;\n",
       "    }\n",
       "</style>\n",
       "<table border=\"1\" class=\"dataframe\">\n",
       "  <thead>\n",
       "    <tr style=\"text-align: right;\">\n",
       "      <th></th>\n",
       "      <th></th>\n",
       "      <th>rides_distance_sum</th>\n",
       "      <th>rides_count</th>\n",
       "      <th>rides_duration_sum</th>\n",
       "    </tr>\n",
       "    <tr>\n",
       "      <th>user_id</th>\n",
       "      <th>month_ride</th>\n",
       "      <th></th>\n",
       "      <th></th>\n",
       "      <th></th>\n",
       "    </tr>\n",
       "  </thead>\n",
       "  <tbody>\n",
       "    <tr>\n",
       "      <th rowspan=\"6\" valign=\"top\">1</th>\n",
       "      <th>1</th>\n",
       "      <td>7027.511294</td>\n",
       "      <td>2</td>\n",
       "      <td>42.0</td>\n",
       "    </tr>\n",
       "    <tr>\n",
       "      <th>4</th>\n",
       "      <td>754.159807</td>\n",
       "      <td>1</td>\n",
       "      <td>7.0</td>\n",
       "    </tr>\n",
       "    <tr>\n",
       "      <th>8</th>\n",
       "      <td>6723.470560</td>\n",
       "      <td>2</td>\n",
       "      <td>46.0</td>\n",
       "    </tr>\n",
       "    <tr>\n",
       "      <th>10</th>\n",
       "      <td>5809.911100</td>\n",
       "      <td>2</td>\n",
       "      <td>32.0</td>\n",
       "    </tr>\n",
       "    <tr>\n",
       "      <th>11</th>\n",
       "      <td>7003.499363</td>\n",
       "      <td>3</td>\n",
       "      <td>56.0</td>\n",
       "    </tr>\n",
       "    <tr>\n",
       "      <th>12</th>\n",
       "      <td>6751.629942</td>\n",
       "      <td>2</td>\n",
       "      <td>28.0</td>\n",
       "    </tr>\n",
       "    <tr>\n",
       "      <th rowspan=\"4\" valign=\"top\">2</th>\n",
       "      <th>3</th>\n",
       "      <td>10187.723006</td>\n",
       "      <td>3</td>\n",
       "      <td>63.0</td>\n",
       "    </tr>\n",
       "    <tr>\n",
       "      <th>4</th>\n",
       "      <td>6164.381824</td>\n",
       "      <td>2</td>\n",
       "      <td>40.0</td>\n",
       "    </tr>\n",
       "    <tr>\n",
       "      <th>6</th>\n",
       "      <td>3255.338202</td>\n",
       "      <td>1</td>\n",
       "      <td>14.0</td>\n",
       "    </tr>\n",
       "    <tr>\n",
       "      <th>7</th>\n",
       "      <td>6780.722964</td>\n",
       "      <td>2</td>\n",
       "      <td>48.0</td>\n",
       "    </tr>\n",
       "  </tbody>\n",
       "</table>\n",
       "</div>"
      ],
      "text/plain": [
       "                    rides_distance_sum  rides_count  rides_duration_sum\n",
       "user_id month_ride                                                     \n",
       "1       1                  7027.511294            2                42.0\n",
       "        4                   754.159807            1                 7.0\n",
       "        8                  6723.470560            2                46.0\n",
       "        10                 5809.911100            2                32.0\n",
       "        11                 7003.499363            3                56.0\n",
       "        12                 6751.629942            2                28.0\n",
       "2       3                 10187.723006            3                63.0\n",
       "        4                  6164.381824            2                40.0\n",
       "        6                  3255.338202            1                14.0\n",
       "        7                  6780.722964            2                48.0"
      ]
     },
     "metadata": {},
     "output_type": "display_data"
    },
    {
     "name": "stdout",
     "output_type": "stream",
     "text": [
      "Количество пропусков:\n",
      "rides_distance_sum    0\n",
      "rides_count           0\n",
      "rides_duration_sum    0\n",
      "dtype: int64\n"
     ]
    }
   ],
   "source": [
    "# create a new dataframe and add columns with total distance, number of trips\n",
    "# and total time for each user for each month\n",
    "data_revenue = pd.DataFrame(columns = ['rides_distance_sum','rides_count','rides_duration_sum'])\n",
    "data_revenue['rides_distance_sum'] = data.groupby(['user_id','month_ride'])['distance'].sum()\n",
    "data_revenue['rides_count'] = data.groupby(['user_id','month_ride'])['month_ride'].count()\n",
    "\n",
    "# let's also add a column with total trip time per month,\n",
    "# after rounding up the trip time data in the original dataframe\n",
    "data['duration'] = np.ceil(data['duration']) \n",
    "data_revenue['rides_duration_sum'] = data.groupby(['user_id','month_ride'])['duration'].sum()\n",
    "\n",
    "# let's display the first rows of the new dataframe to check\n",
    "display(data_revenue.head(10))\n",
    "\n",
    "# and let's check the new dataframe for missing values\n",
    "print(f'Number of missing values:\\n{data_revenue.isna().sum()}')"
   ]
  },
  {
   "cell_type": "markdown",
   "id": "e0191272-844d-4a82-82cb-542691781168",
   "metadata": {},
   "source": [
    "Let's calculate monthly revenue for each user and add a column with this data to the new dataframe.  \n",
    "Revenue calculation formula - trip start cost × number of trips + cost per minute × total duration of all trips in minutes + subscription cost."
   ]
  },
  {
   "cell_type": "code",
   "execution_count": 21,
   "id": "0b215ca2-df37-47f1-8d02-b56a9461d7fa",
   "metadata": {},
   "outputs": [],
   "source": [
    "# for easier calculations, let's add cost data from the original dataframes\n",
    "data_revenue = data_revenue.reset_index()\n",
    "data_ = data_users.merge(data_subscriptions, on='subscription_type', how='left').drop(columns = ['name','age','city'])\n",
    "data_revenue = data_revenue.merge(data_, on='user_id', how='left')\n"
   ]
  },
  {
   "cell_type": "code",
   "execution_count": 22,
   "id": "6982e976",
   "metadata": {},
   "outputs": [
    {
     "data": {
      "text/html": [
       "<div>\n",
       "<style scoped>\n",
       "    .dataframe tbody tr th:only-of-type {\n",
       "        vertical-align: middle;\n",
       "    }\n",
       "\n",
       "    .dataframe tbody tr th {\n",
       "        vertical-align: top;\n",
       "    }\n",
       "\n",
       "    .dataframe thead th {\n",
       "        text-align: right;\n",
       "    }\n",
       "</style>\n",
       "<table border=\"1\" class=\"dataframe\">\n",
       "  <thead>\n",
       "    <tr style=\"text-align: right;\">\n",
       "      <th></th>\n",
       "      <th>user_id</th>\n",
       "      <th>month_ride</th>\n",
       "      <th>rides_distance_sum</th>\n",
       "      <th>rides_count</th>\n",
       "      <th>rides_duration_sum</th>\n",
       "      <th>subscription_type</th>\n",
       "      <th>minute_price</th>\n",
       "      <th>start_ride_price</th>\n",
       "      <th>subscription_fee</th>\n",
       "      <th>revenue</th>\n",
       "    </tr>\n",
       "  </thead>\n",
       "  <tbody>\n",
       "    <tr>\n",
       "      <th>0</th>\n",
       "      <td>1</td>\n",
       "      <td>1</td>\n",
       "      <td>7027.511294</td>\n",
       "      <td>2</td>\n",
       "      <td>42.0</td>\n",
       "      <td>ultra</td>\n",
       "      <td>6</td>\n",
       "      <td>0</td>\n",
       "      <td>199</td>\n",
       "      <td>451.0</td>\n",
       "    </tr>\n",
       "    <tr>\n",
       "      <th>1</th>\n",
       "      <td>1</td>\n",
       "      <td>4</td>\n",
       "      <td>754.159807</td>\n",
       "      <td>1</td>\n",
       "      <td>7.0</td>\n",
       "      <td>ultra</td>\n",
       "      <td>6</td>\n",
       "      <td>0</td>\n",
       "      <td>199</td>\n",
       "      <td>241.0</td>\n",
       "    </tr>\n",
       "    <tr>\n",
       "      <th>2</th>\n",
       "      <td>1</td>\n",
       "      <td>8</td>\n",
       "      <td>6723.470560</td>\n",
       "      <td>2</td>\n",
       "      <td>46.0</td>\n",
       "      <td>ultra</td>\n",
       "      <td>6</td>\n",
       "      <td>0</td>\n",
       "      <td>199</td>\n",
       "      <td>475.0</td>\n",
       "    </tr>\n",
       "    <tr>\n",
       "      <th>3</th>\n",
       "      <td>1</td>\n",
       "      <td>10</td>\n",
       "      <td>5809.911100</td>\n",
       "      <td>2</td>\n",
       "      <td>32.0</td>\n",
       "      <td>ultra</td>\n",
       "      <td>6</td>\n",
       "      <td>0</td>\n",
       "      <td>199</td>\n",
       "      <td>391.0</td>\n",
       "    </tr>\n",
       "    <tr>\n",
       "      <th>4</th>\n",
       "      <td>1</td>\n",
       "      <td>11</td>\n",
       "      <td>7003.499363</td>\n",
       "      <td>3</td>\n",
       "      <td>56.0</td>\n",
       "      <td>ultra</td>\n",
       "      <td>6</td>\n",
       "      <td>0</td>\n",
       "      <td>199</td>\n",
       "      <td>535.0</td>\n",
       "    </tr>\n",
       "  </tbody>\n",
       "</table>\n",
       "</div>"
      ],
      "text/plain": [
       "   user_id  month_ride  rides_distance_sum  rides_count  rides_duration_sum  \\\n",
       "0        1           1         7027.511294            2                42.0   \n",
       "1        1           4          754.159807            1                 7.0   \n",
       "2        1           8         6723.470560            2                46.0   \n",
       "3        1          10         5809.911100            2                32.0   \n",
       "4        1          11         7003.499363            3                56.0   \n",
       "\n",
       "  subscription_type  minute_price  start_ride_price  subscription_fee  revenue  \n",
       "0             ultra             6                 0               199    451.0  \n",
       "1             ultra             6                 0               199    241.0  \n",
       "2             ultra             6                 0               199    475.0  \n",
       "3             ultra             6                 0               199    391.0  \n",
       "4             ultra             6                 0               199    535.0  "
      ]
     },
     "metadata": {},
     "output_type": "display_data"
    },
    {
     "data": {
      "text/html": [
       "<div>\n",
       "<style scoped>\n",
       "    .dataframe tbody tr th:only-of-type {\n",
       "        vertical-align: middle;\n",
       "    }\n",
       "\n",
       "    .dataframe tbody tr th {\n",
       "        vertical-align: top;\n",
       "    }\n",
       "\n",
       "    .dataframe thead th {\n",
       "        text-align: right;\n",
       "    }\n",
       "</style>\n",
       "<table border=\"1\" class=\"dataframe\">\n",
       "  <thead>\n",
       "    <tr style=\"text-align: right;\">\n",
       "      <th></th>\n",
       "      <th>user_id</th>\n",
       "      <th>month_ride</th>\n",
       "      <th>rides_distance_sum</th>\n",
       "      <th>rides_count</th>\n",
       "      <th>rides_duration_sum</th>\n",
       "      <th>subscription_type</th>\n",
       "      <th>minute_price</th>\n",
       "      <th>start_ride_price</th>\n",
       "      <th>subscription_fee</th>\n",
       "      <th>revenue</th>\n",
       "    </tr>\n",
       "  </thead>\n",
       "  <tbody>\n",
       "    <tr>\n",
       "      <th>11326</th>\n",
       "      <td>1534</td>\n",
       "      <td>6</td>\n",
       "      <td>3409.468534</td>\n",
       "      <td>2</td>\n",
       "      <td>26.0</td>\n",
       "      <td>free</td>\n",
       "      <td>8</td>\n",
       "      <td>50</td>\n",
       "      <td>0</td>\n",
       "      <td>308.0</td>\n",
       "    </tr>\n",
       "    <tr>\n",
       "      <th>11327</th>\n",
       "      <td>1534</td>\n",
       "      <td>8</td>\n",
       "      <td>7622.453034</td>\n",
       "      <td>2</td>\n",
       "      <td>48.0</td>\n",
       "      <td>free</td>\n",
       "      <td>8</td>\n",
       "      <td>50</td>\n",
       "      <td>0</td>\n",
       "      <td>484.0</td>\n",
       "    </tr>\n",
       "    <tr>\n",
       "      <th>11328</th>\n",
       "      <td>1534</td>\n",
       "      <td>9</td>\n",
       "      <td>4928.173852</td>\n",
       "      <td>1</td>\n",
       "      <td>23.0</td>\n",
       "      <td>free</td>\n",
       "      <td>8</td>\n",
       "      <td>50</td>\n",
       "      <td>0</td>\n",
       "      <td>234.0</td>\n",
       "    </tr>\n",
       "    <tr>\n",
       "      <th>11329</th>\n",
       "      <td>1534</td>\n",
       "      <td>11</td>\n",
       "      <td>13350.015305</td>\n",
       "      <td>4</td>\n",
       "      <td>78.0</td>\n",
       "      <td>free</td>\n",
       "      <td>8</td>\n",
       "      <td>50</td>\n",
       "      <td>0</td>\n",
       "      <td>824.0</td>\n",
       "    </tr>\n",
       "    <tr>\n",
       "      <th>11330</th>\n",
       "      <td>1534</td>\n",
       "      <td>12</td>\n",
       "      <td>2371.711192</td>\n",
       "      <td>1</td>\n",
       "      <td>16.0</td>\n",
       "      <td>free</td>\n",
       "      <td>8</td>\n",
       "      <td>50</td>\n",
       "      <td>0</td>\n",
       "      <td>178.0</td>\n",
       "    </tr>\n",
       "  </tbody>\n",
       "</table>\n",
       "</div>"
      ],
      "text/plain": [
       "       user_id  month_ride  rides_distance_sum  rides_count  \\\n",
       "11326     1534           6         3409.468534            2   \n",
       "11327     1534           8         7622.453034            2   \n",
       "11328     1534           9         4928.173852            1   \n",
       "11329     1534          11        13350.015305            4   \n",
       "11330     1534          12         2371.711192            1   \n",
       "\n",
       "       rides_duration_sum subscription_type  minute_price  start_ride_price  \\\n",
       "11326                26.0              free             8                50   \n",
       "11327                48.0              free             8                50   \n",
       "11328                23.0              free             8                50   \n",
       "11329                78.0              free             8                50   \n",
       "11330                16.0              free             8                50   \n",
       "\n",
       "       subscription_fee  revenue  \n",
       "11326                 0    308.0  \n",
       "11327                 0    484.0  \n",
       "11328                 0    234.0  \n",
       "11329                 0    824.0  \n",
       "11330                 0    178.0  "
      ]
     },
     "metadata": {},
     "output_type": "display_data"
    },
    {
     "name": "stdout",
     "output_type": "stream",
     "text": [
      "Общая выручка составила: 3878641.0\n"
     ]
    }
   ],
   "source": [
    "# let's add the revenue column\n",
    "def revenue(dataset):\n",
    "    revenue = 0\n",
    "    revenue = dataset['start_ride_price'] * dataset['rides_count'] +\\\n",
    "              dataset['minute_price'] * dataset['rides_duration_sum'] +\\\n",
    "              dataset['subscription_fee']\n",
    "    return revenue\n",
    "\n",
    "data_revenue['revenue'] = data_revenue.apply(revenue, axis=1)\n",
    "\n",
    "display(data_revenue.head(5))\n",
    "display(data_revenue.tail(5))\n",
    "\n",
    "print(f'Общая выручка составила: {data_revenue[\"revenue\"].sum()}')"
   ]
  },
  {
   "cell_type": "code",
   "execution_count": 23,
   "id": "acb95cc4",
   "metadata": {
    "scrolled": true
   },
   "outputs": [
    {
     "name": "stdout",
     "output_type": "stream",
     "text": [
      "Суммарная выручка по платным подписчкам(тариф ultra) составила: 1644537.0 руб.\n",
      "Суммарная выручка по бесплатным подписчкам(тариф free) составила: 2234104.0 руб.\n",
      "Среднемесячная выручка по пользователю тарифа ultra составила: 196.06 руб.\n",
      "Среднемесячная выручка по пользователю тарифа free составила: 222.96 руб.\n"
     ]
    }
   ],
   "source": [
    "# let's calculate total revenue by user groups\n",
    "revenue_ultra = data_revenue[data_revenue['subscription_type'] == 'ultra']['revenue'].sum()\n",
    "print(f'Total revenue from paid subscribers (ultra plan) was: {revenue_ultra} руб.')\n",
    "\n",
    "revenue_free = data_revenue[data_revenue['subscription_type'] == 'free']['revenue'].sum()\n",
    "print(f'Total revenue from free subscribers (free plan) was: {revenue_free} руб.')\n",
    "\n",
    "#check\n",
    "data_revenue['revenue'].sum()\n",
    "\n",
    "# and let's calculate the average revenue per user for each group\n",
    "users_ultra = data_revenue[data_revenue['subscription_type'] == 'ultra'].groupby('user_id')['user_id'].nunique().sum()\n",
    "users_free = data_revenue[data_revenue['subscription_type'] == 'free'].groupby('user_id')['user_id'].nunique().sum()\n",
    "\n",
    "#check\n",
    "#display(users_ultra)\n",
    "#display(users_free)\n",
    "#display(len(data_users))\n",
    "\n",
    "print(f'The average revenue per user for the ultra tariff was: {revenue_ultra/12/users_ultra:.2f} rub.')\n",
    "print(f'The average revenue per user for the free tariff was: {revenue_free/12/users_free:.2f} rub.')\n"
   ]
  },
  {
   "cell_type": "markdown",
   "id": "4df0f8a1-63d9-41c2-b53d-2e92f2979b2a",
   "metadata": {},
   "source": [
    "**Conclusion**\n",
    "\n",
    "Based on the calculations performed, data on monthly revenue from each user of the service was added to the table. The total revenue amounted to 3,878,641 rubles, broken down as follows:\n",
    "- Total revenue from paid subscriptions (ultra tariff) was: 1,644,537.0 rubles.\n",
    "- Total revenue from free subscriptions (free tariff) was: 2,234,104.0 rubles.\n",
    "- Average monthly revenue per user for the ultra tariff was: 196.06 rubles.\n",
    "- Average monthly revenue per user for the free tariff was: 222.96 rubles.\n"
   ]
  },
  {
   "cell_type": "markdown",
   "id": "41545ac0",
   "metadata": {},
   "source": [
    "## Hypothesis Testing"
   ]
  },
  {
   "cell_type": "markdown",
   "id": "666691e1-f2c5-4fa4-96c6-4f5e59364aba",
   "metadata": {},
   "source": [
    "Based on the obtained data, we will test several hypotheses proposed by colleagues, **starting with the question** of whether users with subscriptions spend more time on trips.\n",
    "In this case, the null hypothesis (H0) is that the average trip duration for subscription users in the sample `data_ultra` is equal to the average trip duration for non-subscription users in the sample `data_free`. The alternative hypothesis (H1) will be that the average trip duration for subscription users is greater than the average trip duration for non-subscription users.\n"
   ]
  },
  {
   "cell_type": "code",
   "execution_count": 25,
   "id": "2ec6b50c-42b9-4882-b6c7-2fd0847aa1f6",
   "metadata": {
    "scrolled": true
   },
   "outputs": [
    {
     "name": "stdout",
     "output_type": "stream",
     "text": [
      "Среднее время поездки пользователей с подпиской: 18.54198516280583\n",
      "Среднее время поездки пользователей без подписки: 17.39090929866399\n",
      "p-значение:  1.2804098316645618e-34\n",
      "Отвергаем нулевую гипотезу\n"
     ]
    }
   ],
   "source": [
    "# calculate the average trip duration for each sample\n",
    "print(f'Average trip duration for users with subscriptions: {np.mean(data_ultra[\"duration\"])}')\n",
    "print(f'Average trip duration for users without subscriptions: {np.mean(data_free[\"duration\"])}')\n",
    "\n",
    "# set the level of statistical significance\n",
    "alpha = 0.05\n",
    "\n",
    "results = st.ttest_ind(data_ultra[\"duration\"],data_free[\"duration\"], alternative = 'greater')\n",
    "print('p-значение: ', results.pvalue)\n",
    "\n",
    "if results.pvalue < alpha:\n",
    "    print('Reject the null hypothesis')\n",
    "else:\n",
    "    print('Failed to reject the null hypothesis')"
   ]
  },
  {
   "cell_type": "markdown",
   "id": "501d3763-0040-4bf9-8476-2abeefd1bb9b",
   "metadata": {},
   "source": [
    "We will test the **second hypothesis** that the average distance traveled by users with subscriptions in a single trip does not exceed 3,130 meters.\n",
    "In this case, the null hypothesis (H0) is that subscription users travel 3,130 meters. The alternative hypothesis (H1) is that subscription users travel a greater distance.\n"
   ]
  },
  {
   "cell_type": "code",
   "execution_count": 27,
   "id": "a24598ff-5184-4974-99e5-b1d46ad82ef3",
   "metadata": {},
   "outputs": [
    {
     "name": "stdout",
     "output_type": "stream",
     "text": [
      "p-значение:  0.9195368847849785\n",
      "Не получилось отвергнуть нулевую гипотезу\n"
     ]
    }
   ],
   "source": [
    "# set the level of statistical significance\n",
    "alpha = 0.05\n",
    "# fix the number against which we will compare the sample mean of subscribers\n",
    "value = 3130\n",
    "\n",
    "results = st.ttest_1samp(data_ultra[\"distance\"],value, alternative = 'greater')\n",
    "print('p-значение: ', results.pvalue)\n",
    "\n",
    "if results.pvalue < alpha:\n",
    "    print('Reject the null hypothesis')\n",
    "else:\n",
    "    print('Failed to reject the null hypothesis')"
   ]
  },
  {
   "cell_type": "markdown",
   "id": "bddc4829-316b-415e-90d2-0b3e45c60b35",
   "metadata": {},
   "source": [
    "We will test the **third hypothesis** that the monthly average revenue from users with subscriptions is higher than the monthly average revenue from users without subscriptions.\n",
    "In this case, the null hypothesis (H0) is that the monthly average revenue from users with subscriptions is equal to the monthly average revenue from users without subscriptions. The alternative hypothesis (H1) is that the monthly average revenue from users with subscriptions is higher.\n"
   ]
  },
  {
   "cell_type": "code",
   "execution_count": 28,
   "id": "a23e8ce2-b0b2-47b3-b441-8bb013873ee9",
   "metadata": {
    "scrolled": true
   },
   "outputs": [
    {
     "name": "stdout",
     "output_type": "stream",
     "text": [
      "Размерность исходной таблицы: (11331, 10)\n",
      "Размерность таблицы для тарифа ultra: (4533, 10)\n",
      "Размерность таблицы для тарифа free: (6798, 10)\n",
      "Среднемесячная выручка от пользователей с подпиской: 362.7921906022502\n",
      "Среднемесячная выручка от пользователей без подписки: 328.6413651073845\n",
      "p-значение:  1.8850394384715216e-31\n",
      "Отвергаем нулевую гипотезу\n"
     ]
    }
   ],
   "source": [
    "# Form two datasets for the free and ultra tariffs with monthly revenue per user\n",
    "data_revenue_ultra = data_revenue[data_revenue['subscription_type'] == 'ultra']\n",
    "data_revenue_free = data_revenue[data_revenue['subscription_type'] == 'free']\n",
    "\n",
    "# check the dimensions of the datasets after transformations\n",
    "print(f'Dimensions of the original table: {data_revenue.shape}')\n",
    "print(f'Dimensions of the table for ultra tariff: {data_revenue_ultra.shape}')\n",
    "print(f'Dimensions of the table for free tariff: {data_revenue_free.shape}')\n",
    "\n",
    "print(f'Monthly average revenue from users with subscriptions: {data_revenue_ultra[\"revenue\"].mean()}')\n",
    "print(f'Monthly average revenue from users without subscriptions: {data_revenue_free[\"revenue\"].mean()}')\n",
    "\n",
    "#зададим уровень статистической значимости\n",
    "alpha = 0.05\n",
    "\n",
    "results = st.ttest_ind(data_revenue_ultra['revenue'], data_revenue_free['revenue'], alternative = 'greater')\n",
    "print('p-значение: ', results.pvalue)\n",
    "\n",
    "if results.pvalue < alpha:\n",
    "    print('Reject the null hypothesis')\n",
    "else:\n",
    "    print('Failed to reject the null hypothesis')\n",
    "    "
   ]
  },
  {
   "cell_type": "markdown",
   "id": "4e143b53-9e01-46ea-a0e2-c29952522b8c",
   "metadata": {},
   "source": [
    "Consider the fourth hypothesis: suppose that the technical team of the service updated the servers with which the mobile application interacts. They hope that as a result, the number of support requests has significantly decreased. A file contains for each user data on the number of requests before and after the update. With such data, we could compare the average metrics for requests before and after the update using a **two-sample dependent t-test** (stat test st.ttest_rel() with alternative hypothesis parameter set to `greater`(right-tailed), since it checks that the first sample before server updates was larger than the second sample after changes). This is because the changes affect the same users with the same usage patterns."
   ]
  },
  {
   "cell_type": "markdown",
   "id": "47b7d6e2-edf2-4b71-8f18-c288c856195c",
   "metadata": {},
   "source": [
    "**Conclusion**\n",
    "\n",
    "After testing the **first hypothesis** about whether users with subscriptions spend more time on trips, we can reject the null hypothesis of equal mean values between both groups and conclude that users with subscriptions do indeed spend more time on trips.\n",
    "\n",
    "After testing the **second hypothesis** about whether users with subscriptions travel an average distance of 3,130 meters, we cannot rule out this version. It is quite possible that users with subscriptions travel such a distance or something close to it in one trip.\n",
    "\n",
    "After testing the **third hypothesis** about whether monthly revenue from subscription users exceeds that of non-subscription users, we can reject the null hypothesis and conclude that the alternative hypothesis stating that the average revenue from paid users exceeds that of free users cannot be rejected.\n",
    "\n",
    "For the **fourth hypothesis** on assessing the effectiveness of system support updates, it is suggested to use a two-sample dependent t-test (stat test st.ttest_rel() with an alternative hypothesis parameter set to greater(right-tailed)).\n",
    "\n",
    "After testing the first hypothesis, we cannot assume greater benefits from subscription users since more time spent traveling does not guarantee increased revenue (cost per minute and cost per trip start need to be considered). The second hypothesis confirmed that subscribers travel no more than optimal distance for a single trip. In such cases, additional wear and tear does not arise with higher revenue (due to subscriptions), making an increase in subscribers beneficial for the service. The third hypothesis also confirmed that paid subscribers can generally be more profitable users of the service from the perspective of average revenue.\n"
   ]
  },
  {
   "cell_type": "markdown",
   "id": "61213c5e",
   "metadata": {},
   "source": [
    "## Distributions"
   ]
  },
  {
   "cell_type": "markdown",
   "id": "88f4fda9-1d99-4cd2-bbe9-1e92e05aa1e0",
   "metadata": {},
   "source": [
    "### Conduct an analysis for the first additional task for the marketing department with the following conditions:\n",
    "\n",
    "The GoFast marketing department has been tasked with running a promotional campaign distributing promo codes for one free month of subscription, within which at least 100 existing customers should extend their subscription. That is, upon the expiration of the trial period, users can either decline or renew their subscription by making the corresponding payment.\n",
    "\n",
    "This promotion was conducted previously, and it was found that after a free trial period, only 10% of users extended their subscription. We need to determine the minimum number of promo codes that must be distributed so that the probability of failing to meet this goal is approximately 5%. The situation with distributing promo codes can be characterized by a binomial distribution (a sequence of Bernoulli trials for each user - whether they extend their subscription or not), so we will calculate probabilities and plot the distribution graph:"
   ]
  },
  {
   "cell_type": "markdown",
   "id": "e157d3c3-c0c6-4603-9e05-0699871321de",
   "metadata": {},
   "source": [
    "First, let's calculate the minimum number of promo codes that need to be distributed to meet the goal of 100 renewals with a failure probability of approximately 5%:"
   ]
  },
  {
   "cell_type": "code",
   "execution_count": 29,
   "id": "cf08ab6f-8639-46d9-ac17-20386074fd70",
   "metadata": {},
   "outputs": [
    {
     "name": "stdout",
     "output_type": "stream",
     "text": [
      "0.050523519907213814\n"
     ]
    }
   ],
   "source": [
    "# number of successes as specified by the task\n",
    "x = 100\n",
    "\n",
    "distr = st.binom(n=1171, p=0.1)\n",
    "\n",
    "# calculate the left tail probability from x\n",
    "result = distr.cdf(x)\n",
    "print(result)\n"
   ]
  },
  {
   "cell_type": "markdown",
   "id": "bc52edc1-5121-435c-a672-997f53190484",
   "metadata": {},
   "source": [
    "By trial and error, it was determined that a minimum of 1171 promo codes need to be distributed. Given this, we can plot the probability distribution graph:"
   ]
  },
  {
   "cell_type": "code",
   "execution_count": 30,
   "id": "f2427ed1",
   "metadata": {},
   "outputs": [
    {
     "name": "stderr",
     "output_type": "stream",
     "text": [
      "/var/folders/yf/tnhxwgts2035718d0nhj30rw0000gn/T/ipykernel_38117/722504843.py:11: FutureWarning: Setting an item of incompatible dtype is deprecated and will raise an error in a future version of pandas. Value '2.9089485766321054e-54' has dtype incompatible with int64, please explicitly cast to a compatible dtype first.\n",
      "  distr[k] = binom.pmf(k,n,p)\n"
     ]
    },
    {
     "data": {
      "image/png": "[encoded data removed]",
      "text/plain": [
       "<Figure size 1500x500 with 1 Axes>"
      ]
     },
     "metadata": {},
     "output_type": "display_data"
    }
   ],
   "source": [
    "# set the number of trials\n",
    "n = 1170\n",
    "\n",
    "# set the success probability based on previous campaigns - 10%\n",
    "p = 0.1\n",
    "\n",
    "distr = pd.Series(0)\n",
    "\n",
    "# calculate the probabilities of successes for all trials\n",
    "for k in range(0, n+1):\n",
    "    distr[k] = binom.pmf(k,n,p)\n",
    "\n",
    "# plot the distribution graph of the obtained probabilities\n",
    "plt.figure(figsize=[15, 5])\n",
    "plt.bar(range(0, n+1), distr);"
   ]
  },
  {
   "cell_type": "markdown",
   "id": "9e3a2f6d-d1b5-4b4f-9ef2-b33831f54884",
   "metadata": {},
   "source": [
    "### Conduct an analysis for the second additional task for the marketing department with the following conditions:"
   ]
  },
  {
   "cell_type": "markdown",
   "id": "4ff98a1d-4d7b-432d-88ca-04fadf0a8a12",
   "metadata": {},
   "source": [
    "The marketing department sends push notifications to customers in the mobile application. Customers may open or not open these notifications. It is known that approximately 40% of recipients open the notifications. The department plans to send out 11 million notifications. Using approximation, build an approximate distribution graph and estimate the probability that no more than 399,500 users will open the notification.\n",
    "\n",
    "Given a large number of users (Bernoulli trials) and a success probability of 40%, it is reasonable to apply the binomial distribution approximation with the normal distribution:"
   ]
  },
  {
   "cell_type": "code",
   "execution_count": 31,
   "id": "9d84bb17-a6b8-4957-8459-07c2d6de7520",
   "metadata": {},
   "outputs": [
    {
     "name": "stdout",
     "output_type": "stream",
     "text": [
      "Вероятность, что не более 399500 пользователей откроют письма: 15.4%\n"
     ]
    }
   ],
   "source": [
    "# set the initial data for the probability and number of trials\n",
    "n = 1000000\n",
    "p = 0.4\n",
    "\n",
    "# calculate the data for approximation with a normal distribution\n",
    "mu = n*p #матожидание\n",
    "sigma = (n*p*(1-p))**0.5 #стандартное отклонение\n",
    "\n",
    "# set the normal distribution with the calculated mean and standard deviation\n",
    "distr = st.norm(mu, sigma) \n",
    "\n",
    "# the value for which we want to find the probability\n",
    "x = 399500\n",
    "\n",
    "# calculate the probability of getting a value less than x\n",
    "result = distr.cdf(x)\n",
    "print(f'The probability that no more than {x} users will open the notifications: {result:.1%}')"
   ]
  },
  {
   "cell_type": "markdown",
   "id": "ac9aeeac-3d05-4d95-8b54-fff31aa2181a",
   "metadata": {},
   "source": [
    "Considering the obtained data, we can conclude that with a given probability of opening the notifications (40%) and 11 million attempts (the number of planned notifications to be sent), the probability that there will be fewer than 399,500 successes (i.e., this many or fewer users open the notification) is virtually zero."
   ]
  },
  {
   "cell_type": "code",
   "execution_count": 32,
   "id": "053ebb3c",
   "metadata": {},
   "outputs": [
    {
     "name": "stdout",
     "output_type": "stream",
     "text": [
      "Вероятность, что не более 399500 пользователей откроют письма: 15.4%\n"
     ]
    }
   ],
   "source": [
    "# Set the initial data for the probability and number of trials\n",
    "n = 1_000_000\n",
    "p = 0.4\n",
    "\n",
    "# calculate the data for approximation with a normal distribution\n",
    "mu = n*p #Матematical expectation\n",
    "sigma = (n*p*(1-p))**0.5 #standard deviation\n",
    "\n",
    "# set the normal distribution with the calculated mean and standard deviation\n",
    "distr = st.norm(mu, sigma) \n",
    "\n",
    "# the value for which we want to find the probability\n",
    "x = 399500\n",
    "\n",
    "# calculate the probability of getting a value less than x\n",
    "result = distr.cdf(x)\n",
    "print(f'The probability that no more than {x} users will open the notifications: {result:.1%}')\n"
   ]
  },
  {
   "cell_type": "markdown",
   "id": "77fe29ff-fdd5-4bb0-a633-2fe362726013",
   "metadata": {},
   "source": [
    "**Conclusion**\n",
    "\n",
    "During the analysis of the data, preliminary processing of the dataset was carried out by converting dates to the correct type and adding necessary columns for subsequent analysis. Duplicates were excluded.\n",
    "\n",
    "The exploratory analysis did not reveal critical issues regarding the structure of the data: the data is evenly distributed across all considered parameters. Additionally, we calculated that the average trip length was 3071 meters and lasted 18 minutes; the number of users without a subscription exceeds those with a subscription by approximately 15%. There are two peaks in trip lengths—720m and 3000m.\n",
    "\n",
    "Next, we combined the data into a single table and extracted two datasets for users with and without subscriptions. We calculated monthly revenue per user and found that the total revenue amounted to 3,878,641 rubles. For better comparison, here are the main parameters by key groups of users:\n",
    "\n",
    "- We earned 1,645,000 rubles from users with a subscription over a year compared to 2,234,000 rubles from users without a subscription.\n",
    "- On average, one user with a subscription generates 196 rubles per month versus 223 rubles for a non-subscriber.\n",
    "\n",
    "Based on the obtained and calculated data, we tested three proposed hypotheses:\n",
    "\n",
    "After testing **the first hypothesis** that subscribers spend more time in rides, we can reject the null hypothesis about equal mean values of time spent by both groups. Therefore, it is concluded that users with subscriptions indeed spend more time riding.\n",
    "\n",
    "Upon testing **the second hypothesis**, which states that on average users with a subscription travel 3130 meters per ride, we cannot exclude this version. It is quite possible that users with subscriptions travel approximately or close to this distance in one ride.\n",
    "\n",
    "After testing the **third hypothesis** stating that monthly revenue from subscribers exceeds revenue from non-subscribers, we can reject the null hypothesis and conclude that alternative hypotheses about higher average revenue for paying users cannot be rejected.\n",
    "\n",
    "Regarding the **fourth hypothesis**, it is recommended to use a two-sample t-test for dependent samples to assess its effectiveness, using `st.ttest_rel()` with the greater alternative hypothesis (one-tailed test).\n",
    "\n",
    "**Upon testing** the hypothesis about longer rides, we cannot assume greater revenue from subscribers because extended ride time does not guarantee increased revenue (cost per minute and trip start cost must be considered). We confirmed that paying subscribers travel no more than an optimal distance for one ride, which means there is no additional wear-and-tear with higher revenue due to subscription fees. Therefore, increasing the number of subscribers benefits the service. The third hypothesis also confirms that paying subscribers on average can be more profitable users from a revenue standpoint.\n",
    "\n",
    "Additionally, two extra tasks were considered for the marketing department:\n",
    "- With obtained data and constructed graph, it is concluded that at an individual success probability of 10% to achieve a gain of 100 new users with a failure probability of approximately 5%, one needs to distribute a minimum of 1171 promo codes.\n",
    "- Given the high probability of individual success (40%) and 11 million planned notifications, the probability that fewer than 399,500 notifications are opened (that is, this many or fewer users will open it) is virtually zero.\n",
    "\n",
    "This comprehensive analysis provides valuable insights into user behavior and subscription benefits for future marketing strategies."
   ]
  }
 ],
 "metadata": {
  "ExecuteTimeLog": [
   {
    "duration": 1026,
    "start_time": "2024-04-14T23:16:41.939Z"
   },
   {
    "duration": 309,
    "start_time": "2024-04-14T23:16:42.967Z"
   },
   {
    "duration": 24,
    "start_time": "2024-04-14T23:16:43.278Z"
   },
   {
    "duration": 17,
    "start_time": "2024-04-14T23:16:43.303Z"
   },
   {
    "duration": 16,
    "start_time": "2024-04-14T23:16:43.323Z"
   },
   {
    "duration": 40,
    "start_time": "2024-04-14T23:16:43.340Z"
   },
   {
    "duration": 397,
    "start_time": "2024-04-14T23:16:43.382Z"
   },
   {
    "duration": 112,
    "start_time": "2024-04-14T23:16:43.780Z"
   },
   {
    "duration": 170,
    "start_time": "2024-04-14T23:16:43.893Z"
   },
   {
    "duration": 237,
    "start_time": "2024-04-14T23:16:44.064Z"
   },
   {
    "duration": 222,
    "start_time": "2024-04-14T23:16:44.303Z"
   },
   {
    "duration": 26,
    "start_time": "2024-04-14T23:16:44.527Z"
   },
   {
    "duration": 26,
    "start_time": "2024-04-14T23:16:44.554Z"
   },
   {
    "duration": 359,
    "start_time": "2024-04-14T23:16:44.583Z"
   },
   {
    "duration": 295,
    "start_time": "2024-04-14T23:16:44.943Z"
   },
   {
    "duration": 26,
    "start_time": "2024-04-14T23:16:45.240Z"
   },
   {
    "duration": 61,
    "start_time": "2024-04-14T23:16:45.267Z"
   },
   {
    "duration": 6,
    "start_time": "2024-04-14T23:16:45.329Z"
   },
   {
    "duration": 21,
    "start_time": "2024-04-14T23:16:45.337Z"
   },
   {
    "duration": 30,
    "start_time": "2024-04-14T23:16:45.359Z"
   },
   {
    "duration": 1549,
    "start_time": "2024-04-14T23:16:45.391Z"
   },
   {
    "duration": 0,
    "start_time": "2024-04-14T23:16:46.942Z"
   },
   {
    "duration": 0,
    "start_time": "2024-04-14T23:16:46.944Z"
   },
   {
    "duration": 1525,
    "start_time": "2024-04-14T23:41:22.372Z"
   },
   {
    "duration": 1460,
    "start_time": "2024-04-14T23:41:40.659Z"
   },
   {
    "duration": 1543,
    "start_time": "2024-04-14T23:41:54.547Z"
   },
   {
    "duration": 4,
    "start_time": "2024-04-14T23:42:26.148Z"
   },
   {
    "duration": 6,
    "start_time": "2024-04-14T23:42:31.580Z"
   },
   {
    "duration": 1422,
    "start_time": "2024-04-14T23:42:46.229Z"
   },
   {
    "duration": 4,
    "start_time": "2024-04-14T23:43:17.870Z"
   },
   {
    "duration": 4,
    "start_time": "2024-04-14T23:43:22.078Z"
   },
   {
    "duration": 1527,
    "start_time": "2024-04-14T23:44:45.033Z"
   },
   {
    "duration": 2,
    "start_time": "2024-04-14T23:45:23.388Z"
   },
   {
    "duration": 3,
    "start_time": "2024-04-14T23:45:27.442Z"
   },
   {
    "duration": 5,
    "start_time": "2024-04-14T23:45:29.090Z"
   },
   {
    "duration": 5,
    "start_time": "2024-04-14T23:45:33.219Z"
   },
   {
    "duration": 6,
    "start_time": "2024-04-14T23:47:08.846Z"
   },
   {
    "duration": 5,
    "start_time": "2024-04-14T23:47:35.304Z"
   },
   {
    "duration": 6,
    "start_time": "2024-04-14T23:47:38.775Z"
   },
   {
    "duration": 9,
    "start_time": "2024-04-15T00:10:46.107Z"
   },
   {
    "duration": 5,
    "start_time": "2024-04-15T00:17:40.642Z"
   },
   {
    "duration": 4,
    "start_time": "2024-04-15T00:19:00.775Z"
   },
   {
    "duration": 4,
    "start_time": "2024-04-15T00:19:03.102Z"
   },
   {
    "duration": 19,
    "start_time": "2024-04-15T00:22:23.758Z"
   },
   {
    "duration": 6,
    "start_time": "2024-04-15T00:22:46.430Z"
   },
   {
    "duration": 5,
    "start_time": "2024-04-15T00:22:57.702Z"
   },
   {
    "duration": 1112,
    "start_time": "2024-04-15T00:28:07.326Z"
   },
   {
    "duration": 89,
    "start_time": "2024-04-15T00:28:08.440Z"
   },
   {
    "duration": 24,
    "start_time": "2024-04-15T00:28:08.530Z"
   },
   {
    "duration": 17,
    "start_time": "2024-04-15T00:28:08.557Z"
   },
   {
    "duration": 17,
    "start_time": "2024-04-15T00:28:08.576Z"
   },
   {
    "duration": 7,
    "start_time": "2024-04-15T00:28:08.595Z"
   },
   {
    "duration": 405,
    "start_time": "2024-04-15T00:28:08.604Z"
   },
   {
    "duration": 112,
    "start_time": "2024-04-15T00:28:09.011Z"
   },
   {
    "duration": 176,
    "start_time": "2024-04-15T00:28:09.125Z"
   },
   {
    "duration": 234,
    "start_time": "2024-04-15T00:28:09.303Z"
   },
   {
    "duration": 234,
    "start_time": "2024-04-15T00:28:09.539Z"
   },
   {
    "duration": 31,
    "start_time": "2024-04-15T00:28:09.774Z"
   },
   {
    "duration": 10,
    "start_time": "2024-04-15T00:28:09.807Z"
   },
   {
    "duration": 342,
    "start_time": "2024-04-15T00:28:09.819Z"
   },
   {
    "duration": 271,
    "start_time": "2024-04-15T00:28:10.163Z"
   },
   {
    "duration": 27,
    "start_time": "2024-04-15T00:28:10.435Z"
   },
   {
    "duration": 54,
    "start_time": "2024-04-15T00:28:10.464Z"
   },
   {
    "duration": 4,
    "start_time": "2024-04-15T00:28:10.520Z"
   },
   {
    "duration": 22,
    "start_time": "2024-04-15T00:28:10.526Z"
   },
   {
    "duration": 7,
    "start_time": "2024-04-15T00:28:10.550Z"
   },
   {
    "duration": 31,
    "start_time": "2024-04-15T00:28:10.559Z"
   },
   {
    "duration": 6,
    "start_time": "2024-04-15T00:28:10.592Z"
   },
   {
    "duration": 9,
    "start_time": "2024-04-15T00:28:10.599Z"
   },
   {
    "duration": 15,
    "start_time": "2024-04-15T00:28:10.610Z"
   },
   {
    "duration": 7,
    "start_time": "2024-04-15T00:28:10.626Z"
   },
   {
    "duration": 6,
    "start_time": "2024-04-15T00:28:10.635Z"
   },
   {
    "duration": 5,
    "start_time": "2024-04-15T00:28:10.644Z"
   },
   {
    "duration": 57,
    "start_time": "2024-04-15T13:35:57.129Z"
   },
   {
    "duration": 1374,
    "start_time": "2024-04-15T13:36:18.075Z"
   },
   {
    "duration": 349,
    "start_time": "2024-04-15T13:36:19.451Z"
   },
   {
    "duration": 0,
    "start_time": "2024-04-15T13:36:19.802Z"
   },
   {
    "duration": 0,
    "start_time": "2024-04-15T13:36:19.803Z"
   },
   {
    "duration": 0,
    "start_time": "2024-04-15T13:36:19.805Z"
   },
   {
    "duration": 0,
    "start_time": "2024-04-15T13:36:19.805Z"
   },
   {
    "duration": 0,
    "start_time": "2024-04-15T13:36:19.807Z"
   },
   {
    "duration": 0,
    "start_time": "2024-04-15T13:36:19.808Z"
   },
   {
    "duration": 0,
    "start_time": "2024-04-15T13:36:19.809Z"
   },
   {
    "duration": 0,
    "start_time": "2024-04-15T13:36:19.810Z"
   },
   {
    "duration": 0,
    "start_time": "2024-04-15T13:36:19.811Z"
   },
   {
    "duration": 0,
    "start_time": "2024-04-15T13:36:19.813Z"
   },
   {
    "duration": 0,
    "start_time": "2024-04-15T13:36:19.814Z"
   },
   {
    "duration": 0,
    "start_time": "2024-04-15T13:36:19.815Z"
   },
   {
    "duration": 0,
    "start_time": "2024-04-15T13:36:19.816Z"
   },
   {
    "duration": 0,
    "start_time": "2024-04-15T13:36:19.817Z"
   },
   {
    "duration": 0,
    "start_time": "2024-04-15T13:36:19.819Z"
   },
   {
    "duration": 0,
    "start_time": "2024-04-15T13:36:19.820Z"
   },
   {
    "duration": 0,
    "start_time": "2024-04-15T13:36:19.821Z"
   },
   {
    "duration": 0,
    "start_time": "2024-04-15T13:36:19.822Z"
   },
   {
    "duration": 0,
    "start_time": "2024-04-15T13:36:19.823Z"
   },
   {
    "duration": 0,
    "start_time": "2024-04-15T13:36:19.856Z"
   },
   {
    "duration": 0,
    "start_time": "2024-04-15T13:36:19.857Z"
   },
   {
    "duration": 0,
    "start_time": "2024-04-15T13:36:19.858Z"
   },
   {
    "duration": 0,
    "start_time": "2024-04-15T13:36:19.860Z"
   },
   {
    "duration": 0,
    "start_time": "2024-04-15T13:36:19.861Z"
   },
   {
    "duration": 0,
    "start_time": "2024-04-15T13:36:19.862Z"
   },
   {
    "duration": 166,
    "start_time": "2024-04-15T13:37:55.370Z"
   },
   {
    "duration": 116,
    "start_time": "2024-04-15T13:44:50.904Z"
   },
   {
    "duration": 133,
    "start_time": "2024-04-15T13:45:43.978Z"
   },
   {
    "duration": 98,
    "start_time": "2024-04-15T13:46:02.026Z"
   },
   {
    "duration": 138,
    "start_time": "2024-04-15T13:46:24.126Z"
   },
   {
    "duration": 120,
    "start_time": "2024-04-15T13:49:06.979Z"
   },
   {
    "duration": 118,
    "start_time": "2024-04-15T13:50:12.544Z"
   },
   {
    "duration": 101,
    "start_time": "2024-04-15T13:50:43.499Z"
   },
   {
    "duration": 100,
    "start_time": "2024-04-15T13:50:54.014Z"
   },
   {
    "duration": 117,
    "start_time": "2024-04-15T13:51:07.733Z"
   },
   {
    "duration": 100,
    "start_time": "2024-04-15T13:51:20.647Z"
   },
   {
    "duration": 95,
    "start_time": "2024-04-15T13:52:32.644Z"
   },
   {
    "duration": 107,
    "start_time": "2024-04-15T13:52:48.407Z"
   },
   {
    "duration": 116,
    "start_time": "2024-04-15T13:53:10.702Z"
   },
   {
    "duration": 105,
    "start_time": "2024-04-15T13:53:25.646Z"
   },
   {
    "duration": 106,
    "start_time": "2024-04-15T13:53:48.924Z"
   },
   {
    "duration": 127,
    "start_time": "2024-04-15T13:54:08.840Z"
   },
   {
    "duration": 121,
    "start_time": "2024-04-15T13:54:36.734Z"
   },
   {
    "duration": 127,
    "start_time": "2024-04-15T13:55:03.272Z"
   },
   {
    "duration": 127,
    "start_time": "2024-04-15T13:55:15.042Z"
   },
   {
    "duration": 12,
    "start_time": "2024-04-15T15:00:44.177Z"
   },
   {
    "duration": 9,
    "start_time": "2024-04-15T15:00:54.035Z"
   },
   {
    "duration": 5,
    "start_time": "2024-04-15T15:01:23.076Z"
   },
   {
    "duration": 5,
    "start_time": "2024-04-15T15:01:49.113Z"
   },
   {
    "duration": 6,
    "start_time": "2024-04-15T15:02:25.849Z"
   },
   {
    "duration": 7,
    "start_time": "2024-04-15T15:02:40.503Z"
   },
   {
    "duration": 86,
    "start_time": "2024-04-15T15:03:42.939Z"
   },
   {
    "duration": 77,
    "start_time": "2024-04-15T15:03:55.499Z"
   },
   {
    "duration": 8,
    "start_time": "2024-04-15T15:04:40.022Z"
   },
   {
    "duration": 82,
    "start_time": "2024-04-15T15:05:21.203Z"
   },
   {
    "duration": 82,
    "start_time": "2024-04-15T15:05:32.918Z"
   },
   {
    "duration": 11,
    "start_time": "2024-04-15T15:05:47.210Z"
   },
   {
    "duration": 1116,
    "start_time": "2024-04-15T15:12:12.614Z"
   },
   {
    "duration": 113,
    "start_time": "2024-04-15T15:12:13.732Z"
   },
   {
    "duration": 11,
    "start_time": "2024-04-15T15:12:13.847Z"
   },
   {
    "duration": 26,
    "start_time": "2024-04-15T15:12:13.861Z"
   },
   {
    "duration": 9,
    "start_time": "2024-04-15T15:12:13.889Z"
   },
   {
    "duration": 12,
    "start_time": "2024-04-15T15:12:13.899Z"
   },
   {
    "duration": 416,
    "start_time": "2024-04-15T15:12:13.913Z"
   },
   {
    "duration": 138,
    "start_time": "2024-04-15T15:12:14.331Z"
   },
   {
    "duration": 182,
    "start_time": "2024-04-15T15:12:14.471Z"
   },
   {
    "duration": 246,
    "start_time": "2024-04-15T15:12:14.658Z"
   },
   {
    "duration": 251,
    "start_time": "2024-04-15T15:12:14.905Z"
   },
   {
    "duration": 28,
    "start_time": "2024-04-15T15:12:15.158Z"
   },
   {
    "duration": 46,
    "start_time": "2024-04-15T15:12:15.187Z"
   },
   {
    "duration": 340,
    "start_time": "2024-04-15T15:12:15.235Z"
   },
   {
    "duration": 301,
    "start_time": "2024-04-15T15:12:15.576Z"
   },
   {
    "duration": 26,
    "start_time": "2024-04-15T15:12:15.879Z"
   },
   {
    "duration": 30,
    "start_time": "2024-04-15T15:12:15.907Z"
   },
   {
    "duration": 4,
    "start_time": "2024-04-15T15:12:15.956Z"
   },
   {
    "duration": 13,
    "start_time": "2024-04-15T15:12:15.961Z"
   },
   {
    "duration": 8,
    "start_time": "2024-04-15T15:12:15.975Z"
   },
   {
    "duration": 37,
    "start_time": "2024-04-15T15:12:15.985Z"
   },
   {
    "duration": 10,
    "start_time": "2024-04-15T15:12:16.023Z"
   },
   {
    "duration": 8,
    "start_time": "2024-04-15T15:12:16.035Z"
   },
   {
    "duration": 13,
    "start_time": "2024-04-15T15:12:16.045Z"
   },
   {
    "duration": 9,
    "start_time": "2024-04-15T15:12:16.059Z"
   },
   {
    "duration": 14,
    "start_time": "2024-04-15T15:12:16.069Z"
   },
   {
    "duration": 6,
    "start_time": "2024-04-15T15:12:16.085Z"
   },
   {
    "duration": 408,
    "start_time": "2024-04-15T15:14:56.905Z"
   },
   {
    "duration": 399,
    "start_time": "2024-04-15T15:17:50.666Z"
   },
   {
    "duration": 389,
    "start_time": "2024-04-15T15:18:17.293Z"
   },
   {
    "duration": 475,
    "start_time": "2024-04-15T15:20:17.265Z"
   },
   {
    "duration": 411,
    "start_time": "2024-04-15T15:20:32.612Z"
   },
   {
    "duration": 439,
    "start_time": "2024-04-15T15:20:44.333Z"
   },
   {
    "duration": 401,
    "start_time": "2024-04-15T15:21:30.020Z"
   },
   {
    "duration": 369,
    "start_time": "2024-04-15T15:21:57.981Z"
   },
   {
    "duration": 376,
    "start_time": "2024-04-15T15:22:21.654Z"
   },
   {
    "duration": 486,
    "start_time": "2024-04-15T15:23:31.064Z"
   },
   {
    "duration": 102,
    "start_time": "2024-04-15T15:23:56.269Z"
   },
   {
    "duration": 375,
    "start_time": "2024-04-15T15:24:03.074Z"
   },
   {
    "duration": 83,
    "start_time": "2024-04-15T15:24:25.186Z"
   },
   {
    "duration": 83,
    "start_time": "2024-04-15T15:24:37.615Z"
   },
   {
    "duration": 404,
    "start_time": "2024-04-15T15:24:54.298Z"
   },
   {
    "duration": 86,
    "start_time": "2024-04-15T15:26:34.878Z"
   },
   {
    "duration": 354,
    "start_time": "2024-04-15T15:26:40.502Z"
   },
   {
    "duration": 189,
    "start_time": "2024-04-15T15:30:26.266Z"
   },
   {
    "duration": 89,
    "start_time": "2024-04-15T15:33:23.000Z"
   },
   {
    "duration": 94,
    "start_time": "2024-04-15T15:33:30.083Z"
   },
   {
    "duration": 454,
    "start_time": "2024-04-15T15:33:41.516Z"
   },
   {
    "duration": 377,
    "start_time": "2024-04-15T15:33:57.326Z"
   },
   {
    "duration": 386,
    "start_time": "2024-04-15T15:34:13.426Z"
   },
   {
    "duration": 360,
    "start_time": "2024-04-15T15:34:59.842Z"
   },
   {
    "duration": 368,
    "start_time": "2024-04-15T15:35:07.424Z"
   },
   {
    "duration": 366,
    "start_time": "2024-04-15T15:35:40.804Z"
   },
   {
    "duration": 455,
    "start_time": "2024-04-15T15:37:33.807Z"
   },
   {
    "duration": 370,
    "start_time": "2024-04-15T15:37:45.776Z"
   },
   {
    "duration": 332,
    "start_time": "2024-04-15T15:38:13.775Z"
   },
   {
    "duration": 374,
    "start_time": "2024-04-15T15:38:48.977Z"
   },
   {
    "duration": 357,
    "start_time": "2024-04-15T15:39:03.085Z"
   },
   {
    "duration": 432,
    "start_time": "2024-04-15T15:39:14.483Z"
   },
   {
    "duration": 370,
    "start_time": "2024-04-15T15:40:04.857Z"
   },
   {
    "duration": 367,
    "start_time": "2024-04-15T15:40:29.613Z"
   },
   {
    "duration": 107,
    "start_time": "2024-04-15T15:41:03.119Z"
   },
   {
    "duration": 109,
    "start_time": "2024-04-15T15:44:25.066Z"
   },
   {
    "duration": 101,
    "start_time": "2024-04-15T15:47:45.285Z"
   },
   {
    "duration": 109,
    "start_time": "2024-04-15T15:52:48.058Z"
   },
   {
    "duration": 100,
    "start_time": "2024-04-15T15:52:54.592Z"
   },
   {
    "duration": 97,
    "start_time": "2024-04-15T15:53:04.469Z"
   },
   {
    "duration": 1137,
    "start_time": "2024-04-15T15:53:21.040Z"
   },
   {
    "duration": 113,
    "start_time": "2024-04-15T15:53:22.179Z"
   },
   {
    "duration": 11,
    "start_time": "2024-04-15T15:53:22.294Z"
   },
   {
    "duration": 25,
    "start_time": "2024-04-15T15:53:22.307Z"
   },
   {
    "duration": 33,
    "start_time": "2024-04-15T15:53:22.333Z"
   },
   {
    "duration": 19,
    "start_time": "2024-04-15T15:53:22.368Z"
   },
   {
    "duration": 418,
    "start_time": "2024-04-15T15:53:22.389Z"
   },
   {
    "duration": 110,
    "start_time": "2024-04-15T15:53:22.809Z"
   },
   {
    "duration": 172,
    "start_time": "2024-04-15T15:53:22.921Z"
   },
   {
    "duration": 256,
    "start_time": "2024-04-15T15:53:23.096Z"
   },
   {
    "duration": 245,
    "start_time": "2024-04-15T15:53:23.355Z"
   },
   {
    "duration": 27,
    "start_time": "2024-04-15T15:53:23.601Z"
   },
   {
    "duration": 9,
    "start_time": "2024-04-15T15:53:23.630Z"
   },
   {
    "duration": 373,
    "start_time": "2024-04-15T15:53:23.640Z"
   },
   {
    "duration": 273,
    "start_time": "2024-04-15T15:53:24.015Z"
   },
   {
    "duration": 29,
    "start_time": "2024-04-15T15:53:24.290Z"
   },
   {
    "duration": 50,
    "start_time": "2024-04-15T15:53:24.320Z"
   },
   {
    "duration": 5,
    "start_time": "2024-04-15T15:53:24.372Z"
   },
   {
    "duration": 8,
    "start_time": "2024-04-15T15:53:24.379Z"
   },
   {
    "duration": 9,
    "start_time": "2024-04-15T15:53:24.389Z"
   },
   {
    "duration": 20,
    "start_time": "2024-04-15T15:53:24.400Z"
   },
   {
    "duration": 37,
    "start_time": "2024-04-15T15:53:24.421Z"
   },
   {
    "duration": 8,
    "start_time": "2024-04-15T15:53:24.460Z"
   },
   {
    "duration": 8,
    "start_time": "2024-04-15T15:53:24.470Z"
   },
   {
    "duration": 9,
    "start_time": "2024-04-15T15:53:24.479Z"
   },
   {
    "duration": 12,
    "start_time": "2024-04-15T15:53:24.490Z"
   },
   {
    "duration": 6,
    "start_time": "2024-04-15T15:53:24.504Z"
   },
   {
    "duration": 99,
    "start_time": "2024-04-15T15:53:35.229Z"
   },
   {
    "duration": 98,
    "start_time": "2024-04-15T15:53:42.991Z"
   },
   {
    "duration": 75,
    "start_time": "2024-04-15T15:54:04.958Z"
   },
   {
    "duration": 76,
    "start_time": "2024-04-15T15:54:28.022Z"
   },
   {
    "duration": 73,
    "start_time": "2024-04-15T15:54:42.139Z"
   },
   {
    "duration": 87,
    "start_time": "2024-04-15T15:54:54.350Z"
   },
   {
    "duration": 72,
    "start_time": "2024-04-15T15:55:17.669Z"
   },
   {
    "duration": 143,
    "start_time": "2024-04-15T15:55:25.862Z"
   },
   {
    "duration": 1115,
    "start_time": "2024-04-15T15:55:31.322Z"
   },
   {
    "duration": 111,
    "start_time": "2024-04-15T15:55:32.439Z"
   },
   {
    "duration": 11,
    "start_time": "2024-04-15T15:55:32.552Z"
   },
   {
    "duration": 84,
    "start_time": "2024-04-15T15:55:32.565Z"
   },
   {
    "duration": 79,
    "start_time": "2024-04-15T15:55:32.651Z"
   },
   {
    "duration": 56,
    "start_time": "2024-04-15T15:55:32.732Z"
   },
   {
    "duration": 413,
    "start_time": "2024-04-15T15:55:32.789Z"
   },
   {
    "duration": 85,
    "start_time": "2024-04-15T15:55:33.204Z"
   },
   {
    "duration": 179,
    "start_time": "2024-04-15T15:55:33.291Z"
   },
   {
    "duration": 243,
    "start_time": "2024-04-15T15:55:33.473Z"
   },
   {
    "duration": 256,
    "start_time": "2024-04-15T15:55:33.718Z"
   },
   {
    "duration": 29,
    "start_time": "2024-04-15T15:55:33.977Z"
   },
   {
    "duration": 12,
    "start_time": "2024-04-15T15:55:34.008Z"
   },
   {
    "duration": 389,
    "start_time": "2024-04-15T15:55:34.022Z"
   },
   {
    "duration": 280,
    "start_time": "2024-04-15T15:55:34.412Z"
   },
   {
    "duration": 26,
    "start_time": "2024-04-15T15:55:34.694Z"
   },
   {
    "duration": 43,
    "start_time": "2024-04-15T15:55:34.722Z"
   },
   {
    "duration": 3,
    "start_time": "2024-04-15T15:55:34.767Z"
   },
   {
    "duration": 6,
    "start_time": "2024-04-15T15:55:34.773Z"
   },
   {
    "duration": 8,
    "start_time": "2024-04-15T15:55:34.781Z"
   },
   {
    "duration": 19,
    "start_time": "2024-04-15T15:55:34.790Z"
   },
   {
    "duration": 6,
    "start_time": "2024-04-15T15:55:34.810Z"
   },
   {
    "duration": 12,
    "start_time": "2024-04-15T15:55:34.817Z"
   },
   {
    "duration": 3,
    "start_time": "2024-04-15T15:55:34.856Z"
   },
   {
    "duration": 11,
    "start_time": "2024-04-15T15:55:34.860Z"
   },
   {
    "duration": 9,
    "start_time": "2024-04-15T15:55:34.873Z"
   },
   {
    "duration": 14,
    "start_time": "2024-04-15T15:55:34.884Z"
   },
   {
    "duration": 111,
    "start_time": "2024-04-15T16:02:33.856Z"
   },
   {
    "duration": 93,
    "start_time": "2024-04-15T16:02:52.315Z"
   },
   {
    "duration": 73,
    "start_time": "2024-04-15T16:03:01.985Z"
   },
   {
    "duration": 163,
    "start_time": "2024-04-15T16:04:42.191Z"
   },
   {
    "duration": 97,
    "start_time": "2024-04-15T16:07:32.679Z"
   },
   {
    "duration": 83,
    "start_time": "2024-04-15T16:07:44.791Z"
   },
   {
    "duration": 141,
    "start_time": "2024-04-15T16:08:02.735Z"
   },
   {
    "duration": 135,
    "start_time": "2024-04-15T16:08:44.220Z"
   },
   {
    "duration": 130,
    "start_time": "2024-04-15T16:08:59.065Z"
   },
   {
    "duration": 220,
    "start_time": "2024-04-15T16:10:47.645Z"
   },
   {
    "duration": 10,
    "start_time": "2024-04-15T16:11:20.273Z"
   },
   {
    "duration": 127,
    "start_time": "2024-04-15T16:12:31.972Z"
   },
   {
    "duration": 142,
    "start_time": "2024-04-15T16:13:01.309Z"
   },
   {
    "duration": 134,
    "start_time": "2024-04-15T16:17:50.212Z"
   },
   {
    "duration": 145,
    "start_time": "2024-04-15T16:17:58.630Z"
   },
   {
    "duration": 148,
    "start_time": "2024-04-15T16:18:30.452Z"
   },
   {
    "duration": 169,
    "start_time": "2024-04-15T16:22:32.229Z"
   },
   {
    "duration": 182,
    "start_time": "2024-04-15T16:23:41.912Z"
   },
   {
    "duration": 166,
    "start_time": "2024-04-15T16:24:20.399Z"
   },
   {
    "duration": 179,
    "start_time": "2024-04-15T16:25:26.896Z"
   },
   {
    "duration": 170,
    "start_time": "2024-04-15T16:25:39.603Z"
   },
   {
    "duration": 101,
    "start_time": "2024-04-15T16:28:36.001Z"
   },
   {
    "duration": 318,
    "start_time": "2024-04-15T16:28:42.551Z"
   },
   {
    "duration": 286,
    "start_time": "2024-04-15T16:28:54.193Z"
   },
   {
    "duration": 9,
    "start_time": "2024-04-15T16:32:59.767Z"
   },
   {
    "duration": 4,
    "start_time": "2024-04-15T16:34:54.027Z"
   },
   {
    "duration": 11,
    "start_time": "2024-04-15T16:35:05.433Z"
   },
   {
    "duration": 13,
    "start_time": "2024-04-15T16:36:15.707Z"
   },
   {
    "duration": 11,
    "start_time": "2024-04-15T16:39:56.374Z"
   },
   {
    "duration": 10,
    "start_time": "2024-04-15T16:40:04.027Z"
   },
   {
    "duration": 7,
    "start_time": "2024-04-15T16:40:14.053Z"
   },
   {
    "duration": 8,
    "start_time": "2024-04-15T16:40:27.054Z"
   },
   {
    "duration": 21,
    "start_time": "2024-04-15T16:41:39.267Z"
   },
   {
    "duration": 30,
    "start_time": "2024-04-15T16:42:00.009Z"
   },
   {
    "duration": 30,
    "start_time": "2024-04-15T16:42:10.354Z"
   },
   {
    "duration": 1190,
    "start_time": "2024-04-15T16:43:39.843Z"
   },
   {
    "duration": 109,
    "start_time": "2024-04-15T16:43:41.035Z"
   },
   {
    "duration": 11,
    "start_time": "2024-04-15T16:43:41.145Z"
   },
   {
    "duration": 17,
    "start_time": "2024-04-15T16:43:41.158Z"
   },
   {
    "duration": 4,
    "start_time": "2024-04-15T16:43:41.176Z"
   },
   {
    "duration": 10,
    "start_time": "2024-04-15T16:43:41.182Z"
   },
   {
    "duration": 400,
    "start_time": "2024-04-15T16:43:41.193Z"
   },
   {
    "duration": 149,
    "start_time": "2024-04-15T16:43:41.595Z"
   },
   {
    "duration": 188,
    "start_time": "2024-04-15T16:43:41.746Z"
   },
   {
    "duration": 241,
    "start_time": "2024-04-15T16:43:41.937Z"
   },
   {
    "duration": 25,
    "start_time": "2024-04-15T16:43:42.180Z"
   },
   {
    "duration": 250,
    "start_time": "2024-04-15T16:43:42.207Z"
   },
   {
    "duration": 27,
    "start_time": "2024-04-15T16:43:42.458Z"
   },
   {
    "duration": 10,
    "start_time": "2024-04-15T16:43:42.487Z"
   },
   {
    "duration": 348,
    "start_time": "2024-04-15T16:43:42.498Z"
   },
   {
    "duration": 294,
    "start_time": "2024-04-15T16:43:42.848Z"
   },
   {
    "duration": 32,
    "start_time": "2024-04-15T16:43:43.144Z"
   },
   {
    "duration": 45,
    "start_time": "2024-04-15T16:43:43.177Z"
   },
   {
    "duration": 4,
    "start_time": "2024-04-15T16:43:43.224Z"
   },
   {
    "duration": 33,
    "start_time": "2024-04-15T16:43:43.229Z"
   },
   {
    "duration": 31,
    "start_time": "2024-04-15T16:43:43.263Z"
   },
   {
    "duration": 31,
    "start_time": "2024-04-15T16:43:43.296Z"
   },
   {
    "duration": 8,
    "start_time": "2024-04-15T16:43:43.328Z"
   },
   {
    "duration": 8,
    "start_time": "2024-04-15T16:43:43.338Z"
   },
   {
    "duration": 24,
    "start_time": "2024-04-15T16:43:43.348Z"
   },
   {
    "duration": 23,
    "start_time": "2024-04-15T16:43:43.374Z"
   },
   {
    "duration": 22,
    "start_time": "2024-04-15T16:43:43.398Z"
   },
   {
    "duration": 16,
    "start_time": "2024-04-15T16:43:43.423Z"
   },
   {
    "duration": 23,
    "start_time": "2024-04-15T16:44:08.489Z"
   },
   {
    "duration": 10,
    "start_time": "2024-04-15T16:45:40.492Z"
   },
   {
    "duration": 17,
    "start_time": "2024-04-15T16:46:48.066Z"
   },
   {
    "duration": 10,
    "start_time": "2024-04-15T16:49:22.167Z"
   },
   {
    "duration": 139,
    "start_time": "2024-04-15T16:49:44.631Z"
   },
   {
    "duration": 618,
    "start_time": "2024-04-15T16:50:09.312Z"
   },
   {
    "duration": 520,
    "start_time": "2024-04-15T16:50:22.732Z"
   },
   {
    "duration": 609,
    "start_time": "2024-04-15T16:51:00.808Z"
   },
   {
    "duration": 561,
    "start_time": "2024-04-15T16:51:11.649Z"
   },
   {
    "duration": 924,
    "start_time": "2024-04-15T16:52:06.305Z"
   },
   {
    "duration": 975,
    "start_time": "2024-04-15T16:52:20.701Z"
   },
   {
    "duration": 861,
    "start_time": "2024-04-15T16:57:16.976Z"
   },
   {
    "duration": 899,
    "start_time": "2024-04-15T16:57:35.274Z"
   },
   {
    "duration": 1017,
    "start_time": "2024-04-15T16:58:43.825Z"
   },
   {
    "duration": 889,
    "start_time": "2024-04-15T16:58:57.275Z"
   },
   {
    "duration": 977,
    "start_time": "2024-04-15T16:59:52.808Z"
   },
   {
    "duration": 961,
    "start_time": "2024-04-15T17:00:11.520Z"
   },
   {
    "duration": 897,
    "start_time": "2024-04-15T17:00:28.817Z"
   },
   {
    "duration": 828,
    "start_time": "2024-04-15T17:01:19.995Z"
   },
   {
    "duration": 999,
    "start_time": "2024-04-15T17:01:58.349Z"
   },
   {
    "duration": 860,
    "start_time": "2024-04-15T17:02:43.779Z"
   },
   {
    "duration": 87,
    "start_time": "2024-04-15T17:03:36.579Z"
   },
   {
    "duration": 499,
    "start_time": "2024-04-15T17:03:41.609Z"
   },
   {
    "duration": 221,
    "start_time": "2024-04-15T17:05:29.987Z"
   },
   {
    "duration": 91,
    "start_time": "2024-04-15T17:06:10.288Z"
   },
   {
    "duration": 93,
    "start_time": "2024-04-15T17:07:41.892Z"
   },
   {
    "duration": 85,
    "start_time": "2024-04-15T17:07:48.658Z"
   },
   {
    "duration": 105,
    "start_time": "2024-04-15T17:09:13.216Z"
   },
   {
    "duration": 79,
    "start_time": "2024-04-15T17:50:19.516Z"
   },
   {
    "duration": 78,
    "start_time": "2024-04-15T17:50:28.952Z"
   },
   {
    "duration": 225,
    "start_time": "2024-04-15T17:51:45.650Z"
   },
   {
    "duration": 264,
    "start_time": "2024-04-15T17:52:32.238Z"
   },
   {
    "duration": 398,
    "start_time": "2024-04-15T17:57:40.423Z"
   },
   {
    "duration": 249,
    "start_time": "2024-04-15T17:58:26.037Z"
   },
   {
    "duration": 250,
    "start_time": "2024-04-15T17:58:40.846Z"
   },
   {
    "duration": 251,
    "start_time": "2024-04-15T17:58:52.898Z"
   },
   {
    "duration": 244,
    "start_time": "2024-04-15T17:59:00.224Z"
   },
   {
    "duration": 248,
    "start_time": "2024-04-15T17:59:07.528Z"
   },
   {
    "duration": 243,
    "start_time": "2024-04-15T17:59:13.582Z"
   },
   {
    "duration": 258,
    "start_time": "2024-04-15T17:59:24.754Z"
   },
   {
    "duration": 77,
    "start_time": "2024-04-15T17:59:47.872Z"
   },
   {
    "duration": 253,
    "start_time": "2024-04-15T17:59:58.761Z"
   },
   {
    "duration": 416,
    "start_time": "2024-04-15T18:00:52.652Z"
   },
   {
    "duration": 255,
    "start_time": "2024-04-15T18:01:00.709Z"
   },
   {
    "duration": 248,
    "start_time": "2024-04-15T18:01:39.992Z"
   },
   {
    "duration": 8,
    "start_time": "2024-04-15T18:02:55.904Z"
   },
   {
    "duration": 6,
    "start_time": "2024-04-15T18:03:22.776Z"
   },
   {
    "duration": 5,
    "start_time": "2024-04-15T18:03:30.074Z"
   },
   {
    "duration": 5,
    "start_time": "2024-04-15T18:03:46.048Z"
   },
   {
    "duration": 5,
    "start_time": "2024-04-15T18:04:48.530Z"
   },
   {
    "duration": 19,
    "start_time": "2024-04-15T18:06:44.162Z"
   },
   {
    "duration": 9,
    "start_time": "2024-04-15T18:22:18.437Z"
   },
   {
    "duration": 21,
    "start_time": "2024-04-15T18:23:00.755Z"
   },
   {
    "duration": 21,
    "start_time": "2024-04-15T18:26:25.740Z"
   },
   {
    "duration": 22,
    "start_time": "2024-04-15T18:26:33.825Z"
   },
   {
    "duration": 21,
    "start_time": "2024-04-15T18:26:39.520Z"
   },
   {
    "duration": 21,
    "start_time": "2024-04-15T18:26:43.927Z"
   },
   {
    "duration": 22,
    "start_time": "2024-04-15T18:26:48.140Z"
   },
   {
    "duration": 245,
    "start_time": "2024-04-15T18:29:39.687Z"
   },
   {
    "duration": 2388,
    "start_time": "2024-04-15T18:30:07.766Z"
   },
   {
    "duration": 2529,
    "start_time": "2024-04-15T18:30:41.571Z"
   },
   {
    "duration": 4,
    "start_time": "2024-04-15T18:32:53.880Z"
   },
   {
    "duration": 2427,
    "start_time": "2024-04-15T18:33:21.924Z"
   },
   {
    "duration": 257,
    "start_time": "2024-04-15T18:36:14.477Z"
   },
   {
    "duration": 106,
    "start_time": "2024-04-15T18:38:38.592Z"
   },
   {
    "duration": 239,
    "start_time": "2024-04-15T18:38:57.206Z"
   },
   {
    "duration": 247,
    "start_time": "2024-04-15T18:39:29.315Z"
   },
   {
    "duration": 429,
    "start_time": "2024-04-15T18:43:24.889Z"
   },
   {
    "duration": 170,
    "start_time": "2024-04-15T18:45:32.415Z"
   },
   {
    "duration": 5,
    "start_time": "2024-04-15T18:46:03.374Z"
   },
   {
    "duration": 179,
    "start_time": "2024-04-15T18:46:25.549Z"
   },
   {
    "duration": 9,
    "start_time": "2024-04-15T18:51:42.249Z"
   },
   {
    "duration": 26,
    "start_time": "2024-04-15T18:51:50.262Z"
   },
   {
    "duration": 9,
    "start_time": "2024-04-15T18:51:58.847Z"
   },
   {
    "duration": 27,
    "start_time": "2024-04-15T18:52:03.298Z"
   },
   {
    "duration": 27,
    "start_time": "2024-04-15T18:52:59.858Z"
   },
   {
    "duration": 26,
    "start_time": "2024-04-15T18:54:30.449Z"
   },
   {
    "duration": 38,
    "start_time": "2024-04-15T18:57:40.073Z"
   },
   {
    "duration": 42,
    "start_time": "2024-04-15T18:57:47.174Z"
   },
   {
    "duration": 41,
    "start_time": "2024-04-15T19:04:03.969Z"
   },
   {
    "duration": 42,
    "start_time": "2024-04-15T19:05:18.964Z"
   },
   {
    "duration": 39,
    "start_time": "2024-04-15T19:05:30.376Z"
   },
   {
    "duration": 41,
    "start_time": "2024-04-15T19:14:46.107Z"
   },
   {
    "duration": 11,
    "start_time": "2024-04-15T19:17:19.658Z"
   },
   {
    "duration": 273,
    "start_time": "2024-04-15T19:24:25.679Z"
   },
   {
    "duration": 255,
    "start_time": "2024-04-15T19:24:42.421Z"
   },
   {
    "duration": 87,
    "start_time": "2024-04-15T19:25:56.182Z"
   },
   {
    "duration": 259,
    "start_time": "2024-04-15T19:26:07.380Z"
   },
   {
    "duration": 1184,
    "start_time": "2024-04-15T20:33:59.331Z"
   },
   {
    "duration": 107,
    "start_time": "2024-04-15T20:34:00.517Z"
   },
   {
    "duration": 34,
    "start_time": "2024-04-15T20:34:00.626Z"
   },
   {
    "duration": 38,
    "start_time": "2024-04-15T20:34:00.662Z"
   },
   {
    "duration": 75,
    "start_time": "2024-04-15T20:34:00.702Z"
   },
   {
    "duration": 118,
    "start_time": "2024-04-15T20:34:00.779Z"
   },
   {
    "duration": 441,
    "start_time": "2024-04-15T20:34:00.899Z"
   },
   {
    "duration": 141,
    "start_time": "2024-04-15T20:34:01.342Z"
   },
   {
    "duration": 178,
    "start_time": "2024-04-15T20:34:01.485Z"
   },
   {
    "duration": 248,
    "start_time": "2024-04-15T20:34:01.665Z"
   },
   {
    "duration": 106,
    "start_time": "2024-04-15T20:34:01.915Z"
   },
   {
    "duration": 269,
    "start_time": "2024-04-15T20:34:02.023Z"
   },
   {
    "duration": 20,
    "start_time": "2024-04-15T20:34:02.293Z"
   },
   {
    "duration": 92,
    "start_time": "2024-04-15T20:34:02.314Z"
   },
   {
    "duration": 26,
    "start_time": "2024-04-15T20:34:02.408Z"
   },
   {
    "duration": 418,
    "start_time": "2024-04-15T20:34:02.436Z"
   },
   {
    "duration": 276,
    "start_time": "2024-04-15T20:34:02.856Z"
   },
   {
    "duration": 36,
    "start_time": "2024-04-15T20:34:03.134Z"
   },
   {
    "duration": 47,
    "start_time": "2024-04-15T20:34:03.172Z"
   },
   {
    "duration": 26,
    "start_time": "2024-04-15T20:34:03.220Z"
   },
   {
    "duration": 19,
    "start_time": "2024-04-15T20:34:03.247Z"
   },
   {
    "duration": 34,
    "start_time": "2024-04-15T20:34:03.268Z"
   },
   {
    "duration": 31,
    "start_time": "2024-04-15T20:34:03.304Z"
   },
   {
    "duration": 48,
    "start_time": "2024-04-15T20:34:03.336Z"
   },
   {
    "duration": 8,
    "start_time": "2024-04-15T20:34:03.385Z"
   },
   {
    "duration": 15,
    "start_time": "2024-04-15T20:34:03.395Z"
   },
   {
    "duration": 6,
    "start_time": "2024-04-15T20:34:03.412Z"
   },
   {
    "duration": 6,
    "start_time": "2024-04-15T20:34:03.421Z"
   },
   {
    "duration": 12,
    "start_time": "2024-04-15T20:34:03.428Z"
   },
   {
    "duration": 1090,
    "start_time": "2024-04-15T20:34:10.326Z"
   },
   {
    "duration": 106,
    "start_time": "2024-04-15T20:34:11.418Z"
   },
   {
    "duration": 10,
    "start_time": "2024-04-15T20:34:11.525Z"
   },
   {
    "duration": 14,
    "start_time": "2024-04-15T20:34:11.536Z"
   },
   {
    "duration": 4,
    "start_time": "2024-04-15T20:34:11.552Z"
   },
   {
    "duration": 8,
    "start_time": "2024-04-15T20:34:11.557Z"
   },
   {
    "duration": 369,
    "start_time": "2024-04-15T20:34:11.566Z"
   },
   {
    "duration": 142,
    "start_time": "2024-04-15T20:34:11.936Z"
   },
   {
    "duration": 205,
    "start_time": "2024-04-15T20:34:12.080Z"
   },
   {
    "duration": 246,
    "start_time": "2024-04-15T20:34:12.288Z"
   },
   {
    "duration": 109,
    "start_time": "2024-04-15T20:34:12.535Z"
   },
   {
    "duration": 254,
    "start_time": "2024-04-15T20:34:12.645Z"
   },
   {
    "duration": 18,
    "start_time": "2024-04-15T20:34:12.900Z"
   },
   {
    "duration": 61,
    "start_time": "2024-04-15T20:34:12.920Z"
   },
   {
    "duration": 10,
    "start_time": "2024-04-15T20:34:12.983Z"
   },
   {
    "duration": 352,
    "start_time": "2024-04-15T20:34:12.994Z"
   },
   {
    "duration": 283,
    "start_time": "2024-04-15T20:34:13.348Z"
   },
   {
    "duration": 38,
    "start_time": "2024-04-15T20:34:13.633Z"
   },
   {
    "duration": 31,
    "start_time": "2024-04-15T20:34:13.673Z"
   },
   {
    "duration": 4,
    "start_time": "2024-04-15T20:34:13.706Z"
   },
   {
    "duration": 7,
    "start_time": "2024-04-15T20:34:13.712Z"
   },
   {
    "duration": 39,
    "start_time": "2024-04-15T20:34:13.721Z"
   },
   {
    "duration": 17,
    "start_time": "2024-04-15T20:34:13.761Z"
   },
   {
    "duration": 7,
    "start_time": "2024-04-15T20:34:13.780Z"
   },
   {
    "duration": 54,
    "start_time": "2024-04-15T20:34:13.789Z"
   },
   {
    "duration": 24,
    "start_time": "2024-04-15T20:34:13.845Z"
   },
   {
    "duration": 14,
    "start_time": "2024-04-15T20:34:13.872Z"
   },
   {
    "duration": 5,
    "start_time": "2024-04-15T20:34:13.889Z"
   },
   {
    "duration": 13,
    "start_time": "2024-04-15T20:34:13.896Z"
   },
   {
    "duration": 98,
    "start_time": "2024-04-15T20:38:41.261Z"
   },
   {
    "duration": 82,
    "start_time": "2024-04-15T20:43:53.677Z"
   },
   {
    "duration": 88,
    "start_time": "2024-04-15T20:44:05.222Z"
   },
   {
    "duration": 3,
    "start_time": "2024-04-15T20:44:23.504Z"
   },
   {
    "duration": 102,
    "start_time": "2024-04-15T20:44:30.174Z"
   },
   {
    "duration": 3,
    "start_time": "2024-04-15T20:44:41.641Z"
   },
   {
    "duration": 3,
    "start_time": "2024-04-15T20:44:53.962Z"
   },
   {
    "duration": 69,
    "start_time": "2024-04-15T20:47:37.956Z"
   },
   {
    "duration": 103,
    "start_time": "2024-04-15T20:49:06.351Z"
   },
   {
    "duration": 1441,
    "start_time": "2024-04-15T20:49:12.807Z"
   },
   {
    "duration": 16,
    "start_time": "2024-04-15T20:49:36.733Z"
   },
   {
    "duration": 48,
    "start_time": "2024-04-15T20:49:46.568Z"
   },
   {
    "duration": 41,
    "start_time": "2024-04-15T20:50:42.990Z"
   },
   {
    "duration": 40,
    "start_time": "2024-04-15T20:51:51.602Z"
   },
   {
    "duration": 82,
    "start_time": "2024-04-15T20:51:59.219Z"
   },
   {
    "duration": 38,
    "start_time": "2024-04-15T20:52:13.733Z"
   },
   {
    "duration": 41,
    "start_time": "2024-04-15T20:52:26.420Z"
   },
   {
    "duration": 92,
    "start_time": "2024-04-15T20:55:53.582Z"
   },
   {
    "duration": 31,
    "start_time": "2024-04-15T20:56:13.246Z"
   },
   {
    "duration": 35,
    "start_time": "2024-04-15T20:56:30.685Z"
   },
   {
    "duration": 29,
    "start_time": "2024-04-15T20:57:32.352Z"
   },
   {
    "duration": 44,
    "start_time": "2024-04-15T20:57:43.125Z"
   },
   {
    "duration": 42,
    "start_time": "2024-04-15T20:58:09.050Z"
   },
   {
    "duration": 41,
    "start_time": "2024-04-15T20:58:59.738Z"
   },
   {
    "duration": 32,
    "start_time": "2024-04-15T21:07:53.828Z"
   },
   {
    "duration": 22,
    "start_time": "2024-04-15T21:10:45.876Z"
   },
   {
    "duration": 30,
    "start_time": "2024-04-15T21:11:00.197Z"
   },
   {
    "duration": 29,
    "start_time": "2024-04-15T21:11:57.285Z"
   },
   {
    "duration": 1222,
    "start_time": "2024-04-15T21:18:33.723Z"
   },
   {
    "duration": 36,
    "start_time": "2024-04-15T21:20:34.011Z"
   },
   {
    "duration": 39,
    "start_time": "2024-04-15T21:21:24.879Z"
   },
   {
    "duration": 14,
    "start_time": "2024-04-15T21:28:16.673Z"
   },
   {
    "duration": 17,
    "start_time": "2024-04-15T21:28:58.050Z"
   },
   {
    "duration": 14,
    "start_time": "2024-04-15T21:29:26.472Z"
   },
   {
    "duration": 1154,
    "start_time": "2024-04-15T21:29:40.440Z"
   },
   {
    "duration": 111,
    "start_time": "2024-04-15T21:29:41.596Z"
   },
   {
    "duration": 11,
    "start_time": "2024-04-15T21:29:41.708Z"
   },
   {
    "duration": 15,
    "start_time": "2024-04-15T21:29:41.721Z"
   },
   {
    "duration": 17,
    "start_time": "2024-04-15T21:29:41.738Z"
   },
   {
    "duration": 8,
    "start_time": "2024-04-15T21:29:41.757Z"
   },
   {
    "duration": 383,
    "start_time": "2024-04-15T21:29:41.767Z"
   },
   {
    "duration": 143,
    "start_time": "2024-04-15T21:29:42.155Z"
   },
   {
    "duration": 177,
    "start_time": "2024-04-15T21:29:42.300Z"
   },
   {
    "duration": 244,
    "start_time": "2024-04-15T21:29:42.479Z"
   },
   {
    "duration": 122,
    "start_time": "2024-04-15T21:29:42.725Z"
   },
   {
    "duration": 255,
    "start_time": "2024-04-15T21:29:42.848Z"
   },
   {
    "duration": 17,
    "start_time": "2024-04-15T21:29:43.105Z"
   },
   {
    "duration": 62,
    "start_time": "2024-04-15T21:29:43.124Z"
   },
   {
    "duration": 11,
    "start_time": "2024-04-15T21:29:43.187Z"
   },
   {
    "duration": 345,
    "start_time": "2024-04-15T21:29:43.200Z"
   },
   {
    "duration": 266,
    "start_time": "2024-04-15T21:29:43.547Z"
   },
   {
    "duration": 118,
    "start_time": "2024-04-15T21:29:43.814Z"
   },
   {
    "duration": 0,
    "start_time": "2024-04-15T21:29:43.934Z"
   },
   {
    "duration": 0,
    "start_time": "2024-04-15T21:29:43.935Z"
   },
   {
    "duration": 0,
    "start_time": "2024-04-15T21:29:43.936Z"
   },
   {
    "duration": 0,
    "start_time": "2024-04-15T21:29:43.937Z"
   },
   {
    "duration": 0,
    "start_time": "2024-04-15T21:29:43.938Z"
   },
   {
    "duration": 0,
    "start_time": "2024-04-15T21:29:43.939Z"
   },
   {
    "duration": 0,
    "start_time": "2024-04-15T21:29:43.940Z"
   },
   {
    "duration": 0,
    "start_time": "2024-04-15T21:29:43.956Z"
   },
   {
    "duration": 0,
    "start_time": "2024-04-15T21:29:43.956Z"
   },
   {
    "duration": 0,
    "start_time": "2024-04-15T21:29:43.957Z"
   },
   {
    "duration": 0,
    "start_time": "2024-04-15T21:29:43.958Z"
   },
   {
    "duration": 0,
    "start_time": "2024-04-15T21:29:43.960Z"
   },
   {
    "duration": 36,
    "start_time": "2024-04-15T21:30:44.638Z"
   },
   {
    "duration": 1085,
    "start_time": "2024-04-15T21:30:51.638Z"
   },
   {
    "duration": 117,
    "start_time": "2024-04-15T21:30:52.725Z"
   },
   {
    "duration": 11,
    "start_time": "2024-04-15T21:30:52.844Z"
   },
   {
    "duration": 17,
    "start_time": "2024-04-15T21:30:52.858Z"
   },
   {
    "duration": 5,
    "start_time": "2024-04-15T21:30:52.877Z"
   },
   {
    "duration": 15,
    "start_time": "2024-04-15T21:30:52.884Z"
   },
   {
    "duration": 412,
    "start_time": "2024-04-15T21:30:52.901Z"
   },
   {
    "duration": 154,
    "start_time": "2024-04-15T21:30:53.314Z"
   },
   {
    "duration": 188,
    "start_time": "2024-04-15T21:30:53.469Z"
   },
   {
    "duration": 247,
    "start_time": "2024-04-15T21:30:53.659Z"
   },
   {
    "duration": 114,
    "start_time": "2024-04-15T21:30:53.907Z"
   },
   {
    "duration": 284,
    "start_time": "2024-04-15T21:30:54.022Z"
   },
   {
    "duration": 22,
    "start_time": "2024-04-15T21:30:54.308Z"
   },
   {
    "duration": 74,
    "start_time": "2024-04-15T21:30:54.332Z"
   },
   {
    "duration": 14,
    "start_time": "2024-04-15T21:30:54.408Z"
   },
   {
    "duration": 360,
    "start_time": "2024-04-15T21:30:54.424Z"
   },
   {
    "duration": 276,
    "start_time": "2024-04-15T21:30:54.785Z"
   },
   {
    "duration": 37,
    "start_time": "2024-04-15T21:30:55.062Z"
   },
   {
    "duration": 28,
    "start_time": "2024-04-15T21:30:55.100Z"
   },
   {
    "duration": 1566,
    "start_time": "2024-04-15T21:30:55.130Z"
   },
   {
    "duration": 0,
    "start_time": "2024-04-15T21:30:56.698Z"
   },
   {
    "duration": 0,
    "start_time": "2024-04-15T21:30:56.699Z"
   },
   {
    "duration": 0,
    "start_time": "2024-04-15T21:30:56.701Z"
   },
   {
    "duration": 0,
    "start_time": "2024-04-15T21:30:56.703Z"
   },
   {
    "duration": 0,
    "start_time": "2024-04-15T21:30:56.704Z"
   },
   {
    "duration": 0,
    "start_time": "2024-04-15T21:30:56.705Z"
   },
   {
    "duration": 0,
    "start_time": "2024-04-15T21:30:56.707Z"
   },
   {
    "duration": 0,
    "start_time": "2024-04-15T21:30:56.708Z"
   },
   {
    "duration": 0,
    "start_time": "2024-04-15T21:30:56.709Z"
   },
   {
    "duration": 0,
    "start_time": "2024-04-15T21:30:56.711Z"
   },
   {
    "duration": 29,
    "start_time": "2024-04-15T21:32:42.175Z"
   },
   {
    "duration": 1151,
    "start_time": "2024-04-15T21:32:59.764Z"
   },
   {
    "duration": 113,
    "start_time": "2024-04-15T21:33:00.917Z"
   },
   {
    "duration": 11,
    "start_time": "2024-04-15T21:33:01.032Z"
   },
   {
    "duration": 61,
    "start_time": "2024-04-15T21:33:01.045Z"
   },
   {
    "duration": 67,
    "start_time": "2024-04-15T21:33:01.108Z"
   },
   {
    "duration": 162,
    "start_time": "2024-04-15T21:33:01.176Z"
   },
   {
    "duration": 422,
    "start_time": "2024-04-15T21:33:01.340Z"
   },
   {
    "duration": 147,
    "start_time": "2024-04-15T21:33:01.764Z"
   },
   {
    "duration": 180,
    "start_time": "2024-04-15T21:33:01.913Z"
   },
   {
    "duration": 249,
    "start_time": "2024-04-15T21:33:02.096Z"
   },
   {
    "duration": 111,
    "start_time": "2024-04-15T21:33:02.347Z"
   },
   {
    "duration": 272,
    "start_time": "2024-04-15T21:33:02.459Z"
   },
   {
    "duration": 27,
    "start_time": "2024-04-15T21:33:02.733Z"
   },
   {
    "duration": 62,
    "start_time": "2024-04-15T21:33:02.761Z"
   },
   {
    "duration": 18,
    "start_time": "2024-04-15T21:33:02.824Z"
   },
   {
    "duration": 338,
    "start_time": "2024-04-15T21:33:02.844Z"
   },
   {
    "duration": 279,
    "start_time": "2024-04-15T21:33:03.183Z"
   },
   {
    "duration": 36,
    "start_time": "2024-04-15T21:33:03.464Z"
   },
   {
    "duration": 29,
    "start_time": "2024-04-15T21:33:03.502Z"
   },
   {
    "duration": 27,
    "start_time": "2024-04-15T21:33:03.555Z"
   },
   {
    "duration": 1650,
    "start_time": "2024-04-15T21:33:03.584Z"
   },
   {
    "duration": 0,
    "start_time": "2024-04-15T21:33:05.236Z"
   },
   {
    "duration": 0,
    "start_time": "2024-04-15T21:33:05.237Z"
   },
   {
    "duration": 0,
    "start_time": "2024-04-15T21:33:05.238Z"
   },
   {
    "duration": 0,
    "start_time": "2024-04-15T21:33:05.239Z"
   },
   {
    "duration": 0,
    "start_time": "2024-04-15T21:33:05.240Z"
   },
   {
    "duration": 0,
    "start_time": "2024-04-15T21:33:05.241Z"
   },
   {
    "duration": 0,
    "start_time": "2024-04-15T21:33:05.242Z"
   },
   {
    "duration": 0,
    "start_time": "2024-04-15T21:33:05.243Z"
   },
   {
    "duration": 0,
    "start_time": "2024-04-15T21:33:05.244Z"
   },
   {
    "duration": 24,
    "start_time": "2024-04-15T21:35:43.653Z"
   },
   {
    "duration": 1170,
    "start_time": "2024-04-15T21:36:25.763Z"
   },
   {
    "duration": 14,
    "start_time": "2024-04-15T21:37:21.168Z"
   },
   {
    "duration": 1152,
    "start_time": "2024-04-15T21:38:29.968Z"
   },
   {
    "duration": 113,
    "start_time": "2024-04-15T21:38:31.122Z"
   },
   {
    "duration": 11,
    "start_time": "2024-04-15T21:38:31.237Z"
   },
   {
    "duration": 53,
    "start_time": "2024-04-15T21:38:31.249Z"
   },
   {
    "duration": 35,
    "start_time": "2024-04-15T21:38:31.304Z"
   },
   {
    "duration": 45,
    "start_time": "2024-04-15T21:38:31.341Z"
   },
   {
    "duration": 418,
    "start_time": "2024-04-15T21:38:31.388Z"
   },
   {
    "duration": 151,
    "start_time": "2024-04-15T21:38:31.808Z"
   },
   {
    "duration": 177,
    "start_time": "2024-04-15T21:38:31.960Z"
   },
   {
    "duration": 267,
    "start_time": "2024-04-15T21:38:32.140Z"
   },
   {
    "duration": 107,
    "start_time": "2024-04-15T21:38:32.409Z"
   },
   {
    "duration": 252,
    "start_time": "2024-04-15T21:38:32.517Z"
   },
   {
    "duration": 17,
    "start_time": "2024-04-15T21:38:32.771Z"
   },
   {
    "duration": 55,
    "start_time": "2024-04-15T21:38:32.789Z"
   },
   {
    "duration": 19,
    "start_time": "2024-04-15T21:38:32.846Z"
   },
   {
    "duration": 377,
    "start_time": "2024-04-15T21:38:32.867Z"
   },
   {
    "duration": 279,
    "start_time": "2024-04-15T21:38:33.245Z"
   },
   {
    "duration": 44,
    "start_time": "2024-04-15T21:38:33.526Z"
   },
   {
    "duration": 27,
    "start_time": "2024-04-15T21:38:33.572Z"
   },
   {
    "duration": 33,
    "start_time": "2024-04-15T21:38:33.600Z"
   },
   {
    "duration": 15,
    "start_time": "2024-04-15T21:38:33.635Z"
   },
   {
    "duration": 1570,
    "start_time": "2024-04-15T21:38:33.656Z"
   },
   {
    "duration": 0,
    "start_time": "2024-04-15T21:38:35.228Z"
   },
   {
    "duration": 0,
    "start_time": "2024-04-15T21:38:35.229Z"
   },
   {
    "duration": 0,
    "start_time": "2024-04-15T21:38:35.230Z"
   },
   {
    "duration": 0,
    "start_time": "2024-04-15T21:38:35.231Z"
   },
   {
    "duration": 0,
    "start_time": "2024-04-15T21:38:35.232Z"
   },
   {
    "duration": 0,
    "start_time": "2024-04-15T21:38:35.233Z"
   },
   {
    "duration": 0,
    "start_time": "2024-04-15T21:38:35.234Z"
   },
   {
    "duration": 0,
    "start_time": "2024-04-15T21:38:35.235Z"
   },
   {
    "duration": 0,
    "start_time": "2024-04-15T21:38:35.236Z"
   },
   {
    "duration": 18,
    "start_time": "2024-04-15T21:39:01.305Z"
   },
   {
    "duration": 15,
    "start_time": "2024-04-15T21:39:42.597Z"
   },
   {
    "duration": 22,
    "start_time": "2024-04-15T21:40:09.569Z"
   },
   {
    "duration": 16,
    "start_time": "2024-04-15T21:41:39.244Z"
   },
   {
    "duration": 26,
    "start_time": "2024-04-15T21:42:19.708Z"
   },
   {
    "duration": 224,
    "start_time": "2024-04-15T21:45:25.149Z"
   },
   {
    "duration": 212,
    "start_time": "2024-04-15T21:45:46.378Z"
   },
   {
    "duration": 91,
    "start_time": "2024-04-15T21:47:19.003Z"
   },
   {
    "duration": 208,
    "start_time": "2024-04-15T21:48:49.424Z"
   },
   {
    "duration": 97,
    "start_time": "2024-04-15T21:50:18.196Z"
   },
   {
    "duration": 218,
    "start_time": "2024-04-15T21:50:33.348Z"
   },
   {
    "duration": 211,
    "start_time": "2024-04-15T21:50:53.454Z"
   },
   {
    "duration": 220,
    "start_time": "2024-04-15T21:51:02.745Z"
   },
   {
    "duration": 4,
    "start_time": "2024-04-15T22:12:14.799Z"
   },
   {
    "duration": 7,
    "start_time": "2024-04-15T22:12:57.493Z"
   },
   {
    "duration": 5,
    "start_time": "2024-04-15T22:33:05.652Z"
   },
   {
    "duration": 5,
    "start_time": "2024-04-15T22:33:56.461Z"
   },
   {
    "duration": 5,
    "start_time": "2024-04-15T22:34:21.008Z"
   },
   {
    "duration": 18,
    "start_time": "2024-04-15T22:39:49.763Z"
   },
   {
    "duration": 6,
    "start_time": "2024-04-15T22:41:35.228Z"
   },
   {
    "duration": 16,
    "start_time": "2024-04-15T22:41:57.586Z"
   },
   {
    "duration": 51,
    "start_time": "2024-04-15T22:43:18.024Z"
   },
   {
    "duration": 5,
    "start_time": "2024-04-15T22:56:39.060Z"
   },
   {
    "duration": 16,
    "start_time": "2024-04-15T23:01:49.071Z"
   },
   {
    "duration": 13,
    "start_time": "2024-04-15T23:02:49.446Z"
   },
   {
    "duration": 18,
    "start_time": "2024-04-15T23:03:01.037Z"
   },
   {
    "duration": 1102,
    "start_time": "2024-04-15T23:03:13.904Z"
   },
   {
    "duration": 112,
    "start_time": "2024-04-15T23:03:15.008Z"
   },
   {
    "duration": 11,
    "start_time": "2024-04-15T23:03:15.121Z"
   },
   {
    "duration": 51,
    "start_time": "2024-04-15T23:03:15.134Z"
   },
   {
    "duration": 28,
    "start_time": "2024-04-15T23:03:15.186Z"
   },
   {
    "duration": 36,
    "start_time": "2024-04-15T23:03:15.215Z"
   },
   {
    "duration": 384,
    "start_time": "2024-04-15T23:03:15.253Z"
   },
   {
    "duration": 144,
    "start_time": "2024-04-15T23:03:15.639Z"
   },
   {
    "duration": 186,
    "start_time": "2024-04-15T23:03:15.785Z"
   },
   {
    "duration": 236,
    "start_time": "2024-04-15T23:03:15.974Z"
   },
   {
    "duration": 107,
    "start_time": "2024-04-15T23:03:16.212Z"
   },
   {
    "duration": 252,
    "start_time": "2024-04-15T23:03:16.321Z"
   },
   {
    "duration": 17,
    "start_time": "2024-04-15T23:03:16.574Z"
   },
   {
    "duration": 40,
    "start_time": "2024-04-15T23:03:16.592Z"
   },
   {
    "duration": 28,
    "start_time": "2024-04-15T23:03:16.634Z"
   },
   {
    "duration": 332,
    "start_time": "2024-04-15T23:03:16.663Z"
   },
   {
    "duration": 267,
    "start_time": "2024-04-15T23:03:16.997Z"
   },
   {
    "duration": 34,
    "start_time": "2024-04-15T23:03:17.265Z"
   },
   {
    "duration": 26,
    "start_time": "2024-04-15T23:03:17.301Z"
   },
   {
    "duration": 33,
    "start_time": "2024-04-15T23:03:17.329Z"
   },
   {
    "duration": 218,
    "start_time": "2024-04-15T23:03:17.364Z"
   },
   {
    "duration": 3,
    "start_time": "2024-04-15T23:03:17.584Z"
   },
   {
    "duration": 7,
    "start_time": "2024-04-15T23:03:17.589Z"
   },
   {
    "duration": 10,
    "start_time": "2024-04-15T23:03:17.598Z"
   },
   {
    "duration": 19,
    "start_time": "2024-04-15T23:03:17.609Z"
   },
   {
    "duration": 117,
    "start_time": "2024-04-15T23:03:17.629Z"
   },
   {
    "duration": 0,
    "start_time": "2024-04-15T23:03:17.748Z"
   },
   {
    "duration": 0,
    "start_time": "2024-04-15T23:03:17.749Z"
   },
   {
    "duration": 0,
    "start_time": "2024-04-15T23:03:17.750Z"
   },
   {
    "duration": 0,
    "start_time": "2024-04-15T23:03:17.755Z"
   },
   {
    "duration": 0,
    "start_time": "2024-04-15T23:03:17.756Z"
   },
   {
    "duration": 0,
    "start_time": "2024-04-15T23:03:17.757Z"
   },
   {
    "duration": 15,
    "start_time": "2024-04-15T23:37:34.016Z"
   },
   {
    "duration": 13,
    "start_time": "2024-04-15T23:42:00.045Z"
   },
   {
    "duration": 15,
    "start_time": "2024-04-15T23:44:15.936Z"
   },
   {
    "duration": 11,
    "start_time": "2024-04-15T23:44:49.800Z"
   },
   {
    "duration": 276,
    "start_time": "2024-04-15T23:49:59.224Z"
   },
   {
    "duration": 90,
    "start_time": "2024-04-15T23:50:58.842Z"
   },
   {
    "duration": 1114,
    "start_time": "2024-04-15T23:51:19.083Z"
   },
   {
    "duration": 110,
    "start_time": "2024-04-15T23:51:20.199Z"
   },
   {
    "duration": 12,
    "start_time": "2024-04-15T23:51:20.311Z"
   },
   {
    "duration": 30,
    "start_time": "2024-04-15T23:51:20.325Z"
   },
   {
    "duration": 10,
    "start_time": "2024-04-15T23:51:20.357Z"
   },
   {
    "duration": 20,
    "start_time": "2024-04-15T23:51:20.369Z"
   },
   {
    "duration": 376,
    "start_time": "2024-04-15T23:51:20.391Z"
   },
   {
    "duration": 138,
    "start_time": "2024-04-15T23:51:20.768Z"
   },
   {
    "duration": 173,
    "start_time": "2024-04-15T23:51:20.907Z"
   },
   {
    "duration": 245,
    "start_time": "2024-04-15T23:51:21.082Z"
   },
   {
    "duration": 105,
    "start_time": "2024-04-15T23:51:21.328Z"
   },
   {
    "duration": 245,
    "start_time": "2024-04-15T23:51:21.435Z"
   },
   {
    "duration": 17,
    "start_time": "2024-04-15T23:51:21.681Z"
   },
   {
    "duration": 65,
    "start_time": "2024-04-15T23:51:21.700Z"
   },
   {
    "duration": 9,
    "start_time": "2024-04-15T23:51:21.767Z"
   },
   {
    "duration": 337,
    "start_time": "2024-04-15T23:51:21.777Z"
   },
   {
    "duration": 263,
    "start_time": "2024-04-15T23:51:22.115Z"
   },
   {
    "duration": 33,
    "start_time": "2024-04-15T23:51:22.380Z"
   },
   {
    "duration": 44,
    "start_time": "2024-04-15T23:51:22.415Z"
   },
   {
    "duration": 12,
    "start_time": "2024-04-15T23:51:22.460Z"
   },
   {
    "duration": 218,
    "start_time": "2024-04-15T23:51:22.473Z"
   },
   {
    "duration": 4,
    "start_time": "2024-04-15T23:51:22.692Z"
   },
   {
    "duration": 14,
    "start_time": "2024-04-15T23:51:22.697Z"
   },
   {
    "duration": 4,
    "start_time": "2024-04-15T23:51:22.713Z"
   },
   {
    "duration": 15,
    "start_time": "2024-04-15T23:51:22.718Z"
   },
   {
    "duration": 122,
    "start_time": "2024-04-15T23:51:22.735Z"
   },
   {
    "duration": 101,
    "start_time": "2024-04-15T23:51:22.858Z"
   },
   {
    "duration": 0,
    "start_time": "2024-04-15T23:51:22.961Z"
   },
   {
    "duration": 0,
    "start_time": "2024-04-15T23:51:22.962Z"
   },
   {
    "duration": 0,
    "start_time": "2024-04-15T23:51:22.963Z"
   },
   {
    "duration": 0,
    "start_time": "2024-04-15T23:51:22.964Z"
   },
   {
    "duration": 0,
    "start_time": "2024-04-15T23:51:22.965Z"
   },
   {
    "duration": 13,
    "start_time": "2024-04-15T23:52:54.388Z"
   },
   {
    "duration": 20,
    "start_time": "2024-04-15T23:53:10.197Z"
   },
   {
    "duration": 84,
    "start_time": "2024-04-16T00:01:36.435Z"
   },
   {
    "duration": 13,
    "start_time": "2024-04-16T00:01:55.709Z"
   },
   {
    "duration": 89,
    "start_time": "2024-04-16T01:18:23.448Z"
   },
   {
    "duration": 1425,
    "start_time": "2024-04-16T01:19:43.110Z"
   },
   {
    "duration": 4,
    "start_time": "2024-04-16T01:20:53.101Z"
   },
   {
    "duration": 20,
    "start_time": "2024-04-16T01:21:05.396Z"
   },
   {
    "duration": 7,
    "start_time": "2024-04-16T01:21:47.587Z"
   },
   {
    "duration": 5,
    "start_time": "2024-04-16T01:22:03.421Z"
   },
   {
    "duration": 5,
    "start_time": "2024-04-16T01:22:21.958Z"
   },
   {
    "duration": 5,
    "start_time": "2024-04-16T01:22:33.612Z"
   },
   {
    "duration": 7,
    "start_time": "2024-04-16T01:23:28.825Z"
   },
   {
    "duration": 5,
    "start_time": "2024-04-16T01:23:37.093Z"
   },
   {
    "duration": 1128,
    "start_time": "2024-04-16T01:23:49.350Z"
   },
   {
    "duration": 108,
    "start_time": "2024-04-16T01:23:50.480Z"
   },
   {
    "duration": 11,
    "start_time": "2024-04-16T01:23:50.589Z"
   },
   {
    "duration": 30,
    "start_time": "2024-04-16T01:23:50.602Z"
   },
   {
    "duration": 4,
    "start_time": "2024-04-16T01:23:50.634Z"
   },
   {
    "duration": 20,
    "start_time": "2024-04-16T01:23:50.640Z"
   },
   {
    "duration": 365,
    "start_time": "2024-04-16T01:23:50.661Z"
   },
   {
    "duration": 138,
    "start_time": "2024-04-16T01:23:51.028Z"
   },
   {
    "duration": 169,
    "start_time": "2024-04-16T01:23:51.167Z"
   },
   {
    "duration": 230,
    "start_time": "2024-04-16T01:23:51.339Z"
   },
   {
    "duration": 104,
    "start_time": "2024-04-16T01:23:51.571Z"
   },
   {
    "duration": 263,
    "start_time": "2024-04-16T01:23:51.677Z"
   },
   {
    "duration": 29,
    "start_time": "2024-04-16T01:23:51.942Z"
   },
   {
    "duration": 60,
    "start_time": "2024-04-16T01:23:51.973Z"
   },
   {
    "duration": 11,
    "start_time": "2024-04-16T01:23:52.034Z"
   },
   {
    "duration": 330,
    "start_time": "2024-04-16T01:23:52.046Z"
   },
   {
    "duration": 270,
    "start_time": "2024-04-16T01:23:52.378Z"
   },
   {
    "duration": 39,
    "start_time": "2024-04-16T01:23:52.649Z"
   },
   {
    "duration": 27,
    "start_time": "2024-04-16T01:23:52.690Z"
   },
   {
    "duration": 39,
    "start_time": "2024-04-16T01:23:52.718Z"
   },
   {
    "duration": 208,
    "start_time": "2024-04-16T01:23:52.758Z"
   },
   {
    "duration": 4,
    "start_time": "2024-04-16T01:23:52.968Z"
   },
   {
    "duration": 7,
    "start_time": "2024-04-16T01:23:52.973Z"
   },
   {
    "duration": 6,
    "start_time": "2024-04-16T01:23:52.981Z"
   },
   {
    "duration": 12,
    "start_time": "2024-04-16T01:23:52.988Z"
   },
   {
    "duration": 5,
    "start_time": "2024-04-16T01:23:53.001Z"
   },
   {
    "duration": 49,
    "start_time": "2024-04-16T01:23:53.008Z"
   },
   {
    "duration": 7,
    "start_time": "2024-04-16T01:23:53.060Z"
   },
   {
    "duration": 9,
    "start_time": "2024-04-16T01:23:53.068Z"
   },
   {
    "duration": 8,
    "start_time": "2024-04-16T01:23:53.078Z"
   },
   {
    "duration": 82,
    "start_time": "2024-04-16T01:24:27.128Z"
   },
   {
    "duration": 99,
    "start_time": "2024-04-16T01:24:33.176Z"
   },
   {
    "duration": 1484,
    "start_time": "2024-04-16T01:26:04.282Z"
   },
   {
    "duration": 1484,
    "start_time": "2024-04-16T01:26:38.516Z"
   },
   {
    "duration": 3,
    "start_time": "2024-04-16T01:31:47.930Z"
   },
   {
    "duration": 1132,
    "start_time": "2024-04-16T01:41:26.753Z"
   },
   {
    "duration": 110,
    "start_time": "2024-04-16T01:41:27.886Z"
   },
   {
    "duration": 12,
    "start_time": "2024-04-16T01:41:27.998Z"
   },
   {
    "duration": 16,
    "start_time": "2024-04-16T01:41:28.013Z"
   },
   {
    "duration": 7,
    "start_time": "2024-04-16T01:41:28.056Z"
   },
   {
    "duration": 9,
    "start_time": "2024-04-16T01:41:28.064Z"
   },
   {
    "duration": 390,
    "start_time": "2024-04-16T01:41:28.075Z"
   },
   {
    "duration": 143,
    "start_time": "2024-04-16T01:41:28.467Z"
   },
   {
    "duration": 182,
    "start_time": "2024-04-16T01:41:28.612Z"
   },
   {
    "duration": 248,
    "start_time": "2024-04-16T01:41:28.797Z"
   },
   {
    "duration": 101,
    "start_time": "2024-04-16T01:41:29.047Z"
   },
   {
    "duration": 252,
    "start_time": "2024-04-16T01:41:29.155Z"
   },
   {
    "duration": 17,
    "start_time": "2024-04-16T01:41:29.409Z"
   },
   {
    "duration": 59,
    "start_time": "2024-04-16T01:41:29.428Z"
   },
   {
    "duration": 9,
    "start_time": "2024-04-16T01:41:29.489Z"
   },
   {
    "duration": 343,
    "start_time": "2024-04-16T01:41:29.500Z"
   },
   {
    "duration": 272,
    "start_time": "2024-04-16T01:41:29.845Z"
   },
   {
    "duration": 50,
    "start_time": "2024-04-16T01:41:30.119Z"
   },
   {
    "duration": 53,
    "start_time": "2024-04-16T01:41:30.171Z"
   },
   {
    "duration": 52,
    "start_time": "2024-04-16T01:41:30.226Z"
   },
   {
    "duration": 316,
    "start_time": "2024-04-16T01:41:30.279Z"
   },
   {
    "duration": 4,
    "start_time": "2024-04-16T01:41:30.596Z"
   },
   {
    "duration": 48,
    "start_time": "2024-04-16T01:41:30.602Z"
   },
   {
    "duration": 188,
    "start_time": "2024-04-16T01:41:30.652Z"
   },
   {
    "duration": 93,
    "start_time": "2024-04-16T01:41:30.842Z"
   },
   {
    "duration": 1511,
    "start_time": "2024-04-16T01:41:30.937Z"
   },
   {
    "duration": 5,
    "start_time": "2024-04-16T01:41:32.450Z"
   },
   {
    "duration": 42,
    "start_time": "2024-04-16T01:41:32.458Z"
   },
   {
    "duration": 16,
    "start_time": "2024-04-16T01:41:32.502Z"
   },
   {
    "duration": 22,
    "start_time": "2024-04-16T01:41:32.524Z"
   },
   {
    "duration": 1375,
    "start_time": "2024-04-16T01:47:59.706Z"
   },
   {
    "duration": 1512,
    "start_time": "2024-04-16T01:48:27.982Z"
   },
   {
    "duration": 1427,
    "start_time": "2024-04-16T01:48:37.872Z"
   },
   {
    "duration": 1072,
    "start_time": "2024-04-16T01:48:56.651Z"
   },
   {
    "duration": 107,
    "start_time": "2024-04-16T01:48:57.725Z"
   },
   {
    "duration": 11,
    "start_time": "2024-04-16T01:48:57.833Z"
   },
   {
    "duration": 15,
    "start_time": "2024-04-16T01:48:57.845Z"
   },
   {
    "duration": 5,
    "start_time": "2024-04-16T01:48:57.861Z"
   },
   {
    "duration": 10,
    "start_time": "2024-04-16T01:48:57.867Z"
   },
   {
    "duration": 379,
    "start_time": "2024-04-16T01:48:57.878Z"
   },
   {
    "duration": 138,
    "start_time": "2024-04-16T01:48:58.258Z"
   },
   {
    "duration": 175,
    "start_time": "2024-04-16T01:48:58.398Z"
   },
   {
    "duration": 245,
    "start_time": "2024-04-16T01:48:58.576Z"
   },
   {
    "duration": 108,
    "start_time": "2024-04-16T01:48:58.822Z"
   },
   {
    "duration": 251,
    "start_time": "2024-04-16T01:48:58.932Z"
   },
   {
    "duration": 18,
    "start_time": "2024-04-16T01:48:59.184Z"
   },
   {
    "duration": 57,
    "start_time": "2024-04-16T01:48:59.203Z"
   },
   {
    "duration": 10,
    "start_time": "2024-04-16T01:48:59.261Z"
   },
   {
    "duration": 332,
    "start_time": "2024-04-16T01:48:59.273Z"
   },
   {
    "duration": 258,
    "start_time": "2024-04-16T01:48:59.606Z"
   },
   {
    "duration": 35,
    "start_time": "2024-04-16T01:48:59.866Z"
   },
   {
    "duration": 55,
    "start_time": "2024-04-16T01:48:59.903Z"
   },
   {
    "duration": 14,
    "start_time": "2024-04-16T01:48:59.959Z"
   },
   {
    "duration": 226,
    "start_time": "2024-04-16T01:48:59.975Z"
   },
   {
    "duration": 4,
    "start_time": "2024-04-16T01:49:00.202Z"
   },
   {
    "duration": 82,
    "start_time": "2024-04-16T01:49:00.207Z"
   },
   {
    "duration": 54,
    "start_time": "2024-04-16T01:49:00.290Z"
   },
   {
    "duration": 64,
    "start_time": "2024-04-16T01:49:00.346Z"
   },
   {
    "duration": 1571,
    "start_time": "2024-04-16T01:49:00.411Z"
   },
   {
    "duration": 2,
    "start_time": "2024-04-16T01:49:01.984Z"
   },
   {
    "duration": 72,
    "start_time": "2024-04-16T01:49:01.989Z"
   },
   {
    "duration": 44,
    "start_time": "2024-04-16T01:49:02.062Z"
   },
   {
    "duration": 58,
    "start_time": "2024-04-16T01:49:02.107Z"
   },
   {
    "duration": 1389,
    "start_time": "2024-04-16T01:52:14.626Z"
   },
   {
    "duration": 1460,
    "start_time": "2024-04-16T01:52:45.708Z"
   },
   {
    "duration": 1168,
    "start_time": "2024-04-16T01:52:53.734Z"
   },
   {
    "duration": 113,
    "start_time": "2024-04-16T01:52:54.904Z"
   },
   {
    "duration": 12,
    "start_time": "2024-04-16T01:52:55.019Z"
   },
   {
    "duration": 22,
    "start_time": "2024-04-16T01:52:55.034Z"
   },
   {
    "duration": 5,
    "start_time": "2024-04-16T01:52:55.058Z"
   },
   {
    "duration": 9,
    "start_time": "2024-04-16T01:52:55.065Z"
   },
   {
    "duration": 409,
    "start_time": "2024-04-16T01:52:55.076Z"
   },
   {
    "duration": 145,
    "start_time": "2024-04-16T01:52:55.487Z"
   },
   {
    "duration": 174,
    "start_time": "2024-04-16T01:52:55.633Z"
   },
   {
    "duration": 241,
    "start_time": "2024-04-16T01:52:55.809Z"
   },
   {
    "duration": 107,
    "start_time": "2024-04-16T01:52:56.051Z"
   },
   {
    "duration": 263,
    "start_time": "2024-04-16T01:52:56.159Z"
   },
   {
    "duration": 21,
    "start_time": "2024-04-16T01:52:56.424Z"
   },
   {
    "duration": 42,
    "start_time": "2024-04-16T01:52:56.455Z"
   },
   {
    "duration": 10,
    "start_time": "2024-04-16T01:52:56.499Z"
   },
   {
    "duration": 346,
    "start_time": "2024-04-16T01:52:56.510Z"
   },
   {
    "duration": 258,
    "start_time": "2024-04-16T01:52:56.857Z"
   },
   {
    "duration": 42,
    "start_time": "2024-04-16T01:52:57.116Z"
   },
   {
    "duration": 27,
    "start_time": "2024-04-16T01:52:57.160Z"
   },
   {
    "duration": 24,
    "start_time": "2024-04-16T01:52:57.189Z"
   },
   {
    "duration": 216,
    "start_time": "2024-04-16T01:52:57.214Z"
   },
   {
    "duration": 4,
    "start_time": "2024-04-16T01:52:57.431Z"
   },
   {
    "duration": 20,
    "start_time": "2024-04-16T01:52:57.437Z"
   },
   {
    "duration": 5,
    "start_time": "2024-04-16T01:52:57.458Z"
   },
   {
    "duration": 13,
    "start_time": "2024-04-16T01:52:57.464Z"
   },
   {
    "duration": 1511,
    "start_time": "2024-04-16T01:52:57.479Z"
   },
   {
    "duration": 2,
    "start_time": "2024-04-16T01:52:58.992Z"
   },
   {
    "duration": 5,
    "start_time": "2024-04-16T01:52:58.996Z"
   },
   {
    "duration": 12,
    "start_time": "2024-04-16T01:52:59.002Z"
   },
   {
    "duration": 5,
    "start_time": "2024-04-16T01:52:59.016Z"
   },
   {
    "duration": 1139,
    "start_time": "2024-04-16T02:00:44.458Z"
   },
   {
    "duration": 108,
    "start_time": "2024-04-16T02:00:45.599Z"
   },
   {
    "duration": 11,
    "start_time": "2024-04-16T02:00:45.708Z"
   },
   {
    "duration": 19,
    "start_time": "2024-04-16T02:00:45.721Z"
   },
   {
    "duration": 35,
    "start_time": "2024-04-16T02:00:45.741Z"
   },
   {
    "duration": 17,
    "start_time": "2024-04-16T02:00:45.777Z"
   },
   {
    "duration": 365,
    "start_time": "2024-04-16T02:00:45.796Z"
   },
   {
    "duration": 145,
    "start_time": "2024-04-16T02:00:46.162Z"
   },
   {
    "duration": 168,
    "start_time": "2024-04-16T02:00:46.309Z"
   },
   {
    "duration": 241,
    "start_time": "2024-04-16T02:00:46.480Z"
   },
   {
    "duration": 112,
    "start_time": "2024-04-16T02:00:46.723Z"
   },
   {
    "duration": 248,
    "start_time": "2024-04-16T02:00:46.837Z"
   },
   {
    "duration": 19,
    "start_time": "2024-04-16T02:00:47.087Z"
   },
   {
    "duration": 63,
    "start_time": "2024-04-16T02:00:47.107Z"
   },
   {
    "duration": 12,
    "start_time": "2024-04-16T02:00:47.172Z"
   },
   {
    "duration": 338,
    "start_time": "2024-04-16T02:00:47.186Z"
   },
   {
    "duration": 251,
    "start_time": "2024-04-16T02:00:47.526Z"
   },
   {
    "duration": 36,
    "start_time": "2024-04-16T02:00:47.779Z"
   },
   {
    "duration": 52,
    "start_time": "2024-04-16T02:00:47.817Z"
   },
   {
    "duration": 11,
    "start_time": "2024-04-16T02:00:47.871Z"
   },
   {
    "duration": 226,
    "start_time": "2024-04-16T02:00:47.884Z"
   },
   {
    "duration": 3,
    "start_time": "2024-04-16T02:00:48.112Z"
   },
   {
    "duration": 10,
    "start_time": "2024-04-16T02:00:48.116Z"
   },
   {
    "duration": 4,
    "start_time": "2024-04-16T02:00:48.128Z"
   },
   {
    "duration": 29,
    "start_time": "2024-04-16T02:00:48.134Z"
   },
   {
    "duration": 1444,
    "start_time": "2024-04-16T02:00:48.164Z"
   },
   {
    "duration": 2,
    "start_time": "2024-04-16T02:00:49.609Z"
   },
   {
    "duration": 24,
    "start_time": "2024-04-16T02:00:49.614Z"
   },
   {
    "duration": 25,
    "start_time": "2024-04-16T02:00:49.640Z"
   },
   {
    "duration": 6,
    "start_time": "2024-04-16T02:00:49.667Z"
   },
   {
    "duration": 1575,
    "start_time": "2024-04-16T02:01:09.182Z"
   },
   {
    "duration": 659,
    "start_time": "2024-04-16T02:01:48.474Z"
   },
   {
    "duration": 1101,
    "start_time": "2024-04-16T02:02:04.368Z"
   },
   {
    "duration": 106,
    "start_time": "2024-04-16T02:02:05.471Z"
   },
   {
    "duration": 11,
    "start_time": "2024-04-16T02:02:05.579Z"
   },
   {
    "duration": 16,
    "start_time": "2024-04-16T02:02:05.593Z"
   },
   {
    "duration": 18,
    "start_time": "2024-04-16T02:02:05.610Z"
   },
   {
    "duration": 7,
    "start_time": "2024-04-16T02:02:05.629Z"
   },
   {
    "duration": 382,
    "start_time": "2024-04-16T02:02:05.637Z"
   },
   {
    "duration": 138,
    "start_time": "2024-04-16T02:02:06.021Z"
   },
   {
    "duration": 166,
    "start_time": "2024-04-16T02:02:06.160Z"
   },
   {
    "duration": 227,
    "start_time": "2024-04-16T02:02:06.329Z"
   },
   {
    "duration": 103,
    "start_time": "2024-04-16T02:02:06.557Z"
   },
   {
    "duration": 236,
    "start_time": "2024-04-16T02:02:06.661Z"
   },
   {
    "duration": 17,
    "start_time": "2024-04-16T02:02:06.898Z"
   },
   {
    "duration": 56,
    "start_time": "2024-04-16T02:02:06.917Z"
   },
   {
    "duration": 10,
    "start_time": "2024-04-16T02:02:06.975Z"
   },
   {
    "duration": 356,
    "start_time": "2024-04-16T02:02:06.986Z"
   },
   {
    "duration": 262,
    "start_time": "2024-04-16T02:02:07.344Z"
   },
   {
    "duration": 34,
    "start_time": "2024-04-16T02:02:07.608Z"
   },
   {
    "duration": 27,
    "start_time": "2024-04-16T02:02:07.656Z"
   },
   {
    "duration": 13,
    "start_time": "2024-04-16T02:02:07.685Z"
   },
   {
    "duration": 227,
    "start_time": "2024-04-16T02:02:07.699Z"
   },
   {
    "duration": 4,
    "start_time": "2024-04-16T02:02:07.928Z"
   },
   {
    "duration": 28,
    "start_time": "2024-04-16T02:02:07.933Z"
   },
   {
    "duration": 5,
    "start_time": "2024-04-16T02:02:07.963Z"
   },
   {
    "duration": 12,
    "start_time": "2024-04-16T02:02:07.969Z"
   },
   {
    "duration": 760,
    "start_time": "2024-04-16T02:02:07.982Z"
   },
   {
    "duration": 0,
    "start_time": "2024-04-16T02:02:08.744Z"
   },
   {
    "duration": 0,
    "start_time": "2024-04-16T02:02:08.745Z"
   },
   {
    "duration": 0,
    "start_time": "2024-04-16T02:02:08.746Z"
   },
   {
    "duration": 0,
    "start_time": "2024-04-16T02:02:08.748Z"
   },
   {
    "duration": 653,
    "start_time": "2024-04-16T02:02:23.246Z"
   },
   {
    "duration": 631,
    "start_time": "2024-04-16T02:02:31.370Z"
   },
   {
    "duration": 1427,
    "start_time": "2024-04-16T02:02:42.165Z"
   },
   {
    "duration": 1101,
    "start_time": "2024-04-16T02:02:52.747Z"
   },
   {
    "duration": 113,
    "start_time": "2024-04-16T02:02:53.851Z"
   },
   {
    "duration": 11,
    "start_time": "2024-04-16T02:02:53.965Z"
   },
   {
    "duration": 16,
    "start_time": "2024-04-16T02:02:53.978Z"
   },
   {
    "duration": 5,
    "start_time": "2024-04-16T02:02:53.996Z"
   },
   {
    "duration": 8,
    "start_time": "2024-04-16T02:02:54.003Z"
   },
   {
    "duration": 395,
    "start_time": "2024-04-16T02:02:54.013Z"
   },
   {
    "duration": 148,
    "start_time": "2024-04-16T02:02:54.409Z"
   },
   {
    "duration": 181,
    "start_time": "2024-04-16T02:02:54.559Z"
   },
   {
    "duration": 249,
    "start_time": "2024-04-16T02:02:54.743Z"
   },
   {
    "duration": 108,
    "start_time": "2024-04-16T02:02:54.993Z"
   },
   {
    "duration": 250,
    "start_time": "2024-04-16T02:02:55.102Z"
   },
   {
    "duration": 18,
    "start_time": "2024-04-16T02:02:55.356Z"
   },
   {
    "duration": 41,
    "start_time": "2024-04-16T02:02:55.376Z"
   },
   {
    "duration": 10,
    "start_time": "2024-04-16T02:02:55.418Z"
   },
   {
    "duration": 319,
    "start_time": "2024-04-16T02:02:55.455Z"
   },
   {
    "duration": 280,
    "start_time": "2024-04-16T02:02:55.775Z"
   },
   {
    "duration": 34,
    "start_time": "2024-04-16T02:02:56.056Z"
   },
   {
    "duration": 26,
    "start_time": "2024-04-16T02:02:56.091Z"
   },
   {
    "duration": 12,
    "start_time": "2024-04-16T02:02:56.119Z"
   },
   {
    "duration": 209,
    "start_time": "2024-04-16T02:02:56.156Z"
   },
   {
    "duration": 4,
    "start_time": "2024-04-16T02:02:56.367Z"
   },
   {
    "duration": 11,
    "start_time": "2024-04-16T02:02:56.372Z"
   },
   {
    "duration": 6,
    "start_time": "2024-04-16T02:02:56.384Z"
   },
   {
    "duration": 11,
    "start_time": "2024-04-16T02:02:56.392Z"
   },
   {
    "duration": 1472,
    "start_time": "2024-04-16T02:02:56.404Z"
   },
   {
    "duration": 2,
    "start_time": "2024-04-16T02:02:57.877Z"
   },
   {
    "duration": 19,
    "start_time": "2024-04-16T02:02:57.882Z"
   },
   {
    "duration": 6,
    "start_time": "2024-04-16T02:02:57.903Z"
   },
   {
    "duration": 7,
    "start_time": "2024-04-16T02:02:57.911Z"
   },
   {
    "duration": 5,
    "start_time": "2024-04-16T02:08:03.011Z"
   },
   {
    "duration": 4,
    "start_time": "2024-04-16T02:09:44.851Z"
   },
   {
    "duration": 1383,
    "start_time": "2024-04-16T02:14:20.180Z"
   },
   {
    "duration": 5,
    "start_time": "2024-04-16T02:21:33.219Z"
   },
   {
    "duration": 5,
    "start_time": "2024-04-16T02:21:54.136Z"
   },
   {
    "duration": 5,
    "start_time": "2024-04-16T02:22:04.571Z"
   },
   {
    "duration": 5,
    "start_time": "2024-04-16T02:22:13.730Z"
   },
   {
    "duration": 4,
    "start_time": "2024-04-16T02:22:20.173Z"
   },
   {
    "duration": 4,
    "start_time": "2024-04-16T02:22:34.526Z"
   },
   {
    "duration": 4,
    "start_time": "2024-04-16T02:22:48.619Z"
   },
   {
    "duration": 5,
    "start_time": "2024-04-16T02:22:59.720Z"
   },
   {
    "duration": 4,
    "start_time": "2024-04-16T02:23:09.519Z"
   },
   {
    "duration": 5,
    "start_time": "2024-04-16T02:23:18.534Z"
   },
   {
    "duration": 1549,
    "start_time": "2024-04-16T02:25:25.571Z"
   },
   {
    "duration": 802,
    "start_time": "2024-04-16T02:25:49.513Z"
   },
   {
    "duration": 1487,
    "start_time": "2024-04-16T02:26:15.745Z"
   },
   {
    "duration": 1549,
    "start_time": "2024-04-16T02:26:23.422Z"
   },
   {
    "duration": 300,
    "start_time": "2024-04-16T02:33:47.968Z"
   },
   {
    "duration": 5,
    "start_time": "2024-04-16T02:34:45.144Z"
   },
   {
    "duration": 5,
    "start_time": "2024-04-16T02:34:53.929Z"
   },
   {
    "duration": 4,
    "start_time": "2024-04-16T02:35:00.876Z"
   },
   {
    "duration": 5,
    "start_time": "2024-04-16T02:35:12.261Z"
   },
   {
    "duration": 5,
    "start_time": "2024-04-16T02:35:20.359Z"
   },
   {
    "duration": 334,
    "start_time": "2024-04-16T02:45:04.251Z"
   },
   {
    "duration": 498,
    "start_time": "2024-04-16T02:47:21.840Z"
   },
   {
    "duration": 987,
    "start_time": "2024-04-16T02:47:54.450Z"
   },
   {
    "duration": 1696,
    "start_time": "2024-04-16T02:48:07.949Z"
   },
   {
    "duration": 698,
    "start_time": "2024-04-16T02:48:54.550Z"
   },
   {
    "duration": 1860,
    "start_time": "2024-04-16T02:52:14.135Z"
   },
   {
    "duration": 2124,
    "start_time": "2024-04-16T02:52:44.006Z"
   },
   {
    "duration": 4,
    "start_time": "2024-04-16T02:53:53.187Z"
   },
   {
    "duration": 5,
    "start_time": "2024-04-16T02:53:57.176Z"
   },
   {
    "duration": 5,
    "start_time": "2024-04-16T02:54:09.178Z"
   },
   {
    "duration": 5,
    "start_time": "2024-04-16T02:54:15.967Z"
   },
   {
    "duration": 4,
    "start_time": "2024-04-16T02:54:26.798Z"
   },
   {
    "duration": 4,
    "start_time": "2024-04-16T02:54:32.062Z"
   },
   {
    "duration": 5,
    "start_time": "2024-04-16T02:55:12.420Z"
   },
   {
    "duration": 6,
    "start_time": "2024-04-16T02:55:30.108Z"
   },
   {
    "duration": 6,
    "start_time": "2024-04-16T02:55:43.571Z"
   },
   {
    "duration": 6,
    "start_time": "2024-04-16T02:55:57.145Z"
   },
   {
    "duration": 5,
    "start_time": "2024-04-16T02:56:22.285Z"
   },
   {
    "duration": 6,
    "start_time": "2024-04-16T02:56:30.144Z"
   },
   {
    "duration": 5,
    "start_time": "2024-04-16T02:58:16.652Z"
   },
   {
    "duration": 324,
    "start_time": "2024-04-16T03:00:23.412Z"
   },
   {
    "duration": 5,
    "start_time": "2024-04-16T03:07:22.983Z"
   },
   {
    "duration": 5,
    "start_time": "2024-04-16T03:07:32.262Z"
   },
   {
    "duration": 5,
    "start_time": "2024-04-16T03:07:47.932Z"
   },
   {
    "duration": 6,
    "start_time": "2024-04-16T03:10:41.863Z"
   },
   {
    "duration": 5,
    "start_time": "2024-04-16T03:10:47.243Z"
   },
   {
    "duration": 6,
    "start_time": "2024-04-16T03:11:02.220Z"
   },
   {
    "duration": 6,
    "start_time": "2024-04-16T03:11:06.602Z"
   },
   {
    "duration": 5,
    "start_time": "2024-04-16T03:11:40.248Z"
   },
   {
    "duration": 7,
    "start_time": "2024-04-16T03:11:45.229Z"
   },
   {
    "duration": 5,
    "start_time": "2024-04-16T03:11:52.669Z"
   },
   {
    "duration": 6,
    "start_time": "2024-04-16T03:12:27.962Z"
   },
   {
    "duration": 5,
    "start_time": "2024-04-16T03:14:48.752Z"
   },
   {
    "duration": 6,
    "start_time": "2024-04-16T03:15:00.546Z"
   },
   {
    "duration": 5,
    "start_time": "2024-04-16T03:15:13.925Z"
   },
   {
    "duration": 6,
    "start_time": "2024-04-16T03:15:32.384Z"
   },
   {
    "duration": 6,
    "start_time": "2024-04-16T03:15:44.084Z"
   },
   {
    "duration": 5,
    "start_time": "2024-04-16T03:16:00.652Z"
   },
   {
    "duration": 5,
    "start_time": "2024-04-16T03:16:11.596Z"
   },
   {
    "duration": 6,
    "start_time": "2024-04-16T03:16:22.760Z"
   },
   {
    "duration": 6,
    "start_time": "2024-04-16T03:16:28.052Z"
   },
   {
    "duration": 5,
    "start_time": "2024-04-16T03:16:34.001Z"
   },
   {
    "duration": 6,
    "start_time": "2024-04-16T03:16:40.423Z"
   },
   {
    "duration": 5,
    "start_time": "2024-04-16T03:16:45.477Z"
   },
   {
    "duration": 5,
    "start_time": "2024-04-16T03:16:49.383Z"
   },
   {
    "duration": 7,
    "start_time": "2024-04-16T03:16:54.676Z"
   },
   {
    "duration": 5,
    "start_time": "2024-04-16T03:17:01.594Z"
   },
   {
    "duration": 6,
    "start_time": "2024-04-16T03:17:06.663Z"
   },
   {
    "duration": 6,
    "start_time": "2024-04-16T03:19:15.534Z"
   },
   {
    "duration": 336,
    "start_time": "2024-04-16T03:20:00.343Z"
   },
   {
    "duration": 2464,
    "start_time": "2024-04-16T03:21:28.353Z"
   },
   {
    "duration": 2564,
    "start_time": "2024-04-16T03:29:53.046Z"
   },
   {
    "duration": 6,
    "start_time": "2024-04-16T03:34:52.652Z"
   },
   {
    "duration": 6,
    "start_time": "2024-04-16T03:34:59.387Z"
   },
   {
    "duration": 5,
    "start_time": "2024-04-16T03:39:26.819Z"
   },
   {
    "duration": 6,
    "start_time": "2024-04-16T03:39:42.100Z"
   },
   {
    "duration": 5,
    "start_time": "2024-04-16T03:40:38.905Z"
   },
   {
    "duration": 9,
    "start_time": "2024-04-16T03:42:42.382Z"
   },
   {
    "duration": 6,
    "start_time": "2024-04-16T03:43:08.731Z"
   },
   {
    "duration": 6,
    "start_time": "2024-04-16T03:45:02.532Z"
   },
   {
    "duration": 1439,
    "start_time": "2024-04-16T03:45:58.196Z"
   },
   {
    "duration": 1470,
    "start_time": "2024-04-16T03:46:57.447Z"
   },
   {
    "duration": 5,
    "start_time": "2024-04-16T03:48:43.445Z"
   },
   {
    "duration": 6,
    "start_time": "2024-04-16T03:50:55.877Z"
   },
   {
    "duration": 5,
    "start_time": "2024-04-16T03:51:17.376Z"
   },
   {
    "duration": 84,
    "start_time": "2024-04-16T03:52:29.787Z"
   },
   {
    "duration": 11,
    "start_time": "2024-04-16T03:52:37.589Z"
   },
   {
    "duration": 8,
    "start_time": "2024-04-16T03:53:04.074Z"
   },
   {
    "duration": 111,
    "start_time": "2024-04-16T03:53:30.935Z"
   },
   {
    "duration": 115,
    "start_time": "2024-04-16T03:53:57.856Z"
   },
   {
    "duration": 101,
    "start_time": "2024-04-16T03:57:05.232Z"
   },
   {
    "duration": 6,
    "start_time": "2024-04-16T03:57:26.303Z"
   },
   {
    "duration": 10,
    "start_time": "2024-04-16T03:57:42.879Z"
   },
   {
    "duration": 9,
    "start_time": "2024-04-16T03:57:50.669Z"
   },
   {
    "duration": 4,
    "start_time": "2024-04-16T03:58:01.425Z"
   },
   {
    "duration": 5,
    "start_time": "2024-04-16T03:58:20.461Z"
   },
   {
    "duration": 6,
    "start_time": "2024-04-16T03:58:27.837Z"
   },
   {
    "duration": 7,
    "start_time": "2024-04-16T04:16:44.886Z"
   },
   {
    "duration": 9,
    "start_time": "2024-04-16T04:17:39.984Z"
   },
   {
    "duration": 10,
    "start_time": "2024-04-16T04:18:04.234Z"
   },
   {
    "duration": 11,
    "start_time": "2024-04-16T04:18:53.067Z"
   },
   {
    "duration": 28,
    "start_time": "2024-04-16T04:24:09.413Z"
   },
   {
    "duration": 13,
    "start_time": "2024-04-16T04:24:29.699Z"
   },
   {
    "duration": 12,
    "start_time": "2024-04-16T04:24:53.016Z"
   },
   {
    "duration": 4,
    "start_time": "2024-04-16T04:25:29.388Z"
   },
   {
    "duration": 5,
    "start_time": "2024-04-16T04:25:39.688Z"
   },
   {
    "duration": 16,
    "start_time": "2024-04-16T04:26:29.123Z"
   },
   {
    "duration": 18,
    "start_time": "2024-04-16T04:27:44.827Z"
   },
   {
    "duration": 19,
    "start_time": "2024-04-16T04:31:09.600Z"
   },
   {
    "duration": 21,
    "start_time": "2024-04-16T04:31:40.120Z"
   },
   {
    "duration": 25,
    "start_time": "2024-04-16T04:31:53.186Z"
   },
   {
    "duration": 19,
    "start_time": "2024-04-16T04:32:23.469Z"
   },
   {
    "duration": 22,
    "start_time": "2024-04-16T04:32:35.637Z"
   },
   {
    "duration": 18,
    "start_time": "2024-04-16T04:33:05.492Z"
   },
   {
    "duration": 18,
    "start_time": "2024-04-16T04:33:19.170Z"
   },
   {
    "duration": 15,
    "start_time": "2024-04-16T04:33:29.543Z"
   },
   {
    "duration": 16,
    "start_time": "2024-04-16T04:34:01.382Z"
   },
   {
    "duration": 1167,
    "start_time": "2024-04-16T04:39:13.049Z"
   },
   {
    "duration": 111,
    "start_time": "2024-04-16T04:39:14.218Z"
   },
   {
    "duration": 10,
    "start_time": "2024-04-16T04:39:14.331Z"
   },
   {
    "duration": 15,
    "start_time": "2024-04-16T04:39:14.343Z"
   },
   {
    "duration": 4,
    "start_time": "2024-04-16T04:39:14.360Z"
   },
   {
    "duration": 19,
    "start_time": "2024-04-16T04:39:14.366Z"
   },
   {
    "duration": 390,
    "start_time": "2024-04-16T04:39:14.387Z"
   },
   {
    "duration": 145,
    "start_time": "2024-04-16T04:39:14.779Z"
   },
   {
    "duration": 181,
    "start_time": "2024-04-16T04:39:14.925Z"
   },
   {
    "duration": 258,
    "start_time": "2024-04-16T04:39:15.109Z"
   },
   {
    "duration": 112,
    "start_time": "2024-04-16T04:39:15.368Z"
   },
   {
    "duration": 245,
    "start_time": "2024-04-16T04:39:15.481Z"
   },
   {
    "duration": 28,
    "start_time": "2024-04-16T04:39:15.728Z"
   },
   {
    "duration": 41,
    "start_time": "2024-04-16T04:39:15.757Z"
   },
   {
    "duration": 10,
    "start_time": "2024-04-16T04:39:15.799Z"
   },
   {
    "duration": 350,
    "start_time": "2024-04-16T04:39:15.811Z"
   },
   {
    "duration": 275,
    "start_time": "2024-04-16T04:39:16.162Z"
   },
   {
    "duration": 39,
    "start_time": "2024-04-16T04:39:16.439Z"
   },
   {
    "duration": 27,
    "start_time": "2024-04-16T04:39:16.480Z"
   },
   {
    "duration": 12,
    "start_time": "2024-04-16T04:39:16.509Z"
   },
   {
    "duration": 252,
    "start_time": "2024-04-16T04:39:16.523Z"
   },
   {
    "duration": 15,
    "start_time": "2024-04-16T04:39:16.777Z"
   },
   {
    "duration": 4,
    "start_time": "2024-04-16T04:39:16.793Z"
   },
   {
    "duration": 40,
    "start_time": "2024-04-16T04:39:16.798Z"
   },
   {
    "duration": 15,
    "start_time": "2024-04-16T04:39:16.840Z"
   },
   {
    "duration": 12,
    "start_time": "2024-04-16T04:39:16.856Z"
   },
   {
    "duration": 2,
    "start_time": "2024-04-16T04:39:16.869Z"
   },
   {
    "duration": 4,
    "start_time": "2024-04-16T04:39:16.874Z"
   },
   {
    "duration": 5,
    "start_time": "2024-04-16T04:39:16.880Z"
   },
   {
    "duration": 2490,
    "start_time": "2024-04-16T04:39:16.886Z"
   },
   {
    "duration": 6,
    "start_time": "2024-04-16T04:39:19.377Z"
   },
   {
    "duration": 1177,
    "start_time": "2024-04-16T04:44:50.543Z"
   },
   {
    "duration": 109,
    "start_time": "2024-04-16T04:44:51.722Z"
   },
   {
    "duration": 12,
    "start_time": "2024-04-16T04:44:51.833Z"
   },
   {
    "duration": 17,
    "start_time": "2024-04-16T04:44:51.847Z"
   },
   {
    "duration": 7,
    "start_time": "2024-04-16T04:44:51.865Z"
   },
   {
    "duration": 10,
    "start_time": "2024-04-16T04:44:51.874Z"
   },
   {
    "duration": 369,
    "start_time": "2024-04-16T04:44:51.886Z"
   },
   {
    "duration": 143,
    "start_time": "2024-04-16T04:44:52.257Z"
   },
   {
    "duration": 176,
    "start_time": "2024-04-16T04:44:52.402Z"
   },
   {
    "duration": 251,
    "start_time": "2024-04-16T04:44:52.582Z"
   },
   {
    "duration": 113,
    "start_time": "2024-04-16T04:44:52.835Z"
   },
   {
    "duration": 255,
    "start_time": "2024-04-16T04:44:52.950Z"
   },
   {
    "duration": 19,
    "start_time": "2024-04-16T04:44:53.207Z"
   },
   {
    "duration": 61,
    "start_time": "2024-04-16T04:44:53.228Z"
   },
   {
    "duration": 10,
    "start_time": "2024-04-16T04:44:53.290Z"
   },
   {
    "duration": 339,
    "start_time": "2024-04-16T04:44:53.301Z"
   },
   {
    "duration": 262,
    "start_time": "2024-04-16T04:44:53.642Z"
   },
   {
    "duration": 52,
    "start_time": "2024-04-16T04:44:53.905Z"
   },
   {
    "duration": 28,
    "start_time": "2024-04-16T04:44:53.958Z"
   },
   {
    "duration": 13,
    "start_time": "2024-04-16T04:44:53.987Z"
   },
   {
    "duration": 237,
    "start_time": "2024-04-16T04:44:54.002Z"
   },
   {
    "duration": 25,
    "start_time": "2024-04-16T04:44:54.240Z"
   },
   {
    "duration": 4,
    "start_time": "2024-04-16T04:44:54.267Z"
   },
   {
    "duration": 11,
    "start_time": "2024-04-16T04:44:54.272Z"
   },
   {
    "duration": 25,
    "start_time": "2024-04-16T04:44:54.284Z"
   },
   {
    "duration": 21,
    "start_time": "2024-04-16T04:44:54.311Z"
   },
   {
    "duration": 19,
    "start_time": "2024-04-16T04:44:54.333Z"
   },
   {
    "duration": 7,
    "start_time": "2024-04-16T04:44:54.356Z"
   },
   {
    "duration": 13,
    "start_time": "2024-04-16T04:44:54.364Z"
   },
   {
    "duration": 2389,
    "start_time": "2024-04-16T04:44:54.379Z"
   },
   {
    "duration": 5,
    "start_time": "2024-04-16T04:44:56.770Z"
   },
   {
    "duration": 75,
    "start_time": "2024-04-16T17:29:58.223Z"
   },
   {
    "duration": 1100,
    "start_time": "2024-04-16T17:30:06.485Z"
   },
   {
    "duration": 245,
    "start_time": "2024-04-16T17:30:07.587Z"
   },
   {
    "duration": 12,
    "start_time": "2024-04-16T17:30:07.833Z"
   },
   {
    "duration": 15,
    "start_time": "2024-04-16T17:30:07.847Z"
   },
   {
    "duration": 5,
    "start_time": "2024-04-16T17:30:07.863Z"
   },
   {
    "duration": 16,
    "start_time": "2024-04-16T17:30:07.870Z"
   },
   {
    "duration": 363,
    "start_time": "2024-04-16T17:30:07.887Z"
   },
   {
    "duration": 149,
    "start_time": "2024-04-16T17:30:08.252Z"
   },
   {
    "duration": 202,
    "start_time": "2024-04-16T17:30:08.402Z"
   },
   {
    "duration": 259,
    "start_time": "2024-04-16T17:30:08.607Z"
   },
   {
    "duration": 121,
    "start_time": "2024-04-16T17:30:08.867Z"
   },
   {
    "duration": 126,
    "start_time": "2024-04-16T17:30:08.990Z"
   },
   {
    "duration": 0,
    "start_time": "2024-04-16T17:30:09.118Z"
   },
   {
    "duration": 0,
    "start_time": "2024-04-16T17:30:09.119Z"
   },
   {
    "duration": 0,
    "start_time": "2024-04-16T17:30:09.120Z"
   },
   {
    "duration": 0,
    "start_time": "2024-04-16T17:30:09.122Z"
   },
   {
    "duration": 0,
    "start_time": "2024-04-16T17:30:09.123Z"
   },
   {
    "duration": 0,
    "start_time": "2024-04-16T17:30:09.124Z"
   },
   {
    "duration": 0,
    "start_time": "2024-04-16T17:30:09.125Z"
   },
   {
    "duration": 0,
    "start_time": "2024-04-16T17:30:09.126Z"
   },
   {
    "duration": 0,
    "start_time": "2024-04-16T17:30:09.127Z"
   },
   {
    "duration": 0,
    "start_time": "2024-04-16T17:30:09.128Z"
   },
   {
    "duration": 0,
    "start_time": "2024-04-16T17:30:09.129Z"
   },
   {
    "duration": 0,
    "start_time": "2024-04-16T17:30:09.130Z"
   },
   {
    "duration": 0,
    "start_time": "2024-04-16T17:30:09.131Z"
   },
   {
    "duration": 0,
    "start_time": "2024-04-16T17:30:09.132Z"
   },
   {
    "duration": 0,
    "start_time": "2024-04-16T17:30:09.132Z"
   },
   {
    "duration": 0,
    "start_time": "2024-04-16T17:30:09.169Z"
   },
   {
    "duration": 0,
    "start_time": "2024-04-16T17:30:09.170Z"
   },
   {
    "duration": 0,
    "start_time": "2024-04-16T17:30:09.171Z"
   },
   {
    "duration": 0,
    "start_time": "2024-04-16T17:30:09.172Z"
   },
   {
    "duration": 0,
    "start_time": "2024-04-16T17:30:09.173Z"
   },
   {
    "duration": 24,
    "start_time": "2024-04-16T17:30:22.462Z"
   },
   {
    "duration": 4,
    "start_time": "2024-04-16T17:30:51.128Z"
   },
   {
    "duration": 314,
    "start_time": "2024-04-16T17:30:58.370Z"
   },
   {
    "duration": 241,
    "start_time": "2024-04-16T17:31:11.493Z"
   },
   {
    "duration": 142,
    "start_time": "2024-04-16T17:31:20.443Z"
   },
   {
    "duration": 219,
    "start_time": "2024-04-16T17:31:34.707Z"
   },
   {
    "duration": 204,
    "start_time": "2024-04-16T17:32:18.947Z"
   },
   {
    "duration": 292,
    "start_time": "2024-04-16T17:32:49.975Z"
   },
   {
    "duration": 237,
    "start_time": "2024-04-16T17:33:04.599Z"
   },
   {
    "duration": 279,
    "start_time": "2024-04-16T17:33:09.203Z"
   },
   {
    "duration": 269,
    "start_time": "2024-04-16T17:33:14.188Z"
   },
   {
    "duration": 263,
    "start_time": "2024-04-16T17:33:23.691Z"
   },
   {
    "duration": 307,
    "start_time": "2024-04-16T17:33:32.071Z"
   },
   {
    "duration": 334,
    "start_time": "2024-04-16T17:33:52.706Z"
   },
   {
    "duration": 385,
    "start_time": "2024-04-16T17:34:10.845Z"
   },
   {
    "duration": 400,
    "start_time": "2024-04-16T17:34:38.314Z"
   },
   {
    "duration": 399,
    "start_time": "2024-04-16T17:34:49.524Z"
   },
   {
    "duration": 1115,
    "start_time": "2024-04-16T17:35:28.375Z"
   },
   {
    "duration": 128,
    "start_time": "2024-04-16T17:35:29.492Z"
   },
   {
    "duration": 11,
    "start_time": "2024-04-16T17:35:29.621Z"
   },
   {
    "duration": 17,
    "start_time": "2024-04-16T17:35:29.633Z"
   },
   {
    "duration": 22,
    "start_time": "2024-04-16T17:35:29.652Z"
   },
   {
    "duration": 7,
    "start_time": "2024-04-16T17:35:29.678Z"
   },
   {
    "duration": 393,
    "start_time": "2024-04-16T17:35:29.686Z"
   },
   {
    "duration": 146,
    "start_time": "2024-04-16T17:35:30.082Z"
   },
   {
    "duration": 187,
    "start_time": "2024-04-16T17:35:30.229Z"
   },
   {
    "duration": 276,
    "start_time": "2024-04-16T17:35:30.418Z"
   },
   {
    "duration": 101,
    "start_time": "2024-04-16T17:35:30.695Z"
   },
   {
    "duration": 404,
    "start_time": "2024-04-16T17:35:30.798Z"
   },
   {
    "duration": 477,
    "start_time": "2024-04-16T17:35:31.203Z"
   },
   {
    "duration": 18,
    "start_time": "2024-04-16T17:35:31.683Z"
   },
   {
    "duration": 117,
    "start_time": "2024-04-16T17:35:31.703Z"
   },
   {
    "duration": 10,
    "start_time": "2024-04-16T17:35:31.822Z"
   },
   {
    "duration": 317,
    "start_time": "2024-04-16T17:35:31.834Z"
   },
   {
    "duration": 282,
    "start_time": "2024-04-16T17:35:32.153Z"
   },
   {
    "duration": 60,
    "start_time": "2024-04-16T17:35:32.436Z"
   },
   {
    "duration": 29,
    "start_time": "2024-04-16T17:35:32.498Z"
   },
   {
    "duration": 45,
    "start_time": "2024-04-16T17:35:32.529Z"
   },
   {
    "duration": 222,
    "start_time": "2024-04-16T17:35:32.576Z"
   },
   {
    "duration": 13,
    "start_time": "2024-04-16T17:35:32.800Z"
   },
   {
    "duration": 11,
    "start_time": "2024-04-16T17:35:32.814Z"
   },
   {
    "duration": 9,
    "start_time": "2024-04-16T17:35:32.827Z"
   },
   {
    "duration": 41,
    "start_time": "2024-04-16T17:35:32.837Z"
   },
   {
    "duration": 29,
    "start_time": "2024-04-16T17:35:32.880Z"
   },
   {
    "duration": 17,
    "start_time": "2024-04-16T17:35:32.911Z"
   },
   {
    "duration": 8,
    "start_time": "2024-04-16T17:35:32.929Z"
   },
   {
    "duration": 15,
    "start_time": "2024-04-16T17:35:32.939Z"
   },
   {
    "duration": 2407,
    "start_time": "2024-04-16T17:35:32.955Z"
   },
   {
    "duration": 14,
    "start_time": "2024-04-16T17:35:35.365Z"
   },
   {
    "duration": 23,
    "start_time": "2024-04-16T17:41:09.376Z"
   },
   {
    "duration": 8,
    "start_time": "2024-04-16T17:42:34.701Z"
   },
   {
    "duration": 5,
    "start_time": "2024-04-16T17:50:27.125Z"
   },
   {
    "duration": 4,
    "start_time": "2024-04-16T17:52:08.396Z"
   },
   {
    "duration": 6,
    "start_time": "2024-04-16T17:52:12.089Z"
   },
   {
    "duration": 9,
    "start_time": "2024-04-16T17:52:12.652Z"
   },
   {
    "duration": 921,
    "start_time": "2024-04-16T17:52:13.618Z"
   },
   {
    "duration": 1118,
    "start_time": "2024-04-16T17:52:17.924Z"
   },
   {
    "duration": 119,
    "start_time": "2024-04-16T17:52:19.043Z"
   },
   {
    "duration": 26,
    "start_time": "2024-04-16T17:52:19.164Z"
   },
   {
    "duration": 16,
    "start_time": "2024-04-16T17:52:19.192Z"
   },
   {
    "duration": 4,
    "start_time": "2024-04-16T17:52:19.209Z"
   },
   {
    "duration": 9,
    "start_time": "2024-04-16T17:52:19.215Z"
   },
   {
    "duration": 410,
    "start_time": "2024-04-16T17:52:19.225Z"
   },
   {
    "duration": 163,
    "start_time": "2024-04-16T17:52:19.637Z"
   },
   {
    "duration": 186,
    "start_time": "2024-04-16T17:52:19.802Z"
   },
   {
    "duration": 252,
    "start_time": "2024-04-16T17:52:19.995Z"
   },
   {
    "duration": 128,
    "start_time": "2024-04-16T17:52:20.248Z"
   },
   {
    "duration": 436,
    "start_time": "2024-04-16T17:52:20.378Z"
   },
   {
    "duration": 333,
    "start_time": "2024-04-16T17:52:20.815Z"
   },
   {
    "duration": 36,
    "start_time": "2024-04-16T17:52:21.152Z"
   },
   {
    "duration": 40,
    "start_time": "2024-04-16T17:52:21.190Z"
   },
   {
    "duration": 10,
    "start_time": "2024-04-16T17:52:21.231Z"
   },
   {
    "duration": 292,
    "start_time": "2024-04-16T17:52:21.242Z"
   },
   {
    "duration": 291,
    "start_time": "2024-04-16T17:52:21.535Z"
   },
   {
    "duration": 52,
    "start_time": "2024-04-16T17:52:21.828Z"
   },
   {
    "duration": 34,
    "start_time": "2024-04-16T17:52:21.881Z"
   },
   {
    "duration": 30,
    "start_time": "2024-04-16T17:52:21.917Z"
   },
   {
    "duration": 252,
    "start_time": "2024-04-16T17:52:21.948Z"
   },
   {
    "duration": 19,
    "start_time": "2024-04-16T17:52:22.201Z"
   },
   {
    "duration": 5,
    "start_time": "2024-04-16T17:52:22.222Z"
   },
   {
    "duration": 8,
    "start_time": "2024-04-16T17:52:22.229Z"
   },
   {
    "duration": 10,
    "start_time": "2024-04-16T17:52:22.264Z"
   },
   {
    "duration": 29,
    "start_time": "2024-04-16T17:52:22.277Z"
   },
   {
    "duration": 13,
    "start_time": "2024-04-16T17:52:22.307Z"
   },
   {
    "duration": 5,
    "start_time": "2024-04-16T17:52:22.321Z"
   },
   {
    "duration": 7,
    "start_time": "2024-04-16T17:52:22.327Z"
   },
   {
    "duration": 27,
    "start_time": "2024-04-16T17:52:22.336Z"
   },
   {
    "duration": 2537,
    "start_time": "2024-04-16T17:52:22.364Z"
   },
   {
    "duration": 7,
    "start_time": "2024-04-16T17:52:24.903Z"
   },
   {
    "duration": 14,
    "start_time": "2024-04-16T17:52:24.911Z"
   },
   {
    "duration": 15,
    "start_time": "2024-04-16T17:52:24.927Z"
   },
   {
    "duration": 15,
    "start_time": "2024-04-16T17:52:24.944Z"
   },
   {
    "duration": 19,
    "start_time": "2024-04-16T17:52:24.961Z"
   },
   {
    "duration": 20,
    "start_time": "2024-04-16T17:52:24.985Z"
   },
   {
    "duration": 29,
    "start_time": "2024-04-16T17:52:25.007Z"
   },
   {
    "duration": 44,
    "start_time": "2024-04-16T17:52:25.038Z"
   },
   {
    "duration": 11,
    "start_time": "2024-04-16T17:52:25.091Z"
   },
   {
    "duration": 27,
    "start_time": "2024-04-16T17:52:25.104Z"
   },
   {
    "duration": 14,
    "start_time": "2024-04-16T17:52:25.133Z"
   },
   {
    "duration": 46,
    "start_time": "2024-04-16T17:52:25.148Z"
   },
   {
    "duration": 10,
    "start_time": "2024-04-16T17:52:25.196Z"
   },
   {
    "duration": 13,
    "start_time": "2024-04-16T17:52:25.208Z"
   },
   {
    "duration": 15,
    "start_time": "2024-04-16T17:52:25.223Z"
   },
   {
    "duration": 914,
    "start_time": "2024-04-16T17:52:25.239Z"
   },
   {
    "duration": 2,
    "start_time": "2024-04-16T17:52:26.155Z"
   },
   {
    "duration": 35,
    "start_time": "2024-04-16T17:52:26.159Z"
   },
   {
    "duration": 39,
    "start_time": "2024-04-16T17:52:26.196Z"
   },
   {
    "duration": 18,
    "start_time": "2024-04-16T17:52:26.236Z"
   },
   {
    "duration": 19,
    "start_time": "2024-04-16T17:52:26.255Z"
   },
   {
    "duration": 840,
    "start_time": "2024-04-16T17:52:26.279Z"
   },
   {
    "duration": 47,
    "start_time": "2024-04-16T18:17:34.418Z"
   }
  ],
  "kernelspec": {
   "display_name": "practicum",
   "language": "python",
   "name": "python3"
  },
  "language_info": {
   "codemirror_mode": {
    "name": "ipython",
    "version": 3
   },
   "file_extension": ".py",
   "mimetype": "text/x-python",
   "name": "python",
   "nbconvert_exporter": "python",
   "pygments_lexer": "ipython3",
   "version": "3.11.9"
  },
  "toc": {
   "base_numbering": 1,
   "nav_menu": {},
   "number_sections": true,
   "sideBar": true,
   "skip_h1_title": true,
   "title_cell": "Table of Contents",
   "title_sidebar": "Contents",
   "toc_cell": false,
   "toc_position": {
    "height": "calc(100% - 180px)",
    "left": "10px",
    "top": "150px",
    "width": "313px"
   },
   "toc_section_display": true,
   "toc_window_display": true
  }
 },
 "nbformat": 4,
 "nbformat_minor": 5
}
