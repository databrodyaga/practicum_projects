{
 "cells": [
  {
   "cell_type": "markdown",
   "metadata": {},
   "source": [
    "# Selecting a location for a well for the company “GlavRosGosNeft”"
   ]
  },
  {
   "cell_type": "markdown",
   "metadata": {},
   "source": [
    "Assuming we are working in the oil company \"GlavRosGosNeft\", we need to decide where to drill a new well. \n",
    "We have been provided with 10,000 oil samples from three regions, where the quality of the oil and the volume of its reserves were measured.\n",
    "\n",
    "**Our Goal:** \n",
    "Build a machine learning model that will help determine the region where extraction will bring the highest profit. We will analyze possible profits and risks using the Bootstrap technique.\n",
    "\n",
    "**Steps for Choosing a Location:**\n",
    "- In the chosen region, we search for oil fields and determine the values of characteristics for each;\n",
    "- Build a model to evaluate the volume of reserves;\n",
    "- Choose oil fields with the highest rated values. The number of oil fields depends on the company's budget and the cost of developing one well;\n",
    "- Profit is equal to the total profit from selected oil fields.\n",
    "\n",
    "**Project Content:**\n",
    "\n",
    "[Loading data](#Loading-data)\\\n",
    "[Data preprocessing and exploratory analysis](#Data-preprocessing-and-exploratory-analysis)\\\n",
    "[Model training and validation](#Model-training-and-validation)\\\n",
    "[Preparing for profit calculation](#Preparing-for-profit-calculation)\\\n",
    "[Profit and risk calculation](#Profit-and-risk-calculation)\\\n",
    "[General conclusion](#General-conclusion)"
   ]
  },
  {
   "cell_type": "code",
   "execution_count": 1,
   "metadata": {},
   "outputs": [],
   "source": [
    "%%capture\n",
    "!pip install --upgrade matplotlib seaborn scikit-learn scipy pandas shap"
   ]
  },
  {
   "cell_type": "code",
   "execution_count": 2,
   "metadata": {},
   "outputs": [
    {
     "name": "stdout",
     "output_type": "stream",
     "text": [
      "2.0.0\n"
     ]
    },
    {
     "name": "stderr",
     "output_type": "stream",
     "text": [
      "\n",
      "A module that was compiled using NumPy 1.x cannot be run in\n",
      "NumPy 2.0.0 as it may crash. To support both 1.x and 2.x\n",
      "versions of NumPy, modules must be compiled with NumPy 2.0.\n",
      "Some module may need to rebuild instead e.g. with 'pybind11>=2.12'.\n",
      "\n",
      "If you are a user of the module, the easiest solution will be to\n",
      "downgrade to 'numpy<2' or try to upgrade the affected module.\n",
      "We expect that some modules will need time to support NumPy 2.\n",
      "\n",
      "Traceback (most recent call last):  File \"/opt/conda/lib/python3.9/runpy.py\", line 197, in _run_module_as_main\n",
      "    return _run_code(code, main_globals, None,\n",
      "  File \"/opt/conda/lib/python3.9/runpy.py\", line 87, in _run_code\n",
      "    exec(code, run_globals)\n",
      "  File \"/opt/conda/lib/python3.9/site-packages/ipykernel_launcher.py\", line 16, in <module>\n",
      "    app.launch_new_instance()\n",
      "  File \"/opt/conda/lib/python3.9/site-packages/traitlets/config/application.py\", line 845, in launch_instance\n",
      "    app.start()\n",
      "  File \"/opt/conda/lib/python3.9/site-packages/ipykernel/kernelapp.py\", line 668, in start\n",
      "    self.io_loop.start()\n",
      "  File \"/opt/conda/lib/python3.9/site-packages/tornado/platform/asyncio.py\", line 199, in start\n",
      "    self.asyncio_loop.run_forever()\n",
      "  File \"/opt/conda/lib/python3.9/asyncio/base_events.py\", line 596, in run_forever\n",
      "    self._run_once()\n",
      "  File \"/opt/conda/lib/python3.9/asyncio/base_events.py\", line 1890, in _run_once\n",
      "    handle._run()\n",
      "  File \"/opt/conda/lib/python3.9/asyncio/events.py\", line 80, in _run\n",
      "    self._context.run(self._callback, *self._args)\n",
      "  File \"/opt/conda/lib/python3.9/site-packages/ipykernel/kernelbase.py\", line 456, in dispatch_queue\n",
      "    await self.process_one()\n",
      "  File \"/opt/conda/lib/python3.9/site-packages/ipykernel/kernelbase.py\", line 445, in process_one\n",
      "    await dispatch(*args)\n",
      "  File \"/opt/conda/lib/python3.9/site-packages/ipykernel/kernelbase.py\", line 352, in dispatch_shell\n",
      "    await result\n",
      "  File \"/opt/conda/lib/python3.9/site-packages/ipykernel/kernelbase.py\", line 647, in execute_request\n",
      "    reply_content = await reply_content\n",
      "  File \"/opt/conda/lib/python3.9/site-packages/ipykernel/ipkernel.py\", line 335, in do_execute\n",
      "    res = shell.run_cell(code, store_history=store_history, silent=silent)\n",
      "  File \"/opt/conda/lib/python3.9/site-packages/ipykernel/zmqshell.py\", line 532, in run_cell\n",
      "    return super(ZMQInteractiveShell, self).run_cell(*args, **kwargs)\n",
      "  File \"/opt/conda/lib/python3.9/site-packages/IPython/core/interactiveshell.py\", line 2898, in run_cell\n",
      "    result = self._run_cell(\n",
      "  File \"/opt/conda/lib/python3.9/site-packages/IPython/core/interactiveshell.py\", line 2944, in _run_cell\n",
      "    return runner(coro)\n",
      "  File \"/opt/conda/lib/python3.9/site-packages/IPython/core/async_helpers.py\", line 68, in _pseudo_sync_runner\n",
      "    coro.send(None)\n",
      "  File \"/opt/conda/lib/python3.9/site-packages/IPython/core/interactiveshell.py\", line 3169, in run_cell_async\n",
      "    has_raised = await self.run_ast_nodes(code_ast.body, cell_name,\n",
      "  File \"/opt/conda/lib/python3.9/site-packages/IPython/core/interactiveshell.py\", line 3361, in run_ast_nodes\n",
      "    if (await self.run_code(code, result,  async_=asy)):\n",
      "  File \"/opt/conda/lib/python3.9/site-packages/IPython/core/interactiveshell.py\", line 3441, in run_code\n",
      "    exec(code_obj, self.user_global_ns, self.user_ns)\n",
      "  File \"/tmp/ipykernel_131/3316974068.py\", line 4, in <module>\n",
      "    import shap\n",
      "  File \"/opt/conda/lib/python3.9/site-packages/shap/__init__.py\", line 1, in <module>\n",
      "    from ._explanation import Cohorts, Explanation\n",
      "  File \"/opt/conda/lib/python3.9/site-packages/shap/_explanation.py\", line 6, in <module>\n",
      "    import pandas as pd\n",
      "  File \"/opt/conda/lib/python3.9/site-packages/pandas/__init__.py\", line 26, in <module>\n",
      "    from pandas.compat import (\n",
      "  File \"/opt/conda/lib/python3.9/site-packages/pandas/compat/__init__.py\", line 27, in <module>\n",
      "    from pandas.compat.pyarrow import (\n",
      "  File \"/opt/conda/lib/python3.9/site-packages/pandas/compat/pyarrow.py\", line 8, in <module>\n",
      "    import pyarrow as pa\n",
      "  File \"/opt/conda/lib/python3.9/site-packages/pyarrow/__init__.py\", line 63, in <module>\n",
      "    import pyarrow.lib as _lib\n"
     ]
    },
    {
     "ename": "AttributeError",
     "evalue": "_ARRAY_API not found",
     "output_type": "error",
     "traceback": [
      "\u001b[0;31m---------------------------------------------------------------------------\u001b[0m",
      "\u001b[0;31mAttributeError\u001b[0m                            Traceback (most recent call last)",
      "\u001b[0;31mAttributeError\u001b[0m: _ARRAY_API not found"
     ]
    },
    {
     "name": "stderr",
     "output_type": "stream",
     "text": [
      "\n",
      "A module that was compiled using NumPy 1.x cannot be run in\n",
      "NumPy 2.0.0 as it may crash. To support both 1.x and 2.x\n",
      "versions of NumPy, modules must be compiled with NumPy 2.0.\n",
      "Some module may need to rebuild instead e.g. with 'pybind11>=2.12'.\n",
      "\n",
      "If you are a user of the module, the easiest solution will be to\n",
      "downgrade to 'numpy<2' or try to upgrade the affected module.\n",
      "We expect that some modules will need time to support NumPy 2.\n",
      "\n",
      "Traceback (most recent call last):  File \"/opt/conda/lib/python3.9/runpy.py\", line 197, in _run_module_as_main\n",
      "    return _run_code(code, main_globals, None,\n",
      "  File \"/opt/conda/lib/python3.9/runpy.py\", line 87, in _run_code\n",
      "    exec(code, run_globals)\n",
      "  File \"/opt/conda/lib/python3.9/site-packages/ipykernel_launcher.py\", line 16, in <module>\n",
      "    app.launch_new_instance()\n",
      "  File \"/opt/conda/lib/python3.9/site-packages/traitlets/config/application.py\", line 845, in launch_instance\n",
      "    app.start()\n",
      "  File \"/opt/conda/lib/python3.9/site-packages/ipykernel/kernelapp.py\", line 668, in start\n",
      "    self.io_loop.start()\n",
      "  File \"/opt/conda/lib/python3.9/site-packages/tornado/platform/asyncio.py\", line 199, in start\n",
      "    self.asyncio_loop.run_forever()\n",
      "  File \"/opt/conda/lib/python3.9/asyncio/base_events.py\", line 596, in run_forever\n",
      "    self._run_once()\n",
      "  File \"/opt/conda/lib/python3.9/asyncio/base_events.py\", line 1890, in _run_once\n",
      "    handle._run()\n",
      "  File \"/opt/conda/lib/python3.9/asyncio/events.py\", line 80, in _run\n",
      "    self._context.run(self._callback, *self._args)\n",
      "  File \"/opt/conda/lib/python3.9/site-packages/ipykernel/kernelbase.py\", line 456, in dispatch_queue\n",
      "    await self.process_one()\n",
      "  File \"/opt/conda/lib/python3.9/site-packages/ipykernel/kernelbase.py\", line 445, in process_one\n",
      "    await dispatch(*args)\n",
      "  File \"/opt/conda/lib/python3.9/site-packages/ipykernel/kernelbase.py\", line 352, in dispatch_shell\n",
      "    await result\n",
      "  File \"/opt/conda/lib/python3.9/site-packages/ipykernel/kernelbase.py\", line 647, in execute_request\n",
      "    reply_content = await reply_content\n",
      "  File \"/opt/conda/lib/python3.9/site-packages/ipykernel/ipkernel.py\", line 335, in do_execute\n",
      "    res = shell.run_cell(code, store_history=store_history, silent=silent)\n",
      "  File \"/opt/conda/lib/python3.9/site-packages/ipykernel/zmqshell.py\", line 532, in run_cell\n",
      "    return super(ZMQInteractiveShell, self).run_cell(*args, **kwargs)\n",
      "  File \"/opt/conda/lib/python3.9/site-packages/IPython/core/interactiveshell.py\", line 2898, in run_cell\n",
      "    result = self._run_cell(\n",
      "  File \"/opt/conda/lib/python3.9/site-packages/IPython/core/interactiveshell.py\", line 2944, in _run_cell\n",
      "    return runner(coro)\n",
      "  File \"/opt/conda/lib/python3.9/site-packages/IPython/core/async_helpers.py\", line 68, in _pseudo_sync_runner\n",
      "    coro.send(None)\n",
      "  File \"/opt/conda/lib/python3.9/site-packages/IPython/core/interactiveshell.py\", line 3169, in run_cell_async\n",
      "    has_raised = await self.run_ast_nodes(code_ast.body, cell_name,\n",
      "  File \"/opt/conda/lib/python3.9/site-packages/IPython/core/interactiveshell.py\", line 3361, in run_ast_nodes\n",
      "    if (await self.run_code(code, result,  async_=asy)):\n",
      "  File \"/opt/conda/lib/python3.9/site-packages/IPython/core/interactiveshell.py\", line 3441, in run_code\n",
      "    exec(code_obj, self.user_global_ns, self.user_ns)\n",
      "  File \"/tmp/ipykernel_131/3316974068.py\", line 4, in <module>\n",
      "    import shap\n",
      "  File \"/opt/conda/lib/python3.9/site-packages/shap/__init__.py\", line 1, in <module>\n",
      "    from ._explanation import Cohorts, Explanation\n",
      "  File \"/opt/conda/lib/python3.9/site-packages/shap/_explanation.py\", line 6, in <module>\n",
      "    import pandas as pd\n",
      "  File \"/opt/conda/lib/python3.9/site-packages/pandas/__init__.py\", line 49, in <module>\n",
      "    from pandas.core.api import (\n",
      "  File \"/opt/conda/lib/python3.9/site-packages/pandas/core/api.py\", line 9, in <module>\n",
      "    from pandas.core.dtypes.dtypes import (\n",
      "  File \"/opt/conda/lib/python3.9/site-packages/pandas/core/dtypes/dtypes.py\", line 24, in <module>\n",
      "    from pandas._libs import (\n",
      "  File \"/opt/conda/lib/python3.9/site-packages/pyarrow/__init__.py\", line 63, in <module>\n",
      "    import pyarrow.lib as _lib\n"
     ]
    },
    {
     "ename": "AttributeError",
     "evalue": "_ARRAY_API not found",
     "output_type": "error",
     "traceback": [
      "\u001b[0;31m---------------------------------------------------------------------------\u001b[0m",
      "\u001b[0;31mAttributeError\u001b[0m                            Traceback (most recent call last)",
      "\u001b[0;31mAttributeError\u001b[0m: _ARRAY_API not found"
     ]
    },
    {
     "name": "stdout",
     "output_type": "stream",
     "text": [
      "0.46.0\n"
     ]
    }
   ],
   "source": [
    "import numpy as np\n",
    "print(np.__version__)\n",
    "\n",
    "import shap\n",
    "print(shap.__version__)"
   ]
  },
  {
   "cell_type": "code",
   "execution_count": null,
   "metadata": {},
   "outputs": [],
   "source": [
    "# import libraries before the project starts\n",
    "import pandas as pd\n",
    "import numpy as np\n",
    "import random\n",
    "import math\n",
    "import matplotlib.pyplot as plt\n",
    "import matplotlib\n",
    "import seaborn as sns\n",
    "from scipy import stats as st\n",
    "from IPython.display import display, Markdown\n",
    "\n",
    "# load the pipeline class\n",
    "from sklearn.pipeline import Pipeline\n",
    "\n",
    "# load classes for data preparation\n",
    "from sklearn.preprocessing import StandardScaler, MinMaxScaler\n",
    "from sklearn.compose import ColumnTransformer\n",
    "from sklearn.model_selection import train_test_split\n",
    "\n",
    "# import GridSearchCV\n",
    "from sklearn.model_selection import GridSearchCV\n",
    "\n",
    "# load the models\n",
    "from sklearn.linear_model import LinearRegression\n",
    "\n",
    "# load the function for working with metrics\n",
    "from sklearn.metrics import r2_score, mean_squared_error\n"
   ]
  },
  {
   "cell_type": "code",
   "execution_count": null,
   "metadata": {},
   "outputs": [],
   "source": [
    "# bring out the block with settings and functions\n",
    "\n",
    "# set the dataframe settings before loading\n",
    "pd.set_option('display.max_colwidth', None)\n",
    "pd.set_option('display.max_rows', None)\n",
    "pd.set_option('display.float_format', '{:.3f}'.format)\n",
    "pd.options.mode.chained_assignment = None # switch off warning after calling columns\n",
    "\n",
    "try:\n",
    "    pd.set_option('future.no_silent_downcasting', True)\n",
    "except:\n",
    "    pass\n",
    "\n",
    "# print info about the dataframe\n",
    "def get_info(dataset):\n",
    "    display(dataset.info(), dataset.head(5), dataset.tail(5))\n",
    "\n",
    "\n",
    "# printt histogram and boxplot\n",
    "def hist_box(data,column,hue=None):\n",
    "    \n",
    "    palette = sns.color_palette('hsv', n_colors=10)\n",
    "    random_color = random.choice(palette)\n",
    "    \n",
    "    if hue == None:\n",
    "        \n",
    "        fig, axes = plt.subplots(1, 2, figsize=(7, 2)) \n",
    "        ax = axes[0]\n",
    "        sns.histplot(data=data, x=column, bins=10, \n",
    "                     color=random_color,\n",
    "                     alpha=0.6,\n",
    "                     legend='auto', ax=ax)\n",
    "    else:\n",
    "        fig, axes = plt.subplots(1, 2, figsize=(7, 2)) \n",
    "        ax = axes[0]\n",
    "        sns.histplot(data=data, x=column, bins=10, \n",
    "                     color=random_color,\n",
    "                     alpha=0.6,\n",
    "                     hue=hue, \n",
    "                     multiple='stack',\n",
    "                     legend='auto', ax=ax)\n",
    "        \n",
    "\n",
    "    ax = axes[1]\n",
    "    sns.boxplot(x=data[column], color=random_color, ax=ax)\n",
    "    ax.set_ylabel('')\n",
    "\n",
    "    plt.tight_layout()\n",
    "    plt.show();\n"
   ]
  },
  {
   "cell_type": "markdown",
   "metadata": {},
   "source": [
    "<a id='Loading-data'></a>\n",
    "## Loading data\n",
    "[Back to Content](#To-content)"
   ]
  },
  {
   "cell_type": "code",
   "execution_count": null,
   "metadata": {},
   "outputs": [],
   "source": [
    "# import datasets\n",
    "try:\n",
    "    geo_data_0 = pd.read_csv('/Users/roman_yakovlev/Downloads/Практикум_DS/Проекты/Project_9_Neft/geo_data_0.csv')\n",
    "    geo_data_1 = pd.read_csv('/Users/roman_yakovlev/Downloads/Практикум_DS/Проекты/Project_9_Neft/geo_data_1.csv') \n",
    "    geo_data_2 = pd.read_csv('/Users/roman_yakovlev/Downloads/Практикум_DS/Проекты/Project_9_Neft/geo_data_2.csv')\n",
    "except:\n",
    "    geo_data_0 = pd.read_csv('/datasets/geo_data_0.csv')\n",
    "    geo_data_1 = pd.read_csv('/datasets/geo_data_1.csv')\n",
    "    geo_data_2 = pd.read_csv('/datasets/geo_data_2.csv')    "
   ]
  },
  {
   "cell_type": "code",
   "execution_count": null,
   "metadata": {},
   "outputs": [
    {
     "name": "stdout",
     "output_type": "stream",
     "text": [
      "<class 'pandas.core.frame.DataFrame'>\n",
      "RangeIndex: 100000 entries, 0 to 99999\n",
      "Data columns (total 5 columns):\n",
      " #   Column   Non-Null Count   Dtype  \n",
      "---  ------   --------------   -----  \n",
      " 0   id       100000 non-null  object \n",
      " 1   f0       100000 non-null  float64\n",
      " 2   f1       100000 non-null  float64\n",
      " 3   f2       100000 non-null  float64\n",
      " 4   product  100000 non-null  float64\n",
      "dtypes: float64(4), object(1)\n",
      "memory usage: 3.8+ MB\n"
     ]
    },
    {
     "data": {
      "text/plain": [
       "None"
      ]
     },
     "metadata": {},
     "output_type": "display_data"
    },
    {
     "data": {
      "text/html": [
       "<div>\n",
       "<style scoped>\n",
       "    .dataframe tbody tr th:only-of-type {\n",
       "        vertical-align: middle;\n",
       "    }\n",
       "\n",
       "    .dataframe tbody tr th {\n",
       "        vertical-align: top;\n",
       "    }\n",
       "\n",
       "    .dataframe thead th {\n",
       "        text-align: right;\n",
       "    }\n",
       "</style>\n",
       "<table border=\"1\" class=\"dataframe\">\n",
       "  <thead>\n",
       "    <tr style=\"text-align: right;\">\n",
       "      <th></th>\n",
       "      <th>id</th>\n",
       "      <th>f0</th>\n",
       "      <th>f1</th>\n",
       "      <th>f2</th>\n",
       "      <th>product</th>\n",
       "    </tr>\n",
       "  </thead>\n",
       "  <tbody>\n",
       "    <tr>\n",
       "      <th>0</th>\n",
       "      <td>txEyH</td>\n",
       "      <td>0.706</td>\n",
       "      <td>-0.498</td>\n",
       "      <td>1.221</td>\n",
       "      <td>105.280</td>\n",
       "    </tr>\n",
       "    <tr>\n",
       "      <th>1</th>\n",
       "      <td>2acmU</td>\n",
       "      <td>1.335</td>\n",
       "      <td>-0.340</td>\n",
       "      <td>4.365</td>\n",
       "      <td>73.038</td>\n",
       "    </tr>\n",
       "    <tr>\n",
       "      <th>2</th>\n",
       "      <td>409Wp</td>\n",
       "      <td>1.023</td>\n",
       "      <td>0.152</td>\n",
       "      <td>1.420</td>\n",
       "      <td>85.266</td>\n",
       "    </tr>\n",
       "    <tr>\n",
       "      <th>3</th>\n",
       "      <td>iJLyR</td>\n",
       "      <td>-0.032</td>\n",
       "      <td>0.139</td>\n",
       "      <td>2.979</td>\n",
       "      <td>168.621</td>\n",
       "    </tr>\n",
       "    <tr>\n",
       "      <th>4</th>\n",
       "      <td>Xdl7t</td>\n",
       "      <td>1.988</td>\n",
       "      <td>0.155</td>\n",
       "      <td>4.752</td>\n",
       "      <td>154.037</td>\n",
       "    </tr>\n",
       "  </tbody>\n",
       "</table>\n",
       "</div>"
      ],
      "text/plain": [
       "      id     f0     f1    f2  product\n",
       "0  txEyH  0.706 -0.498 1.221  105.280\n",
       "1  2acmU  1.335 -0.340 4.365   73.038\n",
       "2  409Wp  1.023  0.152 1.420   85.266\n",
       "3  iJLyR -0.032  0.139 2.979  168.621\n",
       "4  Xdl7t  1.988  0.155 4.752  154.037"
      ]
     },
     "metadata": {},
     "output_type": "display_data"
    },
    {
     "data": {
      "text/html": [
       "<div>\n",
       "<style scoped>\n",
       "    .dataframe tbody tr th:only-of-type {\n",
       "        vertical-align: middle;\n",
       "    }\n",
       "\n",
       "    .dataframe tbody tr th {\n",
       "        vertical-align: top;\n",
       "    }\n",
       "\n",
       "    .dataframe thead th {\n",
       "        text-align: right;\n",
       "    }\n",
       "</style>\n",
       "<table border=\"1\" class=\"dataframe\">\n",
       "  <thead>\n",
       "    <tr style=\"text-align: right;\">\n",
       "      <th></th>\n",
       "      <th>id</th>\n",
       "      <th>f0</th>\n",
       "      <th>f1</th>\n",
       "      <th>f2</th>\n",
       "      <th>product</th>\n",
       "    </tr>\n",
       "  </thead>\n",
       "  <tbody>\n",
       "    <tr>\n",
       "      <th>99995</th>\n",
       "      <td>DLsed</td>\n",
       "      <td>0.972</td>\n",
       "      <td>0.371</td>\n",
       "      <td>6.075</td>\n",
       "      <td>110.744</td>\n",
       "    </tr>\n",
       "    <tr>\n",
       "      <th>99996</th>\n",
       "      <td>QKivN</td>\n",
       "      <td>1.392</td>\n",
       "      <td>-0.383</td>\n",
       "      <td>1.274</td>\n",
       "      <td>122.347</td>\n",
       "    </tr>\n",
       "    <tr>\n",
       "      <th>99997</th>\n",
       "      <td>3rnvd</td>\n",
       "      <td>1.030</td>\n",
       "      <td>0.019</td>\n",
       "      <td>-1.348</td>\n",
       "      <td>64.375</td>\n",
       "    </tr>\n",
       "    <tr>\n",
       "      <th>99998</th>\n",
       "      <td>7kl59</td>\n",
       "      <td>0.998</td>\n",
       "      <td>-0.529</td>\n",
       "      <td>1.584</td>\n",
       "      <td>74.041</td>\n",
       "    </tr>\n",
       "    <tr>\n",
       "      <th>99999</th>\n",
       "      <td>1CWhH</td>\n",
       "      <td>1.765</td>\n",
       "      <td>-0.266</td>\n",
       "      <td>5.723</td>\n",
       "      <td>149.633</td>\n",
       "    </tr>\n",
       "  </tbody>\n",
       "</table>\n",
       "</div>"
      ],
      "text/plain": [
       "          id    f0     f1     f2  product\n",
       "99995  DLsed 0.972  0.371  6.075  110.744\n",
       "99996  QKivN 1.392 -0.383  1.274  122.347\n",
       "99997  3rnvd 1.030  0.019 -1.348   64.375\n",
       "99998  7kl59 0.998 -0.529  1.584   74.041\n",
       "99999  1CWhH 1.765 -0.266  5.723  149.633"
      ]
     },
     "metadata": {},
     "output_type": "display_data"
    },
    {
     "name": "stdout",
     "output_type": "stream",
     "text": [
      "<class 'pandas.core.frame.DataFrame'>\n",
      "RangeIndex: 100000 entries, 0 to 99999\n",
      "Data columns (total 5 columns):\n",
      " #   Column   Non-Null Count   Dtype  \n",
      "---  ------   --------------   -----  \n",
      " 0   id       100000 non-null  object \n",
      " 1   f0       100000 non-null  float64\n",
      " 2   f1       100000 non-null  float64\n",
      " 3   f2       100000 non-null  float64\n",
      " 4   product  100000 non-null  float64\n",
      "dtypes: float64(4), object(1)\n",
      "memory usage: 3.8+ MB\n"
     ]
    },
    {
     "data": {
      "text/plain": [
       "None"
      ]
     },
     "metadata": {},
     "output_type": "display_data"
    },
    {
     "data": {
      "text/html": [
       "<div>\n",
       "<style scoped>\n",
       "    .dataframe tbody tr th:only-of-type {\n",
       "        vertical-align: middle;\n",
       "    }\n",
       "\n",
       "    .dataframe tbody tr th {\n",
       "        vertical-align: top;\n",
       "    }\n",
       "\n",
       "    .dataframe thead th {\n",
       "        text-align: right;\n",
       "    }\n",
       "</style>\n",
       "<table border=\"1\" class=\"dataframe\">\n",
       "  <thead>\n",
       "    <tr style=\"text-align: right;\">\n",
       "      <th></th>\n",
       "      <th>id</th>\n",
       "      <th>f0</th>\n",
       "      <th>f1</th>\n",
       "      <th>f2</th>\n",
       "      <th>product</th>\n",
       "    </tr>\n",
       "  </thead>\n",
       "  <tbody>\n",
       "    <tr>\n",
       "      <th>0</th>\n",
       "      <td>kBEdx</td>\n",
       "      <td>-15.001</td>\n",
       "      <td>-8.276</td>\n",
       "      <td>-0.006</td>\n",
       "      <td>3.179</td>\n",
       "    </tr>\n",
       "    <tr>\n",
       "      <th>1</th>\n",
       "      <td>62mP7</td>\n",
       "      <td>14.272</td>\n",
       "      <td>-3.475</td>\n",
       "      <td>0.999</td>\n",
       "      <td>26.953</td>\n",
       "    </tr>\n",
       "    <tr>\n",
       "      <th>2</th>\n",
       "      <td>vyE1P</td>\n",
       "      <td>6.263</td>\n",
       "      <td>-5.948</td>\n",
       "      <td>5.001</td>\n",
       "      <td>134.766</td>\n",
       "    </tr>\n",
       "    <tr>\n",
       "      <th>3</th>\n",
       "      <td>KcrkZ</td>\n",
       "      <td>-13.081</td>\n",
       "      <td>-11.506</td>\n",
       "      <td>4.999</td>\n",
       "      <td>137.945</td>\n",
       "    </tr>\n",
       "    <tr>\n",
       "      <th>4</th>\n",
       "      <td>AHL4O</td>\n",
       "      <td>12.702</td>\n",
       "      <td>-8.147</td>\n",
       "      <td>5.004</td>\n",
       "      <td>134.766</td>\n",
       "    </tr>\n",
       "  </tbody>\n",
       "</table>\n",
       "</div>"
      ],
      "text/plain": [
       "      id      f0      f1     f2  product\n",
       "0  kBEdx -15.001  -8.276 -0.006    3.179\n",
       "1  62mP7  14.272  -3.475  0.999   26.953\n",
       "2  vyE1P   6.263  -5.948  5.001  134.766\n",
       "3  KcrkZ -13.081 -11.506  4.999  137.945\n",
       "4  AHL4O  12.702  -8.147  5.004  134.766"
      ]
     },
     "metadata": {},
     "output_type": "display_data"
    },
    {
     "data": {
      "text/html": [
       "<div>\n",
       "<style scoped>\n",
       "    .dataframe tbody tr th:only-of-type {\n",
       "        vertical-align: middle;\n",
       "    }\n",
       "\n",
       "    .dataframe tbody tr th {\n",
       "        vertical-align: top;\n",
       "    }\n",
       "\n",
       "    .dataframe thead th {\n",
       "        text-align: right;\n",
       "    }\n",
       "</style>\n",
       "<table border=\"1\" class=\"dataframe\">\n",
       "  <thead>\n",
       "    <tr style=\"text-align: right;\">\n",
       "      <th></th>\n",
       "      <th>id</th>\n",
       "      <th>f0</th>\n",
       "      <th>f1</th>\n",
       "      <th>f2</th>\n",
       "      <th>product</th>\n",
       "    </tr>\n",
       "  </thead>\n",
       "  <tbody>\n",
       "    <tr>\n",
       "      <th>99995</th>\n",
       "      <td>QywKC</td>\n",
       "      <td>9.536</td>\n",
       "      <td>-6.878</td>\n",
       "      <td>1.998</td>\n",
       "      <td>53.907</td>\n",
       "    </tr>\n",
       "    <tr>\n",
       "      <th>99996</th>\n",
       "      <td>ptvty</td>\n",
       "      <td>-10.161</td>\n",
       "      <td>-12.558</td>\n",
       "      <td>5.006</td>\n",
       "      <td>137.945</td>\n",
       "    </tr>\n",
       "    <tr>\n",
       "      <th>99997</th>\n",
       "      <td>09gWa</td>\n",
       "      <td>-7.379</td>\n",
       "      <td>-3.084</td>\n",
       "      <td>4.999</td>\n",
       "      <td>137.945</td>\n",
       "    </tr>\n",
       "    <tr>\n",
       "      <th>99998</th>\n",
       "      <td>rqwUm</td>\n",
       "      <td>0.666</td>\n",
       "      <td>-6.153</td>\n",
       "      <td>1.000</td>\n",
       "      <td>30.132</td>\n",
       "    </tr>\n",
       "    <tr>\n",
       "      <th>99999</th>\n",
       "      <td>relB0</td>\n",
       "      <td>-3.426</td>\n",
       "      <td>-7.794</td>\n",
       "      <td>-0.003</td>\n",
       "      <td>3.179</td>\n",
       "    </tr>\n",
       "  </tbody>\n",
       "</table>\n",
       "</div>"
      ],
      "text/plain": [
       "          id      f0      f1     f2  product\n",
       "99995  QywKC   9.536  -6.878  1.998   53.907\n",
       "99996  ptvty -10.161 -12.558  5.006  137.945\n",
       "99997  09gWa  -7.379  -3.084  4.999  137.945\n",
       "99998  rqwUm   0.666  -6.153  1.000   30.132\n",
       "99999  relB0  -3.426  -7.794 -0.003    3.179"
      ]
     },
     "metadata": {},
     "output_type": "display_data"
    },
    {
     "name": "stdout",
     "output_type": "stream",
     "text": [
      "<class 'pandas.core.frame.DataFrame'>\n",
      "RangeIndex: 100000 entries, 0 to 99999\n",
      "Data columns (total 5 columns):\n",
      " #   Column   Non-Null Count   Dtype  \n",
      "---  ------   --------------   -----  \n",
      " 0   id       100000 non-null  object \n",
      " 1   f0       100000 non-null  float64\n",
      " 2   f1       100000 non-null  float64\n",
      " 3   f2       100000 non-null  float64\n",
      " 4   product  100000 non-null  float64\n",
      "dtypes: float64(4), object(1)\n",
      "memory usage: 3.8+ MB\n"
     ]
    },
    {
     "data": {
      "text/plain": [
       "None"
      ]
     },
     "metadata": {},
     "output_type": "display_data"
    },
    {
     "data": {
      "text/html": [
       "<div>\n",
       "<style scoped>\n",
       "    .dataframe tbody tr th:only-of-type {\n",
       "        vertical-align: middle;\n",
       "    }\n",
       "\n",
       "    .dataframe tbody tr th {\n",
       "        vertical-align: top;\n",
       "    }\n",
       "\n",
       "    .dataframe thead th {\n",
       "        text-align: right;\n",
       "    }\n",
       "</style>\n",
       "<table border=\"1\" class=\"dataframe\">\n",
       "  <thead>\n",
       "    <tr style=\"text-align: right;\">\n",
       "      <th></th>\n",
       "      <th>id</th>\n",
       "      <th>f0</th>\n",
       "      <th>f1</th>\n",
       "      <th>f2</th>\n",
       "      <th>product</th>\n",
       "    </tr>\n",
       "  </thead>\n",
       "  <tbody>\n",
       "    <tr>\n",
       "      <th>0</th>\n",
       "      <td>fwXo0</td>\n",
       "      <td>-1.147</td>\n",
       "      <td>0.963</td>\n",
       "      <td>-0.829</td>\n",
       "      <td>27.759</td>\n",
       "    </tr>\n",
       "    <tr>\n",
       "      <th>1</th>\n",
       "      <td>WJtFt</td>\n",
       "      <td>0.263</td>\n",
       "      <td>0.270</td>\n",
       "      <td>-2.530</td>\n",
       "      <td>56.070</td>\n",
       "    </tr>\n",
       "    <tr>\n",
       "      <th>2</th>\n",
       "      <td>ovLUW</td>\n",
       "      <td>0.195</td>\n",
       "      <td>0.289</td>\n",
       "      <td>-5.586</td>\n",
       "      <td>62.872</td>\n",
       "    </tr>\n",
       "    <tr>\n",
       "      <th>3</th>\n",
       "      <td>q6cA6</td>\n",
       "      <td>2.236</td>\n",
       "      <td>-0.554</td>\n",
       "      <td>0.930</td>\n",
       "      <td>114.573</td>\n",
       "    </tr>\n",
       "    <tr>\n",
       "      <th>4</th>\n",
       "      <td>WPMUX</td>\n",
       "      <td>-0.516</td>\n",
       "      <td>1.716</td>\n",
       "      <td>5.899</td>\n",
       "      <td>149.601</td>\n",
       "    </tr>\n",
       "  </tbody>\n",
       "</table>\n",
       "</div>"
      ],
      "text/plain": [
       "      id     f0     f1     f2  product\n",
       "0  fwXo0 -1.147  0.963 -0.829   27.759\n",
       "1  WJtFt  0.263  0.270 -2.530   56.070\n",
       "2  ovLUW  0.195  0.289 -5.586   62.872\n",
       "3  q6cA6  2.236 -0.554  0.930  114.573\n",
       "4  WPMUX -0.516  1.716  5.899  149.601"
      ]
     },
     "metadata": {},
     "output_type": "display_data"
    },
    {
     "data": {
      "text/html": [
       "<div>\n",
       "<style scoped>\n",
       "    .dataframe tbody tr th:only-of-type {\n",
       "        vertical-align: middle;\n",
       "    }\n",
       "\n",
       "    .dataframe tbody tr th {\n",
       "        vertical-align: top;\n",
       "    }\n",
       "\n",
       "    .dataframe thead th {\n",
       "        text-align: right;\n",
       "    }\n",
       "</style>\n",
       "<table border=\"1\" class=\"dataframe\">\n",
       "  <thead>\n",
       "    <tr style=\"text-align: right;\">\n",
       "      <th></th>\n",
       "      <th>id</th>\n",
       "      <th>f0</th>\n",
       "      <th>f1</th>\n",
       "      <th>f2</th>\n",
       "      <th>product</th>\n",
       "    </tr>\n",
       "  </thead>\n",
       "  <tbody>\n",
       "    <tr>\n",
       "      <th>99995</th>\n",
       "      <td>4GxBu</td>\n",
       "      <td>-1.777</td>\n",
       "      <td>1.125</td>\n",
       "      <td>6.263</td>\n",
       "      <td>172.327</td>\n",
       "    </tr>\n",
       "    <tr>\n",
       "      <th>99996</th>\n",
       "      <td>YKFjq</td>\n",
       "      <td>-1.262</td>\n",
       "      <td>-0.895</td>\n",
       "      <td>2.525</td>\n",
       "      <td>138.749</td>\n",
       "    </tr>\n",
       "    <tr>\n",
       "      <th>99997</th>\n",
       "      <td>tKPY3</td>\n",
       "      <td>-1.200</td>\n",
       "      <td>-2.958</td>\n",
       "      <td>5.219</td>\n",
       "      <td>157.080</td>\n",
       "    </tr>\n",
       "    <tr>\n",
       "      <th>99998</th>\n",
       "      <td>nmxp2</td>\n",
       "      <td>-2.420</td>\n",
       "      <td>2.417</td>\n",
       "      <td>-5.548</td>\n",
       "      <td>51.795</td>\n",
       "    </tr>\n",
       "    <tr>\n",
       "      <th>99999</th>\n",
       "      <td>V9kWn</td>\n",
       "      <td>-2.551</td>\n",
       "      <td>-2.026</td>\n",
       "      <td>6.091</td>\n",
       "      <td>102.776</td>\n",
       "    </tr>\n",
       "  </tbody>\n",
       "</table>\n",
       "</div>"
      ],
      "text/plain": [
       "          id     f0     f1     f2  product\n",
       "99995  4GxBu -1.777  1.125  6.263  172.327\n",
       "99996  YKFjq -1.262 -0.895  2.525  138.749\n",
       "99997  tKPY3 -1.200 -2.958  5.219  157.080\n",
       "99998  nmxp2 -2.420  2.417 -5.548   51.795\n",
       "99999  V9kWn -2.551 -2.026  6.091  102.776"
      ]
     },
     "metadata": {},
     "output_type": "display_data"
    }
   ],
   "source": [
    "# look at the data\n",
    "get_info(geo_data_0)\n",
    "get_info(geo_data_1)\n",
    "get_info(geo_data_2);"
   ]
  },
  {
   "cell_type": "markdown",
   "metadata": {},
   "source": [
    "**Conclusion**\n",
    "\n",
    "Based on the preliminary assessment of the loaded data, there is no need to correct column names or text values, nor is it necessary to convert data types for a convenient analysis. There are also no missing values, as indicated by the data types in the columns (float64) and the number of non-null data points of 100,000 records per dataset. Therefore, only duplicate checking and examination of distributions and outliers in the data should be performed to ensure accuracy before proceeding further."
   ]
  },
  {
   "cell_type": "markdown",
   "metadata": {},
   "source": [
    "<a id='Data-preprocessing-and-exploratory-analysis'></a>\n",
    "## Data Preprocessing and Exploratory Analysis\n",
    "[Back to Content](#To-content)"
   ]
  },
  {
   "cell_type": "markdown",
   "metadata": {},
   "source": [
    "We will review and correct (if necessary) all comments from the previous section in turn:"
   ]
  },
  {
   "cell_type": "code",
   "execution_count": null,
   "metadata": {},
   "outputs": [
    {
     "data": {
      "text/plain": [
       "np.int64(0)"
      ]
     },
     "metadata": {},
     "output_type": "display_data"
    },
    {
     "data": {
      "text/plain": [
       "np.int64(0)"
      ]
     },
     "metadata": {},
     "output_type": "display_data"
    },
    {
     "data": {
      "text/plain": [
       "np.int64(0)"
      ]
     },
     "metadata": {},
     "output_type": "display_data"
    }
   ],
   "source": [
    "# check for duplicates in all three dataframes\n",
    "display(geo_data_0.duplicated().sum(),\n",
    "        geo_data_1.duplicated().sum(),\n",
    "        geo_data_2.duplicated().sum())"
   ]
  },
  {
   "cell_type": "code",
   "execution_count": null,
   "metadata": {
    "editable": true,
    "slideshow": {
     "slide_type": ""
    },
    "tags": []
   },
   "outputs": [
    {
     "data": {
      "text/html": [
       "<div>\n",
       "<style scoped>\n",
       "    .dataframe tbody tr th:only-of-type {\n",
       "        vertical-align: middle;\n",
       "    }\n",
       "\n",
       "    .dataframe tbody tr th {\n",
       "        vertical-align: top;\n",
       "    }\n",
       "\n",
       "    .dataframe thead th {\n",
       "        text-align: right;\n",
       "    }\n",
       "</style>\n",
       "<table border=\"1\" class=\"dataframe\">\n",
       "  <thead>\n",
       "    <tr style=\"text-align: right;\">\n",
       "      <th></th>\n",
       "      <th>f0</th>\n",
       "      <th>f1</th>\n",
       "      <th>f2</th>\n",
       "      <th>product</th>\n",
       "    </tr>\n",
       "  </thead>\n",
       "  <tbody>\n",
       "    <tr>\n",
       "      <th>count</th>\n",
       "      <td>100000.000</td>\n",
       "      <td>100000.000</td>\n",
       "      <td>100000.000</td>\n",
       "      <td>100000.000</td>\n",
       "    </tr>\n",
       "    <tr>\n",
       "      <th>mean</th>\n",
       "      <td>0.500</td>\n",
       "      <td>0.250</td>\n",
       "      <td>2.503</td>\n",
       "      <td>92.500</td>\n",
       "    </tr>\n",
       "    <tr>\n",
       "      <th>std</th>\n",
       "      <td>0.872</td>\n",
       "      <td>0.504</td>\n",
       "      <td>3.248</td>\n",
       "      <td>44.289</td>\n",
       "    </tr>\n",
       "    <tr>\n",
       "      <th>min</th>\n",
       "      <td>-1.409</td>\n",
       "      <td>-0.848</td>\n",
       "      <td>-12.088</td>\n",
       "      <td>0.000</td>\n",
       "    </tr>\n",
       "    <tr>\n",
       "      <th>25%</th>\n",
       "      <td>-0.073</td>\n",
       "      <td>-0.201</td>\n",
       "      <td>0.288</td>\n",
       "      <td>56.498</td>\n",
       "    </tr>\n",
       "    <tr>\n",
       "      <th>50%</th>\n",
       "      <td>0.502</td>\n",
       "      <td>0.250</td>\n",
       "      <td>2.516</td>\n",
       "      <td>91.850</td>\n",
       "    </tr>\n",
       "    <tr>\n",
       "      <th>75%</th>\n",
       "      <td>1.074</td>\n",
       "      <td>0.701</td>\n",
       "      <td>4.715</td>\n",
       "      <td>128.564</td>\n",
       "    </tr>\n",
       "    <tr>\n",
       "      <th>max</th>\n",
       "      <td>2.362</td>\n",
       "      <td>1.344</td>\n",
       "      <td>16.004</td>\n",
       "      <td>185.364</td>\n",
       "    </tr>\n",
       "  </tbody>\n",
       "</table>\n",
       "</div>"
      ],
      "text/plain": [
       "              f0         f1         f2    product\n",
       "count 100000.000 100000.000 100000.000 100000.000\n",
       "mean       0.500      0.250      2.503     92.500\n",
       "std        0.872      0.504      3.248     44.289\n",
       "min       -1.409     -0.848    -12.088      0.000\n",
       "25%       -0.073     -0.201      0.288     56.498\n",
       "50%        0.502      0.250      2.516     91.850\n",
       "75%        1.074      0.701      4.715    128.564\n",
       "max        2.362      1.344     16.004    185.364"
      ]
     },
     "metadata": {},
     "output_type": "display_data"
    },
    {
     "name": "stdout",
     "output_type": "stream",
     "text": [
      "Распределение количественных переменных в датасете geo_data_0: \n",
      "\n"
     ]
    },
    {
     "data": {
      "image/png": "[encoded data removed]",
      "text/plain": [
       "<Figure size 504x144 with 2 Axes>"
      ]
     },
     "metadata": {
      "needs_background": "light"
     },
     "output_type": "display_data"
    },
    {
     "data": {
      "image/png": "[encoded data removed]",
      "text/plain": [
       "<Figure size 504x144 with 2 Axes>"
      ]
     },
     "metadata": {
      "needs_background": "light"
     },
     "output_type": "display_data"
    },
    {
     "data": {
      "image/png": "[encoded data removed]",
      "text/plain": [
       "<Figure size 504x144 with 2 Axes>"
      ]
     },
     "metadata": {
      "needs_background": "light"
     },
     "output_type": "display_data"
    },
    {
     "data": {
      "image/png": "[encoded data removed]",
      "text/plain": [
       "<Figure size 504x144 with 2 Axes>"
      ]
     },
     "metadata": {
      "needs_background": "light"
     },
     "output_type": "display_data"
    },
    {
     "data": {
      "text/html": [
       "<div>\n",
       "<style scoped>\n",
       "    .dataframe tbody tr th:only-of-type {\n",
       "        vertical-align: middle;\n",
       "    }\n",
       "\n",
       "    .dataframe tbody tr th {\n",
       "        vertical-align: top;\n",
       "    }\n",
       "\n",
       "    .dataframe thead th {\n",
       "        text-align: right;\n",
       "    }\n",
       "</style>\n",
       "<table border=\"1\" class=\"dataframe\">\n",
       "  <thead>\n",
       "    <tr style=\"text-align: right;\">\n",
       "      <th></th>\n",
       "      <th>f0</th>\n",
       "      <th>f1</th>\n",
       "      <th>f2</th>\n",
       "      <th>product</th>\n",
       "    </tr>\n",
       "  </thead>\n",
       "  <tbody>\n",
       "    <tr>\n",
       "      <th>count</th>\n",
       "      <td>100000.000</td>\n",
       "      <td>100000.000</td>\n",
       "      <td>100000.000</td>\n",
       "      <td>100000.000</td>\n",
       "    </tr>\n",
       "    <tr>\n",
       "      <th>mean</th>\n",
       "      <td>1.141</td>\n",
       "      <td>-4.797</td>\n",
       "      <td>2.495</td>\n",
       "      <td>68.825</td>\n",
       "    </tr>\n",
       "    <tr>\n",
       "      <th>std</th>\n",
       "      <td>8.966</td>\n",
       "      <td>5.120</td>\n",
       "      <td>1.704</td>\n",
       "      <td>45.944</td>\n",
       "    </tr>\n",
       "    <tr>\n",
       "      <th>min</th>\n",
       "      <td>-31.610</td>\n",
       "      <td>-26.359</td>\n",
       "      <td>-0.018</td>\n",
       "      <td>0.000</td>\n",
       "    </tr>\n",
       "    <tr>\n",
       "      <th>25%</th>\n",
       "      <td>-6.299</td>\n",
       "      <td>-8.268</td>\n",
       "      <td>1.000</td>\n",
       "      <td>26.953</td>\n",
       "    </tr>\n",
       "    <tr>\n",
       "      <th>50%</th>\n",
       "      <td>1.153</td>\n",
       "      <td>-4.813</td>\n",
       "      <td>2.011</td>\n",
       "      <td>57.086</td>\n",
       "    </tr>\n",
       "    <tr>\n",
       "      <th>75%</th>\n",
       "      <td>8.621</td>\n",
       "      <td>-1.333</td>\n",
       "      <td>4.000</td>\n",
       "      <td>107.813</td>\n",
       "    </tr>\n",
       "    <tr>\n",
       "      <th>max</th>\n",
       "      <td>29.422</td>\n",
       "      <td>18.734</td>\n",
       "      <td>5.020</td>\n",
       "      <td>137.945</td>\n",
       "    </tr>\n",
       "  </tbody>\n",
       "</table>\n",
       "</div>"
      ],
      "text/plain": [
       "              f0         f1         f2    product\n",
       "count 100000.000 100000.000 100000.000 100000.000\n",
       "mean       1.141     -4.797      2.495     68.825\n",
       "std        8.966      5.120      1.704     45.944\n",
       "min      -31.610    -26.359     -0.018      0.000\n",
       "25%       -6.299     -8.268      1.000     26.953\n",
       "50%        1.153     -4.813      2.011     57.086\n",
       "75%        8.621     -1.333      4.000    107.813\n",
       "max       29.422     18.734      5.020    137.945"
      ]
     },
     "metadata": {},
     "output_type": "display_data"
    },
    {
     "name": "stdout",
     "output_type": "stream",
     "text": [
      "Распределение количественных переменных в датасете geo_data_1: \n",
      "\n"
     ]
    },
    {
     "data": {
      "image/png": "[encoded data removed]",
      "text/plain": [
       "<Figure size 504x144 with 2 Axes>"
      ]
     },
     "metadata": {
      "needs_background": "light"
     },
     "output_type": "display_data"
    },
    {
     "data": {
      "image/png": "[encoded data removed]",
      "text/plain": [
       "<Figure size 504x144 with 2 Axes>"
      ]
     },
     "metadata": {
      "needs_background": "light"
     },
     "output_type": "display_data"
    },
    {
     "data": {
      "image/png": "[encoded data removed]",
      "text/plain": [
       "<Figure size 504x144 with 2 Axes>"
      ]
     },
     "metadata": {
      "needs_background": "light"
     },
     "output_type": "display_data"
    },
    {
     "data": {
      "image/png": "[encoded data removed]",
      "text/plain": [
       "<Figure size 504x144 with 2 Axes>"
      ]
     },
     "metadata": {
      "needs_background": "light"
     },
     "output_type": "display_data"
    },
    {
     "data": {
      "text/html": [
       "<div>\n",
       "<style scoped>\n",
       "    .dataframe tbody tr th:only-of-type {\n",
       "        vertical-align: middle;\n",
       "    }\n",
       "\n",
       "    .dataframe tbody tr th {\n",
       "        vertical-align: top;\n",
       "    }\n",
       "\n",
       "    .dataframe thead th {\n",
       "        text-align: right;\n",
       "    }\n",
       "</style>\n",
       "<table border=\"1\" class=\"dataframe\">\n",
       "  <thead>\n",
       "    <tr style=\"text-align: right;\">\n",
       "      <th></th>\n",
       "      <th>f0</th>\n",
       "      <th>f1</th>\n",
       "      <th>f2</th>\n",
       "      <th>product</th>\n",
       "    </tr>\n",
       "  </thead>\n",
       "  <tbody>\n",
       "    <tr>\n",
       "      <th>count</th>\n",
       "      <td>100000.000</td>\n",
       "      <td>100000.000</td>\n",
       "      <td>100000.000</td>\n",
       "      <td>100000.000</td>\n",
       "    </tr>\n",
       "    <tr>\n",
       "      <th>mean</th>\n",
       "      <td>0.002</td>\n",
       "      <td>-0.002</td>\n",
       "      <td>2.495</td>\n",
       "      <td>95.000</td>\n",
       "    </tr>\n",
       "    <tr>\n",
       "      <th>std</th>\n",
       "      <td>1.732</td>\n",
       "      <td>1.730</td>\n",
       "      <td>3.473</td>\n",
       "      <td>44.750</td>\n",
       "    </tr>\n",
       "    <tr>\n",
       "      <th>min</th>\n",
       "      <td>-8.760</td>\n",
       "      <td>-7.084</td>\n",
       "      <td>-11.970</td>\n",
       "      <td>0.000</td>\n",
       "    </tr>\n",
       "    <tr>\n",
       "      <th>25%</th>\n",
       "      <td>-1.162</td>\n",
       "      <td>-1.175</td>\n",
       "      <td>0.130</td>\n",
       "      <td>59.450</td>\n",
       "    </tr>\n",
       "    <tr>\n",
       "      <th>50%</th>\n",
       "      <td>0.009</td>\n",
       "      <td>-0.009</td>\n",
       "      <td>2.484</td>\n",
       "      <td>94.926</td>\n",
       "    </tr>\n",
       "    <tr>\n",
       "      <th>75%</th>\n",
       "      <td>1.159</td>\n",
       "      <td>1.164</td>\n",
       "      <td>4.859</td>\n",
       "      <td>130.595</td>\n",
       "    </tr>\n",
       "    <tr>\n",
       "      <th>max</th>\n",
       "      <td>7.238</td>\n",
       "      <td>7.845</td>\n",
       "      <td>16.739</td>\n",
       "      <td>190.030</td>\n",
       "    </tr>\n",
       "  </tbody>\n",
       "</table>\n",
       "</div>"
      ],
      "text/plain": [
       "              f0         f1         f2    product\n",
       "count 100000.000 100000.000 100000.000 100000.000\n",
       "mean       0.002     -0.002      2.495     95.000\n",
       "std        1.732      1.730      3.473     44.750\n",
       "min       -8.760     -7.084    -11.970      0.000\n",
       "25%       -1.162     -1.175      0.130     59.450\n",
       "50%        0.009     -0.009      2.484     94.926\n",
       "75%        1.159      1.164      4.859    130.595\n",
       "max        7.238      7.845     16.739    190.030"
      ]
     },
     "metadata": {},
     "output_type": "display_data"
    },
    {
     "name": "stdout",
     "output_type": "stream",
     "text": [
      "Распределение количественных переменных в датасете geo_data_2: \n",
      "\n"
     ]
    },
    {
     "data": {
      "image/png": "[encoded data removed]",
      "text/plain": [
       "<Figure size 504x144 with 2 Axes>"
      ]
     },
     "metadata": {
      "needs_background": "light"
     },
     "output_type": "display_data"
    },
    {
     "data": {
      "image/png": "[encoded data removed]",
      "text/plain": [
       "<Figure size 504x144 with 2 Axes>"
      ]
     },
     "metadata": {
      "needs_background": "light"
     },
     "output_type": "display_data"
    },
    {
     "data": {
      "image/png": "[encoded data removed]",
      "text/plain": [
       "<Figure size 504x144 with 2 Axes>"
      ]
     },
     "metadata": {
      "needs_background": "light"
     },
     "output_type": "display_data"
    },
    {
     "data": {
      "image/png": "[encoded data removed]",
      "text/plain": [
       "<Figure size 504x144 with 2 Axes>"
      ]
     },
     "metadata": {
      "needs_background": "light"
     },
     "output_type": "display_data"
    }
   ],
   "source": [
    "# see the statistics and plot histograms and boxplots for quantitative variables for three datasets\n",
    "\n",
    "datasets = [geo_data_0,geo_data_1,geo_data_2]\n",
    "dataset_names = ['geo_data_0', 'geo_data_1', 'geo_data_2']\n",
    "columns_num = ['f0', 'f1','f2','product']\n",
    "\n",
    "for i,dataset in enumerate(datasets):\n",
    "    display(dataset.describe())\n",
    "    print(f'Distribution of quantitative Variables in the dataset {dataset_names[i]}: \\n')\n",
    "    \n",
    "    for index, column in enumerate(columns_num):\n",
    "        hist_box(dataset,column)"
   ]
  },
  {
   "cell_type": "code",
   "execution_count": null,
   "metadata": {},
   "outputs": [
    {
     "name": "stdout",
     "output_type": "stream",
     "text": [
      "Таблица корреляции количественных признаков в датасете geo_data_0: \n",
      "\n"
     ]
    },
    {
     "data": {
      "text/html": [
       "<div>\n",
       "<style scoped>\n",
       "    .dataframe tbody tr th:only-of-type {\n",
       "        vertical-align: middle;\n",
       "    }\n",
       "\n",
       "    .dataframe tbody tr th {\n",
       "        vertical-align: top;\n",
       "    }\n",
       "\n",
       "    .dataframe thead th {\n",
       "        text-align: right;\n",
       "    }\n",
       "</style>\n",
       "<table border=\"1\" class=\"dataframe\">\n",
       "  <thead>\n",
       "    <tr style=\"text-align: right;\">\n",
       "      <th></th>\n",
       "      <th>f0</th>\n",
       "      <th>f1</th>\n",
       "      <th>f2</th>\n",
       "      <th>product</th>\n",
       "    </tr>\n",
       "  </thead>\n",
       "  <tbody>\n",
       "    <tr>\n",
       "      <th>f0</th>\n",
       "      <td>1.000</td>\n",
       "      <td>-0.471</td>\n",
       "      <td>-0.003</td>\n",
       "      <td>0.128</td>\n",
       "    </tr>\n",
       "    <tr>\n",
       "      <th>f1</th>\n",
       "      <td>-0.471</td>\n",
       "      <td>1.000</td>\n",
       "      <td>0.001</td>\n",
       "      <td>-0.181</td>\n",
       "    </tr>\n",
       "    <tr>\n",
       "      <th>f2</th>\n",
       "      <td>-0.003</td>\n",
       "      <td>0.001</td>\n",
       "      <td>1.000</td>\n",
       "      <td>0.486</td>\n",
       "    </tr>\n",
       "    <tr>\n",
       "      <th>product</th>\n",
       "      <td>0.128</td>\n",
       "      <td>-0.181</td>\n",
       "      <td>0.486</td>\n",
       "      <td>1.000</td>\n",
       "    </tr>\n",
       "  </tbody>\n",
       "</table>\n",
       "</div>"
      ],
      "text/plain": [
       "            f0     f1     f2  product\n",
       "f0       1.000 -0.471 -0.003    0.128\n",
       "f1      -0.471  1.000  0.001   -0.181\n",
       "f2      -0.003  0.001  1.000    0.486\n",
       "product  0.128 -0.181  0.486    1.000"
      ]
     },
     "metadata": {},
     "output_type": "display_data"
    },
    {
     "name": "stdout",
     "output_type": "stream",
     "text": [
      "Таблица корреляции количественных признаков в датасете geo_data_1: \n",
      "\n"
     ]
    },
    {
     "data": {
      "text/html": [
       "<div>\n",
       "<style scoped>\n",
       "    .dataframe tbody tr th:only-of-type {\n",
       "        vertical-align: middle;\n",
       "    }\n",
       "\n",
       "    .dataframe tbody tr th {\n",
       "        vertical-align: top;\n",
       "    }\n",
       "\n",
       "    .dataframe thead th {\n",
       "        text-align: right;\n",
       "    }\n",
       "</style>\n",
       "<table border=\"1\" class=\"dataframe\">\n",
       "  <thead>\n",
       "    <tr style=\"text-align: right;\">\n",
       "      <th></th>\n",
       "      <th>f0</th>\n",
       "      <th>f1</th>\n",
       "      <th>f2</th>\n",
       "      <th>product</th>\n",
       "    </tr>\n",
       "  </thead>\n",
       "  <tbody>\n",
       "    <tr>\n",
       "      <th>f0</th>\n",
       "      <td>1.000</td>\n",
       "      <td>0.182</td>\n",
       "      <td>-0.002</td>\n",
       "      <td>-0.123</td>\n",
       "    </tr>\n",
       "    <tr>\n",
       "      <th>f1</th>\n",
       "      <td>0.182</td>\n",
       "      <td>1.000</td>\n",
       "      <td>-0.004</td>\n",
       "      <td>-0.034</td>\n",
       "    </tr>\n",
       "    <tr>\n",
       "      <th>f2</th>\n",
       "      <td>-0.002</td>\n",
       "      <td>-0.004</td>\n",
       "      <td>1.000</td>\n",
       "      <td>0.976</td>\n",
       "    </tr>\n",
       "    <tr>\n",
       "      <th>product</th>\n",
       "      <td>-0.123</td>\n",
       "      <td>-0.034</td>\n",
       "      <td>0.976</td>\n",
       "      <td>1.000</td>\n",
       "    </tr>\n",
       "  </tbody>\n",
       "</table>\n",
       "</div>"
      ],
      "text/plain": [
       "            f0     f1     f2  product\n",
       "f0       1.000  0.182 -0.002   -0.123\n",
       "f1       0.182  1.000 -0.004   -0.034\n",
       "f2      -0.002 -0.004  1.000    0.976\n",
       "product -0.123 -0.034  0.976    1.000"
      ]
     },
     "metadata": {},
     "output_type": "display_data"
    },
    {
     "name": "stdout",
     "output_type": "stream",
     "text": [
      "Таблица корреляции количественных признаков в датасете geo_data_2: \n",
      "\n"
     ]
    },
    {
     "data": {
      "text/html": [
       "<div>\n",
       "<style scoped>\n",
       "    .dataframe tbody tr th:only-of-type {\n",
       "        vertical-align: middle;\n",
       "    }\n",
       "\n",
       "    .dataframe tbody tr th {\n",
       "        vertical-align: top;\n",
       "    }\n",
       "\n",
       "    .dataframe thead th {\n",
       "        text-align: right;\n",
       "    }\n",
       "</style>\n",
       "<table border=\"1\" class=\"dataframe\">\n",
       "  <thead>\n",
       "    <tr style=\"text-align: right;\">\n",
       "      <th></th>\n",
       "      <th>f0</th>\n",
       "      <th>f1</th>\n",
       "      <th>f2</th>\n",
       "      <th>product</th>\n",
       "    </tr>\n",
       "  </thead>\n",
       "  <tbody>\n",
       "    <tr>\n",
       "      <th>f0</th>\n",
       "      <td>1.000</td>\n",
       "      <td>0.002</td>\n",
       "      <td>0.000</td>\n",
       "      <td>-0.002</td>\n",
       "    </tr>\n",
       "    <tr>\n",
       "      <th>f1</th>\n",
       "      <td>0.002</td>\n",
       "      <td>1.000</td>\n",
       "      <td>0.000</td>\n",
       "      <td>-0.001</td>\n",
       "    </tr>\n",
       "    <tr>\n",
       "      <th>f2</th>\n",
       "      <td>0.000</td>\n",
       "      <td>0.000</td>\n",
       "      <td>1.000</td>\n",
       "      <td>0.448</td>\n",
       "    </tr>\n",
       "    <tr>\n",
       "      <th>product</th>\n",
       "      <td>-0.002</td>\n",
       "      <td>-0.001</td>\n",
       "      <td>0.448</td>\n",
       "      <td>1.000</td>\n",
       "    </tr>\n",
       "  </tbody>\n",
       "</table>\n",
       "</div>"
      ],
      "text/plain": [
       "            f0     f1    f2  product\n",
       "f0       1.000  0.002 0.000   -0.002\n",
       "f1       0.002  1.000 0.000   -0.001\n",
       "f2       0.000  0.000 1.000    0.448\n",
       "product -0.002 -0.001 0.448    1.000"
      ]
     },
     "metadata": {},
     "output_type": "display_data"
    }
   ],
   "source": [
    "# see the correlation of features in datasets\n",
    "for i,dataset in enumerate(datasets):\n",
    "    print(f'Correlation table of quantitative features in the dataset {dataset_names[i]}: \\n')\n",
    "    display(dataset.drop('id',axis=1).corr(method='spearman'))"
   ]
  },
  {
   "cell_type": "markdown",
   "metadata": {},
   "source": [
    "**Conclusion**\n",
    "\n",
    "No obvious duplicates were found in the data, and all input and target features are quantitative in all datasets. However, not all variables are distributed closely to normal, and outliers exist for specific features and datasets, likely reflecting the specificity of the considered geographic regions. Since the data is presented across varying ranges, it will be necessary to scale the data during preparation for training.\n",
    "\n",
    "The Pearson correlation coefficients between the quantitative data and the target feature showed a significant relationship only between the target feature and the f2 feature (with values ranging from 0.44-0.48 for the zeroth and second regions, and an extremely strong connection with 0.98 for the first region), while the input features are almost uncorrelated with each other."
   ]
  },
  {
   "cell_type": "markdown",
   "metadata": {},
   "source": [
    "<a id='Model-training-and-validation'></a>\n",
    "## Model training and validation\n",
    "[Back to Content](#To-сontent)"
   ]
  },
  {
   "cell_type": "markdown",
   "metadata": {},
   "source": [
    "Firstly, we will form training sets for the models on each of the three datasets. Then, we will create pipelines for data preparation and model training."
   ]
  },
  {
   "cell_type": "code",
   "execution_count": null,
   "metadata": {
    "editable": true,
    "slideshow": {
     "slide_type": ""
    },
    "tags": []
   },
   "outputs": [
    {
     "data": {
      "text/html": [
       "<div>\n",
       "<style scoped>\n",
       "    .dataframe tbody tr th:only-of-type {\n",
       "        vertical-align: middle;\n",
       "    }\n",
       "\n",
       "    .dataframe tbody tr th {\n",
       "        vertical-align: top;\n",
       "    }\n",
       "\n",
       "    .dataframe thead th {\n",
       "        text-align: right;\n",
       "    }\n",
       "</style>\n",
       "<table border=\"1\" class=\"dataframe\">\n",
       "  <thead>\n",
       "    <tr style=\"text-align: right;\">\n",
       "      <th></th>\n",
       "      <th>f0</th>\n",
       "      <th>f1</th>\n",
       "      <th>f2</th>\n",
       "    </tr>\n",
       "  </thead>\n",
       "  <tbody>\n",
       "    <tr>\n",
       "      <th>98980</th>\n",
       "      <td>1.612</td>\n",
       "      <td>-0.152</td>\n",
       "      <td>1.222</td>\n",
       "    </tr>\n",
       "    <tr>\n",
       "      <th>69824</th>\n",
       "      <td>-0.896</td>\n",
       "      <td>0.369</td>\n",
       "      <td>-4.538</td>\n",
       "    </tr>\n",
       "    <tr>\n",
       "      <th>9928</th>\n",
       "      <td>0.218</td>\n",
       "      <td>0.974</td>\n",
       "      <td>7.370</td>\n",
       "    </tr>\n",
       "    <tr>\n",
       "      <th>75599</th>\n",
       "      <td>0.883</td>\n",
       "      <td>0.669</td>\n",
       "      <td>3.115</td>\n",
       "    </tr>\n",
       "    <tr>\n",
       "      <th>95621</th>\n",
       "      <td>-0.942</td>\n",
       "      <td>0.634</td>\n",
       "      <td>2.874</td>\n",
       "    </tr>\n",
       "  </tbody>\n",
       "</table>\n",
       "</div>"
      ],
      "text/plain": [
       "          f0     f1     f2\n",
       "98980  1.612 -0.152  1.222\n",
       "69824 -0.896  0.369 -4.538\n",
       "9928   0.218  0.974  7.370\n",
       "75599  0.883  0.669  3.115\n",
       "95621 -0.942  0.634  2.874"
      ]
     },
     "metadata": {},
     "output_type": "display_data"
    },
    {
     "data": {
      "text/plain": [
       "98980   105.179\n",
       "69824     9.351\n",
       "9928    117.267\n",
       "75599   116.538\n",
       "95621   110.713\n",
       "Name: product, dtype: float64"
      ]
     },
     "metadata": {},
     "output_type": "display_data"
    },
    {
     "data": {
      "text/html": [
       "<div>\n",
       "<style scoped>\n",
       "    .dataframe tbody tr th:only-of-type {\n",
       "        vertical-align: middle;\n",
       "    }\n",
       "\n",
       "    .dataframe tbody tr th {\n",
       "        vertical-align: top;\n",
       "    }\n",
       "\n",
       "    .dataframe thead th {\n",
       "        text-align: right;\n",
       "    }\n",
       "</style>\n",
       "<table border=\"1\" class=\"dataframe\">\n",
       "  <thead>\n",
       "    <tr style=\"text-align: right;\">\n",
       "      <th></th>\n",
       "      <th>f0</th>\n",
       "      <th>f1</th>\n",
       "      <th>f2</th>\n",
       "    </tr>\n",
       "  </thead>\n",
       "  <tbody>\n",
       "    <tr>\n",
       "      <th>98980</th>\n",
       "      <td>9.296</td>\n",
       "      <td>-4.480</td>\n",
       "      <td>2.000</td>\n",
       "    </tr>\n",
       "    <tr>\n",
       "      <th>69824</th>\n",
       "      <td>15.837</td>\n",
       "      <td>1.953</td>\n",
       "      <td>4.989</td>\n",
       "    </tr>\n",
       "    <tr>\n",
       "      <th>9928</th>\n",
       "      <td>-1.595</td>\n",
       "      <td>-0.407</td>\n",
       "      <td>3.003</td>\n",
       "    </tr>\n",
       "    <tr>\n",
       "      <th>75599</th>\n",
       "      <td>12.336</td>\n",
       "      <td>-6.509</td>\n",
       "      <td>2.001</td>\n",
       "    </tr>\n",
       "    <tr>\n",
       "      <th>95621</th>\n",
       "      <td>-4.955</td>\n",
       "      <td>-8.026</td>\n",
       "      <td>1.001</td>\n",
       "    </tr>\n",
       "  </tbody>\n",
       "</table>\n",
       "</div>"
      ],
      "text/plain": [
       "          f0     f1    f2\n",
       "98980  9.296 -4.480 2.000\n",
       "69824 15.837  1.953 4.989\n",
       "9928  -1.595 -0.407 3.003\n",
       "75599 12.336 -6.509 2.001\n",
       "95621 -4.955 -8.026 1.001"
      ]
     },
     "metadata": {},
     "output_type": "display_data"
    },
    {
     "data": {
      "text/plain": [
       "98980    53.907\n",
       "69824   134.766\n",
       "9928     84.039\n",
       "75599    53.907\n",
       "95621    30.132\n",
       "Name: product, dtype: float64"
      ]
     },
     "metadata": {},
     "output_type": "display_data"
    },
    {
     "data": {
      "text/html": [
       "<div>\n",
       "<style scoped>\n",
       "    .dataframe tbody tr th:only-of-type {\n",
       "        vertical-align: middle;\n",
       "    }\n",
       "\n",
       "    .dataframe tbody tr th {\n",
       "        vertical-align: top;\n",
       "    }\n",
       "\n",
       "    .dataframe thead th {\n",
       "        text-align: right;\n",
       "    }\n",
       "</style>\n",
       "<table border=\"1\" class=\"dataframe\">\n",
       "  <thead>\n",
       "    <tr style=\"text-align: right;\">\n",
       "      <th></th>\n",
       "      <th>f0</th>\n",
       "      <th>f1</th>\n",
       "      <th>f2</th>\n",
       "    </tr>\n",
       "  </thead>\n",
       "  <tbody>\n",
       "    <tr>\n",
       "      <th>98980</th>\n",
       "      <td>-0.593</td>\n",
       "      <td>-2.323</td>\n",
       "      <td>5.345</td>\n",
       "    </tr>\n",
       "    <tr>\n",
       "      <th>69824</th>\n",
       "      <td>-0.691</td>\n",
       "      <td>1.716</td>\n",
       "      <td>-1.331</td>\n",
       "    </tr>\n",
       "    <tr>\n",
       "      <th>9928</th>\n",
       "      <td>1.742</td>\n",
       "      <td>-1.605</td>\n",
       "      <td>0.500</td>\n",
       "    </tr>\n",
       "    <tr>\n",
       "      <th>75599</th>\n",
       "      <td>-1.355</td>\n",
       "      <td>0.985</td>\n",
       "      <td>5.683</td>\n",
       "    </tr>\n",
       "    <tr>\n",
       "      <th>95621</th>\n",
       "      <td>1.075</td>\n",
       "      <td>1.175</td>\n",
       "      <td>1.010</td>\n",
       "    </tr>\n",
       "  </tbody>\n",
       "</table>\n",
       "</div>"
      ],
      "text/plain": [
       "          f0     f1     f2\n",
       "98980 -0.593 -2.323  5.345\n",
       "69824 -0.691  1.716 -1.331\n",
       "9928   1.742 -1.605  0.500\n",
       "75599 -1.355  0.985  5.683\n",
       "95621  1.075  1.175  1.010"
      ]
     },
     "metadata": {},
     "output_type": "display_data"
    },
    {
     "data": {
      "text/plain": [
       "98980   122.402\n",
       "69824    43.300\n",
       "9928    144.915\n",
       "75599   114.039\n",
       "95621    95.600\n",
       "Name: product, dtype: float64"
      ]
     },
     "metadata": {},
     "output_type": "display_data"
    }
   ],
   "source": [
    "# set the constants\n",
    "RANDOM_STATE = 42\n",
    "TEST_SIZE = 0.25\n",
    "\n",
    "# form the sets of data for training and testing from the three existing datasets\n",
    "X_train0, X_test0, y_train0, y_test0 = train_test_split(\n",
    "    geo_data_0.drop(['id','product'], axis=1),\n",
    "    geo_data_0['product'],\n",
    "    test_size = TEST_SIZE, \n",
    "    random_state = RANDOM_STATE)\n",
    "\n",
    "X_train1, X_test1, y_train1, y_test1 = train_test_split(\n",
    "    geo_data_1.drop(['id','product'], axis=1),\n",
    "    geo_data_1['product'],\n",
    "    test_size = TEST_SIZE, \n",
    "    random_state = RANDOM_STATE)\n",
    "\n",
    "X_train2, X_test2, y_train2, y_test2 = train_test_split(\n",
    "    geo_data_2.drop(['id','product'], axis=1),\n",
    "    geo_data_2['product'],\n",
    "    test_size = TEST_SIZE, \n",
    "    random_state = RANDOM_STATE)\n",
    "\n",
    "display(X_train0.head(),y_train0.head())\n",
    "display(X_train1.head(),y_train1.head())\n",
    "display(X_train2.head(),y_train2.head())\n"
   ]
  },
  {
   "cell_type": "code",
   "execution_count": null,
   "metadata": {},
   "outputs": [],
   "source": [
    "# make lists with names of features for scaling input features\n",
    "num_columns = ['f0','f1','f2']\n",
    "\n",
    "# make pipeline for data preparation\n",
    "data_preprocessor = ColumnTransformer(\n",
    "    [('num', MinMaxScaler(), num_columns)\n",
    "    ], \n",
    "    remainder='passthrough',\n",
    "    force_int_remainder_cols=False\n",
    ")"
   ]
  },
  {
   "cell_type": "code",
   "execution_count": null,
   "metadata": {},
   "outputs": [
    {
     "name": "stdout",
     "output_type": "stream",
     "text": [
      "CPU times: user 695 ms, sys: 267 ms, total: 962 ms\n",
      "Wall time: 981 ms\n"
     ]
    }
   ],
   "source": [
    "%%time\n",
    "\n",
    "# make the final pipeline: data preparation and model\n",
    "pipe_final = Pipeline([\n",
    "    ('preprocessor', data_preprocessor),\n",
    "    ('models', LinearRegression())\n",
    "])\n",
    "\n",
    "# set the grid of hyperparameters to be searched\n",
    "param_grid = [\n",
    "\n",
    "    # dictionary for LinearRegression()\n",
    "    {\n",
    "        'models': [LinearRegression()],\n",
    "        'preprocessor__num': [StandardScaler(), MinMaxScaler(), 'passthrough']\n",
    "    }\n",
    "]\n",
    "\n",
    "\n",
    "# full grid search with 3 gridsearchers because gridsearchcv saves the state of the last training\n",
    "grid_search_0 = GridSearchCV(\n",
    "    pipe_final, \n",
    "    param_grid, \n",
    "    cv=5,\n",
    "    scoring='neg_mean_squared_error',\n",
    "    n_jobs=-1,\n",
    "\n",
    ")\n",
    "\n",
    "grid_search_1 = GridSearchCV(\n",
    "    pipe_final, \n",
    "    param_grid, \n",
    "    cv=5,\n",
    "    scoring='neg_mean_squared_error',\n",
    "    n_jobs=-1,\n",
    "\n",
    ")\n",
    "\n",
    "grid_search_2 = GridSearchCV(\n",
    "    pipe_final, \n",
    "    param_grid, \n",
    "    cv=5,\n",
    "    scoring='neg_mean_squared_error',\n",
    "    n_jobs=-1,\n",
    "\n",
    ")\n",
    "\n",
    "# train three models for each region\n",
    "model_0 = grid_search_0.fit(X_train0, y_train0)\n",
    "model_1 = grid_search_1.fit(X_train1, y_train1)\n",
    "model_2 = grid_search_2.fit(X_train2, y_train2)\n",
    "\n",
    "# get metric negMSE and convert to RMSE for each model\n",
    "best_score_neg_mse_0 = model_0.best_score_\n",
    "best_score_rmse_0 = round(float(np.sqrt(-best_score_neg_mse_0)),3)\n",
    "\n",
    "best_score_neg_mse_1 = model_1.best_score_\n",
    "best_score_rmse_1 = round(float(np.sqrt(-best_score_neg_mse_1)),3)\n",
    "\n",
    "best_score_neg_mse_2 = model_2.best_score_\n",
    "best_score_rmse_2 = round(float(np.sqrt(-best_score_neg_mse_2)),3)\n"
   ]
  },
  {
   "cell_type": "code",
   "execution_count": null,
   "metadata": {},
   "outputs": [
    {
     "name": "stdout",
     "output_type": "stream",
     "text": [
      "Метрика лучшей модели с учетом кросс-валидации для \u001b[1mнулевого\u001b[0m региона: 37.673\n",
      "Метрика RMSE на тестовой выборке: 37.757\n",
      "Средний запас предсказанного сырья: 92.39879990657768\n",
      "\n",
      "Метрика лучшей модели с учетом кросс-валидации для \u001b[1mпервого\u001b[0m региона: 0.89\n",
      "Метрика RMSE на тестовой выборке: 0.89\n",
      "Средний запас предсказанного сырья: 68.71287803913762\n",
      "\n",
      "Метрика лучшей модели с учетом кросс-валидации для \u001b[1mвторого\u001b[0m региона: 40.027\n",
      "Метрика RMSE на тестовой выборке: 40.146\n",
      "Средний запас предсказанного сырья: 94.77102387765939\n",
      "\n"
     ]
    }
   ],
   "source": [
    "print(f'Metrics for best model with cross-validation for \\033[1mzero\\033[0m region: {best_score_rmse_0}')\n",
    "# проверим работу модели на тестовой выборке\n",
    "y_test_pred0 = model_0.predict(X_test0)\n",
    "print(f'Metrics RMSE on test sample: {round(np.sqrt(mean_squared_error(y_test0, y_test_pred0)),3)}')\n",
    "print(f'The average predicted reserve of the material: {np.mean(y_test_pred0)}\\n') \n",
    "\n",
    "print(f'Metrics for best model with cross-validation for \\033[1mfirst\\033[0m региона: {best_score_rmse_1}')\n",
    "# проверим работу модели на тестовой выборке\n",
    "y_test_pred1 = model_1.predict(X_test1)\n",
    "print(f'Metrics RMSE on test sample: {round(np.sqrt(mean_squared_error(y_test1, y_test_pred1)),3)}')\n",
    "print(f'The average predicted reserve of the material: {np.mean(y_test_pred1)}\\n') \n",
    "\n",
    "print(f'Metrics for best model with cross-validation for \\033[1msecond\\033[0m региона: {best_score_rmse_2}')\n",
    "# проверим работу модели на тестовой выборке\n",
    "y_test_pred2 = model_2.predict(X_test2)\n",
    "print(f'Metrics RMSE on test sample: {round(np.sqrt(mean_squared_error(y_test2, y_test_pred2)),3)}')\n",
    "print(f'The average predicted reserve of the material: {np.mean(y_test_pred2)}\\n') \n"
   ]
  },
  {
   "cell_type": "code",
   "execution_count": null,
   "metadata": {},
   "outputs": [
    {
     "data": {
      "image/png": "[encoded data removed]",
      "text/plain": [
       "<Figure size 648x648 with 6 Axes>"
      ]
     },
     "metadata": {
      "needs_background": "light"
     },
     "output_type": "display_data"
    }
   ],
   "source": [
    "# look at the residuals for all regions\n",
    "\n",
    "y_test = [y_test0,y_test1,y_test2] \n",
    "y_test_pred = [y_test_pred0,y_test_pred1,y_test_pred2]\n",
    "\n",
    "fig, axes = plt.subplots(3, 2, figsize=(9, 9));\n",
    "fig.suptitle('The distribution of residuals for predictions by regions 0-2', y=1)\n",
    "\n",
    "for i in range(0,3):\n",
    "    ost = y_test[i] - y_test_pred[i]\n",
    "    ax = axes[i][0]\n",
    "    sns.histplot(data=ost,ax=ax)\n",
    "\n",
    "    ax = axes[i][1]\n",
    "    sns.scatterplot(x=y_test_pred[i], y=y_test[i] - y_test_pred[i],ax=ax);\n",
    "\n",
    "plt.tight_layout();\n",
    "plt.show();\n"
   ]
  },
  {
   "cell_type": "markdown",
   "metadata": {},
   "source": [
    "**Conclusion**\n",
    "\n",
    "Based on the results of training 3 models for each region, the metric for evaluating the effectiveness of prediction was chosen to be RMSE (due to the absence of significant outliers, this metric is relevant for assessing linear models). The average deviations for predictions in the 0th and 2nd regions were 37.7 thousand barrels and 40 thousand barrels, respectively, which corresponds to 40% and 42% of the average values of wells in these regions, respectively. These are relatively inaccurate predictions.\n",
    "\n",
    "However, the model for the 1st region showed an average error of 0.9 thousand barrels, which is only 1.3% of the average value for wells in this region, which is much more accurate.\n",
    "\n",
    "The analysis of residuals showed that they are distributed approximately normally, without a few peaks and outliers. The residual plots also show clear dependencies on predicted values, indicating that not all patterns were identified during training, and the residuals are not randomly distributed. This is likely due to the fact that the data was formed synthetically."
   ]
  },
  {
   "cell_type": "markdown",
   "metadata": {},
   "source": [
    "<a id='Preparing-for-profit-calculation'></a>\n",
    "## Preparing for profit calculation\n",
    "[Back to Content](#To-content)"
   ]
  },
  {
   "cell_type": "code",
   "execution_count": null,
   "metadata": {},
   "outputs": [
    {
     "name": "stdout",
     "output_type": "stream",
     "text": [
      "Минимальный запас нефти, необходимый для окупаемости разработки скважины, составляет в тыс. баррелей: 111.111\n",
      "Средние запасы по всем скважинам нулевого региона: 92.500 тыс. баррелей.\n",
      "Средние запасы по всем скважинам первого региона: 68.825 тыс. баррелей.\n",
      "Средние запасы по всем скважинам второго региона: 95.000 тыс. баррелей.\n"
     ]
    }
   ],
   "source": [
    "# save data for calculation of profit\n",
    "BUDGET = 10_000_000_000 # the budget for development of the region\n",
    "REVENUE_1P = 450_000 # revenue generated from one unit of product\n",
    "WELL_COUNT = 200\n",
    "\n",
    "product_0 = geo_data_0['product']\n",
    "product_1 = geo_data_1['product']\n",
    "product_2 = geo_data_2['product']\n",
    "\n",
    "# save the forecasts of the reserves for the models\n",
    "product_probs_0 = pd.Series(model_0.predict(geo_data_0.drop(['id','product'],axis=1)))\n",
    "product_probs_1 = pd.Series(model_1.predict(geo_data_1.drop(['id','product'],axis=1)))\n",
    "product_probs_2 = pd.Series(model_2.predict(geo_data_2.drop(['id','product'],axis=1)))\n",
    "\n",
    "# calculate the minimum volume of oil required for the profitable development of a new well\n",
    "payback_volume = BUDGET / WELL_COUNT / REVENUE_1P\n",
    "print(f'The minimum oil reserve required for the break-even point development of a well, measured in thousand barrels: {payback_volume:.3f}')\n",
    "\n",
    "# compare the obtained volume of raw materials with the average reserve in each region\n",
    "print(f'The average reserves across all wells in the zeroth region: {product_0.sum()/len(product_0):.3f} thousands of barrels.')\n",
    "print(f'The average reserves across all wells in the first region.: {product_1.sum()/len(product_1):.3f} thousands of barrels.')\n",
    "print(f'The average reserves across all wells in the second region.: {product_2.sum()/len(product_2):.3f} thousands of  barrels.')"
   ]
  },
  {
   "cell_type": "markdown",
   "metadata": {},
   "source": [
    "**Conclusion**\n",
    "\n",
    "Based on preliminary calculations, the minimum oil reserves in a well required for its development to be profitable at current prices is 111.11 thousand barrels.\n",
    "\n",
    "Comparing the average values of reserves across all wells in each of the three regions (92.5, 68.8, and 95.0 thousand barrels, respectively), it can be assumed that developing any existing wells on average is not economically viable and selection should be based on evaluating potential reserves exceeding the break-even point.\n",
    "\n",
    "It's also worth considering that the existing wells may have been developed under different circumstances and oil prices, so they may have already reached profitability at current market conditions. However, when predicting and selecting new wells for development, it's essential to consider average reserve values by region."
   ]
  },
  {
   "cell_type": "markdown",
   "metadata": {},
   "source": [
    "<a id='Profit-and-Risk Calculation'></a>\n",
    "## Profit and Risk Calculation\n",
    "[Back to Content](#To-content)"
   ]
  },
  {
   "cell_type": "code",
   "execution_count": null,
   "metadata": {},
   "outputs": [],
   "source": [
    "# prepare function for profit calculation from predicted data\n",
    "def profit(product, product_prob, revenue_1p,count):\n",
    "    product_prob = pd.Series(product_prob)\n",
    "    probs_sorted = product_prob.sort_values(ascending=False)\n",
    "    profit = float(round(product[probs_sorted.index][:count].sum()*revenue_1p - BUDGET,2))\n",
    "    return profit\n"
   ]
  },
  {
   "cell_type": "code",
   "execution_count": null,
   "metadata": {},
   "outputs": [
    {
     "name": "stdout",
     "output_type": "stream",
     "text": [
      "Средняя прибыль региона регион_0: 417,608,401.22\n",
      "95%-ый доверительный интервал для средней выручки региона регион_0:          -85,643,956.24, 932,570,436.25\n",
      "Вероятность получения убытков в регион_0: 6.10% \n",
      "\n",
      "Средняя прибыль региона регион_1: 468,259,100.42\n",
      "95%-ый доверительный интервал для средней выручки региона регион_1:          99,520,638.16, 857,265,440.51\n",
      "Вероятность получения убытков в регион_1: 1.00% \n",
      "\n",
      "Средняя прибыль региона регион_2: 369,479,410.42\n",
      "95%-ый доверительный интервал для средней выручки региона регион_2:          -162,946,518.52, 880,826,233.62\n",
      "Вероятность получения убытков в регион_2: 8.50% \n",
      "\n"
     ]
    }
   ],
   "source": [
    "state = np.random.RandomState(1)\n",
    "product_regions = [product_0,product_1,product_2]\n",
    "product_probs = [product_probs_0,product_probs_1,product_probs_2]\n",
    "region_names = ['регион_0','регион_1','регион_2']\n",
    "\n",
    "for j,product_region in enumerate(product_regions):\n",
    "    profits = []\n",
    "\n",
    "    for i in range(1000):\n",
    "        product_subsample = product_region.sample(frac=500/len(product_region),replace=True,random_state=state)\n",
    "        probs_subsample = product_probs[j][product_subsample.index] \n",
    "        profits.append(profit(product_subsample,probs_subsample, REVENUE_1P,200))\n",
    "\n",
    "    profits = pd.Series(profits)\n",
    "    mean = round(profits.mean(),2)\n",
    "    print(f'Average profit for region {region_names[j]}: {mean:,.2F}')\n",
    "    \n",
    "    # calculate the 95% confidence interval for the average profit for each region\n",
    "    lower = profits.quantile(0.025)\n",
    "    higher = profits.quantile(0.975)\n",
    "    print(f'95% confidence interval for the average profit for region {region_names[j]}:\\\n",
    "          {lower:,.2F}, {higher:,.2F}')\n",
    "    \n",
    "    # calculate the probability of losses for each region based on the available data on the stocks\n",
    "    print(f'Probability to get loss in region {region_names[j]} is : {(profits < 0).mean() *100:.2f}% \\n')\n"
   ]
  },
  {
   "cell_type": "markdown",
   "metadata": {},
   "source": [
    "**Conclusion**\n",
    "\n",
    "Based on the results of constructing a distribution of average profit using the bootstrap method, we obtained estimates of the average profit for each region at levels of 417.7 million rubles, 468.3 million rubles, and 369.5 million rubles for regions 0 to 2, respectively.\n",
    "\n",
    "The 95% confidence intervals were (-85.6, 932.6), (99.5, 857.3), and (-162.9, 880.8) for the corresponding regions.\n",
    "\n",
    "Additionally, we estimated the probability of incurring losses for each region: 6.1%, 1.0%, and 8.5% respectively.\n",
    "\n",
    "Therefore, we see that the lowest risk of incurring losses is associated with region_1, which also has the highest average predicted profit. Therefore, we recommend paying attention to the development of **region_1** (second in the overall list) as the most promising in terms of minimizing risks and profitability of selecting 500 wells and developing the 200 best ones."
   ]
  },
  {
   "cell_type": "markdown",
   "metadata": {},
   "source": [
    "<a id='General-Conclusion'></a>\n",
    "## General Conclusion\n",
    "[Back to Content](#To-content)\n",
    "\n",
    "In this project, the objective was to analyze oil sample data from **three regions (0,1,2)** and use the provided data to train three models to predict reserves in each region. Next, we assessed the profitability distribution for each region, taking into account specified price conditions and field selection criteria, ultimately recommending the most profitable region for initial development.\n",
    "\n",
    "**Data Preprocessing and Initial Assessment:**\n",
    "\n",
    "Upon preliminary review, the data did not require significant adjustments; checks for duplicates, outliers, and anomalies were performed. No duplicate entries were found, and all input and target features across datasets were quantitative. Not all were close to a normal distribution, with some outliers observed in certain features and datasets, likely reflecting the unique characteristics of the specific geographical regions. Since data ranges varied, scaling was necessary during preparation for model training. Spearman correlation coefficients between quantitative data and the target feature indicated a strong correlation only with feature f2 (for regions 0 and 2, around 0.44–0.48; and for region 1, a very strong correlation at 0.98). The input features showed minimal inter-correlation.\n",
    "\n",
    "**Model Training and Evaluation:**\n",
    "\n",
    "After training three models for each region, we chose RMSE as the metric for evaluating prediction accuracy (since the absence of significant outliers makes RMSE suitable for assessing linear models). The RMSE for predictions in regions 0 and 2 was approximately 37.7k and 40k barrels, respectively, amounting to 40% and 42% of the average well values in these regions, indicating relatively low prediction accuracy. The model for region 1, however, yielded a mean error of 0.9k barrels, which represents 1.3% of the regional average, reflecting significantly higher accuracy.\n",
    "\n",
    "Residual analysis showed approximate normal distribution without major peaks or outliers. Scatterplots of residuals, however, revealed noticeable dependencies on predicted values, suggesting that not all patterns were captured during training. This likely reflects the synthetic nature of the dataset.\n",
    "\n",
    "**Break-even Analysis:**\n",
    "\n",
    "Our preliminary calculations showed a minimum reserve requirement of 111.11k barrels per well for development to break even at current prices. When comparing the mean reserves across wells in each of the three regions (92.5, 68.8, and 95.0k barrels, respectively), it appears that developing all available wells would generally be unprofitable, and **targeted selection** based on reserves above the break-even threshold is necessary.\n",
    "\n",
    "It's worth noting that existing wells may have been developed under different market conditions and prices, and may already be profitable. However, when selecting new wells for development, average reserves by region should be factored in.\n",
    "\n",
    "**Profit Calculation and Bootstrapping Results:**\n",
    "\n",
    "A profit calculation function was created for the final project stage, applied in a 1,000-sample bootstrap process for selecting 500 wells, then evaluating the top 200 for profitability in each region. Based on bootstrap profit distributions, we obtained average profit estimates per region of approximately 417.7, 468.3, and 369.5 million rubles for regions 0 to 2, respectively. The 95% confidence intervals were (-85.6, 932.6), (99.5, 857.3), and (-162.9, 880.8), respectively, with estimated loss probabilities of 6.1%, 1.0%, and 8.5%.\n",
    "\n",
    "**Conclusion:**\n",
    "\n",
    "Region 1 demonstrates the lowest risk of losses, as well as the highest average forecasted profit. Therefore, we recommend **Region 1** (second on the overall list) as the most promising option in terms of minimizing risk and maximizing profitability by selecting 500 wells and developing the top 200."
   ]
  }
 ],
 "metadata": {
  "ExecuteTimeLog": [
   {
    "duration": 37212,
    "start_time": "2024-07-03T18:51:12.389Z"
   },
   {
    "duration": 2160,
    "start_time": "2024-07-03T18:51:49.604Z"
   },
   {
    "duration": 79,
    "start_time": "2024-07-03T18:51:51.766Z"
   },
   {
    "duration": 7,
    "start_time": "2024-07-03T18:51:51.847Z"
   },
   {
    "duration": 700,
    "start_time": "2024-07-03T18:51:51.856Z"
   },
   {
    "duration": 74,
    "start_time": "2024-07-03T18:51:52.558Z"
   },
   {
    "duration": 95,
    "start_time": "2024-07-03T18:51:52.634Z"
   },
   {
    "duration": 4119,
    "start_time": "2024-07-03T18:51:52.737Z"
   },
   {
    "duration": 192,
    "start_time": "2024-07-03T18:51:56.858Z"
   },
   {
    "duration": 48,
    "start_time": "2024-07-03T18:51:57.052Z"
   },
   {
    "duration": 4,
    "start_time": "2024-07-03T18:51:57.102Z"
   },
   {
    "duration": 1066,
    "start_time": "2024-07-03T18:51:57.107Z"
   },
   {
    "duration": 17,
    "start_time": "2024-07-03T18:51:58.174Z"
   },
   {
    "duration": 1071,
    "start_time": "2024-07-03T18:51:58.192Z"
   },
   {
    "duration": 7,
    "start_time": "2024-07-03T18:51:59.264Z"
   },
   {
    "duration": 7,
    "start_time": "2024-07-03T18:51:59.272Z"
   },
   {
    "duration": 1311,
    "start_time": "2024-07-03T18:51:59.280Z"
   },
   {
    "duration": 66,
    "start_time": "2024-07-04T11:31:23.850Z"
   },
   {
    "duration": 45092,
    "start_time": "2024-07-04T11:31:44.976Z"
   },
   {
    "duration": 2690,
    "start_time": "2024-07-04T11:32:30.071Z"
   },
   {
    "duration": 44,
    "start_time": "2024-07-04T11:32:32.764Z"
   },
   {
    "duration": 8,
    "start_time": "2024-07-04T11:32:32.809Z"
   },
   {
    "duration": 726,
    "start_time": "2024-07-04T11:32:32.819Z"
   },
   {
    "duration": 120,
    "start_time": "2024-07-04T11:32:33.547Z"
   },
   {
    "duration": 139,
    "start_time": "2024-07-04T11:32:33.670Z"
   },
   {
    "duration": 4809,
    "start_time": "2024-07-04T11:32:33.810Z"
   },
   {
    "duration": 205,
    "start_time": "2024-07-04T11:32:38.621Z"
   },
   {
    "duration": 85,
    "start_time": "2024-07-04T11:32:38.828Z"
   },
   {
    "duration": 3,
    "start_time": "2024-07-04T11:32:38.915Z"
   },
   {
    "duration": 1136,
    "start_time": "2024-07-04T11:32:38.920Z"
   },
   {
    "duration": 18,
    "start_time": "2024-07-04T11:32:40.060Z"
   },
   {
    "duration": 1261,
    "start_time": "2024-07-04T11:32:40.080Z"
   },
   {
    "duration": 6,
    "start_time": "2024-07-04T11:32:41.343Z"
   },
   {
    "duration": 4,
    "start_time": "2024-07-04T11:32:41.351Z"
   },
   {
    "duration": 183,
    "start_time": "2024-07-04T11:32:41.358Z"
   },
   {
    "duration": 5,
    "start_time": "2024-07-04T11:47:41.364Z"
   },
   {
    "duration": 8,
    "start_time": "2024-07-04T11:55:01.595Z"
   },
   {
    "duration": 11,
    "start_time": "2024-07-04T11:56:28.278Z"
   },
   {
    "duration": 25,
    "start_time": "2024-07-04T12:06:32.266Z"
   },
   {
    "duration": 52,
    "start_time": "2024-07-04T12:42:03.966Z"
   },
   {
    "duration": 51,
    "start_time": "2024-07-04T12:42:25.490Z"
   },
   {
    "duration": 51,
    "start_time": "2024-07-04T12:43:20.609Z"
   },
   {
    "duration": 5828,
    "start_time": "2024-07-04T12:47:07.781Z"
   },
   {
    "duration": 2171,
    "start_time": "2024-07-04T12:47:13.611Z"
   },
   {
    "duration": 40,
    "start_time": "2024-07-04T12:47:15.784Z"
   },
   {
    "duration": 8,
    "start_time": "2024-07-04T12:47:15.827Z"
   },
   {
    "duration": 453,
    "start_time": "2024-07-04T12:47:15.847Z"
   },
   {
    "duration": 83,
    "start_time": "2024-07-04T12:47:16.302Z"
   },
   {
    "duration": 133,
    "start_time": "2024-07-04T12:47:16.386Z"
   },
   {
    "duration": 4751,
    "start_time": "2024-07-04T12:47:16.520Z"
   },
   {
    "duration": 215,
    "start_time": "2024-07-04T12:47:21.272Z"
   },
   {
    "duration": 65,
    "start_time": "2024-07-04T12:47:21.489Z"
   },
   {
    "duration": 3,
    "start_time": "2024-07-04T12:47:21.555Z"
   },
   {
    "duration": 966,
    "start_time": "2024-07-04T12:47:21.560Z"
   },
   {
    "duration": 27,
    "start_time": "2024-07-04T12:47:22.529Z"
   },
   {
    "duration": 1227,
    "start_time": "2024-07-04T12:47:22.558Z"
   },
   {
    "duration": 38,
    "start_time": "2024-07-04T12:47:23.787Z"
   },
   {
    "duration": 6,
    "start_time": "2024-07-04T12:47:23.827Z"
   },
   {
    "duration": 32,
    "start_time": "2024-07-04T12:47:23.835Z"
   },
   {
    "duration": 159,
    "start_time": "2024-07-04T12:47:23.868Z"
   },
   {
    "duration": 5,
    "start_time": "2024-07-04T12:53:20.939Z"
   },
   {
    "duration": 17,
    "start_time": "2024-07-04T13:03:41.256Z"
   },
   {
    "duration": 33,
    "start_time": "2024-07-04T13:03:57.429Z"
   },
   {
    "duration": 4,
    "start_time": "2024-07-04T13:06:03.629Z"
   },
   {
    "duration": 32,
    "start_time": "2024-07-04T13:06:05.904Z"
   },
   {
    "duration": 40,
    "start_time": "2024-07-04T14:16:56.447Z"
   },
   {
    "duration": 17,
    "start_time": "2024-07-04T14:19:05.419Z"
   },
   {
    "duration": 3917,
    "start_time": "2024-07-04T14:19:28.453Z"
   },
   {
    "duration": 3902,
    "start_time": "2024-07-04T14:20:39.852Z"
   },
   {
    "duration": 3979,
    "start_time": "2024-07-04T14:21:39.710Z"
   },
   {
    "duration": 5618,
    "start_time": "2024-07-04T14:25:50.853Z"
   },
   {
    "duration": 4816,
    "start_time": "2024-07-04T14:27:38.984Z"
   },
   {
    "duration": 43,
    "start_time": "2024-07-04T14:28:46.744Z"
   },
   {
    "duration": 5292,
    "start_time": "2024-07-04T14:28:54.078Z"
   },
   {
    "duration": 5488,
    "start_time": "2024-07-04T14:29:51.011Z"
   },
   {
    "duration": 4818,
    "start_time": "2024-07-04T14:30:50.641Z"
   },
   {
    "duration": 4561,
    "start_time": "2024-07-04T14:31:38.671Z"
   },
   {
    "duration": 5,
    "start_time": "2024-07-04T14:37:11.020Z"
   },
   {
    "duration": 4751,
    "start_time": "2024-07-04T14:37:38.006Z"
   },
   {
    "duration": 4968,
    "start_time": "2024-07-04T14:37:54.940Z"
   },
   {
    "duration": 4638,
    "start_time": "2024-07-04T14:39:03.194Z"
   },
   {
    "duration": 4753,
    "start_time": "2024-07-04T14:43:10.939Z"
   },
   {
    "duration": 4932,
    "start_time": "2024-07-04T14:47:19.855Z"
   },
   {
    "duration": 1606,
    "start_time": "2024-07-04T14:48:10.775Z"
   },
   {
    "duration": 4617,
    "start_time": "2024-07-04T14:49:03.202Z"
   },
   {
    "duration": 1737,
    "start_time": "2024-07-04T14:49:38.271Z"
   },
   {
    "duration": 4933,
    "start_time": "2024-07-04T14:49:54.575Z"
   },
   {
    "duration": 105,
    "start_time": "2024-07-04T15:35:02.224Z"
   },
   {
    "duration": 6209,
    "start_time": "2024-07-04T15:46:27.987Z"
   },
   {
    "duration": 2266,
    "start_time": "2024-07-04T15:46:34.198Z"
   },
   {
    "duration": 39,
    "start_time": "2024-07-04T15:46:36.466Z"
   },
   {
    "duration": 8,
    "start_time": "2024-07-04T15:46:36.507Z"
   },
   {
    "duration": 500,
    "start_time": "2024-07-04T15:46:36.517Z"
   },
   {
    "duration": 88,
    "start_time": "2024-07-04T15:46:37.020Z"
   },
   {
    "duration": 197,
    "start_time": "2024-07-04T15:46:37.110Z"
   },
   {
    "duration": 4765,
    "start_time": "2024-07-04T15:46:37.309Z"
   },
   {
    "duration": 206,
    "start_time": "2024-07-04T15:46:42.075Z"
   },
   {
    "duration": 65,
    "start_time": "2024-07-04T15:46:42.283Z"
   },
   {
    "duration": 4,
    "start_time": "2024-07-04T15:46:42.350Z"
   },
   {
    "duration": 988,
    "start_time": "2024-07-04T15:46:42.355Z"
   },
   {
    "duration": 30,
    "start_time": "2024-07-04T15:46:43.345Z"
   },
   {
    "duration": 1248,
    "start_time": "2024-07-04T15:46:43.377Z"
   },
   {
    "duration": 45,
    "start_time": "2024-07-04T15:46:44.626Z"
   },
   {
    "duration": 5,
    "start_time": "2024-07-04T15:46:44.673Z"
   },
   {
    "duration": 4636,
    "start_time": "2024-07-04T15:46:44.680Z"
   },
   {
    "duration": 27,
    "start_time": "2024-07-04T15:48:11.397Z"
   }
  ],
  "kernelspec": {
   "display_name": "Python 3 (ipykernel)",
   "language": "python",
   "name": "python3"
  },
  "language_info": {
   "codemirror_mode": {
    "name": "ipython",
    "version": 3
   },
   "file_extension": ".py",
   "mimetype": "text/x-python",
   "name": "python",
   "nbconvert_exporter": "python",
   "pygments_lexer": "ipython3",
   "version": "3.11.9"
  },
  "toc": {
   "base_numbering": 1,
   "nav_menu": {},
   "number_sections": true,
   "sideBar": true,
   "skip_h1_title": true,
   "title_cell": "Table of Contents",
   "title_sidebar": "Contents",
   "toc_cell": false,
   "toc_position": {},
   "toc_section_display": true,
   "toc_window_display": false
  }
 },
 "nbformat": 4,
 "nbformat_minor": 4
}
