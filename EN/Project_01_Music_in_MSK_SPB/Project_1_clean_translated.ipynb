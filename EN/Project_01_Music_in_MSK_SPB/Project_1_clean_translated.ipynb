{
 "cells": [
  {
   "cell_type": "markdown",
   "metadata": {
    "deletable": false,
    "editable": false,
    "id": "E0vqbgi9ay0H"
   },
   "source": [
    "# Yandex Music"
   ]
  },
  {
   "cell_type": "markdown",
   "metadata": {
    "deletable": false,
    "editable": false,
    "id": "VUC88oWjTJw2"
   },
   "source": [
    "The comparison between Moscow and Saint Petersburg is surrounded by myths. For example:\n",
    "* Moscow is a metropolis, governed by the strict rhythm of the working week;\n",
    "* Saint Petersburg is the cultural capital, with its own tastes.\n",
    "\n",
    "Using Yandex Music data, we'll compare user behavior in the two capitals.\n",
    "\n",
    "**Research goal** — to test three hypotheses:\n",
    "1. User activity depends on the day of the week. Moreover, this manifests differently in Moscow and Saint Petersburg.\n",
    "2. On Monday morning, certain music genres prevail in Moscow while others prevail in Saint Petersburg. Similarly, different genres prevail on Friday evenings depending on the city.\n",
    "3. Moscow and Saint Petersburg prefer different music genres. In Moscow, people listen to pop music more often, while in Saint Petersburg, Russian rap is more popular.\n",
    "\n",
    "**Research Process**\n",
    "We will obtain user behavior data from the `yandex_music_project.csv` file. The quality of the data is unknown. Therefore, before testing the hypotheses, we'll need a data overview.\n",
    "\n",
    "We will check the data for errors and assess their impact on the research. Then, during the preprocessing stage, we'll look for ways to fix the most critical data errors.\n",
    "\n",
    "Thus, the research will proceed in three stages:\n",
    "1. Data overview.\n",
    "2. Data preprocessing.\n",
    "3. Hypothesis testing.\n"
   ]
  },
  {
   "cell_type": "markdown",
   "metadata": {
    "deletable": false,
    "editable": false,
    "id": "Ml1hmfXC_Zcs"
   },
   "source": [
    "## Data Overview\n",
    "\n",
    "Let’s create an initial understanding of the Yandex Music data.\n",
    "\n"
   ]
  },
  {
   "cell_type": "markdown",
   "metadata": {
    "deletable": false,
    "editable": false,
    "id": "57eAOGIz_Zcs",
    "tags": [
     "start_task"
    ]
   },
   "source": [
    "**Task 1**"
   ]
  },
  {
   "cell_type": "code",
   "execution_count": 1,
   "metadata": {
    "deletable": false,
    "id": "AXN7PHPN_Zcs"
   },
   "outputs": [],
   "source": [
    "import pandas as pd # import the pandas library"
   ]
  },
  {
   "cell_type": "markdown",
   "metadata": {
    "deletable": false,
    "editable": false,
    "id": "SG23P8tt_Zcs",
    "tags": [
     "start_task"
    ]
   },
   "source": [
    "**Task 2**"
   ]
  },
  {
   "cell_type": "code",
   "execution_count": 2,
   "metadata": {
    "deletable": false,
    "id": "fFVu7vqh_Zct",
    "scrolled": true
   },
   "outputs": [],
   "source": [
    "df = pd.read_csv('/datasets/yandex_music_project.csv') # reading the data file and saving it to df"
   ]
  },
  {
   "cell_type": "markdown",
   "metadata": {
    "deletable": false,
    "editable": false,
    "id": "rDoOMd3uTqnZ",
    "tags": [
     "start_task"
    ]
   },
   "source": [
    "**Task 3**"
   ]
  },
  {
   "cell_type": "code",
   "execution_count": 3,
   "metadata": {
    "deletable": false,
    "id": "oWTVX3gW_Zct"
   },
   "outputs": [
    {
     "data": {
      "text/html": [
       "<div>\n",
       "<style scoped>\n",
       "    .dataframe tbody tr th:only-of-type {\n",
       "        vertical-align: middle;\n",
       "    }\n",
       "\n",
       "    .dataframe tbody tr th {\n",
       "        vertical-align: top;\n",
       "    }\n",
       "\n",
       "    .dataframe thead th {\n",
       "        text-align: right;\n",
       "    }\n",
       "</style>\n",
       "<table border=\"1\" class=\"dataframe\">\n",
       "  <thead>\n",
       "    <tr style=\"text-align: right;\">\n",
       "      <th></th>\n",
       "      <th>userID</th>\n",
       "      <th>Track</th>\n",
       "      <th>artist</th>\n",
       "      <th>genre</th>\n",
       "      <th>City</th>\n",
       "      <th>time</th>\n",
       "      <th>Day</th>\n",
       "    </tr>\n",
       "  </thead>\n",
       "  <tbody>\n",
       "    <tr>\n",
       "      <th>0</th>\n",
       "      <td>FFB692EC</td>\n",
       "      <td>Kamigata To Boots</td>\n",
       "      <td>The Mass Missile</td>\n",
       "      <td>rock</td>\n",
       "      <td>Saint-Petersburg</td>\n",
       "      <td>20:28:33</td>\n",
       "      <td>Wednesday</td>\n",
       "    </tr>\n",
       "    <tr>\n",
       "      <th>1</th>\n",
       "      <td>55204538</td>\n",
       "      <td>Delayed Because of Accident</td>\n",
       "      <td>Andreas Rönnberg</td>\n",
       "      <td>rock</td>\n",
       "      <td>Moscow</td>\n",
       "      <td>14:07:09</td>\n",
       "      <td>Friday</td>\n",
       "    </tr>\n",
       "    <tr>\n",
       "      <th>2</th>\n",
       "      <td>20EC38</td>\n",
       "      <td>Funiculì funiculà</td>\n",
       "      <td>Mario Lanza</td>\n",
       "      <td>pop</td>\n",
       "      <td>Saint-Petersburg</td>\n",
       "      <td>20:58:07</td>\n",
       "      <td>Wednesday</td>\n",
       "    </tr>\n",
       "    <tr>\n",
       "      <th>3</th>\n",
       "      <td>A3DD03C9</td>\n",
       "      <td>Dragons in the Sunset</td>\n",
       "      <td>Fire + Ice</td>\n",
       "      <td>folk</td>\n",
       "      <td>Saint-Petersburg</td>\n",
       "      <td>08:37:09</td>\n",
       "      <td>Monday</td>\n",
       "    </tr>\n",
       "    <tr>\n",
       "      <th>4</th>\n",
       "      <td>E2DC1FAE</td>\n",
       "      <td>Soul People</td>\n",
       "      <td>Space Echo</td>\n",
       "      <td>dance</td>\n",
       "      <td>Moscow</td>\n",
       "      <td>08:34:34</td>\n",
       "      <td>Monday</td>\n",
       "    </tr>\n",
       "    <tr>\n",
       "      <th>5</th>\n",
       "      <td>842029A1</td>\n",
       "      <td>Преданная</td>\n",
       "      <td>IMPERVTOR</td>\n",
       "      <td>rusrap</td>\n",
       "      <td>Saint-Petersburg</td>\n",
       "      <td>13:09:41</td>\n",
       "      <td>Friday</td>\n",
       "    </tr>\n",
       "    <tr>\n",
       "      <th>6</th>\n",
       "      <td>4CB90AA5</td>\n",
       "      <td>True</td>\n",
       "      <td>Roman Messer</td>\n",
       "      <td>dance</td>\n",
       "      <td>Moscow</td>\n",
       "      <td>13:00:07</td>\n",
       "      <td>Wednesday</td>\n",
       "    </tr>\n",
       "    <tr>\n",
       "      <th>7</th>\n",
       "      <td>F03E1C1F</td>\n",
       "      <td>Feeling This Way</td>\n",
       "      <td>Polina Griffith</td>\n",
       "      <td>dance</td>\n",
       "      <td>Moscow</td>\n",
       "      <td>20:47:49</td>\n",
       "      <td>Wednesday</td>\n",
       "    </tr>\n",
       "    <tr>\n",
       "      <th>8</th>\n",
       "      <td>8FA1D3BE</td>\n",
       "      <td>И вновь продолжается бой</td>\n",
       "      <td>NaN</td>\n",
       "      <td>ruspop</td>\n",
       "      <td>Moscow</td>\n",
       "      <td>09:17:40</td>\n",
       "      <td>Friday</td>\n",
       "    </tr>\n",
       "    <tr>\n",
       "      <th>9</th>\n",
       "      <td>E772D5C0</td>\n",
       "      <td>Pessimist</td>\n",
       "      <td>NaN</td>\n",
       "      <td>dance</td>\n",
       "      <td>Saint-Petersburg</td>\n",
       "      <td>21:20:49</td>\n",
       "      <td>Wednesday</td>\n",
       "    </tr>\n",
       "  </tbody>\n",
       "</table>\n",
       "</div>"
      ],
      "text/plain": [
       "     userID                        Track            artist   genre  \\\n",
       "0  FFB692EC            Kamigata To Boots  The Mass Missile    rock   \n",
       "1  55204538  Delayed Because of Accident  Andreas Rönnberg    rock   \n",
       "2    20EC38            Funiculì funiculà       Mario Lanza     pop   \n",
       "3  A3DD03C9        Dragons in the Sunset        Fire + Ice    folk   \n",
       "4  E2DC1FAE                  Soul People        Space Echo   dance   \n",
       "5  842029A1                    Преданная         IMPERVTOR  rusrap   \n",
       "6  4CB90AA5                         True      Roman Messer   dance   \n",
       "7  F03E1C1F             Feeling This Way   Polina Griffith   dance   \n",
       "8  8FA1D3BE     И вновь продолжается бой               NaN  ruspop   \n",
       "9  E772D5C0                    Pessimist               NaN   dance   \n",
       "\n",
       "             City        time        Day  \n",
       "0  Saint-Petersburg  20:28:33  Wednesday  \n",
       "1            Moscow  14:07:09     Friday  \n",
       "2  Saint-Petersburg  20:58:07  Wednesday  \n",
       "3  Saint-Petersburg  08:37:09     Monday  \n",
       "4            Moscow  08:34:34     Monday  \n",
       "5  Saint-Petersburg  13:09:41     Friday  \n",
       "6            Moscow  13:00:07  Wednesday  \n",
       "7            Moscow  20:47:49  Wednesday  \n",
       "8            Moscow  09:17:40     Friday  \n",
       "9  Saint-Petersburg  21:20:49  Wednesday  "
      ]
     },
     "execution_count": 3,
     "metadata": {},
     "output_type": "execute_result"
    }
   ],
   "source": [
    "df.head(10) # getting the first 10 rows of the df table"
   ]
  },
  {
   "cell_type": "markdown",
   "metadata": {
    "deletable": false,
    "editable": false,
    "id": "EO73Kwic_Zct",
    "tags": [
     "start_task"
    ]
   },
   "source": [
    "**Task 4**"
   ]
  },
  {
   "cell_type": "code",
   "execution_count": 4,
   "metadata": {
    "deletable": false,
    "id": "DSf2kIb-_Zct"
   },
   "outputs": [
    {
     "name": "stdout",
     "output_type": "stream",
     "text": [
      "<class 'pandas.core.frame.DataFrame'>\n",
      "RangeIndex: 65079 entries, 0 to 65078\n",
      "Data columns (total 7 columns):\n",
      " #   Column    Non-Null Count  Dtype \n",
      "---  ------    --------------  ----- \n",
      " 0     userID  65079 non-null  object\n",
      " 1   Track     63848 non-null  object\n",
      " 2   artist    57876 non-null  object\n",
      " 3   genre     63881 non-null  object\n",
      " 4     City    65079 non-null  object\n",
      " 5   time      65079 non-null  object\n",
      " 6   Day       65079 non-null  object\n",
      "dtypes: object(7)\n",
      "memory usage: 3.5+ MB\n"
     ]
    }
   ],
   "source": [
    "df.info() # getting general information about the data in the df table"
   ]
  },
  {
   "cell_type": "markdown",
   "metadata": {
    "deletable": false,
    "editable": false,
    "id": "TaQ2Iwbr_Zct"
   },
   "source": [
    "The number of values in the columns differs. This means there are missing values in the data."
   ]
  },
  {
   "cell_type": "markdown",
   "metadata": {
    "deletable": false,
    "editable": false,
    "id": "4P0UCWzswgEm",
    "tags": [
     "start_task"
    ]
   },
   "source": [
    "**Task 5**"
   ]
  },
  {
   "cell_type": "markdown",
   "metadata": {},
   "source": [
    "The column names contain three style violations:\n",
    "- Lowercase letters are mixed with uppercase.\n",
    "- There are spaces.\n",
    "\n",
    "Find the third style violation."
   ]
  },
  {
   "cell_type": "code",
   "execution_count": 5,
   "metadata": {
    "id": "c137-ZstwgEm"
   },
   "outputs": [],
   "source": [
    "# Write your answer here as a comment. Do not delete the # symbol. Do not change the type of this cell to Markdown.\n",
    "# The first column name uses 'CamelCase'; it is recommended to rename it to 'snake_case' as user_id."
   ]
  },
  {
   "cell_type": "markdown",
   "metadata": {
    "deletable": false,
    "editable": false,
    "id": "MCB6-dXG_Zct"
   },
   "source": [
    "Conclusions\n",
    "\n",
    "Each row in the table contains data about a listened track. Some columns describe the composition itself: the title, the artist, and the genre. Other data provides information about the user: which city they are from and when they listened to the music.\n",
    "\n",
    "It can be preliminarily asserted that there is enough data to test the hypotheses. However, there are missing values in the data, and the column names do not adhere to good style.\n",
    "\n",
    "To move forward, it is necessary to address the issues in the data."
   ]
  },
  {
   "cell_type": "markdown",
   "metadata": {
    "deletable": false,
    "editable": false,
    "id": "SjYF6Ub9_Zct"
   },
   "source": [
    "## Data Preprocessing"
   ]
  },
  {
   "cell_type": "markdown",
   "metadata": {
    "deletable": false,
    "editable": false,
    "id": "dIaKXr29_Zct",
    "tags": [
     "start_task"
    ]
   },
   "source": [
    "### Renaming Columns\n",
    "\n",
    "**Task 6**"
   ]
  },
  {
   "cell_type": "code",
   "execution_count": 6,
   "metadata": {
    "deletable": false,
    "id": "oKOTdF_Q_Zct"
   },
   "outputs": [
    {
     "data": {
      "text/plain": [
       "Index(['  userID', 'Track', 'artist', 'genre', '  City  ', 'time', 'Day'], dtype='object')"
      ]
     },
     "execution_count": 6,
     "metadata": {},
     "output_type": "execute_result"
    }
   ],
   "source": [
    "df.columns # the list of column names in the dataframe df"
   ]
  },
  {
   "cell_type": "markdown",
   "metadata": {
    "deletable": false,
    "editable": false,
    "id": "zj5534cv_Zct",
    "tags": [
     "start_task"
    ]
   },
   "source": [
    "**Task 7**"
   ]
  },
  {
   "cell_type": "code",
   "execution_count": 7,
   "metadata": {
    "deletable": false,
    "id": "ISlFqs5y_Zct"
   },
   "outputs": [],
   "source": [
    "df = df.rename( # renaming columns\n",
    "    columns = {\n",
    "        \"  userID\": \"user_id\",\n",
    "        \"Track\": \"track\",\n",
    "        \"  City  \": \"city\",\n",
    "        \"Day\": \"day\"\n",
    "    }\n",
    ")"
   ]
  },
  {
   "cell_type": "markdown",
   "metadata": {
    "deletable": false,
    "editable": false,
    "id": "1dqbh00J_Zct",
    "tags": [
     "start_task"
    ]
   },
   "source": [
    "**Задание 8**"
   ]
  },
  {
   "cell_type": "code",
   "execution_count": 8,
   "metadata": {
    "deletable": false,
    "id": "d4NOAmTW_Zct"
   },
   "outputs": [
    {
     "data": {
      "text/plain": [
       "Index(['user_id', 'track', 'artist', 'genre', 'city', 'time', 'day'], dtype='object')"
      ]
     },
     "execution_count": 8,
     "metadata": {},
     "output_type": "execute_result"
    }
   ],
   "source": [
    "df.columns # checking the results - list of column names"
   ]
  },
  {
   "cell_type": "markdown",
   "metadata": {
    "deletable": false,
    "editable": false,
    "id": "5ISfbcfY_Zct",
    "tags": [
     "start_task"
    ]
   },
   "source": [
    "### Handling missing values\n",
    "\n",
    "**Task 9**"
   ]
  },
  {
   "cell_type": "code",
   "execution_count": 9,
   "metadata": {
    "deletable": false,
    "id": "RskX29qr_Zct"
   },
   "outputs": [
    {
     "data": {
      "text/plain": [
       "user_id       0\n",
       "track      1231\n",
       "artist     7203\n",
       "genre      1198\n",
       "city          0\n",
       "time          0\n",
       "day           0\n",
       "dtype: int64"
      ]
     },
     "execution_count": 9,
     "metadata": {},
     "output_type": "execute_result"
    }
   ],
   "source": [
    "# counting missing values\n",
    "df.isna().sum()"
   ]
  },
  {
   "cell_type": "markdown",
   "metadata": {
    "deletable": false,
    "editable": false,
    "id": "fSv2laPA_Zct",
    "tags": [
     "start_task"
    ]
   },
   "source": [
    "**Task 10**"
   ]
  },
  {
   "cell_type": "code",
   "execution_count": 10,
   "metadata": {
    "deletable": false,
    "id": "KplB5qWs_Zct"
   },
   "outputs": [],
   "source": [
    "# replacing missing values with ‘unknown’\n",
    "columns_to_replace = ['track','artist','genre']\n",
    "\n",
    "for column in columns_to_replace:\n",
    "    df[column] = df[column].fillna('unknown')"
   ]
  },
  {
   "cell_type": "markdown",
   "metadata": {
    "deletable": false,
    "editable": false,
    "id": "Ilsm-MZo_Zct",
    "tags": [
     "start_task"
    ]
   },
   "source": [
    "**Task 11**"
   ]
  },
  {
   "cell_type": "code",
   "execution_count": 11,
   "metadata": {
    "deletable": false,
    "id": "Tq4nYRX4_Zct"
   },
   "outputs": [
    {
     "data": {
      "text/plain": [
       "user_id    0\n",
       "track      0\n",
       "artist     0\n",
       "genre      0\n",
       "city       0\n",
       "time       0\n",
       "day        0\n",
       "dtype: int64"
      ]
     },
     "execution_count": 11,
     "metadata": {},
     "output_type": "execute_result"
    }
   ],
   "source": [
    "# checking for the absence of missing values\n",
    "df.isna().sum()"
   ]
  },
  {
   "cell_type": "markdown",
   "metadata": {
    "deletable": false,
    "editable": false,
    "id": "BWKRtBJ3_Zct",
    "tags": [
     "start_task"
    ]
   },
   "source": [
    "### Processing duplicates\n",
    "\n",
    "**Task 12**"
   ]
  },
  {
   "cell_type": "code",
   "execution_count": 12,
   "metadata": {
    "deletable": false,
    "id": "36eES_S0_Zct"
   },
   "outputs": [
    {
     "data": {
      "text/plain": [
       "3826"
      ]
     },
     "execution_count": 12,
     "metadata": {},
     "output_type": "execute_result"
    }
   ],
   "source": [
    "# Counting explicit duplicates\n",
    "df.duplicated().sum()"
   ]
  },
  {
   "cell_type": "markdown",
   "metadata": {
    "deletable": false,
    "editable": false,
    "id": "Ot25h6XR_Zct",
    "tags": [
     "start_task"
    ]
   },
   "source": [
    "**Task 13**"
   ]
  },
  {
   "cell_type": "code",
   "execution_count": 13,
   "metadata": {
    "deletable": false,
    "id": "exFHq6tt_Zct"
   },
   "outputs": [],
   "source": [
    "# Removing explicit duplicates, creating new indices, and dropping the old ones\n",
    "df = df.drop_duplicates().reset_index(drop=True)"
   ]
  },
  {
   "cell_type": "markdown",
   "metadata": {
    "deletable": false,
    "editable": false,
    "id": "Im2YwBEG_Zct",
    "tags": [
     "start_task"
    ]
   },
   "source": [
    "**Task 14**"
   ]
  },
  {
   "cell_type": "code",
   "execution_count": 14,
   "metadata": {
    "deletable": false,
    "id": "-8PuNWQ0_Zct"
   },
   "outputs": [
    {
     "data": {
      "text/plain": [
       "0"
      ]
     },
     "execution_count": 14,
     "metadata": {},
     "output_type": "execute_result"
    }
   ],
   "source": [
    "# Checking for the absence of explicit duplicates\n",
    "df.duplicated().sum()"
   ]
  },
  {
   "cell_type": "markdown",
   "metadata": {
    "deletable": false,
    "editable": false,
    "id": "eSjWwsOh_Zct",
    "tags": [
     "start_task"
    ]
   },
   "source": [
    "**Task 15**"
   ]
  },
  {
   "cell_type": "code",
   "execution_count": 15,
   "metadata": {
    "deletable": false,
    "id": "JIUcqzZN_Zct"
   },
   "outputs": [
    {
     "data": {
      "text/plain": [
       "array(['acid', 'acoustic', 'action', 'adult', 'africa', 'afrikaans',\n",
       "       'alternative', 'alternativepunk', 'ambient', 'americana',\n",
       "       'animated', 'anime', 'arabesk', 'arabic', 'arena',\n",
       "       'argentinetango', 'art', 'audiobook', 'author', 'avantgarde',\n",
       "       'axé', 'baile', 'balkan', 'beats', 'bigroom', 'black', 'bluegrass',\n",
       "       'blues', 'bollywood', 'bossa', 'brazilian', 'breakbeat', 'breaks',\n",
       "       'broadway', 'cantautori', 'cantopop', 'canzone', 'caribbean',\n",
       "       'caucasian', 'celtic', 'chamber', 'chanson', 'children', 'chill',\n",
       "       'chinese', 'choral', 'christian', 'christmas', 'classical',\n",
       "       'classicmetal', 'club', 'colombian', 'comedy', 'conjazz',\n",
       "       'contemporary', 'country', 'cuban', 'dance', 'dancehall',\n",
       "       'dancepop', 'dark', 'death', 'deep', 'deutschrock', 'deutschspr',\n",
       "       'dirty', 'disco', 'dnb', 'documentary', 'downbeat', 'downtempo',\n",
       "       'drum', 'dub', 'dubstep', 'eastern', 'easy', 'electronic',\n",
       "       'electropop', 'emo', 'entehno', 'epicmetal', 'estrada', 'ethnic',\n",
       "       'eurofolk', 'european', 'experimental', 'extrememetal', 'fado',\n",
       "       'fairytail', 'film', 'fitness', 'flamenco', 'folk', 'folklore',\n",
       "       'folkmetal', 'folkrock', 'folktronica', 'forró', 'frankreich',\n",
       "       'französisch', 'french', 'funk', 'future', 'gangsta', 'garage',\n",
       "       'german', 'ghazal', 'gitarre', 'glitch', 'gospel', 'gothic',\n",
       "       'grime', 'grunge', 'gypsy', 'handsup', \"hard'n'heavy\", 'hardcore',\n",
       "       'hardstyle', 'hardtechno', 'hip', 'hip-hop', 'hiphop',\n",
       "       'historisch', 'holiday', 'hop', 'horror', 'house', 'hymn', 'idm',\n",
       "       'independent', 'indian', 'indie', 'indipop', 'industrial',\n",
       "       'inspirational', 'instrumental', 'international', 'irish', 'jam',\n",
       "       'japanese', 'jazz', 'jewish', 'jpop', 'jungle', 'k-pop',\n",
       "       'karadeniz', 'karaoke', 'kayokyoku', 'korean', 'laiko', 'latin',\n",
       "       'latino', 'leftfield', 'local', 'lounge', 'loungeelectronic',\n",
       "       'lovers', 'malaysian', 'mandopop', 'marschmusik', 'meditative',\n",
       "       'mediterranean', 'melodic', 'metal', 'metalcore', 'mexican',\n",
       "       'middle', 'minimal', 'miscellaneous', 'modern', 'mood', 'mpb',\n",
       "       'muslim', 'native', 'neoklassik', 'neue', 'new', 'newage',\n",
       "       'newwave', 'nu', 'nujazz', 'numetal', 'oceania', 'old', 'opera',\n",
       "       'orchestral', 'other', 'piano', 'podcasts', 'pop', 'popdance',\n",
       "       'popelectronic', 'popeurodance', 'poprussian', 'post',\n",
       "       'posthardcore', 'postrock', 'power', 'progmetal', 'progressive',\n",
       "       'psychedelic', 'punjabi', 'punk', 'quebecois', 'ragga', 'ram',\n",
       "       'rancheras', 'rap', 'rave', 'reggae', 'reggaeton', 'regional',\n",
       "       'relax', 'religious', 'retro', 'rhythm', 'rnb', 'rnr', 'rock',\n",
       "       'rockabilly', 'rockalternative', 'rockindie', 'rockother',\n",
       "       'romance', 'roots', 'ruspop', 'rusrap', 'rusrock', 'russian',\n",
       "       'salsa', 'samba', 'scenic', 'schlager', 'self', 'sertanejo',\n",
       "       'shanson', 'shoegazing', 'showtunes', 'singer', 'ska', 'skarock',\n",
       "       'slow', 'smooth', 'soft', 'soul', 'soulful', 'sound', 'soundtrack',\n",
       "       'southern', 'specialty', 'speech', 'spiritual', 'sport',\n",
       "       'stonerrock', 'surf', 'swing', 'synthpop', 'synthrock',\n",
       "       'sängerportrait', 'tango', 'tanzorchester', 'taraftar', 'tatar',\n",
       "       'tech', 'techno', 'teen', 'thrash', 'top', 'traditional',\n",
       "       'tradjazz', 'trance', 'tribal', 'trip', 'triphop', 'tropical',\n",
       "       'türk', 'türkçe', 'ukrrock', 'unknown', 'urban', 'uzbek',\n",
       "       'variété', 'vi', 'videogame', 'vocal', 'western', 'world',\n",
       "       'worldbeat', 'ïîï', 'электроника'], dtype=object)"
      ]
     },
     "execution_count": 15,
     "metadata": {},
     "output_type": "execute_result"
    }
   ],
   "source": [
    "# Viewing unique sorted genre names\n",
    "df['genre'].sort_values().unique()"
   ]
  },
  {
   "cell_type": "markdown",
   "metadata": {
    "deletable": false,
    "editable": false,
    "id": "qej-Qmuo_Zct",
    "tags": [
     "start_task"
    ]
   },
   "source": [
    "**Task 16**"
   ]
  },
  {
   "cell_type": "code",
   "execution_count": 16,
   "metadata": {
    "deletable": false,
    "id": "ErNDkmns_Zct",
    "scrolled": true
   },
   "outputs": [],
   "source": [
    "# eliminating implicit duplicates\n",
    "df = df.replace('hip', \"hiphop\")\n",
    "df = df.replace('hop', \"hiphop\")\n",
    "df = df.replace('hip-hop', \"hiphop\")\n"
   ]
  },
  {
   "cell_type": "markdown",
   "metadata": {
    "deletable": false,
    "editable": false,
    "id": "zQKF16_RG15m",
    "tags": [
     "start_task"
    ]
   },
   "source": [
    "**Task 17**"
   ]
  },
  {
   "cell_type": "code",
   "execution_count": 17,
   "metadata": {
    "deletable": false,
    "id": "wvixALnFG15m"
   },
   "outputs": [
    {
     "data": {
      "text/plain": [
       "array(['acid', 'acoustic', 'action', 'adult', 'africa', 'afrikaans',\n",
       "       'alternative', 'alternativepunk', 'ambient', 'americana',\n",
       "       'animated', 'anime', 'arabesk', 'arabic', 'arena',\n",
       "       'argentinetango', 'art', 'audiobook', 'author', 'avantgarde',\n",
       "       'axé', 'baile', 'balkan', 'beats', 'bigroom', 'black', 'bluegrass',\n",
       "       'blues', 'bollywood', 'bossa', 'brazilian', 'breakbeat', 'breaks',\n",
       "       'broadway', 'cantautori', 'cantopop', 'canzone', 'caribbean',\n",
       "       'caucasian', 'celtic', 'chamber', 'chanson', 'children', 'chill',\n",
       "       'chinese', 'choral', 'christian', 'christmas', 'classical',\n",
       "       'classicmetal', 'club', 'colombian', 'comedy', 'conjazz',\n",
       "       'contemporary', 'country', 'cuban', 'dance', 'dancehall',\n",
       "       'dancepop', 'dark', 'death', 'deep', 'deutschrock', 'deutschspr',\n",
       "       'dirty', 'disco', 'dnb', 'documentary', 'downbeat', 'downtempo',\n",
       "       'drum', 'dub', 'dubstep', 'eastern', 'easy', 'electronic',\n",
       "       'electropop', 'emo', 'entehno', 'epicmetal', 'estrada', 'ethnic',\n",
       "       'eurofolk', 'european', 'experimental', 'extrememetal', 'fado',\n",
       "       'fairytail', 'film', 'fitness', 'flamenco', 'folk', 'folklore',\n",
       "       'folkmetal', 'folkrock', 'folktronica', 'forró', 'frankreich',\n",
       "       'französisch', 'french', 'funk', 'future', 'gangsta', 'garage',\n",
       "       'german', 'ghazal', 'gitarre', 'glitch', 'gospel', 'gothic',\n",
       "       'grime', 'grunge', 'gypsy', 'handsup', \"hard'n'heavy\", 'hardcore',\n",
       "       'hardstyle', 'hardtechno', 'hiphop', 'historisch', 'holiday',\n",
       "       'horror', 'house', 'hymn', 'idm', 'independent', 'indian', 'indie',\n",
       "       'indipop', 'industrial', 'inspirational', 'instrumental',\n",
       "       'international', 'irish', 'jam', 'japanese', 'jazz', 'jewish',\n",
       "       'jpop', 'jungle', 'k-pop', 'karadeniz', 'karaoke', 'kayokyoku',\n",
       "       'korean', 'laiko', 'latin', 'latino', 'leftfield', 'local',\n",
       "       'lounge', 'loungeelectronic', 'lovers', 'malaysian', 'mandopop',\n",
       "       'marschmusik', 'meditative', 'mediterranean', 'melodic', 'metal',\n",
       "       'metalcore', 'mexican', 'middle', 'minimal', 'miscellaneous',\n",
       "       'modern', 'mood', 'mpb', 'muslim', 'native', 'neoklassik', 'neue',\n",
       "       'new', 'newage', 'newwave', 'nu', 'nujazz', 'numetal', 'oceania',\n",
       "       'old', 'opera', 'orchestral', 'other', 'piano', 'podcasts', 'pop',\n",
       "       'popdance', 'popelectronic', 'popeurodance', 'poprussian', 'post',\n",
       "       'posthardcore', 'postrock', 'power', 'progmetal', 'progressive',\n",
       "       'psychedelic', 'punjabi', 'punk', 'quebecois', 'ragga', 'ram',\n",
       "       'rancheras', 'rap', 'rave', 'reggae', 'reggaeton', 'regional',\n",
       "       'relax', 'religious', 'retro', 'rhythm', 'rnb', 'rnr', 'rock',\n",
       "       'rockabilly', 'rockalternative', 'rockindie', 'rockother',\n",
       "       'romance', 'roots', 'ruspop', 'rusrap', 'rusrock', 'russian',\n",
       "       'salsa', 'samba', 'scenic', 'schlager', 'self', 'sertanejo',\n",
       "       'shanson', 'shoegazing', 'showtunes', 'singer', 'ska', 'skarock',\n",
       "       'slow', 'smooth', 'soft', 'soul', 'soulful', 'sound', 'soundtrack',\n",
       "       'southern', 'specialty', 'speech', 'spiritual', 'sport',\n",
       "       'stonerrock', 'surf', 'swing', 'synthpop', 'synthrock',\n",
       "       'sängerportrait', 'tango', 'tanzorchester', 'taraftar', 'tatar',\n",
       "       'tech', 'techno', 'teen', 'thrash', 'top', 'traditional',\n",
       "       'tradjazz', 'trance', 'tribal', 'trip', 'triphop', 'tropical',\n",
       "       'türk', 'türkçe', 'ukrrock', 'unknown', 'urban', 'uzbek',\n",
       "       'variété', 'vi', 'videogame', 'vocal', 'western', 'world',\n",
       "       'worldbeat', 'ïîï', 'электроника'], dtype=object)"
      ]
     },
     "execution_count": 17,
     "metadata": {},
     "output_type": "execute_result"
    }
   ],
   "source": [
    "# checking for the absence of implicit duplicates\n",
    "df['genre'].sort_values().unique()"
   ]
  },
  {
   "cell_type": "markdown",
   "metadata": {
    "deletable": false,
    "editable": false,
    "id": "jz6a9-7HQUDd"
   },
   "source": [
    "**Conclusions**\n",
    "\n",
    "The preprocessing revealed three issues in the data:\n",
    "\n",
    "- violations in the header style,\n",
    "- missing values,\n",
    "- duplicates — both explicit and implicit.\n",
    "\n",
    "We corrected the headers to simplify working with the table. Removing duplicates will make the analysis more accurate.\n",
    "\n",
    "Missing values were replaced with 'unknown'. It remains to be seen whether the missing values in the genre column will affect the analysis.\n",
    "\n",
    "Now we can proceed to hypothesis testing."
   ]
  },
  {
   "cell_type": "markdown",
   "metadata": {
    "deletable": false,
    "editable": false,
    "id": "WttZHXH0SqKk"
   },
   "source": [
    "## Hypothesis Testing"
   ]
  },
  {
   "cell_type": "markdown",
   "metadata": {
    "deletable": false,
    "editable": false,
    "id": "Im936VVi_Zcu"
   },
   "source": [
    "### Comparison of user behavior in two capitals"
   ]
  },
  {
   "cell_type": "markdown",
   "metadata": {
    "deletable": false,
    "editable": false,
    "id": "nwt_MuaL_Zcu"
   },
   "source": [
    "The first hypothesis states that users listen to music differently in Moscow and St. Petersburg. We will test this assumption using data from three weekdays: Monday, Wednesday, and Friday. To do this, we will:\n",
    "\n",
    "- Separate the users from Moscow and St. Petersburg.\n",
    "- Compare the number of tracks listened to by each group of users on Monday, Wednesday, and Friday."
   ]
  },
  {
   "cell_type": "markdown",
   "metadata": {
    "deletable": false,
    "id": "8Dw_YMmT_Zcu",
    "tags": [
     "start_task"
    ]
   },
   "source": [
    "**Task 18**\n",
    "\n"
   ]
  },
  {
   "cell_type": "code",
   "execution_count": 25,
   "metadata": {
    "deletable": false,
    "id": "0_Qs96oh_Zcu"
   },
   "outputs": [
    {
     "data": {
      "text/plain": [
       "city\n",
       "Moscow              42741\n",
       "Saint-Petersburg    18512\n",
       "Name: genre, dtype: int64"
      ]
     },
     "execution_count": 25,
     "metadata": {},
     "output_type": "execute_result"
    }
   ],
   "source": [
    "# сounting listens in each city\n",
    "city_track_count = df.groupby('city')['genre'].count()\n",
    "city_track_count"
   ]
  },
  {
   "cell_type": "markdown",
   "metadata": {
    "id": "dzli3w8o_Zcu",
    "tags": [
     "start_task"
    ]
   },
   "source": [
    "**Task 19**\n"
   ]
  },
  {
   "cell_type": "code",
   "execution_count": 26,
   "metadata": {
    "deletable": false,
    "id": "uZMKjiJz_Zcu"
   },
   "outputs": [
    {
     "data": {
      "text/plain": [
       "day\n",
       "Friday       21840\n",
       "Monday       21354\n",
       "Wednesday    18059\n",
       "Name: genre, dtype: int64"
      ]
     },
     "execution_count": 26,
     "metadata": {},
     "output_type": "execute_result"
    }
   ],
   "source": [
    "# Counting listens on each of the three days\n",
    "day_track_count = df.groupby('day')['genre'].count()\n",
    "day_track_count"
   ]
  },
  {
   "cell_type": "markdown",
   "metadata": {
    "deletable": false,
    "editable": false,
    "id": "POzs8bGa_Zcu",
    "tags": [
     "start_task"
    ]
   },
   "source": [
    "**Task 20**"
   ]
  },
  {
   "cell_type": "code",
   "execution_count": 27,
   "metadata": {
    "deletable": false,
    "id": "Nz3GdQB1_Zcu"
   },
   "outputs": [],
   "source": [
    "def number_tracks(day, city):\n",
    "    track_list = df[df['day'] == day]# Select only the rows from df where the value of the variable day is in the day column\n",
    "    track_list = track_list[track_list['city'] == city]# Select only the rows from track_list where the value of the variable city is in the city column\n",
    "    track_list_count = track_list['user_id'].count() # Call the method to count the rows for track_list and select the user_id column\n",
    "    return track_list_count # Return the track_list_count value from the function"
   ]
  },
  {
   "cell_type": "markdown",
   "metadata": {
    "deletable": false,
    "editable": false,
    "id": "ytf7xFrFJQ2r",
    "tags": [
     "start_task"
    ]
   },
   "source": [
    "**Task 21**"
   ]
  },
  {
   "cell_type": "code",
   "execution_count": 28,
   "metadata": {
    "deletable": false,
    "id": "rJcRATNQ_Zcu"
   },
   "outputs": [
    {
     "data": {
      "text/plain": [
       "15740"
      ]
     },
     "execution_count": 28,
     "metadata": {},
     "output_type": "execute_result"
    }
   ],
   "source": [
    "# the number of listens in Moscow on Mondays\n",
    "number_tracks('Monday', 'Moscow')"
   ]
  },
  {
   "cell_type": "code",
   "execution_count": 29,
   "metadata": {
    "deletable": false,
    "id": "hq_ncZ5T_Zcu"
   },
   "outputs": [
    {
     "data": {
      "text/plain": [
       "5614"
      ]
     },
     "execution_count": 29,
     "metadata": {},
     "output_type": "execute_result"
    }
   ],
   "source": [
    "# the number of listens in St. Petersburg on Mondays\n",
    "number_tracks('Monday', 'Saint-Petersburg')"
   ]
  },
  {
   "cell_type": "code",
   "execution_count": 30,
   "metadata": {
    "deletable": false,
    "id": "_NTy2VPU_Zcu"
   },
   "outputs": [
    {
     "data": {
      "text/plain": [
       "11056"
      ]
     },
     "execution_count": 30,
     "metadata": {},
     "output_type": "execute_result"
    }
   ],
   "source": [
    "# the number of listens in Moscow on Wednesdays\n",
    "number_tracks('Wednesday', 'Moscow')"
   ]
  },
  {
   "cell_type": "code",
   "execution_count": 31,
   "metadata": {
    "deletable": false,
    "id": "j2y3TAwo_Zcu"
   },
   "outputs": [
    {
     "data": {
      "text/plain": [
       "7003"
      ]
     },
     "execution_count": 31,
     "metadata": {},
     "output_type": "execute_result"
    }
   ],
   "source": [
    "# the number of listens in St. Petersburg on Wednesdays\n",
    "number_tracks('Wednesday', 'Saint-Petersburg')"
   ]
  },
  {
   "cell_type": "code",
   "execution_count": 32,
   "metadata": {
    "deletable": false,
    "id": "vYDw5u_K_Zcu"
   },
   "outputs": [
    {
     "data": {
      "text/plain": [
       "15945"
      ]
     },
     "execution_count": 32,
     "metadata": {},
     "output_type": "execute_result"
    }
   ],
   "source": [
    "# the number of listens in Moscow on Fridays\n",
    "number_tracks('Friday', 'Moscow')"
   ]
  },
  {
   "cell_type": "code",
   "execution_count": 33,
   "metadata": {
    "deletable": false,
    "id": "8_yzFtW3_Zcu"
   },
   "outputs": [
    {
     "data": {
      "text/plain": [
       "5895"
      ]
     },
     "execution_count": 33,
     "metadata": {},
     "output_type": "execute_result"
    }
   ],
   "source": [
    "# the number of listens in Saint Petersburg on Fridays\n",
    "number_tracks('Friday', 'Saint-Petersburg')"
   ]
  },
  {
   "cell_type": "markdown",
   "metadata": {
    "deletable": false,
    "editable": false,
    "id": "7QXffbO-_Zcu",
    "tags": [
     "start_task"
    ]
   },
   "source": [
    "**Task 22**"
   ]
  },
  {
   "cell_type": "code",
   "execution_count": 35,
   "metadata": {
    "deletable": false,
    "id": "APAcLpOr_Zcu"
   },
   "outputs": [
    {
     "data": {
      "text/html": [
       "<div>\n",
       "<style scoped>\n",
       "    .dataframe tbody tr th:only-of-type {\n",
       "        vertical-align: middle;\n",
       "    }\n",
       "\n",
       "    .dataframe tbody tr th {\n",
       "        vertical-align: top;\n",
       "    }\n",
       "\n",
       "    .dataframe thead th {\n",
       "        text-align: right;\n",
       "    }\n",
       "</style>\n",
       "<table border=\"1\" class=\"dataframe\">\n",
       "  <thead>\n",
       "    <tr style=\"text-align: right;\">\n",
       "      <th></th>\n",
       "      <th>city</th>\n",
       "      <th>monday</th>\n",
       "      <th>wednesday</th>\n",
       "      <th>friday</th>\n",
       "    </tr>\n",
       "  </thead>\n",
       "  <tbody>\n",
       "    <tr>\n",
       "      <th>0</th>\n",
       "      <td>Moscow</td>\n",
       "      <td>15740</td>\n",
       "      <td>11056</td>\n",
       "      <td>15945</td>\n",
       "    </tr>\n",
       "    <tr>\n",
       "      <th>1</th>\n",
       "      <td>Saint-Petersburg</td>\n",
       "      <td>5614</td>\n",
       "      <td>7003</td>\n",
       "      <td>5895</td>\n",
       "    </tr>\n",
       "  </tbody>\n",
       "</table>\n",
       "</div>"
      ],
      "text/plain": [
       "               city  monday  wednesday  friday\n",
       "0            Moscow   15740      11056   15945\n",
       "1  Saint-Petersburg    5614       7003    5895"
      ]
     },
     "execution_count": 35,
     "metadata": {},
     "output_type": "execute_result"
    }
   ],
   "source": [
    "# creating a table with the results\n",
    "info = pd.DataFrame(\n",
    "    data=[['Moscow',15740,11056,15945],['Saint-Petersburg', 5614, 7003,5895]],\n",
    "    columns=['city', 'monday', 'wednesday', 'friday']\n",
    ")\n",
    "# displaying the table on the screen\n",
    "info"
   ]
  },
  {
   "cell_type": "markdown",
   "metadata": {
    "deletable": false,
    "editable": false,
    "id": "-EgPIHYu_Zcu"
   },
   "source": [
    "**Conclusions**\n",
    "\n",
    "The data shows differences in user behavior:\n",
    "\n",
    "- In Moscow, the peak listening times occur on Monday and Friday, with a noticeable drop on Wednesday.\n",
    "- In St. Petersburg, on the other hand, music is listened to more on Wednesdays. Activity on Monday and Friday is almost equally lower compared to Wednesday.\n",
    "\n",
    "Thus, the data supports the first hypothesis."
   ]
  },
  {
   "cell_type": "markdown",
   "metadata": {
    "deletable": false,
    "editable": false,
    "id": "atZAxtq4_Zcu"
   },
   "source": [
    "### Music at the beginning and end of the week"
   ]
  },
  {
   "cell_type": "markdown",
   "metadata": {
    "deletable": false,
    "editable": false,
    "id": "eXrQqXFH_Zcu"
   },
   "source": [
    "According to the second hypothesis, certain genres prevail in the morning on Mondays in Moscow, while different genres dominate in St. Petersburg. Similarly, different genres are predominant on Friday evenings, depending on the city."
   ]
  },
  {
   "cell_type": "markdown",
   "metadata": {
    "deletable": false,
    "editable": false,
    "id": "S8UcW6Hw_Zcu",
    "tags": [
     "start_task"
    ]
   },
   "source": [
    "**Task 23**"
   ]
  },
  {
   "cell_type": "code",
   "execution_count": 36,
   "metadata": {
    "deletable": false,
    "id": "qeaFfM_P_Zcu"
   },
   "outputs": [],
   "source": [
    "# creating the moscow_general table from the rows of the df table where the value in the city column is equal to ‘Moscow’\n",
    "moscow_general = df[df['city'] == 'Moscow']"
   ]
  },
  {
   "cell_type": "code",
   "execution_count": 37,
   "metadata": {
    "deletable": false,
    "id": "ORaVRKto_Zcu"
   },
   "outputs": [],
   "source": [
    "# creating the spb_general table from the rows of the df table where the value in the city column is equal to ‘Saint-Petersburg’\n",
    "spb_general = df[df['city'] == 'Saint-Petersburg']"
   ]
  },
  {
   "cell_type": "markdown",
   "metadata": {
    "deletable": false,
    "editable": false,
    "id": "MEJV-CX2_Zcu",
    "tags": [
     "start_task"
    ]
   },
   "source": [
    "**Task 24**"
   ]
  },
  {
   "cell_type": "code",
   "execution_count": 69,
   "metadata": {
    "deletable": false,
    "id": "laJT9BYl_Zcu"
   },
   "outputs": [],
   "source": [
    "def genre_weekday(df, day, time1, time2):\n",
    "    # sequential filtering\n",
    "    # keep only the rows in `genre_df` from `df` where the day is equal to `day`\n",
    "    genre_df = df[df['day'] == day] # your code here\n",
    "    # keep only the rows in genre_df where the time is less than time2\n",
    "    genre_df = genre_df[genre_df['time'] < time2] # your code here\n",
    "    # keep only the rows in genre_df where the time is greater than time1\n",
    "    genre_df = genre_df[genre_df['time'] > time1] # your code here\n",
    "    # let’s group the filtered DataFrame by the column with genre names, take the genre column, \n",
    "    # and count the number of rows for each genre using the count() method\n",
    "    genre_df_grouped = genre_df.groupby('genre')['user_id'].count() # your code here\n",
    "    # let’s sort the result in descending order (so that the most popular genres appear at the beginning of the Series)\n",
    "    genre_df_sorted = genre_df_grouped.sort_values(ascending = False) # your code here\n",
    "    # let’s return a Series with the 10 most popular genres in the specified time range for the given day\n",
    "    return genre_df_sorted[:10]"
   ]
  },
  {
   "cell_type": "markdown",
   "metadata": {
    "deletable": false,
    "editable": false,
    "id": "la2s2_PF_Zcu",
    "tags": [
     "start_task"
    ]
   },
   "source": [
    "**Task 25**"
   ]
  },
  {
   "cell_type": "code",
   "execution_count": 71,
   "metadata": {
    "deletable": false,
    "id": "yz7itPUQ_Zcu"
   },
   "outputs": [
    {
     "data": {
      "text/plain": [
       "genre\n",
       "pop            781\n",
       "dance          549\n",
       "electronic     480\n",
       "rock           474\n",
       "hiphop         286\n",
       "ruspop         186\n",
       "world          181\n",
       "rusrap         175\n",
       "alternative    164\n",
       "unknown        161\n",
       "Name: user_id, dtype: int64"
      ]
     },
     "execution_count": 71,
     "metadata": {},
     "output_type": "execute_result"
    }
   ],
   "source": [
    "# call the function for Monday morning in Moscow (instead of df, use the table moscow_general)\n",
    "genre_weekday(moscow_general, \"Monday\",\"07:00\",\"11:00\")\n",
    "                    "
   ]
  },
  {
   "cell_type": "code",
   "execution_count": 72,
   "metadata": {
    "deletable": false,
    "id": "kwUcHPdy_Zcu"
   },
   "outputs": [
    {
     "data": {
      "text/plain": [
       "genre\n",
       "pop            218\n",
       "dance          182\n",
       "rock           162\n",
       "electronic     147\n",
       "hiphop          80\n",
       "ruspop          64\n",
       "alternative     58\n",
       "rusrap          55\n",
       "jazz            44\n",
       "classical       40\n",
       "Name: user_id, dtype: int64"
      ]
     },
     "execution_count": 72,
     "metadata": {},
     "output_type": "execute_result"
    }
   ],
   "source": [
    "# call the function for Monday morning in Saint Petersburg (instead of df, use the table spb_general)\n",
    "genre_weekday(spb_general, \"Monday\",\"07:00\",\"11:00\")"
   ]
  },
  {
   "cell_type": "code",
   "execution_count": 73,
   "metadata": {
    "deletable": false,
    "id": "EzXVRE1o_Zcu"
   },
   "outputs": [
    {
     "data": {
      "text/plain": [
       "genre\n",
       "pop            713\n",
       "rock           517\n",
       "dance          495\n",
       "electronic     482\n",
       "hiphop         273\n",
       "world          208\n",
       "ruspop         170\n",
       "alternative    163\n",
       "classical      163\n",
       "rusrap         142\n",
       "Name: user_id, dtype: int64"
      ]
     },
     "execution_count": 73,
     "metadata": {},
     "output_type": "execute_result"
    }
   ],
   "source": [
    "# call the function for Friday evening in Moscow\n",
    "genre_weekday(moscow_general, \"Friday\",\"17:00\",\"23:00\")"
   ]
  },
  {
   "cell_type": "code",
   "execution_count": 75,
   "metadata": {
    "deletable": false,
    "id": "JZaEKu5v_Zcu"
   },
   "outputs": [
    {
     "data": {
      "text/plain": [
       "genre\n",
       "pop            256\n",
       "electronic     216\n",
       "rock           216\n",
       "dance          210\n",
       "hiphop          97\n",
       "alternative     63\n",
       "jazz            61\n",
       "classical       60\n",
       "rusrap          59\n",
       "world           54\n",
       "Name: user_id, dtype: int64"
      ]
     },
     "execution_count": 75,
     "metadata": {},
     "output_type": "execute_result"
    }
   ],
   "source": [
    "# call the function for Friday evening in Saint Petersburg\n",
    "genre_weekday(spb_general, \"Friday\",\"17:00\",\"23:00\")"
   ]
  },
  {
   "cell_type": "markdown",
   "metadata": {
    "deletable": false,
    "editable": false,
    "id": "wrCe4MNX_Zcu"
   },
   "source": [
    "Conclusions\n",
    "\n",
    "Comparing the top 10 genres on Monday morning, we can draw the following conclusions:\n",
    "\n",
    "1.\tMoscow and St. Petersburg listeners enjoy similar music. The only difference is that the Moscow ranking includes the genre “world,” while the St. Petersburg ranking features jazz and classical music.\n",
    "2.\tIn Moscow, there were so many missing values that the value 'unknown' took the tenth place among the most popular genres. This indicates that missing values constitute a significant portion of the data and threaten the reliability of the research.\n",
    "\n",
    "Friday evening does not change this picture. Some genres rise slightly, while others drop, but overall, the top 10 remains the same.\n",
    "\n",
    "Thus, the second hypothesis was only partially confirmed:\n",
    "\n",
    "- Users listen to similar music at the beginning and end of the week.\n",
    "- The difference between Moscow and St. Petersburg is not very pronounced. Russian pop music is more popular in Moscow, while jazz is favored in St. Petersburg.\n",
    "\n",
    "However, the missing data raises doubts about this result. In Moscow, there are so many missing values that the top 10 ranking could look different if it weren’t for the lost genre data."
   ]
  },
  {
   "cell_type": "markdown",
   "metadata": {
    "deletable": false,
    "editable": false,
    "id": "JolODAqr_Zcu"
   },
   "source": [
    "### Genre Preferences in Moscow and St. Petersburg\n",
    "\n",
    "Hypothesis: St. Petersburg is the capital of rap, where this genre is listened to more frequently than in Moscow. Meanwhile, Moscow is a city of contrasts, yet pop music dominates there."
   ]
  },
  {
   "cell_type": "markdown",
   "metadata": {
    "deletable": false,
    "editable": false,
    "id": "DlegSvaT_Zcu",
    "tags": [
     "start_task"
    ]
   },
   "source": [
    "**Task 26**"
   ]
  },
  {
   "cell_type": "code",
   "execution_count": 76,
   "metadata": {
    "deletable": false,
    "id": "r19lIPke_Zcu"
   },
   "outputs": [],
   "source": [
    "# in one line: grouping the moscow_general table by the ‘genre’ column, selecting the genre column, counting the number of ‘genre’ values using the count() method, and saving it to moscow_genres\n",
    "moscow_genres = moscow_general.groupby('genre')['genre'].count()\n",
    "# sorting the resulting Series in descending order and saving it back to moscow_genres\n",
    "moscow_genres = moscow_genres.sort_values(ascending = False)"
   ]
  },
  {
   "cell_type": "markdown",
   "metadata": {
    "deletable": false,
    "editable": false,
    "id": "6kMuomxTiIr8",
    "tags": [
     "start_task"
    ]
   },
   "source": [
    "**Task 27**"
   ]
  },
  {
   "cell_type": "code",
   "execution_count": 77,
   "metadata": {
    "deletable": false,
    "id": "WhCSooF8_Zcv"
   },
   "outputs": [
    {
     "data": {
      "text/plain": [
       "genre\n",
       "pop            5892\n",
       "dance          4435\n",
       "rock           3965\n",
       "electronic     3786\n",
       "hiphop         2096\n",
       "classical      1616\n",
       "world          1432\n",
       "alternative    1379\n",
       "ruspop         1372\n",
       "rusrap         1161\n",
       "Name: genre, dtype: int64"
      ]
     },
     "execution_count": 77,
     "metadata": {},
     "output_type": "execute_result"
    }
   ],
   "source": [
    "# viewing the first 10 rows of moscow_genres\n",
    "moscow_genres[:10]"
   ]
  },
  {
   "cell_type": "markdown",
   "metadata": {
    "deletable": false,
    "editable": false,
    "id": "cnPG2vnN_Zcv",
    "tags": [
     "start_task"
    ]
   },
   "source": [
    "**Task 28**"
   ]
  },
  {
   "cell_type": "code",
   "execution_count": 78,
   "metadata": {
    "deletable": false,
    "id": "gluLIpE7_Zcv"
   },
   "outputs": [],
   "source": [
    "# oneline: grouping the spb_general table by the ‘genre’ column, selecting the genre column, \n",
    "# counting the number of ‘genre’ values using the count() method, and saving it to spb_genres.\n",
    "spb_genres = spb_general.groupby('genre')['genre'].count()\n",
    "# sorting the resulting Series in descending order and saving it back to spb_genres\n",
    "spb_genres = spb_genres.sort_values(ascending = False)"
   ]
  },
  {
   "cell_type": "markdown",
   "metadata": {
    "deletable": false,
    "editable": false,
    "id": "5Doha_ODgyQ8",
    "tags": [
     "start_task"
    ]
   },
   "source": [
    "**Task 29**"
   ]
  },
  {
   "cell_type": "code",
   "execution_count": 79,
   "metadata": {
    "deletable": false,
    "id": "uaGJHjVU_Zcv"
   },
   "outputs": [
    {
     "data": {
      "text/plain": [
       "genre\n",
       "pop            2431\n",
       "dance          1932\n",
       "rock           1879\n",
       "electronic     1736\n",
       "hiphop          960\n",
       "alternative     649\n",
       "classical       646\n",
       "rusrap          564\n",
       "ruspop          538\n",
       "world           515\n",
       "Name: genre, dtype: int64"
      ]
     },
     "execution_count": 79,
     "metadata": {},
     "output_type": "execute_result"
    }
   ],
   "source": [
    "# viewing the first 10 rows of spb_genres\n",
    "spb_genres[:10]"
   ]
  },
  {
   "cell_type": "markdown",
   "metadata": {
    "deletable": false,
    "editable": false,
    "id": "RY51YJYu_Zcv"
   },
   "source": [
    "**Conclusions**"
   ]
  },
  {
   "cell_type": "markdown",
   "metadata": {
    "deletable": false,
    "editable": false,
    "id": "nVhnJEm__Zcv"
   },
   "source": [
    "The hypothesis was partially confirmed:\n",
    "- Pop music is the most popular genre in Moscow, as the hypothesis suggested. Moreover, a closely related genre—Russian pop music—also appears in the top 10 genres.\n",
    "- Contrary to expectations, rap is equally popular in both Moscow and St. Petersburg."
   ]
  },
  {
   "cell_type": "markdown",
   "metadata": {
    "deletable": false,
    "editable": false,
    "id": "ykKQ0N65_Zcv"
   },
   "source": [
    "## Research findings"
   ]
  },
  {
   "cell_type": "markdown",
   "metadata": {
    "deletable": false,
    "editable": false,
    "id": "tjUwbHb3_Zcv"
   },
   "source": [
    "We tested three hypotheses and established the following:\n",
    "\n",
    "1.\tThe day of the week influences user activity differently in Moscow and St. Petersburg.\n",
    "The first hypothesis was fully confirmed.\n",
    "\n",
    "2.\tMusical preferences do not change significantly throughout the week—whether in Moscow or St. Petersburg. Slight differences are noticeable at the beginning of the week, on Mondays:\n",
    "- In Moscow, users listen to “world” music,\n",
    "- In St. Petersburg, they prefer jazz and classical music.  \n",
    "Thus, the second hypothesis was only partially confirmed. This result could have been different if there were no gaps in the data.  \n",
    "\n",
    "3.\tThere is more commonality than difference in the tastes of users from Moscow and St. Petersburg. Contrary to expectations, genre preferences in St. Petersburg resemble those in Moscow.\n",
    "The third hypothesis was not confirmed. If there are differences in preferences, they are not noticeable in the majority of users.\n",
    "\n",
    "**In practice, research involves testing statistical hypotheses.**\n",
    "From part of the data from one service, it is impossible to draw conclusions about all users of the service without statistical methods.\n",
    "Testing statistical hypotheses will show how reliable they are based on the available data.\n",
    "You will become familiar with hypothesis testing methods in the following topics."
   ]
  }
 ],
 "metadata": {
  "ExecuteTimeLog": [
   {
    "duration": 434,
    "start_time": "2024-02-27T15:43:22.399Z"
   },
   {
    "duration": 111,
    "start_time": "2024-02-27T15:43:26.298Z"
   },
   {
    "duration": 13,
    "start_time": "2024-02-27T15:45:30.429Z"
   },
   {
    "duration": 184,
    "start_time": "2024-02-27T15:47:17.005Z"
   },
   {
    "duration": 18,
    "start_time": "2024-02-27T15:47:37.205Z"
   },
   {
    "duration": 39,
    "start_time": "2024-02-27T15:48:04.894Z"
   },
   {
    "duration": 5,
    "start_time": "2024-02-27T15:52:18.837Z"
   },
   {
    "duration": 12,
    "start_time": "2024-02-27T15:58:07.131Z"
   },
   {
    "duration": 15,
    "start_time": "2024-02-27T15:58:39.088Z"
   },
   {
    "duration": 12,
    "start_time": "2024-02-27T15:58:48.376Z"
   },
   {
    "duration": 4,
    "start_time": "2024-02-27T15:59:10.080Z"
   },
   {
    "duration": 35,
    "start_time": "2024-02-27T16:04:53.274Z"
   },
   {
    "duration": 29,
    "start_time": "2024-02-27T16:05:04.522Z"
   },
   {
    "duration": 29,
    "start_time": "2024-02-27T16:05:34.946Z"
   },
   {
    "duration": 19,
    "start_time": "2024-02-27T16:08:49.805Z"
   },
   {
    "duration": 29,
    "start_time": "2024-02-27T16:10:42.978Z"
   },
   {
    "duration": 68,
    "start_time": "2024-02-27T16:11:55.351Z"
   },
   {
    "duration": 88,
    "start_time": "2024-02-27T16:13:05.640Z"
   },
   {
    "duration": 69,
    "start_time": "2024-02-27T16:14:52.532Z"
   },
   {
    "duration": 54,
    "start_time": "2024-02-27T16:15:16.907Z"
   },
   {
    "duration": 12,
    "start_time": "2024-02-27T16:21:01.745Z"
   },
   {
    "duration": 44,
    "start_time": "2024-02-27T16:21:22.111Z"
   },
   {
    "duration": 11,
    "start_time": "2024-02-27T16:25:02.782Z"
   },
   {
    "duration": 11,
    "start_time": "2024-02-27T16:25:22.470Z"
   },
   {
    "duration": 10,
    "start_time": "2024-02-27T16:26:25.266Z"
   },
   {
    "duration": 19,
    "start_time": "2024-02-27T16:27:29.129Z"
   },
   {
    "duration": 12,
    "start_time": "2024-02-27T16:27:48.961Z"
   },
   {
    "duration": 12,
    "start_time": "2024-02-27T16:30:21.205Z"
   },
   {
    "duration": 11,
    "start_time": "2024-02-27T16:30:42.289Z"
   },
   {
    "duration": 6,
    "start_time": "2024-02-27T16:30:52.323Z"
   },
   {
    "duration": 16,
    "start_time": "2024-02-27T16:31:26.273Z"
   },
   {
    "duration": 9,
    "start_time": "2024-02-27T16:32:05.714Z"
   },
   {
    "duration": 12,
    "start_time": "2024-02-27T16:32:24.587Z"
   },
   {
    "duration": 9,
    "start_time": "2024-02-27T16:33:10.471Z"
   },
   {
    "duration": 438,
    "start_time": "2024-02-27T16:34:34.523Z"
   },
   {
    "duration": 180,
    "start_time": "2024-02-27T16:34:34.963Z"
   },
   {
    "duration": 17,
    "start_time": "2024-02-27T16:34:35.145Z"
   },
   {
    "duration": 32,
    "start_time": "2024-02-27T16:34:35.164Z"
   },
   {
    "duration": 17,
    "start_time": "2024-02-27T16:34:35.198Z"
   },
   {
    "duration": 18,
    "start_time": "2024-02-27T16:34:35.216Z"
   },
   {
    "duration": 13,
    "start_time": "2024-02-27T16:34:35.236Z"
   },
   {
    "duration": 4,
    "start_time": "2024-02-27T16:34:35.250Z"
   },
   {
    "duration": 27,
    "start_time": "2024-02-27T16:34:35.256Z"
   },
   {
    "duration": 49,
    "start_time": "2024-02-27T16:34:35.287Z"
   },
   {
    "duration": 30,
    "start_time": "2024-02-27T16:34:35.338Z"
   },
   {
    "duration": 85,
    "start_time": "2024-02-27T16:34:35.369Z"
   },
   {
    "duration": 88,
    "start_time": "2024-02-27T16:34:35.455Z"
   },
   {
    "duration": 61,
    "start_time": "2024-02-27T16:34:35.545Z"
   },
   {
    "duration": 44,
    "start_time": "2024-02-27T16:34:35.614Z"
   },
   {
    "duration": 79,
    "start_time": "2024-02-27T16:34:35.660Z"
   },
   {
    "duration": 76,
    "start_time": "2024-02-27T16:34:35.740Z"
   },
   {
    "duration": 2,
    "start_time": "2024-02-27T16:34:35.818Z"
   },
   {
    "duration": 6,
    "start_time": "2024-02-27T16:34:35.822Z"
   },
   {
    "duration": 94,
    "start_time": "2024-02-27T16:34:35.830Z"
   },
   {
    "duration": 0,
    "start_time": "2024-02-27T16:34:35.927Z"
   },
   {
    "duration": 0,
    "start_time": "2024-02-27T16:34:35.928Z"
   },
   {
    "duration": 0,
    "start_time": "2024-02-27T16:34:35.930Z"
   },
   {
    "duration": 0,
    "start_time": "2024-02-27T16:34:35.931Z"
   },
   {
    "duration": 0,
    "start_time": "2024-02-27T16:34:35.933Z"
   },
   {
    "duration": 0,
    "start_time": "2024-02-27T16:34:35.934Z"
   },
   {
    "duration": 0,
    "start_time": "2024-02-27T16:34:35.935Z"
   },
   {
    "duration": 0,
    "start_time": "2024-02-27T16:34:35.936Z"
   },
   {
    "duration": 0,
    "start_time": "2024-02-27T16:34:35.938Z"
   },
   {
    "duration": 0,
    "start_time": "2024-02-27T16:34:35.939Z"
   },
   {
    "duration": 0,
    "start_time": "2024-02-27T16:34:35.941Z"
   },
   {
    "duration": 0,
    "start_time": "2024-02-27T16:34:35.942Z"
   },
   {
    "duration": 0,
    "start_time": "2024-02-27T16:34:35.943Z"
   },
   {
    "duration": 0,
    "start_time": "2024-02-27T16:34:35.945Z"
   },
   {
    "duration": 0,
    "start_time": "2024-02-27T16:34:35.947Z"
   },
   {
    "duration": 0,
    "start_time": "2024-02-27T16:34:35.948Z"
   },
   {
    "duration": 0,
    "start_time": "2024-02-27T16:34:35.949Z"
   },
   {
    "duration": 0,
    "start_time": "2024-02-27T16:34:35.951Z"
   },
   {
    "duration": 436,
    "start_time": "2024-02-28T11:47:53.979Z"
   },
   {
    "duration": 464,
    "start_time": "2024-02-28T11:47:54.417Z"
   },
   {
    "duration": 19,
    "start_time": "2024-02-28T11:47:54.882Z"
   },
   {
    "duration": 33,
    "start_time": "2024-02-28T11:47:54.904Z"
   },
   {
    "duration": 3,
    "start_time": "2024-02-28T11:47:54.939Z"
   },
   {
    "duration": 6,
    "start_time": "2024-02-28T11:47:54.943Z"
   },
   {
    "duration": 37,
    "start_time": "2024-02-28T11:47:54.951Z"
   },
   {
    "duration": 27,
    "start_time": "2024-02-28T11:47:54.990Z"
   },
   {
    "duration": 43,
    "start_time": "2024-02-28T11:47:55.018Z"
   },
   {
    "duration": 22,
    "start_time": "2024-02-28T11:47:55.063Z"
   },
   {
    "duration": 30,
    "start_time": "2024-02-28T11:47:55.086Z"
   },
   {
    "duration": 88,
    "start_time": "2024-02-28T11:47:55.117Z"
   },
   {
    "duration": 104,
    "start_time": "2024-02-28T11:47:55.207Z"
   },
   {
    "duration": 69,
    "start_time": "2024-02-28T11:47:55.313Z"
   },
   {
    "duration": 46,
    "start_time": "2024-02-28T11:47:55.383Z"
   },
   {
    "duration": 88,
    "start_time": "2024-02-28T11:47:55.431Z"
   },
   {
    "duration": 45,
    "start_time": "2024-02-28T11:47:55.520Z"
   },
   {
    "duration": 14,
    "start_time": "2024-02-28T11:47:55.567Z"
   },
   {
    "duration": 27,
    "start_time": "2024-02-28T11:47:55.583Z"
   },
   {
    "duration": 138,
    "start_time": "2024-02-28T11:47:55.612Z"
   },
   {
    "duration": 0,
    "start_time": "2024-02-28T11:47:55.752Z"
   },
   {
    "duration": 0,
    "start_time": "2024-02-28T11:47:55.754Z"
   },
   {
    "duration": 0,
    "start_time": "2024-02-28T11:47:55.755Z"
   },
   {
    "duration": 0,
    "start_time": "2024-02-28T11:47:55.756Z"
   },
   {
    "duration": 0,
    "start_time": "2024-02-28T11:47:55.757Z"
   },
   {
    "duration": 0,
    "start_time": "2024-02-28T11:47:55.758Z"
   },
   {
    "duration": 0,
    "start_time": "2024-02-28T11:47:55.759Z"
   },
   {
    "duration": 0,
    "start_time": "2024-02-28T11:47:55.760Z"
   },
   {
    "duration": 0,
    "start_time": "2024-02-28T11:47:55.761Z"
   },
   {
    "duration": 0,
    "start_time": "2024-02-28T11:47:55.762Z"
   },
   {
    "duration": 0,
    "start_time": "2024-02-28T11:47:55.763Z"
   },
   {
    "duration": 0,
    "start_time": "2024-02-28T11:47:55.764Z"
   },
   {
    "duration": 0,
    "start_time": "2024-02-28T11:47:55.765Z"
   },
   {
    "duration": 0,
    "start_time": "2024-02-28T11:47:55.766Z"
   },
   {
    "duration": 0,
    "start_time": "2024-02-28T11:47:55.767Z"
   },
   {
    "duration": 0,
    "start_time": "2024-02-28T11:47:55.768Z"
   },
   {
    "duration": 0,
    "start_time": "2024-02-28T11:47:55.769Z"
   },
   {
    "duration": 0,
    "start_time": "2024-02-28T11:47:55.770Z"
   },
   {
    "duration": 35,
    "start_time": "2024-02-28T11:48:17.210Z"
   },
   {
    "duration": 12,
    "start_time": "2024-02-28T11:51:19.867Z"
   },
   {
    "duration": 11,
    "start_time": "2024-02-28T11:51:34.701Z"
   },
   {
    "duration": 10,
    "start_time": "2024-02-28T11:52:53.752Z"
   },
   {
    "duration": 12,
    "start_time": "2024-02-28T11:53:19.929Z"
   },
   {
    "duration": 14,
    "start_time": "2024-02-28T11:55:07.984Z"
   },
   {
    "duration": 4,
    "start_time": "2024-02-28T11:59:02.458Z"
   },
   {
    "duration": 28,
    "start_time": "2024-02-28T12:00:11.621Z"
   },
   {
    "duration": 19,
    "start_time": "2024-02-28T12:01:51.690Z"
   },
   {
    "duration": 17,
    "start_time": "2024-02-28T12:01:54.475Z"
   },
   {
    "duration": 15,
    "start_time": "2024-02-28T12:01:55.676Z"
   },
   {
    "duration": 19,
    "start_time": "2024-02-28T12:01:56.724Z"
   },
   {
    "duration": 17,
    "start_time": "2024-02-28T12:01:57.951Z"
   },
   {
    "duration": 139,
    "start_time": "2024-02-28T12:08:25.337Z"
   },
   {
    "duration": 9,
    "start_time": "2024-02-28T12:08:32.874Z"
   },
   {
    "duration": 12,
    "start_time": "2024-02-28T12:10:24.349Z"
   },
   {
    "duration": 10,
    "start_time": "2024-02-28T12:10:59.181Z"
   },
   {
    "duration": 5,
    "start_time": "2024-02-28T12:32:23.462Z"
   },
   {
    "duration": 4,
    "start_time": "2024-02-28T12:32:36.140Z"
   },
   {
    "duration": 81,
    "start_time": "2024-02-28T12:37:51.234Z"
   },
   {
    "duration": 4,
    "start_time": "2024-02-28T12:42:19.031Z"
   },
   {
    "duration": 16,
    "start_time": "2024-02-28T12:42:22.178Z"
   },
   {
    "duration": 4,
    "start_time": "2024-02-28T12:42:58.349Z"
   },
   {
    "duration": 10,
    "start_time": "2024-02-28T12:43:00.780Z"
   },
   {
    "duration": 106,
    "start_time": "2024-02-28T12:54:27.287Z"
   },
   {
    "duration": 5,
    "start_time": "2024-02-28T12:54:55.550Z"
   },
   {
    "duration": 5,
    "start_time": "2024-02-28T12:56:00.628Z"
   },
   {
    "duration": 16,
    "start_time": "2024-02-28T12:56:06.851Z"
   },
   {
    "duration": 8,
    "start_time": "2024-02-28T13:09:15.358Z"
   },
   {
    "duration": 7,
    "start_time": "2024-02-28T13:09:54.875Z"
   },
   {
    "duration": 14,
    "start_time": "2024-02-28T13:10:07.279Z"
   },
   {
    "duration": 10,
    "start_time": "2024-02-28T13:11:07.708Z"
   },
   {
    "duration": 3,
    "start_time": "2024-02-28T13:11:39.472Z"
   },
   {
    "duration": 14,
    "start_time": "2024-02-28T13:12:21.412Z"
   },
   {
    "duration": 55,
    "start_time": "2024-02-28T13:13:02.503Z"
   },
   {
    "duration": 54,
    "start_time": "2024-02-28T13:13:34.805Z"
   },
   {
    "duration": 29,
    "start_time": "2024-02-28T13:13:53.677Z"
   },
   {
    "duration": 156,
    "start_time": "2024-02-28T13:15:13.371Z"
   },
   {
    "duration": 24,
    "start_time": "2024-02-28T13:15:29.855Z"
   },
   {
    "duration": 25,
    "start_time": "2024-02-28T13:17:02.175Z"
   },
   {
    "duration": 25,
    "start_time": "2024-02-28T13:17:57.465Z"
   },
   {
    "duration": 26,
    "start_time": "2024-02-28T13:18:26.729Z"
   },
   {
    "duration": 25,
    "start_time": "2024-02-28T13:18:53.569Z"
   },
   {
    "duration": 19,
    "start_time": "2024-02-28T13:19:32.361Z"
   },
   {
    "duration": 20,
    "start_time": "2024-02-28T13:20:12.206Z"
   },
   {
    "duration": 18,
    "start_time": "2024-02-28T13:21:40.282Z"
   },
   {
    "duration": 24,
    "start_time": "2024-02-28T13:21:54.440Z"
   },
   {
    "duration": 27,
    "start_time": "2024-02-28T13:22:11.993Z"
   },
   {
    "duration": 4,
    "start_time": "2024-02-28T13:29:51.523Z"
   },
   {
    "duration": 18,
    "start_time": "2024-02-28T13:29:54.756Z"
   },
   {
    "duration": 19,
    "start_time": "2024-02-28T13:30:32.133Z"
   },
   {
    "duration": 13,
    "start_time": "2024-02-28T13:31:43.622Z"
   },
   {
    "duration": 19,
    "start_time": "2024-02-28T13:32:12.945Z"
   },
   {
    "duration": 14,
    "start_time": "2024-02-28T13:32:30.576Z"
   },
   {
    "duration": 15,
    "start_time": "2024-02-28T13:35:12.022Z"
   },
   {
    "duration": 10,
    "start_time": "2024-02-28T13:42:41.092Z"
   },
   {
    "duration": 5,
    "start_time": "2024-02-28T13:43:29.194Z"
   },
   {
    "duration": 6,
    "start_time": "2024-02-28T13:44:48.294Z"
   },
   {
    "duration": 5,
    "start_time": "2024-02-28T13:45:13.657Z"
   }
  ],
  "celltoolbar": "Отсутствует",
  "colab": {
   "collapsed_sections": [
    "E0vqbgi9ay0H",
    "VUC88oWjTJw2"
   ],
   "provenance": []
  },
  "kernelspec": {
   "display_name": "Python 3 (ipykernel)",
   "language": "python",
   "name": "python3"
  },
  "language_info": {
   "codemirror_mode": {
    "name": "ipython",
    "version": 3
   },
   "file_extension": ".py",
   "mimetype": "text/x-python",
   "name": "python",
   "nbconvert_exporter": "python",
   "pygments_lexer": "ipython3",
   "version": "3.9.5"
  },
  "toc": {
   "base_numbering": 1,
   "nav_menu": {
    "height": "215px",
    "width": "403px"
   },
   "number_sections": true,
   "sideBar": true,
   "skip_h1_title": true,
   "title_cell": "Table of Contents",
   "title_sidebar": "Contents",
   "toc_cell": false,
   "toc_position": {
    "height": "calc(100% - 180px)",
    "left": "10px",
    "top": "150px",
    "width": "285.825px"
   },
   "toc_section_display": true,
   "toc_window_display": false
  }
 },
 "nbformat": 4,
 "nbformat_minor": 1
}
